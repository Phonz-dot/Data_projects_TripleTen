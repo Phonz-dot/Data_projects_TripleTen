{
 "cells": [
  {
   "cell_type": "markdown",
   "metadata": {},
   "source": [
    "# Which one is a better plan?\n",
    "\n",
    "You work as an analyst for the telecom operator Megaline. The company offers its clients two prepaid plans, Surf and Ultimate. The commercial department wants to know which of the plans brings in more revenue in order to adjust the advertising budget.\n",
    "\n",
    "You are going to carry out a preliminary analysis of the plans based on a relatively small client selection. You'll have the data on 500 Megaline clients: who the clients are, where they're from, which plan they use, and the number of calls they made and text messages they sent in 2018. Your job is to analyze the clients' behavior and determine which prepaid plan brings in more revenue."
   ]
  },
  {
   "cell_type": "markdown",
   "metadata": {},
   "source": [
    "## Initialization"
   ]
  },
  {
   "cell_type": "markdown",
   "metadata": {},
   "source": []
  },
  {
   "cell_type": "code",
   "execution_count": 1,
   "metadata": {},
   "outputs": [],
   "source": [
    "# Loading all the libraries\n",
    "import pandas as pd\n",
    "import numpy as np\n",
    "from scipy import stats as st\n",
    "import matplotlib.pyplot as plt\n"
   ]
  },
  {
   "cell_type": "markdown",
   "metadata": {},
   "source": [
    "## Load data"
   ]
  },
  {
   "cell_type": "markdown",
   "metadata": {},
   "source": []
  },
  {
   "cell_type": "code",
   "execution_count": 2,
   "metadata": {},
   "outputs": [],
   "source": [
    " #Load the data files into different DataFrames\n",
    "calls = pd.read_csv('/datasets/megaline_calls.csv') \n",
    "internet = pd.read_csv('/datasets/megaline_internet.csv') \n",
    "messages = pd.read_csv('/datasets/megaline_messages.csv')\n",
    "plans = pd.read_csv('/datasets/megaline_plans.csv') \n",
    "users = pd.read_csv('/datasets/megaline_users.csv')\n",
    "\n"
   ]
  },
  {
   "cell_type": "markdown",
   "metadata": {},
   "source": [
    "## Prepare the data"
   ]
  },
  {
   "cell_type": "code",
   "execution_count": 3,
   "metadata": {},
   "outputs": [
    {
     "name": "stdout",
     "output_type": "stream",
     "text": [
      "<class 'pandas.core.frame.DataFrame'>\n",
      "RangeIndex: 500 entries, 0 to 499\n",
      "Data columns (total 8 columns):\n",
      " #   Column      Non-Null Count  Dtype \n",
      "---  ------      --------------  ----- \n",
      " 0   user_id     500 non-null    int64 \n",
      " 1   first_name  500 non-null    object\n",
      " 2   last_name   500 non-null    object\n",
      " 3   age         500 non-null    int64 \n",
      " 4   city        500 non-null    object\n",
      " 5   reg_date    500 non-null    object\n",
      " 6   plan        500 non-null    object\n",
      " 7   churn_date  34 non-null     object\n",
      "dtypes: int64(2), object(6)\n",
      "memory usage: 31.4+ KB\n"
     ]
    }
   ],
   "source": [
    "#calls.head()\n",
    "#calls.info()\n",
    "# After initial observations, the call_date field in the calls dataframe needs to be converted over to a datetime data type.\n",
    "# Seems that there are no missing values.\n",
    "#internet.head()\n",
    "#internet.info()\n",
    "# After initial observations, the session_date field in the internet dataframe needs to be converted over to a datetime data type.\n",
    "# Seems that there are no missing values.\n",
    "#messages.head(20)\n",
    "#messages.info()\n",
    "# After initial observations, the message_date field in the messages dataframe needs to be converted over to a datetime data type.\n",
    "# Seems that there are no missing values.\n",
    "# Checked the first 20 rows instead of the default values because it seemed, at first, the values in the user_id column had duplicates. However, that's not the case.\n",
    "#plans.head()\n",
    "#plans.info()\n",
    "# plans dataframe appears as expected. From a glance, everythings seems on track .\n",
    "users. head()\n",
    "users.info()\n",
    "# After initial observations, the reg_date and churn_date field in the users dataframe needs to be converted over to a datetime data type.\n",
    "# Seems that there some missing values in the churn_date field."
   ]
  },
  {
   "cell_type": "markdown",
   "metadata": {},
   "source": [
    "## Plans"
   ]
  },
  {
   "cell_type": "code",
   "execution_count": 4,
   "metadata": {},
   "outputs": [
    {
     "name": "stdout",
     "output_type": "stream",
     "text": [
      "<class 'pandas.core.frame.DataFrame'>\n",
      "RangeIndex: 2 entries, 0 to 1\n",
      "Data columns (total 8 columns):\n",
      " #   Column                 Non-Null Count  Dtype  \n",
      "---  ------                 --------------  -----  \n",
      " 0   messages_included      2 non-null      int64  \n",
      " 1   mb_per_month_included  2 non-null      int64  \n",
      " 2   minutes_included       2 non-null      int64  \n",
      " 3   usd_monthly_pay        2 non-null      int64  \n",
      " 4   usd_per_gb             2 non-null      int64  \n",
      " 5   usd_per_message        2 non-null      float64\n",
      " 6   usd_per_minute         2 non-null      float64\n",
      " 7   plan_name              2 non-null      object \n",
      "dtypes: float64(2), int64(5), object(1)\n",
      "memory usage: 256.0+ bytes\n"
     ]
    },
    {
     "data": {
      "text/html": [
       "<div>\n",
       "<style scoped>\n",
       "    .dataframe tbody tr th:only-of-type {\n",
       "        vertical-align: middle;\n",
       "    }\n",
       "\n",
       "    .dataframe tbody tr th {\n",
       "        vertical-align: top;\n",
       "    }\n",
       "\n",
       "    .dataframe thead th {\n",
       "        text-align: right;\n",
       "    }\n",
       "</style>\n",
       "<table border=\"1\" class=\"dataframe\">\n",
       "  <thead>\n",
       "    <tr style=\"text-align: right;\">\n",
       "      <th></th>\n",
       "      <th>messages_included</th>\n",
       "      <th>mb_per_month_included</th>\n",
       "      <th>minutes_included</th>\n",
       "      <th>usd_monthly_pay</th>\n",
       "      <th>usd_per_gb</th>\n",
       "      <th>usd_per_message</th>\n",
       "      <th>usd_per_minute</th>\n",
       "    </tr>\n",
       "  </thead>\n",
       "  <tbody>\n",
       "    <tr>\n",
       "      <th>count</th>\n",
       "      <td>2.000000</td>\n",
       "      <td>2.000000</td>\n",
       "      <td>2.000000</td>\n",
       "      <td>2.000000</td>\n",
       "      <td>2.00000</td>\n",
       "      <td>2.000000</td>\n",
       "      <td>2.000000</td>\n",
       "    </tr>\n",
       "    <tr>\n",
       "      <th>mean</th>\n",
       "      <td>525.000000</td>\n",
       "      <td>23040.000000</td>\n",
       "      <td>1750.000000</td>\n",
       "      <td>45.000000</td>\n",
       "      <td>8.50000</td>\n",
       "      <td>0.020000</td>\n",
       "      <td>0.020000</td>\n",
       "    </tr>\n",
       "    <tr>\n",
       "      <th>std</th>\n",
       "      <td>671.751442</td>\n",
       "      <td>10861.160159</td>\n",
       "      <td>1767.766953</td>\n",
       "      <td>35.355339</td>\n",
       "      <td>2.12132</td>\n",
       "      <td>0.014142</td>\n",
       "      <td>0.014142</td>\n",
       "    </tr>\n",
       "    <tr>\n",
       "      <th>min</th>\n",
       "      <td>50.000000</td>\n",
       "      <td>15360.000000</td>\n",
       "      <td>500.000000</td>\n",
       "      <td>20.000000</td>\n",
       "      <td>7.00000</td>\n",
       "      <td>0.010000</td>\n",
       "      <td>0.010000</td>\n",
       "    </tr>\n",
       "    <tr>\n",
       "      <th>25%</th>\n",
       "      <td>287.500000</td>\n",
       "      <td>19200.000000</td>\n",
       "      <td>1125.000000</td>\n",
       "      <td>32.500000</td>\n",
       "      <td>7.75000</td>\n",
       "      <td>0.015000</td>\n",
       "      <td>0.015000</td>\n",
       "    </tr>\n",
       "    <tr>\n",
       "      <th>50%</th>\n",
       "      <td>525.000000</td>\n",
       "      <td>23040.000000</td>\n",
       "      <td>1750.000000</td>\n",
       "      <td>45.000000</td>\n",
       "      <td>8.50000</td>\n",
       "      <td>0.020000</td>\n",
       "      <td>0.020000</td>\n",
       "    </tr>\n",
       "    <tr>\n",
       "      <th>75%</th>\n",
       "      <td>762.500000</td>\n",
       "      <td>26880.000000</td>\n",
       "      <td>2375.000000</td>\n",
       "      <td>57.500000</td>\n",
       "      <td>9.25000</td>\n",
       "      <td>0.025000</td>\n",
       "      <td>0.025000</td>\n",
       "    </tr>\n",
       "    <tr>\n",
       "      <th>max</th>\n",
       "      <td>1000.000000</td>\n",
       "      <td>30720.000000</td>\n",
       "      <td>3000.000000</td>\n",
       "      <td>70.000000</td>\n",
       "      <td>10.00000</td>\n",
       "      <td>0.030000</td>\n",
       "      <td>0.030000</td>\n",
       "    </tr>\n",
       "  </tbody>\n",
       "</table>\n",
       "</div>"
      ],
      "text/plain": [
       "       messages_included  mb_per_month_included  minutes_included  \\\n",
       "count           2.000000               2.000000          2.000000   \n",
       "mean          525.000000           23040.000000       1750.000000   \n",
       "std           671.751442           10861.160159       1767.766953   \n",
       "min            50.000000           15360.000000        500.000000   \n",
       "25%           287.500000           19200.000000       1125.000000   \n",
       "50%           525.000000           23040.000000       1750.000000   \n",
       "75%           762.500000           26880.000000       2375.000000   \n",
       "max          1000.000000           30720.000000       3000.000000   \n",
       "\n",
       "       usd_monthly_pay  usd_per_gb  usd_per_message  usd_per_minute  \n",
       "count         2.000000     2.00000         2.000000        2.000000  \n",
       "mean         45.000000     8.50000         0.020000        0.020000  \n",
       "std          35.355339     2.12132         0.014142        0.014142  \n",
       "min          20.000000     7.00000         0.010000        0.010000  \n",
       "25%          32.500000     7.75000         0.015000        0.015000  \n",
       "50%          45.000000     8.50000         0.020000        0.020000  \n",
       "75%          57.500000     9.25000         0.025000        0.025000  \n",
       "max          70.000000    10.00000         0.030000        0.030000  "
      ]
     },
     "execution_count": 4,
     "metadata": {},
     "output_type": "execute_result"
    }
   ],
   "source": [
    "# Print the general/summary information about the plans' DataFrame\n",
    "plans.info()\n",
    "plans.describe()\n"
   ]
  },
  {
   "cell_type": "code",
   "execution_count": 5,
   "metadata": {},
   "outputs": [
    {
     "data": {
      "text/html": [
       "<div>\n",
       "<style scoped>\n",
       "    .dataframe tbody tr th:only-of-type {\n",
       "        vertical-align: middle;\n",
       "    }\n",
       "\n",
       "    .dataframe tbody tr th {\n",
       "        vertical-align: top;\n",
       "    }\n",
       "\n",
       "    .dataframe thead th {\n",
       "        text-align: right;\n",
       "    }\n",
       "</style>\n",
       "<table border=\"1\" class=\"dataframe\">\n",
       "  <thead>\n",
       "    <tr style=\"text-align: right;\">\n",
       "      <th></th>\n",
       "      <th>messages_included</th>\n",
       "      <th>mb_per_month_included</th>\n",
       "      <th>minutes_included</th>\n",
       "      <th>usd_monthly_pay</th>\n",
       "      <th>usd_per_gb</th>\n",
       "      <th>usd_per_message</th>\n",
       "      <th>usd_per_minute</th>\n",
       "      <th>plan_name</th>\n",
       "    </tr>\n",
       "  </thead>\n",
       "  <tbody>\n",
       "    <tr>\n",
       "      <th>1</th>\n",
       "      <td>1000</td>\n",
       "      <td>30720</td>\n",
       "      <td>3000</td>\n",
       "      <td>70</td>\n",
       "      <td>7</td>\n",
       "      <td>0.01</td>\n",
       "      <td>0.01</td>\n",
       "      <td>ultimate</td>\n",
       "    </tr>\n",
       "    <tr>\n",
       "      <th>0</th>\n",
       "      <td>50</td>\n",
       "      <td>15360</td>\n",
       "      <td>500</td>\n",
       "      <td>20</td>\n",
       "      <td>10</td>\n",
       "      <td>0.03</td>\n",
       "      <td>0.03</td>\n",
       "      <td>surf</td>\n",
       "    </tr>\n",
       "  </tbody>\n",
       "</table>\n",
       "</div>"
      ],
      "text/plain": [
       "   messages_included  mb_per_month_included  minutes_included  \\\n",
       "1               1000                  30720              3000   \n",
       "0                 50                  15360               500   \n",
       "\n",
       "   usd_monthly_pay  usd_per_gb  usd_per_message  usd_per_minute plan_name  \n",
       "1               70           7             0.01            0.01  ultimate  \n",
       "0               20          10             0.03            0.03      surf  "
      ]
     },
     "execution_count": 5,
     "metadata": {},
     "output_type": "execute_result"
    }
   ],
   "source": [
    "# Print a sample of data for plans\n",
    "plans.sample(2)\n"
   ]
  },
  {
   "cell_type": "markdown",
   "metadata": {},
   "source": [
    "## Enrich data"
   ]
  },
  {
   "cell_type": "markdown",
   "metadata": {},
   "source": [
    "In the plans dataframe, even though there is really nothing wrong with this dataframe, I think it would be beneficials to convert the mb_per_month_included field to gbs because that's how megaline tracks the data storage within each phone plan."
   ]
  },
  {
   "cell_type": "code",
   "execution_count": 6,
   "metadata": {},
   "outputs": [],
   "source": [
    "plans['mb_per_month_included'] = plans['mb_per_month_included'] / 1024\n",
    "plans['mb_per_month_included'] \n",
    "plans = plans.rename(columns={'mb_per_month_included': 'gb_per_month_included'})  # Rename columns"
   ]
  },
  {
   "cell_type": "markdown",
   "metadata": {},
   "source": [
    "## Users"
   ]
  },
  {
   "cell_type": "code",
   "execution_count": 7,
   "metadata": {},
   "outputs": [
    {
     "name": "stdout",
     "output_type": "stream",
     "text": [
      "<class 'pandas.core.frame.DataFrame'>\n",
      "RangeIndex: 500 entries, 0 to 499\n",
      "Data columns (total 8 columns):\n",
      " #   Column      Non-Null Count  Dtype \n",
      "---  ------      --------------  ----- \n",
      " 0   user_id     500 non-null    int64 \n",
      " 1   first_name  500 non-null    object\n",
      " 2   last_name   500 non-null    object\n",
      " 3   age         500 non-null    int64 \n",
      " 4   city        500 non-null    object\n",
      " 5   reg_date    500 non-null    object\n",
      " 6   plan        500 non-null    object\n",
      " 7   churn_date  34 non-null     object\n",
      "dtypes: int64(2), object(6)\n",
      "memory usage: 31.4+ KB\n"
     ]
    },
    {
     "data": {
      "text/html": [
       "<div>\n",
       "<style scoped>\n",
       "    .dataframe tbody tr th:only-of-type {\n",
       "        vertical-align: middle;\n",
       "    }\n",
       "\n",
       "    .dataframe tbody tr th {\n",
       "        vertical-align: top;\n",
       "    }\n",
       "\n",
       "    .dataframe thead th {\n",
       "        text-align: right;\n",
       "    }\n",
       "</style>\n",
       "<table border=\"1\" class=\"dataframe\">\n",
       "  <thead>\n",
       "    <tr style=\"text-align: right;\">\n",
       "      <th></th>\n",
       "      <th>user_id</th>\n",
       "      <th>age</th>\n",
       "    </tr>\n",
       "  </thead>\n",
       "  <tbody>\n",
       "    <tr>\n",
       "      <th>count</th>\n",
       "      <td>500.000000</td>\n",
       "      <td>500.000000</td>\n",
       "    </tr>\n",
       "    <tr>\n",
       "      <th>mean</th>\n",
       "      <td>1249.500000</td>\n",
       "      <td>45.486000</td>\n",
       "    </tr>\n",
       "    <tr>\n",
       "      <th>std</th>\n",
       "      <td>144.481833</td>\n",
       "      <td>16.972269</td>\n",
       "    </tr>\n",
       "    <tr>\n",
       "      <th>min</th>\n",
       "      <td>1000.000000</td>\n",
       "      <td>18.000000</td>\n",
       "    </tr>\n",
       "    <tr>\n",
       "      <th>25%</th>\n",
       "      <td>1124.750000</td>\n",
       "      <td>30.000000</td>\n",
       "    </tr>\n",
       "    <tr>\n",
       "      <th>50%</th>\n",
       "      <td>1249.500000</td>\n",
       "      <td>46.000000</td>\n",
       "    </tr>\n",
       "    <tr>\n",
       "      <th>75%</th>\n",
       "      <td>1374.250000</td>\n",
       "      <td>61.000000</td>\n",
       "    </tr>\n",
       "    <tr>\n",
       "      <th>max</th>\n",
       "      <td>1499.000000</td>\n",
       "      <td>75.000000</td>\n",
       "    </tr>\n",
       "  </tbody>\n",
       "</table>\n",
       "</div>"
      ],
      "text/plain": [
       "           user_id         age\n",
       "count   500.000000  500.000000\n",
       "mean   1249.500000   45.486000\n",
       "std     144.481833   16.972269\n",
       "min    1000.000000   18.000000\n",
       "25%    1124.750000   30.000000\n",
       "50%    1249.500000   46.000000\n",
       "75%    1374.250000   61.000000\n",
       "max    1499.000000   75.000000"
      ]
     },
     "execution_count": 7,
     "metadata": {},
     "output_type": "execute_result"
    }
   ],
   "source": [
    "# Print the general/summary information about the users' DataFrame\n",
    "users.info()\n",
    "users.describe()\n"
   ]
  },
  {
   "cell_type": "code",
   "execution_count": 8,
   "metadata": {},
   "outputs": [
    {
     "data": {
      "text/html": [
       "<div>\n",
       "<style scoped>\n",
       "    .dataframe tbody tr th:only-of-type {\n",
       "        vertical-align: middle;\n",
       "    }\n",
       "\n",
       "    .dataframe tbody tr th {\n",
       "        vertical-align: top;\n",
       "    }\n",
       "\n",
       "    .dataframe thead th {\n",
       "        text-align: right;\n",
       "    }\n",
       "</style>\n",
       "<table border=\"1\" class=\"dataframe\">\n",
       "  <thead>\n",
       "    <tr style=\"text-align: right;\">\n",
       "      <th></th>\n",
       "      <th>user_id</th>\n",
       "      <th>first_name</th>\n",
       "      <th>last_name</th>\n",
       "      <th>age</th>\n",
       "      <th>city</th>\n",
       "      <th>reg_date</th>\n",
       "      <th>plan</th>\n",
       "      <th>churn_date</th>\n",
       "    </tr>\n",
       "  </thead>\n",
       "  <tbody>\n",
       "    <tr>\n",
       "      <th>85</th>\n",
       "      <td>1085</td>\n",
       "      <td>Ignacio</td>\n",
       "      <td>Bennett</td>\n",
       "      <td>48</td>\n",
       "      <td>Atlanta-Sandy Springs-Roswell, GA MSA</td>\n",
       "      <td>2018-07-19</td>\n",
       "      <td>ultimate</td>\n",
       "      <td>NaN</td>\n",
       "    </tr>\n",
       "    <tr>\n",
       "      <th>137</th>\n",
       "      <td>1137</td>\n",
       "      <td>Allegra</td>\n",
       "      <td>Hopkins</td>\n",
       "      <td>20</td>\n",
       "      <td>Chicago-Naperville-Elgin, IL-IN-WI MSA</td>\n",
       "      <td>2018-10-02</td>\n",
       "      <td>surf</td>\n",
       "      <td>NaN</td>\n",
       "    </tr>\n",
       "    <tr>\n",
       "      <th>213</th>\n",
       "      <td>1213</td>\n",
       "      <td>Carl</td>\n",
       "      <td>Newman</td>\n",
       "      <td>47</td>\n",
       "      <td>San Diego-Chula Vista-Carlsbad, CA MSA</td>\n",
       "      <td>2018-11-25</td>\n",
       "      <td>ultimate</td>\n",
       "      <td>NaN</td>\n",
       "    </tr>\n",
       "    <tr>\n",
       "      <th>140</th>\n",
       "      <td>1140</td>\n",
       "      <td>Randolph</td>\n",
       "      <td>Graves</td>\n",
       "      <td>53</td>\n",
       "      <td>New York-Newark-Jersey City, NY-NJ-PA MSA</td>\n",
       "      <td>2018-03-26</td>\n",
       "      <td>surf</td>\n",
       "      <td>NaN</td>\n",
       "    </tr>\n",
       "    <tr>\n",
       "      <th>87</th>\n",
       "      <td>1087</td>\n",
       "      <td>Lenard</td>\n",
       "      <td>Atkinson</td>\n",
       "      <td>45</td>\n",
       "      <td>Washington-Arlington-Alexandria, DC-VA-MD-WV MSA</td>\n",
       "      <td>2018-11-18</td>\n",
       "      <td>surf</td>\n",
       "      <td>NaN</td>\n",
       "    </tr>\n",
       "    <tr>\n",
       "      <th>24</th>\n",
       "      <td>1024</td>\n",
       "      <td>Yuki</td>\n",
       "      <td>Tyson</td>\n",
       "      <td>74</td>\n",
       "      <td>New York-Newark-Jersey City, NY-NJ-PA MSA</td>\n",
       "      <td>2018-08-21</td>\n",
       "      <td>surf</td>\n",
       "      <td>NaN</td>\n",
       "    </tr>\n",
       "    <tr>\n",
       "      <th>14</th>\n",
       "      <td>1014</td>\n",
       "      <td>Edmundo</td>\n",
       "      <td>Simon</td>\n",
       "      <td>61</td>\n",
       "      <td>New York-Newark-Jersey City, NY-NJ-PA MSA</td>\n",
       "      <td>2018-11-25</td>\n",
       "      <td>surf</td>\n",
       "      <td>NaN</td>\n",
       "    </tr>\n",
       "    <tr>\n",
       "      <th>350</th>\n",
       "      <td>1350</td>\n",
       "      <td>Al</td>\n",
       "      <td>Rasmussen</td>\n",
       "      <td>29</td>\n",
       "      <td>Atlanta-Sandy Springs-Roswell, GA MSA</td>\n",
       "      <td>2018-03-09</td>\n",
       "      <td>surf</td>\n",
       "      <td>NaN</td>\n",
       "    </tr>\n",
       "    <tr>\n",
       "      <th>297</th>\n",
       "      <td>1297</td>\n",
       "      <td>Nicky</td>\n",
       "      <td>Tucker</td>\n",
       "      <td>51</td>\n",
       "      <td>Los Angeles-Long Beach-Anaheim, CA MSA</td>\n",
       "      <td>2018-08-25</td>\n",
       "      <td>surf</td>\n",
       "      <td>NaN</td>\n",
       "    </tr>\n",
       "    <tr>\n",
       "      <th>347</th>\n",
       "      <td>1347</td>\n",
       "      <td>Trey</td>\n",
       "      <td>Lynch</td>\n",
       "      <td>65</td>\n",
       "      <td>Charleston-North Charleston, SC MSA</td>\n",
       "      <td>2018-06-17</td>\n",
       "      <td>ultimate</td>\n",
       "      <td>NaN</td>\n",
       "    </tr>\n",
       "  </tbody>\n",
       "</table>\n",
       "</div>"
      ],
      "text/plain": [
       "     user_id first_name  last_name  age  \\\n",
       "85      1085    Ignacio    Bennett   48   \n",
       "137     1137    Allegra    Hopkins   20   \n",
       "213     1213       Carl     Newman   47   \n",
       "140     1140   Randolph     Graves   53   \n",
       "87      1087     Lenard   Atkinson   45   \n",
       "24      1024       Yuki      Tyson   74   \n",
       "14      1014    Edmundo      Simon   61   \n",
       "350     1350         Al  Rasmussen   29   \n",
       "297     1297      Nicky     Tucker   51   \n",
       "347     1347       Trey      Lynch   65   \n",
       "\n",
       "                                                 city    reg_date      plan  \\\n",
       "85              Atlanta-Sandy Springs-Roswell, GA MSA  2018-07-19  ultimate   \n",
       "137            Chicago-Naperville-Elgin, IL-IN-WI MSA  2018-10-02      surf   \n",
       "213            San Diego-Chula Vista-Carlsbad, CA MSA  2018-11-25  ultimate   \n",
       "140         New York-Newark-Jersey City, NY-NJ-PA MSA  2018-03-26      surf   \n",
       "87   Washington-Arlington-Alexandria, DC-VA-MD-WV MSA  2018-11-18      surf   \n",
       "24          New York-Newark-Jersey City, NY-NJ-PA MSA  2018-08-21      surf   \n",
       "14          New York-Newark-Jersey City, NY-NJ-PA MSA  2018-11-25      surf   \n",
       "350             Atlanta-Sandy Springs-Roswell, GA MSA  2018-03-09      surf   \n",
       "297            Los Angeles-Long Beach-Anaheim, CA MSA  2018-08-25      surf   \n",
       "347               Charleston-North Charleston, SC MSA  2018-06-17  ultimate   \n",
       "\n",
       "    churn_date  \n",
       "85         NaN  \n",
       "137        NaN  \n",
       "213        NaN  \n",
       "140        NaN  \n",
       "87         NaN  \n",
       "24         NaN  \n",
       "14         NaN  \n",
       "350        NaN  \n",
       "297        NaN  \n",
       "347        NaN  "
      ]
     },
     "execution_count": 8,
     "metadata": {},
     "output_type": "execute_result"
    }
   ],
   "source": [
    "# Print a sample of data for users\n",
    "users.sample(10)\n"
   ]
  },
  {
   "cell_type": "markdown",
   "metadata": {},
   "source": [
    "Based from the information that was produced from using the .info(), .describe(), .sample() methods, there seems to be missing data in the churn date field and both the reg_date and churn_date fields need to be converted into datetime data types. For the missing values, I can just convert the missing values over because it was stated that the missing values within the churn_date field indicates a plan still be used . For the datetime conversion, I can use the to_datetime() method. \n"
   ]
  },
  {
   "cell_type": "markdown",
   "metadata": {},
   "source": [
    " "
   ]
  },
  {
   "cell_type": "markdown",
   "metadata": {},
   "source": [
    "### Fix Data"
   ]
  },
  {
   "cell_type": "markdown",
   "metadata": {},
   "source": [
    "#### Handling Missing Values"
   ]
  },
  {
   "cell_type": "code",
   "execution_count": 9,
   "metadata": {},
   "outputs": [
    {
     "name": "stdout",
     "output_type": "stream",
     "text": [
      "<class 'pandas.core.frame.DataFrame'>\n",
      "RangeIndex: 500 entries, 0 to 499\n",
      "Data columns (total 8 columns):\n",
      " #   Column      Non-Null Count  Dtype \n",
      "---  ------      --------------  ----- \n",
      " 0   user_id     500 non-null    int64 \n",
      " 1   first_name  500 non-null    object\n",
      " 2   last_name   500 non-null    object\n",
      " 3   age         500 non-null    int64 \n",
      " 4   city        500 non-null    object\n",
      " 5   reg_date    500 non-null    object\n",
      " 6   plan        500 non-null    object\n",
      " 7   churn_date  500 non-null    object\n",
      "dtypes: int64(2), object(6)\n",
      "memory usage: 31.4+ KB\n"
     ]
    }
   ],
   "source": [
    "# \n",
    "users['churn_date'] = users['churn_date'].fillna(value='0000-01-01')  # Fill missing values\n",
    "users.info()"
   ]
  },
  {
   "cell_type": "markdown",
   "metadata": {},
   "source": [
    "### Enrich Data"
   ]
  },
  {
   "cell_type": "markdown",
   "metadata": {},
   "source": [
    "#### Convert \"reg_date\" and \"churn_date\" fields to datetime data type"
   ]
  },
  {
   "cell_type": "code",
   "execution_count": 10,
   "metadata": {},
   "outputs": [
    {
     "name": "stdout",
     "output_type": "stream",
     "text": [
      "<class 'pandas.core.frame.DataFrame'>\n",
      "RangeIndex: 500 entries, 0 to 499\n",
      "Data columns (total 8 columns):\n",
      " #   Column      Non-Null Count  Dtype         \n",
      "---  ------      --------------  -----         \n",
      " 0   user_id     500 non-null    int64         \n",
      " 1   first_name  500 non-null    object        \n",
      " 2   last_name   500 non-null    object        \n",
      " 3   age         500 non-null    int64         \n",
      " 4   city        500 non-null    object        \n",
      " 5   reg_date    500 non-null    datetime64[ns]\n",
      " 6   plan        500 non-null    object        \n",
      " 7   churn_date  34 non-null     datetime64[ns]\n",
      "dtypes: datetime64[ns](2), int64(2), object(4)\n",
      "memory usage: 31.4+ KB\n"
     ]
    },
    {
     "data": {
      "text/plain": [
       "0"
      ]
     },
     "execution_count": 10,
     "metadata": {},
     "output_type": "execute_result"
    }
   ],
   "source": [
    "users['reg_date'] = pd.to_datetime(users['reg_date'], format='%Y-%m-%d')\n",
    "users['churn_date'] = pd.to_datetime(users['churn_date'], errors='coerce')\n",
    "users.info()\n",
    "users.head()\n",
    "users.duplicated().sum()  # Count of duplicate rows"
   ]
  },
  {
   "cell_type": "markdown",
   "metadata": {},
   "source": [
    "## Calls"
   ]
  },
  {
   "cell_type": "code",
   "execution_count": 11,
   "metadata": {},
   "outputs": [
    {
     "name": "stdout",
     "output_type": "stream",
     "text": [
      "<class 'pandas.core.frame.DataFrame'>\n",
      "RangeIndex: 137735 entries, 0 to 137734\n",
      "Data columns (total 4 columns):\n",
      " #   Column     Non-Null Count   Dtype  \n",
      "---  ------     --------------   -----  \n",
      " 0   id         137735 non-null  object \n",
      " 1   user_id    137735 non-null  int64  \n",
      " 2   call_date  137735 non-null  object \n",
      " 3   duration   137735 non-null  float64\n",
      "dtypes: float64(1), int64(1), object(2)\n",
      "memory usage: 4.2+ MB\n"
     ]
    },
    {
     "data": {
      "text/plain": [
       "0"
      ]
     },
     "execution_count": 11,
     "metadata": {},
     "output_type": "execute_result"
    }
   ],
   "source": [
    "# Print the general/summary information about the calls' DataFrame\n",
    "calls.info()\n",
    "calls.describe()\n",
    "calls.duplicated().sum()  # Count of duplicate rows"
   ]
  },
  {
   "cell_type": "code",
   "execution_count": 12,
   "metadata": {},
   "outputs": [
    {
     "data": {
      "text/html": [
       "<div>\n",
       "<style scoped>\n",
       "    .dataframe tbody tr th:only-of-type {\n",
       "        vertical-align: middle;\n",
       "    }\n",
       "\n",
       "    .dataframe tbody tr th {\n",
       "        vertical-align: top;\n",
       "    }\n",
       "\n",
       "    .dataframe thead th {\n",
       "        text-align: right;\n",
       "    }\n",
       "</style>\n",
       "<table border=\"1\" class=\"dataframe\">\n",
       "  <thead>\n",
       "    <tr style=\"text-align: right;\">\n",
       "      <th></th>\n",
       "      <th>id</th>\n",
       "      <th>user_id</th>\n",
       "      <th>call_date</th>\n",
       "      <th>duration</th>\n",
       "    </tr>\n",
       "  </thead>\n",
       "  <tbody>\n",
       "    <tr>\n",
       "      <th>96959</th>\n",
       "      <td>1346_185</td>\n",
       "      <td>1346</td>\n",
       "      <td>2018-10-29</td>\n",
       "      <td>5.18</td>\n",
       "    </tr>\n",
       "    <tr>\n",
       "      <th>2957</th>\n",
       "      <td>1010_579</td>\n",
       "      <td>1010</td>\n",
       "      <td>2018-10-27</td>\n",
       "      <td>8.66</td>\n",
       "    </tr>\n",
       "    <tr>\n",
       "      <th>80203</th>\n",
       "      <td>1289_18</td>\n",
       "      <td>1289</td>\n",
       "      <td>2018-11-13</td>\n",
       "      <td>0.00</td>\n",
       "    </tr>\n",
       "    <tr>\n",
       "      <th>99332</th>\n",
       "      <td>1356_73</td>\n",
       "      <td>1356</td>\n",
       "      <td>2018-11-05</td>\n",
       "      <td>7.54</td>\n",
       "    </tr>\n",
       "    <tr>\n",
       "      <th>86257</th>\n",
       "      <td>1318_123</td>\n",
       "      <td>1318</td>\n",
       "      <td>2018-10-21</td>\n",
       "      <td>3.02</td>\n",
       "    </tr>\n",
       "    <tr>\n",
       "      <th>98146</th>\n",
       "      <td>1352_526</td>\n",
       "      <td>1352</td>\n",
       "      <td>2018-10-14</td>\n",
       "      <td>1.69</td>\n",
       "    </tr>\n",
       "    <tr>\n",
       "      <th>124015</th>\n",
       "      <td>1438_63</td>\n",
       "      <td>1438</td>\n",
       "      <td>2018-10-21</td>\n",
       "      <td>9.92</td>\n",
       "    </tr>\n",
       "    <tr>\n",
       "      <th>50538</th>\n",
       "      <td>1182_117</td>\n",
       "      <td>1182</td>\n",
       "      <td>2018-10-19</td>\n",
       "      <td>7.61</td>\n",
       "    </tr>\n",
       "    <tr>\n",
       "      <th>32266</th>\n",
       "      <td>1122_104</td>\n",
       "      <td>1122</td>\n",
       "      <td>2018-09-06</td>\n",
       "      <td>12.44</td>\n",
       "    </tr>\n",
       "    <tr>\n",
       "      <th>42178</th>\n",
       "      <td>1155_131</td>\n",
       "      <td>1155</td>\n",
       "      <td>2018-07-09</td>\n",
       "      <td>4.21</td>\n",
       "    </tr>\n",
       "  </tbody>\n",
       "</table>\n",
       "</div>"
      ],
      "text/plain": [
       "              id  user_id   call_date  duration\n",
       "96959   1346_185     1346  2018-10-29      5.18\n",
       "2957    1010_579     1010  2018-10-27      8.66\n",
       "80203    1289_18     1289  2018-11-13      0.00\n",
       "99332    1356_73     1356  2018-11-05      7.54\n",
       "86257   1318_123     1318  2018-10-21      3.02\n",
       "98146   1352_526     1352  2018-10-14      1.69\n",
       "124015   1438_63     1438  2018-10-21      9.92\n",
       "50538   1182_117     1182  2018-10-19      7.61\n",
       "32266   1122_104     1122  2018-09-06     12.44\n",
       "42178   1155_131     1155  2018-07-09      4.21"
      ]
     },
     "execution_count": 12,
     "metadata": {},
     "output_type": "execute_result"
    }
   ],
   "source": [
    "# Print a sample of data for calls\n",
    "calls.sample(10)\n"
   ]
  },
  {
   "cell_type": "markdown",
   "metadata": {},
   "source": [
    "Based from the information that was produced using the .info(), .describe(), .sample() methods, the \"call_date\" field needs to be converted to a datetime data type. Given that the time for each call is rounded up despite it being  a second over, it would be best to reflect that in this dataframe.\n"
   ]
  },
  {
   "cell_type": "markdown",
   "metadata": {},
   "source": [
    " "
   ]
  },
  {
   "cell_type": "markdown",
   "metadata": {},
   "source": [
    "### Fix data"
   ]
  },
  {
   "cell_type": "markdown",
   "metadata": {},
   "source": [
    "#### Convert \"call_date\" field into datetime data type"
   ]
  },
  {
   "cell_type": "code",
   "execution_count": 13,
   "metadata": {},
   "outputs": [
    {
     "name": "stdout",
     "output_type": "stream",
     "text": [
      "<class 'pandas.core.frame.DataFrame'>\n",
      "RangeIndex: 137735 entries, 0 to 137734\n",
      "Data columns (total 4 columns):\n",
      " #   Column     Non-Null Count   Dtype         \n",
      "---  ------     --------------   -----         \n",
      " 0   id         137735 non-null  object        \n",
      " 1   user_id    137735 non-null  int64         \n",
      " 2   call_date  137735 non-null  datetime64[ns]\n",
      " 3   duration   137735 non-null  float64       \n",
      "dtypes: datetime64[ns](1), float64(1), int64(1), object(1)\n",
      "memory usage: 4.2+ MB\n"
     ]
    }
   ],
   "source": [
    "calls['call_date'] = pd.to_datetime(calls['call_date'], format='%Y-%m-%d')\n",
    "calls.info()"
   ]
  },
  {
   "cell_type": "markdown",
   "metadata": {},
   "source": [
    "### Enrich data"
   ]
  },
  {
   "cell_type": "markdown",
   "metadata": {},
   "source": [
    "#### Round \"duration\" field up to the nearest integer"
   ]
  },
  {
   "cell_type": "code",
   "execution_count": 14,
   "metadata": {},
   "outputs": [
    {
     "data": {
      "text/html": [
       "<div>\n",
       "<style scoped>\n",
       "    .dataframe tbody tr th:only-of-type {\n",
       "        vertical-align: middle;\n",
       "    }\n",
       "\n",
       "    .dataframe tbody tr th {\n",
       "        vertical-align: top;\n",
       "    }\n",
       "\n",
       "    .dataframe thead th {\n",
       "        text-align: right;\n",
       "    }\n",
       "</style>\n",
       "<table border=\"1\" class=\"dataframe\">\n",
       "  <thead>\n",
       "    <tr style=\"text-align: right;\">\n",
       "      <th></th>\n",
       "      <th>id</th>\n",
       "      <th>user_id</th>\n",
       "      <th>call_date</th>\n",
       "      <th>duration</th>\n",
       "    </tr>\n",
       "  </thead>\n",
       "  <tbody>\n",
       "    <tr>\n",
       "      <th>95782</th>\n",
       "      <td>1340_132</td>\n",
       "      <td>1340</td>\n",
       "      <td>2018-11-03</td>\n",
       "      <td>4.0</td>\n",
       "    </tr>\n",
       "    <tr>\n",
       "      <th>13506</th>\n",
       "      <td>1057_385</td>\n",
       "      <td>1057</td>\n",
       "      <td>2018-12-09</td>\n",
       "      <td>7.0</td>\n",
       "    </tr>\n",
       "    <tr>\n",
       "      <th>121269</th>\n",
       "      <td>1426_57</td>\n",
       "      <td>1426</td>\n",
       "      <td>2018-12-25</td>\n",
       "      <td>4.0</td>\n",
       "    </tr>\n",
       "    <tr>\n",
       "      <th>119570</th>\n",
       "      <td>1417_70</td>\n",
       "      <td>1417</td>\n",
       "      <td>2018-09-08</td>\n",
       "      <td>0.0</td>\n",
       "    </tr>\n",
       "    <tr>\n",
       "      <th>119019</th>\n",
       "      <td>1415_67</td>\n",
       "      <td>1415</td>\n",
       "      <td>2018-10-23</td>\n",
       "      <td>25.0</td>\n",
       "    </tr>\n",
       "    <tr>\n",
       "      <th>37201</th>\n",
       "      <td>1141_45</td>\n",
       "      <td>1141</td>\n",
       "      <td>2018-10-27</td>\n",
       "      <td>4.0</td>\n",
       "    </tr>\n",
       "    <tr>\n",
       "      <th>101697</th>\n",
       "      <td>1362_450</td>\n",
       "      <td>1362</td>\n",
       "      <td>2018-06-11</td>\n",
       "      <td>13.0</td>\n",
       "    </tr>\n",
       "    <tr>\n",
       "      <th>76674</th>\n",
       "      <td>1273_393</td>\n",
       "      <td>1273</td>\n",
       "      <td>2018-11-25</td>\n",
       "      <td>9.0</td>\n",
       "    </tr>\n",
       "    <tr>\n",
       "      <th>127484</th>\n",
       "      <td>1456_394</td>\n",
       "      <td>1456</td>\n",
       "      <td>2018-07-29</td>\n",
       "      <td>0.0</td>\n",
       "    </tr>\n",
       "    <tr>\n",
       "      <th>5016</th>\n",
       "      <td>1022_282</td>\n",
       "      <td>1022</td>\n",
       "      <td>2018-09-02</td>\n",
       "      <td>9.0</td>\n",
       "    </tr>\n",
       "  </tbody>\n",
       "</table>\n",
       "</div>"
      ],
      "text/plain": [
       "              id  user_id  call_date  duration\n",
       "95782   1340_132     1340 2018-11-03       4.0\n",
       "13506   1057_385     1057 2018-12-09       7.0\n",
       "121269   1426_57     1426 2018-12-25       4.0\n",
       "119570   1417_70     1417 2018-09-08       0.0\n",
       "119019   1415_67     1415 2018-10-23      25.0\n",
       "37201    1141_45     1141 2018-10-27       4.0\n",
       "101697  1362_450     1362 2018-06-11      13.0\n",
       "76674   1273_393     1273 2018-11-25       9.0\n",
       "127484  1456_394     1456 2018-07-29       0.0\n",
       "5016    1022_282     1022 2018-09-02       9.0"
      ]
     },
     "execution_count": 14,
     "metadata": {},
     "output_type": "execute_result"
    }
   ],
   "source": [
    "calls['duration'] = np.ceil(calls['duration'])\n",
    "calls.sample(10)"
   ]
  },
  {
   "cell_type": "markdown",
   "metadata": {},
   "source": [
    "## Messages"
   ]
  },
  {
   "cell_type": "code",
   "execution_count": 15,
   "metadata": {},
   "outputs": [
    {
     "name": "stdout",
     "output_type": "stream",
     "text": [
      "<class 'pandas.core.frame.DataFrame'>\n",
      "RangeIndex: 76051 entries, 0 to 76050\n",
      "Data columns (total 3 columns):\n",
      " #   Column        Non-Null Count  Dtype \n",
      "---  ------        --------------  ----- \n",
      " 0   id            76051 non-null  object\n",
      " 1   user_id       76051 non-null  int64 \n",
      " 2   message_date  76051 non-null  object\n",
      "dtypes: int64(1), object(2)\n",
      "memory usage: 1.7+ MB\n"
     ]
    },
    {
     "data": {
      "text/plain": [
       "0"
      ]
     },
     "execution_count": 15,
     "metadata": {},
     "output_type": "execute_result"
    }
   ],
   "source": [
    "# Print the general/summary information about the messages' DataFrame\n",
    "messages.info()\n",
    "messages.describe()\n",
    "messages.duplicated().sum()"
   ]
  },
  {
   "cell_type": "code",
   "execution_count": 16,
   "metadata": {},
   "outputs": [
    {
     "data": {
      "text/html": [
       "<div>\n",
       "<style scoped>\n",
       "    .dataframe tbody tr th:only-of-type {\n",
       "        vertical-align: middle;\n",
       "    }\n",
       "\n",
       "    .dataframe tbody tr th {\n",
       "        vertical-align: top;\n",
       "    }\n",
       "\n",
       "    .dataframe thead th {\n",
       "        text-align: right;\n",
       "    }\n",
       "</style>\n",
       "<table border=\"1\" class=\"dataframe\">\n",
       "  <thead>\n",
       "    <tr style=\"text-align: right;\">\n",
       "      <th></th>\n",
       "      <th>id</th>\n",
       "      <th>user_id</th>\n",
       "      <th>message_date</th>\n",
       "    </tr>\n",
       "  </thead>\n",
       "  <tbody>\n",
       "    <tr>\n",
       "      <th>24224</th>\n",
       "      <td>1145_79</td>\n",
       "      <td>1145</td>\n",
       "      <td>2018-11-21</td>\n",
       "    </tr>\n",
       "    <tr>\n",
       "      <th>10822</th>\n",
       "      <td>1077_93</td>\n",
       "      <td>1077</td>\n",
       "      <td>2018-12-08</td>\n",
       "    </tr>\n",
       "    <tr>\n",
       "      <th>18765</th>\n",
       "      <td>1121_92</td>\n",
       "      <td>1121</td>\n",
       "      <td>2018-12-09</td>\n",
       "    </tr>\n",
       "    <tr>\n",
       "      <th>26760</th>\n",
       "      <td>1164_10</td>\n",
       "      <td>1164</td>\n",
       "      <td>2018-08-08</td>\n",
       "    </tr>\n",
       "    <tr>\n",
       "      <th>15614</th>\n",
       "      <td>1102_23</td>\n",
       "      <td>1102</td>\n",
       "      <td>2018-12-24</td>\n",
       "    </tr>\n",
       "    <tr>\n",
       "      <th>9542</th>\n",
       "      <td>1069_725</td>\n",
       "      <td>1069</td>\n",
       "      <td>2018-10-28</td>\n",
       "    </tr>\n",
       "    <tr>\n",
       "      <th>10858</th>\n",
       "      <td>1077_129</td>\n",
       "      <td>1077</td>\n",
       "      <td>2018-11-13</td>\n",
       "    </tr>\n",
       "    <tr>\n",
       "      <th>50931</th>\n",
       "      <td>1331_106</td>\n",
       "      <td>1331</td>\n",
       "      <td>2018-09-21</td>\n",
       "    </tr>\n",
       "    <tr>\n",
       "      <th>45716</th>\n",
       "      <td>1312_200</td>\n",
       "      <td>1312</td>\n",
       "      <td>2018-05-12</td>\n",
       "    </tr>\n",
       "    <tr>\n",
       "      <th>3745</th>\n",
       "      <td>1038_98</td>\n",
       "      <td>1038</td>\n",
       "      <td>2018-12-22</td>\n",
       "    </tr>\n",
       "  </tbody>\n",
       "</table>\n",
       "</div>"
      ],
      "text/plain": [
       "             id  user_id message_date\n",
       "24224   1145_79     1145   2018-11-21\n",
       "10822   1077_93     1077   2018-12-08\n",
       "18765   1121_92     1121   2018-12-09\n",
       "26760   1164_10     1164   2018-08-08\n",
       "15614   1102_23     1102   2018-12-24\n",
       "9542   1069_725     1069   2018-10-28\n",
       "10858  1077_129     1077   2018-11-13\n",
       "50931  1331_106     1331   2018-09-21\n",
       "45716  1312_200     1312   2018-05-12\n",
       "3745    1038_98     1038   2018-12-22"
      ]
     },
     "execution_count": 16,
     "metadata": {},
     "output_type": "execute_result"
    }
   ],
   "source": [
    "# Print a sample of data for messages\n",
    "messages.sample(10)\n"
   ]
  },
  {
   "cell_type": "markdown",
   "metadata": {},
   "source": [
    "Based from the information that was produced using the .info(), .describe(), .sample() methods, the \"message_date\" field needs to be converted to a datetime data type. Everything is as expected in this dataframe."
   ]
  },
  {
   "cell_type": "markdown",
   "metadata": {},
   "source": [
    " "
   ]
  },
  {
   "cell_type": "markdown",
   "metadata": {},
   "source": [
    "### Fix data"
   ]
  },
  {
   "cell_type": "markdown",
   "metadata": {},
   "source": [
    "#### Convert \"message_date\" field into datetime data type"
   ]
  },
  {
   "cell_type": "code",
   "execution_count": 17,
   "metadata": {},
   "outputs": [],
   "source": [
    "messages['message_date'] = pd.to_datetime(messages['message_date'], format='%Y-%m-%d')"
   ]
  },
  {
   "cell_type": "markdown",
   "metadata": {},
   "source": [
    "## Internet"
   ]
  },
  {
   "cell_type": "code",
   "execution_count": 18,
   "metadata": {},
   "outputs": [
    {
     "name": "stdout",
     "output_type": "stream",
     "text": [
      "<class 'pandas.core.frame.DataFrame'>\n",
      "RangeIndex: 104825 entries, 0 to 104824\n",
      "Data columns (total 4 columns):\n",
      " #   Column        Non-Null Count   Dtype  \n",
      "---  ------        --------------   -----  \n",
      " 0   id            104825 non-null  object \n",
      " 1   user_id       104825 non-null  int64  \n",
      " 2   session_date  104825 non-null  object \n",
      " 3   mb_used       104825 non-null  float64\n",
      "dtypes: float64(1), int64(1), object(2)\n",
      "memory usage: 3.2+ MB\n"
     ]
    },
    {
     "data": {
      "text/plain": [
       "0"
      ]
     },
     "execution_count": 18,
     "metadata": {},
     "output_type": "execute_result"
    }
   ],
   "source": [
    "# Print the general/summary information about the internet DataFrame\n",
    "internet.info()\n",
    "internet.describe()\n",
    "internet.duplicated().sum()\n"
   ]
  },
  {
   "cell_type": "code",
   "execution_count": 19,
   "metadata": {},
   "outputs": [
    {
     "data": {
      "text/html": [
       "<div>\n",
       "<style scoped>\n",
       "    .dataframe tbody tr th:only-of-type {\n",
       "        vertical-align: middle;\n",
       "    }\n",
       "\n",
       "    .dataframe tbody tr th {\n",
       "        vertical-align: top;\n",
       "    }\n",
       "\n",
       "    .dataframe thead th {\n",
       "        text-align: right;\n",
       "    }\n",
       "</style>\n",
       "<table border=\"1\" class=\"dataframe\">\n",
       "  <thead>\n",
       "    <tr style=\"text-align: right;\">\n",
       "      <th></th>\n",
       "      <th>id</th>\n",
       "      <th>user_id</th>\n",
       "      <th>session_date</th>\n",
       "      <th>mb_used</th>\n",
       "    </tr>\n",
       "  </thead>\n",
       "  <tbody>\n",
       "    <tr>\n",
       "      <th>27513</th>\n",
       "      <td>1127_202</td>\n",
       "      <td>1127</td>\n",
       "      <td>2018-12-03</td>\n",
       "      <td>901.57</td>\n",
       "    </tr>\n",
       "    <tr>\n",
       "      <th>98117</th>\n",
       "      <td>1462_90</td>\n",
       "      <td>1462</td>\n",
       "      <td>2018-11-23</td>\n",
       "      <td>0.00</td>\n",
       "    </tr>\n",
       "    <tr>\n",
       "      <th>65387</th>\n",
       "      <td>1301_77</td>\n",
       "      <td>1301</td>\n",
       "      <td>2018-12-23</td>\n",
       "      <td>296.36</td>\n",
       "    </tr>\n",
       "    <tr>\n",
       "      <th>24905</th>\n",
       "      <td>1114_288</td>\n",
       "      <td>1114</td>\n",
       "      <td>2018-12-01</td>\n",
       "      <td>621.16</td>\n",
       "    </tr>\n",
       "    <tr>\n",
       "      <th>12040</th>\n",
       "      <td>1059_144</td>\n",
       "      <td>1059</td>\n",
       "      <td>2018-12-15</td>\n",
       "      <td>0.00</td>\n",
       "    </tr>\n",
       "    <tr>\n",
       "      <th>66907</th>\n",
       "      <td>1312_130</td>\n",
       "      <td>1312</td>\n",
       "      <td>2018-04-28</td>\n",
       "      <td>147.54</td>\n",
       "    </tr>\n",
       "    <tr>\n",
       "      <th>88829</th>\n",
       "      <td>1409_91</td>\n",
       "      <td>1409</td>\n",
       "      <td>2018-11-18</td>\n",
       "      <td>677.54</td>\n",
       "    </tr>\n",
       "    <tr>\n",
       "      <th>27489</th>\n",
       "      <td>1127_167</td>\n",
       "      <td>1127</td>\n",
       "      <td>2018-08-01</td>\n",
       "      <td>332.32</td>\n",
       "    </tr>\n",
       "    <tr>\n",
       "      <th>95548</th>\n",
       "      <td>1445_196</td>\n",
       "      <td>1445</td>\n",
       "      <td>2018-06-11</td>\n",
       "      <td>174.85</td>\n",
       "    </tr>\n",
       "    <tr>\n",
       "      <th>85228</th>\n",
       "      <td>1397_591</td>\n",
       "      <td>1397</td>\n",
       "      <td>2018-12-06</td>\n",
       "      <td>335.41</td>\n",
       "    </tr>\n",
       "  </tbody>\n",
       "</table>\n",
       "</div>"
      ],
      "text/plain": [
       "             id  user_id session_date  mb_used\n",
       "27513  1127_202     1127   2018-12-03   901.57\n",
       "98117   1462_90     1462   2018-11-23     0.00\n",
       "65387   1301_77     1301   2018-12-23   296.36\n",
       "24905  1114_288     1114   2018-12-01   621.16\n",
       "12040  1059_144     1059   2018-12-15     0.00\n",
       "66907  1312_130     1312   2018-04-28   147.54\n",
       "88829   1409_91     1409   2018-11-18   677.54\n",
       "27489  1127_167     1127   2018-08-01   332.32\n",
       "95548  1445_196     1445   2018-06-11   174.85\n",
       "85228  1397_591     1397   2018-12-06   335.41"
      ]
     },
     "execution_count": 19,
     "metadata": {},
     "output_type": "execute_result"
    }
   ],
   "source": [
    "# Print a sample of data for the internet traffic\n",
    "internet.sample(10)\n"
   ]
  },
  {
   "cell_type": "markdown",
   "metadata": {},
   "source": [
    "Based from the information that was produced using the .info(), .describe(), .sample() methods, the \"session_date\" field needs to be converted to a datetime data type. Everything is as expected in this dataframe. If web sessions were categorized on a monthly basis instead on by individual dates, it would make sense to convert the units from mb to gb sense that's what the company does. However, I think it would be best to leave those units as is until I group the dataframe by month.\n"
   ]
  },
  {
   "cell_type": "markdown",
   "metadata": {},
   "source": [
    " "
   ]
  },
  {
   "cell_type": "markdown",
   "metadata": {},
   "source": [
    "### Fix data"
   ]
  },
  {
   "cell_type": "markdown",
   "metadata": {},
   "source": [
    "#### Convert \"session_date\" field into datetime data type"
   ]
  },
  {
   "cell_type": "code",
   "execution_count": 20,
   "metadata": {},
   "outputs": [
    {
     "name": "stdout",
     "output_type": "stream",
     "text": [
      "<class 'pandas.core.frame.DataFrame'>\n",
      "RangeIndex: 104825 entries, 0 to 104824\n",
      "Data columns (total 4 columns):\n",
      " #   Column        Non-Null Count   Dtype         \n",
      "---  ------        --------------   -----         \n",
      " 0   id            104825 non-null  object        \n",
      " 1   user_id       104825 non-null  int64         \n",
      " 2   session_date  104825 non-null  datetime64[ns]\n",
      " 3   mb_used       104825 non-null  float64       \n",
      "dtypes: datetime64[ns](1), float64(1), int64(1), object(1)\n",
      "memory usage: 3.2+ MB\n"
     ]
    }
   ],
   "source": [
    "internet['session_date'] = pd.to_datetime(internet['session_date'], format='%Y-%m-%d')\n",
    "internet.info()"
   ]
  },
  {
   "cell_type": "markdown",
   "metadata": {},
   "source": [
    "## Study plan conditions"
   ]
  },
  {
   "cell_type": "code",
   "execution_count": 21,
   "metadata": {},
   "outputs": [
    {
     "data": {
      "text/html": [
       "<div>\n",
       "<style scoped>\n",
       "    .dataframe tbody tr th:only-of-type {\n",
       "        vertical-align: middle;\n",
       "    }\n",
       "\n",
       "    .dataframe tbody tr th {\n",
       "        vertical-align: top;\n",
       "    }\n",
       "\n",
       "    .dataframe thead th {\n",
       "        text-align: right;\n",
       "    }\n",
       "</style>\n",
       "<table border=\"1\" class=\"dataframe\">\n",
       "  <thead>\n",
       "    <tr style=\"text-align: right;\">\n",
       "      <th></th>\n",
       "      <th>messages_included</th>\n",
       "      <th>gb_per_month_included</th>\n",
       "      <th>minutes_included</th>\n",
       "      <th>usd_monthly_pay</th>\n",
       "      <th>usd_per_gb</th>\n",
       "      <th>usd_per_message</th>\n",
       "      <th>usd_per_minute</th>\n",
       "      <th>plan_name</th>\n",
       "    </tr>\n",
       "  </thead>\n",
       "  <tbody>\n",
       "    <tr>\n",
       "      <th>0</th>\n",
       "      <td>50</td>\n",
       "      <td>15.0</td>\n",
       "      <td>500</td>\n",
       "      <td>20</td>\n",
       "      <td>10</td>\n",
       "      <td>0.03</td>\n",
       "      <td>0.03</td>\n",
       "      <td>surf</td>\n",
       "    </tr>\n",
       "    <tr>\n",
       "      <th>1</th>\n",
       "      <td>1000</td>\n",
       "      <td>30.0</td>\n",
       "      <td>3000</td>\n",
       "      <td>70</td>\n",
       "      <td>7</td>\n",
       "      <td>0.01</td>\n",
       "      <td>0.01</td>\n",
       "      <td>ultimate</td>\n",
       "    </tr>\n",
       "  </tbody>\n",
       "</table>\n",
       "</div>"
      ],
      "text/plain": [
       "   messages_included  gb_per_month_included  minutes_included  \\\n",
       "0                 50                   15.0               500   \n",
       "1               1000                   30.0              3000   \n",
       "\n",
       "   usd_monthly_pay  usd_per_gb  usd_per_message  usd_per_minute plan_name  \n",
       "0               20          10             0.03            0.03      surf  \n",
       "1               70           7             0.01            0.01  ultimate  "
      ]
     },
     "execution_count": 21,
     "metadata": {},
     "output_type": "execute_result"
    }
   ],
   "source": [
    "# Print out the plan conditions and make sure they are clear for you\n",
    "plans\n"
   ]
  },
  {
   "cell_type": "markdown",
   "metadata": {},
   "source": [
    "## Aggregate data per user"
   ]
  },
  {
   "cell_type": "code",
   "execution_count": 22,
   "metadata": {},
   "outputs": [
    {
     "data": {
      "text/html": [
       "<div>\n",
       "<style scoped>\n",
       "    .dataframe tbody tr th:only-of-type {\n",
       "        vertical-align: middle;\n",
       "    }\n",
       "\n",
       "    .dataframe tbody tr th {\n",
       "        vertical-align: top;\n",
       "    }\n",
       "\n",
       "    .dataframe thead th {\n",
       "        text-align: right;\n",
       "    }\n",
       "</style>\n",
       "<table border=\"1\" class=\"dataframe\">\n",
       "  <thead>\n",
       "    <tr style=\"text-align: right;\">\n",
       "      <th></th>\n",
       "      <th>user_id</th>\n",
       "      <th>call_date</th>\n",
       "      <th>num_calls</th>\n",
       "    </tr>\n",
       "  </thead>\n",
       "  <tbody>\n",
       "    <tr>\n",
       "      <th>0</th>\n",
       "      <td>1000</td>\n",
       "      <td>2018-12</td>\n",
       "      <td>16</td>\n",
       "    </tr>\n",
       "    <tr>\n",
       "      <th>1</th>\n",
       "      <td>1001</td>\n",
       "      <td>2018-08</td>\n",
       "      <td>27</td>\n",
       "    </tr>\n",
       "    <tr>\n",
       "      <th>2</th>\n",
       "      <td>1001</td>\n",
       "      <td>2018-09</td>\n",
       "      <td>49</td>\n",
       "    </tr>\n",
       "    <tr>\n",
       "      <th>3</th>\n",
       "      <td>1001</td>\n",
       "      <td>2018-10</td>\n",
       "      <td>65</td>\n",
       "    </tr>\n",
       "    <tr>\n",
       "      <th>4</th>\n",
       "      <td>1001</td>\n",
       "      <td>2018-11</td>\n",
       "      <td>64</td>\n",
       "    </tr>\n",
       "    <tr>\n",
       "      <th>...</th>\n",
       "      <td>...</td>\n",
       "      <td>...</td>\n",
       "      <td>...</td>\n",
       "    </tr>\n",
       "    <tr>\n",
       "      <th>2253</th>\n",
       "      <td>1498</td>\n",
       "      <td>2018-12</td>\n",
       "      <td>39</td>\n",
       "    </tr>\n",
       "    <tr>\n",
       "      <th>2254</th>\n",
       "      <td>1499</td>\n",
       "      <td>2018-09</td>\n",
       "      <td>41</td>\n",
       "    </tr>\n",
       "    <tr>\n",
       "      <th>2255</th>\n",
       "      <td>1499</td>\n",
       "      <td>2018-10</td>\n",
       "      <td>53</td>\n",
       "    </tr>\n",
       "    <tr>\n",
       "      <th>2256</th>\n",
       "      <td>1499</td>\n",
       "      <td>2018-11</td>\n",
       "      <td>45</td>\n",
       "    </tr>\n",
       "    <tr>\n",
       "      <th>2257</th>\n",
       "      <td>1499</td>\n",
       "      <td>2018-12</td>\n",
       "      <td>65</td>\n",
       "    </tr>\n",
       "  </tbody>\n",
       "</table>\n",
       "<p>2258 rows × 3 columns</p>\n",
       "</div>"
      ],
      "text/plain": [
       "      user_id call_date  num_calls\n",
       "0        1000   2018-12         16\n",
       "1        1001   2018-08         27\n",
       "2        1001   2018-09         49\n",
       "3        1001   2018-10         65\n",
       "4        1001   2018-11         64\n",
       "...       ...       ...        ...\n",
       "2253     1498   2018-12         39\n",
       "2254     1499   2018-09         41\n",
       "2255     1499   2018-10         53\n",
       "2256     1499   2018-11         45\n",
       "2257     1499   2018-12         65\n",
       "\n",
       "[2258 rows x 3 columns]"
      ]
     },
     "execution_count": 22,
     "metadata": {},
     "output_type": "execute_result"
    }
   ],
   "source": [
    "# Calculate the number of calls made by each user per month. Save the result.\n",
    "# Group by 'user_id' and 'call_date', then count the number of calls\n",
    "calls_per_user_per_month = calls.groupby(['user_id', calls['call_date'].dt.to_period('M')]).size()\n",
    "\n",
    "# Reset index if you want it back as a DataFrame\n",
    "calls_per_user_per_month = calls_per_user_per_month.reset_index(name='num_calls')\n",
    "calls_per_user_per_month"
   ]
  },
  {
   "cell_type": "code",
   "execution_count": 23,
   "metadata": {},
   "outputs": [
    {
     "data": {
      "text/html": [
       "<div>\n",
       "<style scoped>\n",
       "    .dataframe tbody tr th:only-of-type {\n",
       "        vertical-align: middle;\n",
       "    }\n",
       "\n",
       "    .dataframe tbody tr th {\n",
       "        vertical-align: top;\n",
       "    }\n",
       "\n",
       "    .dataframe thead th {\n",
       "        text-align: right;\n",
       "    }\n",
       "</style>\n",
       "<table border=\"1\" class=\"dataframe\">\n",
       "  <thead>\n",
       "    <tr style=\"text-align: right;\">\n",
       "      <th></th>\n",
       "      <th>user_id</th>\n",
       "      <th>call_date</th>\n",
       "      <th>sum_min</th>\n",
       "    </tr>\n",
       "  </thead>\n",
       "  <tbody>\n",
       "    <tr>\n",
       "      <th>0</th>\n",
       "      <td>1000</td>\n",
       "      <td>2018-12</td>\n",
       "      <td>124.0</td>\n",
       "    </tr>\n",
       "    <tr>\n",
       "      <th>1</th>\n",
       "      <td>1001</td>\n",
       "      <td>2018-08</td>\n",
       "      <td>182.0</td>\n",
       "    </tr>\n",
       "    <tr>\n",
       "      <th>2</th>\n",
       "      <td>1001</td>\n",
       "      <td>2018-09</td>\n",
       "      <td>315.0</td>\n",
       "    </tr>\n",
       "    <tr>\n",
       "      <th>3</th>\n",
       "      <td>1001</td>\n",
       "      <td>2018-10</td>\n",
       "      <td>393.0</td>\n",
       "    </tr>\n",
       "    <tr>\n",
       "      <th>4</th>\n",
       "      <td>1001</td>\n",
       "      <td>2018-11</td>\n",
       "      <td>426.0</td>\n",
       "    </tr>\n",
       "    <tr>\n",
       "      <th>...</th>\n",
       "      <td>...</td>\n",
       "      <td>...</td>\n",
       "      <td>...</td>\n",
       "    </tr>\n",
       "    <tr>\n",
       "      <th>2253</th>\n",
       "      <td>1498</td>\n",
       "      <td>2018-12</td>\n",
       "      <td>339.0</td>\n",
       "    </tr>\n",
       "    <tr>\n",
       "      <th>2254</th>\n",
       "      <td>1499</td>\n",
       "      <td>2018-09</td>\n",
       "      <td>346.0</td>\n",
       "    </tr>\n",
       "    <tr>\n",
       "      <th>2255</th>\n",
       "      <td>1499</td>\n",
       "      <td>2018-10</td>\n",
       "      <td>385.0</td>\n",
       "    </tr>\n",
       "    <tr>\n",
       "      <th>2256</th>\n",
       "      <td>1499</td>\n",
       "      <td>2018-11</td>\n",
       "      <td>308.0</td>\n",
       "    </tr>\n",
       "    <tr>\n",
       "      <th>2257</th>\n",
       "      <td>1499</td>\n",
       "      <td>2018-12</td>\n",
       "      <td>496.0</td>\n",
       "    </tr>\n",
       "  </tbody>\n",
       "</table>\n",
       "<p>2258 rows × 3 columns</p>\n",
       "</div>"
      ],
      "text/plain": [
       "      user_id call_date  sum_min\n",
       "0        1000   2018-12    124.0\n",
       "1        1001   2018-08    182.0\n",
       "2        1001   2018-09    315.0\n",
       "3        1001   2018-10    393.0\n",
       "4        1001   2018-11    426.0\n",
       "...       ...       ...      ...\n",
       "2253     1498   2018-12    339.0\n",
       "2254     1499   2018-09    346.0\n",
       "2255     1499   2018-10    385.0\n",
       "2256     1499   2018-11    308.0\n",
       "2257     1499   2018-12    496.0\n",
       "\n",
       "[2258 rows x 3 columns]"
      ]
     },
     "execution_count": 23,
     "metadata": {},
     "output_type": "execute_result"
    }
   ],
   "source": [
    "# Calculate the amount of minutes spent by each user per month. Save the result.\n",
    "# Group by 'user_id' and 'duration', then count the number of calls\n",
    "mins_per_user_per_month = calls.groupby(['user_id', calls['call_date'].dt.to_period('M')])['duration'].sum()\n",
    "\n",
    "# Reset index if you want it back as a DataFrame\n",
    "mins_per_user_per_month = mins_per_user_per_month.reset_index(name='sum_min')\n",
    "mins_per_user_per_month\n",
    "\n"
   ]
  },
  {
   "cell_type": "code",
   "execution_count": 24,
   "metadata": {},
   "outputs": [
    {
     "data": {
      "text/html": [
       "<div>\n",
       "<style scoped>\n",
       "    .dataframe tbody tr th:only-of-type {\n",
       "        vertical-align: middle;\n",
       "    }\n",
       "\n",
       "    .dataframe tbody tr th {\n",
       "        vertical-align: top;\n",
       "    }\n",
       "\n",
       "    .dataframe thead th {\n",
       "        text-align: right;\n",
       "    }\n",
       "</style>\n",
       "<table border=\"1\" class=\"dataframe\">\n",
       "  <thead>\n",
       "    <tr style=\"text-align: right;\">\n",
       "      <th></th>\n",
       "      <th>user_id</th>\n",
       "      <th>message_date</th>\n",
       "      <th>num_mess</th>\n",
       "    </tr>\n",
       "  </thead>\n",
       "  <tbody>\n",
       "    <tr>\n",
       "      <th>0</th>\n",
       "      <td>1000</td>\n",
       "      <td>2018-12</td>\n",
       "      <td>11</td>\n",
       "    </tr>\n",
       "    <tr>\n",
       "      <th>1</th>\n",
       "      <td>1001</td>\n",
       "      <td>2018-08</td>\n",
       "      <td>30</td>\n",
       "    </tr>\n",
       "    <tr>\n",
       "      <th>2</th>\n",
       "      <td>1001</td>\n",
       "      <td>2018-09</td>\n",
       "      <td>44</td>\n",
       "    </tr>\n",
       "    <tr>\n",
       "      <th>3</th>\n",
       "      <td>1001</td>\n",
       "      <td>2018-10</td>\n",
       "      <td>53</td>\n",
       "    </tr>\n",
       "    <tr>\n",
       "      <th>4</th>\n",
       "      <td>1001</td>\n",
       "      <td>2018-11</td>\n",
       "      <td>36</td>\n",
       "    </tr>\n",
       "    <tr>\n",
       "      <th>...</th>\n",
       "      <td>...</td>\n",
       "      <td>...</td>\n",
       "      <td>...</td>\n",
       "    </tr>\n",
       "    <tr>\n",
       "      <th>1801</th>\n",
       "      <td>1496</td>\n",
       "      <td>2018-09</td>\n",
       "      <td>21</td>\n",
       "    </tr>\n",
       "    <tr>\n",
       "      <th>1802</th>\n",
       "      <td>1496</td>\n",
       "      <td>2018-10</td>\n",
       "      <td>18</td>\n",
       "    </tr>\n",
       "    <tr>\n",
       "      <th>1803</th>\n",
       "      <td>1496</td>\n",
       "      <td>2018-11</td>\n",
       "      <td>13</td>\n",
       "    </tr>\n",
       "    <tr>\n",
       "      <th>1804</th>\n",
       "      <td>1496</td>\n",
       "      <td>2018-12</td>\n",
       "      <td>11</td>\n",
       "    </tr>\n",
       "    <tr>\n",
       "      <th>1805</th>\n",
       "      <td>1497</td>\n",
       "      <td>2018-12</td>\n",
       "      <td>50</td>\n",
       "    </tr>\n",
       "  </tbody>\n",
       "</table>\n",
       "<p>1806 rows × 3 columns</p>\n",
       "</div>"
      ],
      "text/plain": [
       "      user_id message_date  num_mess\n",
       "0        1000      2018-12        11\n",
       "1        1001      2018-08        30\n",
       "2        1001      2018-09        44\n",
       "3        1001      2018-10        53\n",
       "4        1001      2018-11        36\n",
       "...       ...          ...       ...\n",
       "1801     1496      2018-09        21\n",
       "1802     1496      2018-10        18\n",
       "1803     1496      2018-11        13\n",
       "1804     1496      2018-12        11\n",
       "1805     1497      2018-12        50\n",
       "\n",
       "[1806 rows x 3 columns]"
      ]
     },
     "execution_count": 24,
     "metadata": {},
     "output_type": "execute_result"
    }
   ],
   "source": [
    "# Calculate the number of messages sent by each user per month. Save the result.\n",
    "# Calculate the number of messages sent by each user per month\n",
    "sms_per_user_per_month = messages.groupby(['user_id', messages['message_date'].dt.to_period('M')]).size()\n",
    "\n",
    "# Reset index and rename the column\n",
    "sms_per_user_per_month = sms_per_user_per_month.reset_index(name='num_mess')\n",
    "\n",
    "sms_per_user_per_month"
   ]
  },
  {
   "cell_type": "code",
   "execution_count": 25,
   "metadata": {},
   "outputs": [
    {
     "data": {
      "text/html": [
       "<div>\n",
       "<style scoped>\n",
       "    .dataframe tbody tr th:only-of-type {\n",
       "        vertical-align: middle;\n",
       "    }\n",
       "\n",
       "    .dataframe tbody tr th {\n",
       "        vertical-align: top;\n",
       "    }\n",
       "\n",
       "    .dataframe thead th {\n",
       "        text-align: right;\n",
       "    }\n",
       "</style>\n",
       "<table border=\"1\" class=\"dataframe\">\n",
       "  <thead>\n",
       "    <tr style=\"text-align: right;\">\n",
       "      <th></th>\n",
       "      <th>user_id</th>\n",
       "      <th>session_date</th>\n",
       "      <th>total_gb_used</th>\n",
       "    </tr>\n",
       "  </thead>\n",
       "  <tbody>\n",
       "    <tr>\n",
       "      <th>0</th>\n",
       "      <td>1000</td>\n",
       "      <td>2018-12</td>\n",
       "      <td>2.0</td>\n",
       "    </tr>\n",
       "    <tr>\n",
       "      <th>1</th>\n",
       "      <td>1001</td>\n",
       "      <td>2018-08</td>\n",
       "      <td>7.0</td>\n",
       "    </tr>\n",
       "    <tr>\n",
       "      <th>2</th>\n",
       "      <td>1001</td>\n",
       "      <td>2018-09</td>\n",
       "      <td>14.0</td>\n",
       "    </tr>\n",
       "    <tr>\n",
       "      <th>3</th>\n",
       "      <td>1001</td>\n",
       "      <td>2018-10</td>\n",
       "      <td>22.0</td>\n",
       "    </tr>\n",
       "    <tr>\n",
       "      <th>4</th>\n",
       "      <td>1001</td>\n",
       "      <td>2018-11</td>\n",
       "      <td>19.0</td>\n",
       "    </tr>\n",
       "    <tr>\n",
       "      <th>...</th>\n",
       "      <td>...</td>\n",
       "      <td>...</td>\n",
       "      <td>...</td>\n",
       "    </tr>\n",
       "    <tr>\n",
       "      <th>2272</th>\n",
       "      <td>1498</td>\n",
       "      <td>2018-12</td>\n",
       "      <td>23.0</td>\n",
       "    </tr>\n",
       "    <tr>\n",
       "      <th>2273</th>\n",
       "      <td>1499</td>\n",
       "      <td>2018-09</td>\n",
       "      <td>13.0</td>\n",
       "    </tr>\n",
       "    <tr>\n",
       "      <th>2274</th>\n",
       "      <td>1499</td>\n",
       "      <td>2018-10</td>\n",
       "      <td>20.0</td>\n",
       "    </tr>\n",
       "    <tr>\n",
       "      <th>2275</th>\n",
       "      <td>1499</td>\n",
       "      <td>2018-11</td>\n",
       "      <td>17.0</td>\n",
       "    </tr>\n",
       "    <tr>\n",
       "      <th>2276</th>\n",
       "      <td>1499</td>\n",
       "      <td>2018-12</td>\n",
       "      <td>22.0</td>\n",
       "    </tr>\n",
       "  </tbody>\n",
       "</table>\n",
       "<p>2277 rows × 3 columns</p>\n",
       "</div>"
      ],
      "text/plain": [
       "      user_id session_date  total_gb_used\n",
       "0        1000      2018-12            2.0\n",
       "1        1001      2018-08            7.0\n",
       "2        1001      2018-09           14.0\n",
       "3        1001      2018-10           22.0\n",
       "4        1001      2018-11           19.0\n",
       "...       ...          ...            ...\n",
       "2272     1498      2018-12           23.0\n",
       "2273     1499      2018-09           13.0\n",
       "2274     1499      2018-10           20.0\n",
       "2275     1499      2018-11           17.0\n",
       "2276     1499      2018-12           22.0\n",
       "\n",
       "[2277 rows x 3 columns]"
      ]
     },
     "execution_count": 25,
     "metadata": {},
     "output_type": "execute_result"
    }
   ],
   "source": [
    "# Calculate the volume of internet traffic used by each user per month. Save the result\n",
    "\n",
    "# Group by 'user_id' and month extracted from 'session_date'\n",
    "vol_per_user_per_month = internet.groupby(['user_id', internet['session_date'].dt.to_period('M')])['mb_used'].sum()\n",
    "\n",
    "# Reset index to get it back as a DataFrame\n",
    "vol_per_user_per_month = vol_per_user_per_month.reset_index(name='total_mb_used')\n",
    "\n",
    "# Since the dataframe is grouped by month, it would be smart to convert from mb to gb now\n",
    "vol_per_user_per_month['total_mb_used'] = vol_per_user_per_month['total_mb_used'] / 1024\n",
    "\n",
    "vol_per_user_per_month = vol_per_user_per_month.rename(columns={'total_mb_used': 'total_gb_used'})  # Rename columns\n",
    "\n",
    "vol_per_user_per_month['total_gb_used'] = np.ceil(vol_per_user_per_month['total_gb_used']) #Round gbs up\n",
    "\n",
    "vol_per_user_per_month\n"
   ]
  },
  {
   "cell_type": "code",
   "execution_count": 26,
   "metadata": {},
   "outputs": [
    {
     "data": {
      "text/html": [
       "<div>\n",
       "<style scoped>\n",
       "    .dataframe tbody tr th:only-of-type {\n",
       "        vertical-align: middle;\n",
       "    }\n",
       "\n",
       "    .dataframe tbody tr th {\n",
       "        vertical-align: top;\n",
       "    }\n",
       "\n",
       "    .dataframe thead th {\n",
       "        text-align: right;\n",
       "    }\n",
       "</style>\n",
       "<table border=\"1\" class=\"dataframe\">\n",
       "  <thead>\n",
       "    <tr style=\"text-align: right;\">\n",
       "      <th></th>\n",
       "      <th>user_id</th>\n",
       "      <th>call_date</th>\n",
       "      <th>num_calls</th>\n",
       "      <th>sum_min</th>\n",
       "      <th>message_date</th>\n",
       "      <th>num_mess</th>\n",
       "      <th>session_date</th>\n",
       "      <th>total_gb_used</th>\n",
       "    </tr>\n",
       "  </thead>\n",
       "  <tbody>\n",
       "    <tr>\n",
       "      <th>0</th>\n",
       "      <td>1000</td>\n",
       "      <td>2018-12</td>\n",
       "      <td>16</td>\n",
       "      <td>124.0</td>\n",
       "      <td>2018-12</td>\n",
       "      <td>11.0</td>\n",
       "      <td>2018-12</td>\n",
       "      <td>2.0</td>\n",
       "    </tr>\n",
       "    <tr>\n",
       "      <th>1</th>\n",
       "      <td>1001</td>\n",
       "      <td>2018-08</td>\n",
       "      <td>27</td>\n",
       "      <td>182.0</td>\n",
       "      <td>2018-08</td>\n",
       "      <td>30.0</td>\n",
       "      <td>2018-08</td>\n",
       "      <td>7.0</td>\n",
       "    </tr>\n",
       "    <tr>\n",
       "      <th>2</th>\n",
       "      <td>1001</td>\n",
       "      <td>2018-09</td>\n",
       "      <td>49</td>\n",
       "      <td>315.0</td>\n",
       "      <td>2018-09</td>\n",
       "      <td>44.0</td>\n",
       "      <td>2018-09</td>\n",
       "      <td>14.0</td>\n",
       "    </tr>\n",
       "    <tr>\n",
       "      <th>3</th>\n",
       "      <td>1001</td>\n",
       "      <td>2018-10</td>\n",
       "      <td>65</td>\n",
       "      <td>393.0</td>\n",
       "      <td>2018-10</td>\n",
       "      <td>53.0</td>\n",
       "      <td>2018-10</td>\n",
       "      <td>22.0</td>\n",
       "    </tr>\n",
       "    <tr>\n",
       "      <th>4</th>\n",
       "      <td>1001</td>\n",
       "      <td>2018-11</td>\n",
       "      <td>64</td>\n",
       "      <td>426.0</td>\n",
       "      <td>2018-11</td>\n",
       "      <td>36.0</td>\n",
       "      <td>2018-11</td>\n",
       "      <td>19.0</td>\n",
       "    </tr>\n",
       "    <tr>\n",
       "      <th>...</th>\n",
       "      <td>...</td>\n",
       "      <td>...</td>\n",
       "      <td>...</td>\n",
       "      <td>...</td>\n",
       "      <td>...</td>\n",
       "      <td>...</td>\n",
       "      <td>...</td>\n",
       "      <td>...</td>\n",
       "    </tr>\n",
       "    <tr>\n",
       "      <th>2253</th>\n",
       "      <td>1498</td>\n",
       "      <td>2018-12</td>\n",
       "      <td>39</td>\n",
       "      <td>339.0</td>\n",
       "      <td>NaT</td>\n",
       "      <td>NaN</td>\n",
       "      <td>2018-12</td>\n",
       "      <td>23.0</td>\n",
       "    </tr>\n",
       "    <tr>\n",
       "      <th>2254</th>\n",
       "      <td>1499</td>\n",
       "      <td>2018-09</td>\n",
       "      <td>41</td>\n",
       "      <td>346.0</td>\n",
       "      <td>NaT</td>\n",
       "      <td>NaN</td>\n",
       "      <td>2018-09</td>\n",
       "      <td>13.0</td>\n",
       "    </tr>\n",
       "    <tr>\n",
       "      <th>2255</th>\n",
       "      <td>1499</td>\n",
       "      <td>2018-10</td>\n",
       "      <td>53</td>\n",
       "      <td>385.0</td>\n",
       "      <td>NaT</td>\n",
       "      <td>NaN</td>\n",
       "      <td>2018-10</td>\n",
       "      <td>20.0</td>\n",
       "    </tr>\n",
       "    <tr>\n",
       "      <th>2256</th>\n",
       "      <td>1499</td>\n",
       "      <td>2018-11</td>\n",
       "      <td>45</td>\n",
       "      <td>308.0</td>\n",
       "      <td>NaT</td>\n",
       "      <td>NaN</td>\n",
       "      <td>2018-11</td>\n",
       "      <td>17.0</td>\n",
       "    </tr>\n",
       "    <tr>\n",
       "      <th>2257</th>\n",
       "      <td>1499</td>\n",
       "      <td>2018-12</td>\n",
       "      <td>65</td>\n",
       "      <td>496.0</td>\n",
       "      <td>NaT</td>\n",
       "      <td>NaN</td>\n",
       "      <td>2018-12</td>\n",
       "      <td>22.0</td>\n",
       "    </tr>\n",
       "  </tbody>\n",
       "</table>\n",
       "<p>2258 rows × 8 columns</p>\n",
       "</div>"
      ],
      "text/plain": [
       "      user_id call_date  num_calls  sum_min message_date  num_mess  \\\n",
       "0        1000   2018-12         16    124.0      2018-12      11.0   \n",
       "1        1001   2018-08         27    182.0      2018-08      30.0   \n",
       "2        1001   2018-09         49    315.0      2018-09      44.0   \n",
       "3        1001   2018-10         65    393.0      2018-10      53.0   \n",
       "4        1001   2018-11         64    426.0      2018-11      36.0   \n",
       "...       ...       ...        ...      ...          ...       ...   \n",
       "2253     1498   2018-12         39    339.0          NaT       NaN   \n",
       "2254     1499   2018-09         41    346.0          NaT       NaN   \n",
       "2255     1499   2018-10         53    385.0          NaT       NaN   \n",
       "2256     1499   2018-11         45    308.0          NaT       NaN   \n",
       "2257     1499   2018-12         65    496.0          NaT       NaN   \n",
       "\n",
       "     session_date  total_gb_used  \n",
       "0         2018-12            2.0  \n",
       "1         2018-08            7.0  \n",
       "2         2018-09           14.0  \n",
       "3         2018-10           22.0  \n",
       "4         2018-11           19.0  \n",
       "...           ...            ...  \n",
       "2253      2018-12           23.0  \n",
       "2254      2018-09           13.0  \n",
       "2255      2018-10           20.0  \n",
       "2256      2018-11           17.0  \n",
       "2257      2018-12           22.0  \n",
       "\n",
       "[2258 rows x 8 columns]"
      ]
     },
     "execution_count": 26,
     "metadata": {},
     "output_type": "execute_result"
    }
   ],
   "source": [
    "# Merge the data for calls, minutes, messages, internet based on user_id and month\n",
    "mass_phone_info = calls_per_user_per_month.merge(mins_per_user_per_month, on=['user_id', 'call_date'])\n",
    "mass_phone_info = mass_phone_info.merge(sms_per_user_per_month, left_on=['user_id', 'call_date'], right_on=['user_id', 'message_date'], how='left')\n",
    "mass_phone_info = mass_phone_info.merge(vol_per_user_per_month, left_on=['user_id', 'call_date'], right_on=['user_id', 'session_date'], how='left')\n",
    "mass_phone_info"
   ]
  },
  {
   "cell_type": "code",
   "execution_count": 27,
   "metadata": {},
   "outputs": [
    {
     "data": {
      "text/html": [
       "<div>\n",
       "<style scoped>\n",
       "    .dataframe tbody tr th:only-of-type {\n",
       "        vertical-align: middle;\n",
       "    }\n",
       "\n",
       "    .dataframe tbody tr th {\n",
       "        vertical-align: top;\n",
       "    }\n",
       "\n",
       "    .dataframe thead th {\n",
       "        text-align: right;\n",
       "    }\n",
       "</style>\n",
       "<table border=\"1\" class=\"dataframe\">\n",
       "  <thead>\n",
       "    <tr style=\"text-align: right;\">\n",
       "      <th></th>\n",
       "      <th>user_id</th>\n",
       "      <th>call_date</th>\n",
       "      <th>num_calls</th>\n",
       "      <th>sum_min</th>\n",
       "      <th>message_date</th>\n",
       "      <th>num_mess</th>\n",
       "      <th>session_date</th>\n",
       "      <th>total_gb_used</th>\n",
       "      <th>first_name</th>\n",
       "      <th>last_name</th>\n",
       "      <th>...</th>\n",
       "      <th>reg_date</th>\n",
       "      <th>plan</th>\n",
       "      <th>churn_date</th>\n",
       "      <th>messages_included</th>\n",
       "      <th>gb_per_month_included</th>\n",
       "      <th>minutes_included</th>\n",
       "      <th>usd_monthly_pay</th>\n",
       "      <th>usd_per_gb</th>\n",
       "      <th>usd_per_message</th>\n",
       "      <th>usd_per_minute</th>\n",
       "    </tr>\n",
       "  </thead>\n",
       "  <tbody>\n",
       "    <tr>\n",
       "      <th>1709</th>\n",
       "      <td>1374</td>\n",
       "      <td>2018-10</td>\n",
       "      <td>36</td>\n",
       "      <td>255.0</td>\n",
       "      <td>2018-10</td>\n",
       "      <td>80.0</td>\n",
       "      <td>2018-10</td>\n",
       "      <td>30.0</td>\n",
       "      <td>Ching</td>\n",
       "      <td>Watts</td>\n",
       "      <td>...</td>\n",
       "      <td>2018-02</td>\n",
       "      <td>surf</td>\n",
       "      <td>NaN</td>\n",
       "      <td>50</td>\n",
       "      <td>15.0</td>\n",
       "      <td>500</td>\n",
       "      <td>20</td>\n",
       "      <td>10</td>\n",
       "      <td>0.03</td>\n",
       "      <td>0.03</td>\n",
       "    </tr>\n",
       "    <tr>\n",
       "      <th>883</th>\n",
       "      <td>1188</td>\n",
       "      <td>2018-09</td>\n",
       "      <td>24</td>\n",
       "      <td>169.0</td>\n",
       "      <td>2018-09</td>\n",
       "      <td>32.0</td>\n",
       "      <td>2018-09</td>\n",
       "      <td>9.0</td>\n",
       "      <td>Ethelene</td>\n",
       "      <td>Brock</td>\n",
       "      <td>...</td>\n",
       "      <td>2018-01</td>\n",
       "      <td>ultimate</td>\n",
       "      <td>NaN</td>\n",
       "      <td>1000</td>\n",
       "      <td>30.0</td>\n",
       "      <td>3000</td>\n",
       "      <td>70</td>\n",
       "      <td>7</td>\n",
       "      <td>0.01</td>\n",
       "      <td>0.01</td>\n",
       "    </tr>\n",
       "    <tr>\n",
       "      <th>2123</th>\n",
       "      <td>1468</td>\n",
       "      <td>2018-09</td>\n",
       "      <td>49</td>\n",
       "      <td>418.0</td>\n",
       "      <td>2018-09</td>\n",
       "      <td>26.0</td>\n",
       "      <td>2018-09</td>\n",
       "      <td>11.0</td>\n",
       "      <td>Johana</td>\n",
       "      <td>Kim</td>\n",
       "      <td>...</td>\n",
       "      <td>2018-09</td>\n",
       "      <td>surf</td>\n",
       "      <td>NaN</td>\n",
       "      <td>50</td>\n",
       "      <td>15.0</td>\n",
       "      <td>500</td>\n",
       "      <td>20</td>\n",
       "      <td>10</td>\n",
       "      <td>0.03</td>\n",
       "      <td>0.03</td>\n",
       "    </tr>\n",
       "    <tr>\n",
       "      <th>2208</th>\n",
       "      <td>1490</td>\n",
       "      <td>2018-12</td>\n",
       "      <td>50</td>\n",
       "      <td>368.0</td>\n",
       "      <td>NaT</td>\n",
       "      <td>NaN</td>\n",
       "      <td>2018-12</td>\n",
       "      <td>46.0</td>\n",
       "      <td>Shane</td>\n",
       "      <td>Cortez</td>\n",
       "      <td>...</td>\n",
       "      <td>2018-01</td>\n",
       "      <td>ultimate</td>\n",
       "      <td>NaN</td>\n",
       "      <td>1000</td>\n",
       "      <td>30.0</td>\n",
       "      <td>3000</td>\n",
       "      <td>70</td>\n",
       "      <td>7</td>\n",
       "      <td>0.01</td>\n",
       "      <td>0.01</td>\n",
       "    </tr>\n",
       "    <tr>\n",
       "      <th>187</th>\n",
       "      <td>1046</td>\n",
       "      <td>2018-11</td>\n",
       "      <td>72</td>\n",
       "      <td>421.0</td>\n",
       "      <td>2018-11</td>\n",
       "      <td>31.0</td>\n",
       "      <td>2018-11</td>\n",
       "      <td>25.0</td>\n",
       "      <td>Beata</td>\n",
       "      <td>Hooper</td>\n",
       "      <td>...</td>\n",
       "      <td>2018-02</td>\n",
       "      <td>surf</td>\n",
       "      <td>NaN</td>\n",
       "      <td>50</td>\n",
       "      <td>15.0</td>\n",
       "      <td>500</td>\n",
       "      <td>20</td>\n",
       "      <td>10</td>\n",
       "      <td>0.03</td>\n",
       "      <td>0.03</td>\n",
       "    </tr>\n",
       "    <tr>\n",
       "      <th>661</th>\n",
       "      <td>1144</td>\n",
       "      <td>2018-06</td>\n",
       "      <td>73</td>\n",
       "      <td>478.0</td>\n",
       "      <td>2018-06</td>\n",
       "      <td>64.0</td>\n",
       "      <td>2018-06</td>\n",
       "      <td>26.0</td>\n",
       "      <td>Kaycee</td>\n",
       "      <td>Peterson</td>\n",
       "      <td>...</td>\n",
       "      <td>2018-04</td>\n",
       "      <td>ultimate</td>\n",
       "      <td>NaN</td>\n",
       "      <td>1000</td>\n",
       "      <td>30.0</td>\n",
       "      <td>3000</td>\n",
       "      <td>70</td>\n",
       "      <td>7</td>\n",
       "      <td>0.01</td>\n",
       "      <td>0.01</td>\n",
       "    </tr>\n",
       "    <tr>\n",
       "      <th>1196</th>\n",
       "      <td>1258</td>\n",
       "      <td>2018-12</td>\n",
       "      <td>16</td>\n",
       "      <td>133.0</td>\n",
       "      <td>2018-12</td>\n",
       "      <td>49.0</td>\n",
       "      <td>2018-12</td>\n",
       "      <td>24.0</td>\n",
       "      <td>Kai</td>\n",
       "      <td>Russell</td>\n",
       "      <td>...</td>\n",
       "      <td>2018-07</td>\n",
       "      <td>surf</td>\n",
       "      <td>NaN</td>\n",
       "      <td>50</td>\n",
       "      <td>15.0</td>\n",
       "      <td>500</td>\n",
       "      <td>20</td>\n",
       "      <td>10</td>\n",
       "      <td>0.03</td>\n",
       "      <td>0.03</td>\n",
       "    </tr>\n",
       "    <tr>\n",
       "      <th>1835</th>\n",
       "      <td>1401</td>\n",
       "      <td>2018-11</td>\n",
       "      <td>107</td>\n",
       "      <td>685.0</td>\n",
       "      <td>2018-11</td>\n",
       "      <td>53.0</td>\n",
       "      <td>2018-11</td>\n",
       "      <td>8.0</td>\n",
       "      <td>Charmain</td>\n",
       "      <td>Bryant</td>\n",
       "      <td>...</td>\n",
       "      <td>2018-08</td>\n",
       "      <td>ultimate</td>\n",
       "      <td>NaN</td>\n",
       "      <td>1000</td>\n",
       "      <td>30.0</td>\n",
       "      <td>3000</td>\n",
       "      <td>70</td>\n",
       "      <td>7</td>\n",
       "      <td>0.01</td>\n",
       "      <td>0.01</td>\n",
       "    </tr>\n",
       "    <tr>\n",
       "      <th>527</th>\n",
       "      <td>1113</td>\n",
       "      <td>2018-09</td>\n",
       "      <td>67</td>\n",
       "      <td>496.0</td>\n",
       "      <td>2018-09</td>\n",
       "      <td>31.0</td>\n",
       "      <td>2018-09</td>\n",
       "      <td>12.0</td>\n",
       "      <td>Spencer</td>\n",
       "      <td>Powers</td>\n",
       "      <td>...</td>\n",
       "      <td>2018-06</td>\n",
       "      <td>ultimate</td>\n",
       "      <td>NaN</td>\n",
       "      <td>1000</td>\n",
       "      <td>30.0</td>\n",
       "      <td>3000</td>\n",
       "      <td>70</td>\n",
       "      <td>7</td>\n",
       "      <td>0.01</td>\n",
       "      <td>0.01</td>\n",
       "    </tr>\n",
       "    <tr>\n",
       "      <th>1492</th>\n",
       "      <td>1331</td>\n",
       "      <td>2018-10</td>\n",
       "      <td>44</td>\n",
       "      <td>299.0</td>\n",
       "      <td>2018-10</td>\n",
       "      <td>85.0</td>\n",
       "      <td>2018-10</td>\n",
       "      <td>16.0</td>\n",
       "      <td>Lashandra</td>\n",
       "      <td>Ramos</td>\n",
       "      <td>...</td>\n",
       "      <td>2018-02</td>\n",
       "      <td>surf</td>\n",
       "      <td>NaN</td>\n",
       "      <td>50</td>\n",
       "      <td>15.0</td>\n",
       "      <td>500</td>\n",
       "      <td>20</td>\n",
       "      <td>10</td>\n",
       "      <td>0.03</td>\n",
       "      <td>0.03</td>\n",
       "    </tr>\n",
       "  </tbody>\n",
       "</table>\n",
       "<p>10 rows × 22 columns</p>\n",
       "</div>"
      ],
      "text/plain": [
       "      user_id call_date  num_calls  sum_min message_date  num_mess  \\\n",
       "1709     1374   2018-10         36    255.0      2018-10      80.0   \n",
       "883      1188   2018-09         24    169.0      2018-09      32.0   \n",
       "2123     1468   2018-09         49    418.0      2018-09      26.0   \n",
       "2208     1490   2018-12         50    368.0          NaT       NaN   \n",
       "187      1046   2018-11         72    421.0      2018-11      31.0   \n",
       "661      1144   2018-06         73    478.0      2018-06      64.0   \n",
       "1196     1258   2018-12         16    133.0      2018-12      49.0   \n",
       "1835     1401   2018-11        107    685.0      2018-11      53.0   \n",
       "527      1113   2018-09         67    496.0      2018-09      31.0   \n",
       "1492     1331   2018-10         44    299.0      2018-10      85.0   \n",
       "\n",
       "     session_date  total_gb_used first_name last_name  ...  reg_date  \\\n",
       "1709      2018-10           30.0      Ching     Watts  ...   2018-02   \n",
       "883       2018-09            9.0   Ethelene     Brock  ...   2018-01   \n",
       "2123      2018-09           11.0     Johana       Kim  ...   2018-09   \n",
       "2208      2018-12           46.0      Shane    Cortez  ...   2018-01   \n",
       "187       2018-11           25.0      Beata    Hooper  ...   2018-02   \n",
       "661       2018-06           26.0     Kaycee  Peterson  ...   2018-04   \n",
       "1196      2018-12           24.0        Kai   Russell  ...   2018-07   \n",
       "1835      2018-11            8.0   Charmain    Bryant  ...   2018-08   \n",
       "527       2018-09           12.0    Spencer    Powers  ...   2018-06   \n",
       "1492      2018-10           16.0  Lashandra     Ramos  ...   2018-02   \n",
       "\n",
       "          plan churn_date messages_included gb_per_month_included  \\\n",
       "1709      surf        NaN                50                  15.0   \n",
       "883   ultimate        NaN              1000                  30.0   \n",
       "2123      surf        NaN                50                  15.0   \n",
       "2208  ultimate        NaN              1000                  30.0   \n",
       "187       surf        NaN                50                  15.0   \n",
       "661   ultimate        NaN              1000                  30.0   \n",
       "1196      surf        NaN                50                  15.0   \n",
       "1835  ultimate        NaN              1000                  30.0   \n",
       "527   ultimate        NaN              1000                  30.0   \n",
       "1492      surf        NaN                50                  15.0   \n",
       "\n",
       "      minutes_included  usd_monthly_pay  usd_per_gb  usd_per_message  \\\n",
       "1709               500               20          10             0.03   \n",
       "883               3000               70           7             0.01   \n",
       "2123               500               20          10             0.03   \n",
       "2208              3000               70           7             0.01   \n",
       "187                500               20          10             0.03   \n",
       "661               3000               70           7             0.01   \n",
       "1196               500               20          10             0.03   \n",
       "1835              3000               70           7             0.01   \n",
       "527               3000               70           7             0.01   \n",
       "1492               500               20          10             0.03   \n",
       "\n",
       "      usd_per_minute  \n",
       "1709            0.03  \n",
       "883             0.01  \n",
       "2123            0.03  \n",
       "2208            0.01  \n",
       "187             0.03  \n",
       "661             0.01  \n",
       "1196            0.03  \n",
       "1835            0.01  \n",
       "527             0.01  \n",
       "1492            0.03  \n",
       "\n",
       "[10 rows x 22 columns]"
      ]
     },
     "execution_count": 27,
     "metadata": {},
     "output_type": "execute_result"
    }
   ],
   "source": [
    "# Add the plan information\n",
    "phone_plan_info = users.merge(plans, left_on=['plan'], right_on=['plan_name'], how='left')\n",
    "phone_plan_info['reg_date'] = phone_plan_info['reg_date'].dt.strftime('%Y-%m')\n",
    "phone_plan_info['churn_date'] = phone_plan_info['churn_date'].dt.strftime('%Y-%m')\n",
    "phone_plan_info = phone_plan_info.drop(columns='plan_name')  # Drop specific columns\n",
    "mass_phone_info = mass_phone_info.merge(phone_plan_info, on='user_id', how='left')\n",
    "mass_phone_info.sample(10)\n"
   ]
  },
  {
   "cell_type": "code",
   "execution_count": 28,
   "metadata": {},
   "outputs": [
    {
     "name": "stdout",
     "output_type": "stream",
     "text": [
      "      user_id  monthly_revenue\n",
      "1        1001            20.00\n",
      "2        1001            20.00\n",
      "3        1001            90.09\n",
      "4        1001            60.00\n",
      "5        1001            60.00\n",
      "...       ...              ...\n",
      "2253     1498           100.00\n",
      "2254     1499            20.00\n",
      "2255     1499            70.00\n",
      "2256     1499            40.00\n",
      "2257     1499            90.00\n",
      "\n",
      "[1545 rows x 2 columns]\n",
      "      user_id  monthly_revenue\n",
      "0        1000             70.0\n",
      "19       1006             70.0\n",
      "20       1006             84.0\n",
      "26       1008             70.0\n",
      "27       1008             70.0\n",
      "...       ...              ...\n",
      "2223     1493             70.0\n",
      "2224     1493             70.0\n",
      "2225     1493             70.0\n",
      "2226     1493             70.0\n",
      "2242     1497             70.0\n",
      "\n",
      "[713 rows x 2 columns]\n"
     ]
    },
    {
     "name": "stderr",
     "output_type": "stream",
     "text": [
      "/opt/conda/envs/python3/lib/python3.9/site-packages/pandas/core/indexing.py:1597: SettingWithCopyWarning: \n",
      "A value is trying to be set on a copy of a slice from a DataFrame.\n",
      "Try using .loc[row_indexer,col_indexer] = value instead\n",
      "\n",
      "See the caveats in the documentation: https://pandas.pydata.org/pandas-docs/stable/user_guide/indexing.html#returning-a-view-versus-a-copy\n",
      "  self.obj[key] = value\n",
      "/opt/conda/envs/python3/lib/python3.9/site-packages/pandas/core/indexing.py:1676: SettingWithCopyWarning: \n",
      "A value is trying to be set on a copy of a slice from a DataFrame.\n",
      "Try using .loc[row_indexer,col_indexer] = value instead\n",
      "\n",
      "See the caveats in the documentation: https://pandas.pydata.org/pandas-docs/stable/user_guide/indexing.html#returning-a-view-versus-a-copy\n",
      "  self._setitem_single_column(ilocs[0], value, pi)\n"
     ]
    }
   ],
   "source": [
    "# Calculate the monthly revenue for each user\n",
    "\n",
    "mass_phone_info['min_diff'] = mass_phone_info['minutes_included'] - mass_phone_info['sum_min']\n",
    "mass_phone_info['sms_diff'] = mass_phone_info['messages_included'] - mass_phone_info['num_mess']\n",
    "mass_phone_info['data_diff'] = mass_phone_info['gb_per_month_included'] - mass_phone_info['total_gb_used']\n",
    "surf_users = mass_phone_info.loc[mass_phone_info['plan'] == 'surf']\n",
    "ultimate_users = mass_phone_info.loc[mass_phone_info['plan'] == 'ultimate']\n",
    "surf_users\n",
    "# Define costs per unit over the limit for each plan\n",
    "surf_costs = {'minute': 0.03, 'text': 0.03, 'gb': 10, 'monthly': 20}\n",
    "ultimate_costs = {'minute': 0.01, 'text': 0.01, 'gb': 7, 'monthly': 70}\n",
    "\n",
    "# Function to compute revenue for a given plan\n",
    "def calculate_plan_revenue(row, costs):\n",
    "    revenue = costs['monthly']\n",
    "    if row['min_diff'] < 0:\n",
    "        revenue += abs(row['min_diff']) * costs['minute']\n",
    "    if row['sms_diff'] < 0:\n",
    "        revenue += abs(row['sms_diff']) * costs['text']\n",
    "    if row['data_diff'] < 0:\n",
    "        revenue += abs(row['data_diff']) * costs['gb']\n",
    "    return revenue\n",
    "\n",
    "# Calculate revenue for Surf\n",
    "surf_users.loc[:, 'monthly_revenue'] = surf_users.apply(calculate_plan_revenue, axis=1, costs=surf_costs)\n",
    "\n",
    "# Calculate revenue for Ultimate\n",
    "ultimate_users.loc[:, 'monthly_revenue'] = ultimate_users.apply(calculate_plan_revenue, axis=1, costs=ultimate_costs)\n",
    "\n",
    "print(surf_users[['user_id', 'monthly_revenue']])\n",
    "print(ultimate_users[['user_id', 'monthly_revenue']])"
   ]
  },
  {
   "cell_type": "markdown",
   "metadata": {},
   "source": [
    "## Study user behaviour"
   ]
  },
  {
   "cell_type": "markdown",
   "metadata": {},
   "source": [
    "### Calls"
   ]
  },
  {
   "cell_type": "code",
   "execution_count": 29,
   "metadata": {},
   "outputs": [
    {
     "name": "stdout",
     "output_type": "stream",
     "text": [
      "call_date\n",
      "2018-01    203.000000\n",
      "2018-02    297.000000\n",
      "2018-03    330.000000\n",
      "2018-04    351.540000\n",
      "2018-05    410.240000\n",
      "2018-06    435.791667\n",
      "2018-07    453.733333\n",
      "2018-08    417.849057\n",
      "2018-09    420.732984\n",
      "2018-10    438.991379\n",
      "2018-11    432.494585\n",
      "2018-12    484.501608\n",
      "Freq: M, Name: sum_min, dtype: float64\n",
      "call_date\n",
      "2018-01    193.500000\n",
      "2018-02    470.333333\n",
      "2018-03    304.250000\n",
      "2018-04    336.857143\n",
      "2018-05    406.241379\n",
      "2018-06    387.444444\n",
      "2018-07    427.067797\n",
      "2018-08    421.436620\n",
      "2018-09    437.511628\n",
      "2018-10    455.028571\n",
      "2018-11    448.730159\n",
      "2018-12    465.261745\n",
      "Freq: M, Name: sum_min, dtype: float64\n"
     ]
    },
    {
     "data": {
      "image/png": "[encoded data removed]",
      "text/plain": [
       "<Figure size 1000x600 with 1 Axes>"
      ]
     },
     "metadata": {},
     "output_type": "display_data"
    }
   ],
   "source": [
    "# Compare average duration of calls per each plan per each distinct month. Plot a bar plat to visualize it.\n",
    "# I used the print statement because I noticed that it allowed me to display both series side by side.\n",
    "print(surf_users.groupby('call_date')['sum_min'].mean())\n",
    "print(ultimate_users.groupby('call_date')['sum_min'].mean())\n",
    "\n",
    "# Filter by day\n",
    "surf_mean_dur = surf_users.groupby('call_date')['sum_min'].mean()\n",
    "ult_mean_dur = ultimate_users.groupby('call_date')['sum_min'].mean()\n",
    "\n",
    "plt.figure(figsize=(10, 6))\n",
    "\n",
    "# Convert index to string to get proper x-ticks\n",
    "months = surf_mean_dur.index.astype(str)\n",
    "\n",
    "# Bar plot for Surf\n",
    "plt.bar(months, surf_mean_dur, alpha=0.5, label='Surf', color='blue')\n",
    "# Bar plot for Ultimate\n",
    "plt.bar(months, ult_mean_dur, alpha=0.5, label='Ultimate', color='orange')\n",
    "\n",
    "plt.title('Average Duration of Calls per Month per Plan')\n",
    "plt.xlabel('Month')\n",
    "plt.ylabel('Average Duration of Calls')\n",
    "plt.xticks(rotation=45)\n",
    "plt.legend()\n",
    "plt.show()"
   ]
  },
  {
   "cell_type": "markdown",
   "metadata": {},
   "source": [
    "Looking at the graph, it seems that the average duration of calls per plan fluctuate through out the year. For example, the first part of the year, except February, seems to be dominated by users on the Surf plan while a section of the latter part of the year is owned by users on the Ultimate plan."
   ]
  },
  {
   "cell_type": "code",
   "execution_count": 30,
   "metadata": {},
   "outputs": [
    {
     "data": {
      "image/png": "[encoded data removed]",
      "text/plain": [
       "<Figure size 1000x600 with 1 Axes>"
      ]
     },
     "metadata": {},
     "output_type": "display_data"
    }
   ],
   "source": [
    "# Compare the number of minutes users of each plan require each month. Plot a histogram.\n",
    "\n",
    "plt.figure(figsize=(10, 6))\n",
    "\n",
    "# Plot histogram for surf_users\n",
    "plt.hist(surf_users['sum_min'], bins=30, alpha=0.5, label='Surf', color='blue', edgecolor='black')\n",
    "plt.hist(ultimate_users['sum_min'],bins=30, alpha=0.5, label='Ultimate', color='orange', edgecolor='black')\n",
    "plt.title('Distribution of Minutes Used per Month - Surf/Ultimate Plan')\n",
    "plt.xlabel('Minutes Used')\n",
    "plt.ylabel('Frequency')\n",
    "plt.legend()\n",
    "plt.show()"
   ]
  },
  {
   "cell_type": "markdown",
   "metadata": {},
   "source": [
    "Observing the histogram, on a general level, it looks like a higher share of Surf users utilize their minutes within their plan than Ultimate users."
   ]
  },
  {
   "cell_type": "code",
   "execution_count": 31,
   "metadata": {},
   "outputs": [
    {
     "name": "stdout",
     "output_type": "stream",
     "text": [
      "Surf Users:\n",
      "mean: 436.51974110032364\n",
      "variance: 52537.03666530514\n",
      "\n",
      "Ultimate Users:\n",
      "mean: 434.67601683029454\n",
      "variance: 56494.286339253566\n"
     ]
    }
   ],
   "source": [
    "# Calculate the mean and the variance of the monthly call duration\n",
    "mean_surf_dur = surf_users['sum_min'].mean()\n",
    "var_surf_dur = np.var(surf_users['sum_min'])\n",
    "mean_ult_dur = ultimate_users['sum_min'].mean()\n",
    "var_ult_dur = np.var(ultimate_users['sum_min'])\n",
    "\n",
    "print('Surf Users:')\n",
    "print('mean:', mean_surf_dur)\n",
    "print('variance:', var_surf_dur)\n",
    "print('')\n",
    "print('Ultimate Users:')\n",
    "print('mean:', mean_ult_dur)\n",
    "print('variance:', var_ult_dur)"
   ]
  },
  {
   "cell_type": "code",
   "execution_count": 32,
   "metadata": {},
   "outputs": [
    {
     "data": {
      "image/png": "[encoded data removed]",
      "text/plain": [
       "<Figure size 1200x800 with 1 Axes>"
      ]
     },
     "metadata": {},
     "output_type": "display_data"
    }
   ],
   "source": [
    "ultimate_users = ultimate_users.copy()\n",
    "\n",
    "# Convert call dates back to timestamps\n",
    "ultimate_users['call_date'] = ultimate_users['call_date'].dt.to_timestamp()\n",
    "\n",
    "# Convert and ensure 'call_date' is in proper format\n",
    "ultimate_users['call_date'] = pd.to_datetime(ultimate_users['call_date'])\n",
    "ultimate_users['month'] = ultimate_users['call_date'].dt.to_period('M')\n",
    "\n",
    "# Filter out any NaT or non-applicable values\n",
    "ultimate_users = ultimate_users.dropna(subset=['month'])\n",
    "\n",
    "# Prepare data for each month, ensuring order\n",
    "months = sorted(ultimate_users['month'].unique())\n",
    "monthly_data = [ultimate_users[ultimate_users['month'] == month]['sum_min'] for month in months]\n",
    "\n",
    "plt.figure(figsize=(12, 8))\n",
    "\n",
    "# Create the boxplot\n",
    "plt.boxplot(monthly_data, labels=[str(month) for month in months])\n",
    "plt.title('Monthly Distribution of Minutes Used - Ultimate Plan')\n",
    "plt.xlabel('Month')\n",
    "plt.ylabel('Minutes Used')\n",
    "plt.xticks(rotation=45)\n",
    "plt.show()\n"
   ]
  },
  {
   "cell_type": "code",
   "execution_count": 33,
   "metadata": {},
   "outputs": [
    {
     "data": {
      "image/png": "[encoded data removed]",
      "text/plain": [
       "<Figure size 1200x800 with 1 Axes>"
      ]
     },
     "metadata": {},
     "output_type": "display_data"
    }
   ],
   "source": [
    "surf_users = surf_users.copy()\n",
    "\n",
    "# Convert call dates back to timestamps\n",
    "surf_users['call_date'] = surf_users['call_date'].dt.to_timestamp()\n",
    "\n",
    "# Convert and ensure 'call_date' is in proper format\n",
    "surf_users['call_date'] = pd.to_datetime(surf_users['call_date'])\n",
    "surf_users['month'] = surf_users['call_date'].dt.to_period('M')\n",
    "\n",
    "# Filter out any NaT or non-applicable values\n",
    "surf_users = surf_users.dropna(subset=['month'])\n",
    "\n",
    "# Prepare data for each month, ensuring order\n",
    "months = sorted(surf_users['month'].unique())\n",
    "monthly_data = [surf_users[surf_users['month'] == month]['sum_min'] for month in months]\n",
    "\n",
    "plt.figure(figsize=(12, 8))\n",
    "\n",
    "# Create the boxplot\n",
    "plt.boxplot(monthly_data, labels=[str(month) for month in months])\n",
    "plt.title('Monthly Distribution of Minutes Used - Surf Plan')\n",
    "plt.xlabel('Month')\n",
    "plt.ylabel('Minutes Used')\n",
    "plt.xticks(rotation=45)\n",
    "plt.show()\n",
    "\n"
   ]
  },
  {
   "cell_type": "markdown",
   "metadata": {},
   "source": [
    "Based from the previous graph, it looks like the users on the Surf plan tend to have a higher duration in terms of calls than the users on the Ultimate plan but this is just a small difference."
   ]
  },
  {
   "cell_type": "markdown",
   "metadata": {},
   "source": [
    "### Messages"
   ]
  },
  {
   "cell_type": "code",
   "execution_count": 34,
   "metadata": {},
   "outputs": [
    {
     "name": "stdout",
     "output_type": "stream",
     "text": [
      "Surf plan: message_date\n",
      "2018-01       21.0\n",
      "2018-02      108.0\n",
      "2018-03      351.0\n",
      "2018-04      870.0\n",
      "2018-05     1829.0\n",
      "2018-06     2427.0\n",
      "2018-07     3243.0\n",
      "2018-08     4588.0\n",
      "2018-09     5802.0\n",
      "2018-10     7718.0\n",
      "2018-11     8896.0\n",
      "2018-12    11884.0\n",
      "Freq: M, Name: num_mess, dtype: float64\n",
      "Ultimate plan: message_date\n",
      "2018-01      62.0\n",
      "2018-02     139.0\n",
      "2018-03     243.0\n",
      "2018-04     463.0\n",
      "2018-05     931.0\n",
      "2018-06    1374.0\n",
      "2018-07    1937.0\n",
      "2018-08    2732.0\n",
      "2018-09    3259.0\n",
      "2018-10    4179.0\n",
      "2018-11    4861.0\n",
      "2018-12    6718.0\n",
      "Freq: M, Name: num_mess, dtype: float64\n"
     ]
    },
    {
     "data": {
      "image/png": "[encoded data removed]",
      "text/plain": [
       "<Figure size 1000x600 with 1 Axes>"
      ]
     },
     "metadata": {},
     "output_type": "display_data"
    }
   ],
   "source": [
    "# Compare the number of messages users of each plan tend to send each month. Create a bar chart for visualization.\n",
    "\n",
    "# Group by month and count messages\n",
    "surf_monthly_messages = surf_users.groupby('message_date')['num_mess'].sum()\n",
    "ultimate_monthly_messages = ultimate_users.groupby('message_date')['num_mess'].sum()\n",
    "\n",
    "print('Surf plan:', surf_monthly_messages)\n",
    "print('Ultimate plan:', ultimate_monthly_messages)\n",
    "\n",
    "# Filter by day\n",
    "surf_monthly_messages = surf_users.groupby('message_date')['num_mess'].sum()\n",
    "ultimate_monthly_messages = ultimate_users.groupby('message_date')['num_mess'].sum()\n",
    "\n",
    "plt.figure(figsize=(10, 6))\n",
    "\n",
    "# Convert index to string to get proper x-ticks\n",
    "months = surf_monthly_messages.index.astype(str)\n",
    "\n",
    "# Bar plot for Surf\n",
    "plt.bar(months, surf_monthly_messages, alpha=0.5, label='Surf', color='blue')\n",
    "# Bar plot for Ultimate\n",
    "plt.bar(months, ultimate_monthly_messages, alpha=0.5, label='Ultimate', color='orange')\n",
    "\n",
    "plt.title('Number of Messages per Month per Plan')\n",
    "plt.xlabel('Month')\n",
    "plt.ylabel('Number of Messages')\n",
    "plt.xticks(rotation=45)\n",
    "plt.legend()\n",
    "plt.show()"
   ]
  },
  {
   "cell_type": "code",
   "execution_count": 35,
   "metadata": {},
   "outputs": [
    {
     "data": {
      "image/png": "[encoded data removed]",
      "text/plain": [
       "<Figure size 1000x600 with 1 Axes>"
      ]
     },
     "metadata": {},
     "output_type": "display_data"
    }
   ],
   "source": [
    "# Compare the number of messages users of each plan require each month. Plot a histogram.\n",
    "\n",
    "plt.figure(figsize=(10, 6))\n",
    "\n",
    "# Plot histogram for surf_users\n",
    "plt.hist(surf_users['num_mess'], bins=30, alpha=0.5, label='Surf', color='blue', edgecolor='black')\n",
    "plt.hist(ultimate_users['num_mess'],bins=30, alpha=0.5, label='Ultimate', color='orange', edgecolor='black')\n",
    "plt.title('Distribution of Messages per Month - Surf/Ultimate Plan')\n",
    "plt.xlabel('Message Count')\n",
    "plt.ylabel('Frequency')\n",
    "plt.legend()\n",
    "plt.show()\n",
    "\n",
    "\n"
   ]
  },
  {
   "cell_type": "code",
   "execution_count": 36,
   "metadata": {},
   "outputs": [
    {
     "name": "stdout",
     "output_type": "stream",
     "text": [
      "Surf Users:\n",
      "mean: 39.98073701842546\n",
      "variance: 1100.6152068269882\n",
      "\n",
      "Ultimate Users:\n",
      "mean: 46.4559585492228\n",
      "variance: 1082.5209446338606\n"
     ]
    }
   ],
   "source": [
    "# Calculate the mean and the variance of the monthly call duration\n",
    "mean_surf_mess = surf_users['num_mess'].mean()\n",
    "var_surf_mess = np.var(surf_users['num_mess'])\n",
    "mean_ult_mess = ultimate_users['num_mess'].mean()\n",
    "var_ult_mess = np.var(ultimate_users['num_mess'])\n",
    "\n",
    "print('Surf Users:')\n",
    "print('mean:', mean_surf_mess)\n",
    "print('variance:', var_surf_mess)\n",
    "print('')\n",
    "print('Ultimate Users:')\n",
    "print('mean:', mean_ult_mess)\n",
    "print('variance:', var_ult_mess)"
   ]
  },
  {
   "cell_type": "code",
   "execution_count": 37,
   "metadata": {},
   "outputs": [
    {
     "data": {
      "image/png": "[encoded data removed]",
      "text/plain": [
       "<Figure size 1200x800 with 1 Axes>"
      ]
     },
     "metadata": {},
     "output_type": "display_data"
    }
   ],
   "source": [
    "ultimate_users = ultimate_users.copy()\n",
    "\n",
    "# Convert message dates back to timestamps\n",
    "ultimate_users['message_date'] = ultimate_users['message_date'].dt.to_timestamp()\n",
    "\n",
    "\n",
    "# Convert and ensure 'message_date' is in proper format\n",
    "ultimate_users['message_date'] = pd.to_datetime(ultimate_users['message_date'])\n",
    "ultimate_users['month'] = ultimate_users['message_date'].dt.to_period('M')\n",
    "\n",
    "# Filter out any NaT or non-applicable values\n",
    "ultimate_users = ultimate_users.dropna(subset=['month'])\n",
    "\n",
    "# Prepare data for each month, ensuring order\n",
    "months = sorted(ultimate_users['month'].unique())\n",
    "monthly_data = [ultimate_users[ultimate_users['month'] == month]['num_mess'] for month in months]\n",
    "\n",
    "plt.figure(figsize=(12, 8))\n",
    "\n",
    "# Create the boxplot\n",
    "plt.boxplot(monthly_data, labels=[str(month) for month in months])\n",
    "\n",
    "plt.title('Monthly Distribution of Messages per Month - Ultimate Plan')\n",
    "plt.xlabel('Month')\n",
    "plt.ylabel('Message Count')\n",
    "plt.xticks(rotation=45)\n",
    "plt.show()"
   ]
  },
  {
   "cell_type": "code",
   "execution_count": 38,
   "metadata": {},
   "outputs": [
    {
     "data": {
      "image/png": "[encoded data removed]",
      "text/plain": [
       "<Figure size 1200x800 with 1 Axes>"
      ]
     },
     "metadata": {},
     "output_type": "display_data"
    }
   ],
   "source": [
    "surf_users = surf_users.copy()\n",
    "\n",
    "# Convert message dates back to timestamps\n",
    "surf_users['message_date'] = surf_users['message_date'].dt.to_timestamp()\n",
    "\n",
    "# Convert and ensure 'message_date' is in proper format\n",
    "surf_users['message_date'] = pd.to_datetime(surf_users['message_date'])\n",
    "surf_users['month'] = surf_users['message_date'].dt.to_period('M')\n",
    "\n",
    "# Filter out any NaT or non-applicable values\n",
    "surf_users = surf_users.dropna(subset=['month'])\n",
    "\n",
    "# Prepare data for each month, ensuring order\n",
    "months = sorted(surf_users['month'].unique())\n",
    "monthly_data = [surf_users[surf_users['month'] == month]['num_mess'] for month in months]\n",
    "\n",
    "plt.figure(figsize=(12, 8))\n",
    "\n",
    "# Create the boxplot\n",
    "plt.boxplot(monthly_data, labels=[str(month) for month in months])\n",
    "plt.title('Monthly Distribution Messages per Month - Surf Plan')\n",
    "plt.xlabel('Month')\n",
    "plt.ylabel('Message Count')\n",
    "plt.xticks(rotation=45)\n",
    "plt.show()\n"
   ]
  },
  {
   "cell_type": "markdown",
   "metadata": {},
   "source": [
    "### Internet"
   ]
  },
  {
   "cell_type": "code",
   "execution_count": 39,
   "metadata": {},
   "outputs": [
    {
     "name": "stdout",
     "output_type": "stream",
     "text": [
      "Surf plan: session_date\n",
      "2018-01       8.0\n",
      "2018-02      47.0\n",
      "2018-03     202.0\n",
      "2018-04     423.0\n",
      "2018-05     798.0\n",
      "2018-06    1104.0\n",
      "2018-07    1496.0\n",
      "2018-08    2053.0\n",
      "2018-09    2442.0\n",
      "2018-10    3172.0\n",
      "2018-11    3573.0\n",
      "2018-12    4450.0\n",
      "Freq: M, Name: total_gb_used, dtype: float64\n",
      "Ultimate plan: session_date\n",
      "2018-01      22.0\n",
      "2018-02      87.0\n",
      "2018-03     167.0\n",
      "2018-04     232.0\n",
      "2018-05     362.0\n",
      "2018-06     574.0\n",
      "2018-07     782.0\n",
      "2018-08    1026.0\n",
      "2018-09    1169.0\n",
      "2018-10    1552.0\n",
      "2018-11    1775.0\n",
      "2018-12    2294.0\n",
      "Freq: M, Name: total_gb_used, dtype: float64\n"
     ]
    },
    {
     "data": {
      "image/png": "[encoded data removed]",
      "text/plain": [
       "<Figure size 1000x600 with 1 Axes>"
      ]
     },
     "metadata": {},
     "output_type": "display_data"
    }
   ],
   "source": [
    "# Compare the amount of internet traffic consumed by users per plan\n",
    "surf_monthly_sessions = surf_users.groupby('session_date')['total_gb_used'].sum()\n",
    "ultimate_monthly_sessions = ultimate_users.groupby('session_date')['total_gb_used'].sum()\n",
    "print('Surf plan:', surf_monthly_sessions)\n",
    "print('Ultimate plan:', ultimate_monthly_sessions)\n",
    "\n",
    "# Filter by day\n",
    "surf_monthly_sessions = surf_users.groupby('session_date')['total_gb_used'].sum()\n",
    "ultimate_monthly_sessions = ultimate_users.groupby('session_date')['total_gb_used'].sum()\n",
    "plt.figure(figsize=(10, 6))\n",
    "\n",
    "# Convert index to string to get proper x-ticks\n",
    "months = surf_monthly_sessions.index.astype(str)\n",
    "\n",
    "# Bar plot for Surf\n",
    "plt.bar(months, surf_monthly_sessions, alpha=0.5, label='Surf', color='blue')\n",
    "# Bar plot for Ultimate\n",
    "plt.bar(months, ultimate_monthly_sessions, alpha=0.5, label='Ultimate', color='orange')\n",
    "\n",
    "plt.title('Amount of Internet Traffic consumed per Month per Plan')\n",
    "plt.xlabel('Month')\n",
    "plt.ylabel('Amount of Internet Traffic')\n",
    "plt.xticks(rotation=45)\n",
    "plt.legend()\n",
    "plt.show()"
   ]
  },
  {
   "cell_type": "code",
   "execution_count": 40,
   "metadata": {},
   "outputs": [
    {
     "data": {
      "image/png": "[encoded data removed]",
      "text/plain": [
       "<Figure size 1000x600 with 1 Axes>"
      ]
     },
     "metadata": {},
     "output_type": "display_data"
    }
   ],
   "source": [
    "# Compare the number of messages users of each plan require each month. Plot a histogram.\n",
    "\n",
    "plt.figure(figsize=(10, 6))\n",
    "\n",
    "# Plot histogram for surf_users\n",
    "plt.hist(surf_users['total_gb_used'], bins=30, alpha=0.5, label='Surf', color='blue', edgecolor='black')\n",
    "plt.hist(ultimate_users['total_gb_used'],bins=30, alpha=0.5, label='Ultimate', color='orange', edgecolor='black')\n",
    "plt.title('Distribution of Total GB Used per Month - Surf/Ultimate Plan')\n",
    "plt.xlabel('total_gb_used')\n",
    "plt.ylabel('Frequency')\n",
    "plt.legend()\n",
    "plt.show()\n"
   ]
  },
  {
   "cell_type": "code",
   "execution_count": 41,
   "metadata": {},
   "outputs": [
    {
     "name": "stdout",
     "output_type": "stream",
     "text": [
      "Surf Users:\n",
      "mean: 16.752542372881354\n",
      "variance: 56.964188451594374\n",
      "\n",
      "Ultimate Users:\n",
      "mean: 17.34369602763385\n",
      "variance: 56.077037116581806\n"
     ]
    }
   ],
   "source": [
    "# Calculate the mean and the variance of the monthly call duration\n",
    "mean_surf_sess = surf_users['total_gb_used'].mean()\n",
    "var_surf_sess = np.var(surf_users['total_gb_used'])\n",
    "mean_ult_sess = ultimate_users['total_gb_used'].mean()\n",
    "var_ult_sess = np.var(ultimate_users['total_gb_used'])\n",
    "\n",
    "print('Surf Users:')\n",
    "print('mean:', mean_surf_sess)\n",
    "print('variance:', var_surf_sess)\n",
    "print('')\n",
    "print('Ultimate Users:')\n",
    "print('mean:', mean_ult_sess)\n",
    "print('variance:', var_ult_sess)"
   ]
  },
  {
   "cell_type": "code",
   "execution_count": 42,
   "metadata": {},
   "outputs": [
    {
     "data": {
      "image/png": "[encoded data removed]",
      "text/plain": [
       "<Figure size 1200x800 with 1 Axes>"
      ]
     },
     "metadata": {},
     "output_type": "display_data"
    }
   ],
   "source": [
    "ultimate_users = ultimate_users.copy()\n",
    "\n",
    "# Convert message dates back to timestamps\n",
    "ultimate_users['session_date'] = ultimate_users['session_date'].dt.to_timestamp()\n",
    "\n",
    "\n",
    "# Convert and ensure 'message_date' is in proper format\n",
    "ultimate_users['session_date'] = pd.to_datetime(ultimate_users['session_date'])\n",
    "ultimate_users['month'] = ultimate_users['session_date'].dt.to_period('M')\n",
    "\n",
    "# Filter out any NaT or non-applicable values\n",
    "ultimate_users = ultimate_users.dropna(subset=['month'])\n",
    "\n",
    "# Prepare data for each month, ensuring order\n",
    "months = sorted(ultimate_users['month'].unique())\n",
    "monthly_data = [ultimate_users[ultimate_users['month'] == month]['total_gb_used'] for month in months]\n",
    "\n",
    "plt.figure(figsize=(12, 8))\n",
    "\n",
    "# Create the boxplot\n",
    "plt.boxplot(monthly_data, labels=[str(month) for month in months])\n",
    "\n",
    "plt.title('Distribution of Total GB Used per Month - Ultimate Plan')\n",
    "plt.xlabel('Month')\n",
    "plt.ylabel('Data Consumed')\n",
    "plt.xticks(rotation=45)\n",
    "plt.show()"
   ]
  },
  {
   "cell_type": "code",
   "execution_count": 43,
   "metadata": {},
   "outputs": [
    {
     "data": {
      "image/png": "[encoded data removed]",
      "text/plain": [
       "<Figure size 1200x800 with 1 Axes>"
      ]
     },
     "metadata": {},
     "output_type": "display_data"
    }
   ],
   "source": [
    "surf_users = surf_users.copy()\n",
    "\n",
    "# Convert call dates back to timestamps\n",
    "surf_users['session_date'] = surf_users['session_date'].dt.to_timestamp()\n",
    "\n",
    "# Convert and ensure 'session_date' is in proper format\n",
    "surf_users['session_date'] = pd.to_datetime(surf_users['session_date'])\n",
    "surf_users['month'] = surf_users['session_date'].dt.to_period('M')\n",
    "\n",
    "# Filter out any NaT or non-applicable values\n",
    "surf_users = surf_users.dropna(subset=['month'])\n",
    "\n",
    "# Prepare data for each month, ensuring order\n",
    "months = sorted(surf_users['month'].unique())\n",
    "monthly_data = [surf_users[surf_users['month'] == month]['total_gb_used'] for month in months]\n",
    "\n",
    "plt.figure(figsize=(12, 8))\n",
    "\n",
    "# Create the boxplot\n",
    "plt.boxplot(monthly_data, labels=[str(month) for month in months])\n",
    "plt.title('Distribution of Total GB Used per Month - Surf Plan')\n",
    "plt.xlabel('Month')\n",
    "plt.ylabel('Data Consumed')\n",
    "plt.xticks(rotation=45)\n",
    "plt.show()\n"
   ]
  },
  {
   "cell_type": "markdown",
   "metadata": {},
   "source": [
    " "
   ]
  },
  {
   "cell_type": "markdown",
   "metadata": {},
   "source": [
    "## Revenue"
   ]
  },
  {
   "cell_type": "code",
   "execution_count": 44,
   "metadata": {},
   "outputs": [
    {
     "name": "stdout",
     "output_type": "stream",
     "text": [
      "session_date\n",
      "2018-01-01       20.00\n",
      "2018-02-01      119.57\n",
      "2018-03-01      616.65\n",
      "2018-04-01     1420.70\n",
      "2018-05-01     2695.43\n",
      "2018-06-01     3645.67\n",
      "2018-07-01     5500.77\n",
      "2018-08-01     7661.59\n",
      "2018-09-01     8407.94\n",
      "2018-10-01    11831.67\n",
      "2018-11-01    12451.42\n",
      "2018-12-01    16919.28\n",
      "Name: monthly_revenue, dtype: float64\n",
      "session_date\n",
      "2018-01-01     210.0\n",
      "2018-02-01     350.0\n",
      "2018-03-01     546.0\n",
      "2018-04-01    1169.0\n",
      "2018-05-01    1491.0\n",
      "2018-06-01    2667.0\n",
      "2018-07-01    3402.0\n",
      "2018-08-01    4130.0\n",
      "2018-09-01    5068.0\n",
      "2018-10-01    6349.0\n",
      "2018-11-01    7357.0\n",
      "2018-12-01    9093.0\n",
      "Name: monthly_revenue, dtype: float64\n"
     ]
    },
    {
     "data": {
      "image/png": "[encoded data removed]",
      "text/plain": [
       "<Figure size 1000x600 with 1 Axes>"
      ]
     },
     "metadata": {},
     "output_type": "display_data"
    }
   ],
   "source": [
    "print(surf_users.groupby('session_date')['monthly_revenue'].sum())\n",
    "print(ultimate_users.groupby('session_date')['monthly_revenue'].sum())\n",
    "# Filter by day\n",
    "surf_month_rev = surf_users.groupby('session_date')['monthly_revenue'].sum()\n",
    "ult_month_rev = ultimate_users.groupby('session_date')['monthly_revenue'].sum()\n",
    "\n",
    "plt.figure(figsize=(10, 6))\n",
    "\n",
    "# Convert index to string to get proper x-ticks\n",
    "months = surf_month_rev.index.astype(str)\n",
    "\n",
    "# Bar plot for Surf\n",
    "plt.bar(months, surf_month_rev, alpha=0.5, label='Surf', color='blue')\n",
    "# Bar plot for Ultimate\n",
    "plt.bar(months, ult_month_rev, alpha=0.5, label='Ultimate', color='orange')\n",
    "\n",
    "plt.title('Revenue per Month per Plan')\n",
    "plt.xlabel('Month')\n",
    "plt.ylabel('Total Revenue')\n",
    "plt.xticks(rotation=45)\n",
    "plt.legend()\n",
    "plt.show()\n"
   ]
  },
  {
   "cell_type": "code",
   "execution_count": 45,
   "metadata": {},
   "outputs": [
    {
     "data": {
      "image/png": "[encoded data removed]",
      "text/plain": [
       "<Figure size 1000x600 with 1 Axes>"
      ]
     },
     "metadata": {},
     "output_type": "display_data"
    }
   ],
   "source": [
    "# Compare the number of messages users of each plan require each month. Plot a histogram.\n",
    "\n",
    "plt.figure(figsize=(10, 6))\n",
    "\n",
    "# Plot histogram for surf_users\n",
    "plt.hist(surf_users['monthly_revenue'], bins=30, alpha=0.5, label='Surf', color='blue', edgecolor='black')\n",
    "plt.hist(ultimate_users['monthly_revenue'],bins=30, alpha=0.5, label='Ultimate', color='orange', edgecolor='black')\n",
    "plt.title('Distribution of Monthly Revenue - Surf/Ultimate Plan')\n",
    "plt.xlabel('Revenue')\n",
    "plt.ylabel('Frequency')\n",
    "plt.legend()\n",
    "plt.show()\n"
   ]
  },
  {
   "cell_type": "code",
   "execution_count": 46,
   "metadata": {},
   "outputs": [
    {
     "name": "stdout",
     "output_type": "stream",
     "text": [
      "Surf Users:\n",
      "mean: 60.41583898305085\n",
      "variance: 2870.068890567294\n",
      "\n",
      "Ultimate Users:\n",
      "mean: 72.24870466321244\n",
      "variance: 121.5478178385102\n"
     ]
    }
   ],
   "source": [
    "# Calculate the mean and the variance of the monthly call duration\n",
    "mean_surf_rev = surf_users['monthly_revenue'].mean()\n",
    "var_surf_rev = np.var(surf_users['monthly_revenue'])\n",
    "mean_ult_rev = ultimate_users['monthly_revenue'].mean()\n",
    "var_ult_rev = np.var(ultimate_users['monthly_revenue'])\n",
    "\n",
    "print('Surf Users:')\n",
    "print('mean:', mean_surf_rev)\n",
    "print('variance:', var_surf_rev)\n",
    "print('')\n",
    "print('Ultimate Users:')\n",
    "print('mean:', mean_ult_rev)\n",
    "print('variance:', var_ult_rev)"
   ]
  },
  {
   "cell_type": "markdown",
   "metadata": {},
   "source": [
    "## Test statistical hypotheses"
   ]
  },
  {
   "cell_type": "markdown",
   "metadata": {},
   "source": [
    "- **Null Hypothesis:** The average revenue from users of the Ultimate and Surf calling plans are equal\n",
    "- **Alternate Hypothesis:** The average revenue from users of the Ultimate and Surf calling plans differs\n",
    "- **Statistical Test:** t-test (Hypothesis on the Equality of Two Population Means)\t\t\n",
    "- **Alpha Value:** 0.05 (5%)"
   ]
  },
  {
   "cell_type": "code",
   "execution_count": 47,
   "metadata": {},
   "outputs": [
    {
     "name": "stdout",
     "output_type": "stream",
     "text": [
      "p-value: 0.00011810799565817098\n",
      "Reject the null hypothesis\n"
     ]
    }
   ],
   "source": [
    "# Test the hypotheses\n",
    "\n",
    "# Use monthly revenue data\n",
    "surf_revenue = surf_users.groupby('user_id')['monthly_revenue'].mean()\n",
    "ultimate_revenue = ultimate_users.groupby('user_id')['monthly_revenue'].mean()\n",
    "\n",
    "alpha = 0.05\n",
    "\n",
    "# Perform the t-test\n",
    "results = st.ttest_ind(surf_revenue, ultimate_revenue)\n",
    "\n",
    "print('p-value:', results.pvalue)\n",
    "\n",
    "if results.pvalue < alpha:\n",
    "    print('Reject the null hypothesis')\n",
    "else:\n",
    "    print(\"Don't reject null hypothesis\")"
   ]
  },
  {
   "cell_type": "markdown",
   "metadata": {},
   "source": [
    "- **Null Hypothesis:** The average revenue from users in the NY-NJ area is equal to that of the users from the other regions\n",
    "- **Alternate Hypothesis:** The average revenue from users in the NY-NJ area is different from that of the users from the other regions\n",
    "- **Statistical Test:** t-test (Hypothesis on the Equality of Two Population Means)\t\t\n",
    "- **Alpha Value:** 0.05 (5%)"
   ]
  },
  {
   "cell_type": "code",
   "execution_count": 48,
   "metadata": {},
   "outputs": [
    {
     "name": "stdout",
     "output_type": "stream",
     "text": [
      "p-value: 0.27969838562756416\n",
      "Don't reject the null hypothesis\n"
     ]
    }
   ],
   "source": [
    "# Combine surf_users and ultimate_users\n",
    "combined_df = pd.concat([surf_users, ultimate_users], ignore_index=True)\n",
    "\n",
    "# Merge with the users DataFrame to add city information\n",
    "combined_with_city = pd.merge(combined_df, users[['user_id', 'city']], on='user_id', how='left')\n",
    "\n",
    "\n",
    "# Continue with your existing process\n",
    "target_df = combined_with_city[['user_id', 'city_y', 'monthly_revenue', 'session_date']]\n",
    "NY_NJ_region = target_df.loc[target_df['city_y'] == 'New York-Newark-Jersey City, NY-NJ-PA MSA']\n",
    "other_regions = target_df.loc[target_df['city_y'] != 'New York-Newark-Jersey City, NY-NJ-PA MSA']\n",
    "\n",
    "mean_NY_NJ_region = NY_NJ_region.groupby('user_id')['monthly_revenue'].mean()\n",
    "mean_other_regions = other_regions.groupby('user_id')['monthly_revenue'].mean()\n",
    "\n",
    "alpha = 0.05\n",
    "\n",
    "# Perform the t-test\n",
    "results = st.ttest_ind(mean_NY_NJ_region, mean_other_regions)\n",
    "\n",
    "print('p-value:', results.pvalue)\n",
    "\n",
    "if results.pvalue < alpha:\n",
    "    print('Reject the null hypothesis')\n",
    "else:\n",
    "    print(\"Don't reject the null hypothesis\")"
   ]
  },
  {
   "cell_type": "markdown",
   "metadata": {},
   "source": [
    "## General conclusion\n",
    "\n",
    "Based from the number of graphs and tests done, it turns out that the Surf plan seems to bring in revenue due to a lot more individuals being on that type of plan. With the timeframe in mind, it looked like revenue increased throughout the year, especially around the holiday months. Also, looking at both the mean and variance for both types of users, the Ultimate plan had a higher mean than Surf. With respect to the Surf plan,the variance conveys that they're a lot more individuals around the mean of 60 (have a monthly bill of $60) than that of the Ultimate plan."
   ]
  },
  {
   "cell_type": "markdown",
   "metadata": {},
   "source": [
    "<div class=\"alert alert-block alert-success\">✔️\n",
    "    \n",
    "\n",
    "__Reviewer's comment №1__\n",
    "\n",
    "\n",
    "Otherwise it's great😊. Your project is begging for github =)   \n",
    "    \n",
    "Congratulations on the successful completion of the project 😊👍\n",
    "And I wish you success in new works 😊"
   ]
  },
  {
   "cell_type": "markdown",
   "metadata": {},
   "source": [
    " "
   ]
  }
 ],
 "metadata": {
  "ExecuteTimeLog": [
   {
    "duration": 828,
    "start_time": "2021-11-16T09:21:11.304Z"
   },
   {
    "duration": 893,
    "start_time": "2021-11-16T09:21:17.728Z"
   },
   {
    "duration": 1150,
    "start_time": "2021-11-16T09:21:29.568Z"
   },
   {
    "duration": 3,
    "start_time": "2021-11-16T09:24:14.495Z"
   },
   {
    "duration": 120,
    "start_time": "2021-11-16T09:24:46.630Z"
   },
   {
    "duration": 3,
    "start_time": "2021-11-16T09:28:27.882Z"
   },
   {
    "duration": 4,
    "start_time": "2021-11-16T09:29:54.281Z"
   },
   {
    "duration": 3,
    "start_time": "2021-11-16T09:30:45.936Z"
   },
   {
    "duration": 4,
    "start_time": "2021-11-16T09:31:06.300Z"
   },
   {
    "duration": 113,
    "start_time": "2021-11-16T09:31:37.208Z"
   },
   {
    "duration": 143,
    "start_time": "2021-11-16T09:31:48.656Z"
   },
   {
    "duration": 98,
    "start_time": "2021-11-16T09:31:55.678Z"
   },
   {
    "duration": 3,
    "start_time": "2021-11-16T09:32:08.535Z"
   },
   {
    "duration": 111,
    "start_time": "2021-11-16T09:32:10.120Z"
   },
   {
    "duration": 3,
    "start_time": "2021-11-16T09:32:15.732Z"
   },
   {
    "duration": 4,
    "start_time": "2021-11-16T09:32:29.423Z"
   },
   {
    "duration": 3,
    "start_time": "2021-11-16T10:03:03.074Z"
   },
   {
    "duration": 3,
    "start_time": "2021-11-16T10:10:01.288Z"
   },
   {
    "duration": 3,
    "start_time": "2021-11-16T10:10:46.923Z"
   },
   {
    "duration": 121,
    "start_time": "2021-11-16T10:37:46.494Z"
   },
   {
    "duration": 125,
    "start_time": "2021-11-16T10:38:20.632Z"
   },
   {
    "duration": 112,
    "start_time": "2021-11-16T10:46:53.001Z"
   },
   {
    "duration": 110,
    "start_time": "2021-11-16T10:48:25.775Z"
   },
   {
    "duration": 3,
    "start_time": "2021-11-16T10:50:18.720Z"
   },
   {
    "duration": 4,
    "start_time": "2021-11-16T10:50:37.649Z"
   },
   {
    "duration": 2,
    "start_time": "2021-11-16T10:50:51.884Z"
   },
   {
    "duration": 3,
    "start_time": "2021-11-16T10:51:56.237Z"
   },
   {
    "duration": 101,
    "start_time": "2021-11-16T10:53:13.791Z"
   },
   {
    "duration": 3,
    "start_time": "2021-11-16T10:55:59.186Z"
   },
   {
    "duration": 3,
    "start_time": "2021-11-16T10:56:10.751Z"
   },
   {
    "duration": 3,
    "start_time": "2021-11-16T10:56:49.038Z"
   },
   {
    "duration": 3,
    "start_time": "2021-11-16T10:56:49.174Z"
   },
   {
    "duration": 4,
    "start_time": "2021-11-16T10:56:49.414Z"
   },
   {
    "duration": 3,
    "start_time": "2021-11-16T10:56:49.680Z"
   },
   {
    "duration": 3,
    "start_time": "2021-11-16T10:56:50.370Z"
   },
   {
    "duration": 114,
    "start_time": "2021-11-16T10:59:34.518Z"
   },
   {
    "duration": 3,
    "start_time": "2021-11-16T11:01:41.201Z"
   },
   {
    "duration": 116,
    "start_time": "2021-11-16T11:01:48.754Z"
   },
   {
    "duration": 3,
    "start_time": "2021-11-16T11:02:16.685Z"
   },
   {
    "duration": 3,
    "start_time": "2021-11-16T11:02:19.479Z"
   },
   {
    "duration": 3,
    "start_time": "2021-11-16T11:02:47.067Z"
   },
   {
    "duration": 3,
    "start_time": "2021-11-16T11:02:49.353Z"
   },
   {
    "duration": 3,
    "start_time": "2021-11-16T11:03:07.835Z"
   },
   {
    "duration": 3,
    "start_time": "2021-11-16T11:03:07.953Z"
   },
   {
    "duration": 112,
    "start_time": "2021-11-16T11:07:52.072Z"
   },
   {
    "duration": 187,
    "start_time": "2021-11-16T11:09:23.468Z"
   },
   {
    "duration": 4,
    "start_time": "2021-11-16T11:10:01.455Z"
   },
   {
    "duration": 3,
    "start_time": "2021-11-16T11:10:05.069Z"
   },
   {
    "duration": 4,
    "start_time": "2021-11-16T11:10:13.376Z"
   },
   {
    "duration": 3,
    "start_time": "2021-11-16T11:10:14.434Z"
   },
   {
    "duration": 3,
    "start_time": "2021-11-16T11:10:22.853Z"
   },
   {
    "duration": 4,
    "start_time": "2021-11-16T11:27:29.279Z"
   },
   {
    "duration": 4,
    "start_time": "2021-11-16T11:29:08.919Z"
   },
   {
    "duration": 118,
    "start_time": "2021-11-16T11:29:46.703Z"
   },
   {
    "duration": 437,
    "start_time": "2021-11-16T11:36:02.181Z"
   },
   {
    "duration": 157,
    "start_time": "2021-11-16T11:36:14.388Z"
   },
   {
    "duration": 207,
    "start_time": "2021-11-16T11:47:15.898Z"
   },
   {
    "duration": 3,
    "start_time": "2021-11-16T11:53:52.092Z"
   },
   {
    "duration": 3,
    "start_time": "2021-11-16T11:53:52.236Z"
   },
   {
    "duration": 3,
    "start_time": "2021-11-16T11:59:12.005Z"
   },
   {
    "duration": 112,
    "start_time": "2021-11-16T12:00:33.446Z"
   },
   {
    "duration": 3,
    "start_time": "2021-11-16T12:02:14.453Z"
   },
   {
    "duration": 3,
    "start_time": "2021-11-16T12:02:39.512Z"
   },
   {
    "duration": 106,
    "start_time": "2021-11-16T12:03:03.460Z"
   },
   {
    "duration": 3,
    "start_time": "2021-11-17T20:37:21.139Z"
   },
   {
    "duration": 3,
    "start_time": "2021-11-17T20:37:22.229Z"
   },
   {
    "duration": 3,
    "start_time": "2021-11-17T20:38:38.806Z"
   },
   {
    "duration": 3,
    "start_time": "2021-11-17T20:38:41.958Z"
   },
   {
    "duration": 3,
    "start_time": "2021-11-17T20:43:46.551Z"
   },
   {
    "duration": 4,
    "start_time": "2021-11-17T20:58:21.835Z"
   },
   {
    "duration": 3,
    "start_time": "2021-11-17T20:59:21.872Z"
   },
   {
    "duration": 4,
    "start_time": "2021-11-17T20:59:45.352Z"
   },
   {
    "duration": 4,
    "start_time": "2021-11-17T20:59:49.646Z"
   },
   {
    "duration": 159,
    "start_time": "2021-11-17T21:02:26.949Z"
   },
   {
    "duration": 3,
    "start_time": "2021-11-17T21:03:53.461Z"
   },
   {
    "duration": 3,
    "start_time": "2021-11-17T21:03:53.694Z"
   },
   {
    "duration": 3,
    "start_time": "2021-11-17T21:05:28.145Z"
   },
   {
    "duration": 116,
    "start_time": "2021-11-17T21:05:57.787Z"
   },
   {
    "duration": 3,
    "start_time": "2021-11-17T21:06:37.993Z"
   },
   {
    "duration": 3,
    "start_time": "2021-11-17T21:06:38.261Z"
   },
   {
    "duration": 3,
    "start_time": "2021-11-17T21:11:54.358Z"
   },
   {
    "duration": 3,
    "start_time": "2021-11-17T21:12:43.846Z"
   },
   {
    "duration": 4,
    "start_time": "2021-11-17T21:13:08.773Z"
   },
   {
    "duration": 3,
    "start_time": "2021-11-17T21:14:44.441Z"
   },
   {
    "duration": 3,
    "start_time": "2021-11-17T21:15:42.059Z"
   },
   {
    "duration": 4,
    "start_time": "2021-11-17T21:15:51.995Z"
   },
   {
    "duration": 3,
    "start_time": "2021-11-17T21:15:53.923Z"
   },
   {
    "duration": 3,
    "start_time": "2021-11-17T21:15:55.282Z"
   },
   {
    "duration": 3,
    "start_time": "2021-11-17T21:16:28.492Z"
   },
   {
    "duration": 3,
    "start_time": "2021-11-17T21:16:32.603Z"
   },
   {
    "duration": 3,
    "start_time": "2021-11-17T21:17:06.941Z"
   },
   {
    "duration": 98,
    "start_time": "2021-11-17T21:18:05.733Z"
   },
   {
    "duration": 4,
    "start_time": "2021-11-17T21:21:35.255Z"
   },
   {
    "duration": 3,
    "start_time": "2021-11-17T21:21:37.804Z"
   },
   {
    "duration": 4,
    "start_time": "2021-11-17T21:23:06.071Z"
   },
   {
    "duration": 3,
    "start_time": "2021-11-17T21:23:24.799Z"
   },
   {
    "duration": 3,
    "start_time": "2021-11-17T21:23:32.591Z"
   },
   {
    "duration": 98,
    "start_time": "2021-11-17T21:28:31.559Z"
   },
   {
    "duration": 3,
    "start_time": "2021-11-17T21:28:45.448Z"
   },
   {
    "duration": 3,
    "start_time": "2021-11-17T21:29:17.303Z"
   },
   {
    "duration": 3,
    "start_time": "2021-11-17T21:29:29.617Z"
   },
   {
    "duration": 3,
    "start_time": "2021-11-17T21:29:32.681Z"
   },
   {
    "duration": 3,
    "start_time": "2021-11-17T21:36:11.474Z"
   },
   {
    "duration": 3,
    "start_time": "2021-11-17T21:36:14.791Z"
   },
   {
    "duration": 3,
    "start_time": "2021-11-17T21:36:53.943Z"
   },
   {
    "duration": 3,
    "start_time": "2021-11-17T21:36:56.165Z"
   },
   {
    "duration": 4,
    "start_time": "2021-11-17T21:37:16.590Z"
   },
   {
    "duration": 3,
    "start_time": "2021-11-17T21:37:22.702Z"
   },
   {
    "duration": 4,
    "start_time": "2021-11-17T21:38:03.479Z"
   },
   {
    "duration": 3,
    "start_time": "2021-11-17T21:38:08.601Z"
   },
   {
    "duration": 3,
    "start_time": "2021-11-17T21:38:12.928Z"
   },
   {
    "duration": 3,
    "start_time": "2021-11-17T21:38:48.896Z"
   },
   {
    "duration": 2,
    "start_time": "2021-11-17T21:38:49.171Z"
   },
   {
    "duration": 4,
    "start_time": "2021-11-17T21:39:57.889Z"
   },
   {
    "duration": 3,
    "start_time": "2021-11-17T21:39:58.057Z"
   },
   {
    "duration": 3,
    "start_time": "2021-11-17T21:41:20.108Z"
   },
   {
    "duration": 3,
    "start_time": "2021-11-17T21:41:20.629Z"
   },
   {
    "duration": 3,
    "start_time": "2021-11-17T21:42:49.136Z"
   },
   {
    "duration": 3,
    "start_time": "2021-11-17T21:43:15.137Z"
   },
   {
    "duration": 4,
    "start_time": "2021-11-17T21:43:16.766Z"
   },
   {
    "duration": 4,
    "start_time": "2021-11-17T21:43:31.711Z"
   },
   {
    "duration": 3,
    "start_time": "2021-11-17T21:43:36.312Z"
   },
   {
    "duration": 4,
    "start_time": "2021-11-17T21:45:08.825Z"
   },
   {
    "duration": 4,
    "start_time": "2021-11-17T21:45:10.119Z"
   },
   {
    "duration": 4,
    "start_time": "2021-11-17T21:45:13.748Z"
   },
   {
    "duration": 3,
    "start_time": "2021-11-17T21:45:22.219Z"
   },
   {
    "duration": 3,
    "start_time": "2021-11-17T21:45:33.412Z"
   },
   {
    "duration": 2,
    "start_time": "2021-11-17T21:46:01.885Z"
   },
   {
    "duration": 3,
    "start_time": "2021-11-17T21:46:03.628Z"
   },
   {
    "duration": 107,
    "start_time": "2021-11-17T21:47:32.512Z"
   },
   {
    "duration": 103,
    "start_time": "2021-11-17T21:50:36.243Z"
   },
   {
    "duration": 3,
    "start_time": "2021-11-18T06:28:31.440Z"
   },
   {
    "duration": 3,
    "start_time": "2021-11-18T06:29:00.168Z"
   },
   {
    "duration": 3,
    "start_time": "2021-11-18T06:31:27.008Z"
   },
   {
    "duration": 2,
    "start_time": "2021-11-18T06:35:34.288Z"
   },
   {
    "duration": 2,
    "start_time": "2021-11-18T06:38:04.527Z"
   },
   {
    "duration": 490,
    "start_time": "2024-10-26T18:32:18.279Z"
   },
   {
    "duration": 2277,
    "start_time": "2024-10-26T18:32:50.347Z"
   },
   {
    "duration": 93,
    "start_time": "2024-10-26T18:32:53.265Z"
   },
   {
    "duration": 10,
    "start_time": "2024-10-26T18:33:20.341Z"
   },
   {
    "duration": 16,
    "start_time": "2024-10-26T18:33:43.362Z"
   },
   {
    "duration": 78,
    "start_time": "2024-10-26T18:36:24.236Z"
   },
   {
    "duration": 7,
    "start_time": "2024-10-26T18:36:27.558Z"
   },
   {
    "duration": 14,
    "start_time": "2024-10-26T18:36:48.991Z"
   },
   {
    "duration": 56,
    "start_time": "2024-10-26T18:46:51.976Z"
   },
   {
    "duration": 20,
    "start_time": "2024-10-26T18:46:53.974Z"
   },
   {
    "duration": 19,
    "start_time": "2024-10-26T18:47:14.122Z"
   },
   {
    "duration": 20,
    "start_time": "2024-10-26T18:47:42.041Z"
   },
   {
    "duration": 25,
    "start_time": "2024-10-26T18:48:10.082Z"
   },
   {
    "duration": 71,
    "start_time": "2024-10-26T18:56:36.593Z"
   },
   {
    "duration": 14,
    "start_time": "2024-10-26T18:56:47.742Z"
   },
   {
    "duration": 9,
    "start_time": "2024-10-26T18:56:57.638Z"
   },
   {
    "duration": 8,
    "start_time": "2024-10-26T18:57:00.568Z"
   },
   {
    "duration": 8,
    "start_time": "2024-10-26T18:57:50.952Z"
   },
   {
    "duration": 10,
    "start_time": "2024-10-26T18:59:07.085Z"
   },
   {
    "duration": 9,
    "start_time": "2024-10-26T18:59:08.941Z"
   },
   {
    "duration": 9,
    "start_time": "2024-10-26T18:59:33.579Z"
   },
   {
    "duration": 14,
    "start_time": "2024-10-26T19:03:04.264Z"
   },
   {
    "duration": 20,
    "start_time": "2024-10-26T19:03:25.422Z"
   },
   {
    "duration": 7,
    "start_time": "2024-10-26T19:04:47.715Z"
   },
   {
    "duration": 231,
    "start_time": "2024-10-26T19:04:55.693Z"
   },
   {
    "duration": 7,
    "start_time": "2024-10-26T19:05:05.818Z"
   },
   {
    "duration": 25,
    "start_time": "2024-10-26T19:09:56.045Z"
   },
   {
    "duration": 4,
    "start_time": "2024-10-26T19:18:38.789Z"
   },
   {
    "duration": 13,
    "start_time": "2024-10-26T19:19:31.335Z"
   },
   {
    "duration": 5,
    "start_time": "2024-10-26T19:19:57.772Z"
   },
   {
    "duration": 4,
    "start_time": "2024-10-26T19:21:12.840Z"
   },
   {
    "duration": 16,
    "start_time": "2024-10-26T19:22:28.040Z"
   },
   {
    "duration": 8,
    "start_time": "2024-10-26T19:23:24.267Z"
   },
   {
    "duration": 9,
    "start_time": "2024-10-26T19:23:35.315Z"
   },
   {
    "duration": 14,
    "start_time": "2024-10-26T19:33:29.352Z"
   },
   {
    "duration": 20,
    "start_time": "2024-10-26T19:33:37.402Z"
   },
   {
    "duration": 5,
    "start_time": "2024-10-26T19:33:43.618Z"
   },
   {
    "duration": 434,
    "start_time": "2024-10-26T19:34:20.723Z"
   },
   {
    "duration": 5,
    "start_time": "2024-10-26T19:34:42.784Z"
   },
   {
    "duration": 3,
    "start_time": "2024-10-26T19:36:12.531Z"
   },
   {
    "duration": 7,
    "start_time": "2024-10-26T19:36:28.259Z"
   },
   {
    "duration": 44,
    "start_time": "2024-10-26T19:37:08.582Z"
   },
   {
    "duration": 6,
    "start_time": "2024-10-26T19:37:16.453Z"
   },
   {
    "duration": 10,
    "start_time": "2024-10-26T19:37:44.970Z"
   },
   {
    "duration": 4,
    "start_time": "2024-10-26T19:42:18.616Z"
   },
   {
    "duration": 270,
    "start_time": "2024-10-26T19:42:59.392Z"
   },
   {
    "duration": 7,
    "start_time": "2024-10-26T19:55:17.209Z"
   },
   {
    "duration": 25,
    "start_time": "2024-10-26T19:55:33.800Z"
   },
   {
    "duration": 24,
    "start_time": "2024-10-26T19:56:55.650Z"
   },
   {
    "duration": 5,
    "start_time": "2024-10-26T19:57:13.055Z"
   },
   {
    "duration": 16,
    "start_time": "2024-10-26T19:59:16.200Z"
   },
   {
    "duration": 8,
    "start_time": "2024-10-26T19:59:24.128Z"
   },
   {
    "duration": 12,
    "start_time": "2024-10-26T19:59:41.328Z"
   },
   {
    "duration": 11,
    "start_time": "2024-10-26T20:00:15.145Z"
   },
   {
    "duration": 14,
    "start_time": "2024-10-26T20:00:20.263Z"
   },
   {
    "duration": 10,
    "start_time": "2024-10-26T20:00:29.197Z"
   },
   {
    "duration": 751,
    "start_time": "2024-10-26T20:00:47.212Z"
   },
   {
    "duration": 8,
    "start_time": "2024-10-26T20:00:47.965Z"
   },
   {
    "duration": 10,
    "start_time": "2024-10-26T20:00:47.975Z"
   },
   {
    "duration": 237,
    "start_time": "2024-10-26T20:00:47.988Z"
   },
   {
    "duration": 0,
    "start_time": "2024-10-26T20:00:48.228Z"
   },
   {
    "duration": 0,
    "start_time": "2024-10-26T20:00:48.228Z"
   },
   {
    "duration": 0,
    "start_time": "2024-10-26T20:00:48.229Z"
   },
   {
    "duration": 0,
    "start_time": "2024-10-26T20:00:48.230Z"
   },
   {
    "duration": 0,
    "start_time": "2024-10-26T20:00:48.231Z"
   },
   {
    "duration": 0,
    "start_time": "2024-10-26T20:00:48.233Z"
   },
   {
    "duration": 0,
    "start_time": "2024-10-26T20:00:48.234Z"
   },
   {
    "duration": 0,
    "start_time": "2024-10-26T20:00:48.237Z"
   },
   {
    "duration": 0,
    "start_time": "2024-10-26T20:00:48.239Z"
   },
   {
    "duration": 0,
    "start_time": "2024-10-26T20:00:48.240Z"
   },
   {
    "duration": 0,
    "start_time": "2024-10-26T20:00:48.242Z"
   },
   {
    "duration": 0,
    "start_time": "2024-10-26T20:00:48.243Z"
   },
   {
    "duration": 0,
    "start_time": "2024-10-26T20:00:48.245Z"
   },
   {
    "duration": 0,
    "start_time": "2024-10-26T20:00:48.246Z"
   },
   {
    "duration": 0,
    "start_time": "2024-10-26T20:00:48.248Z"
   },
   {
    "duration": 0,
    "start_time": "2024-10-26T20:00:48.250Z"
   },
   {
    "duration": 0,
    "start_time": "2024-10-26T20:00:48.252Z"
   },
   {
    "duration": 0,
    "start_time": "2024-10-26T20:00:48.253Z"
   },
   {
    "duration": 0,
    "start_time": "2024-10-26T20:00:48.254Z"
   },
   {
    "duration": 0,
    "start_time": "2024-10-26T20:00:48.255Z"
   },
   {
    "duration": 0,
    "start_time": "2024-10-26T20:00:48.256Z"
   },
   {
    "duration": 0,
    "start_time": "2024-10-26T20:00:48.257Z"
   },
   {
    "duration": 0,
    "start_time": "2024-10-26T20:00:48.259Z"
   },
   {
    "duration": 0,
    "start_time": "2024-10-26T20:00:48.259Z"
   },
   {
    "duration": 0,
    "start_time": "2024-10-26T20:00:48.260Z"
   },
   {
    "duration": 0,
    "start_time": "2024-10-26T20:00:48.261Z"
   },
   {
    "duration": 0,
    "start_time": "2024-10-26T20:00:48.262Z"
   },
   {
    "duration": 0,
    "start_time": "2024-10-26T20:00:48.263Z"
   },
   {
    "duration": 8,
    "start_time": "2024-10-26T20:00:58.159Z"
   },
   {
    "duration": 13,
    "start_time": "2024-10-26T20:01:29.894Z"
   },
   {
    "duration": 227,
    "start_time": "2024-10-26T20:01:38.554Z"
   },
   {
    "duration": 3,
    "start_time": "2024-10-26T20:02:02.181Z"
   },
   {
    "duration": 5,
    "start_time": "2024-10-26T20:03:36.127Z"
   },
   {
    "duration": 12,
    "start_time": "2024-10-26T20:03:52.227Z"
   },
   {
    "duration": 26,
    "start_time": "2024-10-26T20:08:40.303Z"
   },
   {
    "duration": 19,
    "start_time": "2024-10-26T20:08:48.354Z"
   },
   {
    "duration": 7,
    "start_time": "2024-10-26T22:23:59.154Z"
   },
   {
    "duration": 159,
    "start_time": "2024-10-26T22:24:27.313Z"
   },
   {
    "duration": 16,
    "start_time": "2024-10-26T22:24:40.393Z"
   },
   {
    "duration": 2556,
    "start_time": "2024-10-26T22:24:46.574Z"
   },
   {
    "duration": 221,
    "start_time": "2024-10-26T22:24:49.192Z"
   },
   {
    "duration": 30,
    "start_time": "2024-10-26T22:24:55.031Z"
   },
   {
    "duration": 737,
    "start_time": "2024-10-26T22:25:11.846Z"
   },
   {
    "duration": 152,
    "start_time": "2024-10-26T22:25:12.585Z"
   },
   {
    "duration": 10,
    "start_time": "2024-10-26T22:25:12.739Z"
   },
   {
    "duration": 37,
    "start_time": "2024-10-26T22:25:12.751Z"
   },
   {
    "duration": 7,
    "start_time": "2024-10-26T22:25:12.791Z"
   },
   {
    "duration": 5,
    "start_time": "2024-10-26T22:25:12.800Z"
   },
   {
    "duration": 15,
    "start_time": "2024-10-26T22:25:12.807Z"
   },
   {
    "duration": 11,
    "start_time": "2024-10-26T22:25:12.823Z"
   },
   {
    "duration": 43,
    "start_time": "2024-10-26T22:25:12.836Z"
   },
   {
    "duration": 20,
    "start_time": "2024-10-26T22:25:12.881Z"
   },
   {
    "duration": 2,
    "start_time": "2024-10-26T22:25:12.903Z"
   },
   {
    "duration": 2,
    "start_time": "2024-10-26T22:25:12.908Z"
   },
   {
    "duration": 3,
    "start_time": "2024-10-26T22:25:12.911Z"
   },
   {
    "duration": 2,
    "start_time": "2024-10-26T22:25:12.917Z"
   },
   {
    "duration": 2,
    "start_time": "2024-10-26T22:25:12.921Z"
   },
   {
    "duration": 3,
    "start_time": "2024-10-26T22:25:12.924Z"
   },
   {
    "duration": 2,
    "start_time": "2024-10-26T22:25:12.928Z"
   },
   {
    "duration": 41,
    "start_time": "2024-10-26T22:25:12.931Z"
   },
   {
    "duration": 3,
    "start_time": "2024-10-26T22:25:12.974Z"
   },
   {
    "duration": 2,
    "start_time": "2024-10-26T22:25:12.979Z"
   },
   {
    "duration": 3,
    "start_time": "2024-10-26T22:25:12.983Z"
   },
   {
    "duration": 3,
    "start_time": "2024-10-26T22:25:12.988Z"
   },
   {
    "duration": 2,
    "start_time": "2024-10-26T22:25:12.993Z"
   },
   {
    "duration": 2,
    "start_time": "2024-10-26T22:25:12.997Z"
   },
   {
    "duration": 3,
    "start_time": "2024-10-26T22:25:13.001Z"
   },
   {
    "duration": 3,
    "start_time": "2024-10-26T22:25:13.005Z"
   },
   {
    "duration": 2,
    "start_time": "2024-10-26T22:25:13.010Z"
   },
   {
    "duration": 3,
    "start_time": "2024-10-26T22:25:13.014Z"
   },
   {
    "duration": 3,
    "start_time": "2024-10-26T22:25:13.070Z"
   },
   {
    "duration": 1,
    "start_time": "2024-10-26T22:25:13.075Z"
   },
   {
    "duration": 2,
    "start_time": "2024-10-26T22:25:13.078Z"
   },
   {
    "duration": 2,
    "start_time": "2024-10-26T22:25:13.082Z"
   },
   {
    "duration": 38,
    "start_time": "2024-10-26T22:26:14.964Z"
   },
   {
    "duration": 12,
    "start_time": "2024-10-26T22:26:48.953Z"
   },
   {
    "duration": 13,
    "start_time": "2024-10-26T22:26:55.571Z"
   },
   {
    "duration": 53,
    "start_time": "2024-10-26T22:33:26.695Z"
   },
   {
    "duration": 14,
    "start_time": "2024-10-26T22:34:17.110Z"
   },
   {
    "duration": 17,
    "start_time": "2024-10-26T22:36:18.402Z"
   },
   {
    "duration": 21,
    "start_time": "2024-10-26T22:36:32.218Z"
   },
   {
    "duration": 3,
    "start_time": "2024-10-26T22:47:37.155Z"
   },
   {
    "duration": 8,
    "start_time": "2024-10-26T22:48:02.170Z"
   },
   {
    "duration": 9,
    "start_time": "2024-10-26T22:48:28.587Z"
   },
   {
    "duration": 8,
    "start_time": "2024-10-26T22:48:44.868Z"
   },
   {
    "duration": 8,
    "start_time": "2024-10-26T22:49:08.487Z"
   },
   {
    "duration": 709,
    "start_time": "2024-10-26T22:49:25.346Z"
   },
   {
    "duration": 157,
    "start_time": "2024-10-26T22:49:26.057Z"
   },
   {
    "duration": 9,
    "start_time": "2024-10-26T22:49:26.216Z"
   },
   {
    "duration": 24,
    "start_time": "2024-10-26T22:49:26.228Z"
   },
   {
    "duration": 17,
    "start_time": "2024-10-26T22:49:26.254Z"
   },
   {
    "duration": 5,
    "start_time": "2024-10-26T22:49:26.273Z"
   },
   {
    "duration": 15,
    "start_time": "2024-10-26T22:49:26.279Z"
   },
   {
    "duration": 8,
    "start_time": "2024-10-26T22:49:26.296Z"
   },
   {
    "duration": 9,
    "start_time": "2024-10-26T22:49:26.305Z"
   },
   {
    "duration": 13,
    "start_time": "2024-10-26T22:49:26.318Z"
   },
   {
    "duration": 52,
    "start_time": "2024-10-26T22:49:26.371Z"
   },
   {
    "duration": 6,
    "start_time": "2024-10-26T22:49:26.426Z"
   },
   {
    "duration": 45,
    "start_time": "2024-10-26T22:49:26.434Z"
   },
   {
    "duration": 7,
    "start_time": "2024-10-26T22:49:26.481Z"
   },
   {
    "duration": 3,
    "start_time": "2024-10-26T22:49:26.489Z"
   },
   {
    "duration": 3,
    "start_time": "2024-10-26T22:49:26.493Z"
   },
   {
    "duration": 2,
    "start_time": "2024-10-26T22:49:26.497Z"
   },
   {
    "duration": 2,
    "start_time": "2024-10-26T22:49:26.501Z"
   },
   {
    "duration": 2,
    "start_time": "2024-10-26T22:49:26.505Z"
   },
   {
    "duration": 2,
    "start_time": "2024-10-26T22:49:26.509Z"
   },
   {
    "duration": 2,
    "start_time": "2024-10-26T22:49:26.513Z"
   },
   {
    "duration": 2,
    "start_time": "2024-10-26T22:49:26.517Z"
   },
   {
    "duration": 3,
    "start_time": "2024-10-26T22:49:26.521Z"
   },
   {
    "duration": 48,
    "start_time": "2024-10-26T22:49:26.525Z"
   },
   {
    "duration": 2,
    "start_time": "2024-10-26T22:49:26.575Z"
   },
   {
    "duration": 3,
    "start_time": "2024-10-26T22:49:26.579Z"
   },
   {
    "duration": 2,
    "start_time": "2024-10-26T22:49:26.584Z"
   },
   {
    "duration": 2,
    "start_time": "2024-10-26T22:49:26.590Z"
   },
   {
    "duration": 2,
    "start_time": "2024-10-26T22:49:26.594Z"
   },
   {
    "duration": 2,
    "start_time": "2024-10-26T22:49:26.598Z"
   },
   {
    "duration": 2,
    "start_time": "2024-10-26T22:49:26.602Z"
   },
   {
    "duration": 2,
    "start_time": "2024-10-26T22:49:26.606Z"
   },
   {
    "duration": 2,
    "start_time": "2024-10-26T22:49:26.610Z"
   },
   {
    "duration": 2,
    "start_time": "2024-10-26T22:49:26.614Z"
   },
   {
    "duration": 8,
    "start_time": "2024-10-26T22:49:56.097Z"
   },
   {
    "duration": 11,
    "start_time": "2024-10-26T22:51:16.065Z"
   },
   {
    "duration": 14,
    "start_time": "2024-10-26T22:51:21.567Z"
   },
   {
    "duration": 736,
    "start_time": "2024-10-26T22:51:46.831Z"
   },
   {
    "duration": 153,
    "start_time": "2024-10-26T22:51:47.569Z"
   },
   {
    "duration": 10,
    "start_time": "2024-10-26T22:51:47.723Z"
   },
   {
    "duration": 36,
    "start_time": "2024-10-26T22:51:47.734Z"
   },
   {
    "duration": 7,
    "start_time": "2024-10-26T22:51:47.772Z"
   },
   {
    "duration": 5,
    "start_time": "2024-10-26T22:51:47.781Z"
   },
   {
    "duration": 15,
    "start_time": "2024-10-26T22:51:47.787Z"
   },
   {
    "duration": 10,
    "start_time": "2024-10-26T22:51:47.803Z"
   },
   {
    "duration": 8,
    "start_time": "2024-10-26T22:51:47.815Z"
   },
   {
    "duration": 48,
    "start_time": "2024-10-26T22:51:47.825Z"
   },
   {
    "duration": 52,
    "start_time": "2024-10-26T22:51:47.875Z"
   },
   {
    "duration": 9,
    "start_time": "2024-10-26T22:51:47.928Z"
   },
   {
    "duration": 49,
    "start_time": "2024-10-26T22:51:47.939Z"
   },
   {
    "duration": 9,
    "start_time": "2024-10-26T22:51:47.992Z"
   },
   {
    "duration": 2,
    "start_time": "2024-10-26T22:51:48.003Z"
   },
   {
    "duration": 2,
    "start_time": "2024-10-26T22:51:48.006Z"
   },
   {
    "duration": 2,
    "start_time": "2024-10-26T22:51:48.010Z"
   },
   {
    "duration": 2,
    "start_time": "2024-10-26T22:51:48.014Z"
   },
   {
    "duration": 2,
    "start_time": "2024-10-26T22:51:48.018Z"
   },
   {
    "duration": 3,
    "start_time": "2024-10-26T22:51:48.021Z"
   },
   {
    "duration": 2,
    "start_time": "2024-10-26T22:51:48.025Z"
   },
   {
    "duration": 3,
    "start_time": "2024-10-26T22:51:48.029Z"
   },
   {
    "duration": 2,
    "start_time": "2024-10-26T22:51:48.070Z"
   },
   {
    "duration": 2,
    "start_time": "2024-10-26T22:51:48.074Z"
   },
   {
    "duration": 2,
    "start_time": "2024-10-26T22:51:48.078Z"
   },
   {
    "duration": 2,
    "start_time": "2024-10-26T22:51:48.082Z"
   },
   {
    "duration": 2,
    "start_time": "2024-10-26T22:51:48.086Z"
   },
   {
    "duration": 3,
    "start_time": "2024-10-26T22:51:48.089Z"
   },
   {
    "duration": 3,
    "start_time": "2024-10-26T22:51:48.093Z"
   },
   {
    "duration": 3,
    "start_time": "2024-10-26T22:51:48.097Z"
   },
   {
    "duration": 2,
    "start_time": "2024-10-26T22:51:48.102Z"
   },
   {
    "duration": 2,
    "start_time": "2024-10-26T22:51:48.105Z"
   },
   {
    "duration": 3,
    "start_time": "2024-10-26T22:51:48.109Z"
   },
   {
    "duration": 3,
    "start_time": "2024-10-26T22:51:48.113Z"
   },
   {
    "duration": 157,
    "start_time": "2024-10-26T23:55:43.724Z"
   },
   {
    "duration": 2438,
    "start_time": "2024-10-26T23:55:57.318Z"
   },
   {
    "duration": 224,
    "start_time": "2024-10-26T23:55:59.758Z"
   },
   {
    "duration": 10,
    "start_time": "2024-10-26T23:55:59.984Z"
   },
   {
    "duration": 28,
    "start_time": "2024-10-26T23:55:59.996Z"
   },
   {
    "duration": 8,
    "start_time": "2024-10-26T23:56:00.026Z"
   },
   {
    "duration": 6,
    "start_time": "2024-10-26T23:56:00.036Z"
   },
   {
    "duration": 40,
    "start_time": "2024-10-26T23:56:00.044Z"
   },
   {
    "duration": 9,
    "start_time": "2024-10-26T23:56:00.086Z"
   },
   {
    "duration": 8,
    "start_time": "2024-10-26T23:56:00.096Z"
   },
   {
    "duration": 13,
    "start_time": "2024-10-26T23:56:00.109Z"
   },
   {
    "duration": 85,
    "start_time": "2024-10-26T23:56:00.124Z"
   },
   {
    "duration": 10,
    "start_time": "2024-10-26T23:56:00.210Z"
   },
   {
    "duration": 26,
    "start_time": "2024-10-26T23:56:00.222Z"
   },
   {
    "duration": 30,
    "start_time": "2024-10-26T23:56:00.249Z"
   },
   {
    "duration": 28,
    "start_time": "2024-10-26T23:56:00.280Z"
   },
   {
    "duration": 3,
    "start_time": "2024-10-26T23:56:00.310Z"
   },
   {
    "duration": 2,
    "start_time": "2024-10-26T23:56:00.315Z"
   },
   {
    "duration": 2,
    "start_time": "2024-10-26T23:56:00.319Z"
   },
   {
    "duration": 3,
    "start_time": "2024-10-26T23:56:00.323Z"
   },
   {
    "duration": 3,
    "start_time": "2024-10-26T23:56:00.327Z"
   },
   {
    "duration": 2,
    "start_time": "2024-10-26T23:56:00.331Z"
   },
   {
    "duration": 36,
    "start_time": "2024-10-26T23:56:00.335Z"
   },
   {
    "duration": 2,
    "start_time": "2024-10-26T23:56:00.372Z"
   },
   {
    "duration": 2,
    "start_time": "2024-10-26T23:56:00.376Z"
   },
   {
    "duration": 2,
    "start_time": "2024-10-26T23:56:00.380Z"
   },
   {
    "duration": 2,
    "start_time": "2024-10-26T23:56:00.384Z"
   },
   {
    "duration": 3,
    "start_time": "2024-10-26T23:56:00.388Z"
   },
   {
    "duration": 2,
    "start_time": "2024-10-26T23:56:00.394Z"
   },
   {
    "duration": 3,
    "start_time": "2024-10-26T23:56:00.398Z"
   },
   {
    "duration": 3,
    "start_time": "2024-10-26T23:56:00.402Z"
   },
   {
    "duration": 3,
    "start_time": "2024-10-26T23:56:00.406Z"
   },
   {
    "duration": 1,
    "start_time": "2024-10-26T23:56:00.411Z"
   },
   {
    "duration": 3,
    "start_time": "2024-10-26T23:56:00.469Z"
   },
   {
    "duration": 3,
    "start_time": "2024-10-26T23:56:00.474Z"
   },
   {
    "duration": 8,
    "start_time": "2024-10-26T23:56:26.899Z"
   },
   {
    "duration": 210,
    "start_time": "2024-10-27T00:00:24.485Z"
   },
   {
    "duration": 10,
    "start_time": "2024-10-27T00:00:35.201Z"
   },
   {
    "duration": 59,
    "start_time": "2024-10-27T00:01:36.127Z"
   },
   {
    "duration": 27,
    "start_time": "2024-10-27T00:01:55.896Z"
   },
   {
    "duration": 53,
    "start_time": "2024-10-27T00:02:12.804Z"
   },
   {
    "duration": 10,
    "start_time": "2024-10-27T00:02:40.732Z"
   },
   {
    "duration": 16,
    "start_time": "2024-10-27T00:11:30.009Z"
   },
   {
    "duration": 19,
    "start_time": "2024-10-27T00:11:45.197Z"
   },
   {
    "duration": 8,
    "start_time": "2024-10-27T00:12:24.966Z"
   },
   {
    "duration": 715,
    "start_time": "2024-10-27T00:13:33.247Z"
   },
   {
    "duration": 155,
    "start_time": "2024-10-27T00:13:33.963Z"
   },
   {
    "duration": 10,
    "start_time": "2024-10-27T00:13:34.119Z"
   },
   {
    "duration": 28,
    "start_time": "2024-10-27T00:13:34.131Z"
   },
   {
    "duration": 7,
    "start_time": "2024-10-27T00:13:34.169Z"
   },
   {
    "duration": 5,
    "start_time": "2024-10-27T00:13:34.178Z"
   },
   {
    "duration": 18,
    "start_time": "2024-10-27T00:13:34.185Z"
   },
   {
    "duration": 9,
    "start_time": "2024-10-27T00:13:34.204Z"
   },
   {
    "duration": 9,
    "start_time": "2024-10-27T00:13:34.216Z"
   },
   {
    "duration": 52,
    "start_time": "2024-10-27T00:13:34.229Z"
   },
   {
    "duration": 53,
    "start_time": "2024-10-27T00:13:34.282Z"
   },
   {
    "duration": 10,
    "start_time": "2024-10-27T00:13:34.337Z"
   },
   {
    "duration": 45,
    "start_time": "2024-10-27T00:13:34.349Z"
   },
   {
    "duration": 11,
    "start_time": "2024-10-27T00:13:34.396Z"
   },
   {
    "duration": 30,
    "start_time": "2024-10-27T00:13:34.409Z"
   },
   {
    "duration": 35,
    "start_time": "2024-10-27T00:13:34.441Z"
   },
   {
    "duration": 10,
    "start_time": "2024-10-27T00:13:34.478Z"
   },
   {
    "duration": 59,
    "start_time": "2024-10-27T00:13:34.490Z"
   },
   {
    "duration": 9,
    "start_time": "2024-10-27T00:13:34.571Z"
   },
   {
    "duration": 22,
    "start_time": "2024-10-27T00:13:34.581Z"
   },
   {
    "duration": 8,
    "start_time": "2024-10-27T00:13:34.604Z"
   },
   {
    "duration": 2,
    "start_time": "2024-10-27T00:13:34.615Z"
   },
   {
    "duration": 2,
    "start_time": "2024-10-27T00:13:34.619Z"
   },
   {
    "duration": 3,
    "start_time": "2024-10-27T00:13:34.623Z"
   },
   {
    "duration": 3,
    "start_time": "2024-10-27T00:13:34.627Z"
   },
   {
    "duration": 3,
    "start_time": "2024-10-27T00:13:34.632Z"
   },
   {
    "duration": 2,
    "start_time": "2024-10-27T00:13:34.671Z"
   },
   {
    "duration": 2,
    "start_time": "2024-10-27T00:13:34.678Z"
   },
   {
    "duration": 4,
    "start_time": "2024-10-27T00:13:34.681Z"
   },
   {
    "duration": 2,
    "start_time": "2024-10-27T00:13:34.687Z"
   },
   {
    "duration": 3,
    "start_time": "2024-10-27T00:13:34.690Z"
   },
   {
    "duration": 2,
    "start_time": "2024-10-27T00:13:34.695Z"
   },
   {
    "duration": 2,
    "start_time": "2024-10-27T00:13:34.699Z"
   },
   {
    "duration": 3,
    "start_time": "2024-10-27T00:13:34.703Z"
   },
   {
    "duration": 2,
    "start_time": "2024-10-27T00:13:34.708Z"
   },
   {
    "duration": 2,
    "start_time": "2024-10-27T00:13:34.712Z"
   },
   {
    "duration": 8,
    "start_time": "2024-10-27T00:14:34.161Z"
   },
   {
    "duration": 7,
    "start_time": "2024-10-27T00:14:50.519Z"
   },
   {
    "duration": 5,
    "start_time": "2024-10-27T00:15:29.120Z"
   },
   {
    "duration": 5,
    "start_time": "2024-10-27T00:15:47.534Z"
   },
   {
    "duration": 14,
    "start_time": "2024-10-27T00:15:57.639Z"
   },
   {
    "duration": 13,
    "start_time": "2024-10-27T00:16:08.703Z"
   },
   {
    "duration": 16,
    "start_time": "2024-10-27T00:16:47.710Z"
   },
   {
    "duration": 320,
    "start_time": "2024-10-27T00:22:00.018Z"
   },
   {
    "duration": 739,
    "start_time": "2024-10-27T00:22:22.621Z"
   },
   {
    "duration": 155,
    "start_time": "2024-10-27T00:22:23.361Z"
   },
   {
    "duration": 9,
    "start_time": "2024-10-27T00:22:23.517Z"
   },
   {
    "duration": 25,
    "start_time": "2024-10-27T00:22:23.529Z"
   },
   {
    "duration": 15,
    "start_time": "2024-10-27T00:22:23.556Z"
   },
   {
    "duration": 6,
    "start_time": "2024-10-27T00:22:23.573Z"
   },
   {
    "duration": 16,
    "start_time": "2024-10-27T00:22:23.580Z"
   },
   {
    "duration": 9,
    "start_time": "2024-10-27T00:22:23.597Z"
   },
   {
    "duration": 9,
    "start_time": "2024-10-27T00:22:23.607Z"
   },
   {
    "duration": 51,
    "start_time": "2024-10-27T00:22:23.619Z"
   },
   {
    "duration": 59,
    "start_time": "2024-10-27T00:22:23.672Z"
   },
   {
    "duration": 10,
    "start_time": "2024-10-27T00:22:23.733Z"
   },
   {
    "duration": 51,
    "start_time": "2024-10-27T00:22:23.745Z"
   },
   {
    "duration": 10,
    "start_time": "2024-10-27T00:22:23.798Z"
   },
   {
    "duration": 27,
    "start_time": "2024-10-27T00:22:23.809Z"
   },
   {
    "duration": 32,
    "start_time": "2024-10-27T00:22:23.838Z"
   },
   {
    "duration": 10,
    "start_time": "2024-10-27T00:22:23.871Z"
   },
   {
    "duration": 53,
    "start_time": "2024-10-27T00:22:23.883Z"
   },
   {
    "duration": 9,
    "start_time": "2024-10-27T00:22:23.938Z"
   },
   {
    "duration": 39,
    "start_time": "2024-10-27T00:22:23.949Z"
   },
   {
    "duration": 9,
    "start_time": "2024-10-27T00:22:23.990Z"
   },
   {
    "duration": 18,
    "start_time": "2024-10-27T00:22:24.001Z"
   },
   {
    "duration": 3,
    "start_time": "2024-10-27T00:22:24.020Z"
   },
   {
    "duration": 2,
    "start_time": "2024-10-27T00:22:24.025Z"
   },
   {
    "duration": 2,
    "start_time": "2024-10-27T00:22:24.029Z"
   },
   {
    "duration": 2,
    "start_time": "2024-10-27T00:22:24.034Z"
   },
   {
    "duration": 34,
    "start_time": "2024-10-27T00:22:24.037Z"
   },
   {
    "duration": 2,
    "start_time": "2024-10-27T00:22:24.074Z"
   },
   {
    "duration": 2,
    "start_time": "2024-10-27T00:22:24.078Z"
   },
   {
    "duration": 2,
    "start_time": "2024-10-27T00:22:24.081Z"
   },
   {
    "duration": 2,
    "start_time": "2024-10-27T00:22:24.085Z"
   },
   {
    "duration": 2,
    "start_time": "2024-10-27T00:22:24.089Z"
   },
   {
    "duration": 2,
    "start_time": "2024-10-27T00:22:24.092Z"
   },
   {
    "duration": 2,
    "start_time": "2024-10-27T00:22:24.096Z"
   },
   {
    "duration": 2,
    "start_time": "2024-10-27T00:22:24.100Z"
   },
   {
    "duration": 2,
    "start_time": "2024-10-27T00:22:24.104Z"
   },
   {
    "duration": 19,
    "start_time": "2024-10-27T00:22:30.199Z"
   },
   {
    "duration": 25,
    "start_time": "2024-10-27T00:22:51.680Z"
   },
   {
    "duration": 11,
    "start_time": "2024-10-27T00:24:28.329Z"
   },
   {
    "duration": 18,
    "start_time": "2024-10-27T00:28:26.901Z"
   },
   {
    "duration": 8,
    "start_time": "2024-10-27T00:29:25.643Z"
   },
   {
    "duration": 7,
    "start_time": "2024-10-27T00:29:38.627Z"
   },
   {
    "duration": 608,
    "start_time": "2024-10-27T00:31:57.100Z"
   },
   {
    "duration": 717,
    "start_time": "2024-10-27T00:32:49.038Z"
   },
   {
    "duration": 161,
    "start_time": "2024-10-27T00:32:49.757Z"
   },
   {
    "duration": 10,
    "start_time": "2024-10-27T00:32:49.920Z"
   },
   {
    "duration": 26,
    "start_time": "2024-10-27T00:32:49.933Z"
   },
   {
    "duration": 8,
    "start_time": "2024-10-27T00:32:49.969Z"
   },
   {
    "duration": 6,
    "start_time": "2024-10-27T00:32:49.979Z"
   },
   {
    "duration": 14,
    "start_time": "2024-10-27T00:32:49.987Z"
   },
   {
    "duration": 9,
    "start_time": "2024-10-27T00:32:50.003Z"
   },
   {
    "duration": 9,
    "start_time": "2024-10-27T00:32:50.013Z"
   },
   {
    "duration": 49,
    "start_time": "2024-10-27T00:32:50.026Z"
   },
   {
    "duration": 51,
    "start_time": "2024-10-27T00:32:50.077Z"
   },
   {
    "duration": 11,
    "start_time": "2024-10-27T00:32:50.130Z"
   },
   {
    "duration": 45,
    "start_time": "2024-10-27T00:32:50.143Z"
   },
   {
    "duration": 11,
    "start_time": "2024-10-27T00:32:50.190Z"
   },
   {
    "duration": 27,
    "start_time": "2024-10-27T00:32:50.203Z"
   },
   {
    "duration": 8,
    "start_time": "2024-10-27T00:32:50.232Z"
   },
   {
    "duration": 34,
    "start_time": "2024-10-27T00:32:50.241Z"
   },
   {
    "duration": 51,
    "start_time": "2024-10-27T00:32:50.277Z"
   },
   {
    "duration": 9,
    "start_time": "2024-10-27T00:32:50.329Z"
   },
   {
    "duration": 41,
    "start_time": "2024-10-27T00:32:50.340Z"
   },
   {
    "duration": 7,
    "start_time": "2024-10-27T00:32:50.383Z"
   },
   {
    "duration": 23,
    "start_time": "2024-10-27T00:32:50.391Z"
   },
   {
    "duration": 17,
    "start_time": "2024-10-27T00:32:50.415Z"
   },
   {
    "duration": 626,
    "start_time": "2024-10-27T00:32:50.433Z"
   },
   {
    "duration": 0,
    "start_time": "2024-10-27T00:32:51.063Z"
   },
   {
    "duration": 0,
    "start_time": "2024-10-27T00:32:51.064Z"
   },
   {
    "duration": 0,
    "start_time": "2024-10-27T00:32:51.070Z"
   },
   {
    "duration": 0,
    "start_time": "2024-10-27T00:32:51.071Z"
   },
   {
    "duration": 0,
    "start_time": "2024-10-27T00:32:51.072Z"
   },
   {
    "duration": 0,
    "start_time": "2024-10-27T00:32:51.073Z"
   },
   {
    "duration": 0,
    "start_time": "2024-10-27T00:32:51.075Z"
   },
   {
    "duration": 0,
    "start_time": "2024-10-27T00:32:51.076Z"
   },
   {
    "duration": 0,
    "start_time": "2024-10-27T00:32:51.076Z"
   },
   {
    "duration": 0,
    "start_time": "2024-10-27T00:32:51.077Z"
   },
   {
    "duration": 0,
    "start_time": "2024-10-27T00:32:51.078Z"
   },
   {
    "duration": 0,
    "start_time": "2024-10-27T00:32:51.079Z"
   },
   {
    "duration": 19,
    "start_time": "2024-10-27T00:34:13.068Z"
   },
   {
    "duration": 38,
    "start_time": "2024-10-27T00:37:08.655Z"
   },
   {
    "duration": 33,
    "start_time": "2024-10-27T00:37:23.481Z"
   },
   {
    "duration": 44,
    "start_time": "2024-10-27T00:38:05.471Z"
   },
   {
    "duration": 36,
    "start_time": "2024-10-27T00:38:21.053Z"
   },
   {
    "duration": 11,
    "start_time": "2024-10-27T00:41:26.199Z"
   },
   {
    "duration": 18,
    "start_time": "2024-10-27T00:43:47.786Z"
   },
   {
    "duration": 20,
    "start_time": "2024-10-27T00:44:18.495Z"
   },
   {
    "duration": 26,
    "start_time": "2024-10-27T00:44:34.449Z"
   },
   {
    "duration": 26,
    "start_time": "2024-10-27T00:44:43.888Z"
   },
   {
    "duration": 23,
    "start_time": "2024-10-27T00:44:59.106Z"
   },
   {
    "duration": 21,
    "start_time": "2024-10-27T00:45:03.961Z"
   },
   {
    "duration": 194,
    "start_time": "2024-10-27T00:46:49.443Z"
   },
   {
    "duration": 787,
    "start_time": "2024-10-27T00:47:16.592Z"
   },
   {
    "duration": 158,
    "start_time": "2024-10-27T00:47:17.382Z"
   },
   {
    "duration": 10,
    "start_time": "2024-10-27T00:47:17.542Z"
   },
   {
    "duration": 32,
    "start_time": "2024-10-27T00:47:17.554Z"
   },
   {
    "duration": 7,
    "start_time": "2024-10-27T00:47:17.587Z"
   },
   {
    "duration": 5,
    "start_time": "2024-10-27T00:47:17.596Z"
   },
   {
    "duration": 15,
    "start_time": "2024-10-27T00:47:17.603Z"
   },
   {
    "duration": 8,
    "start_time": "2024-10-27T00:47:17.620Z"
   },
   {
    "duration": 41,
    "start_time": "2024-10-27T00:47:17.629Z"
   },
   {
    "duration": 13,
    "start_time": "2024-10-27T00:47:17.673Z"
   },
   {
    "duration": 53,
    "start_time": "2024-10-27T00:47:17.688Z"
   },
   {
    "duration": 29,
    "start_time": "2024-10-27T00:47:17.743Z"
   },
   {
    "duration": 26,
    "start_time": "2024-10-27T00:47:17.774Z"
   },
   {
    "duration": 14,
    "start_time": "2024-10-27T00:47:17.802Z"
   },
   {
    "duration": 27,
    "start_time": "2024-10-27T00:47:17.818Z"
   },
   {
    "duration": 30,
    "start_time": "2024-10-27T00:47:17.846Z"
   },
   {
    "duration": 9,
    "start_time": "2024-10-27T00:47:17.879Z"
   },
   {
    "duration": 52,
    "start_time": "2024-10-27T00:47:17.890Z"
   },
   {
    "duration": 30,
    "start_time": "2024-10-27T00:47:17.943Z"
   },
   {
    "duration": 20,
    "start_time": "2024-10-27T00:47:17.975Z"
   },
   {
    "duration": 6,
    "start_time": "2024-10-27T00:47:17.997Z"
   },
   {
    "duration": 24,
    "start_time": "2024-10-27T00:47:18.006Z"
   },
   {
    "duration": 42,
    "start_time": "2024-10-27T00:47:18.032Z"
   },
   {
    "duration": 400,
    "start_time": "2024-10-27T00:47:18.076Z"
   },
   {
    "duration": 0,
    "start_time": "2024-10-27T00:47:18.478Z"
   },
   {
    "duration": 0,
    "start_time": "2024-10-27T00:47:18.480Z"
   },
   {
    "duration": 0,
    "start_time": "2024-10-27T00:47:18.481Z"
   },
   {
    "duration": 0,
    "start_time": "2024-10-27T00:47:18.482Z"
   },
   {
    "duration": 0,
    "start_time": "2024-10-27T00:47:18.483Z"
   },
   {
    "duration": 0,
    "start_time": "2024-10-27T00:47:18.485Z"
   },
   {
    "duration": 0,
    "start_time": "2024-10-27T00:47:18.486Z"
   },
   {
    "duration": 0,
    "start_time": "2024-10-27T00:47:18.491Z"
   },
   {
    "duration": 0,
    "start_time": "2024-10-27T00:47:18.492Z"
   },
   {
    "duration": 0,
    "start_time": "2024-10-27T00:47:18.493Z"
   },
   {
    "duration": 0,
    "start_time": "2024-10-27T00:47:18.494Z"
   },
   {
    "duration": 0,
    "start_time": "2024-10-27T00:47:18.496Z"
   },
   {
    "duration": 159,
    "start_time": "2024-10-27T00:47:43.127Z"
   },
   {
    "duration": 164,
    "start_time": "2024-10-27T00:48:46.900Z"
   },
   {
    "duration": 183,
    "start_time": "2024-10-27T00:49:33.494Z"
   },
   {
    "duration": 16,
    "start_time": "2024-10-27T00:52:26.172Z"
   },
   {
    "duration": 21,
    "start_time": "2024-10-27T00:52:51.886Z"
   },
   {
    "duration": 21,
    "start_time": "2024-10-27T00:57:40.079Z"
   },
   {
    "duration": 22,
    "start_time": "2024-10-27T00:59:10.103Z"
   },
   {
    "duration": 21,
    "start_time": "2024-10-27T00:59:41.471Z"
   },
   {
    "duration": 24,
    "start_time": "2024-10-27T01:03:04.909Z"
   },
   {
    "duration": 780,
    "start_time": "2024-10-27T01:10:32.305Z"
   },
   {
    "duration": 19,
    "start_time": "2024-10-27T01:11:02.593Z"
   },
   {
    "duration": 24,
    "start_time": "2024-10-27T01:13:47.001Z"
   },
   {
    "duration": 5,
    "start_time": "2024-10-27T01:16:09.418Z"
   },
   {
    "duration": 7,
    "start_time": "2024-10-27T01:16:15.360Z"
   },
   {
    "duration": 13,
    "start_time": "2024-10-27T01:16:26.104Z"
   },
   {
    "duration": 19,
    "start_time": "2024-10-27T01:17:30.438Z"
   },
   {
    "duration": 17,
    "start_time": "2024-10-27T01:30:27.929Z"
   },
   {
    "duration": 19,
    "start_time": "2024-10-27T01:31:15.212Z"
   },
   {
    "duration": 70,
    "start_time": "2024-10-27T01:32:13.718Z"
   },
   {
    "duration": 21,
    "start_time": "2024-10-27T01:33:37.055Z"
   },
   {
    "duration": 14,
    "start_time": "2024-10-27T01:35:46.657Z"
   },
   {
    "duration": 18,
    "start_time": "2024-10-27T01:35:59.556Z"
   },
   {
    "duration": 21,
    "start_time": "2024-10-27T01:36:22.040Z"
   },
   {
    "duration": 6,
    "start_time": "2024-10-27T01:41:44.033Z"
   },
   {
    "duration": 29,
    "start_time": "2024-10-27T01:41:56.536Z"
   },
   {
    "duration": 23,
    "start_time": "2024-10-27T01:43:08.448Z"
   },
   {
    "duration": 24,
    "start_time": "2024-10-27T01:44:19.464Z"
   },
   {
    "duration": 24,
    "start_time": "2024-10-27T01:44:39.992Z"
   },
   {
    "duration": 22,
    "start_time": "2024-10-27T01:46:19.867Z"
   },
   {
    "duration": 18,
    "start_time": "2024-10-27T01:49:44.742Z"
   },
   {
    "duration": 12,
    "start_time": "2024-10-27T01:50:38.883Z"
   },
   {
    "duration": 21,
    "start_time": "2024-10-27T01:50:51.108Z"
   },
   {
    "duration": 4,
    "start_time": "2024-10-27T01:55:55.525Z"
   },
   {
    "duration": 361,
    "start_time": "2024-10-27T01:56:02.957Z"
   },
   {
    "duration": 28,
    "start_time": "2024-10-27T01:56:20.484Z"
   },
   {
    "duration": 85,
    "start_time": "2024-10-27T01:56:39.673Z"
   },
   {
    "duration": 13,
    "start_time": "2024-10-27T02:01:57.948Z"
   },
   {
    "duration": 762,
    "start_time": "2024-10-27T02:02:16.433Z"
   },
   {
    "duration": 171,
    "start_time": "2024-10-27T02:02:17.197Z"
   },
   {
    "duration": 11,
    "start_time": "2024-10-27T02:02:17.370Z"
   },
   {
    "duration": 26,
    "start_time": "2024-10-27T02:02:17.383Z"
   },
   {
    "duration": 7,
    "start_time": "2024-10-27T02:02:17.411Z"
   },
   {
    "duration": 5,
    "start_time": "2024-10-27T02:02:17.420Z"
   },
   {
    "duration": 49,
    "start_time": "2024-10-27T02:02:17.426Z"
   },
   {
    "duration": 9,
    "start_time": "2024-10-27T02:02:17.476Z"
   },
   {
    "duration": 8,
    "start_time": "2024-10-27T02:02:17.487Z"
   },
   {
    "duration": 13,
    "start_time": "2024-10-27T02:02:17.498Z"
   },
   {
    "duration": 82,
    "start_time": "2024-10-27T02:02:17.513Z"
   },
   {
    "duration": 11,
    "start_time": "2024-10-27T02:02:17.596Z"
   },
   {
    "duration": 26,
    "start_time": "2024-10-27T02:02:17.609Z"
   },
   {
    "duration": 34,
    "start_time": "2024-10-27T02:02:17.637Z"
   },
   {
    "duration": 28,
    "start_time": "2024-10-27T02:02:17.673Z"
   },
   {
    "duration": 8,
    "start_time": "2024-10-27T02:02:17.702Z"
   },
   {
    "duration": 11,
    "start_time": "2024-10-27T02:02:17.711Z"
   },
   {
    "duration": 79,
    "start_time": "2024-10-27T02:02:17.724Z"
   },
   {
    "duration": 9,
    "start_time": "2024-10-27T02:02:17.805Z"
   },
   {
    "duration": 20,
    "start_time": "2024-10-27T02:02:17.816Z"
   },
   {
    "duration": 33,
    "start_time": "2024-10-27T02:02:17.837Z"
   },
   {
    "duration": 25,
    "start_time": "2024-10-27T02:02:17.872Z"
   },
   {
    "duration": 24,
    "start_time": "2024-10-27T02:02:17.899Z"
   },
   {
    "duration": 19,
    "start_time": "2024-10-27T02:02:17.925Z"
   },
   {
    "duration": 41,
    "start_time": "2024-10-27T02:02:17.945Z"
   },
   {
    "duration": 21,
    "start_time": "2024-10-27T02:02:17.988Z"
   },
   {
    "duration": 4,
    "start_time": "2024-10-27T02:02:18.011Z"
   },
   {
    "duration": 1,
    "start_time": "2024-10-27T02:02:18.019Z"
   },
   {
    "duration": 2,
    "start_time": "2024-10-27T02:02:18.023Z"
   },
   {
    "duration": 2,
    "start_time": "2024-10-27T02:02:18.027Z"
   },
   {
    "duration": 2,
    "start_time": "2024-10-27T02:02:18.031Z"
   },
   {
    "duration": 37,
    "start_time": "2024-10-27T02:02:18.034Z"
   },
   {
    "duration": 2,
    "start_time": "2024-10-27T02:02:18.073Z"
   },
   {
    "duration": 3,
    "start_time": "2024-10-27T02:02:18.077Z"
   },
   {
    "duration": 3,
    "start_time": "2024-10-27T02:02:18.081Z"
   },
   {
    "duration": 2,
    "start_time": "2024-10-27T02:02:18.086Z"
   },
   {
    "duration": 5,
    "start_time": "2024-10-27T02:02:27.578Z"
   },
   {
    "duration": 6,
    "start_time": "2024-10-27T02:02:37.892Z"
   },
   {
    "duration": 8,
    "start_time": "2024-10-27T02:03:37.089Z"
   },
   {
    "duration": 477,
    "start_time": "2024-10-27T02:03:43.383Z"
   },
   {
    "duration": 734,
    "start_time": "2024-10-27T02:04:00.636Z"
   },
   {
    "duration": 154,
    "start_time": "2024-10-27T02:04:01.372Z"
   },
   {
    "duration": 12,
    "start_time": "2024-10-27T02:04:01.528Z"
   },
   {
    "duration": 33,
    "start_time": "2024-10-27T02:04:01.543Z"
   },
   {
    "duration": 7,
    "start_time": "2024-10-27T02:04:01.578Z"
   },
   {
    "duration": 5,
    "start_time": "2024-10-27T02:04:01.587Z"
   },
   {
    "duration": 16,
    "start_time": "2024-10-27T02:04:01.594Z"
   },
   {
    "duration": 9,
    "start_time": "2024-10-27T02:04:01.612Z"
   },
   {
    "duration": 15,
    "start_time": "2024-10-27T02:04:01.623Z"
   },
   {
    "duration": 15,
    "start_time": "2024-10-27T02:04:01.671Z"
   },
   {
    "duration": 63,
    "start_time": "2024-10-27T02:04:01.688Z"
   },
   {
    "duration": 11,
    "start_time": "2024-10-27T02:04:01.771Z"
   },
   {
    "duration": 27,
    "start_time": "2024-10-27T02:04:01.783Z"
   },
   {
    "duration": 11,
    "start_time": "2024-10-27T02:04:01.812Z"
   },
   {
    "duration": 58,
    "start_time": "2024-10-27T02:04:01.825Z"
   },
   {
    "duration": 7,
    "start_time": "2024-10-27T02:04:01.885Z"
   },
   {
    "duration": 12,
    "start_time": "2024-10-27T02:04:01.894Z"
   },
   {
    "duration": 74,
    "start_time": "2024-10-27T02:04:01.907Z"
   },
   {
    "duration": 9,
    "start_time": "2024-10-27T02:04:01.982Z"
   },
   {
    "duration": 21,
    "start_time": "2024-10-27T02:04:01.992Z"
   },
   {
    "duration": 8,
    "start_time": "2024-10-27T02:04:02.014Z"
   },
   {
    "duration": 46,
    "start_time": "2024-10-27T02:04:02.025Z"
   },
   {
    "duration": 23,
    "start_time": "2024-10-27T02:04:02.073Z"
   },
   {
    "duration": 17,
    "start_time": "2024-10-27T02:04:02.098Z"
   },
   {
    "duration": 19,
    "start_time": "2024-10-27T02:04:02.117Z"
   },
   {
    "duration": 47,
    "start_time": "2024-10-27T02:04:02.138Z"
   },
   {
    "duration": 16,
    "start_time": "2024-10-27T02:04:02.186Z"
   },
   {
    "duration": 2,
    "start_time": "2024-10-27T02:04:02.206Z"
   },
   {
    "duration": 2,
    "start_time": "2024-10-27T02:04:02.210Z"
   },
   {
    "duration": 2,
    "start_time": "2024-10-27T02:04:02.214Z"
   },
   {
    "duration": 2,
    "start_time": "2024-10-27T02:04:02.218Z"
   },
   {
    "duration": 2,
    "start_time": "2024-10-27T02:04:02.223Z"
   },
   {
    "duration": 3,
    "start_time": "2024-10-27T02:04:02.226Z"
   },
   {
    "duration": 3,
    "start_time": "2024-10-27T02:04:02.230Z"
   },
   {
    "duration": 2,
    "start_time": "2024-10-27T02:04:02.271Z"
   },
   {
    "duration": 2,
    "start_time": "2024-10-27T02:04:02.274Z"
   },
   {
    "duration": 487,
    "start_time": "2024-10-27T02:05:30.596Z"
   },
   {
    "duration": 771,
    "start_time": "2024-10-27T02:05:51.461Z"
   },
   {
    "duration": 160,
    "start_time": "2024-10-27T02:05:52.236Z"
   },
   {
    "duration": 11,
    "start_time": "2024-10-27T02:05:52.398Z"
   },
   {
    "duration": 27,
    "start_time": "2024-10-27T02:05:52.410Z"
   },
   {
    "duration": 7,
    "start_time": "2024-10-27T02:05:52.439Z"
   },
   {
    "duration": 6,
    "start_time": "2024-10-27T02:05:52.470Z"
   },
   {
    "duration": 16,
    "start_time": "2024-10-27T02:05:52.478Z"
   },
   {
    "duration": 11,
    "start_time": "2024-10-27T02:05:52.495Z"
   },
   {
    "duration": 10,
    "start_time": "2024-10-27T02:05:52.509Z"
   },
   {
    "duration": 13,
    "start_time": "2024-10-27T02:05:52.522Z"
   },
   {
    "duration": 89,
    "start_time": "2024-10-27T02:05:52.536Z"
   },
   {
    "duration": 10,
    "start_time": "2024-10-27T02:05:52.626Z"
   },
   {
    "duration": 46,
    "start_time": "2024-10-27T02:05:52.637Z"
   },
   {
    "duration": 10,
    "start_time": "2024-10-27T02:05:52.685Z"
   },
   {
    "duration": 29,
    "start_time": "2024-10-27T02:05:52.697Z"
   },
   {
    "duration": 8,
    "start_time": "2024-10-27T02:05:52.727Z"
   },
   {
    "duration": 39,
    "start_time": "2024-10-27T02:05:52.736Z"
   },
   {
    "duration": 61,
    "start_time": "2024-10-27T02:05:52.777Z"
   },
   {
    "duration": 9,
    "start_time": "2024-10-27T02:05:52.840Z"
   },
   {
    "duration": 36,
    "start_time": "2024-10-27T02:05:52.851Z"
   },
   {
    "duration": 7,
    "start_time": "2024-10-27T02:05:52.889Z"
   },
   {
    "duration": 24,
    "start_time": "2024-10-27T02:05:52.897Z"
   },
   {
    "duration": 48,
    "start_time": "2024-10-27T02:05:52.923Z"
   },
   {
    "duration": 17,
    "start_time": "2024-10-27T02:05:52.973Z"
   },
   {
    "duration": 20,
    "start_time": "2024-10-27T02:05:52.992Z"
   },
   {
    "duration": 21,
    "start_time": "2024-10-27T02:05:53.014Z"
   },
   {
    "duration": 6,
    "start_time": "2024-10-27T02:05:53.039Z"
   },
   {
    "duration": 25,
    "start_time": "2024-10-27T02:05:53.046Z"
   },
   {
    "duration": 3,
    "start_time": "2024-10-27T02:05:53.072Z"
   },
   {
    "duration": 2,
    "start_time": "2024-10-27T02:05:53.077Z"
   },
   {
    "duration": 2,
    "start_time": "2024-10-27T02:05:53.081Z"
   },
   {
    "duration": 2,
    "start_time": "2024-10-27T02:05:53.085Z"
   },
   {
    "duration": 2,
    "start_time": "2024-10-27T02:05:53.089Z"
   },
   {
    "duration": 2,
    "start_time": "2024-10-27T02:05:53.093Z"
   },
   {
    "duration": 2,
    "start_time": "2024-10-27T02:05:53.097Z"
   },
   {
    "duration": 2,
    "start_time": "2024-10-27T02:05:53.101Z"
   },
   {
    "duration": 727,
    "start_time": "2024-10-27T02:07:10.143Z"
   },
   {
    "duration": 156,
    "start_time": "2024-10-27T02:07:10.872Z"
   },
   {
    "duration": 9,
    "start_time": "2024-10-27T02:07:11.030Z"
   },
   {
    "duration": 33,
    "start_time": "2024-10-27T02:07:11.041Z"
   },
   {
    "duration": 7,
    "start_time": "2024-10-27T02:07:11.076Z"
   },
   {
    "duration": 5,
    "start_time": "2024-10-27T02:07:11.085Z"
   },
   {
    "duration": 15,
    "start_time": "2024-10-27T02:07:11.091Z"
   },
   {
    "duration": 8,
    "start_time": "2024-10-27T02:07:11.108Z"
   },
   {
    "duration": 8,
    "start_time": "2024-10-27T02:07:11.118Z"
   },
   {
    "duration": 49,
    "start_time": "2024-10-27T02:07:11.130Z"
   },
   {
    "duration": 55,
    "start_time": "2024-10-27T02:07:11.180Z"
   },
   {
    "duration": 10,
    "start_time": "2024-10-27T02:07:11.237Z"
   },
   {
    "duration": 42,
    "start_time": "2024-10-27T02:07:11.249Z"
   },
   {
    "duration": 10,
    "start_time": "2024-10-27T02:07:11.293Z"
   },
   {
    "duration": 26,
    "start_time": "2024-10-27T02:07:11.305Z"
   },
   {
    "duration": 38,
    "start_time": "2024-10-27T02:07:11.333Z"
   },
   {
    "duration": 11,
    "start_time": "2024-10-27T02:07:11.372Z"
   },
   {
    "duration": 54,
    "start_time": "2024-10-27T02:07:11.385Z"
   },
   {
    "duration": 9,
    "start_time": "2024-10-27T02:07:11.440Z"
   },
   {
    "duration": 24,
    "start_time": "2024-10-27T02:07:11.469Z"
   },
   {
    "duration": 7,
    "start_time": "2024-10-27T02:07:11.495Z"
   },
   {
    "duration": 24,
    "start_time": "2024-10-27T02:07:11.504Z"
   },
   {
    "duration": 51,
    "start_time": "2024-10-27T02:07:11.530Z"
   },
   {
    "duration": 17,
    "start_time": "2024-10-27T02:07:11.583Z"
   },
   {
    "duration": 19,
    "start_time": "2024-10-27T02:07:11.602Z"
   },
   {
    "duration": 22,
    "start_time": "2024-10-27T02:07:11.622Z"
   },
   {
    "duration": 163,
    "start_time": "2024-10-27T02:07:11.646Z"
   },
   {
    "duration": 0,
    "start_time": "2024-10-27T02:07:11.811Z"
   },
   {
    "duration": 0,
    "start_time": "2024-10-27T02:07:11.812Z"
   },
   {
    "duration": 0,
    "start_time": "2024-10-27T02:07:11.813Z"
   },
   {
    "duration": 0,
    "start_time": "2024-10-27T02:07:11.814Z"
   },
   {
    "duration": 0,
    "start_time": "2024-10-27T02:07:11.815Z"
   },
   {
    "duration": 0,
    "start_time": "2024-10-27T02:07:11.817Z"
   },
   {
    "duration": 0,
    "start_time": "2024-10-27T02:07:11.819Z"
   },
   {
    "duration": 0,
    "start_time": "2024-10-27T02:07:11.820Z"
   },
   {
    "duration": 0,
    "start_time": "2024-10-27T02:07:11.822Z"
   },
   {
    "duration": 36,
    "start_time": "2024-10-27T02:08:08.430Z"
   },
   {
    "duration": 37,
    "start_time": "2024-10-27T02:11:57.912Z"
   },
   {
    "duration": 24,
    "start_time": "2024-10-27T02:13:09.264Z"
   },
   {
    "duration": 33,
    "start_time": "2024-10-27T02:14:05.719Z"
   },
   {
    "duration": 5,
    "start_time": "2024-10-27T02:22:53.560Z"
   },
   {
    "duration": 3,
    "start_time": "2024-10-27T02:23:49.999Z"
   },
   {
    "duration": 113,
    "start_time": "2024-10-27T02:24:16.455Z"
   },
   {
    "duration": 4,
    "start_time": "2024-10-27T02:24:28.226Z"
   },
   {
    "duration": 40,
    "start_time": "2024-10-27T02:24:38.941Z"
   },
   {
    "duration": 19,
    "start_time": "2024-10-27T02:24:55.871Z"
   },
   {
    "duration": 19,
    "start_time": "2024-10-27T02:26:51.453Z"
   },
   {
    "duration": 729,
    "start_time": "2024-10-27T02:31:09.131Z"
   },
   {
    "duration": 160,
    "start_time": "2024-10-27T02:31:09.862Z"
   },
   {
    "duration": 10,
    "start_time": "2024-10-27T02:31:10.024Z"
   },
   {
    "duration": 33,
    "start_time": "2024-10-27T02:31:10.037Z"
   },
   {
    "duration": 7,
    "start_time": "2024-10-27T02:31:10.072Z"
   },
   {
    "duration": 10,
    "start_time": "2024-10-27T02:31:10.081Z"
   },
   {
    "duration": 15,
    "start_time": "2024-10-27T02:31:10.092Z"
   },
   {
    "duration": 8,
    "start_time": "2024-10-27T02:31:10.108Z"
   },
   {
    "duration": 8,
    "start_time": "2024-10-27T02:31:10.118Z"
   },
   {
    "duration": 14,
    "start_time": "2024-10-27T02:31:10.169Z"
   },
   {
    "duration": 53,
    "start_time": "2024-10-27T02:31:10.185Z"
   },
   {
    "duration": 9,
    "start_time": "2024-10-27T02:31:10.239Z"
   },
   {
    "duration": 42,
    "start_time": "2024-10-27T02:31:10.250Z"
   },
   {
    "duration": 10,
    "start_time": "2024-10-27T02:31:10.294Z"
   },
   {
    "duration": 27,
    "start_time": "2024-10-27T02:31:10.305Z"
   },
   {
    "duration": 36,
    "start_time": "2024-10-27T02:31:10.334Z"
   },
   {
    "duration": 11,
    "start_time": "2024-10-27T02:31:10.372Z"
   },
   {
    "duration": 52,
    "start_time": "2024-10-27T02:31:10.384Z"
   },
   {
    "duration": 32,
    "start_time": "2024-10-27T02:31:10.438Z"
   },
   {
    "duration": 19,
    "start_time": "2024-10-27T02:31:10.472Z"
   },
   {
    "duration": 6,
    "start_time": "2024-10-27T02:31:10.493Z"
   },
   {
    "duration": 24,
    "start_time": "2024-10-27T02:31:10.501Z"
   },
   {
    "duration": 44,
    "start_time": "2024-10-27T02:31:10.527Z"
   },
   {
    "duration": 21,
    "start_time": "2024-10-27T02:31:10.574Z"
   },
   {
    "duration": 20,
    "start_time": "2024-10-27T02:31:10.597Z"
   },
   {
    "duration": 23,
    "start_time": "2024-10-27T02:31:10.619Z"
   },
   {
    "duration": 52,
    "start_time": "2024-10-27T02:31:10.643Z"
   },
   {
    "duration": 19,
    "start_time": "2024-10-27T02:31:10.698Z"
   },
   {
    "duration": 2,
    "start_time": "2024-10-27T02:31:10.719Z"
   },
   {
    "duration": 4,
    "start_time": "2024-10-27T02:31:10.722Z"
   },
   {
    "duration": 3,
    "start_time": "2024-10-27T02:31:10.727Z"
   },
   {
    "duration": 6,
    "start_time": "2024-10-27T02:31:10.731Z"
   },
   {
    "duration": 32,
    "start_time": "2024-10-27T02:31:10.739Z"
   },
   {
    "duration": 2,
    "start_time": "2024-10-27T02:31:10.773Z"
   },
   {
    "duration": 2,
    "start_time": "2024-10-27T02:31:10.776Z"
   },
   {
    "duration": 2,
    "start_time": "2024-10-27T02:31:10.780Z"
   },
   {
    "duration": 725,
    "start_time": "2024-10-27T02:32:52.032Z"
   },
   {
    "duration": 164,
    "start_time": "2024-10-27T02:32:52.759Z"
   },
   {
    "duration": 11,
    "start_time": "2024-10-27T02:32:52.924Z"
   },
   {
    "duration": 33,
    "start_time": "2024-10-27T02:32:52.938Z"
   },
   {
    "duration": 7,
    "start_time": "2024-10-27T02:32:52.972Z"
   },
   {
    "duration": 5,
    "start_time": "2024-10-27T02:32:52.981Z"
   },
   {
    "duration": 15,
    "start_time": "2024-10-27T02:32:52.987Z"
   },
   {
    "duration": 9,
    "start_time": "2024-10-27T02:32:53.004Z"
   },
   {
    "duration": 8,
    "start_time": "2024-10-27T02:32:53.015Z"
   },
   {
    "duration": 47,
    "start_time": "2024-10-27T02:32:53.026Z"
   },
   {
    "duration": 52,
    "start_time": "2024-10-27T02:32:53.075Z"
   },
   {
    "duration": 11,
    "start_time": "2024-10-27T02:32:53.128Z"
   },
   {
    "duration": 46,
    "start_time": "2024-10-27T02:32:53.140Z"
   },
   {
    "duration": 9,
    "start_time": "2024-10-27T02:32:53.188Z"
   },
   {
    "duration": 27,
    "start_time": "2024-10-27T02:32:53.199Z"
   },
   {
    "duration": 7,
    "start_time": "2024-10-27T02:32:53.227Z"
   },
   {
    "duration": 35,
    "start_time": "2024-10-27T02:32:53.236Z"
   },
   {
    "duration": 54,
    "start_time": "2024-10-27T02:32:53.272Z"
   },
   {
    "duration": 10,
    "start_time": "2024-10-27T02:32:53.327Z"
   },
   {
    "duration": 41,
    "start_time": "2024-10-27T02:32:53.338Z"
   },
   {
    "duration": 7,
    "start_time": "2024-10-27T02:32:53.381Z"
   },
   {
    "duration": 23,
    "start_time": "2024-10-27T02:32:53.390Z"
   },
   {
    "duration": 22,
    "start_time": "2024-10-27T02:32:53.415Z"
   },
   {
    "duration": 42,
    "start_time": "2024-10-27T02:32:53.439Z"
   },
   {
    "duration": 19,
    "start_time": "2024-10-27T02:32:53.482Z"
   },
   {
    "duration": 21,
    "start_time": "2024-10-27T02:32:53.503Z"
   },
   {
    "duration": 55,
    "start_time": "2024-10-27T02:32:53.526Z"
   },
   {
    "duration": 19,
    "start_time": "2024-10-27T02:32:53.585Z"
   },
   {
    "duration": 2,
    "start_time": "2024-10-27T02:32:53.606Z"
   },
   {
    "duration": 2,
    "start_time": "2024-10-27T02:32:53.610Z"
   },
   {
    "duration": 2,
    "start_time": "2024-10-27T02:32:53.614Z"
   },
   {
    "duration": 3,
    "start_time": "2024-10-27T02:32:53.618Z"
   },
   {
    "duration": 3,
    "start_time": "2024-10-27T02:32:53.622Z"
   },
   {
    "duration": 2,
    "start_time": "2024-10-27T02:32:53.628Z"
   },
   {
    "duration": 38,
    "start_time": "2024-10-27T02:32:53.632Z"
   },
   {
    "duration": 3,
    "start_time": "2024-10-27T02:32:53.671Z"
   },
   {
    "duration": 21,
    "start_time": "2024-10-27T02:34:32.371Z"
   },
   {
    "duration": 305,
    "start_time": "2024-10-27T02:39:27.274Z"
   },
   {
    "duration": 5,
    "start_time": "2024-10-27T02:48:21.801Z"
   },
   {
    "duration": 4,
    "start_time": "2024-10-27T02:49:06.460Z"
   },
   {
    "duration": 25,
    "start_time": "2024-10-27T02:49:23.668Z"
   },
   {
    "duration": 19,
    "start_time": "2024-10-27T02:50:36.401Z"
   },
   {
    "duration": 67,
    "start_time": "2024-10-27T02:50:48.321Z"
   },
   {
    "duration": 577,
    "start_time": "2024-10-27T02:51:24.205Z"
   },
   {
    "duration": 4,
    "start_time": "2024-10-27T02:52:18.901Z"
   },
   {
    "duration": 7,
    "start_time": "2024-10-27T02:52:23.083Z"
   },
   {
    "duration": 103,
    "start_time": "2024-10-27T02:52:33.207Z"
   },
   {
    "duration": 819,
    "start_time": "2024-10-27T02:52:54.018Z"
   },
   {
    "duration": 160,
    "start_time": "2024-10-27T02:52:54.840Z"
   },
   {
    "duration": 10,
    "start_time": "2024-10-27T02:52:55.002Z"
   },
   {
    "duration": 26,
    "start_time": "2024-10-27T02:52:55.015Z"
   },
   {
    "duration": 7,
    "start_time": "2024-10-27T02:52:55.043Z"
   },
   {
    "duration": 4,
    "start_time": "2024-10-27T02:52:55.070Z"
   },
   {
    "duration": 16,
    "start_time": "2024-10-27T02:52:55.076Z"
   },
   {
    "duration": 10,
    "start_time": "2024-10-27T02:52:55.093Z"
   },
   {
    "duration": 9,
    "start_time": "2024-10-27T02:52:55.105Z"
   },
   {
    "duration": 15,
    "start_time": "2024-10-27T02:52:55.119Z"
   },
   {
    "duration": 94,
    "start_time": "2024-10-27T02:52:55.135Z"
   },
   {
    "duration": 10,
    "start_time": "2024-10-27T02:52:55.230Z"
   },
   {
    "duration": 43,
    "start_time": "2024-10-27T02:52:55.242Z"
   },
   {
    "duration": 10,
    "start_time": "2024-10-27T02:52:55.287Z"
   },
   {
    "duration": 27,
    "start_time": "2024-10-27T02:52:55.298Z"
   },
   {
    "duration": 10,
    "start_time": "2024-10-27T02:52:55.327Z"
   },
   {
    "duration": 31,
    "start_time": "2024-10-27T02:52:55.339Z"
   },
   {
    "duration": 61,
    "start_time": "2024-10-27T02:52:55.372Z"
   },
   {
    "duration": 14,
    "start_time": "2024-10-27T02:52:55.435Z"
   },
   {
    "duration": 39,
    "start_time": "2024-10-27T02:52:55.451Z"
   },
   {
    "duration": 9,
    "start_time": "2024-10-27T02:52:55.491Z"
   },
   {
    "duration": 27,
    "start_time": "2024-10-27T02:52:55.503Z"
   },
   {
    "duration": 46,
    "start_time": "2024-10-27T02:52:55.532Z"
   },
   {
    "duration": 20,
    "start_time": "2024-10-27T02:52:55.579Z"
   },
   {
    "duration": 20,
    "start_time": "2024-10-27T02:52:55.601Z"
   },
   {
    "duration": 22,
    "start_time": "2024-10-27T02:52:55.622Z"
   },
   {
    "duration": 50,
    "start_time": "2024-10-27T02:52:55.646Z"
   },
   {
    "duration": 5,
    "start_time": "2024-10-27T02:52:55.701Z"
   },
   {
    "duration": 2,
    "start_time": "2024-10-27T02:52:55.708Z"
   },
   {
    "duration": 2,
    "start_time": "2024-10-27T02:52:55.712Z"
   },
   {
    "duration": 4,
    "start_time": "2024-10-27T02:52:55.716Z"
   },
   {
    "duration": 3,
    "start_time": "2024-10-27T02:52:55.722Z"
   },
   {
    "duration": 3,
    "start_time": "2024-10-27T02:52:55.726Z"
   },
   {
    "duration": 38,
    "start_time": "2024-10-27T02:52:55.731Z"
   },
   {
    "duration": 2,
    "start_time": "2024-10-27T02:52:55.771Z"
   },
   {
    "duration": 3,
    "start_time": "2024-10-27T02:52:55.775Z"
   },
   {
    "duration": 4,
    "start_time": "2024-10-27T02:53:00.992Z"
   },
   {
    "duration": 31,
    "start_time": "2024-10-27T02:53:15.517Z"
   },
   {
    "duration": 890,
    "start_time": "2024-10-27T02:55:50.726Z"
   },
   {
    "duration": 6,
    "start_time": "2024-10-27T02:56:07.375Z"
   },
   {
    "duration": 27,
    "start_time": "2024-10-27T02:56:17.642Z"
   },
   {
    "duration": 123,
    "start_time": "2024-10-27T02:57:58.859Z"
   },
   {
    "duration": 16,
    "start_time": "2024-10-27T02:58:14.243Z"
   },
   {
    "duration": 68,
    "start_time": "2024-10-27T03:00:19.741Z"
   },
   {
    "duration": 45,
    "start_time": "2024-10-27T03:00:46.358Z"
   },
   {
    "duration": 46,
    "start_time": "2024-10-27T03:01:09.517Z"
   },
   {
    "duration": 11,
    "start_time": "2024-10-27T03:02:02.421Z"
   },
   {
    "duration": 179,
    "start_time": "2024-10-27T03:12:17.841Z"
   },
   {
    "duration": 20,
    "start_time": "2024-10-27T03:12:33.106Z"
   },
   {
    "duration": 23,
    "start_time": "2024-10-27T03:16:33.446Z"
   },
   {
    "duration": 22,
    "start_time": "2024-10-27T03:17:50.427Z"
   },
   {
    "duration": 6,
    "start_time": "2024-10-27T03:18:50.499Z"
   },
   {
    "duration": 30,
    "start_time": "2024-10-27T03:18:59.927Z"
   },
   {
    "duration": 23,
    "start_time": "2024-10-27T03:19:13.159Z"
   },
   {
    "duration": 22,
    "start_time": "2024-10-27T03:22:29.738Z"
   },
   {
    "duration": 5,
    "start_time": "2024-10-27T03:40:59.029Z"
   },
   {
    "duration": 7,
    "start_time": "2024-10-27T03:45:12.355Z"
   },
   {
    "duration": 29,
    "start_time": "2024-10-27T03:45:22.848Z"
   },
   {
    "duration": 6,
    "start_time": "2024-10-27T04:13:48.259Z"
   },
   {
    "duration": 4,
    "start_time": "2024-10-27T04:14:15.789Z"
   },
   {
    "duration": 5,
    "start_time": "2024-10-27T04:14:36.518Z"
   },
   {
    "duration": 9,
    "start_time": "2024-10-27T04:14:43.932Z"
   },
   {
    "duration": 29,
    "start_time": "2024-10-27T04:15:26.371Z"
   },
   {
    "duration": 27,
    "start_time": "2024-10-27T04:24:50.357Z"
   },
   {
    "duration": 64,
    "start_time": "2024-10-27T04:26:18.195Z"
   },
   {
    "duration": 52,
    "start_time": "2024-10-27T04:26:52.617Z"
   },
   {
    "duration": 765,
    "start_time": "2024-10-27T04:27:48.895Z"
   },
   {
    "duration": 166,
    "start_time": "2024-10-27T04:27:49.662Z"
   },
   {
    "duration": 10,
    "start_time": "2024-10-27T04:27:49.829Z"
   },
   {
    "duration": 36,
    "start_time": "2024-10-27T04:27:49.841Z"
   },
   {
    "duration": 7,
    "start_time": "2024-10-27T04:27:49.879Z"
   },
   {
    "duration": 4,
    "start_time": "2024-10-27T04:27:49.888Z"
   },
   {
    "duration": 16,
    "start_time": "2024-10-27T04:27:49.894Z"
   },
   {
    "duration": 11,
    "start_time": "2024-10-27T04:27:49.912Z"
   },
   {
    "duration": 9,
    "start_time": "2024-10-27T04:27:49.927Z"
   },
   {
    "duration": 15,
    "start_time": "2024-10-27T04:27:49.971Z"
   },
   {
    "duration": 54,
    "start_time": "2024-10-27T04:27:49.987Z"
   },
   {
    "duration": 30,
    "start_time": "2024-10-27T04:27:50.043Z"
   },
   {
    "duration": 27,
    "start_time": "2024-10-27T04:27:50.075Z"
   },
   {
    "duration": 12,
    "start_time": "2024-10-27T04:27:50.104Z"
   },
   {
    "duration": 53,
    "start_time": "2024-10-27T04:27:50.118Z"
   },
   {
    "duration": 8,
    "start_time": "2024-10-27T04:27:50.172Z"
   },
   {
    "duration": 10,
    "start_time": "2024-10-27T04:27:50.182Z"
   },
   {
    "duration": 54,
    "start_time": "2024-10-27T04:27:50.193Z"
   },
   {
    "duration": 10,
    "start_time": "2024-10-27T04:27:50.269Z"
   },
   {
    "duration": 19,
    "start_time": "2024-10-27T04:27:50.281Z"
   },
   {
    "duration": 7,
    "start_time": "2024-10-27T04:27:50.302Z"
   },
   {
    "duration": 23,
    "start_time": "2024-10-27T04:27:50.311Z"
   },
   {
    "duration": 50,
    "start_time": "2024-10-27T04:27:50.336Z"
   },
   {
    "duration": 17,
    "start_time": "2024-10-27T04:27:50.388Z"
   },
   {
    "duration": 20,
    "start_time": "2024-10-27T04:27:50.407Z"
   },
   {
    "duration": 49,
    "start_time": "2024-10-27T04:27:50.428Z"
   },
   {
    "duration": 31,
    "start_time": "2024-10-27T04:27:50.479Z"
   },
   {
    "duration": 69,
    "start_time": "2024-10-27T04:27:50.514Z"
   },
   {
    "duration": 3,
    "start_time": "2024-10-27T04:27:50.585Z"
   },
   {
    "duration": 3,
    "start_time": "2024-10-27T04:27:50.589Z"
   },
   {
    "duration": 2,
    "start_time": "2024-10-27T04:27:50.594Z"
   },
   {
    "duration": 2,
    "start_time": "2024-10-27T04:27:50.598Z"
   },
   {
    "duration": 2,
    "start_time": "2024-10-27T04:27:50.602Z"
   },
   {
    "duration": 2,
    "start_time": "2024-10-27T04:27:50.606Z"
   },
   {
    "duration": 2,
    "start_time": "2024-10-27T04:27:50.611Z"
   },
   {
    "duration": 3,
    "start_time": "2024-10-27T04:27:50.614Z"
   },
   {
    "duration": 58,
    "start_time": "2024-10-27T04:30:53.300Z"
   },
   {
    "duration": 740,
    "start_time": "2024-10-27T04:31:20.232Z"
   },
   {
    "duration": 158,
    "start_time": "2024-10-27T04:31:20.974Z"
   },
   {
    "duration": 10,
    "start_time": "2024-10-27T04:31:21.134Z"
   },
   {
    "duration": 35,
    "start_time": "2024-10-27T04:31:21.147Z"
   },
   {
    "duration": 8,
    "start_time": "2024-10-27T04:31:21.185Z"
   },
   {
    "duration": 5,
    "start_time": "2024-10-27T04:31:21.194Z"
   },
   {
    "duration": 16,
    "start_time": "2024-10-27T04:31:21.201Z"
   },
   {
    "duration": 9,
    "start_time": "2024-10-27T04:31:21.219Z"
   },
   {
    "duration": 45,
    "start_time": "2024-10-27T04:31:21.230Z"
   },
   {
    "duration": 14,
    "start_time": "2024-10-27T04:31:21.278Z"
   },
   {
    "duration": 54,
    "start_time": "2024-10-27T04:31:21.293Z"
   },
   {
    "duration": 12,
    "start_time": "2024-10-27T04:31:21.369Z"
   },
   {
    "duration": 25,
    "start_time": "2024-10-27T04:31:21.383Z"
   },
   {
    "duration": 10,
    "start_time": "2024-10-27T04:31:21.410Z"
   },
   {
    "duration": 54,
    "start_time": "2024-10-27T04:31:21.422Z"
   },
   {
    "duration": 10,
    "start_time": "2024-10-27T04:31:21.477Z"
   },
   {
    "duration": 10,
    "start_time": "2024-10-27T04:31:21.489Z"
   },
   {
    "duration": 81,
    "start_time": "2024-10-27T04:31:21.501Z"
   },
   {
    "duration": 11,
    "start_time": "2024-10-27T04:31:21.584Z"
   },
   {
    "duration": 26,
    "start_time": "2024-10-27T04:31:21.597Z"
   },
   {
    "duration": 7,
    "start_time": "2024-10-27T04:31:21.625Z"
   },
   {
    "duration": 45,
    "start_time": "2024-10-27T04:31:21.634Z"
   },
   {
    "duration": 23,
    "start_time": "2024-10-27T04:31:21.681Z"
   },
   {
    "duration": 18,
    "start_time": "2024-10-27T04:31:21.706Z"
   },
   {
    "duration": 44,
    "start_time": "2024-10-27T04:31:21.726Z"
   },
   {
    "duration": 22,
    "start_time": "2024-10-27T04:31:21.772Z"
   },
   {
    "duration": 29,
    "start_time": "2024-10-27T04:31:21.795Z"
   },
   {
    "duration": 73,
    "start_time": "2024-10-27T04:31:21.829Z"
   },
   {
    "duration": 2,
    "start_time": "2024-10-27T04:31:21.904Z"
   },
   {
    "duration": 2,
    "start_time": "2024-10-27T04:31:21.908Z"
   },
   {
    "duration": 2,
    "start_time": "2024-10-27T04:31:21.912Z"
   },
   {
    "duration": 2,
    "start_time": "2024-10-27T04:31:21.916Z"
   },
   {
    "duration": 2,
    "start_time": "2024-10-27T04:31:21.920Z"
   },
   {
    "duration": 2,
    "start_time": "2024-10-27T04:31:21.924Z"
   },
   {
    "duration": 2,
    "start_time": "2024-10-27T04:31:21.928Z"
   },
   {
    "duration": 2,
    "start_time": "2024-10-27T04:31:21.931Z"
   },
   {
    "duration": 60,
    "start_time": "2024-10-27T04:31:39.534Z"
   },
   {
    "duration": 334,
    "start_time": "2024-10-27T04:32:26.281Z"
   },
   {
    "duration": 54,
    "start_time": "2024-10-27T04:32:52.680Z"
   },
   {
    "duration": 756,
    "start_time": "2024-10-27T04:33:43.608Z"
   },
   {
    "duration": 152,
    "start_time": "2024-10-27T04:33:44.366Z"
   },
   {
    "duration": 10,
    "start_time": "2024-10-27T04:33:44.520Z"
   },
   {
    "duration": 38,
    "start_time": "2024-10-27T04:33:44.532Z"
   },
   {
    "duration": 7,
    "start_time": "2024-10-27T04:33:44.572Z"
   },
   {
    "duration": 5,
    "start_time": "2024-10-27T04:33:44.581Z"
   },
   {
    "duration": 15,
    "start_time": "2024-10-27T04:33:44.587Z"
   },
   {
    "duration": 9,
    "start_time": "2024-10-27T04:33:44.603Z"
   },
   {
    "duration": 8,
    "start_time": "2024-10-27T04:33:44.613Z"
   },
   {
    "duration": 51,
    "start_time": "2024-10-27T04:33:44.626Z"
   },
   {
    "duration": 60,
    "start_time": "2024-10-27T04:33:44.678Z"
   },
   {
    "duration": 30,
    "start_time": "2024-10-27T04:33:44.740Z"
   },
   {
    "duration": 28,
    "start_time": "2024-10-27T04:33:44.772Z"
   },
   {
    "duration": 10,
    "start_time": "2024-10-27T04:33:44.802Z"
   },
   {
    "duration": 28,
    "start_time": "2024-10-27T04:33:44.814Z"
   },
   {
    "duration": 33,
    "start_time": "2024-10-27T04:33:44.843Z"
   },
   {
    "duration": 10,
    "start_time": "2024-10-27T04:33:44.878Z"
   },
   {
    "duration": 53,
    "start_time": "2024-10-27T04:33:44.890Z"
   },
   {
    "duration": 30,
    "start_time": "2024-10-27T04:33:44.945Z"
   },
   {
    "duration": 21,
    "start_time": "2024-10-27T04:33:44.977Z"
   },
   {
    "duration": 8,
    "start_time": "2024-10-27T04:33:45.000Z"
   },
   {
    "duration": 23,
    "start_time": "2024-10-27T04:33:45.009Z"
   },
   {
    "duration": 47,
    "start_time": "2024-10-27T04:33:45.034Z"
   },
   {
    "duration": 16,
    "start_time": "2024-10-27T04:33:45.083Z"
   },
   {
    "duration": 19,
    "start_time": "2024-10-27T04:33:45.100Z"
   },
   {
    "duration": 22,
    "start_time": "2024-10-27T04:33:45.121Z"
   },
   {
    "duration": 52,
    "start_time": "2024-10-27T04:33:45.145Z"
   },
   {
    "duration": 53,
    "start_time": "2024-10-27T04:33:45.200Z"
   },
   {
    "duration": 16,
    "start_time": "2024-10-27T04:33:45.255Z"
   },
   {
    "duration": 3,
    "start_time": "2024-10-27T04:33:45.273Z"
   },
   {
    "duration": 2,
    "start_time": "2024-10-27T04:33:45.278Z"
   },
   {
    "duration": 2,
    "start_time": "2024-10-27T04:33:45.281Z"
   },
   {
    "duration": 2,
    "start_time": "2024-10-27T04:33:45.285Z"
   },
   {
    "duration": 2,
    "start_time": "2024-10-27T04:33:45.289Z"
   },
   {
    "duration": 2,
    "start_time": "2024-10-27T04:33:45.293Z"
   },
   {
    "duration": 2,
    "start_time": "2024-10-27T04:33:45.297Z"
   },
   {
    "duration": 2600,
    "start_time": "2024-10-27T14:58:49.655Z"
   },
   {
    "duration": 211,
    "start_time": "2024-10-27T14:58:52.257Z"
   },
   {
    "duration": 11,
    "start_time": "2024-10-27T14:58:53.263Z"
   },
   {
    "duration": 747,
    "start_time": "2024-10-27T14:59:08.383Z"
   },
   {
    "duration": 165,
    "start_time": "2024-10-27T14:59:09.133Z"
   },
   {
    "duration": 10,
    "start_time": "2024-10-27T14:59:09.300Z"
   },
   {
    "duration": 31,
    "start_time": "2024-10-27T14:59:09.313Z"
   },
   {
    "duration": 7,
    "start_time": "2024-10-27T14:59:09.346Z"
   },
   {
    "duration": 6,
    "start_time": "2024-10-27T14:59:09.355Z"
   },
   {
    "duration": 48,
    "start_time": "2024-10-27T14:59:09.363Z"
   },
   {
    "duration": 9,
    "start_time": "2024-10-27T14:59:09.413Z"
   },
   {
    "duration": 10,
    "start_time": "2024-10-27T14:59:09.424Z"
   },
   {
    "duration": 14,
    "start_time": "2024-10-27T14:59:09.438Z"
   },
   {
    "duration": 85,
    "start_time": "2024-10-27T14:59:09.453Z"
   },
   {
    "duration": 10,
    "start_time": "2024-10-27T14:59:09.540Z"
   },
   {
    "duration": 26,
    "start_time": "2024-10-27T14:59:09.552Z"
   },
   {
    "duration": 35,
    "start_time": "2024-10-27T14:59:09.580Z"
   },
   {
    "duration": 27,
    "start_time": "2024-10-27T14:59:09.617Z"
   },
   {
    "duration": 8,
    "start_time": "2024-10-27T14:59:09.646Z"
   },
   {
    "duration": 9,
    "start_time": "2024-10-27T14:59:09.656Z"
   },
   {
    "duration": 81,
    "start_time": "2024-10-27T14:59:09.667Z"
   },
   {
    "duration": 14,
    "start_time": "2024-10-27T14:59:09.750Z"
   },
   {
    "duration": 23,
    "start_time": "2024-10-27T14:59:09.766Z"
   },
   {
    "duration": 23,
    "start_time": "2024-10-27T14:59:09.791Z"
   },
   {
    "duration": 24,
    "start_time": "2024-10-27T14:59:09.816Z"
   },
   {
    "duration": 22,
    "start_time": "2024-10-27T14:59:09.842Z"
   },
   {
    "duration": 44,
    "start_time": "2024-10-27T14:59:09.866Z"
   },
   {
    "duration": 22,
    "start_time": "2024-10-27T14:59:09.911Z"
   },
   {
    "duration": 21,
    "start_time": "2024-10-27T14:59:09.935Z"
   },
   {
    "duration": 30,
    "start_time": "2024-10-27T14:59:09.958Z"
   },
   {
    "duration": 56,
    "start_time": "2024-10-27T14:59:10.011Z"
   },
   {
    "duration": 2,
    "start_time": "2024-10-27T14:59:10.069Z"
   },
   {
    "duration": 2,
    "start_time": "2024-10-27T14:59:10.073Z"
   },
   {
    "duration": 2,
    "start_time": "2024-10-27T14:59:10.077Z"
   },
   {
    "duration": 30,
    "start_time": "2024-10-27T14:59:10.080Z"
   },
   {
    "duration": 2,
    "start_time": "2024-10-27T14:59:10.112Z"
   },
   {
    "duration": 2,
    "start_time": "2024-10-27T14:59:10.116Z"
   },
   {
    "duration": 2,
    "start_time": "2024-10-27T14:59:10.120Z"
   },
   {
    "duration": 2,
    "start_time": "2024-10-27T14:59:10.124Z"
   },
   {
    "duration": 28,
    "start_time": "2024-10-27T15:01:25.012Z"
   },
   {
    "duration": 124,
    "start_time": "2024-10-27T15:03:15.390Z"
   },
   {
    "duration": 20,
    "start_time": "2024-10-27T15:03:22.552Z"
   },
   {
    "duration": 6,
    "start_time": "2024-10-27T15:05:54.283Z"
   },
   {
    "duration": 7,
    "start_time": "2024-10-27T15:07:51.029Z"
   },
   {
    "duration": 6,
    "start_time": "2024-10-27T15:08:13.417Z"
   },
   {
    "duration": 8,
    "start_time": "2024-10-27T15:08:20.788Z"
   },
   {
    "duration": 8,
    "start_time": "2024-10-27T15:08:24.831Z"
   },
   {
    "duration": 7,
    "start_time": "2024-10-27T15:08:29.695Z"
   },
   {
    "duration": 7,
    "start_time": "2024-10-27T15:08:50.875Z"
   },
   {
    "duration": 200,
    "start_time": "2024-10-27T15:18:59.559Z"
   },
   {
    "duration": 188,
    "start_time": "2024-10-27T15:23:45.506Z"
   },
   {
    "duration": 27,
    "start_time": "2024-10-27T15:42:34.388Z"
   },
   {
    "duration": 870,
    "start_time": "2024-10-27T15:55:59.019Z"
   },
   {
    "duration": 213,
    "start_time": "2024-10-27T15:57:02.730Z"
   },
   {
    "duration": 226,
    "start_time": "2024-10-27T15:58:13.062Z"
   },
   {
    "duration": 5,
    "start_time": "2024-10-27T16:05:18.563Z"
   },
   {
    "duration": 5,
    "start_time": "2024-10-27T16:05:47.476Z"
   },
   {
    "duration": 3,
    "start_time": "2024-10-27T16:06:13.410Z"
   },
   {
    "duration": 4,
    "start_time": "2024-10-27T16:07:42.721Z"
   },
   {
    "duration": 4,
    "start_time": "2024-10-27T16:08:45.035Z"
   },
   {
    "duration": 5,
    "start_time": "2024-10-27T16:11:10.892Z"
   },
   {
    "duration": 5,
    "start_time": "2024-10-27T16:13:12.853Z"
   },
   {
    "duration": 6,
    "start_time": "2024-10-27T16:13:36.844Z"
   },
   {
    "duration": 3,
    "start_time": "2024-10-27T16:13:39.291Z"
   },
   {
    "duration": 770,
    "start_time": "2024-10-27T16:37:12.870Z"
   },
   {
    "duration": 162,
    "start_time": "2024-10-27T16:37:13.642Z"
   },
   {
    "duration": 9,
    "start_time": "2024-10-27T16:37:13.806Z"
   },
   {
    "duration": 25,
    "start_time": "2024-10-27T16:37:13.818Z"
   },
   {
    "duration": 7,
    "start_time": "2024-10-27T16:37:13.845Z"
   },
   {
    "duration": 4,
    "start_time": "2024-10-27T16:37:13.854Z"
   },
   {
    "duration": 15,
    "start_time": "2024-10-27T16:37:13.859Z"
   },
   {
    "duration": 41,
    "start_time": "2024-10-27T16:37:13.876Z"
   },
   {
    "duration": 9,
    "start_time": "2024-10-27T16:37:13.918Z"
   },
   {
    "duration": 13,
    "start_time": "2024-10-27T16:37:13.930Z"
   },
   {
    "duration": 77,
    "start_time": "2024-10-27T16:37:13.944Z"
   },
   {
    "duration": 10,
    "start_time": "2024-10-27T16:37:14.023Z"
   },
   {
    "duration": 31,
    "start_time": "2024-10-27T16:37:14.035Z"
   },
   {
    "duration": 13,
    "start_time": "2024-10-27T16:37:14.067Z"
   },
   {
    "duration": 52,
    "start_time": "2024-10-27T16:37:14.083Z"
   },
   {
    "duration": 8,
    "start_time": "2024-10-27T16:37:14.137Z"
   },
   {
    "duration": 9,
    "start_time": "2024-10-27T16:37:14.147Z"
   },
   {
    "duration": 79,
    "start_time": "2024-10-27T16:37:14.158Z"
   },
   {
    "duration": 9,
    "start_time": "2024-10-27T16:37:14.239Z"
   },
   {
    "duration": 21,
    "start_time": "2024-10-27T16:37:14.250Z"
   },
   {
    "duration": 8,
    "start_time": "2024-10-27T16:37:14.272Z"
   },
   {
    "duration": 50,
    "start_time": "2024-10-27T16:37:14.281Z"
   },
   {
    "duration": 23,
    "start_time": "2024-10-27T16:37:14.333Z"
   },
   {
    "duration": 17,
    "start_time": "2024-10-27T16:37:14.358Z"
   },
   {
    "duration": 41,
    "start_time": "2024-10-27T16:37:14.377Z"
   },
   {
    "duration": 22,
    "start_time": "2024-10-27T16:37:14.420Z"
   },
   {
    "duration": 29,
    "start_time": "2024-10-27T16:37:14.444Z"
   },
   {
    "duration": 73,
    "start_time": "2024-10-27T16:37:14.478Z"
   },
   {
    "duration": 202,
    "start_time": "2024-10-27T16:37:14.553Z"
   },
   {
    "duration": 226,
    "start_time": "2024-10-27T16:37:14.757Z"
   },
   {
    "duration": 6,
    "start_time": "2024-10-27T16:37:14.984Z"
   },
   {
    "duration": 284,
    "start_time": "2024-10-27T16:37:14.992Z"
   },
   {
    "duration": 2,
    "start_time": "2024-10-27T16:37:15.278Z"
   },
   {
    "duration": 3,
    "start_time": "2024-10-27T16:37:15.282Z"
   },
   {
    "duration": 3,
    "start_time": "2024-10-27T16:37:15.286Z"
   },
   {
    "duration": 3,
    "start_time": "2024-10-27T16:37:15.290Z"
   },
   {
    "duration": 225,
    "start_time": "2024-10-27T16:43:58.009Z"
   },
   {
    "duration": 18,
    "start_time": "2024-10-27T16:44:11.596Z"
   },
   {
    "duration": 17,
    "start_time": "2024-10-27T16:44:23.640Z"
   },
   {
    "duration": 18,
    "start_time": "2024-10-27T16:45:51.631Z"
   },
   {
    "duration": 19,
    "start_time": "2024-10-27T16:46:00.064Z"
   },
   {
    "duration": 744,
    "start_time": "2024-10-27T16:46:15.911Z"
   },
   {
    "duration": 138,
    "start_time": "2024-10-27T16:50:06.736Z"
   },
   {
    "duration": 53,
    "start_time": "2024-10-27T16:50:42.098Z"
   },
   {
    "duration": 50,
    "start_time": "2024-10-27T16:51:17.461Z"
   },
   {
    "duration": 355,
    "start_time": "2024-10-27T16:55:03.804Z"
   },
   {
    "duration": 521,
    "start_time": "2024-10-27T16:55:55.800Z"
   },
   {
    "duration": 141,
    "start_time": "2024-10-27T16:56:29.714Z"
   },
   {
    "duration": 52,
    "start_time": "2024-10-27T16:57:00.786Z"
   },
   {
    "duration": 51,
    "start_time": "2024-10-27T17:00:54.436Z"
   },
   {
    "duration": 762,
    "start_time": "2024-10-27T17:01:05.864Z"
   },
   {
    "duration": 161,
    "start_time": "2024-10-27T17:01:06.629Z"
   },
   {
    "duration": 10,
    "start_time": "2024-10-27T17:01:06.791Z"
   },
   {
    "duration": 26,
    "start_time": "2024-10-27T17:01:06.803Z"
   },
   {
    "duration": 7,
    "start_time": "2024-10-27T17:01:06.831Z"
   },
   {
    "duration": 5,
    "start_time": "2024-10-27T17:01:06.839Z"
   },
   {
    "duration": 16,
    "start_time": "2024-10-27T17:01:06.845Z"
   },
   {
    "duration": 9,
    "start_time": "2024-10-27T17:01:06.863Z"
   },
   {
    "duration": 41,
    "start_time": "2024-10-27T17:01:06.873Z"
   },
   {
    "duration": 13,
    "start_time": "2024-10-27T17:01:06.917Z"
   },
   {
    "duration": 53,
    "start_time": "2024-10-27T17:01:06.932Z"
   },
   {
    "duration": 26,
    "start_time": "2024-10-27T17:01:06.987Z"
   },
   {
    "duration": 26,
    "start_time": "2024-10-27T17:01:07.015Z"
   },
   {
    "duration": 10,
    "start_time": "2024-10-27T17:01:07.043Z"
   },
   {
    "duration": 55,
    "start_time": "2024-10-27T17:01:07.055Z"
   },
   {
    "duration": 8,
    "start_time": "2024-10-27T17:01:07.112Z"
   },
   {
    "duration": 11,
    "start_time": "2024-10-27T17:01:07.121Z"
   },
   {
    "duration": 78,
    "start_time": "2024-10-27T17:01:07.134Z"
   },
   {
    "duration": 10,
    "start_time": "2024-10-27T17:01:07.216Z"
   },
   {
    "duration": 20,
    "start_time": "2024-10-27T17:01:07.228Z"
   },
   {
    "duration": 8,
    "start_time": "2024-10-27T17:01:07.249Z"
   },
   {
    "duration": 27,
    "start_time": "2024-10-27T17:01:07.258Z"
   },
   {
    "duration": 45,
    "start_time": "2024-10-27T17:01:07.286Z"
   },
   {
    "duration": 17,
    "start_time": "2024-10-27T17:01:07.333Z"
   },
   {
    "duration": 20,
    "start_time": "2024-10-27T17:01:07.353Z"
   },
   {
    "duration": 50,
    "start_time": "2024-10-27T17:01:07.375Z"
   },
   {
    "duration": 32,
    "start_time": "2024-10-27T17:01:07.427Z"
   },
   {
    "duration": 77,
    "start_time": "2024-10-27T17:01:07.463Z"
   },
   {
    "duration": 211,
    "start_time": "2024-10-27T17:01:07.542Z"
   },
   {
    "duration": 220,
    "start_time": "2024-10-27T17:01:07.754Z"
   },
   {
    "duration": 5,
    "start_time": "2024-10-27T17:01:07.976Z"
   },
   {
    "duration": 396,
    "start_time": "2024-10-27T17:01:07.983Z"
   },
   {
    "duration": 0,
    "start_time": "2024-10-27T17:01:08.381Z"
   },
   {
    "duration": 0,
    "start_time": "2024-10-27T17:01:08.382Z"
   },
   {
    "duration": 0,
    "start_time": "2024-10-27T17:01:08.383Z"
   },
   {
    "duration": 0,
    "start_time": "2024-10-27T17:01:08.384Z"
   },
   {
    "duration": 17,
    "start_time": "2024-10-27T17:04:08.184Z"
   },
   {
    "duration": 25,
    "start_time": "2024-10-27T17:06:13.106Z"
   },
   {
    "duration": 348,
    "start_time": "2024-10-27T17:06:22.635Z"
   },
   {
    "duration": 330,
    "start_time": "2024-10-27T17:08:42.670Z"
   },
   {
    "duration": 228,
    "start_time": "2024-10-27T17:09:37.865Z"
   },
   {
    "duration": 235,
    "start_time": "2024-10-27T17:11:25.873Z"
   },
   {
    "duration": 227,
    "start_time": "2024-10-27T17:11:39.330Z"
   },
   {
    "duration": 483,
    "start_time": "2024-10-27T17:14:29.698Z"
   },
   {
    "duration": 106,
    "start_time": "2024-10-27T17:16:07.721Z"
   },
   {
    "duration": 943,
    "start_time": "2024-10-27T17:16:13.711Z"
   },
   {
    "duration": 169,
    "start_time": "2024-10-27T17:16:52.846Z"
   },
   {
    "duration": 243,
    "start_time": "2024-10-27T17:18:31.690Z"
   },
   {
    "duration": 224,
    "start_time": "2024-10-27T17:19:00.660Z"
   },
   {
    "duration": 412,
    "start_time": "2024-10-27T17:23:56.875Z"
   },
   {
    "duration": 8,
    "start_time": "2024-10-27T17:24:26.031Z"
   },
   {
    "duration": 7,
    "start_time": "2024-10-27T17:24:54.271Z"
   },
   {
    "duration": 7,
    "start_time": "2024-10-27T17:27:32.651Z"
   },
   {
    "duration": 6,
    "start_time": "2024-10-27T17:27:40.612Z"
   },
   {
    "duration": 53,
    "start_time": "2024-10-27T17:31:54.815Z"
   },
   {
    "duration": 8,
    "start_time": "2024-10-27T17:33:01.951Z"
   },
   {
    "duration": 6,
    "start_time": "2024-10-27T17:35:53.357Z"
   },
   {
    "duration": 9,
    "start_time": "2024-10-27T17:36:28.607Z"
   },
   {
    "duration": 6,
    "start_time": "2024-10-27T17:39:52.245Z"
   },
   {
    "duration": 8,
    "start_time": "2024-10-27T17:40:42.581Z"
   },
   {
    "duration": 7,
    "start_time": "2024-10-27T17:40:49.146Z"
   },
   {
    "duration": 197,
    "start_time": "2024-10-27T17:45:45.052Z"
   },
   {
    "duration": 187,
    "start_time": "2024-10-27T17:46:27.835Z"
   },
   {
    "duration": 203,
    "start_time": "2024-10-27T17:49:25.014Z"
   },
   {
    "duration": 6,
    "start_time": "2024-10-27T17:51:50.077Z"
   },
   {
    "duration": 362,
    "start_time": "2024-10-27T17:54:08.457Z"
   },
   {
    "duration": 222,
    "start_time": "2024-10-27T17:57:38.266Z"
   },
   {
    "duration": 230,
    "start_time": "2024-10-27T17:57:49.671Z"
   },
   {
    "duration": 238,
    "start_time": "2024-10-27T18:00:05.417Z"
   },
   {
    "duration": 2554,
    "start_time": "2024-10-27T19:42:04.337Z"
   },
   {
    "duration": 233,
    "start_time": "2024-10-27T19:42:06.894Z"
   },
   {
    "duration": 9,
    "start_time": "2024-10-27T19:42:07.129Z"
   },
   {
    "duration": 27,
    "start_time": "2024-10-27T19:42:07.141Z"
   },
   {
    "duration": 7,
    "start_time": "2024-10-27T19:42:07.170Z"
   },
   {
    "duration": 5,
    "start_time": "2024-10-27T19:42:07.178Z"
   },
   {
    "duration": 45,
    "start_time": "2024-10-27T19:42:07.188Z"
   },
   {
    "duration": 8,
    "start_time": "2024-10-27T19:42:07.236Z"
   },
   {
    "duration": 9,
    "start_time": "2024-10-27T19:42:07.246Z"
   },
   {
    "duration": 12,
    "start_time": "2024-10-27T19:42:07.258Z"
   },
   {
    "duration": 87,
    "start_time": "2024-10-27T19:42:07.272Z"
   },
   {
    "duration": 10,
    "start_time": "2024-10-27T19:42:07.361Z"
   },
   {
    "duration": 30,
    "start_time": "2024-10-27T19:42:07.372Z"
   },
   {
    "duration": 30,
    "start_time": "2024-10-27T19:42:07.405Z"
   },
   {
    "duration": 28,
    "start_time": "2024-10-27T19:42:07.436Z"
   },
   {
    "duration": 7,
    "start_time": "2024-10-27T19:42:07.466Z"
   },
   {
    "duration": 13,
    "start_time": "2024-10-27T19:42:07.475Z"
   },
   {
    "duration": 77,
    "start_time": "2024-10-27T19:42:07.490Z"
   },
   {
    "duration": 10,
    "start_time": "2024-10-27T19:42:07.569Z"
   },
   {
    "duration": 20,
    "start_time": "2024-10-27T19:42:07.581Z"
   },
   {
    "duration": 31,
    "start_time": "2024-10-27T19:42:07.602Z"
   },
   {
    "duration": 36,
    "start_time": "2024-10-27T19:42:07.635Z"
   },
   {
    "duration": 26,
    "start_time": "2024-10-27T19:42:07.673Z"
   },
   {
    "duration": 33,
    "start_time": "2024-10-27T19:42:07.701Z"
   },
   {
    "duration": 24,
    "start_time": "2024-10-27T19:42:07.736Z"
   },
   {
    "duration": 28,
    "start_time": "2024-10-27T19:42:07.762Z"
   },
   {
    "duration": 51,
    "start_time": "2024-10-27T19:42:07.792Z"
   },
   {
    "duration": 57,
    "start_time": "2024-10-27T19:42:07.848Z"
   },
   {
    "duration": 215,
    "start_time": "2024-10-27T19:42:07.907Z"
   },
   {
    "duration": 224,
    "start_time": "2024-10-27T19:42:08.124Z"
   },
   {
    "duration": 7,
    "start_time": "2024-10-27T19:42:08.350Z"
   },
   {
    "duration": 721,
    "start_time": "2024-10-27T19:42:08.359Z"
   },
   {
    "duration": 0,
    "start_time": "2024-10-27T19:42:09.082Z"
   },
   {
    "duration": 0,
    "start_time": "2024-10-27T19:42:09.083Z"
   },
   {
    "duration": 0,
    "start_time": "2024-10-27T19:42:09.085Z"
   },
   {
    "duration": 0,
    "start_time": "2024-10-27T19:42:09.087Z"
   },
   {
    "duration": 0,
    "start_time": "2024-10-27T19:42:09.088Z"
   },
   {
    "duration": 0,
    "start_time": "2024-10-27T19:42:09.089Z"
   },
   {
    "duration": 0,
    "start_time": "2024-10-27T19:42:09.090Z"
   },
   {
    "duration": 186,
    "start_time": "2024-10-27T19:56:40.461Z"
   },
   {
    "duration": 181,
    "start_time": "2024-10-27T19:57:12.378Z"
   },
   {
    "duration": 196,
    "start_time": "2024-10-27T20:00:12.347Z"
   },
   {
    "duration": 210,
    "start_time": "2024-10-27T20:01:59.921Z"
   },
   {
    "duration": 6,
    "start_time": "2024-10-27T20:06:21.647Z"
   },
   {
    "duration": 5,
    "start_time": "2024-10-27T20:06:29.394Z"
   },
   {
    "duration": 45,
    "start_time": "2024-10-27T20:07:26.400Z"
   },
   {
    "duration": 69,
    "start_time": "2024-10-27T20:08:27.834Z"
   },
   {
    "duration": 16,
    "start_time": "2024-10-27T20:12:46.784Z"
   },
   {
    "duration": 12,
    "start_time": "2024-10-27T20:12:55.189Z"
   },
   {
    "duration": 5,
    "start_time": "2024-10-27T20:15:44.957Z"
   },
   {
    "duration": 14,
    "start_time": "2024-10-27T20:16:55.667Z"
   },
   {
    "duration": 13,
    "start_time": "2024-10-27T20:17:02.469Z"
   },
   {
    "duration": 785,
    "start_time": "2024-10-27T20:17:21.959Z"
   },
   {
    "duration": 159,
    "start_time": "2024-10-27T20:17:22.746Z"
   },
   {
    "duration": 11,
    "start_time": "2024-10-27T20:17:22.906Z"
   },
   {
    "duration": 27,
    "start_time": "2024-10-27T20:17:22.919Z"
   },
   {
    "duration": 7,
    "start_time": "2024-10-27T20:17:22.948Z"
   },
   {
    "duration": 5,
    "start_time": "2024-10-27T20:17:22.957Z"
   },
   {
    "duration": 15,
    "start_time": "2024-10-27T20:17:22.963Z"
   },
   {
    "duration": 9,
    "start_time": "2024-10-27T20:17:22.980Z"
   },
   {
    "duration": 43,
    "start_time": "2024-10-27T20:17:22.991Z"
   },
   {
    "duration": 14,
    "start_time": "2024-10-27T20:17:23.038Z"
   },
   {
    "duration": 59,
    "start_time": "2024-10-27T20:17:23.053Z"
   },
   {
    "duration": 27,
    "start_time": "2024-10-27T20:17:23.113Z"
   },
   {
    "duration": 26,
    "start_time": "2024-10-27T20:17:23.142Z"
   },
   {
    "duration": 12,
    "start_time": "2024-10-27T20:17:23.170Z"
   },
   {
    "duration": 53,
    "start_time": "2024-10-27T20:17:23.183Z"
   },
   {
    "duration": 9,
    "start_time": "2024-10-27T20:17:23.237Z"
   },
   {
    "duration": 11,
    "start_time": "2024-10-27T20:17:23.247Z"
   },
   {
    "duration": 78,
    "start_time": "2024-10-27T20:17:23.260Z"
   },
   {
    "duration": 9,
    "start_time": "2024-10-27T20:17:23.340Z"
   },
   {
    "duration": 21,
    "start_time": "2024-10-27T20:17:23.350Z"
   },
   {
    "duration": 8,
    "start_time": "2024-10-27T20:17:23.373Z"
   },
   {
    "duration": 49,
    "start_time": "2024-10-27T20:17:23.383Z"
   },
   {
    "duration": 27,
    "start_time": "2024-10-27T20:17:23.434Z"
   },
   {
    "duration": 19,
    "start_time": "2024-10-27T20:17:23.462Z"
   },
   {
    "duration": 20,
    "start_time": "2024-10-27T20:17:23.483Z"
   },
   {
    "duration": 47,
    "start_time": "2024-10-27T20:17:23.504Z"
   },
   {
    "duration": 31,
    "start_time": "2024-10-27T20:17:23.553Z"
   },
   {
    "duration": 70,
    "start_time": "2024-10-27T20:17:23.588Z"
   },
   {
    "duration": 201,
    "start_time": "2024-10-27T20:17:23.660Z"
   },
   {
    "duration": 216,
    "start_time": "2024-10-27T20:17:23.863Z"
   },
   {
    "duration": 5,
    "start_time": "2024-10-27T20:17:24.081Z"
   },
   {
    "duration": 5,
    "start_time": "2024-10-27T20:17:24.088Z"
   },
   {
    "duration": 290,
    "start_time": "2024-10-27T20:17:24.094Z"
   },
   {
    "duration": 215,
    "start_time": "2024-10-27T20:17:24.386Z"
   },
   {
    "duration": 6,
    "start_time": "2024-10-27T20:17:24.603Z"
   },
   {
    "duration": 659,
    "start_time": "2024-10-27T20:17:24.611Z"
   },
   {
    "duration": 0,
    "start_time": "2024-10-27T20:17:25.272Z"
   },
   {
    "duration": 0,
    "start_time": "2024-10-27T20:17:25.273Z"
   },
   {
    "duration": 0,
    "start_time": "2024-10-27T20:17:25.274Z"
   },
   {
    "duration": 0,
    "start_time": "2024-10-27T20:17:25.275Z"
   },
   {
    "duration": 0,
    "start_time": "2024-10-27T20:17:25.276Z"
   },
   {
    "duration": 825,
    "start_time": "2024-10-27T20:18:43.241Z"
   },
   {
    "duration": 190,
    "start_time": "2024-10-27T20:18:44.069Z"
   },
   {
    "duration": 14,
    "start_time": "2024-10-27T20:18:44.261Z"
   },
   {
    "duration": 41,
    "start_time": "2024-10-27T20:18:44.278Z"
   },
   {
    "duration": 11,
    "start_time": "2024-10-27T20:18:44.332Z"
   },
   {
    "duration": 5,
    "start_time": "2024-10-27T20:18:44.346Z"
   },
   {
    "duration": 17,
    "start_time": "2024-10-27T20:18:44.353Z"
   },
   {
    "duration": 11,
    "start_time": "2024-10-27T20:18:44.371Z"
   },
   {
    "duration": 9,
    "start_time": "2024-10-27T20:18:44.384Z"
   },
   {
    "duration": 17,
    "start_time": "2024-10-27T20:18:44.433Z"
   },
   {
    "duration": 55,
    "start_time": "2024-10-27T20:18:44.452Z"
   },
   {
    "duration": 31,
    "start_time": "2024-10-27T20:18:44.509Z"
   },
   {
    "duration": 40,
    "start_time": "2024-10-27T20:18:44.544Z"
   },
   {
    "duration": 15,
    "start_time": "2024-10-27T20:18:44.586Z"
   },
   {
    "duration": 52,
    "start_time": "2024-10-27T20:18:44.603Z"
   },
   {
    "duration": 8,
    "start_time": "2024-10-27T20:18:44.657Z"
   },
   {
    "duration": 11,
    "start_time": "2024-10-27T20:18:44.667Z"
   },
   {
    "duration": 80,
    "start_time": "2024-10-27T20:18:44.680Z"
   },
   {
    "duration": 11,
    "start_time": "2024-10-27T20:18:44.762Z"
   },
   {
    "duration": 32,
    "start_time": "2024-10-27T20:18:44.775Z"
   },
   {
    "duration": 26,
    "start_time": "2024-10-27T20:18:44.809Z"
   },
   {
    "duration": 25,
    "start_time": "2024-10-27T20:18:44.836Z"
   },
   {
    "duration": 34,
    "start_time": "2024-10-27T20:18:44.863Z"
   },
   {
    "duration": 43,
    "start_time": "2024-10-27T20:18:44.898Z"
   },
   {
    "duration": 22,
    "start_time": "2024-10-27T20:18:44.943Z"
   },
   {
    "duration": 34,
    "start_time": "2024-10-27T20:18:44.967Z"
   },
   {
    "duration": 73,
    "start_time": "2024-10-27T20:18:45.004Z"
   },
   {
    "duration": 107,
    "start_time": "2024-10-27T20:18:45.082Z"
   },
   {
    "duration": 245,
    "start_time": "2024-10-27T20:18:45.191Z"
   },
   {
    "duration": 249,
    "start_time": "2024-10-27T20:18:45.438Z"
   },
   {
    "duration": 6,
    "start_time": "2024-10-27T20:18:45.690Z"
   },
   {
    "duration": 338,
    "start_time": "2024-10-27T20:18:45.698Z"
   },
   {
    "duration": 209,
    "start_time": "2024-10-27T20:18:46.038Z"
   },
   {
    "duration": 225,
    "start_time": "2024-10-27T20:18:46.252Z"
   },
   {
    "duration": 7,
    "start_time": "2024-10-27T20:18:46.479Z"
   },
   {
    "duration": 279,
    "start_time": "2024-10-27T20:18:46.488Z"
   },
   {
    "duration": 192,
    "start_time": "2024-10-27T20:18:46.769Z"
   },
   {
    "duration": 242,
    "start_time": "2024-10-27T20:18:46.963Z"
   },
   {
    "duration": 9,
    "start_time": "2024-10-27T20:18:47.207Z"
   },
   {
    "duration": 14,
    "start_time": "2024-10-27T20:18:47.218Z"
   },
   {
    "duration": 3,
    "start_time": "2024-10-27T20:18:47.236Z"
   },
   {
    "duration": 343,
    "start_time": "2024-10-27T20:21:03.252Z"
   },
   {
    "duration": 222,
    "start_time": "2024-10-27T20:24:48.466Z"
   },
   {
    "duration": 781,
    "start_time": "2024-10-27T20:24:57.483Z"
   },
   {
    "duration": 178,
    "start_time": "2024-10-27T20:24:58.267Z"
   },
   {
    "duration": 10,
    "start_time": "2024-10-27T20:24:58.446Z"
   },
   {
    "duration": 27,
    "start_time": "2024-10-27T20:24:58.458Z"
   },
   {
    "duration": 8,
    "start_time": "2024-10-27T20:24:58.486Z"
   },
   {
    "duration": 4,
    "start_time": "2024-10-27T20:24:58.496Z"
   },
   {
    "duration": 42,
    "start_time": "2024-10-27T20:24:58.502Z"
   },
   {
    "duration": 8,
    "start_time": "2024-10-27T20:24:58.546Z"
   },
   {
    "duration": 9,
    "start_time": "2024-10-27T20:24:58.556Z"
   },
   {
    "duration": 15,
    "start_time": "2024-10-27T20:24:58.569Z"
   },
   {
    "duration": 86,
    "start_time": "2024-10-27T20:24:58.586Z"
   },
   {
    "duration": 9,
    "start_time": "2024-10-27T20:24:58.674Z"
   },
   {
    "duration": 27,
    "start_time": "2024-10-27T20:24:58.685Z"
   },
   {
    "duration": 27,
    "start_time": "2024-10-27T20:24:58.713Z"
   },
   {
    "duration": 27,
    "start_time": "2024-10-27T20:24:58.741Z"
   },
   {
    "duration": 10,
    "start_time": "2024-10-27T20:24:58.769Z"
   },
   {
    "duration": 9,
    "start_time": "2024-10-27T20:24:58.781Z"
   },
   {
    "duration": 94,
    "start_time": "2024-10-27T20:24:58.792Z"
   },
   {
    "duration": 9,
    "start_time": "2024-10-27T20:24:58.888Z"
   },
   {
    "duration": 39,
    "start_time": "2024-10-27T20:24:58.898Z"
   },
   {
    "duration": 7,
    "start_time": "2024-10-27T20:24:58.939Z"
   },
   {
    "duration": 24,
    "start_time": "2024-10-27T20:24:58.948Z"
   },
   {
    "duration": 24,
    "start_time": "2024-10-27T20:24:58.974Z"
   },
   {
    "duration": 43,
    "start_time": "2024-10-27T20:24:59.000Z"
   },
   {
    "duration": 21,
    "start_time": "2024-10-27T20:24:59.045Z"
   },
   {
    "duration": 23,
    "start_time": "2024-10-27T20:24:59.067Z"
   },
   {
    "duration": 56,
    "start_time": "2024-10-27T20:24:59.092Z"
   },
   {
    "duration": 55,
    "start_time": "2024-10-27T20:24:59.154Z"
   },
   {
    "duration": 241,
    "start_time": "2024-10-27T20:24:59.211Z"
   },
   {
    "duration": 226,
    "start_time": "2024-10-27T20:24:59.453Z"
   },
   {
    "duration": 5,
    "start_time": "2024-10-27T20:24:59.681Z"
   },
   {
    "duration": 323,
    "start_time": "2024-10-27T20:24:59.688Z"
   },
   {
    "duration": 203,
    "start_time": "2024-10-27T20:25:00.013Z"
   },
   {
    "duration": 226,
    "start_time": "2024-10-27T20:25:00.218Z"
   },
   {
    "duration": 7,
    "start_time": "2024-10-27T20:25:00.447Z"
   },
   {
    "duration": 254,
    "start_time": "2024-10-27T20:25:00.456Z"
   },
   {
    "duration": 196,
    "start_time": "2024-10-27T20:25:00.712Z"
   },
   {
    "duration": 213,
    "start_time": "2024-10-27T20:25:00.909Z"
   },
   {
    "duration": 10,
    "start_time": "2024-10-27T20:25:01.124Z"
   },
   {
    "duration": 319,
    "start_time": "2024-10-27T20:25:01.136Z"
   },
   {
    "duration": 2,
    "start_time": "2024-10-27T20:25:01.458Z"
   },
   {
    "duration": 3,
    "start_time": "2024-10-27T20:25:01.462Z"
   },
   {
    "duration": 5,
    "start_time": "2024-10-27T20:26:33.273Z"
   },
   {
    "duration": 5,
    "start_time": "2024-10-27T20:27:06.182Z"
   },
   {
    "duration": 6,
    "start_time": "2024-10-27T20:27:18.880Z"
   },
   {
    "duration": 227,
    "start_time": "2024-10-27T20:29:15.325Z"
   },
   {
    "duration": 755,
    "start_time": "2024-10-27T20:32:51.593Z"
   },
   {
    "duration": 155,
    "start_time": "2024-10-27T20:32:52.350Z"
   },
   {
    "duration": 13,
    "start_time": "2024-10-27T20:32:52.507Z"
   },
   {
    "duration": 45,
    "start_time": "2024-10-27T20:32:52.523Z"
   },
   {
    "duration": 7,
    "start_time": "2024-10-27T20:32:52.570Z"
   },
   {
    "duration": 5,
    "start_time": "2024-10-27T20:32:52.579Z"
   },
   {
    "duration": 18,
    "start_time": "2024-10-27T20:32:52.586Z"
   },
   {
    "duration": 32,
    "start_time": "2024-10-27T20:32:52.606Z"
   },
   {
    "duration": 10,
    "start_time": "2024-10-27T20:32:52.641Z"
   },
   {
    "duration": 18,
    "start_time": "2024-10-27T20:32:52.657Z"
   },
   {
    "duration": 93,
    "start_time": "2024-10-27T20:32:52.679Z"
   },
   {
    "duration": 14,
    "start_time": "2024-10-27T20:32:52.774Z"
   },
   {
    "duration": 50,
    "start_time": "2024-10-27T20:32:52.791Z"
   },
   {
    "duration": 11,
    "start_time": "2024-10-27T20:32:52.845Z"
   },
   {
    "duration": 29,
    "start_time": "2024-10-27T20:32:52.858Z"
   },
   {
    "duration": 8,
    "start_time": "2024-10-27T20:32:52.890Z"
   },
   {
    "duration": 37,
    "start_time": "2024-10-27T20:32:52.900Z"
   },
   {
    "duration": 57,
    "start_time": "2024-10-27T20:32:52.939Z"
   },
   {
    "duration": 11,
    "start_time": "2024-10-27T20:32:52.998Z"
   },
   {
    "duration": 38,
    "start_time": "2024-10-27T20:32:53.012Z"
   },
   {
    "duration": 12,
    "start_time": "2024-10-27T20:32:53.052Z"
   },
   {
    "duration": 37,
    "start_time": "2024-10-27T20:32:53.066Z"
   },
   {
    "duration": 49,
    "start_time": "2024-10-27T20:32:53.105Z"
   },
   {
    "duration": 22,
    "start_time": "2024-10-27T20:32:53.156Z"
   },
   {
    "duration": 24,
    "start_time": "2024-10-27T20:32:53.180Z"
   },
   {
    "duration": 55,
    "start_time": "2024-10-27T20:32:53.206Z"
   },
   {
    "duration": 36,
    "start_time": "2024-10-27T20:32:53.263Z"
   },
   {
    "duration": 102,
    "start_time": "2024-10-27T20:32:53.305Z"
   },
   {
    "duration": 236,
    "start_time": "2024-10-27T20:32:53.410Z"
   },
   {
    "duration": 256,
    "start_time": "2024-10-27T20:32:53.649Z"
   },
   {
    "duration": 8,
    "start_time": "2024-10-27T20:32:53.907Z"
   },
   {
    "duration": 360,
    "start_time": "2024-10-27T20:32:53.919Z"
   },
   {
    "duration": 300,
    "start_time": "2024-10-27T20:32:54.281Z"
   },
   {
    "duration": 229,
    "start_time": "2024-10-27T20:32:54.584Z"
   },
   {
    "duration": 258,
    "start_time": "2024-10-27T20:32:54.816Z"
   },
   {
    "duration": 6,
    "start_time": "2024-10-27T20:32:55.076Z"
   },
   {
    "duration": 303,
    "start_time": "2024-10-27T20:32:55.084Z"
   },
   {
    "duration": 222,
    "start_time": "2024-10-27T20:32:55.389Z"
   },
   {
    "duration": 312,
    "start_time": "2024-10-27T20:32:55.613Z"
   },
   {
    "duration": 8,
    "start_time": "2024-10-27T20:32:55.931Z"
   },
   {
    "duration": 246,
    "start_time": "2024-10-27T20:32:55.941Z"
   },
   {
    "duration": 9,
    "start_time": "2024-10-27T20:32:56.189Z"
   },
   {
    "duration": 3,
    "start_time": "2024-10-27T20:32:56.200Z"
   },
   {
    "duration": 2,
    "start_time": "2024-10-27T20:32:56.205Z"
   },
   {
    "duration": 794,
    "start_time": "2024-10-27T20:36:44.652Z"
   },
   {
    "duration": 163,
    "start_time": "2024-10-27T20:36:45.448Z"
   },
   {
    "duration": 10,
    "start_time": "2024-10-27T20:36:45.612Z"
   },
   {
    "duration": 27,
    "start_time": "2024-10-27T20:36:45.625Z"
   },
   {
    "duration": 8,
    "start_time": "2024-10-27T20:36:45.654Z"
   },
   {
    "duration": 5,
    "start_time": "2024-10-27T20:36:45.663Z"
   },
   {
    "duration": 16,
    "start_time": "2024-10-27T20:36:45.669Z"
   },
   {
    "duration": 9,
    "start_time": "2024-10-27T20:36:45.686Z"
   },
   {
    "duration": 44,
    "start_time": "2024-10-27T20:36:45.696Z"
   },
   {
    "duration": 15,
    "start_time": "2024-10-27T20:36:45.744Z"
   },
   {
    "duration": 76,
    "start_time": "2024-10-27T20:36:45.761Z"
   },
   {
    "duration": 9,
    "start_time": "2024-10-27T20:36:45.838Z"
   },
   {
    "duration": 26,
    "start_time": "2024-10-27T20:36:45.849Z"
   },
   {
    "duration": 12,
    "start_time": "2024-10-27T20:36:45.877Z"
   },
   {
    "duration": 52,
    "start_time": "2024-10-27T20:36:45.891Z"
   },
   {
    "duration": 8,
    "start_time": "2024-10-27T20:36:45.944Z"
   },
   {
    "duration": 11,
    "start_time": "2024-10-27T20:36:45.954Z"
   },
   {
    "duration": 82,
    "start_time": "2024-10-27T20:36:45.967Z"
   },
   {
    "duration": 8,
    "start_time": "2024-10-27T20:36:46.051Z"
   },
   {
    "duration": 21,
    "start_time": "2024-10-27T20:36:46.061Z"
   },
   {
    "duration": 8,
    "start_time": "2024-10-27T20:36:46.083Z"
   },
   {
    "duration": 54,
    "start_time": "2024-10-27T20:36:46.093Z"
   },
   {
    "duration": 24,
    "start_time": "2024-10-27T20:36:46.150Z"
   },
   {
    "duration": 18,
    "start_time": "2024-10-27T20:36:46.176Z"
   },
   {
    "duration": 38,
    "start_time": "2024-10-27T20:36:46.196Z"
   },
   {
    "duration": 23,
    "start_time": "2024-10-27T20:36:46.236Z"
   },
   {
    "duration": 31,
    "start_time": "2024-10-27T20:36:46.262Z"
   },
   {
    "duration": 80,
    "start_time": "2024-10-27T20:36:46.298Z"
   },
   {
    "duration": 204,
    "start_time": "2024-10-27T20:36:46.380Z"
   },
   {
    "duration": 228,
    "start_time": "2024-10-27T20:36:46.587Z"
   },
   {
    "duration": 14,
    "start_time": "2024-10-27T20:36:46.817Z"
   },
   {
    "duration": 411,
    "start_time": "2024-10-27T20:36:46.833Z"
   },
   {
    "duration": 0,
    "start_time": "2024-10-27T20:36:47.246Z"
   },
   {
    "duration": 0,
    "start_time": "2024-10-27T20:36:47.247Z"
   },
   {
    "duration": 0,
    "start_time": "2024-10-27T20:36:47.248Z"
   },
   {
    "duration": 0,
    "start_time": "2024-10-27T20:36:47.250Z"
   },
   {
    "duration": 0,
    "start_time": "2024-10-27T20:36:47.252Z"
   },
   {
    "duration": 0,
    "start_time": "2024-10-27T20:36:47.253Z"
   },
   {
    "duration": 0,
    "start_time": "2024-10-27T20:36:47.254Z"
   },
   {
    "duration": 0,
    "start_time": "2024-10-27T20:36:47.256Z"
   },
   {
    "duration": 0,
    "start_time": "2024-10-27T20:36:47.258Z"
   },
   {
    "duration": 0,
    "start_time": "2024-10-27T20:36:47.259Z"
   },
   {
    "duration": 0,
    "start_time": "2024-10-27T20:36:47.260Z"
   },
   {
    "duration": 0,
    "start_time": "2024-10-27T20:36:47.262Z"
   },
   {
    "duration": 233,
    "start_time": "2024-10-27T20:38:23.834Z"
   },
   {
    "duration": 235,
    "start_time": "2024-10-27T20:40:34.582Z"
   },
   {
    "duration": 270,
    "start_time": "2024-10-27T20:41:07.092Z"
   },
   {
    "duration": 207,
    "start_time": "2024-10-27T20:41:10.572Z"
   },
   {
    "duration": 5,
    "start_time": "2024-10-27T20:41:15.258Z"
   },
   {
    "duration": 238,
    "start_time": "2024-10-27T20:45:08.995Z"
   },
   {
    "duration": 17,
    "start_time": "2024-10-27T20:45:22.757Z"
   },
   {
    "duration": 785,
    "start_time": "2024-10-27T20:45:39.069Z"
   },
   {
    "duration": 157,
    "start_time": "2024-10-27T20:45:39.856Z"
   },
   {
    "duration": 11,
    "start_time": "2024-10-27T20:45:40.014Z"
   },
   {
    "duration": 27,
    "start_time": "2024-10-27T20:45:40.030Z"
   },
   {
    "duration": 7,
    "start_time": "2024-10-27T20:45:40.059Z"
   },
   {
    "duration": 4,
    "start_time": "2024-10-27T20:45:40.068Z"
   },
   {
    "duration": 15,
    "start_time": "2024-10-27T20:45:40.073Z"
   },
   {
    "duration": 41,
    "start_time": "2024-10-27T20:45:40.090Z"
   },
   {
    "duration": 10,
    "start_time": "2024-10-27T20:45:40.134Z"
   },
   {
    "duration": 14,
    "start_time": "2024-10-27T20:45:40.148Z"
   },
   {
    "duration": 77,
    "start_time": "2024-10-27T20:45:40.164Z"
   },
   {
    "duration": 12,
    "start_time": "2024-10-27T20:45:40.242Z"
   },
   {
    "duration": 27,
    "start_time": "2024-10-27T20:45:40.256Z"
   },
   {
    "duration": 11,
    "start_time": "2024-10-27T20:45:40.285Z"
   },
   {
    "duration": 54,
    "start_time": "2024-10-27T20:45:40.297Z"
   },
   {
    "duration": 7,
    "start_time": "2024-10-27T20:45:40.353Z"
   },
   {
    "duration": 11,
    "start_time": "2024-10-27T20:45:40.362Z"
   },
   {
    "duration": 89,
    "start_time": "2024-10-27T20:45:40.375Z"
   },
   {
    "duration": 9,
    "start_time": "2024-10-27T20:45:40.466Z"
   },
   {
    "duration": 21,
    "start_time": "2024-10-27T20:45:40.477Z"
   },
   {
    "duration": 7,
    "start_time": "2024-10-27T20:45:40.500Z"
   },
   {
    "duration": 46,
    "start_time": "2024-10-27T20:45:40.509Z"
   },
   {
    "duration": 26,
    "start_time": "2024-10-27T20:45:40.557Z"
   },
   {
    "duration": 18,
    "start_time": "2024-10-27T20:45:40.585Z"
   },
   {
    "duration": 45,
    "start_time": "2024-10-27T20:45:40.605Z"
   },
   {
    "duration": 22,
    "start_time": "2024-10-27T20:45:40.652Z"
   },
   {
    "duration": 35,
    "start_time": "2024-10-27T20:45:40.676Z"
   },
   {
    "duration": 55,
    "start_time": "2024-10-27T20:45:40.735Z"
   },
   {
    "duration": 220,
    "start_time": "2024-10-27T20:45:40.792Z"
   },
   {
    "duration": 224,
    "start_time": "2024-10-27T20:45:41.014Z"
   },
   {
    "duration": 5,
    "start_time": "2024-10-27T20:45:41.240Z"
   },
   {
    "duration": 296,
    "start_time": "2024-10-27T20:45:41.247Z"
   },
   {
    "duration": 245,
    "start_time": "2024-10-27T20:45:41.545Z"
   },
   {
    "duration": 205,
    "start_time": "2024-10-27T20:45:41.792Z"
   },
   {
    "duration": 211,
    "start_time": "2024-10-27T20:45:41.999Z"
   },
   {
    "duration": 5,
    "start_time": "2024-10-27T20:45:42.212Z"
   },
   {
    "duration": 237,
    "start_time": "2024-10-27T20:45:42.219Z"
   },
   {
    "duration": 235,
    "start_time": "2024-10-27T20:45:42.457Z"
   },
   {
    "duration": 268,
    "start_time": "2024-10-27T20:45:42.694Z"
   },
   {
    "duration": 212,
    "start_time": "2024-10-27T20:45:42.964Z"
   },
   {
    "duration": 6,
    "start_time": "2024-10-27T20:45:43.177Z"
   },
   {
    "duration": 248,
    "start_time": "2024-10-27T20:45:43.185Z"
   },
   {
    "duration": 6,
    "start_time": "2024-10-27T20:45:43.435Z"
   },
   {
    "duration": 2,
    "start_time": "2024-10-27T20:45:43.442Z"
   },
   {
    "duration": 2,
    "start_time": "2024-10-27T20:45:43.446Z"
   },
   {
    "duration": 222,
    "start_time": "2024-10-27T20:46:55.856Z"
   },
   {
    "duration": 17,
    "start_time": "2024-10-27T20:47:49.244Z"
   },
   {
    "duration": 828,
    "start_time": "2024-10-27T20:49:28.860Z"
   },
   {
    "duration": 176,
    "start_time": "2024-10-27T20:49:29.690Z"
   },
   {
    "duration": 10,
    "start_time": "2024-10-27T20:49:29.867Z"
   },
   {
    "duration": 27,
    "start_time": "2024-10-27T20:49:29.880Z"
   },
   {
    "duration": 23,
    "start_time": "2024-10-27T20:49:29.909Z"
   },
   {
    "duration": 5,
    "start_time": "2024-10-27T20:49:29.934Z"
   },
   {
    "duration": 16,
    "start_time": "2024-10-27T20:49:29.941Z"
   },
   {
    "duration": 9,
    "start_time": "2024-10-27T20:49:29.959Z"
   },
   {
    "duration": 9,
    "start_time": "2024-10-27T20:49:29.970Z"
   },
   {
    "duration": 52,
    "start_time": "2024-10-27T20:49:29.983Z"
   },
   {
    "duration": 54,
    "start_time": "2024-10-27T20:49:30.037Z"
   },
   {
    "duration": 9,
    "start_time": "2024-10-27T20:49:30.093Z"
   },
   {
    "duration": 47,
    "start_time": "2024-10-27T20:49:30.104Z"
   },
   {
    "duration": 10,
    "start_time": "2024-10-27T20:49:30.152Z"
   },
   {
    "duration": 29,
    "start_time": "2024-10-27T20:49:30.164Z"
   },
   {
    "duration": 8,
    "start_time": "2024-10-27T20:49:30.195Z"
   },
   {
    "duration": 36,
    "start_time": "2024-10-27T20:49:30.205Z"
   },
   {
    "duration": 52,
    "start_time": "2024-10-27T20:49:30.243Z"
   },
   {
    "duration": 9,
    "start_time": "2024-10-27T20:49:30.297Z"
   },
   {
    "duration": 43,
    "start_time": "2024-10-27T20:49:30.308Z"
   },
   {
    "duration": 7,
    "start_time": "2024-10-27T20:49:30.353Z"
   },
   {
    "duration": 24,
    "start_time": "2024-10-27T20:49:30.362Z"
   },
   {
    "duration": 50,
    "start_time": "2024-10-27T20:49:30.388Z"
   },
   {
    "duration": 18,
    "start_time": "2024-10-27T20:49:30.440Z"
   },
   {
    "duration": 21,
    "start_time": "2024-10-27T20:49:30.460Z"
   },
   {
    "duration": 22,
    "start_time": "2024-10-27T20:49:30.482Z"
   },
   {
    "duration": 31,
    "start_time": "2024-10-27T20:49:30.531Z"
   },
   {
    "duration": 67,
    "start_time": "2024-10-27T20:49:30.567Z"
   },
   {
    "duration": 209,
    "start_time": "2024-10-27T20:49:30.636Z"
   },
   {
    "duration": 231,
    "start_time": "2024-10-27T20:49:30.847Z"
   },
   {
    "duration": 5,
    "start_time": "2024-10-27T20:49:31.081Z"
   },
   {
    "duration": 303,
    "start_time": "2024-10-27T20:49:31.089Z"
   },
   {
    "duration": 239,
    "start_time": "2024-10-27T20:49:31.394Z"
   },
   {
    "duration": 196,
    "start_time": "2024-10-27T20:49:31.635Z"
   },
   {
    "duration": 224,
    "start_time": "2024-10-27T20:49:31.833Z"
   },
   {
    "duration": 6,
    "start_time": "2024-10-27T20:49:32.059Z"
   },
   {
    "duration": 241,
    "start_time": "2024-10-27T20:49:32.067Z"
   },
   {
    "duration": 224,
    "start_time": "2024-10-27T20:49:32.310Z"
   },
   {
    "duration": 274,
    "start_time": "2024-10-27T20:49:32.536Z"
   },
   {
    "duration": 201,
    "start_time": "2024-10-27T20:49:32.812Z"
   },
   {
    "duration": 5,
    "start_time": "2024-10-27T20:49:33.016Z"
   },
   {
    "duration": 229,
    "start_time": "2024-10-27T20:49:33.031Z"
   },
   {
    "duration": 5,
    "start_time": "2024-10-27T20:49:33.263Z"
   },
   {
    "duration": 3,
    "start_time": "2024-10-27T20:49:33.269Z"
   },
   {
    "duration": 3,
    "start_time": "2024-10-27T20:49:33.273Z"
   },
   {
    "duration": 805,
    "start_time": "2024-10-27T20:52:56.839Z"
   },
   {
    "duration": 175,
    "start_time": "2024-10-27T20:52:57.646Z"
   },
   {
    "duration": 12,
    "start_time": "2024-10-27T20:52:57.823Z"
   },
   {
    "duration": 28,
    "start_time": "2024-10-27T20:52:57.837Z"
   },
   {
    "duration": 7,
    "start_time": "2024-10-27T20:52:57.867Z"
   },
   {
    "duration": 6,
    "start_time": "2024-10-27T20:52:57.876Z"
   },
   {
    "duration": 17,
    "start_time": "2024-10-27T20:52:57.883Z"
   },
   {
    "duration": 44,
    "start_time": "2024-10-27T20:52:57.901Z"
   },
   {
    "duration": 9,
    "start_time": "2024-10-27T20:52:57.947Z"
   },
   {
    "duration": 14,
    "start_time": "2024-10-27T20:52:57.959Z"
   },
   {
    "duration": 88,
    "start_time": "2024-10-27T20:52:57.974Z"
   },
   {
    "duration": 9,
    "start_time": "2024-10-27T20:52:58.064Z"
   },
   {
    "duration": 27,
    "start_time": "2024-10-27T20:52:58.075Z"
   },
   {
    "duration": 38,
    "start_time": "2024-10-27T20:52:58.103Z"
   },
   {
    "duration": 30,
    "start_time": "2024-10-27T20:52:58.143Z"
   },
   {
    "duration": 8,
    "start_time": "2024-10-27T20:52:58.174Z"
   },
   {
    "duration": 10,
    "start_time": "2024-10-27T20:52:58.184Z"
   },
   {
    "duration": 94,
    "start_time": "2024-10-27T20:52:58.196Z"
   },
   {
    "duration": 9,
    "start_time": "2024-10-27T20:52:58.292Z"
   },
   {
    "duration": 35,
    "start_time": "2024-10-27T20:52:58.302Z"
   },
   {
    "duration": 10,
    "start_time": "2024-10-27T20:52:58.339Z"
   },
   {
    "duration": 23,
    "start_time": "2024-10-27T20:52:58.351Z"
   },
   {
    "duration": 24,
    "start_time": "2024-10-27T20:52:58.376Z"
   },
   {
    "duration": 43,
    "start_time": "2024-10-27T20:52:58.402Z"
   },
   {
    "duration": 21,
    "start_time": "2024-10-27T20:52:58.447Z"
   },
   {
    "duration": 24,
    "start_time": "2024-10-27T20:52:58.470Z"
   },
   {
    "duration": 57,
    "start_time": "2024-10-27T20:52:58.496Z"
   },
   {
    "duration": 55,
    "start_time": "2024-10-27T20:52:58.557Z"
   },
   {
    "duration": 221,
    "start_time": "2024-10-27T20:52:58.614Z"
   },
   {
    "duration": 224,
    "start_time": "2024-10-27T20:52:58.837Z"
   },
   {
    "duration": 5,
    "start_time": "2024-10-27T20:52:59.063Z"
   },
   {
    "duration": 308,
    "start_time": "2024-10-27T20:52:59.070Z"
   },
   {
    "duration": 242,
    "start_time": "2024-10-27T20:52:59.380Z"
   },
   {
    "duration": 199,
    "start_time": "2024-10-27T20:52:59.632Z"
   },
   {
    "duration": 209,
    "start_time": "2024-10-27T20:52:59.833Z"
   },
   {
    "duration": 5,
    "start_time": "2024-10-27T20:53:00.044Z"
   },
   {
    "duration": 230,
    "start_time": "2024-10-27T20:53:00.051Z"
   },
   {
    "duration": 239,
    "start_time": "2024-10-27T20:53:00.283Z"
   },
   {
    "duration": 266,
    "start_time": "2024-10-27T20:53:00.524Z"
   },
   {
    "duration": 206,
    "start_time": "2024-10-27T20:53:00.792Z"
   },
   {
    "duration": 6,
    "start_time": "2024-10-27T20:53:01.000Z"
   },
   {
    "duration": 231,
    "start_time": "2024-10-27T20:53:01.007Z"
   },
   {
    "duration": 8,
    "start_time": "2024-10-27T20:53:01.240Z"
   },
   {
    "duration": 3,
    "start_time": "2024-10-27T20:53:01.250Z"
   },
   {
    "duration": 2,
    "start_time": "2024-10-27T20:53:01.256Z"
   },
   {
    "duration": 221,
    "start_time": "2024-10-27T20:54:04.451Z"
   },
   {
    "duration": 6,
    "start_time": "2024-10-27T20:56:42.799Z"
   },
   {
    "duration": 5,
    "start_time": "2024-10-27T20:59:53.339Z"
   },
   {
    "duration": 6,
    "start_time": "2024-10-27T21:00:04.549Z"
   },
   {
    "duration": 7,
    "start_time": "2024-10-27T21:01:24.179Z"
   },
   {
    "duration": 642,
    "start_time": "2024-10-27T21:01:52.676Z"
   },
   {
    "duration": 8,
    "start_time": "2024-10-27T21:02:14.718Z"
   },
   {
    "duration": 218,
    "start_time": "2024-10-27T21:04:31.507Z"
   },
   {
    "duration": 30,
    "start_time": "2024-10-27T21:04:55.603Z"
   },
   {
    "duration": 16,
    "start_time": "2024-10-27T21:05:27.019Z"
   },
   {
    "duration": 23,
    "start_time": "2024-10-27T21:05:36.922Z"
   },
   {
    "duration": 24,
    "start_time": "2024-10-27T21:06:14.321Z"
   },
   {
    "duration": 31,
    "start_time": "2024-10-27T21:07:46.294Z"
   },
   {
    "duration": 31,
    "start_time": "2024-10-27T21:08:53.670Z"
   },
   {
    "duration": 7,
    "start_time": "2024-10-27T21:09:19.199Z"
   },
   {
    "duration": 187,
    "start_time": "2024-10-27T21:13:46.935Z"
   },
   {
    "duration": 196,
    "start_time": "2024-10-27T21:16:03.460Z"
   },
   {
    "duration": 7,
    "start_time": "2024-10-27T21:18:06.609Z"
   },
   {
    "duration": 22,
    "start_time": "2024-10-27T21:20:07.731Z"
   },
   {
    "duration": 787,
    "start_time": "2024-10-27T21:20:21.078Z"
   },
   {
    "duration": 175,
    "start_time": "2024-10-27T21:20:21.867Z"
   },
   {
    "duration": 10,
    "start_time": "2024-10-27T21:20:22.043Z"
   },
   {
    "duration": 27,
    "start_time": "2024-10-27T21:20:22.055Z"
   },
   {
    "duration": 8,
    "start_time": "2024-10-27T21:20:22.083Z"
   },
   {
    "duration": 5,
    "start_time": "2024-10-27T21:20:22.092Z"
   },
   {
    "duration": 44,
    "start_time": "2024-10-27T21:20:22.098Z"
   },
   {
    "duration": 8,
    "start_time": "2024-10-27T21:20:22.145Z"
   },
   {
    "duration": 9,
    "start_time": "2024-10-27T21:20:22.155Z"
   },
   {
    "duration": 14,
    "start_time": "2024-10-27T21:20:22.167Z"
   },
   {
    "duration": 86,
    "start_time": "2024-10-27T21:20:22.182Z"
   },
   {
    "duration": 10,
    "start_time": "2024-10-27T21:20:22.269Z"
   },
   {
    "duration": 26,
    "start_time": "2024-10-27T21:20:22.282Z"
   },
   {
    "duration": 31,
    "start_time": "2024-10-27T21:20:22.309Z"
   },
   {
    "duration": 28,
    "start_time": "2024-10-27T21:20:22.342Z"
   },
   {
    "duration": 8,
    "start_time": "2024-10-27T21:20:22.372Z"
   },
   {
    "duration": 10,
    "start_time": "2024-10-27T21:20:22.382Z"
   },
   {
    "duration": 83,
    "start_time": "2024-10-27T21:20:22.394Z"
   },
   {
    "duration": 8,
    "start_time": "2024-10-27T21:20:22.479Z"
   },
   {
    "duration": 20,
    "start_time": "2024-10-27T21:20:22.489Z"
   },
   {
    "duration": 27,
    "start_time": "2024-10-27T21:20:22.510Z"
   },
   {
    "duration": 24,
    "start_time": "2024-10-27T21:20:22.538Z"
   },
   {
    "duration": 24,
    "start_time": "2024-10-27T21:20:22.564Z"
   },
   {
    "duration": 43,
    "start_time": "2024-10-27T21:20:22.590Z"
   },
   {
    "duration": 21,
    "start_time": "2024-10-27T21:20:22.634Z"
   },
   {
    "duration": 21,
    "start_time": "2024-10-27T21:20:22.657Z"
   },
   {
    "duration": 31,
    "start_time": "2024-10-27T21:20:22.680Z"
   },
   {
    "duration": 54,
    "start_time": "2024-10-27T21:20:22.735Z"
   },
   {
    "duration": 208,
    "start_time": "2024-10-27T21:20:22.792Z"
   },
   {
    "duration": 226,
    "start_time": "2024-10-27T21:20:23.001Z"
   },
   {
    "duration": 5,
    "start_time": "2024-10-27T21:20:23.231Z"
   },
   {
    "duration": 299,
    "start_time": "2024-10-27T21:20:23.238Z"
   },
   {
    "duration": 240,
    "start_time": "2024-10-27T21:20:23.539Z"
   },
   {
    "duration": 190,
    "start_time": "2024-10-27T21:20:23.781Z"
   },
   {
    "duration": 210,
    "start_time": "2024-10-27T21:20:23.973Z"
   },
   {
    "duration": 5,
    "start_time": "2024-10-27T21:20:24.185Z"
   },
   {
    "duration": 246,
    "start_time": "2024-10-27T21:20:24.192Z"
   },
   {
    "duration": 231,
    "start_time": "2024-10-27T21:20:24.441Z"
   },
   {
    "duration": 284,
    "start_time": "2024-10-27T21:20:24.674Z"
   },
   {
    "duration": 218,
    "start_time": "2024-10-27T21:20:24.960Z"
   },
   {
    "duration": 5,
    "start_time": "2024-10-27T21:20:25.180Z"
   },
   {
    "duration": 231,
    "start_time": "2024-10-27T21:20:25.187Z"
   },
   {
    "duration": 229,
    "start_time": "2024-10-27T21:20:25.421Z"
   },
   {
    "duration": 203,
    "start_time": "2024-10-27T21:20:25.652Z"
   },
   {
    "duration": 202,
    "start_time": "2024-10-27T21:20:25.857Z"
   },
   {
    "duration": 5,
    "start_time": "2024-10-27T21:20:26.060Z"
   },
   {
    "duration": 310,
    "start_time": "2024-10-27T21:20:26.067Z"
   },
   {
    "duration": 0,
    "start_time": "2024-10-27T21:20:26.380Z"
   },
   {
    "duration": 0,
    "start_time": "2024-10-27T21:20:26.381Z"
   },
   {
    "duration": 22,
    "start_time": "2024-10-27T21:21:30.416Z"
   },
   {
    "duration": 782,
    "start_time": "2024-10-27T21:21:38.585Z"
   },
   {
    "duration": 156,
    "start_time": "2024-10-27T21:21:39.369Z"
   },
   {
    "duration": 10,
    "start_time": "2024-10-27T21:21:39.527Z"
   },
   {
    "duration": 28,
    "start_time": "2024-10-27T21:21:39.538Z"
   },
   {
    "duration": 10,
    "start_time": "2024-10-27T21:21:39.569Z"
   },
   {
    "duration": 5,
    "start_time": "2024-10-27T21:21:39.580Z"
   },
   {
    "duration": 17,
    "start_time": "2024-10-27T21:21:39.586Z"
   },
   {
    "duration": 9,
    "start_time": "2024-10-27T21:21:39.632Z"
   },
   {
    "duration": 8,
    "start_time": "2024-10-27T21:21:39.645Z"
   },
   {
    "duration": 12,
    "start_time": "2024-10-27T21:21:39.655Z"
   },
   {
    "duration": 82,
    "start_time": "2024-10-27T21:21:39.669Z"
   },
   {
    "duration": 9,
    "start_time": "2024-10-27T21:21:39.753Z"
   },
   {
    "duration": 28,
    "start_time": "2024-10-27T21:21:39.764Z"
   },
   {
    "duration": 35,
    "start_time": "2024-10-27T21:21:39.797Z"
   },
   {
    "duration": 30,
    "start_time": "2024-10-27T21:21:39.834Z"
   },
   {
    "duration": 7,
    "start_time": "2024-10-27T21:21:39.866Z"
   },
   {
    "duration": 10,
    "start_time": "2024-10-27T21:21:39.875Z"
   },
   {
    "duration": 81,
    "start_time": "2024-10-27T21:21:39.887Z"
   },
   {
    "duration": 10,
    "start_time": "2024-10-27T21:21:39.970Z"
   },
   {
    "duration": 20,
    "start_time": "2024-10-27T21:21:39.982Z"
   },
   {
    "duration": 28,
    "start_time": "2024-10-27T21:21:40.004Z"
   },
   {
    "duration": 26,
    "start_time": "2024-10-27T21:21:40.034Z"
   },
   {
    "duration": 25,
    "start_time": "2024-10-27T21:21:40.061Z"
   },
   {
    "duration": 19,
    "start_time": "2024-10-27T21:21:40.087Z"
   },
   {
    "duration": 22,
    "start_time": "2024-10-27T21:21:40.133Z"
   },
   {
    "duration": 22,
    "start_time": "2024-10-27T21:21:40.156Z"
   },
   {
    "duration": 53,
    "start_time": "2024-10-27T21:21:40.180Z"
   },
   {
    "duration": 56,
    "start_time": "2024-10-27T21:21:40.235Z"
   },
   {
    "duration": 219,
    "start_time": "2024-10-27T21:21:40.293Z"
   },
   {
    "duration": 227,
    "start_time": "2024-10-27T21:21:40.514Z"
   },
   {
    "duration": 4,
    "start_time": "2024-10-27T21:21:40.743Z"
   },
   {
    "duration": 300,
    "start_time": "2024-10-27T21:21:40.749Z"
   },
   {
    "duration": 251,
    "start_time": "2024-10-27T21:21:41.051Z"
   },
   {
    "duration": 208,
    "start_time": "2024-10-27T21:21:41.304Z"
   },
   {
    "duration": 219,
    "start_time": "2024-10-27T21:21:41.514Z"
   },
   {
    "duration": 6,
    "start_time": "2024-10-27T21:21:41.735Z"
   },
   {
    "duration": 244,
    "start_time": "2024-10-27T21:21:41.742Z"
   },
   {
    "duration": 231,
    "start_time": "2024-10-27T21:21:41.988Z"
   },
   {
    "duration": 270,
    "start_time": "2024-10-27T21:21:42.221Z"
   },
   {
    "duration": 216,
    "start_time": "2024-10-27T21:21:42.493Z"
   },
   {
    "duration": 5,
    "start_time": "2024-10-27T21:21:42.714Z"
   },
   {
    "duration": 265,
    "start_time": "2024-10-27T21:21:42.720Z"
   },
   {
    "duration": 295,
    "start_time": "2024-10-27T21:21:42.988Z"
   },
   {
    "duration": 229,
    "start_time": "2024-10-27T21:21:43.286Z"
   },
   {
    "duration": 210,
    "start_time": "2024-10-27T21:21:43.517Z"
   },
   {
    "duration": 5,
    "start_time": "2024-10-27T21:21:43.728Z"
   },
   {
    "duration": 337,
    "start_time": "2024-10-27T21:21:43.736Z"
   },
   {
    "duration": 0,
    "start_time": "2024-10-27T21:21:44.075Z"
   },
   {
    "duration": 0,
    "start_time": "2024-10-27T21:21:44.076Z"
   },
   {
    "duration": 820,
    "start_time": "2024-10-27T21:38:23.630Z"
   },
   {
    "duration": 169,
    "start_time": "2024-10-27T21:38:24.452Z"
   },
   {
    "duration": 11,
    "start_time": "2024-10-27T21:38:24.622Z"
   },
   {
    "duration": 27,
    "start_time": "2024-10-27T21:38:24.635Z"
   },
   {
    "duration": 7,
    "start_time": "2024-10-27T21:38:24.664Z"
   },
   {
    "duration": 5,
    "start_time": "2024-10-27T21:38:24.673Z"
   },
   {
    "duration": 17,
    "start_time": "2024-10-27T21:38:24.680Z"
   },
   {
    "duration": 10,
    "start_time": "2024-10-27T21:38:24.732Z"
   },
   {
    "duration": 9,
    "start_time": "2024-10-27T21:38:24.744Z"
   },
   {
    "duration": 15,
    "start_time": "2024-10-27T21:38:24.757Z"
   },
   {
    "duration": 87,
    "start_time": "2024-10-27T21:38:24.774Z"
   },
   {
    "duration": 9,
    "start_time": "2024-10-27T21:38:24.863Z"
   },
   {
    "duration": 28,
    "start_time": "2024-10-27T21:38:24.874Z"
   },
   {
    "duration": 31,
    "start_time": "2024-10-27T21:38:24.903Z"
   },
   {
    "duration": 30,
    "start_time": "2024-10-27T21:38:24.936Z"
   },
   {
    "duration": 7,
    "start_time": "2024-10-27T21:38:24.968Z"
   },
   {
    "duration": 12,
    "start_time": "2024-10-27T21:38:24.977Z"
   },
   {
    "duration": 87,
    "start_time": "2024-10-27T21:38:24.990Z"
   },
   {
    "duration": 11,
    "start_time": "2024-10-27T21:38:25.078Z"
   },
   {
    "duration": 22,
    "start_time": "2024-10-27T21:38:25.090Z"
   },
   {
    "duration": 7,
    "start_time": "2024-10-27T21:38:25.131Z"
   },
   {
    "duration": 24,
    "start_time": "2024-10-27T21:38:25.140Z"
   },
   {
    "duration": 25,
    "start_time": "2024-10-27T21:38:25.166Z"
   },
   {
    "duration": 43,
    "start_time": "2024-10-27T21:38:25.193Z"
   },
   {
    "duration": 20,
    "start_time": "2024-10-27T21:38:25.238Z"
   },
   {
    "duration": 22,
    "start_time": "2024-10-27T21:38:25.259Z"
   },
   {
    "duration": 51,
    "start_time": "2024-10-27T21:38:25.283Z"
   },
   {
    "duration": 57,
    "start_time": "2024-10-27T21:38:25.338Z"
   },
   {
    "duration": 220,
    "start_time": "2024-10-27T21:38:25.397Z"
   },
   {
    "duration": 219,
    "start_time": "2024-10-27T21:38:25.619Z"
   },
   {
    "duration": 4,
    "start_time": "2024-10-27T21:38:25.840Z"
   },
   {
    "duration": 320,
    "start_time": "2024-10-27T21:38:25.846Z"
   },
   {
    "duration": 241,
    "start_time": "2024-10-27T21:38:26.169Z"
   },
   {
    "duration": 198,
    "start_time": "2024-10-27T21:38:26.411Z"
   },
   {
    "duration": 209,
    "start_time": "2024-10-27T21:38:26.611Z"
   },
   {
    "duration": 12,
    "start_time": "2024-10-27T21:38:26.821Z"
   },
   {
    "duration": 232,
    "start_time": "2024-10-27T21:38:26.835Z"
   },
   {
    "duration": 241,
    "start_time": "2024-10-27T21:38:27.069Z"
   },
   {
    "duration": 273,
    "start_time": "2024-10-27T21:38:27.312Z"
   },
   {
    "duration": 220,
    "start_time": "2024-10-27T21:38:27.587Z"
   },
   {
    "duration": 5,
    "start_time": "2024-10-27T21:38:27.809Z"
   },
   {
    "duration": 232,
    "start_time": "2024-10-27T21:38:27.830Z"
   },
   {
    "duration": 244,
    "start_time": "2024-10-27T21:38:28.064Z"
   },
   {
    "duration": 207,
    "start_time": "2024-10-27T21:38:28.310Z"
   },
   {
    "duration": 207,
    "start_time": "2024-10-27T21:38:28.518Z"
   },
   {
    "duration": 6,
    "start_time": "2024-10-27T21:38:28.727Z"
   },
   {
    "duration": 311,
    "start_time": "2024-10-27T21:38:28.734Z"
   },
   {
    "duration": 3,
    "start_time": "2024-10-27T21:38:29.047Z"
   },
   {
    "duration": 2,
    "start_time": "2024-10-27T21:38:29.052Z"
   },
   {
    "duration": 824,
    "start_time": "2024-10-27T21:38:51.846Z"
   },
   {
    "duration": 164,
    "start_time": "2024-10-27T21:38:52.673Z"
   },
   {
    "duration": 10,
    "start_time": "2024-10-27T21:38:52.838Z"
   },
   {
    "duration": 29,
    "start_time": "2024-10-27T21:38:52.851Z"
   },
   {
    "duration": 7,
    "start_time": "2024-10-27T21:38:52.882Z"
   },
   {
    "duration": 5,
    "start_time": "2024-10-27T21:38:52.891Z"
   },
   {
    "duration": 43,
    "start_time": "2024-10-27T21:38:52.897Z"
   },
   {
    "duration": 8,
    "start_time": "2024-10-27T21:38:52.942Z"
   },
   {
    "duration": 10,
    "start_time": "2024-10-27T21:38:52.952Z"
   },
   {
    "duration": 15,
    "start_time": "2024-10-27T21:38:52.966Z"
   },
   {
    "duration": 86,
    "start_time": "2024-10-27T21:38:52.982Z"
   },
   {
    "duration": 10,
    "start_time": "2024-10-27T21:38:53.070Z"
   },
   {
    "duration": 27,
    "start_time": "2024-10-27T21:38:53.082Z"
   },
   {
    "duration": 30,
    "start_time": "2024-10-27T21:38:53.111Z"
   },
   {
    "duration": 28,
    "start_time": "2024-10-27T21:38:53.143Z"
   },
   {
    "duration": 8,
    "start_time": "2024-10-27T21:38:53.173Z"
   },
   {
    "duration": 11,
    "start_time": "2024-10-27T21:38:53.182Z"
   },
   {
    "duration": 87,
    "start_time": "2024-10-27T21:38:53.195Z"
   },
   {
    "duration": 9,
    "start_time": "2024-10-27T21:38:53.284Z"
   },
   {
    "duration": 20,
    "start_time": "2024-10-27T21:38:53.295Z"
   },
   {
    "duration": 20,
    "start_time": "2024-10-27T21:38:53.317Z"
   },
   {
    "duration": 24,
    "start_time": "2024-10-27T21:38:53.338Z"
   },
   {
    "duration": 24,
    "start_time": "2024-10-27T21:38:53.364Z"
   },
   {
    "duration": 42,
    "start_time": "2024-10-27T21:38:53.390Z"
   },
   {
    "duration": 20,
    "start_time": "2024-10-27T21:38:53.434Z"
   },
   {
    "duration": 24,
    "start_time": "2024-10-27T21:38:53.456Z"
   },
   {
    "duration": 54,
    "start_time": "2024-10-27T21:38:53.482Z"
   },
   {
    "duration": 57,
    "start_time": "2024-10-27T21:38:53.540Z"
   },
   {
    "duration": 209,
    "start_time": "2024-10-27T21:38:53.599Z"
   },
   {
    "duration": 221,
    "start_time": "2024-10-27T21:38:53.810Z"
   },
   {
    "duration": 6,
    "start_time": "2024-10-27T21:38:54.033Z"
   },
   {
    "duration": 309,
    "start_time": "2024-10-27T21:38:54.040Z"
   },
   {
    "duration": 240,
    "start_time": "2024-10-27T21:38:54.351Z"
   },
   {
    "duration": 205,
    "start_time": "2024-10-27T21:38:54.593Z"
   },
   {
    "duration": 209,
    "start_time": "2024-10-27T21:38:54.800Z"
   },
   {
    "duration": 7,
    "start_time": "2024-10-27T21:38:55.011Z"
   },
   {
    "duration": 241,
    "start_time": "2024-10-27T21:38:55.019Z"
   },
   {
    "duration": 227,
    "start_time": "2024-10-27T21:38:55.262Z"
   },
   {
    "duration": 282,
    "start_time": "2024-10-27T21:38:55.491Z"
   },
   {
    "duration": 203,
    "start_time": "2024-10-27T21:38:55.775Z"
   },
   {
    "duration": 5,
    "start_time": "2024-10-27T21:38:55.980Z"
   },
   {
    "duration": 228,
    "start_time": "2024-10-27T21:38:55.986Z"
   },
   {
    "duration": 248,
    "start_time": "2024-10-27T21:38:56.215Z"
   },
   {
    "duration": 204,
    "start_time": "2024-10-27T21:38:56.465Z"
   },
   {
    "duration": 208,
    "start_time": "2024-10-27T21:38:56.671Z"
   },
   {
    "duration": 5,
    "start_time": "2024-10-27T21:38:56.881Z"
   },
   {
    "duration": 307,
    "start_time": "2024-10-27T21:38:56.887Z"
   },
   {
    "duration": 2,
    "start_time": "2024-10-27T21:38:57.197Z"
   },
   {
    "duration": 3,
    "start_time": "2024-10-27T21:38:57.200Z"
   },
   {
    "duration": 582,
    "start_time": "2024-10-27T21:54:46.636Z"
   },
   {
    "duration": 4,
    "start_time": "2024-10-27T21:58:55.627Z"
   },
   {
    "duration": 14,
    "start_time": "2024-10-27T22:00:58.810Z"
   },
   {
    "duration": 6,
    "start_time": "2024-10-27T22:01:39.241Z"
   },
   {
    "duration": 4,
    "start_time": "2024-10-27T22:02:10.608Z"
   },
   {
    "duration": 4,
    "start_time": "2024-10-27T22:02:15.060Z"
   },
   {
    "duration": 5,
    "start_time": "2024-10-27T22:02:21.242Z"
   },
   {
    "duration": 40,
    "start_time": "2024-10-27T22:02:39.454Z"
   },
   {
    "duration": 25,
    "start_time": "2024-10-27T22:04:40.071Z"
   },
   {
    "duration": 16,
    "start_time": "2024-10-27T22:04:53.019Z"
   },
   {
    "duration": 17,
    "start_time": "2024-10-27T22:04:59.547Z"
   },
   {
    "duration": 31,
    "start_time": "2024-10-27T22:05:20.249Z"
   },
   {
    "duration": 25,
    "start_time": "2024-10-27T22:07:07.777Z"
   },
   {
    "duration": 37,
    "start_time": "2024-10-27T22:07:35.147Z"
   },
   {
    "duration": 29,
    "start_time": "2024-10-27T22:07:45.301Z"
   },
   {
    "duration": 18,
    "start_time": "2024-10-27T22:10:47.697Z"
   },
   {
    "duration": 805,
    "start_time": "2024-10-27T22:11:11.931Z"
   },
   {
    "duration": 153,
    "start_time": "2024-10-27T22:11:12.738Z"
   },
   {
    "duration": 11,
    "start_time": "2024-10-27T22:11:12.893Z"
   },
   {
    "duration": 34,
    "start_time": "2024-10-27T22:11:12.906Z"
   },
   {
    "duration": 8,
    "start_time": "2024-10-27T22:11:12.941Z"
   },
   {
    "duration": 5,
    "start_time": "2024-10-27T22:11:12.951Z"
   },
   {
    "duration": 16,
    "start_time": "2024-10-27T22:11:12.957Z"
   },
   {
    "duration": 10,
    "start_time": "2024-10-27T22:11:12.974Z"
   },
   {
    "duration": 10,
    "start_time": "2024-10-27T22:11:12.985Z"
   },
   {
    "duration": 14,
    "start_time": "2024-10-27T22:11:13.034Z"
   },
   {
    "duration": 55,
    "start_time": "2024-10-27T22:11:13.049Z"
   },
   {
    "duration": 31,
    "start_time": "2024-10-27T22:11:13.106Z"
   },
   {
    "duration": 26,
    "start_time": "2024-10-27T22:11:13.138Z"
   },
   {
    "duration": 14,
    "start_time": "2024-10-27T22:11:13.166Z"
   },
   {
    "duration": 57,
    "start_time": "2024-10-27T22:11:13.181Z"
   },
   {
    "duration": 9,
    "start_time": "2024-10-27T22:11:13.239Z"
   },
   {
    "duration": 11,
    "start_time": "2024-10-27T22:11:13.250Z"
   },
   {
    "duration": 77,
    "start_time": "2024-10-27T22:11:13.263Z"
   },
   {
    "duration": 9,
    "start_time": "2024-10-27T22:11:13.342Z"
   },
   {
    "duration": 21,
    "start_time": "2024-10-27T22:11:13.353Z"
   },
   {
    "duration": 8,
    "start_time": "2024-10-27T22:11:13.376Z"
   },
   {
    "duration": 53,
    "start_time": "2024-10-27T22:11:13.386Z"
   },
   {
    "duration": 26,
    "start_time": "2024-10-27T22:11:13.441Z"
   },
   {
    "duration": 18,
    "start_time": "2024-10-27T22:11:13.468Z"
   },
   {
    "duration": 44,
    "start_time": "2024-10-27T22:11:13.488Z"
   },
   {
    "duration": 24,
    "start_time": "2024-10-27T22:11:13.534Z"
   },
   {
    "duration": 30,
    "start_time": "2024-10-27T22:11:13.560Z"
   },
   {
    "duration": 73,
    "start_time": "2024-10-27T22:11:13.595Z"
   },
   {
    "duration": 217,
    "start_time": "2024-10-27T22:11:13.670Z"
   },
   {
    "duration": 226,
    "start_time": "2024-10-27T22:11:13.888Z"
   },
   {
    "duration": 5,
    "start_time": "2024-10-27T22:11:14.116Z"
   },
   {
    "duration": 297,
    "start_time": "2024-10-27T22:11:14.123Z"
   },
   {
    "duration": 241,
    "start_time": "2024-10-27T22:11:14.421Z"
   },
   {
    "duration": 198,
    "start_time": "2024-10-27T22:11:14.664Z"
   },
   {
    "duration": 206,
    "start_time": "2024-10-27T22:11:14.864Z"
   },
   {
    "duration": 6,
    "start_time": "2024-10-27T22:11:15.072Z"
   },
   {
    "duration": 236,
    "start_time": "2024-10-27T22:11:15.079Z"
   },
   {
    "duration": 235,
    "start_time": "2024-10-27T22:11:15.317Z"
   },
   {
    "duration": 258,
    "start_time": "2024-10-27T22:11:15.554Z"
   },
   {
    "duration": 209,
    "start_time": "2024-10-27T22:11:15.814Z"
   },
   {
    "duration": 9,
    "start_time": "2024-10-27T22:11:16.025Z"
   },
   {
    "duration": 224,
    "start_time": "2024-10-27T22:11:16.036Z"
   },
   {
    "duration": 232,
    "start_time": "2024-10-27T22:11:16.262Z"
   },
   {
    "duration": 209,
    "start_time": "2024-10-27T22:11:16.496Z"
   },
   {
    "duration": 214,
    "start_time": "2024-10-27T22:11:16.707Z"
   },
   {
    "duration": 10,
    "start_time": "2024-10-27T22:11:16.923Z"
   },
   {
    "duration": 4,
    "start_time": "2024-10-27T22:11:16.935Z"
   },
   {
    "duration": 324,
    "start_time": "2024-10-27T22:11:16.941Z"
   },
   {
    "duration": 37,
    "start_time": "2024-10-27T22:11:53.674Z"
   },
   {
    "duration": 60,
    "start_time": "2024-10-27T22:14:02.841Z"
   },
   {
    "duration": 57,
    "start_time": "2024-10-27T22:15:02.548Z"
   },
   {
    "duration": 30,
    "start_time": "2024-10-27T22:15:29.847Z"
   },
   {
    "duration": 46,
    "start_time": "2024-10-27T22:15:55.295Z"
   },
   {
    "duration": 45,
    "start_time": "2024-10-27T22:16:13.933Z"
   },
   {
    "duration": 19,
    "start_time": "2024-10-27T22:17:21.026Z"
   },
   {
    "duration": 45,
    "start_time": "2024-10-27T22:17:36.680Z"
   },
   {
    "duration": 233,
    "start_time": "2024-10-27T22:21:17.826Z"
   },
   {
    "duration": 54,
    "start_time": "2024-10-27T22:21:48.549Z"
   },
   {
    "duration": 581,
    "start_time": "2024-10-27T22:23:35.129Z"
   },
   {
    "duration": 46,
    "start_time": "2024-10-27T22:25:07.615Z"
   },
   {
    "duration": 78,
    "start_time": "2024-10-27T22:25:17.729Z"
   },
   {
    "duration": 78,
    "start_time": "2024-10-27T22:27:00.162Z"
   },
   {
    "duration": 74,
    "start_time": "2024-10-27T22:29:51.478Z"
   },
   {
    "duration": 45,
    "start_time": "2024-10-27T22:31:26.102Z"
   },
   {
    "duration": 52,
    "start_time": "2024-10-27T22:33:16.885Z"
   },
   {
    "duration": 38,
    "start_time": "2024-10-27T22:33:32.613Z"
   },
   {
    "duration": 77,
    "start_time": "2024-10-27T22:33:40.365Z"
   },
   {
    "duration": 76,
    "start_time": "2024-10-27T22:34:02.929Z"
   },
   {
    "duration": 794,
    "start_time": "2024-10-27T22:34:17.161Z"
   },
   {
    "duration": 170,
    "start_time": "2024-10-27T22:34:17.957Z"
   },
   {
    "duration": 13,
    "start_time": "2024-10-27T22:34:18.128Z"
   },
   {
    "duration": 27,
    "start_time": "2024-10-27T22:34:18.144Z"
   },
   {
    "duration": 7,
    "start_time": "2024-10-27T22:34:18.173Z"
   },
   {
    "duration": 5,
    "start_time": "2024-10-27T22:34:18.182Z"
   },
   {
    "duration": 44,
    "start_time": "2024-10-27T22:34:18.188Z"
   },
   {
    "duration": 11,
    "start_time": "2024-10-27T22:34:18.234Z"
   },
   {
    "duration": 10,
    "start_time": "2024-10-27T22:34:18.246Z"
   },
   {
    "duration": 13,
    "start_time": "2024-10-27T22:34:18.259Z"
   },
   {
    "duration": 86,
    "start_time": "2024-10-27T22:34:18.274Z"
   },
   {
    "duration": 11,
    "start_time": "2024-10-27T22:34:18.361Z"
   },
   {
    "duration": 26,
    "start_time": "2024-10-27T22:34:18.374Z"
   },
   {
    "duration": 32,
    "start_time": "2024-10-27T22:34:18.402Z"
   },
   {
    "duration": 29,
    "start_time": "2024-10-27T22:34:18.436Z"
   },
   {
    "duration": 8,
    "start_time": "2024-10-27T22:34:18.466Z"
   },
   {
    "duration": 11,
    "start_time": "2024-10-27T22:34:18.475Z"
   },
   {
    "duration": 78,
    "start_time": "2024-10-27T22:34:18.488Z"
   },
   {
    "duration": 10,
    "start_time": "2024-10-27T22:34:18.568Z"
   },
   {
    "duration": 24,
    "start_time": "2024-10-27T22:34:18.580Z"
   },
   {
    "duration": 29,
    "start_time": "2024-10-27T22:34:18.607Z"
   },
   {
    "duration": 26,
    "start_time": "2024-10-27T22:34:18.637Z"
   },
   {
    "duration": 25,
    "start_time": "2024-10-27T22:34:18.665Z"
   },
   {
    "duration": 43,
    "start_time": "2024-10-27T22:34:18.692Z"
   },
   {
    "duration": 21,
    "start_time": "2024-10-27T22:34:18.736Z"
   },
   {
    "duration": 23,
    "start_time": "2024-10-27T22:34:18.758Z"
   },
   {
    "duration": 52,
    "start_time": "2024-10-27T22:34:18.783Z"
   },
   {
    "duration": 55,
    "start_time": "2024-10-27T22:34:18.840Z"
   },
   {
    "duration": 208,
    "start_time": "2024-10-27T22:34:18.897Z"
   },
   {
    "duration": 217,
    "start_time": "2024-10-27T22:34:19.106Z"
   },
   {
    "duration": 9,
    "start_time": "2024-10-27T22:34:19.325Z"
   },
   {
    "duration": 295,
    "start_time": "2024-10-27T22:34:19.336Z"
   },
   {
    "duration": 259,
    "start_time": "2024-10-27T22:34:19.633Z"
   },
   {
    "duration": 208,
    "start_time": "2024-10-27T22:34:19.894Z"
   },
   {
    "duration": 209,
    "start_time": "2024-10-27T22:34:20.103Z"
   },
   {
    "duration": 5,
    "start_time": "2024-10-27T22:34:20.314Z"
   },
   {
    "duration": 232,
    "start_time": "2024-10-27T22:34:20.332Z"
   },
   {
    "duration": 233,
    "start_time": "2024-10-27T22:34:20.566Z"
   },
   {
    "duration": 265,
    "start_time": "2024-10-27T22:34:20.800Z"
   },
   {
    "duration": 209,
    "start_time": "2024-10-27T22:34:21.068Z"
   },
   {
    "duration": 5,
    "start_time": "2024-10-27T22:34:21.279Z"
   },
   {
    "duration": 232,
    "start_time": "2024-10-27T22:34:21.286Z"
   },
   {
    "duration": 232,
    "start_time": "2024-10-27T22:34:21.519Z"
   },
   {
    "duration": 205,
    "start_time": "2024-10-27T22:34:21.753Z"
   },
   {
    "duration": 207,
    "start_time": "2024-10-27T22:34:21.960Z"
   },
   {
    "duration": 5,
    "start_time": "2024-10-27T22:34:22.168Z"
   },
   {
    "duration": 6,
    "start_time": "2024-10-27T22:34:22.175Z"
   },
   {
    "duration": 72,
    "start_time": "2024-10-27T22:34:22.182Z"
   },
   {
    "duration": 33,
    "start_time": "2024-10-27T22:37:22.648Z"
   },
   {
    "duration": 34,
    "start_time": "2024-10-27T22:37:38.044Z"
   },
   {
    "duration": 38,
    "start_time": "2024-10-27T22:38:27.597Z"
   },
   {
    "duration": 29,
    "start_time": "2024-10-27T22:39:35.665Z"
   },
   {
    "duration": 59,
    "start_time": "2024-10-27T22:40:26.391Z"
   },
   {
    "duration": 29,
    "start_time": "2024-10-27T22:40:58.686Z"
   },
   {
    "duration": 60,
    "start_time": "2024-10-27T22:41:27.984Z"
   },
   {
    "duration": 98,
    "start_time": "2024-10-27T22:41:36.719Z"
   },
   {
    "duration": 4,
    "start_time": "2024-10-27T22:43:12.597Z"
   },
   {
    "duration": 85,
    "start_time": "2024-10-27T22:43:20.209Z"
   },
   {
    "duration": 91,
    "start_time": "2024-10-27T22:43:48.476Z"
   },
   {
    "duration": 87,
    "start_time": "2024-10-27T22:44:08.501Z"
   },
   {
    "duration": 92,
    "start_time": "2024-10-27T22:44:59.351Z"
   },
   {
    "duration": 194,
    "start_time": "2024-10-27T22:45:29.449Z"
   },
   {
    "duration": 81,
    "start_time": "2024-10-27T22:45:37.522Z"
   },
   {
    "duration": 68,
    "start_time": "2024-10-27T22:46:00.786Z"
   },
   {
    "duration": 96,
    "start_time": "2024-10-27T22:46:09.410Z"
   },
   {
    "duration": 189,
    "start_time": "2024-10-27T22:49:10.890Z"
   },
   {
    "duration": 18,
    "start_time": "2024-10-27T22:53:18.256Z"
   },
   {
    "duration": 15,
    "start_time": "2024-10-27T22:58:55.555Z"
   },
   {
    "duration": 28,
    "start_time": "2024-10-27T22:59:03.959Z"
   },
   {
    "duration": 22,
    "start_time": "2024-10-27T22:59:09.200Z"
   },
   {
    "duration": 22,
    "start_time": "2024-10-27T23:00:20.566Z"
   },
   {
    "duration": 16,
    "start_time": "2024-10-27T23:00:53.861Z"
   },
   {
    "duration": 27,
    "start_time": "2024-10-27T23:01:01.245Z"
   },
   {
    "duration": 22,
    "start_time": "2024-10-27T23:01:10.563Z"
   },
   {
    "duration": 726,
    "start_time": "2024-10-27T23:03:28.120Z"
   },
   {
    "duration": 354,
    "start_time": "2024-10-27T23:06:56.062Z"
   },
   {
    "duration": 6,
    "start_time": "2024-10-27T23:07:09.438Z"
   },
   {
    "duration": 4,
    "start_time": "2024-10-27T23:07:16.309Z"
   },
   {
    "duration": 16,
    "start_time": "2024-10-27T23:09:11.520Z"
   },
   {
    "duration": 21,
    "start_time": "2024-10-27T23:09:21.040Z"
   },
   {
    "duration": 22,
    "start_time": "2024-10-27T23:11:12.777Z"
   },
   {
    "duration": 22,
    "start_time": "2024-10-27T23:12:13.159Z"
   },
   {
    "duration": 21,
    "start_time": "2024-10-27T23:13:12.488Z"
   },
   {
    "duration": 18,
    "start_time": "2024-10-27T23:14:51.115Z"
   },
   {
    "duration": 21,
    "start_time": "2024-10-27T23:15:54.456Z"
   },
   {
    "duration": 20,
    "start_time": "2024-10-27T23:19:45.056Z"
   },
   {
    "duration": 8,
    "start_time": "2024-10-27T23:24:21.571Z"
   },
   {
    "duration": 5,
    "start_time": "2024-10-27T23:25:07.108Z"
   },
   {
    "duration": 8,
    "start_time": "2024-10-27T23:26:18.732Z"
   },
   {
    "duration": 8,
    "start_time": "2024-10-27T23:26:33.655Z"
   },
   {
    "duration": 8,
    "start_time": "2024-10-27T23:27:07.683Z"
   },
   {
    "duration": 9,
    "start_time": "2024-10-27T23:28:09.817Z"
   },
   {
    "duration": 7,
    "start_time": "2024-10-27T23:28:18.858Z"
   },
   {
    "duration": 813,
    "start_time": "2024-10-27T23:37:08.642Z"
   },
   {
    "duration": 168,
    "start_time": "2024-10-27T23:37:09.457Z"
   },
   {
    "duration": 10,
    "start_time": "2024-10-27T23:37:09.626Z"
   },
   {
    "duration": 26,
    "start_time": "2024-10-27T23:37:09.639Z"
   },
   {
    "duration": 7,
    "start_time": "2024-10-27T23:37:09.667Z"
   },
   {
    "duration": 4,
    "start_time": "2024-10-27T23:37:09.676Z"
   },
   {
    "duration": 16,
    "start_time": "2024-10-27T23:37:09.681Z"
   },
   {
    "duration": 37,
    "start_time": "2024-10-27T23:37:09.698Z"
   },
   {
    "duration": 10,
    "start_time": "2024-10-27T23:37:09.737Z"
   },
   {
    "duration": 13,
    "start_time": "2024-10-27T23:37:09.750Z"
   },
   {
    "duration": 86,
    "start_time": "2024-10-27T23:37:09.765Z"
   },
   {
    "duration": 10,
    "start_time": "2024-10-27T23:37:09.853Z"
   },
   {
    "duration": 31,
    "start_time": "2024-10-27T23:37:09.865Z"
   },
   {
    "duration": 10,
    "start_time": "2024-10-27T23:37:09.898Z"
   },
   {
    "duration": 28,
    "start_time": "2024-10-27T23:37:09.931Z"
   },
   {
    "duration": 8,
    "start_time": "2024-10-27T23:37:09.961Z"
   },
   {
    "duration": 10,
    "start_time": "2024-10-27T23:37:09.971Z"
   },
   {
    "duration": 81,
    "start_time": "2024-10-27T23:37:09.982Z"
   },
   {
    "duration": 9,
    "start_time": "2024-10-27T23:37:10.065Z"
   },
   {
    "duration": 23,
    "start_time": "2024-10-27T23:37:10.075Z"
   },
   {
    "duration": 8,
    "start_time": "2024-10-27T23:37:10.099Z"
   },
   {
    "duration": 28,
    "start_time": "2024-10-27T23:37:10.131Z"
   },
   {
    "duration": 26,
    "start_time": "2024-10-27T23:37:10.161Z"
   },
   {
    "duration": 18,
    "start_time": "2024-10-27T23:37:10.188Z"
   },
   {
    "duration": 41,
    "start_time": "2024-10-27T23:37:10.208Z"
   },
   {
    "duration": 23,
    "start_time": "2024-10-27T23:37:10.251Z"
   },
   {
    "duration": 33,
    "start_time": "2024-10-27T23:37:10.276Z"
   },
   {
    "duration": 72,
    "start_time": "2024-10-27T23:37:10.313Z"
   },
   {
    "duration": 216,
    "start_time": "2024-10-27T23:37:10.388Z"
   },
   {
    "duration": 225,
    "start_time": "2024-10-27T23:37:10.606Z"
   },
   {
    "duration": 8,
    "start_time": "2024-10-27T23:37:10.834Z"
   },
   {
    "duration": 308,
    "start_time": "2024-10-27T23:37:10.843Z"
   },
   {
    "duration": 249,
    "start_time": "2024-10-27T23:37:11.154Z"
   },
   {
    "duration": 204,
    "start_time": "2024-10-27T23:37:11.405Z"
   },
   {
    "duration": 220,
    "start_time": "2024-10-27T23:37:11.611Z"
   },
   {
    "duration": 6,
    "start_time": "2024-10-27T23:37:11.833Z"
   },
   {
    "duration": 249,
    "start_time": "2024-10-27T23:37:11.841Z"
   },
   {
    "duration": 229,
    "start_time": "2024-10-27T23:37:12.091Z"
   },
   {
    "duration": 262,
    "start_time": "2024-10-27T23:37:12.323Z"
   },
   {
    "duration": 205,
    "start_time": "2024-10-27T23:37:12.588Z"
   },
   {
    "duration": 5,
    "start_time": "2024-10-27T23:37:12.794Z"
   },
   {
    "duration": 234,
    "start_time": "2024-10-27T23:37:12.800Z"
   },
   {
    "duration": 245,
    "start_time": "2024-10-27T23:37:13.036Z"
   },
   {
    "duration": 210,
    "start_time": "2024-10-27T23:37:13.283Z"
   },
   {
    "duration": 206,
    "start_time": "2024-10-27T23:37:13.495Z"
   },
   {
    "duration": 5,
    "start_time": "2024-10-27T23:37:13.703Z"
   },
   {
    "duration": 6,
    "start_time": "2024-10-27T23:37:13.710Z"
   },
   {
    "duration": 574,
    "start_time": "2024-10-27T23:37:13.732Z"
   },
   {
    "duration": 43,
    "start_time": "2024-10-27T23:40:45.488Z"
   },
   {
    "duration": 118,
    "start_time": "2024-10-27T23:41:36.309Z"
   },
   {
    "duration": 14,
    "start_time": "2024-10-27T23:42:09.173Z"
   },
   {
    "duration": 8,
    "start_time": "2024-10-27T23:42:15.197Z"
   },
   {
    "duration": 770,
    "start_time": "2024-10-27T23:43:02.822Z"
   },
   {
    "duration": 164,
    "start_time": "2024-10-27T23:43:03.594Z"
   },
   {
    "duration": 10,
    "start_time": "2024-10-27T23:43:03.759Z"
   },
   {
    "duration": 27,
    "start_time": "2024-10-27T23:43:03.771Z"
   },
   {
    "duration": 10,
    "start_time": "2024-10-27T23:43:03.800Z"
   },
   {
    "duration": 21,
    "start_time": "2024-10-27T23:43:03.813Z"
   },
   {
    "duration": 17,
    "start_time": "2024-10-27T23:43:03.835Z"
   },
   {
    "duration": 9,
    "start_time": "2024-10-27T23:43:03.853Z"
   },
   {
    "duration": 9,
    "start_time": "2024-10-27T23:43:03.863Z"
   },
   {
    "duration": 14,
    "start_time": "2024-10-27T23:43:03.876Z"
   },
   {
    "duration": 95,
    "start_time": "2024-10-27T23:43:03.892Z"
   },
   {
    "duration": 8,
    "start_time": "2024-10-27T23:43:03.989Z"
   },
   {
    "duration": 43,
    "start_time": "2024-10-27T23:43:03.999Z"
   },
   {
    "duration": 9,
    "start_time": "2024-10-27T23:43:04.044Z"
   },
   {
    "duration": 28,
    "start_time": "2024-10-27T23:43:04.055Z"
   },
   {
    "duration": 7,
    "start_time": "2024-10-27T23:43:04.085Z"
   },
   {
    "duration": 40,
    "start_time": "2024-10-27T23:43:04.094Z"
   },
   {
    "duration": 57,
    "start_time": "2024-10-27T23:43:04.136Z"
   },
   {
    "duration": 9,
    "start_time": "2024-10-27T23:43:04.195Z"
   },
   {
    "duration": 42,
    "start_time": "2024-10-27T23:43:04.205Z"
   },
   {
    "duration": 7,
    "start_time": "2024-10-27T23:43:04.249Z"
   },
   {
    "duration": 25,
    "start_time": "2024-10-27T23:43:04.258Z"
   },
   {
    "duration": 24,
    "start_time": "2024-10-27T23:43:04.285Z"
   },
   {
    "duration": 19,
    "start_time": "2024-10-27T23:43:04.332Z"
   },
   {
    "duration": 20,
    "start_time": "2024-10-27T23:43:04.352Z"
   },
   {
    "duration": 23,
    "start_time": "2024-10-27T23:43:04.374Z"
   },
   {
    "duration": 58,
    "start_time": "2024-10-27T23:43:04.399Z"
   },
   {
    "duration": 57,
    "start_time": "2024-10-27T23:43:04.461Z"
   },
   {
    "duration": 209,
    "start_time": "2024-10-27T23:43:04.532Z"
   },
   {
    "duration": 214,
    "start_time": "2024-10-27T23:43:04.743Z"
   },
   {
    "duration": 6,
    "start_time": "2024-10-27T23:43:04.959Z"
   },
   {
    "duration": 312,
    "start_time": "2024-10-27T23:43:04.967Z"
   },
   {
    "duration": 236,
    "start_time": "2024-10-27T23:43:05.281Z"
   },
   {
    "duration": 191,
    "start_time": "2024-10-27T23:43:05.519Z"
   },
   {
    "duration": 206,
    "start_time": "2024-10-27T23:43:05.712Z"
   },
   {
    "duration": 10,
    "start_time": "2024-10-27T23:43:05.920Z"
   },
   {
    "duration": 229,
    "start_time": "2024-10-27T23:43:05.932Z"
   },
   {
    "duration": 225,
    "start_time": "2024-10-27T23:43:06.163Z"
   },
   {
    "duration": 269,
    "start_time": "2024-10-27T23:43:06.390Z"
   },
   {
    "duration": 210,
    "start_time": "2024-10-27T23:43:06.661Z"
   },
   {
    "duration": 5,
    "start_time": "2024-10-27T23:43:06.873Z"
   },
   {
    "duration": 239,
    "start_time": "2024-10-27T23:43:06.880Z"
   },
   {
    "duration": 232,
    "start_time": "2024-10-27T23:43:07.120Z"
   },
   {
    "duration": 196,
    "start_time": "2024-10-27T23:43:07.354Z"
   },
   {
    "duration": 223,
    "start_time": "2024-10-27T23:43:07.552Z"
   },
   {
    "duration": 5,
    "start_time": "2024-10-27T23:43:07.777Z"
   },
   {
    "duration": 6,
    "start_time": "2024-10-27T23:43:07.784Z"
   },
   {
    "duration": 601,
    "start_time": "2024-10-27T23:43:07.792Z"
   },
   {
    "duration": 0,
    "start_time": "2024-10-27T23:43:08.395Z"
   },
   {
    "duration": 50,
    "start_time": "2024-10-27T23:46:02.351Z"
   },
   {
    "duration": 121,
    "start_time": "2024-10-27T23:46:29.897Z"
   },
   {
    "duration": 42,
    "start_time": "2024-10-27T23:46:49.803Z"
   },
   {
    "duration": 223,
    "start_time": "2024-10-27T23:47:18.844Z"
   },
   {
    "duration": 18,
    "start_time": "2024-10-27T23:47:40.839Z"
   },
   {
    "duration": 18,
    "start_time": "2024-10-27T23:48:09.044Z"
   },
   {
    "duration": 782,
    "start_time": "2024-10-27T23:49:03.766Z"
   },
   {
    "duration": 160,
    "start_time": "2024-10-27T23:49:04.550Z"
   },
   {
    "duration": 10,
    "start_time": "2024-10-27T23:49:04.712Z"
   },
   {
    "duration": 33,
    "start_time": "2024-10-27T23:49:04.724Z"
   },
   {
    "duration": 7,
    "start_time": "2024-10-27T23:49:04.760Z"
   },
   {
    "duration": 5,
    "start_time": "2024-10-27T23:49:04.769Z"
   },
   {
    "duration": 17,
    "start_time": "2024-10-27T23:49:04.775Z"
   },
   {
    "duration": 42,
    "start_time": "2024-10-27T23:49:04.794Z"
   },
   {
    "duration": 9,
    "start_time": "2024-10-27T23:49:04.838Z"
   },
   {
    "duration": 14,
    "start_time": "2024-10-27T23:49:04.850Z"
   },
   {
    "duration": 85,
    "start_time": "2024-10-27T23:49:04.866Z"
   },
   {
    "duration": 9,
    "start_time": "2024-10-27T23:49:04.953Z"
   },
   {
    "duration": 29,
    "start_time": "2024-10-27T23:49:04.964Z"
   },
   {
    "duration": 11,
    "start_time": "2024-10-27T23:49:04.994Z"
   },
   {
    "duration": 54,
    "start_time": "2024-10-27T23:49:05.007Z"
   },
   {
    "duration": 8,
    "start_time": "2024-10-27T23:49:05.062Z"
   },
   {
    "duration": 11,
    "start_time": "2024-10-27T23:49:05.072Z"
   },
   {
    "duration": 80,
    "start_time": "2024-10-27T23:49:05.085Z"
   },
   {
    "duration": 9,
    "start_time": "2024-10-27T23:49:05.167Z"
   },
   {
    "duration": 21,
    "start_time": "2024-10-27T23:49:05.178Z"
   },
   {
    "duration": 7,
    "start_time": "2024-10-27T23:49:05.201Z"
   },
   {
    "duration": 24,
    "start_time": "2024-10-27T23:49:05.232Z"
   },
   {
    "duration": 24,
    "start_time": "2024-10-27T23:49:05.258Z"
   },
   {
    "duration": 18,
    "start_time": "2024-10-27T23:49:05.284Z"
   },
   {
    "duration": 42,
    "start_time": "2024-10-27T23:49:05.304Z"
   },
   {
    "duration": 21,
    "start_time": "2024-10-27T23:49:05.348Z"
   },
   {
    "duration": 31,
    "start_time": "2024-10-27T23:49:05.370Z"
   },
   {
    "duration": 55,
    "start_time": "2024-10-27T23:49:05.430Z"
   },
   {
    "duration": 207,
    "start_time": "2024-10-27T23:49:05.487Z"
   },
   {
    "duration": 223,
    "start_time": "2024-10-27T23:49:05.696Z"
   },
   {
    "duration": 11,
    "start_time": "2024-10-27T23:49:05.921Z"
   },
   {
    "duration": 300,
    "start_time": "2024-10-27T23:49:05.933Z"
   },
   {
    "duration": 238,
    "start_time": "2024-10-27T23:49:06.235Z"
   },
   {
    "duration": 206,
    "start_time": "2024-10-27T23:49:06.475Z"
   },
   {
    "duration": 217,
    "start_time": "2024-10-27T23:49:06.683Z"
   },
   {
    "duration": 5,
    "start_time": "2024-10-27T23:49:06.902Z"
   },
   {
    "duration": 243,
    "start_time": "2024-10-27T23:49:06.908Z"
   },
   {
    "duration": 226,
    "start_time": "2024-10-27T23:49:07.153Z"
   },
   {
    "duration": 269,
    "start_time": "2024-10-27T23:49:07.381Z"
   },
   {
    "duration": 219,
    "start_time": "2024-10-27T23:49:07.652Z"
   },
   {
    "duration": 5,
    "start_time": "2024-10-27T23:49:07.873Z"
   },
   {
    "duration": 240,
    "start_time": "2024-10-27T23:49:07.880Z"
   },
   {
    "duration": 238,
    "start_time": "2024-10-27T23:49:08.122Z"
   },
   {
    "duration": 200,
    "start_time": "2024-10-27T23:49:08.362Z"
   },
   {
    "duration": 205,
    "start_time": "2024-10-27T23:49:08.564Z"
   },
   {
    "duration": 6,
    "start_time": "2024-10-27T23:49:08.771Z"
   },
   {
    "duration": 7,
    "start_time": "2024-10-27T23:49:08.779Z"
   },
   {
    "duration": 17,
    "start_time": "2024-10-27T23:49:08.787Z"
   },
   {
    "duration": 818,
    "start_time": "2024-10-28T04:29:45.610Z"
   },
   {
    "duration": 163,
    "start_time": "2024-10-28T04:29:46.431Z"
   },
   {
    "duration": 10,
    "start_time": "2024-10-28T04:29:46.596Z"
   },
   {
    "duration": 29,
    "start_time": "2024-10-28T04:29:46.610Z"
   },
   {
    "duration": 8,
    "start_time": "2024-10-28T04:29:46.641Z"
   },
   {
    "duration": 5,
    "start_time": "2024-10-28T04:29:46.650Z"
   },
   {
    "duration": 17,
    "start_time": "2024-10-28T04:29:46.656Z"
   },
   {
    "duration": 9,
    "start_time": "2024-10-28T04:29:46.710Z"
   },
   {
    "duration": 10,
    "start_time": "2024-10-28T04:29:46.721Z"
   },
   {
    "duration": 13,
    "start_time": "2024-10-28T04:29:46.735Z"
   },
   {
    "duration": 84,
    "start_time": "2024-10-28T04:29:46.750Z"
   },
   {
    "duration": 10,
    "start_time": "2024-10-28T04:29:46.835Z"
   },
   {
    "duration": 26,
    "start_time": "2024-10-28T04:29:46.848Z"
   },
   {
    "duration": 33,
    "start_time": "2024-10-28T04:29:46.876Z"
   },
   {
    "duration": 34,
    "start_time": "2024-10-28T04:29:46.912Z"
   },
   {
    "duration": 9,
    "start_time": "2024-10-28T04:29:46.948Z"
   },
   {
    "duration": 13,
    "start_time": "2024-10-28T04:29:46.960Z"
   },
   {
    "duration": 85,
    "start_time": "2024-10-28T04:29:46.975Z"
   },
   {
    "duration": 10,
    "start_time": "2024-10-28T04:29:47.062Z"
   },
   {
    "duration": 34,
    "start_time": "2024-10-28T04:29:47.075Z"
   },
   {
    "duration": 8,
    "start_time": "2024-10-28T04:29:47.111Z"
   },
   {
    "duration": 26,
    "start_time": "2024-10-28T04:29:47.121Z"
   },
   {
    "duration": 27,
    "start_time": "2024-10-28T04:29:47.149Z"
   },
   {
    "duration": 53,
    "start_time": "2024-10-28T04:29:47.179Z"
   },
   {
    "duration": 30,
    "start_time": "2024-10-28T04:29:47.234Z"
   },
   {
    "duration": 51,
    "start_time": "2024-10-28T04:29:47.266Z"
   },
   {
    "duration": 34,
    "start_time": "2024-10-28T04:29:47.319Z"
   },
   {
    "duration": 78,
    "start_time": "2024-10-28T04:29:47.357Z"
   },
   {
    "duration": 212,
    "start_time": "2024-10-28T04:29:47.438Z"
   },
   {
    "duration": 228,
    "start_time": "2024-10-28T04:29:47.652Z"
   },
   {
    "duration": 5,
    "start_time": "2024-10-28T04:29:47.882Z"
   },
   {
    "duration": 320,
    "start_time": "2024-10-28T04:29:47.889Z"
   },
   {
    "duration": 240,
    "start_time": "2024-10-28T04:29:48.211Z"
   },
   {
    "duration": 213,
    "start_time": "2024-10-28T04:29:48.454Z"
   },
   {
    "duration": 214,
    "start_time": "2024-10-28T04:29:48.670Z"
   },
   {
    "duration": 5,
    "start_time": "2024-10-28T04:29:48.886Z"
   },
   {
    "duration": 247,
    "start_time": "2024-10-28T04:29:48.893Z"
   },
   {
    "duration": 224,
    "start_time": "2024-10-28T04:29:49.143Z"
   },
   {
    "duration": 271,
    "start_time": "2024-10-28T04:29:49.369Z"
   },
   {
    "duration": 210,
    "start_time": "2024-10-28T04:29:49.641Z"
   },
   {
    "duration": 5,
    "start_time": "2024-10-28T04:29:49.853Z"
   },
   {
    "duration": 229,
    "start_time": "2024-10-28T04:29:49.860Z"
   },
   {
    "duration": 235,
    "start_time": "2024-10-28T04:29:50.091Z"
   },
   {
    "duration": 208,
    "start_time": "2024-10-28T04:29:50.328Z"
   },
   {
    "duration": 199,
    "start_time": "2024-10-28T04:29:50.538Z"
   },
   {
    "duration": 5,
    "start_time": "2024-10-28T04:29:50.739Z"
   },
   {
    "duration": 7,
    "start_time": "2024-10-28T04:29:50.745Z"
   },
   {
    "duration": 18,
    "start_time": "2024-10-28T04:29:50.753Z"
   }
  ],
  "kernelspec": {
   "display_name": "Python 3 (ipykernel)",
   "language": "python",
   "name": "python3"
  },
  "language_info": {
   "codemirror_mode": {
    "name": "ipython",
    "version": 3
   },
   "file_extension": ".py",
   "mimetype": "text/x-python",
   "name": "python",
   "nbconvert_exporter": "python",
   "pygments_lexer": "ipython3",
   "version": "3.9.19"
  },
  "toc": {
   "base_numbering": 1,
   "nav_menu": {},
   "number_sections": true,
   "sideBar": true,
   "skip_h1_title": false,
   "title_cell": "Table of Contents",
   "title_sidebar": "Contents",
   "toc_cell": false,
   "toc_position": {},
   "toc_section_display": true,
   "toc_window_display": true
  }
 },
 "nbformat": 4,
 "nbformat_minor": 2
}
