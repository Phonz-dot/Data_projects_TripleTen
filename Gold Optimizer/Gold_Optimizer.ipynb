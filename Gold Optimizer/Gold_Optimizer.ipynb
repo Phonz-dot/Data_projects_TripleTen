{
 "cells": [
  {
   "cell_type": "markdown",
   "metadata": {},
   "source": [
    "## Goal:\n",
    "---\n",
    "Working for Zyfra, a company who develops efficiency solutions for the heavy industry, they need a machine learning model that predicts the amount of gold recovered from gold ores, which can help optimize the production and eliminate unprofitable parameters.\n",
    "\n",
    "### Stages:\n",
    "1. Data Preprocessing: Clean and organize the data, ensuring it's ready for analysis.\n",
    "2. Exploratory Data Analysis (EDA): Perform an initial analysis to understand the data distribution and identify key trends.\n",
    "3. Eliminate Abnormal Values: Look into training & test sets to see if there are any values that stand out. If so, find a way to deal with them.\n",
    "4. ID Target/Feature Variables: Find out exactly what variable is being tested.\n",
    "5. Train Various Models: Train & evaluate various models for the task using MAE & CV.\n",
    "6. Calculate sMAPE: Use formula to help simulate the process of recovering gold from gold ore."
   ]
  },
  {
   "cell_type": "markdown",
   "metadata": {},
   "source": [
    "## Prepare Data\n",
    "---"
   ]
  },
  {
   "cell_type": "markdown",
   "metadata": {},
   "source": [
    "### Import Libraries & Modules"
   ]
  },
  {
   "cell_type": "code",
   "execution_count": 1,
   "metadata": {},
   "outputs": [],
   "source": [
    "import pandas as pd\n",
    "import numpy as np\n",
    "import scipy.stats as st\n",
    "import seaborn as sns\n",
    "import plotly.express as px\n",
    "import matplotlib.pyplot as plt\n",
    "from sklearn.model_selection import train_test_split, cross_val_score, GridSearchCV\n",
    "from sklearn.metrics import mean_squared_error, r2_score, mean_absolute_error, make_scorer, accuracy_score\n",
    "from sklearn.preprocessing import StandardScaler\n",
    "from sklearn.utils import resample\n",
    "from sklearn.linear_model import LinearRegression\n",
    "from sklearn.ensemble import RandomForestRegressor\n",
    "from sklearn.tree import DecisionTreeRegressor"
   ]
  },
  {
   "cell_type": "markdown",
   "metadata": {},
   "source": [
    "### Load Datasets"
   ]
  },
  {
   "cell_type": "code",
   "execution_count": 2,
   "metadata": {},
   "outputs": [],
   "source": [
    "gr_train = pd.read_csv('/datasets/gold_recovery_train.csv')\n",
    "gr_test = pd.read_csv('/datasets/gold_recovery_test.csv')\n",
    "gr_full = pd.read_csv('/datasets/gold_recovery_full.csv')"
   ]
  },
  {
   "cell_type": "code",
   "execution_count": 3,
   "metadata": {},
   "outputs": [
    {
     "data": {
      "text/html": [
       "<div>\n",
       "<style scoped>\n",
       "    .dataframe tbody tr th:only-of-type {\n",
       "        vertical-align: middle;\n",
       "    }\n",
       "\n",
       "    .dataframe tbody tr th {\n",
       "        vertical-align: top;\n",
       "    }\n",
       "\n",
       "    .dataframe thead th {\n",
       "        text-align: right;\n",
       "    }\n",
       "</style>\n",
       "<table border=\"1\" class=\"dataframe\">\n",
       "  <thead>\n",
       "    <tr style=\"text-align: right;\">\n",
       "      <th></th>\n",
       "      <th>date</th>\n",
       "      <th>final.output.concentrate_ag</th>\n",
       "      <th>final.output.concentrate_pb</th>\n",
       "      <th>final.output.concentrate_sol</th>\n",
       "      <th>final.output.concentrate_au</th>\n",
       "      <th>final.output.recovery</th>\n",
       "      <th>final.output.tail_ag</th>\n",
       "      <th>final.output.tail_pb</th>\n",
       "      <th>final.output.tail_sol</th>\n",
       "      <th>final.output.tail_au</th>\n",
       "      <th>...</th>\n",
       "      <th>secondary_cleaner.state.floatbank4_a_air</th>\n",
       "      <th>secondary_cleaner.state.floatbank4_a_level</th>\n",
       "      <th>secondary_cleaner.state.floatbank4_b_air</th>\n",
       "      <th>secondary_cleaner.state.floatbank4_b_level</th>\n",
       "      <th>secondary_cleaner.state.floatbank5_a_air</th>\n",
       "      <th>secondary_cleaner.state.floatbank5_a_level</th>\n",
       "      <th>secondary_cleaner.state.floatbank5_b_air</th>\n",
       "      <th>secondary_cleaner.state.floatbank5_b_level</th>\n",
       "      <th>secondary_cleaner.state.floatbank6_a_air</th>\n",
       "      <th>secondary_cleaner.state.floatbank6_a_level</th>\n",
       "    </tr>\n",
       "  </thead>\n",
       "  <tbody>\n",
       "    <tr>\n",
       "      <th>0</th>\n",
       "      <td>2016-01-15 00:00:00</td>\n",
       "      <td>6.055403</td>\n",
       "      <td>9.889648</td>\n",
       "      <td>5.507324</td>\n",
       "      <td>42.192020</td>\n",
       "      <td>70.541216</td>\n",
       "      <td>10.411962</td>\n",
       "      <td>0.895447</td>\n",
       "      <td>16.904297</td>\n",
       "      <td>2.143149</td>\n",
       "      <td>...</td>\n",
       "      <td>14.016835</td>\n",
       "      <td>-502.488007</td>\n",
       "      <td>12.099931</td>\n",
       "      <td>-504.715942</td>\n",
       "      <td>9.925633</td>\n",
       "      <td>-498.310211</td>\n",
       "      <td>8.079666</td>\n",
       "      <td>-500.470978</td>\n",
       "      <td>14.151341</td>\n",
       "      <td>-605.841980</td>\n",
       "    </tr>\n",
       "    <tr>\n",
       "      <th>1</th>\n",
       "      <td>2016-01-15 01:00:00</td>\n",
       "      <td>6.029369</td>\n",
       "      <td>9.968944</td>\n",
       "      <td>5.257781</td>\n",
       "      <td>42.701629</td>\n",
       "      <td>69.266198</td>\n",
       "      <td>10.462676</td>\n",
       "      <td>0.927452</td>\n",
       "      <td>16.634514</td>\n",
       "      <td>2.224930</td>\n",
       "      <td>...</td>\n",
       "      <td>13.992281</td>\n",
       "      <td>-505.503262</td>\n",
       "      <td>11.950531</td>\n",
       "      <td>-501.331529</td>\n",
       "      <td>10.039245</td>\n",
       "      <td>-500.169983</td>\n",
       "      <td>7.984757</td>\n",
       "      <td>-500.582168</td>\n",
       "      <td>13.998353</td>\n",
       "      <td>-599.787184</td>\n",
       "    </tr>\n",
       "    <tr>\n",
       "      <th>2</th>\n",
       "      <td>2016-01-15 02:00:00</td>\n",
       "      <td>6.055926</td>\n",
       "      <td>10.213995</td>\n",
       "      <td>5.383759</td>\n",
       "      <td>42.657501</td>\n",
       "      <td>68.116445</td>\n",
       "      <td>10.507046</td>\n",
       "      <td>0.953716</td>\n",
       "      <td>16.208849</td>\n",
       "      <td>2.257889</td>\n",
       "      <td>...</td>\n",
       "      <td>14.015015</td>\n",
       "      <td>-502.520901</td>\n",
       "      <td>11.912783</td>\n",
       "      <td>-501.133383</td>\n",
       "      <td>10.070913</td>\n",
       "      <td>-500.129135</td>\n",
       "      <td>8.013877</td>\n",
       "      <td>-500.517572</td>\n",
       "      <td>14.028663</td>\n",
       "      <td>-601.427363</td>\n",
       "    </tr>\n",
       "    <tr>\n",
       "      <th>3</th>\n",
       "      <td>2016-01-15 03:00:00</td>\n",
       "      <td>6.047977</td>\n",
       "      <td>9.977019</td>\n",
       "      <td>4.858634</td>\n",
       "      <td>42.689819</td>\n",
       "      <td>68.347543</td>\n",
       "      <td>10.422762</td>\n",
       "      <td>0.883763</td>\n",
       "      <td>16.532835</td>\n",
       "      <td>2.146849</td>\n",
       "      <td>...</td>\n",
       "      <td>14.036510</td>\n",
       "      <td>-500.857308</td>\n",
       "      <td>11.999550</td>\n",
       "      <td>-501.193686</td>\n",
       "      <td>9.970366</td>\n",
       "      <td>-499.201640</td>\n",
       "      <td>7.977324</td>\n",
       "      <td>-500.255908</td>\n",
       "      <td>14.005551</td>\n",
       "      <td>-599.996129</td>\n",
       "    </tr>\n",
       "    <tr>\n",
       "      <th>4</th>\n",
       "      <td>2016-01-15 04:00:00</td>\n",
       "      <td>6.148599</td>\n",
       "      <td>10.142511</td>\n",
       "      <td>4.939416</td>\n",
       "      <td>42.774141</td>\n",
       "      <td>66.927016</td>\n",
       "      <td>10.360302</td>\n",
       "      <td>0.792826</td>\n",
       "      <td>16.525686</td>\n",
       "      <td>2.055292</td>\n",
       "      <td>...</td>\n",
       "      <td>14.027298</td>\n",
       "      <td>-499.838632</td>\n",
       "      <td>11.953070</td>\n",
       "      <td>-501.053894</td>\n",
       "      <td>9.925709</td>\n",
       "      <td>-501.686727</td>\n",
       "      <td>7.894242</td>\n",
       "      <td>-500.356035</td>\n",
       "      <td>13.996647</td>\n",
       "      <td>-601.496691</td>\n",
       "    </tr>\n",
       "    <tr>\n",
       "      <th>5</th>\n",
       "      <td>2016-01-15 05:00:00</td>\n",
       "      <td>6.482968</td>\n",
       "      <td>10.049416</td>\n",
       "      <td>5.480257</td>\n",
       "      <td>41.633678</td>\n",
       "      <td>69.465816</td>\n",
       "      <td>10.182708</td>\n",
       "      <td>0.664118</td>\n",
       "      <td>16.999638</td>\n",
       "      <td>1.918586</td>\n",
       "      <td>...</td>\n",
       "      <td>13.938497</td>\n",
       "      <td>-500.970168</td>\n",
       "      <td>11.883350</td>\n",
       "      <td>-500.395298</td>\n",
       "      <td>10.054147</td>\n",
       "      <td>-496.374715</td>\n",
       "      <td>7.965083</td>\n",
       "      <td>-499.364752</td>\n",
       "      <td>14.017067</td>\n",
       "      <td>-599.707915</td>\n",
       "    </tr>\n",
       "    <tr>\n",
       "      <th>6</th>\n",
       "      <td>2016-01-15 06:00:00</td>\n",
       "      <td>6.533849</td>\n",
       "      <td>10.058141</td>\n",
       "      <td>4.569100</td>\n",
       "      <td>41.995316</td>\n",
       "      <td>69.300835</td>\n",
       "      <td>10.304598</td>\n",
       "      <td>0.807342</td>\n",
       "      <td>16.723575</td>\n",
       "      <td>2.058913</td>\n",
       "      <td>...</td>\n",
       "      <td>14.046819</td>\n",
       "      <td>-500.971133</td>\n",
       "      <td>12.091543</td>\n",
       "      <td>-500.501426</td>\n",
       "      <td>10.003247</td>\n",
       "      <td>-497.083180</td>\n",
       "      <td>8.010890</td>\n",
       "      <td>-500.002423</td>\n",
       "      <td>14.029649</td>\n",
       "      <td>-600.905470</td>\n",
       "    </tr>\n",
       "    <tr>\n",
       "      <th>7</th>\n",
       "      <td>2016-01-15 07:00:00</td>\n",
       "      <td>6.130823</td>\n",
       "      <td>9.935481</td>\n",
       "      <td>4.389813</td>\n",
       "      <td>42.452727</td>\n",
       "      <td>70.230976</td>\n",
       "      <td>10.443288</td>\n",
       "      <td>0.949346</td>\n",
       "      <td>16.689959</td>\n",
       "      <td>2.143437</td>\n",
       "      <td>...</td>\n",
       "      <td>13.974691</td>\n",
       "      <td>-501.819696</td>\n",
       "      <td>12.101324</td>\n",
       "      <td>-500.583446</td>\n",
       "      <td>9.873169</td>\n",
       "      <td>-499.171928</td>\n",
       "      <td>7.993381</td>\n",
       "      <td>-499.794518</td>\n",
       "      <td>13.984498</td>\n",
       "      <td>-600.411070</td>\n",
       "    </tr>\n",
       "    <tr>\n",
       "      <th>8</th>\n",
       "      <td>2016-01-15 08:00:00</td>\n",
       "      <td>5.834140</td>\n",
       "      <td>10.071156</td>\n",
       "      <td>4.876389</td>\n",
       "      <td>43.404078</td>\n",
       "      <td>69.688595</td>\n",
       "      <td>10.420140</td>\n",
       "      <td>1.065453</td>\n",
       "      <td>17.201948</td>\n",
       "      <td>2.209881</td>\n",
       "      <td>...</td>\n",
       "      <td>13.964030</td>\n",
       "      <td>-504.252450</td>\n",
       "      <td>12.060738</td>\n",
       "      <td>-501.174549</td>\n",
       "      <td>10.033838</td>\n",
       "      <td>-501.178133</td>\n",
       "      <td>7.881604</td>\n",
       "      <td>-499.729434</td>\n",
       "      <td>13.967135</td>\n",
       "      <td>-599.061188</td>\n",
       "    </tr>\n",
       "    <tr>\n",
       "      <th>9</th>\n",
       "      <td>2016-01-15 09:00:00</td>\n",
       "      <td>5.687063</td>\n",
       "      <td>9.980404</td>\n",
       "      <td>5.282514</td>\n",
       "      <td>43.235220</td>\n",
       "      <td>70.279619</td>\n",
       "      <td>10.487013</td>\n",
       "      <td>1.159805</td>\n",
       "      <td>17.483979</td>\n",
       "      <td>2.209593</td>\n",
       "      <td>...</td>\n",
       "      <td>13.989632</td>\n",
       "      <td>-503.195299</td>\n",
       "      <td>12.052233</td>\n",
       "      <td>-500.928547</td>\n",
       "      <td>9.962574</td>\n",
       "      <td>-502.986357</td>\n",
       "      <td>7.979219</td>\n",
       "      <td>-500.146835</td>\n",
       "      <td>13.981614</td>\n",
       "      <td>-598.070855</td>\n",
       "    </tr>\n",
       "  </tbody>\n",
       "</table>\n",
       "<p>10 rows × 87 columns</p>\n",
       "</div>"
      ],
      "text/plain": [
       "                  date  final.output.concentrate_ag  \\\n",
       "0  2016-01-15 00:00:00                     6.055403   \n",
       "1  2016-01-15 01:00:00                     6.029369   \n",
       "2  2016-01-15 02:00:00                     6.055926   \n",
       "3  2016-01-15 03:00:00                     6.047977   \n",
       "4  2016-01-15 04:00:00                     6.148599   \n",
       "5  2016-01-15 05:00:00                     6.482968   \n",
       "6  2016-01-15 06:00:00                     6.533849   \n",
       "7  2016-01-15 07:00:00                     6.130823   \n",
       "8  2016-01-15 08:00:00                     5.834140   \n",
       "9  2016-01-15 09:00:00                     5.687063   \n",
       "\n",
       "   final.output.concentrate_pb  final.output.concentrate_sol  \\\n",
       "0                     9.889648                      5.507324   \n",
       "1                     9.968944                      5.257781   \n",
       "2                    10.213995                      5.383759   \n",
       "3                     9.977019                      4.858634   \n",
       "4                    10.142511                      4.939416   \n",
       "5                    10.049416                      5.480257   \n",
       "6                    10.058141                      4.569100   \n",
       "7                     9.935481                      4.389813   \n",
       "8                    10.071156                      4.876389   \n",
       "9                     9.980404                      5.282514   \n",
       "\n",
       "   final.output.concentrate_au  final.output.recovery  final.output.tail_ag  \\\n",
       "0                    42.192020              70.541216             10.411962   \n",
       "1                    42.701629              69.266198             10.462676   \n",
       "2                    42.657501              68.116445             10.507046   \n",
       "3                    42.689819              68.347543             10.422762   \n",
       "4                    42.774141              66.927016             10.360302   \n",
       "5                    41.633678              69.465816             10.182708   \n",
       "6                    41.995316              69.300835             10.304598   \n",
       "7                    42.452727              70.230976             10.443288   \n",
       "8                    43.404078              69.688595             10.420140   \n",
       "9                    43.235220              70.279619             10.487013   \n",
       "\n",
       "   final.output.tail_pb  final.output.tail_sol  final.output.tail_au  ...  \\\n",
       "0              0.895447              16.904297              2.143149  ...   \n",
       "1              0.927452              16.634514              2.224930  ...   \n",
       "2              0.953716              16.208849              2.257889  ...   \n",
       "3              0.883763              16.532835              2.146849  ...   \n",
       "4              0.792826              16.525686              2.055292  ...   \n",
       "5              0.664118              16.999638              1.918586  ...   \n",
       "6              0.807342              16.723575              2.058913  ...   \n",
       "7              0.949346              16.689959              2.143437  ...   \n",
       "8              1.065453              17.201948              2.209881  ...   \n",
       "9              1.159805              17.483979              2.209593  ...   \n",
       "\n",
       "   secondary_cleaner.state.floatbank4_a_air  \\\n",
       "0                                 14.016835   \n",
       "1                                 13.992281   \n",
       "2                                 14.015015   \n",
       "3                                 14.036510   \n",
       "4                                 14.027298   \n",
       "5                                 13.938497   \n",
       "6                                 14.046819   \n",
       "7                                 13.974691   \n",
       "8                                 13.964030   \n",
       "9                                 13.989632   \n",
       "\n",
       "   secondary_cleaner.state.floatbank4_a_level  \\\n",
       "0                                 -502.488007   \n",
       "1                                 -505.503262   \n",
       "2                                 -502.520901   \n",
       "3                                 -500.857308   \n",
       "4                                 -499.838632   \n",
       "5                                 -500.970168   \n",
       "6                                 -500.971133   \n",
       "7                                 -501.819696   \n",
       "8                                 -504.252450   \n",
       "9                                 -503.195299   \n",
       "\n",
       "   secondary_cleaner.state.floatbank4_b_air  \\\n",
       "0                                 12.099931   \n",
       "1                                 11.950531   \n",
       "2                                 11.912783   \n",
       "3                                 11.999550   \n",
       "4                                 11.953070   \n",
       "5                                 11.883350   \n",
       "6                                 12.091543   \n",
       "7                                 12.101324   \n",
       "8                                 12.060738   \n",
       "9                                 12.052233   \n",
       "\n",
       "   secondary_cleaner.state.floatbank4_b_level  \\\n",
       "0                                 -504.715942   \n",
       "1                                 -501.331529   \n",
       "2                                 -501.133383   \n",
       "3                                 -501.193686   \n",
       "4                                 -501.053894   \n",
       "5                                 -500.395298   \n",
       "6                                 -500.501426   \n",
       "7                                 -500.583446   \n",
       "8                                 -501.174549   \n",
       "9                                 -500.928547   \n",
       "\n",
       "   secondary_cleaner.state.floatbank5_a_air  \\\n",
       "0                                  9.925633   \n",
       "1                                 10.039245   \n",
       "2                                 10.070913   \n",
       "3                                  9.970366   \n",
       "4                                  9.925709   \n",
       "5                                 10.054147   \n",
       "6                                 10.003247   \n",
       "7                                  9.873169   \n",
       "8                                 10.033838   \n",
       "9                                  9.962574   \n",
       "\n",
       "   secondary_cleaner.state.floatbank5_a_level  \\\n",
       "0                                 -498.310211   \n",
       "1                                 -500.169983   \n",
       "2                                 -500.129135   \n",
       "3                                 -499.201640   \n",
       "4                                 -501.686727   \n",
       "5                                 -496.374715   \n",
       "6                                 -497.083180   \n",
       "7                                 -499.171928   \n",
       "8                                 -501.178133   \n",
       "9                                 -502.986357   \n",
       "\n",
       "   secondary_cleaner.state.floatbank5_b_air  \\\n",
       "0                                  8.079666   \n",
       "1                                  7.984757   \n",
       "2                                  8.013877   \n",
       "3                                  7.977324   \n",
       "4                                  7.894242   \n",
       "5                                  7.965083   \n",
       "6                                  8.010890   \n",
       "7                                  7.993381   \n",
       "8                                  7.881604   \n",
       "9                                  7.979219   \n",
       "\n",
       "   secondary_cleaner.state.floatbank5_b_level  \\\n",
       "0                                 -500.470978   \n",
       "1                                 -500.582168   \n",
       "2                                 -500.517572   \n",
       "3                                 -500.255908   \n",
       "4                                 -500.356035   \n",
       "5                                 -499.364752   \n",
       "6                                 -500.002423   \n",
       "7                                 -499.794518   \n",
       "8                                 -499.729434   \n",
       "9                                 -500.146835   \n",
       "\n",
       "   secondary_cleaner.state.floatbank6_a_air  \\\n",
       "0                                 14.151341   \n",
       "1                                 13.998353   \n",
       "2                                 14.028663   \n",
       "3                                 14.005551   \n",
       "4                                 13.996647   \n",
       "5                                 14.017067   \n",
       "6                                 14.029649   \n",
       "7                                 13.984498   \n",
       "8                                 13.967135   \n",
       "9                                 13.981614   \n",
       "\n",
       "   secondary_cleaner.state.floatbank6_a_level  \n",
       "0                                 -605.841980  \n",
       "1                                 -599.787184  \n",
       "2                                 -601.427363  \n",
       "3                                 -599.996129  \n",
       "4                                 -601.496691  \n",
       "5                                 -599.707915  \n",
       "6                                 -600.905470  \n",
       "7                                 -600.411070  \n",
       "8                                 -599.061188  \n",
       "9                                 -598.070855  \n",
       "\n",
       "[10 rows x 87 columns]"
      ]
     },
     "execution_count": 3,
     "metadata": {},
     "output_type": "execute_result"
    }
   ],
   "source": [
    "gr_train.head(10)"
   ]
  },
  {
   "cell_type": "code",
   "execution_count": 4,
   "metadata": {},
   "outputs": [
    {
     "data": {
      "text/html": [
       "<div>\n",
       "<style scoped>\n",
       "    .dataframe tbody tr th:only-of-type {\n",
       "        vertical-align: middle;\n",
       "    }\n",
       "\n",
       "    .dataframe tbody tr th {\n",
       "        vertical-align: top;\n",
       "    }\n",
       "\n",
       "    .dataframe thead th {\n",
       "        text-align: right;\n",
       "    }\n",
       "</style>\n",
       "<table border=\"1\" class=\"dataframe\">\n",
       "  <thead>\n",
       "    <tr style=\"text-align: right;\">\n",
       "      <th></th>\n",
       "      <th>date</th>\n",
       "      <th>primary_cleaner.input.sulfate</th>\n",
       "      <th>primary_cleaner.input.depressant</th>\n",
       "      <th>primary_cleaner.input.feed_size</th>\n",
       "      <th>primary_cleaner.input.xanthate</th>\n",
       "      <th>primary_cleaner.state.floatbank8_a_air</th>\n",
       "      <th>primary_cleaner.state.floatbank8_a_level</th>\n",
       "      <th>primary_cleaner.state.floatbank8_b_air</th>\n",
       "      <th>primary_cleaner.state.floatbank8_b_level</th>\n",
       "      <th>primary_cleaner.state.floatbank8_c_air</th>\n",
       "      <th>...</th>\n",
       "      <th>secondary_cleaner.state.floatbank4_a_air</th>\n",
       "      <th>secondary_cleaner.state.floatbank4_a_level</th>\n",
       "      <th>secondary_cleaner.state.floatbank4_b_air</th>\n",
       "      <th>secondary_cleaner.state.floatbank4_b_level</th>\n",
       "      <th>secondary_cleaner.state.floatbank5_a_air</th>\n",
       "      <th>secondary_cleaner.state.floatbank5_a_level</th>\n",
       "      <th>secondary_cleaner.state.floatbank5_b_air</th>\n",
       "      <th>secondary_cleaner.state.floatbank5_b_level</th>\n",
       "      <th>secondary_cleaner.state.floatbank6_a_air</th>\n",
       "      <th>secondary_cleaner.state.floatbank6_a_level</th>\n",
       "    </tr>\n",
       "  </thead>\n",
       "  <tbody>\n",
       "    <tr>\n",
       "      <th>0</th>\n",
       "      <td>2016-09-01 00:59:59</td>\n",
       "      <td>210.800909</td>\n",
       "      <td>14.993118</td>\n",
       "      <td>8.080000</td>\n",
       "      <td>1.005021</td>\n",
       "      <td>1398.981301</td>\n",
       "      <td>-500.225577</td>\n",
       "      <td>1399.144926</td>\n",
       "      <td>-499.919735</td>\n",
       "      <td>1400.102998</td>\n",
       "      <td>...</td>\n",
       "      <td>12.023554</td>\n",
       "      <td>-497.795834</td>\n",
       "      <td>8.016656</td>\n",
       "      <td>-501.289139</td>\n",
       "      <td>7.946562</td>\n",
       "      <td>-432.317850</td>\n",
       "      <td>4.872511</td>\n",
       "      <td>-500.037437</td>\n",
       "      <td>26.705889</td>\n",
       "      <td>-499.709414</td>\n",
       "    </tr>\n",
       "    <tr>\n",
       "      <th>1</th>\n",
       "      <td>2016-09-01 01:59:59</td>\n",
       "      <td>215.392455</td>\n",
       "      <td>14.987471</td>\n",
       "      <td>8.080000</td>\n",
       "      <td>0.990469</td>\n",
       "      <td>1398.777912</td>\n",
       "      <td>-500.057435</td>\n",
       "      <td>1398.055362</td>\n",
       "      <td>-499.778182</td>\n",
       "      <td>1396.151033</td>\n",
       "      <td>...</td>\n",
       "      <td>12.058140</td>\n",
       "      <td>-498.695773</td>\n",
       "      <td>8.130979</td>\n",
       "      <td>-499.634209</td>\n",
       "      <td>7.958270</td>\n",
       "      <td>-525.839648</td>\n",
       "      <td>4.878850</td>\n",
       "      <td>-500.162375</td>\n",
       "      <td>25.019940</td>\n",
       "      <td>-499.819438</td>\n",
       "    </tr>\n",
       "    <tr>\n",
       "      <th>2</th>\n",
       "      <td>2016-09-01 02:59:59</td>\n",
       "      <td>215.259946</td>\n",
       "      <td>12.884934</td>\n",
       "      <td>7.786667</td>\n",
       "      <td>0.996043</td>\n",
       "      <td>1398.493666</td>\n",
       "      <td>-500.868360</td>\n",
       "      <td>1398.860436</td>\n",
       "      <td>-499.764529</td>\n",
       "      <td>1398.075709</td>\n",
       "      <td>...</td>\n",
       "      <td>11.962366</td>\n",
       "      <td>-498.767484</td>\n",
       "      <td>8.096893</td>\n",
       "      <td>-500.827423</td>\n",
       "      <td>8.071056</td>\n",
       "      <td>-500.801673</td>\n",
       "      <td>4.905125</td>\n",
       "      <td>-499.828510</td>\n",
       "      <td>24.994862</td>\n",
       "      <td>-500.622559</td>\n",
       "    </tr>\n",
       "    <tr>\n",
       "      <th>3</th>\n",
       "      <td>2016-09-01 03:59:59</td>\n",
       "      <td>215.336236</td>\n",
       "      <td>12.006805</td>\n",
       "      <td>7.640000</td>\n",
       "      <td>0.863514</td>\n",
       "      <td>1399.618111</td>\n",
       "      <td>-498.863574</td>\n",
       "      <td>1397.440120</td>\n",
       "      <td>-499.211024</td>\n",
       "      <td>1400.129303</td>\n",
       "      <td>...</td>\n",
       "      <td>12.033091</td>\n",
       "      <td>-498.350935</td>\n",
       "      <td>8.074946</td>\n",
       "      <td>-499.474407</td>\n",
       "      <td>7.897085</td>\n",
       "      <td>-500.868509</td>\n",
       "      <td>4.931400</td>\n",
       "      <td>-499.963623</td>\n",
       "      <td>24.948919</td>\n",
       "      <td>-498.709987</td>\n",
       "    </tr>\n",
       "    <tr>\n",
       "      <th>4</th>\n",
       "      <td>2016-09-01 04:59:59</td>\n",
       "      <td>199.099327</td>\n",
       "      <td>10.682530</td>\n",
       "      <td>7.530000</td>\n",
       "      <td>0.805575</td>\n",
       "      <td>1401.268123</td>\n",
       "      <td>-500.808305</td>\n",
       "      <td>1398.128818</td>\n",
       "      <td>-499.504543</td>\n",
       "      <td>1402.172226</td>\n",
       "      <td>...</td>\n",
       "      <td>12.025367</td>\n",
       "      <td>-500.786497</td>\n",
       "      <td>8.054678</td>\n",
       "      <td>-500.397500</td>\n",
       "      <td>8.107890</td>\n",
       "      <td>-509.526725</td>\n",
       "      <td>4.957674</td>\n",
       "      <td>-500.360026</td>\n",
       "      <td>25.003331</td>\n",
       "      <td>-500.856333</td>\n",
       "    </tr>\n",
       "    <tr>\n",
       "      <th>5</th>\n",
       "      <td>2016-09-01 05:59:59</td>\n",
       "      <td>168.485085</td>\n",
       "      <td>8.817007</td>\n",
       "      <td>7.420000</td>\n",
       "      <td>0.791191</td>\n",
       "      <td>1402.826803</td>\n",
       "      <td>-499.299521</td>\n",
       "      <td>1401.511119</td>\n",
       "      <td>-499.205357</td>\n",
       "      <td>1404.088107</td>\n",
       "      <td>...</td>\n",
       "      <td>12.029797</td>\n",
       "      <td>-499.814895</td>\n",
       "      <td>8.036586</td>\n",
       "      <td>-500.371492</td>\n",
       "      <td>8.041446</td>\n",
       "      <td>-510.037054</td>\n",
       "      <td>4.983949</td>\n",
       "      <td>-499.990990</td>\n",
       "      <td>24.978973</td>\n",
       "      <td>-500.475640</td>\n",
       "    </tr>\n",
       "    <tr>\n",
       "      <th>6</th>\n",
       "      <td>2016-09-01 06:59:59</td>\n",
       "      <td>144.133440</td>\n",
       "      <td>7.924610</td>\n",
       "      <td>7.420000</td>\n",
       "      <td>0.788838</td>\n",
       "      <td>1398.252401</td>\n",
       "      <td>-499.748672</td>\n",
       "      <td>1393.255503</td>\n",
       "      <td>-499.195380</td>\n",
       "      <td>1396.738566</td>\n",
       "      <td>...</td>\n",
       "      <td>12.026296</td>\n",
       "      <td>-499.473127</td>\n",
       "      <td>8.027984</td>\n",
       "      <td>-500.983079</td>\n",
       "      <td>7.907340</td>\n",
       "      <td>-507.964971</td>\n",
       "      <td>5.010224</td>\n",
       "      <td>-500.043697</td>\n",
       "      <td>25.040709</td>\n",
       "      <td>-499.501984</td>\n",
       "    </tr>\n",
       "    <tr>\n",
       "      <th>7</th>\n",
       "      <td>2016-09-01 07:59:59</td>\n",
       "      <td>133.513396</td>\n",
       "      <td>8.055252</td>\n",
       "      <td>6.988000</td>\n",
       "      <td>0.801871</td>\n",
       "      <td>1401.669677</td>\n",
       "      <td>-501.777839</td>\n",
       "      <td>1400.754446</td>\n",
       "      <td>-502.514024</td>\n",
       "      <td>1400.465244</td>\n",
       "      <td>...</td>\n",
       "      <td>12.040911</td>\n",
       "      <td>-501.293852</td>\n",
       "      <td>8.020490</td>\n",
       "      <td>-499.185229</td>\n",
       "      <td>8.116897</td>\n",
       "      <td>-511.927561</td>\n",
       "      <td>5.036498</td>\n",
       "      <td>-500.149615</td>\n",
       "      <td>25.032580</td>\n",
       "      <td>-503.970657</td>\n",
       "    </tr>\n",
       "    <tr>\n",
       "      <th>8</th>\n",
       "      <td>2016-09-01 08:59:59</td>\n",
       "      <td>133.735356</td>\n",
       "      <td>7.999618</td>\n",
       "      <td>6.935000</td>\n",
       "      <td>0.789329</td>\n",
       "      <td>1402.358981</td>\n",
       "      <td>-499.981597</td>\n",
       "      <td>1400.985954</td>\n",
       "      <td>-496.802968</td>\n",
       "      <td>1401.168584</td>\n",
       "      <td>...</td>\n",
       "      <td>11.998184</td>\n",
       "      <td>-499.481608</td>\n",
       "      <td>8.012610</td>\n",
       "      <td>-500.896783</td>\n",
       "      <td>7.974422</td>\n",
       "      <td>-521.199104</td>\n",
       "      <td>5.061599</td>\n",
       "      <td>-499.791519</td>\n",
       "      <td>25.005063</td>\n",
       "      <td>-497.613716</td>\n",
       "    </tr>\n",
       "    <tr>\n",
       "      <th>9</th>\n",
       "      <td>2016-09-01 09:59:59</td>\n",
       "      <td>126.961069</td>\n",
       "      <td>8.017856</td>\n",
       "      <td>7.030000</td>\n",
       "      <td>0.805298</td>\n",
       "      <td>1400.816120</td>\n",
       "      <td>-499.014158</td>\n",
       "      <td>1399.975401</td>\n",
       "      <td>-499.570552</td>\n",
       "      <td>1401.871924</td>\n",
       "      <td>...</td>\n",
       "      <td>12.040725</td>\n",
       "      <td>-499.987743</td>\n",
       "      <td>7.989503</td>\n",
       "      <td>-499.750625</td>\n",
       "      <td>7.989710</td>\n",
       "      <td>-509.946737</td>\n",
       "      <td>5.068811</td>\n",
       "      <td>-499.293900</td>\n",
       "      <td>24.992741</td>\n",
       "      <td>-499.272255</td>\n",
       "    </tr>\n",
       "  </tbody>\n",
       "</table>\n",
       "<p>10 rows × 53 columns</p>\n",
       "</div>"
      ],
      "text/plain": [
       "                  date  primary_cleaner.input.sulfate  \\\n",
       "0  2016-09-01 00:59:59                     210.800909   \n",
       "1  2016-09-01 01:59:59                     215.392455   \n",
       "2  2016-09-01 02:59:59                     215.259946   \n",
       "3  2016-09-01 03:59:59                     215.336236   \n",
       "4  2016-09-01 04:59:59                     199.099327   \n",
       "5  2016-09-01 05:59:59                     168.485085   \n",
       "6  2016-09-01 06:59:59                     144.133440   \n",
       "7  2016-09-01 07:59:59                     133.513396   \n",
       "8  2016-09-01 08:59:59                     133.735356   \n",
       "9  2016-09-01 09:59:59                     126.961069   \n",
       "\n",
       "   primary_cleaner.input.depressant  primary_cleaner.input.feed_size  \\\n",
       "0                         14.993118                         8.080000   \n",
       "1                         14.987471                         8.080000   \n",
       "2                         12.884934                         7.786667   \n",
       "3                         12.006805                         7.640000   \n",
       "4                         10.682530                         7.530000   \n",
       "5                          8.817007                         7.420000   \n",
       "6                          7.924610                         7.420000   \n",
       "7                          8.055252                         6.988000   \n",
       "8                          7.999618                         6.935000   \n",
       "9                          8.017856                         7.030000   \n",
       "\n",
       "   primary_cleaner.input.xanthate  primary_cleaner.state.floatbank8_a_air  \\\n",
       "0                        1.005021                             1398.981301   \n",
       "1                        0.990469                             1398.777912   \n",
       "2                        0.996043                             1398.493666   \n",
       "3                        0.863514                             1399.618111   \n",
       "4                        0.805575                             1401.268123   \n",
       "5                        0.791191                             1402.826803   \n",
       "6                        0.788838                             1398.252401   \n",
       "7                        0.801871                             1401.669677   \n",
       "8                        0.789329                             1402.358981   \n",
       "9                        0.805298                             1400.816120   \n",
       "\n",
       "   primary_cleaner.state.floatbank8_a_level  \\\n",
       "0                               -500.225577   \n",
       "1                               -500.057435   \n",
       "2                               -500.868360   \n",
       "3                               -498.863574   \n",
       "4                               -500.808305   \n",
       "5                               -499.299521   \n",
       "6                               -499.748672   \n",
       "7                               -501.777839   \n",
       "8                               -499.981597   \n",
       "9                               -499.014158   \n",
       "\n",
       "   primary_cleaner.state.floatbank8_b_air  \\\n",
       "0                             1399.144926   \n",
       "1                             1398.055362   \n",
       "2                             1398.860436   \n",
       "3                             1397.440120   \n",
       "4                             1398.128818   \n",
       "5                             1401.511119   \n",
       "6                             1393.255503   \n",
       "7                             1400.754446   \n",
       "8                             1400.985954   \n",
       "9                             1399.975401   \n",
       "\n",
       "   primary_cleaner.state.floatbank8_b_level  \\\n",
       "0                               -499.919735   \n",
       "1                               -499.778182   \n",
       "2                               -499.764529   \n",
       "3                               -499.211024   \n",
       "4                               -499.504543   \n",
       "5                               -499.205357   \n",
       "6                               -499.195380   \n",
       "7                               -502.514024   \n",
       "8                               -496.802968   \n",
       "9                               -499.570552   \n",
       "\n",
       "   primary_cleaner.state.floatbank8_c_air  ...  \\\n",
       "0                             1400.102998  ...   \n",
       "1                             1396.151033  ...   \n",
       "2                             1398.075709  ...   \n",
       "3                             1400.129303  ...   \n",
       "4                             1402.172226  ...   \n",
       "5                             1404.088107  ...   \n",
       "6                             1396.738566  ...   \n",
       "7                             1400.465244  ...   \n",
       "8                             1401.168584  ...   \n",
       "9                             1401.871924  ...   \n",
       "\n",
       "   secondary_cleaner.state.floatbank4_a_air  \\\n",
       "0                                 12.023554   \n",
       "1                                 12.058140   \n",
       "2                                 11.962366   \n",
       "3                                 12.033091   \n",
       "4                                 12.025367   \n",
       "5                                 12.029797   \n",
       "6                                 12.026296   \n",
       "7                                 12.040911   \n",
       "8                                 11.998184   \n",
       "9                                 12.040725   \n",
       "\n",
       "   secondary_cleaner.state.floatbank4_a_level  \\\n",
       "0                                 -497.795834   \n",
       "1                                 -498.695773   \n",
       "2                                 -498.767484   \n",
       "3                                 -498.350935   \n",
       "4                                 -500.786497   \n",
       "5                                 -499.814895   \n",
       "6                                 -499.473127   \n",
       "7                                 -501.293852   \n",
       "8                                 -499.481608   \n",
       "9                                 -499.987743   \n",
       "\n",
       "   secondary_cleaner.state.floatbank4_b_air  \\\n",
       "0                                  8.016656   \n",
       "1                                  8.130979   \n",
       "2                                  8.096893   \n",
       "3                                  8.074946   \n",
       "4                                  8.054678   \n",
       "5                                  8.036586   \n",
       "6                                  8.027984   \n",
       "7                                  8.020490   \n",
       "8                                  8.012610   \n",
       "9                                  7.989503   \n",
       "\n",
       "   secondary_cleaner.state.floatbank4_b_level  \\\n",
       "0                                 -501.289139   \n",
       "1                                 -499.634209   \n",
       "2                                 -500.827423   \n",
       "3                                 -499.474407   \n",
       "4                                 -500.397500   \n",
       "5                                 -500.371492   \n",
       "6                                 -500.983079   \n",
       "7                                 -499.185229   \n",
       "8                                 -500.896783   \n",
       "9                                 -499.750625   \n",
       "\n",
       "   secondary_cleaner.state.floatbank5_a_air  \\\n",
       "0                                  7.946562   \n",
       "1                                  7.958270   \n",
       "2                                  8.071056   \n",
       "3                                  7.897085   \n",
       "4                                  8.107890   \n",
       "5                                  8.041446   \n",
       "6                                  7.907340   \n",
       "7                                  8.116897   \n",
       "8                                  7.974422   \n",
       "9                                  7.989710   \n",
       "\n",
       "   secondary_cleaner.state.floatbank5_a_level  \\\n",
       "0                                 -432.317850   \n",
       "1                                 -525.839648   \n",
       "2                                 -500.801673   \n",
       "3                                 -500.868509   \n",
       "4                                 -509.526725   \n",
       "5                                 -510.037054   \n",
       "6                                 -507.964971   \n",
       "7                                 -511.927561   \n",
       "8                                 -521.199104   \n",
       "9                                 -509.946737   \n",
       "\n",
       "   secondary_cleaner.state.floatbank5_b_air  \\\n",
       "0                                  4.872511   \n",
       "1                                  4.878850   \n",
       "2                                  4.905125   \n",
       "3                                  4.931400   \n",
       "4                                  4.957674   \n",
       "5                                  4.983949   \n",
       "6                                  5.010224   \n",
       "7                                  5.036498   \n",
       "8                                  5.061599   \n",
       "9                                  5.068811   \n",
       "\n",
       "   secondary_cleaner.state.floatbank5_b_level  \\\n",
       "0                                 -500.037437   \n",
       "1                                 -500.162375   \n",
       "2                                 -499.828510   \n",
       "3                                 -499.963623   \n",
       "4                                 -500.360026   \n",
       "5                                 -499.990990   \n",
       "6                                 -500.043697   \n",
       "7                                 -500.149615   \n",
       "8                                 -499.791519   \n",
       "9                                 -499.293900   \n",
       "\n",
       "   secondary_cleaner.state.floatbank6_a_air  \\\n",
       "0                                 26.705889   \n",
       "1                                 25.019940   \n",
       "2                                 24.994862   \n",
       "3                                 24.948919   \n",
       "4                                 25.003331   \n",
       "5                                 24.978973   \n",
       "6                                 25.040709   \n",
       "7                                 25.032580   \n",
       "8                                 25.005063   \n",
       "9                                 24.992741   \n",
       "\n",
       "   secondary_cleaner.state.floatbank6_a_level  \n",
       "0                                 -499.709414  \n",
       "1                                 -499.819438  \n",
       "2                                 -500.622559  \n",
       "3                                 -498.709987  \n",
       "4                                 -500.856333  \n",
       "5                                 -500.475640  \n",
       "6                                 -499.501984  \n",
       "7                                 -503.970657  \n",
       "8                                 -497.613716  \n",
       "9                                 -499.272255  \n",
       "\n",
       "[10 rows x 53 columns]"
      ]
     },
     "execution_count": 4,
     "metadata": {},
     "output_type": "execute_result"
    }
   ],
   "source": [
    "gr_test.head(10)"
   ]
  },
  {
   "cell_type": "code",
   "execution_count": 5,
   "metadata": {
    "scrolled": true
   },
   "outputs": [
    {
     "name": "stdout",
     "output_type": "stream",
     "text": [
      "<class 'pandas.core.frame.DataFrame'>\n",
      "RangeIndex: 16860 entries, 0 to 16859\n",
      "Data columns (total 87 columns):\n",
      " #   Column                                              Non-Null Count  Dtype  \n",
      "---  ------                                              --------------  -----  \n",
      " 0   date                                                16860 non-null  object \n",
      " 1   final.output.concentrate_ag                         16788 non-null  float64\n",
      " 2   final.output.concentrate_pb                         16788 non-null  float64\n",
      " 3   final.output.concentrate_sol                        16490 non-null  float64\n",
      " 4   final.output.concentrate_au                         16789 non-null  float64\n",
      " 5   final.output.recovery                               15339 non-null  float64\n",
      " 6   final.output.tail_ag                                16794 non-null  float64\n",
      " 7   final.output.tail_pb                                16677 non-null  float64\n",
      " 8   final.output.tail_sol                               16715 non-null  float64\n",
      " 9   final.output.tail_au                                16794 non-null  float64\n",
      " 10  primary_cleaner.input.sulfate                       15553 non-null  float64\n",
      " 11  primary_cleaner.input.depressant                    15598 non-null  float64\n",
      " 12  primary_cleaner.input.feed_size                     16860 non-null  float64\n",
      " 13  primary_cleaner.input.xanthate                      15875 non-null  float64\n",
      " 14  primary_cleaner.output.concentrate_ag               16778 non-null  float64\n",
      " 15  primary_cleaner.output.concentrate_pb               16502 non-null  float64\n",
      " 16  primary_cleaner.output.concentrate_sol              16224 non-null  float64\n",
      " 17  primary_cleaner.output.concentrate_au               16778 non-null  float64\n",
      " 18  primary_cleaner.output.tail_ag                      16777 non-null  float64\n",
      " 19  primary_cleaner.output.tail_pb                      16761 non-null  float64\n",
      " 20  primary_cleaner.output.tail_sol                     16579 non-null  float64\n",
      " 21  primary_cleaner.output.tail_au                      16777 non-null  float64\n",
      " 22  primary_cleaner.state.floatbank8_a_air              16820 non-null  float64\n",
      " 23  primary_cleaner.state.floatbank8_a_level            16827 non-null  float64\n",
      " 24  primary_cleaner.state.floatbank8_b_air              16820 non-null  float64\n",
      " 25  primary_cleaner.state.floatbank8_b_level            16833 non-null  float64\n",
      " 26  primary_cleaner.state.floatbank8_c_air              16822 non-null  float64\n",
      " 27  primary_cleaner.state.floatbank8_c_level            16833 non-null  float64\n",
      " 28  primary_cleaner.state.floatbank8_d_air              16821 non-null  float64\n",
      " 29  primary_cleaner.state.floatbank8_d_level            16833 non-null  float64\n",
      " 30  rougher.calculation.sulfate_to_au_concentrate       16833 non-null  float64\n",
      " 31  rougher.calculation.floatbank10_sulfate_to_au_feed  16833 non-null  float64\n",
      " 32  rougher.calculation.floatbank11_sulfate_to_au_feed  16833 non-null  float64\n",
      " 33  rougher.calculation.au_pb_ratio                     15618 non-null  float64\n",
      " 34  rougher.input.feed_ag                               16778 non-null  float64\n",
      " 35  rougher.input.feed_pb                               16632 non-null  float64\n",
      " 36  rougher.input.feed_rate                             16347 non-null  float64\n",
      " 37  rougher.input.feed_size                             16443 non-null  float64\n",
      " 38  rougher.input.feed_sol                              16568 non-null  float64\n",
      " 39  rougher.input.feed_au                               16777 non-null  float64\n",
      " 40  rougher.input.floatbank10_sulfate                   15816 non-null  float64\n",
      " 41  rougher.input.floatbank10_xanthate                  16514 non-null  float64\n",
      " 42  rougher.input.floatbank11_sulfate                   16237 non-null  float64\n",
      " 43  rougher.input.floatbank11_xanthate                  14956 non-null  float64\n",
      " 44  rougher.output.concentrate_ag                       16778 non-null  float64\n",
      " 45  rougher.output.concentrate_pb                       16778 non-null  float64\n",
      " 46  rougher.output.concentrate_sol                      16698 non-null  float64\n",
      " 47  rougher.output.concentrate_au                       16778 non-null  float64\n",
      " 48  rougher.output.recovery                             14287 non-null  float64\n",
      " 49  rougher.output.tail_ag                              14610 non-null  float64\n",
      " 50  rougher.output.tail_pb                              16778 non-null  float64\n",
      " 51  rougher.output.tail_sol                             14611 non-null  float64\n",
      " 52  rougher.output.tail_au                              14611 non-null  float64\n",
      " 53  rougher.state.floatbank10_a_air                     16807 non-null  float64\n",
      " 54  rougher.state.floatbank10_a_level                   16807 non-null  float64\n",
      " 55  rougher.state.floatbank10_b_air                     16807 non-null  float64\n",
      " 56  rougher.state.floatbank10_b_level                   16807 non-null  float64\n",
      " 57  rougher.state.floatbank10_c_air                     16807 non-null  float64\n",
      " 58  rougher.state.floatbank10_c_level                   16814 non-null  float64\n",
      " 59  rougher.state.floatbank10_d_air                     16802 non-null  float64\n",
      " 60  rougher.state.floatbank10_d_level                   16809 non-null  float64\n",
      " 61  rougher.state.floatbank10_e_air                     16257 non-null  float64\n",
      " 62  rougher.state.floatbank10_e_level                   16809 non-null  float64\n",
      " 63  rougher.state.floatbank10_f_air                     16802 non-null  float64\n",
      " 64  rougher.state.floatbank10_f_level                   16802 non-null  float64\n",
      " 65  secondary_cleaner.output.tail_ag                    16776 non-null  float64\n",
      " 66  secondary_cleaner.output.tail_pb                    16764 non-null  float64\n",
      " 67  secondary_cleaner.output.tail_sol                   14874 non-null  float64\n",
      " 68  secondary_cleaner.output.tail_au                    16778 non-null  float64\n",
      " 69  secondary_cleaner.state.floatbank2_a_air            16497 non-null  float64\n",
      " 70  secondary_cleaner.state.floatbank2_a_level          16751 non-null  float64\n",
      " 71  secondary_cleaner.state.floatbank2_b_air            16705 non-null  float64\n",
      " 72  secondary_cleaner.state.floatbank2_b_level          16748 non-null  float64\n",
      " 73  secondary_cleaner.state.floatbank3_a_air            16763 non-null  float64\n",
      " 74  secondary_cleaner.state.floatbank3_a_level          16747 non-null  float64\n",
      " 75  secondary_cleaner.state.floatbank3_b_air            16752 non-null  float64\n",
      " 76  secondary_cleaner.state.floatbank3_b_level          16750 non-null  float64\n",
      " 77  secondary_cleaner.state.floatbank4_a_air            16731 non-null  float64\n",
      " 78  secondary_cleaner.state.floatbank4_a_level          16747 non-null  float64\n",
      " 79  secondary_cleaner.state.floatbank4_b_air            16768 non-null  float64\n",
      " 80  secondary_cleaner.state.floatbank4_b_level          16767 non-null  float64\n",
      " 81  secondary_cleaner.state.floatbank5_a_air            16775 non-null  float64\n",
      " 82  secondary_cleaner.state.floatbank5_a_level          16775 non-null  float64\n",
      " 83  secondary_cleaner.state.floatbank5_b_air            16775 non-null  float64\n",
      " 84  secondary_cleaner.state.floatbank5_b_level          16776 non-null  float64\n",
      " 85  secondary_cleaner.state.floatbank6_a_air            16757 non-null  float64\n",
      " 86  secondary_cleaner.state.floatbank6_a_level          16775 non-null  float64\n",
      "dtypes: float64(86), object(1)\n",
      "memory usage: 11.2+ MB\n",
      "None\n",
      "<class 'pandas.core.frame.DataFrame'>\n",
      "RangeIndex: 5856 entries, 0 to 5855\n",
      "Data columns (total 53 columns):\n",
      " #   Column                                      Non-Null Count  Dtype  \n",
      "---  ------                                      --------------  -----  \n",
      " 0   date                                        5856 non-null   object \n",
      " 1   primary_cleaner.input.sulfate               5554 non-null   float64\n",
      " 2   primary_cleaner.input.depressant            5572 non-null   float64\n",
      " 3   primary_cleaner.input.feed_size             5856 non-null   float64\n",
      " 4   primary_cleaner.input.xanthate              5690 non-null   float64\n",
      " 5   primary_cleaner.state.floatbank8_a_air      5840 non-null   float64\n",
      " 6   primary_cleaner.state.floatbank8_a_level    5840 non-null   float64\n",
      " 7   primary_cleaner.state.floatbank8_b_air      5840 non-null   float64\n",
      " 8   primary_cleaner.state.floatbank8_b_level    5840 non-null   float64\n",
      " 9   primary_cleaner.state.floatbank8_c_air      5840 non-null   float64\n",
      " 10  primary_cleaner.state.floatbank8_c_level    5840 non-null   float64\n",
      " 11  primary_cleaner.state.floatbank8_d_air      5840 non-null   float64\n",
      " 12  primary_cleaner.state.floatbank8_d_level    5840 non-null   float64\n",
      " 13  rougher.input.feed_ag                       5840 non-null   float64\n",
      " 14  rougher.input.feed_pb                       5840 non-null   float64\n",
      " 15  rougher.input.feed_rate                     5816 non-null   float64\n",
      " 16  rougher.input.feed_size                     5834 non-null   float64\n",
      " 17  rougher.input.feed_sol                      5789 non-null   float64\n",
      " 18  rougher.input.feed_au                       5840 non-null   float64\n",
      " 19  rougher.input.floatbank10_sulfate           5599 non-null   float64\n",
      " 20  rougher.input.floatbank10_xanthate          5733 non-null   float64\n",
      " 21  rougher.input.floatbank11_sulfate           5801 non-null   float64\n",
      " 22  rougher.input.floatbank11_xanthate          5503 non-null   float64\n",
      " 23  rougher.state.floatbank10_a_air             5839 non-null   float64\n",
      " 24  rougher.state.floatbank10_a_level           5840 non-null   float64\n",
      " 25  rougher.state.floatbank10_b_air             5839 non-null   float64\n",
      " 26  rougher.state.floatbank10_b_level           5840 non-null   float64\n",
      " 27  rougher.state.floatbank10_c_air             5839 non-null   float64\n",
      " 28  rougher.state.floatbank10_c_level           5840 non-null   float64\n",
      " 29  rougher.state.floatbank10_d_air             5839 non-null   float64\n",
      " 30  rougher.state.floatbank10_d_level           5840 non-null   float64\n",
      " 31  rougher.state.floatbank10_e_air             5839 non-null   float64\n",
      " 32  rougher.state.floatbank10_e_level           5840 non-null   float64\n",
      " 33  rougher.state.floatbank10_f_air             5839 non-null   float64\n",
      " 34  rougher.state.floatbank10_f_level           5840 non-null   float64\n",
      " 35  secondary_cleaner.state.floatbank2_a_air    5836 non-null   float64\n",
      " 36  secondary_cleaner.state.floatbank2_a_level  5840 non-null   float64\n",
      " 37  secondary_cleaner.state.floatbank2_b_air    5833 non-null   float64\n",
      " 38  secondary_cleaner.state.floatbank2_b_level  5840 non-null   float64\n",
      " 39  secondary_cleaner.state.floatbank3_a_air    5822 non-null   float64\n",
      " 40  secondary_cleaner.state.floatbank3_a_level  5840 non-null   float64\n",
      " 41  secondary_cleaner.state.floatbank3_b_air    5840 non-null   float64\n",
      " 42  secondary_cleaner.state.floatbank3_b_level  5840 non-null   float64\n",
      " 43  secondary_cleaner.state.floatbank4_a_air    5840 non-null   float64\n",
      " 44  secondary_cleaner.state.floatbank4_a_level  5840 non-null   float64\n",
      " 45  secondary_cleaner.state.floatbank4_b_air    5840 non-null   float64\n",
      " 46  secondary_cleaner.state.floatbank4_b_level  5840 non-null   float64\n",
      " 47  secondary_cleaner.state.floatbank5_a_air    5840 non-null   float64\n",
      " 48  secondary_cleaner.state.floatbank5_a_level  5840 non-null   float64\n",
      " 49  secondary_cleaner.state.floatbank5_b_air    5840 non-null   float64\n",
      " 50  secondary_cleaner.state.floatbank5_b_level  5840 non-null   float64\n",
      " 51  secondary_cleaner.state.floatbank6_a_air    5840 non-null   float64\n",
      " 52  secondary_cleaner.state.floatbank6_a_level  5840 non-null   float64\n",
      "dtypes: float64(52), object(1)\n",
      "memory usage: 2.4+ MB\n",
      "None\n"
     ]
    }
   ],
   "source": [
    "print(gr_train.info())\n",
    "print(gr_test.info())"
   ]
  },
  {
   "cell_type": "markdown",
   "metadata": {},
   "source": [
    "### Using the training set, calculate recovery for the 'rougher.output.recovery' feature. "
   ]
  },
  {
   "cell_type": "code",
   "execution_count": 6,
   "metadata": {},
   "outputs": [
    {
     "data": {
      "text/plain": [
       "[86.68879413602453,\n",
       " 86.84230825746624,\n",
       " 86.84326050586624,\n",
       " 87.10776292825425,\n",
       " 87.22642953304764]"
      ]
     },
     "execution_count": 6,
     "metadata": {},
     "output_type": "execute_result"
    }
   ],
   "source": [
    "# Using the training set, calculate recovery for the 'rougher.output.recovery' feature.\n",
    "sorted(gr_train['rougher.output.recovery'].head())"
   ]
  },
  {
   "cell_type": "code",
   "execution_count": 7,
   "metadata": {},
   "outputs": [],
   "source": [
    "# Calculate the recovery for the rougher process\n",
    "C_rough = gr_train['rougher.output.concentrate_au']\n",
    "F_rough = gr_train['rougher.input.feed_au']\n",
    "T_rough = gr_train['rougher.output.tail_au']\n",
    "recovery_rough = (C_rough * (F_rough - T_rough) / F_rough * (C_rough - T_rough)) \n",
    "reocvery_rough = recovery_rough * 100 #(100%)"
   ]
  },
  {
   "cell_type": "code",
   "execution_count": 8,
   "metadata": {},
   "outputs": [
    {
     "data": {
      "text/plain": [
       "[287.25710802179924,\n",
       " 290.23383810987275,\n",
       " 299.61991667599386,\n",
       " 302.12207038703593,\n",
       " 309.10254419757393]"
      ]
     },
     "execution_count": 8,
     "metadata": {},
     "output_type": "execute_result"
    }
   ],
   "source": [
    "sorted(recovery_rough.head())"
   ]
  },
  {
   "cell_type": "code",
   "execution_count": 9,
   "metadata": {},
   "outputs": [
    {
     "data": {
      "text/plain": [
       "192.24731416802695"
      ]
     },
     "execution_count": 9,
     "metadata": {},
     "output_type": "execute_result"
    }
   ],
   "source": [
    "(recovery_rough - gr_train['rougher.output.recovery']).abs().mean()"
   ]
  },
  {
   "cell_type": "markdown",
   "metadata": {},
   "source": [
    "### Analyze the features not available in the test set. What are these parameters? What is their type?"
   ]
  },
  {
   "cell_type": "code",
   "execution_count": 10,
   "metadata": {},
   "outputs": [],
   "source": [
    "# Analyze the features not available in the test set.\n",
    "diff = []\n",
    "gr_train_col = gr_train.columns\n",
    "gr_test_col = gr_test.columns\n",
    "for i in gr_train_col:\n",
    "    if i not in gr_test_col:\n",
    "        diff.append(i)"
   ]
  },
  {
   "cell_type": "code",
   "execution_count": 11,
   "metadata": {},
   "outputs": [
    {
     "data": {
      "text/plain": [
       "['final.output.concentrate_ag',\n",
       " 'final.output.concentrate_pb',\n",
       " 'final.output.concentrate_sol',\n",
       " 'final.output.concentrate_au',\n",
       " 'final.output.recovery',\n",
       " 'final.output.tail_ag',\n",
       " 'final.output.tail_pb',\n",
       " 'final.output.tail_sol',\n",
       " 'final.output.tail_au',\n",
       " 'primary_cleaner.output.concentrate_ag',\n",
       " 'primary_cleaner.output.concentrate_pb',\n",
       " 'primary_cleaner.output.concentrate_sol',\n",
       " 'primary_cleaner.output.concentrate_au',\n",
       " 'primary_cleaner.output.tail_ag',\n",
       " 'primary_cleaner.output.tail_pb',\n",
       " 'primary_cleaner.output.tail_sol',\n",
       " 'primary_cleaner.output.tail_au',\n",
       " 'rougher.calculation.sulfate_to_au_concentrate',\n",
       " 'rougher.calculation.floatbank10_sulfate_to_au_feed',\n",
       " 'rougher.calculation.floatbank11_sulfate_to_au_feed',\n",
       " 'rougher.calculation.au_pb_ratio',\n",
       " 'rougher.output.concentrate_ag',\n",
       " 'rougher.output.concentrate_pb',\n",
       " 'rougher.output.concentrate_sol',\n",
       " 'rougher.output.concentrate_au',\n",
       " 'rougher.output.recovery',\n",
       " 'rougher.output.tail_ag',\n",
       " 'rougher.output.tail_pb',\n",
       " 'rougher.output.tail_sol',\n",
       " 'rougher.output.tail_au',\n",
       " 'secondary_cleaner.output.tail_ag',\n",
       " 'secondary_cleaner.output.tail_pb',\n",
       " 'secondary_cleaner.output.tail_sol',\n",
       " 'secondary_cleaner.output.tail_au']"
      ]
     },
     "execution_count": 11,
     "metadata": {},
     "output_type": "execute_result"
    }
   ],
   "source": [
    "diff"
   ]
  },
  {
   "cell_type": "markdown",
   "metadata": {},
   "source": [
    "After finding the columns that are listed in the training set but not the test set, it seems that majority of these parameters are of the output parameter type with a few instances of the calculation parameter type. Moreover, after checking the type of columns present within the both training and testing files. At first, I wondered what was the purpose of excluding the outputs from the test set but I recalled some parameters were not available because they were measured and/or calculated much later."
   ]
  },
  {
   "cell_type": "markdown",
   "metadata": {},
   "source": [
    "### Perform data preprocessing"
   ]
  },
  {
   "cell_type": "code",
   "execution_count": 12,
   "metadata": {},
   "outputs": [
    {
     "name": "stdout",
     "output_type": "stream",
     "text": [
      "<class 'pandas.core.frame.DataFrame'>\n",
      "RangeIndex: 22716 entries, 0 to 22715\n",
      "Data columns (total 87 columns):\n",
      " #   Column                                              Non-Null Count  Dtype  \n",
      "---  ------                                              --------------  -----  \n",
      " 0   date                                                22716 non-null  object \n",
      " 1   final.output.concentrate_ag                         22627 non-null  float64\n",
      " 2   final.output.concentrate_pb                         22629 non-null  float64\n",
      " 3   final.output.concentrate_sol                        22331 non-null  float64\n",
      " 4   final.output.concentrate_au                         22630 non-null  float64\n",
      " 5   final.output.recovery                               20753 non-null  float64\n",
      " 6   final.output.tail_ag                                22633 non-null  float64\n",
      " 7   final.output.tail_pb                                22516 non-null  float64\n",
      " 8   final.output.tail_sol                               22445 non-null  float64\n",
      " 9   final.output.tail_au                                22635 non-null  float64\n",
      " 10  primary_cleaner.input.sulfate                       21107 non-null  float64\n",
      " 11  primary_cleaner.input.depressant                    21170 non-null  float64\n",
      " 12  primary_cleaner.input.feed_size                     22716 non-null  float64\n",
      " 13  primary_cleaner.input.xanthate                      21565 non-null  float64\n",
      " 14  primary_cleaner.output.concentrate_ag               22618 non-null  float64\n",
      " 15  primary_cleaner.output.concentrate_pb               22268 non-null  float64\n",
      " 16  primary_cleaner.output.concentrate_sol              21918 non-null  float64\n",
      " 17  primary_cleaner.output.concentrate_au               22618 non-null  float64\n",
      " 18  primary_cleaner.output.tail_ag                      22614 non-null  float64\n",
      " 19  primary_cleaner.output.tail_pb                      22594 non-null  float64\n",
      " 20  primary_cleaner.output.tail_sol                     22365 non-null  float64\n",
      " 21  primary_cleaner.output.tail_au                      22617 non-null  float64\n",
      " 22  primary_cleaner.state.floatbank8_a_air              22660 non-null  float64\n",
      " 23  primary_cleaner.state.floatbank8_a_level            22667 non-null  float64\n",
      " 24  primary_cleaner.state.floatbank8_b_air              22660 non-null  float64\n",
      " 25  primary_cleaner.state.floatbank8_b_level            22673 non-null  float64\n",
      " 26  primary_cleaner.state.floatbank8_c_air              22662 non-null  float64\n",
      " 27  primary_cleaner.state.floatbank8_c_level            22673 non-null  float64\n",
      " 28  primary_cleaner.state.floatbank8_d_air              22661 non-null  float64\n",
      " 29  primary_cleaner.state.floatbank8_d_level            22673 non-null  float64\n",
      " 30  rougher.calculation.sulfate_to_au_concentrate       22672 non-null  float64\n",
      " 31  rougher.calculation.floatbank10_sulfate_to_au_feed  22672 non-null  float64\n",
      " 32  rougher.calculation.floatbank11_sulfate_to_au_feed  22672 non-null  float64\n",
      " 33  rougher.calculation.au_pb_ratio                     21089 non-null  float64\n",
      " 34  rougher.input.feed_ag                               22618 non-null  float64\n",
      " 35  rougher.input.feed_pb                               22472 non-null  float64\n",
      " 36  rougher.input.feed_rate                             22163 non-null  float64\n",
      " 37  rougher.input.feed_size                             22277 non-null  float64\n",
      " 38  rougher.input.feed_sol                              22357 non-null  float64\n",
      " 39  rougher.input.feed_au                               22617 non-null  float64\n",
      " 40  rougher.input.floatbank10_sulfate                   21415 non-null  float64\n",
      " 41  rougher.input.floatbank10_xanthate                  22247 non-null  float64\n",
      " 42  rougher.input.floatbank11_sulfate                   22038 non-null  float64\n",
      " 43  rougher.input.floatbank11_xanthate                  20459 non-null  float64\n",
      " 44  rougher.output.concentrate_ag                       22618 non-null  float64\n",
      " 45  rougher.output.concentrate_pb                       22618 non-null  float64\n",
      " 46  rougher.output.concentrate_sol                      22526 non-null  float64\n",
      " 47  rougher.output.concentrate_au                       22618 non-null  float64\n",
      " 48  rougher.output.recovery                             19597 non-null  float64\n",
      " 49  rougher.output.tail_ag                              19979 non-null  float64\n",
      " 50  rougher.output.tail_pb                              22618 non-null  float64\n",
      " 51  rougher.output.tail_sol                             19980 non-null  float64\n",
      " 52  rougher.output.tail_au                              19980 non-null  float64\n",
      " 53  rougher.state.floatbank10_a_air                     22646 non-null  float64\n",
      " 54  rougher.state.floatbank10_a_level                   22647 non-null  float64\n",
      " 55  rougher.state.floatbank10_b_air                     22646 non-null  float64\n",
      " 56  rougher.state.floatbank10_b_level                   22647 non-null  float64\n",
      " 57  rougher.state.floatbank10_c_air                     22646 non-null  float64\n",
      " 58  rougher.state.floatbank10_c_level                   22654 non-null  float64\n",
      " 59  rougher.state.floatbank10_d_air                     22641 non-null  float64\n",
      " 60  rougher.state.floatbank10_d_level                   22649 non-null  float64\n",
      " 61  rougher.state.floatbank10_e_air                     22096 non-null  float64\n",
      " 62  rougher.state.floatbank10_e_level                   22649 non-null  float64\n",
      " 63  rougher.state.floatbank10_f_air                     22641 non-null  float64\n",
      " 64  rougher.state.floatbank10_f_level                   22642 non-null  float64\n",
      " 65  secondary_cleaner.output.tail_ag                    22616 non-null  float64\n",
      " 66  secondary_cleaner.output.tail_pb                    22600 non-null  float64\n",
      " 67  secondary_cleaner.output.tail_sol                   20501 non-null  float64\n",
      " 68  secondary_cleaner.output.tail_au                    22618 non-null  float64\n",
      " 69  secondary_cleaner.state.floatbank2_a_air            22333 non-null  float64\n",
      " 70  secondary_cleaner.state.floatbank2_a_level          22591 non-null  float64\n",
      " 71  secondary_cleaner.state.floatbank2_b_air            22538 non-null  float64\n",
      " 72  secondary_cleaner.state.floatbank2_b_level          22588 non-null  float64\n",
      " 73  secondary_cleaner.state.floatbank3_a_air            22585 non-null  float64\n",
      " 74  secondary_cleaner.state.floatbank3_a_level          22587 non-null  float64\n",
      " 75  secondary_cleaner.state.floatbank3_b_air            22592 non-null  float64\n",
      " 76  secondary_cleaner.state.floatbank3_b_level          22590 non-null  float64\n",
      " 77  secondary_cleaner.state.floatbank4_a_air            22571 non-null  float64\n",
      " 78  secondary_cleaner.state.floatbank4_a_level          22587 non-null  float64\n",
      " 79  secondary_cleaner.state.floatbank4_b_air            22608 non-null  float64\n",
      " 80  secondary_cleaner.state.floatbank4_b_level          22607 non-null  float64\n",
      " 81  secondary_cleaner.state.floatbank5_a_air            22615 non-null  float64\n",
      " 82  secondary_cleaner.state.floatbank5_a_level          22615 non-null  float64\n",
      " 83  secondary_cleaner.state.floatbank5_b_air            22615 non-null  float64\n",
      " 84  secondary_cleaner.state.floatbank5_b_level          22616 non-null  float64\n",
      " 85  secondary_cleaner.state.floatbank6_a_air            22597 non-null  float64\n",
      " 86  secondary_cleaner.state.floatbank6_a_level          22615 non-null  float64\n",
      "dtypes: float64(86), object(1)\n",
      "memory usage: 15.1+ MB\n"
     ]
    }
   ],
   "source": [
    "gr_full.info()"
   ]
  },
  {
   "cell_type": "markdown",
   "metadata": {},
   "source": [
    "#### Null Check"
   ]
  },
  {
   "cell_type": "code",
   "execution_count": 13,
   "metadata": {},
   "outputs": [],
   "source": [
    "def null_check(df):\n",
    "    null_count = df.isna().sum()\n",
    "    max_null_count = df.isna().sum().max()\n",
    "    return null_count, max_null_count"
   ]
  },
  {
   "cell_type": "code",
   "execution_count": 14,
   "metadata": {},
   "outputs": [
    {
     "name": "stdout",
     "output_type": "stream",
     "text": [
      "Training Set Null Count: date                                            0\n",
      "final.output.concentrate_ag                    72\n",
      "final.output.concentrate_pb                    72\n",
      "final.output.concentrate_sol                  370\n",
      "final.output.concentrate_au                    71\n",
      "                                             ... \n",
      "secondary_cleaner.state.floatbank5_a_level     85\n",
      "secondary_cleaner.state.floatbank5_b_air       85\n",
      "secondary_cleaner.state.floatbank5_b_level     84\n",
      "secondary_cleaner.state.floatbank6_a_air      103\n",
      "secondary_cleaner.state.floatbank6_a_level     85\n",
      "Length: 87, dtype: int64\n",
      "Training Set Max Null #: 2573\n"
     ]
    }
   ],
   "source": [
    "null_count_train, max_null_train = null_check(gr_train)\n",
    "print('Training Set Null Count:', null_count_train)\n",
    "print('Training Set Max Null #:', max_null_train)"
   ]
  },
  {
   "cell_type": "code",
   "execution_count": 15,
   "metadata": {},
   "outputs": [
    {
     "name": "stdout",
     "output_type": "stream",
     "text": [
      "Test Set Null Count: date                                            0\n",
      "primary_cleaner.input.sulfate                 302\n",
      "primary_cleaner.input.depressant              284\n",
      "primary_cleaner.input.feed_size                 0\n",
      "primary_cleaner.input.xanthate                166\n",
      "primary_cleaner.state.floatbank8_a_air         16\n",
      "primary_cleaner.state.floatbank8_a_level       16\n",
      "primary_cleaner.state.floatbank8_b_air         16\n",
      "primary_cleaner.state.floatbank8_b_level       16\n",
      "primary_cleaner.state.floatbank8_c_air         16\n",
      "primary_cleaner.state.floatbank8_c_level       16\n",
      "primary_cleaner.state.floatbank8_d_air         16\n",
      "primary_cleaner.state.floatbank8_d_level       16\n",
      "rougher.input.feed_ag                          16\n",
      "rougher.input.feed_pb                          16\n",
      "rougher.input.feed_rate                        40\n",
      "rougher.input.feed_size                        22\n",
      "rougher.input.feed_sol                         67\n",
      "rougher.input.feed_au                          16\n",
      "rougher.input.floatbank10_sulfate             257\n",
      "rougher.input.floatbank10_xanthate            123\n",
      "rougher.input.floatbank11_sulfate              55\n",
      "rougher.input.floatbank11_xanthate            353\n",
      "rougher.state.floatbank10_a_air                17\n",
      "rougher.state.floatbank10_a_level              16\n",
      "rougher.state.floatbank10_b_air                17\n",
      "rougher.state.floatbank10_b_level              16\n",
      "rougher.state.floatbank10_c_air                17\n",
      "rougher.state.floatbank10_c_level              16\n",
      "rougher.state.floatbank10_d_air                17\n",
      "rougher.state.floatbank10_d_level              16\n",
      "rougher.state.floatbank10_e_air                17\n",
      "rougher.state.floatbank10_e_level              16\n",
      "rougher.state.floatbank10_f_air                17\n",
      "rougher.state.floatbank10_f_level              16\n",
      "secondary_cleaner.state.floatbank2_a_air       20\n",
      "secondary_cleaner.state.floatbank2_a_level     16\n",
      "secondary_cleaner.state.floatbank2_b_air       23\n",
      "secondary_cleaner.state.floatbank2_b_level     16\n",
      "secondary_cleaner.state.floatbank3_a_air       34\n",
      "secondary_cleaner.state.floatbank3_a_level     16\n",
      "secondary_cleaner.state.floatbank3_b_air       16\n",
      "secondary_cleaner.state.floatbank3_b_level     16\n",
      "secondary_cleaner.state.floatbank4_a_air       16\n",
      "secondary_cleaner.state.floatbank4_a_level     16\n",
      "secondary_cleaner.state.floatbank4_b_air       16\n",
      "secondary_cleaner.state.floatbank4_b_level     16\n",
      "secondary_cleaner.state.floatbank5_a_air       16\n",
      "secondary_cleaner.state.floatbank5_a_level     16\n",
      "secondary_cleaner.state.floatbank5_b_air       16\n",
      "secondary_cleaner.state.floatbank5_b_level     16\n",
      "secondary_cleaner.state.floatbank6_a_air       16\n",
      "secondary_cleaner.state.floatbank6_a_level     16\n",
      "dtype: int64\n",
      "Test Set Max Null #: 353\n"
     ]
    }
   ],
   "source": [
    "null_count_test, max_null_test = null_check(gr_test)\n",
    "print('Test Set Null Count:', null_count_test)\n",
    "print('Test Set Max Null #:', max_null_test)"
   ]
  },
  {
   "cell_type": "code",
   "execution_count": 16,
   "metadata": {},
   "outputs": [
    {
     "name": "stdout",
     "output_type": "stream",
     "text": [
      "Training Set Null Count: date                                            0\n",
      "final.output.concentrate_ag                    89\n",
      "final.output.concentrate_pb                    87\n",
      "final.output.concentrate_sol                  385\n",
      "final.output.concentrate_au                    86\n",
      "                                             ... \n",
      "secondary_cleaner.state.floatbank5_a_level    101\n",
      "secondary_cleaner.state.floatbank5_b_air      101\n",
      "secondary_cleaner.state.floatbank5_b_level    100\n",
      "secondary_cleaner.state.floatbank6_a_air      119\n",
      "secondary_cleaner.state.floatbank6_a_level    101\n",
      "Length: 87, dtype: int64\n",
      "Training Set Max Null #: 3119\n"
     ]
    }
   ],
   "source": [
    "null_count_full, max_null_full = null_check(gr_full)\n",
    "print('Training Set Null Count:', null_count_full)\n",
    "print('Training Set Max Null #:', max_null_full)"
   ]
  },
  {
   "cell_type": "markdown",
   "metadata": {},
   "source": [
    "#### Duplicates Check"
   ]
  },
  {
   "cell_type": "code",
   "execution_count": 17,
   "metadata": {},
   "outputs": [],
   "source": [
    "def dup_check(df):\n",
    "    dup_count = df.duplicated().sum()\n",
    "    return dup_count"
   ]
  },
  {
   "cell_type": "code",
   "execution_count": 18,
   "metadata": {},
   "outputs": [
    {
     "name": "stdout",
     "output_type": "stream",
     "text": [
      "Training set Duplicates Count: 0\n"
     ]
    }
   ],
   "source": [
    "dup_count_train = dup_check(gr_train)\n",
    "print('Training set Duplicates Count:', dup_count_train)"
   ]
  },
  {
   "cell_type": "code",
   "execution_count": 19,
   "metadata": {},
   "outputs": [
    {
     "name": "stdout",
     "output_type": "stream",
     "text": [
      "Test set Duplicates Count: 0\n"
     ]
    }
   ],
   "source": [
    "dup_count_test = dup_check(gr_test)\n",
    "print('Test set Duplicates Count:', dup_count_test)"
   ]
  },
  {
   "cell_type": "code",
   "execution_count": 20,
   "metadata": {},
   "outputs": [
    {
     "name": "stdout",
     "output_type": "stream",
     "text": [
      "Full set Duplicates Count: 0\n"
     ]
    }
   ],
   "source": [
    "dup_count_full = dup_check(gr_full)\n",
    "print('Full set Duplicates Count:', dup_count_full)"
   ]
  },
  {
   "cell_type": "markdown",
   "metadata": {},
   "source": [
    "#### Fill Nulls"
   ]
  },
  {
   "cell_type": "code",
   "execution_count": 21,
   "metadata": {
    "scrolled": true
   },
   "outputs": [],
   "source": [
    "def na_fill(df):\n",
    "    df = df.fillna(method='ffill')\n",
    "    return df"
   ]
  },
  {
   "cell_type": "code",
   "execution_count": 22,
   "metadata": {},
   "outputs": [
    {
     "name": "stdout",
     "output_type": "stream",
     "text": [
      "Training Set Null Count: date                                          0\n",
      "final.output.concentrate_ag                   0\n",
      "final.output.concentrate_pb                   0\n",
      "final.output.concentrate_sol                  0\n",
      "final.output.concentrate_au                   0\n",
      "                                             ..\n",
      "secondary_cleaner.state.floatbank5_a_level    0\n",
      "secondary_cleaner.state.floatbank5_b_air      0\n",
      "secondary_cleaner.state.floatbank5_b_level    0\n",
      "secondary_cleaner.state.floatbank6_a_air      0\n",
      "secondary_cleaner.state.floatbank6_a_level    0\n",
      "Length: 87, dtype: int64\n",
      "Training Set Max Null #: 0\n"
     ]
    }
   ],
   "source": [
    "gr_train = na_fill(gr_train)\n",
    "null_count_train_2, max_null_train_2 = null_check(gr_train)\n",
    "print('Training Set Null Count:', null_count_train_2)\n",
    "print('Training Set Max Null #:', max_null_train_2)"
   ]
  },
  {
   "cell_type": "code",
   "execution_count": 23,
   "metadata": {},
   "outputs": [
    {
     "name": "stdout",
     "output_type": "stream",
     "text": [
      "Test Set Null Count: date                                          0\n",
      "primary_cleaner.input.sulfate                 0\n",
      "primary_cleaner.input.depressant              0\n",
      "primary_cleaner.input.feed_size               0\n",
      "primary_cleaner.input.xanthate                0\n",
      "primary_cleaner.state.floatbank8_a_air        0\n",
      "primary_cleaner.state.floatbank8_a_level      0\n",
      "primary_cleaner.state.floatbank8_b_air        0\n",
      "primary_cleaner.state.floatbank8_b_level      0\n",
      "primary_cleaner.state.floatbank8_c_air        0\n",
      "primary_cleaner.state.floatbank8_c_level      0\n",
      "primary_cleaner.state.floatbank8_d_air        0\n",
      "primary_cleaner.state.floatbank8_d_level      0\n",
      "rougher.input.feed_ag                         0\n",
      "rougher.input.feed_pb                         0\n",
      "rougher.input.feed_rate                       0\n",
      "rougher.input.feed_size                       0\n",
      "rougher.input.feed_sol                        0\n",
      "rougher.input.feed_au                         0\n",
      "rougher.input.floatbank10_sulfate             0\n",
      "rougher.input.floatbank10_xanthate            0\n",
      "rougher.input.floatbank11_sulfate             0\n",
      "rougher.input.floatbank11_xanthate            0\n",
      "rougher.state.floatbank10_a_air               0\n",
      "rougher.state.floatbank10_a_level             0\n",
      "rougher.state.floatbank10_b_air               0\n",
      "rougher.state.floatbank10_b_level             0\n",
      "rougher.state.floatbank10_c_air               0\n",
      "rougher.state.floatbank10_c_level             0\n",
      "rougher.state.floatbank10_d_air               0\n",
      "rougher.state.floatbank10_d_level             0\n",
      "rougher.state.floatbank10_e_air               0\n",
      "rougher.state.floatbank10_e_level             0\n",
      "rougher.state.floatbank10_f_air               0\n",
      "rougher.state.floatbank10_f_level             0\n",
      "secondary_cleaner.state.floatbank2_a_air      0\n",
      "secondary_cleaner.state.floatbank2_a_level    0\n",
      "secondary_cleaner.state.floatbank2_b_air      0\n",
      "secondary_cleaner.state.floatbank2_b_level    0\n",
      "secondary_cleaner.state.floatbank3_a_air      0\n",
      "secondary_cleaner.state.floatbank3_a_level    0\n",
      "secondary_cleaner.state.floatbank3_b_air      0\n",
      "secondary_cleaner.state.floatbank3_b_level    0\n",
      "secondary_cleaner.state.floatbank4_a_air      0\n",
      "secondary_cleaner.state.floatbank4_a_level    0\n",
      "secondary_cleaner.state.floatbank4_b_air      0\n",
      "secondary_cleaner.state.floatbank4_b_level    0\n",
      "secondary_cleaner.state.floatbank5_a_air      0\n",
      "secondary_cleaner.state.floatbank5_a_level    0\n",
      "secondary_cleaner.state.floatbank5_b_air      0\n",
      "secondary_cleaner.state.floatbank5_b_level    0\n",
      "secondary_cleaner.state.floatbank6_a_air      0\n",
      "secondary_cleaner.state.floatbank6_a_level    0\n",
      "dtype: int64\n",
      "Test Set Max Null #: 0\n"
     ]
    }
   ],
   "source": [
    "gr_test = na_fill(gr_test)\n",
    "null_count_test_2, max_null_test_2 = null_check(gr_test)\n",
    "print('Test Set Null Count:', null_count_test_2)\n",
    "print('Test Set Max Null #:', max_null_test_2)"
   ]
  },
  {
   "cell_type": "code",
   "execution_count": 24,
   "metadata": {},
   "outputs": [
    {
     "name": "stdout",
     "output_type": "stream",
     "text": [
      "Full Set Null Count: date                                          0\n",
      "final.output.concentrate_ag                   0\n",
      "final.output.concentrate_pb                   0\n",
      "final.output.concentrate_sol                  0\n",
      "final.output.concentrate_au                   0\n",
      "                                             ..\n",
      "secondary_cleaner.state.floatbank5_a_level    0\n",
      "secondary_cleaner.state.floatbank5_b_air      0\n",
      "secondary_cleaner.state.floatbank5_b_level    0\n",
      "secondary_cleaner.state.floatbank6_a_air      0\n",
      "secondary_cleaner.state.floatbank6_a_level    0\n",
      "Length: 87, dtype: int64\n",
      "Full Set Max Null #: 0\n"
     ]
    }
   ],
   "source": [
    "gr_full = na_fill(gr_full)\n",
    "null_count_full_2, max_null_full_2 = null_check(gr_full)\n",
    "print('Full Set Null Count:', null_count_full_2)\n",
    "print('Full Set Max Null #:', max_null_full_2)"
   ]
  },
  {
   "cell_type": "markdown",
   "metadata": {},
   "source": [
    "The inituition behind filling the null values with last valid value is to ensure that the integrity of the gold ore mining process is being accurately accounted for on an hourly basis. For example, referencing the date column, if the nulls were deleted, there would be gaps in some of the hours, which wouldn't be an accurate, consistent representation of the entire process.  "
   ]
  },
  {
   "cell_type": "code",
   "execution_count": 25,
   "metadata": {},
   "outputs": [],
   "source": [
    "gr_full['date'] = pd.to_datetime(gr_full['date'], format='%Y-%m-%dT%H:%M:%S')"
   ]
  },
  {
   "cell_type": "code",
   "execution_count": 26,
   "metadata": {
    "scrolled": true
   },
   "outputs": [
    {
     "name": "stdout",
     "output_type": "stream",
     "text": [
      "<class 'pandas.core.frame.DataFrame'>\n",
      "RangeIndex: 22716 entries, 0 to 22715\n",
      "Data columns (total 87 columns):\n",
      " #   Column                                              Non-Null Count  Dtype         \n",
      "---  ------                                              --------------  -----         \n",
      " 0   date                                                22716 non-null  datetime64[ns]\n",
      " 1   final.output.concentrate_ag                         22716 non-null  float64       \n",
      " 2   final.output.concentrate_pb                         22716 non-null  float64       \n",
      " 3   final.output.concentrate_sol                        22716 non-null  float64       \n",
      " 4   final.output.concentrate_au                         22716 non-null  float64       \n",
      " 5   final.output.recovery                               22716 non-null  float64       \n",
      " 6   final.output.tail_ag                                22716 non-null  float64       \n",
      " 7   final.output.tail_pb                                22716 non-null  float64       \n",
      " 8   final.output.tail_sol                               22716 non-null  float64       \n",
      " 9   final.output.tail_au                                22716 non-null  float64       \n",
      " 10  primary_cleaner.input.sulfate                       22716 non-null  float64       \n",
      " 11  primary_cleaner.input.depressant                    22716 non-null  float64       \n",
      " 12  primary_cleaner.input.feed_size                     22716 non-null  float64       \n",
      " 13  primary_cleaner.input.xanthate                      22716 non-null  float64       \n",
      " 14  primary_cleaner.output.concentrate_ag               22716 non-null  float64       \n",
      " 15  primary_cleaner.output.concentrate_pb               22716 non-null  float64       \n",
      " 16  primary_cleaner.output.concentrate_sol              22716 non-null  float64       \n",
      " 17  primary_cleaner.output.concentrate_au               22716 non-null  float64       \n",
      " 18  primary_cleaner.output.tail_ag                      22716 non-null  float64       \n",
      " 19  primary_cleaner.output.tail_pb                      22716 non-null  float64       \n",
      " 20  primary_cleaner.output.tail_sol                     22716 non-null  float64       \n",
      " 21  primary_cleaner.output.tail_au                      22716 non-null  float64       \n",
      " 22  primary_cleaner.state.floatbank8_a_air              22716 non-null  float64       \n",
      " 23  primary_cleaner.state.floatbank8_a_level            22716 non-null  float64       \n",
      " 24  primary_cleaner.state.floatbank8_b_air              22716 non-null  float64       \n",
      " 25  primary_cleaner.state.floatbank8_b_level            22716 non-null  float64       \n",
      " 26  primary_cleaner.state.floatbank8_c_air              22716 non-null  float64       \n",
      " 27  primary_cleaner.state.floatbank8_c_level            22716 non-null  float64       \n",
      " 28  primary_cleaner.state.floatbank8_d_air              22716 non-null  float64       \n",
      " 29  primary_cleaner.state.floatbank8_d_level            22716 non-null  float64       \n",
      " 30  rougher.calculation.sulfate_to_au_concentrate       22716 non-null  float64       \n",
      " 31  rougher.calculation.floatbank10_sulfate_to_au_feed  22716 non-null  float64       \n",
      " 32  rougher.calculation.floatbank11_sulfate_to_au_feed  22716 non-null  float64       \n",
      " 33  rougher.calculation.au_pb_ratio                     22716 non-null  float64       \n",
      " 34  rougher.input.feed_ag                               22716 non-null  float64       \n",
      " 35  rougher.input.feed_pb                               22716 non-null  float64       \n",
      " 36  rougher.input.feed_rate                             22716 non-null  float64       \n",
      " 37  rougher.input.feed_size                             22716 non-null  float64       \n",
      " 38  rougher.input.feed_sol                              22716 non-null  float64       \n",
      " 39  rougher.input.feed_au                               22716 non-null  float64       \n",
      " 40  rougher.input.floatbank10_sulfate                   22716 non-null  float64       \n",
      " 41  rougher.input.floatbank10_xanthate                  22716 non-null  float64       \n",
      " 42  rougher.input.floatbank11_sulfate                   22716 non-null  float64       \n",
      " 43  rougher.input.floatbank11_xanthate                  22716 non-null  float64       \n",
      " 44  rougher.output.concentrate_ag                       22716 non-null  float64       \n",
      " 45  rougher.output.concentrate_pb                       22716 non-null  float64       \n",
      " 46  rougher.output.concentrate_sol                      22716 non-null  float64       \n",
      " 47  rougher.output.concentrate_au                       22716 non-null  float64       \n",
      " 48  rougher.output.recovery                             22716 non-null  float64       \n",
      " 49  rougher.output.tail_ag                              22716 non-null  float64       \n",
      " 50  rougher.output.tail_pb                              22716 non-null  float64       \n",
      " 51  rougher.output.tail_sol                             22716 non-null  float64       \n",
      " 52  rougher.output.tail_au                              22716 non-null  float64       \n",
      " 53  rougher.state.floatbank10_a_air                     22716 non-null  float64       \n",
      " 54  rougher.state.floatbank10_a_level                   22716 non-null  float64       \n",
      " 55  rougher.state.floatbank10_b_air                     22716 non-null  float64       \n",
      " 56  rougher.state.floatbank10_b_level                   22716 non-null  float64       \n",
      " 57  rougher.state.floatbank10_c_air                     22716 non-null  float64       \n",
      " 58  rougher.state.floatbank10_c_level                   22716 non-null  float64       \n",
      " 59  rougher.state.floatbank10_d_air                     22716 non-null  float64       \n",
      " 60  rougher.state.floatbank10_d_level                   22716 non-null  float64       \n",
      " 61  rougher.state.floatbank10_e_air                     22716 non-null  float64       \n",
      " 62  rougher.state.floatbank10_e_level                   22716 non-null  float64       \n",
      " 63  rougher.state.floatbank10_f_air                     22716 non-null  float64       \n",
      " 64  rougher.state.floatbank10_f_level                   22716 non-null  float64       \n",
      " 65  secondary_cleaner.output.tail_ag                    22716 non-null  float64       \n",
      " 66  secondary_cleaner.output.tail_pb                    22716 non-null  float64       \n",
      " 67  secondary_cleaner.output.tail_sol                   22716 non-null  float64       \n",
      " 68  secondary_cleaner.output.tail_au                    22716 non-null  float64       \n",
      " 69  secondary_cleaner.state.floatbank2_a_air            22716 non-null  float64       \n",
      " 70  secondary_cleaner.state.floatbank2_a_level          22716 non-null  float64       \n",
      " 71  secondary_cleaner.state.floatbank2_b_air            22716 non-null  float64       \n",
      " 72  secondary_cleaner.state.floatbank2_b_level          22716 non-null  float64       \n",
      " 73  secondary_cleaner.state.floatbank3_a_air            22716 non-null  float64       \n",
      " 74  secondary_cleaner.state.floatbank3_a_level          22716 non-null  float64       \n",
      " 75  secondary_cleaner.state.floatbank3_b_air            22716 non-null  float64       \n",
      " 76  secondary_cleaner.state.floatbank3_b_level          22716 non-null  float64       \n",
      " 77  secondary_cleaner.state.floatbank4_a_air            22716 non-null  float64       \n",
      " 78  secondary_cleaner.state.floatbank4_a_level          22716 non-null  float64       \n",
      " 79  secondary_cleaner.state.floatbank4_b_air            22716 non-null  float64       \n",
      " 80  secondary_cleaner.state.floatbank4_b_level          22716 non-null  float64       \n",
      " 81  secondary_cleaner.state.floatbank5_a_air            22716 non-null  float64       \n",
      " 82  secondary_cleaner.state.floatbank5_a_level          22716 non-null  float64       \n",
      " 83  secondary_cleaner.state.floatbank5_b_air            22716 non-null  float64       \n",
      " 84  secondary_cleaner.state.floatbank5_b_level          22716 non-null  float64       \n",
      " 85  secondary_cleaner.state.floatbank6_a_air            22716 non-null  float64       \n",
      " 86  secondary_cleaner.state.floatbank6_a_level          22716 non-null  float64       \n",
      "dtypes: datetime64[ns](1), float64(86)\n",
      "memory usage: 15.1 MB\n"
     ]
    }
   ],
   "source": [
    "gr_full.info()"
   ]
  },
  {
   "cell_type": "markdown",
   "metadata": {},
   "source": [
    "After conducting a check for nulls & duplicates and handling the null values, the dataset seems sufficient for further analysis/preproccessing."
   ]
  },
  {
   "cell_type": "markdown",
   "metadata": {},
   "source": [
    "## Analyze the Data\n",
    "---"
   ]
  },
  {
   "cell_type": "markdown",
   "metadata": {},
   "source": [
    "### Take note of how the concentrations of metals (Au, Ag, Pb) change depending on the purification stage."
   ]
  },
  {
   "cell_type": "markdown",
   "metadata": {},
   "source": [
    "To study the concentrations of the metals at different stages, the levels will be taken first after the rougher stage, after primary cleaner stage(to measure the 1st level purification) and after the secondary cleaner stage(to measure the 2nd level purification)."
   ]
  },
  {
   "cell_type": "code",
   "execution_count": 27,
   "metadata": {},
   "outputs": [],
   "source": [
    "conc_ag = gr_full[['rougher.output.concentrate_ag','primary_cleaner.output.concentrate_ag','final.output.concentrate_ag']].sum()\n",
    "conc_pb = gr_full[['rougher.output.concentrate_pb','primary_cleaner.output.concentrate_pb','final.output.concentrate_pb']].sum()\n",
    "conc_au = gr_full[['rougher.output.concentrate_au','primary_cleaner.output.concentrate_au','final.output.concentrate_au']].sum()"
   ]
  },
  {
   "cell_type": "code",
   "execution_count": 28,
   "metadata": {},
   "outputs": [
    {
     "data": {
      "text/html": [
       "<div>\n",
       "<style scoped>\n",
       "    .dataframe tbody tr th:only-of-type {\n",
       "        vertical-align: middle;\n",
       "    }\n",
       "\n",
       "    .dataframe tbody tr th {\n",
       "        vertical-align: top;\n",
       "    }\n",
       "\n",
       "    .dataframe thead th {\n",
       "        text-align: right;\n",
       "    }\n",
       "</style>\n",
       "<table border=\"1\" class=\"dataframe\">\n",
       "  <thead>\n",
       "    <tr style=\"text-align: right;\">\n",
       "      <th></th>\n",
       "      <th>ag_process</th>\n",
       "      <th>concentration_level</th>\n",
       "    </tr>\n",
       "  </thead>\n",
       "  <tbody>\n",
       "    <tr>\n",
       "      <th>0</th>\n",
       "      <td>rougher.output.concentrate_ag</td>\n",
       "      <td>246368.863860</td>\n",
       "    </tr>\n",
       "    <tr>\n",
       "      <th>1</th>\n",
       "      <td>primary_cleaner.output.concentrate_ag</td>\n",
       "      <td>174162.930712</td>\n",
       "    </tr>\n",
       "    <tr>\n",
       "      <th>2</th>\n",
       "      <td>final.output.concentrate_ag</td>\n",
       "      <td>108310.180492</td>\n",
       "    </tr>\n",
       "  </tbody>\n",
       "</table>\n",
       "</div>"
      ],
      "text/plain": [
       "                              ag_process  concentration_level\n",
       "0          rougher.output.concentrate_ag        246368.863860\n",
       "1  primary_cleaner.output.concentrate_ag        174162.930712\n",
       "2            final.output.concentrate_ag        108310.180492"
      ]
     },
     "metadata": {},
     "output_type": "display_data"
    },
    {
     "data": {
      "text/plain": [
       "<AxesSubplot:xlabel='ag_process', ylabel='concentration_level'>"
      ]
     },
     "execution_count": 28,
     "metadata": {},
     "output_type": "execute_result"
    },
    {
     "data": {
      "image/png": "[encoded data removed]",
      "text/plain": [
       "<Figure size 640x480 with 1 Axes>"
      ]
     },
     "metadata": {},
     "output_type": "display_data"
    }
   ],
   "source": [
    "conc_ag = conc_ag.reset_index()\n",
    "conc_ag = conc_ag.rename(columns={'index': 'ag_process', 0: 'concentration_level'})  # Rename columns\n",
    "display(conc_ag)\n",
    "sns.barplot(x='ag_process', y='concentration_level', data=conc_ag)"
   ]
  },
  {
   "cell_type": "code",
   "execution_count": 29,
   "metadata": {},
   "outputs": [
    {
     "data": {
      "text/html": [
       "<div>\n",
       "<style scoped>\n",
       "    .dataframe tbody tr th:only-of-type {\n",
       "        vertical-align: middle;\n",
       "    }\n",
       "\n",
       "    .dataframe tbody tr th {\n",
       "        vertical-align: top;\n",
       "    }\n",
       "\n",
       "    .dataframe thead th {\n",
       "        text-align: right;\n",
       "    }\n",
       "</style>\n",
       "<table border=\"1\" class=\"dataframe\">\n",
       "  <thead>\n",
       "    <tr style=\"text-align: right;\">\n",
       "      <th></th>\n",
       "      <th>pb_process</th>\n",
       "      <th>concentration_level</th>\n",
       "    </tr>\n",
       "  </thead>\n",
       "  <tbody>\n",
       "    <tr>\n",
       "      <th>0</th>\n",
       "      <td>rougher.output.concentrate_pb</td>\n",
       "      <td>156442.126750</td>\n",
       "    </tr>\n",
       "    <tr>\n",
       "      <th>1</th>\n",
       "      <td>primary_cleaner.output.concentrate_pb</td>\n",
       "      <td>200110.183752</td>\n",
       "    </tr>\n",
       "    <tr>\n",
       "      <th>2</th>\n",
       "      <td>final.output.concentrate_pb</td>\n",
       "      <td>206065.154798</td>\n",
       "    </tr>\n",
       "  </tbody>\n",
       "</table>\n",
       "</div>"
      ],
      "text/plain": [
       "                              pb_process  concentration_level\n",
       "0          rougher.output.concentrate_pb        156442.126750\n",
       "1  primary_cleaner.output.concentrate_pb        200110.183752\n",
       "2            final.output.concentrate_pb        206065.154798"
      ]
     },
     "metadata": {},
     "output_type": "display_data"
    },
    {
     "data": {
      "text/plain": [
       "<AxesSubplot:xlabel='pb_process', ylabel='concentration_level'>"
      ]
     },
     "execution_count": 29,
     "metadata": {},
     "output_type": "execute_result"
    },
    {
     "data": {
      "image/png": "[encoded data removed]",
      "text/plain": [
       "<Figure size 640x480 with 1 Axes>"
      ]
     },
     "metadata": {},
     "output_type": "display_data"
    }
   ],
   "source": [
    "conc_pb = conc_pb.reset_index()\n",
    "conc_pb= conc_pb.rename(columns={'index': 'pb_process', 0: 'concentration_level'})  # Rename column\n",
    "display(conc_pb)\n",
    "sns.barplot(x='pb_process', y='concentration_level', data=conc_pb)"
   ]
  },
  {
   "cell_type": "code",
   "execution_count": 30,
   "metadata": {},
   "outputs": [
    {
     "data": {
      "text/html": [
       "<div>\n",
       "<style scoped>\n",
       "    .dataframe tbody tr th:only-of-type {\n",
       "        vertical-align: middle;\n",
       "    }\n",
       "\n",
       "    .dataframe tbody tr th {\n",
       "        vertical-align: top;\n",
       "    }\n",
       "\n",
       "    .dataframe thead th {\n",
       "        text-align: right;\n",
       "    }\n",
       "</style>\n",
       "<table border=\"1\" class=\"dataframe\">\n",
       "  <thead>\n",
       "    <tr style=\"text-align: right;\">\n",
       "      <th></th>\n",
       "      <th>au_process</th>\n",
       "      <th>concentration_level</th>\n",
       "    </tr>\n",
       "  </thead>\n",
       "  <tbody>\n",
       "    <tr>\n",
       "      <th>0</th>\n",
       "      <td>rougher.output.concentrate_au</td>\n",
       "      <td>405060.555729</td>\n",
       "    </tr>\n",
       "    <tr>\n",
       "      <th>1</th>\n",
       "      <td>primary_cleaner.output.concentrate_au</td>\n",
       "      <td>661489.159778</td>\n",
       "    </tr>\n",
       "    <tr>\n",
       "      <th>2</th>\n",
       "      <td>final.output.concentrate_au</td>\n",
       "      <td>906180.262071</td>\n",
       "    </tr>\n",
       "  </tbody>\n",
       "</table>\n",
       "</div>"
      ],
      "text/plain": [
       "                              au_process  concentration_level\n",
       "0          rougher.output.concentrate_au        405060.555729\n",
       "1  primary_cleaner.output.concentrate_au        661489.159778\n",
       "2            final.output.concentrate_au        906180.262071"
      ]
     },
     "metadata": {},
     "output_type": "display_data"
    },
    {
     "data": {
      "text/plain": [
       "<AxesSubplot:xlabel='au_process', ylabel='concentration_level'>"
      ]
     },
     "execution_count": 30,
     "metadata": {},
     "output_type": "execute_result"
    },
    {
     "data": {
      "image/png": "[encoded data removed]",
      "text/plain": [
       "<Figure size 640x480 with 1 Axes>"
      ]
     },
     "metadata": {},
     "output_type": "display_data"
    }
   ],
   "source": [
    "conc_au = conc_au.reset_index()\n",
    "conc_au= conc_au.rename(columns={'index': 'au_process', 0: 'concentration_level'})  # Rename column\n",
    "display(conc_au)\n",
    "sns.barplot(x='au_process', y='concentration_level', data=conc_au)"
   ]
  },
  {
   "cell_type": "markdown",
   "metadata": {},
   "source": [
    "The inuition behind the graphs is to sum and categorize the concentration levels before and after the primary & secondary stages of purication to show how the total concentration levels changes after each purification. It seems that the further that silver goes through the purification stages of the process, the concentration levels decline. However, for lead & gold, it is the opposite with the second stage of purification increasing the concentration levels for gold relatively higher than lead."
   ]
  },
  {
   "cell_type": "markdown",
   "metadata": {},
   "source": [
    "### Compare the feed particle size distributions in the training set and in the test set."
   ]
  },
  {
   "cell_type": "markdown",
   "metadata": {},
   "source": [
    "1. Null: The feed particle size distributions in both sets are the same\n",
    "2. Alt: The feed particle size distributions in both sets differ"
   ]
  },
  {
   "cell_type": "code",
   "execution_count": 31,
   "metadata": {},
   "outputs": [
    {
     "name": "stdout",
     "output_type": "stream",
     "text": [
      "p-value: 7.63075072511601e-23\n",
      "reject the null hypothesis\n"
     ]
    }
   ],
   "source": [
    "# If the distributions vary significantly, the model evaluation will be incorrect (Hypothesis Testing?)\n",
    "# Training set & test set:\n",
    "# 'primary_cleaner.input.feed_size'\n",
    "# 'rougher.input.feed_size\"\n",
    "\n",
    "fs_rough_train = gr_train['rougher.input.feed_size']\n",
    "fs_rough_test = gr_test['rougher.input.feed_size']\n",
    "alpha = 0.05\n",
    "results = st.ttest_ind(fs_rough_train, fs_rough_test)\n",
    "\n",
    "print('p-value:', results.pvalue)\n",
    "\n",
    "if results.pvalue < alpha:\n",
    "    print('reject the null hypothesis')\n",
    "else:\n",
    "    print('can not reject the null hypothesis')"
   ]
  },
  {
   "cell_type": "code",
   "execution_count": 32,
   "metadata": {},
   "outputs": [
    {
     "name": "stdout",
     "output_type": "stream",
     "text": [
      "p-value: 0.0004916543727368148\n",
      "reject the null hypothesis\n"
     ]
    }
   ],
   "source": [
    "fs_pri_train = gr_train['primary_cleaner.input.feed_size']\n",
    "fs_pri_test = gr_test['primary_cleaner.input.feed_size']\n",
    "alpha = 0.05\n",
    "results = st.ttest_ind(fs_pri_train, fs_pri_test)\n",
    "\n",
    "print('p-value:', results.pvalue)\n",
    "\n",
    "if results.pvalue < alpha:\n",
    "    print('reject the null hypothesis')\n",
    "else:\n",
    "    print('can not reject the null hypothesis')"
   ]
  },
  {
   "cell_type": "code",
   "execution_count": 33,
   "metadata": {},
   "outputs": [
    {
     "data": {
      "image/png": "[encoded data removed]",
      "text/plain": [
       "<Figure size 640x480 with 1 Axes>"
      ]
     },
     "metadata": {},
     "output_type": "display_data"
    }
   ],
   "source": [
    "# Plotting overlapping histograms with KDE\n",
    "sns.histplot(data=gr_train, x='primary_cleaner.input.feed_size', color='blue', alpha=0.5, kde=True, label='Training')\n",
    "sns.histplot(data=gr_test, x='primary_cleaner.input.feed_size', color='orange', alpha=0.5, kde=True, label='Test')\n",
    "\n",
    "# Adding labels and legend\n",
    "plt.title('Primary Cleaner Feed Particle Size Distribution Comparison')\n",
    "plt.xlabel('Feed Size')\n",
    "plt.ylabel('Count')\n",
    "plt.legend()\n",
    "\n",
    "plt.show()"
   ]
  },
  {
   "cell_type": "code",
   "execution_count": 34,
   "metadata": {},
   "outputs": [
    {
     "data": {
      "image/png": "[encoded data removed]",
      "text/plain": [
       "<Figure size 640x480 with 1 Axes>"
      ]
     },
     "metadata": {},
     "output_type": "display_data"
    }
   ],
   "source": [
    "# Plotting overlapping histograms with KDE\n",
    "sns.histplot(data=gr_train, x='rougher.input.feed_size', color='green', alpha=0.5, kde=True, label='Training')\n",
    "sns.histplot(data=gr_test, x='rougher.input.feed_size', color='red', alpha=0.5, kde=True, label='Test')\n",
    "\n",
    "# Adding labels and legend\n",
    "plt.title('Rougher Feed Particle Size Distribution Comparison')\n",
    "plt.xlabel('Feed Size')\n",
    "plt.ylabel('Count')\n",
    "plt.legend()\n",
    "\n",
    "plt.show()"
   ]
  },
  {
   "cell_type": "code",
   "execution_count": 35,
   "metadata": {},
   "outputs": [
    {
     "data": {
      "text/plain": [
       "count    16860.000000\n",
       "mean        60.188595\n",
       "std         30.522242\n",
       "min          9.659576\n",
       "25%         47.548897\n",
       "50%         54.066003\n",
       "75%         65.397249\n",
       "max        484.967466\n",
       "Name: rougher.input.feed_size, dtype: float64"
      ]
     },
     "execution_count": 35,
     "metadata": {},
     "output_type": "execute_result"
    }
   ],
   "source": [
    "# Plotting overlapping histograms with KDE\n",
    "gr_train['rougher.input.feed_size'].describe()\n",
    "#gr_train['rougher.input.feed_size'].var()"
   ]
  },
  {
   "cell_type": "code",
   "execution_count": 36,
   "metadata": {},
   "outputs": [
    {
     "data": {
      "text/plain": [
       "count    5856.000000\n",
       "mean       55.898866\n",
       "std        22.707969\n",
       "min         0.046369\n",
       "25%        43.852884\n",
       "50%        49.964796\n",
       "75%        61.628003\n",
       "max       477.445473\n",
       "Name: rougher.input.feed_size, dtype: float64"
      ]
     },
     "execution_count": 36,
     "metadata": {},
     "output_type": "execute_result"
    }
   ],
   "source": [
    "gr_test['rougher.input.feed_size'].describe()\n",
    "#gr_test['rougher.input.feed_size'].var()"
   ]
  },
  {
   "cell_type": "markdown",
   "metadata": {},
   "source": [
    "### Consider the total concentrations of all substances at different stages: raw feed, rougher concentrate, and final concentrate. "
   ]
  },
  {
   "cell_type": "code",
   "execution_count": 37,
   "metadata": {},
   "outputs": [],
   "source": [
    "# Concentration levels of every substance at: raw feed, rougher conc & final concentrate\n",
    "# raw feed: \n",
    "# rougher.input.feed_ag, rougher.input.feed_au, rougher.input.feed_pb, rougher.input.feed_sol\n",
    "# rougher conc:\n",
    "# rougher.output.concentrate_ag, rougher.output.concentrate_au, rougher.output.concentrate_pb, rougher.output.concentrate_sol\n",
    "# final conc:\n",
    "# final.output.concentrate_ag, final.output.concentrate_au, final.output.concentrate_pb, final.output.concentrate_sol\n",
    "conc_raw = gr_full[['rougher.input.feed_ag', 'rougher.input.feed_au', 'rougher.input.feed_pb', 'rougher.input.feed_sol']]\n",
    "conc_rough = gr_full[['rougher.output.concentrate_ag', 'rougher.output.concentrate_au', 'rougher.output.concentrate_pb', 'rougher.output.concentrate_sol']]\n",
    "conc_final = gr_full[['final.output.concentrate_ag', 'final.output.concentrate_au', 'final.output.concentrate_pb', 'final.output.concentrate_sol']]"
   ]
  },
  {
   "cell_type": "code",
   "execution_count": 38,
   "metadata": {},
   "outputs": [],
   "source": [
    "def total_conc(df_slice):\n",
    "    df_slice = np.array(df_slice)\n",
    "    df_slice = df_slice.sum(axis=1)\n",
    "    df_slice = pd.Series(df_slice)\n",
    "    return df_slice"
   ]
  },
  {
   "cell_type": "markdown",
   "metadata": {},
   "source": [
    "#### Raw Feed Stage"
   ]
  },
  {
   "cell_type": "code",
   "execution_count": 39,
   "metadata": {},
   "outputs": [
    {
     "data": {
      "text/plain": [
       "0        51.680034\n",
       "1        50.659114\n",
       "2        50.609929\n",
       "3        51.061546\n",
       "4        47.859163\n",
       "           ...    \n",
       "22711    53.415050\n",
       "22712    53.696482\n",
       "22713    54.589604\n",
       "22714    54.027355\n",
       "22715    53.535054\n",
       "Length: 22716, dtype: float64"
      ]
     },
     "execution_count": 39,
     "metadata": {},
     "output_type": "execute_result"
    }
   ],
   "source": [
    "conc_raw = total_conc(conc_raw)\n",
    "conc_raw"
   ]
  },
  {
   "cell_type": "markdown",
   "metadata": {},
   "source": [
    "#### Rougher Concentrate Stage"
   ]
  },
  {
   "cell_type": "code",
   "execution_count": 40,
   "metadata": {},
   "outputs": [
    {
     "data": {
      "text/plain": [
       "0        66.424950\n",
       "1        67.012710\n",
       "2        66.103793\n",
       "3        65.752751\n",
       "4        65.908382\n",
       "           ...    \n",
       "22711    70.781325\n",
       "22712    70.539603\n",
       "22713    55.376330\n",
       "22714    69.201689\n",
       "22715    69.544003\n",
       "Length: 22716, dtype: float64"
      ]
     },
     "execution_count": 40,
     "metadata": {},
     "output_type": "execute_result"
    }
   ],
   "source": [
    "conc_rough = total_conc(conc_rough)\n",
    "conc_rough"
   ]
  },
  {
   "cell_type": "markdown",
   "metadata": {},
   "source": [
    "#### Final Concentrate Stage"
   ]
  },
  {
   "cell_type": "code",
   "execution_count": 41,
   "metadata": {},
   "outputs": [
    {
     "data": {
      "text/plain": [
       "0        63.644396\n",
       "1        63.957723\n",
       "2        64.311180\n",
       "3        63.573449\n",
       "4        64.004667\n",
       "           ...    \n",
       "22711    68.098589\n",
       "22712    68.274362\n",
       "22713    68.226068\n",
       "22714    68.200449\n",
       "22715    68.353154\n",
       "Length: 22716, dtype: float64"
      ]
     },
     "execution_count": 41,
     "metadata": {},
     "output_type": "execute_result"
    }
   ],
   "source": [
    "conc_final = total_conc(conc_final)\n",
    "conc_final"
   ]
  },
  {
   "cell_type": "markdown",
   "metadata": {},
   "source": [
    "### Do you notice any abnormal values in the total distribution? If you do, is it worth removing such values from both samples? "
   ]
  },
  {
   "cell_type": "code",
   "execution_count": 42,
   "metadata": {},
   "outputs": [],
   "source": [
    "# Do you notice any abnormal values in the total distribution? \n",
    "# If you do, is it worth removing such values from both samples? \n",
    "# Describe the findings and eliminate anomalies"
   ]
  },
  {
   "cell_type": "code",
   "execution_count": 43,
   "metadata": {},
   "outputs": [],
   "source": [
    "def outlier_detect(df):\n",
    "    data = np.array(df)\n",
    " \n",
    "    q1 = np.percentile(data, 25)\n",
    "    q3 = np.percentile(data, 75)\n",
    "    iqr = q3 - q1\n",
    "    threshold = 1.5 * iqr\n",
    "    outliers = np.where((data < q1 - threshold) | (data > q3 + threshold))\n",
    "    \n",
    "    return data, data[outliers]"
   ]
  },
  {
   "cell_type": "code",
   "execution_count": 44,
   "metadata": {},
   "outputs": [
    {
     "name": "stdout",
     "output_type": "stream",
     "text": [
      "Outliers of array:  [25.35235777  0.20416409 27.93090398 ...  0.04        0.04\n",
      " 14.07936906]\n",
      "# of Outliers: 2508\n"
     ]
    }
   ],
   "source": [
    "raw_data, raw_outliers = outlier_detect(conc_raw)\n",
    "print(\"Outliers of array: \", raw_outliers)\n",
    "print('# of Outliers:', len(raw_outliers))"
   ]
  },
  {
   "cell_type": "code",
   "execution_count": 45,
   "metadata": {},
   "outputs": [
    {
     "name": "stdout",
     "output_type": "stream",
     "text": [
      "Outliers of array:  [30.03719929  0.          0.         ...  0.04        0.04\n",
      "  0.1232209 ]\n",
      "# of Outliers: 3147\n"
     ]
    }
   ],
   "source": [
    "rough_data, rough_outliers = outlier_detect(conc_rough)\n",
    "print(\"Outliers of array: \", rough_outliers)\n",
    "print('# of Outliers:', len(rough_outliers))"
   ]
  },
  {
   "cell_type": "code",
   "execution_count": 46,
   "metadata": {},
   "outputs": [
    {
     "name": "stdout",
     "output_type": "stream",
     "text": [
      "Outliers of array:  [59.90221469 38.11772353  0.         ... 13.261026   25.68441336\n",
      " 59.34680488]\n",
      "# of Outliers: 3244\n"
     ]
    }
   ],
   "source": [
    "final_data, final_outliers = outlier_detect(conc_final)\n",
    "print(\"Outliers of array: \", final_outliers)\n",
    "print('# of Outliers:', len(final_outliers))"
   ]
  },
  {
   "cell_type": "code",
   "execution_count": 47,
   "metadata": {},
   "outputs": [
    {
     "data": {
      "text/plain": [
       "<AxesSubplot:>"
      ]
     },
     "execution_count": 47,
     "metadata": {},
     "output_type": "execute_result"
    },
    {
     "data": {
      "image/png": "[encoded data removed]",
      "text/plain": [
       "<Figure size 640x480 with 1 Axes>"
      ]
     },
     "metadata": {},
     "output_type": "display_data"
    }
   ],
   "source": [
    "sns.boxplot(data=conc_final, orient='h') "
   ]
  },
  {
   "cell_type": "code",
   "execution_count": 48,
   "metadata": {},
   "outputs": [
    {
     "data": {
      "text/plain": [
       "<AxesSubplot:>"
      ]
     },
     "execution_count": 48,
     "metadata": {},
     "output_type": "execute_result"
    },
    {
     "data": {
      "image/png": "[encoded data removed]",
      "text/plain": [
       "<Figure size 640x480 with 1 Axes>"
      ]
     },
     "metadata": {},
     "output_type": "display_data"
    }
   ],
   "source": [
    "sns.boxplot(data=conc_rough, orient='h') "
   ]
  },
  {
   "cell_type": "code",
   "execution_count": 49,
   "metadata": {},
   "outputs": [
    {
     "data": {
      "text/plain": [
       "<AxesSubplot:>"
      ]
     },
     "execution_count": 49,
     "metadata": {},
     "output_type": "execute_result"
    },
    {
     "data": {
      "image/png": "[encoded data removed]",
      "text/plain": [
       "<Figure size 640x480 with 1 Axes>"
      ]
     },
     "metadata": {},
     "output_type": "display_data"
    }
   ],
   "source": [
    "sns.boxplot(data=conc_raw, orient='h') "
   ]
  },
  {
   "cell_type": "markdown",
   "metadata": {},
   "source": [
    "After determining the outliers/abnormal values via the IQR method, some were present in the total distribution of each stage. With that being said, the main objective is to train and produce an accurate model. Thus it would be beneficial to eliminate these anamolies so they don't negatively affect the quality of the model. "
   ]
  },
  {
   "cell_type": "code",
   "execution_count": 50,
   "metadata": {},
   "outputs": [
    {
     "name": "stdout",
     "output_type": "stream",
     "text": [
      "Outliers of array:  [25.35235777  0.20416409 27.93090398 ...  0.04        0.04\n",
      " 14.07936906]\n",
      "# of Outliers: 1990\n"
     ]
    }
   ],
   "source": [
    "# Training Sample\n",
    "conc_raw_train = gr_train[['rougher.input.feed_ag', 'rougher.input.feed_au', 'rougher.input.feed_pb', 'rougher.input.feed_sol']]\n",
    "conc_raw_train_sum = total_conc(conc_raw_train)\n",
    "raw_data_train, raw_outliers_train = outlier_detect(conc_raw_train_sum)\n",
    "print(\"Outliers of array: \", raw_outliers_train)\n",
    "print('# of Outliers:', len(raw_outliers_train))"
   ]
  },
  {
   "cell_type": "code",
   "execution_count": 51,
   "metadata": {},
   "outputs": [
    {
     "name": "stdout",
     "output_type": "stream",
     "text": [
      "Outliers of array:  [30.03719929  0.          0.         ...  0.04        0.04\n",
      "  0.1232209 ]\n",
      "# of Outliers: 2495\n"
     ]
    }
   ],
   "source": [
    "# Training Sample\n",
    "conc_rough_train = gr_train[['rougher.output.concentrate_ag', 'rougher.output.concentrate_au', 'rougher.output.concentrate_pb', 'rougher.output.concentrate_sol']]\n",
    "conc_rough_train_sum = total_conc(conc_rough_train)\n",
    "rough_data_train, rough_outliers_train = outlier_detect(conc_rough_train_sum)\n",
    "print(\"Outliers of array: \", rough_outliers_train)\n",
    "print('# of Outliers:', len(rough_outliers_train))"
   ]
  },
  {
   "cell_type": "code",
   "execution_count": 52,
   "metadata": {},
   "outputs": [
    {
     "name": "stdout",
     "output_type": "stream",
     "text": [
      "Outliers of array:  [59.90221469 38.11772353  0.         ... 13.261026   25.68441336\n",
      " 59.34680488]\n",
      "# of Outliers: 2448\n"
     ]
    }
   ],
   "source": [
    "# Training Sample\n",
    "conc_final_train = gr_train[['final.output.concentrate_ag', 'final.output.concentrate_au', 'final.output.concentrate_pb', 'final.output.concentrate_sol']]\n",
    "conc_final_train_sum = total_conc(conc_final_train)\n",
    "final_data_train, final_outliers_train = outlier_detect(conc_final_train_sum)\n",
    "print(\"Outliers of array: \", final_outliers_train)\n",
    "print('# of Outliers:', len(final_outliers_train))"
   ]
  },
  {
   "cell_type": "code",
   "execution_count": 53,
   "metadata": {},
   "outputs": [
    {
     "name": "stdout",
     "output_type": "stream",
     "text": [
      "Outliers of array:  [ 4.50186789  0.          0.         39.77051204  0.          0.\n",
      "  0.         40.08569133  0.          0.          0.          0.\n",
      "  0.          0.          0.          0.          0.         19.1846653\n",
      " 34.32214524 29.83111834  0.          0.          0.          0.\n",
      "  3.70614074 22.93236485 28.00373275  0.          0.          0.\n",
      "  0.          0.          0.          0.          0.          0.\n",
      "  0.          0.          0.          0.          0.          0.\n",
      "  0.          0.          3.78484688 22.21085893  0.          0.\n",
      "  0.          0.         22.06204096 33.14623912  0.         16.14374395\n",
      "  0.          0.          0.          0.          0.          0.\n",
      "  0.          0.          0.          0.          0.          0.\n",
      "  0.          0.          0.          0.          0.          0.\n",
      "  0.          0.          0.          0.          0.          0.\n",
      "  0.          0.          0.          0.          0.          0.\n",
      "  0.          0.          0.          0.          0.          0.\n",
      "  0.          0.          0.          0.          0.          0.\n",
      "  0.          0.          0.          0.          0.          0.\n",
      "  0.          0.          0.          0.          0.          0.\n",
      "  0.          0.          0.          0.          0.          0.\n",
      "  0.          0.          0.          0.          0.          0.\n",
      "  0.          0.          0.          0.          0.          0.\n",
      "  0.          0.          0.          0.          0.          0.\n",
      "  0.          0.          0.          0.          0.          0.\n",
      "  0.          0.          0.          0.          0.          0.\n",
      "  0.          0.          0.          0.          0.          0.\n",
      "  0.          0.          0.          0.          0.          0.\n",
      "  0.          0.          0.          0.          0.          0.\n",
      "  0.          0.          0.          0.          0.          0.\n",
      "  0.          0.          0.          0.          0.          0.\n",
      "  0.          0.          0.          0.          0.          0.\n",
      "  0.          0.          0.          0.          0.          0.\n",
      "  0.          0.          0.          0.          0.          0.\n",
      "  0.          0.          0.          0.          0.          0.\n",
      "  0.          0.          0.          0.          0.          0.\n",
      "  0.          0.          0.          0.          0.          0.\n",
      "  0.          0.          0.          4.42482651  0.          0.\n",
      "  0.          0.         17.76212077 33.77110012 39.7146685  38.12951024\n",
      " 41.11023241 36.51974306 36.76701591 24.14130772 22.70091106  0.\n",
      "  0.          0.          0.          0.          0.          0.\n",
      "  0.         31.10960346 39.67600738 30.88405987 38.60073012 35.61950864\n",
      " 39.16500407 39.95053419 37.24071836 10.93623281  0.          0.\n",
      "  0.          0.         12.37539175 19.41501966 38.760167   34.90845058\n",
      " 31.17673592 32.37848089 20.63321481 23.08511546 35.12583689 32.27687035\n",
      "  8.06589052 31.35775675 35.64157082 22.36646664 24.81898882 38.09096921\n",
      " 40.60044534 38.18089273 35.25001047  0.          0.          0.\n",
      "  0.         10.03880763  0.          0.         19.64031881 30.01778366\n",
      " 37.96528332 36.8500578  39.39939278 29.50731515 37.34978511 18.7065469\n",
      "  0.         24.36384269  0.          0.          0.          0.\n",
      "  0.          0.          0.          9.55922931 20.64284329  6.93603496\n",
      " 18.01544202 34.43730346  0.         29.88751944 32.37903004 19.49984699\n",
      " 40.83542288  0.          0.         17.94363567 40.48215404 33.85007685\n",
      " 34.54958056 38.3864902  36.29856863 36.70729046 37.47424928 40.66834463\n",
      " 39.62155442 39.95955494 26.48138499  0.          0.          0.\n",
      "  0.          0.          0.          0.          0.          0.\n",
      "  0.          0.          0.          0.          0.          0.\n",
      "  0.          0.          0.          0.          0.          0.\n",
      "  0.          0.          0.          0.          0.          0.\n",
      "  0.          0.          0.          0.          0.          0.\n",
      "  0.          0.          0.          0.          0.          0.\n",
      "  0.          0.          0.          0.          0.          0.\n",
      "  0.          0.          0.          0.          0.          0.\n",
      "  0.          0.          0.          0.          0.          0.\n",
      "  0.          0.          0.          0.          0.          0.\n",
      "  0.          0.          0.          0.          0.          0.\n",
      "  0.          0.          0.          0.          0.          0.\n",
      "  0.          0.          0.          0.         18.45722926 35.34325216\n",
      " 36.3896745  31.04695398 28.73465707  0.          0.         13.76011045\n",
      "  0.          0.          0.          0.         11.23458783 35.38481087\n",
      " 24.84210903 41.32636517 34.90705168  0.          0.          0.\n",
      "  0.          0.          0.          0.          0.          0.\n",
      "  0.          0.         14.97120515 28.15441541  0.          0.\n",
      "  0.          0.         37.7910475  12.71054148  0.          0.\n",
      "  0.         33.31378537 31.66640373  0.         15.14898625 40.03017777\n",
      " 40.75040219  8.40011939  0.          0.          0.          0.\n",
      "  0.          0.          0.          0.         15.54977465 40.36588693\n",
      " 40.70799027 34.36019867 30.11182273 36.27401517 10.90732282  8.07247595\n",
      "  0.         13.74274647 35.74014255 37.34394029 35.53496454 24.11896149\n",
      "  0.          0.          0.          0.          0.         11.2321471\n",
      " 21.87787674 41.27652164 39.21603693 39.67679905 36.80219657 36.71187408\n",
      " 31.67765947 40.333888   37.66348821 34.15492413 27.84935061  4.00049605\n",
      " 29.86549567 32.73875418  6.82012286  0.          0.          0.\n",
      "  0.          0.         38.10194216 34.9087576  37.00464568  1.32968075\n",
      " 25.6120103  13.97603454  0.          0.          0.          0.\n",
      "  0.          0.          0.          0.          0.          0.\n",
      "  0.          0.          0.          0.          0.         21.17095938\n",
      " 27.96749418 33.89621391 36.12384034 31.72427896 31.51366183 40.91667489\n",
      " 13.83225998 25.15773233 29.61093127 28.97451084 16.58902158  8.0857799\n",
      "  0.         21.33041197]\n",
      "# of Outliers: 524\n"
     ]
    }
   ],
   "source": [
    "# Test Sample\n",
    "conc_raw_test = gr_test[['rougher.input.feed_ag', 'rougher.input.feed_au', 'rougher.input.feed_pb', 'rougher.input.feed_sol']]\n",
    "conc_raw_test_sum = total_conc(conc_raw_test)\n",
    "raw_data_test, raw_outliers_test = outlier_detect(conc_raw_test_sum)\n",
    "print(\"Outliers of array: \", raw_outliers_test)\n",
    "print('# of Outliers:', len(raw_outliers_test))"
   ]
  },
  {
   "cell_type": "markdown",
   "metadata": {},
   "source": [
    "After running a brief check for outliers within the specified columns, there seems to be outliers present in all of the stages of training and testing samples except for the rougher & final outputs of the testing set (disclosed in project description & exact columns were identified earlier in the project)."
   ]
  },
  {
   "cell_type": "code",
   "execution_count": 54,
   "metadata": {},
   "outputs": [],
   "source": [
    "def outlier_delete(df_sample, outlier_list):\n",
    "    df_sample_1 = np.array(df_sample)\n",
    "    df_sample_2 = df_sample_1.sum(axis=1)\n",
    "    df_sample_2 = pd.Series(df_sample_2)\n",
    "\n",
    "    # Identify boolean array where outliers exist\n",
    "    outlier_mask = np.isin(df_sample_2, outlier_list)\n",
    "\n",
    "    # Use the mask to filter out rows in conc_raw_test_2\n",
    "    df_sample_1_cleaned = df_sample_1[~outlier_mask]\n",
    "\n",
    "    df_sample_2_cleaned = df_sample_1_cleaned.sum(axis=1)\n",
    "    df_sample_2_cleaned = pd.Series(df_sample_2_cleaned)\n",
    "    df_sample_3_cleaned = df_sample_2_cleaned[df_sample_2_cleaned.isin(outlier_list) == True].count()\n",
    "\n",
    "    return df_sample_1_cleaned, df_sample_3_cleaned"
   ]
  },
  {
   "cell_type": "code",
   "execution_count": 55,
   "metadata": {},
   "outputs": [
    {
     "data": {
      "text/html": [
       "<div>\n",
       "<style scoped>\n",
       "    .dataframe tbody tr th:only-of-type {\n",
       "        vertical-align: middle;\n",
       "    }\n",
       "\n",
       "    .dataframe tbody tr th {\n",
       "        vertical-align: top;\n",
       "    }\n",
       "\n",
       "    .dataframe thead th {\n",
       "        text-align: right;\n",
       "    }\n",
       "</style>\n",
       "<table border=\"1\" class=\"dataframe\">\n",
       "  <thead>\n",
       "    <tr style=\"text-align: right;\">\n",
       "      <th></th>\n",
       "      <th>0</th>\n",
       "      <th>1</th>\n",
       "      <th>2</th>\n",
       "      <th>3</th>\n",
       "    </tr>\n",
       "  </thead>\n",
       "  <tbody>\n",
       "    <tr>\n",
       "      <th>0</th>\n",
       "      <td>6.100378</td>\n",
       "      <td>6.486150</td>\n",
       "      <td>2.284912</td>\n",
       "      <td>36.808594</td>\n",
       "    </tr>\n",
       "    <tr>\n",
       "      <th>1</th>\n",
       "      <td>6.161113</td>\n",
       "      <td>6.478583</td>\n",
       "      <td>2.266033</td>\n",
       "      <td>35.753385</td>\n",
       "    </tr>\n",
       "    <tr>\n",
       "      <th>2</th>\n",
       "      <td>6.116455</td>\n",
       "      <td>6.362222</td>\n",
       "      <td>2.159622</td>\n",
       "      <td>35.971630</td>\n",
       "    </tr>\n",
       "    <tr>\n",
       "      <th>3</th>\n",
       "      <td>6.043309</td>\n",
       "      <td>6.118189</td>\n",
       "      <td>2.037807</td>\n",
       "      <td>36.862241</td>\n",
       "    </tr>\n",
       "    <tr>\n",
       "      <th>4</th>\n",
       "      <td>6.060915</td>\n",
       "      <td>5.663707</td>\n",
       "      <td>1.786875</td>\n",
       "      <td>34.347666</td>\n",
       "    </tr>\n",
       "    <tr>\n",
       "      <th>...</th>\n",
       "      <td>...</td>\n",
       "      <td>...</td>\n",
       "      <td>...</td>\n",
       "      <td>...</td>\n",
       "    </tr>\n",
       "    <tr>\n",
       "      <th>14865</th>\n",
       "      <td>6.091855</td>\n",
       "      <td>5.335862</td>\n",
       "      <td>4.617558</td>\n",
       "      <td>37.369774</td>\n",
       "    </tr>\n",
       "    <tr>\n",
       "      <th>14866</th>\n",
       "      <td>6.121323</td>\n",
       "      <td>4.838619</td>\n",
       "      <td>4.144989</td>\n",
       "      <td>38.591551</td>\n",
       "    </tr>\n",
       "    <tr>\n",
       "      <th>14867</th>\n",
       "      <td>5.970515</td>\n",
       "      <td>4.525061</td>\n",
       "      <td>4.020002</td>\n",
       "      <td>40.074026</td>\n",
       "    </tr>\n",
       "    <tr>\n",
       "      <th>14868</th>\n",
       "      <td>6.048130</td>\n",
       "      <td>4.362781</td>\n",
       "      <td>3.902537</td>\n",
       "      <td>39.713906</td>\n",
       "    </tr>\n",
       "    <tr>\n",
       "      <th>14869</th>\n",
       "      <td>6.158718</td>\n",
       "      <td>4.365491</td>\n",
       "      <td>3.875727</td>\n",
       "      <td>39.135119</td>\n",
       "    </tr>\n",
       "  </tbody>\n",
       "</table>\n",
       "<p>14870 rows × 4 columns</p>\n",
       "</div>"
      ],
      "text/plain": [
       "              0         1         2          3\n",
       "0      6.100378  6.486150  2.284912  36.808594\n",
       "1      6.161113  6.478583  2.266033  35.753385\n",
       "2      6.116455  6.362222  2.159622  35.971630\n",
       "3      6.043309  6.118189  2.037807  36.862241\n",
       "4      6.060915  5.663707  1.786875  34.347666\n",
       "...         ...       ...       ...        ...\n",
       "14865  6.091855  5.335862  4.617558  37.369774\n",
       "14866  6.121323  4.838619  4.144989  38.591551\n",
       "14867  5.970515  4.525061  4.020002  40.074026\n",
       "14868  6.048130  4.362781  3.902537  39.713906\n",
       "14869  6.158718  4.365491  3.875727  39.135119\n",
       "\n",
       "[14870 rows x 4 columns]"
      ]
     },
     "metadata": {},
     "output_type": "display_data"
    },
    {
     "name": "stdout",
     "output_type": "stream",
     "text": [
      "# of remaining outliers: 0\n"
     ]
    }
   ],
   "source": [
    "conc_raw_train_cleaned, raw_train_outlier_check = outlier_delete(conc_raw_train, raw_outliers_train)\n",
    "conc_raw_train_cleaned = pd.DataFrame(conc_raw_train_cleaned)\n",
    "display(conc_raw_train_cleaned)\n",
    "print(\"# of remaining outliers:\", raw_train_outlier_check )"
   ]
  },
  {
   "cell_type": "code",
   "execution_count": 56,
   "metadata": {
    "scrolled": true
   },
   "outputs": [
    {
     "data": {
      "text/html": [
       "<div>\n",
       "<style scoped>\n",
       "    .dataframe tbody tr th:only-of-type {\n",
       "        vertical-align: middle;\n",
       "    }\n",
       "\n",
       "    .dataframe tbody tr th {\n",
       "        vertical-align: top;\n",
       "    }\n",
       "\n",
       "    .dataframe thead th {\n",
       "        text-align: right;\n",
       "    }\n",
       "</style>\n",
       "<table border=\"1\" class=\"dataframe\">\n",
       "  <thead>\n",
       "    <tr style=\"text-align: right;\">\n",
       "      <th></th>\n",
       "      <th>0</th>\n",
       "      <th>1</th>\n",
       "      <th>2</th>\n",
       "      <th>3</th>\n",
       "    </tr>\n",
       "  </thead>\n",
       "  <tbody>\n",
       "    <tr>\n",
       "      <th>0</th>\n",
       "      <td>11.500771</td>\n",
       "      <td>19.793808</td>\n",
       "      <td>7.101074</td>\n",
       "      <td>28.029297</td>\n",
       "    </tr>\n",
       "    <tr>\n",
       "      <th>1</th>\n",
       "      <td>11.615865</td>\n",
       "      <td>20.050975</td>\n",
       "      <td>7.278807</td>\n",
       "      <td>28.067063</td>\n",
       "    </tr>\n",
       "    <tr>\n",
       "      <th>2</th>\n",
       "      <td>11.695753</td>\n",
       "      <td>19.737170</td>\n",
       "      <td>7.216833</td>\n",
       "      <td>27.454037</td>\n",
       "    </tr>\n",
       "    <tr>\n",
       "      <th>3</th>\n",
       "      <td>11.915047</td>\n",
       "      <td>19.320810</td>\n",
       "      <td>7.175616</td>\n",
       "      <td>27.341277</td>\n",
       "    </tr>\n",
       "    <tr>\n",
       "      <th>4</th>\n",
       "      <td>12.411054</td>\n",
       "      <td>19.216101</td>\n",
       "      <td>7.240205</td>\n",
       "      <td>27.041023</td>\n",
       "    </tr>\n",
       "    <tr>\n",
       "      <th>...</th>\n",
       "      <td>...</td>\n",
       "      <td>...</td>\n",
       "      <td>...</td>\n",
       "      <td>...</td>\n",
       "    </tr>\n",
       "    <tr>\n",
       "      <th>14360</th>\n",
       "      <td>11.124896</td>\n",
       "      <td>18.603550</td>\n",
       "      <td>10.984003</td>\n",
       "      <td>30.068876</td>\n",
       "    </tr>\n",
       "    <tr>\n",
       "      <th>14361</th>\n",
       "      <td>11.425983</td>\n",
       "      <td>18.441436</td>\n",
       "      <td>10.888213</td>\n",
       "      <td>29.783972</td>\n",
       "    </tr>\n",
       "    <tr>\n",
       "      <th>14362</th>\n",
       "      <td>8.523497</td>\n",
       "      <td>15.111231</td>\n",
       "      <td>8.955135</td>\n",
       "      <td>22.786467</td>\n",
       "    </tr>\n",
       "    <tr>\n",
       "      <th>14363</th>\n",
       "      <td>11.658799</td>\n",
       "      <td>17.834772</td>\n",
       "      <td>10.655377</td>\n",
       "      <td>29.052742</td>\n",
       "    </tr>\n",
       "    <tr>\n",
       "      <th>14364</th>\n",
       "      <td>11.959486</td>\n",
       "      <td>17.804134</td>\n",
       "      <td>10.702148</td>\n",
       "      <td>29.078235</td>\n",
       "    </tr>\n",
       "  </tbody>\n",
       "</table>\n",
       "<p>14365 rows × 4 columns</p>\n",
       "</div>"
      ],
      "text/plain": [
       "               0          1          2          3\n",
       "0      11.500771  19.793808   7.101074  28.029297\n",
       "1      11.615865  20.050975   7.278807  28.067063\n",
       "2      11.695753  19.737170   7.216833  27.454037\n",
       "3      11.915047  19.320810   7.175616  27.341277\n",
       "4      12.411054  19.216101   7.240205  27.041023\n",
       "...          ...        ...        ...        ...\n",
       "14360  11.124896  18.603550  10.984003  30.068876\n",
       "14361  11.425983  18.441436  10.888213  29.783972\n",
       "14362   8.523497  15.111231   8.955135  22.786467\n",
       "14363  11.658799  17.834772  10.655377  29.052742\n",
       "14364  11.959486  17.804134  10.702148  29.078235\n",
       "\n",
       "[14365 rows x 4 columns]"
      ]
     },
     "metadata": {},
     "output_type": "display_data"
    },
    {
     "name": "stdout",
     "output_type": "stream",
     "text": [
      "# of remaining outliers: 0\n"
     ]
    }
   ],
   "source": [
    "conc_rough_train_cleaned, rough_train_outlier_check = outlier_delete(conc_rough_train, rough_outliers_train)\n",
    "conc_rough_train_cleaned = pd.DataFrame(conc_rough_train_cleaned)\n",
    "display(conc_rough_train_cleaned)\n",
    "print(\"# of remaining outliers:\", rough_train_outlier_check )"
   ]
  },
  {
   "cell_type": "code",
   "execution_count": 57,
   "metadata": {},
   "outputs": [
    {
     "data": {
      "text/html": [
       "<div>\n",
       "<style scoped>\n",
       "    .dataframe tbody tr th:only-of-type {\n",
       "        vertical-align: middle;\n",
       "    }\n",
       "\n",
       "    .dataframe tbody tr th {\n",
       "        vertical-align: top;\n",
       "    }\n",
       "\n",
       "    .dataframe thead th {\n",
       "        text-align: right;\n",
       "    }\n",
       "</style>\n",
       "<table border=\"1\" class=\"dataframe\">\n",
       "  <thead>\n",
       "    <tr style=\"text-align: right;\">\n",
       "      <th></th>\n",
       "      <th>0</th>\n",
       "      <th>1</th>\n",
       "      <th>2</th>\n",
       "      <th>3</th>\n",
       "    </tr>\n",
       "  </thead>\n",
       "  <tbody>\n",
       "    <tr>\n",
       "      <th>0</th>\n",
       "      <td>6.055403</td>\n",
       "      <td>42.192020</td>\n",
       "      <td>9.889648</td>\n",
       "      <td>5.507324</td>\n",
       "    </tr>\n",
       "    <tr>\n",
       "      <th>1</th>\n",
       "      <td>6.029369</td>\n",
       "      <td>42.701629</td>\n",
       "      <td>9.968944</td>\n",
       "      <td>5.257781</td>\n",
       "    </tr>\n",
       "    <tr>\n",
       "      <th>2</th>\n",
       "      <td>6.055926</td>\n",
       "      <td>42.657501</td>\n",
       "      <td>10.213995</td>\n",
       "      <td>5.383759</td>\n",
       "    </tr>\n",
       "    <tr>\n",
       "      <th>3</th>\n",
       "      <td>6.047977</td>\n",
       "      <td>42.689819</td>\n",
       "      <td>9.977019</td>\n",
       "      <td>4.858634</td>\n",
       "    </tr>\n",
       "    <tr>\n",
       "      <th>4</th>\n",
       "      <td>6.148599</td>\n",
       "      <td>42.774141</td>\n",
       "      <td>10.142511</td>\n",
       "      <td>4.939416</td>\n",
       "    </tr>\n",
       "    <tr>\n",
       "      <th>...</th>\n",
       "      <td>...</td>\n",
       "      <td>...</td>\n",
       "      <td>...</td>\n",
       "      <td>...</td>\n",
       "    </tr>\n",
       "    <tr>\n",
       "      <th>14407</th>\n",
       "      <td>3.224920</td>\n",
       "      <td>46.713954</td>\n",
       "      <td>11.356233</td>\n",
       "      <td>6.803482</td>\n",
       "    </tr>\n",
       "    <tr>\n",
       "      <th>14408</th>\n",
       "      <td>3.195978</td>\n",
       "      <td>46.866780</td>\n",
       "      <td>11.349355</td>\n",
       "      <td>6.862249</td>\n",
       "    </tr>\n",
       "    <tr>\n",
       "      <th>14409</th>\n",
       "      <td>3.109998</td>\n",
       "      <td>46.795691</td>\n",
       "      <td>11.434366</td>\n",
       "      <td>6.886013</td>\n",
       "    </tr>\n",
       "    <tr>\n",
       "      <th>14410</th>\n",
       "      <td>3.367241</td>\n",
       "      <td>46.408188</td>\n",
       "      <td>11.625587</td>\n",
       "      <td>6.799433</td>\n",
       "    </tr>\n",
       "    <tr>\n",
       "      <th>14411</th>\n",
       "      <td>3.598375</td>\n",
       "      <td>46.299438</td>\n",
       "      <td>11.737832</td>\n",
       "      <td>6.717509</td>\n",
       "    </tr>\n",
       "  </tbody>\n",
       "</table>\n",
       "<p>14412 rows × 4 columns</p>\n",
       "</div>"
      ],
      "text/plain": [
       "              0          1          2         3\n",
       "0      6.055403  42.192020   9.889648  5.507324\n",
       "1      6.029369  42.701629   9.968944  5.257781\n",
       "2      6.055926  42.657501  10.213995  5.383759\n",
       "3      6.047977  42.689819   9.977019  4.858634\n",
       "4      6.148599  42.774141  10.142511  4.939416\n",
       "...         ...        ...        ...       ...\n",
       "14407  3.224920  46.713954  11.356233  6.803482\n",
       "14408  3.195978  46.866780  11.349355  6.862249\n",
       "14409  3.109998  46.795691  11.434366  6.886013\n",
       "14410  3.367241  46.408188  11.625587  6.799433\n",
       "14411  3.598375  46.299438  11.737832  6.717509\n",
       "\n",
       "[14412 rows x 4 columns]"
      ]
     },
     "metadata": {},
     "output_type": "display_data"
    },
    {
     "name": "stdout",
     "output_type": "stream",
     "text": [
      "# of remaining outliers: 0\n"
     ]
    }
   ],
   "source": [
    "conc_final_train_cleaned, final_outliers_train_check = outlier_delete(conc_final_train, final_outliers_train)\n",
    "conc_final_train_cleaned = pd.DataFrame(conc_final_train_cleaned)\n",
    "display(conc_final_train_cleaned)\n",
    "print(\"# of remaining outliers:\", final_outliers_train_check )"
   ]
  },
  {
   "cell_type": "code",
   "execution_count": 58,
   "metadata": {},
   "outputs": [
    {
     "data": {
      "text/html": [
       "<div>\n",
       "<style scoped>\n",
       "    .dataframe tbody tr th:only-of-type {\n",
       "        vertical-align: middle;\n",
       "    }\n",
       "\n",
       "    .dataframe tbody tr th {\n",
       "        vertical-align: top;\n",
       "    }\n",
       "\n",
       "    .dataframe thead th {\n",
       "        text-align: right;\n",
       "    }\n",
       "</style>\n",
       "<table border=\"1\" class=\"dataframe\">\n",
       "  <thead>\n",
       "    <tr style=\"text-align: right;\">\n",
       "      <th></th>\n",
       "      <th>0</th>\n",
       "      <th>1</th>\n",
       "      <th>2</th>\n",
       "      <th>3</th>\n",
       "    </tr>\n",
       "  </thead>\n",
       "  <tbody>\n",
       "    <tr>\n",
       "      <th>0</th>\n",
       "      <td>13.128569</td>\n",
       "      <td>12.084103</td>\n",
       "      <td>5.636710</td>\n",
       "      <td>42.022440</td>\n",
       "    </tr>\n",
       "    <tr>\n",
       "      <th>1</th>\n",
       "      <td>13.036280</td>\n",
       "      <td>11.918977</td>\n",
       "      <td>5.526065</td>\n",
       "      <td>41.187903</td>\n",
       "    </tr>\n",
       "    <tr>\n",
       "      <th>2</th>\n",
       "      <td>13.138412</td>\n",
       "      <td>12.091332</td>\n",
       "      <td>5.426561</td>\n",
       "      <td>42.546294</td>\n",
       "    </tr>\n",
       "    <tr>\n",
       "      <th>3</th>\n",
       "      <td>12.400507</td>\n",
       "      <td>12.181597</td>\n",
       "      <td>5.114758</td>\n",
       "      <td>41.060195</td>\n",
       "    </tr>\n",
       "    <tr>\n",
       "      <th>4</th>\n",
       "      <td>11.327427</td>\n",
       "      <td>11.290425</td>\n",
       "      <td>4.767383</td>\n",
       "      <td>41.269161</td>\n",
       "    </tr>\n",
       "    <tr>\n",
       "      <th>...</th>\n",
       "      <td>...</td>\n",
       "      <td>...</td>\n",
       "      <td>...</td>\n",
       "      <td>...</td>\n",
       "    </tr>\n",
       "    <tr>\n",
       "      <th>5327</th>\n",
       "      <td>11.638973</td>\n",
       "      <td>10.554544</td>\n",
       "      <td>4.695306</td>\n",
       "      <td>42.022027</td>\n",
       "    </tr>\n",
       "    <tr>\n",
       "      <th>5328</th>\n",
       "      <td>11.338091</td>\n",
       "      <td>10.254051</td>\n",
       "      <td>4.478381</td>\n",
       "      <td>41.096377</td>\n",
       "    </tr>\n",
       "    <tr>\n",
       "      <th>5329</th>\n",
       "      <td>11.285908</td>\n",
       "      <td>10.169094</td>\n",
       "      <td>4.405327</td>\n",
       "      <td>41.095485</td>\n",
       "    </tr>\n",
       "    <tr>\n",
       "      <th>5330</th>\n",
       "      <td>11.289710</td>\n",
       "      <td>10.071156</td>\n",
       "      <td>4.343488</td>\n",
       "      <td>41.715740</td>\n",
       "    </tr>\n",
       "    <tr>\n",
       "      <th>5331</th>\n",
       "      <td>10.904646</td>\n",
       "      <td>9.697259</td>\n",
       "      <td>4.090591</td>\n",
       "      <td>40.891121</td>\n",
       "    </tr>\n",
       "  </tbody>\n",
       "</table>\n",
       "<p>5332 rows × 4 columns</p>\n",
       "</div>"
      ],
      "text/plain": [
       "              0          1         2          3\n",
       "0     13.128569  12.084103  5.636710  42.022440\n",
       "1     13.036280  11.918977  5.526065  41.187903\n",
       "2     13.138412  12.091332  5.426561  42.546294\n",
       "3     12.400507  12.181597  5.114758  41.060195\n",
       "4     11.327427  11.290425  4.767383  41.269161\n",
       "...         ...        ...       ...        ...\n",
       "5327  11.638973  10.554544  4.695306  42.022027\n",
       "5328  11.338091  10.254051  4.478381  41.096377\n",
       "5329  11.285908  10.169094  4.405327  41.095485\n",
       "5330  11.289710  10.071156  4.343488  41.715740\n",
       "5331  10.904646   9.697259  4.090591  40.891121\n",
       "\n",
       "[5332 rows x 4 columns]"
      ]
     },
     "metadata": {},
     "output_type": "display_data"
    },
    {
     "name": "stdout",
     "output_type": "stream",
     "text": [
      "# of remaining outliers: 0\n"
     ]
    }
   ],
   "source": [
    "conc_raw_test_cleaned, raw_test_outlier_check = outlier_delete(conc_raw_test, raw_outliers_test)\n",
    "conc_raw_test_cleaned = pd.DataFrame(conc_raw_test_cleaned)\n",
    "display(conc_raw_test_cleaned)\n",
    "print(\"# of remaining outliers:\", raw_test_outlier_check )"
   ]
  },
  {
   "cell_type": "code",
   "execution_count": 59,
   "metadata": {},
   "outputs": [],
   "source": [
    "gr_train[['rougher.input.feed_ag', 'rougher.input.feed_au', 'rougher.input.feed_pb', 'rougher.input.feed_sol']] = conc_raw_train_cleaned[[0,1,2,3]]\n",
    "gr_train[['rougher.output.concentrate_ag', 'rougher.output.concentrate_au', 'rougher.output.concentrate_pb', 'rougher.output.concentrate_sol']] = conc_rough_train_cleaned[[0,1,2,3]]\n",
    "gr_train[['final.output.concentrate_ag', 'final.output.concentrate_au', 'final.output.concentrate_pb', 'final.output.concentrate_sol']] = conc_final_train_cleaned[[0,1,2,3]]\n",
    "gr_test[['rougher.input.feed_ag', 'rougher.input.feed_au', 'rougher.input.feed_pb', 'rougher.input.feed_sol']] = conc_raw_test_cleaned[[0,1,2,3]]"
   ]
  },
  {
   "cell_type": "code",
   "execution_count": 60,
   "metadata": {},
   "outputs": [
    {
     "name": "stdout",
     "output_type": "stream",
     "text": [
      "date                                             0\n",
      "final.output.concentrate_ag                   2448\n",
      "final.output.concentrate_pb                   2448\n",
      "final.output.concentrate_sol                  2448\n",
      "final.output.concentrate_au                   2448\n",
      "                                              ... \n",
      "secondary_cleaner.state.floatbank5_a_level       0\n",
      "secondary_cleaner.state.floatbank5_b_air         0\n",
      "secondary_cleaner.state.floatbank5_b_level       0\n",
      "secondary_cleaner.state.floatbank6_a_air         0\n",
      "secondary_cleaner.state.floatbank6_a_level       0\n",
      "Length: 87, dtype: int64\n",
      "----------------------------------------------------\n",
      "date                                            0\n",
      "primary_cleaner.input.sulfate                   0\n",
      "primary_cleaner.input.depressant                0\n",
      "primary_cleaner.input.feed_size                 0\n",
      "primary_cleaner.input.xanthate                  0\n",
      "primary_cleaner.state.floatbank8_a_air          0\n",
      "primary_cleaner.state.floatbank8_a_level        0\n",
      "primary_cleaner.state.floatbank8_b_air          0\n",
      "primary_cleaner.state.floatbank8_b_level        0\n",
      "primary_cleaner.state.floatbank8_c_air          0\n",
      "primary_cleaner.state.floatbank8_c_level        0\n",
      "primary_cleaner.state.floatbank8_d_air          0\n",
      "primary_cleaner.state.floatbank8_d_level        0\n",
      "rougher.input.feed_ag                         524\n",
      "rougher.input.feed_pb                         524\n",
      "rougher.input.feed_rate                         0\n",
      "rougher.input.feed_size                         0\n",
      "rougher.input.feed_sol                        524\n",
      "rougher.input.feed_au                         524\n",
      "rougher.input.floatbank10_sulfate               0\n",
      "rougher.input.floatbank10_xanthate              0\n",
      "rougher.input.floatbank11_sulfate               0\n",
      "rougher.input.floatbank11_xanthate              0\n",
      "rougher.state.floatbank10_a_air                 0\n",
      "rougher.state.floatbank10_a_level               0\n",
      "rougher.state.floatbank10_b_air                 0\n",
      "rougher.state.floatbank10_b_level               0\n",
      "rougher.state.floatbank10_c_air                 0\n",
      "rougher.state.floatbank10_c_level               0\n",
      "rougher.state.floatbank10_d_air                 0\n",
      "rougher.state.floatbank10_d_level               0\n",
      "rougher.state.floatbank10_e_air                 0\n",
      "rougher.state.floatbank10_e_level               0\n",
      "rougher.state.floatbank10_f_air                 0\n",
      "rougher.state.floatbank10_f_level               0\n",
      "secondary_cleaner.state.floatbank2_a_air        0\n",
      "secondary_cleaner.state.floatbank2_a_level      0\n",
      "secondary_cleaner.state.floatbank2_b_air        0\n",
      "secondary_cleaner.state.floatbank2_b_level      0\n",
      "secondary_cleaner.state.floatbank3_a_air        0\n",
      "secondary_cleaner.state.floatbank3_a_level      0\n",
      "secondary_cleaner.state.floatbank3_b_air        0\n",
      "secondary_cleaner.state.floatbank3_b_level      0\n",
      "secondary_cleaner.state.floatbank4_a_air        0\n",
      "secondary_cleaner.state.floatbank4_a_level      0\n",
      "secondary_cleaner.state.floatbank4_b_air        0\n",
      "secondary_cleaner.state.floatbank4_b_level      0\n",
      "secondary_cleaner.state.floatbank5_a_air        0\n",
      "secondary_cleaner.state.floatbank5_a_level      0\n",
      "secondary_cleaner.state.floatbank5_b_air        0\n",
      "secondary_cleaner.state.floatbank5_b_level      0\n",
      "secondary_cleaner.state.floatbank6_a_air        0\n",
      "secondary_cleaner.state.floatbank6_a_level      0\n",
      "dtype: int64\n"
     ]
    }
   ],
   "source": [
    "print(gr_train.isna().sum())\n",
    "print('----------------------------------------------------')\n",
    "print(gr_test.isna().sum())"
   ]
  },
  {
   "cell_type": "code",
   "execution_count": 61,
   "metadata": {},
   "outputs": [],
   "source": [
    "gr_train = gr_train.dropna()\n",
    "gr_test = gr_test.dropna()"
   ]
  },
  {
   "cell_type": "code",
   "execution_count": 62,
   "metadata": {},
   "outputs": [
    {
     "name": "stdout",
     "output_type": "stream",
     "text": [
      "date                                          0\n",
      "final.output.concentrate_ag                   0\n",
      "final.output.concentrate_pb                   0\n",
      "final.output.concentrate_sol                  0\n",
      "final.output.concentrate_au                   0\n",
      "                                             ..\n",
      "secondary_cleaner.state.floatbank5_a_level    0\n",
      "secondary_cleaner.state.floatbank5_b_air      0\n",
      "secondary_cleaner.state.floatbank5_b_level    0\n",
      "secondary_cleaner.state.floatbank6_a_air      0\n",
      "secondary_cleaner.state.floatbank6_a_level    0\n",
      "Length: 87, dtype: int64\n",
      "----------------------------------------------------\n",
      "date                                          0\n",
      "primary_cleaner.input.sulfate                 0\n",
      "primary_cleaner.input.depressant              0\n",
      "primary_cleaner.input.feed_size               0\n",
      "primary_cleaner.input.xanthate                0\n",
      "primary_cleaner.state.floatbank8_a_air        0\n",
      "primary_cleaner.state.floatbank8_a_level      0\n",
      "primary_cleaner.state.floatbank8_b_air        0\n",
      "primary_cleaner.state.floatbank8_b_level      0\n",
      "primary_cleaner.state.floatbank8_c_air        0\n",
      "primary_cleaner.state.floatbank8_c_level      0\n",
      "primary_cleaner.state.floatbank8_d_air        0\n",
      "primary_cleaner.state.floatbank8_d_level      0\n",
      "rougher.input.feed_ag                         0\n",
      "rougher.input.feed_pb                         0\n",
      "rougher.input.feed_rate                       0\n",
      "rougher.input.feed_size                       0\n",
      "rougher.input.feed_sol                        0\n",
      "rougher.input.feed_au                         0\n",
      "rougher.input.floatbank10_sulfate             0\n",
      "rougher.input.floatbank10_xanthate            0\n",
      "rougher.input.floatbank11_sulfate             0\n",
      "rougher.input.floatbank11_xanthate            0\n",
      "rougher.state.floatbank10_a_air               0\n",
      "rougher.state.floatbank10_a_level             0\n",
      "rougher.state.floatbank10_b_air               0\n",
      "rougher.state.floatbank10_b_level             0\n",
      "rougher.state.floatbank10_c_air               0\n",
      "rougher.state.floatbank10_c_level             0\n",
      "rougher.state.floatbank10_d_air               0\n",
      "rougher.state.floatbank10_d_level             0\n",
      "rougher.state.floatbank10_e_air               0\n",
      "rougher.state.floatbank10_e_level             0\n",
      "rougher.state.floatbank10_f_air               0\n",
      "rougher.state.floatbank10_f_level             0\n",
      "secondary_cleaner.state.floatbank2_a_air      0\n",
      "secondary_cleaner.state.floatbank2_a_level    0\n",
      "secondary_cleaner.state.floatbank2_b_air      0\n",
      "secondary_cleaner.state.floatbank2_b_level    0\n",
      "secondary_cleaner.state.floatbank3_a_air      0\n",
      "secondary_cleaner.state.floatbank3_a_level    0\n",
      "secondary_cleaner.state.floatbank3_b_air      0\n",
      "secondary_cleaner.state.floatbank3_b_level    0\n",
      "secondary_cleaner.state.floatbank4_a_air      0\n",
      "secondary_cleaner.state.floatbank4_a_level    0\n",
      "secondary_cleaner.state.floatbank4_b_air      0\n",
      "secondary_cleaner.state.floatbank4_b_level    0\n",
      "secondary_cleaner.state.floatbank5_a_air      0\n",
      "secondary_cleaner.state.floatbank5_a_level    0\n",
      "secondary_cleaner.state.floatbank5_b_air      0\n",
      "secondary_cleaner.state.floatbank5_b_level    0\n",
      "secondary_cleaner.state.floatbank6_a_air      0\n",
      "secondary_cleaner.state.floatbank6_a_level    0\n",
      "dtype: int64\n"
     ]
    }
   ],
   "source": [
    "print(gr_train.isna().sum())\n",
    "print('----------------------------------------------------')\n",
    "print(gr_test.isna().sum())"
   ]
  },
  {
   "cell_type": "markdown",
   "metadata": {},
   "source": [
    "After deleting the outliers, some rows became null. In order to maintain data integrity, these nulls will dropped given their proportion in the samples."
   ]
  },
  {
   "cell_type": "markdown",
   "metadata": {},
   "source": [
    "## Build the Model"
   ]
  },
  {
   "cell_type": "markdown",
   "metadata": {},
   "source": [
    "### Write a function to calculate the final sMAPE value."
   ]
  },
  {
   "cell_type": "code",
   "execution_count": 63,
   "metadata": {},
   "outputs": [],
   "source": [
    "# yi = Value of target for the observation with the i index in the sample used to measure quality./ the actual Y values in the training set\n",
    "# ^yi = Value of prediction for the observation with the i index, for example, in the test sample./ the predicted Y values obtained from the model\n",
    "# N = Number of observations in the sample.\n",
    "# N\n",
    "# ⅀ = Summation over all observations of the sample (i takes values from 1 to N).\n",
    "# i=1\n",
    "# |y| =\n",
    "# |^yi| =\n",
    "# |y - ^yi| =\n",
    "#sMAPE = (1/N) * gr_train/test.sum() * (abs(target_rough/final_train - target_rough/final_test) / (abs(target_rough/final_train) + abs(target_rough/final_test))/2) * 100"
   ]
  },
  {
   "cell_type": "markdown",
   "metadata": {},
   "source": [
    "#### Develop Features & Target Variables"
   ]
  },
  {
   "cell_type": "code",
   "execution_count": 64,
   "metadata": {},
   "outputs": [],
   "source": [
    "# predictions are needed for the following variables:\n",
    "# 1. final.output.recovery\n",
    "# 2. rougher.output.recovery\n",
    "target = ['rougher.output.recovery', 'final.output.recovery']\n",
    "\n",
    "# Assume 'target_column_name' is your target column\n",
    "y_train = gr_train[['rougher.output.recovery', 'final.output.recovery']]\n",
    "y_test = gr_full[gr_full['date'].isin(gr_test['date'])][target].reset_index(drop=True)\n",
    "\n",
    "# Drop columns directly using the diff list\n",
    "gr_train = gr_train.drop(columns=diff)\n",
    "\n",
    "gr_train = gr_train.drop('date', axis=1)\n",
    "gr_test = gr_test.drop('date', axis=1)\n",
    "\n",
    "x_train = gr_train\n",
    "x_test = gr_test"
   ]
  },
  {
   "cell_type": "markdown",
   "metadata": {},
   "source": [
    "#### Scale Numeric Features"
   ]
  },
  {
   "cell_type": "code",
   "execution_count": 65,
   "metadata": {},
   "outputs": [],
   "source": [
    "# Scale Numeric Features\n",
    "scaler = StandardScaler() # Fit the scaler on the features and transform\n",
    "# Fit the scaler on the features and transform\n",
    "scaler.fit(x_train)\n",
    "x_train = scaler.transform(x_train)\n",
    "x_test = scaler.transform(x_test)"
   ]
  },
  {
   "cell_type": "markdown",
   "metadata": {},
   "source": [
    "### Train Models based on MAE for via CV"
   ]
  },
  {
   "cell_type": "code",
   "execution_count": 70,
   "metadata": {},
   "outputs": [
    {
     "name": "stdout",
     "output_type": "stream",
     "text": [
      "Cross-validated MAE scores: [13.81424164  7.74592756  9.66095247 13.05337284 14.7354849 ]\n",
      "Average model quality score (MAE): 11.801995879728938\n"
     ]
    }
   ],
   "source": [
    "# For rougher target\n",
    "# Assuming features and target data are not split yet\n",
    "lr = LinearRegression()\n",
    "scores = cross_val_score(lr, x_train, y_train, cv=5, scoring=make_scorer(mean_absolute_error))\n",
    "\n",
    "\n",
    "print('Cross-validated MAE scores:', scores)\n",
    "print('Average model quality score (MAE):', scores.mean())"
   ]
  },
  {
   "cell_type": "code",
   "execution_count": 67,
   "metadata": {},
   "outputs": [
    {
     "name": "stdout",
     "output_type": "stream",
     "text": [
      "Cross-validated MAE scores: [14.90285227 16.46781676 11.26131809 14.48677708 15.87322748]\n",
      "Average model quality score (MAE): 14.598398335544513\n"
     ]
    }
   ],
   "source": [
    "# For rougher target\n",
    "# Assuming features and target data are not split yet\n",
    "dt_rough = DecisionTreeRegressor(random_state=12345)\n",
    "scores = cross_val_score(dt_rough, x_train, y_train, cv=5,  scoring=make_scorer(mean_absolute_error))\n",
    "\n",
    "print('Cross-validated MAE scores:', scores)\n",
    "print('Average model quality score (MAE):', scores.mean())"
   ]
  },
  {
   "cell_type": "code",
   "execution_count": 68,
   "metadata": {},
   "outputs": [
    {
     "name": "stdout",
     "output_type": "stream",
     "text": [
      "Cross-validated MAE scores: [10.14132795 11.15713223 13.29750394 10.3372615  15.7117738 ]\n",
      "Average model quality score (MAE): 12.128999884518917\n"
     ]
    }
   ],
   "source": [
    "# For rougher target\n",
    "# Assuming features and target data are not split yet\n",
    "rf_rough = RandomForestRegressor(random_state=12345)\n",
    "scores = cross_val_score(rf_rough, x_train, y_train, cv=5,  scoring=make_scorer(mean_absolute_error))\n",
    "\n",
    "print('Cross-validated MAE scores:', scores)\n",
    "print('Average model quality score (MAE):', scores.mean())"
   ]
  },
  {
   "cell_type": "code",
   "execution_count": 71,
   "metadata": {},
   "outputs": [],
   "source": [
    "lr.fit(x_train, y_train)\n",
    "pred_y_test = lr.predict(x_test)"
   ]
  },
  {
   "cell_type": "code",
   "execution_count": 72,
   "metadata": {},
   "outputs": [],
   "source": [
    "pred_y_test = pd.DataFrame(pred_y_test)"
   ]
  },
  {
   "cell_type": "code",
   "execution_count": 75,
   "metadata": {},
   "outputs": [
    {
     "data": {
      "text/html": [
       "<div>\n",
       "<style scoped>\n",
       "    .dataframe tbody tr th:only-of-type {\n",
       "        vertical-align: middle;\n",
       "    }\n",
       "\n",
       "    .dataframe tbody tr th {\n",
       "        vertical-align: top;\n",
       "    }\n",
       "\n",
       "    .dataframe thead th {\n",
       "        text-align: right;\n",
       "    }\n",
       "</style>\n",
       "<table border=\"1\" class=\"dataframe\">\n",
       "  <thead>\n",
       "    <tr style=\"text-align: right;\">\n",
       "      <th></th>\n",
       "      <th>rougher.output.recovery</th>\n",
       "      <th>final.output.recovery</th>\n",
       "    </tr>\n",
       "  </thead>\n",
       "  <tbody>\n",
       "    <tr>\n",
       "      <th>0</th>\n",
       "      <td>89.993421</td>\n",
       "      <td>70.273583</td>\n",
       "    </tr>\n",
       "    <tr>\n",
       "      <th>1</th>\n",
       "      <td>88.089657</td>\n",
       "      <td>68.910432</td>\n",
       "    </tr>\n",
       "    <tr>\n",
       "      <th>2</th>\n",
       "      <td>88.412756</td>\n",
       "      <td>68.143213</td>\n",
       "    </tr>\n",
       "    <tr>\n",
       "      <th>3</th>\n",
       "      <td>87.360133</td>\n",
       "      <td>67.776393</td>\n",
       "    </tr>\n",
       "    <tr>\n",
       "      <th>4</th>\n",
       "      <td>83.236367</td>\n",
       "      <td>61.467078</td>\n",
       "    </tr>\n",
       "    <tr>\n",
       "      <th>...</th>\n",
       "      <td>...</td>\n",
       "      <td>...</td>\n",
       "    </tr>\n",
       "    <tr>\n",
       "      <th>5327</th>\n",
       "      <td>89.618197</td>\n",
       "      <td>69.382577</td>\n",
       "    </tr>\n",
       "    <tr>\n",
       "      <th>5328</th>\n",
       "      <td>88.846969</td>\n",
       "      <td>69.767501</td>\n",
       "    </tr>\n",
       "    <tr>\n",
       "      <th>5329</th>\n",
       "      <td>87.267080</td>\n",
       "      <td>70.513251</td>\n",
       "    </tr>\n",
       "    <tr>\n",
       "      <th>5330</th>\n",
       "      <td>86.630270</td>\n",
       "      <td>65.852532</td>\n",
       "    </tr>\n",
       "    <tr>\n",
       "      <th>5331</th>\n",
       "      <td>88.397008</td>\n",
       "      <td>72.929635</td>\n",
       "    </tr>\n",
       "  </tbody>\n",
       "</table>\n",
       "<p>5332 rows × 2 columns</p>\n",
       "</div>"
      ],
      "text/plain": [
       "      rougher.output.recovery  final.output.recovery\n",
       "0                   89.993421              70.273583\n",
       "1                   88.089657              68.910432\n",
       "2                   88.412756              68.143213\n",
       "3                   87.360133              67.776393\n",
       "4                   83.236367              61.467078\n",
       "...                       ...                    ...\n",
       "5327                89.618197              69.382577\n",
       "5328                88.846969              69.767501\n",
       "5329                87.267080              70.513251\n",
       "5330                86.630270              65.852532\n",
       "5331                88.397008              72.929635\n",
       "\n",
       "[5332 rows x 2 columns]"
      ]
     },
     "execution_count": 75,
     "metadata": {},
     "output_type": "execute_result"
    }
   ],
   "source": [
    "y_test"
   ]
  },
  {
   "cell_type": "code",
   "execution_count": 78,
   "metadata": {},
   "outputs": [
    {
     "data": {
      "text/html": [
       "<div>\n",
       "<style scoped>\n",
       "    .dataframe tbody tr th:only-of-type {\n",
       "        vertical-align: middle;\n",
       "    }\n",
       "\n",
       "    .dataframe tbody tr th {\n",
       "        vertical-align: top;\n",
       "    }\n",
       "\n",
       "    .dataframe thead th {\n",
       "        text-align: right;\n",
       "    }\n",
       "</style>\n",
       "<table border=\"1\" class=\"dataframe\">\n",
       "  <thead>\n",
       "    <tr style=\"text-align: right;\">\n",
       "      <th></th>\n",
       "      <th>predicted_rougher_recovery</th>\n",
       "      <th>predicted_final_recovery</th>\n",
       "    </tr>\n",
       "  </thead>\n",
       "  <tbody>\n",
       "    <tr>\n",
       "      <th>0</th>\n",
       "      <td>82.587091</td>\n",
       "      <td>70.722940</td>\n",
       "    </tr>\n",
       "    <tr>\n",
       "      <th>1</th>\n",
       "      <td>85.166645</td>\n",
       "      <td>70.160036</td>\n",
       "    </tr>\n",
       "    <tr>\n",
       "      <th>2</th>\n",
       "      <td>84.971660</td>\n",
       "      <td>69.924616</td>\n",
       "    </tr>\n",
       "    <tr>\n",
       "      <th>3</th>\n",
       "      <td>86.483901</td>\n",
       "      <td>69.737531</td>\n",
       "    </tr>\n",
       "    <tr>\n",
       "      <th>4</th>\n",
       "      <td>87.619973</td>\n",
       "      <td>68.261531</td>\n",
       "    </tr>\n",
       "    <tr>\n",
       "      <th>...</th>\n",
       "      <td>...</td>\n",
       "      <td>...</td>\n",
       "    </tr>\n",
       "    <tr>\n",
       "      <th>5327</th>\n",
       "      <td>95.671408</td>\n",
       "      <td>80.431194</td>\n",
       "    </tr>\n",
       "    <tr>\n",
       "      <th>5328</th>\n",
       "      <td>94.572205</td>\n",
       "      <td>83.938215</td>\n",
       "    </tr>\n",
       "    <tr>\n",
       "      <th>5329</th>\n",
       "      <td>94.364328</td>\n",
       "      <td>82.771908</td>\n",
       "    </tr>\n",
       "    <tr>\n",
       "      <th>5330</th>\n",
       "      <td>92.247450</td>\n",
       "      <td>78.993130</td>\n",
       "    </tr>\n",
       "    <tr>\n",
       "      <th>5331</th>\n",
       "      <td>90.891182</td>\n",
       "      <td>78.078391</td>\n",
       "    </tr>\n",
       "  </tbody>\n",
       "</table>\n",
       "<p>5332 rows × 2 columns</p>\n",
       "</div>"
      ],
      "text/plain": [
       "      predicted_rougher_recovery  predicted_final_recovery\n",
       "0                      82.587091                 70.722940\n",
       "1                      85.166645                 70.160036\n",
       "2                      84.971660                 69.924616\n",
       "3                      86.483901                 69.737531\n",
       "4                      87.619973                 68.261531\n",
       "...                          ...                       ...\n",
       "5327                   95.671408                 80.431194\n",
       "5328                   94.572205                 83.938215\n",
       "5329                   94.364328                 82.771908\n",
       "5330                   92.247450                 78.993130\n",
       "5331                   90.891182                 78.078391\n",
       "\n",
       "[5332 rows x 2 columns]"
      ]
     },
     "execution_count": 78,
     "metadata": {},
     "output_type": "execute_result"
    }
   ],
   "source": [
    "pred_y_test=pred_y_test.rename(columns={0: 'predicted_rougher_recovery', 1: 'predicted_final_recovery'})  # Rename columns\n",
    "pred_y_test"
   ]
  },
  {
   "cell_type": "code",
   "execution_count": 79,
   "metadata": {},
   "outputs": [],
   "source": [
    "y_test_rough = y_test['rougher.output.recovery']\n",
    "pred_y_test_rough = pred_y_test['predicted_rougher_recovery']"
   ]
  },
  {
   "cell_type": "code",
   "execution_count": 81,
   "metadata": {},
   "outputs": [
    {
     "data": {
      "text/plain": [
       "0       82.587091\n",
       "1       85.166645\n",
       "2       84.971660\n",
       "3       86.483901\n",
       "4       87.619973\n",
       "          ...    \n",
       "5327    95.671408\n",
       "5328    94.572205\n",
       "5329    94.364328\n",
       "5330    92.247450\n",
       "5331    90.891182\n",
       "Name: predicted_rougher_recovery, Length: 5332, dtype: float64"
      ]
     },
     "execution_count": 81,
     "metadata": {},
     "output_type": "execute_result"
    }
   ],
   "source": [
    "pred_y_test_rough"
   ]
  },
  {
   "cell_type": "markdown",
   "metadata": {},
   "source": [
    "#### Rougher sMAPE"
   ]
  },
  {
   "cell_type": "code",
   "execution_count": 82,
   "metadata": {},
   "outputs": [],
   "source": [
    "# yi = Value of target for the observation with the i index in the sample used to measure quality./ the actual Y values in the training set\n",
    "# ^yi = Value of prediction for the observation with the i index, for example, in the test sample./ the predicted Y values obtained from the model\n",
    "N = 5332\n",
    "act_y = y_test_rough\n",
    "pred_y = pred_y_test_rough\n",
    "\n",
    "act_y_abs = y_test_rough.abs()\n",
    "pred_y_abs = pred_y_test_rough.abs()\n",
    "abs_y_diff = (y_test_rough - pred_y_test_rough).abs()\n",
    "#sMAPE = (1/N) * gr_train/test.sum() * (abs(target_rough/final_train - target_rough/final_test) / (abs(target_rough/final_train) + abs(target_rough/final_test))/2) * 100"
   ]
  },
  {
   "cell_type": "code",
   "execution_count": 83,
   "metadata": {},
   "outputs": [],
   "source": [
    "sMAPE_rough = (100 / N) * (abs(act_y_abs - pred_y_abs) / ((act_y_abs + pred_y_abs) / 2)).sum()"
   ]
  },
  {
   "cell_type": "code",
   "execution_count": 84,
   "metadata": {},
   "outputs": [
    {
     "data": {
      "text/plain": [
       "12.4756939803747"
      ]
     },
     "execution_count": 84,
     "metadata": {},
     "output_type": "execute_result"
    }
   ],
   "source": [
    "sMAPE_rough"
   ]
  },
  {
   "cell_type": "code",
   "execution_count": 85,
   "metadata": {},
   "outputs": [],
   "source": [
    "y_test_final = y_test['final.output.recovery']\n",
    "pred_y_test_final = pred_y_test['predicted_final_recovery']"
   ]
  },
  {
   "cell_type": "markdown",
   "metadata": {},
   "source": [
    "#### Final sMAPE"
   ]
  },
  {
   "cell_type": "code",
   "execution_count": 86,
   "metadata": {},
   "outputs": [],
   "source": [
    "# yi = Value of target for the observation with the i index in the sample used to measure quality./ the actual Y values in the training set\n",
    "# ^yi = Value of prediction for the observation with the i index, for example, in the test sample./ the predicted Y values obtained from the model\n",
    "N = 5332\n",
    "act_y = y_test_final\n",
    "pred_y = pred_y_test_final\n",
    "\n",
    "act_y_abs = y_test_final.abs()\n",
    "pred_y_abs = pred_y_test_final.abs()\n",
    "abs_y_diff = (y_test_final - pred_y_test_final).abs()\n",
    "#sMAPE = (1/N) * gr_train/test.sum() * (abs(target_rough/final_train - target_rough/final_test) / (abs(target_rough/final_train) + abs(target_rough/final_test))/2) * 100"
   ]
  },
  {
   "cell_type": "code",
   "execution_count": 87,
   "metadata": {},
   "outputs": [],
   "source": [
    "sMAPE_final = (100 / N) * (abs(act_y_abs - pred_y_abs) / ((act_y_abs + pred_y_abs) / 2)).sum()"
   ]
  },
  {
   "cell_type": "code",
   "execution_count": 88,
   "metadata": {},
   "outputs": [
    {
     "data": {
      "text/plain": [
       "11.321928479887506"
      ]
     },
     "execution_count": 88,
     "metadata": {},
     "output_type": "execute_result"
    }
   ],
   "source": [
    "sMAPE_final"
   ]
  },
  {
   "cell_type": "markdown",
   "metadata": {},
   "source": [
    "#### Calculate Total sMAPE"
   ]
  },
  {
   "cell_type": "code",
   "execution_count": 89,
   "metadata": {},
   "outputs": [],
   "source": [
    "total_sMAPE = (0.25 * sMAPE_rough) + (0.75 * sMAPE_final)"
   ]
  },
  {
   "cell_type": "code",
   "execution_count": 90,
   "metadata": {},
   "outputs": [
    {
     "data": {
      "text/plain": [
       "11.610369855009305"
      ]
     },
     "execution_count": 90,
     "metadata": {},
     "output_type": "execute_result"
    }
   ],
   "source": [
    "total_sMAPE"
   ]
  },
  {
   "cell_type": "markdown",
   "metadata": {},
   "source": [
    "## Conclusion\n",
    "---"
   ]
  },
  {
   "cell_type": "markdown",
   "metadata": {},
   "source": [
    "With the above calculations in mind, the prototype of the machine learning model that most accurately predicts the amount of gold recovered from gold ore is the Linear Regression model, which was determined by having the lowest MAE. With this model, it will help to optimize the production."
   ]
  }
 ],
 "metadata": {
  "ExecuteTimeLog": [
   {
    "duration": 2896,
    "start_time": "2024-12-01T08:33:42.908Z"
   },
   {
    "duration": 3,
    "start_time": "2024-12-01T08:33:58.576Z"
   },
   {
    "duration": 597,
    "start_time": "2024-12-01T08:37:18.808Z"
   },
   {
    "duration": 20,
    "start_time": "2024-12-01T08:37:37.120Z"
   },
   {
    "duration": 18,
    "start_time": "2024-12-01T08:38:01.503Z"
   },
   {
    "duration": 20,
    "start_time": "2024-12-01T08:39:01.624Z"
   },
   {
    "duration": 4,
    "start_time": "2024-12-01T08:46:44.262Z"
   },
   {
    "duration": 5,
    "start_time": "2024-12-01T09:09:53.738Z"
   },
   {
    "duration": 426,
    "start_time": "2024-12-01T09:10:09.932Z"
   },
   {
    "duration": 8,
    "start_time": "2024-12-01T09:10:30.126Z"
   },
   {
    "duration": 4,
    "start_time": "2024-12-01T09:10:42.916Z"
   },
   {
    "duration": 5,
    "start_time": "2024-12-01T09:11:08.468Z"
   },
   {
    "duration": 5,
    "start_time": "2024-12-01T09:11:09.891Z"
   },
   {
    "duration": 4,
    "start_time": "2024-12-01T09:11:49.436Z"
   },
   {
    "duration": 5,
    "start_time": "2024-12-01T09:11:50.106Z"
   },
   {
    "duration": 112,
    "start_time": "2024-12-01T09:25:36.006Z"
   },
   {
    "duration": 9,
    "start_time": "2024-12-01T09:27:12.753Z"
   },
   {
    "duration": 7,
    "start_time": "2024-12-01T09:27:34.640Z"
   },
   {
    "duration": 7,
    "start_time": "2024-12-01T09:27:47.287Z"
   },
   {
    "duration": 12,
    "start_time": "2024-12-01T09:29:09.564Z"
   },
   {
    "duration": 14,
    "start_time": "2024-12-01T09:29:30.379Z"
   },
   {
    "duration": 47,
    "start_time": "2024-12-01T09:30:13.638Z"
   },
   {
    "duration": 13,
    "start_time": "2024-12-01T09:30:35.734Z"
   },
   {
    "duration": 4,
    "start_time": "2024-12-01T09:30:48.631Z"
   },
   {
    "duration": 5,
    "start_time": "2024-12-01T09:30:58.294Z"
   },
   {
    "duration": 4,
    "start_time": "2024-12-01T09:31:01.284Z"
   },
   {
    "duration": 5,
    "start_time": "2024-12-01T09:31:04.253Z"
   },
   {
    "duration": 4,
    "start_time": "2024-12-01T09:33:47.949Z"
   },
   {
    "duration": 14,
    "start_time": "2024-12-01T09:44:01.720Z"
   },
   {
    "duration": 3,
    "start_time": "2024-12-01T09:45:23.579Z"
   },
   {
    "duration": 4,
    "start_time": "2024-12-01T09:45:29.739Z"
   },
   {
    "duration": 14,
    "start_time": "2024-12-01T09:47:13.376Z"
   },
   {
    "duration": 14,
    "start_time": "2024-12-01T09:50:54.361Z"
   },
   {
    "duration": 13,
    "start_time": "2024-12-01T09:53:42.567Z"
   },
   {
    "duration": 13,
    "start_time": "2024-12-01T09:54:59.813Z"
   },
   {
    "duration": 5,
    "start_time": "2024-12-01T09:55:30.135Z"
   },
   {
    "duration": 3,
    "start_time": "2024-12-01T09:56:02.080Z"
   },
   {
    "duration": 4,
    "start_time": "2024-12-01T09:56:13.990Z"
   },
   {
    "duration": 4,
    "start_time": "2024-12-01T09:56:40.577Z"
   },
   {
    "duration": 2,
    "start_time": "2024-12-01T09:57:11.015Z"
   },
   {
    "duration": 5,
    "start_time": "2024-12-01T09:58:14.571Z"
   },
   {
    "duration": 14,
    "start_time": "2024-12-01T09:58:49.533Z"
   },
   {
    "duration": 14,
    "start_time": "2024-12-01T09:59:06.155Z"
   },
   {
    "duration": 14,
    "start_time": "2024-12-01T10:00:34.285Z"
   },
   {
    "duration": 32,
    "start_time": "2024-12-01T10:01:11.067Z"
   },
   {
    "duration": 14,
    "start_time": "2024-12-01T10:02:21.861Z"
   },
   {
    "duration": 14,
    "start_time": "2024-12-01T10:03:29.603Z"
   },
   {
    "duration": 5,
    "start_time": "2024-12-01T10:06:52.777Z"
   },
   {
    "duration": 2,
    "start_time": "2024-12-01T10:07:03.928Z"
   },
   {
    "duration": 4,
    "start_time": "2024-12-01T10:07:26.506Z"
   },
   {
    "duration": 3,
    "start_time": "2024-12-01T10:07:37.353Z"
   },
   {
    "duration": 4,
    "start_time": "2024-12-01T10:07:59.263Z"
   },
   {
    "duration": 4,
    "start_time": "2024-12-01T10:08:20.113Z"
   },
   {
    "duration": 5,
    "start_time": "2024-12-01T10:12:34.799Z"
   },
   {
    "duration": 14,
    "start_time": "2024-12-01T10:13:02.210Z"
   },
   {
    "duration": 934,
    "start_time": "2024-12-01T18:03:01.844Z"
   },
   {
    "duration": 515,
    "start_time": "2024-12-01T18:03:04.714Z"
   },
   {
    "duration": 20,
    "start_time": "2024-12-01T18:03:05.927Z"
   },
   {
    "duration": 15,
    "start_time": "2024-12-01T18:03:06.655Z"
   },
   {
    "duration": 19,
    "start_time": "2024-12-01T18:03:07.752Z"
   },
   {
    "duration": 8,
    "start_time": "2024-12-01T18:03:11.271Z"
   },
   {
    "duration": 3,
    "start_time": "2024-12-01T18:06:36.422Z"
   },
   {
    "duration": 9,
    "start_time": "2024-12-01T18:09:29.471Z"
   },
   {
    "duration": 6,
    "start_time": "2024-12-01T18:10:41.432Z"
   },
   {
    "duration": 3,
    "start_time": "2024-12-01T18:12:19.898Z"
   },
   {
    "duration": 58,
    "start_time": "2024-12-01T18:13:41.463Z"
   },
   {
    "duration": 18,
    "start_time": "2024-12-01T18:14:44.644Z"
   },
   {
    "duration": 3,
    "start_time": "2024-12-01T18:16:39.780Z"
   },
   {
    "duration": 19,
    "start_time": "2024-12-01T18:18:06.818Z"
   },
   {
    "duration": 9,
    "start_time": "2024-12-01T18:19:02.549Z"
   },
   {
    "duration": 10,
    "start_time": "2024-12-01T18:19:15.718Z"
   },
   {
    "duration": 4,
    "start_time": "2024-12-01T18:19:31.142Z"
   },
   {
    "duration": 5,
    "start_time": "2024-12-01T18:19:34.465Z"
   },
   {
    "duration": 222,
    "start_time": "2024-12-01T18:21:04.114Z"
   },
   {
    "duration": 4,
    "start_time": "2024-12-01T18:21:13.028Z"
   },
   {
    "duration": 3,
    "start_time": "2024-12-01T18:24:13.979Z"
   },
   {
    "duration": 5,
    "start_time": "2024-12-01T18:25:44.890Z"
   },
   {
    "duration": 5,
    "start_time": "2024-12-01T18:37:06.787Z"
   },
   {
    "duration": 4,
    "start_time": "2024-12-01T18:37:24.462Z"
   },
   {
    "duration": 4,
    "start_time": "2024-12-01T18:37:25.539Z"
   },
   {
    "duration": 5,
    "start_time": "2024-12-01T18:37:26.836Z"
   },
   {
    "duration": 942,
    "start_time": "2024-12-01T18:43:31.932Z"
   },
   {
    "duration": 502,
    "start_time": "2024-12-01T18:43:32.876Z"
   },
   {
    "duration": 22,
    "start_time": "2024-12-01T18:43:33.380Z"
   },
   {
    "duration": 18,
    "start_time": "2024-12-01T18:43:33.404Z"
   },
   {
    "duration": 18,
    "start_time": "2024-12-01T18:43:33.424Z"
   },
   {
    "duration": 2,
    "start_time": "2024-12-01T18:43:33.444Z"
   },
   {
    "duration": 9,
    "start_time": "2024-12-01T18:43:33.469Z"
   },
   {
    "duration": 5,
    "start_time": "2024-12-01T18:43:33.479Z"
   },
   {
    "duration": 2,
    "start_time": "2024-12-01T18:43:33.486Z"
   },
   {
    "duration": 79,
    "start_time": "2024-12-01T18:43:33.491Z"
   },
   {
    "duration": 18,
    "start_time": "2024-12-01T18:43:33.572Z"
   },
   {
    "duration": 2,
    "start_time": "2024-12-01T18:43:33.591Z"
   },
   {
    "duration": 238,
    "start_time": "2024-12-01T18:43:33.595Z"
   },
   {
    "duration": 0,
    "start_time": "2024-12-01T18:43:33.835Z"
   },
   {
    "duration": 0,
    "start_time": "2024-12-01T18:43:33.837Z"
   },
   {
    "duration": 0,
    "start_time": "2024-12-01T18:43:33.838Z"
   },
   {
    "duration": 0,
    "start_time": "2024-12-01T18:43:33.839Z"
   },
   {
    "duration": 0,
    "start_time": "2024-12-01T18:43:33.841Z"
   },
   {
    "duration": 0,
    "start_time": "2024-12-01T18:43:33.842Z"
   },
   {
    "duration": 0,
    "start_time": "2024-12-01T18:43:33.843Z"
   },
   {
    "duration": 0,
    "start_time": "2024-12-01T18:43:33.844Z"
   },
   {
    "duration": 3,
    "start_time": "2024-12-01T18:43:43.995Z"
   },
   {
    "duration": 12,
    "start_time": "2024-12-01T18:43:45.232Z"
   },
   {
    "duration": 7,
    "start_time": "2024-12-01T18:43:49.910Z"
   },
   {
    "duration": 4,
    "start_time": "2024-12-01T18:43:51.593Z"
   },
   {
    "duration": 5,
    "start_time": "2024-12-01T18:43:52.676Z"
   },
   {
    "duration": 5,
    "start_time": "2024-12-01T18:43:53.490Z"
   },
   {
    "duration": 5,
    "start_time": "2024-12-01T18:43:55.276Z"
   },
   {
    "duration": 930,
    "start_time": "2024-12-01T18:44:26.464Z"
   },
   {
    "duration": 512,
    "start_time": "2024-12-01T18:44:27.399Z"
   },
   {
    "duration": 18,
    "start_time": "2024-12-01T18:44:27.913Z"
   },
   {
    "duration": 17,
    "start_time": "2024-12-01T18:44:27.933Z"
   },
   {
    "duration": 32,
    "start_time": "2024-12-01T18:44:27.953Z"
   },
   {
    "duration": 2,
    "start_time": "2024-12-01T18:44:27.987Z"
   },
   {
    "duration": 9,
    "start_time": "2024-12-01T18:44:27.991Z"
   },
   {
    "duration": 6,
    "start_time": "2024-12-01T18:44:28.001Z"
   },
   {
    "duration": 2,
    "start_time": "2024-12-01T18:44:28.009Z"
   },
   {
    "duration": 88,
    "start_time": "2024-12-01T18:44:28.013Z"
   },
   {
    "duration": 18,
    "start_time": "2024-12-01T18:44:28.103Z"
   },
   {
    "duration": 3,
    "start_time": "2024-12-01T18:44:28.122Z"
   },
   {
    "duration": 13,
    "start_time": "2024-12-01T18:44:28.126Z"
   },
   {
    "duration": 31,
    "start_time": "2024-12-01T18:44:28.143Z"
   },
   {
    "duration": 4,
    "start_time": "2024-12-01T18:44:28.176Z"
   },
   {
    "duration": 5,
    "start_time": "2024-12-01T18:44:28.181Z"
   },
   {
    "duration": 4,
    "start_time": "2024-12-01T18:44:28.187Z"
   },
   {
    "duration": 4,
    "start_time": "2024-12-01T18:44:28.192Z"
   },
   {
    "duration": 254,
    "start_time": "2024-12-01T18:44:28.197Z"
   },
   {
    "duration": 0,
    "start_time": "2024-12-01T18:44:28.453Z"
   },
   {
    "duration": 0,
    "start_time": "2024-12-01T18:44:28.454Z"
   },
   {
    "duration": 962,
    "start_time": "2024-12-01T19:08:25.417Z"
   },
   {
    "duration": 517,
    "start_time": "2024-12-01T19:08:29.255Z"
   },
   {
    "duration": 19,
    "start_time": "2024-12-01T19:08:30.194Z"
   },
   {
    "duration": 17,
    "start_time": "2024-12-01T19:08:30.692Z"
   },
   {
    "duration": 20,
    "start_time": "2024-12-01T19:08:31.330Z"
   },
   {
    "duration": 4,
    "start_time": "2024-12-01T19:08:32.806Z"
   },
   {
    "duration": 5,
    "start_time": "2024-12-01T19:08:34.386Z"
   },
   {
    "duration": 3,
    "start_time": "2024-12-01T19:08:35.521Z"
   },
   {
    "duration": 5,
    "start_time": "2024-12-01T19:08:36.445Z"
   },
   {
    "duration": 155,
    "start_time": "2024-12-01T19:57:29.377Z"
   },
   {
    "duration": 2641,
    "start_time": "2024-12-01T19:57:44.919Z"
   },
   {
    "duration": 604,
    "start_time": "2024-12-01T19:57:49.068Z"
   },
   {
    "duration": 20,
    "start_time": "2024-12-01T19:57:50.273Z"
   },
   {
    "duration": 16,
    "start_time": "2024-12-01T19:57:50.774Z"
   },
   {
    "duration": 19,
    "start_time": "2024-12-01T19:57:52.046Z"
   },
   {
    "duration": 4,
    "start_time": "2024-12-01T19:57:53.904Z"
   },
   {
    "duration": 5,
    "start_time": "2024-12-01T19:57:55.347Z"
   },
   {
    "duration": 3,
    "start_time": "2024-12-01T19:57:57.290Z"
   },
   {
    "duration": 5,
    "start_time": "2024-12-01T19:57:59.569Z"
   },
   {
    "duration": 4,
    "start_time": "2024-12-01T19:58:01.178Z"
   },
   {
    "duration": 4,
    "start_time": "2024-12-01T19:58:27.484Z"
   },
   {
    "duration": 224,
    "start_time": "2024-12-01T19:58:42.677Z"
   },
   {
    "duration": 5,
    "start_time": "2024-12-01T19:58:50.056Z"
   },
   {
    "duration": 4,
    "start_time": "2024-12-01T19:59:03.535Z"
   },
   {
    "duration": 14,
    "start_time": "2024-12-01T20:24:40.165Z"
   },
   {
    "duration": 6,
    "start_time": "2024-12-01T20:30:23.185Z"
   },
   {
    "duration": 4,
    "start_time": "2024-12-01T20:30:35.491Z"
   },
   {
    "duration": 14,
    "start_time": "2024-12-01T20:30:48.316Z"
   },
   {
    "duration": 3,
    "start_time": "2024-12-01T20:42:48.831Z"
   },
   {
    "duration": 4,
    "start_time": "2024-12-01T20:43:07.565Z"
   },
   {
    "duration": 12,
    "start_time": "2024-12-01T20:43:16.556Z"
   },
   {
    "duration": 13,
    "start_time": "2024-12-01T20:43:27.962Z"
   },
   {
    "duration": 14,
    "start_time": "2024-12-01T20:43:39.536Z"
   },
   {
    "duration": 4,
    "start_time": "2024-12-01T20:43:47.788Z"
   },
   {
    "duration": 13,
    "start_time": "2024-12-01T21:20:58.361Z"
   },
   {
    "duration": 15,
    "start_time": "2024-12-01T21:22:55.239Z"
   },
   {
    "duration": 3,
    "start_time": "2024-12-01T21:22:59.479Z"
   },
   {
    "duration": 12,
    "start_time": "2024-12-01T21:23:00.493Z"
   },
   {
    "duration": 3,
    "start_time": "2024-12-01T21:23:07.329Z"
   },
   {
    "duration": 58,
    "start_time": "2024-12-01T21:23:10.168Z"
   },
   {
    "duration": 91,
    "start_time": "2024-12-01T21:23:42.222Z"
   },
   {
    "duration": 3,
    "start_time": "2024-12-01T21:24:36.438Z"
   },
   {
    "duration": 3,
    "start_time": "2024-12-01T21:25:40.758Z"
   },
   {
    "duration": 16,
    "start_time": "2024-12-01T21:25:42.092Z"
   },
   {
    "duration": 14,
    "start_time": "2024-12-01T21:26:04.654Z"
   },
   {
    "duration": 15,
    "start_time": "2024-12-01T21:28:56.732Z"
   },
   {
    "duration": 2,
    "start_time": "2024-12-01T21:51:50.039Z"
   },
   {
    "duration": 411,
    "start_time": "2024-12-01T21:55:07.830Z"
   },
   {
    "duration": 3,
    "start_time": "2024-12-01T21:55:25.505Z"
   },
   {
    "duration": 4,
    "start_time": "2024-12-01T22:07:41.759Z"
   },
   {
    "duration": 11,
    "start_time": "2024-12-01T22:07:50.861Z"
   },
   {
    "duration": 4,
    "start_time": "2024-12-01T22:11:09.447Z"
   },
   {
    "duration": 11,
    "start_time": "2024-12-01T22:11:12.599Z"
   },
   {
    "duration": 5797,
    "start_time": "2024-12-01T22:15:55.222Z"
   },
   {
    "duration": 59,
    "start_time": "2024-12-01T22:16:20.901Z"
   },
   {
    "duration": 30,
    "start_time": "2024-12-01T22:16:31.569Z"
   },
   {
    "duration": 5,
    "start_time": "2024-12-01T22:22:50.916Z"
   },
   {
    "duration": 10,
    "start_time": "2024-12-01T22:23:06.293Z"
   },
   {
    "duration": 6,
    "start_time": "2024-12-01T22:28:19.069Z"
   },
   {
    "duration": 11,
    "start_time": "2024-12-01T22:28:24.622Z"
   },
   {
    "duration": 10,
    "start_time": "2024-12-01T22:28:56.882Z"
   },
   {
    "duration": 9,
    "start_time": "2024-12-01T22:30:27.502Z"
   },
   {
    "duration": 3,
    "start_time": "2024-12-01T22:35:53.326Z"
   },
   {
    "duration": 9,
    "start_time": "2024-12-01T22:35:58.688Z"
   },
   {
    "duration": 2207,
    "start_time": "2024-12-01T22:37:22.305Z"
   },
   {
    "duration": 27,
    "start_time": "2024-12-01T22:41:46.755Z"
   },
   {
    "duration": 4,
    "start_time": "2024-12-01T22:42:17.445Z"
   },
   {
    "duration": 25,
    "start_time": "2024-12-01T22:42:33.722Z"
   },
   {
    "duration": 18,
    "start_time": "2024-12-01T22:54:54.789Z"
   },
   {
    "duration": 1633,
    "start_time": "2024-12-01T23:00:50.921Z"
   },
   {
    "duration": 9,
    "start_time": "2024-12-01T23:06:40.564Z"
   },
   {
    "duration": 10,
    "start_time": "2024-12-01T23:12:55.528Z"
   },
   {
    "duration": 6,
    "start_time": "2024-12-01T23:14:49.775Z"
   },
   {
    "duration": 13,
    "start_time": "2024-12-01T23:14:52.229Z"
   },
   {
    "duration": 15,
    "start_time": "2024-12-01T23:14:58.300Z"
   },
   {
    "duration": 2,
    "start_time": "2024-12-01T23:15:07.418Z"
   },
   {
    "duration": 3,
    "start_time": "2024-12-01T23:15:08.001Z"
   },
   {
    "duration": 5,
    "start_time": "2024-12-01T23:15:08.484Z"
   },
   {
    "duration": 4,
    "start_time": "2024-12-01T23:15:09.051Z"
   },
   {
    "duration": 9,
    "start_time": "2024-12-01T23:15:09.859Z"
   },
   {
    "duration": 6,
    "start_time": "2024-12-01T23:18:46.074Z"
   },
   {
    "duration": 89,
    "start_time": "2024-12-01T23:19:24.456Z"
   },
   {
    "duration": 22,
    "start_time": "2024-12-01T23:19:32.949Z"
   },
   {
    "duration": 4,
    "start_time": "2024-12-01T23:19:42.834Z"
   },
   {
    "duration": 12,
    "start_time": "2024-12-01T23:19:53.900Z"
   },
   {
    "duration": 37,
    "start_time": "2024-12-01T23:26:36.281Z"
   },
   {
    "duration": 109,
    "start_time": "2024-12-01T23:27:01.447Z"
   },
   {
    "duration": 13,
    "start_time": "2024-12-01T23:27:13.653Z"
   },
   {
    "duration": 12,
    "start_time": "2024-12-01T23:28:14.351Z"
   },
   {
    "duration": 6,
    "start_time": "2024-12-01T23:30:32.664Z"
   },
   {
    "duration": 12,
    "start_time": "2024-12-01T23:30:45.065Z"
   },
   {
    "duration": 7,
    "start_time": "2024-12-01T23:31:12.465Z"
   },
   {
    "duration": 1053,
    "start_time": "2024-12-01T23:31:57.469Z"
   },
   {
    "duration": 16,
    "start_time": "2024-12-01T23:33:40.137Z"
   },
   {
    "duration": 70,
    "start_time": "2024-12-01T23:34:02.624Z"
   },
   {
    "duration": 486,
    "start_time": "2024-12-01T23:34:07.007Z"
   },
   {
    "duration": 207,
    "start_time": "2024-12-01T23:38:19.629Z"
   },
   {
    "duration": 475,
    "start_time": "2024-12-01T23:38:27.347Z"
   },
   {
    "duration": 5,
    "start_time": "2024-12-01T23:39:44.395Z"
   },
   {
    "duration": 3,
    "start_time": "2024-12-01T23:39:45.383Z"
   },
   {
    "duration": 9,
    "start_time": "2024-12-01T23:39:45.835Z"
   },
   {
    "duration": 43,
    "start_time": "2024-12-01T23:39:46.603Z"
   },
   {
    "duration": 518,
    "start_time": "2024-12-01T23:39:47.467Z"
   },
   {
    "duration": 2187,
    "start_time": "2024-12-01T23:40:14.386Z"
   },
   {
    "duration": 9,
    "start_time": "2024-12-01T23:41:43.873Z"
   },
   {
    "duration": 3,
    "start_time": "2024-12-01T23:44:52.327Z"
   },
   {
    "duration": 7,
    "start_time": "2024-12-01T23:44:53.229Z"
   },
   {
    "duration": 6,
    "start_time": "2024-12-01T23:45:21.119Z"
   },
   {
    "duration": 4,
    "start_time": "2024-12-01T23:45:29.706Z"
   },
   {
    "duration": 6,
    "start_time": "2024-12-01T23:45:43.128Z"
   },
   {
    "duration": 15,
    "start_time": "2024-12-01T23:48:27.024Z"
   },
   {
    "duration": 5,
    "start_time": "2024-12-01T23:48:50.388Z"
   },
   {
    "duration": 7,
    "start_time": "2024-12-01T23:49:09.458Z"
   },
   {
    "duration": 3,
    "start_time": "2024-12-01T23:50:09.299Z"
   },
   {
    "duration": 31,
    "start_time": "2024-12-01T23:50:19.608Z"
   },
   {
    "duration": 139,
    "start_time": "2024-12-01T23:51:57.033Z"
   },
   {
    "duration": 33,
    "start_time": "2024-12-01T23:52:12.394Z"
   },
   {
    "duration": 36,
    "start_time": "2024-12-01T23:52:22.438Z"
   },
   {
    "duration": 34,
    "start_time": "2024-12-01T23:52:28.731Z"
   },
   {
    "duration": 974,
    "start_time": "2024-12-01T23:52:42.558Z"
   },
   {
    "duration": 518,
    "start_time": "2024-12-01T23:52:45.726Z"
   },
   {
    "duration": 23,
    "start_time": "2024-12-01T23:52:46.246Z"
   },
   {
    "duration": 17,
    "start_time": "2024-12-01T23:52:46.735Z"
   },
   {
    "duration": 20,
    "start_time": "2024-12-01T23:52:47.477Z"
   },
   {
    "duration": 4,
    "start_time": "2024-12-01T23:52:50.061Z"
   },
   {
    "duration": 5,
    "start_time": "2024-12-01T23:52:50.564Z"
   },
   {
    "duration": 4,
    "start_time": "2024-12-01T23:52:51.196Z"
   },
   {
    "duration": 5,
    "start_time": "2024-12-01T23:52:52.108Z"
   },
   {
    "duration": 3,
    "start_time": "2024-12-01T23:52:53.352Z"
   },
   {
    "duration": 3,
    "start_time": "2024-12-01T23:52:53.940Z"
   },
   {
    "duration": 14,
    "start_time": "2024-12-01T23:52:57.654Z"
   },
   {
    "duration": 3,
    "start_time": "2024-12-01T23:53:02.110Z"
   },
   {
    "duration": 10,
    "start_time": "2024-12-01T23:53:02.930Z"
   },
   {
    "duration": 2,
    "start_time": "2024-12-01T23:53:04.214Z"
   },
   {
    "duration": 87,
    "start_time": "2024-12-01T23:53:04.775Z"
   },
   {
    "duration": 3,
    "start_time": "2024-12-01T23:53:05.856Z"
   },
   {
    "duration": 16,
    "start_time": "2024-12-01T23:53:06.404Z"
   },
   {
    "duration": 7,
    "start_time": "2024-12-01T23:53:07.924Z"
   },
   {
    "duration": 17,
    "start_time": "2024-12-01T23:53:08.539Z"
   },
   {
    "duration": 15,
    "start_time": "2024-12-01T23:53:09.301Z"
   },
   {
    "duration": 2,
    "start_time": "2024-12-01T23:53:11.550Z"
   },
   {
    "duration": 2,
    "start_time": "2024-12-01T23:53:12.777Z"
   },
   {
    "duration": 5,
    "start_time": "2024-12-01T23:53:14.404Z"
   },
   {
    "duration": 4,
    "start_time": "2024-12-01T23:53:15.764Z"
   },
   {
    "duration": 5,
    "start_time": "2024-12-01T23:53:16.450Z"
   },
   {
    "duration": 224,
    "start_time": "2024-12-01T23:53:17.832Z"
   },
   {
    "duration": 7,
    "start_time": "2024-12-01T23:53:25.278Z"
   },
   {
    "duration": 9,
    "start_time": "2024-12-01T23:53:44.035Z"
   },
   {
    "duration": 11,
    "start_time": "2024-12-01T23:55:00.785Z"
   },
   {
    "duration": 14,
    "start_time": "2024-12-01T23:56:31.300Z"
   },
   {
    "duration": 7,
    "start_time": "2024-12-01T23:56:37.882Z"
   },
   {
    "duration": 340,
    "start_time": "2024-12-01T23:57:08.126Z"
   },
   {
    "duration": 933,
    "start_time": "2024-12-01T23:57:19.654Z"
   },
   {
    "duration": 494,
    "start_time": "2024-12-01T23:57:20.589Z"
   },
   {
    "duration": 21,
    "start_time": "2024-12-01T23:57:21.084Z"
   },
   {
    "duration": 17,
    "start_time": "2024-12-01T23:57:21.107Z"
   },
   {
    "duration": 20,
    "start_time": "2024-12-01T23:57:21.125Z"
   },
   {
    "duration": 4,
    "start_time": "2024-12-01T23:57:21.146Z"
   },
   {
    "duration": 5,
    "start_time": "2024-12-01T23:57:21.152Z"
   },
   {
    "duration": 29,
    "start_time": "2024-12-01T23:57:21.158Z"
   },
   {
    "duration": 4,
    "start_time": "2024-12-01T23:57:21.189Z"
   },
   {
    "duration": 2,
    "start_time": "2024-12-01T23:57:21.197Z"
   },
   {
    "duration": 3,
    "start_time": "2024-12-01T23:57:21.201Z"
   },
   {
    "duration": 13,
    "start_time": "2024-12-01T23:57:21.206Z"
   },
   {
    "duration": 3,
    "start_time": "2024-12-01T23:57:21.221Z"
   },
   {
    "duration": 10,
    "start_time": "2024-12-01T23:57:21.226Z"
   },
   {
    "duration": 3,
    "start_time": "2024-12-01T23:57:21.237Z"
   },
   {
    "duration": 127,
    "start_time": "2024-12-01T23:57:21.241Z"
   },
   {
    "duration": 3,
    "start_time": "2024-12-01T23:57:21.371Z"
   },
   {
    "duration": 15,
    "start_time": "2024-12-01T23:57:21.387Z"
   },
   {
    "duration": 7,
    "start_time": "2024-12-01T23:57:21.404Z"
   },
   {
    "duration": 12,
    "start_time": "2024-12-01T23:57:21.413Z"
   },
   {
    "duration": 15,
    "start_time": "2024-12-01T23:57:21.426Z"
   },
   {
    "duration": 2,
    "start_time": "2024-12-01T23:57:21.443Z"
   },
   {
    "duration": 2,
    "start_time": "2024-12-01T23:57:21.448Z"
   },
   {
    "duration": 37,
    "start_time": "2024-12-01T23:57:21.452Z"
   },
   {
    "duration": 3,
    "start_time": "2024-12-01T23:57:21.491Z"
   },
   {
    "duration": 4,
    "start_time": "2024-12-01T23:57:21.496Z"
   },
   {
    "duration": 3,
    "start_time": "2024-12-01T23:57:21.502Z"
   },
   {
    "duration": 914,
    "start_time": "2024-12-01T23:57:21.509Z"
   },
   {
    "duration": 0,
    "start_time": "2024-12-01T23:57:22.425Z"
   },
   {
    "duration": 1000,
    "start_time": "2024-12-01T23:58:03.504Z"
   },
   {
    "duration": 504,
    "start_time": "2024-12-01T23:58:04.506Z"
   },
   {
    "duration": 20,
    "start_time": "2024-12-01T23:58:05.012Z"
   },
   {
    "duration": 17,
    "start_time": "2024-12-01T23:58:05.035Z"
   },
   {
    "duration": 37,
    "start_time": "2024-12-01T23:58:05.053Z"
   },
   {
    "duration": 4,
    "start_time": "2024-12-01T23:58:05.092Z"
   },
   {
    "duration": 6,
    "start_time": "2024-12-01T23:58:05.097Z"
   },
   {
    "duration": 3,
    "start_time": "2024-12-01T23:58:05.105Z"
   },
   {
    "duration": 5,
    "start_time": "2024-12-01T23:58:05.109Z"
   },
   {
    "duration": 2,
    "start_time": "2024-12-01T23:58:05.117Z"
   },
   {
    "duration": 4,
    "start_time": "2024-12-01T23:58:05.121Z"
   },
   {
    "duration": 13,
    "start_time": "2024-12-01T23:58:05.127Z"
   },
   {
    "duration": 46,
    "start_time": "2024-12-01T23:58:05.141Z"
   },
   {
    "duration": 10,
    "start_time": "2024-12-01T23:58:05.189Z"
   },
   {
    "duration": 3,
    "start_time": "2024-12-01T23:58:05.200Z"
   },
   {
    "duration": 105,
    "start_time": "2024-12-01T23:58:05.204Z"
   },
   {
    "duration": 3,
    "start_time": "2024-12-01T23:58:05.311Z"
   },
   {
    "duration": 16,
    "start_time": "2024-12-01T23:58:05.315Z"
   },
   {
    "duration": 6,
    "start_time": "2024-12-01T23:58:05.333Z"
   },
   {
    "duration": 12,
    "start_time": "2024-12-01T23:58:05.341Z"
   },
   {
    "duration": 41,
    "start_time": "2024-12-01T23:58:05.355Z"
   },
   {
    "duration": 2,
    "start_time": "2024-12-01T23:58:05.398Z"
   },
   {
    "duration": 3,
    "start_time": "2024-12-01T23:58:05.402Z"
   },
   {
    "duration": 4,
    "start_time": "2024-12-01T23:58:05.407Z"
   },
   {
    "duration": 3,
    "start_time": "2024-12-01T23:58:05.412Z"
   },
   {
    "duration": 5,
    "start_time": "2024-12-01T23:58:05.417Z"
   },
   {
    "duration": 3,
    "start_time": "2024-12-01T23:58:05.424Z"
   },
   {
    "duration": 4,
    "start_time": "2024-12-01T23:58:05.432Z"
   },
   {
    "duration": 5,
    "start_time": "2024-12-01T23:58:13.635Z"
   },
   {
    "duration": 217,
    "start_time": "2024-12-01T23:59:31.096Z"
   },
   {
    "duration": 99,
    "start_time": "2024-12-01T23:59:47.356Z"
   },
   {
    "duration": 312,
    "start_time": "2024-12-02T00:11:19.562Z"
   },
   {
    "duration": 1011,
    "start_time": "2024-12-02T00:11:30.694Z"
   },
   {
    "duration": 515,
    "start_time": "2024-12-02T00:11:31.707Z"
   },
   {
    "duration": 20,
    "start_time": "2024-12-02T00:11:32.224Z"
   },
   {
    "duration": 18,
    "start_time": "2024-12-02T00:11:32.247Z"
   },
   {
    "duration": 35,
    "start_time": "2024-12-02T00:11:32.267Z"
   },
   {
    "duration": 3,
    "start_time": "2024-12-02T00:11:32.304Z"
   },
   {
    "duration": 5,
    "start_time": "2024-12-02T00:11:32.309Z"
   },
   {
    "duration": 4,
    "start_time": "2024-12-02T00:11:32.316Z"
   },
   {
    "duration": 5,
    "start_time": "2024-12-02T00:11:32.321Z"
   },
   {
    "duration": 2,
    "start_time": "2024-12-02T00:11:32.330Z"
   },
   {
    "duration": 4,
    "start_time": "2024-12-02T00:11:32.334Z"
   },
   {
    "duration": 51,
    "start_time": "2024-12-02T00:11:32.339Z"
   },
   {
    "duration": 3,
    "start_time": "2024-12-02T00:11:32.393Z"
   },
   {
    "duration": 12,
    "start_time": "2024-12-02T00:11:32.397Z"
   },
   {
    "duration": 2,
    "start_time": "2024-12-02T00:11:32.411Z"
   },
   {
    "duration": 110,
    "start_time": "2024-12-02T00:11:32.415Z"
   },
   {
    "duration": 2,
    "start_time": "2024-12-02T00:11:32.527Z"
   },
   {
    "duration": 17,
    "start_time": "2024-12-02T00:11:32.531Z"
   },
   {
    "duration": 7,
    "start_time": "2024-12-02T00:11:32.550Z"
   },
   {
    "duration": 37,
    "start_time": "2024-12-02T00:11:32.559Z"
   },
   {
    "duration": 15,
    "start_time": "2024-12-02T00:11:32.598Z"
   },
   {
    "duration": 2,
    "start_time": "2024-12-02T00:11:32.615Z"
   },
   {
    "duration": 3,
    "start_time": "2024-12-02T00:11:32.619Z"
   },
   {
    "duration": 4,
    "start_time": "2024-12-02T00:11:32.624Z"
   },
   {
    "duration": 3,
    "start_time": "2024-12-02T00:11:32.630Z"
   },
   {
    "duration": 4,
    "start_time": "2024-12-02T00:11:32.635Z"
   },
   {
    "duration": 4,
    "start_time": "2024-12-02T00:11:32.640Z"
   },
   {
    "duration": 40,
    "start_time": "2024-12-02T00:11:32.648Z"
   },
   {
    "duration": 9,
    "start_time": "2024-12-02T00:11:32.689Z"
   },
   {
    "duration": 382,
    "start_time": "2024-12-02T00:11:32.701Z"
   },
   {
    "duration": 963,
    "start_time": "2024-12-02T00:12:02.445Z"
   },
   {
    "duration": 525,
    "start_time": "2024-12-02T00:12:03.410Z"
   },
   {
    "duration": 19,
    "start_time": "2024-12-02T00:12:03.937Z"
   },
   {
    "duration": 28,
    "start_time": "2024-12-02T00:12:03.958Z"
   },
   {
    "duration": 20,
    "start_time": "2024-12-02T00:12:03.989Z"
   },
   {
    "duration": 3,
    "start_time": "2024-12-02T00:12:04.011Z"
   },
   {
    "duration": 5,
    "start_time": "2024-12-02T00:12:04.016Z"
   },
   {
    "duration": 4,
    "start_time": "2024-12-02T00:12:04.022Z"
   },
   {
    "duration": 4,
    "start_time": "2024-12-02T00:12:04.027Z"
   },
   {
    "duration": 3,
    "start_time": "2024-12-02T00:12:04.033Z"
   },
   {
    "duration": 4,
    "start_time": "2024-12-02T00:12:04.038Z"
   },
   {
    "duration": 53,
    "start_time": "2024-12-02T00:12:04.044Z"
   },
   {
    "duration": 3,
    "start_time": "2024-12-02T00:12:04.099Z"
   },
   {
    "duration": 9,
    "start_time": "2024-12-02T00:12:04.106Z"
   },
   {
    "duration": 2,
    "start_time": "2024-12-02T00:12:04.117Z"
   },
   {
    "duration": 109,
    "start_time": "2024-12-02T00:12:04.121Z"
   },
   {
    "duration": 3,
    "start_time": "2024-12-02T00:12:04.232Z"
   },
   {
    "duration": 17,
    "start_time": "2024-12-02T00:12:04.236Z"
   },
   {
    "duration": 8,
    "start_time": "2024-12-02T00:12:04.255Z"
   },
   {
    "duration": 28,
    "start_time": "2024-12-02T00:12:04.265Z"
   },
   {
    "duration": 15,
    "start_time": "2024-12-02T00:12:04.295Z"
   },
   {
    "duration": 3,
    "start_time": "2024-12-02T00:12:04.311Z"
   },
   {
    "duration": 3,
    "start_time": "2024-12-02T00:12:04.315Z"
   },
   {
    "duration": 5,
    "start_time": "2024-12-02T00:12:04.320Z"
   },
   {
    "duration": 2,
    "start_time": "2024-12-02T00:12:04.328Z"
   },
   {
    "duration": 3,
    "start_time": "2024-12-02T00:12:04.332Z"
   },
   {
    "duration": 3,
    "start_time": "2024-12-02T00:12:04.337Z"
   },
   {
    "duration": 3,
    "start_time": "2024-12-02T00:12:04.342Z"
   },
   {
    "duration": 47,
    "start_time": "2024-12-02T00:12:04.346Z"
   },
   {
    "duration": 379,
    "start_time": "2024-12-02T00:12:04.395Z"
   },
   {
    "duration": 949,
    "start_time": "2024-12-02T00:12:21.764Z"
   },
   {
    "duration": 510,
    "start_time": "2024-12-02T00:12:22.716Z"
   },
   {
    "duration": 20,
    "start_time": "2024-12-02T00:12:23.228Z"
   },
   {
    "duration": 15,
    "start_time": "2024-12-02T00:12:23.250Z"
   },
   {
    "duration": 36,
    "start_time": "2024-12-02T00:12:23.267Z"
   },
   {
    "duration": 4,
    "start_time": "2024-12-02T00:12:23.306Z"
   },
   {
    "duration": 5,
    "start_time": "2024-12-02T00:12:23.312Z"
   },
   {
    "duration": 4,
    "start_time": "2024-12-02T00:12:23.319Z"
   },
   {
    "duration": 5,
    "start_time": "2024-12-02T00:12:23.325Z"
   },
   {
    "duration": 2,
    "start_time": "2024-12-02T00:12:23.334Z"
   },
   {
    "duration": 5,
    "start_time": "2024-12-02T00:12:23.338Z"
   },
   {
    "duration": 53,
    "start_time": "2024-12-02T00:12:23.344Z"
   },
   {
    "duration": 3,
    "start_time": "2024-12-02T00:12:23.399Z"
   },
   {
    "duration": 10,
    "start_time": "2024-12-02T00:12:23.404Z"
   },
   {
    "duration": 3,
    "start_time": "2024-12-02T00:12:23.415Z"
   },
   {
    "duration": 114,
    "start_time": "2024-12-02T00:12:23.419Z"
   },
   {
    "duration": 3,
    "start_time": "2024-12-02T00:12:23.535Z"
   },
   {
    "duration": 15,
    "start_time": "2024-12-02T00:12:23.540Z"
   },
   {
    "duration": 7,
    "start_time": "2024-12-02T00:12:23.557Z"
   },
   {
    "duration": 15,
    "start_time": "2024-12-02T00:12:23.586Z"
   },
   {
    "duration": 15,
    "start_time": "2024-12-02T00:12:23.603Z"
   },
   {
    "duration": 3,
    "start_time": "2024-12-02T00:12:23.620Z"
   },
   {
    "duration": 3,
    "start_time": "2024-12-02T00:12:23.624Z"
   },
   {
    "duration": 5,
    "start_time": "2024-12-02T00:12:23.629Z"
   },
   {
    "duration": 3,
    "start_time": "2024-12-02T00:12:23.636Z"
   },
   {
    "duration": 4,
    "start_time": "2024-12-02T00:12:23.640Z"
   },
   {
    "duration": 43,
    "start_time": "2024-12-02T00:12:23.645Z"
   },
   {
    "duration": 2,
    "start_time": "2024-12-02T00:12:23.692Z"
   },
   {
    "duration": 8,
    "start_time": "2024-12-02T00:12:23.696Z"
   },
   {
    "duration": 384,
    "start_time": "2024-12-02T00:12:23.705Z"
   },
   {
    "duration": 1012,
    "start_time": "2024-12-02T00:13:40.291Z"
   },
   {
    "duration": 501,
    "start_time": "2024-12-02T00:13:41.304Z"
   },
   {
    "duration": 19,
    "start_time": "2024-12-02T00:13:41.807Z"
   },
   {
    "duration": 18,
    "start_time": "2024-12-02T00:13:41.828Z"
   },
   {
    "duration": 20,
    "start_time": "2024-12-02T00:13:41.847Z"
   },
   {
    "duration": 4,
    "start_time": "2024-12-02T00:13:41.887Z"
   },
   {
    "duration": 5,
    "start_time": "2024-12-02T00:13:41.893Z"
   },
   {
    "duration": 4,
    "start_time": "2024-12-02T00:13:41.899Z"
   },
   {
    "duration": 5,
    "start_time": "2024-12-02T00:13:41.904Z"
   },
   {
    "duration": 2,
    "start_time": "2024-12-02T00:13:41.912Z"
   },
   {
    "duration": 4,
    "start_time": "2024-12-02T00:13:41.916Z"
   },
   {
    "duration": 14,
    "start_time": "2024-12-02T00:13:41.921Z"
   },
   {
    "duration": 3,
    "start_time": "2024-12-02T00:13:41.937Z"
   },
   {
    "duration": 54,
    "start_time": "2024-12-02T00:13:41.941Z"
   },
   {
    "duration": 2,
    "start_time": "2024-12-02T00:13:41.997Z"
   },
   {
    "duration": 102,
    "start_time": "2024-12-02T00:13:42.000Z"
   },
   {
    "duration": 3,
    "start_time": "2024-12-02T00:13:42.104Z"
   },
   {
    "duration": 18,
    "start_time": "2024-12-02T00:13:42.108Z"
   },
   {
    "duration": 7,
    "start_time": "2024-12-02T00:13:42.127Z"
   },
   {
    "duration": 13,
    "start_time": "2024-12-02T00:13:42.135Z"
   },
   {
    "duration": 41,
    "start_time": "2024-12-02T00:13:42.150Z"
   },
   {
    "duration": 3,
    "start_time": "2024-12-02T00:13:42.193Z"
   },
   {
    "duration": 3,
    "start_time": "2024-12-02T00:13:42.197Z"
   },
   {
    "duration": 4,
    "start_time": "2024-12-02T00:13:42.202Z"
   },
   {
    "duration": 4,
    "start_time": "2024-12-02T00:13:42.207Z"
   },
   {
    "duration": 3,
    "start_time": "2024-12-02T00:13:42.213Z"
   },
   {
    "duration": 2,
    "start_time": "2024-12-02T00:13:42.218Z"
   },
   {
    "duration": 2,
    "start_time": "2024-12-02T00:13:42.224Z"
   },
   {
    "duration": 9,
    "start_time": "2024-12-02T00:13:42.228Z"
   },
   {
    "duration": 980,
    "start_time": "2024-12-02T00:18:12.241Z"
   },
   {
    "duration": 510,
    "start_time": "2024-12-02T00:18:13.223Z"
   },
   {
    "duration": 19,
    "start_time": "2024-12-02T00:18:13.735Z"
   },
   {
    "duration": 16,
    "start_time": "2024-12-02T00:18:13.756Z"
   },
   {
    "duration": 19,
    "start_time": "2024-12-02T00:18:13.787Z"
   },
   {
    "duration": 4,
    "start_time": "2024-12-02T00:18:13.809Z"
   },
   {
    "duration": 5,
    "start_time": "2024-12-02T00:18:13.815Z"
   },
   {
    "duration": 3,
    "start_time": "2024-12-02T00:18:13.821Z"
   },
   {
    "duration": 4,
    "start_time": "2024-12-02T00:18:13.826Z"
   },
   {
    "duration": 3,
    "start_time": "2024-12-02T00:18:13.833Z"
   },
   {
    "duration": 4,
    "start_time": "2024-12-02T00:18:13.837Z"
   },
   {
    "duration": 53,
    "start_time": "2024-12-02T00:18:13.843Z"
   },
   {
    "duration": 3,
    "start_time": "2024-12-02T00:18:13.898Z"
   },
   {
    "duration": 10,
    "start_time": "2024-12-02T00:18:13.902Z"
   },
   {
    "duration": 2,
    "start_time": "2024-12-02T00:18:13.914Z"
   },
   {
    "duration": 113,
    "start_time": "2024-12-02T00:18:13.918Z"
   },
   {
    "duration": 2,
    "start_time": "2024-12-02T00:18:14.033Z"
   },
   {
    "duration": 16,
    "start_time": "2024-12-02T00:18:14.037Z"
   },
   {
    "duration": 7,
    "start_time": "2024-12-02T00:18:14.055Z"
   },
   {
    "duration": 29,
    "start_time": "2024-12-02T00:18:14.064Z"
   },
   {
    "duration": 16,
    "start_time": "2024-12-02T00:18:14.095Z"
   },
   {
    "duration": 3,
    "start_time": "2024-12-02T00:18:14.112Z"
   },
   {
    "duration": 3,
    "start_time": "2024-12-02T00:18:14.116Z"
   },
   {
    "duration": 5,
    "start_time": "2024-12-02T00:18:14.120Z"
   },
   {
    "duration": 3,
    "start_time": "2024-12-02T00:18:14.127Z"
   },
   {
    "duration": 3,
    "start_time": "2024-12-02T00:18:14.132Z"
   },
   {
    "duration": 3,
    "start_time": "2024-12-02T00:18:14.137Z"
   },
   {
    "duration": 4,
    "start_time": "2024-12-02T00:18:14.188Z"
   },
   {
    "duration": 5,
    "start_time": "2024-12-02T00:18:14.194Z"
   },
   {
    "duration": 2,
    "start_time": "2024-12-02T00:18:14.201Z"
   },
   {
    "duration": 100,
    "start_time": "2024-12-02T00:18:21.781Z"
   },
   {
    "duration": 2624,
    "start_time": "2024-12-02T04:33:38.389Z"
   },
   {
    "duration": 622,
    "start_time": "2024-12-02T04:33:41.015Z"
   },
   {
    "duration": 19,
    "start_time": "2024-12-02T04:33:41.639Z"
   },
   {
    "duration": 16,
    "start_time": "2024-12-02T04:33:41.660Z"
   },
   {
    "duration": 20,
    "start_time": "2024-12-02T04:33:41.678Z"
   },
   {
    "duration": 25,
    "start_time": "2024-12-02T04:33:41.700Z"
   },
   {
    "duration": 6,
    "start_time": "2024-12-02T04:33:41.727Z"
   },
   {
    "duration": 4,
    "start_time": "2024-12-02T04:33:41.734Z"
   },
   {
    "duration": 5,
    "start_time": "2024-12-02T04:33:41.740Z"
   },
   {
    "duration": 2,
    "start_time": "2024-12-02T04:33:41.749Z"
   },
   {
    "duration": 4,
    "start_time": "2024-12-02T04:33:41.753Z"
   },
   {
    "duration": 14,
    "start_time": "2024-12-02T04:33:41.759Z"
   },
   {
    "duration": 3,
    "start_time": "2024-12-02T04:33:41.774Z"
   },
   {
    "duration": 50,
    "start_time": "2024-12-02T04:33:41.778Z"
   },
   {
    "duration": 2,
    "start_time": "2024-12-02T04:33:41.830Z"
   },
   {
    "duration": 99,
    "start_time": "2024-12-02T04:33:41.834Z"
   },
   {
    "duration": 3,
    "start_time": "2024-12-02T04:33:41.934Z"
   },
   {
    "duration": 17,
    "start_time": "2024-12-02T04:33:41.938Z"
   },
   {
    "duration": 7,
    "start_time": "2024-12-02T04:33:41.956Z"
   },
   {
    "duration": 13,
    "start_time": "2024-12-02T04:33:41.964Z"
   },
   {
    "duration": 14,
    "start_time": "2024-12-02T04:33:41.979Z"
   },
   {
    "duration": 30,
    "start_time": "2024-12-02T04:33:41.995Z"
   },
   {
    "duration": 3,
    "start_time": "2024-12-02T04:33:42.027Z"
   },
   {
    "duration": 5,
    "start_time": "2024-12-02T04:33:42.031Z"
   },
   {
    "duration": 4,
    "start_time": "2024-12-02T04:33:42.038Z"
   },
   {
    "duration": 4,
    "start_time": "2024-12-02T04:33:42.044Z"
   },
   {
    "duration": 3,
    "start_time": "2024-12-02T04:33:42.049Z"
   },
   {
    "duration": 6,
    "start_time": "2024-12-02T04:33:42.056Z"
   },
   {
    "duration": 136,
    "start_time": "2024-12-02T04:33:42.063Z"
   },
   {
    "duration": 6,
    "start_time": "2024-12-02T04:36:08.380Z"
   },
   {
    "duration": 2,
    "start_time": "2024-12-02T04:39:54.484Z"
   },
   {
    "duration": 274,
    "start_time": "2024-12-02T04:41:23.245Z"
   },
   {
    "duration": 23,
    "start_time": "2024-12-02T04:42:13.004Z"
   },
   {
    "duration": 4,
    "start_time": "2024-12-02T04:42:22.516Z"
   },
   {
    "duration": 7,
    "start_time": "2024-12-02T04:42:23.287Z"
   },
   {
    "duration": 5,
    "start_time": "2024-12-02T04:42:37.745Z"
   },
   {
    "duration": 161,
    "start_time": "2024-12-02T04:42:56.539Z"
   },
   {
    "duration": 94,
    "start_time": "2024-12-02T04:43:09.178Z"
   },
   {
    "duration": 6,
    "start_time": "2024-12-02T04:44:44.954Z"
   },
   {
    "duration": 9,
    "start_time": "2024-12-02T04:46:21.399Z"
   },
   {
    "duration": 9,
    "start_time": "2024-12-02T04:46:34.636Z"
   },
   {
    "duration": 976,
    "start_time": "2024-12-02T04:46:46.765Z"
   },
   {
    "duration": 508,
    "start_time": "2024-12-02T04:46:47.743Z"
   },
   {
    "duration": 19,
    "start_time": "2024-12-02T04:46:48.252Z"
   },
   {
    "duration": 16,
    "start_time": "2024-12-02T04:46:48.274Z"
   },
   {
    "duration": 38,
    "start_time": "2024-12-02T04:46:48.291Z"
   },
   {
    "duration": 4,
    "start_time": "2024-12-02T04:46:48.330Z"
   },
   {
    "duration": 4,
    "start_time": "2024-12-02T04:46:48.336Z"
   },
   {
    "duration": 4,
    "start_time": "2024-12-02T04:46:48.341Z"
   },
   {
    "duration": 4,
    "start_time": "2024-12-02T04:46:48.347Z"
   },
   {
    "duration": 3,
    "start_time": "2024-12-02T04:46:48.354Z"
   },
   {
    "duration": 5,
    "start_time": "2024-12-02T04:46:48.358Z"
   },
   {
    "duration": 13,
    "start_time": "2024-12-02T04:46:48.364Z"
   },
   {
    "duration": 2,
    "start_time": "2024-12-02T04:46:48.379Z"
   },
   {
    "duration": 52,
    "start_time": "2024-12-02T04:46:48.383Z"
   },
   {
    "duration": 2,
    "start_time": "2024-12-02T04:46:48.437Z"
   },
   {
    "duration": 108,
    "start_time": "2024-12-02T04:46:48.441Z"
   },
   {
    "duration": 2,
    "start_time": "2024-12-02T04:46:48.551Z"
   },
   {
    "duration": 15,
    "start_time": "2024-12-02T04:46:48.555Z"
   },
   {
    "duration": 8,
    "start_time": "2024-12-02T04:46:48.571Z"
   },
   {
    "duration": 11,
    "start_time": "2024-12-02T04:46:48.581Z"
   },
   {
    "duration": 39,
    "start_time": "2024-12-02T04:46:48.594Z"
   },
   {
    "duration": 3,
    "start_time": "2024-12-02T04:46:48.634Z"
   },
   {
    "duration": 3,
    "start_time": "2024-12-02T04:46:48.639Z"
   },
   {
    "duration": 6,
    "start_time": "2024-12-02T04:46:48.644Z"
   },
   {
    "duration": 3,
    "start_time": "2024-12-02T04:46:48.651Z"
   },
   {
    "duration": 3,
    "start_time": "2024-12-02T04:46:48.656Z"
   },
   {
    "duration": 2,
    "start_time": "2024-12-02T04:46:48.662Z"
   },
   {
    "duration": 7,
    "start_time": "2024-12-02T04:46:48.667Z"
   },
   {
    "duration": 7,
    "start_time": "2024-12-02T04:46:48.676Z"
   },
   {
    "duration": 8,
    "start_time": "2024-12-02T04:46:48.724Z"
   },
   {
    "duration": 112,
    "start_time": "2024-12-02T04:46:48.733Z"
   },
   {
    "duration": 8,
    "start_time": "2024-12-02T04:47:56.119Z"
   },
   {
    "duration": 979,
    "start_time": "2024-12-02T04:48:49.542Z"
   },
   {
    "duration": 473,
    "start_time": "2024-12-02T04:48:50.523Z"
   },
   {
    "duration": 26,
    "start_time": "2024-12-02T04:48:50.998Z"
   },
   {
    "duration": 16,
    "start_time": "2024-12-02T04:48:51.027Z"
   },
   {
    "duration": 18,
    "start_time": "2024-12-02T04:48:51.045Z"
   },
   {
    "duration": 4,
    "start_time": "2024-12-02T04:48:51.065Z"
   },
   {
    "duration": 4,
    "start_time": "2024-12-02T04:48:51.070Z"
   },
   {
    "duration": 3,
    "start_time": "2024-12-02T04:48:51.076Z"
   },
   {
    "duration": 4,
    "start_time": "2024-12-02T04:48:51.081Z"
   },
   {
    "duration": 2,
    "start_time": "2024-12-02T04:48:51.125Z"
   },
   {
    "duration": 4,
    "start_time": "2024-12-02T04:48:51.129Z"
   },
   {
    "duration": 13,
    "start_time": "2024-12-02T04:48:51.134Z"
   },
   {
    "duration": 2,
    "start_time": "2024-12-02T04:48:51.149Z"
   },
   {
    "duration": 10,
    "start_time": "2024-12-02T04:48:51.153Z"
   },
   {
    "duration": 2,
    "start_time": "2024-12-02T04:48:51.165Z"
   },
   {
    "duration": 120,
    "start_time": "2024-12-02T04:48:51.168Z"
   },
   {
    "duration": 2,
    "start_time": "2024-12-02T04:48:51.290Z"
   },
   {
    "duration": 29,
    "start_time": "2024-12-02T04:48:51.294Z"
   },
   {
    "duration": 7,
    "start_time": "2024-12-02T04:48:51.325Z"
   },
   {
    "duration": 13,
    "start_time": "2024-12-02T04:48:51.333Z"
   },
   {
    "duration": 15,
    "start_time": "2024-12-02T04:48:51.348Z"
   },
   {
    "duration": 2,
    "start_time": "2024-12-02T04:48:51.365Z"
   },
   {
    "duration": 3,
    "start_time": "2024-12-02T04:48:51.369Z"
   },
   {
    "duration": 6,
    "start_time": "2024-12-02T04:48:51.373Z"
   },
   {
    "duration": 2,
    "start_time": "2024-12-02T04:48:51.381Z"
   },
   {
    "duration": 44,
    "start_time": "2024-12-02T04:48:51.384Z"
   },
   {
    "duration": 8,
    "start_time": "2024-12-02T04:48:51.430Z"
   },
   {
    "duration": 8,
    "start_time": "2024-12-02T04:48:51.441Z"
   },
   {
    "duration": 124,
    "start_time": "2024-12-02T04:48:51.450Z"
   },
   {
    "duration": 7,
    "start_time": "2024-12-02T04:52:14.904Z"
   },
   {
    "duration": 955,
    "start_time": "2024-12-02T04:52:28.072Z"
   },
   {
    "duration": 508,
    "start_time": "2024-12-02T04:52:29.029Z"
   },
   {
    "duration": 20,
    "start_time": "2024-12-02T04:52:29.539Z"
   },
   {
    "duration": 17,
    "start_time": "2024-12-02T04:52:29.561Z"
   },
   {
    "duration": 18,
    "start_time": "2024-12-02T04:52:29.580Z"
   },
   {
    "duration": 25,
    "start_time": "2024-12-02T04:52:29.600Z"
   },
   {
    "duration": 4,
    "start_time": "2024-12-02T04:52:29.627Z"
   },
   {
    "duration": 4,
    "start_time": "2024-12-02T04:52:29.632Z"
   },
   {
    "duration": 5,
    "start_time": "2024-12-02T04:52:29.637Z"
   },
   {
    "duration": 2,
    "start_time": "2024-12-02T04:52:29.645Z"
   },
   {
    "duration": 4,
    "start_time": "2024-12-02T04:52:29.649Z"
   },
   {
    "duration": 12,
    "start_time": "2024-12-02T04:52:29.655Z"
   },
   {
    "duration": 2,
    "start_time": "2024-12-02T04:52:29.669Z"
   },
   {
    "duration": 51,
    "start_time": "2024-12-02T04:52:29.673Z"
   },
   {
    "duration": 2,
    "start_time": "2024-12-02T04:52:29.726Z"
   },
   {
    "duration": 100,
    "start_time": "2024-12-02T04:52:29.730Z"
   },
   {
    "duration": 2,
    "start_time": "2024-12-02T04:52:29.833Z"
   },
   {
    "duration": 16,
    "start_time": "2024-12-02T04:52:29.837Z"
   },
   {
    "duration": 6,
    "start_time": "2024-12-02T04:52:29.855Z"
   },
   {
    "duration": 12,
    "start_time": "2024-12-02T04:52:29.863Z"
   },
   {
    "duration": 16,
    "start_time": "2024-12-02T04:52:29.876Z"
   },
   {
    "duration": 31,
    "start_time": "2024-12-02T04:52:29.893Z"
   },
   {
    "duration": 3,
    "start_time": "2024-12-02T04:52:29.925Z"
   },
   {
    "duration": 5,
    "start_time": "2024-12-02T04:52:29.930Z"
   },
   {
    "duration": 234,
    "start_time": "2024-12-02T04:52:29.936Z"
   },
   {
    "duration": 0,
    "start_time": "2024-12-02T04:52:30.172Z"
   },
   {
    "duration": 0,
    "start_time": "2024-12-02T04:52:30.172Z"
   },
   {
    "duration": 0,
    "start_time": "2024-12-02T04:52:30.174Z"
   },
   {
    "duration": 4,
    "start_time": "2024-12-02T04:53:14.574Z"
   },
   {
    "duration": 6,
    "start_time": "2024-12-02T04:54:07.048Z"
   },
   {
    "duration": 7,
    "start_time": "2024-12-02T04:54:11.716Z"
   },
   {
    "duration": 8,
    "start_time": "2024-12-02T04:54:35.959Z"
   },
   {
    "duration": 957,
    "start_time": "2024-12-02T04:55:27.583Z"
   },
   {
    "duration": 485,
    "start_time": "2024-12-02T04:55:28.542Z"
   },
   {
    "duration": 19,
    "start_time": "2024-12-02T04:55:29.029Z"
   },
   {
    "duration": 16,
    "start_time": "2024-12-02T04:55:29.050Z"
   },
   {
    "duration": 19,
    "start_time": "2024-12-02T04:55:29.067Z"
   },
   {
    "duration": 4,
    "start_time": "2024-12-02T04:55:29.088Z"
   },
   {
    "duration": 32,
    "start_time": "2024-12-02T04:55:29.094Z"
   },
   {
    "duration": 4,
    "start_time": "2024-12-02T04:55:29.128Z"
   },
   {
    "duration": 4,
    "start_time": "2024-12-02T04:55:29.134Z"
   },
   {
    "duration": 3,
    "start_time": "2024-12-02T04:55:29.142Z"
   },
   {
    "duration": 5,
    "start_time": "2024-12-02T04:55:29.146Z"
   },
   {
    "duration": 13,
    "start_time": "2024-12-02T04:55:29.152Z"
   },
   {
    "duration": 3,
    "start_time": "2024-12-02T04:55:29.167Z"
   },
   {
    "duration": 10,
    "start_time": "2024-12-02T04:55:29.172Z"
   },
   {
    "duration": 40,
    "start_time": "2024-12-02T04:55:29.184Z"
   },
   {
    "duration": 90,
    "start_time": "2024-12-02T04:55:29.226Z"
   },
   {
    "duration": 3,
    "start_time": "2024-12-02T04:55:29.324Z"
   },
   {
    "duration": 15,
    "start_time": "2024-12-02T04:55:29.329Z"
   },
   {
    "duration": 6,
    "start_time": "2024-12-02T04:55:29.346Z"
   },
   {
    "duration": 12,
    "start_time": "2024-12-02T04:55:29.354Z"
   },
   {
    "duration": 22,
    "start_time": "2024-12-02T04:55:29.368Z"
   },
   {
    "duration": 5,
    "start_time": "2024-12-02T04:55:29.392Z"
   },
   {
    "duration": 3,
    "start_time": "2024-12-02T04:55:29.423Z"
   },
   {
    "duration": 6,
    "start_time": "2024-12-02T04:55:29.428Z"
   },
   {
    "duration": 8,
    "start_time": "2024-12-02T04:55:29.435Z"
   },
   {
    "duration": 8,
    "start_time": "2024-12-02T04:55:29.445Z"
   },
   {
    "duration": 243,
    "start_time": "2024-12-02T04:55:29.454Z"
   },
   {
    "duration": 0,
    "start_time": "2024-12-02T04:55:29.699Z"
   },
   {
    "duration": 5,
    "start_time": "2024-12-02T04:56:03.602Z"
   },
   {
    "duration": 7,
    "start_time": "2024-12-02T04:56:26.437Z"
   },
   {
    "duration": 8,
    "start_time": "2024-12-02T04:57:03.362Z"
   },
   {
    "duration": 930,
    "start_time": "2024-12-02T04:57:18.908Z"
   },
   {
    "duration": 481,
    "start_time": "2024-12-02T04:57:19.840Z"
   },
   {
    "duration": 19,
    "start_time": "2024-12-02T04:57:20.322Z"
   },
   {
    "duration": 16,
    "start_time": "2024-12-02T04:57:20.344Z"
   },
   {
    "duration": 18,
    "start_time": "2024-12-02T04:57:20.362Z"
   },
   {
    "duration": 4,
    "start_time": "2024-12-02T04:57:20.382Z"
   },
   {
    "duration": 4,
    "start_time": "2024-12-02T04:57:20.387Z"
   },
   {
    "duration": 32,
    "start_time": "2024-12-02T04:57:20.392Z"
   },
   {
    "duration": 4,
    "start_time": "2024-12-02T04:57:20.426Z"
   },
   {
    "duration": 2,
    "start_time": "2024-12-02T04:57:20.433Z"
   },
   {
    "duration": 4,
    "start_time": "2024-12-02T04:57:20.437Z"
   },
   {
    "duration": 13,
    "start_time": "2024-12-02T04:57:20.443Z"
   },
   {
    "duration": 3,
    "start_time": "2024-12-02T04:57:20.457Z"
   },
   {
    "duration": 9,
    "start_time": "2024-12-02T04:57:20.462Z"
   },
   {
    "duration": 2,
    "start_time": "2024-12-02T04:57:20.474Z"
   },
   {
    "duration": 124,
    "start_time": "2024-12-02T04:57:20.477Z"
   },
   {
    "duration": 3,
    "start_time": "2024-12-02T04:57:20.603Z"
   },
   {
    "duration": 16,
    "start_time": "2024-12-02T04:57:20.623Z"
   },
   {
    "duration": 7,
    "start_time": "2024-12-02T04:57:20.640Z"
   },
   {
    "duration": 13,
    "start_time": "2024-12-02T04:57:20.649Z"
   },
   {
    "duration": 14,
    "start_time": "2024-12-02T04:57:20.664Z"
   },
   {
    "duration": 3,
    "start_time": "2024-12-02T04:57:20.679Z"
   },
   {
    "duration": 3,
    "start_time": "2024-12-02T04:57:20.683Z"
   },
   {
    "duration": 38,
    "start_time": "2024-12-02T04:57:20.687Z"
   },
   {
    "duration": 6,
    "start_time": "2024-12-02T04:57:20.727Z"
   },
   {
    "duration": 6,
    "start_time": "2024-12-02T04:57:20.735Z"
   },
   {
    "duration": 7,
    "start_time": "2024-12-02T04:57:20.743Z"
   },
   {
    "duration": 123,
    "start_time": "2024-12-02T04:57:20.754Z"
   },
   {
    "duration": 163,
    "start_time": "2024-12-02T04:58:02.262Z"
   },
   {
    "duration": 934,
    "start_time": "2024-12-02T04:59:00.595Z"
   },
   {
    "duration": 496,
    "start_time": "2024-12-02T04:59:01.531Z"
   },
   {
    "duration": 19,
    "start_time": "2024-12-02T04:59:02.029Z"
   },
   {
    "duration": 16,
    "start_time": "2024-12-02T04:59:02.051Z"
   },
   {
    "duration": 19,
    "start_time": "2024-12-02T04:59:02.068Z"
   },
   {
    "duration": 3,
    "start_time": "2024-12-02T04:59:02.088Z"
   },
   {
    "duration": 31,
    "start_time": "2024-12-02T04:59:02.093Z"
   },
   {
    "duration": 4,
    "start_time": "2024-12-02T04:59:02.125Z"
   },
   {
    "duration": 4,
    "start_time": "2024-12-02T04:59:02.131Z"
   },
   {
    "duration": 2,
    "start_time": "2024-12-02T04:59:02.139Z"
   },
   {
    "duration": 4,
    "start_time": "2024-12-02T04:59:02.143Z"
   },
   {
    "duration": 13,
    "start_time": "2024-12-02T04:59:02.149Z"
   },
   {
    "duration": 3,
    "start_time": "2024-12-02T04:59:02.164Z"
   },
   {
    "duration": 10,
    "start_time": "2024-12-02T04:59:02.169Z"
   },
   {
    "duration": 45,
    "start_time": "2024-12-02T04:59:02.180Z"
   },
   {
    "duration": 89,
    "start_time": "2024-12-02T04:59:02.226Z"
   },
   {
    "duration": 2,
    "start_time": "2024-12-02T04:59:02.325Z"
   },
   {
    "duration": 16,
    "start_time": "2024-12-02T04:59:02.329Z"
   },
   {
    "duration": 7,
    "start_time": "2024-12-02T04:59:02.346Z"
   },
   {
    "duration": 13,
    "start_time": "2024-12-02T04:59:02.354Z"
   },
   {
    "duration": 14,
    "start_time": "2024-12-02T04:59:02.369Z"
   },
   {
    "duration": 3,
    "start_time": "2024-12-02T04:59:02.385Z"
   },
   {
    "duration": 2,
    "start_time": "2024-12-02T04:59:02.424Z"
   },
   {
    "duration": 5,
    "start_time": "2024-12-02T04:59:02.428Z"
   },
   {
    "duration": 113,
    "start_time": "2024-12-02T04:59:02.435Z"
   },
   {
    "duration": 118,
    "start_time": "2024-12-02T04:59:02.550Z"
   },
   {
    "duration": 106,
    "start_time": "2024-12-02T04:59:02.670Z"
   },
   {
    "duration": 102,
    "start_time": "2024-12-02T04:59:02.779Z"
   },
   {
    "duration": 148,
    "start_time": "2024-12-02T04:59:47.853Z"
   },
   {
    "duration": 951,
    "start_time": "2024-12-02T04:59:57.407Z"
   },
   {
    "duration": 495,
    "start_time": "2024-12-02T04:59:58.360Z"
   },
   {
    "duration": 20,
    "start_time": "2024-12-02T04:59:58.856Z"
   },
   {
    "duration": 17,
    "start_time": "2024-12-02T04:59:58.877Z"
   },
   {
    "duration": 35,
    "start_time": "2024-12-02T04:59:58.896Z"
   },
   {
    "duration": 4,
    "start_time": "2024-12-02T04:59:58.932Z"
   },
   {
    "duration": 5,
    "start_time": "2024-12-02T04:59:58.937Z"
   },
   {
    "duration": 3,
    "start_time": "2024-12-02T04:59:58.944Z"
   },
   {
    "duration": 4,
    "start_time": "2024-12-02T04:59:58.949Z"
   },
   {
    "duration": 3,
    "start_time": "2024-12-02T04:59:58.954Z"
   },
   {
    "duration": 4,
    "start_time": "2024-12-02T04:59:58.959Z"
   },
   {
    "duration": 13,
    "start_time": "2024-12-02T04:59:58.965Z"
   },
   {
    "duration": 44,
    "start_time": "2024-12-02T04:59:58.980Z"
   },
   {
    "duration": 9,
    "start_time": "2024-12-02T04:59:59.027Z"
   },
   {
    "duration": 2,
    "start_time": "2024-12-02T04:59:59.038Z"
   },
   {
    "duration": 105,
    "start_time": "2024-12-02T04:59:59.042Z"
   },
   {
    "duration": 2,
    "start_time": "2024-12-02T04:59:59.149Z"
   },
   {
    "duration": 16,
    "start_time": "2024-12-02T04:59:59.153Z"
   },
   {
    "duration": 7,
    "start_time": "2024-12-02T04:59:59.170Z"
   },
   {
    "duration": 14,
    "start_time": "2024-12-02T04:59:59.178Z"
   },
   {
    "duration": 38,
    "start_time": "2024-12-02T04:59:59.193Z"
   },
   {
    "duration": 2,
    "start_time": "2024-12-02T04:59:59.234Z"
   },
   {
    "duration": 3,
    "start_time": "2024-12-02T04:59:59.237Z"
   },
   {
    "duration": 5,
    "start_time": "2024-12-02T04:59:59.242Z"
   },
   {
    "duration": 130,
    "start_time": "2024-12-02T04:59:59.249Z"
   },
   {
    "duration": 114,
    "start_time": "2024-12-02T04:59:59.380Z"
   },
   {
    "duration": 97,
    "start_time": "2024-12-02T04:59:59.496Z"
   },
   {
    "duration": 949,
    "start_time": "2024-12-02T05:00:42.785Z"
   },
   {
    "duration": 513,
    "start_time": "2024-12-02T05:00:43.736Z"
   },
   {
    "duration": 19,
    "start_time": "2024-12-02T05:00:44.251Z"
   },
   {
    "duration": 16,
    "start_time": "2024-12-02T05:00:44.272Z"
   },
   {
    "duration": 40,
    "start_time": "2024-12-02T05:00:44.291Z"
   },
   {
    "duration": 3,
    "start_time": "2024-12-02T05:00:44.333Z"
   },
   {
    "duration": 4,
    "start_time": "2024-12-02T05:00:44.338Z"
   },
   {
    "duration": 4,
    "start_time": "2024-12-02T05:00:44.344Z"
   },
   {
    "duration": 4,
    "start_time": "2024-12-02T05:00:44.350Z"
   },
   {
    "duration": 3,
    "start_time": "2024-12-02T05:00:44.356Z"
   },
   {
    "duration": 4,
    "start_time": "2024-12-02T05:00:44.361Z"
   },
   {
    "duration": 13,
    "start_time": "2024-12-02T05:00:44.366Z"
   },
   {
    "duration": 44,
    "start_time": "2024-12-02T05:00:44.381Z"
   },
   {
    "duration": 10,
    "start_time": "2024-12-02T05:00:44.429Z"
   },
   {
    "duration": 2,
    "start_time": "2024-12-02T05:00:44.440Z"
   },
   {
    "duration": 109,
    "start_time": "2024-12-02T05:00:44.444Z"
   },
   {
    "duration": 3,
    "start_time": "2024-12-02T05:00:44.554Z"
   },
   {
    "duration": 16,
    "start_time": "2024-12-02T05:00:44.559Z"
   },
   {
    "duration": 7,
    "start_time": "2024-12-02T05:00:44.577Z"
   },
   {
    "duration": 13,
    "start_time": "2024-12-02T05:00:44.585Z"
   },
   {
    "duration": 15,
    "start_time": "2024-12-02T05:00:44.625Z"
   },
   {
    "duration": 3,
    "start_time": "2024-12-02T05:00:44.641Z"
   },
   {
    "duration": 3,
    "start_time": "2024-12-02T05:00:44.645Z"
   },
   {
    "duration": 6,
    "start_time": "2024-12-02T05:00:44.649Z"
   },
   {
    "duration": 125,
    "start_time": "2024-12-02T05:00:44.657Z"
   },
   {
    "duration": 120,
    "start_time": "2024-12-02T05:00:44.784Z"
   },
   {
    "duration": 103,
    "start_time": "2024-12-02T05:00:44.905Z"
   },
   {
    "duration": 2740,
    "start_time": "2024-12-02T19:28:15.143Z"
   },
   {
    "duration": 591,
    "start_time": "2024-12-02T19:28:19.174Z"
   },
   {
    "duration": 20,
    "start_time": "2024-12-02T19:28:20.762Z"
   },
   {
    "duration": 17,
    "start_time": "2024-12-02T19:28:21.386Z"
   },
   {
    "duration": 20,
    "start_time": "2024-12-02T19:28:23.058Z"
   },
   {
    "duration": 4,
    "start_time": "2024-12-02T19:28:24.979Z"
   },
   {
    "duration": 4,
    "start_time": "2024-12-02T19:28:26.973Z"
   },
   {
    "duration": 4,
    "start_time": "2024-12-02T19:28:27.968Z"
   },
   {
    "duration": 6,
    "start_time": "2024-12-02T19:28:29.715Z"
   },
   {
    "duration": 3,
    "start_time": "2024-12-02T19:28:33.614Z"
   },
   {
    "duration": 4,
    "start_time": "2024-12-02T19:28:35.471Z"
   },
   {
    "duration": 14,
    "start_time": "2024-12-02T19:28:42.910Z"
   },
   {
    "duration": 3,
    "start_time": "2024-12-02T19:28:47.033Z"
   },
   {
    "duration": 9,
    "start_time": "2024-12-02T19:28:48.228Z"
   },
   {
    "duration": 7,
    "start_time": "2024-12-02T19:28:50.910Z"
   },
   {
    "duration": 10,
    "start_time": "2024-12-02T19:28:54.388Z"
   },
   {
    "duration": 2,
    "start_time": "2024-12-02T19:30:51.974Z"
   },
   {
    "duration": 60,
    "start_time": "2024-12-02T19:30:52.901Z"
   },
   {
    "duration": 18,
    "start_time": "2024-12-02T19:30:53.852Z"
   },
   {
    "duration": 84,
    "start_time": "2024-12-02T19:30:54.562Z"
   },
   {
    "duration": 2,
    "start_time": "2024-12-02T19:33:42.586Z"
   },
   {
    "duration": 13,
    "start_time": "2024-12-02T19:33:43.327Z"
   },
   {
    "duration": 7,
    "start_time": "2024-12-02T19:33:45.117Z"
   },
   {
    "duration": 17,
    "start_time": "2024-12-02T19:33:48.899Z"
   },
   {
    "duration": 15,
    "start_time": "2024-12-02T19:35:41.476Z"
   },
   {
    "duration": 9,
    "start_time": "2024-12-02T19:35:49.623Z"
   },
   {
    "duration": 13,
    "start_time": "2024-12-02T19:35:51.195Z"
   },
   {
    "duration": 16,
    "start_time": "2024-12-02T19:35:55.056Z"
   },
   {
    "duration": 7,
    "start_time": "2024-12-02T19:35:58.489Z"
   },
   {
    "duration": 108,
    "start_time": "2024-12-02T19:36:01.422Z"
   },
   {
    "duration": 169,
    "start_time": "2024-12-02T19:36:03.162Z"
   },
   {
    "duration": 100,
    "start_time": "2024-12-02T19:36:05.049Z"
   },
   {
    "duration": 222,
    "start_time": "2024-12-02T19:39:36.957Z"
   },
   {
    "duration": 7,
    "start_time": "2024-12-02T19:39:43.032Z"
   },
   {
    "duration": 4,
    "start_time": "2024-12-02T19:41:27.671Z"
   },
   {
    "duration": 233,
    "start_time": "2024-12-02T19:47:06.242Z"
   },
   {
    "duration": 4,
    "start_time": "2024-12-02T19:47:28.166Z"
   },
   {
    "duration": 22,
    "start_time": "2024-12-02T19:47:36.443Z"
   },
   {
    "duration": 250,
    "start_time": "2024-12-02T19:47:50.069Z"
   },
   {
    "duration": 291,
    "start_time": "2024-12-02T19:48:05.335Z"
   },
   {
    "duration": 4,
    "start_time": "2024-12-02T19:56:02.097Z"
   },
   {
    "duration": 955,
    "start_time": "2024-12-02T19:57:45.393Z"
   },
   {
    "duration": 581,
    "start_time": "2024-12-02T19:57:46.350Z"
   },
   {
    "duration": 20,
    "start_time": "2024-12-02T19:57:46.932Z"
   },
   {
    "duration": 17,
    "start_time": "2024-12-02T19:57:46.954Z"
   },
   {
    "duration": 40,
    "start_time": "2024-12-02T19:57:46.973Z"
   },
   {
    "duration": 4,
    "start_time": "2024-12-02T19:57:47.015Z"
   },
   {
    "duration": 4,
    "start_time": "2024-12-02T19:57:47.021Z"
   },
   {
    "duration": 4,
    "start_time": "2024-12-02T19:57:47.026Z"
   },
   {
    "duration": 4,
    "start_time": "2024-12-02T19:57:47.032Z"
   },
   {
    "duration": 3,
    "start_time": "2024-12-02T19:57:47.040Z"
   },
   {
    "duration": 5,
    "start_time": "2024-12-02T19:57:47.044Z"
   },
   {
    "duration": 13,
    "start_time": "2024-12-02T19:57:47.050Z"
   },
   {
    "duration": 41,
    "start_time": "2024-12-02T19:57:47.064Z"
   },
   {
    "duration": 9,
    "start_time": "2024-12-02T19:57:47.107Z"
   },
   {
    "duration": 6,
    "start_time": "2024-12-02T19:57:47.117Z"
   },
   {
    "duration": 9,
    "start_time": "2024-12-02T19:57:47.124Z"
   },
   {
    "duration": 3,
    "start_time": "2024-12-02T19:57:47.135Z"
   },
   {
    "duration": 92,
    "start_time": "2024-12-02T19:57:47.139Z"
   },
   {
    "duration": 19,
    "start_time": "2024-12-02T19:57:47.233Z"
   },
   {
    "duration": 105,
    "start_time": "2024-12-02T19:57:47.254Z"
   },
   {
    "duration": 3,
    "start_time": "2024-12-02T19:57:47.361Z"
   },
   {
    "duration": 14,
    "start_time": "2024-12-02T19:57:47.366Z"
   },
   {
    "duration": 24,
    "start_time": "2024-12-02T19:57:47.382Z"
   },
   {
    "duration": 16,
    "start_time": "2024-12-02T19:57:47.408Z"
   },
   {
    "duration": 6,
    "start_time": "2024-12-02T19:57:47.426Z"
   },
   {
    "duration": 12,
    "start_time": "2024-12-02T19:57:47.434Z"
   },
   {
    "duration": 14,
    "start_time": "2024-12-02T19:57:47.448Z"
   },
   {
    "duration": 6,
    "start_time": "2024-12-02T19:57:47.467Z"
   },
   {
    "duration": 112,
    "start_time": "2024-12-02T19:57:47.505Z"
   },
   {
    "duration": 122,
    "start_time": "2024-12-02T19:57:47.619Z"
   },
   {
    "duration": 100,
    "start_time": "2024-12-02T19:57:47.743Z"
   },
   {
    "duration": 4,
    "start_time": "2024-12-02T19:57:47.845Z"
   },
   {
    "duration": 2,
    "start_time": "2024-12-02T19:57:47.851Z"
   },
   {
    "duration": 3,
    "start_time": "2024-12-02T19:57:47.855Z"
   },
   {
    "duration": 172,
    "start_time": "2024-12-02T19:57:58.473Z"
   },
   {
    "duration": 5,
    "start_time": "2024-12-02T19:58:44.930Z"
   },
   {
    "duration": 13,
    "start_time": "2024-12-02T19:58:50.335Z"
   },
   {
    "duration": 981,
    "start_time": "2024-12-02T19:59:03.877Z"
   },
   {
    "duration": 637,
    "start_time": "2024-12-02T19:59:04.860Z"
   },
   {
    "duration": 22,
    "start_time": "2024-12-02T19:59:05.500Z"
   },
   {
    "duration": 17,
    "start_time": "2024-12-02T19:59:05.525Z"
   },
   {
    "duration": 19,
    "start_time": "2024-12-02T19:59:05.544Z"
   },
   {
    "duration": 4,
    "start_time": "2024-12-02T19:59:05.564Z"
   },
   {
    "duration": 37,
    "start_time": "2024-12-02T19:59:05.569Z"
   },
   {
    "duration": 4,
    "start_time": "2024-12-02T19:59:05.607Z"
   },
   {
    "duration": 5,
    "start_time": "2024-12-02T19:59:05.613Z"
   },
   {
    "duration": 2,
    "start_time": "2024-12-02T19:59:05.622Z"
   },
   {
    "duration": 4,
    "start_time": "2024-12-02T19:59:05.626Z"
   },
   {
    "duration": 13,
    "start_time": "2024-12-02T19:59:05.631Z"
   },
   {
    "duration": 2,
    "start_time": "2024-12-02T19:59:05.646Z"
   },
   {
    "duration": 9,
    "start_time": "2024-12-02T19:59:05.650Z"
   },
   {
    "duration": 47,
    "start_time": "2024-12-02T19:59:05.661Z"
   },
   {
    "duration": 10,
    "start_time": "2024-12-02T19:59:05.710Z"
   },
   {
    "duration": 2,
    "start_time": "2024-12-02T19:59:05.722Z"
   },
   {
    "duration": 60,
    "start_time": "2024-12-02T19:59:05.726Z"
   },
   {
    "duration": 18,
    "start_time": "2024-12-02T19:59:05.806Z"
   },
   {
    "duration": 99,
    "start_time": "2024-12-02T19:59:05.826Z"
   },
   {
    "duration": 3,
    "start_time": "2024-12-02T19:59:05.927Z"
   },
   {
    "duration": 13,
    "start_time": "2024-12-02T19:59:05.932Z"
   },
   {
    "duration": 8,
    "start_time": "2024-12-02T19:59:05.947Z"
   },
   {
    "duration": 16,
    "start_time": "2024-12-02T19:59:05.957Z"
   },
   {
    "duration": 36,
    "start_time": "2024-12-02T19:59:05.975Z"
   },
   {
    "duration": 14,
    "start_time": "2024-12-02T19:59:06.012Z"
   },
   {
    "duration": 15,
    "start_time": "2024-12-02T19:59:06.028Z"
   },
   {
    "duration": 6,
    "start_time": "2024-12-02T19:59:06.049Z"
   },
   {
    "duration": 137,
    "start_time": "2024-12-02T19:59:06.058Z"
   },
   {
    "duration": 119,
    "start_time": "2024-12-02T19:59:06.197Z"
   },
   {
    "duration": 112,
    "start_time": "2024-12-02T19:59:06.319Z"
   },
   {
    "duration": 5,
    "start_time": "2024-12-02T19:59:06.432Z"
   },
   {
    "duration": 2,
    "start_time": "2024-12-02T19:59:06.439Z"
   },
   {
    "duration": 2,
    "start_time": "2024-12-02T19:59:06.443Z"
   },
   {
    "duration": 737,
    "start_time": "2024-12-02T19:59:06.447Z"
   },
   {
    "duration": 1180,
    "start_time": "2024-12-02T20:08:55.037Z"
   },
   {
    "duration": 1189,
    "start_time": "2024-12-02T20:10:35.119Z"
   },
   {
    "duration": 882,
    "start_time": "2024-12-02T20:10:59.520Z"
   },
   {
    "duration": 634,
    "start_time": "2024-12-02T20:12:49.621Z"
   },
   {
    "duration": 169,
    "start_time": "2024-12-02T20:13:02.403Z"
   },
   {
    "duration": 95,
    "start_time": "2024-12-02T20:13:20.370Z"
   },
   {
    "duration": 201,
    "start_time": "2024-12-02T20:13:34.034Z"
   },
   {
    "duration": 93,
    "start_time": "2024-12-02T20:15:07.797Z"
   },
   {
    "duration": 95,
    "start_time": "2024-12-02T20:15:16.042Z"
   },
   {
    "duration": 105,
    "start_time": "2024-12-02T20:15:30.941Z"
   },
   {
    "duration": 106,
    "start_time": "2024-12-02T20:15:46.977Z"
   },
   {
    "duration": 100,
    "start_time": "2024-12-02T20:15:54.430Z"
   },
   {
    "duration": 98,
    "start_time": "2024-12-02T20:16:00.309Z"
   },
   {
    "duration": 106,
    "start_time": "2024-12-02T20:16:09.585Z"
   },
   {
    "duration": 151,
    "start_time": "2024-12-02T20:22:21.636Z"
   },
   {
    "duration": 6,
    "start_time": "2024-12-02T20:22:46.498Z"
   },
   {
    "duration": 10,
    "start_time": "2024-12-02T20:23:05.793Z"
   },
   {
    "duration": 6,
    "start_time": "2024-12-02T20:23:58.525Z"
   },
   {
    "duration": 6,
    "start_time": "2024-12-02T20:24:17.890Z"
   },
   {
    "duration": 7,
    "start_time": "2024-12-02T20:24:40.290Z"
   },
   {
    "duration": 7,
    "start_time": "2024-12-02T20:24:45.911Z"
   },
   {
    "duration": 6,
    "start_time": "2024-12-02T21:27:50.317Z"
   },
   {
    "duration": 6,
    "start_time": "2024-12-02T21:29:11.988Z"
   },
   {
    "duration": 5,
    "start_time": "2024-12-02T21:30:38.522Z"
   },
   {
    "duration": 1154,
    "start_time": "2024-12-02T21:33:43.519Z"
   },
   {
    "duration": 532,
    "start_time": "2024-12-02T21:33:44.676Z"
   },
   {
    "duration": 28,
    "start_time": "2024-12-02T21:33:45.210Z"
   },
   {
    "duration": 23,
    "start_time": "2024-12-02T21:33:45.241Z"
   },
   {
    "duration": 42,
    "start_time": "2024-12-02T21:33:45.267Z"
   },
   {
    "duration": 7,
    "start_time": "2024-12-02T21:33:45.311Z"
   },
   {
    "duration": 6,
    "start_time": "2024-12-02T21:33:45.320Z"
   },
   {
    "duration": 5,
    "start_time": "2024-12-02T21:33:45.328Z"
   },
   {
    "duration": 5,
    "start_time": "2024-12-02T21:33:45.335Z"
   },
   {
    "duration": 3,
    "start_time": "2024-12-02T21:33:45.342Z"
   },
   {
    "duration": 5,
    "start_time": "2024-12-02T21:33:45.347Z"
   },
   {
    "duration": 53,
    "start_time": "2024-12-02T21:33:45.354Z"
   },
   {
    "duration": 3,
    "start_time": "2024-12-02T21:33:45.409Z"
   },
   {
    "duration": 11,
    "start_time": "2024-12-02T21:33:45.415Z"
   },
   {
    "duration": 8,
    "start_time": "2024-12-02T21:33:45.427Z"
   },
   {
    "duration": 10,
    "start_time": "2024-12-02T21:33:45.436Z"
   },
   {
    "duration": 3,
    "start_time": "2024-12-02T21:33:45.448Z"
   },
   {
    "duration": 102,
    "start_time": "2024-12-02T21:33:45.453Z"
   },
   {
    "duration": 19,
    "start_time": "2024-12-02T21:33:45.557Z"
   },
   {
    "duration": 101,
    "start_time": "2024-12-02T21:33:45.578Z"
   },
   {
    "duration": 3,
    "start_time": "2024-12-02T21:33:45.682Z"
   },
   {
    "duration": 27,
    "start_time": "2024-12-02T21:33:45.686Z"
   },
   {
    "duration": 9,
    "start_time": "2024-12-02T21:33:45.715Z"
   },
   {
    "duration": 21,
    "start_time": "2024-12-02T21:33:45.726Z"
   },
   {
    "duration": 9,
    "start_time": "2024-12-02T21:33:45.749Z"
   },
   {
    "duration": 19,
    "start_time": "2024-12-02T21:33:45.760Z"
   },
   {
    "duration": 22,
    "start_time": "2024-12-02T21:33:45.806Z"
   },
   {
    "duration": 8,
    "start_time": "2024-12-02T21:33:45.831Z"
   },
   {
    "duration": 142,
    "start_time": "2024-12-02T21:33:45.841Z"
   },
   {
    "duration": 126,
    "start_time": "2024-12-02T21:33:45.985Z"
   },
   {
    "duration": 115,
    "start_time": "2024-12-02T21:33:46.113Z"
   },
   {
    "duration": 6,
    "start_time": "2024-12-02T21:33:46.230Z"
   },
   {
    "duration": 4,
    "start_time": "2024-12-02T21:33:46.238Z"
   },
   {
    "duration": 5,
    "start_time": "2024-12-02T21:33:46.244Z"
   },
   {
    "duration": 2,
    "start_time": "2024-12-02T21:33:46.251Z"
   },
   {
    "duration": 2,
    "start_time": "2024-12-02T21:33:46.256Z"
   },
   {
    "duration": 913,
    "start_time": "2024-12-02T21:33:46.260Z"
   },
   {
    "duration": 1284,
    "start_time": "2024-12-02T21:33:47.175Z"
   },
   {
    "duration": 9,
    "start_time": "2024-12-02T21:33:48.461Z"
   },
   {
    "duration": 7,
    "start_time": "2024-12-02T21:33:48.472Z"
   },
   {
    "duration": 3,
    "start_time": "2024-12-02T21:42:42.073Z"
   },
   {
    "duration": 10,
    "start_time": "2024-12-02T21:43:06.257Z"
   },
   {
    "duration": 5,
    "start_time": "2024-12-02T21:43:07.906Z"
   },
   {
    "duration": 13,
    "start_time": "2024-12-02T23:19:02.973Z"
   },
   {
    "duration": 12,
    "start_time": "2024-12-02T23:40:19.054Z"
   },
   {
    "duration": 9,
    "start_time": "2024-12-02T23:40:57.301Z"
   },
   {
    "duration": 6,
    "start_time": "2024-12-02T23:41:15.626Z"
   },
   {
    "duration": 4,
    "start_time": "2024-12-02T23:42:29.139Z"
   },
   {
    "duration": 5,
    "start_time": "2024-12-02T23:42:36.485Z"
   },
   {
    "duration": 10,
    "start_time": "2024-12-02T23:42:48.547Z"
   },
   {
    "duration": 3,
    "start_time": "2024-12-02T23:43:42.915Z"
   },
   {
    "duration": 580,
    "start_time": "2024-12-02T23:43:55.356Z"
   },
   {
    "duration": 4,
    "start_time": "2024-12-02T23:44:14.587Z"
   },
   {
    "duration": 9,
    "start_time": "2024-12-02T23:47:36.476Z"
   },
   {
    "duration": 14,
    "start_time": "2024-12-02T23:48:52.517Z"
   },
   {
    "duration": 4,
    "start_time": "2024-12-02T23:50:32.309Z"
   },
   {
    "duration": 3,
    "start_time": "2024-12-02T23:50:35.287Z"
   },
   {
    "duration": 13,
    "start_time": "2024-12-02T23:50:35.855Z"
   },
   {
    "duration": 3,
    "start_time": "2024-12-02T23:50:40.182Z"
   },
   {
    "duration": 4,
    "start_time": "2024-12-02T23:50:53.609Z"
   },
   {
    "duration": 14,
    "start_time": "2024-12-02T23:52:03.273Z"
   },
   {
    "duration": 1062,
    "start_time": "2024-12-02T23:53:39.124Z"
   },
   {
    "duration": 521,
    "start_time": "2024-12-02T23:53:40.189Z"
   },
   {
    "duration": 20,
    "start_time": "2024-12-02T23:53:40.712Z"
   },
   {
    "duration": 18,
    "start_time": "2024-12-02T23:53:40.734Z"
   },
   {
    "duration": 21,
    "start_time": "2024-12-02T23:53:40.754Z"
   },
   {
    "duration": 30,
    "start_time": "2024-12-02T23:53:40.776Z"
   },
   {
    "duration": 4,
    "start_time": "2024-12-02T23:53:40.809Z"
   },
   {
    "duration": 6,
    "start_time": "2024-12-02T23:53:40.815Z"
   },
   {
    "duration": 6,
    "start_time": "2024-12-02T23:53:40.822Z"
   },
   {
    "duration": 3,
    "start_time": "2024-12-02T23:53:40.831Z"
   },
   {
    "duration": 4,
    "start_time": "2024-12-02T23:53:40.835Z"
   },
   {
    "duration": 15,
    "start_time": "2024-12-02T23:53:40.841Z"
   },
   {
    "duration": 3,
    "start_time": "2024-12-02T23:53:40.858Z"
   },
   {
    "duration": 49,
    "start_time": "2024-12-02T23:53:40.863Z"
   },
   {
    "duration": 6,
    "start_time": "2024-12-02T23:53:40.914Z"
   },
   {
    "duration": 9,
    "start_time": "2024-12-02T23:53:40.922Z"
   },
   {
    "duration": 3,
    "start_time": "2024-12-02T23:53:40.932Z"
   },
   {
    "duration": 90,
    "start_time": "2024-12-02T23:53:40.936Z"
   },
   {
    "duration": 19,
    "start_time": "2024-12-02T23:53:41.029Z"
   },
   {
    "duration": 104,
    "start_time": "2024-12-02T23:53:41.050Z"
   },
   {
    "duration": 3,
    "start_time": "2024-12-02T23:53:41.156Z"
   },
   {
    "duration": 14,
    "start_time": "2024-12-02T23:53:41.160Z"
   },
   {
    "duration": 8,
    "start_time": "2024-12-02T23:53:41.175Z"
   },
   {
    "duration": 34,
    "start_time": "2024-12-02T23:53:41.185Z"
   },
   {
    "duration": 6,
    "start_time": "2024-12-02T23:53:41.221Z"
   },
   {
    "duration": 16,
    "start_time": "2024-12-02T23:53:41.229Z"
   },
   {
    "duration": 17,
    "start_time": "2024-12-02T23:53:41.247Z"
   },
   {
    "duration": 5,
    "start_time": "2024-12-02T23:53:41.268Z"
   },
   {
    "duration": 141,
    "start_time": "2024-12-02T23:53:41.275Z"
   },
   {
    "duration": 131,
    "start_time": "2024-12-02T23:53:41.418Z"
   },
   {
    "duration": 113,
    "start_time": "2024-12-02T23:53:41.551Z"
   },
   {
    "duration": 5,
    "start_time": "2024-12-02T23:53:41.666Z"
   },
   {
    "duration": 5,
    "start_time": "2024-12-02T23:53:41.672Z"
   },
   {
    "duration": 788,
    "start_time": "2024-12-02T23:53:41.678Z"
   },
   {
    "duration": 1239,
    "start_time": "2024-12-02T23:53:42.468Z"
   },
   {
    "duration": 8,
    "start_time": "2024-12-02T23:53:43.709Z"
   },
   {
    "duration": 6,
    "start_time": "2024-12-02T23:53:43.718Z"
   },
   {
    "duration": 15,
    "start_time": "2024-12-02T23:53:43.726Z"
   },
   {
    "duration": 5,
    "start_time": "2024-12-02T23:53:43.743Z"
   },
   {
    "duration": 5,
    "start_time": "2024-12-02T23:53:43.750Z"
   },
   {
    "duration": 5,
    "start_time": "2024-12-02T23:53:43.756Z"
   },
   {
    "duration": 43,
    "start_time": "2024-12-02T23:53:43.762Z"
   },
   {
    "duration": 5,
    "start_time": "2024-12-02T23:53:58.752Z"
   },
   {
    "duration": 4,
    "start_time": "2024-12-02T23:54:18.340Z"
   },
   {
    "duration": 1008,
    "start_time": "2024-12-02T23:54:50.631Z"
   },
   {
    "duration": 535,
    "start_time": "2024-12-02T23:54:51.641Z"
   },
   {
    "duration": 21,
    "start_time": "2024-12-02T23:54:52.178Z"
   },
   {
    "duration": 18,
    "start_time": "2024-12-02T23:54:52.206Z"
   },
   {
    "duration": 20,
    "start_time": "2024-12-02T23:54:52.228Z"
   },
   {
    "duration": 3,
    "start_time": "2024-12-02T23:54:52.250Z"
   },
   {
    "duration": 4,
    "start_time": "2024-12-02T23:54:52.255Z"
   },
   {
    "duration": 3,
    "start_time": "2024-12-02T23:54:52.261Z"
   },
   {
    "duration": 39,
    "start_time": "2024-12-02T23:54:52.266Z"
   },
   {
    "duration": 3,
    "start_time": "2024-12-02T23:54:52.307Z"
   },
   {
    "duration": 5,
    "start_time": "2024-12-02T23:54:52.311Z"
   },
   {
    "duration": 14,
    "start_time": "2024-12-02T23:54:52.317Z"
   },
   {
    "duration": 3,
    "start_time": "2024-12-02T23:54:52.333Z"
   },
   {
    "duration": 9,
    "start_time": "2024-12-02T23:54:52.340Z"
   },
   {
    "duration": 6,
    "start_time": "2024-12-02T23:54:52.351Z"
   },
   {
    "duration": 47,
    "start_time": "2024-12-02T23:54:52.358Z"
   },
   {
    "duration": 3,
    "start_time": "2024-12-02T23:54:52.407Z"
   },
   {
    "duration": 71,
    "start_time": "2024-12-02T23:54:52.412Z"
   },
   {
    "duration": 39,
    "start_time": "2024-12-02T23:54:52.484Z"
   },
   {
    "duration": 96,
    "start_time": "2024-12-02T23:54:52.525Z"
   },
   {
    "duration": 3,
    "start_time": "2024-12-02T23:54:52.623Z"
   },
   {
    "duration": 16,
    "start_time": "2024-12-02T23:54:52.628Z"
   },
   {
    "duration": 7,
    "start_time": "2024-12-02T23:54:52.646Z"
   },
   {
    "duration": 17,
    "start_time": "2024-12-02T23:54:52.655Z"
   },
   {
    "duration": 38,
    "start_time": "2024-12-02T23:54:52.674Z"
   },
   {
    "duration": 15,
    "start_time": "2024-12-02T23:54:52.714Z"
   },
   {
    "duration": 15,
    "start_time": "2024-12-02T23:54:52.731Z"
   },
   {
    "duration": 7,
    "start_time": "2024-12-02T23:54:52.747Z"
   },
   {
    "duration": 136,
    "start_time": "2024-12-02T23:54:52.755Z"
   },
   {
    "duration": 136,
    "start_time": "2024-12-02T23:54:52.893Z"
   },
   {
    "duration": 110,
    "start_time": "2024-12-02T23:54:53.031Z"
   },
   {
    "duration": 6,
    "start_time": "2024-12-02T23:54:53.144Z"
   },
   {
    "duration": 5,
    "start_time": "2024-12-02T23:54:53.152Z"
   },
   {
    "duration": 708,
    "start_time": "2024-12-02T23:54:53.159Z"
   },
   {
    "duration": 1181,
    "start_time": "2024-12-02T23:54:53.869Z"
   },
   {
    "duration": 9,
    "start_time": "2024-12-02T23:54:55.052Z"
   },
   {
    "duration": 13,
    "start_time": "2024-12-02T23:54:55.064Z"
   },
   {
    "duration": 41,
    "start_time": "2024-12-02T23:54:55.080Z"
   },
   {
    "duration": 5,
    "start_time": "2024-12-02T23:54:55.124Z"
   },
   {
    "duration": 5,
    "start_time": "2024-12-02T23:54:55.130Z"
   },
   {
    "duration": 3,
    "start_time": "2024-12-02T23:54:55.142Z"
   },
   {
    "duration": 7,
    "start_time": "2024-12-02T23:54:55.147Z"
   },
   {
    "duration": 6,
    "start_time": "2024-12-02T23:54:55.157Z"
   },
   {
    "duration": 6,
    "start_time": "2024-12-02T23:54:55.165Z"
   },
   {
    "duration": 3,
    "start_time": "2024-12-02T23:55:20.590Z"
   },
   {
    "duration": 4,
    "start_time": "2024-12-02T23:55:23.706Z"
   },
   {
    "duration": 135,
    "start_time": "2024-12-02T23:56:04.334Z"
   },
   {
    "duration": 774,
    "start_time": "2024-12-02T23:56:29.892Z"
   },
   {
    "duration": 1016,
    "start_time": "2024-12-02T23:56:52.398Z"
   },
   {
    "duration": 500,
    "start_time": "2024-12-02T23:56:53.416Z"
   },
   {
    "duration": 25,
    "start_time": "2024-12-02T23:56:53.918Z"
   },
   {
    "duration": 17,
    "start_time": "2024-12-02T23:56:53.947Z"
   },
   {
    "duration": 39,
    "start_time": "2024-12-02T23:56:53.966Z"
   },
   {
    "duration": 5,
    "start_time": "2024-12-02T23:56:54.006Z"
   },
   {
    "duration": 5,
    "start_time": "2024-12-02T23:56:54.013Z"
   },
   {
    "duration": 4,
    "start_time": "2024-12-02T23:56:54.020Z"
   },
   {
    "duration": 5,
    "start_time": "2024-12-02T23:56:54.026Z"
   },
   {
    "duration": 2,
    "start_time": "2024-12-02T23:56:54.036Z"
   },
   {
    "duration": 4,
    "start_time": "2024-12-02T23:56:54.040Z"
   },
   {
    "duration": 13,
    "start_time": "2024-12-02T23:56:54.046Z"
   },
   {
    "duration": 45,
    "start_time": "2024-12-02T23:56:54.061Z"
   },
   {
    "duration": 10,
    "start_time": "2024-12-02T23:56:54.107Z"
   },
   {
    "duration": 6,
    "start_time": "2024-12-02T23:56:54.119Z"
   },
   {
    "duration": 10,
    "start_time": "2024-12-02T23:56:54.127Z"
   },
   {
    "duration": 11,
    "start_time": "2024-12-02T23:56:54.139Z"
   },
   {
    "duration": 83,
    "start_time": "2024-12-02T23:56:54.152Z"
   },
   {
    "duration": 19,
    "start_time": "2024-12-02T23:56:54.237Z"
   },
   {
    "duration": 94,
    "start_time": "2024-12-02T23:56:54.258Z"
   },
   {
    "duration": 3,
    "start_time": "2024-12-02T23:56:54.354Z"
   },
   {
    "duration": 13,
    "start_time": "2024-12-02T23:56:54.360Z"
   },
   {
    "duration": 7,
    "start_time": "2024-12-02T23:56:54.375Z"
   },
   {
    "duration": 38,
    "start_time": "2024-12-02T23:56:54.383Z"
   },
   {
    "duration": 6,
    "start_time": "2024-12-02T23:56:54.423Z"
   },
   {
    "duration": 13,
    "start_time": "2024-12-02T23:56:54.431Z"
   },
   {
    "duration": 15,
    "start_time": "2024-12-02T23:56:54.446Z"
   },
   {
    "duration": 39,
    "start_time": "2024-12-02T23:56:54.466Z"
   },
   {
    "duration": 114,
    "start_time": "2024-12-02T23:56:54.506Z"
   },
   {
    "duration": 121,
    "start_time": "2024-12-02T23:56:54.621Z"
   },
   {
    "duration": 103,
    "start_time": "2024-12-02T23:56:54.743Z"
   },
   {
    "duration": 4,
    "start_time": "2024-12-02T23:56:54.848Z"
   },
   {
    "duration": 4,
    "start_time": "2024-12-02T23:56:54.854Z"
   },
   {
    "duration": 739,
    "start_time": "2024-12-02T23:56:54.860Z"
   },
   {
    "duration": 1230,
    "start_time": "2024-12-02T23:56:55.601Z"
   },
   {
    "duration": 7,
    "start_time": "2024-12-02T23:56:56.833Z"
   },
   {
    "duration": 6,
    "start_time": "2024-12-02T23:56:56.843Z"
   },
   {
    "duration": 14,
    "start_time": "2024-12-02T23:56:56.851Z"
   },
   {
    "duration": 6,
    "start_time": "2024-12-02T23:56:56.867Z"
   },
   {
    "duration": 30,
    "start_time": "2024-12-02T23:56:56.875Z"
   },
   {
    "duration": 5,
    "start_time": "2024-12-02T23:56:56.906Z"
   },
   {
    "duration": 5,
    "start_time": "2024-12-02T23:56:56.912Z"
   },
   {
    "duration": 4,
    "start_time": "2024-12-02T23:56:56.918Z"
   },
   {
    "duration": 4,
    "start_time": "2024-12-02T23:56:56.923Z"
   },
   {
    "duration": 1004,
    "start_time": "2024-12-03T00:06:52.845Z"
   },
   {
    "duration": 512,
    "start_time": "2024-12-03T00:06:53.851Z"
   },
   {
    "duration": 21,
    "start_time": "2024-12-03T00:06:54.365Z"
   },
   {
    "duration": 25,
    "start_time": "2024-12-03T00:06:54.388Z"
   },
   {
    "duration": 21,
    "start_time": "2024-12-03T00:06:54.414Z"
   },
   {
    "duration": 3,
    "start_time": "2024-12-03T00:06:54.437Z"
   },
   {
    "duration": 5,
    "start_time": "2024-12-03T00:06:54.442Z"
   },
   {
    "duration": 4,
    "start_time": "2024-12-03T00:06:54.448Z"
   },
   {
    "duration": 5,
    "start_time": "2024-12-03T00:06:54.454Z"
   },
   {
    "duration": 3,
    "start_time": "2024-12-03T00:06:54.462Z"
   },
   {
    "duration": 4,
    "start_time": "2024-12-03T00:06:54.505Z"
   },
   {
    "duration": 14,
    "start_time": "2024-12-03T00:06:54.511Z"
   },
   {
    "duration": 3,
    "start_time": "2024-12-03T00:06:54.526Z"
   },
   {
    "duration": 9,
    "start_time": "2024-12-03T00:06:54.530Z"
   },
   {
    "duration": 6,
    "start_time": "2024-12-03T00:06:54.540Z"
   },
   {
    "duration": 9,
    "start_time": "2024-12-03T00:06:54.548Z"
   },
   {
    "duration": 2,
    "start_time": "2024-12-03T00:06:54.559Z"
   },
   {
    "duration": 96,
    "start_time": "2024-12-03T00:06:54.563Z"
   },
   {
    "duration": 17,
    "start_time": "2024-12-03T00:06:54.662Z"
   },
   {
    "duration": 110,
    "start_time": "2024-12-03T00:06:54.681Z"
   },
   {
    "duration": 12,
    "start_time": "2024-12-03T00:06:54.793Z"
   },
   {
    "duration": 14,
    "start_time": "2024-12-03T00:06:54.807Z"
   },
   {
    "duration": 6,
    "start_time": "2024-12-03T00:06:54.823Z"
   },
   {
    "duration": 16,
    "start_time": "2024-12-03T00:06:54.831Z"
   },
   {
    "duration": 7,
    "start_time": "2024-12-03T00:06:54.848Z"
   },
   {
    "duration": 13,
    "start_time": "2024-12-03T00:06:54.857Z"
   },
   {
    "duration": 47,
    "start_time": "2024-12-03T00:06:54.872Z"
   },
   {
    "duration": 5,
    "start_time": "2024-12-03T00:06:54.924Z"
   },
   {
    "duration": 131,
    "start_time": "2024-12-03T00:06:54.931Z"
   },
   {
    "duration": 125,
    "start_time": "2024-12-03T00:06:55.064Z"
   },
   {
    "duration": 114,
    "start_time": "2024-12-03T00:06:55.192Z"
   },
   {
    "duration": 6,
    "start_time": "2024-12-03T00:06:55.308Z"
   },
   {
    "duration": 5,
    "start_time": "2024-12-03T00:06:55.315Z"
   },
   {
    "duration": 756,
    "start_time": "2024-12-03T00:06:55.322Z"
   },
   {
    "duration": 1148,
    "start_time": "2024-12-03T00:06:56.080Z"
   },
   {
    "duration": 9,
    "start_time": "2024-12-03T00:06:57.229Z"
   },
   {
    "duration": 8,
    "start_time": "2024-12-03T00:06:57.239Z"
   },
   {
    "duration": 14,
    "start_time": "2024-12-03T00:06:57.248Z"
   },
   {
    "duration": 8,
    "start_time": "2024-12-03T00:06:57.263Z"
   },
   {
    "duration": 39,
    "start_time": "2024-12-03T00:06:57.273Z"
   },
   {
    "duration": 8,
    "start_time": "2024-12-03T00:06:57.314Z"
   },
   {
    "duration": 591,
    "start_time": "2024-12-03T00:37:36.558Z"
   },
   {
    "duration": 1033,
    "start_time": "2024-12-03T00:38:26.724Z"
   },
   {
    "duration": 508,
    "start_time": "2024-12-03T00:38:27.760Z"
   },
   {
    "duration": 21,
    "start_time": "2024-12-03T00:38:28.269Z"
   },
   {
    "duration": 25,
    "start_time": "2024-12-03T00:38:28.293Z"
   },
   {
    "duration": 19,
    "start_time": "2024-12-03T00:38:28.320Z"
   },
   {
    "duration": 4,
    "start_time": "2024-12-03T00:38:28.340Z"
   },
   {
    "duration": 5,
    "start_time": "2024-12-03T00:38:28.346Z"
   },
   {
    "duration": 4,
    "start_time": "2024-12-03T00:38:28.352Z"
   },
   {
    "duration": 4,
    "start_time": "2024-12-03T00:38:28.358Z"
   },
   {
    "duration": 2,
    "start_time": "2024-12-03T00:38:28.366Z"
   },
   {
    "duration": 4,
    "start_time": "2024-12-03T00:38:28.405Z"
   },
   {
    "duration": 17,
    "start_time": "2024-12-03T00:38:28.411Z"
   },
   {
    "duration": 3,
    "start_time": "2024-12-03T00:38:28.430Z"
   },
   {
    "duration": 11,
    "start_time": "2024-12-03T00:38:28.435Z"
   },
   {
    "duration": 6,
    "start_time": "2024-12-03T00:38:28.448Z"
   },
   {
    "duration": 10,
    "start_time": "2024-12-03T00:38:28.456Z"
   },
   {
    "duration": 2,
    "start_time": "2024-12-03T00:38:28.506Z"
   },
   {
    "duration": 61,
    "start_time": "2024-12-03T00:38:28.510Z"
   },
   {
    "duration": 34,
    "start_time": "2024-12-03T00:38:28.573Z"
   },
   {
    "duration": 86,
    "start_time": "2024-12-03T00:38:28.609Z"
   },
   {
    "duration": 2,
    "start_time": "2024-12-03T00:38:28.705Z"
   },
   {
    "duration": 14,
    "start_time": "2024-12-03T00:38:28.709Z"
   },
   {
    "duration": 7,
    "start_time": "2024-12-03T00:38:28.724Z"
   },
   {
    "duration": 17,
    "start_time": "2024-12-03T00:38:28.734Z"
   },
   {
    "duration": 7,
    "start_time": "2024-12-03T00:38:28.753Z"
   },
   {
    "duration": 45,
    "start_time": "2024-12-03T00:38:28.762Z"
   },
   {
    "duration": 17,
    "start_time": "2024-12-03T00:38:28.809Z"
   },
   {
    "duration": 6,
    "start_time": "2024-12-03T00:38:28.831Z"
   },
   {
    "duration": 129,
    "start_time": "2024-12-03T00:38:28.839Z"
   },
   {
    "duration": 114,
    "start_time": "2024-12-03T00:38:28.971Z"
   },
   {
    "duration": 103,
    "start_time": "2024-12-03T00:38:29.087Z"
   },
   {
    "duration": 13,
    "start_time": "2024-12-03T00:38:29.192Z"
   },
   {
    "duration": 4,
    "start_time": "2024-12-03T00:38:29.207Z"
   },
   {
    "duration": 738,
    "start_time": "2024-12-03T00:38:29.213Z"
   },
   {
    "duration": 1187,
    "start_time": "2024-12-03T00:38:29.953Z"
   },
   {
    "duration": 7,
    "start_time": "2024-12-03T00:38:31.142Z"
   },
   {
    "duration": 6,
    "start_time": "2024-12-03T00:38:31.150Z"
   },
   {
    "duration": 14,
    "start_time": "2024-12-03T00:38:31.157Z"
   },
   {
    "duration": 34,
    "start_time": "2024-12-03T00:38:31.173Z"
   },
   {
    "duration": 3,
    "start_time": "2024-12-03T00:38:31.208Z"
   },
   {
    "duration": 9,
    "start_time": "2024-12-03T00:38:31.213Z"
   },
   {
    "duration": 624,
    "start_time": "2024-12-03T00:38:31.224Z"
   },
   {
    "duration": 15,
    "start_time": "2024-12-03T00:41:11.560Z"
   },
   {
    "duration": 9,
    "start_time": "2024-12-03T00:41:19.489Z"
   },
   {
    "duration": 2,
    "start_time": "2024-12-03T00:41:40.654Z"
   },
   {
    "duration": 4,
    "start_time": "2024-12-03T00:41:53.162Z"
   },
   {
    "duration": 1042,
    "start_time": "2024-12-03T00:42:33.518Z"
   },
   {
    "duration": 517,
    "start_time": "2024-12-03T00:42:34.564Z"
   },
   {
    "duration": 24,
    "start_time": "2024-12-03T00:42:35.083Z"
   },
   {
    "duration": 18,
    "start_time": "2024-12-03T00:42:35.110Z"
   },
   {
    "duration": 20,
    "start_time": "2024-12-03T00:42:35.131Z"
   },
   {
    "duration": 4,
    "start_time": "2024-12-03T00:42:35.153Z"
   },
   {
    "duration": 5,
    "start_time": "2024-12-03T00:42:35.159Z"
   },
   {
    "duration": 41,
    "start_time": "2024-12-03T00:42:35.165Z"
   },
   {
    "duration": 14,
    "start_time": "2024-12-03T00:42:35.209Z"
   },
   {
    "duration": 2,
    "start_time": "2024-12-03T00:42:35.228Z"
   },
   {
    "duration": 4,
    "start_time": "2024-12-03T00:42:35.232Z"
   },
   {
    "duration": 13,
    "start_time": "2024-12-03T00:42:35.238Z"
   },
   {
    "duration": 3,
    "start_time": "2024-12-03T00:42:35.253Z"
   },
   {
    "duration": 9,
    "start_time": "2024-12-03T00:42:35.258Z"
   },
   {
    "duration": 36,
    "start_time": "2024-12-03T00:42:35.269Z"
   },
   {
    "duration": 10,
    "start_time": "2024-12-03T00:42:35.307Z"
   },
   {
    "duration": 3,
    "start_time": "2024-12-03T00:42:35.319Z"
   },
   {
    "duration": 60,
    "start_time": "2024-12-03T00:42:35.323Z"
   },
   {
    "duration": 19,
    "start_time": "2024-12-03T00:42:35.406Z"
   },
   {
    "duration": 98,
    "start_time": "2024-12-03T00:42:35.427Z"
   },
   {
    "duration": 3,
    "start_time": "2024-12-03T00:42:35.527Z"
   },
   {
    "duration": 14,
    "start_time": "2024-12-03T00:42:35.531Z"
   },
   {
    "duration": 8,
    "start_time": "2024-12-03T00:42:35.546Z"
   },
   {
    "duration": 17,
    "start_time": "2024-12-03T00:42:35.555Z"
   },
   {
    "duration": 32,
    "start_time": "2024-12-03T00:42:35.573Z"
   },
   {
    "duration": 14,
    "start_time": "2024-12-03T00:42:35.606Z"
   },
   {
    "duration": 18,
    "start_time": "2024-12-03T00:42:35.622Z"
   },
   {
    "duration": 6,
    "start_time": "2024-12-03T00:42:35.645Z"
   },
   {
    "duration": 135,
    "start_time": "2024-12-03T00:42:35.653Z"
   },
   {
    "duration": 129,
    "start_time": "2024-12-03T00:42:35.790Z"
   },
   {
    "duration": 115,
    "start_time": "2024-12-03T00:42:35.921Z"
   },
   {
    "duration": 7,
    "start_time": "2024-12-03T00:42:36.038Z"
   },
   {
    "duration": 5,
    "start_time": "2024-12-03T00:42:36.047Z"
   },
   {
    "duration": 752,
    "start_time": "2024-12-03T00:42:36.054Z"
   },
   {
    "duration": 1229,
    "start_time": "2024-12-03T00:42:36.808Z"
   },
   {
    "duration": 9,
    "start_time": "2024-12-03T00:42:38.039Z"
   },
   {
    "duration": 6,
    "start_time": "2024-12-03T00:42:38.050Z"
   },
   {
    "duration": 14,
    "start_time": "2024-12-03T00:42:38.058Z"
   },
   {
    "duration": 32,
    "start_time": "2024-12-03T00:42:38.074Z"
   },
   {
    "duration": 10,
    "start_time": "2024-12-03T00:42:38.108Z"
   },
   {
    "duration": 3,
    "start_time": "2024-12-03T00:42:38.119Z"
   },
   {
    "duration": 4,
    "start_time": "2024-12-03T00:42:38.123Z"
   },
   {
    "duration": 8,
    "start_time": "2024-12-03T00:42:38.129Z"
   },
   {
    "duration": 5,
    "start_time": "2024-12-03T00:44:14.806Z"
   },
   {
    "duration": 2,
    "start_time": "2024-12-03T00:46:04.884Z"
   },
   {
    "duration": 328,
    "start_time": "2024-12-03T00:46:35.909Z"
   },
   {
    "duration": 971,
    "start_time": "2024-12-03T00:46:54.778Z"
   },
   {
    "duration": 516,
    "start_time": "2024-12-03T00:46:55.751Z"
   },
   {
    "duration": 24,
    "start_time": "2024-12-03T00:46:56.269Z"
   },
   {
    "duration": 22,
    "start_time": "2024-12-03T00:46:56.296Z"
   },
   {
    "duration": 21,
    "start_time": "2024-12-03T00:46:56.320Z"
   },
   {
    "duration": 5,
    "start_time": "2024-12-03T00:46:56.343Z"
   },
   {
    "duration": 5,
    "start_time": "2024-12-03T00:46:56.349Z"
   },
   {
    "duration": 4,
    "start_time": "2024-12-03T00:46:56.356Z"
   },
   {
    "duration": 5,
    "start_time": "2024-12-03T00:46:56.361Z"
   },
   {
    "duration": 36,
    "start_time": "2024-12-03T00:46:56.370Z"
   },
   {
    "duration": 5,
    "start_time": "2024-12-03T00:46:56.407Z"
   },
   {
    "duration": 13,
    "start_time": "2024-12-03T00:46:56.413Z"
   },
   {
    "duration": 3,
    "start_time": "2024-12-03T00:46:56.428Z"
   },
   {
    "duration": 8,
    "start_time": "2024-12-03T00:46:56.433Z"
   },
   {
    "duration": 6,
    "start_time": "2024-12-03T00:46:56.443Z"
   },
   {
    "duration": 10,
    "start_time": "2024-12-03T00:46:56.450Z"
   },
   {
    "duration": 43,
    "start_time": "2024-12-03T00:46:56.462Z"
   },
   {
    "duration": 63,
    "start_time": "2024-12-03T00:46:56.507Z"
   },
   {
    "duration": 35,
    "start_time": "2024-12-03T00:46:56.572Z"
   },
   {
    "duration": 86,
    "start_time": "2024-12-03T00:46:56.609Z"
   },
   {
    "duration": 9,
    "start_time": "2024-12-03T00:46:56.697Z"
   },
   {
    "duration": 14,
    "start_time": "2024-12-03T00:46:56.708Z"
   },
   {
    "duration": 6,
    "start_time": "2024-12-03T00:46:56.724Z"
   },
   {
    "duration": 16,
    "start_time": "2024-12-03T00:46:56.732Z"
   },
   {
    "duration": 6,
    "start_time": "2024-12-03T00:46:56.750Z"
   },
   {
    "duration": 47,
    "start_time": "2024-12-03T00:46:56.759Z"
   },
   {
    "duration": 17,
    "start_time": "2024-12-03T00:46:56.808Z"
   },
   {
    "duration": 7,
    "start_time": "2024-12-03T00:46:56.829Z"
   },
   {
    "duration": 130,
    "start_time": "2024-12-03T00:46:56.837Z"
   },
   {
    "duration": 120,
    "start_time": "2024-12-03T00:46:56.970Z"
   },
   {
    "duration": 103,
    "start_time": "2024-12-03T00:46:57.091Z"
   },
   {
    "duration": 12,
    "start_time": "2024-12-03T00:46:57.196Z"
   },
   {
    "duration": 4,
    "start_time": "2024-12-03T00:46:57.211Z"
   },
   {
    "duration": 734,
    "start_time": "2024-12-03T00:46:57.217Z"
   },
   {
    "duration": 1170,
    "start_time": "2024-12-03T00:46:57.953Z"
   },
   {
    "duration": 9,
    "start_time": "2024-12-03T00:46:59.125Z"
   },
   {
    "duration": 7,
    "start_time": "2024-12-03T00:46:59.135Z"
   },
   {
    "duration": 13,
    "start_time": "2024-12-03T00:46:59.143Z"
   },
   {
    "duration": 8,
    "start_time": "2024-12-03T00:46:59.158Z"
   },
   {
    "duration": 38,
    "start_time": "2024-12-03T00:46:59.168Z"
   },
   {
    "duration": 3,
    "start_time": "2024-12-03T00:46:59.208Z"
   },
   {
    "duration": 4,
    "start_time": "2024-12-03T00:46:59.214Z"
   },
   {
    "duration": 5,
    "start_time": "2024-12-03T00:46:59.220Z"
   },
   {
    "duration": 9,
    "start_time": "2024-12-03T00:46:59.226Z"
   },
   {
    "duration": 1025,
    "start_time": "2024-12-03T00:47:41.739Z"
   },
   {
    "duration": 520,
    "start_time": "2024-12-03T00:47:42.766Z"
   },
   {
    "duration": 24,
    "start_time": "2024-12-03T00:47:43.287Z"
   },
   {
    "duration": 16,
    "start_time": "2024-12-03T00:47:43.314Z"
   },
   {
    "duration": 18,
    "start_time": "2024-12-03T00:47:43.332Z"
   },
   {
    "duration": 3,
    "start_time": "2024-12-03T00:47:43.352Z"
   },
   {
    "duration": 4,
    "start_time": "2024-12-03T00:47:43.357Z"
   },
   {
    "duration": 3,
    "start_time": "2024-12-03T00:47:43.363Z"
   },
   {
    "duration": 37,
    "start_time": "2024-12-03T00:47:43.368Z"
   },
   {
    "duration": 3,
    "start_time": "2024-12-03T00:47:43.410Z"
   },
   {
    "duration": 4,
    "start_time": "2024-12-03T00:47:43.415Z"
   },
   {
    "duration": 15,
    "start_time": "2024-12-03T00:47:43.421Z"
   },
   {
    "duration": 3,
    "start_time": "2024-12-03T00:47:43.438Z"
   },
   {
    "duration": 10,
    "start_time": "2024-12-03T00:47:43.442Z"
   },
   {
    "duration": 5,
    "start_time": "2024-12-03T00:47:43.454Z"
   },
   {
    "duration": 50,
    "start_time": "2024-12-03T00:47:43.462Z"
   },
   {
    "duration": 3,
    "start_time": "2024-12-03T00:47:43.514Z"
   },
   {
    "duration": 63,
    "start_time": "2024-12-03T00:47:43.518Z"
   },
   {
    "duration": 35,
    "start_time": "2024-12-03T00:47:43.582Z"
   },
   {
    "duration": 101,
    "start_time": "2024-12-03T00:47:43.620Z"
   },
   {
    "duration": 6,
    "start_time": "2024-12-03T00:47:43.723Z"
   },
   {
    "duration": 14,
    "start_time": "2024-12-03T00:47:43.731Z"
   },
   {
    "duration": 8,
    "start_time": "2024-12-03T00:47:43.747Z"
   },
   {
    "duration": 17,
    "start_time": "2024-12-03T00:47:43.759Z"
   },
   {
    "duration": 33,
    "start_time": "2024-12-03T00:47:43.778Z"
   },
   {
    "duration": 15,
    "start_time": "2024-12-03T00:47:43.812Z"
   },
   {
    "duration": 16,
    "start_time": "2024-12-03T00:47:43.829Z"
   },
   {
    "duration": 7,
    "start_time": "2024-12-03T00:47:43.850Z"
   },
   {
    "duration": 138,
    "start_time": "2024-12-03T00:47:43.858Z"
   },
   {
    "duration": 129,
    "start_time": "2024-12-03T00:47:43.998Z"
   },
   {
    "duration": 115,
    "start_time": "2024-12-03T00:47:44.129Z"
   },
   {
    "duration": 6,
    "start_time": "2024-12-03T00:47:44.246Z"
   },
   {
    "duration": 5,
    "start_time": "2024-12-03T00:47:44.254Z"
   },
   {
    "duration": 748,
    "start_time": "2024-12-03T00:47:44.260Z"
   },
   {
    "duration": 1238,
    "start_time": "2024-12-03T00:47:45.011Z"
   },
   {
    "duration": 7,
    "start_time": "2024-12-03T00:47:46.251Z"
   },
   {
    "duration": 6,
    "start_time": "2024-12-03T00:47:46.260Z"
   },
   {
    "duration": 14,
    "start_time": "2024-12-03T00:47:46.268Z"
   },
   {
    "duration": 29,
    "start_time": "2024-12-03T00:47:46.283Z"
   },
   {
    "duration": 8,
    "start_time": "2024-12-03T00:47:46.314Z"
   },
   {
    "duration": 2,
    "start_time": "2024-12-03T00:47:46.325Z"
   },
   {
    "duration": 4,
    "start_time": "2024-12-03T00:47:46.329Z"
   },
   {
    "duration": 4,
    "start_time": "2024-12-03T00:47:46.335Z"
   },
   {
    "duration": 8,
    "start_time": "2024-12-03T00:47:46.340Z"
   },
   {
    "duration": 9,
    "start_time": "2024-12-03T00:47:57.216Z"
   },
   {
    "duration": 5,
    "start_time": "2024-12-03T00:50:23.838Z"
   },
   {
    "duration": 8,
    "start_time": "2024-12-03T00:50:43.274Z"
   },
   {
    "duration": 987,
    "start_time": "2024-12-03T00:51:13.862Z"
   },
   {
    "duration": 527,
    "start_time": "2024-12-03T00:51:14.851Z"
   },
   {
    "duration": 28,
    "start_time": "2024-12-03T00:51:15.382Z"
   },
   {
    "duration": 18,
    "start_time": "2024-12-03T00:51:15.412Z"
   },
   {
    "duration": 21,
    "start_time": "2024-12-03T00:51:15.432Z"
   },
   {
    "duration": 4,
    "start_time": "2024-12-03T00:51:15.455Z"
   },
   {
    "duration": 4,
    "start_time": "2024-12-03T00:51:15.461Z"
   },
   {
    "duration": 4,
    "start_time": "2024-12-03T00:51:15.467Z"
   },
   {
    "duration": 7,
    "start_time": "2024-12-03T00:51:15.507Z"
   },
   {
    "duration": 3,
    "start_time": "2024-12-03T00:51:15.516Z"
   },
   {
    "duration": 5,
    "start_time": "2024-12-03T00:51:15.521Z"
   },
   {
    "duration": 16,
    "start_time": "2024-12-03T00:51:15.528Z"
   },
   {
    "duration": 3,
    "start_time": "2024-12-03T00:51:15.546Z"
   },
   {
    "duration": 11,
    "start_time": "2024-12-03T00:51:15.550Z"
   },
   {
    "duration": 6,
    "start_time": "2024-12-03T00:51:15.563Z"
   },
   {
    "duration": 9,
    "start_time": "2024-12-03T00:51:15.606Z"
   },
   {
    "duration": 3,
    "start_time": "2024-12-03T00:51:15.618Z"
   },
   {
    "duration": 59,
    "start_time": "2024-12-03T00:51:15.623Z"
   },
   {
    "duration": 39,
    "start_time": "2024-12-03T00:51:15.683Z"
   },
   {
    "duration": 94,
    "start_time": "2024-12-03T00:51:15.724Z"
   },
   {
    "duration": 3,
    "start_time": "2024-12-03T00:51:15.820Z"
   },
   {
    "duration": 14,
    "start_time": "2024-12-03T00:51:15.824Z"
   },
   {
    "duration": 8,
    "start_time": "2024-12-03T00:51:15.839Z"
   },
   {
    "duration": 17,
    "start_time": "2024-12-03T00:51:15.849Z"
   },
   {
    "duration": 8,
    "start_time": "2024-12-03T00:51:15.867Z"
   },
   {
    "duration": 14,
    "start_time": "2024-12-03T00:51:15.906Z"
   },
   {
    "duration": 14,
    "start_time": "2024-12-03T00:51:15.924Z"
   },
   {
    "duration": 6,
    "start_time": "2024-12-03T00:51:15.940Z"
   },
   {
    "duration": 131,
    "start_time": "2024-12-03T00:51:15.948Z"
   },
   {
    "duration": 117,
    "start_time": "2024-12-03T00:51:16.081Z"
   },
   {
    "duration": 105,
    "start_time": "2024-12-03T00:51:16.204Z"
   },
   {
    "duration": 5,
    "start_time": "2024-12-03T00:51:16.311Z"
   },
   {
    "duration": 5,
    "start_time": "2024-12-03T00:51:16.319Z"
   },
   {
    "duration": 808,
    "start_time": "2024-12-03T00:51:16.325Z"
   },
   {
    "duration": 1179,
    "start_time": "2024-12-03T00:51:17.135Z"
   },
   {
    "duration": 7,
    "start_time": "2024-12-03T00:51:18.316Z"
   },
   {
    "duration": 6,
    "start_time": "2024-12-03T00:51:18.325Z"
   },
   {
    "duration": 14,
    "start_time": "2024-12-03T00:51:18.332Z"
   },
   {
    "duration": 9,
    "start_time": "2024-12-03T00:51:18.347Z"
   },
   {
    "duration": 8,
    "start_time": "2024-12-03T00:51:18.357Z"
   },
   {
    "duration": 38,
    "start_time": "2024-12-03T00:51:18.367Z"
   },
   {
    "duration": 4,
    "start_time": "2024-12-03T00:51:18.407Z"
   },
   {
    "duration": 3,
    "start_time": "2024-12-03T00:51:18.412Z"
   },
   {
    "duration": 2,
    "start_time": "2024-12-03T00:51:18.417Z"
   },
   {
    "duration": 9,
    "start_time": "2024-12-03T00:51:18.420Z"
   },
   {
    "duration": 5,
    "start_time": "2024-12-03T00:51:34.156Z"
   },
   {
    "duration": 3,
    "start_time": "2024-12-03T00:55:12.944Z"
   },
   {
    "duration": 1038,
    "start_time": "2024-12-03T00:57:08.135Z"
   },
   {
    "duration": 513,
    "start_time": "2024-12-03T00:57:09.175Z"
   },
   {
    "duration": 28,
    "start_time": "2024-12-03T00:57:09.690Z"
   },
   {
    "duration": 21,
    "start_time": "2024-12-03T00:57:09.721Z"
   },
   {
    "duration": 22,
    "start_time": "2024-12-03T00:57:09.744Z"
   },
   {
    "duration": 4,
    "start_time": "2024-12-03T00:57:09.768Z"
   },
   {
    "duration": 33,
    "start_time": "2024-12-03T00:57:09.774Z"
   },
   {
    "duration": 6,
    "start_time": "2024-12-03T00:57:09.809Z"
   },
   {
    "duration": 6,
    "start_time": "2024-12-03T00:57:09.817Z"
   },
   {
    "duration": 3,
    "start_time": "2024-12-03T00:57:09.826Z"
   },
   {
    "duration": 5,
    "start_time": "2024-12-03T00:57:09.830Z"
   },
   {
    "duration": 14,
    "start_time": "2024-12-03T00:57:09.836Z"
   },
   {
    "duration": 5,
    "start_time": "2024-12-03T00:57:09.851Z"
   },
   {
    "duration": 49,
    "start_time": "2024-12-03T00:57:09.857Z"
   },
   {
    "duration": 6,
    "start_time": "2024-12-03T00:57:09.908Z"
   },
   {
    "duration": 10,
    "start_time": "2024-12-03T00:57:09.915Z"
   },
   {
    "duration": 3,
    "start_time": "2024-12-03T00:57:09.927Z"
   },
   {
    "duration": 83,
    "start_time": "2024-12-03T00:57:09.931Z"
   },
   {
    "duration": 18,
    "start_time": "2024-12-03T00:57:10.016Z"
   },
   {
    "duration": 101,
    "start_time": "2024-12-03T00:57:10.036Z"
   },
   {
    "duration": 2,
    "start_time": "2024-12-03T00:57:10.139Z"
   },
   {
    "duration": 15,
    "start_time": "2024-12-03T00:57:10.143Z"
   },
   {
    "duration": 7,
    "start_time": "2024-12-03T00:57:10.159Z"
   },
   {
    "duration": 40,
    "start_time": "2024-12-03T00:57:10.167Z"
   },
   {
    "duration": 7,
    "start_time": "2024-12-03T00:57:10.210Z"
   },
   {
    "duration": 14,
    "start_time": "2024-12-03T00:57:10.218Z"
   },
   {
    "duration": 15,
    "start_time": "2024-12-03T00:57:10.235Z"
   },
   {
    "duration": 6,
    "start_time": "2024-12-03T00:57:10.254Z"
   },
   {
    "duration": 135,
    "start_time": "2024-12-03T00:57:10.262Z"
   },
   {
    "duration": 117,
    "start_time": "2024-12-03T00:57:10.406Z"
   },
   {
    "duration": 108,
    "start_time": "2024-12-03T00:57:10.525Z"
   },
   {
    "duration": 4,
    "start_time": "2024-12-03T00:57:10.637Z"
   },
   {
    "duration": 6,
    "start_time": "2024-12-03T00:57:10.643Z"
   },
   {
    "duration": 738,
    "start_time": "2024-12-03T00:57:10.650Z"
   },
   {
    "duration": 1292,
    "start_time": "2024-12-03T00:57:11.390Z"
   },
   {
    "duration": 7,
    "start_time": "2024-12-03T00:57:12.684Z"
   },
   {
    "duration": 19,
    "start_time": "2024-12-03T00:57:12.693Z"
   },
   {
    "duration": 14,
    "start_time": "2024-12-03T00:57:12.717Z"
   },
   {
    "duration": 8,
    "start_time": "2024-12-03T00:57:12.732Z"
   },
   {
    "duration": 8,
    "start_time": "2024-12-03T00:57:12.742Z"
   },
   {
    "duration": 3,
    "start_time": "2024-12-03T00:57:12.752Z"
   },
   {
    "duration": 3,
    "start_time": "2024-12-03T00:57:12.756Z"
   },
   {
    "duration": 5,
    "start_time": "2024-12-03T00:57:12.760Z"
   },
   {
    "duration": 42,
    "start_time": "2024-12-03T00:57:12.766Z"
   },
   {
    "duration": 991,
    "start_time": "2024-12-03T00:59:04.156Z"
   },
   {
    "duration": 519,
    "start_time": "2024-12-03T00:59:05.151Z"
   },
   {
    "duration": 21,
    "start_time": "2024-12-03T00:59:05.671Z"
   },
   {
    "duration": 17,
    "start_time": "2024-12-03T00:59:05.705Z"
   },
   {
    "duration": 21,
    "start_time": "2024-12-03T00:59:05.724Z"
   },
   {
    "duration": 4,
    "start_time": "2024-12-03T00:59:05.747Z"
   },
   {
    "duration": 4,
    "start_time": "2024-12-03T00:59:05.753Z"
   },
   {
    "duration": 4,
    "start_time": "2024-12-03T00:59:05.759Z"
   },
   {
    "duration": 40,
    "start_time": "2024-12-03T00:59:05.765Z"
   },
   {
    "duration": 3,
    "start_time": "2024-12-03T00:59:05.808Z"
   },
   {
    "duration": 4,
    "start_time": "2024-12-03T00:59:05.813Z"
   },
   {
    "duration": 13,
    "start_time": "2024-12-03T00:59:05.820Z"
   },
   {
    "duration": 4,
    "start_time": "2024-12-03T00:59:05.836Z"
   },
   {
    "duration": 9,
    "start_time": "2024-12-03T00:59:05.841Z"
   },
   {
    "duration": 6,
    "start_time": "2024-12-03T00:59:05.852Z"
   },
   {
    "duration": 46,
    "start_time": "2024-12-03T00:59:05.860Z"
   },
   {
    "duration": 3,
    "start_time": "2024-12-03T00:59:05.908Z"
   },
   {
    "duration": 60,
    "start_time": "2024-12-03T00:59:05.913Z"
   },
   {
    "duration": 35,
    "start_time": "2024-12-03T00:59:05.975Z"
   },
   {
    "duration": 96,
    "start_time": "2024-12-03T00:59:06.011Z"
   },
   {
    "duration": 3,
    "start_time": "2024-12-03T00:59:06.109Z"
   },
   {
    "duration": 14,
    "start_time": "2024-12-03T00:59:06.114Z"
   },
   {
    "duration": 6,
    "start_time": "2024-12-03T00:59:06.130Z"
   },
   {
    "duration": 16,
    "start_time": "2024-12-03T00:59:06.138Z"
   },
   {
    "duration": 6,
    "start_time": "2024-12-03T00:59:06.156Z"
   },
   {
    "duration": 49,
    "start_time": "2024-12-03T00:59:06.164Z"
   },
   {
    "duration": 18,
    "start_time": "2024-12-03T00:59:06.215Z"
   },
   {
    "duration": 6,
    "start_time": "2024-12-03T00:59:06.238Z"
   },
   {
    "duration": 125,
    "start_time": "2024-12-03T00:59:06.245Z"
   },
   {
    "duration": 116,
    "start_time": "2024-12-03T00:59:06.371Z"
   },
   {
    "duration": 115,
    "start_time": "2024-12-03T00:59:06.490Z"
   },
   {
    "duration": 4,
    "start_time": "2024-12-03T00:59:06.607Z"
   },
   {
    "duration": 4,
    "start_time": "2024-12-03T00:59:06.613Z"
   },
   {
    "duration": 790,
    "start_time": "2024-12-03T00:59:06.619Z"
   },
   {
    "duration": 1201,
    "start_time": "2024-12-03T00:59:07.410Z"
   },
   {
    "duration": 8,
    "start_time": "2024-12-03T00:59:08.613Z"
   },
   {
    "duration": 8,
    "start_time": "2024-12-03T00:59:08.623Z"
   },
   {
    "duration": 14,
    "start_time": "2024-12-03T00:59:08.633Z"
   },
   {
    "duration": 10,
    "start_time": "2024-12-03T00:59:08.648Z"
   },
   {
    "duration": 8,
    "start_time": "2024-12-03T00:59:08.660Z"
   },
   {
    "duration": 3,
    "start_time": "2024-12-03T00:59:08.670Z"
   },
   {
    "duration": 4,
    "start_time": "2024-12-03T00:59:08.705Z"
   },
   {
    "duration": 5,
    "start_time": "2024-12-03T00:59:08.711Z"
   },
   {
    "duration": 3,
    "start_time": "2024-12-03T00:59:08.719Z"
   },
   {
    "duration": 5,
    "start_time": "2024-12-03T00:59:08.724Z"
   },
   {
    "duration": 3,
    "start_time": "2024-12-03T00:59:08.730Z"
   },
   {
    "duration": 5,
    "start_time": "2024-12-03T00:59:08.734Z"
   },
   {
    "duration": 10,
    "start_time": "2024-12-03T01:00:17.423Z"
   },
   {
    "duration": 998,
    "start_time": "2024-12-03T01:01:23.838Z"
   },
   {
    "duration": 510,
    "start_time": "2024-12-03T01:01:24.838Z"
   },
   {
    "duration": 20,
    "start_time": "2024-12-03T01:01:25.350Z"
   },
   {
    "duration": 33,
    "start_time": "2024-12-03T01:01:25.372Z"
   },
   {
    "duration": 20,
    "start_time": "2024-12-03T01:01:25.407Z"
   },
   {
    "duration": 4,
    "start_time": "2024-12-03T01:01:25.429Z"
   },
   {
    "duration": 5,
    "start_time": "2024-12-03T01:01:25.434Z"
   },
   {
    "duration": 5,
    "start_time": "2024-12-03T01:01:25.442Z"
   },
   {
    "duration": 5,
    "start_time": "2024-12-03T01:01:25.449Z"
   },
   {
    "duration": 3,
    "start_time": "2024-12-03T01:01:25.456Z"
   },
   {
    "duration": 4,
    "start_time": "2024-12-03T01:01:25.461Z"
   },
   {
    "duration": 51,
    "start_time": "2024-12-03T01:01:25.466Z"
   },
   {
    "duration": 3,
    "start_time": "2024-12-03T01:01:25.518Z"
   },
   {
    "duration": 9,
    "start_time": "2024-12-03T01:01:25.525Z"
   },
   {
    "duration": 7,
    "start_time": "2024-12-03T01:01:25.535Z"
   },
   {
    "duration": 10,
    "start_time": "2024-12-03T01:01:25.543Z"
   },
   {
    "duration": 2,
    "start_time": "2024-12-03T01:01:25.555Z"
   },
   {
    "duration": 94,
    "start_time": "2024-12-03T01:01:25.559Z"
   },
   {
    "duration": 19,
    "start_time": "2024-12-03T01:01:25.655Z"
   },
   {
    "duration": 94,
    "start_time": "2024-12-03T01:01:25.676Z"
   },
   {
    "duration": 2,
    "start_time": "2024-12-03T01:01:25.772Z"
   },
   {
    "duration": 30,
    "start_time": "2024-12-03T01:01:25.776Z"
   },
   {
    "duration": 7,
    "start_time": "2024-12-03T01:01:25.808Z"
   },
   {
    "duration": 17,
    "start_time": "2024-12-03T01:01:25.818Z"
   },
   {
    "duration": 8,
    "start_time": "2024-12-03T01:01:25.836Z"
   },
   {
    "duration": 15,
    "start_time": "2024-12-03T01:01:25.846Z"
   },
   {
    "duration": 44,
    "start_time": "2024-12-03T01:01:25.862Z"
   },
   {
    "duration": 7,
    "start_time": "2024-12-03T01:01:25.908Z"
   },
   {
    "duration": 128,
    "start_time": "2024-12-03T01:01:25.916Z"
   },
   {
    "duration": 137,
    "start_time": "2024-12-03T01:01:26.046Z"
   },
   {
    "duration": 103,
    "start_time": "2024-12-03T01:01:26.185Z"
   },
   {
    "duration": 5,
    "start_time": "2024-12-03T01:01:26.290Z"
   },
   {
    "duration": 12,
    "start_time": "2024-12-03T01:01:26.296Z"
   },
   {
    "duration": 744,
    "start_time": "2024-12-03T01:01:26.310Z"
   },
   {
    "duration": 1167,
    "start_time": "2024-12-03T01:01:27.056Z"
   },
   {
    "duration": 7,
    "start_time": "2024-12-03T01:01:28.225Z"
   },
   {
    "duration": 7,
    "start_time": "2024-12-03T01:01:28.234Z"
   },
   {
    "duration": 5,
    "start_time": "2024-12-03T01:01:28.244Z"
   },
   {
    "duration": 4,
    "start_time": "2024-12-03T01:01:28.250Z"
   },
   {
    "duration": 4,
    "start_time": "2024-12-03T01:01:28.256Z"
   },
   {
    "duration": 4,
    "start_time": "2024-12-03T01:01:28.265Z"
   },
   {
    "duration": 39,
    "start_time": "2024-12-03T01:01:28.270Z"
   },
   {
    "duration": 1030,
    "start_time": "2024-12-03T01:06:13.717Z"
   },
   {
    "duration": 503,
    "start_time": "2024-12-03T01:06:14.749Z"
   },
   {
    "duration": 20,
    "start_time": "2024-12-03T01:06:15.254Z"
   },
   {
    "duration": 18,
    "start_time": "2024-12-03T01:06:15.277Z"
   },
   {
    "duration": 22,
    "start_time": "2024-12-03T01:06:15.304Z"
   },
   {
    "duration": 5,
    "start_time": "2024-12-03T01:06:15.328Z"
   },
   {
    "duration": 6,
    "start_time": "2024-12-03T01:06:15.335Z"
   },
   {
    "duration": 6,
    "start_time": "2024-12-03T01:06:15.343Z"
   },
   {
    "duration": 5,
    "start_time": "2024-12-03T01:06:15.350Z"
   },
   {
    "duration": 3,
    "start_time": "2024-12-03T01:06:15.358Z"
   },
   {
    "duration": 4,
    "start_time": "2024-12-03T01:06:15.363Z"
   },
   {
    "duration": 13,
    "start_time": "2024-12-03T01:06:15.405Z"
   },
   {
    "duration": 3,
    "start_time": "2024-12-03T01:06:15.421Z"
   },
   {
    "duration": 9,
    "start_time": "2024-12-03T01:06:15.426Z"
   },
   {
    "duration": 6,
    "start_time": "2024-12-03T01:06:15.436Z"
   },
   {
    "duration": 10,
    "start_time": "2024-12-03T01:06:15.443Z"
   },
   {
    "duration": 3,
    "start_time": "2024-12-03T01:06:15.454Z"
   },
   {
    "duration": 99,
    "start_time": "2024-12-03T01:06:15.459Z"
   },
   {
    "duration": 19,
    "start_time": "2024-12-03T01:06:15.560Z"
   },
   {
    "duration": 102,
    "start_time": "2024-12-03T01:06:15.580Z"
   },
   {
    "duration": 2,
    "start_time": "2024-12-03T01:06:15.684Z"
   },
   {
    "duration": 26,
    "start_time": "2024-12-03T01:06:15.688Z"
   },
   {
    "duration": 7,
    "start_time": "2024-12-03T01:06:15.716Z"
   },
   {
    "duration": 16,
    "start_time": "2024-12-03T01:06:15.725Z"
   },
   {
    "duration": 6,
    "start_time": "2024-12-03T01:06:15.743Z"
   },
   {
    "duration": 12,
    "start_time": "2024-12-03T01:06:15.751Z"
   },
   {
    "duration": 49,
    "start_time": "2024-12-03T01:06:15.765Z"
   },
   {
    "duration": 6,
    "start_time": "2024-12-03T01:06:15.819Z"
   },
   {
    "duration": 124,
    "start_time": "2024-12-03T01:06:15.827Z"
   },
   {
    "duration": 121,
    "start_time": "2024-12-03T01:06:15.953Z"
   },
   {
    "duration": 104,
    "start_time": "2024-12-03T01:06:16.075Z"
   },
   {
    "duration": 5,
    "start_time": "2024-12-03T01:06:16.181Z"
   },
   {
    "duration": 19,
    "start_time": "2024-12-03T01:06:16.188Z"
   },
   {
    "duration": 756,
    "start_time": "2024-12-03T01:06:16.208Z"
   },
   {
    "duration": 1186,
    "start_time": "2024-12-03T01:06:16.966Z"
   },
   {
    "duration": 7,
    "start_time": "2024-12-03T01:06:18.154Z"
   },
   {
    "duration": 6,
    "start_time": "2024-12-03T01:06:18.163Z"
   },
   {
    "duration": 4,
    "start_time": "2024-12-03T01:06:18.171Z"
   },
   {
    "duration": 3,
    "start_time": "2024-12-03T01:06:18.178Z"
   },
   {
    "duration": 7,
    "start_time": "2024-12-03T01:06:18.206Z"
   },
   {
    "duration": 7,
    "start_time": "2024-12-03T01:06:18.214Z"
   },
   {
    "duration": 7,
    "start_time": "2024-12-03T01:06:18.222Z"
   },
   {
    "duration": 5,
    "start_time": "2024-12-03T01:25:27.035Z"
   },
   {
    "duration": 3,
    "start_time": "2024-12-03T01:32:01.890Z"
   },
   {
    "duration": 3,
    "start_time": "2024-12-03T01:33:30.923Z"
   },
   {
    "duration": 3,
    "start_time": "2024-12-03T01:33:56.546Z"
   },
   {
    "duration": 5,
    "start_time": "2024-12-03T01:35:19.545Z"
   },
   {
    "duration": 5,
    "start_time": "2024-12-03T01:36:16.436Z"
   },
   {
    "duration": 5,
    "start_time": "2024-12-03T01:37:26.406Z"
   },
   {
    "duration": 5,
    "start_time": "2024-12-03T01:39:38.546Z"
   },
   {
    "duration": 5,
    "start_time": "2024-12-03T01:40:31.978Z"
   },
   {
    "duration": 5,
    "start_time": "2024-12-03T01:40:35.238Z"
   },
   {
    "duration": 5,
    "start_time": "2024-12-03T01:45:37.885Z"
   },
   {
    "duration": 92,
    "start_time": "2024-12-03T01:46:10.130Z"
   },
   {
    "duration": 91,
    "start_time": "2024-12-03T01:46:28.887Z"
   },
   {
    "duration": 5,
    "start_time": "2024-12-03T01:47:58.453Z"
   },
   {
    "duration": 93,
    "start_time": "2024-12-03T01:48:11.097Z"
   },
   {
    "duration": 77,
    "start_time": "2024-12-03T01:48:52.105Z"
   },
   {
    "duration": 190,
    "start_time": "2024-12-03T01:48:54.404Z"
   },
   {
    "duration": 89,
    "start_time": "2024-12-03T01:50:00.667Z"
   },
   {
    "duration": 61,
    "start_time": "2024-12-03T02:10:09.999Z"
   },
   {
    "duration": 5,
    "start_time": "2024-12-03T02:40:35.813Z"
   },
   {
    "duration": 136,
    "start_time": "2024-12-03T02:40:46.378Z"
   },
   {
    "duration": 14,
    "start_time": "2024-12-03T02:40:52.805Z"
   },
   {
    "duration": 7,
    "start_time": "2024-12-03T02:40:56.202Z"
   },
   {
    "duration": 486,
    "start_time": "2024-12-03T02:41:09.321Z"
   },
   {
    "duration": 74,
    "start_time": "2024-12-03T02:41:21.216Z"
   },
   {
    "duration": 78,
    "start_time": "2024-12-03T02:41:28.782Z"
   },
   {
    "duration": 210,
    "start_time": "2024-12-03T02:41:36.829Z"
   },
   {
    "duration": 85,
    "start_time": "2024-12-03T02:53:10.506Z"
   },
   {
    "duration": 116,
    "start_time": "2024-12-03T02:53:29.026Z"
   },
   {
    "duration": 219,
    "start_time": "2024-12-03T02:53:46.806Z"
   },
   {
    "duration": 85,
    "start_time": "2024-12-03T02:54:03.891Z"
   },
   {
    "duration": 2708,
    "start_time": "2024-12-04T01:36:12.275Z"
   },
   {
    "duration": 616,
    "start_time": "2024-12-04T01:36:14.985Z"
   },
   {
    "duration": 20,
    "start_time": "2024-12-04T01:36:15.602Z"
   },
   {
    "duration": 16,
    "start_time": "2024-12-04T01:36:15.625Z"
   },
   {
    "duration": 36,
    "start_time": "2024-12-04T01:36:15.642Z"
   },
   {
    "duration": 4,
    "start_time": "2024-12-04T01:36:15.679Z"
   },
   {
    "duration": 4,
    "start_time": "2024-12-04T01:36:15.686Z"
   },
   {
    "duration": 5,
    "start_time": "2024-12-04T01:36:15.692Z"
   },
   {
    "duration": 5,
    "start_time": "2024-12-04T01:36:15.699Z"
   },
   {
    "duration": 2,
    "start_time": "2024-12-04T01:36:15.708Z"
   },
   {
    "duration": 4,
    "start_time": "2024-12-04T01:36:15.712Z"
   },
   {
    "duration": 54,
    "start_time": "2024-12-04T01:36:15.721Z"
   },
   {
    "duration": 3,
    "start_time": "2024-12-04T01:36:15.776Z"
   },
   {
    "duration": 8,
    "start_time": "2024-12-04T01:36:15.781Z"
   },
   {
    "duration": 6,
    "start_time": "2024-12-04T01:36:15.791Z"
   },
   {
    "duration": 10,
    "start_time": "2024-12-04T01:36:15.799Z"
   },
   {
    "duration": 3,
    "start_time": "2024-12-04T01:36:15.810Z"
   },
   {
    "duration": 90,
    "start_time": "2024-12-04T01:36:15.815Z"
   },
   {
    "duration": 18,
    "start_time": "2024-12-04T01:36:15.907Z"
   },
   {
    "duration": 100,
    "start_time": "2024-12-04T01:36:15.926Z"
   },
   {
    "duration": 3,
    "start_time": "2024-12-04T01:36:16.028Z"
   },
   {
    "duration": 14,
    "start_time": "2024-12-04T01:36:16.033Z"
   },
   {
    "duration": 22,
    "start_time": "2024-12-04T01:36:16.048Z"
   },
   {
    "duration": 16,
    "start_time": "2024-12-04T01:36:16.072Z"
   },
   {
    "duration": 7,
    "start_time": "2024-12-04T01:36:16.090Z"
   },
   {
    "duration": 14,
    "start_time": "2024-12-04T01:36:16.098Z"
   },
   {
    "duration": 15,
    "start_time": "2024-12-04T01:36:16.114Z"
   },
   {
    "duration": 39,
    "start_time": "2024-12-04T01:36:16.134Z"
   },
   {
    "duration": 112,
    "start_time": "2024-12-04T01:36:16.175Z"
   },
   {
    "duration": 186,
    "start_time": "2024-12-04T01:36:16.289Z"
   },
   {
    "duration": 122,
    "start_time": "2024-12-04T01:36:16.477Z"
   },
   {
    "duration": 5,
    "start_time": "2024-12-04T01:36:16.601Z"
   },
   {
    "duration": 5,
    "start_time": "2024-12-04T01:36:16.607Z"
   },
   {
    "duration": 800,
    "start_time": "2024-12-04T01:36:16.613Z"
   },
   {
    "duration": 1139,
    "start_time": "2024-12-04T01:36:17.415Z"
   },
   {
    "duration": 19,
    "start_time": "2024-12-04T01:36:18.556Z"
   },
   {
    "duration": 6,
    "start_time": "2024-12-04T01:36:18.576Z"
   },
   {
    "duration": 19,
    "start_time": "2024-12-04T01:36:18.584Z"
   },
   {
    "duration": 3,
    "start_time": "2024-12-04T01:36:18.605Z"
   },
   {
    "duration": 6,
    "start_time": "2024-12-04T01:36:18.610Z"
   },
   {
    "duration": 4,
    "start_time": "2024-12-04T01:36:18.618Z"
   },
   {
    "duration": 6,
    "start_time": "2024-12-04T01:36:18.624Z"
   },
   {
    "duration": 7,
    "start_time": "2024-12-04T01:36:18.632Z"
   },
   {
    "duration": 3,
    "start_time": "2024-12-04T01:36:18.640Z"
   },
   {
    "duration": 231,
    "start_time": "2024-12-04T01:36:18.670Z"
   },
   {
    "duration": 0,
    "start_time": "2024-12-04T01:36:18.904Z"
   },
   {
    "duration": 0,
    "start_time": "2024-12-04T01:36:18.905Z"
   },
   {
    "duration": 0,
    "start_time": "2024-12-04T01:36:18.906Z"
   },
   {
    "duration": 0,
    "start_time": "2024-12-04T01:36:18.907Z"
   },
   {
    "duration": 0,
    "start_time": "2024-12-04T01:36:18.908Z"
   },
   {
    "duration": 0,
    "start_time": "2024-12-04T01:36:18.909Z"
   },
   {
    "duration": 3,
    "start_time": "2024-12-04T01:36:43.983Z"
   },
   {
    "duration": 14,
    "start_time": "2024-12-04T01:36:44.809Z"
   },
   {
    "duration": 21,
    "start_time": "2024-12-04T01:36:46.531Z"
   },
   {
    "duration": 979,
    "start_time": "2024-12-04T01:37:27.956Z"
   },
   {
    "duration": 483,
    "start_time": "2024-12-04T01:37:30.209Z"
   },
   {
    "duration": 20,
    "start_time": "2024-12-04T01:37:31.826Z"
   },
   {
    "duration": 18,
    "start_time": "2024-12-04T01:37:32.535Z"
   },
   {
    "duration": 20,
    "start_time": "2024-12-04T01:37:33.373Z"
   },
   {
    "duration": 4,
    "start_time": "2024-12-04T01:37:36.135Z"
   },
   {
    "duration": 5,
    "start_time": "2024-12-04T01:37:38.146Z"
   },
   {
    "duration": 4,
    "start_time": "2024-12-04T01:37:38.938Z"
   },
   {
    "duration": 5,
    "start_time": "2024-12-04T01:37:39.660Z"
   },
   {
    "duration": 3,
    "start_time": "2024-12-04T01:37:41.595Z"
   },
   {
    "duration": 4,
    "start_time": "2024-12-04T01:37:42.412Z"
   },
   {
    "duration": 13,
    "start_time": "2024-12-04T01:37:44.869Z"
   },
   {
    "duration": 3,
    "start_time": "2024-12-04T01:37:47.302Z"
   },
   {
    "duration": 9,
    "start_time": "2024-12-04T01:37:49.250Z"
   },
   {
    "duration": 7,
    "start_time": "2024-12-04T01:37:51.365Z"
   },
   {
    "duration": 11,
    "start_time": "2024-12-04T01:37:54.470Z"
   },
   {
    "duration": 3,
    "start_time": "2024-12-04T01:37:57.331Z"
   },
   {
    "duration": 61,
    "start_time": "2024-12-04T01:37:58.631Z"
   },
   {
    "duration": 18,
    "start_time": "2024-12-04T01:38:00.068Z"
   },
   {
    "duration": 86,
    "start_time": "2024-12-04T01:38:00.866Z"
   },
   {
    "duration": 2,
    "start_time": "2024-12-04T01:38:05.616Z"
   },
   {
    "duration": 12,
    "start_time": "2024-12-04T01:38:07.244Z"
   },
   {
    "duration": 7,
    "start_time": "2024-12-04T01:38:10.387Z"
   },
   {
    "duration": 15,
    "start_time": "2024-12-04T01:38:14.357Z"
   },
   {
    "duration": 7,
    "start_time": "2024-12-04T01:38:17.147Z"
   },
   {
    "duration": 13,
    "start_time": "2024-12-04T01:38:20.244Z"
   },
   {
    "duration": 15,
    "start_time": "2024-12-04T01:38:22.126Z"
   },
   {
    "duration": 6,
    "start_time": "2024-12-04T01:38:25.020Z"
   },
   {
    "duration": 100,
    "start_time": "2024-12-04T01:38:28.167Z"
   },
   {
    "duration": 112,
    "start_time": "2024-12-04T01:38:35.690Z"
   },
   {
    "duration": 92,
    "start_time": "2024-12-04T01:38:41.580Z"
   },
   {
    "duration": 6,
    "start_time": "2024-12-04T01:38:47.340Z"
   },
   {
    "duration": 5,
    "start_time": "2024-12-04T01:38:48.949Z"
   },
   {
    "duration": 732,
    "start_time": "2024-12-04T01:38:50.313Z"
   },
   {
    "duration": 1160,
    "start_time": "2024-12-04T01:38:52.016Z"
   },
   {
    "duration": 9,
    "start_time": "2024-12-04T01:38:53.202Z"
   },
   {
    "duration": 6,
    "start_time": "2024-12-04T01:38:55.469Z"
   },
   {
    "duration": 4,
    "start_time": "2024-12-04T01:38:57.821Z"
   },
   {
    "duration": 2,
    "start_time": "2024-12-04T01:39:00.307Z"
   },
   {
    "duration": 6,
    "start_time": "2024-12-04T01:39:01.902Z"
   },
   {
    "duration": 5,
    "start_time": "2024-12-04T01:39:02.627Z"
   },
   {
    "duration": 7,
    "start_time": "2024-12-04T01:39:04.643Z"
   },
   {
    "duration": 7,
    "start_time": "2024-12-04T01:39:06.517Z"
   },
   {
    "duration": 3,
    "start_time": "2024-12-04T01:39:09.391Z"
   },
   {
    "duration": 308,
    "start_time": "2024-12-04T01:39:11.691Z"
   },
   {
    "duration": 5,
    "start_time": "2024-12-04T01:39:57.677Z"
   },
   {
    "duration": 4,
    "start_time": "2024-12-04T01:40:11.775Z"
   },
   {
    "duration": 4,
    "start_time": "2024-12-04T01:40:31.524Z"
   },
   {
    "duration": 91,
    "start_time": "2024-12-04T01:40:35.414Z"
   },
   {
    "duration": 74,
    "start_time": "2024-12-04T01:40:37.755Z"
   },
   {
    "duration": 85,
    "start_time": "2024-12-04T01:40:39.058Z"
   },
   {
    "duration": 433,
    "start_time": "2024-12-04T01:40:41.875Z"
   },
   {
    "duration": 2796,
    "start_time": "2024-12-04T03:01:31.961Z"
   },
   {
    "duration": 624,
    "start_time": "2024-12-04T03:01:34.759Z"
   },
   {
    "duration": 28,
    "start_time": "2024-12-04T03:01:35.385Z"
   },
   {
    "duration": 18,
    "start_time": "2024-12-04T03:01:35.416Z"
   },
   {
    "duration": 19,
    "start_time": "2024-12-04T03:01:35.436Z"
   },
   {
    "duration": 3,
    "start_time": "2024-12-04T03:01:35.457Z"
   },
   {
    "duration": 5,
    "start_time": "2024-12-04T03:01:35.462Z"
   },
   {
    "duration": 4,
    "start_time": "2024-12-04T03:01:35.468Z"
   },
   {
    "duration": 41,
    "start_time": "2024-12-04T03:01:35.473Z"
   },
   {
    "duration": 3,
    "start_time": "2024-12-04T03:01:35.516Z"
   },
   {
    "duration": 4,
    "start_time": "2024-12-04T03:01:35.521Z"
   },
   {
    "duration": 14,
    "start_time": "2024-12-04T03:01:35.526Z"
   },
   {
    "duration": 3,
    "start_time": "2024-12-04T03:01:35.542Z"
   },
   {
    "duration": 8,
    "start_time": "2024-12-04T03:01:35.547Z"
   },
   {
    "duration": 6,
    "start_time": "2024-12-04T03:01:35.556Z"
   },
   {
    "duration": 9,
    "start_time": "2024-12-04T03:01:35.563Z"
   },
   {
    "duration": 2,
    "start_time": "2024-12-04T03:01:35.613Z"
   },
   {
    "duration": 60,
    "start_time": "2024-12-04T03:01:35.617Z"
   },
   {
    "duration": 34,
    "start_time": "2024-12-04T03:01:35.679Z"
   },
   {
    "duration": 87,
    "start_time": "2024-12-04T03:01:35.714Z"
   },
   {
    "duration": 3,
    "start_time": "2024-12-04T03:01:35.811Z"
   },
   {
    "duration": 13,
    "start_time": "2024-12-04T03:01:35.816Z"
   },
   {
    "duration": 6,
    "start_time": "2024-12-04T03:01:35.830Z"
   },
   {
    "duration": 15,
    "start_time": "2024-12-04T03:01:35.838Z"
   },
   {
    "duration": 7,
    "start_time": "2024-12-04T03:01:35.855Z"
   },
   {
    "duration": 14,
    "start_time": "2024-12-04T03:01:35.863Z"
   },
   {
    "duration": 14,
    "start_time": "2024-12-04T03:01:35.912Z"
   },
   {
    "duration": 6,
    "start_time": "2024-12-04T03:01:35.931Z"
   },
   {
    "duration": 127,
    "start_time": "2024-12-04T03:01:35.939Z"
   },
   {
    "duration": 121,
    "start_time": "2024-12-04T03:01:36.070Z"
   },
   {
    "duration": 160,
    "start_time": "2024-12-04T03:01:36.193Z"
   },
   {
    "duration": 5,
    "start_time": "2024-12-04T03:01:36.355Z"
   },
   {
    "duration": 4,
    "start_time": "2024-12-04T03:01:36.362Z"
   },
   {
    "duration": 771,
    "start_time": "2024-12-04T03:01:36.368Z"
   },
   {
    "duration": 1153,
    "start_time": "2024-12-04T03:01:37.140Z"
   },
   {
    "duration": 7,
    "start_time": "2024-12-04T03:01:38.294Z"
   },
   {
    "duration": 6,
    "start_time": "2024-12-04T03:01:38.312Z"
   },
   {
    "duration": 5,
    "start_time": "2024-12-04T03:01:38.319Z"
   },
   {
    "duration": 4,
    "start_time": "2024-12-04T03:01:38.325Z"
   },
   {
    "duration": 7,
    "start_time": "2024-12-04T03:01:38.330Z"
   },
   {
    "duration": 4,
    "start_time": "2024-12-04T03:01:38.339Z"
   },
   {
    "duration": 6,
    "start_time": "2024-12-04T03:01:38.345Z"
   },
   {
    "duration": 6,
    "start_time": "2024-12-04T03:01:38.353Z"
   },
   {
    "duration": 3,
    "start_time": "2024-12-04T03:01:38.360Z"
   },
   {
    "duration": 46,
    "start_time": "2024-12-04T03:01:38.365Z"
   },
   {
    "duration": 5,
    "start_time": "2024-12-04T03:01:38.413Z"
   },
   {
    "duration": 4,
    "start_time": "2024-12-04T03:01:38.420Z"
   },
   {
    "duration": 110,
    "start_time": "2024-12-04T03:01:38.425Z"
   },
   {
    "duration": 81,
    "start_time": "2024-12-04T03:01:38.537Z"
   },
   {
    "duration": 93,
    "start_time": "2024-12-04T03:01:38.620Z"
   },
   {
    "duration": 446,
    "start_time": "2024-12-04T03:01:38.714Z"
   },
   {
    "duration": 10,
    "start_time": "2024-12-04T03:01:39.162Z"
   },
   {
    "duration": 3,
    "start_time": "2024-12-04T03:02:12.596Z"
   },
   {
    "duration": 5,
    "start_time": "2024-12-04T03:03:48.444Z"
   },
   {
    "duration": 7,
    "start_time": "2024-12-04T03:04:35.345Z"
   },
   {
    "duration": 6,
    "start_time": "2024-12-04T03:04:40.139Z"
   },
   {
    "duration": 5,
    "start_time": "2024-12-04T03:07:07.278Z"
   },
   {
    "duration": 6,
    "start_time": "2024-12-04T03:07:14.518Z"
   },
   {
    "duration": 355,
    "start_time": "2024-12-04T03:07:23.720Z"
   },
   {
    "duration": 6,
    "start_time": "2024-12-04T03:07:29.422Z"
   },
   {
    "duration": 17,
    "start_time": "2024-12-04T03:29:22.898Z"
   },
   {
    "duration": 5,
    "start_time": "2024-12-04T03:29:28.330Z"
   },
   {
    "duration": 7,
    "start_time": "2024-12-04T03:33:00.697Z"
   },
   {
    "duration": 6,
    "start_time": "2024-12-04T03:35:07.609Z"
   },
   {
    "duration": 256,
    "start_time": "2024-12-04T03:36:40.156Z"
   },
   {
    "duration": 6,
    "start_time": "2024-12-04T03:56:17.893Z"
   },
   {
    "duration": 11,
    "start_time": "2024-12-04T03:56:32.602Z"
   },
   {
    "duration": 986,
    "start_time": "2024-12-04T04:02:56.694Z"
   },
   {
    "duration": 496,
    "start_time": "2024-12-04T04:02:57.682Z"
   },
   {
    "duration": 20,
    "start_time": "2024-12-04T04:02:58.180Z"
   },
   {
    "duration": 20,
    "start_time": "2024-12-04T04:02:58.202Z"
   },
   {
    "duration": 19,
    "start_time": "2024-12-04T04:02:58.224Z"
   },
   {
    "duration": 4,
    "start_time": "2024-12-04T04:02:58.244Z"
   },
   {
    "duration": 4,
    "start_time": "2024-12-04T04:02:58.250Z"
   },
   {
    "duration": 4,
    "start_time": "2024-12-04T04:02:58.255Z"
   },
   {
    "duration": 5,
    "start_time": "2024-12-04T04:02:58.260Z"
   },
   {
    "duration": 3,
    "start_time": "2024-12-04T04:02:58.268Z"
   },
   {
    "duration": 41,
    "start_time": "2024-12-04T04:02:58.272Z"
   },
   {
    "duration": 13,
    "start_time": "2024-12-04T04:02:58.315Z"
   },
   {
    "duration": 3,
    "start_time": "2024-12-04T04:02:58.330Z"
   },
   {
    "duration": 9,
    "start_time": "2024-12-04T04:02:58.334Z"
   },
   {
    "duration": 6,
    "start_time": "2024-12-04T04:02:58.345Z"
   },
   {
    "duration": 8,
    "start_time": "2024-12-04T04:02:58.353Z"
   },
   {
    "duration": 2,
    "start_time": "2024-12-04T04:02:58.363Z"
   },
   {
    "duration": 99,
    "start_time": "2024-12-04T04:02:58.367Z"
   },
   {
    "duration": 18,
    "start_time": "2024-12-04T04:02:58.467Z"
   },
   {
    "duration": 97,
    "start_time": "2024-12-04T04:02:58.487Z"
   },
   {
    "duration": 3,
    "start_time": "2024-12-04T04:02:58.585Z"
   },
   {
    "duration": 25,
    "start_time": "2024-12-04T04:02:58.591Z"
   },
   {
    "duration": 7,
    "start_time": "2024-12-04T04:02:58.617Z"
   },
   {
    "duration": 15,
    "start_time": "2024-12-04T04:02:58.627Z"
   },
   {
    "duration": 6,
    "start_time": "2024-12-04T04:02:58.644Z"
   },
   {
    "duration": 12,
    "start_time": "2024-12-04T04:02:58.652Z"
   },
   {
    "duration": 14,
    "start_time": "2024-12-04T04:02:58.666Z"
   },
   {
    "duration": 30,
    "start_time": "2024-12-04T04:02:58.685Z"
   },
   {
    "duration": 116,
    "start_time": "2024-12-04T04:02:58.717Z"
   },
   {
    "duration": 113,
    "start_time": "2024-12-04T04:02:58.835Z"
   },
   {
    "duration": 108,
    "start_time": "2024-12-04T04:02:58.950Z"
   },
   {
    "duration": 4,
    "start_time": "2024-12-04T04:02:59.060Z"
   },
   {
    "duration": 5,
    "start_time": "2024-12-04T04:02:59.066Z"
   },
   {
    "duration": 763,
    "start_time": "2024-12-04T04:02:59.073Z"
   },
   {
    "duration": 1122,
    "start_time": "2024-12-04T04:02:59.838Z"
   },
   {
    "duration": 7,
    "start_time": "2024-12-04T04:03:00.963Z"
   },
   {
    "duration": 6,
    "start_time": "2024-12-04T04:03:00.971Z"
   },
   {
    "duration": 5,
    "start_time": "2024-12-04T04:03:00.979Z"
   },
   {
    "duration": 27,
    "start_time": "2024-12-04T04:03:00.985Z"
   },
   {
    "duration": 5,
    "start_time": "2024-12-04T04:03:01.014Z"
   },
   {
    "duration": 0,
    "start_time": "2024-12-04T04:03:01.021Z"
   },
   {
    "duration": 0,
    "start_time": "2024-12-04T04:03:01.023Z"
   },
   {
    "duration": 0,
    "start_time": "2024-12-04T04:03:01.024Z"
   },
   {
    "duration": 0,
    "start_time": "2024-12-04T04:03:01.025Z"
   },
   {
    "duration": 0,
    "start_time": "2024-12-04T04:03:01.027Z"
   },
   {
    "duration": 0,
    "start_time": "2024-12-04T04:03:01.028Z"
   },
   {
    "duration": 0,
    "start_time": "2024-12-04T04:03:01.030Z"
   },
   {
    "duration": 0,
    "start_time": "2024-12-04T04:03:01.032Z"
   },
   {
    "duration": 0,
    "start_time": "2024-12-04T04:03:01.033Z"
   },
   {
    "duration": 0,
    "start_time": "2024-12-04T04:03:01.035Z"
   },
   {
    "duration": 0,
    "start_time": "2024-12-04T04:03:01.036Z"
   },
   {
    "duration": 0,
    "start_time": "2024-12-04T04:03:01.037Z"
   },
   {
    "duration": 0,
    "start_time": "2024-12-04T04:03:01.039Z"
   },
   {
    "duration": 0,
    "start_time": "2024-12-04T04:03:01.040Z"
   },
   {
    "duration": 0,
    "start_time": "2024-12-04T04:03:01.041Z"
   },
   {
    "duration": 0,
    "start_time": "2024-12-04T04:03:01.043Z"
   },
   {
    "duration": 0,
    "start_time": "2024-12-04T04:03:01.045Z"
   },
   {
    "duration": 979,
    "start_time": "2024-12-04T04:03:22.992Z"
   },
   {
    "duration": 485,
    "start_time": "2024-12-04T04:03:23.972Z"
   },
   {
    "duration": 19,
    "start_time": "2024-12-04T04:03:24.459Z"
   },
   {
    "duration": 16,
    "start_time": "2024-12-04T04:03:24.481Z"
   },
   {
    "duration": 19,
    "start_time": "2024-12-04T04:03:24.511Z"
   },
   {
    "duration": 3,
    "start_time": "2024-12-04T04:03:24.531Z"
   },
   {
    "duration": 4,
    "start_time": "2024-12-04T04:03:24.536Z"
   },
   {
    "duration": 4,
    "start_time": "2024-12-04T04:03:24.542Z"
   },
   {
    "duration": 4,
    "start_time": "2024-12-04T04:03:24.547Z"
   },
   {
    "duration": 2,
    "start_time": "2024-12-04T04:03:24.555Z"
   },
   {
    "duration": 5,
    "start_time": "2024-12-04T04:03:24.558Z"
   },
   {
    "duration": 54,
    "start_time": "2024-12-04T04:03:24.564Z"
   },
   {
    "duration": 3,
    "start_time": "2024-12-04T04:03:24.619Z"
   },
   {
    "duration": 9,
    "start_time": "2024-12-04T04:03:24.624Z"
   },
   {
    "duration": 6,
    "start_time": "2024-12-04T04:03:24.634Z"
   },
   {
    "duration": 9,
    "start_time": "2024-12-04T04:03:24.642Z"
   },
   {
    "duration": 2,
    "start_time": "2024-12-04T04:03:24.653Z"
   },
   {
    "duration": 88,
    "start_time": "2024-12-04T04:03:24.657Z"
   },
   {
    "duration": 17,
    "start_time": "2024-12-04T04:03:24.747Z"
   },
   {
    "duration": 101,
    "start_time": "2024-12-04T04:03:24.766Z"
   },
   {
    "duration": 2,
    "start_time": "2024-12-04T04:03:24.869Z"
   },
   {
    "duration": 13,
    "start_time": "2024-12-04T04:03:24.873Z"
   },
   {
    "duration": 6,
    "start_time": "2024-12-04T04:03:24.888Z"
   },
   {
    "duration": 20,
    "start_time": "2024-12-04T04:03:24.912Z"
   },
   {
    "duration": 6,
    "start_time": "2024-12-04T04:03:24.934Z"
   },
   {
    "duration": 13,
    "start_time": "2024-12-04T04:03:24.942Z"
   },
   {
    "duration": 15,
    "start_time": "2024-12-04T04:03:24.956Z"
   },
   {
    "duration": 5,
    "start_time": "2024-12-04T04:03:24.975Z"
   },
   {
    "duration": 143,
    "start_time": "2024-12-04T04:03:24.982Z"
   },
   {
    "duration": 127,
    "start_time": "2024-12-04T04:03:25.127Z"
   },
   {
    "duration": 110,
    "start_time": "2024-12-04T04:03:25.256Z"
   },
   {
    "duration": 5,
    "start_time": "2024-12-04T04:03:25.368Z"
   },
   {
    "duration": 4,
    "start_time": "2024-12-04T04:03:25.375Z"
   },
   {
    "duration": 760,
    "start_time": "2024-12-04T04:03:25.380Z"
   },
   {
    "duration": 1121,
    "start_time": "2024-12-04T04:03:26.142Z"
   },
   {
    "duration": 9,
    "start_time": "2024-12-04T04:03:27.266Z"
   },
   {
    "duration": 7,
    "start_time": "2024-12-04T04:03:27.278Z"
   },
   {
    "duration": 4,
    "start_time": "2024-12-04T04:03:27.287Z"
   },
   {
    "duration": 4,
    "start_time": "2024-12-04T04:03:27.312Z"
   },
   {
    "duration": 5,
    "start_time": "2024-12-04T04:03:27.318Z"
   },
   {
    "duration": 0,
    "start_time": "2024-12-04T04:03:27.324Z"
   },
   {
    "duration": 0,
    "start_time": "2024-12-04T04:03:27.325Z"
   },
   {
    "duration": 0,
    "start_time": "2024-12-04T04:03:27.326Z"
   },
   {
    "duration": 0,
    "start_time": "2024-12-04T04:03:27.327Z"
   },
   {
    "duration": 0,
    "start_time": "2024-12-04T04:03:27.328Z"
   },
   {
    "duration": 0,
    "start_time": "2024-12-04T04:03:27.330Z"
   },
   {
    "duration": 0,
    "start_time": "2024-12-04T04:03:27.332Z"
   },
   {
    "duration": 0,
    "start_time": "2024-12-04T04:03:27.332Z"
   },
   {
    "duration": 0,
    "start_time": "2024-12-04T04:03:27.333Z"
   },
   {
    "duration": 0,
    "start_time": "2024-12-04T04:03:27.334Z"
   },
   {
    "duration": 0,
    "start_time": "2024-12-04T04:03:27.336Z"
   },
   {
    "duration": 0,
    "start_time": "2024-12-04T04:03:27.337Z"
   },
   {
    "duration": 0,
    "start_time": "2024-12-04T04:03:27.338Z"
   },
   {
    "duration": 0,
    "start_time": "2024-12-04T04:03:27.339Z"
   },
   {
    "duration": 0,
    "start_time": "2024-12-04T04:03:27.340Z"
   },
   {
    "duration": 0,
    "start_time": "2024-12-04T04:03:27.342Z"
   },
   {
    "duration": 0,
    "start_time": "2024-12-04T04:03:27.344Z"
   },
   {
    "duration": 995,
    "start_time": "2024-12-04T04:03:55.373Z"
   },
   {
    "duration": 506,
    "start_time": "2024-12-04T04:03:56.370Z"
   },
   {
    "duration": 19,
    "start_time": "2024-12-04T04:03:56.878Z"
   },
   {
    "duration": 25,
    "start_time": "2024-12-04T04:03:56.899Z"
   },
   {
    "duration": 19,
    "start_time": "2024-12-04T04:03:56.926Z"
   },
   {
    "duration": 3,
    "start_time": "2024-12-04T04:03:56.947Z"
   },
   {
    "duration": 4,
    "start_time": "2024-12-04T04:03:56.952Z"
   },
   {
    "duration": 3,
    "start_time": "2024-12-04T04:03:56.958Z"
   },
   {
    "duration": 4,
    "start_time": "2024-12-04T04:03:56.963Z"
   },
   {
    "duration": 2,
    "start_time": "2024-12-04T04:03:56.971Z"
   },
   {
    "duration": 3,
    "start_time": "2024-12-04T04:03:57.012Z"
   },
   {
    "duration": 13,
    "start_time": "2024-12-04T04:03:57.017Z"
   },
   {
    "duration": 3,
    "start_time": "2024-12-04T04:03:57.031Z"
   },
   {
    "duration": 10,
    "start_time": "2024-12-04T04:03:57.035Z"
   },
   {
    "duration": 6,
    "start_time": "2024-12-04T04:03:57.046Z"
   },
   {
    "duration": 9,
    "start_time": "2024-12-04T04:03:57.053Z"
   },
   {
    "duration": 2,
    "start_time": "2024-12-04T04:03:57.064Z"
   },
   {
    "duration": 99,
    "start_time": "2024-12-04T04:03:57.067Z"
   },
   {
    "duration": 18,
    "start_time": "2024-12-04T04:03:57.168Z"
   },
   {
    "duration": 105,
    "start_time": "2024-12-04T04:03:57.187Z"
   },
   {
    "duration": 3,
    "start_time": "2024-12-04T04:03:57.294Z"
   },
   {
    "duration": 22,
    "start_time": "2024-12-04T04:03:57.299Z"
   },
   {
    "duration": 7,
    "start_time": "2024-12-04T04:03:57.322Z"
   },
   {
    "duration": 15,
    "start_time": "2024-12-04T04:03:57.331Z"
   },
   {
    "duration": 6,
    "start_time": "2024-12-04T04:03:57.348Z"
   },
   {
    "duration": 12,
    "start_time": "2024-12-04T04:03:57.356Z"
   },
   {
    "duration": 43,
    "start_time": "2024-12-04T04:03:57.370Z"
   },
   {
    "duration": 6,
    "start_time": "2024-12-04T04:03:57.417Z"
   },
   {
    "duration": 117,
    "start_time": "2024-12-04T04:03:57.425Z"
   },
   {
    "duration": 123,
    "start_time": "2024-12-04T04:03:57.544Z"
   },
   {
    "duration": 106,
    "start_time": "2024-12-04T04:03:57.669Z"
   },
   {
    "duration": 4,
    "start_time": "2024-12-04T04:03:57.777Z"
   },
   {
    "duration": 4,
    "start_time": "2024-12-04T04:03:57.782Z"
   },
   {
    "duration": 757,
    "start_time": "2024-12-04T04:03:57.788Z"
   },
   {
    "duration": 1109,
    "start_time": "2024-12-04T04:03:58.547Z"
   },
   {
    "duration": 7,
    "start_time": "2024-12-04T04:03:59.658Z"
   },
   {
    "duration": 6,
    "start_time": "2024-12-04T04:03:59.666Z"
   },
   {
    "duration": 5,
    "start_time": "2024-12-04T04:03:59.674Z"
   },
   {
    "duration": 31,
    "start_time": "2024-12-04T04:03:59.680Z"
   },
   {
    "duration": 6,
    "start_time": "2024-12-04T04:03:59.713Z"
   },
   {
    "duration": 5,
    "start_time": "2024-12-04T04:03:59.721Z"
   },
   {
    "duration": 7,
    "start_time": "2024-12-04T04:03:59.728Z"
   },
   {
    "duration": 7,
    "start_time": "2024-12-04T04:03:59.737Z"
   },
   {
    "duration": 4,
    "start_time": "2024-12-04T04:03:59.746Z"
   },
   {
    "duration": 4,
    "start_time": "2024-12-04T04:03:59.752Z"
   },
   {
    "duration": 5,
    "start_time": "2024-12-04T04:03:59.757Z"
   },
   {
    "duration": 4,
    "start_time": "2024-12-04T04:03:59.763Z"
   },
   {
    "duration": 105,
    "start_time": "2024-12-04T04:03:59.812Z"
   },
   {
    "duration": 81,
    "start_time": "2024-12-04T04:03:59.919Z"
   },
   {
    "duration": 93,
    "start_time": "2024-12-04T04:04:00.001Z"
   },
   {
    "duration": 503,
    "start_time": "2024-12-04T04:04:00.096Z"
   },
   {
    "duration": 5,
    "start_time": "2024-12-04T04:04:00.612Z"
   },
   {
    "duration": 5,
    "start_time": "2024-12-04T04:04:00.619Z"
   },
   {
    "duration": 5,
    "start_time": "2024-12-04T04:04:00.626Z"
   },
   {
    "duration": 7,
    "start_time": "2024-12-04T04:04:00.632Z"
   },
   {
    "duration": 6,
    "start_time": "2024-12-04T04:04:00.640Z"
   },
   {
    "duration": 4,
    "start_time": "2024-12-04T04:04:00.648Z"
   },
   {
    "duration": 3,
    "start_time": "2024-12-04T04:11:21.283Z"
   },
   {
    "duration": 5,
    "start_time": "2024-12-04T04:11:32.711Z"
   },
   {
    "duration": 10,
    "start_time": "2024-12-04T04:11:48.101Z"
   },
   {
    "duration": 4,
    "start_time": "2024-12-04T04:13:58.399Z"
   },
   {
    "duration": 293,
    "start_time": "2024-12-04T04:27:07.909Z"
   },
   {
    "duration": 18,
    "start_time": "2024-12-04T04:27:23.655Z"
   },
   {
    "duration": 13,
    "start_time": "2024-12-04T04:33:36.181Z"
   },
   {
    "duration": 6,
    "start_time": "2024-12-04T04:34:34.867Z"
   },
   {
    "duration": 3,
    "start_time": "2024-12-04T04:36:52.004Z"
   },
   {
    "duration": 4,
    "start_time": "2024-12-04T04:36:56.564Z"
   },
   {
    "duration": 14,
    "start_time": "2024-12-04T04:37:56.926Z"
   },
   {
    "duration": 5,
    "start_time": "2024-12-04T04:38:08.045Z"
   },
   {
    "duration": 17,
    "start_time": "2024-12-04T04:43:06.766Z"
   },
   {
    "duration": 1124,
    "start_time": "2024-12-04T04:43:57.487Z"
   },
   {
    "duration": 576,
    "start_time": "2024-12-04T04:43:58.616Z"
   },
   {
    "duration": 26,
    "start_time": "2024-12-04T04:43:59.195Z"
   },
   {
    "duration": 17,
    "start_time": "2024-12-04T04:43:59.224Z"
   },
   {
    "duration": 20,
    "start_time": "2024-12-04T04:43:59.243Z"
   },
   {
    "duration": 4,
    "start_time": "2024-12-04T04:43:59.265Z"
   },
   {
    "duration": 4,
    "start_time": "2024-12-04T04:43:59.271Z"
   },
   {
    "duration": 6,
    "start_time": "2024-12-04T04:43:59.311Z"
   },
   {
    "duration": 5,
    "start_time": "2024-12-04T04:43:59.319Z"
   },
   {
    "duration": 3,
    "start_time": "2024-12-04T04:43:59.327Z"
   },
   {
    "duration": 4,
    "start_time": "2024-12-04T04:43:59.332Z"
   },
   {
    "duration": 14,
    "start_time": "2024-12-04T04:43:59.337Z"
   },
   {
    "duration": 3,
    "start_time": "2024-12-04T04:43:59.353Z"
   },
   {
    "duration": 11,
    "start_time": "2024-12-04T04:43:59.357Z"
   },
   {
    "duration": 43,
    "start_time": "2024-12-04T04:43:59.370Z"
   },
   {
    "duration": 10,
    "start_time": "2024-12-04T04:43:59.416Z"
   },
   {
    "duration": 3,
    "start_time": "2024-12-04T04:43:59.428Z"
   },
   {
    "duration": 59,
    "start_time": "2024-12-04T04:43:59.432Z"
   },
   {
    "duration": 19,
    "start_time": "2024-12-04T04:43:59.512Z"
   },
   {
    "duration": 97,
    "start_time": "2024-12-04T04:43:59.533Z"
   },
   {
    "duration": 2,
    "start_time": "2024-12-04T04:43:59.632Z"
   },
   {
    "duration": 14,
    "start_time": "2024-12-04T04:43:59.636Z"
   },
   {
    "duration": 6,
    "start_time": "2024-12-04T04:43:59.652Z"
   },
   {
    "duration": 16,
    "start_time": "2024-12-04T04:43:59.660Z"
   },
   {
    "duration": 33,
    "start_time": "2024-12-04T04:43:59.679Z"
   },
   {
    "duration": 13,
    "start_time": "2024-12-04T04:43:59.714Z"
   },
   {
    "duration": 15,
    "start_time": "2024-12-04T04:43:59.729Z"
   },
   {
    "duration": 8,
    "start_time": "2024-12-04T04:43:59.749Z"
   },
   {
    "duration": 142,
    "start_time": "2024-12-04T04:43:59.759Z"
   },
   {
    "duration": 126,
    "start_time": "2024-12-04T04:43:59.903Z"
   },
   {
    "duration": 107,
    "start_time": "2024-12-04T04:44:00.031Z"
   },
   {
    "duration": 5,
    "start_time": "2024-12-04T04:44:00.140Z"
   },
   {
    "duration": 5,
    "start_time": "2024-12-04T04:44:00.148Z"
   },
   {
    "duration": 807,
    "start_time": "2024-12-04T04:44:00.154Z"
   },
   {
    "duration": 1169,
    "start_time": "2024-12-04T04:44:00.963Z"
   },
   {
    "duration": 8,
    "start_time": "2024-12-04T04:44:02.134Z"
   },
   {
    "duration": 7,
    "start_time": "2024-12-04T04:44:02.145Z"
   },
   {
    "duration": 5,
    "start_time": "2024-12-04T04:44:02.153Z"
   },
   {
    "duration": 3,
    "start_time": "2024-12-04T04:44:02.160Z"
   },
   {
    "duration": 6,
    "start_time": "2024-12-04T04:44:02.164Z"
   },
   {
    "duration": 4,
    "start_time": "2024-12-04T04:44:02.172Z"
   },
   {
    "duration": 40,
    "start_time": "2024-12-04T04:44:02.178Z"
   },
   {
    "duration": 7,
    "start_time": "2024-12-04T04:44:02.220Z"
   },
   {
    "duration": 3,
    "start_time": "2024-12-04T04:44:02.229Z"
   },
   {
    "duration": 5,
    "start_time": "2024-12-04T04:44:02.234Z"
   },
   {
    "duration": 4,
    "start_time": "2024-12-04T04:44:02.242Z"
   },
   {
    "duration": 4,
    "start_time": "2024-12-04T04:44:02.248Z"
   },
   {
    "duration": 126,
    "start_time": "2024-12-04T04:44:02.253Z"
   },
   {
    "duration": 85,
    "start_time": "2024-12-04T04:44:02.381Z"
   },
   {
    "duration": 105,
    "start_time": "2024-12-04T04:44:02.469Z"
   },
   {
    "duration": 545,
    "start_time": "2024-12-04T04:44:02.576Z"
   },
   {
    "duration": 6,
    "start_time": "2024-12-04T04:44:03.123Z"
   },
   {
    "duration": 5,
    "start_time": "2024-12-04T04:44:03.131Z"
   },
   {
    "duration": 8,
    "start_time": "2024-12-04T04:44:03.138Z"
   },
   {
    "duration": 9,
    "start_time": "2024-12-04T04:44:03.148Z"
   },
   {
    "duration": 58,
    "start_time": "2024-12-04T04:44:03.159Z"
   },
   {
    "duration": 5,
    "start_time": "2024-12-04T04:44:03.221Z"
   },
   {
    "duration": 4,
    "start_time": "2024-12-04T04:44:03.227Z"
   },
   {
    "duration": 8,
    "start_time": "2024-12-04T04:44:03.232Z"
   },
   {
    "duration": 4,
    "start_time": "2024-12-04T04:44:03.242Z"
   },
   {
    "duration": 315,
    "start_time": "2024-12-04T04:44:03.248Z"
   },
   {
    "duration": 0,
    "start_time": "2024-12-04T04:44:03.568Z"
   },
   {
    "duration": 0,
    "start_time": "2024-12-04T04:44:03.569Z"
   },
   {
    "duration": 0,
    "start_time": "2024-12-04T04:44:03.571Z"
   },
   {
    "duration": 5,
    "start_time": "2024-12-04T04:46:07.858Z"
   },
   {
    "duration": 3,
    "start_time": "2024-12-04T04:46:12.248Z"
   },
   {
    "duration": 5,
    "start_time": "2024-12-04T04:46:13.940Z"
   },
   {
    "duration": 3,
    "start_time": "2024-12-04T04:46:19.886Z"
   },
   {
    "duration": 5,
    "start_time": "2024-12-04T04:46:21.406Z"
   },
   {
    "duration": 5,
    "start_time": "2024-12-04T04:46:23.704Z"
   },
   {
    "duration": 190,
    "start_time": "2024-12-04T04:49:02.278Z"
   },
   {
    "duration": 9,
    "start_time": "2024-12-04T04:49:39.286Z"
   },
   {
    "duration": 5,
    "start_time": "2024-12-04T04:51:53.167Z"
   },
   {
    "duration": 3,
    "start_time": "2024-12-04T04:52:16.875Z"
   },
   {
    "duration": 4,
    "start_time": "2024-12-04T04:52:42.225Z"
   },
   {
    "duration": 5,
    "start_time": "2024-12-04T04:53:03.583Z"
   },
   {
    "duration": 5,
    "start_time": "2024-12-04T04:53:57.152Z"
   },
   {
    "duration": 5,
    "start_time": "2024-12-04T04:54:09.103Z"
   },
   {
    "duration": 5,
    "start_time": "2024-12-04T04:54:25.495Z"
   },
   {
    "duration": 4,
    "start_time": "2024-12-04T04:54:33.485Z"
   },
   {
    "duration": 5,
    "start_time": "2024-12-04T04:54:48.316Z"
   },
   {
    "duration": 4,
    "start_time": "2024-12-04T04:54:55.161Z"
   },
   {
    "duration": 4,
    "start_time": "2024-12-04T04:55:04.885Z"
   },
   {
    "duration": 994,
    "start_time": "2024-12-04T04:59:39.102Z"
   },
   {
    "duration": 481,
    "start_time": "2024-12-04T04:59:40.098Z"
   },
   {
    "duration": 20,
    "start_time": "2024-12-04T04:59:40.581Z"
   },
   {
    "duration": 25,
    "start_time": "2024-12-04T04:59:40.602Z"
   },
   {
    "duration": 18,
    "start_time": "2024-12-04T04:59:40.630Z"
   },
   {
    "duration": 11,
    "start_time": "2024-12-04T04:59:40.649Z"
   },
   {
    "duration": 6,
    "start_time": "2024-12-04T04:59:40.662Z"
   },
   {
    "duration": 3,
    "start_time": "2024-12-04T04:59:40.670Z"
   },
   {
    "duration": 4,
    "start_time": "2024-12-04T04:59:40.675Z"
   },
   {
    "duration": 30,
    "start_time": "2024-12-04T04:59:40.682Z"
   },
   {
    "duration": 4,
    "start_time": "2024-12-04T04:59:40.713Z"
   },
   {
    "duration": 13,
    "start_time": "2024-12-04T04:59:40.719Z"
   },
   {
    "duration": 3,
    "start_time": "2024-12-04T04:59:40.733Z"
   },
   {
    "duration": 9,
    "start_time": "2024-12-04T04:59:40.737Z"
   },
   {
    "duration": 6,
    "start_time": "2024-12-04T04:59:40.748Z"
   },
   {
    "duration": 9,
    "start_time": "2024-12-04T04:59:40.755Z"
   },
   {
    "duration": 2,
    "start_time": "2024-12-04T04:59:40.766Z"
   },
   {
    "duration": 107,
    "start_time": "2024-12-04T04:59:40.769Z"
   },
   {
    "duration": 19,
    "start_time": "2024-12-04T04:59:40.878Z"
   },
   {
    "duration": 95,
    "start_time": "2024-12-04T04:59:40.898Z"
   },
   {
    "duration": 2,
    "start_time": "2024-12-04T04:59:40.995Z"
   },
   {
    "duration": 24,
    "start_time": "2024-12-04T04:59:40.999Z"
   },
   {
    "duration": 6,
    "start_time": "2024-12-04T04:59:41.025Z"
   },
   {
    "duration": 15,
    "start_time": "2024-12-04T04:59:41.032Z"
   },
   {
    "duration": 7,
    "start_time": "2024-12-04T04:59:41.049Z"
   },
   {
    "duration": 13,
    "start_time": "2024-12-04T04:59:41.057Z"
   },
   {
    "duration": 42,
    "start_time": "2024-12-04T04:59:41.071Z"
   },
   {
    "duration": 5,
    "start_time": "2024-12-04T04:59:41.119Z"
   },
   {
    "duration": 117,
    "start_time": "2024-12-04T04:59:41.126Z"
   },
   {
    "duration": 111,
    "start_time": "2024-12-04T04:59:41.244Z"
   },
   {
    "duration": 104,
    "start_time": "2024-12-04T04:59:41.356Z"
   },
   {
    "duration": 5,
    "start_time": "2024-12-04T04:59:41.461Z"
   },
   {
    "duration": 5,
    "start_time": "2024-12-04T04:59:41.468Z"
   },
   {
    "duration": 763,
    "start_time": "2024-12-04T04:59:41.475Z"
   },
   {
    "duration": 1102,
    "start_time": "2024-12-04T04:59:42.240Z"
   },
   {
    "duration": 7,
    "start_time": "2024-12-04T04:59:43.344Z"
   },
   {
    "duration": 7,
    "start_time": "2024-12-04T04:59:43.352Z"
   },
   {
    "duration": 4,
    "start_time": "2024-12-04T04:59:43.360Z"
   },
   {
    "duration": 3,
    "start_time": "2024-12-04T04:59:43.366Z"
   },
   {
    "duration": 6,
    "start_time": "2024-12-04T04:59:43.370Z"
   },
   {
    "duration": 37,
    "start_time": "2024-12-04T04:59:43.377Z"
   },
   {
    "duration": 7,
    "start_time": "2024-12-04T04:59:43.416Z"
   },
   {
    "duration": 6,
    "start_time": "2024-12-04T04:59:43.424Z"
   },
   {
    "duration": 4,
    "start_time": "2024-12-04T04:59:43.431Z"
   },
   {
    "duration": 4,
    "start_time": "2024-12-04T04:59:43.437Z"
   },
   {
    "duration": 4,
    "start_time": "2024-12-04T04:59:43.442Z"
   },
   {
    "duration": 4,
    "start_time": "2024-12-04T04:59:43.448Z"
   },
   {
    "duration": 128,
    "start_time": "2024-12-04T04:59:43.454Z"
   },
   {
    "duration": 81,
    "start_time": "2024-12-04T04:59:43.583Z"
   },
   {
    "duration": 94,
    "start_time": "2024-12-04T04:59:43.666Z"
   },
   {
    "duration": 473,
    "start_time": "2024-12-04T04:59:43.761Z"
   },
   {
    "duration": 6,
    "start_time": "2024-12-04T04:59:44.235Z"
   },
   {
    "duration": 5,
    "start_time": "2024-12-04T04:59:44.242Z"
   },
   {
    "duration": 5,
    "start_time": "2024-12-04T04:59:44.248Z"
   },
   {
    "duration": 60,
    "start_time": "2024-12-04T04:59:44.256Z"
   },
   {
    "duration": 5,
    "start_time": "2024-12-04T04:59:44.317Z"
   },
   {
    "duration": 5,
    "start_time": "2024-12-04T04:59:44.324Z"
   },
   {
    "duration": 7,
    "start_time": "2024-12-04T04:59:44.330Z"
   },
   {
    "duration": 2,
    "start_time": "2024-12-04T04:59:44.339Z"
   },
   {
    "duration": 2,
    "start_time": "2024-12-04T04:59:44.342Z"
   },
   {
    "duration": 6,
    "start_time": "2024-12-04T04:59:44.346Z"
   },
   {
    "duration": 3,
    "start_time": "2024-12-04T04:59:44.354Z"
   },
   {
    "duration": 3,
    "start_time": "2024-12-04T04:59:44.358Z"
   },
   {
    "duration": 2,
    "start_time": "2024-12-04T04:59:44.363Z"
   },
   {
    "duration": 391,
    "start_time": "2024-12-04T05:00:36.834Z"
   },
   {
    "duration": 3,
    "start_time": "2024-12-04T05:00:53.767Z"
   },
   {
    "duration": 8,
    "start_time": "2024-12-04T05:01:08.860Z"
   },
   {
    "duration": 7,
    "start_time": "2024-12-04T05:03:59.230Z"
   },
   {
    "duration": 7,
    "start_time": "2024-12-04T05:04:08.718Z"
   },
   {
    "duration": 9,
    "start_time": "2024-12-04T05:04:18.203Z"
   },
   {
    "duration": 4,
    "start_time": "2024-12-04T05:07:31.819Z"
   },
   {
    "duration": 4,
    "start_time": "2024-12-04T05:08:49.674Z"
   },
   {
    "duration": 20,
    "start_time": "2024-12-04T05:09:02.570Z"
   },
   {
    "duration": 12,
    "start_time": "2024-12-04T05:09:24.804Z"
   },
   {
    "duration": 6,
    "start_time": "2024-12-04T05:09:58.906Z"
   },
   {
    "duration": 13,
    "start_time": "2024-12-04T05:10:18.345Z"
   },
   {
    "duration": 5,
    "start_time": "2024-12-04T05:10:23.691Z"
   },
   {
    "duration": 15,
    "start_time": "2024-12-04T05:10:36.208Z"
   },
   {
    "duration": 5,
    "start_time": "2024-12-04T05:10:42.875Z"
   },
   {
    "duration": 6,
    "start_time": "2024-12-04T05:11:06.116Z"
   },
   {
    "duration": 5,
    "start_time": "2024-12-04T05:11:18.819Z"
   },
   {
    "duration": 5,
    "start_time": "2024-12-04T05:12:54.065Z"
   },
   {
    "duration": 10,
    "start_time": "2024-12-04T05:12:57.802Z"
   },
   {
    "duration": 4,
    "start_time": "2024-12-04T05:13:06.842Z"
   },
   {
    "duration": 5,
    "start_time": "2024-12-04T05:13:09.407Z"
   },
   {
    "duration": 2,
    "start_time": "2024-12-04T05:13:43.608Z"
   },
   {
    "duration": 5,
    "start_time": "2024-12-04T05:13:49.073Z"
   },
   {
    "duration": 5,
    "start_time": "2024-12-04T05:14:03.752Z"
   },
   {
    "duration": 5,
    "start_time": "2024-12-04T05:14:19.025Z"
   },
   {
    "duration": 4,
    "start_time": "2024-12-04T05:14:21.906Z"
   },
   {
    "duration": 16,
    "start_time": "2024-12-04T05:14:34.974Z"
   },
   {
    "duration": 6,
    "start_time": "2024-12-04T05:14:43.893Z"
   },
   {
    "duration": 4,
    "start_time": "2024-12-04T05:15:07.437Z"
   },
   {
    "duration": 5,
    "start_time": "2024-12-04T05:16:07.633Z"
   },
   {
    "duration": 4,
    "start_time": "2024-12-04T05:19:01.807Z"
   },
   {
    "duration": 6,
    "start_time": "2024-12-04T05:19:08.200Z"
   },
   {
    "duration": 1004,
    "start_time": "2024-12-04T05:32:07.911Z"
   },
   {
    "duration": 483,
    "start_time": "2024-12-04T05:32:08.918Z"
   },
   {
    "duration": 23,
    "start_time": "2024-12-04T05:32:09.403Z"
   },
   {
    "duration": 15,
    "start_time": "2024-12-04T05:32:09.429Z"
   },
   {
    "duration": 20,
    "start_time": "2024-12-04T05:32:09.446Z"
   },
   {
    "duration": 3,
    "start_time": "2024-12-04T05:32:09.468Z"
   },
   {
    "duration": 5,
    "start_time": "2024-12-04T05:32:09.473Z"
   },
   {
    "duration": 33,
    "start_time": "2024-12-04T05:32:09.479Z"
   },
   {
    "duration": 5,
    "start_time": "2024-12-04T05:32:09.513Z"
   },
   {
    "duration": 3,
    "start_time": "2024-12-04T05:32:09.520Z"
   },
   {
    "duration": 4,
    "start_time": "2024-12-04T05:32:09.524Z"
   },
   {
    "duration": 13,
    "start_time": "2024-12-04T05:32:09.530Z"
   },
   {
    "duration": 2,
    "start_time": "2024-12-04T05:32:09.544Z"
   },
   {
    "duration": 10,
    "start_time": "2024-12-04T05:32:09.548Z"
   },
   {
    "duration": 7,
    "start_time": "2024-12-04T05:32:09.559Z"
   },
   {
    "duration": 50,
    "start_time": "2024-12-04T05:32:09.568Z"
   },
   {
    "duration": 3,
    "start_time": "2024-12-04T05:32:09.619Z"
   },
   {
    "duration": 59,
    "start_time": "2024-12-04T05:32:09.623Z"
   },
   {
    "duration": 35,
    "start_time": "2024-12-04T05:32:09.683Z"
   },
   {
    "duration": 95,
    "start_time": "2024-12-04T05:32:09.719Z"
   },
   {
    "duration": 3,
    "start_time": "2024-12-04T05:32:09.815Z"
   },
   {
    "duration": 13,
    "start_time": "2024-12-04T05:32:09.820Z"
   },
   {
    "duration": 6,
    "start_time": "2024-12-04T05:32:09.835Z"
   },
   {
    "duration": 15,
    "start_time": "2024-12-04T05:32:09.843Z"
   },
   {
    "duration": 7,
    "start_time": "2024-12-04T05:32:09.860Z"
   },
   {
    "duration": 43,
    "start_time": "2024-12-04T05:32:09.869Z"
   },
   {
    "duration": 16,
    "start_time": "2024-12-04T05:32:09.915Z"
   },
   {
    "duration": 7,
    "start_time": "2024-12-04T05:32:09.937Z"
   },
   {
    "duration": 126,
    "start_time": "2024-12-04T05:32:09.945Z"
   },
   {
    "duration": 116,
    "start_time": "2024-12-04T05:32:10.073Z"
   },
   {
    "duration": 100,
    "start_time": "2024-12-04T05:32:10.190Z"
   },
   {
    "duration": 4,
    "start_time": "2024-12-04T05:32:10.291Z"
   },
   {
    "duration": 15,
    "start_time": "2024-12-04T05:32:10.298Z"
   },
   {
    "duration": 732,
    "start_time": "2024-12-04T05:32:10.315Z"
   },
   {
    "duration": 1154,
    "start_time": "2024-12-04T05:32:11.049Z"
   },
   {
    "duration": 11,
    "start_time": "2024-12-04T05:32:12.204Z"
   },
   {
    "duration": 5,
    "start_time": "2024-12-04T05:32:12.217Z"
   },
   {
    "duration": 4,
    "start_time": "2024-12-04T05:32:12.224Z"
   },
   {
    "duration": 2,
    "start_time": "2024-12-04T05:32:12.230Z"
   },
   {
    "duration": 5,
    "start_time": "2024-12-04T05:32:12.234Z"
   },
   {
    "duration": 5,
    "start_time": "2024-12-04T05:32:12.240Z"
   },
   {
    "duration": 7,
    "start_time": "2024-12-04T05:32:12.246Z"
   },
   {
    "duration": 6,
    "start_time": "2024-12-04T05:32:12.254Z"
   },
   {
    "duration": 2,
    "start_time": "2024-12-04T05:32:12.262Z"
   },
   {
    "duration": 4,
    "start_time": "2024-12-04T05:32:12.312Z"
   },
   {
    "duration": 4,
    "start_time": "2024-12-04T05:32:12.317Z"
   },
   {
    "duration": 4,
    "start_time": "2024-12-04T05:32:12.323Z"
   },
   {
    "duration": 108,
    "start_time": "2024-12-04T05:32:12.329Z"
   },
   {
    "duration": 80,
    "start_time": "2024-12-04T05:32:12.439Z"
   },
   {
    "duration": 93,
    "start_time": "2024-12-04T05:32:12.520Z"
   },
   {
    "duration": 502,
    "start_time": "2024-12-04T05:32:12.615Z"
   },
   {
    "duration": 6,
    "start_time": "2024-12-04T05:32:13.119Z"
   },
   {
    "duration": 5,
    "start_time": "2024-12-04T05:32:13.126Z"
   },
   {
    "duration": 5,
    "start_time": "2024-12-04T05:32:13.133Z"
   },
   {
    "duration": 7,
    "start_time": "2024-12-04T05:32:13.140Z"
   },
   {
    "duration": 5,
    "start_time": "2024-12-04T05:32:13.149Z"
   },
   {
    "duration": 5,
    "start_time": "2024-12-04T05:32:13.212Z"
   },
   {
    "duration": 6,
    "start_time": "2024-12-04T05:32:13.219Z"
   },
   {
    "duration": 5,
    "start_time": "2024-12-04T05:32:13.227Z"
   },
   {
    "duration": 2,
    "start_time": "2024-12-04T05:32:13.234Z"
   },
   {
    "duration": 5,
    "start_time": "2024-12-04T05:32:13.237Z"
   },
   {
    "duration": 2,
    "start_time": "2024-12-04T05:32:13.243Z"
   },
   {
    "duration": 2,
    "start_time": "2024-12-04T05:32:13.247Z"
   },
   {
    "duration": 3,
    "start_time": "2024-12-04T05:32:13.251Z"
   },
   {
    "duration": 3,
    "start_time": "2024-12-04T05:32:13.255Z"
   },
   {
    "duration": 4,
    "start_time": "2024-12-04T05:32:13.259Z"
   },
   {
    "duration": 3,
    "start_time": "2024-12-04T05:32:13.312Z"
   },
   {
    "duration": 19,
    "start_time": "2024-12-04T05:32:13.316Z"
   },
   {
    "duration": 6,
    "start_time": "2024-12-04T05:32:43.061Z"
   },
   {
    "duration": 1040,
    "start_time": "2024-12-04T05:48:24.465Z"
   },
   {
    "duration": 497,
    "start_time": "2024-12-04T05:48:25.511Z"
   },
   {
    "duration": 19,
    "start_time": "2024-12-04T05:48:26.010Z"
   },
   {
    "duration": 16,
    "start_time": "2024-12-04T05:48:26.031Z"
   },
   {
    "duration": 20,
    "start_time": "2024-12-04T05:48:26.048Z"
   },
   {
    "duration": 3,
    "start_time": "2024-12-04T05:48:26.070Z"
   },
   {
    "duration": 5,
    "start_time": "2024-12-04T05:48:26.075Z"
   },
   {
    "duration": 31,
    "start_time": "2024-12-04T05:48:26.081Z"
   },
   {
    "duration": 4,
    "start_time": "2024-12-04T05:48:26.114Z"
   },
   {
    "duration": 3,
    "start_time": "2024-12-04T05:48:26.121Z"
   },
   {
    "duration": 4,
    "start_time": "2024-12-04T05:48:26.125Z"
   },
   {
    "duration": 13,
    "start_time": "2024-12-04T05:48:26.130Z"
   },
   {
    "duration": 3,
    "start_time": "2024-12-04T05:48:26.145Z"
   },
   {
    "duration": 8,
    "start_time": "2024-12-04T05:48:26.150Z"
   },
   {
    "duration": 7,
    "start_time": "2024-12-04T05:48:26.160Z"
   },
   {
    "duration": 51,
    "start_time": "2024-12-04T05:48:26.168Z"
   },
   {
    "duration": 3,
    "start_time": "2024-12-04T05:48:26.220Z"
   },
   {
    "duration": 59,
    "start_time": "2024-12-04T05:48:26.224Z"
   },
   {
    "duration": 33,
    "start_time": "2024-12-04T05:48:26.285Z"
   },
   {
    "duration": 95,
    "start_time": "2024-12-04T05:48:26.320Z"
   },
   {
    "duration": 3,
    "start_time": "2024-12-04T05:48:26.416Z"
   },
   {
    "duration": 13,
    "start_time": "2024-12-04T05:48:26.421Z"
   },
   {
    "duration": 7,
    "start_time": "2024-12-04T05:48:26.435Z"
   },
   {
    "duration": 14,
    "start_time": "2024-12-04T05:48:26.444Z"
   },
   {
    "duration": 6,
    "start_time": "2024-12-04T05:48:26.460Z"
   },
   {
    "duration": 45,
    "start_time": "2024-12-04T05:48:26.467Z"
   },
   {
    "duration": 16,
    "start_time": "2024-12-04T05:48:26.513Z"
   },
   {
    "duration": 6,
    "start_time": "2024-12-04T05:48:26.534Z"
   },
   {
    "duration": 121,
    "start_time": "2024-12-04T05:48:26.541Z"
   },
   {
    "duration": 116,
    "start_time": "2024-12-04T05:48:26.663Z"
   },
   {
    "duration": 102,
    "start_time": "2024-12-04T05:48:26.781Z"
   },
   {
    "duration": 4,
    "start_time": "2024-12-04T05:48:26.885Z"
   },
   {
    "duration": 4,
    "start_time": "2024-12-04T05:48:26.890Z"
   },
   {
    "duration": 740,
    "start_time": "2024-12-04T05:48:26.896Z"
   },
   {
    "duration": 1109,
    "start_time": "2024-12-04T05:48:27.637Z"
   },
   {
    "duration": 8,
    "start_time": "2024-12-04T05:48:28.747Z"
   },
   {
    "duration": 6,
    "start_time": "2024-12-04T05:48:28.756Z"
   },
   {
    "duration": 4,
    "start_time": "2024-12-04T05:48:28.763Z"
   },
   {
    "duration": 3,
    "start_time": "2024-12-04T05:48:28.769Z"
   },
   {
    "duration": 6,
    "start_time": "2024-12-04T05:48:28.773Z"
   },
   {
    "duration": 33,
    "start_time": "2024-12-04T05:48:28.780Z"
   },
   {
    "duration": 6,
    "start_time": "2024-12-04T05:48:28.814Z"
   },
   {
    "duration": 6,
    "start_time": "2024-12-04T05:48:28.822Z"
   },
   {
    "duration": 3,
    "start_time": "2024-12-04T05:48:28.829Z"
   },
   {
    "duration": 4,
    "start_time": "2024-12-04T05:48:28.834Z"
   },
   {
    "duration": 4,
    "start_time": "2024-12-04T05:48:28.840Z"
   },
   {
    "duration": 4,
    "start_time": "2024-12-04T05:48:28.846Z"
   },
   {
    "duration": 125,
    "start_time": "2024-12-04T05:48:28.852Z"
   },
   {
    "duration": 81,
    "start_time": "2024-12-04T05:48:28.979Z"
   },
   {
    "duration": 91,
    "start_time": "2024-12-04T05:48:29.062Z"
   },
   {
    "duration": 495,
    "start_time": "2024-12-04T05:48:29.155Z"
   },
   {
    "duration": 5,
    "start_time": "2024-12-04T05:48:29.652Z"
   },
   {
    "duration": 4,
    "start_time": "2024-12-04T05:48:29.659Z"
   },
   {
    "duration": 5,
    "start_time": "2024-12-04T05:48:29.665Z"
   },
   {
    "duration": 44,
    "start_time": "2024-12-04T05:48:29.671Z"
   },
   {
    "duration": 4,
    "start_time": "2024-12-04T05:48:29.717Z"
   },
   {
    "duration": 4,
    "start_time": "2024-12-04T05:48:29.723Z"
   },
   {
    "duration": 0,
    "start_time": "2024-12-04T05:48:29.729Z"
   },
   {
    "duration": 0,
    "start_time": "2024-12-04T05:48:29.731Z"
   },
   {
    "duration": 0,
    "start_time": "2024-12-04T05:48:29.732Z"
   },
   {
    "duration": 0,
    "start_time": "2024-12-04T05:48:29.733Z"
   },
   {
    "duration": 0,
    "start_time": "2024-12-04T05:48:29.735Z"
   },
   {
    "duration": 0,
    "start_time": "2024-12-04T05:48:29.736Z"
   },
   {
    "duration": 1,
    "start_time": "2024-12-04T05:48:29.737Z"
   },
   {
    "duration": 0,
    "start_time": "2024-12-04T05:48:29.739Z"
   },
   {
    "duration": 0,
    "start_time": "2024-12-04T05:48:29.740Z"
   },
   {
    "duration": 0,
    "start_time": "2024-12-04T05:48:29.742Z"
   },
   {
    "duration": 0,
    "start_time": "2024-12-04T05:48:29.743Z"
   },
   {
    "duration": 3,
    "start_time": "2024-12-04T05:48:40.149Z"
   },
   {
    "duration": 304,
    "start_time": "2024-12-04T05:48:41.615Z"
   },
   {
    "duration": 1018,
    "start_time": "2024-12-04T05:50:50.042Z"
   },
   {
    "duration": 483,
    "start_time": "2024-12-04T05:50:51.062Z"
   },
   {
    "duration": 19,
    "start_time": "2024-12-04T05:50:51.546Z"
   },
   {
    "duration": 17,
    "start_time": "2024-12-04T05:50:51.567Z"
   },
   {
    "duration": 36,
    "start_time": "2024-12-04T05:50:51.586Z"
   },
   {
    "duration": 3,
    "start_time": "2024-12-04T05:50:51.624Z"
   },
   {
    "duration": 5,
    "start_time": "2024-12-04T05:50:51.629Z"
   },
   {
    "duration": 4,
    "start_time": "2024-12-04T05:50:51.635Z"
   },
   {
    "duration": 5,
    "start_time": "2024-12-04T05:50:51.640Z"
   },
   {
    "duration": 2,
    "start_time": "2024-12-04T05:50:51.648Z"
   },
   {
    "duration": 4,
    "start_time": "2024-12-04T05:50:51.652Z"
   },
   {
    "duration": 14,
    "start_time": "2024-12-04T05:50:51.657Z"
   },
   {
    "duration": 2,
    "start_time": "2024-12-04T05:50:51.712Z"
   },
   {
    "duration": 9,
    "start_time": "2024-12-04T05:50:51.716Z"
   },
   {
    "duration": 6,
    "start_time": "2024-12-04T05:50:51.727Z"
   },
   {
    "duration": 9,
    "start_time": "2024-12-04T05:50:51.735Z"
   },
   {
    "duration": 3,
    "start_time": "2024-12-04T05:50:51.745Z"
   },
   {
    "duration": 87,
    "start_time": "2024-12-04T05:50:51.750Z"
   },
   {
    "duration": 17,
    "start_time": "2024-12-04T05:50:51.839Z"
   },
   {
    "duration": 98,
    "start_time": "2024-12-04T05:50:51.858Z"
   },
   {
    "duration": 3,
    "start_time": "2024-12-04T05:50:51.958Z"
   },
   {
    "duration": 14,
    "start_time": "2024-12-04T05:50:51.963Z"
   },
   {
    "duration": 6,
    "start_time": "2024-12-04T05:50:51.978Z"
   },
   {
    "duration": 36,
    "start_time": "2024-12-04T05:50:51.986Z"
   },
   {
    "duration": 7,
    "start_time": "2024-12-04T05:50:52.024Z"
   },
   {
    "duration": 13,
    "start_time": "2024-12-04T05:50:52.032Z"
   },
   {
    "duration": 15,
    "start_time": "2024-12-04T05:50:52.048Z"
   },
   {
    "duration": 6,
    "start_time": "2024-12-04T05:50:52.067Z"
   },
   {
    "duration": 136,
    "start_time": "2024-12-04T05:50:52.075Z"
   },
   {
    "duration": 125,
    "start_time": "2024-12-04T05:50:52.213Z"
   },
   {
    "duration": 99,
    "start_time": "2024-12-04T05:50:52.341Z"
   },
   {
    "duration": 4,
    "start_time": "2024-12-04T05:50:52.442Z"
   },
   {
    "duration": 4,
    "start_time": "2024-12-04T05:50:52.448Z"
   },
   {
    "duration": 759,
    "start_time": "2024-12-04T05:50:52.454Z"
   },
   {
    "duration": 1162,
    "start_time": "2024-12-04T05:50:53.215Z"
   },
   {
    "duration": 8,
    "start_time": "2024-12-04T05:50:54.379Z"
   },
   {
    "duration": 6,
    "start_time": "2024-12-04T05:50:54.388Z"
   },
   {
    "duration": 5,
    "start_time": "2024-12-04T05:50:54.411Z"
   },
   {
    "duration": 3,
    "start_time": "2024-12-04T05:50:54.418Z"
   },
   {
    "duration": 5,
    "start_time": "2024-12-04T05:50:54.423Z"
   },
   {
    "duration": 5,
    "start_time": "2024-12-04T05:50:54.430Z"
   },
   {
    "duration": 7,
    "start_time": "2024-12-04T05:50:54.436Z"
   },
   {
    "duration": 6,
    "start_time": "2024-12-04T05:50:54.445Z"
   },
   {
    "duration": 3,
    "start_time": "2024-12-04T05:50:54.453Z"
   },
   {
    "duration": 4,
    "start_time": "2024-12-04T05:50:54.458Z"
   },
   {
    "duration": 49,
    "start_time": "2024-12-04T05:50:54.464Z"
   },
   {
    "duration": 4,
    "start_time": "2024-12-04T05:50:54.515Z"
   },
   {
    "duration": 97,
    "start_time": "2024-12-04T05:50:54.520Z"
   },
   {
    "duration": 78,
    "start_time": "2024-12-04T05:50:54.618Z"
   },
   {
    "duration": 100,
    "start_time": "2024-12-04T05:50:54.697Z"
   },
   {
    "duration": 491,
    "start_time": "2024-12-04T05:50:54.799Z"
   },
   {
    "duration": 22,
    "start_time": "2024-12-04T05:50:55.292Z"
   },
   {
    "duration": 7,
    "start_time": "2024-12-04T05:50:55.318Z"
   },
   {
    "duration": 6,
    "start_time": "2024-12-04T05:50:55.326Z"
   },
   {
    "duration": 10,
    "start_time": "2024-12-04T05:50:55.334Z"
   },
   {
    "duration": 10,
    "start_time": "2024-12-04T05:50:55.346Z"
   },
   {
    "duration": 57,
    "start_time": "2024-12-04T05:50:55.357Z"
   },
   {
    "duration": 5,
    "start_time": "2024-12-04T05:50:55.416Z"
   },
   {
    "duration": 8,
    "start_time": "2024-12-04T05:50:55.423Z"
   },
   {
    "duration": 3,
    "start_time": "2024-12-04T05:50:55.432Z"
   },
   {
    "duration": 6,
    "start_time": "2024-12-04T05:50:55.439Z"
   },
   {
    "duration": 1,
    "start_time": "2024-12-04T05:50:55.447Z"
   },
   {
    "duration": 3,
    "start_time": "2024-12-04T05:50:55.450Z"
   },
   {
    "duration": 3,
    "start_time": "2024-12-04T05:50:55.454Z"
   },
   {
    "duration": 3,
    "start_time": "2024-12-04T05:50:55.459Z"
   },
   {
    "duration": 3,
    "start_time": "2024-12-04T05:50:55.464Z"
   },
   {
    "duration": 3,
    "start_time": "2024-12-04T05:50:55.468Z"
   },
   {
    "duration": 53,
    "start_time": "2024-12-04T05:50:55.473Z"
   },
   {
    "duration": 1018,
    "start_time": "2024-12-04T05:52:33.061Z"
   },
   {
    "duration": 483,
    "start_time": "2024-12-04T05:52:34.081Z"
   },
   {
    "duration": 18,
    "start_time": "2024-12-04T05:52:34.566Z"
   },
   {
    "duration": 26,
    "start_time": "2024-12-04T05:52:34.587Z"
   },
   {
    "duration": 19,
    "start_time": "2024-12-04T05:52:34.615Z"
   },
   {
    "duration": 3,
    "start_time": "2024-12-04T05:52:34.636Z"
   },
   {
    "duration": 5,
    "start_time": "2024-12-04T05:52:34.641Z"
   },
   {
    "duration": 3,
    "start_time": "2024-12-04T05:52:34.648Z"
   },
   {
    "duration": 5,
    "start_time": "2024-12-04T05:52:34.653Z"
   },
   {
    "duration": 2,
    "start_time": "2024-12-04T05:52:34.661Z"
   },
   {
    "duration": 3,
    "start_time": "2024-12-04T05:52:34.665Z"
   },
   {
    "duration": 14,
    "start_time": "2024-12-04T05:52:34.714Z"
   },
   {
    "duration": 3,
    "start_time": "2024-12-04T05:52:34.730Z"
   },
   {
    "duration": 9,
    "start_time": "2024-12-04T05:52:34.735Z"
   },
   {
    "duration": 7,
    "start_time": "2024-12-04T05:52:34.745Z"
   },
   {
    "duration": 10,
    "start_time": "2024-12-04T05:52:34.754Z"
   },
   {
    "duration": 3,
    "start_time": "2024-12-04T05:52:34.765Z"
   },
   {
    "duration": 96,
    "start_time": "2024-12-04T05:52:34.769Z"
   },
   {
    "duration": 18,
    "start_time": "2024-12-04T05:52:34.867Z"
   },
   {
    "duration": 100,
    "start_time": "2024-12-04T05:52:34.887Z"
   },
   {
    "duration": 2,
    "start_time": "2024-12-04T05:52:34.989Z"
   },
   {
    "duration": 22,
    "start_time": "2024-12-04T05:52:34.993Z"
   },
   {
    "duration": 9,
    "start_time": "2024-12-04T05:52:35.017Z"
   },
   {
    "duration": 17,
    "start_time": "2024-12-04T05:52:35.028Z"
   },
   {
    "duration": 7,
    "start_time": "2024-12-04T05:52:35.046Z"
   },
   {
    "duration": 13,
    "start_time": "2024-12-04T05:52:35.057Z"
   },
   {
    "duration": 44,
    "start_time": "2024-12-04T05:52:35.071Z"
   },
   {
    "duration": 6,
    "start_time": "2024-12-04T05:52:35.122Z"
   },
   {
    "duration": 121,
    "start_time": "2024-12-04T05:52:35.129Z"
   },
   {
    "duration": 125,
    "start_time": "2024-12-04T05:52:35.251Z"
   },
   {
    "duration": 103,
    "start_time": "2024-12-04T05:52:35.377Z"
   },
   {
    "duration": 5,
    "start_time": "2024-12-04T05:52:35.482Z"
   },
   {
    "duration": 5,
    "start_time": "2024-12-04T05:52:35.488Z"
   },
   {
    "duration": 746,
    "start_time": "2024-12-04T05:52:35.495Z"
   },
   {
    "duration": 1110,
    "start_time": "2024-12-04T05:52:36.243Z"
   },
   {
    "duration": 7,
    "start_time": "2024-12-04T05:52:37.355Z"
   },
   {
    "duration": 5,
    "start_time": "2024-12-04T05:52:37.364Z"
   },
   {
    "duration": 4,
    "start_time": "2024-12-04T05:52:37.371Z"
   },
   {
    "duration": 3,
    "start_time": "2024-12-04T05:52:37.377Z"
   },
   {
    "duration": 31,
    "start_time": "2024-12-04T05:52:37.381Z"
   },
   {
    "duration": 3,
    "start_time": "2024-12-04T05:52:37.414Z"
   },
   {
    "duration": 6,
    "start_time": "2024-12-04T05:52:37.419Z"
   },
   {
    "duration": 6,
    "start_time": "2024-12-04T05:52:37.427Z"
   },
   {
    "duration": 3,
    "start_time": "2024-12-04T05:52:37.435Z"
   },
   {
    "duration": 4,
    "start_time": "2024-12-04T05:52:37.440Z"
   },
   {
    "duration": 5,
    "start_time": "2024-12-04T05:52:37.445Z"
   },
   {
    "duration": 5,
    "start_time": "2024-12-04T05:52:37.451Z"
   },
   {
    "duration": 127,
    "start_time": "2024-12-04T05:52:37.457Z"
   },
   {
    "duration": 83,
    "start_time": "2024-12-04T05:52:37.586Z"
   },
   {
    "duration": 97,
    "start_time": "2024-12-04T05:52:37.671Z"
   },
   {
    "duration": 507,
    "start_time": "2024-12-04T05:52:37.769Z"
   },
   {
    "duration": 5,
    "start_time": "2024-12-04T05:52:38.278Z"
   },
   {
    "duration": 5,
    "start_time": "2024-12-04T05:52:38.312Z"
   },
   {
    "duration": 6,
    "start_time": "2024-12-04T05:52:38.319Z"
   },
   {
    "duration": 8,
    "start_time": "2024-12-04T05:52:38.326Z"
   },
   {
    "duration": 9,
    "start_time": "2024-12-04T05:52:38.335Z"
   },
   {
    "duration": 4,
    "start_time": "2024-12-04T05:52:38.346Z"
   },
   {
    "duration": 4,
    "start_time": "2024-12-04T05:52:38.352Z"
   },
   {
    "duration": 57,
    "start_time": "2024-12-04T05:52:38.358Z"
   },
   {
    "duration": 3,
    "start_time": "2024-12-04T05:52:38.417Z"
   },
   {
    "duration": 5,
    "start_time": "2024-12-04T05:52:38.422Z"
   },
   {
    "duration": 2,
    "start_time": "2024-12-04T05:52:38.428Z"
   },
   {
    "duration": 3,
    "start_time": "2024-12-04T05:52:38.432Z"
   },
   {
    "duration": 3,
    "start_time": "2024-12-04T05:52:38.436Z"
   },
   {
    "duration": 4,
    "start_time": "2024-12-04T05:52:38.440Z"
   },
   {
    "duration": 3,
    "start_time": "2024-12-04T05:52:38.445Z"
   },
   {
    "duration": 3,
    "start_time": "2024-12-04T05:52:38.450Z"
   },
   {
    "duration": 58,
    "start_time": "2024-12-04T05:52:38.454Z"
   },
   {
    "duration": 1010,
    "start_time": "2024-12-04T06:03:16.559Z"
   },
   {
    "duration": 505,
    "start_time": "2024-12-04T06:03:17.572Z"
   },
   {
    "duration": 18,
    "start_time": "2024-12-04T06:03:18.079Z"
   },
   {
    "duration": 27,
    "start_time": "2024-12-04T06:03:18.099Z"
   },
   {
    "duration": 18,
    "start_time": "2024-12-04T06:03:18.127Z"
   },
   {
    "duration": 3,
    "start_time": "2024-12-04T06:03:18.147Z"
   },
   {
    "duration": 4,
    "start_time": "2024-12-04T06:03:18.152Z"
   },
   {
    "duration": 4,
    "start_time": "2024-12-04T06:03:18.157Z"
   },
   {
    "duration": 4,
    "start_time": "2024-12-04T06:03:18.162Z"
   },
   {
    "duration": 3,
    "start_time": "2024-12-04T06:03:18.169Z"
   },
   {
    "duration": 39,
    "start_time": "2024-12-04T06:03:18.173Z"
   },
   {
    "duration": 13,
    "start_time": "2024-12-04T06:03:18.214Z"
   },
   {
    "duration": 2,
    "start_time": "2024-12-04T06:03:18.229Z"
   },
   {
    "duration": 9,
    "start_time": "2024-12-04T06:03:18.233Z"
   },
   {
    "duration": 7,
    "start_time": "2024-12-04T06:03:18.244Z"
   },
   {
    "duration": 9,
    "start_time": "2024-12-04T06:03:18.253Z"
   },
   {
    "duration": 2,
    "start_time": "2024-12-04T06:03:18.264Z"
   },
   {
    "duration": 97,
    "start_time": "2024-12-04T06:03:18.268Z"
   },
   {
    "duration": 18,
    "start_time": "2024-12-04T06:03:18.367Z"
   },
   {
    "duration": 100,
    "start_time": "2024-12-04T06:03:18.386Z"
   },
   {
    "duration": 3,
    "start_time": "2024-12-04T06:03:18.487Z"
   },
   {
    "duration": 22,
    "start_time": "2024-12-04T06:03:18.491Z"
   },
   {
    "duration": 7,
    "start_time": "2024-12-04T06:03:18.514Z"
   },
   {
    "duration": 16,
    "start_time": "2024-12-04T06:03:18.522Z"
   },
   {
    "duration": 7,
    "start_time": "2024-12-04T06:03:18.539Z"
   },
   {
    "duration": 13,
    "start_time": "2024-12-04T06:03:18.548Z"
   },
   {
    "duration": 15,
    "start_time": "2024-12-04T06:03:18.562Z"
   },
   {
    "duration": 6,
    "start_time": "2024-12-04T06:03:18.613Z"
   },
   {
    "duration": 110,
    "start_time": "2024-12-04T06:03:18.620Z"
   },
   {
    "duration": 117,
    "start_time": "2024-12-04T06:03:18.732Z"
   },
   {
    "duration": 99,
    "start_time": "2024-12-04T06:03:18.850Z"
   },
   {
    "duration": 5,
    "start_time": "2024-12-04T06:03:18.950Z"
   },
   {
    "duration": 4,
    "start_time": "2024-12-04T06:03:18.957Z"
   },
   {
    "duration": 693,
    "start_time": "2024-12-04T06:03:18.963Z"
   },
   {
    "duration": 1131,
    "start_time": "2024-12-04T06:03:19.657Z"
   },
   {
    "duration": 6,
    "start_time": "2024-12-04T06:03:20.790Z"
   },
   {
    "duration": 16,
    "start_time": "2024-12-04T06:03:20.798Z"
   },
   {
    "duration": 4,
    "start_time": "2024-12-04T06:03:20.816Z"
   },
   {
    "duration": 3,
    "start_time": "2024-12-04T06:03:20.823Z"
   },
   {
    "duration": 5,
    "start_time": "2024-12-04T06:03:20.827Z"
   },
   {
    "duration": 4,
    "start_time": "2024-12-04T06:03:20.833Z"
   },
   {
    "duration": 6,
    "start_time": "2024-12-04T06:03:20.839Z"
   },
   {
    "duration": 6,
    "start_time": "2024-12-04T06:03:20.846Z"
   },
   {
    "duration": 3,
    "start_time": "2024-12-04T06:03:20.853Z"
   },
   {
    "duration": 4,
    "start_time": "2024-12-04T06:03:20.858Z"
   },
   {
    "duration": 48,
    "start_time": "2024-12-04T06:03:20.864Z"
   },
   {
    "duration": 4,
    "start_time": "2024-12-04T06:03:20.914Z"
   },
   {
    "duration": 95,
    "start_time": "2024-12-04T06:03:20.920Z"
   },
   {
    "duration": 72,
    "start_time": "2024-12-04T06:03:21.017Z"
   },
   {
    "duration": 95,
    "start_time": "2024-12-04T06:03:21.090Z"
   },
   {
    "duration": 499,
    "start_time": "2024-12-04T06:03:21.187Z"
   },
   {
    "duration": 25,
    "start_time": "2024-12-04T06:03:21.688Z"
   },
   {
    "duration": 5,
    "start_time": "2024-12-04T06:03:21.714Z"
   },
   {
    "duration": 5,
    "start_time": "2024-12-04T06:03:21.720Z"
   },
   {
    "duration": 7,
    "start_time": "2024-12-04T06:03:21.727Z"
   },
   {
    "duration": 4,
    "start_time": "2024-12-04T06:03:21.735Z"
   },
   {
    "duration": 13,
    "start_time": "2024-12-04T06:03:21.740Z"
   },
   {
    "duration": 328,
    "start_time": "2024-12-04T06:03:21.754Z"
   },
   {
    "duration": 0,
    "start_time": "2024-12-04T06:03:22.083Z"
   },
   {
    "duration": 0,
    "start_time": "2024-12-04T06:03:22.085Z"
   },
   {
    "duration": 0,
    "start_time": "2024-12-04T06:03:22.086Z"
   },
   {
    "duration": 0,
    "start_time": "2024-12-04T06:03:22.087Z"
   },
   {
    "duration": 0,
    "start_time": "2024-12-04T06:03:22.088Z"
   },
   {
    "duration": 0,
    "start_time": "2024-12-04T06:03:22.090Z"
   },
   {
    "duration": 0,
    "start_time": "2024-12-04T06:03:22.091Z"
   },
   {
    "duration": 0,
    "start_time": "2024-12-04T06:03:22.111Z"
   },
   {
    "duration": 0,
    "start_time": "2024-12-04T06:03:22.112Z"
   },
   {
    "duration": 0,
    "start_time": "2024-12-04T06:03:22.113Z"
   },
   {
    "duration": 11,
    "start_time": "2024-12-04T06:03:35.422Z"
   },
   {
    "duration": 14,
    "start_time": "2024-12-04T06:03:38.024Z"
   },
   {
    "duration": 9,
    "start_time": "2024-12-04T06:03:39.816Z"
   },
   {
    "duration": 4,
    "start_time": "2024-12-04T06:05:51.159Z"
   },
   {
    "duration": 6,
    "start_time": "2024-12-04T06:05:53.852Z"
   },
   {
    "duration": 1019,
    "start_time": "2024-12-04T06:10:21.154Z"
   },
   {
    "duration": 497,
    "start_time": "2024-12-04T06:10:22.175Z"
   },
   {
    "duration": 20,
    "start_time": "2024-12-04T06:10:22.674Z"
   },
   {
    "duration": 26,
    "start_time": "2024-12-04T06:10:22.695Z"
   },
   {
    "duration": 18,
    "start_time": "2024-12-04T06:10:22.723Z"
   },
   {
    "duration": 3,
    "start_time": "2024-12-04T06:10:22.743Z"
   },
   {
    "duration": 4,
    "start_time": "2024-12-04T06:10:22.748Z"
   },
   {
    "duration": 3,
    "start_time": "2024-12-04T06:10:22.754Z"
   },
   {
    "duration": 4,
    "start_time": "2024-12-04T06:10:22.759Z"
   },
   {
    "duration": 3,
    "start_time": "2024-12-04T06:10:22.765Z"
   },
   {
    "duration": 43,
    "start_time": "2024-12-04T06:10:22.769Z"
   },
   {
    "duration": 14,
    "start_time": "2024-12-04T06:10:22.813Z"
   },
   {
    "duration": 3,
    "start_time": "2024-12-04T06:10:22.828Z"
   },
   {
    "duration": 10,
    "start_time": "2024-12-04T06:10:22.834Z"
   },
   {
    "duration": 6,
    "start_time": "2024-12-04T06:10:22.845Z"
   },
   {
    "duration": 9,
    "start_time": "2024-12-04T06:10:22.852Z"
   },
   {
    "duration": 3,
    "start_time": "2024-12-04T06:10:22.863Z"
   },
   {
    "duration": 101,
    "start_time": "2024-12-04T06:10:22.868Z"
   },
   {
    "duration": 18,
    "start_time": "2024-12-04T06:10:22.971Z"
   },
   {
    "duration": 98,
    "start_time": "2024-12-04T06:10:22.990Z"
   },
   {
    "duration": 2,
    "start_time": "2024-12-04T06:10:23.090Z"
   },
   {
    "duration": 22,
    "start_time": "2024-12-04T06:10:23.093Z"
   },
   {
    "duration": 7,
    "start_time": "2024-12-04T06:10:23.116Z"
   },
   {
    "duration": 15,
    "start_time": "2024-12-04T06:10:23.124Z"
   },
   {
    "duration": 7,
    "start_time": "2024-12-04T06:10:23.141Z"
   },
   {
    "duration": 13,
    "start_time": "2024-12-04T06:10:23.150Z"
   },
   {
    "duration": 16,
    "start_time": "2024-12-04T06:10:23.164Z"
   },
   {
    "duration": 34,
    "start_time": "2024-12-04T06:10:23.181Z"
   },
   {
    "duration": 128,
    "start_time": "2024-12-04T06:10:23.217Z"
   },
   {
    "duration": 112,
    "start_time": "2024-12-04T06:10:23.347Z"
   },
   {
    "duration": 98,
    "start_time": "2024-12-04T06:10:23.462Z"
   },
   {
    "duration": 4,
    "start_time": "2024-12-04T06:10:23.562Z"
   },
   {
    "duration": 4,
    "start_time": "2024-12-04T06:10:23.568Z"
   },
   {
    "duration": 686,
    "start_time": "2024-12-04T06:10:23.574Z"
   },
   {
    "duration": 1160,
    "start_time": "2024-12-04T06:10:24.262Z"
   },
   {
    "duration": 8,
    "start_time": "2024-12-04T06:10:25.424Z"
   },
   {
    "duration": 6,
    "start_time": "2024-12-04T06:10:25.433Z"
   },
   {
    "duration": 4,
    "start_time": "2024-12-04T06:10:25.441Z"
   },
   {
    "duration": 4,
    "start_time": "2024-12-04T06:10:25.446Z"
   },
   {
    "duration": 4,
    "start_time": "2024-12-04T06:10:25.452Z"
   },
   {
    "duration": 4,
    "start_time": "2024-12-04T06:10:25.461Z"
   },
   {
    "duration": 6,
    "start_time": "2024-12-04T06:10:25.467Z"
   },
   {
    "duration": 7,
    "start_time": "2024-12-04T06:10:25.511Z"
   },
   {
    "duration": 4,
    "start_time": "2024-12-04T06:10:25.519Z"
   },
   {
    "duration": 4,
    "start_time": "2024-12-04T06:10:25.525Z"
   },
   {
    "duration": 4,
    "start_time": "2024-12-04T06:10:25.531Z"
   },
   {
    "duration": 4,
    "start_time": "2024-12-04T06:10:25.536Z"
   },
   {
    "duration": 117,
    "start_time": "2024-12-04T06:10:25.543Z"
   },
   {
    "duration": 82,
    "start_time": "2024-12-04T06:10:25.661Z"
   },
   {
    "duration": 91,
    "start_time": "2024-12-04T06:10:25.744Z"
   },
   {
    "duration": 481,
    "start_time": "2024-12-04T06:10:25.837Z"
   },
   {
    "duration": 6,
    "start_time": "2024-12-04T06:10:26.320Z"
   },
   {
    "duration": 5,
    "start_time": "2024-12-04T06:10:26.327Z"
   },
   {
    "duration": 5,
    "start_time": "2024-12-04T06:10:26.333Z"
   },
   {
    "duration": 9,
    "start_time": "2024-12-04T06:10:26.340Z"
   },
   {
    "duration": 4,
    "start_time": "2024-12-04T06:10:26.350Z"
   },
   {
    "duration": 15,
    "start_time": "2024-12-04T06:10:26.412Z"
   },
   {
    "duration": 10,
    "start_time": "2024-12-04T06:10:26.429Z"
   },
   {
    "duration": 10,
    "start_time": "2024-12-04T06:10:26.441Z"
   },
   {
    "duration": 10,
    "start_time": "2024-12-04T06:10:26.452Z"
   },
   {
    "duration": 51,
    "start_time": "2024-12-04T06:10:26.464Z"
   },
   {
    "duration": 7,
    "start_time": "2024-12-04T06:10:26.516Z"
   },
   {
    "duration": 5,
    "start_time": "2024-12-04T06:10:26.524Z"
   },
   {
    "duration": 2,
    "start_time": "2024-12-04T06:10:26.531Z"
   },
   {
    "duration": 2,
    "start_time": "2024-12-04T06:10:26.535Z"
   },
   {
    "duration": 3,
    "start_time": "2024-12-04T06:10:26.538Z"
   },
   {
    "duration": 2,
    "start_time": "2024-12-04T06:10:26.543Z"
   },
   {
    "duration": 2,
    "start_time": "2024-12-04T06:10:26.547Z"
   },
   {
    "duration": 2,
    "start_time": "2024-12-04T06:10:26.551Z"
   },
   {
    "duration": 62,
    "start_time": "2024-12-04T06:10:26.555Z"
   },
   {
    "duration": 6,
    "start_time": "2024-12-04T06:11:06.407Z"
   },
   {
    "duration": 7,
    "start_time": "2024-12-04T06:11:34.073Z"
   },
   {
    "duration": 9,
    "start_time": "2024-12-04T06:12:26.221Z"
   },
   {
    "duration": 8,
    "start_time": "2024-12-04T06:12:42.663Z"
   },
   {
    "duration": 10,
    "start_time": "2024-12-04T06:14:19.008Z"
   },
   {
    "duration": 9,
    "start_time": "2024-12-04T06:14:38.855Z"
   },
   {
    "duration": 8,
    "start_time": "2024-12-04T06:20:12.989Z"
   },
   {
    "duration": 11,
    "start_time": "2024-12-04T17:20:27.177Z"
   },
   {
    "duration": 3,
    "start_time": "2024-12-04T17:20:44.612Z"
   },
   {
    "duration": 153,
    "start_time": "2024-12-04T17:21:04.044Z"
   },
   {
    "duration": 5,
    "start_time": "2024-12-04T17:21:15.364Z"
   },
   {
    "duration": 11,
    "start_time": "2024-12-04T17:33:52.516Z"
   },
   {
    "duration": 2724,
    "start_time": "2024-12-04T17:34:21.126Z"
   },
   {
    "duration": 600,
    "start_time": "2024-12-04T17:34:23.852Z"
   },
   {
    "duration": 23,
    "start_time": "2024-12-04T17:34:24.454Z"
   },
   {
    "duration": 16,
    "start_time": "2024-12-04T17:34:24.479Z"
   },
   {
    "duration": 19,
    "start_time": "2024-12-04T17:34:24.496Z"
   },
   {
    "duration": 4,
    "start_time": "2024-12-04T17:34:24.517Z"
   },
   {
    "duration": 4,
    "start_time": "2024-12-04T17:34:24.522Z"
   },
   {
    "duration": 5,
    "start_time": "2024-12-04T17:34:24.529Z"
   },
   {
    "duration": 36,
    "start_time": "2024-12-04T17:34:24.535Z"
   },
   {
    "duration": 3,
    "start_time": "2024-12-04T17:34:24.574Z"
   },
   {
    "duration": 4,
    "start_time": "2024-12-04T17:34:24.578Z"
   },
   {
    "duration": 13,
    "start_time": "2024-12-04T17:34:24.583Z"
   },
   {
    "duration": 2,
    "start_time": "2024-12-04T17:34:24.599Z"
   },
   {
    "duration": 8,
    "start_time": "2024-12-04T17:34:24.603Z"
   },
   {
    "duration": 7,
    "start_time": "2024-12-04T17:34:24.613Z"
   },
   {
    "duration": 49,
    "start_time": "2024-12-04T17:34:24.621Z"
   },
   {
    "duration": 2,
    "start_time": "2024-12-04T17:34:24.672Z"
   },
   {
    "duration": 57,
    "start_time": "2024-12-04T17:34:24.676Z"
   },
   {
    "duration": 35,
    "start_time": "2024-12-04T17:34:24.735Z"
   },
   {
    "duration": 85,
    "start_time": "2024-12-04T17:34:24.771Z"
   },
   {
    "duration": 12,
    "start_time": "2024-12-04T17:34:24.858Z"
   },
   {
    "duration": 12,
    "start_time": "2024-12-04T17:34:24.872Z"
   },
   {
    "duration": 6,
    "start_time": "2024-12-04T17:34:24.886Z"
   },
   {
    "duration": 14,
    "start_time": "2024-12-04T17:34:24.894Z"
   },
   {
    "duration": 6,
    "start_time": "2024-12-04T17:34:24.910Z"
   },
   {
    "duration": 12,
    "start_time": "2024-12-04T17:34:24.919Z"
   },
   {
    "duration": 47,
    "start_time": "2024-12-04T17:34:24.932Z"
   },
   {
    "duration": 7,
    "start_time": "2024-12-04T17:34:24.984Z"
   },
   {
    "duration": 122,
    "start_time": "2024-12-04T17:34:24.992Z"
   },
   {
    "duration": 113,
    "start_time": "2024-12-04T17:34:25.116Z"
   },
   {
    "duration": 104,
    "start_time": "2024-12-04T17:34:25.231Z"
   },
   {
    "duration": 5,
    "start_time": "2024-12-04T17:34:25.337Z"
   },
   {
    "duration": 5,
    "start_time": "2024-12-04T17:34:25.344Z"
   },
   {
    "duration": 748,
    "start_time": "2024-12-04T17:34:25.350Z"
   },
   {
    "duration": 1206,
    "start_time": "2024-12-04T17:34:26.100Z"
   },
   {
    "duration": 8,
    "start_time": "2024-12-04T17:34:27.307Z"
   },
   {
    "duration": 6,
    "start_time": "2024-12-04T17:34:27.316Z"
   },
   {
    "duration": 5,
    "start_time": "2024-12-04T17:34:27.323Z"
   },
   {
    "duration": 3,
    "start_time": "2024-12-04T17:34:27.329Z"
   },
   {
    "duration": 5,
    "start_time": "2024-12-04T17:34:27.334Z"
   },
   {
    "duration": 4,
    "start_time": "2024-12-04T17:34:27.370Z"
   },
   {
    "duration": 7,
    "start_time": "2024-12-04T17:34:27.375Z"
   },
   {
    "duration": 7,
    "start_time": "2024-12-04T17:34:27.384Z"
   },
   {
    "duration": 3,
    "start_time": "2024-12-04T17:34:27.393Z"
   },
   {
    "duration": 5,
    "start_time": "2024-12-04T17:34:27.398Z"
   },
   {
    "duration": 5,
    "start_time": "2024-12-04T17:34:27.405Z"
   },
   {
    "duration": 4,
    "start_time": "2024-12-04T17:34:27.412Z"
   },
   {
    "duration": 124,
    "start_time": "2024-12-04T17:34:27.420Z"
   },
   {
    "duration": 87,
    "start_time": "2024-12-04T17:34:27.546Z"
   },
   {
    "duration": 102,
    "start_time": "2024-12-04T17:34:27.634Z"
   },
   {
    "duration": 487,
    "start_time": "2024-12-04T17:34:27.737Z"
   },
   {
    "duration": 5,
    "start_time": "2024-12-04T17:34:28.226Z"
   },
   {
    "duration": 4,
    "start_time": "2024-12-04T17:34:28.233Z"
   },
   {
    "duration": 6,
    "start_time": "2024-12-04T17:34:28.270Z"
   },
   {
    "duration": 8,
    "start_time": "2024-12-04T17:34:28.277Z"
   },
   {
    "duration": 4,
    "start_time": "2024-12-04T17:34:28.286Z"
   },
   {
    "duration": 13,
    "start_time": "2024-12-04T17:34:28.291Z"
   },
   {
    "duration": 11,
    "start_time": "2024-12-04T17:34:28.305Z"
   },
   {
    "duration": 58,
    "start_time": "2024-12-04T17:34:28.318Z"
   },
   {
    "duration": 10,
    "start_time": "2024-12-04T17:34:28.378Z"
   },
   {
    "duration": 11,
    "start_time": "2024-12-04T17:34:28.389Z"
   },
   {
    "duration": 7,
    "start_time": "2024-12-04T17:34:28.402Z"
   },
   {
    "duration": 9,
    "start_time": "2024-12-04T17:34:28.410Z"
   },
   {
    "duration": 8,
    "start_time": "2024-12-04T17:34:28.420Z"
   },
   {
    "duration": 3,
    "start_time": "2024-12-04T17:34:28.429Z"
   },
   {
    "duration": 5,
    "start_time": "2024-12-04T17:34:28.470Z"
   },
   {
    "duration": 13,
    "start_time": "2024-12-04T17:34:28.477Z"
   },
   {
    "duration": 6,
    "start_time": "2024-12-04T17:40:27.734Z"
   },
   {
    "duration": 16,
    "start_time": "2024-12-04T17:46:58.431Z"
   },
   {
    "duration": 255,
    "start_time": "2024-12-04T17:49:49.173Z"
   },
   {
    "duration": 1057,
    "start_time": "2024-12-04T17:52:11.106Z"
   },
   {
    "duration": 502,
    "start_time": "2024-12-04T17:52:12.166Z"
   },
   {
    "duration": 20,
    "start_time": "2024-12-04T17:52:12.669Z"
   },
   {
    "duration": 17,
    "start_time": "2024-12-04T17:52:12.691Z"
   },
   {
    "duration": 19,
    "start_time": "2024-12-04T17:52:12.709Z"
   },
   {
    "duration": 4,
    "start_time": "2024-12-04T17:52:12.730Z"
   },
   {
    "duration": 34,
    "start_time": "2024-12-04T17:52:12.736Z"
   },
   {
    "duration": 5,
    "start_time": "2024-12-04T17:52:12.771Z"
   },
   {
    "duration": 5,
    "start_time": "2024-12-04T17:52:12.777Z"
   },
   {
    "duration": 2,
    "start_time": "2024-12-04T17:52:12.785Z"
   },
   {
    "duration": 5,
    "start_time": "2024-12-04T17:52:12.789Z"
   },
   {
    "duration": 14,
    "start_time": "2024-12-04T17:52:12.795Z"
   },
   {
    "duration": 3,
    "start_time": "2024-12-04T17:52:12.812Z"
   },
   {
    "duration": 12,
    "start_time": "2024-12-04T17:52:12.816Z"
   },
   {
    "duration": 45,
    "start_time": "2024-12-04T17:52:12.830Z"
   },
   {
    "duration": 9,
    "start_time": "2024-12-04T17:52:12.877Z"
   },
   {
    "duration": 3,
    "start_time": "2024-12-04T17:52:12.888Z"
   },
   {
    "duration": 85,
    "start_time": "2024-12-04T17:52:12.892Z"
   },
   {
    "duration": 17,
    "start_time": "2024-12-04T17:52:12.979Z"
   },
   {
    "duration": 93,
    "start_time": "2024-12-04T17:52:12.998Z"
   },
   {
    "duration": 2,
    "start_time": "2024-12-04T17:52:13.093Z"
   },
   {
    "duration": 13,
    "start_time": "2024-12-04T17:52:13.097Z"
   },
   {
    "duration": 7,
    "start_time": "2024-12-04T17:52:13.112Z"
   },
   {
    "duration": 15,
    "start_time": "2024-12-04T17:52:13.121Z"
   },
   {
    "duration": 35,
    "start_time": "2024-12-04T17:52:13.138Z"
   },
   {
    "duration": 14,
    "start_time": "2024-12-04T17:52:13.174Z"
   },
   {
    "duration": 15,
    "start_time": "2024-12-04T17:52:13.190Z"
   },
   {
    "duration": 6,
    "start_time": "2024-12-04T17:52:13.210Z"
   },
   {
    "duration": 125,
    "start_time": "2024-12-04T17:52:13.217Z"
   },
   {
    "duration": 117,
    "start_time": "2024-12-04T17:52:13.343Z"
   },
   {
    "duration": 98,
    "start_time": "2024-12-04T17:52:13.462Z"
   },
   {
    "duration": 5,
    "start_time": "2024-12-04T17:52:13.570Z"
   },
   {
    "duration": 5,
    "start_time": "2024-12-04T17:52:13.577Z"
   },
   {
    "duration": 745,
    "start_time": "2024-12-04T17:52:13.584Z"
   },
   {
    "duration": 1143,
    "start_time": "2024-12-04T17:52:14.330Z"
   },
   {
    "duration": 6,
    "start_time": "2024-12-04T17:52:15.475Z"
   },
   {
    "duration": 6,
    "start_time": "2024-12-04T17:52:15.483Z"
   },
   {
    "duration": 5,
    "start_time": "2024-12-04T17:52:15.491Z"
   },
   {
    "duration": 4,
    "start_time": "2024-12-04T17:52:15.497Z"
   },
   {
    "duration": 5,
    "start_time": "2024-12-04T17:52:15.502Z"
   },
   {
    "duration": 4,
    "start_time": "2024-12-04T17:52:15.509Z"
   },
   {
    "duration": 6,
    "start_time": "2024-12-04T17:52:15.514Z"
   },
   {
    "duration": 50,
    "start_time": "2024-12-04T17:52:15.523Z"
   },
   {
    "duration": 4,
    "start_time": "2024-12-04T17:52:15.574Z"
   },
   {
    "duration": 5,
    "start_time": "2024-12-04T17:52:15.579Z"
   },
   {
    "duration": 4,
    "start_time": "2024-12-04T17:52:15.585Z"
   },
   {
    "duration": 4,
    "start_time": "2024-12-04T17:52:15.591Z"
   },
   {
    "duration": 113,
    "start_time": "2024-12-04T17:52:15.597Z"
   },
   {
    "duration": 82,
    "start_time": "2024-12-04T17:52:15.712Z"
   },
   {
    "duration": 179,
    "start_time": "2024-12-04T17:52:15.796Z"
   },
   {
    "duration": 400,
    "start_time": "2024-12-04T17:52:15.977Z"
   },
   {
    "duration": 5,
    "start_time": "2024-12-04T17:52:16.382Z"
   },
   {
    "duration": 5,
    "start_time": "2024-12-04T17:52:16.389Z"
   },
   {
    "duration": 5,
    "start_time": "2024-12-04T17:52:16.396Z"
   },
   {
    "duration": 7,
    "start_time": "2024-12-04T17:52:16.402Z"
   },
   {
    "duration": 4,
    "start_time": "2024-12-04T17:52:16.411Z"
   },
   {
    "duration": 64,
    "start_time": "2024-12-04T17:52:16.417Z"
   },
   {
    "duration": 11,
    "start_time": "2024-12-04T17:52:16.482Z"
   },
   {
    "duration": 11,
    "start_time": "2024-12-04T17:52:16.494Z"
   },
   {
    "duration": 9,
    "start_time": "2024-12-04T17:52:16.506Z"
   },
   {
    "duration": 56,
    "start_time": "2024-12-04T17:52:16.517Z"
   },
   {
    "duration": 7,
    "start_time": "2024-12-04T17:52:16.575Z"
   },
   {
    "duration": 10,
    "start_time": "2024-12-04T17:52:16.584Z"
   },
   {
    "duration": 8,
    "start_time": "2024-12-04T17:52:16.595Z"
   },
   {
    "duration": 3,
    "start_time": "2024-12-04T17:52:16.605Z"
   },
   {
    "duration": 3,
    "start_time": "2024-12-04T17:52:16.610Z"
   },
   {
    "duration": 15,
    "start_time": "2024-12-04T17:52:16.614Z"
   },
   {
    "duration": 333,
    "start_time": "2024-12-04T17:52:16.630Z"
   },
   {
    "duration": 0,
    "start_time": "2024-12-04T17:52:16.964Z"
   },
   {
    "duration": 6,
    "start_time": "2024-12-04T17:52:31.404Z"
   },
   {
    "duration": 16,
    "start_time": "2024-12-04T17:52:34.302Z"
   },
   {
    "duration": 1019,
    "start_time": "2024-12-04T17:54:05.030Z"
   },
   {
    "duration": 523,
    "start_time": "2024-12-04T17:54:06.051Z"
   },
   {
    "duration": 29,
    "start_time": "2024-12-04T17:54:06.575Z"
   },
   {
    "duration": 18,
    "start_time": "2024-12-04T17:54:06.606Z"
   },
   {
    "duration": 20,
    "start_time": "2024-12-04T17:54:06.626Z"
   },
   {
    "duration": 5,
    "start_time": "2024-12-04T17:54:06.647Z"
   },
   {
    "duration": 5,
    "start_time": "2024-12-04T17:54:06.671Z"
   },
   {
    "duration": 6,
    "start_time": "2024-12-04T17:54:06.678Z"
   },
   {
    "duration": 5,
    "start_time": "2024-12-04T17:54:06.687Z"
   },
   {
    "duration": 2,
    "start_time": "2024-12-04T17:54:06.696Z"
   },
   {
    "duration": 5,
    "start_time": "2024-12-04T17:54:06.700Z"
   },
   {
    "duration": 14,
    "start_time": "2024-12-04T17:54:06.706Z"
   },
   {
    "duration": 3,
    "start_time": "2024-12-04T17:54:06.721Z"
   },
   {
    "duration": 45,
    "start_time": "2024-12-04T17:54:06.725Z"
   },
   {
    "duration": 9,
    "start_time": "2024-12-04T17:54:06.772Z"
   },
   {
    "duration": 14,
    "start_time": "2024-12-04T17:54:06.787Z"
   },
   {
    "duration": 3,
    "start_time": "2024-12-04T17:54:06.803Z"
   },
   {
    "duration": 73,
    "start_time": "2024-12-04T17:54:06.808Z"
   },
   {
    "duration": 17,
    "start_time": "2024-12-04T17:54:06.883Z"
   },
   {
    "duration": 102,
    "start_time": "2024-12-04T17:54:06.902Z"
   },
   {
    "duration": 2,
    "start_time": "2024-12-04T17:54:07.006Z"
   },
   {
    "duration": 13,
    "start_time": "2024-12-04T17:54:07.009Z"
   },
   {
    "duration": 6,
    "start_time": "2024-12-04T17:54:07.024Z"
   },
   {
    "duration": 16,
    "start_time": "2024-12-04T17:54:07.032Z"
   },
   {
    "duration": 9,
    "start_time": "2024-12-04T17:54:07.070Z"
   },
   {
    "duration": 12,
    "start_time": "2024-12-04T17:54:07.082Z"
   },
   {
    "duration": 15,
    "start_time": "2024-12-04T17:54:07.096Z"
   },
   {
    "duration": 5,
    "start_time": "2024-12-04T17:54:07.116Z"
   },
   {
    "duration": 141,
    "start_time": "2024-12-04T17:54:07.122Z"
   },
   {
    "duration": 126,
    "start_time": "2024-12-04T17:54:07.269Z"
   },
   {
    "duration": 105,
    "start_time": "2024-12-04T17:54:07.397Z"
   },
   {
    "duration": 5,
    "start_time": "2024-12-04T17:54:07.503Z"
   },
   {
    "duration": 4,
    "start_time": "2024-12-04T17:54:07.510Z"
   },
   {
    "duration": 784,
    "start_time": "2024-12-04T17:54:07.516Z"
   },
   {
    "duration": 1171,
    "start_time": "2024-12-04T17:54:08.302Z"
   },
   {
    "duration": 7,
    "start_time": "2024-12-04T17:54:09.475Z"
   },
   {
    "duration": 6,
    "start_time": "2024-12-04T17:54:09.484Z"
   },
   {
    "duration": 5,
    "start_time": "2024-12-04T17:54:09.491Z"
   },
   {
    "duration": 4,
    "start_time": "2024-12-04T17:54:09.497Z"
   },
   {
    "duration": 5,
    "start_time": "2024-12-04T17:54:09.503Z"
   },
   {
    "duration": 4,
    "start_time": "2024-12-04T17:54:09.510Z"
   },
   {
    "duration": 6,
    "start_time": "2024-12-04T17:54:09.516Z"
   },
   {
    "duration": 48,
    "start_time": "2024-12-04T17:54:09.524Z"
   },
   {
    "duration": 3,
    "start_time": "2024-12-04T17:54:09.575Z"
   },
   {
    "duration": 5,
    "start_time": "2024-12-04T17:54:09.580Z"
   },
   {
    "duration": 4,
    "start_time": "2024-12-04T17:54:09.586Z"
   },
   {
    "duration": 5,
    "start_time": "2024-12-04T17:54:09.591Z"
   },
   {
    "duration": 115,
    "start_time": "2024-12-04T17:54:09.597Z"
   },
   {
    "duration": 84,
    "start_time": "2024-12-04T17:54:09.713Z"
   },
   {
    "duration": 179,
    "start_time": "2024-12-04T17:54:09.798Z"
   },
   {
    "duration": 415,
    "start_time": "2024-12-04T17:54:09.979Z"
   },
   {
    "duration": 5,
    "start_time": "2024-12-04T17:54:10.396Z"
   },
   {
    "duration": 5,
    "start_time": "2024-12-04T17:54:10.403Z"
   },
   {
    "duration": 4,
    "start_time": "2024-12-04T17:54:10.410Z"
   },
   {
    "duration": 10,
    "start_time": "2024-12-04T17:54:10.472Z"
   },
   {
    "duration": 3,
    "start_time": "2024-12-04T17:54:10.483Z"
   },
   {
    "duration": 13,
    "start_time": "2024-12-04T17:54:10.488Z"
   },
   {
    "duration": 11,
    "start_time": "2024-12-04T17:54:10.502Z"
   },
   {
    "duration": 9,
    "start_time": "2024-12-04T17:54:10.515Z"
   },
   {
    "duration": 10,
    "start_time": "2024-12-04T17:54:10.570Z"
   },
   {
    "duration": 11,
    "start_time": "2024-12-04T17:54:10.582Z"
   },
   {
    "duration": 7,
    "start_time": "2024-12-04T17:54:10.594Z"
   },
   {
    "duration": 10,
    "start_time": "2024-12-04T17:54:10.603Z"
   },
   {
    "duration": 8,
    "start_time": "2024-12-04T17:54:10.614Z"
   },
   {
    "duration": 2,
    "start_time": "2024-12-04T17:54:10.624Z"
   },
   {
    "duration": 43,
    "start_time": "2024-12-04T17:54:10.628Z"
   },
   {
    "duration": 13,
    "start_time": "2024-12-04T17:54:10.672Z"
   },
   {
    "duration": 5,
    "start_time": "2024-12-04T17:54:10.687Z"
   },
   {
    "duration": 300,
    "start_time": "2024-12-04T17:54:10.694Z"
   },
   {
    "duration": 15,
    "start_time": "2024-12-04T17:54:29.528Z"
   },
   {
    "duration": 2,
    "start_time": "2024-12-04T17:54:45.316Z"
   },
   {
    "duration": 35,
    "start_time": "2024-12-04T17:55:28.460Z"
   },
   {
    "duration": 1099,
    "start_time": "2024-12-04T18:24:28.693Z"
   },
   {
    "duration": 527,
    "start_time": "2024-12-04T18:24:29.795Z"
   },
   {
    "duration": 24,
    "start_time": "2024-12-04T18:24:30.324Z"
   },
   {
    "duration": 31,
    "start_time": "2024-12-04T18:24:30.350Z"
   },
   {
    "duration": 21,
    "start_time": "2024-12-04T18:24:30.384Z"
   },
   {
    "duration": 3,
    "start_time": "2024-12-04T18:24:30.409Z"
   },
   {
    "duration": 4,
    "start_time": "2024-12-04T18:24:30.414Z"
   },
   {
    "duration": 3,
    "start_time": "2024-12-04T18:24:30.420Z"
   },
   {
    "duration": 4,
    "start_time": "2024-12-04T18:24:30.425Z"
   },
   {
    "duration": 3,
    "start_time": "2024-12-04T18:24:30.432Z"
   },
   {
    "duration": 4,
    "start_time": "2024-12-04T18:24:30.470Z"
   },
   {
    "duration": 14,
    "start_time": "2024-12-04T18:24:30.476Z"
   },
   {
    "duration": 5,
    "start_time": "2024-12-04T18:24:30.492Z"
   },
   {
    "duration": 11,
    "start_time": "2024-12-04T18:24:30.499Z"
   },
   {
    "duration": 8,
    "start_time": "2024-12-04T18:24:30.512Z"
   },
   {
    "duration": 14,
    "start_time": "2024-12-04T18:24:30.522Z"
   },
   {
    "duration": 3,
    "start_time": "2024-12-04T18:24:30.571Z"
   },
   {
    "duration": 57,
    "start_time": "2024-12-04T18:24:30.577Z"
   },
   {
    "duration": 35,
    "start_time": "2024-12-04T18:24:30.636Z"
   },
   {
    "duration": 116,
    "start_time": "2024-12-04T18:24:30.673Z"
   },
   {
    "duration": 3,
    "start_time": "2024-12-04T18:24:30.791Z"
   },
   {
    "duration": 16,
    "start_time": "2024-12-04T18:24:30.796Z"
   },
   {
    "duration": 8,
    "start_time": "2024-12-04T18:24:30.815Z"
   },
   {
    "duration": 16,
    "start_time": "2024-12-04T18:24:30.825Z"
   },
   {
    "duration": 31,
    "start_time": "2024-12-04T18:24:30.843Z"
   },
   {
    "duration": 15,
    "start_time": "2024-12-04T18:24:30.875Z"
   },
   {
    "duration": 15,
    "start_time": "2024-12-04T18:24:30.892Z"
   },
   {
    "duration": 6,
    "start_time": "2024-12-04T18:24:30.913Z"
   },
   {
    "duration": 138,
    "start_time": "2024-12-04T18:24:30.921Z"
   },
   {
    "duration": 110,
    "start_time": "2024-12-04T18:24:31.069Z"
   },
   {
    "duration": 108,
    "start_time": "2024-12-04T18:24:31.181Z"
   },
   {
    "duration": 5,
    "start_time": "2024-12-04T18:24:31.291Z"
   },
   {
    "duration": 4,
    "start_time": "2024-12-04T18:24:31.297Z"
   },
   {
    "duration": 707,
    "start_time": "2024-12-04T18:24:31.303Z"
   },
   {
    "duration": 1139,
    "start_time": "2024-12-04T18:24:32.012Z"
   },
   {
    "duration": 19,
    "start_time": "2024-12-04T18:24:33.153Z"
   },
   {
    "duration": 6,
    "start_time": "2024-12-04T18:24:33.174Z"
   },
   {
    "duration": 10,
    "start_time": "2024-12-04T18:24:33.182Z"
   },
   {
    "duration": 3,
    "start_time": "2024-12-04T18:24:33.194Z"
   },
   {
    "duration": 5,
    "start_time": "2024-12-04T18:24:33.199Z"
   },
   {
    "duration": 5,
    "start_time": "2024-12-04T18:24:33.205Z"
   },
   {
    "duration": 7,
    "start_time": "2024-12-04T18:24:33.212Z"
   },
   {
    "duration": 7,
    "start_time": "2024-12-04T18:24:33.221Z"
   },
   {
    "duration": 3,
    "start_time": "2024-12-04T18:24:33.229Z"
   },
   {
    "duration": 4,
    "start_time": "2024-12-04T18:24:33.270Z"
   },
   {
    "duration": 4,
    "start_time": "2024-12-04T18:24:33.276Z"
   },
   {
    "duration": 5,
    "start_time": "2024-12-04T18:24:33.282Z"
   },
   {
    "duration": 112,
    "start_time": "2024-12-04T18:24:33.288Z"
   },
   {
    "duration": 89,
    "start_time": "2024-12-04T18:24:33.402Z"
   },
   {
    "duration": 179,
    "start_time": "2024-12-04T18:24:33.492Z"
   },
   {
    "duration": 401,
    "start_time": "2024-12-04T18:24:33.672Z"
   },
   {
    "duration": 6,
    "start_time": "2024-12-04T18:24:34.074Z"
   },
   {
    "duration": 5,
    "start_time": "2024-12-04T18:24:34.081Z"
   },
   {
    "duration": 4,
    "start_time": "2024-12-04T18:24:34.088Z"
   },
   {
    "duration": 9,
    "start_time": "2024-12-04T18:24:34.094Z"
   },
   {
    "duration": 5,
    "start_time": "2024-12-04T18:24:34.104Z"
   },
   {
    "duration": 69,
    "start_time": "2024-12-04T18:24:34.111Z"
   },
   {
    "duration": 12,
    "start_time": "2024-12-04T18:24:34.182Z"
   },
   {
    "duration": 12,
    "start_time": "2024-12-04T18:24:34.196Z"
   },
   {
    "duration": 10,
    "start_time": "2024-12-04T18:24:34.210Z"
   },
   {
    "duration": 61,
    "start_time": "2024-12-04T18:24:34.222Z"
   },
   {
    "duration": 9,
    "start_time": "2024-12-04T18:24:34.285Z"
   },
   {
    "duration": 12,
    "start_time": "2024-12-04T18:24:34.296Z"
   },
   {
    "duration": 8,
    "start_time": "2024-12-04T18:24:34.310Z"
   },
   {
    "duration": 2,
    "start_time": "2024-12-04T18:24:34.320Z"
   },
   {
    "duration": 6,
    "start_time": "2024-12-04T18:24:34.324Z"
   },
   {
    "duration": 43,
    "start_time": "2024-12-04T18:24:34.332Z"
   },
   {
    "duration": 41,
    "start_time": "2024-12-04T18:24:34.376Z"
   },
   {
    "duration": 4,
    "start_time": "2024-12-04T18:24:34.419Z"
   },
   {
    "duration": 0,
    "start_time": "2024-12-04T18:24:34.425Z"
   },
   {
    "duration": 0,
    "start_time": "2024-12-04T18:24:34.426Z"
   },
   {
    "duration": 0,
    "start_time": "2024-12-04T18:24:34.428Z"
   },
   {
    "duration": 10,
    "start_time": "2024-12-04T18:25:31.167Z"
   },
   {
    "duration": 13,
    "start_time": "2024-12-04T18:25:49.853Z"
   },
   {
    "duration": 34,
    "start_time": "2024-12-04T18:26:08.970Z"
   },
   {
    "duration": 16,
    "start_time": "2024-12-04T18:26:17.172Z"
   },
   {
    "duration": 3,
    "start_time": "2024-12-04T18:26:42.110Z"
   },
   {
    "duration": 6,
    "start_time": "2024-12-04T18:26:45.644Z"
   },
   {
    "duration": 5,
    "start_time": "2024-12-04T18:26:58.297Z"
   },
   {
    "duration": 3,
    "start_time": "2024-12-04T18:27:02.484Z"
   },
   {
    "duration": 3,
    "start_time": "2024-12-04T18:27:16.575Z"
   },
   {
    "duration": 3,
    "start_time": "2024-12-04T18:27:43.255Z"
   },
   {
    "duration": 4,
    "start_time": "2024-12-04T19:02:01.769Z"
   },
   {
    "duration": 1068,
    "start_time": "2024-12-04T19:17:44.782Z"
   },
   {
    "duration": 499,
    "start_time": "2024-12-04T19:17:45.852Z"
   },
   {
    "duration": 28,
    "start_time": "2024-12-04T19:17:46.353Z"
   },
   {
    "duration": 21,
    "start_time": "2024-12-04T19:17:46.383Z"
   },
   {
    "duration": 18,
    "start_time": "2024-12-04T19:17:46.406Z"
   },
   {
    "duration": 3,
    "start_time": "2024-12-04T19:17:46.426Z"
   },
   {
    "duration": 5,
    "start_time": "2024-12-04T19:17:46.431Z"
   },
   {
    "duration": 3,
    "start_time": "2024-12-04T19:17:46.438Z"
   },
   {
    "duration": 4,
    "start_time": "2024-12-04T19:17:46.470Z"
   },
   {
    "duration": 2,
    "start_time": "2024-12-04T19:17:46.478Z"
   },
   {
    "duration": 4,
    "start_time": "2024-12-04T19:17:46.482Z"
   },
   {
    "duration": 13,
    "start_time": "2024-12-04T19:17:46.488Z"
   },
   {
    "duration": 3,
    "start_time": "2024-12-04T19:17:46.502Z"
   },
   {
    "duration": 9,
    "start_time": "2024-12-04T19:17:46.507Z"
   },
   {
    "duration": 6,
    "start_time": "2024-12-04T19:17:46.517Z"
   },
   {
    "duration": 58,
    "start_time": "2024-12-04T19:17:46.524Z"
   },
   {
    "duration": 3,
    "start_time": "2024-12-04T19:17:46.584Z"
   },
   {
    "duration": 60,
    "start_time": "2024-12-04T19:17:46.589Z"
   },
   {
    "duration": 36,
    "start_time": "2024-12-04T19:17:46.651Z"
   },
   {
    "duration": 93,
    "start_time": "2024-12-04T19:17:46.690Z"
   },
   {
    "duration": 3,
    "start_time": "2024-12-04T19:17:46.784Z"
   },
   {
    "duration": 12,
    "start_time": "2024-12-04T19:17:46.789Z"
   },
   {
    "duration": 7,
    "start_time": "2024-12-04T19:17:46.802Z"
   },
   {
    "duration": 15,
    "start_time": "2024-12-04T19:17:46.811Z"
   },
   {
    "duration": 6,
    "start_time": "2024-12-04T19:17:46.828Z"
   },
   {
    "duration": 47,
    "start_time": "2024-12-04T19:17:46.836Z"
   },
   {
    "duration": 16,
    "start_time": "2024-12-04T19:17:46.885Z"
   },
   {
    "duration": 6,
    "start_time": "2024-12-04T19:17:46.906Z"
   },
   {
    "duration": 132,
    "start_time": "2024-12-04T19:17:46.914Z"
   },
   {
    "duration": 123,
    "start_time": "2024-12-04T19:17:47.047Z"
   },
   {
    "duration": 98,
    "start_time": "2024-12-04T19:17:47.179Z"
   },
   {
    "duration": 5,
    "start_time": "2024-12-04T19:17:47.279Z"
   },
   {
    "duration": 4,
    "start_time": "2024-12-04T19:17:47.286Z"
   },
   {
    "duration": 744,
    "start_time": "2024-12-04T19:17:47.291Z"
   },
   {
    "duration": 1144,
    "start_time": "2024-12-04T19:17:48.037Z"
   },
   {
    "duration": 7,
    "start_time": "2024-12-04T19:17:49.182Z"
   },
   {
    "duration": 6,
    "start_time": "2024-12-04T19:17:49.190Z"
   },
   {
    "duration": 4,
    "start_time": "2024-12-04T19:17:49.198Z"
   },
   {
    "duration": 3,
    "start_time": "2024-12-04T19:17:49.204Z"
   },
   {
    "duration": 6,
    "start_time": "2024-12-04T19:17:49.208Z"
   },
   {
    "duration": 11,
    "start_time": "2024-12-04T19:17:49.215Z"
   },
   {
    "duration": 43,
    "start_time": "2024-12-04T19:17:49.228Z"
   },
   {
    "duration": 6,
    "start_time": "2024-12-04T19:17:49.273Z"
   },
   {
    "duration": 3,
    "start_time": "2024-12-04T19:17:49.281Z"
   },
   {
    "duration": 4,
    "start_time": "2024-12-04T19:17:49.285Z"
   },
   {
    "duration": 5,
    "start_time": "2024-12-04T19:17:49.290Z"
   },
   {
    "duration": 4,
    "start_time": "2024-12-04T19:17:49.296Z"
   },
   {
    "duration": 119,
    "start_time": "2024-12-04T19:17:49.302Z"
   },
   {
    "duration": 85,
    "start_time": "2024-12-04T19:17:49.423Z"
   },
   {
    "duration": 178,
    "start_time": "2024-12-04T19:17:49.511Z"
   },
   {
    "duration": 401,
    "start_time": "2024-12-04T19:17:49.691Z"
   },
   {
    "duration": 5,
    "start_time": "2024-12-04T19:17:50.094Z"
   },
   {
    "duration": 4,
    "start_time": "2024-12-04T19:17:50.101Z"
   },
   {
    "duration": 5,
    "start_time": "2024-12-04T19:17:50.107Z"
   },
   {
    "duration": 57,
    "start_time": "2024-12-04T19:17:50.113Z"
   },
   {
    "duration": 3,
    "start_time": "2024-12-04T19:17:50.172Z"
   },
   {
    "duration": 13,
    "start_time": "2024-12-04T19:17:50.177Z"
   },
   {
    "duration": 13,
    "start_time": "2024-12-04T19:17:50.192Z"
   },
   {
    "duration": 10,
    "start_time": "2024-12-04T19:17:50.207Z"
   },
   {
    "duration": 59,
    "start_time": "2024-12-04T19:17:50.219Z"
   },
   {
    "duration": 11,
    "start_time": "2024-12-04T19:17:50.280Z"
   },
   {
    "duration": 8,
    "start_time": "2024-12-04T19:17:50.293Z"
   },
   {
    "duration": 10,
    "start_time": "2024-12-04T19:17:50.302Z"
   },
   {
    "duration": 8,
    "start_time": "2024-12-04T19:17:50.313Z"
   },
   {
    "duration": 2,
    "start_time": "2024-12-04T19:17:50.323Z"
   },
   {
    "duration": 4,
    "start_time": "2024-12-04T19:17:50.327Z"
   },
   {
    "duration": 13,
    "start_time": "2024-12-04T19:17:50.369Z"
   },
   {
    "duration": 738,
    "start_time": "2024-12-04T19:17:50.384Z"
   },
   {
    "duration": 0,
    "start_time": "2024-12-04T19:17:51.124Z"
   },
   {
    "duration": 0,
    "start_time": "2024-12-04T19:17:51.125Z"
   },
   {
    "duration": 0,
    "start_time": "2024-12-04T19:17:51.126Z"
   },
   {
    "duration": 0,
    "start_time": "2024-12-04T19:17:51.127Z"
   },
   {
    "duration": 0,
    "start_time": "2024-12-04T19:17:51.128Z"
   },
   {
    "duration": 37,
    "start_time": "2024-12-04T19:18:32.740Z"
   },
   {
    "duration": 4,
    "start_time": "2024-12-04T19:18:36.289Z"
   },
   {
    "duration": 14,
    "start_time": "2024-12-04T19:18:48.892Z"
   },
   {
    "duration": 15,
    "start_time": "2024-12-04T19:18:57.739Z"
   },
   {
    "duration": 13,
    "start_time": "2024-12-04T19:19:02.290Z"
   },
   {
    "duration": 11,
    "start_time": "2024-12-04T19:19:15.035Z"
   },
   {
    "duration": 7,
    "start_time": "2024-12-04T19:20:29.187Z"
   },
   {
    "duration": 3,
    "start_time": "2024-12-04T19:22:41.792Z"
   },
   {
    "duration": 3,
    "start_time": "2024-12-04T19:22:44.169Z"
   },
   {
    "duration": 1093,
    "start_time": "2024-12-04T19:25:28.474Z"
   },
   {
    "duration": 496,
    "start_time": "2024-12-04T19:25:29.570Z"
   },
   {
    "duration": 26,
    "start_time": "2024-12-04T19:25:30.068Z"
   },
   {
    "duration": 18,
    "start_time": "2024-12-04T19:25:30.097Z"
   },
   {
    "duration": 19,
    "start_time": "2024-12-04T19:25:30.118Z"
   },
   {
    "duration": 4,
    "start_time": "2024-12-04T19:25:30.139Z"
   },
   {
    "duration": 4,
    "start_time": "2024-12-04T19:25:30.171Z"
   },
   {
    "duration": 3,
    "start_time": "2024-12-04T19:25:30.177Z"
   },
   {
    "duration": 4,
    "start_time": "2024-12-04T19:25:30.182Z"
   },
   {
    "duration": 3,
    "start_time": "2024-12-04T19:25:30.188Z"
   },
   {
    "duration": 4,
    "start_time": "2024-12-04T19:25:30.193Z"
   },
   {
    "duration": 14,
    "start_time": "2024-12-04T19:25:30.198Z"
   },
   {
    "duration": 2,
    "start_time": "2024-12-04T19:25:30.214Z"
   },
   {
    "duration": 49,
    "start_time": "2024-12-04T19:25:30.221Z"
   },
   {
    "duration": 6,
    "start_time": "2024-12-04T19:25:30.272Z"
   },
   {
    "duration": 12,
    "start_time": "2024-12-04T19:25:30.279Z"
   },
   {
    "duration": 3,
    "start_time": "2024-12-04T19:25:30.293Z"
   },
   {
    "duration": 80,
    "start_time": "2024-12-04T19:25:30.297Z"
   },
   {
    "duration": 18,
    "start_time": "2024-12-04T19:25:30.379Z"
   },
   {
    "duration": 97,
    "start_time": "2024-12-04T19:25:30.399Z"
   },
   {
    "duration": 3,
    "start_time": "2024-12-04T19:25:30.497Z"
   },
   {
    "duration": 13,
    "start_time": "2024-12-04T19:25:30.501Z"
   },
   {
    "duration": 7,
    "start_time": "2024-12-04T19:25:30.516Z"
   },
   {
    "duration": 17,
    "start_time": "2024-12-04T19:25:30.524Z"
   },
   {
    "duration": 33,
    "start_time": "2024-12-04T19:25:30.542Z"
   },
   {
    "duration": 13,
    "start_time": "2024-12-04T19:25:30.577Z"
   },
   {
    "duration": 15,
    "start_time": "2024-12-04T19:25:30.592Z"
   },
   {
    "duration": 6,
    "start_time": "2024-12-04T19:25:30.608Z"
   },
   {
    "duration": 127,
    "start_time": "2024-12-04T19:25:30.616Z"
   },
   {
    "duration": 116,
    "start_time": "2024-12-04T19:25:30.745Z"
   },
   {
    "duration": 101,
    "start_time": "2024-12-04T19:25:30.870Z"
   },
   {
    "duration": 5,
    "start_time": "2024-12-04T19:25:30.973Z"
   },
   {
    "duration": 5,
    "start_time": "2024-12-04T19:25:30.979Z"
   },
   {
    "duration": 722,
    "start_time": "2024-12-04T19:25:30.987Z"
   },
   {
    "duration": 1139,
    "start_time": "2024-12-04T19:25:31.712Z"
   },
   {
    "duration": 7,
    "start_time": "2024-12-04T19:25:32.853Z"
   },
   {
    "duration": 9,
    "start_time": "2024-12-04T19:25:32.862Z"
   },
   {
    "duration": 5,
    "start_time": "2024-12-04T19:25:32.873Z"
   },
   {
    "duration": 3,
    "start_time": "2024-12-04T19:25:32.880Z"
   },
   {
    "duration": 6,
    "start_time": "2024-12-04T19:25:32.884Z"
   },
   {
    "duration": 5,
    "start_time": "2024-12-04T19:25:32.894Z"
   },
   {
    "duration": 6,
    "start_time": "2024-12-04T19:25:32.901Z"
   },
   {
    "duration": 6,
    "start_time": "2024-12-04T19:25:32.908Z"
   },
   {
    "duration": 3,
    "start_time": "2024-12-04T19:25:32.915Z"
   },
   {
    "duration": 53,
    "start_time": "2024-12-04T19:25:32.920Z"
   },
   {
    "duration": 4,
    "start_time": "2024-12-04T19:25:32.975Z"
   },
   {
    "duration": 4,
    "start_time": "2024-12-04T19:25:32.980Z"
   },
   {
    "duration": 106,
    "start_time": "2024-12-04T19:25:32.986Z"
   },
   {
    "duration": 81,
    "start_time": "2024-12-04T19:25:33.094Z"
   },
   {
    "duration": 178,
    "start_time": "2024-12-04T19:25:33.176Z"
   },
   {
    "duration": 388,
    "start_time": "2024-12-04T19:25:33.356Z"
   },
   {
    "duration": 26,
    "start_time": "2024-12-04T19:25:33.746Z"
   },
   {
    "duration": 4,
    "start_time": "2024-12-04T19:25:33.775Z"
   },
   {
    "duration": 4,
    "start_time": "2024-12-04T19:25:33.781Z"
   },
   {
    "duration": 7,
    "start_time": "2024-12-04T19:25:33.787Z"
   },
   {
    "duration": 5,
    "start_time": "2024-12-04T19:25:33.796Z"
   },
   {
    "duration": 69,
    "start_time": "2024-12-04T19:25:33.803Z"
   },
   {
    "duration": 12,
    "start_time": "2024-12-04T19:25:33.873Z"
   },
   {
    "duration": 12,
    "start_time": "2024-12-04T19:25:33.886Z"
   },
   {
    "duration": 9,
    "start_time": "2024-12-04T19:25:33.900Z"
   },
   {
    "duration": 11,
    "start_time": "2024-12-04T19:25:33.911Z"
   },
   {
    "duration": 48,
    "start_time": "2024-12-04T19:25:33.923Z"
   },
   {
    "duration": 10,
    "start_time": "2024-12-04T19:25:33.972Z"
   },
   {
    "duration": 8,
    "start_time": "2024-12-04T19:25:33.984Z"
   },
   {
    "duration": 4,
    "start_time": "2024-12-04T19:25:33.994Z"
   },
   {
    "duration": 5,
    "start_time": "2024-12-04T19:25:33.999Z"
   },
   {
    "duration": 13,
    "start_time": "2024-12-04T19:25:34.005Z"
   },
   {
    "duration": 69,
    "start_time": "2024-12-04T19:25:34.019Z"
   },
   {
    "duration": 11,
    "start_time": "2024-12-04T19:25:34.090Z"
   },
   {
    "duration": 2,
    "start_time": "2024-12-04T19:25:34.102Z"
   },
   {
    "duration": 14,
    "start_time": "2024-12-04T19:25:34.106Z"
   },
   {
    "duration": 3,
    "start_time": "2024-12-04T19:25:34.123Z"
   },
   {
    "duration": 4,
    "start_time": "2024-12-04T19:25:34.127Z"
   },
   {
    "duration": 4,
    "start_time": "2024-12-04T19:25:34.132Z"
   },
   {
    "duration": 2,
    "start_time": "2024-12-04T19:26:10.067Z"
   },
   {
    "duration": 240,
    "start_time": "2024-12-04T19:26:26.162Z"
   },
   {
    "duration": 1053,
    "start_time": "2024-12-04T19:27:37.267Z"
   },
   {
    "duration": 517,
    "start_time": "2024-12-04T19:27:38.322Z"
   },
   {
    "duration": 19,
    "start_time": "2024-12-04T19:27:38.841Z"
   },
   {
    "duration": 17,
    "start_time": "2024-12-04T19:27:38.869Z"
   },
   {
    "duration": 20,
    "start_time": "2024-12-04T19:27:38.888Z"
   },
   {
    "duration": 4,
    "start_time": "2024-12-04T19:27:38.911Z"
   },
   {
    "duration": 5,
    "start_time": "2024-12-04T19:27:38.916Z"
   },
   {
    "duration": 4,
    "start_time": "2024-12-04T19:27:38.923Z"
   },
   {
    "duration": 5,
    "start_time": "2024-12-04T19:27:38.929Z"
   },
   {
    "duration": 2,
    "start_time": "2024-12-04T19:27:38.970Z"
   },
   {
    "duration": 4,
    "start_time": "2024-12-04T19:27:38.974Z"
   },
   {
    "duration": 13,
    "start_time": "2024-12-04T19:27:38.979Z"
   },
   {
    "duration": 2,
    "start_time": "2024-12-04T19:27:38.994Z"
   },
   {
    "duration": 9,
    "start_time": "2024-12-04T19:27:39.000Z"
   },
   {
    "duration": 6,
    "start_time": "2024-12-04T19:27:39.010Z"
   },
   {
    "duration": 9,
    "start_time": "2024-12-04T19:27:39.017Z"
   },
   {
    "duration": 43,
    "start_time": "2024-12-04T19:27:39.028Z"
   },
   {
    "duration": 58,
    "start_time": "2024-12-04T19:27:39.073Z"
   },
   {
    "duration": 19,
    "start_time": "2024-12-04T19:27:39.133Z"
   },
   {
    "duration": 87,
    "start_time": "2024-12-04T19:27:39.169Z"
   },
   {
    "duration": 12,
    "start_time": "2024-12-04T19:27:39.258Z"
   },
   {
    "duration": 12,
    "start_time": "2024-12-04T19:27:39.271Z"
   },
   {
    "duration": 7,
    "start_time": "2024-12-04T19:27:39.285Z"
   },
   {
    "duration": 15,
    "start_time": "2024-12-04T19:27:39.293Z"
   },
   {
    "duration": 6,
    "start_time": "2024-12-04T19:27:39.310Z"
   },
   {
    "duration": 13,
    "start_time": "2024-12-04T19:27:39.318Z"
   },
   {
    "duration": 53,
    "start_time": "2024-12-04T19:27:39.332Z"
   },
   {
    "duration": 6,
    "start_time": "2024-12-04T19:27:39.386Z"
   },
   {
    "duration": 117,
    "start_time": "2024-12-04T19:27:39.393Z"
   },
   {
    "duration": 119,
    "start_time": "2024-12-04T19:27:39.513Z"
   },
   {
    "duration": 106,
    "start_time": "2024-12-04T19:27:39.634Z"
   },
   {
    "duration": 5,
    "start_time": "2024-12-04T19:27:39.742Z"
   },
   {
    "duration": 5,
    "start_time": "2024-12-04T19:27:39.748Z"
   },
   {
    "duration": 755,
    "start_time": "2024-12-04T19:27:39.754Z"
   },
   {
    "duration": 1174,
    "start_time": "2024-12-04T19:27:40.510Z"
   },
   {
    "duration": 7,
    "start_time": "2024-12-04T19:27:41.686Z"
   },
   {
    "duration": 6,
    "start_time": "2024-12-04T19:27:41.694Z"
   },
   {
    "duration": 4,
    "start_time": "2024-12-04T19:27:41.702Z"
   },
   {
    "duration": 4,
    "start_time": "2024-12-04T19:27:41.707Z"
   },
   {
    "duration": 5,
    "start_time": "2024-12-04T19:27:41.713Z"
   },
   {
    "duration": 4,
    "start_time": "2024-12-04T19:27:41.724Z"
   },
   {
    "duration": 42,
    "start_time": "2024-12-04T19:27:41.730Z"
   },
   {
    "duration": 6,
    "start_time": "2024-12-04T19:27:41.774Z"
   },
   {
    "duration": 3,
    "start_time": "2024-12-04T19:27:41.783Z"
   },
   {
    "duration": 4,
    "start_time": "2024-12-04T19:27:41.788Z"
   },
   {
    "duration": 4,
    "start_time": "2024-12-04T19:27:41.794Z"
   },
   {
    "duration": 5,
    "start_time": "2024-12-04T19:27:41.800Z"
   },
   {
    "duration": 123,
    "start_time": "2024-12-04T19:27:41.806Z"
   },
   {
    "duration": 84,
    "start_time": "2024-12-04T19:27:41.931Z"
   },
   {
    "duration": 184,
    "start_time": "2024-12-04T19:27:42.017Z"
   },
   {
    "duration": 395,
    "start_time": "2024-12-04T19:27:42.203Z"
   },
   {
    "duration": 5,
    "start_time": "2024-12-04T19:27:42.600Z"
   },
   {
    "duration": 5,
    "start_time": "2024-12-04T19:27:42.606Z"
   },
   {
    "duration": 58,
    "start_time": "2024-12-04T19:27:42.612Z"
   },
   {
    "duration": 10,
    "start_time": "2024-12-04T19:27:42.672Z"
   },
   {
    "duration": 4,
    "start_time": "2024-12-04T19:27:42.684Z"
   },
   {
    "duration": 11,
    "start_time": "2024-12-04T19:27:42.689Z"
   },
   {
    "duration": 12,
    "start_time": "2024-12-04T19:27:42.702Z"
   },
   {
    "duration": 11,
    "start_time": "2024-12-04T19:27:42.715Z"
   },
   {
    "duration": 9,
    "start_time": "2024-12-04T19:27:42.771Z"
   },
   {
    "duration": 11,
    "start_time": "2024-12-04T19:27:42.782Z"
   },
   {
    "duration": 7,
    "start_time": "2024-12-04T19:27:42.794Z"
   },
   {
    "duration": 9,
    "start_time": "2024-12-04T19:27:42.803Z"
   },
   {
    "duration": 8,
    "start_time": "2024-12-04T19:27:42.814Z"
   },
   {
    "duration": 3,
    "start_time": "2024-12-04T19:27:42.823Z"
   },
   {
    "duration": 43,
    "start_time": "2024-12-04T19:27:42.827Z"
   },
   {
    "duration": 12,
    "start_time": "2024-12-04T19:27:42.871Z"
   },
   {
    "duration": 36,
    "start_time": "2024-12-04T19:27:42.885Z"
   },
   {
    "duration": 5,
    "start_time": "2024-12-04T19:27:42.923Z"
   },
   {
    "duration": 3,
    "start_time": "2024-12-04T19:27:42.930Z"
   },
   {
    "duration": 5,
    "start_time": "2024-12-04T19:27:42.935Z"
   },
   {
    "duration": 34,
    "start_time": "2024-12-04T19:27:42.942Z"
   },
   {
    "duration": 2,
    "start_time": "2024-12-04T19:27:42.977Z"
   },
   {
    "duration": 2,
    "start_time": "2024-12-04T19:27:42.981Z"
   },
   {
    "duration": 283,
    "start_time": "2024-12-04T19:29:22.036Z"
   },
   {
    "duration": 2,
    "start_time": "2024-12-04T19:29:30.312Z"
   },
   {
    "duration": 22,
    "start_time": "2024-12-04T19:29:31.186Z"
   },
   {
    "duration": 33,
    "start_time": "2024-12-04T19:29:33.833Z"
   },
   {
    "duration": 11,
    "start_time": "2024-12-04T19:30:02.098Z"
   },
   {
    "duration": 1005,
    "start_time": "2024-12-04T19:31:17.640Z"
   },
   {
    "duration": 509,
    "start_time": "2024-12-04T19:31:18.647Z"
   },
   {
    "duration": 25,
    "start_time": "2024-12-04T19:31:19.157Z"
   },
   {
    "duration": 16,
    "start_time": "2024-12-04T19:31:19.183Z"
   },
   {
    "duration": 19,
    "start_time": "2024-12-04T19:31:19.202Z"
   },
   {
    "duration": 4,
    "start_time": "2024-12-04T19:31:19.223Z"
   },
   {
    "duration": 4,
    "start_time": "2024-12-04T19:31:19.229Z"
   },
   {
    "duration": 4,
    "start_time": "2024-12-04T19:31:19.234Z"
   },
   {
    "duration": 4,
    "start_time": "2024-12-04T19:31:19.271Z"
   },
   {
    "duration": 3,
    "start_time": "2024-12-04T19:31:19.277Z"
   },
   {
    "duration": 6,
    "start_time": "2024-12-04T19:31:19.281Z"
   },
   {
    "duration": 14,
    "start_time": "2024-12-04T19:31:19.289Z"
   },
   {
    "duration": 3,
    "start_time": "2024-12-04T19:31:19.304Z"
   },
   {
    "duration": 9,
    "start_time": "2024-12-04T19:31:19.311Z"
   },
   {
    "duration": 6,
    "start_time": "2024-12-04T19:31:19.321Z"
   },
   {
    "duration": 48,
    "start_time": "2024-12-04T19:31:19.329Z"
   },
   {
    "duration": 3,
    "start_time": "2024-12-04T19:31:19.379Z"
   },
   {
    "duration": 58,
    "start_time": "2024-12-04T19:31:19.383Z"
   },
   {
    "duration": 34,
    "start_time": "2024-12-04T19:31:19.443Z"
   },
   {
    "duration": 101,
    "start_time": "2024-12-04T19:31:19.479Z"
   },
   {
    "duration": 4,
    "start_time": "2024-12-04T19:31:19.582Z"
   },
   {
    "duration": 14,
    "start_time": "2024-12-04T19:31:19.588Z"
   },
   {
    "duration": 8,
    "start_time": "2024-12-04T19:31:19.604Z"
   },
   {
    "duration": 17,
    "start_time": "2024-12-04T19:31:19.613Z"
   },
   {
    "duration": 7,
    "start_time": "2024-12-04T19:31:19.634Z"
   },
   {
    "duration": 14,
    "start_time": "2024-12-04T19:31:19.670Z"
   },
   {
    "duration": 15,
    "start_time": "2024-12-04T19:31:19.685Z"
   },
   {
    "duration": 5,
    "start_time": "2024-12-04T19:31:19.702Z"
   },
   {
    "duration": 127,
    "start_time": "2024-12-04T19:31:19.709Z"
   },
   {
    "duration": 114,
    "start_time": "2024-12-04T19:31:19.837Z"
   },
   {
    "duration": 105,
    "start_time": "2024-12-04T19:31:19.953Z"
   },
   {
    "duration": 4,
    "start_time": "2024-12-04T19:31:20.069Z"
   },
   {
    "duration": 4,
    "start_time": "2024-12-04T19:31:20.075Z"
   },
   {
    "duration": 765,
    "start_time": "2024-12-04T19:31:20.081Z"
   },
   {
    "duration": 1161,
    "start_time": "2024-12-04T19:31:20.847Z"
   },
   {
    "duration": 6,
    "start_time": "2024-12-04T19:31:22.010Z"
   },
   {
    "duration": 7,
    "start_time": "2024-12-04T19:31:22.018Z"
   },
   {
    "duration": 4,
    "start_time": "2024-12-04T19:31:22.026Z"
   },
   {
    "duration": 3,
    "start_time": "2024-12-04T19:31:22.032Z"
   },
   {
    "duration": 5,
    "start_time": "2024-12-04T19:31:22.037Z"
   },
   {
    "duration": 4,
    "start_time": "2024-12-04T19:31:22.073Z"
   },
   {
    "duration": 7,
    "start_time": "2024-12-04T19:31:22.079Z"
   },
   {
    "duration": 6,
    "start_time": "2024-12-04T19:31:22.087Z"
   },
   {
    "duration": 3,
    "start_time": "2024-12-04T19:31:22.095Z"
   },
   {
    "duration": 4,
    "start_time": "2024-12-04T19:31:22.100Z"
   },
   {
    "duration": 4,
    "start_time": "2024-12-04T19:31:22.106Z"
   },
   {
    "duration": 5,
    "start_time": "2024-12-04T19:31:22.111Z"
   },
   {
    "duration": 130,
    "start_time": "2024-12-04T19:31:22.118Z"
   },
   {
    "duration": 82,
    "start_time": "2024-12-04T19:31:22.250Z"
   },
   {
    "duration": 177,
    "start_time": "2024-12-04T19:31:22.334Z"
   },
   {
    "duration": 402,
    "start_time": "2024-12-04T19:31:22.514Z"
   },
   {
    "duration": 5,
    "start_time": "2024-12-04T19:31:22.918Z"
   },
   {
    "duration": 5,
    "start_time": "2024-12-04T19:31:22.925Z"
   },
   {
    "duration": 42,
    "start_time": "2024-12-04T19:31:22.931Z"
   },
   {
    "duration": 9,
    "start_time": "2024-12-04T19:31:22.974Z"
   },
   {
    "duration": 4,
    "start_time": "2024-12-04T19:31:22.986Z"
   },
   {
    "duration": 15,
    "start_time": "2024-12-04T19:31:22.992Z"
   },
   {
    "duration": 64,
    "start_time": "2024-12-04T19:31:23.009Z"
   },
   {
    "duration": 10,
    "start_time": "2024-12-04T19:31:23.075Z"
   },
   {
    "duration": 10,
    "start_time": "2024-12-04T19:31:23.086Z"
   },
   {
    "duration": 11,
    "start_time": "2024-12-04T19:31:23.097Z"
   },
   {
    "duration": 7,
    "start_time": "2024-12-04T19:31:23.110Z"
   },
   {
    "duration": 10,
    "start_time": "2024-12-04T19:31:23.118Z"
   },
   {
    "duration": 43,
    "start_time": "2024-12-04T19:31:23.130Z"
   },
   {
    "duration": 2,
    "start_time": "2024-12-04T19:31:23.175Z"
   },
   {
    "duration": 5,
    "start_time": "2024-12-04T19:31:23.178Z"
   },
   {
    "duration": 13,
    "start_time": "2024-12-04T19:31:23.184Z"
   },
   {
    "duration": 34,
    "start_time": "2024-12-04T19:31:23.199Z"
   },
   {
    "duration": 36,
    "start_time": "2024-12-04T19:31:23.236Z"
   },
   {
    "duration": 3,
    "start_time": "2024-12-04T19:31:23.274Z"
   },
   {
    "duration": 3,
    "start_time": "2024-12-04T19:31:23.279Z"
   },
   {
    "duration": 10,
    "start_time": "2024-12-04T19:31:23.284Z"
   },
   {
    "duration": 3,
    "start_time": "2024-12-04T19:31:23.295Z"
   },
   {
    "duration": 76,
    "start_time": "2024-12-04T19:31:23.300Z"
   },
   {
    "duration": 10,
    "start_time": "2024-12-04T19:31:23.378Z"
   },
   {
    "duration": 361,
    "start_time": "2024-12-04T19:32:04.111Z"
   },
   {
    "duration": 3,
    "start_time": "2024-12-04T19:32:28.170Z"
   },
   {
    "duration": 4,
    "start_time": "2024-12-04T19:32:54.704Z"
   },
   {
    "duration": 36,
    "start_time": "2024-12-04T19:33:34.236Z"
   },
   {
    "duration": 4,
    "start_time": "2024-12-04T19:39:01.743Z"
   },
   {
    "duration": 20,
    "start_time": "2024-12-04T19:40:34.197Z"
   },
   {
    "duration": 546,
    "start_time": "2024-12-04T19:40:49.336Z"
   },
   {
    "duration": 22,
    "start_time": "2024-12-04T19:45:14.316Z"
   },
   {
    "duration": 4,
    "start_time": "2024-12-04T21:06:03.670Z"
   },
   {
    "duration": 19,
    "start_time": "2024-12-04T21:06:14.536Z"
   },
   {
    "duration": 1040,
    "start_time": "2024-12-04T21:06:41.548Z"
   },
   {
    "duration": 507,
    "start_time": "2024-12-04T21:06:42.590Z"
   },
   {
    "duration": 19,
    "start_time": "2024-12-04T21:06:43.098Z"
   },
   {
    "duration": 17,
    "start_time": "2024-12-04T21:06:43.119Z"
   },
   {
    "duration": 41,
    "start_time": "2024-12-04T21:06:43.139Z"
   },
   {
    "duration": 5,
    "start_time": "2024-12-04T21:06:43.182Z"
   },
   {
    "duration": 5,
    "start_time": "2024-12-04T21:06:43.190Z"
   },
   {
    "duration": 4,
    "start_time": "2024-12-04T21:06:43.197Z"
   },
   {
    "duration": 5,
    "start_time": "2024-12-04T21:06:43.203Z"
   },
   {
    "duration": 4,
    "start_time": "2024-12-04T21:06:43.209Z"
   },
   {
    "duration": 4,
    "start_time": "2024-12-04T21:06:43.215Z"
   },
   {
    "duration": 53,
    "start_time": "2024-12-04T21:06:43.221Z"
   },
   {
    "duration": 3,
    "start_time": "2024-12-04T21:06:43.276Z"
   },
   {
    "duration": 9,
    "start_time": "2024-12-04T21:06:43.282Z"
   },
   {
    "duration": 6,
    "start_time": "2024-12-04T21:06:43.293Z"
   },
   {
    "duration": 10,
    "start_time": "2024-12-04T21:06:43.301Z"
   },
   {
    "duration": 5,
    "start_time": "2024-12-04T21:06:43.313Z"
   },
   {
    "duration": 95,
    "start_time": "2024-12-04T21:06:43.320Z"
   },
   {
    "duration": 18,
    "start_time": "2024-12-04T21:06:43.416Z"
   },
   {
    "duration": 96,
    "start_time": "2024-12-04T21:06:43.436Z"
   },
   {
    "duration": 2,
    "start_time": "2024-12-04T21:06:43.534Z"
   },
   {
    "duration": 13,
    "start_time": "2024-12-04T21:06:43.538Z"
   },
   {
    "duration": 21,
    "start_time": "2024-12-04T21:06:43.553Z"
   },
   {
    "duration": 16,
    "start_time": "2024-12-04T21:06:43.576Z"
   },
   {
    "duration": 7,
    "start_time": "2024-12-04T21:06:43.594Z"
   },
   {
    "duration": 14,
    "start_time": "2024-12-04T21:06:43.602Z"
   },
   {
    "duration": 15,
    "start_time": "2024-12-04T21:06:43.618Z"
   },
   {
    "duration": 38,
    "start_time": "2024-12-04T21:06:43.635Z"
   },
   {
    "duration": 113,
    "start_time": "2024-12-04T21:06:43.674Z"
   },
   {
    "duration": 120,
    "start_time": "2024-12-04T21:06:43.790Z"
   },
   {
    "duration": 107,
    "start_time": "2024-12-04T21:06:43.912Z"
   },
   {
    "duration": 6,
    "start_time": "2024-12-04T21:06:44.021Z"
   },
   {
    "duration": 5,
    "start_time": "2024-12-04T21:06:44.028Z"
   },
   {
    "duration": 850,
    "start_time": "2024-12-04T21:06:44.034Z"
   },
   {
    "duration": 1101,
    "start_time": "2024-12-04T21:06:44.886Z"
   },
   {
    "duration": 7,
    "start_time": "2024-12-04T21:06:45.989Z"
   },
   {
    "duration": 6,
    "start_time": "2024-12-04T21:06:45.998Z"
   },
   {
    "duration": 5,
    "start_time": "2024-12-04T21:06:46.006Z"
   },
   {
    "duration": 4,
    "start_time": "2024-12-04T21:06:46.012Z"
   },
   {
    "duration": 5,
    "start_time": "2024-12-04T21:06:46.018Z"
   },
   {
    "duration": 4,
    "start_time": "2024-12-04T21:06:46.028Z"
   },
   {
    "duration": 7,
    "start_time": "2024-12-04T21:06:46.071Z"
   },
   {
    "duration": 6,
    "start_time": "2024-12-04T21:06:46.080Z"
   },
   {
    "duration": 3,
    "start_time": "2024-12-04T21:06:46.088Z"
   },
   {
    "duration": 5,
    "start_time": "2024-12-04T21:06:46.092Z"
   },
   {
    "duration": 4,
    "start_time": "2024-12-04T21:06:46.098Z"
   },
   {
    "duration": 5,
    "start_time": "2024-12-04T21:06:46.103Z"
   },
   {
    "duration": 124,
    "start_time": "2024-12-04T21:06:46.109Z"
   },
   {
    "duration": 206,
    "start_time": "2024-12-04T21:06:46.235Z"
   },
   {
    "duration": 110,
    "start_time": "2024-12-04T21:06:46.444Z"
   },
   {
    "duration": 432,
    "start_time": "2024-12-04T21:06:46.556Z"
   },
   {
    "duration": 5,
    "start_time": "2024-12-04T21:06:46.990Z"
   },
   {
    "duration": 4,
    "start_time": "2024-12-04T21:06:46.997Z"
   },
   {
    "duration": 5,
    "start_time": "2024-12-04T21:06:47.003Z"
   },
   {
    "duration": 66,
    "start_time": "2024-12-04T21:06:47.010Z"
   },
   {
    "duration": 4,
    "start_time": "2024-12-04T21:06:47.078Z"
   },
   {
    "duration": 12,
    "start_time": "2024-12-04T21:06:47.084Z"
   },
   {
    "duration": 11,
    "start_time": "2024-12-04T21:06:47.097Z"
   },
   {
    "duration": 11,
    "start_time": "2024-12-04T21:06:47.110Z"
   },
   {
    "duration": 54,
    "start_time": "2024-12-04T21:06:47.122Z"
   },
   {
    "duration": 20,
    "start_time": "2024-12-04T21:06:47.178Z"
   },
   {
    "duration": 8,
    "start_time": "2024-12-04T21:06:47.200Z"
   },
   {
    "duration": 10,
    "start_time": "2024-12-04T21:06:47.210Z"
   },
   {
    "duration": 8,
    "start_time": "2024-12-04T21:06:47.222Z"
   },
   {
    "duration": 318,
    "start_time": "2024-12-04T21:06:47.232Z"
   },
   {
    "duration": 0,
    "start_time": "2024-12-04T21:06:47.552Z"
   },
   {
    "duration": 0,
    "start_time": "2024-12-04T21:06:47.554Z"
   },
   {
    "duration": 0,
    "start_time": "2024-12-04T21:06:47.555Z"
   },
   {
    "duration": 0,
    "start_time": "2024-12-04T21:06:47.556Z"
   },
   {
    "duration": 0,
    "start_time": "2024-12-04T21:06:47.557Z"
   },
   {
    "duration": 0,
    "start_time": "2024-12-04T21:06:47.558Z"
   },
   {
    "duration": 0,
    "start_time": "2024-12-04T21:06:47.570Z"
   },
   {
    "duration": 0,
    "start_time": "2024-12-04T21:06:47.572Z"
   },
   {
    "duration": 0,
    "start_time": "2024-12-04T21:06:47.573Z"
   },
   {
    "duration": 0,
    "start_time": "2024-12-04T21:06:47.574Z"
   },
   {
    "duration": 0,
    "start_time": "2024-12-04T21:06:47.575Z"
   },
   {
    "duration": 0,
    "start_time": "2024-12-04T21:06:47.576Z"
   },
   {
    "duration": 38,
    "start_time": "2024-12-04T21:07:10.715Z"
   },
   {
    "duration": 4,
    "start_time": "2024-12-04T21:07:11.551Z"
   },
   {
    "duration": 2,
    "start_time": "2024-12-04T21:07:12.290Z"
   },
   {
    "duration": 2,
    "start_time": "2024-12-04T21:07:13.051Z"
   },
   {
    "duration": 12,
    "start_time": "2024-12-04T21:07:13.809Z"
   },
   {
    "duration": 28,
    "start_time": "2024-12-04T21:07:14.570Z"
   },
   {
    "duration": 2,
    "start_time": "2024-12-04T21:07:15.747Z"
   },
   {
    "duration": 5,
    "start_time": "2024-12-04T21:07:20.498Z"
   },
   {
    "duration": 88,
    "start_time": "2024-12-04T21:07:26.000Z"
   },
   {
    "duration": 278,
    "start_time": "2024-12-04T21:07:57.814Z"
   },
   {
    "duration": 36,
    "start_time": "2024-12-04T21:09:59.607Z"
   },
   {
    "duration": 24,
    "start_time": "2024-12-04T21:11:36.578Z"
   },
   {
    "duration": 19,
    "start_time": "2024-12-04T21:12:06.371Z"
   },
   {
    "duration": 5,
    "start_time": "2024-12-04T21:12:39.825Z"
   },
   {
    "duration": 4,
    "start_time": "2024-12-04T21:13:08.320Z"
   },
   {
    "duration": 5,
    "start_time": "2024-12-04T21:13:43.251Z"
   },
   {
    "duration": 1081,
    "start_time": "2024-12-04T21:37:54.199Z"
   },
   {
    "duration": 495,
    "start_time": "2024-12-04T21:37:55.282Z"
   },
   {
    "duration": 18,
    "start_time": "2024-12-04T21:37:55.779Z"
   },
   {
    "duration": 17,
    "start_time": "2024-12-04T21:37:55.799Z"
   },
   {
    "duration": 20,
    "start_time": "2024-12-04T21:37:55.817Z"
   },
   {
    "duration": 4,
    "start_time": "2024-12-04T21:37:55.839Z"
   },
   {
    "duration": 29,
    "start_time": "2024-12-04T21:37:55.844Z"
   },
   {
    "duration": 5,
    "start_time": "2024-12-04T21:37:55.875Z"
   },
   {
    "duration": 5,
    "start_time": "2024-12-04T21:37:55.883Z"
   },
   {
    "duration": 3,
    "start_time": "2024-12-04T21:37:55.891Z"
   },
   {
    "duration": 4,
    "start_time": "2024-12-04T21:37:55.895Z"
   },
   {
    "duration": 13,
    "start_time": "2024-12-04T21:37:55.901Z"
   },
   {
    "duration": 4,
    "start_time": "2024-12-04T21:37:55.915Z"
   },
   {
    "duration": 8,
    "start_time": "2024-12-04T21:37:55.921Z"
   },
   {
    "duration": 40,
    "start_time": "2024-12-04T21:37:55.931Z"
   },
   {
    "duration": 11,
    "start_time": "2024-12-04T21:37:55.972Z"
   },
   {
    "duration": 3,
    "start_time": "2024-12-04T21:37:55.984Z"
   },
   {
    "duration": 59,
    "start_time": "2024-12-04T21:37:55.988Z"
   },
   {
    "duration": 18,
    "start_time": "2024-12-04T21:37:56.070Z"
   },
   {
    "duration": 94,
    "start_time": "2024-12-04T21:37:56.090Z"
   },
   {
    "duration": 2,
    "start_time": "2024-12-04T21:37:56.187Z"
   },
   {
    "duration": 13,
    "start_time": "2024-12-04T21:37:56.191Z"
   },
   {
    "duration": 7,
    "start_time": "2024-12-04T21:37:56.206Z"
   },
   {
    "duration": 19,
    "start_time": "2024-12-04T21:37:56.215Z"
   },
   {
    "duration": 36,
    "start_time": "2024-12-04T21:37:56.235Z"
   },
   {
    "duration": 17,
    "start_time": "2024-12-04T21:37:56.273Z"
   },
   {
    "duration": 16,
    "start_time": "2024-12-04T21:37:56.292Z"
   },
   {
    "duration": 6,
    "start_time": "2024-12-04T21:37:56.314Z"
   },
   {
    "duration": 138,
    "start_time": "2024-12-04T21:37:56.322Z"
   },
   {
    "duration": 132,
    "start_time": "2024-12-04T21:37:56.462Z"
   },
   {
    "duration": 107,
    "start_time": "2024-12-04T21:37:56.596Z"
   },
   {
    "duration": 5,
    "start_time": "2024-12-04T21:37:56.705Z"
   },
   {
    "duration": 5,
    "start_time": "2024-12-04T21:37:56.712Z"
   },
   {
    "duration": 880,
    "start_time": "2024-12-04T21:37:56.719Z"
   },
   {
    "duration": 1080,
    "start_time": "2024-12-04T21:37:57.601Z"
   },
   {
    "duration": 7,
    "start_time": "2024-12-04T21:37:58.683Z"
   },
   {
    "duration": 6,
    "start_time": "2024-12-04T21:37:58.691Z"
   },
   {
    "duration": 5,
    "start_time": "2024-12-04T21:37:58.698Z"
   },
   {
    "duration": 3,
    "start_time": "2024-12-04T21:37:58.704Z"
   },
   {
    "duration": 5,
    "start_time": "2024-12-04T21:37:58.709Z"
   },
   {
    "duration": 5,
    "start_time": "2024-12-04T21:37:58.715Z"
   },
   {
    "duration": 6,
    "start_time": "2024-12-04T21:37:58.722Z"
   },
   {
    "duration": 46,
    "start_time": "2024-12-04T21:37:58.729Z"
   },
   {
    "duration": 4,
    "start_time": "2024-12-04T21:37:58.776Z"
   },
   {
    "duration": 5,
    "start_time": "2024-12-04T21:37:58.781Z"
   },
   {
    "duration": 4,
    "start_time": "2024-12-04T21:37:58.787Z"
   },
   {
    "duration": 3,
    "start_time": "2024-12-04T21:37:58.793Z"
   },
   {
    "duration": 117,
    "start_time": "2024-12-04T21:37:58.798Z"
   },
   {
    "duration": 177,
    "start_time": "2024-12-04T21:37:58.918Z"
   },
   {
    "duration": 91,
    "start_time": "2024-12-04T21:37:59.097Z"
   },
   {
    "duration": 414,
    "start_time": "2024-12-04T21:37:59.190Z"
   },
   {
    "duration": 6,
    "start_time": "2024-12-04T21:37:59.606Z"
   },
   {
    "duration": 61,
    "start_time": "2024-12-04T21:37:59.613Z"
   },
   {
    "duration": 6,
    "start_time": "2024-12-04T21:37:59.676Z"
   },
   {
    "duration": 8,
    "start_time": "2024-12-04T21:37:59.684Z"
   },
   {
    "duration": 3,
    "start_time": "2024-12-04T21:37:59.694Z"
   },
   {
    "duration": 12,
    "start_time": "2024-12-04T21:37:59.699Z"
   },
   {
    "duration": 58,
    "start_time": "2024-12-04T21:37:59.713Z"
   },
   {
    "duration": 11,
    "start_time": "2024-12-04T21:37:59.773Z"
   },
   {
    "duration": 10,
    "start_time": "2024-12-04T21:37:59.786Z"
   },
   {
    "duration": 11,
    "start_time": "2024-12-04T21:37:59.797Z"
   },
   {
    "duration": 7,
    "start_time": "2024-12-04T21:37:59.810Z"
   },
   {
    "duration": 9,
    "start_time": "2024-12-04T21:37:59.819Z"
   },
   {
    "duration": 41,
    "start_time": "2024-12-04T21:37:59.830Z"
   },
   {
    "duration": 3,
    "start_time": "2024-12-04T21:37:59.873Z"
   },
   {
    "duration": 4,
    "start_time": "2024-12-04T21:37:59.877Z"
   },
   {
    "duration": 13,
    "start_time": "2024-12-04T21:37:59.883Z"
   },
   {
    "duration": 32,
    "start_time": "2024-12-04T21:37:59.897Z"
   },
   {
    "duration": 39,
    "start_time": "2024-12-04T21:37:59.931Z"
   },
   {
    "duration": 3,
    "start_time": "2024-12-04T21:37:59.972Z"
   },
   {
    "duration": 11,
    "start_time": "2024-12-04T21:37:59.976Z"
   },
   {
    "duration": 84,
    "start_time": "2024-12-04T21:37:59.988Z"
   },
   {
    "duration": 378,
    "start_time": "2024-12-04T21:38:00.074Z"
   },
   {
    "duration": 0,
    "start_time": "2024-12-04T21:38:00.454Z"
   },
   {
    "duration": 0,
    "start_time": "2024-12-04T21:38:00.455Z"
   },
   {
    "duration": 0,
    "start_time": "2024-12-04T21:38:00.456Z"
   },
   {
    "duration": 0,
    "start_time": "2024-12-04T21:38:00.458Z"
   },
   {
    "duration": 0,
    "start_time": "2024-12-04T21:38:00.460Z"
   },
   {
    "duration": 0,
    "start_time": "2024-12-04T21:38:00.460Z"
   },
   {
    "duration": 0,
    "start_time": "2024-12-04T21:38:00.469Z"
   },
   {
    "duration": 0,
    "start_time": "2024-12-04T21:38:00.471Z"
   },
   {
    "duration": 23,
    "start_time": "2024-12-04T21:38:19.011Z"
   },
   {
    "duration": 1021,
    "start_time": "2024-12-04T21:39:33.943Z"
   },
   {
    "duration": 511,
    "start_time": "2024-12-04T21:39:34.966Z"
   },
   {
    "duration": 19,
    "start_time": "2024-12-04T21:39:35.479Z"
   },
   {
    "duration": 16,
    "start_time": "2024-12-04T21:39:35.500Z"
   },
   {
    "duration": 20,
    "start_time": "2024-12-04T21:39:35.519Z"
   },
   {
    "duration": 4,
    "start_time": "2024-12-04T21:39:35.541Z"
   },
   {
    "duration": 4,
    "start_time": "2024-12-04T21:39:35.570Z"
   },
   {
    "duration": 4,
    "start_time": "2024-12-04T21:39:35.576Z"
   },
   {
    "duration": 5,
    "start_time": "2024-12-04T21:39:35.581Z"
   },
   {
    "duration": 3,
    "start_time": "2024-12-04T21:39:35.587Z"
   },
   {
    "duration": 4,
    "start_time": "2024-12-04T21:39:35.592Z"
   },
   {
    "duration": 14,
    "start_time": "2024-12-04T21:39:35.598Z"
   },
   {
    "duration": 2,
    "start_time": "2024-12-04T21:39:35.614Z"
   },
   {
    "duration": 50,
    "start_time": "2024-12-04T21:39:35.620Z"
   },
   {
    "duration": 6,
    "start_time": "2024-12-04T21:39:35.672Z"
   },
   {
    "duration": 9,
    "start_time": "2024-12-04T21:39:35.679Z"
   },
   {
    "duration": 3,
    "start_time": "2024-12-04T21:39:35.690Z"
   },
   {
    "duration": 80,
    "start_time": "2024-12-04T21:39:35.694Z"
   },
   {
    "duration": 18,
    "start_time": "2024-12-04T21:39:35.776Z"
   },
   {
    "duration": 97,
    "start_time": "2024-12-04T21:39:35.795Z"
   },
   {
    "duration": 3,
    "start_time": "2024-12-04T21:39:35.893Z"
   },
   {
    "duration": 13,
    "start_time": "2024-12-04T21:39:35.897Z"
   },
   {
    "duration": 7,
    "start_time": "2024-12-04T21:39:35.912Z"
   },
   {
    "duration": 15,
    "start_time": "2024-12-04T21:39:35.921Z"
   },
   {
    "duration": 35,
    "start_time": "2024-12-04T21:39:35.938Z"
   },
   {
    "duration": 13,
    "start_time": "2024-12-04T21:39:35.975Z"
   },
   {
    "duration": 15,
    "start_time": "2024-12-04T21:39:35.989Z"
   },
   {
    "duration": 5,
    "start_time": "2024-12-04T21:39:36.006Z"
   },
   {
    "duration": 131,
    "start_time": "2024-12-04T21:39:36.012Z"
   },
   {
    "duration": 129,
    "start_time": "2024-12-04T21:39:36.146Z"
   },
   {
    "duration": 112,
    "start_time": "2024-12-04T21:39:36.277Z"
   },
   {
    "duration": 4,
    "start_time": "2024-12-04T21:39:36.391Z"
   },
   {
    "duration": 4,
    "start_time": "2024-12-04T21:39:36.397Z"
   },
   {
    "duration": 825,
    "start_time": "2024-12-04T21:39:36.402Z"
   },
   {
    "duration": 1041,
    "start_time": "2024-12-04T21:39:37.229Z"
   },
   {
    "duration": 7,
    "start_time": "2024-12-04T21:39:38.271Z"
   },
   {
    "duration": 6,
    "start_time": "2024-12-04T21:39:38.279Z"
   },
   {
    "duration": 4,
    "start_time": "2024-12-04T21:39:38.288Z"
   },
   {
    "duration": 3,
    "start_time": "2024-12-04T21:39:38.293Z"
   },
   {
    "duration": 5,
    "start_time": "2024-12-04T21:39:38.298Z"
   },
   {
    "duration": 5,
    "start_time": "2024-12-04T21:39:38.309Z"
   },
   {
    "duration": 10,
    "start_time": "2024-12-04T21:39:38.316Z"
   },
   {
    "duration": 44,
    "start_time": "2024-12-04T21:39:38.327Z"
   },
   {
    "duration": 4,
    "start_time": "2024-12-04T21:39:38.373Z"
   },
   {
    "duration": 4,
    "start_time": "2024-12-04T21:39:38.379Z"
   },
   {
    "duration": 5,
    "start_time": "2024-12-04T21:39:38.384Z"
   },
   {
    "duration": 4,
    "start_time": "2024-12-04T21:39:38.391Z"
   },
   {
    "duration": 114,
    "start_time": "2024-12-04T21:39:38.396Z"
   },
   {
    "duration": 176,
    "start_time": "2024-12-04T21:39:38.512Z"
   },
   {
    "duration": 94,
    "start_time": "2024-12-04T21:39:38.690Z"
   },
   {
    "duration": 404,
    "start_time": "2024-12-04T21:39:38.786Z"
   },
   {
    "duration": 6,
    "start_time": "2024-12-04T21:39:39.192Z"
   },
   {
    "duration": 6,
    "start_time": "2024-12-04T21:39:39.199Z"
   },
   {
    "duration": 5,
    "start_time": "2024-12-04T21:39:39.206Z"
   },
   {
    "duration": 61,
    "start_time": "2024-12-04T21:39:39.212Z"
   },
   {
    "duration": 4,
    "start_time": "2024-12-04T21:39:39.276Z"
   },
   {
    "duration": 16,
    "start_time": "2024-12-04T21:39:39.281Z"
   },
   {
    "duration": 10,
    "start_time": "2024-12-04T21:39:39.299Z"
   },
   {
    "duration": 60,
    "start_time": "2024-12-04T21:39:39.311Z"
   },
   {
    "duration": 12,
    "start_time": "2024-12-04T21:39:39.373Z"
   },
   {
    "duration": 16,
    "start_time": "2024-12-04T21:39:39.386Z"
   },
   {
    "duration": 10,
    "start_time": "2024-12-04T21:39:39.404Z"
   },
   {
    "duration": 11,
    "start_time": "2024-12-04T21:39:39.416Z"
   },
   {
    "duration": 10,
    "start_time": "2024-12-04T21:39:39.429Z"
   },
   {
    "duration": 2,
    "start_time": "2024-12-04T21:39:39.469Z"
   },
   {
    "duration": 4,
    "start_time": "2024-12-04T21:39:39.473Z"
   },
   {
    "duration": 13,
    "start_time": "2024-12-04T21:39:39.479Z"
   },
   {
    "duration": 31,
    "start_time": "2024-12-04T21:39:39.494Z"
   },
   {
    "duration": 2,
    "start_time": "2024-12-04T21:39:39.527Z"
   },
   {
    "duration": 2,
    "start_time": "2024-12-04T21:39:39.532Z"
   },
   {
    "duration": 43,
    "start_time": "2024-12-04T21:39:39.536Z"
   },
   {
    "duration": 101,
    "start_time": "2024-12-04T21:39:39.581Z"
   },
   {
    "duration": 368,
    "start_time": "2024-12-04T21:39:39.685Z"
   },
   {
    "duration": 0,
    "start_time": "2024-12-04T21:39:40.055Z"
   },
   {
    "duration": 0,
    "start_time": "2024-12-04T21:39:40.056Z"
   },
   {
    "duration": 0,
    "start_time": "2024-12-04T21:39:40.058Z"
   },
   {
    "duration": 0,
    "start_time": "2024-12-04T21:39:40.070Z"
   },
   {
    "duration": 0,
    "start_time": "2024-12-04T21:39:40.072Z"
   },
   {
    "duration": 0,
    "start_time": "2024-12-04T21:39:40.073Z"
   },
   {
    "duration": 0,
    "start_time": "2024-12-04T21:39:40.075Z"
   },
   {
    "duration": 0,
    "start_time": "2024-12-04T21:39:40.076Z"
   },
   {
    "duration": 753,
    "start_time": "2024-12-04T21:41:58.469Z"
   },
   {
    "duration": 1048,
    "start_time": "2024-12-04T21:42:51.941Z"
   },
   {
    "duration": 512,
    "start_time": "2024-12-04T21:42:52.991Z"
   },
   {
    "duration": 21,
    "start_time": "2024-12-04T21:42:53.505Z"
   },
   {
    "duration": 17,
    "start_time": "2024-12-04T21:42:53.528Z"
   },
   {
    "duration": 32,
    "start_time": "2024-12-04T21:42:53.548Z"
   },
   {
    "duration": 3,
    "start_time": "2024-12-04T21:42:53.582Z"
   },
   {
    "duration": 4,
    "start_time": "2024-12-04T21:42:53.587Z"
   },
   {
    "duration": 3,
    "start_time": "2024-12-04T21:42:53.593Z"
   },
   {
    "duration": 5,
    "start_time": "2024-12-04T21:42:53.598Z"
   },
   {
    "duration": 2,
    "start_time": "2024-12-04T21:42:53.607Z"
   },
   {
    "duration": 4,
    "start_time": "2024-12-04T21:42:53.611Z"
   },
   {
    "duration": 53,
    "start_time": "2024-12-04T21:42:53.617Z"
   },
   {
    "duration": 3,
    "start_time": "2024-12-04T21:42:53.671Z"
   },
   {
    "duration": 9,
    "start_time": "2024-12-04T21:42:53.676Z"
   },
   {
    "duration": 6,
    "start_time": "2024-12-04T21:42:53.686Z"
   },
   {
    "duration": 9,
    "start_time": "2024-12-04T21:42:53.694Z"
   },
   {
    "duration": 2,
    "start_time": "2024-12-04T21:42:53.705Z"
   },
   {
    "duration": 88,
    "start_time": "2024-12-04T21:42:53.709Z"
   },
   {
    "duration": 18,
    "start_time": "2024-12-04T21:42:53.798Z"
   },
   {
    "duration": 97,
    "start_time": "2024-12-04T21:42:53.818Z"
   },
   {
    "duration": 3,
    "start_time": "2024-12-04T21:42:53.916Z"
   },
   {
    "duration": 13,
    "start_time": "2024-12-04T21:42:53.921Z"
   },
   {
    "duration": 8,
    "start_time": "2024-12-04T21:42:53.936Z"
   },
   {
    "duration": 40,
    "start_time": "2024-12-04T21:42:53.946Z"
   },
   {
    "duration": 7,
    "start_time": "2024-12-04T21:42:53.988Z"
   },
   {
    "duration": 13,
    "start_time": "2024-12-04T21:42:53.996Z"
   },
   {
    "duration": 15,
    "start_time": "2024-12-04T21:42:54.011Z"
   },
   {
    "duration": 42,
    "start_time": "2024-12-04T21:42:54.031Z"
   },
   {
    "duration": 109,
    "start_time": "2024-12-04T21:42:54.075Z"
   },
   {
    "duration": 120,
    "start_time": "2024-12-04T21:42:54.186Z"
   },
   {
    "duration": 106,
    "start_time": "2024-12-04T21:42:54.308Z"
   },
   {
    "duration": 4,
    "start_time": "2024-12-04T21:42:54.416Z"
   },
   {
    "duration": 4,
    "start_time": "2024-12-04T21:42:54.422Z"
   },
   {
    "duration": 849,
    "start_time": "2024-12-04T21:42:54.428Z"
   },
   {
    "duration": 1104,
    "start_time": "2024-12-04T21:42:55.279Z"
   },
   {
    "duration": 7,
    "start_time": "2024-12-04T21:42:56.385Z"
   },
   {
    "duration": 7,
    "start_time": "2024-12-04T21:42:56.394Z"
   },
   {
    "duration": 5,
    "start_time": "2024-12-04T21:42:56.402Z"
   },
   {
    "duration": 3,
    "start_time": "2024-12-04T21:42:56.409Z"
   },
   {
    "duration": 5,
    "start_time": "2024-12-04T21:42:56.413Z"
   },
   {
    "duration": 5,
    "start_time": "2024-12-04T21:42:56.419Z"
   },
   {
    "duration": 47,
    "start_time": "2024-12-04T21:42:56.425Z"
   },
   {
    "duration": 6,
    "start_time": "2024-12-04T21:42:56.473Z"
   },
   {
    "duration": 3,
    "start_time": "2024-12-04T21:42:56.481Z"
   },
   {
    "duration": 4,
    "start_time": "2024-12-04T21:42:56.485Z"
   },
   {
    "duration": 4,
    "start_time": "2024-12-04T21:42:56.491Z"
   },
   {
    "duration": 4,
    "start_time": "2024-12-04T21:42:56.496Z"
   },
   {
    "duration": 127,
    "start_time": "2024-12-04T21:42:56.501Z"
   },
   {
    "duration": 188,
    "start_time": "2024-12-04T21:42:56.630Z"
   },
   {
    "duration": 100,
    "start_time": "2024-12-04T21:42:56.820Z"
   },
   {
    "duration": 419,
    "start_time": "2024-12-04T21:42:56.922Z"
   },
   {
    "duration": 6,
    "start_time": "2024-12-04T21:42:57.370Z"
   },
   {
    "duration": 5,
    "start_time": "2024-12-04T21:42:57.377Z"
   },
   {
    "duration": 6,
    "start_time": "2024-12-04T21:42:57.385Z"
   },
   {
    "duration": 10,
    "start_time": "2024-12-04T21:42:57.393Z"
   },
   {
    "duration": 4,
    "start_time": "2024-12-04T21:42:57.404Z"
   },
   {
    "duration": 62,
    "start_time": "2024-12-04T21:42:57.409Z"
   },
   {
    "duration": 11,
    "start_time": "2024-12-04T21:42:57.473Z"
   },
   {
    "duration": 11,
    "start_time": "2024-12-04T21:42:57.485Z"
   },
   {
    "duration": 9,
    "start_time": "2024-12-04T21:42:57.498Z"
   },
   {
    "duration": 11,
    "start_time": "2024-12-04T21:42:57.508Z"
   },
   {
    "duration": 8,
    "start_time": "2024-12-04T21:42:57.520Z"
   },
   {
    "duration": 46,
    "start_time": "2024-12-04T21:42:57.530Z"
   },
   {
    "duration": 9,
    "start_time": "2024-12-04T21:42:57.578Z"
   },
   {
    "duration": 3,
    "start_time": "2024-12-04T21:42:57.588Z"
   },
   {
    "duration": 4,
    "start_time": "2024-12-04T21:42:57.593Z"
   },
   {
    "duration": 13,
    "start_time": "2024-12-04T21:42:57.598Z"
   },
   {
    "duration": 67,
    "start_time": "2024-12-04T21:42:57.612Z"
   },
   {
    "duration": 292,
    "start_time": "2024-12-04T21:42:57.681Z"
   },
   {
    "duration": 0,
    "start_time": "2024-12-04T21:42:57.975Z"
   },
   {
    "duration": 0,
    "start_time": "2024-12-04T21:42:57.976Z"
   },
   {
    "duration": 0,
    "start_time": "2024-12-04T21:42:57.977Z"
   },
   {
    "duration": 0,
    "start_time": "2024-12-04T21:42:57.978Z"
   },
   {
    "duration": 0,
    "start_time": "2024-12-04T21:42:57.979Z"
   },
   {
    "duration": 0,
    "start_time": "2024-12-04T21:42:57.980Z"
   },
   {
    "duration": 0,
    "start_time": "2024-12-04T21:42:57.981Z"
   },
   {
    "duration": 0,
    "start_time": "2024-12-04T21:42:57.983Z"
   },
   {
    "duration": 0,
    "start_time": "2024-12-04T21:42:57.984Z"
   },
   {
    "duration": 0,
    "start_time": "2024-12-04T21:42:57.985Z"
   },
   {
    "duration": 0,
    "start_time": "2024-12-04T21:42:57.986Z"
   },
   {
    "duration": 0,
    "start_time": "2024-12-04T21:42:57.987Z"
   },
   {
    "duration": 19,
    "start_time": "2024-12-04T21:43:10.585Z"
   },
   {
    "duration": 9,
    "start_time": "2024-12-04T21:43:46.478Z"
   },
   {
    "duration": 4,
    "start_time": "2024-12-04T21:45:38.871Z"
   },
   {
    "duration": 18,
    "start_time": "2024-12-04T21:45:50.763Z"
   },
   {
    "duration": 1077,
    "start_time": "2024-12-04T21:53:58.394Z"
   },
   {
    "duration": 523,
    "start_time": "2024-12-04T21:53:59.473Z"
   },
   {
    "duration": 21,
    "start_time": "2024-12-04T21:53:59.998Z"
   },
   {
    "duration": 17,
    "start_time": "2024-12-04T21:54:00.022Z"
   },
   {
    "duration": 32,
    "start_time": "2024-12-04T21:54:00.041Z"
   },
   {
    "duration": 3,
    "start_time": "2024-12-04T21:54:00.075Z"
   },
   {
    "duration": 5,
    "start_time": "2024-12-04T21:54:00.080Z"
   },
   {
    "duration": 4,
    "start_time": "2024-12-04T21:54:00.086Z"
   },
   {
    "duration": 5,
    "start_time": "2024-12-04T21:54:00.091Z"
   },
   {
    "duration": 3,
    "start_time": "2024-12-04T21:54:00.099Z"
   },
   {
    "duration": 4,
    "start_time": "2024-12-04T21:54:00.104Z"
   },
   {
    "duration": 14,
    "start_time": "2024-12-04T21:54:00.109Z"
   },
   {
    "duration": 45,
    "start_time": "2024-12-04T21:54:00.125Z"
   },
   {
    "duration": 8,
    "start_time": "2024-12-04T21:54:00.172Z"
   },
   {
    "duration": 6,
    "start_time": "2024-12-04T21:54:00.182Z"
   },
   {
    "duration": 9,
    "start_time": "2024-12-04T21:54:00.189Z"
   },
   {
    "duration": 3,
    "start_time": "2024-12-04T21:54:00.200Z"
   },
   {
    "duration": 83,
    "start_time": "2024-12-04T21:54:00.204Z"
   },
   {
    "duration": 18,
    "start_time": "2024-12-04T21:54:00.289Z"
   },
   {
    "duration": 104,
    "start_time": "2024-12-04T21:54:00.308Z"
   },
   {
    "duration": 3,
    "start_time": "2024-12-04T21:54:00.414Z"
   },
   {
    "duration": 12,
    "start_time": "2024-12-04T21:54:00.419Z"
   },
   {
    "duration": 7,
    "start_time": "2024-12-04T21:54:00.433Z"
   },
   {
    "duration": 36,
    "start_time": "2024-12-04T21:54:00.441Z"
   },
   {
    "duration": 7,
    "start_time": "2024-12-04T21:54:00.479Z"
   },
   {
    "duration": 12,
    "start_time": "2024-12-04T21:54:00.488Z"
   },
   {
    "duration": 14,
    "start_time": "2024-12-04T21:54:00.502Z"
   },
   {
    "duration": 6,
    "start_time": "2024-12-04T21:54:00.522Z"
   },
   {
    "duration": 130,
    "start_time": "2024-12-04T21:54:00.530Z"
   },
   {
    "duration": 116,
    "start_time": "2024-12-04T21:54:00.670Z"
   },
   {
    "duration": 105,
    "start_time": "2024-12-04T21:54:00.789Z"
   },
   {
    "duration": 5,
    "start_time": "2024-12-04T21:54:00.896Z"
   },
   {
    "duration": 4,
    "start_time": "2024-12-04T21:54:00.903Z"
   },
   {
    "duration": 790,
    "start_time": "2024-12-04T21:54:00.909Z"
   },
   {
    "duration": 1073,
    "start_time": "2024-12-04T21:54:01.701Z"
   },
   {
    "duration": 7,
    "start_time": "2024-12-04T21:54:02.777Z"
   },
   {
    "duration": 6,
    "start_time": "2024-12-04T21:54:02.785Z"
   },
   {
    "duration": 4,
    "start_time": "2024-12-04T21:54:02.793Z"
   },
   {
    "duration": 3,
    "start_time": "2024-12-04T21:54:02.799Z"
   },
   {
    "duration": 5,
    "start_time": "2024-12-04T21:54:02.804Z"
   },
   {
    "duration": 4,
    "start_time": "2024-12-04T21:54:02.811Z"
   },
   {
    "duration": 6,
    "start_time": "2024-12-04T21:54:02.816Z"
   },
   {
    "duration": 47,
    "start_time": "2024-12-04T21:54:02.824Z"
   },
   {
    "duration": 3,
    "start_time": "2024-12-04T21:54:02.872Z"
   },
   {
    "duration": 5,
    "start_time": "2024-12-04T21:54:02.876Z"
   },
   {
    "duration": 3,
    "start_time": "2024-12-04T21:54:02.883Z"
   },
   {
    "duration": 4,
    "start_time": "2024-12-04T21:54:02.888Z"
   },
   {
    "duration": 121,
    "start_time": "2024-12-04T21:54:02.893Z"
   },
   {
    "duration": 187,
    "start_time": "2024-12-04T21:54:03.016Z"
   },
   {
    "duration": 92,
    "start_time": "2024-12-04T21:54:03.205Z"
   },
   {
    "duration": 394,
    "start_time": "2024-12-04T21:54:03.299Z"
   },
   {
    "duration": 5,
    "start_time": "2024-12-04T21:54:03.695Z"
   },
   {
    "duration": 5,
    "start_time": "2024-12-04T21:54:03.701Z"
   },
   {
    "duration": 5,
    "start_time": "2024-12-04T21:54:03.708Z"
   },
   {
    "duration": 60,
    "start_time": "2024-12-04T21:54:03.715Z"
   },
   {
    "duration": 3,
    "start_time": "2024-12-04T21:54:03.777Z"
   },
   {
    "duration": 13,
    "start_time": "2024-12-04T21:54:03.782Z"
   },
   {
    "duration": 10,
    "start_time": "2024-12-04T21:54:03.797Z"
   },
   {
    "duration": 11,
    "start_time": "2024-12-04T21:54:03.809Z"
   },
   {
    "duration": 49,
    "start_time": "2024-12-04T21:54:03.822Z"
   },
   {
    "duration": 11,
    "start_time": "2024-12-04T21:54:03.873Z"
   },
   {
    "duration": 7,
    "start_time": "2024-12-04T21:54:03.886Z"
   },
   {
    "duration": 9,
    "start_time": "2024-12-04T21:54:03.894Z"
   },
   {
    "duration": 9,
    "start_time": "2024-12-04T21:54:03.905Z"
   },
   {
    "duration": 2,
    "start_time": "2024-12-04T21:54:03.915Z"
   },
   {
    "duration": 4,
    "start_time": "2024-12-04T21:54:03.919Z"
   },
   {
    "duration": 49,
    "start_time": "2024-12-04T21:54:03.924Z"
   },
   {
    "duration": 32,
    "start_time": "2024-12-04T21:54:03.975Z"
   },
   {
    "duration": 6,
    "start_time": "2024-12-04T21:54:04.011Z"
   },
   {
    "duration": 2,
    "start_time": "2024-12-04T21:54:04.018Z"
   },
   {
    "duration": 315,
    "start_time": "2024-12-04T21:54:04.022Z"
   },
   {
    "duration": 0,
    "start_time": "2024-12-04T21:54:04.339Z"
   },
   {
    "duration": 0,
    "start_time": "2024-12-04T21:54:04.341Z"
   },
   {
    "duration": 0,
    "start_time": "2024-12-04T21:54:04.342Z"
   },
   {
    "duration": 0,
    "start_time": "2024-12-04T21:54:04.343Z"
   },
   {
    "duration": 0,
    "start_time": "2024-12-04T21:54:04.344Z"
   },
   {
    "duration": 0,
    "start_time": "2024-12-04T21:54:04.345Z"
   },
   {
    "duration": 0,
    "start_time": "2024-12-04T21:54:04.346Z"
   },
   {
    "duration": 0,
    "start_time": "2024-12-04T21:54:04.347Z"
   },
   {
    "duration": 0,
    "start_time": "2024-12-04T21:54:04.348Z"
   },
   {
    "duration": 0,
    "start_time": "2024-12-04T21:54:04.349Z"
   },
   {
    "duration": 18,
    "start_time": "2024-12-04T22:01:43.965Z"
   },
   {
    "duration": 1047,
    "start_time": "2024-12-04T22:01:57.223Z"
   },
   {
    "duration": 521,
    "start_time": "2024-12-04T22:01:58.273Z"
   },
   {
    "duration": 20,
    "start_time": "2024-12-04T22:01:58.796Z"
   },
   {
    "duration": 16,
    "start_time": "2024-12-04T22:01:58.819Z"
   },
   {
    "duration": 41,
    "start_time": "2024-12-04T22:01:58.836Z"
   },
   {
    "duration": 4,
    "start_time": "2024-12-04T22:01:58.878Z"
   },
   {
    "duration": 4,
    "start_time": "2024-12-04T22:01:58.884Z"
   },
   {
    "duration": 3,
    "start_time": "2024-12-04T22:01:58.890Z"
   },
   {
    "duration": 5,
    "start_time": "2024-12-04T22:01:58.894Z"
   },
   {
    "duration": 3,
    "start_time": "2024-12-04T22:01:58.902Z"
   },
   {
    "duration": 5,
    "start_time": "2024-12-04T22:01:58.906Z"
   },
   {
    "duration": 13,
    "start_time": "2024-12-04T22:01:58.912Z"
   },
   {
    "duration": 44,
    "start_time": "2024-12-04T22:01:58.927Z"
   },
   {
    "duration": 9,
    "start_time": "2024-12-04T22:01:58.973Z"
   },
   {
    "duration": 6,
    "start_time": "2024-12-04T22:01:58.983Z"
   },
   {
    "duration": 10,
    "start_time": "2024-12-04T22:01:58.991Z"
   },
   {
    "duration": 3,
    "start_time": "2024-12-04T22:01:59.002Z"
   },
   {
    "duration": 90,
    "start_time": "2024-12-04T22:01:59.006Z"
   },
   {
    "duration": 18,
    "start_time": "2024-12-04T22:01:59.099Z"
   },
   {
    "duration": 98,
    "start_time": "2024-12-04T22:01:59.118Z"
   },
   {
    "duration": 3,
    "start_time": "2024-12-04T22:01:59.217Z"
   },
   {
    "duration": 12,
    "start_time": "2024-12-04T22:01:59.222Z"
   },
   {
    "duration": 7,
    "start_time": "2024-12-04T22:01:59.236Z"
   },
   {
    "duration": 40,
    "start_time": "2024-12-04T22:01:59.244Z"
   },
   {
    "duration": 7,
    "start_time": "2024-12-04T22:01:59.286Z"
   },
   {
    "duration": 13,
    "start_time": "2024-12-04T22:01:59.294Z"
   },
   {
    "duration": 15,
    "start_time": "2024-12-04T22:01:59.309Z"
   },
   {
    "duration": 5,
    "start_time": "2024-12-04T22:01:59.329Z"
   },
   {
    "duration": 138,
    "start_time": "2024-12-04T22:01:59.335Z"
   },
   {
    "duration": 129,
    "start_time": "2024-12-04T22:01:59.475Z"
   },
   {
    "duration": 108,
    "start_time": "2024-12-04T22:01:59.606Z"
   },
   {
    "duration": 6,
    "start_time": "2024-12-04T22:01:59.716Z"
   },
   {
    "duration": 4,
    "start_time": "2024-12-04T22:01:59.724Z"
   },
   {
    "duration": 842,
    "start_time": "2024-12-04T22:01:59.729Z"
   },
   {
    "duration": 1102,
    "start_time": "2024-12-04T22:02:00.573Z"
   },
   {
    "duration": 7,
    "start_time": "2024-12-04T22:02:01.677Z"
   },
   {
    "duration": 6,
    "start_time": "2024-12-04T22:02:01.686Z"
   },
   {
    "duration": 4,
    "start_time": "2024-12-04T22:02:01.695Z"
   },
   {
    "duration": 3,
    "start_time": "2024-12-04T22:02:01.701Z"
   },
   {
    "duration": 6,
    "start_time": "2024-12-04T22:02:01.706Z"
   },
   {
    "duration": 7,
    "start_time": "2024-12-04T22:02:01.713Z"
   },
   {
    "duration": 7,
    "start_time": "2024-12-04T22:02:01.722Z"
   },
   {
    "duration": 6,
    "start_time": "2024-12-04T22:02:01.770Z"
   },
   {
    "duration": 3,
    "start_time": "2024-12-04T22:02:01.778Z"
   },
   {
    "duration": 4,
    "start_time": "2024-12-04T22:02:01.782Z"
   },
   {
    "duration": 4,
    "start_time": "2024-12-04T22:02:01.788Z"
   },
   {
    "duration": 4,
    "start_time": "2024-12-04T22:02:01.793Z"
   },
   {
    "duration": 121,
    "start_time": "2024-12-04T22:02:01.799Z"
   },
   {
    "duration": 179,
    "start_time": "2024-12-04T22:02:01.922Z"
   },
   {
    "duration": 92,
    "start_time": "2024-12-04T22:02:02.103Z"
   },
   {
    "duration": 395,
    "start_time": "2024-12-04T22:02:02.197Z"
   },
   {
    "duration": 5,
    "start_time": "2024-12-04T22:02:02.594Z"
   },
   {
    "duration": 5,
    "start_time": "2024-12-04T22:02:02.600Z"
   },
   {
    "duration": 5,
    "start_time": "2024-12-04T22:02:02.607Z"
   },
   {
    "duration": 60,
    "start_time": "2024-12-04T22:02:02.615Z"
   },
   {
    "duration": 4,
    "start_time": "2024-12-04T22:02:02.676Z"
   },
   {
    "duration": 12,
    "start_time": "2024-12-04T22:02:02.681Z"
   },
   {
    "duration": 11,
    "start_time": "2024-12-04T22:02:02.694Z"
   },
   {
    "duration": 10,
    "start_time": "2024-12-04T22:02:02.706Z"
   },
   {
    "duration": 58,
    "start_time": "2024-12-04T22:02:02.718Z"
   },
   {
    "duration": 14,
    "start_time": "2024-12-04T22:02:02.778Z"
   },
   {
    "duration": 8,
    "start_time": "2024-12-04T22:02:02.793Z"
   },
   {
    "duration": 9,
    "start_time": "2024-12-04T22:02:02.802Z"
   },
   {
    "duration": 7,
    "start_time": "2024-12-04T22:02:02.813Z"
   },
   {
    "duration": 2,
    "start_time": "2024-12-04T22:02:02.822Z"
   },
   {
    "duration": 5,
    "start_time": "2024-12-04T22:02:02.826Z"
   },
   {
    "duration": 48,
    "start_time": "2024-12-04T22:02:02.833Z"
   },
   {
    "duration": 31,
    "start_time": "2024-12-04T22:02:02.883Z"
   },
   {
    "duration": 6,
    "start_time": "2024-12-04T22:02:02.916Z"
   },
   {
    "duration": 426,
    "start_time": "2024-12-04T22:02:02.923Z"
   },
   {
    "duration": 0,
    "start_time": "2024-12-04T22:02:03.351Z"
   },
   {
    "duration": 0,
    "start_time": "2024-12-04T22:02:03.353Z"
   },
   {
    "duration": 0,
    "start_time": "2024-12-04T22:02:03.354Z"
   },
   {
    "duration": 0,
    "start_time": "2024-12-04T22:02:03.356Z"
   },
   {
    "duration": 0,
    "start_time": "2024-12-04T22:02:03.370Z"
   },
   {
    "duration": 0,
    "start_time": "2024-12-04T22:02:03.371Z"
   },
   {
    "duration": 0,
    "start_time": "2024-12-04T22:02:03.373Z"
   },
   {
    "duration": 0,
    "start_time": "2024-12-04T22:02:03.374Z"
   },
   {
    "duration": 0,
    "start_time": "2024-12-04T22:02:03.376Z"
   },
   {
    "duration": 0,
    "start_time": "2024-12-04T22:02:03.377Z"
   },
   {
    "duration": 0,
    "start_time": "2024-12-04T22:02:03.378Z"
   },
   {
    "duration": 484,
    "start_time": "2024-12-04T22:02:22.502Z"
   },
   {
    "duration": 4460,
    "start_time": "2024-12-04T22:09:57.271Z"
   },
   {
    "duration": 389,
    "start_time": "2024-12-04T22:10:04.381Z"
   },
   {
    "duration": 1094,
    "start_time": "2024-12-04T22:13:08.370Z"
   },
   {
    "duration": 530,
    "start_time": "2024-12-04T22:13:09.466Z"
   },
   {
    "duration": 29,
    "start_time": "2024-12-04T22:13:09.997Z"
   },
   {
    "duration": 24,
    "start_time": "2024-12-04T22:13:10.028Z"
   },
   {
    "duration": 33,
    "start_time": "2024-12-04T22:13:10.055Z"
   },
   {
    "duration": 4,
    "start_time": "2024-12-04T22:13:10.090Z"
   },
   {
    "duration": 4,
    "start_time": "2024-12-04T22:13:10.096Z"
   },
   {
    "duration": 4,
    "start_time": "2024-12-04T22:13:10.101Z"
   },
   {
    "duration": 5,
    "start_time": "2024-12-04T22:13:10.107Z"
   },
   {
    "duration": 2,
    "start_time": "2024-12-04T22:13:10.114Z"
   },
   {
    "duration": 4,
    "start_time": "2024-12-04T22:13:10.118Z"
   },
   {
    "duration": 50,
    "start_time": "2024-12-04T22:13:10.124Z"
   },
   {
    "duration": 2,
    "start_time": "2024-12-04T22:13:10.176Z"
   },
   {
    "duration": 9,
    "start_time": "2024-12-04T22:13:10.182Z"
   },
   {
    "duration": 6,
    "start_time": "2024-12-04T22:13:10.192Z"
   },
   {
    "duration": 10,
    "start_time": "2024-12-04T22:13:10.200Z"
   },
   {
    "duration": 3,
    "start_time": "2024-12-04T22:13:10.211Z"
   },
   {
    "duration": 95,
    "start_time": "2024-12-04T22:13:10.215Z"
   },
   {
    "duration": 18,
    "start_time": "2024-12-04T22:13:10.311Z"
   },
   {
    "duration": 99,
    "start_time": "2024-12-04T22:13:10.331Z"
   },
   {
    "duration": 2,
    "start_time": "2024-12-04T22:13:10.432Z"
   },
   {
    "duration": 14,
    "start_time": "2024-12-04T22:13:10.436Z"
   },
   {
    "duration": 22,
    "start_time": "2024-12-04T22:13:10.452Z"
   },
   {
    "duration": 16,
    "start_time": "2024-12-04T22:13:10.476Z"
   },
   {
    "duration": 6,
    "start_time": "2024-12-04T22:13:10.494Z"
   },
   {
    "duration": 13,
    "start_time": "2024-12-04T22:13:10.502Z"
   },
   {
    "duration": 14,
    "start_time": "2024-12-04T22:13:10.517Z"
   },
   {
    "duration": 6,
    "start_time": "2024-12-04T22:13:10.533Z"
   },
   {
    "duration": 110,
    "start_time": "2024-12-04T22:13:10.570Z"
   },
   {
    "duration": 117,
    "start_time": "2024-12-04T22:13:10.682Z"
   },
   {
    "duration": 117,
    "start_time": "2024-12-04T22:13:10.800Z"
   },
   {
    "duration": 4,
    "start_time": "2024-12-04T22:13:10.919Z"
   },
   {
    "duration": 5,
    "start_time": "2024-12-04T22:13:10.925Z"
   },
   {
    "duration": 845,
    "start_time": "2024-12-04T22:13:10.931Z"
   },
   {
    "duration": 1085,
    "start_time": "2024-12-04T22:13:11.778Z"
   },
   {
    "duration": 7,
    "start_time": "2024-12-04T22:13:12.869Z"
   },
   {
    "duration": 6,
    "start_time": "2024-12-04T22:13:12.878Z"
   },
   {
    "duration": 5,
    "start_time": "2024-12-04T22:13:12.885Z"
   },
   {
    "duration": 3,
    "start_time": "2024-12-04T22:13:12.892Z"
   },
   {
    "duration": 5,
    "start_time": "2024-12-04T22:13:12.897Z"
   },
   {
    "duration": 5,
    "start_time": "2024-12-04T22:13:12.907Z"
   },
   {
    "duration": 6,
    "start_time": "2024-12-04T22:13:12.916Z"
   },
   {
    "duration": 48,
    "start_time": "2024-12-04T22:13:12.924Z"
   },
   {
    "duration": 3,
    "start_time": "2024-12-04T22:13:12.974Z"
   },
   {
    "duration": 4,
    "start_time": "2024-12-04T22:13:12.979Z"
   },
   {
    "duration": 5,
    "start_time": "2024-12-04T22:13:12.985Z"
   },
   {
    "duration": 4,
    "start_time": "2024-12-04T22:13:12.992Z"
   },
   {
    "duration": 120,
    "start_time": "2024-12-04T22:13:12.998Z"
   },
   {
    "duration": 181,
    "start_time": "2024-12-04T22:13:13.120Z"
   },
   {
    "duration": 90,
    "start_time": "2024-12-04T22:13:13.303Z"
   },
   {
    "duration": 406,
    "start_time": "2024-12-04T22:13:13.395Z"
   },
   {
    "duration": 6,
    "start_time": "2024-12-04T22:13:13.803Z"
   },
   {
    "duration": 5,
    "start_time": "2024-12-04T22:13:13.810Z"
   },
   {
    "duration": 5,
    "start_time": "2024-12-04T22:13:13.870Z"
   },
   {
    "duration": 7,
    "start_time": "2024-12-04T22:13:13.877Z"
   },
   {
    "duration": 3,
    "start_time": "2024-12-04T22:13:13.886Z"
   },
   {
    "duration": 12,
    "start_time": "2024-12-04T22:13:13.890Z"
   },
   {
    "duration": 12,
    "start_time": "2024-12-04T22:13:13.903Z"
   },
   {
    "duration": 56,
    "start_time": "2024-12-04T22:13:13.916Z"
   },
   {
    "duration": 9,
    "start_time": "2024-12-04T22:13:13.974Z"
   },
   {
    "duration": 11,
    "start_time": "2024-12-04T22:13:13.985Z"
   },
   {
    "duration": 8,
    "start_time": "2024-12-04T22:13:13.998Z"
   },
   {
    "duration": 9,
    "start_time": "2024-12-04T22:13:14.007Z"
   },
   {
    "duration": 8,
    "start_time": "2024-12-04T22:13:14.018Z"
   },
   {
    "duration": 2,
    "start_time": "2024-12-04T22:13:14.028Z"
   },
   {
    "duration": 4,
    "start_time": "2024-12-04T22:13:14.070Z"
   },
   {
    "duration": 13,
    "start_time": "2024-12-04T22:13:14.076Z"
   },
   {
    "duration": 30,
    "start_time": "2024-12-04T22:13:14.092Z"
   },
   {
    "duration": 6,
    "start_time": "2024-12-04T22:13:14.125Z"
   },
   {
    "duration": 40,
    "start_time": "2024-12-04T22:13:14.133Z"
   },
   {
    "duration": 597,
    "start_time": "2024-12-04T22:13:14.174Z"
   },
   {
    "duration": 4579,
    "start_time": "2024-12-04T22:13:14.773Z"
   },
   {
    "duration": 229788,
    "start_time": "2024-12-04T22:13:19.354Z"
   },
   {
    "duration": 0,
    "start_time": "2024-12-04T22:17:09.145Z"
   },
   {
    "duration": 0,
    "start_time": "2024-12-04T22:17:09.146Z"
   },
   {
    "duration": 0,
    "start_time": "2024-12-04T22:17:09.147Z"
   },
   {
    "duration": 0,
    "start_time": "2024-12-04T22:17:09.148Z"
   },
   {
    "duration": 0,
    "start_time": "2024-12-04T22:17:09.150Z"
   },
   {
    "duration": 0,
    "start_time": "2024-12-04T22:17:09.152Z"
   },
   {
    "duration": 0,
    "start_time": "2024-12-04T22:17:09.170Z"
   },
   {
    "duration": 0,
    "start_time": "2024-12-04T22:17:09.171Z"
   },
   {
    "duration": 0,
    "start_time": "2024-12-04T22:17:09.173Z"
   },
   {
    "duration": 0,
    "start_time": "2024-12-04T22:17:09.174Z"
   },
   {
    "duration": 0,
    "start_time": "2024-12-04T22:17:09.176Z"
   },
   {
    "duration": 7,
    "start_time": "2024-12-04T22:17:21.610Z"
   },
   {
    "duration": 3,
    "start_time": "2024-12-04T22:19:34.856Z"
   },
   {
    "duration": 1039,
    "start_time": "2024-12-04T22:21:11.554Z"
   },
   {
    "duration": 522,
    "start_time": "2024-12-04T22:21:12.595Z"
   },
   {
    "duration": 19,
    "start_time": "2024-12-04T22:21:13.119Z"
   },
   {
    "duration": 31,
    "start_time": "2024-12-04T22:21:13.140Z"
   },
   {
    "duration": 20,
    "start_time": "2024-12-04T22:21:13.172Z"
   },
   {
    "duration": 4,
    "start_time": "2024-12-04T22:21:13.194Z"
   },
   {
    "duration": 5,
    "start_time": "2024-12-04T22:21:13.200Z"
   },
   {
    "duration": 7,
    "start_time": "2024-12-04T22:21:13.207Z"
   },
   {
    "duration": 5,
    "start_time": "2024-12-04T22:21:13.216Z"
   },
   {
    "duration": 3,
    "start_time": "2024-12-04T22:21:13.225Z"
   },
   {
    "duration": 41,
    "start_time": "2024-12-04T22:21:13.230Z"
   },
   {
    "duration": 13,
    "start_time": "2024-12-04T22:21:13.273Z"
   },
   {
    "duration": 2,
    "start_time": "2024-12-04T22:21:13.288Z"
   },
   {
    "duration": 9,
    "start_time": "2024-12-04T22:21:13.293Z"
   },
   {
    "duration": 6,
    "start_time": "2024-12-04T22:21:13.303Z"
   },
   {
    "duration": 10,
    "start_time": "2024-12-04T22:21:13.310Z"
   },
   {
    "duration": 3,
    "start_time": "2024-12-04T22:21:13.321Z"
   },
   {
    "duration": 96,
    "start_time": "2024-12-04T22:21:13.325Z"
   },
   {
    "duration": 18,
    "start_time": "2024-12-04T22:21:13.423Z"
   },
   {
    "duration": 103,
    "start_time": "2024-12-04T22:21:13.443Z"
   },
   {
    "duration": 3,
    "start_time": "2024-12-04T22:21:13.549Z"
   },
   {
    "duration": 22,
    "start_time": "2024-12-04T22:21:13.553Z"
   },
   {
    "duration": 7,
    "start_time": "2024-12-04T22:21:13.576Z"
   },
   {
    "duration": 15,
    "start_time": "2024-12-04T22:21:13.585Z"
   },
   {
    "duration": 6,
    "start_time": "2024-12-04T22:21:13.602Z"
   },
   {
    "duration": 13,
    "start_time": "2024-12-04T22:21:13.610Z"
   },
   {
    "duration": 15,
    "start_time": "2024-12-04T22:21:13.624Z"
   },
   {
    "duration": 7,
    "start_time": "2024-12-04T22:21:13.672Z"
   },
   {
    "duration": 116,
    "start_time": "2024-12-04T22:21:13.681Z"
   },
   {
    "duration": 117,
    "start_time": "2024-12-04T22:21:13.799Z"
   },
   {
    "duration": 102,
    "start_time": "2024-12-04T22:21:13.918Z"
   },
   {
    "duration": 5,
    "start_time": "2024-12-04T22:21:14.021Z"
   },
   {
    "duration": 5,
    "start_time": "2024-12-04T22:21:14.027Z"
   },
   {
    "duration": 796,
    "start_time": "2024-12-04T22:21:14.034Z"
   },
   {
    "duration": 1062,
    "start_time": "2024-12-04T22:21:14.832Z"
   },
   {
    "duration": 6,
    "start_time": "2024-12-04T22:21:15.896Z"
   },
   {
    "duration": 5,
    "start_time": "2024-12-04T22:21:15.904Z"
   },
   {
    "duration": 5,
    "start_time": "2024-12-04T22:21:15.910Z"
   },
   {
    "duration": 4,
    "start_time": "2024-12-04T22:21:15.917Z"
   },
   {
    "duration": 5,
    "start_time": "2024-12-04T22:21:15.922Z"
   },
   {
    "duration": 6,
    "start_time": "2024-12-04T22:21:15.928Z"
   },
   {
    "duration": 40,
    "start_time": "2024-12-04T22:21:15.935Z"
   },
   {
    "duration": 6,
    "start_time": "2024-12-04T22:21:15.976Z"
   },
   {
    "duration": 3,
    "start_time": "2024-12-04T22:21:15.984Z"
   },
   {
    "duration": 5,
    "start_time": "2024-12-04T22:21:15.989Z"
   },
   {
    "duration": 4,
    "start_time": "2024-12-04T22:21:15.995Z"
   },
   {
    "duration": 4,
    "start_time": "2024-12-04T22:21:16.001Z"
   },
   {
    "duration": 124,
    "start_time": "2024-12-04T22:21:16.007Z"
   },
   {
    "duration": 182,
    "start_time": "2024-12-04T22:21:16.133Z"
   },
   {
    "duration": 111,
    "start_time": "2024-12-04T22:21:16.317Z"
   },
   {
    "duration": 443,
    "start_time": "2024-12-04T22:21:16.432Z"
   },
   {
    "duration": 8,
    "start_time": "2024-12-04T22:21:16.877Z"
   },
   {
    "duration": 5,
    "start_time": "2024-12-04T22:21:16.886Z"
   },
   {
    "duration": 6,
    "start_time": "2024-12-04T22:21:16.893Z"
   },
   {
    "duration": 7,
    "start_time": "2024-12-04T22:21:16.900Z"
   },
   {
    "duration": 4,
    "start_time": "2024-12-04T22:21:16.909Z"
   },
   {
    "duration": 65,
    "start_time": "2024-12-04T22:21:16.914Z"
   },
   {
    "duration": 12,
    "start_time": "2024-12-04T22:21:16.980Z"
   },
   {
    "duration": 12,
    "start_time": "2024-12-04T22:21:16.993Z"
   },
   {
    "duration": 9,
    "start_time": "2024-12-04T22:21:17.007Z"
   },
   {
    "duration": 11,
    "start_time": "2024-12-04T22:21:17.017Z"
   },
   {
    "duration": 47,
    "start_time": "2024-12-04T22:21:17.029Z"
   },
   {
    "duration": 11,
    "start_time": "2024-12-04T22:21:17.079Z"
   },
   {
    "duration": 8,
    "start_time": "2024-12-04T22:21:17.091Z"
   },
   {
    "duration": 2,
    "start_time": "2024-12-04T22:21:17.101Z"
   },
   {
    "duration": 4,
    "start_time": "2024-12-04T22:21:17.105Z"
   },
   {
    "duration": 13,
    "start_time": "2024-12-04T22:21:17.110Z"
   },
   {
    "duration": 74,
    "start_time": "2024-12-04T22:21:17.124Z"
   },
   {
    "duration": 6,
    "start_time": "2024-12-04T22:21:17.200Z"
   },
   {
    "duration": 3,
    "start_time": "2024-12-04T22:21:17.208Z"
   },
   {
    "duration": 10,
    "start_time": "2024-12-04T22:21:17.213Z"
   },
   {
    "duration": 324,
    "start_time": "2024-12-04T22:21:17.224Z"
   },
   {
    "duration": 0,
    "start_time": "2024-12-04T22:21:17.550Z"
   },
   {
    "duration": 0,
    "start_time": "2024-12-04T22:21:17.551Z"
   },
   {
    "duration": 0,
    "start_time": "2024-12-04T22:21:17.552Z"
   },
   {
    "duration": 0,
    "start_time": "2024-12-04T22:21:17.553Z"
   },
   {
    "duration": 0,
    "start_time": "2024-12-04T22:21:17.554Z"
   },
   {
    "duration": 0,
    "start_time": "2024-12-04T22:21:17.555Z"
   },
   {
    "duration": 0,
    "start_time": "2024-12-04T22:21:17.556Z"
   },
   {
    "duration": 0,
    "start_time": "2024-12-04T22:21:17.558Z"
   },
   {
    "duration": 0,
    "start_time": "2024-12-04T22:21:17.558Z"
   },
   {
    "duration": 0,
    "start_time": "2024-12-04T22:21:17.570Z"
   },
   {
    "duration": 0,
    "start_time": "2024-12-04T22:21:17.571Z"
   },
   {
    "duration": 0,
    "start_time": "2024-12-04T22:21:17.572Z"
   },
   {
    "duration": 202,
    "start_time": "2024-12-04T22:21:55.591Z"
   },
   {
    "duration": 4225,
    "start_time": "2024-12-04T22:22:11.651Z"
   },
   {
    "duration": 244713,
    "start_time": "2024-12-04T22:22:35.217Z"
   },
   {
    "duration": 120,
    "start_time": "2024-12-04T22:45:08.150Z"
   },
   {
    "duration": 1073,
    "start_time": "2024-12-04T22:46:38.798Z"
   },
   {
    "duration": 511,
    "start_time": "2024-12-04T22:46:39.873Z"
   },
   {
    "duration": 25,
    "start_time": "2024-12-04T22:46:40.386Z"
   },
   {
    "duration": 21,
    "start_time": "2024-12-04T22:46:40.413Z"
   },
   {
    "duration": 41,
    "start_time": "2024-12-04T22:46:40.436Z"
   },
   {
    "duration": 4,
    "start_time": "2024-12-04T22:46:40.479Z"
   },
   {
    "duration": 4,
    "start_time": "2024-12-04T22:46:40.485Z"
   },
   {
    "duration": 3,
    "start_time": "2024-12-04T22:46:40.491Z"
   },
   {
    "duration": 5,
    "start_time": "2024-12-04T22:46:40.496Z"
   },
   {
    "duration": 3,
    "start_time": "2024-12-04T22:46:40.504Z"
   },
   {
    "duration": 4,
    "start_time": "2024-12-04T22:46:40.508Z"
   },
   {
    "duration": 13,
    "start_time": "2024-12-04T22:46:40.514Z"
   },
   {
    "duration": 41,
    "start_time": "2024-12-04T22:46:40.529Z"
   },
   {
    "duration": 9,
    "start_time": "2024-12-04T22:46:40.572Z"
   },
   {
    "duration": 6,
    "start_time": "2024-12-04T22:46:40.583Z"
   },
   {
    "duration": 10,
    "start_time": "2024-12-04T22:46:40.590Z"
   },
   {
    "duration": 3,
    "start_time": "2024-12-04T22:46:40.601Z"
   },
   {
    "duration": 86,
    "start_time": "2024-12-04T22:46:40.606Z"
   },
   {
    "duration": 18,
    "start_time": "2024-12-04T22:46:40.694Z"
   },
   {
    "duration": 97,
    "start_time": "2024-12-04T22:46:40.713Z"
   },
   {
    "duration": 3,
    "start_time": "2024-12-04T22:46:40.811Z"
   },
   {
    "duration": 13,
    "start_time": "2024-12-04T22:46:40.816Z"
   },
   {
    "duration": 8,
    "start_time": "2024-12-04T22:46:40.830Z"
   },
   {
    "duration": 36,
    "start_time": "2024-12-04T22:46:40.840Z"
   },
   {
    "duration": 6,
    "start_time": "2024-12-04T22:46:40.878Z"
   },
   {
    "duration": 12,
    "start_time": "2024-12-04T22:46:40.886Z"
   },
   {
    "duration": 15,
    "start_time": "2024-12-04T22:46:40.900Z"
   },
   {
    "duration": 5,
    "start_time": "2024-12-04T22:46:40.921Z"
   },
   {
    "duration": 136,
    "start_time": "2024-12-04T22:46:40.928Z"
   },
   {
    "duration": 115,
    "start_time": "2024-12-04T22:46:41.070Z"
   },
   {
    "duration": 108,
    "start_time": "2024-12-04T22:46:41.186Z"
   },
   {
    "duration": 5,
    "start_time": "2024-12-04T22:46:41.296Z"
   },
   {
    "duration": 4,
    "start_time": "2024-12-04T22:46:41.303Z"
   },
   {
    "duration": 781,
    "start_time": "2024-12-04T22:46:41.309Z"
   },
   {
    "duration": 1089,
    "start_time": "2024-12-04T22:46:42.092Z"
   },
   {
    "duration": 6,
    "start_time": "2024-12-04T22:46:43.184Z"
   },
   {
    "duration": 6,
    "start_time": "2024-12-04T22:46:43.192Z"
   },
   {
    "duration": 5,
    "start_time": "2024-12-04T22:46:43.199Z"
   },
   {
    "duration": 3,
    "start_time": "2024-12-04T22:46:43.205Z"
   },
   {
    "duration": 7,
    "start_time": "2024-12-04T22:46:43.210Z"
   },
   {
    "duration": 4,
    "start_time": "2024-12-04T22:46:43.218Z"
   },
   {
    "duration": 6,
    "start_time": "2024-12-04T22:46:43.224Z"
   },
   {
    "duration": 44,
    "start_time": "2024-12-04T22:46:43.231Z"
   },
   {
    "duration": 3,
    "start_time": "2024-12-04T22:46:43.277Z"
   },
   {
    "duration": 5,
    "start_time": "2024-12-04T22:46:43.281Z"
   },
   {
    "duration": 4,
    "start_time": "2024-12-04T22:46:43.287Z"
   },
   {
    "duration": 4,
    "start_time": "2024-12-04T22:46:43.292Z"
   },
   {
    "duration": 120,
    "start_time": "2024-12-04T22:46:43.298Z"
   },
   {
    "duration": 188,
    "start_time": "2024-12-04T22:46:43.419Z"
   },
   {
    "duration": 105,
    "start_time": "2024-12-04T22:46:43.609Z"
   },
   {
    "duration": 399,
    "start_time": "2024-12-04T22:46:43.715Z"
   },
   {
    "duration": 5,
    "start_time": "2024-12-04T22:46:44.117Z"
   },
   {
    "duration": 49,
    "start_time": "2024-12-04T22:46:44.124Z"
   },
   {
    "duration": 5,
    "start_time": "2024-12-04T22:46:44.175Z"
   },
   {
    "duration": 7,
    "start_time": "2024-12-04T22:46:44.182Z"
   },
   {
    "duration": 3,
    "start_time": "2024-12-04T22:46:44.191Z"
   },
   {
    "duration": 12,
    "start_time": "2024-12-04T22:46:44.196Z"
   },
   {
    "duration": 62,
    "start_time": "2024-12-04T22:46:44.209Z"
   },
   {
    "duration": 11,
    "start_time": "2024-12-04T22:46:44.273Z"
   },
   {
    "duration": 9,
    "start_time": "2024-12-04T22:46:44.285Z"
   },
   {
    "duration": 11,
    "start_time": "2024-12-04T22:46:44.296Z"
   },
   {
    "duration": 8,
    "start_time": "2024-12-04T22:46:44.308Z"
   },
   {
    "duration": 10,
    "start_time": "2024-12-04T22:46:44.317Z"
   },
   {
    "duration": 41,
    "start_time": "2024-12-04T22:46:44.329Z"
   },
   {
    "duration": 3,
    "start_time": "2024-12-04T22:46:44.372Z"
   },
   {
    "duration": 5,
    "start_time": "2024-12-04T22:46:44.377Z"
   },
   {
    "duration": 12,
    "start_time": "2024-12-04T22:46:44.383Z"
   },
   {
    "duration": 31,
    "start_time": "2024-12-04T22:46:44.397Z"
   },
   {
    "duration": 2,
    "start_time": "2024-12-04T22:46:44.431Z"
   },
   {
    "duration": 35,
    "start_time": "2024-12-04T22:46:44.435Z"
   },
   {
    "duration": 313,
    "start_time": "2024-12-04T22:46:44.472Z"
   },
   {
    "duration": 0,
    "start_time": "2024-12-04T22:46:44.786Z"
   },
   {
    "duration": 0,
    "start_time": "2024-12-04T22:46:44.787Z"
   },
   {
    "duration": 0,
    "start_time": "2024-12-04T22:46:44.789Z"
   },
   {
    "duration": 0,
    "start_time": "2024-12-04T22:46:44.790Z"
   },
   {
    "duration": 0,
    "start_time": "2024-12-04T22:46:44.798Z"
   },
   {
    "duration": 0,
    "start_time": "2024-12-04T22:46:44.799Z"
   },
   {
    "duration": 0,
    "start_time": "2024-12-04T22:46:44.800Z"
   },
   {
    "duration": 0,
    "start_time": "2024-12-04T22:46:44.801Z"
   },
   {
    "duration": 0,
    "start_time": "2024-12-04T22:46:44.802Z"
   },
   {
    "duration": 0,
    "start_time": "2024-12-04T22:46:44.803Z"
   },
   {
    "duration": 0,
    "start_time": "2024-12-04T22:46:44.804Z"
   },
   {
    "duration": 0,
    "start_time": "2024-12-04T22:46:44.805Z"
   },
   {
    "duration": 0,
    "start_time": "2024-12-04T22:46:44.806Z"
   },
   {
    "duration": 15,
    "start_time": "2024-12-04T22:47:04.035Z"
   },
   {
    "duration": 10,
    "start_time": "2024-12-04T22:47:13.468Z"
   },
   {
    "duration": 366,
    "start_time": "2024-12-04T22:47:15.703Z"
   },
   {
    "duration": 4284,
    "start_time": "2024-12-04T22:48:36.353Z"
   },
   {
    "duration": 254931,
    "start_time": "2024-12-04T22:49:20.409Z"
   },
   {
    "duration": 433,
    "start_time": "2024-12-05T00:42:21.985Z"
   },
   {
    "duration": 1053,
    "start_time": "2024-12-05T00:42:42.528Z"
   },
   {
    "duration": 538,
    "start_time": "2024-12-05T00:42:45.919Z"
   },
   {
    "duration": 20,
    "start_time": "2024-12-05T00:42:47.428Z"
   },
   {
    "duration": 17,
    "start_time": "2024-12-05T00:42:49.759Z"
   },
   {
    "duration": 21,
    "start_time": "2024-12-05T00:42:51.636Z"
   },
   {
    "duration": 4,
    "start_time": "2024-12-05T00:42:54.184Z"
   },
   {
    "duration": 5,
    "start_time": "2024-12-05T00:42:55.351Z"
   },
   {
    "duration": 3,
    "start_time": "2024-12-05T00:42:56.018Z"
   },
   {
    "duration": 232,
    "start_time": "2024-12-05T00:42:57.529Z"
   },
   {
    "duration": 5,
    "start_time": "2024-12-05T00:43:25.737Z"
   },
   {
    "duration": 5,
    "start_time": "2024-12-05T00:45:20.737Z"
   },
   {
    "duration": 5,
    "start_time": "2024-12-05T00:45:38.049Z"
   },
   {
    "duration": 3,
    "start_time": "2024-12-05T00:47:21.966Z"
   },
   {
    "duration": 5,
    "start_time": "2024-12-05T00:47:25.766Z"
   },
   {
    "duration": 13,
    "start_time": "2024-12-05T00:47:37.998Z"
   },
   {
    "duration": 2,
    "start_time": "2024-12-05T00:47:43.465Z"
   },
   {
    "duration": 9,
    "start_time": "2024-12-05T00:47:44.492Z"
   },
   {
    "duration": 7,
    "start_time": "2024-12-05T00:47:46.447Z"
   },
   {
    "duration": 10,
    "start_time": "2024-12-05T00:52:38.782Z"
   },
   {
    "duration": 2,
    "start_time": "2024-12-05T00:53:57.445Z"
   },
   {
    "duration": 58,
    "start_time": "2024-12-05T00:53:58.621Z"
   },
   {
    "duration": 19,
    "start_time": "2024-12-05T00:53:59.934Z"
   },
   {
    "duration": 87,
    "start_time": "2024-12-05T00:54:01.288Z"
   },
   {
    "duration": 2,
    "start_time": "2024-12-05T00:54:06.267Z"
   },
   {
    "duration": 13,
    "start_time": "2024-12-05T00:54:18.676Z"
   },
   {
    "duration": 7,
    "start_time": "2024-12-05T00:54:20.279Z"
   },
   {
    "duration": 16,
    "start_time": "2024-12-05T00:54:23.079Z"
   },
   {
    "duration": 6,
    "start_time": "2024-12-05T00:54:44.068Z"
   },
   {
    "duration": 12,
    "start_time": "2024-12-05T00:54:45.188Z"
   },
   {
    "duration": 16,
    "start_time": "2024-12-05T00:54:46.010Z"
   },
   {
    "duration": 7,
    "start_time": "2024-12-05T01:02:55.618Z"
   },
   {
    "duration": 8,
    "start_time": "2024-12-05T01:03:21.006Z"
   },
   {
    "duration": 103,
    "start_time": "2024-12-05T01:06:01.695Z"
   },
   {
    "duration": 106,
    "start_time": "2024-12-05T01:06:17.257Z"
   },
   {
    "duration": 101,
    "start_time": "2024-12-05T01:06:21.752Z"
   },
   {
    "duration": 5,
    "start_time": "2024-12-05T01:22:34.861Z"
   },
   {
    "duration": 5,
    "start_time": "2024-12-05T01:22:36.283Z"
   },
   {
    "duration": 833,
    "start_time": "2024-12-05T01:22:39.855Z"
   },
   {
    "duration": 1051,
    "start_time": "2024-12-05T01:22:41.028Z"
   },
   {
    "duration": 7,
    "start_time": "2024-12-05T01:22:58.220Z"
   },
   {
    "duration": 7,
    "start_time": "2024-12-05T01:23:02.226Z"
   },
   {
    "duration": 5,
    "start_time": "2024-12-05T01:41:24.839Z"
   },
   {
    "duration": 3,
    "start_time": "2024-12-05T01:41:39.464Z"
   },
   {
    "duration": 5,
    "start_time": "2024-12-05T01:41:43.229Z"
   },
   {
    "duration": 5,
    "start_time": "2024-12-05T01:42:13.707Z"
   },
   {
    "duration": 5,
    "start_time": "2024-12-05T01:42:22.861Z"
   },
   {
    "duration": 108,
    "start_time": "2024-12-05T01:44:32.215Z"
   },
   {
    "duration": 3,
    "start_time": "2024-12-05T01:44:37.647Z"
   },
   {
    "duration": 4,
    "start_time": "2024-12-05T01:44:38.976Z"
   },
   {
    "duration": 4,
    "start_time": "2024-12-05T01:45:17.200Z"
   },
   {
    "duration": 4,
    "start_time": "2024-12-05T01:45:39.738Z"
   },
   {
    "duration": 85,
    "start_time": "2024-12-05T01:45:45.851Z"
   },
   {
    "duration": 75,
    "start_time": "2024-12-05T01:45:47.762Z"
   },
   {
    "duration": 86,
    "start_time": "2024-12-05T01:45:49.287Z"
   },
   {
    "duration": 6,
    "start_time": "2024-12-05T01:50:26.343Z"
   },
   {
    "duration": 6,
    "start_time": "2024-12-05T01:50:32.363Z"
   },
   {
    "duration": 6,
    "start_time": "2024-12-05T01:50:38.268Z"
   },
   {
    "duration": 8,
    "start_time": "2024-12-05T01:50:48.521Z"
   },
   {
    "duration": 3,
    "start_time": "2024-12-05T01:53:08.213Z"
   },
   {
    "duration": 12,
    "start_time": "2024-12-05T01:53:24.447Z"
   },
   {
    "duration": 12,
    "start_time": "2024-12-05T01:53:34.894Z"
   },
   {
    "duration": 13,
    "start_time": "2024-12-05T01:53:51.381Z"
   },
   {
    "duration": 10,
    "start_time": "2024-12-05T01:53:53.481Z"
   },
   {
    "duration": 11,
    "start_time": "2024-12-05T01:54:31.350Z"
   },
   {
    "duration": 8,
    "start_time": "2024-12-05T01:54:33.824Z"
   },
   {
    "duration": 14,
    "start_time": "2024-12-05T01:54:35.747Z"
   },
   {
    "duration": 9,
    "start_time": "2024-12-05T01:54:44.289Z"
   },
   {
    "duration": 3,
    "start_time": "2024-12-05T02:00:26.356Z"
   },
   {
    "duration": 3,
    "start_time": "2024-12-05T02:00:27.798Z"
   },
   {
    "duration": 31,
    "start_time": "2024-12-05T02:00:44.344Z"
   },
   {
    "duration": 4,
    "start_time": "2024-12-05T02:00:49.198Z"
   },
   {
    "duration": 10,
    "start_time": "2024-12-05T02:00:54.695Z"
   },
   {
    "duration": 515,
    "start_time": "2024-12-05T02:01:12.071Z"
   },
   {
    "duration": 4258,
    "start_time": "2024-12-05T02:01:26.142Z"
   },
   {
    "duration": 253239,
    "start_time": "2024-12-05T02:01:32.664Z"
   },
   {
    "duration": 12,
    "start_time": "2024-12-05T02:12:40.069Z"
   },
   {
    "duration": 15,
    "start_time": "2024-12-05T02:16:59.720Z"
   },
   {
    "duration": 3,
    "start_time": "2024-12-05T02:17:54.144Z"
   },
   {
    "duration": 149,
    "start_time": "2024-12-05T02:18:16.514Z"
   },
   {
    "duration": 47,
    "start_time": "2024-12-05T02:19:22.954Z"
   },
   {
    "duration": 4239,
    "start_time": "2024-12-05T02:29:00.204Z"
   },
   {
    "duration": 0,
    "start_time": "2024-12-05T02:29:44.160Z"
   },
   {
    "duration": 335,
    "start_time": "2024-12-05T02:29:53.552Z"
   },
   {
    "duration": 4241,
    "start_time": "2024-12-05T02:30:00.003Z"
   },
   {
    "duration": 4237,
    "start_time": "2024-12-05T02:30:07.958Z"
   },
   {
    "duration": 253088,
    "start_time": "2024-12-05T02:30:15.902Z"
   },
   {
    "duration": 19,
    "start_time": "2024-12-05T02:48:06.721Z"
   },
   {
    "duration": 4,
    "start_time": "2024-12-05T02:48:26.459Z"
   },
   {
    "duration": 615,
    "start_time": "2024-12-05T02:51:08.066Z"
   },
   {
    "duration": 526,
    "start_time": "2024-12-05T02:51:15.546Z"
   },
   {
    "duration": 4284,
    "start_time": "2024-12-05T02:52:03.662Z"
   },
   {
    "duration": 253938,
    "start_time": "2024-12-05T02:56:58.943Z"
   },
   {
    "duration": 67096,
    "start_time": "2024-12-05T03:08:49.079Z"
   },
   {
    "duration": 530,
    "start_time": "2024-12-05T03:10:32.894Z"
   },
   {
    "duration": 2,
    "start_time": "2024-12-05T03:20:43.503Z"
   },
   {
    "duration": 7,
    "start_time": "2024-12-05T03:20:53.713Z"
   },
   {
    "duration": 14,
    "start_time": "2024-12-05T03:21:04.191Z"
   },
   {
    "duration": 3,
    "start_time": "2024-12-05T03:21:31.593Z"
   },
   {
    "duration": 83,
    "start_time": "2024-12-05T03:21:45.289Z"
   },
   {
    "duration": 5,
    "start_time": "2024-12-05T03:34:07.053Z"
   },
   {
    "duration": 4,
    "start_time": "2024-12-05T03:34:20.079Z"
   },
   {
    "duration": 13,
    "start_time": "2024-12-05T03:34:36.268Z"
   },
   {
    "duration": 13,
    "start_time": "2024-12-05T03:34:45.869Z"
   },
   {
    "duration": 27,
    "start_time": "2024-12-05T03:35:14.023Z"
   },
   {
    "duration": 5,
    "start_time": "2024-12-05T03:35:38.797Z"
   },
   {
    "duration": 18,
    "start_time": "2024-12-05T03:36:44.541Z"
   },
   {
    "duration": 19,
    "start_time": "2024-12-05T03:36:54.750Z"
   },
   {
    "duration": 31,
    "start_time": "2024-12-05T03:39:09.879Z"
   },
   {
    "duration": 18,
    "start_time": "2024-12-05T03:40:59.020Z"
   },
   {
    "duration": 3,
    "start_time": "2024-12-05T04:01:26.048Z"
   },
   {
    "duration": 514,
    "start_time": "2024-12-05T04:01:28.320Z"
   },
   {
    "duration": 1132,
    "start_time": "2024-12-05T04:01:45.569Z"
   },
   {
    "duration": 538,
    "start_time": "2024-12-05T04:01:46.703Z"
   },
   {
    "duration": 20,
    "start_time": "2024-12-05T04:01:47.243Z"
   },
   {
    "duration": 16,
    "start_time": "2024-12-05T04:01:47.270Z"
   },
   {
    "duration": 20,
    "start_time": "2024-12-05T04:01:47.287Z"
   },
   {
    "duration": 4,
    "start_time": "2024-12-05T04:01:47.309Z"
   },
   {
    "duration": 5,
    "start_time": "2024-12-05T04:01:47.314Z"
   },
   {
    "duration": 4,
    "start_time": "2024-12-05T04:01:47.320Z"
   },
   {
    "duration": 5,
    "start_time": "2024-12-05T04:01:47.326Z"
   },
   {
    "duration": 39,
    "start_time": "2024-12-05T04:01:47.334Z"
   },
   {
    "duration": 4,
    "start_time": "2024-12-05T04:01:47.375Z"
   },
   {
    "duration": 13,
    "start_time": "2024-12-05T04:01:47.381Z"
   },
   {
    "duration": 3,
    "start_time": "2024-12-05T04:01:47.395Z"
   },
   {
    "duration": 9,
    "start_time": "2024-12-05T04:01:47.399Z"
   },
   {
    "duration": 7,
    "start_time": "2024-12-05T04:01:47.410Z"
   },
   {
    "duration": 10,
    "start_time": "2024-12-05T04:01:47.420Z"
   },
   {
    "duration": 2,
    "start_time": "2024-12-05T04:01:47.431Z"
   },
   {
    "duration": 59,
    "start_time": "2024-12-05T04:01:47.471Z"
   },
   {
    "duration": 19,
    "start_time": "2024-12-05T04:01:47.532Z"
   },
   {
    "duration": 99,
    "start_time": "2024-12-05T04:01:47.553Z"
   },
   {
    "duration": 2,
    "start_time": "2024-12-05T04:01:47.654Z"
   },
   {
    "duration": 20,
    "start_time": "2024-12-05T04:01:47.658Z"
   },
   {
    "duration": 7,
    "start_time": "2024-12-05T04:01:47.680Z"
   },
   {
    "duration": 15,
    "start_time": "2024-12-05T04:01:47.689Z"
   },
   {
    "duration": 7,
    "start_time": "2024-12-05T04:01:47.705Z"
   },
   {
    "duration": 13,
    "start_time": "2024-12-05T04:01:47.713Z"
   },
   {
    "duration": 48,
    "start_time": "2024-12-05T04:01:47.728Z"
   },
   {
    "duration": 6,
    "start_time": "2024-12-05T04:01:47.782Z"
   },
   {
    "duration": 126,
    "start_time": "2024-12-05T04:01:47.790Z"
   },
   {
    "duration": 111,
    "start_time": "2024-12-05T04:01:47.918Z"
   },
   {
    "duration": 105,
    "start_time": "2024-12-05T04:01:48.031Z"
   },
   {
    "duration": 6,
    "start_time": "2024-12-05T04:01:48.138Z"
   },
   {
    "duration": 4,
    "start_time": "2024-12-05T04:01:48.146Z"
   },
   {
    "duration": 821,
    "start_time": "2024-12-05T04:01:48.152Z"
   },
   {
    "duration": 1110,
    "start_time": "2024-12-05T04:01:48.974Z"
   },
   {
    "duration": 7,
    "start_time": "2024-12-05T04:01:50.086Z"
   },
   {
    "duration": 5,
    "start_time": "2024-12-05T04:01:50.095Z"
   },
   {
    "duration": 5,
    "start_time": "2024-12-05T04:01:50.102Z"
   },
   {
    "duration": 3,
    "start_time": "2024-12-05T04:01:50.109Z"
   },
   {
    "duration": 5,
    "start_time": "2024-12-05T04:01:50.113Z"
   },
   {
    "duration": 4,
    "start_time": "2024-12-05T04:01:50.120Z"
   },
   {
    "duration": 45,
    "start_time": "2024-12-05T04:01:50.126Z"
   },
   {
    "duration": 3,
    "start_time": "2024-12-05T04:01:50.172Z"
   },
   {
    "duration": 4,
    "start_time": "2024-12-05T04:01:50.177Z"
   },
   {
    "duration": 4,
    "start_time": "2024-12-05T04:01:50.183Z"
   },
   {
    "duration": 5,
    "start_time": "2024-12-05T04:01:50.188Z"
   },
   {
    "duration": 114,
    "start_time": "2024-12-05T04:01:50.194Z"
   },
   {
    "duration": 177,
    "start_time": "2024-12-05T04:01:50.309Z"
   },
   {
    "duration": 92,
    "start_time": "2024-12-05T04:01:50.488Z"
   },
   {
    "duration": 6,
    "start_time": "2024-12-05T04:01:50.581Z"
   },
   {
    "duration": 5,
    "start_time": "2024-12-05T04:01:50.588Z"
   },
   {
    "duration": 5,
    "start_time": "2024-12-05T04:01:50.594Z"
   },
   {
    "duration": 6,
    "start_time": "2024-12-05T04:01:50.601Z"
   },
   {
    "duration": 4,
    "start_time": "2024-12-05T04:01:50.609Z"
   },
   {
    "duration": 12,
    "start_time": "2024-12-05T04:01:50.615Z"
   },
   {
    "duration": 49,
    "start_time": "2024-12-05T04:01:50.629Z"
   },
   {
    "duration": 11,
    "start_time": "2024-12-05T04:01:50.680Z"
   },
   {
    "duration": 10,
    "start_time": "2024-12-05T04:01:50.692Z"
   },
   {
    "duration": 11,
    "start_time": "2024-12-05T04:01:50.703Z"
   },
   {
    "duration": 8,
    "start_time": "2024-12-05T04:01:50.715Z"
   },
   {
    "duration": 45,
    "start_time": "2024-12-05T04:01:50.725Z"
   },
   {
    "duration": 8,
    "start_time": "2024-12-05T04:01:50.771Z"
   },
   {
    "duration": 2,
    "start_time": "2024-12-05T04:01:50.781Z"
   },
   {
    "duration": 4,
    "start_time": "2024-12-05T04:01:50.784Z"
   },
   {
    "duration": 1055,
    "start_time": "2024-12-05T04:01:50.790Z"
   },
   {
    "duration": 0,
    "start_time": "2024-12-05T04:01:51.847Z"
   },
   {
    "duration": 1,
    "start_time": "2024-12-05T04:01:51.848Z"
   },
   {
    "duration": 0,
    "start_time": "2024-12-05T04:01:51.850Z"
   },
   {
    "duration": 0,
    "start_time": "2024-12-05T04:01:51.851Z"
   },
   {
    "duration": 0,
    "start_time": "2024-12-05T04:01:51.852Z"
   },
   {
    "duration": 0,
    "start_time": "2024-12-05T04:01:51.853Z"
   },
   {
    "duration": 1,
    "start_time": "2024-12-05T04:01:51.854Z"
   },
   {
    "duration": 0,
    "start_time": "2024-12-05T04:01:51.869Z"
   },
   {
    "duration": 0,
    "start_time": "2024-12-05T04:01:51.871Z"
   },
   {
    "duration": 0,
    "start_time": "2024-12-05T04:01:51.872Z"
   },
   {
    "duration": 0,
    "start_time": "2024-12-05T04:01:51.873Z"
   },
   {
    "duration": 39,
    "start_time": "2024-12-05T04:04:24.915Z"
   },
   {
    "duration": 1097,
    "start_time": "2024-12-05T04:04:37.386Z"
   },
   {
    "duration": 506,
    "start_time": "2024-12-05T04:04:38.485Z"
   },
   {
    "duration": 19,
    "start_time": "2024-12-05T04:04:38.993Z"
   },
   {
    "duration": 17,
    "start_time": "2024-12-05T04:04:39.014Z"
   },
   {
    "duration": 20,
    "start_time": "2024-12-05T04:04:39.032Z"
   },
   {
    "duration": 4,
    "start_time": "2024-12-05T04:04:39.069Z"
   },
   {
    "duration": 5,
    "start_time": "2024-12-05T04:04:39.075Z"
   },
   {
    "duration": 4,
    "start_time": "2024-12-05T04:04:39.082Z"
   },
   {
    "duration": 5,
    "start_time": "2024-12-05T04:04:39.089Z"
   },
   {
    "duration": 3,
    "start_time": "2024-12-05T04:04:39.096Z"
   },
   {
    "duration": 3,
    "start_time": "2024-12-05T04:04:39.101Z"
   },
   {
    "duration": 13,
    "start_time": "2024-12-05T04:04:39.106Z"
   },
   {
    "duration": 3,
    "start_time": "2024-12-05T04:04:39.121Z"
   },
   {
    "duration": 50,
    "start_time": "2024-12-05T04:04:39.126Z"
   },
   {
    "duration": 6,
    "start_time": "2024-12-05T04:04:39.177Z"
   },
   {
    "duration": 10,
    "start_time": "2024-12-05T04:04:39.185Z"
   },
   {
    "duration": 4,
    "start_time": "2024-12-05T04:04:39.196Z"
   },
   {
    "duration": 83,
    "start_time": "2024-12-05T04:04:39.202Z"
   },
   {
    "duration": 18,
    "start_time": "2024-12-05T04:04:39.286Z"
   },
   {
    "duration": 106,
    "start_time": "2024-12-05T04:04:39.305Z"
   },
   {
    "duration": 3,
    "start_time": "2024-12-05T04:04:39.413Z"
   },
   {
    "duration": 13,
    "start_time": "2024-12-05T04:04:39.418Z"
   },
   {
    "duration": 7,
    "start_time": "2024-12-05T04:04:39.433Z"
   },
   {
    "duration": 40,
    "start_time": "2024-12-05T04:04:39.442Z"
   },
   {
    "duration": 7,
    "start_time": "2024-12-05T04:04:39.484Z"
   },
   {
    "duration": 14,
    "start_time": "2024-12-05T04:04:39.492Z"
   },
   {
    "duration": 15,
    "start_time": "2024-12-05T04:04:39.508Z"
   },
   {
    "duration": 6,
    "start_time": "2024-12-05T04:04:39.528Z"
   },
   {
    "duration": 136,
    "start_time": "2024-12-05T04:04:39.535Z"
   },
   {
    "duration": 117,
    "start_time": "2024-12-05T04:04:39.672Z"
   },
   {
    "duration": 107,
    "start_time": "2024-12-05T04:04:39.790Z"
   },
   {
    "duration": 5,
    "start_time": "2024-12-05T04:04:39.898Z"
   },
   {
    "duration": 4,
    "start_time": "2024-12-05T04:04:39.905Z"
   },
   {
    "duration": 850,
    "start_time": "2024-12-05T04:04:39.911Z"
   },
   {
    "duration": 1114,
    "start_time": "2024-12-05T04:04:40.763Z"
   },
   {
    "duration": 7,
    "start_time": "2024-12-05T04:04:41.880Z"
   },
   {
    "duration": 7,
    "start_time": "2024-12-05T04:04:41.889Z"
   },
   {
    "duration": 5,
    "start_time": "2024-12-05T04:04:41.897Z"
   },
   {
    "duration": 3,
    "start_time": "2024-12-05T04:04:41.903Z"
   },
   {
    "duration": 6,
    "start_time": "2024-12-05T04:04:41.907Z"
   },
   {
    "duration": 4,
    "start_time": "2024-12-05T04:04:41.914Z"
   },
   {
    "duration": 4,
    "start_time": "2024-12-05T04:04:41.920Z"
   },
   {
    "duration": 3,
    "start_time": "2024-12-05T04:04:41.926Z"
   },
   {
    "duration": 5,
    "start_time": "2024-12-05T04:04:41.970Z"
   },
   {
    "duration": 4,
    "start_time": "2024-12-05T04:04:41.976Z"
   },
   {
    "duration": 4,
    "start_time": "2024-12-05T04:04:41.982Z"
   },
   {
    "duration": 111,
    "start_time": "2024-12-05T04:04:41.988Z"
   },
   {
    "duration": 178,
    "start_time": "2024-12-05T04:04:42.101Z"
   },
   {
    "duration": 92,
    "start_time": "2024-12-05T04:04:42.281Z"
   },
   {
    "duration": 6,
    "start_time": "2024-12-05T04:04:42.375Z"
   },
   {
    "duration": 5,
    "start_time": "2024-12-05T04:04:42.382Z"
   },
   {
    "duration": 5,
    "start_time": "2024-12-05T04:04:42.389Z"
   },
   {
    "duration": 7,
    "start_time": "2024-12-05T04:04:42.395Z"
   },
   {
    "duration": 3,
    "start_time": "2024-12-05T04:04:42.404Z"
   },
   {
    "duration": 12,
    "start_time": "2024-12-05T04:04:42.409Z"
   },
   {
    "duration": 51,
    "start_time": "2024-12-05T04:04:42.423Z"
   },
   {
    "duration": 11,
    "start_time": "2024-12-05T04:04:42.476Z"
   },
   {
    "duration": 10,
    "start_time": "2024-12-05T04:04:42.489Z"
   },
   {
    "duration": 11,
    "start_time": "2024-12-05T04:04:42.500Z"
   },
   {
    "duration": 9,
    "start_time": "2024-12-05T04:04:42.513Z"
   },
   {
    "duration": 47,
    "start_time": "2024-12-05T04:04:42.523Z"
   },
   {
    "duration": 8,
    "start_time": "2024-12-05T04:04:42.571Z"
   },
   {
    "duration": 3,
    "start_time": "2024-12-05T04:04:42.580Z"
   },
   {
    "duration": 4,
    "start_time": "2024-12-05T04:04:42.584Z"
   },
   {
    "duration": 1019,
    "start_time": "2024-12-05T04:04:42.590Z"
   },
   {
    "duration": 0,
    "start_time": "2024-12-05T04:04:43.611Z"
   },
   {
    "duration": 0,
    "start_time": "2024-12-05T04:04:43.612Z"
   },
   {
    "duration": 0,
    "start_time": "2024-12-05T04:04:43.614Z"
   },
   {
    "duration": 0,
    "start_time": "2024-12-05T04:04:43.615Z"
   },
   {
    "duration": 0,
    "start_time": "2024-12-05T04:04:43.616Z"
   },
   {
    "duration": 0,
    "start_time": "2024-12-05T04:04:43.617Z"
   },
   {
    "duration": 0,
    "start_time": "2024-12-05T04:04:43.618Z"
   },
   {
    "duration": 0,
    "start_time": "2024-12-05T04:04:43.619Z"
   },
   {
    "duration": 1,
    "start_time": "2024-12-05T04:04:43.620Z"
   },
   {
    "duration": 0,
    "start_time": "2024-12-05T04:04:43.622Z"
   },
   {
    "duration": 0,
    "start_time": "2024-12-05T04:04:43.623Z"
   },
   {
    "duration": 1095,
    "start_time": "2024-12-05T04:06:23.675Z"
   },
   {
    "duration": 494,
    "start_time": "2024-12-05T04:06:24.772Z"
   },
   {
    "duration": 19,
    "start_time": "2024-12-05T04:06:25.268Z"
   },
   {
    "duration": 19,
    "start_time": "2024-12-05T04:06:25.290Z"
   },
   {
    "duration": 23,
    "start_time": "2024-12-05T04:06:25.311Z"
   },
   {
    "duration": 5,
    "start_time": "2024-12-05T04:06:25.336Z"
   },
   {
    "duration": 5,
    "start_time": "2024-12-05T04:06:25.370Z"
   },
   {
    "duration": 4,
    "start_time": "2024-12-05T04:06:25.377Z"
   },
   {
    "duration": 4,
    "start_time": "2024-12-05T04:06:25.383Z"
   },
   {
    "duration": 3,
    "start_time": "2024-12-05T04:06:25.391Z"
   },
   {
    "duration": 4,
    "start_time": "2024-12-05T04:06:25.395Z"
   },
   {
    "duration": 13,
    "start_time": "2024-12-05T04:06:25.401Z"
   },
   {
    "duration": 3,
    "start_time": "2024-12-05T04:06:25.416Z"
   },
   {
    "duration": 50,
    "start_time": "2024-12-05T04:06:25.420Z"
   },
   {
    "duration": 6,
    "start_time": "2024-12-05T04:06:25.472Z"
   },
   {
    "duration": 9,
    "start_time": "2024-12-05T04:06:25.480Z"
   },
   {
    "duration": 2,
    "start_time": "2024-12-05T04:06:25.491Z"
   },
   {
    "duration": 84,
    "start_time": "2024-12-05T04:06:25.495Z"
   },
   {
    "duration": 18,
    "start_time": "2024-12-05T04:06:25.582Z"
   },
   {
    "duration": 101,
    "start_time": "2024-12-05T04:06:25.602Z"
   },
   {
    "duration": 3,
    "start_time": "2024-12-05T04:06:25.705Z"
   },
   {
    "duration": 13,
    "start_time": "2024-12-05T04:06:25.709Z"
   },
   {
    "duration": 7,
    "start_time": "2024-12-05T04:06:25.724Z"
   },
   {
    "duration": 37,
    "start_time": "2024-12-05T04:06:25.733Z"
   },
   {
    "duration": 6,
    "start_time": "2024-12-05T04:06:25.772Z"
   },
   {
    "duration": 12,
    "start_time": "2024-12-05T04:06:25.780Z"
   },
   {
    "duration": 16,
    "start_time": "2024-12-05T04:06:25.794Z"
   },
   {
    "duration": 7,
    "start_time": "2024-12-05T04:06:25.815Z"
   },
   {
    "duration": 135,
    "start_time": "2024-12-05T04:06:25.824Z"
   },
   {
    "duration": 118,
    "start_time": "2024-12-05T04:06:25.961Z"
   },
   {
    "duration": 102,
    "start_time": "2024-12-05T04:06:26.081Z"
   },
   {
    "duration": 5,
    "start_time": "2024-12-05T04:06:26.185Z"
   },
   {
    "duration": 4,
    "start_time": "2024-12-05T04:06:26.192Z"
   },
   {
    "duration": 798,
    "start_time": "2024-12-05T04:06:26.197Z"
   },
   {
    "duration": 1073,
    "start_time": "2024-12-05T04:06:26.998Z"
   },
   {
    "duration": 7,
    "start_time": "2024-12-05T04:06:28.073Z"
   },
   {
    "duration": 6,
    "start_time": "2024-12-05T04:06:28.081Z"
   },
   {
    "duration": 5,
    "start_time": "2024-12-05T04:06:28.089Z"
   },
   {
    "duration": 11,
    "start_time": "2024-12-05T04:06:28.096Z"
   },
   {
    "duration": 6,
    "start_time": "2024-12-05T04:06:28.109Z"
   },
   {
    "duration": 4,
    "start_time": "2024-12-05T04:06:28.118Z"
   },
   {
    "duration": 4,
    "start_time": "2024-12-05T04:06:28.124Z"
   },
   {
    "duration": 4,
    "start_time": "2024-12-05T04:06:28.129Z"
   },
   {
    "duration": 37,
    "start_time": "2024-12-05T04:06:28.135Z"
   },
   {
    "duration": 3,
    "start_time": "2024-12-05T04:06:28.174Z"
   },
   {
    "duration": 4,
    "start_time": "2024-12-05T04:06:28.179Z"
   },
   {
    "duration": 111,
    "start_time": "2024-12-05T04:06:28.185Z"
   },
   {
    "duration": 173,
    "start_time": "2024-12-05T04:06:28.298Z"
   },
   {
    "duration": 120,
    "start_time": "2024-12-05T04:06:28.473Z"
   },
   {
    "duration": 6,
    "start_time": "2024-12-05T04:06:28.595Z"
   },
   {
    "duration": 5,
    "start_time": "2024-12-05T04:06:28.602Z"
   },
   {
    "duration": 5,
    "start_time": "2024-12-05T04:06:28.609Z"
   },
   {
    "duration": 8,
    "start_time": "2024-12-05T04:06:28.615Z"
   },
   {
    "duration": 4,
    "start_time": "2024-12-05T04:06:28.624Z"
   },
   {
    "duration": 47,
    "start_time": "2024-12-05T04:06:28.629Z"
   },
   {
    "duration": 11,
    "start_time": "2024-12-05T04:06:28.678Z"
   },
   {
    "duration": 10,
    "start_time": "2024-12-05T04:06:28.691Z"
   },
   {
    "duration": 9,
    "start_time": "2024-12-05T04:06:28.703Z"
   },
   {
    "duration": 12,
    "start_time": "2024-12-05T04:06:28.714Z"
   },
   {
    "duration": 43,
    "start_time": "2024-12-05T04:06:28.727Z"
   },
   {
    "duration": 13,
    "start_time": "2024-12-05T04:06:28.771Z"
   },
   {
    "duration": 8,
    "start_time": "2024-12-05T04:06:28.785Z"
   },
   {
    "duration": 2,
    "start_time": "2024-12-05T04:06:28.794Z"
   },
   {
    "duration": 4,
    "start_time": "2024-12-05T04:06:28.798Z"
   },
   {
    "duration": 5,
    "start_time": "2024-12-05T04:06:28.803Z"
   },
   {
    "duration": 0,
    "start_time": "2024-12-05T04:06:28.810Z"
   },
   {
    "duration": 0,
    "start_time": "2024-12-05T04:06:28.811Z"
   },
   {
    "duration": 0,
    "start_time": "2024-12-05T04:06:28.813Z"
   },
   {
    "duration": 0,
    "start_time": "2024-12-05T04:06:28.814Z"
   },
   {
    "duration": 0,
    "start_time": "2024-12-05T04:06:28.816Z"
   },
   {
    "duration": 0,
    "start_time": "2024-12-05T04:06:28.817Z"
   },
   {
    "duration": 0,
    "start_time": "2024-12-05T04:06:28.819Z"
   },
   {
    "duration": 0,
    "start_time": "2024-12-05T04:06:28.820Z"
   },
   {
    "duration": 0,
    "start_time": "2024-12-05T04:06:28.821Z"
   },
   {
    "duration": 0,
    "start_time": "2024-12-05T04:06:28.870Z"
   },
   {
    "duration": 0,
    "start_time": "2024-12-05T04:06:28.871Z"
   },
   {
    "duration": 1126,
    "start_time": "2024-12-05T04:07:10.587Z"
   },
   {
    "duration": 507,
    "start_time": "2024-12-05T04:07:11.716Z"
   },
   {
    "duration": 20,
    "start_time": "2024-12-05T04:07:12.225Z"
   },
   {
    "duration": 24,
    "start_time": "2024-12-05T04:07:12.248Z"
   },
   {
    "duration": 34,
    "start_time": "2024-12-05T04:07:12.274Z"
   },
   {
    "duration": 4,
    "start_time": "2024-12-05T04:07:12.310Z"
   },
   {
    "duration": 5,
    "start_time": "2024-12-05T04:07:12.315Z"
   },
   {
    "duration": 3,
    "start_time": "2024-12-05T04:07:12.322Z"
   },
   {
    "duration": 4,
    "start_time": "2024-12-05T04:07:12.327Z"
   },
   {
    "duration": 3,
    "start_time": "2024-12-05T04:07:12.332Z"
   },
   {
    "duration": 4,
    "start_time": "2024-12-05T04:07:12.336Z"
   },
   {
    "duration": 40,
    "start_time": "2024-12-05T04:07:12.342Z"
   },
   {
    "duration": 2,
    "start_time": "2024-12-05T04:07:12.384Z"
   },
   {
    "duration": 9,
    "start_time": "2024-12-05T04:07:12.390Z"
   },
   {
    "duration": 6,
    "start_time": "2024-12-05T04:07:12.400Z"
   },
   {
    "duration": 9,
    "start_time": "2024-12-05T04:07:12.407Z"
   },
   {
    "duration": 3,
    "start_time": "2024-12-05T04:07:12.418Z"
   },
   {
    "duration": 95,
    "start_time": "2024-12-05T04:07:12.422Z"
   },
   {
    "duration": 18,
    "start_time": "2024-12-05T04:07:12.519Z"
   },
   {
    "duration": 98,
    "start_time": "2024-12-05T04:07:12.538Z"
   },
   {
    "duration": 2,
    "start_time": "2024-12-05T04:07:12.639Z"
   },
   {
    "duration": 13,
    "start_time": "2024-12-05T04:07:12.643Z"
   },
   {
    "duration": 8,
    "start_time": "2024-12-05T04:07:12.670Z"
   },
   {
    "duration": 16,
    "start_time": "2024-12-05T04:07:12.679Z"
   },
   {
    "duration": 6,
    "start_time": "2024-12-05T04:07:12.697Z"
   },
   {
    "duration": 13,
    "start_time": "2024-12-05T04:07:12.705Z"
   },
   {
    "duration": 15,
    "start_time": "2024-12-05T04:07:12.719Z"
   },
   {
    "duration": 39,
    "start_time": "2024-12-05T04:07:12.736Z"
   },
   {
    "duration": 114,
    "start_time": "2024-12-05T04:07:12.777Z"
   },
   {
    "duration": 117,
    "start_time": "2024-12-05T04:07:12.893Z"
   },
   {
    "duration": 108,
    "start_time": "2024-12-05T04:07:13.012Z"
   },
   {
    "duration": 5,
    "start_time": "2024-12-05T04:07:13.122Z"
   },
   {
    "duration": 4,
    "start_time": "2024-12-05T04:07:13.129Z"
   },
   {
    "duration": 814,
    "start_time": "2024-12-05T04:07:13.135Z"
   },
   {
    "duration": 1099,
    "start_time": "2024-12-05T04:07:13.951Z"
   },
   {
    "duration": 18,
    "start_time": "2024-12-05T04:07:15.052Z"
   },
   {
    "duration": 6,
    "start_time": "2024-12-05T04:07:15.072Z"
   },
   {
    "duration": 5,
    "start_time": "2024-12-05T04:07:15.079Z"
   },
   {
    "duration": 3,
    "start_time": "2024-12-05T04:07:15.086Z"
   },
   {
    "duration": 4,
    "start_time": "2024-12-05T04:07:15.091Z"
   },
   {
    "duration": 5,
    "start_time": "2024-12-05T04:07:15.100Z"
   },
   {
    "duration": 4,
    "start_time": "2024-12-05T04:07:15.106Z"
   },
   {
    "duration": 3,
    "start_time": "2024-12-05T04:07:15.112Z"
   },
   {
    "duration": 5,
    "start_time": "2024-12-05T04:07:15.116Z"
   },
   {
    "duration": 4,
    "start_time": "2024-12-05T04:07:15.122Z"
   },
   {
    "duration": 5,
    "start_time": "2024-12-05T04:07:15.171Z"
   },
   {
    "duration": 106,
    "start_time": "2024-12-05T04:07:15.178Z"
   },
   {
    "duration": 174,
    "start_time": "2024-12-05T04:07:15.286Z"
   },
   {
    "duration": 94,
    "start_time": "2024-12-05T04:07:15.462Z"
   },
   {
    "duration": 16,
    "start_time": "2024-12-05T04:07:15.558Z"
   },
   {
    "duration": 6,
    "start_time": "2024-12-05T04:07:15.575Z"
   },
   {
    "duration": 5,
    "start_time": "2024-12-05T04:07:15.583Z"
   },
   {
    "duration": 8,
    "start_time": "2024-12-05T04:07:15.590Z"
   },
   {
    "duration": 3,
    "start_time": "2024-12-05T04:07:15.599Z"
   },
   {
    "duration": 11,
    "start_time": "2024-12-05T04:07:15.604Z"
   },
   {
    "duration": 10,
    "start_time": "2024-12-05T04:07:15.617Z"
   },
   {
    "duration": 51,
    "start_time": "2024-12-05T04:07:15.629Z"
   },
   {
    "duration": 9,
    "start_time": "2024-12-05T04:07:15.682Z"
   },
   {
    "duration": 11,
    "start_time": "2024-12-05T04:07:15.693Z"
   },
   {
    "duration": 8,
    "start_time": "2024-12-05T04:07:15.706Z"
   },
   {
    "duration": 13,
    "start_time": "2024-12-05T04:07:15.715Z"
   },
   {
    "duration": 43,
    "start_time": "2024-12-05T04:07:15.730Z"
   },
   {
    "duration": 3,
    "start_time": "2024-12-05T04:07:15.775Z"
   },
   {
    "duration": 3,
    "start_time": "2024-12-05T04:07:15.780Z"
   },
   {
    "duration": 5,
    "start_time": "2024-12-05T04:07:15.785Z"
   },
   {
    "duration": 0,
    "start_time": "2024-12-05T04:07:15.792Z"
   },
   {
    "duration": 0,
    "start_time": "2024-12-05T04:07:15.793Z"
   },
   {
    "duration": 0,
    "start_time": "2024-12-05T04:07:15.794Z"
   },
   {
    "duration": 0,
    "start_time": "2024-12-05T04:07:15.795Z"
   },
   {
    "duration": 0,
    "start_time": "2024-12-05T04:07:15.796Z"
   },
   {
    "duration": 0,
    "start_time": "2024-12-05T04:07:15.798Z"
   },
   {
    "duration": 0,
    "start_time": "2024-12-05T04:07:15.799Z"
   },
   {
    "duration": 0,
    "start_time": "2024-12-05T04:07:15.801Z"
   },
   {
    "duration": 0,
    "start_time": "2024-12-05T04:07:15.802Z"
   },
   {
    "duration": 0,
    "start_time": "2024-12-05T04:07:15.804Z"
   },
   {
    "duration": 0,
    "start_time": "2024-12-05T04:07:15.805Z"
   },
   {
    "duration": 1088,
    "start_time": "2024-12-05T04:08:17.472Z"
   },
   {
    "duration": 541,
    "start_time": "2024-12-05T04:08:18.562Z"
   },
   {
    "duration": 18,
    "start_time": "2024-12-05T04:08:19.105Z"
   },
   {
    "duration": 16,
    "start_time": "2024-12-05T04:08:19.125Z"
   },
   {
    "duration": 39,
    "start_time": "2024-12-05T04:08:19.144Z"
   },
   {
    "duration": 4,
    "start_time": "2024-12-05T04:08:19.185Z"
   },
   {
    "duration": 4,
    "start_time": "2024-12-05T04:08:19.191Z"
   },
   {
    "duration": 3,
    "start_time": "2024-12-05T04:08:19.197Z"
   },
   {
    "duration": 5,
    "start_time": "2024-12-05T04:08:19.201Z"
   },
   {
    "duration": 3,
    "start_time": "2024-12-05T04:08:19.207Z"
   },
   {
    "duration": 4,
    "start_time": "2024-12-05T04:08:19.211Z"
   },
   {
    "duration": 13,
    "start_time": "2024-12-05T04:08:19.217Z"
   },
   {
    "duration": 3,
    "start_time": "2024-12-05T04:08:19.271Z"
   },
   {
    "duration": 8,
    "start_time": "2024-12-05T04:08:19.278Z"
   },
   {
    "duration": 6,
    "start_time": "2024-12-05T04:08:19.288Z"
   },
   {
    "duration": 10,
    "start_time": "2024-12-05T04:08:19.295Z"
   },
   {
    "duration": 3,
    "start_time": "2024-12-05T04:08:19.306Z"
   },
   {
    "duration": 88,
    "start_time": "2024-12-05T04:08:19.311Z"
   },
   {
    "duration": 18,
    "start_time": "2024-12-05T04:08:19.401Z"
   },
   {
    "duration": 99,
    "start_time": "2024-12-05T04:08:19.420Z"
   },
   {
    "duration": 3,
    "start_time": "2024-12-05T04:08:19.520Z"
   },
   {
    "duration": 12,
    "start_time": "2024-12-05T04:08:19.525Z"
   },
   {
    "duration": 7,
    "start_time": "2024-12-05T04:08:19.539Z"
   },
   {
    "duration": 35,
    "start_time": "2024-12-05T04:08:19.548Z"
   },
   {
    "duration": 7,
    "start_time": "2024-12-05T04:08:19.585Z"
   },
   {
    "duration": 12,
    "start_time": "2024-12-05T04:08:19.594Z"
   },
   {
    "duration": 15,
    "start_time": "2024-12-05T04:08:19.608Z"
   },
   {
    "duration": 6,
    "start_time": "2024-12-05T04:08:19.624Z"
   },
   {
    "duration": 145,
    "start_time": "2024-12-05T04:08:19.631Z"
   },
   {
    "duration": 118,
    "start_time": "2024-12-05T04:08:19.778Z"
   },
   {
    "duration": 106,
    "start_time": "2024-12-05T04:08:19.898Z"
   },
   {
    "duration": 5,
    "start_time": "2024-12-05T04:08:20.005Z"
   },
   {
    "duration": 4,
    "start_time": "2024-12-05T04:08:20.013Z"
   },
   {
    "duration": 752,
    "start_time": "2024-12-05T04:08:20.019Z"
   },
   {
    "duration": 1110,
    "start_time": "2024-12-05T04:08:20.772Z"
   },
   {
    "duration": 7,
    "start_time": "2024-12-05T04:08:21.884Z"
   },
   {
    "duration": 7,
    "start_time": "2024-12-05T04:08:21.893Z"
   },
   {
    "duration": 4,
    "start_time": "2024-12-05T04:08:21.901Z"
   },
   {
    "duration": 3,
    "start_time": "2024-12-05T04:08:21.907Z"
   },
   {
    "duration": 5,
    "start_time": "2024-12-05T04:08:21.911Z"
   },
   {
    "duration": 4,
    "start_time": "2024-12-05T04:08:21.921Z"
   },
   {
    "duration": 46,
    "start_time": "2024-12-05T04:08:21.927Z"
   },
   {
    "duration": 5,
    "start_time": "2024-12-05T04:08:21.975Z"
   },
   {
    "duration": 5,
    "start_time": "2024-12-05T04:08:21.983Z"
   },
   {
    "duration": 3,
    "start_time": "2024-12-05T04:08:21.990Z"
   },
   {
    "duration": 3,
    "start_time": "2024-12-05T04:08:21.996Z"
   },
   {
    "duration": 123,
    "start_time": "2024-12-05T04:08:22.001Z"
   },
   {
    "duration": 179,
    "start_time": "2024-12-05T04:08:22.126Z"
   },
   {
    "duration": 94,
    "start_time": "2024-12-05T04:08:22.307Z"
   },
   {
    "duration": 6,
    "start_time": "2024-12-05T04:08:22.403Z"
   },
   {
    "duration": 4,
    "start_time": "2024-12-05T04:08:22.411Z"
   },
   {
    "duration": 5,
    "start_time": "2024-12-05T04:08:22.416Z"
   },
   {
    "duration": 6,
    "start_time": "2024-12-05T04:08:22.424Z"
   },
   {
    "duration": 3,
    "start_time": "2024-12-05T04:08:22.432Z"
   },
   {
    "duration": 42,
    "start_time": "2024-12-05T04:08:22.437Z"
   },
   {
    "duration": 12,
    "start_time": "2024-12-05T04:08:22.480Z"
   },
   {
    "duration": 12,
    "start_time": "2024-12-05T04:08:22.493Z"
   },
   {
    "duration": 10,
    "start_time": "2024-12-05T04:08:22.506Z"
   },
   {
    "duration": 10,
    "start_time": "2024-12-05T04:08:22.518Z"
   },
   {
    "duration": 42,
    "start_time": "2024-12-05T04:08:22.530Z"
   },
   {
    "duration": 13,
    "start_time": "2024-12-05T04:08:22.574Z"
   },
   {
    "duration": 8,
    "start_time": "2024-12-05T04:08:22.588Z"
   },
   {
    "duration": 3,
    "start_time": "2024-12-05T04:08:22.597Z"
   },
   {
    "duration": 4,
    "start_time": "2024-12-05T04:08:22.601Z"
   },
   {
    "duration": 1046,
    "start_time": "2024-12-05T04:08:22.606Z"
   },
   {
    "duration": 0,
    "start_time": "2024-12-05T04:08:23.654Z"
   },
   {
    "duration": 0,
    "start_time": "2024-12-05T04:08:23.655Z"
   },
   {
    "duration": 0,
    "start_time": "2024-12-05T04:08:23.656Z"
   },
   {
    "duration": 0,
    "start_time": "2024-12-05T04:08:23.657Z"
   },
   {
    "duration": 0,
    "start_time": "2024-12-05T04:08:23.658Z"
   },
   {
    "duration": 0,
    "start_time": "2024-12-05T04:08:23.670Z"
   },
   {
    "duration": 0,
    "start_time": "2024-12-05T04:08:23.671Z"
   },
   {
    "duration": 0,
    "start_time": "2024-12-05T04:08:23.671Z"
   },
   {
    "duration": 0,
    "start_time": "2024-12-05T04:08:23.673Z"
   },
   {
    "duration": 0,
    "start_time": "2024-12-05T04:08:23.674Z"
   },
   {
    "duration": 0,
    "start_time": "2024-12-05T04:08:23.675Z"
   },
   {
    "duration": 1045,
    "start_time": "2024-12-05T04:11:23.929Z"
   },
   {
    "duration": 498,
    "start_time": "2024-12-05T04:11:24.978Z"
   },
   {
    "duration": 19,
    "start_time": "2024-12-05T04:11:25.478Z"
   },
   {
    "duration": 16,
    "start_time": "2024-12-05T04:11:25.500Z"
   },
   {
    "duration": 20,
    "start_time": "2024-12-05T04:11:25.518Z"
   },
   {
    "duration": 30,
    "start_time": "2024-12-05T04:11:25.540Z"
   },
   {
    "duration": 5,
    "start_time": "2024-12-05T04:11:25.571Z"
   },
   {
    "duration": 3,
    "start_time": "2024-12-05T04:11:25.579Z"
   },
   {
    "duration": 5,
    "start_time": "2024-12-05T04:11:25.584Z"
   },
   {
    "duration": 3,
    "start_time": "2024-12-05T04:11:25.591Z"
   },
   {
    "duration": 4,
    "start_time": "2024-12-05T04:11:25.595Z"
   },
   {
    "duration": 13,
    "start_time": "2024-12-05T04:11:25.601Z"
   },
   {
    "duration": 2,
    "start_time": "2024-12-05T04:11:25.616Z"
   },
   {
    "duration": 53,
    "start_time": "2024-12-05T04:11:25.622Z"
   },
   {
    "duration": 6,
    "start_time": "2024-12-05T04:11:25.677Z"
   },
   {
    "duration": 11,
    "start_time": "2024-12-05T04:11:25.685Z"
   },
   {
    "duration": 3,
    "start_time": "2024-12-05T04:11:25.698Z"
   },
   {
    "duration": 81,
    "start_time": "2024-12-05T04:11:25.703Z"
   },
   {
    "duration": 18,
    "start_time": "2024-12-05T04:11:25.785Z"
   },
   {
    "duration": 98,
    "start_time": "2024-12-05T04:11:25.805Z"
   },
   {
    "duration": 4,
    "start_time": "2024-12-05T04:11:25.905Z"
   },
   {
    "duration": 15,
    "start_time": "2024-12-05T04:11:25.911Z"
   },
   {
    "duration": 6,
    "start_time": "2024-12-05T04:11:25.928Z"
   },
   {
    "duration": 36,
    "start_time": "2024-12-05T04:11:25.936Z"
   },
   {
    "duration": 7,
    "start_time": "2024-12-05T04:11:25.974Z"
   },
   {
    "duration": 13,
    "start_time": "2024-12-05T04:11:25.982Z"
   },
   {
    "duration": 14,
    "start_time": "2024-12-05T04:11:25.997Z"
   },
   {
    "duration": 6,
    "start_time": "2024-12-05T04:11:26.014Z"
   },
   {
    "duration": 133,
    "start_time": "2024-12-05T04:11:26.022Z"
   },
   {
    "duration": 116,
    "start_time": "2024-12-05T04:11:26.157Z"
   },
   {
    "duration": 114,
    "start_time": "2024-12-05T04:11:26.275Z"
   },
   {
    "duration": 5,
    "start_time": "2024-12-05T04:11:26.391Z"
   },
   {
    "duration": 4,
    "start_time": "2024-12-05T04:11:26.398Z"
   },
   {
    "duration": 889,
    "start_time": "2024-12-05T04:11:26.403Z"
   },
   {
    "duration": 1076,
    "start_time": "2024-12-05T04:11:27.295Z"
   },
   {
    "duration": 7,
    "start_time": "2024-12-05T04:11:28.373Z"
   },
   {
    "duration": 6,
    "start_time": "2024-12-05T04:11:28.381Z"
   },
   {
    "duration": 4,
    "start_time": "2024-12-05T04:11:28.388Z"
   },
   {
    "duration": 3,
    "start_time": "2024-12-05T04:11:28.394Z"
   },
   {
    "duration": 5,
    "start_time": "2024-12-05T04:11:28.398Z"
   },
   {
    "duration": 4,
    "start_time": "2024-12-05T04:11:28.409Z"
   },
   {
    "duration": 4,
    "start_time": "2024-12-05T04:11:28.415Z"
   },
   {
    "duration": 3,
    "start_time": "2024-12-05T04:11:28.421Z"
   },
   {
    "duration": 46,
    "start_time": "2024-12-05T04:11:28.426Z"
   },
   {
    "duration": 4,
    "start_time": "2024-12-05T04:11:28.474Z"
   },
   {
    "duration": 4,
    "start_time": "2024-12-05T04:11:28.479Z"
   },
   {
    "duration": 114,
    "start_time": "2024-12-05T04:11:28.484Z"
   },
   {
    "duration": 178,
    "start_time": "2024-12-05T04:11:28.600Z"
   },
   {
    "duration": 92,
    "start_time": "2024-12-05T04:11:28.780Z"
   },
   {
    "duration": 6,
    "start_time": "2024-12-05T04:11:28.874Z"
   },
   {
    "duration": 6,
    "start_time": "2024-12-05T04:11:28.882Z"
   },
   {
    "duration": 6,
    "start_time": "2024-12-05T04:11:28.890Z"
   },
   {
    "duration": 9,
    "start_time": "2024-12-05T04:11:28.898Z"
   },
   {
    "duration": 5,
    "start_time": "2024-12-05T04:11:28.909Z"
   },
   {
    "duration": 14,
    "start_time": "2024-12-05T04:11:28.916Z"
   },
   {
    "duration": 49,
    "start_time": "2024-12-05T04:11:28.931Z"
   },
   {
    "duration": 10,
    "start_time": "2024-12-05T04:11:28.981Z"
   },
   {
    "duration": 9,
    "start_time": "2024-12-05T04:11:28.993Z"
   },
   {
    "duration": 11,
    "start_time": "2024-12-05T04:11:29.003Z"
   },
   {
    "duration": 8,
    "start_time": "2024-12-05T04:11:29.015Z"
   },
   {
    "duration": 46,
    "start_time": "2024-12-05T04:11:29.024Z"
   },
   {
    "duration": 8,
    "start_time": "2024-12-05T04:11:29.072Z"
   },
   {
    "duration": 2,
    "start_time": "2024-12-05T04:11:29.082Z"
   },
   {
    "duration": 4,
    "start_time": "2024-12-05T04:11:29.086Z"
   },
   {
    "duration": 11,
    "start_time": "2024-12-05T04:11:29.091Z"
   },
   {
    "duration": 3,
    "start_time": "2024-12-05T04:11:29.103Z"
   },
   {
    "duration": 263,
    "start_time": "2024-12-05T04:11:29.108Z"
   },
   {
    "duration": 0,
    "start_time": "2024-12-05T04:11:29.373Z"
   },
   {
    "duration": 0,
    "start_time": "2024-12-05T04:11:29.374Z"
   },
   {
    "duration": 0,
    "start_time": "2024-12-05T04:11:29.375Z"
   },
   {
    "duration": 0,
    "start_time": "2024-12-05T04:11:29.376Z"
   },
   {
    "duration": 0,
    "start_time": "2024-12-05T04:11:29.377Z"
   },
   {
    "duration": 0,
    "start_time": "2024-12-05T04:11:29.378Z"
   },
   {
    "duration": 0,
    "start_time": "2024-12-05T04:11:29.378Z"
   },
   {
    "duration": 0,
    "start_time": "2024-12-05T04:11:29.379Z"
   },
   {
    "duration": 0,
    "start_time": "2024-12-05T04:11:29.381Z"
   },
   {
    "duration": 11,
    "start_time": "2024-12-05T04:12:14.312Z"
   },
   {
    "duration": 138,
    "start_time": "2024-12-05T04:13:00.022Z"
   },
   {
    "duration": 457,
    "start_time": "2024-12-05T04:14:41.218Z"
   },
   {
    "duration": 4252,
    "start_time": "2024-12-05T04:14:52.356Z"
   },
   {
    "duration": 253547,
    "start_time": "2024-12-05T04:15:08.426Z"
   },
   {
    "duration": 67091,
    "start_time": "2024-12-05T04:20:50.268Z"
   },
   {
    "duration": 84,
    "start_time": "2024-12-05T04:23:13.197Z"
   },
   {
    "duration": 6,
    "start_time": "2024-12-05T04:33:45.979Z"
   },
   {
    "duration": 13,
    "start_time": "2024-12-05T04:34:06.692Z"
   },
   {
    "duration": 4,
    "start_time": "2024-12-05T04:34:22.449Z"
   },
   {
    "duration": 15,
    "start_time": "2024-12-05T04:35:44.236Z"
   },
   {
    "duration": 6,
    "start_time": "2024-12-05T04:36:05.754Z"
   },
   {
    "duration": 13,
    "start_time": "2024-12-05T04:38:38.198Z"
   },
   {
    "duration": 14,
    "start_time": "2024-12-05T04:38:43.747Z"
   },
   {
    "duration": 4,
    "start_time": "2024-12-05T04:39:33.922Z"
   },
   {
    "duration": 201,
    "start_time": "2024-12-05T04:39:38.129Z"
   },
   {
    "duration": 24,
    "start_time": "2024-12-05T04:40:05.881Z"
   },
   {
    "duration": 3,
    "start_time": "2024-12-05T04:40:16.330Z"
   },
   {
    "duration": 13,
    "start_time": "2024-12-05T04:40:18.834Z"
   },
   {
    "duration": 4,
    "start_time": "2024-12-05T04:59:37.296Z"
   },
   {
    "duration": 1064,
    "start_time": "2024-12-05T05:01:35.829Z"
   },
   {
    "duration": 527,
    "start_time": "2024-12-05T05:01:36.895Z"
   },
   {
    "duration": 19,
    "start_time": "2024-12-05T05:01:37.423Z"
   },
   {
    "duration": 26,
    "start_time": "2024-12-05T05:01:37.445Z"
   },
   {
    "duration": 20,
    "start_time": "2024-12-05T05:01:37.472Z"
   },
   {
    "duration": 3,
    "start_time": "2024-12-05T05:01:37.494Z"
   },
   {
    "duration": 4,
    "start_time": "2024-12-05T05:01:37.499Z"
   },
   {
    "duration": 4,
    "start_time": "2024-12-05T05:01:37.505Z"
   },
   {
    "duration": 5,
    "start_time": "2024-12-05T05:01:37.511Z"
   },
   {
    "duration": 3,
    "start_time": "2024-12-05T05:01:37.519Z"
   },
   {
    "duration": 4,
    "start_time": "2024-12-05T05:01:37.523Z"
   },
   {
    "duration": 52,
    "start_time": "2024-12-05T05:01:37.529Z"
   },
   {
    "duration": 3,
    "start_time": "2024-12-05T05:01:37.583Z"
   },
   {
    "duration": 8,
    "start_time": "2024-12-05T05:01:37.588Z"
   },
   {
    "duration": 7,
    "start_time": "2024-12-05T05:01:37.597Z"
   },
   {
    "duration": 9,
    "start_time": "2024-12-05T05:01:37.606Z"
   },
   {
    "duration": 3,
    "start_time": "2024-12-05T05:01:37.616Z"
   },
   {
    "duration": 96,
    "start_time": "2024-12-05T05:01:37.621Z"
   },
   {
    "duration": 19,
    "start_time": "2024-12-05T05:01:37.719Z"
   },
   {
    "duration": 98,
    "start_time": "2024-12-05T05:01:37.739Z"
   },
   {
    "duration": 3,
    "start_time": "2024-12-05T05:01:37.838Z"
   },
   {
    "duration": 13,
    "start_time": "2024-12-05T05:01:37.842Z"
   },
   {
    "duration": 6,
    "start_time": "2024-12-05T05:01:37.870Z"
   },
   {
    "duration": 16,
    "start_time": "2024-12-05T05:01:37.878Z"
   },
   {
    "duration": 7,
    "start_time": "2024-12-05T05:01:37.895Z"
   },
   {
    "duration": 13,
    "start_time": "2024-12-05T05:01:37.903Z"
   },
   {
    "duration": 7,
    "start_time": "2024-12-05T05:01:37.917Z"
   },
   {
    "duration": 141,
    "start_time": "2024-12-05T05:01:37.928Z"
   },
   {
    "duration": 108,
    "start_time": "2024-12-05T05:01:38.071Z"
   },
   {
    "duration": 110,
    "start_time": "2024-12-05T05:01:38.181Z"
   },
   {
    "duration": 5,
    "start_time": "2024-12-05T05:01:38.292Z"
   },
   {
    "duration": 5,
    "start_time": "2024-12-05T05:01:38.299Z"
   },
   {
    "duration": 767,
    "start_time": "2024-12-05T05:01:38.306Z"
   },
   {
    "duration": 1092,
    "start_time": "2024-12-05T05:01:39.074Z"
   },
   {
    "duration": 7,
    "start_time": "2024-12-05T05:01:40.171Z"
   },
   {
    "duration": 7,
    "start_time": "2024-12-05T05:01:40.179Z"
   },
   {
    "duration": 4,
    "start_time": "2024-12-05T05:01:40.187Z"
   },
   {
    "duration": 3,
    "start_time": "2024-12-05T05:01:40.193Z"
   },
   {
    "duration": 5,
    "start_time": "2024-12-05T05:01:40.198Z"
   },
   {
    "duration": 5,
    "start_time": "2024-12-05T05:01:40.205Z"
   },
   {
    "duration": 5,
    "start_time": "2024-12-05T05:01:40.212Z"
   },
   {
    "duration": 4,
    "start_time": "2024-12-05T05:01:40.218Z"
   },
   {
    "duration": 45,
    "start_time": "2024-12-05T05:01:40.225Z"
   },
   {
    "duration": 4,
    "start_time": "2024-12-05T05:01:40.272Z"
   },
   {
    "duration": 4,
    "start_time": "2024-12-05T05:01:40.277Z"
   },
   {
    "duration": 110,
    "start_time": "2024-12-05T05:01:40.282Z"
   },
   {
    "duration": 177,
    "start_time": "2024-12-05T05:01:40.395Z"
   },
   {
    "duration": 83,
    "start_time": "2024-12-05T05:01:40.573Z"
   },
   {
    "duration": 14,
    "start_time": "2024-12-05T05:01:40.658Z"
   },
   {
    "duration": 4,
    "start_time": "2024-12-05T05:01:40.674Z"
   },
   {
    "duration": 5,
    "start_time": "2024-12-05T05:01:40.680Z"
   },
   {
    "duration": 8,
    "start_time": "2024-12-05T05:01:40.687Z"
   },
   {
    "duration": 4,
    "start_time": "2024-12-05T05:01:40.696Z"
   },
   {
    "duration": 11,
    "start_time": "2024-12-05T05:01:40.702Z"
   },
   {
    "duration": 10,
    "start_time": "2024-12-05T05:01:40.715Z"
   },
   {
    "duration": 52,
    "start_time": "2024-12-05T05:01:40.727Z"
   },
   {
    "duration": 9,
    "start_time": "2024-12-05T05:01:40.781Z"
   },
   {
    "duration": 12,
    "start_time": "2024-12-05T05:01:40.792Z"
   },
   {
    "duration": 8,
    "start_time": "2024-12-05T05:01:40.806Z"
   },
   {
    "duration": 12,
    "start_time": "2024-12-05T05:01:40.816Z"
   },
   {
    "duration": 42,
    "start_time": "2024-12-05T05:01:40.830Z"
   },
   {
    "duration": 2,
    "start_time": "2024-12-05T05:01:40.874Z"
   },
   {
    "duration": 4,
    "start_time": "2024-12-05T05:01:40.878Z"
   },
   {
    "duration": 7,
    "start_time": "2024-12-05T05:01:40.884Z"
   },
   {
    "duration": 995,
    "start_time": "2024-12-05T05:01:40.893Z"
   },
   {
    "duration": 0,
    "start_time": "2024-12-05T05:01:41.891Z"
   },
   {
    "duration": 0,
    "start_time": "2024-12-05T05:01:41.892Z"
   },
   {
    "duration": 0,
    "start_time": "2024-12-05T05:01:41.894Z"
   },
   {
    "duration": 0,
    "start_time": "2024-12-05T05:01:41.895Z"
   },
   {
    "duration": 0,
    "start_time": "2024-12-05T05:01:41.897Z"
   },
   {
    "duration": 0,
    "start_time": "2024-12-05T05:01:41.898Z"
   },
   {
    "duration": 0,
    "start_time": "2024-12-05T05:01:41.900Z"
   },
   {
    "duration": 0,
    "start_time": "2024-12-05T05:01:41.901Z"
   },
   {
    "duration": 0,
    "start_time": "2024-12-05T05:01:41.903Z"
   },
   {
    "duration": 0,
    "start_time": "2024-12-05T05:01:41.904Z"
   },
   {
    "duration": 0,
    "start_time": "2024-12-05T05:01:41.906Z"
   },
   {
    "duration": 0,
    "start_time": "2024-12-05T05:01:41.907Z"
   },
   {
    "duration": 0,
    "start_time": "2024-12-05T05:01:41.908Z"
   },
   {
    "duration": 27,
    "start_time": "2024-12-05T05:02:37.414Z"
   },
   {
    "duration": 26,
    "start_time": "2024-12-05T05:02:54.977Z"
   },
   {
    "duration": 21,
    "start_time": "2024-12-05T05:03:12.088Z"
   },
   {
    "duration": 4,
    "start_time": "2024-12-05T05:04:17.450Z"
   },
   {
    "duration": 11,
    "start_time": "2024-12-05T05:06:46.269Z"
   },
   {
    "duration": 15,
    "start_time": "2024-12-05T05:06:51.354Z"
   },
   {
    "duration": 5,
    "start_time": "2024-12-05T05:07:12.958Z"
   },
   {
    "duration": 477,
    "start_time": "2024-12-05T05:18:36.207Z"
   },
   {
    "duration": 4305,
    "start_time": "2024-12-05T05:18:43.993Z"
   },
   {
    "duration": 253790,
    "start_time": "2024-12-05T05:18:54.175Z"
   },
   {
    "duration": 5,
    "start_time": "2024-12-05T05:26:55.438Z"
   },
   {
    "duration": 16,
    "start_time": "2024-12-05T05:27:03.445Z"
   },
   {
    "duration": 4,
    "start_time": "2024-12-05T05:27:23.739Z"
   },
   {
    "duration": 16,
    "start_time": "2024-12-05T05:27:31.911Z"
   },
   {
    "duration": 205706,
    "start_time": "2024-12-05T05:27:39.000Z"
   },
   {
    "duration": 67198,
    "start_time": "2024-12-05T05:37:12.977Z"
   },
   {
    "duration": 3,
    "start_time": "2024-12-05T05:38:45.763Z"
   },
   {
    "duration": 3,
    "start_time": "2024-12-05T05:39:08.697Z"
   },
   {
    "duration": 13,
    "start_time": "2024-12-05T05:39:18.971Z"
   },
   {
    "duration": 5,
    "start_time": "2024-12-05T05:39:34.460Z"
   },
   {
    "duration": 26,
    "start_time": "2024-12-05T05:39:43.962Z"
   },
   {
    "duration": 2,
    "start_time": "2024-12-05T05:40:28.883Z"
   },
   {
    "duration": 4,
    "start_time": "2024-12-05T05:40:45.322Z"
   },
   {
    "duration": 1082,
    "start_time": "2024-12-05T05:41:43.183Z"
   },
   {
    "duration": 520,
    "start_time": "2024-12-05T05:41:44.267Z"
   },
   {
    "duration": 20,
    "start_time": "2024-12-05T05:41:44.789Z"
   },
   {
    "duration": 17,
    "start_time": "2024-12-05T05:41:44.811Z"
   },
   {
    "duration": 41,
    "start_time": "2024-12-05T05:41:44.830Z"
   },
   {
    "duration": 5,
    "start_time": "2024-12-05T05:41:44.872Z"
   },
   {
    "duration": 5,
    "start_time": "2024-12-05T05:41:44.879Z"
   },
   {
    "duration": 4,
    "start_time": "2024-12-05T05:41:44.885Z"
   },
   {
    "duration": 4,
    "start_time": "2024-12-05T05:41:44.891Z"
   },
   {
    "duration": 4,
    "start_time": "2024-12-05T05:41:44.896Z"
   },
   {
    "duration": 4,
    "start_time": "2024-12-05T05:41:44.901Z"
   },
   {
    "duration": 12,
    "start_time": "2024-12-05T05:41:44.908Z"
   },
   {
    "duration": 2,
    "start_time": "2024-12-05T05:41:44.922Z"
   },
   {
    "duration": 50,
    "start_time": "2024-12-05T05:41:44.927Z"
   },
   {
    "duration": 6,
    "start_time": "2024-12-05T05:41:44.978Z"
   },
   {
    "duration": 9,
    "start_time": "2024-12-05T05:41:44.985Z"
   },
   {
    "duration": 2,
    "start_time": "2024-12-05T05:41:44.996Z"
   },
   {
    "duration": 84,
    "start_time": "2024-12-05T05:41:45.000Z"
   },
   {
    "duration": 19,
    "start_time": "2024-12-05T05:41:45.086Z"
   },
   {
    "duration": 103,
    "start_time": "2024-12-05T05:41:45.106Z"
   },
   {
    "duration": 3,
    "start_time": "2024-12-05T05:41:45.211Z"
   },
   {
    "duration": 12,
    "start_time": "2024-12-05T05:41:45.216Z"
   },
   {
    "duration": 7,
    "start_time": "2024-12-05T05:41:45.230Z"
   },
   {
    "duration": 36,
    "start_time": "2024-12-05T05:41:45.240Z"
   },
   {
    "duration": 7,
    "start_time": "2024-12-05T05:41:45.277Z"
   },
   {
    "duration": 13,
    "start_time": "2024-12-05T05:41:45.286Z"
   },
   {
    "duration": 7,
    "start_time": "2024-12-05T05:41:45.300Z"
   },
   {
    "duration": 136,
    "start_time": "2024-12-05T05:41:45.308Z"
   },
   {
    "duration": 116,
    "start_time": "2024-12-05T05:41:45.445Z"
   },
   {
    "duration": 102,
    "start_time": "2024-12-05T05:41:45.569Z"
   },
   {
    "duration": 5,
    "start_time": "2024-12-05T05:41:45.673Z"
   },
   {
    "duration": 4,
    "start_time": "2024-12-05T05:41:45.679Z"
   },
   {
    "duration": 867,
    "start_time": "2024-12-05T05:41:45.684Z"
   },
   {
    "duration": 1121,
    "start_time": "2024-12-05T05:41:46.553Z"
   },
   {
    "duration": 7,
    "start_time": "2024-12-05T05:41:47.676Z"
   },
   {
    "duration": 6,
    "start_time": "2024-12-05T05:41:47.684Z"
   },
   {
    "duration": 5,
    "start_time": "2024-12-05T05:41:47.691Z"
   },
   {
    "duration": 3,
    "start_time": "2024-12-05T05:41:47.697Z"
   },
   {
    "duration": 5,
    "start_time": "2024-12-05T05:41:47.702Z"
   },
   {
    "duration": 5,
    "start_time": "2024-12-05T05:41:47.708Z"
   },
   {
    "duration": 6,
    "start_time": "2024-12-05T05:41:47.719Z"
   },
   {
    "duration": 45,
    "start_time": "2024-12-05T05:41:47.726Z"
   },
   {
    "duration": 4,
    "start_time": "2024-12-05T05:41:47.772Z"
   },
   {
    "duration": 4,
    "start_time": "2024-12-05T05:41:47.778Z"
   },
   {
    "duration": 5,
    "start_time": "2024-12-05T05:41:47.783Z"
   },
   {
    "duration": 115,
    "start_time": "2024-12-05T05:41:47.790Z"
   },
   {
    "duration": 175,
    "start_time": "2024-12-05T05:41:47.908Z"
   },
   {
    "duration": 92,
    "start_time": "2024-12-05T05:41:48.085Z"
   },
   {
    "duration": 5,
    "start_time": "2024-12-05T05:41:48.179Z"
   },
   {
    "duration": 4,
    "start_time": "2024-12-05T05:41:48.186Z"
   },
   {
    "duration": 5,
    "start_time": "2024-12-05T05:41:48.192Z"
   },
   {
    "duration": 7,
    "start_time": "2024-12-05T05:41:48.198Z"
   },
   {
    "duration": 4,
    "start_time": "2024-12-05T05:41:48.208Z"
   },
   {
    "duration": 11,
    "start_time": "2024-12-05T05:41:48.213Z"
   },
   {
    "duration": 47,
    "start_time": "2024-12-05T05:41:48.227Z"
   },
   {
    "duration": 11,
    "start_time": "2024-12-05T05:41:48.276Z"
   },
   {
    "duration": 11,
    "start_time": "2024-12-05T05:41:48.288Z"
   },
   {
    "duration": 10,
    "start_time": "2024-12-05T05:41:48.301Z"
   },
   {
    "duration": 8,
    "start_time": "2024-12-05T05:41:48.313Z"
   },
   {
    "duration": 49,
    "start_time": "2024-12-05T05:41:48.323Z"
   },
   {
    "duration": 9,
    "start_time": "2024-12-05T05:41:48.374Z"
   },
   {
    "duration": 2,
    "start_time": "2024-12-05T05:41:48.384Z"
   },
   {
    "duration": 4,
    "start_time": "2024-12-05T05:41:48.388Z"
   },
   {
    "duration": 8,
    "start_time": "2024-12-05T05:41:48.394Z"
   },
   {
    "duration": 26,
    "start_time": "2024-12-05T05:41:48.403Z"
   },
   {
    "duration": 11,
    "start_time": "2024-12-05T05:41:48.431Z"
   },
   {
    "duration": 608,
    "start_time": "2024-12-05T05:41:48.470Z"
   },
   {
    "duration": 4453,
    "start_time": "2024-12-05T05:41:49.080Z"
   },
   {
    "duration": 254963,
    "start_time": "2024-12-05T05:41:53.535Z"
   },
   {
    "duration": 67366,
    "start_time": "2024-12-05T05:46:08.500Z"
   },
   {
    "duration": 0,
    "start_time": "2024-12-05T05:47:15.870Z"
   },
   {
    "duration": 0,
    "start_time": "2024-12-05T05:47:15.872Z"
   },
   {
    "duration": 20,
    "start_time": "2024-12-05T05:48:20.723Z"
   },
   {
    "duration": 2,
    "start_time": "2024-12-05T05:49:01.114Z"
   },
   {
    "duration": 67483,
    "start_time": "2024-12-05T05:49:02.079Z"
   },
   {
    "duration": 7,
    "start_time": "2024-12-05T05:50:36.824Z"
   },
   {
    "duration": 5,
    "start_time": "2024-12-05T05:51:12.713Z"
   },
   {
    "duration": 3,
    "start_time": "2024-12-05T05:51:25.916Z"
   },
   {
    "duration": 18,
    "start_time": "2024-12-05T05:52:04.825Z"
   },
   {
    "duration": 13,
    "start_time": "2024-12-05T05:52:23.445Z"
   },
   {
    "duration": 7,
    "start_time": "2024-12-05T05:52:33.482Z"
   },
   {
    "duration": 13,
    "start_time": "2024-12-05T06:07:07.789Z"
   },
   {
    "duration": 4,
    "start_time": "2024-12-05T06:09:05.538Z"
   },
   {
    "duration": 1041,
    "start_time": "2024-12-05T06:16:37.720Z"
   },
   {
    "duration": 517,
    "start_time": "2024-12-05T06:16:38.763Z"
   },
   {
    "duration": 20,
    "start_time": "2024-12-05T06:16:39.281Z"
   },
   {
    "duration": 17,
    "start_time": "2024-12-05T06:16:39.302Z"
   },
   {
    "duration": 20,
    "start_time": "2024-12-05T06:16:39.321Z"
   },
   {
    "duration": 25,
    "start_time": "2024-12-05T06:16:39.345Z"
   },
   {
    "duration": 5,
    "start_time": "2024-12-05T06:16:39.372Z"
   },
   {
    "duration": 4,
    "start_time": "2024-12-05T06:16:39.379Z"
   },
   {
    "duration": 4,
    "start_time": "2024-12-05T06:16:39.384Z"
   },
   {
    "duration": 3,
    "start_time": "2024-12-05T06:16:39.390Z"
   },
   {
    "duration": 4,
    "start_time": "2024-12-05T06:16:39.394Z"
   },
   {
    "duration": 14,
    "start_time": "2024-12-05T06:16:39.399Z"
   },
   {
    "duration": 3,
    "start_time": "2024-12-05T06:16:39.414Z"
   },
   {
    "duration": 49,
    "start_time": "2024-12-05T06:16:39.421Z"
   },
   {
    "duration": 7,
    "start_time": "2024-12-05T06:16:39.471Z"
   },
   {
    "duration": 11,
    "start_time": "2024-12-05T06:16:39.479Z"
   },
   {
    "duration": 3,
    "start_time": "2024-12-05T06:16:39.491Z"
   },
   {
    "duration": 79,
    "start_time": "2024-12-05T06:16:39.495Z"
   },
   {
    "duration": 18,
    "start_time": "2024-12-05T06:16:39.576Z"
   },
   {
    "duration": 97,
    "start_time": "2024-12-05T06:16:39.595Z"
   },
   {
    "duration": 3,
    "start_time": "2024-12-05T06:16:39.694Z"
   },
   {
    "duration": 13,
    "start_time": "2024-12-05T06:16:39.698Z"
   },
   {
    "duration": 8,
    "start_time": "2024-12-05T06:16:39.712Z"
   },
   {
    "duration": 16,
    "start_time": "2024-12-05T06:16:39.722Z"
   },
   {
    "duration": 35,
    "start_time": "2024-12-05T06:16:39.740Z"
   },
   {
    "duration": 12,
    "start_time": "2024-12-05T06:16:39.777Z"
   },
   {
    "duration": 5,
    "start_time": "2024-12-05T06:16:39.791Z"
   },
   {
    "duration": 122,
    "start_time": "2024-12-05T06:16:39.797Z"
   },
   {
    "duration": 118,
    "start_time": "2024-12-05T06:16:39.921Z"
   },
   {
    "duration": 101,
    "start_time": "2024-12-05T06:16:40.041Z"
   },
   {
    "duration": 6,
    "start_time": "2024-12-05T06:16:40.144Z"
   },
   {
    "duration": 17,
    "start_time": "2024-12-05T06:16:40.152Z"
   },
   {
    "duration": 800,
    "start_time": "2024-12-05T06:16:40.171Z"
   },
   {
    "duration": 1094,
    "start_time": "2024-12-05T06:16:40.973Z"
   },
   {
    "duration": 7,
    "start_time": "2024-12-05T06:16:42.070Z"
   },
   {
    "duration": 6,
    "start_time": "2024-12-05T06:16:42.079Z"
   },
   {
    "duration": 4,
    "start_time": "2024-12-05T06:16:42.086Z"
   },
   {
    "duration": 3,
    "start_time": "2024-12-05T06:16:42.092Z"
   },
   {
    "duration": 5,
    "start_time": "2024-12-05T06:16:42.097Z"
   },
   {
    "duration": 5,
    "start_time": "2024-12-05T06:16:42.103Z"
   },
   {
    "duration": 4,
    "start_time": "2024-12-05T06:16:42.113Z"
   },
   {
    "duration": 5,
    "start_time": "2024-12-05T06:16:42.118Z"
   },
   {
    "duration": 46,
    "start_time": "2024-12-05T06:16:42.124Z"
   },
   {
    "duration": 4,
    "start_time": "2024-12-05T06:16:42.172Z"
   },
   {
    "duration": 4,
    "start_time": "2024-12-05T06:16:42.178Z"
   },
   {
    "duration": 110,
    "start_time": "2024-12-05T06:16:42.184Z"
   },
   {
    "duration": 170,
    "start_time": "2024-12-05T06:16:42.296Z"
   },
   {
    "duration": 84,
    "start_time": "2024-12-05T06:16:42.470Z"
   },
   {
    "duration": 17,
    "start_time": "2024-12-05T06:16:42.556Z"
   },
   {
    "duration": 5,
    "start_time": "2024-12-05T06:16:42.575Z"
   },
   {
    "duration": 5,
    "start_time": "2024-12-05T06:16:42.582Z"
   },
   {
    "duration": 7,
    "start_time": "2024-12-05T06:16:42.588Z"
   },
   {
    "duration": 4,
    "start_time": "2024-12-05T06:16:42.597Z"
   },
   {
    "duration": 13,
    "start_time": "2024-12-05T06:16:42.602Z"
   },
   {
    "duration": 11,
    "start_time": "2024-12-05T06:16:42.616Z"
   },
   {
    "duration": 11,
    "start_time": "2024-12-05T06:16:42.669Z"
   },
   {
    "duration": 9,
    "start_time": "2024-12-05T06:16:42.682Z"
   },
   {
    "duration": 12,
    "start_time": "2024-12-05T06:16:42.693Z"
   },
   {
    "duration": 8,
    "start_time": "2024-12-05T06:16:42.706Z"
   },
   {
    "duration": 12,
    "start_time": "2024-12-05T06:16:42.716Z"
   },
   {
    "duration": 41,
    "start_time": "2024-12-05T06:16:42.729Z"
   },
   {
    "duration": 3,
    "start_time": "2024-12-05T06:16:42.772Z"
   },
   {
    "duration": 19,
    "start_time": "2024-12-05T06:16:42.776Z"
   },
   {
    "duration": 6,
    "start_time": "2024-12-05T06:16:42.797Z"
   },
   {
    "duration": 10,
    "start_time": "2024-12-05T06:16:42.805Z"
   },
   {
    "duration": 255,
    "start_time": "2024-12-05T06:16:42.816Z"
   },
   {
    "duration": 0,
    "start_time": "2024-12-05T06:16:43.072Z"
   },
   {
    "duration": 0,
    "start_time": "2024-12-05T06:16:43.073Z"
   },
   {
    "duration": 0,
    "start_time": "2024-12-05T06:16:43.075Z"
   },
   {
    "duration": 0,
    "start_time": "2024-12-05T06:16:43.076Z"
   },
   {
    "duration": 0,
    "start_time": "2024-12-05T06:16:43.077Z"
   },
   {
    "duration": 0,
    "start_time": "2024-12-05T06:16:43.078Z"
   },
   {
    "duration": 0,
    "start_time": "2024-12-05T06:16:43.079Z"
   },
   {
    "duration": 0,
    "start_time": "2024-12-05T06:16:43.080Z"
   },
   {
    "duration": 0,
    "start_time": "2024-12-05T06:16:43.081Z"
   },
   {
    "duration": 0,
    "start_time": "2024-12-05T06:16:43.082Z"
   },
   {
    "duration": 3,
    "start_time": "2024-12-05T06:17:52.398Z"
   },
   {
    "duration": 10,
    "start_time": "2024-12-05T06:17:54.890Z"
   },
   {
    "duration": 613,
    "start_time": "2024-12-05T06:17:56.676Z"
   },
   {
    "duration": 4336,
    "start_time": "2024-12-05T06:18:00.909Z"
   },
   {
    "duration": 252266,
    "start_time": "2024-12-05T06:18:08.171Z"
   },
   {
    "duration": 2,
    "start_time": "2024-12-05T06:22:33.578Z"
   },
   {
    "duration": 11,
    "start_time": "2024-12-05T06:23:05.209Z"
   },
   {
    "duration": 66560,
    "start_time": "2024-12-05T06:30:13.311Z"
   },
   {
    "duration": 5,
    "start_time": "2024-12-05T06:31:45.078Z"
   },
   {
    "duration": 5,
    "start_time": "2024-12-05T06:38:50.184Z"
   },
   {
    "duration": 6,
    "start_time": "2024-12-05T06:40:44.398Z"
   },
   {
    "duration": 16,
    "start_time": "2024-12-05T06:42:57.214Z"
   },
   {
    "duration": 1080,
    "start_time": "2024-12-05T06:44:08.890Z"
   },
   {
    "duration": 499,
    "start_time": "2024-12-05T06:44:09.972Z"
   },
   {
    "duration": 19,
    "start_time": "2024-12-05T06:44:10.474Z"
   },
   {
    "duration": 18,
    "start_time": "2024-12-05T06:44:10.496Z"
   },
   {
    "duration": 19,
    "start_time": "2024-12-05T06:44:10.516Z"
   },
   {
    "duration": 5,
    "start_time": "2024-12-05T06:44:10.537Z"
   },
   {
    "duration": 28,
    "start_time": "2024-12-05T06:44:10.544Z"
   },
   {
    "duration": 4,
    "start_time": "2024-12-05T06:44:10.573Z"
   },
   {
    "duration": 4,
    "start_time": "2024-12-05T06:44:10.580Z"
   },
   {
    "duration": 3,
    "start_time": "2024-12-05T06:44:10.588Z"
   },
   {
    "duration": 4,
    "start_time": "2024-12-05T06:44:10.592Z"
   },
   {
    "duration": 13,
    "start_time": "2024-12-05T06:44:10.597Z"
   },
   {
    "duration": 3,
    "start_time": "2024-12-05T06:44:10.612Z"
   },
   {
    "duration": 9,
    "start_time": "2024-12-05T06:44:10.616Z"
   },
   {
    "duration": 46,
    "start_time": "2024-12-05T06:44:10.626Z"
   },
   {
    "duration": 10,
    "start_time": "2024-12-05T06:44:10.673Z"
   },
   {
    "duration": 3,
    "start_time": "2024-12-05T06:44:10.685Z"
   },
   {
    "duration": 59,
    "start_time": "2024-12-05T06:44:10.689Z"
   },
   {
    "duration": 35,
    "start_time": "2024-12-05T06:44:10.750Z"
   },
   {
    "duration": 93,
    "start_time": "2024-12-05T06:44:10.787Z"
   },
   {
    "duration": 3,
    "start_time": "2024-12-05T06:44:10.882Z"
   },
   {
    "duration": 13,
    "start_time": "2024-12-05T06:44:10.886Z"
   },
   {
    "duration": 7,
    "start_time": "2024-12-05T06:44:10.901Z"
   },
   {
    "duration": 15,
    "start_time": "2024-12-05T06:44:10.910Z"
   },
   {
    "duration": 6,
    "start_time": "2024-12-05T06:44:10.928Z"
   },
   {
    "duration": 42,
    "start_time": "2024-12-05T06:44:10.936Z"
   },
   {
    "duration": 7,
    "start_time": "2024-12-05T06:44:10.980Z"
   },
   {
    "duration": 124,
    "start_time": "2024-12-05T06:44:10.991Z"
   },
   {
    "duration": 114,
    "start_time": "2024-12-05T06:44:11.117Z"
   },
   {
    "duration": 104,
    "start_time": "2024-12-05T06:44:11.233Z"
   },
   {
    "duration": 5,
    "start_time": "2024-12-05T06:44:11.339Z"
   },
   {
    "duration": 5,
    "start_time": "2024-12-05T06:44:11.346Z"
   },
   {
    "duration": 834,
    "start_time": "2024-12-05T06:44:11.352Z"
   },
   {
    "duration": 1091,
    "start_time": "2024-12-05T06:44:12.187Z"
   },
   {
    "duration": 7,
    "start_time": "2024-12-05T06:44:13.280Z"
   },
   {
    "duration": 6,
    "start_time": "2024-12-05T06:44:13.289Z"
   },
   {
    "duration": 5,
    "start_time": "2024-12-05T06:44:13.296Z"
   },
   {
    "duration": 3,
    "start_time": "2024-12-05T06:44:13.303Z"
   },
   {
    "duration": 5,
    "start_time": "2024-12-05T06:44:13.307Z"
   },
   {
    "duration": 5,
    "start_time": "2024-12-05T06:44:13.314Z"
   },
   {
    "duration": 5,
    "start_time": "2024-12-05T06:44:13.321Z"
   },
   {
    "duration": 43,
    "start_time": "2024-12-05T06:44:13.328Z"
   },
   {
    "duration": 4,
    "start_time": "2024-12-05T06:44:13.373Z"
   },
   {
    "duration": 4,
    "start_time": "2024-12-05T06:44:13.378Z"
   },
   {
    "duration": 4,
    "start_time": "2024-12-05T06:44:13.383Z"
   },
   {
    "duration": 119,
    "start_time": "2024-12-05T06:44:13.389Z"
   },
   {
    "duration": 173,
    "start_time": "2024-12-05T06:44:13.509Z"
   },
   {
    "duration": 91,
    "start_time": "2024-12-05T06:44:13.684Z"
   },
   {
    "duration": 5,
    "start_time": "2024-12-05T06:44:13.777Z"
   },
   {
    "duration": 5,
    "start_time": "2024-12-05T06:44:13.783Z"
   },
   {
    "duration": 5,
    "start_time": "2024-12-05T06:44:13.789Z"
   },
   {
    "duration": 4,
    "start_time": "2024-12-05T06:44:13.796Z"
   },
   {
    "duration": 16,
    "start_time": "2024-12-05T06:44:13.802Z"
   },
   {
    "duration": 6,
    "start_time": "2024-12-05T06:44:13.820Z"
   },
   {
    "duration": 44,
    "start_time": "2024-12-05T06:44:13.828Z"
   },
   {
    "duration": 11,
    "start_time": "2024-12-05T06:44:13.874Z"
   },
   {
    "duration": 11,
    "start_time": "2024-12-05T06:44:13.887Z"
   },
   {
    "duration": 10,
    "start_time": "2024-12-05T06:44:13.899Z"
   },
   {
    "duration": 9,
    "start_time": "2024-12-05T06:44:13.911Z"
   },
   {
    "duration": 10,
    "start_time": "2024-12-05T06:44:13.922Z"
   },
   {
    "duration": 40,
    "start_time": "2024-12-05T06:44:13.934Z"
   },
   {
    "duration": 12,
    "start_time": "2024-12-05T06:44:13.975Z"
   },
   {
    "duration": 8,
    "start_time": "2024-12-05T06:44:13.988Z"
   },
   {
    "duration": 2,
    "start_time": "2024-12-05T06:44:13.998Z"
   },
   {
    "duration": 18,
    "start_time": "2024-12-05T06:44:14.002Z"
   },
   {
    "duration": 6,
    "start_time": "2024-12-05T06:44:14.021Z"
   },
   {
    "duration": 46,
    "start_time": "2024-12-05T06:44:14.030Z"
   },
   {
    "duration": 2,
    "start_time": "2024-12-05T06:44:14.078Z"
   },
   {
    "duration": 11,
    "start_time": "2024-12-05T06:44:14.082Z"
   },
   {
    "duration": 477,
    "start_time": "2024-12-05T06:44:14.094Z"
   },
   {
    "duration": 4340,
    "start_time": "2024-12-05T06:44:14.572Z"
   },
   {
    "duration": 1097,
    "start_time": "2024-12-05T06:46:22.566Z"
   },
   {
    "duration": 520,
    "start_time": "2024-12-05T06:46:23.665Z"
   },
   {
    "duration": 20,
    "start_time": "2024-12-05T06:46:24.187Z"
   },
   {
    "duration": 17,
    "start_time": "2024-12-05T06:46:24.209Z"
   },
   {
    "duration": 42,
    "start_time": "2024-12-05T06:46:24.228Z"
   },
   {
    "duration": 4,
    "start_time": "2024-12-05T06:46:24.272Z"
   },
   {
    "duration": 5,
    "start_time": "2024-12-05T06:46:24.277Z"
   },
   {
    "duration": 3,
    "start_time": "2024-12-05T06:46:24.284Z"
   },
   {
    "duration": 5,
    "start_time": "2024-12-05T06:46:24.289Z"
   },
   {
    "duration": 3,
    "start_time": "2024-12-05T06:46:24.297Z"
   },
   {
    "duration": 4,
    "start_time": "2024-12-05T06:46:24.301Z"
   },
   {
    "duration": 14,
    "start_time": "2024-12-05T06:46:24.307Z"
   },
   {
    "duration": 3,
    "start_time": "2024-12-05T06:46:24.322Z"
   },
   {
    "duration": 9,
    "start_time": "2024-12-05T06:46:24.370Z"
   },
   {
    "duration": 5,
    "start_time": "2024-12-05T06:46:24.381Z"
   },
   {
    "duration": 9,
    "start_time": "2024-12-05T06:46:24.388Z"
   },
   {
    "duration": 3,
    "start_time": "2024-12-05T06:46:24.398Z"
   },
   {
    "duration": 82,
    "start_time": "2024-12-05T06:46:24.402Z"
   },
   {
    "duration": 18,
    "start_time": "2024-12-05T06:46:24.486Z"
   },
   {
    "duration": 98,
    "start_time": "2024-12-05T06:46:24.506Z"
   },
   {
    "duration": 2,
    "start_time": "2024-12-05T06:46:24.606Z"
   },
   {
    "duration": 12,
    "start_time": "2024-12-05T06:46:24.610Z"
   },
   {
    "duration": 7,
    "start_time": "2024-12-05T06:46:24.624Z"
   },
   {
    "duration": 41,
    "start_time": "2024-12-05T06:46:24.633Z"
   },
   {
    "duration": 6,
    "start_time": "2024-12-05T06:46:24.676Z"
   },
   {
    "duration": 12,
    "start_time": "2024-12-05T06:46:24.684Z"
   },
   {
    "duration": 6,
    "start_time": "2024-12-05T06:46:24.698Z"
   },
   {
    "duration": 128,
    "start_time": "2024-12-05T06:46:24.708Z"
   },
   {
    "duration": 112,
    "start_time": "2024-12-05T06:46:24.838Z"
   },
   {
    "duration": 101,
    "start_time": "2024-12-05T06:46:24.952Z"
   },
   {
    "duration": 16,
    "start_time": "2024-12-05T06:46:25.055Z"
   },
   {
    "duration": 6,
    "start_time": "2024-12-05T06:46:25.072Z"
   },
   {
    "duration": 837,
    "start_time": "2024-12-05T06:46:25.079Z"
   },
   {
    "duration": 1067,
    "start_time": "2024-12-05T06:46:25.918Z"
   },
   {
    "duration": 7,
    "start_time": "2024-12-05T06:46:26.987Z"
   },
   {
    "duration": 7,
    "start_time": "2024-12-05T06:46:26.995Z"
   },
   {
    "duration": 5,
    "start_time": "2024-12-05T06:46:27.003Z"
   },
   {
    "duration": 3,
    "start_time": "2024-12-05T06:46:27.010Z"
   },
   {
    "duration": 6,
    "start_time": "2024-12-05T06:46:27.014Z"
   },
   {
    "duration": 5,
    "start_time": "2024-12-05T06:46:27.021Z"
   },
   {
    "duration": 44,
    "start_time": "2024-12-05T06:46:27.027Z"
   },
   {
    "duration": 4,
    "start_time": "2024-12-05T06:46:27.072Z"
   },
   {
    "duration": 4,
    "start_time": "2024-12-05T06:46:27.080Z"
   },
   {
    "duration": 5,
    "start_time": "2024-12-05T06:46:27.085Z"
   },
   {
    "duration": 4,
    "start_time": "2024-12-05T06:46:27.091Z"
   },
   {
    "duration": 125,
    "start_time": "2024-12-05T06:46:27.097Z"
   },
   {
    "duration": 178,
    "start_time": "2024-12-05T06:46:27.224Z"
   },
   {
    "duration": 93,
    "start_time": "2024-12-05T06:46:27.404Z"
   },
   {
    "duration": 5,
    "start_time": "2024-12-05T06:46:27.498Z"
   },
   {
    "duration": 5,
    "start_time": "2024-12-05T06:46:27.505Z"
   },
   {
    "duration": 4,
    "start_time": "2024-12-05T06:46:27.512Z"
   },
   {
    "duration": 5,
    "start_time": "2024-12-05T06:46:27.518Z"
   },
   {
    "duration": 4,
    "start_time": "2024-12-05T06:46:27.525Z"
   },
   {
    "duration": 44,
    "start_time": "2024-12-05T06:46:27.531Z"
   },
   {
    "duration": 4,
    "start_time": "2024-12-05T06:46:27.576Z"
   },
   {
    "duration": 11,
    "start_time": "2024-12-05T06:46:27.581Z"
   },
   {
    "duration": 11,
    "start_time": "2024-12-05T06:46:27.594Z"
   },
   {
    "duration": 11,
    "start_time": "2024-12-05T06:46:27.607Z"
   },
   {
    "duration": 9,
    "start_time": "2024-12-05T06:46:27.619Z"
   },
   {
    "duration": 48,
    "start_time": "2024-12-05T06:46:27.630Z"
   },
   {
    "duration": 8,
    "start_time": "2024-12-05T06:46:27.679Z"
   },
   {
    "duration": 12,
    "start_time": "2024-12-05T06:46:27.689Z"
   },
   {
    "duration": 8,
    "start_time": "2024-12-05T06:46:27.703Z"
   },
   {
    "duration": 2,
    "start_time": "2024-12-05T06:46:27.712Z"
   },
   {
    "duration": 20,
    "start_time": "2024-12-05T06:46:27.716Z"
   },
   {
    "duration": 36,
    "start_time": "2024-12-05T06:46:27.738Z"
   },
   {
    "duration": 11,
    "start_time": "2024-12-05T06:46:27.776Z"
   },
   {
    "duration": 3,
    "start_time": "2024-12-05T06:46:27.788Z"
   },
   {
    "duration": 10,
    "start_time": "2024-12-05T06:46:27.793Z"
   },
   {
    "duration": 481,
    "start_time": "2024-12-05T06:46:27.805Z"
   },
   {
    "duration": 4377,
    "start_time": "2024-12-05T06:46:28.288Z"
   },
   {
    "duration": 46094,
    "start_time": "2024-12-05T06:46:32.667Z"
   },
   {
    "duration": 0,
    "start_time": "2024-12-05T06:47:18.764Z"
   },
   {
    "duration": 0,
    "start_time": "2024-12-05T06:47:18.770Z"
   },
   {
    "duration": 0,
    "start_time": "2024-12-05T06:47:18.771Z"
   },
   {
    "duration": 0,
    "start_time": "2024-12-05T06:47:18.772Z"
   },
   {
    "duration": 0,
    "start_time": "2024-12-05T06:47:18.773Z"
   },
   {
    "duration": 0,
    "start_time": "2024-12-05T06:47:18.774Z"
   },
   {
    "duration": 0,
    "start_time": "2024-12-05T06:47:18.775Z"
   },
   {
    "duration": 0,
    "start_time": "2024-12-05T06:47:18.775Z"
   },
   {
    "duration": 0,
    "start_time": "2024-12-05T06:47:18.776Z"
   },
   {
    "duration": 15,
    "start_time": "2024-12-05T06:47:28.099Z"
   },
   {
    "duration": 4,
    "start_time": "2024-12-05T06:50:06.478Z"
   },
   {
    "duration": 5,
    "start_time": "2024-12-05T06:56:32.381Z"
   },
   {
    "duration": 258,
    "start_time": "2024-12-05T06:56:43.721Z"
   },
   {
    "duration": 1026,
    "start_time": "2024-12-05T06:56:57.735Z"
   },
   {
    "duration": 514,
    "start_time": "2024-12-05T06:56:58.762Z"
   },
   {
    "duration": 19,
    "start_time": "2024-12-05T06:56:59.278Z"
   },
   {
    "duration": 17,
    "start_time": "2024-12-05T06:56:59.300Z"
   },
   {
    "duration": 19,
    "start_time": "2024-12-05T06:56:59.318Z"
   },
   {
    "duration": 30,
    "start_time": "2024-12-05T06:56:59.340Z"
   },
   {
    "duration": 5,
    "start_time": "2024-12-05T06:56:59.372Z"
   },
   {
    "duration": 4,
    "start_time": "2024-12-05T06:56:59.378Z"
   },
   {
    "duration": 4,
    "start_time": "2024-12-05T06:56:59.384Z"
   },
   {
    "duration": 3,
    "start_time": "2024-12-05T06:56:59.391Z"
   },
   {
    "duration": 4,
    "start_time": "2024-12-05T06:56:59.395Z"
   },
   {
    "duration": 12,
    "start_time": "2024-12-05T06:56:59.401Z"
   },
   {
    "duration": 3,
    "start_time": "2024-12-05T06:56:59.415Z"
   },
   {
    "duration": 50,
    "start_time": "2024-12-05T06:56:59.420Z"
   },
   {
    "duration": 7,
    "start_time": "2024-12-05T06:56:59.471Z"
   },
   {
    "duration": 9,
    "start_time": "2024-12-05T06:56:59.479Z"
   },
   {
    "duration": 2,
    "start_time": "2024-12-05T06:56:59.490Z"
   },
   {
    "duration": 79,
    "start_time": "2024-12-05T06:56:59.494Z"
   },
   {
    "duration": 17,
    "start_time": "2024-12-05T06:56:59.575Z"
   },
   {
    "duration": 99,
    "start_time": "2024-12-05T06:56:59.594Z"
   },
   {
    "duration": 2,
    "start_time": "2024-12-05T06:56:59.696Z"
   },
   {
    "duration": 12,
    "start_time": "2024-12-05T06:56:59.700Z"
   },
   {
    "duration": 8,
    "start_time": "2024-12-05T06:56:59.714Z"
   },
   {
    "duration": 17,
    "start_time": "2024-12-05T06:56:59.724Z"
   },
   {
    "duration": 28,
    "start_time": "2024-12-05T06:56:59.742Z"
   },
   {
    "duration": 12,
    "start_time": "2024-12-05T06:56:59.772Z"
   },
   {
    "duration": 7,
    "start_time": "2024-12-05T06:56:59.785Z"
   },
   {
    "duration": 121,
    "start_time": "2024-12-05T06:56:59.796Z"
   },
   {
    "duration": 121,
    "start_time": "2024-12-05T06:56:59.919Z"
   },
   {
    "duration": 102,
    "start_time": "2024-12-05T06:57:00.041Z"
   },
   {
    "duration": 5,
    "start_time": "2024-12-05T06:57:00.145Z"
   },
   {
    "duration": 20,
    "start_time": "2024-12-05T06:57:00.151Z"
   },
   {
    "duration": 829,
    "start_time": "2024-12-05T06:57:00.172Z"
   },
   {
    "duration": 1091,
    "start_time": "2024-12-05T06:57:01.003Z"
   },
   {
    "duration": 7,
    "start_time": "2024-12-05T06:57:02.095Z"
   },
   {
    "duration": 6,
    "start_time": "2024-12-05T06:57:02.104Z"
   },
   {
    "duration": 5,
    "start_time": "2024-12-05T06:57:02.111Z"
   },
   {
    "duration": 2,
    "start_time": "2024-12-05T06:57:02.118Z"
   },
   {
    "duration": 5,
    "start_time": "2024-12-05T06:57:02.122Z"
   },
   {
    "duration": 5,
    "start_time": "2024-12-05T06:57:02.128Z"
   },
   {
    "duration": 38,
    "start_time": "2024-12-05T06:57:02.135Z"
   },
   {
    "duration": 3,
    "start_time": "2024-12-05T06:57:02.175Z"
   },
   {
    "duration": 4,
    "start_time": "2024-12-05T06:57:02.179Z"
   },
   {
    "duration": 4,
    "start_time": "2024-12-05T06:57:02.185Z"
   },
   {
    "duration": 4,
    "start_time": "2024-12-05T06:57:02.190Z"
   },
   {
    "duration": 119,
    "start_time": "2024-12-05T06:57:02.197Z"
   },
   {
    "duration": 174,
    "start_time": "2024-12-05T06:57:02.318Z"
   },
   {
    "duration": 93,
    "start_time": "2024-12-05T06:57:02.493Z"
   },
   {
    "duration": 22,
    "start_time": "2024-12-05T06:57:02.587Z"
   },
   {
    "duration": 5,
    "start_time": "2024-12-05T06:57:02.611Z"
   },
   {
    "duration": 6,
    "start_time": "2024-12-05T06:57:02.617Z"
   },
   {
    "duration": 7,
    "start_time": "2024-12-05T06:57:02.625Z"
   },
   {
    "duration": 5,
    "start_time": "2024-12-05T06:57:02.635Z"
   },
   {
    "duration": 7,
    "start_time": "2024-12-05T06:57:02.670Z"
   },
   {
    "duration": 3,
    "start_time": "2024-12-05T06:57:02.679Z"
   },
   {
    "duration": 11,
    "start_time": "2024-12-05T06:57:02.683Z"
   },
   {
    "duration": 11,
    "start_time": "2024-12-05T06:57:02.696Z"
   },
   {
    "duration": 11,
    "start_time": "2024-12-05T06:57:02.708Z"
   },
   {
    "duration": 10,
    "start_time": "2024-12-05T06:57:02.720Z"
   },
   {
    "duration": 47,
    "start_time": "2024-12-05T06:57:02.732Z"
   },
   {
    "duration": 8,
    "start_time": "2024-12-05T06:57:02.781Z"
   },
   {
    "duration": 12,
    "start_time": "2024-12-05T06:57:02.791Z"
   },
   {
    "duration": 8,
    "start_time": "2024-12-05T06:57:02.804Z"
   },
   {
    "duration": 3,
    "start_time": "2024-12-05T06:57:02.814Z"
   },
   {
    "duration": 53,
    "start_time": "2024-12-05T06:57:02.818Z"
   },
   {
    "duration": 7,
    "start_time": "2024-12-05T06:57:02.872Z"
   },
   {
    "duration": 10,
    "start_time": "2024-12-05T06:57:02.881Z"
   },
   {
    "duration": 3,
    "start_time": "2024-12-05T06:57:02.892Z"
   },
   {
    "duration": 11,
    "start_time": "2024-12-05T06:57:02.896Z"
   },
   {
    "duration": 570,
    "start_time": "2024-12-05T06:57:02.909Z"
   },
   {
    "duration": 4370,
    "start_time": "2024-12-05T06:57:03.484Z"
   },
   {
    "duration": 1105,
    "start_time": "2024-12-05T06:58:46.385Z"
   },
   {
    "duration": 503,
    "start_time": "2024-12-05T06:58:49.360Z"
   },
   {
    "duration": 20,
    "start_time": "2024-12-05T06:58:49.865Z"
   },
   {
    "duration": 16,
    "start_time": "2024-12-05T06:58:50.313Z"
   },
   {
    "duration": 20,
    "start_time": "2024-12-05T06:58:52.025Z"
   },
   {
    "duration": 4,
    "start_time": "2024-12-05T06:58:53.295Z"
   },
   {
    "duration": 5,
    "start_time": "2024-12-05T06:58:53.847Z"
   },
   {
    "duration": 4,
    "start_time": "2024-12-05T06:58:54.389Z"
   },
   {
    "duration": 4,
    "start_time": "2024-12-05T06:58:54.841Z"
   },
   {
    "duration": 3,
    "start_time": "2024-12-05T06:58:56.271Z"
   },
   {
    "duration": 3,
    "start_time": "2024-12-05T06:58:56.907Z"
   },
   {
    "duration": 13,
    "start_time": "2024-12-05T06:58:59.025Z"
   },
   {
    "duration": 3,
    "start_time": "2024-12-05T06:59:03.537Z"
   },
   {
    "duration": 9,
    "start_time": "2024-12-05T06:59:04.074Z"
   },
   {
    "duration": 7,
    "start_time": "2024-12-05T06:59:04.551Z"
   },
   {
    "duration": 11,
    "start_time": "2024-12-05T06:59:05.123Z"
   },
   {
    "duration": 2,
    "start_time": "2024-12-05T06:59:06.689Z"
   },
   {
    "duration": 59,
    "start_time": "2024-12-05T06:59:08.713Z"
   },
   {
    "duration": 19,
    "start_time": "2024-12-05T06:59:09.410Z"
   },
   {
    "duration": 85,
    "start_time": "2024-12-05T06:59:10.242Z"
   },
   {
    "duration": 3,
    "start_time": "2024-12-05T06:59:12.537Z"
   },
   {
    "duration": 13,
    "start_time": "2024-12-05T06:59:13.387Z"
   },
   {
    "duration": 7,
    "start_time": "2024-12-05T06:59:14.104Z"
   },
   {
    "duration": 15,
    "start_time": "2024-12-05T06:59:15.523Z"
   },
   {
    "duration": 7,
    "start_time": "2024-12-05T06:59:18.437Z"
   },
   {
    "duration": 12,
    "start_time": "2024-12-05T06:59:18.858Z"
   },
   {
    "duration": 6,
    "start_time": "2024-12-05T06:59:20.620Z"
   },
   {
    "duration": 102,
    "start_time": "2024-12-05T06:59:20.918Z"
   },
   {
    "duration": 105,
    "start_time": "2024-12-05T06:59:22.182Z"
   },
   {
    "duration": 93,
    "start_time": "2024-12-05T06:59:22.401Z"
   },
   {
    "duration": 5,
    "start_time": "2024-12-05T06:59:23.661Z"
   },
   {
    "duration": 4,
    "start_time": "2024-12-05T06:59:24.474Z"
   },
   {
    "duration": 810,
    "start_time": "2024-12-05T06:59:24.920Z"
   },
   {
    "duration": 1068,
    "start_time": "2024-12-05T06:59:25.732Z"
   },
   {
    "duration": 7,
    "start_time": "2024-12-05T06:59:26.803Z"
   },
   {
    "duration": 6,
    "start_time": "2024-12-05T06:59:26.811Z"
   },
   {
    "duration": 5,
    "start_time": "2024-12-05T06:59:27.934Z"
   },
   {
    "duration": 2,
    "start_time": "2024-12-05T06:59:28.910Z"
   },
   {
    "duration": 5,
    "start_time": "2024-12-05T06:59:31.035Z"
   },
   {
    "duration": 6,
    "start_time": "2024-12-05T06:59:31.545Z"
   },
   {
    "duration": 6,
    "start_time": "2024-12-05T06:59:31.804Z"
   },
   {
    "duration": 3,
    "start_time": "2024-12-05T06:59:32.296Z"
   },
   {
    "duration": 4,
    "start_time": "2024-12-05T06:59:33.204Z"
   },
   {
    "duration": 5,
    "start_time": "2024-12-05T06:59:33.755Z"
   },
   {
    "duration": 4,
    "start_time": "2024-12-05T06:59:34.300Z"
   },
   {
    "duration": 84,
    "start_time": "2024-12-05T06:59:35.105Z"
   },
   {
    "duration": 170,
    "start_time": "2024-12-05T06:59:35.519Z"
   },
   {
    "duration": 84,
    "start_time": "2024-12-05T06:59:36.077Z"
   },
   {
    "duration": 23,
    "start_time": "2024-12-05T06:59:37.664Z"
   },
   {
    "duration": 24,
    "start_time": "2024-12-05T07:00:04.841Z"
   },
   {
    "duration": 8,
    "start_time": "2024-12-05T07:01:21.930Z"
   },
   {
    "duration": 12,
    "start_time": "2024-12-05T07:01:34.403Z"
   },
   {
    "duration": 18,
    "start_time": "2024-12-05T07:02:04.859Z"
   },
   {
    "duration": 7,
    "start_time": "2024-12-05T07:02:25.770Z"
   },
   {
    "duration": 9,
    "start_time": "2024-12-05T07:03:05.068Z"
   },
   {
    "duration": 8,
    "start_time": "2024-12-05T07:03:29.012Z"
   },
   {
    "duration": 228,
    "start_time": "2024-12-05T07:03:39.737Z"
   },
   {
    "duration": 3,
    "start_time": "2024-12-05T07:03:44.727Z"
   },
   {
    "duration": 10,
    "start_time": "2024-12-05T07:03:47.891Z"
   },
   {
    "duration": 5,
    "start_time": "2024-12-05T07:04:07.275Z"
   },
   {
    "duration": 6,
    "start_time": "2024-12-05T07:04:32.778Z"
   },
   {
    "duration": 5,
    "start_time": "2024-12-05T07:04:34.019Z"
   },
   {
    "duration": 6,
    "start_time": "2024-12-05T07:05:14.249Z"
   },
   {
    "duration": 10,
    "start_time": "2024-12-05T07:05:21.179Z"
   },
   {
    "duration": 3,
    "start_time": "2024-12-05T07:05:34.198Z"
   },
   {
    "duration": 10,
    "start_time": "2024-12-05T07:05:37.694Z"
   },
   {
    "duration": 478,
    "start_time": "2024-12-05T07:06:04.114Z"
   },
   {
    "duration": 2867,
    "start_time": "2024-12-05T07:06:10.606Z"
   },
   {
    "duration": 168517,
    "start_time": "2024-12-05T07:06:16.118Z"
   },
   {
    "duration": 2,
    "start_time": "2024-12-05T07:09:13.985Z"
   },
   {
    "duration": 9,
    "start_time": "2024-12-05T07:09:17.152Z"
   },
   {
    "duration": 43458,
    "start_time": "2024-12-05T07:09:25.673Z"
   },
   {
    "duration": 5,
    "start_time": "2024-12-05T07:10:26.111Z"
   },
   {
    "duration": 2752,
    "start_time": "2024-12-05T19:24:14.637Z"
   },
   {
    "duration": 595,
    "start_time": "2024-12-05T19:24:17.392Z"
   },
   {
    "duration": 20,
    "start_time": "2024-12-05T19:24:17.988Z"
   },
   {
    "duration": 18,
    "start_time": "2024-12-05T19:24:18.011Z"
   },
   {
    "duration": 18,
    "start_time": "2024-12-05T19:24:18.030Z"
   },
   {
    "duration": 4,
    "start_time": "2024-12-05T19:24:18.050Z"
   },
   {
    "duration": 5,
    "start_time": "2024-12-05T19:24:18.055Z"
   },
   {
    "duration": 4,
    "start_time": "2024-12-05T19:24:18.061Z"
   },
   {
    "duration": 39,
    "start_time": "2024-12-05T19:24:18.066Z"
   },
   {
    "duration": 2,
    "start_time": "2024-12-05T19:24:18.108Z"
   },
   {
    "duration": 4,
    "start_time": "2024-12-05T19:24:18.111Z"
   },
   {
    "duration": 61,
    "start_time": "2024-12-05T19:24:18.116Z"
   },
   {
    "duration": 4,
    "start_time": "2024-12-05T19:24:18.179Z"
   },
   {
    "duration": 27,
    "start_time": "2024-12-05T19:24:18.185Z"
   },
   {
    "duration": 6,
    "start_time": "2024-12-05T19:24:18.213Z"
   },
   {
    "duration": 9,
    "start_time": "2024-12-05T19:24:18.221Z"
   },
   {
    "duration": 2,
    "start_time": "2024-12-05T19:24:18.232Z"
   },
   {
    "duration": 80,
    "start_time": "2024-12-05T19:24:18.236Z"
   },
   {
    "duration": 17,
    "start_time": "2024-12-05T19:24:18.319Z"
   },
   {
    "duration": 94,
    "start_time": "2024-12-05T19:24:18.338Z"
   },
   {
    "duration": 3,
    "start_time": "2024-12-05T19:24:18.434Z"
   },
   {
    "duration": 13,
    "start_time": "2024-12-05T19:24:18.439Z"
   },
   {
    "duration": 8,
    "start_time": "2024-12-05T19:24:18.454Z"
   },
   {
    "duration": 42,
    "start_time": "2024-12-05T19:24:18.463Z"
   },
   {
    "duration": 7,
    "start_time": "2024-12-05T19:24:18.507Z"
   },
   {
    "duration": 13,
    "start_time": "2024-12-05T19:24:18.516Z"
   },
   {
    "duration": 7,
    "start_time": "2024-12-05T19:24:18.531Z"
   },
   {
    "duration": 126,
    "start_time": "2024-12-05T19:24:18.542Z"
   },
   {
    "duration": 118,
    "start_time": "2024-12-05T19:24:18.670Z"
   },
   {
    "duration": 103,
    "start_time": "2024-12-05T19:24:18.790Z"
   },
   {
    "duration": 5,
    "start_time": "2024-12-05T19:24:18.906Z"
   },
   {
    "duration": 5,
    "start_time": "2024-12-05T19:24:18.913Z"
   },
   {
    "duration": 740,
    "start_time": "2024-12-05T19:24:18.919Z"
   },
   {
    "duration": 1135,
    "start_time": "2024-12-05T19:24:19.661Z"
   },
   {
    "duration": 8,
    "start_time": "2024-12-05T19:24:20.804Z"
   },
   {
    "duration": 7,
    "start_time": "2024-12-05T19:24:20.814Z"
   },
   {
    "duration": 5,
    "start_time": "2024-12-05T19:24:20.822Z"
   },
   {
    "duration": 3,
    "start_time": "2024-12-05T19:24:20.829Z"
   },
   {
    "duration": 5,
    "start_time": "2024-12-05T19:24:20.834Z"
   },
   {
    "duration": 5,
    "start_time": "2024-12-05T19:24:20.840Z"
   },
   {
    "duration": 5,
    "start_time": "2024-12-05T19:24:20.847Z"
   },
   {
    "duration": 3,
    "start_time": "2024-12-05T19:24:20.855Z"
   },
   {
    "duration": 45,
    "start_time": "2024-12-05T19:24:20.860Z"
   },
   {
    "duration": 5,
    "start_time": "2024-12-05T19:24:20.907Z"
   },
   {
    "duration": 4,
    "start_time": "2024-12-05T19:24:20.914Z"
   },
   {
    "duration": 105,
    "start_time": "2024-12-05T19:24:20.920Z"
   },
   {
    "duration": 86,
    "start_time": "2024-12-05T19:24:21.027Z"
   },
   {
    "duration": 92,
    "start_time": "2024-12-05T19:24:21.114Z"
   },
   {
    "duration": 22,
    "start_time": "2024-12-05T19:24:21.208Z"
   },
   {
    "duration": 8,
    "start_time": "2024-12-05T19:24:21.232Z"
   },
   {
    "duration": 5,
    "start_time": "2024-12-05T19:24:21.241Z"
   },
   {
    "duration": 5,
    "start_time": "2024-12-05T19:24:21.248Z"
   },
   {
    "duration": 5,
    "start_time": "2024-12-05T19:24:21.255Z"
   },
   {
    "duration": 6,
    "start_time": "2024-12-05T19:24:21.262Z"
   },
   {
    "duration": 9,
    "start_time": "2024-12-05T19:24:21.304Z"
   },
   {
    "duration": 5,
    "start_time": "2024-12-05T19:24:21.315Z"
   },
   {
    "duration": 7,
    "start_time": "2024-12-05T19:24:21.321Z"
   },
   {
    "duration": 3,
    "start_time": "2024-12-05T19:24:21.330Z"
   },
   {
    "duration": 11,
    "start_time": "2024-12-05T19:24:21.334Z"
   },
   {
    "duration": 9,
    "start_time": "2024-12-05T19:24:21.347Z"
   },
   {
    "duration": 9,
    "start_time": "2024-12-05T19:24:21.359Z"
   },
   {
    "duration": 45,
    "start_time": "2024-12-05T19:24:21.369Z"
   },
   {
    "duration": 11,
    "start_time": "2024-12-05T19:24:21.416Z"
   },
   {
    "duration": 19,
    "start_time": "2024-12-05T19:24:21.429Z"
   },
   {
    "duration": 7,
    "start_time": "2024-12-05T19:24:21.449Z"
   },
   {
    "duration": 5,
    "start_time": "2024-12-05T19:24:21.458Z"
   },
   {
    "duration": 4,
    "start_time": "2024-12-05T19:24:21.464Z"
   },
   {
    "duration": 2,
    "start_time": "2024-12-05T19:24:21.505Z"
   },
   {
    "duration": 20,
    "start_time": "2024-12-05T19:24:21.510Z"
   },
   {
    "duration": 7,
    "start_time": "2024-12-05T19:24:21.532Z"
   },
   {
    "duration": 13,
    "start_time": "2024-12-05T19:24:21.541Z"
   },
   {
    "duration": 11,
    "start_time": "2024-12-05T19:24:21.556Z"
   },
   {
    "duration": 557,
    "start_time": "2024-12-05T19:24:21.569Z"
   },
   {
    "duration": 3021,
    "start_time": "2024-12-05T19:24:22.129Z"
   },
   {
    "duration": 1081,
    "start_time": "2024-12-05T19:25:17.408Z"
   },
   {
    "duration": 536,
    "start_time": "2024-12-05T19:25:18.491Z"
   },
   {
    "duration": 28,
    "start_time": "2024-12-05T19:25:19.030Z"
   },
   {
    "duration": 58,
    "start_time": "2024-12-05T19:25:19.061Z"
   },
   {
    "duration": 19,
    "start_time": "2024-12-05T19:25:19.121Z"
   },
   {
    "duration": 4,
    "start_time": "2024-12-05T19:25:19.141Z"
   },
   {
    "duration": 61,
    "start_time": "2024-12-05T19:25:19.146Z"
   },
   {
    "duration": 4,
    "start_time": "2024-12-05T19:25:19.208Z"
   },
   {
    "duration": 5,
    "start_time": "2024-12-05T19:25:19.213Z"
   },
   {
    "duration": 2,
    "start_time": "2024-12-05T19:25:19.222Z"
   },
   {
    "duration": 4,
    "start_time": "2024-12-05T19:25:19.226Z"
   },
   {
    "duration": 13,
    "start_time": "2024-12-05T19:25:19.232Z"
   },
   {
    "duration": 3,
    "start_time": "2024-12-05T19:25:19.247Z"
   },
   {
    "duration": 57,
    "start_time": "2024-12-05T19:25:19.252Z"
   },
   {
    "duration": 6,
    "start_time": "2024-12-05T19:25:19.311Z"
   },
   {
    "duration": 10,
    "start_time": "2024-12-05T19:25:19.320Z"
   },
   {
    "duration": 3,
    "start_time": "2024-12-05T19:25:19.332Z"
   },
   {
    "duration": 86,
    "start_time": "2024-12-05T19:25:19.336Z"
   },
   {
    "duration": 17,
    "start_time": "2024-12-05T19:25:19.424Z"
   },
   {
    "duration": 94,
    "start_time": "2024-12-05T19:25:19.443Z"
   },
   {
    "duration": 3,
    "start_time": "2024-12-05T19:25:19.539Z"
   },
   {
    "duration": 12,
    "start_time": "2024-12-05T19:25:19.543Z"
   },
   {
    "duration": 7,
    "start_time": "2024-12-05T19:25:19.557Z"
   },
   {
    "duration": 41,
    "start_time": "2024-12-05T19:25:19.566Z"
   },
   {
    "duration": 7,
    "start_time": "2024-12-05T19:25:19.609Z"
   },
   {
    "duration": 13,
    "start_time": "2024-12-05T19:25:19.621Z"
   },
   {
    "duration": 6,
    "start_time": "2024-12-05T19:25:19.636Z"
   },
   {
    "duration": 127,
    "start_time": "2024-12-05T19:25:19.646Z"
   },
   {
    "duration": 118,
    "start_time": "2024-12-05T19:25:19.775Z"
   },
   {
    "duration": 101,
    "start_time": "2024-12-05T19:25:19.896Z"
   },
   {
    "duration": 6,
    "start_time": "2024-12-05T19:25:20.005Z"
   },
   {
    "duration": 4,
    "start_time": "2024-12-05T19:25:20.013Z"
   },
   {
    "duration": 803,
    "start_time": "2024-12-05T19:25:20.019Z"
   },
   {
    "duration": 1097,
    "start_time": "2024-12-05T19:25:20.824Z"
   },
   {
    "duration": 7,
    "start_time": "2024-12-05T19:25:21.923Z"
   },
   {
    "duration": 5,
    "start_time": "2024-12-05T19:25:21.932Z"
   },
   {
    "duration": 4,
    "start_time": "2024-12-05T19:25:21.939Z"
   },
   {
    "duration": 3,
    "start_time": "2024-12-05T19:25:21.945Z"
   },
   {
    "duration": 6,
    "start_time": "2024-12-05T19:25:21.949Z"
   },
   {
    "duration": 5,
    "start_time": "2024-12-05T19:25:21.956Z"
   },
   {
    "duration": 43,
    "start_time": "2024-12-05T19:25:21.962Z"
   },
   {
    "duration": 3,
    "start_time": "2024-12-05T19:25:22.007Z"
   },
   {
    "duration": 5,
    "start_time": "2024-12-05T19:25:22.011Z"
   },
   {
    "duration": 5,
    "start_time": "2024-12-05T19:25:22.018Z"
   },
   {
    "duration": 3,
    "start_time": "2024-12-05T19:25:22.025Z"
   },
   {
    "duration": 117,
    "start_time": "2024-12-05T19:25:22.030Z"
   },
   {
    "duration": 189,
    "start_time": "2024-12-05T19:25:22.149Z"
   },
   {
    "duration": 97,
    "start_time": "2024-12-05T19:25:22.340Z"
   },
   {
    "duration": 24,
    "start_time": "2024-12-05T19:25:22.439Z"
   },
   {
    "duration": 7,
    "start_time": "2024-12-05T19:25:22.464Z"
   },
   {
    "duration": 5,
    "start_time": "2024-12-05T19:25:22.472Z"
   },
   {
    "duration": 27,
    "start_time": "2024-12-05T19:25:22.479Z"
   },
   {
    "duration": 6,
    "start_time": "2024-12-05T19:25:22.508Z"
   },
   {
    "duration": 7,
    "start_time": "2024-12-05T19:25:22.516Z"
   },
   {
    "duration": 9,
    "start_time": "2024-12-05T19:25:22.525Z"
   },
   {
    "duration": 24,
    "start_time": "2024-12-05T19:25:22.536Z"
   },
   {
    "duration": 28,
    "start_time": "2024-12-05T19:25:22.561Z"
   },
   {
    "duration": 3,
    "start_time": "2024-12-05T19:25:22.591Z"
   },
   {
    "duration": 10,
    "start_time": "2024-12-05T19:25:22.596Z"
   },
   {
    "duration": 11,
    "start_time": "2024-12-05T19:25:22.607Z"
   },
   {
    "duration": 10,
    "start_time": "2024-12-05T19:25:22.620Z"
   },
   {
    "duration": 11,
    "start_time": "2024-12-05T19:25:22.631Z"
   },
   {
    "duration": 11,
    "start_time": "2024-12-05T19:25:22.644Z"
   },
   {
    "duration": 18,
    "start_time": "2024-12-05T19:25:22.657Z"
   },
   {
    "duration": 10,
    "start_time": "2024-12-05T19:25:22.705Z"
   },
   {
    "duration": 10,
    "start_time": "2024-12-05T19:25:22.718Z"
   },
   {
    "duration": 8,
    "start_time": "2024-12-05T19:25:22.730Z"
   },
   {
    "duration": 2,
    "start_time": "2024-12-05T19:25:22.739Z"
   },
   {
    "duration": 19,
    "start_time": "2024-12-05T19:25:22.743Z"
   },
   {
    "duration": 6,
    "start_time": "2024-12-05T19:25:22.764Z"
   },
   {
    "duration": 46,
    "start_time": "2024-12-05T19:25:22.772Z"
   },
   {
    "duration": 11,
    "start_time": "2024-12-05T19:25:22.820Z"
   },
   {
    "duration": 576,
    "start_time": "2024-12-05T19:25:22.832Z"
   },
   {
    "duration": 2962,
    "start_time": "2024-12-05T19:25:23.411Z"
   },
   {
    "duration": 170420,
    "start_time": "2024-12-05T19:25:26.375Z"
   },
   {
    "duration": 236,
    "start_time": "2024-12-05T19:28:16.805Z"
   },
   {
    "duration": 0,
    "start_time": "2024-12-05T19:28:17.043Z"
   },
   {
    "duration": 0,
    "start_time": "2024-12-05T19:28:17.044Z"
   },
   {
    "duration": 0,
    "start_time": "2024-12-05T19:28:17.045Z"
   },
   {
    "duration": 0,
    "start_time": "2024-12-05T19:28:17.046Z"
   },
   {
    "duration": 0,
    "start_time": "2024-12-05T19:28:17.047Z"
   },
   {
    "duration": 0,
    "start_time": "2024-12-05T19:28:17.048Z"
   },
   {
    "duration": 1084,
    "start_time": "2024-12-05T20:24:02.320Z"
   },
   {
    "duration": 503,
    "start_time": "2024-12-05T20:24:03.406Z"
   },
   {
    "duration": 19,
    "start_time": "2024-12-05T20:24:03.910Z"
   },
   {
    "duration": 16,
    "start_time": "2024-12-05T20:24:03.931Z"
   },
   {
    "duration": 18,
    "start_time": "2024-12-05T20:24:03.950Z"
   },
   {
    "duration": 4,
    "start_time": "2024-12-05T20:24:03.970Z"
   },
   {
    "duration": 31,
    "start_time": "2024-12-05T20:24:03.976Z"
   },
   {
    "duration": 5,
    "start_time": "2024-12-05T20:24:04.009Z"
   },
   {
    "duration": 5,
    "start_time": "2024-12-05T20:24:04.015Z"
   },
   {
    "duration": 3,
    "start_time": "2024-12-05T20:24:04.022Z"
   },
   {
    "duration": 5,
    "start_time": "2024-12-05T20:24:04.026Z"
   },
   {
    "duration": 15,
    "start_time": "2024-12-05T20:24:04.032Z"
   },
   {
    "duration": 3,
    "start_time": "2024-12-05T20:24:04.049Z"
   },
   {
    "duration": 8,
    "start_time": "2024-12-05T20:24:04.056Z"
   },
   {
    "duration": 42,
    "start_time": "2024-12-05T20:24:04.066Z"
   },
   {
    "duration": 10,
    "start_time": "2024-12-05T20:24:04.109Z"
   },
   {
    "duration": 2,
    "start_time": "2024-12-05T20:24:04.122Z"
   },
   {
    "duration": 80,
    "start_time": "2024-12-05T20:24:04.126Z"
   },
   {
    "duration": 19,
    "start_time": "2024-12-05T20:24:04.207Z"
   },
   {
    "duration": 92,
    "start_time": "2024-12-05T20:24:04.228Z"
   },
   {
    "duration": 3,
    "start_time": "2024-12-05T20:24:04.322Z"
   },
   {
    "duration": 14,
    "start_time": "2024-12-05T20:24:04.327Z"
   },
   {
    "duration": 8,
    "start_time": "2024-12-05T20:24:04.343Z"
   },
   {
    "duration": 17,
    "start_time": "2024-12-05T20:24:04.353Z"
   },
   {
    "duration": 39,
    "start_time": "2024-12-05T20:24:04.371Z"
   },
   {
    "duration": 15,
    "start_time": "2024-12-05T20:24:04.412Z"
   },
   {
    "duration": 6,
    "start_time": "2024-12-05T20:24:04.429Z"
   },
   {
    "duration": 118,
    "start_time": "2024-12-05T20:24:04.437Z"
   },
   {
    "duration": 120,
    "start_time": "2024-12-05T20:24:04.557Z"
   },
   {
    "duration": 126,
    "start_time": "2024-12-05T20:24:04.679Z"
   },
   {
    "duration": 5,
    "start_time": "2024-12-05T20:24:04.806Z"
   },
   {
    "duration": 4,
    "start_time": "2024-12-05T20:24:04.813Z"
   },
   {
    "duration": 788,
    "start_time": "2024-12-05T20:24:04.819Z"
   },
   {
    "duration": 1101,
    "start_time": "2024-12-05T20:24:05.609Z"
   },
   {
    "duration": 8,
    "start_time": "2024-12-05T20:24:06.721Z"
   },
   {
    "duration": 6,
    "start_time": "2024-12-05T20:24:06.730Z"
   },
   {
    "duration": 5,
    "start_time": "2024-12-05T20:24:06.737Z"
   },
   {
    "duration": 3,
    "start_time": "2024-12-05T20:24:06.744Z"
   },
   {
    "duration": 5,
    "start_time": "2024-12-05T20:24:06.749Z"
   },
   {
    "duration": 4,
    "start_time": "2024-12-05T20:24:06.756Z"
   },
   {
    "duration": 4,
    "start_time": "2024-12-05T20:24:06.765Z"
   },
   {
    "duration": 4,
    "start_time": "2024-12-05T20:24:06.805Z"
   },
   {
    "duration": 4,
    "start_time": "2024-12-05T20:24:06.810Z"
   },
   {
    "duration": 5,
    "start_time": "2024-12-05T20:24:06.817Z"
   },
   {
    "duration": 4,
    "start_time": "2024-12-05T20:24:06.823Z"
   },
   {
    "duration": 112,
    "start_time": "2024-12-05T20:24:06.829Z"
   },
   {
    "duration": 165,
    "start_time": "2024-12-05T20:24:06.943Z"
   },
   {
    "duration": 96,
    "start_time": "2024-12-05T20:24:07.110Z"
   },
   {
    "duration": 5,
    "start_time": "2024-12-05T20:24:07.208Z"
   },
   {
    "duration": 6,
    "start_time": "2024-12-05T20:24:07.214Z"
   },
   {
    "duration": 5,
    "start_time": "2024-12-05T20:24:07.222Z"
   },
   {
    "duration": 7,
    "start_time": "2024-12-05T20:24:07.228Z"
   },
   {
    "duration": 4,
    "start_time": "2024-12-05T20:24:07.237Z"
   },
   {
    "duration": 13,
    "start_time": "2024-12-05T20:24:07.243Z"
   },
   {
    "duration": 48,
    "start_time": "2024-12-05T20:24:07.258Z"
   },
   {
    "duration": 11,
    "start_time": "2024-12-05T20:24:07.308Z"
   },
   {
    "duration": 11,
    "start_time": "2024-12-05T20:24:07.321Z"
   },
   {
    "duration": 11,
    "start_time": "2024-12-05T20:24:07.335Z"
   },
   {
    "duration": 8,
    "start_time": "2024-12-05T20:24:07.348Z"
   },
   {
    "duration": 14,
    "start_time": "2024-12-05T20:24:07.357Z"
   },
   {
    "duration": 8,
    "start_time": "2024-12-05T20:24:07.406Z"
   },
   {
    "duration": 2,
    "start_time": "2024-12-05T20:24:07.416Z"
   },
   {
    "duration": 20,
    "start_time": "2024-12-05T20:24:07.419Z"
   },
   {
    "duration": 7,
    "start_time": "2024-12-05T20:24:07.440Z"
   },
   {
    "duration": 11,
    "start_time": "2024-12-05T20:24:07.449Z"
   },
   {
    "duration": 45,
    "start_time": "2024-12-05T20:24:07.462Z"
   },
   {
    "duration": 518,
    "start_time": "2024-12-05T20:24:07.508Z"
   },
   {
    "duration": 4424,
    "start_time": "2024-12-05T20:24:08.028Z"
   },
   {
    "duration": 254389,
    "start_time": "2024-12-05T20:24:12.454Z"
   },
   {
    "duration": 238,
    "start_time": "2024-12-05T20:28:26.844Z"
   },
   {
    "duration": 0,
    "start_time": "2024-12-05T20:28:27.084Z"
   },
   {
    "duration": 0,
    "start_time": "2024-12-05T20:28:27.085Z"
   },
   {
    "duration": 0,
    "start_time": "2024-12-05T20:28:27.086Z"
   },
   {
    "duration": 0,
    "start_time": "2024-12-05T20:28:27.087Z"
   },
   {
    "duration": 0,
    "start_time": "2024-12-05T20:28:27.088Z"
   },
   {
    "duration": 0,
    "start_time": "2024-12-05T20:28:27.089Z"
   },
   {
    "duration": 68019,
    "start_time": "2024-12-05T20:28:41.807Z"
   },
   {
    "duration": 5,
    "start_time": "2024-12-05T20:30:24.399Z"
   },
   {
    "duration": 1038,
    "start_time": "2024-12-05T20:59:16.954Z"
   },
   {
    "duration": 494,
    "start_time": "2024-12-05T20:59:17.994Z"
   },
   {
    "duration": 20,
    "start_time": "2024-12-05T20:59:18.489Z"
   },
   {
    "duration": 18,
    "start_time": "2024-12-05T20:59:18.510Z"
   },
   {
    "duration": 20,
    "start_time": "2024-12-05T20:59:18.530Z"
   },
   {
    "duration": 4,
    "start_time": "2024-12-05T20:59:18.551Z"
   },
   {
    "duration": 5,
    "start_time": "2024-12-05T20:59:18.556Z"
   },
   {
    "duration": 6,
    "start_time": "2024-12-05T20:59:18.562Z"
   },
   {
    "duration": 37,
    "start_time": "2024-12-05T20:59:18.570Z"
   },
   {
    "duration": 3,
    "start_time": "2024-12-05T20:59:18.610Z"
   },
   {
    "duration": 5,
    "start_time": "2024-12-05T20:59:18.614Z"
   },
   {
    "duration": 13,
    "start_time": "2024-12-05T20:59:18.621Z"
   },
   {
    "duration": 2,
    "start_time": "2024-12-05T20:59:18.636Z"
   },
   {
    "duration": 8,
    "start_time": "2024-12-05T20:59:18.643Z"
   },
   {
    "duration": 6,
    "start_time": "2024-12-05T20:59:18.652Z"
   },
   {
    "duration": 46,
    "start_time": "2024-12-05T20:59:18.659Z"
   },
   {
    "duration": 3,
    "start_time": "2024-12-05T20:59:18.706Z"
   },
   {
    "duration": 62,
    "start_time": "2024-12-05T20:59:18.710Z"
   },
   {
    "duration": 31,
    "start_time": "2024-12-05T20:59:18.774Z"
   },
   {
    "duration": 87,
    "start_time": "2024-12-05T20:59:18.807Z"
   },
   {
    "duration": 4,
    "start_time": "2024-12-05T20:59:18.905Z"
   },
   {
    "duration": 18,
    "start_time": "2024-12-05T20:59:18.911Z"
   },
   {
    "duration": 8,
    "start_time": "2024-12-05T20:59:18.931Z"
   },
   {
    "duration": 64,
    "start_time": "2024-12-05T20:59:18.941Z"
   },
   {
    "duration": 6,
    "start_time": "2024-12-05T20:59:19.008Z"
   },
   {
    "duration": 12,
    "start_time": "2024-12-05T20:59:19.016Z"
   },
   {
    "duration": 5,
    "start_time": "2024-12-05T20:59:19.030Z"
   },
   {
    "duration": 168,
    "start_time": "2024-12-05T20:59:19.037Z"
   },
   {
    "duration": 217,
    "start_time": "2024-12-05T20:59:19.207Z"
   },
   {
    "duration": 134,
    "start_time": "2024-12-05T20:59:19.426Z"
   },
   {
    "duration": 5,
    "start_time": "2024-12-05T20:59:19.561Z"
   },
   {
    "duration": 5,
    "start_time": "2024-12-05T20:59:19.567Z"
   },
   {
    "duration": 835,
    "start_time": "2024-12-05T20:59:19.573Z"
   },
   {
    "duration": 1085,
    "start_time": "2024-12-05T20:59:20.410Z"
   },
   {
    "duration": 11,
    "start_time": "2024-12-05T20:59:21.497Z"
   },
   {
    "duration": 10,
    "start_time": "2024-12-05T20:59:21.510Z"
   },
   {
    "duration": 6,
    "start_time": "2024-12-05T20:59:21.522Z"
   },
   {
    "duration": 3,
    "start_time": "2024-12-05T20:59:21.531Z"
   },
   {
    "duration": 5,
    "start_time": "2024-12-05T20:59:21.536Z"
   },
   {
    "duration": 5,
    "start_time": "2024-12-05T20:59:21.543Z"
   },
   {
    "duration": 4,
    "start_time": "2024-12-05T20:59:21.554Z"
   },
   {
    "duration": 3,
    "start_time": "2024-12-05T20:59:21.559Z"
   },
   {
    "duration": 44,
    "start_time": "2024-12-05T20:59:21.564Z"
   },
   {
    "duration": 5,
    "start_time": "2024-12-05T20:59:21.609Z"
   },
   {
    "duration": 4,
    "start_time": "2024-12-05T20:59:21.616Z"
   },
   {
    "duration": 114,
    "start_time": "2024-12-05T20:59:21.622Z"
   },
   {
    "duration": 168,
    "start_time": "2024-12-05T20:59:21.738Z"
   },
   {
    "duration": 81,
    "start_time": "2024-12-05T20:59:21.908Z"
   },
   {
    "duration": 18,
    "start_time": "2024-12-05T20:59:21.991Z"
   },
   {
    "duration": 5,
    "start_time": "2024-12-05T20:59:22.010Z"
   },
   {
    "duration": 5,
    "start_time": "2024-12-05T20:59:22.017Z"
   },
   {
    "duration": 7,
    "start_time": "2024-12-05T20:59:22.023Z"
   },
   {
    "duration": 3,
    "start_time": "2024-12-05T20:59:22.032Z"
   },
   {
    "duration": 11,
    "start_time": "2024-12-05T20:59:22.037Z"
   },
   {
    "duration": 11,
    "start_time": "2024-12-05T20:59:22.050Z"
   },
   {
    "duration": 52,
    "start_time": "2024-12-05T20:59:22.063Z"
   },
   {
    "duration": 11,
    "start_time": "2024-12-05T20:59:22.116Z"
   },
   {
    "duration": 11,
    "start_time": "2024-12-05T20:59:22.129Z"
   },
   {
    "duration": 8,
    "start_time": "2024-12-05T20:59:22.141Z"
   },
   {
    "duration": 12,
    "start_time": "2024-12-05T20:59:22.151Z"
   },
   {
    "duration": 41,
    "start_time": "2024-12-05T20:59:22.164Z"
   },
   {
    "duration": 3,
    "start_time": "2024-12-05T20:59:22.207Z"
   },
   {
    "duration": 20,
    "start_time": "2024-12-05T20:59:22.212Z"
   },
   {
    "duration": 14,
    "start_time": "2024-12-05T20:59:22.233Z"
   },
   {
    "duration": 265,
    "start_time": "2024-12-05T20:59:22.249Z"
   },
   {
    "duration": 0,
    "start_time": "2024-12-05T20:59:22.516Z"
   },
   {
    "duration": 0,
    "start_time": "2024-12-05T20:59:22.518Z"
   },
   {
    "duration": 0,
    "start_time": "2024-12-05T20:59:22.520Z"
   },
   {
    "duration": 0,
    "start_time": "2024-12-05T20:59:22.523Z"
   },
   {
    "duration": 0,
    "start_time": "2024-12-05T20:59:22.523Z"
   },
   {
    "duration": 15,
    "start_time": "2024-12-05T20:59:45.917Z"
   },
   {
    "duration": 54,
    "start_time": "2024-12-05T21:00:07.143Z"
   },
   {
    "duration": 4,
    "start_time": "2024-12-05T21:01:06.897Z"
   },
   {
    "duration": 14,
    "start_time": "2024-12-05T21:01:09.144Z"
   },
   {
    "duration": 389,
    "start_time": "2024-12-05T21:01:34.516Z"
   },
   {
    "duration": 4292,
    "start_time": "2024-12-05T21:01:50.573Z"
   },
   {
    "duration": 254164,
    "start_time": "2024-12-05T21:02:04.527Z"
   },
   {
    "duration": 67066,
    "start_time": "2024-12-05T21:07:15.604Z"
   },
   {
    "duration": 4,
    "start_time": "2024-12-05T21:08:53.963Z"
   },
   {
    "duration": 13,
    "start_time": "2024-12-05T21:10:07.892Z"
   },
   {
    "duration": 4,
    "start_time": "2024-12-05T21:10:28.801Z"
   },
   {
    "duration": 4,
    "start_time": "2024-12-05T21:14:32.092Z"
   },
   {
    "duration": 4,
    "start_time": "2024-12-05T21:14:35.531Z"
   },
   {
    "duration": 3,
    "start_time": "2024-12-05T21:16:49.811Z"
   },
   {
    "duration": 5,
    "start_time": "2024-12-05T21:17:13.687Z"
   },
   {
    "duration": 4,
    "start_time": "2024-12-05T21:17:28.261Z"
   },
   {
    "duration": 4,
    "start_time": "2024-12-05T21:17:47.786Z"
   },
   {
    "duration": 3,
    "start_time": "2024-12-05T22:41:35.289Z"
   },
   {
    "duration": 4,
    "start_time": "2024-12-05T22:41:45.007Z"
   },
   {
    "duration": 1224,
    "start_time": "2024-12-05T22:44:12.334Z"
   },
   {
    "duration": 532,
    "start_time": "2024-12-05T22:44:13.560Z"
   },
   {
    "duration": 23,
    "start_time": "2024-12-05T22:44:14.094Z"
   },
   {
    "duration": 20,
    "start_time": "2024-12-05T22:44:14.121Z"
   },
   {
    "duration": 27,
    "start_time": "2024-12-05T22:44:14.143Z"
   },
   {
    "duration": 4,
    "start_time": "2024-12-05T22:44:14.172Z"
   },
   {
    "duration": 31,
    "start_time": "2024-12-05T22:44:14.177Z"
   },
   {
    "duration": 3,
    "start_time": "2024-12-05T22:44:14.210Z"
   },
   {
    "duration": 5,
    "start_time": "2024-12-05T22:44:14.215Z"
   },
   {
    "duration": 3,
    "start_time": "2024-12-05T22:44:14.223Z"
   },
   {
    "duration": 4,
    "start_time": "2024-12-05T22:44:14.227Z"
   },
   {
    "duration": 13,
    "start_time": "2024-12-05T22:44:14.233Z"
   },
   {
    "duration": 3,
    "start_time": "2024-12-05T22:44:14.248Z"
   },
   {
    "duration": 10,
    "start_time": "2024-12-05T22:44:14.252Z"
   },
   {
    "duration": 43,
    "start_time": "2024-12-05T22:44:14.263Z"
   },
   {
    "duration": 10,
    "start_time": "2024-12-05T22:44:14.309Z"
   },
   {
    "duration": 3,
    "start_time": "2024-12-05T22:44:14.321Z"
   },
   {
    "duration": 81,
    "start_time": "2024-12-05T22:44:14.326Z"
   },
   {
    "duration": 18,
    "start_time": "2024-12-05T22:44:14.409Z"
   },
   {
    "duration": 100,
    "start_time": "2024-12-05T22:44:14.429Z"
   },
   {
    "duration": 3,
    "start_time": "2024-12-05T22:44:14.531Z"
   },
   {
    "duration": 13,
    "start_time": "2024-12-05T22:44:14.536Z"
   },
   {
    "duration": 6,
    "start_time": "2024-12-05T22:44:14.551Z"
   },
   {
    "duration": 16,
    "start_time": "2024-12-05T22:44:14.559Z"
   },
   {
    "duration": 7,
    "start_time": "2024-12-05T22:44:14.606Z"
   },
   {
    "duration": 13,
    "start_time": "2024-12-05T22:44:14.615Z"
   },
   {
    "duration": 6,
    "start_time": "2024-12-05T22:44:14.629Z"
   },
   {
    "duration": 137,
    "start_time": "2024-12-05T22:44:14.640Z"
   },
   {
    "duration": 131,
    "start_time": "2024-12-05T22:44:14.779Z"
   },
   {
    "duration": 114,
    "start_time": "2024-12-05T22:44:14.912Z"
   },
   {
    "duration": 5,
    "start_time": "2024-12-05T22:44:15.028Z"
   },
   {
    "duration": 5,
    "start_time": "2024-12-05T22:44:15.035Z"
   },
   {
    "duration": 854,
    "start_time": "2024-12-05T22:44:15.041Z"
   },
   {
    "duration": 1148,
    "start_time": "2024-12-05T22:44:15.898Z"
   },
   {
    "duration": 7,
    "start_time": "2024-12-05T22:44:17.048Z"
   },
   {
    "duration": 6,
    "start_time": "2024-12-05T22:44:17.057Z"
   },
   {
    "duration": 5,
    "start_time": "2024-12-05T22:44:17.064Z"
   },
   {
    "duration": 6,
    "start_time": "2024-12-05T22:44:17.071Z"
   },
   {
    "duration": 31,
    "start_time": "2024-12-05T22:44:17.079Z"
   },
   {
    "duration": 6,
    "start_time": "2024-12-05T22:44:17.112Z"
   },
   {
    "duration": 6,
    "start_time": "2024-12-05T22:44:17.119Z"
   },
   {
    "duration": 5,
    "start_time": "2024-12-05T22:44:17.126Z"
   },
   {
    "duration": 5,
    "start_time": "2024-12-05T22:44:17.133Z"
   },
   {
    "duration": 4,
    "start_time": "2024-12-05T22:44:17.140Z"
   },
   {
    "duration": 4,
    "start_time": "2024-12-05T22:44:17.146Z"
   },
   {
    "duration": 136,
    "start_time": "2024-12-05T22:44:17.152Z"
   },
   {
    "duration": 201,
    "start_time": "2024-12-05T22:44:17.290Z"
   },
   {
    "duration": 92,
    "start_time": "2024-12-05T22:44:17.493Z"
   },
   {
    "duration": 20,
    "start_time": "2024-12-05T22:44:17.587Z"
   },
   {
    "duration": 5,
    "start_time": "2024-12-05T22:44:17.608Z"
   },
   {
    "duration": 5,
    "start_time": "2024-12-05T22:44:17.615Z"
   },
   {
    "duration": 7,
    "start_time": "2024-12-05T22:44:17.622Z"
   },
   {
    "duration": 4,
    "start_time": "2024-12-05T22:44:17.630Z"
   },
   {
    "duration": 13,
    "start_time": "2024-12-05T22:44:17.635Z"
   },
   {
    "duration": 12,
    "start_time": "2024-12-05T22:44:17.650Z"
   },
   {
    "duration": 54,
    "start_time": "2024-12-05T22:44:17.663Z"
   },
   {
    "duration": 10,
    "start_time": "2024-12-05T22:44:17.719Z"
   },
   {
    "duration": 11,
    "start_time": "2024-12-05T22:44:17.731Z"
   },
   {
    "duration": 8,
    "start_time": "2024-12-05T22:44:17.744Z"
   },
   {
    "duration": 12,
    "start_time": "2024-12-05T22:44:17.753Z"
   },
   {
    "duration": 38,
    "start_time": "2024-12-05T22:44:17.767Z"
   },
   {
    "duration": 2,
    "start_time": "2024-12-05T22:44:17.807Z"
   },
   {
    "duration": 16,
    "start_time": "2024-12-05T22:44:17.811Z"
   },
   {
    "duration": 14,
    "start_time": "2024-12-05T22:44:17.829Z"
   },
   {
    "duration": 566,
    "start_time": "2024-12-05T22:44:17.845Z"
   },
   {
    "duration": 4398,
    "start_time": "2024-12-05T22:44:18.413Z"
   },
   {
    "duration": 256180,
    "start_time": "2024-12-05T22:44:22.812Z"
   },
   {
    "duration": 69099,
    "start_time": "2024-12-05T22:48:38.994Z"
   },
   {
    "duration": 10,
    "start_time": "2024-12-05T22:49:48.095Z"
   },
   {
    "duration": 5,
    "start_time": "2024-12-05T22:49:48.107Z"
   },
   {
    "duration": 4,
    "start_time": "2024-12-05T22:49:48.114Z"
   },
   {
    "duration": 4,
    "start_time": "2024-12-05T22:49:48.120Z"
   },
   {
    "duration": 4,
    "start_time": "2024-12-05T22:49:48.125Z"
   },
   {
    "duration": 524,
    "start_time": "2024-12-05T22:57:03.680Z"
   },
   {
    "duration": 3914,
    "start_time": "2024-12-05T22:58:56.760Z"
   },
   {
    "duration": 3932,
    "start_time": "2024-12-05T22:59:12.044Z"
   },
   {
    "duration": 233905,
    "start_time": "2024-12-05T22:59:35.283Z"
   },
   {
    "duration": 23,
    "start_time": "2024-12-05T23:09:16.946Z"
   },
   {
    "duration": 3,
    "start_time": "2024-12-05T23:10:28.511Z"
   },
   {
    "duration": 4,
    "start_time": "2024-12-05T23:11:11.379Z"
   },
   {
    "duration": 4,
    "start_time": "2024-12-05T23:16:08.869Z"
   },
   {
    "duration": 4,
    "start_time": "2024-12-05T23:16:21.473Z"
   },
   {
    "duration": 4,
    "start_time": "2024-12-05T23:16:51.384Z"
   },
   {
    "duration": 3,
    "start_time": "2024-12-05T23:17:01.847Z"
   },
   {
    "duration": 3,
    "start_time": "2024-12-05T23:19:13.996Z"
   },
   {
    "duration": 4,
    "start_time": "2024-12-05T23:19:23.169Z"
   },
   {
    "duration": 1050,
    "start_time": "2024-12-05T23:53:38.466Z"
   },
   {
    "duration": 509,
    "start_time": "2024-12-05T23:53:39.518Z"
   },
   {
    "duration": 20,
    "start_time": "2024-12-05T23:53:40.028Z"
   },
   {
    "duration": 16,
    "start_time": "2024-12-05T23:53:40.050Z"
   },
   {
    "duration": 37,
    "start_time": "2024-12-05T23:53:40.068Z"
   },
   {
    "duration": 3,
    "start_time": "2024-12-05T23:53:40.107Z"
   },
   {
    "duration": 5,
    "start_time": "2024-12-05T23:53:40.112Z"
   },
   {
    "duration": 3,
    "start_time": "2024-12-05T23:53:40.119Z"
   },
   {
    "duration": 4,
    "start_time": "2024-12-05T23:53:40.124Z"
   },
   {
    "duration": 3,
    "start_time": "2024-12-05T23:53:40.130Z"
   },
   {
    "duration": 3,
    "start_time": "2024-12-05T23:53:40.135Z"
   },
   {
    "duration": 13,
    "start_time": "2024-12-05T23:53:40.140Z"
   },
   {
    "duration": 3,
    "start_time": "2024-12-05T23:53:40.154Z"
   },
   {
    "duration": 10,
    "start_time": "2024-12-05T23:53:40.206Z"
   },
   {
    "duration": 7,
    "start_time": "2024-12-05T23:53:40.217Z"
   },
   {
    "duration": 10,
    "start_time": "2024-12-05T23:53:40.227Z"
   },
   {
    "duration": 3,
    "start_time": "2024-12-05T23:53:40.238Z"
   },
   {
    "duration": 87,
    "start_time": "2024-12-05T23:53:40.243Z"
   },
   {
    "duration": 20,
    "start_time": "2024-12-05T23:53:40.332Z"
   },
   {
    "duration": 97,
    "start_time": "2024-12-05T23:53:40.354Z"
   },
   {
    "duration": 3,
    "start_time": "2024-12-05T23:53:40.453Z"
   },
   {
    "duration": 13,
    "start_time": "2024-12-05T23:53:40.457Z"
   },
   {
    "duration": 7,
    "start_time": "2024-12-05T23:53:40.471Z"
   },
   {
    "duration": 32,
    "start_time": "2024-12-05T23:53:40.479Z"
   },
   {
    "duration": 7,
    "start_time": "2024-12-05T23:53:40.513Z"
   },
   {
    "duration": 12,
    "start_time": "2024-12-05T23:53:40.521Z"
   },
   {
    "duration": 7,
    "start_time": "2024-12-05T23:53:40.535Z"
   },
   {
    "duration": 126,
    "start_time": "2024-12-05T23:53:40.543Z"
   },
   {
    "duration": 119,
    "start_time": "2024-12-05T23:53:40.671Z"
   },
   {
    "duration": 95,
    "start_time": "2024-12-05T23:53:40.792Z"
   },
   {
    "duration": 18,
    "start_time": "2024-12-05T23:53:40.889Z"
   },
   {
    "duration": 5,
    "start_time": "2024-12-05T23:53:40.909Z"
   },
   {
    "duration": 806,
    "start_time": "2024-12-05T23:53:40.915Z"
   },
   {
    "duration": 1127,
    "start_time": "2024-12-05T23:53:41.723Z"
   },
   {
    "duration": 7,
    "start_time": "2024-12-05T23:53:42.852Z"
   },
   {
    "duration": 6,
    "start_time": "2024-12-05T23:53:42.860Z"
   },
   {
    "duration": 5,
    "start_time": "2024-12-05T23:53:42.867Z"
   },
   {
    "duration": 3,
    "start_time": "2024-12-05T23:53:42.873Z"
   },
   {
    "duration": 30,
    "start_time": "2024-12-05T23:53:42.877Z"
   },
   {
    "duration": 10,
    "start_time": "2024-12-05T23:53:42.908Z"
   },
   {
    "duration": 4,
    "start_time": "2024-12-05T23:53:42.925Z"
   },
   {
    "duration": 2,
    "start_time": "2024-12-05T23:53:42.931Z"
   },
   {
    "duration": 3,
    "start_time": "2024-12-05T23:53:42.935Z"
   },
   {
    "duration": 4,
    "start_time": "2024-12-05T23:53:42.941Z"
   },
   {
    "duration": 4,
    "start_time": "2024-12-05T23:53:42.946Z"
   },
   {
    "duration": 4,
    "start_time": "2024-12-05T23:53:42.952Z"
   },
   {
    "duration": 126,
    "start_time": "2024-12-05T23:53:42.958Z"
   },
   {
    "duration": 173,
    "start_time": "2024-12-05T23:53:43.086Z"
   },
   {
    "duration": 92,
    "start_time": "2024-12-05T23:53:43.261Z"
   },
   {
    "duration": 4,
    "start_time": "2024-12-05T23:53:43.355Z"
   },
   {
    "duration": 4,
    "start_time": "2024-12-05T23:53:43.361Z"
   },
   {
    "duration": 5,
    "start_time": "2024-12-05T23:53:43.367Z"
   },
   {
    "duration": 31,
    "start_time": "2024-12-05T23:53:43.374Z"
   },
   {
    "duration": 3,
    "start_time": "2024-12-05T23:53:43.407Z"
   },
   {
    "duration": 15,
    "start_time": "2024-12-05T23:53:43.412Z"
   },
   {
    "duration": 15,
    "start_time": "2024-12-05T23:53:43.429Z"
   },
   {
    "duration": 11,
    "start_time": "2024-12-05T23:53:43.446Z"
   },
   {
    "duration": 9,
    "start_time": "2024-12-05T23:53:43.458Z"
   },
   {
    "duration": 45,
    "start_time": "2024-12-05T23:53:43.469Z"
   },
   {
    "duration": 8,
    "start_time": "2024-12-05T23:53:43.516Z"
   },
   {
    "duration": 12,
    "start_time": "2024-12-05T23:53:43.525Z"
   },
   {
    "duration": 7,
    "start_time": "2024-12-05T23:53:43.539Z"
   },
   {
    "duration": 2,
    "start_time": "2024-12-05T23:53:43.548Z"
   },
   {
    "duration": 14,
    "start_time": "2024-12-05T23:53:43.552Z"
   },
   {
    "duration": 46,
    "start_time": "2024-12-05T23:53:43.568Z"
   },
   {
    "duration": 493,
    "start_time": "2024-12-05T23:53:43.615Z"
   },
   {
    "duration": 4335,
    "start_time": "2024-12-05T23:53:44.110Z"
   },
   {
    "duration": 255622,
    "start_time": "2024-12-05T23:53:48.447Z"
   },
   {
    "duration": 67295,
    "start_time": "2024-12-05T23:58:04.071Z"
   },
   {
    "duration": 2,
    "start_time": "2024-12-05T23:59:11.368Z"
   },
   {
    "duration": 4,
    "start_time": "2024-12-05T23:59:11.372Z"
   },
   {
    "duration": 4,
    "start_time": "2024-12-05T23:59:11.377Z"
   },
   {
    "duration": 23,
    "start_time": "2024-12-05T23:59:11.382Z"
   },
   {
    "duration": 4,
    "start_time": "2024-12-05T23:59:11.407Z"
   },
   {
    "duration": 696,
    "start_time": "2024-12-05T23:59:11.412Z"
   },
   {
    "duration": 3993,
    "start_time": "2024-12-05T23:59:12.113Z"
   },
   {
    "duration": 233385,
    "start_time": "2024-12-05T23:59:16.108Z"
   },
   {
    "duration": 29,
    "start_time": "2024-12-06T00:03:09.495Z"
   },
   {
    "duration": 89,
    "start_time": "2024-12-06T00:03:09.525Z"
   },
   {
    "duration": 7,
    "start_time": "2024-12-06T00:03:09.618Z"
   },
   {
    "duration": 4,
    "start_time": "2024-12-06T00:03:09.626Z"
   },
   {
    "duration": 4,
    "start_time": "2024-12-06T00:03:09.631Z"
   },
   {
    "duration": 67,
    "start_time": "2024-12-06T00:03:09.638Z"
   },
   {
    "duration": 2,
    "start_time": "2024-12-06T00:03:09.707Z"
   },
   {
    "duration": 4,
    "start_time": "2024-12-06T00:03:09.711Z"
   },
   {
    "duration": 1059,
    "start_time": "2024-12-06T00:23:58.972Z"
   },
   {
    "duration": 486,
    "start_time": "2024-12-06T00:24:00.034Z"
   },
   {
    "duration": 18,
    "start_time": "2024-12-06T00:24:00.522Z"
   },
   {
    "duration": 17,
    "start_time": "2024-12-06T00:24:00.542Z"
   },
   {
    "duration": 19,
    "start_time": "2024-12-06T00:24:00.560Z"
   },
   {
    "duration": 27,
    "start_time": "2024-12-06T00:24:00.581Z"
   },
   {
    "duration": 4,
    "start_time": "2024-12-06T00:24:00.610Z"
   },
   {
    "duration": 4,
    "start_time": "2024-12-06T00:24:00.616Z"
   },
   {
    "duration": 5,
    "start_time": "2024-12-06T00:24:00.622Z"
   },
   {
    "duration": 3,
    "start_time": "2024-12-06T00:24:00.629Z"
   },
   {
    "duration": 4,
    "start_time": "2024-12-06T00:24:00.633Z"
   },
   {
    "duration": 12,
    "start_time": "2024-12-06T00:24:00.639Z"
   },
   {
    "duration": 2,
    "start_time": "2024-12-06T00:24:00.653Z"
   },
   {
    "duration": 49,
    "start_time": "2024-12-06T00:24:00.656Z"
   },
   {
    "duration": 7,
    "start_time": "2024-12-06T00:24:00.707Z"
   },
   {
    "duration": 10,
    "start_time": "2024-12-06T00:24:00.716Z"
   },
   {
    "duration": 3,
    "start_time": "2024-12-06T00:24:00.727Z"
   },
   {
    "duration": 79,
    "start_time": "2024-12-06T00:24:00.731Z"
   },
   {
    "duration": 19,
    "start_time": "2024-12-06T00:24:00.812Z"
   },
   {
    "duration": 105,
    "start_time": "2024-12-06T00:24:00.832Z"
   },
   {
    "duration": 3,
    "start_time": "2024-12-06T00:24:00.939Z"
   },
   {
    "duration": 12,
    "start_time": "2024-12-06T00:24:00.944Z"
   },
   {
    "duration": 6,
    "start_time": "2024-12-06T00:24:00.958Z"
   },
   {
    "duration": 40,
    "start_time": "2024-12-06T00:24:00.966Z"
   },
   {
    "duration": 6,
    "start_time": "2024-12-06T00:24:01.008Z"
   },
   {
    "duration": 12,
    "start_time": "2024-12-06T00:24:01.016Z"
   },
   {
    "duration": 7,
    "start_time": "2024-12-06T00:24:01.030Z"
   },
   {
    "duration": 127,
    "start_time": "2024-12-06T00:24:01.043Z"
   },
   {
    "duration": 131,
    "start_time": "2024-12-06T00:24:01.171Z"
   },
   {
    "duration": 108,
    "start_time": "2024-12-06T00:24:01.305Z"
   },
   {
    "duration": 6,
    "start_time": "2024-12-06T00:24:01.414Z"
   },
   {
    "duration": 6,
    "start_time": "2024-12-06T00:24:01.422Z"
   },
   {
    "duration": 853,
    "start_time": "2024-12-06T00:24:01.430Z"
   },
   {
    "duration": 1122,
    "start_time": "2024-12-06T00:24:02.285Z"
   },
   {
    "duration": 8,
    "start_time": "2024-12-06T00:24:03.408Z"
   },
   {
    "duration": 8,
    "start_time": "2024-12-06T00:24:03.418Z"
   },
   {
    "duration": 6,
    "start_time": "2024-12-06T00:24:03.427Z"
   },
   {
    "duration": 4,
    "start_time": "2024-12-06T00:24:03.434Z"
   },
   {
    "duration": 6,
    "start_time": "2024-12-06T00:24:03.439Z"
   },
   {
    "duration": 4,
    "start_time": "2024-12-06T00:24:03.447Z"
   },
   {
    "duration": 4,
    "start_time": "2024-12-06T00:24:03.453Z"
   },
   {
    "duration": 1,
    "start_time": "2024-12-06T00:24:03.459Z"
   },
   {
    "duration": 3,
    "start_time": "2024-12-06T00:24:03.505Z"
   },
   {
    "duration": 5,
    "start_time": "2024-12-06T00:24:03.510Z"
   },
   {
    "duration": 4,
    "start_time": "2024-12-06T00:24:03.517Z"
   },
   {
    "duration": 3,
    "start_time": "2024-12-06T00:24:03.523Z"
   },
   {
    "duration": 116,
    "start_time": "2024-12-06T00:24:03.528Z"
   },
   {
    "duration": 183,
    "start_time": "2024-12-06T00:24:03.645Z"
   },
   {
    "duration": 94,
    "start_time": "2024-12-06T00:24:03.830Z"
   },
   {
    "duration": 5,
    "start_time": "2024-12-06T00:24:03.925Z"
   },
   {
    "duration": 5,
    "start_time": "2024-12-06T00:24:03.932Z"
   },
   {
    "duration": 4,
    "start_time": "2024-12-06T00:24:03.939Z"
   },
   {
    "duration": 7,
    "start_time": "2024-12-06T00:24:03.945Z"
   },
   {
    "duration": 3,
    "start_time": "2024-12-06T00:24:03.953Z"
   },
   {
    "duration": 12,
    "start_time": "2024-12-06T00:24:03.958Z"
   },
   {
    "duration": 11,
    "start_time": "2024-12-06T00:24:04.005Z"
   },
   {
    "duration": 12,
    "start_time": "2024-12-06T00:24:04.018Z"
   },
   {
    "duration": 10,
    "start_time": "2024-12-06T00:24:04.032Z"
   },
   {
    "duration": 12,
    "start_time": "2024-12-06T00:24:04.043Z"
   },
   {
    "duration": 8,
    "start_time": "2024-12-06T00:24:04.056Z"
   },
   {
    "duration": 48,
    "start_time": "2024-12-06T00:24:04.066Z"
   },
   {
    "duration": 8,
    "start_time": "2024-12-06T00:24:04.116Z"
   },
   {
    "duration": 2,
    "start_time": "2024-12-06T00:24:04.125Z"
   },
   {
    "duration": 12,
    "start_time": "2024-12-06T00:24:04.130Z"
   },
   {
    "duration": 12,
    "start_time": "2024-12-06T00:24:04.144Z"
   },
   {
    "duration": 547,
    "start_time": "2024-12-06T00:24:04.158Z"
   },
   {
    "duration": 4788,
    "start_time": "2024-12-06T00:24:04.707Z"
   },
   {
    "duration": 278730,
    "start_time": "2024-12-06T00:24:09.497Z"
   },
   {
    "duration": 28796,
    "start_time": "2024-12-06T00:28:48.229Z"
   },
   {
    "duration": 0,
    "start_time": "2024-12-06T00:29:17.027Z"
   },
   {
    "duration": 0,
    "start_time": "2024-12-06T00:29:17.028Z"
   },
   {
    "duration": 0,
    "start_time": "2024-12-06T00:29:17.030Z"
   },
   {
    "duration": 0,
    "start_time": "2024-12-06T00:29:17.031Z"
   },
   {
    "duration": 0,
    "start_time": "2024-12-06T00:29:17.033Z"
   },
   {
    "duration": 0,
    "start_time": "2024-12-06T00:29:17.034Z"
   },
   {
    "duration": 0,
    "start_time": "2024-12-06T00:29:17.035Z"
   },
   {
    "duration": 0,
    "start_time": "2024-12-06T00:29:17.036Z"
   },
   {
    "duration": 0,
    "start_time": "2024-12-06T00:29:17.036Z"
   },
   {
    "duration": 0,
    "start_time": "2024-12-06T00:29:17.037Z"
   },
   {
    "duration": 0,
    "start_time": "2024-12-06T00:29:17.038Z"
   },
   {
    "duration": 0,
    "start_time": "2024-12-06T00:29:17.039Z"
   },
   {
    "duration": 0,
    "start_time": "2024-12-06T00:29:17.040Z"
   },
   {
    "duration": 0,
    "start_time": "2024-12-06T00:29:17.041Z"
   },
   {
    "duration": 0,
    "start_time": "2024-12-06T00:29:17.042Z"
   },
   {
    "duration": 0,
    "start_time": "2024-12-06T00:29:17.044Z"
   },
   {
    "duration": 432,
    "start_time": "2024-12-06T00:29:32.589Z"
   },
   {
    "duration": 24,
    "start_time": "2024-12-06T00:30:22.951Z"
   },
   {
    "duration": 2,
    "start_time": "2024-12-06T00:30:27.902Z"
   },
   {
    "duration": 7,
    "start_time": "2024-12-06T00:30:30.502Z"
   },
   {
    "duration": 8,
    "start_time": "2024-12-06T00:31:40.073Z"
   },
   {
    "duration": 7,
    "start_time": "2024-12-06T00:32:41.264Z"
   },
   {
    "duration": 9,
    "start_time": "2024-12-06T00:37:02.980Z"
   },
   {
    "duration": 9,
    "start_time": "2024-12-06T00:37:07.648Z"
   },
   {
    "duration": 11,
    "start_time": "2024-12-06T00:37:38.375Z"
   },
   {
    "duration": 3,
    "start_time": "2024-12-06T00:39:51.729Z"
   },
   {
    "duration": 6,
    "start_time": "2024-12-06T00:40:06.417Z"
   },
   {
    "duration": 7,
    "start_time": "2024-12-06T00:40:42.868Z"
   },
   {
    "duration": 4,
    "start_time": "2024-12-06T00:41:05.561Z"
   },
   {
    "duration": 5,
    "start_time": "2024-12-06T00:41:06.883Z"
   },
   {
    "duration": 5,
    "start_time": "2024-12-06T00:41:08.149Z"
   },
   {
    "duration": 3,
    "start_time": "2024-12-06T00:43:04.758Z"
   },
   {
    "duration": 4,
    "start_time": "2024-12-06T00:43:12.305Z"
   },
   {
    "duration": 3,
    "start_time": "2024-12-06T00:43:16.251Z"
   },
   {
    "duration": 5,
    "start_time": "2024-12-06T00:43:17.368Z"
   },
   {
    "duration": 2,
    "start_time": "2024-12-06T00:43:20.951Z"
   },
   {
    "duration": 3,
    "start_time": "2024-12-06T00:43:22.213Z"
   }
  ],
  "kernelspec": {
   "display_name": "Python 3 (ipykernel)",
   "language": "python",
   "name": "python3"
  },
  "language_info": {
   "codemirror_mode": {
    "name": "ipython",
    "version": 3
   },
   "file_extension": ".py",
   "mimetype": "text/x-python",
   "name": "python",
   "nbconvert_exporter": "python",
   "pygments_lexer": "ipython3",
   "version": "3.9.19"
  },
  "toc": {
   "base_numbering": 1,
   "nav_menu": {},
   "number_sections": true,
   "sideBar": true,
   "skip_h1_title": true,
   "title_cell": "Table of Contents",
   "title_sidebar": "Contents",
   "toc_cell": false,
   "toc_position": {},
   "toc_section_display": true,
   "toc_window_display": false
  }
 },
 "nbformat": 4,
 "nbformat_minor": 2
}
