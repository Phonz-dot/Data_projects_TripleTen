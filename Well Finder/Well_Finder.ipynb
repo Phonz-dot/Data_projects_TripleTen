{
 "cells": [
  {
   "cell_type": "markdown",
   "metadata": {},
   "source": [
    "## Goal:\n",
    "---\n",
    "Working for the OilyGiant mining company, they need help finding the best place for a new well.\n",
    "\n",
    "### Stages:\n",
    "1. Data Preprocessing: Clean and organize the data, ensuring it's ready for analysis.\n",
    "2. Exploratory Data Analysis (EDA): Perform an initial analysis to understand the data distribution and identify key trends.\n",
    "3. ID Target/Feature Variables: Find out exactly what variable is being tested.\n",
    "4. Split Dataset: Split dataset up into training, validating & test sets.\n",
    "5. Train Regression Model: Train & evaluate the model for the task.\n",
    "6. Calculate Profit: Find which region will generate the highest profit while minimizing losses."
   ]
  },
  {
   "cell_type": "markdown",
   "metadata": {},
   "source": [
    "## Import Libraries & Modules\n",
    "---"
   ]
  },
  {
   "cell_type": "code",
   "execution_count": 1,
   "metadata": {},
   "outputs": [],
   "source": [
    "import pandas as pd\n",
    "import numpy as np\n",
    "from numpy.random import RandomState\n",
    "import matplotlib.pyplot as plt\n",
    "import seaborn as sns\n",
    "import scipy.stats as st\n",
    "from sklearn.linear_model import LinearRegression\n",
    "from sklearn.model_selection import train_test_split, cross_val_score\n",
    "from sklearn.metrics import mean_squared_error, r2_score\n",
    "from sklearn.preprocessing import StandardScaler\n",
    "from sklearn.utils import resample"
   ]
  },
  {
   "cell_type": "markdown",
   "metadata": {},
   "source": [
    "## Load in Datasets\n",
    "---"
   ]
  },
  {
   "cell_type": "markdown",
   "metadata": {},
   "source": [
    "## Conduct Exploratory Data Analysis (EDA) / Null & Duplicates Check\n",
    "---"
   ]
  },
  {
   "cell_type": "code",
   "execution_count": 2,
   "metadata": {},
   "outputs": [],
   "source": [
    "region_0 = pd.read_csv('/datasets/geo_data_0.csv')\n",
    "region_1 = pd.read_csv('/datasets/geo_data_1.csv')\n",
    "region_2 = pd.read_csv('/datasets/geo_data_2.csv')"
   ]
  },
  {
   "cell_type": "code",
   "execution_count": 3,
   "metadata": {},
   "outputs": [],
   "source": [
    "def analyze_dataframe(df): \n",
    "    # Data types and non-null counts\n",
    "    print(\"Column data types & number of non-null count\")\n",
    "    print(\"------------------------------\")\n",
    "    print(df.info())\n",
    "    print(\"\\n\")\n",
    "    \n",
    "    # Display the first 5 rows of the DataFrame \n",
    "    print(\"First 5 rows of the DataFrame:\") \n",
    "    print(\"------------------------------\")\n",
    "    print(df.head()) \n",
    "    print(\"\\n\")\n",
    "    \n",
    "    # Count the number of null values in each column\n",
    "    num_nulls = df.isna().sum() \n",
    "    print(\"Number of null values in each column:\")\n",
    "    print(\"------------------------------\")\n",
    "    print(num_nulls) \n",
    "    print(\"\\n\")\n",
    "    \n",
    "    # Count the number of duplicate rows\n",
    "    num_duplicates = df.duplicated().sum() \n",
    "    print(\"Number of duplicate rows:\")\n",
    "    print(\"------------------------------\")\n",
    "    print(num_duplicates)"
   ]
  },
  {
   "cell_type": "code",
   "execution_count": 4,
   "metadata": {},
   "outputs": [
    {
     "name": "stdout",
     "output_type": "stream",
     "text": [
      "Column data types & number of non-null count\n",
      "------------------------------\n",
      "<class 'pandas.core.frame.DataFrame'>\n",
      "RangeIndex: 100000 entries, 0 to 99999\n",
      "Data columns (total 5 columns):\n",
      " #   Column   Non-Null Count   Dtype  \n",
      "---  ------   --------------   -----  \n",
      " 0   id       100000 non-null  object \n",
      " 1   f0       100000 non-null  float64\n",
      " 2   f1       100000 non-null  float64\n",
      " 3   f2       100000 non-null  float64\n",
      " 4   product  100000 non-null  float64\n",
      "dtypes: float64(4), object(1)\n",
      "memory usage: 3.8+ MB\n",
      "None\n",
      "\n",
      "\n",
      "First 5 rows of the DataFrame:\n",
      "------------------------------\n",
      "      id        f0        f1        f2     product\n",
      "0  txEyH  0.705745 -0.497823  1.221170  105.280062\n",
      "1  2acmU  1.334711 -0.340164  4.365080   73.037750\n",
      "2  409Wp  1.022732  0.151990  1.419926   85.265647\n",
      "3  iJLyR -0.032172  0.139033  2.978566  168.620776\n",
      "4  Xdl7t  1.988431  0.155413  4.751769  154.036647\n",
      "\n",
      "\n",
      "Number of null values in each column:\n",
      "------------------------------\n",
      "id         0\n",
      "f0         0\n",
      "f1         0\n",
      "f2         0\n",
      "product    0\n",
      "dtype: int64\n",
      "\n",
      "\n",
      "Number of duplicate rows:\n",
      "------------------------------\n",
      "0\n"
     ]
    }
   ],
   "source": [
    "analyze_dataframe(region_0)"
   ]
  },
  {
   "cell_type": "code",
   "execution_count": 5,
   "metadata": {},
   "outputs": [
    {
     "name": "stdout",
     "output_type": "stream",
     "text": [
      "Column data types & number of non-null count\n",
      "------------------------------\n",
      "<class 'pandas.core.frame.DataFrame'>\n",
      "RangeIndex: 100000 entries, 0 to 99999\n",
      "Data columns (total 5 columns):\n",
      " #   Column   Non-Null Count   Dtype  \n",
      "---  ------   --------------   -----  \n",
      " 0   id       100000 non-null  object \n",
      " 1   f0       100000 non-null  float64\n",
      " 2   f1       100000 non-null  float64\n",
      " 3   f2       100000 non-null  float64\n",
      " 4   product  100000 non-null  float64\n",
      "dtypes: float64(4), object(1)\n",
      "memory usage: 3.8+ MB\n",
      "None\n",
      "\n",
      "\n",
      "First 5 rows of the DataFrame:\n",
      "------------------------------\n",
      "      id         f0         f1        f2     product\n",
      "0  kBEdx -15.001348  -8.276000 -0.005876    3.179103\n",
      "1  62mP7  14.272088  -3.475083  0.999183   26.953261\n",
      "2  vyE1P   6.263187  -5.948386  5.001160  134.766305\n",
      "3  KcrkZ -13.081196 -11.506057  4.999415  137.945408\n",
      "4  AHL4O  12.702195  -8.147433  5.004363  134.766305\n",
      "\n",
      "\n",
      "Number of null values in each column:\n",
      "------------------------------\n",
      "id         0\n",
      "f0         0\n",
      "f1         0\n",
      "f2         0\n",
      "product    0\n",
      "dtype: int64\n",
      "\n",
      "\n",
      "Number of duplicate rows:\n",
      "------------------------------\n",
      "0\n"
     ]
    }
   ],
   "source": [
    "analyze_dataframe(region_1)"
   ]
  },
  {
   "cell_type": "code",
   "execution_count": 6,
   "metadata": {
    "scrolled": true
   },
   "outputs": [
    {
     "name": "stdout",
     "output_type": "stream",
     "text": [
      "Column data types & number of non-null count\n",
      "------------------------------\n",
      "<class 'pandas.core.frame.DataFrame'>\n",
      "RangeIndex: 100000 entries, 0 to 99999\n",
      "Data columns (total 5 columns):\n",
      " #   Column   Non-Null Count   Dtype  \n",
      "---  ------   --------------   -----  \n",
      " 0   id       100000 non-null  object \n",
      " 1   f0       100000 non-null  float64\n",
      " 2   f1       100000 non-null  float64\n",
      " 3   f2       100000 non-null  float64\n",
      " 4   product  100000 non-null  float64\n",
      "dtypes: float64(4), object(1)\n",
      "memory usage: 3.8+ MB\n",
      "None\n",
      "\n",
      "\n",
      "First 5 rows of the DataFrame:\n",
      "------------------------------\n",
      "      id        f0        f1        f2     product\n",
      "0  fwXo0 -1.146987  0.963328 -0.828965   27.758673\n",
      "1  WJtFt  0.262778  0.269839 -2.530187   56.069697\n",
      "2  ovLUW  0.194587  0.289035 -5.586433   62.871910\n",
      "3  q6cA6  2.236060 -0.553760  0.930038  114.572842\n",
      "4  WPMUX -0.515993  1.716266  5.899011  149.600746\n",
      "\n",
      "\n",
      "Number of null values in each column:\n",
      "------------------------------\n",
      "id         0\n",
      "f0         0\n",
      "f1         0\n",
      "f2         0\n",
      "product    0\n",
      "dtype: int64\n",
      "\n",
      "\n",
      "Number of duplicate rows:\n",
      "------------------------------\n",
      "0\n"
     ]
    }
   ],
   "source": [
    "analyze_dataframe(region_2)"
   ]
  },
  {
   "cell_type": "markdown",
   "metadata": {},
   "source": [
    "After looking at the general layout of the dataframe for each region, it appears that there are no null or duplicate values. However, in the interest of creating accurate results with the model, the 'id' column should be dropped because it doesn't directly contribute to the prediction of volume of reserves in the oil wells."
   ]
  },
  {
   "cell_type": "markdown",
   "metadata": {},
   "source": [
    "## Drop 'id' column\n",
    "---"
   ]
  },
  {
   "cell_type": "code",
   "execution_count": 7,
   "metadata": {},
   "outputs": [],
   "source": [
    "region_0 = region_0.drop(columns=['id'])  # Drop specific columns\n",
    "region_1 = region_1.drop(columns=['id'])  # Drop specific columns\n",
    "region_2 = region_2.drop(columns=['id'])  # Drop specific columns"
   ]
  },
  {
   "cell_type": "code",
   "execution_count": 8,
   "metadata": {},
   "outputs": [
    {
     "name": "stdout",
     "output_type": "stream",
     "text": [
      "<class 'pandas.core.frame.DataFrame'>\n",
      "RangeIndex: 100000 entries, 0 to 99999\n",
      "Data columns (total 4 columns):\n",
      " #   Column   Non-Null Count   Dtype  \n",
      "---  ------   --------------   -----  \n",
      " 0   f0       100000 non-null  float64\n",
      " 1   f1       100000 non-null  float64\n",
      " 2   f2       100000 non-null  float64\n",
      " 3   product  100000 non-null  float64\n",
      "dtypes: float64(4)\n",
      "memory usage: 3.1 MB\n",
      "None\n",
      "<class 'pandas.core.frame.DataFrame'>\n",
      "RangeIndex: 100000 entries, 0 to 99999\n",
      "Data columns (total 4 columns):\n",
      " #   Column   Non-Null Count   Dtype  \n",
      "---  ------   --------------   -----  \n",
      " 0   f0       100000 non-null  float64\n",
      " 1   f1       100000 non-null  float64\n",
      " 2   f2       100000 non-null  float64\n",
      " 3   product  100000 non-null  float64\n",
      "dtypes: float64(4)\n",
      "memory usage: 3.1 MB\n",
      "None\n",
      "<class 'pandas.core.frame.DataFrame'>\n",
      "RangeIndex: 100000 entries, 0 to 99999\n",
      "Data columns (total 4 columns):\n",
      " #   Column   Non-Null Count   Dtype  \n",
      "---  ------   --------------   -----  \n",
      " 0   f0       100000 non-null  float64\n",
      " 1   f1       100000 non-null  float64\n",
      " 2   f2       100000 non-null  float64\n",
      " 3   product  100000 non-null  float64\n",
      "dtypes: float64(4)\n",
      "memory usage: 3.1 MB\n",
      "None\n"
     ]
    }
   ],
   "source": [
    "print(region_0.info())\n",
    "print(region_1.info())\n",
    "print(region_2.info())"
   ]
  },
  {
   "cell_type": "markdown",
   "metadata": {},
   "source": [
    "After dropping the 'id' column all of the regions, the datasets' features need to be scaled to ensure everything is on common ground."
   ]
  },
  {
   "cell_type": "markdown",
   "metadata": {},
   "source": [
    "## Train and test the model for each region"
   ]
  },
  {
   "cell_type": "markdown",
   "metadata": {},
   "source": [
    "### Split the data into a training set and validation set at a ratio of 75:25\n",
    "---"
   ]
  },
  {
   "cell_type": "code",
   "execution_count": 9,
   "metadata": {},
   "outputs": [],
   "source": [
    "# Separates the original dataset into features/target, then scale numeric features, then split features & target into training & validation\n",
    "def split_dataset(df, target_column, test_size=0.25, random_state=12345): \n",
    "    \n",
    "    # Separate features and target \n",
    "    X = df.drop(target_column, axis=1) \n",
    "    y = df[target_column]\n",
    "    \n",
    "    # Scale Numeric Features\n",
    "    scaler = StandardScaler() # Fit the scaler on the features and transform\n",
    "    # Fit the scaler on the features and transform\n",
    "    scaler.fit(X)\n",
    "    X_scaled = scaler.transform(X)\n",
    "    # Split the dataset into training and validation sets \n",
    "    X_train, X_valid, y_train, y_valid = train_test_split(X_scaled, y, test_size=test_size, random_state=random_state) \n",
    "    return X_train, X_valid, y_train, y_valid"
   ]
  },
  {
   "cell_type": "code",
   "execution_count": 10,
   "metadata": {},
   "outputs": [],
   "source": [
    "X_train_0, X_valid_0, y_train_0, y_valid_0 = split_dataset(region_0, 'product', test_size=0.25, random_state=12345)"
   ]
  },
  {
   "cell_type": "code",
   "execution_count": 11,
   "metadata": {},
   "outputs": [],
   "source": [
    "X_train_1, X_valid_1, y_train_1, y_valid_1 = split_dataset(region_1, 'product', test_size=0.25, random_state=12345)"
   ]
  },
  {
   "cell_type": "code",
   "execution_count": 12,
   "metadata": {},
   "outputs": [],
   "source": [
    "X_train_2, X_valid_2, y_train_2, y_valid_2 = split_dataset(region_2, 'product', test_size=0.25, random_state=12345)"
   ]
  },
  {
   "cell_type": "markdown",
   "metadata": {},
   "source": [
    "### Train the model and make predictions for the validation set\n",
    "---"
   ]
  },
  {
   "cell_type": "code",
   "execution_count": 13,
   "metadata": {},
   "outputs": [],
   "source": [
    "def linear_regression(X_train, y_train, X_valid, y_valid, state=12345):\n",
    "       \n",
    "        # Train the linear regression model on the bootstrap sample\n",
    "        model = LinearRegression()\n",
    "        model.fit(X_train, y_train)\n",
    "        \n",
    "        # Predict on the resampled data \n",
    "        y_pred = model.predict(X_valid) \n",
    "        \n",
    "        # Calculate the mean squared error for the bootstrap sample \n",
    "        mse = mean_squared_error(y_valid, y_pred)\n",
    "        rmse = mse ** 0.5\n",
    "        r2 = r2_score(y_valid, y_pred)\n",
    "\n",
    "        # Store the coefficients and intercept\n",
    "        coeffs = model.coef_\n",
    "        intercept = model.intercept_\n",
    "        \n",
    "        # Predicting on the validation set using the mean coefficients and intercept\n",
    "        pred = intercept + np.dot(X_valid, coeffs)\n",
    "        avg_pred = np.mean(pred)\n",
    "\n",
    "\n",
    "        return rmse, pred, avg_pred"
   ]
  },
  {
   "cell_type": "markdown",
   "metadata": {},
   "source": [
    "### Save the predictions and correct answers for the validation set.\n",
    "---"
   ]
  },
  {
   "cell_type": "code",
   "execution_count": 14,
   "metadata": {},
   "outputs": [],
   "source": [
    "def convert(actual, predict):\n",
    "    actual = actual.reset_index(drop=True)\n",
    "    predict = pd.Series(predict)\n",
    "    return actual, predict"
   ]
  },
  {
   "cell_type": "code",
   "execution_count": 15,
   "metadata": {},
   "outputs": [],
   "source": [
    "rmse_0, preds_reg_0, avg_pred_0 = linear_regression(X_train_0, y_train_0, X_valid_0, y_valid_0)\n",
    "acts_reg_0 = y_valid_0\n",
    "acts_reg_0, preds_reg_0 = convert(acts_reg_0, preds_reg_0)"
   ]
  },
  {
   "cell_type": "code",
   "execution_count": 28,
   "metadata": {},
   "outputs": [],
   "source": [
    "rmse_1, preds_reg_1, avg_pred_1 = linear_regression(X_train_1, y_train_1, X_valid_1, y_valid_1)\n",
    "acts_reg_1 = y_valid_1\n",
    "acts_reg_1, preds_reg_1 = convert(acts_reg_1, preds_reg_1)"
   ]
  },
  {
   "cell_type": "code",
   "execution_count": 29,
   "metadata": {},
   "outputs": [],
   "source": [
    "rmse_2, preds_reg_2, avg_pred_2 = linear_regression(X_train_2, y_train_2, X_valid_2, y_valid_2)\n",
    "acts_reg_2 = y_valid_2\n",
    "acts_reg_2, preds_reg_2 = convert(acts_reg_2, preds_reg_2)"
   ]
  },
  {
   "cell_type": "markdown",
   "metadata": {},
   "source": [
    "### Print the average volume of predicted reserves and model RMSE.\n",
    "---"
   ]
  },
  {
   "cell_type": "code",
   "execution_count": 18,
   "metadata": {},
   "outputs": [
    {
     "name": "stdout",
     "output_type": "stream",
     "text": [
      "Region 0\n",
      "----------\n",
      "Average Volume of Predicted Reserves : 92.59256778438035\n",
      "RMSE: 37.5794217150813\n",
      "Region 1\n",
      "----------\n",
      "Average Volume of Predicted Reserves : 68.72854689544602\n",
      "RMSE: 0.8930992867756171\n",
      "Region 2\n",
      "----------\n",
      "Average Volume of Predicted Reserves : 94.96504596800489\n",
      "RMSE: 40.02970873393434\n"
     ]
    }
   ],
   "source": [
    "print('Region 0')\n",
    "print('----------')\n",
    "print(\"Average Volume of Predicted Reserves :\", avg_pred_0)\n",
    "print(\"RMSE:\", rmse_0)\n",
    "print('Region 1')\n",
    "print('----------')\n",
    "print(\"Average Volume of Predicted Reserves :\", avg_pred_1)\n",
    "print(\"RMSE:\", rmse_1)\n",
    "print('Region 2')\n",
    "print('----------')\n",
    "print(\"Average Volume of Predicted Reserves :\", avg_pred_2)\n",
    "print(\"RMSE:\", rmse_2)"
   ]
  },
  {
   "cell_type": "markdown",
   "metadata": {},
   "source": [
    "In terms of average volumn of predicted reserves, region 1 seems to have the lowest average, while region 0 and 2 share similar averages. However, the RMSE for region 1 is the lowest indicating better model performance."
   ]
  },
  {
   "cell_type": "markdown",
   "metadata": {},
   "source": [
    "## Prepare for profit calculation\n",
    "---"
   ]
  },
  {
   "cell_type": "markdown",
   "metadata": {},
   "source": [
    "### Calculate the volume of reserves sufficient for developing a new well without losses"
   ]
  },
  {
   "cell_type": "code",
   "execution_count": 19,
   "metadata": {},
   "outputs": [
    {
     "name": "stdout",
     "output_type": "stream",
     "text": [
      "Minimum volume required to break at least even for budget per well: 112\n"
     ]
    }
   ],
   "source": [
    "# The budget for development of 200 oil wells is 100 USD million; with 100,000,000 USD, 200 wells need to be developed\n",
    "# 1 oil well = $500,000\n",
    "# 1 Barrel = $4.50\n",
    "# 1 Volume of Reserve/1000 Barrels = $4,500 ($4.50 * X = $4,500 | 4,500 / 4.5 = x | 1000 = x)\n",
    "# How much volume is needed to justify building a new well without losses?\n",
    "\n",
    "unit_profit = 4500\n",
    "well_needs = 200\n",
    "budget = 100000000\n",
    "budget_per_well = 500000\n",
    "for i in range(1, 1000):\n",
    "    gross_volume = 4500 * i \n",
    "    if gross_volume >= budget_per_well:\n",
    "        volume_min = i\n",
    "        break\n",
    "print(\"Minimum volume required to break at least even for budget per well:\", volume_min)"
   ]
  },
  {
   "cell_type": "markdown",
   "metadata": {},
   "source": [
    "### Compare the obtained value with the average volume of reserves in each region"
   ]
  },
  {
   "cell_type": "code",
   "execution_count": 20,
   "metadata": {},
   "outputs": [],
   "source": [
    "# Store Average Volume of Reserves\n",
    "acts_avg_reg_0 = region_0['product'].mean()\n",
    "acts_avg_reg_1 = region_1['product'].mean()\n",
    "acts_avg_reg_2 = region_2['product'].mean()"
   ]
  },
  {
   "cell_type": "code",
   "execution_count": 21,
   "metadata": {},
   "outputs": [
    {
     "name": "stdout",
     "output_type": "stream",
     "text": [
      "Minimum volume needed for a well: 112\n",
      "Average volume of a well in region 0: 92.50000000000001\n",
      "Average volume of a well in region 1: 68.82500000000002\n",
      "Average volume of a well in region 2: 95.00000000000004\n"
     ]
    }
   ],
   "source": [
    "# Compare the obtained value with the average volume of reserves in each region.\n",
    "print('Minimum volume needed for a well:', volume_min)\n",
    "print('Average volume of a well in region 0:', acts_avg_reg_0)\n",
    "print('Average volume of a well in region 1:', acts_avg_reg_1)\n",
    "print('Average volume of a well in region 2:', acts_avg_reg_2)"
   ]
  },
  {
   "cell_type": "markdown",
   "metadata": {},
   "source": [
    "With the profit calculation step in mind, the two major variables prepared for that calculation are the ones that hold both the actual and predicted region values."
   ]
  },
  {
   "cell_type": "markdown",
   "metadata": {},
   "source": [
    "## Write a function to calculate profit from a set of selected oil wells and model predictions\n",
    "---"
   ]
  },
  {
   "cell_type": "markdown",
   "metadata": {},
   "source": [
    "### Pick the wells with the highest values of predictions. "
   ]
  },
  {
   "cell_type": "code",
   "execution_count": 50,
   "metadata": {},
   "outputs": [],
   "source": [
    "# Pick the wells with the highest values of predictions (200).\n",
    "def revenue(target, probabilities, count):\n",
    "    probs_sorted = probabilities.sort_values(ascending=False)\n",
    "    selected = target[probs_sorted.index][:count]\n",
    "    return 4500 * selected.sum()"
   ]
  },
  {
   "cell_type": "code",
   "execution_count": 70,
   "metadata": {},
   "outputs": [],
   "source": [
    "state = np.random.RandomState(12345)\n",
    "\n",
    "def calc_profit(act_reg, preds_reg):\n",
    "    values = []\n",
    "    for i in range(1000):\n",
    "        target_subsample = act_reg.sample(n=500, replace=True, random_state=state)\n",
    "        probs_subsample = preds_reg[target_subsample.index]\n",
    "\n",
    "        values.append(revenue(target_subsample, probs_subsample, 200))\n",
    "\n",
    "    values = pd.Series(values)\n",
    "    lower = values.quantile(0.025)\n",
    "    upper = values.quantile(0.975)\n",
    "\n",
    "    mean = values.mean()\n",
    "    \n",
    "    # Calculate risk of loss (percentage of negative profit scenarios)\n",
    "    risk_of_loss = (values < ((volume_min * 4500) * 200)).mean() * 100\n",
    "\n",
    "    return mean, lower, upper, risk_of_loss"
   ]
  },
  {
   "cell_type": "markdown",
   "metadata": {},
   "source": [
    "### Calculate risks and profit for each region"
   ]
  },
  {
   "cell_type": "code",
   "execution_count": 76,
   "metadata": {},
   "outputs": [
    {
     "name": "stdout",
     "output_type": "stream",
     "text": [
      "Average revenue: 104047087.12349911\n",
      "Lower Bound/2.5% Quantile: 98751192.14501211\n",
      "Upper Bound/97.5% Quantile: 109457642.66292138\n",
      "Risk of Loss: 10.0\n"
     ]
    }
   ],
   "source": [
    "mean_0, lower_0, upper_0, risk_of_loss_0 = calc_profit(acts_reg_0, preds_reg_0)\n",
    "print(\"Average revenue:\", mean_0)\n",
    "print(\"Lower Bound/2.5% Quantile:\", lower_0)\n",
    "print(\"Upper Bound/97.5% Quantile:\", upper_0)\n",
    "print(\"Risk of Loss:\", risk_of_loss_0)"
   ]
  },
  {
   "cell_type": "code",
   "execution_count": 90,
   "metadata": {},
   "outputs": [
    {
     "name": "stdout",
     "output_type": "stream",
     "text": [
      "Average revenue: 105177860.28567389\n",
      "Lower Bound/2.5% Quantile: 101237972.33037522\n",
      "Upper Bound/97.5% Quantile: 109493927.23387702\n",
      "Risk of Loss: 1.3\n"
     ]
    }
   ],
   "source": [
    "mean_1, lower_1, upper_1, risk_1 = calc_profit(acts_reg_1, preds_reg_1)\n",
    "print(\"Average revenue:\", mean_1)\n",
    "print(\"Lower Bound/2.5% Quantile:\", lower_1)\n",
    "print(\"Upper Bound/97.5% Quantile:\", upper_1)\n",
    "print(\"Risk of Loss:\", risk_1)"
   ]
  },
  {
   "cell_type": "code",
   "execution_count": 88,
   "metadata": {},
   "outputs": [
    {
     "name": "stdout",
     "output_type": "stream",
     "text": [
      "Average revenue: 104146260.17168252\n",
      "Lower Bound/2.5% Quantile: 98148317.94529475\n",
      "Upper Bound/97.5% Quantile: 109860543.07151984\n",
      "Risk of Loss: 12.8\n"
     ]
    }
   ],
   "source": [
    "mean_2, lower_2, upper_2, risk_2 = calc_profit(acts_reg_2, preds_reg_2)\n",
    "print(\"Average revenue:\", mean_2)\n",
    "print(\"Lower Bound/2.5% Quantile:\", lower_2)\n",
    "print(\"Upper Bound/97.5% Quantile:\", upper_2)\n",
    "print(\"Risk of Loss:\", risk_2)"
   ]
  },
  {
   "cell_type": "markdown",
   "metadata": {},
   "source": [
    "## Conclusion\n",
    "---"
   ]
  },
  {
   "cell_type": "markdown",
   "metadata": {},
   "source": [
    "### suggest a region for development of oil wells and justify the choice.\n",
    "---"
   ]
  },
  {
   "cell_type": "markdown",
   "metadata": {},
   "source": [
    "Based on the above calculations & the business conditions placed in the project, it seems that region 1 would be the best region for development of oil wells. This conclusion is based on the fact that this region holds the lowest predicted relative percentage for risk of loss and meets the requirement of being lower than 2.5%. Other than that, all regions seem to hold similar predicted average revenue but differ when it comes to the chances of loss."
   ]
  }
 ],
 "metadata": {
  "ExecuteTimeLog": [
   {
    "duration": 156,
    "start_time": "2024-11-27T17:09:54.660Z"
   },
   {
    "duration": 371,
    "start_time": "2024-11-27T17:09:58.312Z"
   },
   {
    "duration": 12,
    "start_time": "2024-11-27T17:11:18.702Z"
   },
   {
    "duration": 2353,
    "start_time": "2024-11-27T17:11:45.036Z"
   },
   {
    "duration": 102,
    "start_time": "2024-11-27T17:11:47.391Z"
   },
   {
    "duration": 173,
    "start_time": "2024-11-27T17:12:36.268Z"
   },
   {
    "duration": 252,
    "start_time": "2024-11-27T17:13:06.205Z"
   },
   {
    "duration": 12,
    "start_time": "2024-11-27T17:13:43.648Z"
   },
   {
    "duration": 18,
    "start_time": "2024-11-27T17:14:44.044Z"
   },
   {
    "duration": 11,
    "start_time": "2024-11-27T17:15:31.688Z"
   },
   {
    "duration": 15,
    "start_time": "2024-11-27T17:15:47.115Z"
   },
   {
    "duration": 15,
    "start_time": "2024-11-27T17:16:18.852Z"
   },
   {
    "duration": 18,
    "start_time": "2024-11-27T17:17:14.860Z"
   },
   {
    "duration": 19,
    "start_time": "2024-11-27T17:17:28.479Z"
   },
   {
    "duration": 4,
    "start_time": "2024-11-27T17:27:21.651Z"
   },
   {
    "duration": 43,
    "start_time": "2024-11-27T17:27:59.968Z"
   },
   {
    "duration": 4,
    "start_time": "2024-11-27T17:28:56.933Z"
   },
   {
    "duration": 45,
    "start_time": "2024-11-27T17:29:00.025Z"
   },
   {
    "duration": 56,
    "start_time": "2024-11-27T17:29:30.713Z"
   },
   {
    "duration": 38,
    "start_time": "2024-11-27T17:29:44.588Z"
   },
   {
    "duration": 45,
    "start_time": "2024-11-27T17:30:10.941Z"
   },
   {
    "duration": 11,
    "start_time": "2024-11-27T19:26:42.642Z"
   },
   {
    "duration": 661,
    "start_time": "2024-11-27T19:27:38.711Z"
   },
   {
    "duration": 35,
    "start_time": "2024-11-27T19:27:52.720Z"
   },
   {
    "duration": 873,
    "start_time": "2024-11-27T19:28:10.497Z"
   },
   {
    "duration": 218,
    "start_time": "2024-11-27T19:28:11.372Z"
   },
   {
    "duration": 5,
    "start_time": "2024-11-27T19:28:11.592Z"
   },
   {
    "duration": 47,
    "start_time": "2024-11-27T19:28:11.598Z"
   },
   {
    "duration": 55,
    "start_time": "2024-11-27T19:28:11.648Z"
   },
   {
    "duration": 48,
    "start_time": "2024-11-27T19:28:11.705Z"
   },
   {
    "duration": 24,
    "start_time": "2024-11-27T19:28:11.755Z"
   },
   {
    "duration": 9,
    "start_time": "2024-11-27T19:28:36.320Z"
   },
   {
    "duration": 20,
    "start_time": "2024-11-27T19:29:24.967Z"
   },
   {
    "duration": 2728,
    "start_time": "2024-11-27T22:11:16.318Z"
   },
   {
    "duration": 305,
    "start_time": "2024-11-27T22:11:22.941Z"
   },
   {
    "duration": 4,
    "start_time": "2024-11-27T22:11:26.092Z"
   },
   {
    "duration": 47,
    "start_time": "2024-11-27T22:11:29.644Z"
   },
   {
    "duration": 44,
    "start_time": "2024-11-27T22:11:32.833Z"
   },
   {
    "duration": 12,
    "start_time": "2024-11-27T22:11:38.361Z"
   },
   {
    "duration": 18,
    "start_time": "2024-11-27T22:11:40.152Z"
   },
   {
    "duration": 3,
    "start_time": "2024-11-27T22:11:48.126Z"
   },
   {
    "duration": 5,
    "start_time": "2024-11-27T22:12:58.863Z"
   },
   {
    "duration": 14,
    "start_time": "2024-11-27T22:13:26.962Z"
   },
   {
    "duration": 3,
    "start_time": "2024-11-27T22:20:15.182Z"
   },
   {
    "duration": 3,
    "start_time": "2024-11-27T22:25:00.451Z"
   },
   {
    "duration": 5,
    "start_time": "2024-11-27T22:26:26.546Z"
   },
   {
    "duration": 349,
    "start_time": "2024-11-27T22:26:31.860Z"
   },
   {
    "duration": 4,
    "start_time": "2024-11-27T22:27:16.175Z"
   },
   {
    "duration": 262,
    "start_time": "2024-11-27T22:27:18.110Z"
   },
   {
    "duration": 4,
    "start_time": "2024-11-27T22:35:04.451Z"
   },
   {
    "duration": 623,
    "start_time": "2024-11-27T22:35:07.024Z"
   },
   {
    "duration": 5,
    "start_time": "2024-11-27T22:44:44.116Z"
   },
   {
    "duration": 624,
    "start_time": "2024-11-27T22:44:45.622Z"
   },
   {
    "duration": 890,
    "start_time": "2024-11-27T22:45:37.282Z"
   },
   {
    "duration": 224,
    "start_time": "2024-11-27T22:45:38.174Z"
   },
   {
    "duration": 4,
    "start_time": "2024-11-27T22:45:38.401Z"
   },
   {
    "duration": 46,
    "start_time": "2024-11-27T22:45:38.407Z"
   },
   {
    "duration": 50,
    "start_time": "2024-11-27T22:45:38.455Z"
   },
   {
    "duration": 45,
    "start_time": "2024-11-27T22:45:38.507Z"
   },
   {
    "duration": 11,
    "start_time": "2024-11-27T22:45:38.554Z"
   },
   {
    "duration": 17,
    "start_time": "2024-11-27T22:45:38.567Z"
   },
   {
    "duration": 4,
    "start_time": "2024-11-27T22:45:38.604Z"
   },
   {
    "duration": 15,
    "start_time": "2024-11-27T22:45:38.610Z"
   },
   {
    "duration": 4,
    "start_time": "2024-11-27T22:45:38.626Z"
   },
   {
    "duration": 841,
    "start_time": "2024-11-27T22:45:38.632Z"
   },
   {
    "duration": 122,
    "start_time": "2024-11-27T22:58:39.475Z"
   },
   {
    "duration": 3,
    "start_time": "2024-11-27T23:02:01.876Z"
   },
   {
    "duration": 229,
    "start_time": "2024-11-27T23:02:04.924Z"
   },
   {
    "duration": 20,
    "start_time": "2024-11-27T23:02:23.322Z"
   },
   {
    "duration": 2,
    "start_time": "2024-11-27T23:02:53.873Z"
   },
   {
    "duration": 19,
    "start_time": "2024-11-27T23:02:56.882Z"
   },
   {
    "duration": 3,
    "start_time": "2024-11-27T23:03:13.235Z"
   },
   {
    "duration": 6062,
    "start_time": "2024-11-27T23:03:14.023Z"
   },
   {
    "duration": 5,
    "start_time": "2024-11-27T23:10:08.903Z"
   },
   {
    "duration": 920,
    "start_time": "2024-11-27T23:10:32.806Z"
   },
   {
    "duration": 4,
    "start_time": "2024-11-27T23:10:38.106Z"
   },
   {
    "duration": 836,
    "start_time": "2024-11-27T23:10:39.353Z"
   },
   {
    "duration": 2628,
    "start_time": "2024-11-28T00:23:47.667Z"
   },
   {
    "duration": 295,
    "start_time": "2024-11-28T00:23:50.297Z"
   },
   {
    "duration": 4,
    "start_time": "2024-11-28T00:23:50.593Z"
   },
   {
    "duration": 52,
    "start_time": "2024-11-28T00:23:50.599Z"
   },
   {
    "duration": 41,
    "start_time": "2024-11-28T00:23:50.654Z"
   },
   {
    "duration": 62,
    "start_time": "2024-11-28T00:23:50.696Z"
   },
   {
    "duration": 12,
    "start_time": "2024-11-28T00:23:50.759Z"
   },
   {
    "duration": 15,
    "start_time": "2024-11-28T00:23:50.772Z"
   },
   {
    "duration": 4,
    "start_time": "2024-11-28T00:23:50.789Z"
   },
   {
    "duration": 35,
    "start_time": "2024-11-28T00:23:50.794Z"
   },
   {
    "duration": 4,
    "start_time": "2024-11-28T00:23:50.831Z"
   },
   {
    "duration": 752,
    "start_time": "2024-11-28T00:23:50.837Z"
   },
   {
    "duration": 982,
    "start_time": "2024-11-28T00:24:13.082Z"
   },
   {
    "duration": 225,
    "start_time": "2024-11-28T00:24:14.066Z"
   },
   {
    "duration": 6,
    "start_time": "2024-11-28T00:24:14.293Z"
   },
   {
    "duration": 52,
    "start_time": "2024-11-28T00:24:14.301Z"
   },
   {
    "duration": 42,
    "start_time": "2024-11-28T00:24:14.355Z"
   },
   {
    "duration": 59,
    "start_time": "2024-11-28T00:24:14.399Z"
   },
   {
    "duration": 11,
    "start_time": "2024-11-28T00:24:14.460Z"
   },
   {
    "duration": 15,
    "start_time": "2024-11-28T00:24:14.474Z"
   },
   {
    "duration": 4,
    "start_time": "2024-11-28T00:24:14.490Z"
   },
   {
    "duration": 34,
    "start_time": "2024-11-28T00:24:14.496Z"
   },
   {
    "duration": 5,
    "start_time": "2024-11-28T00:24:14.531Z"
   },
   {
    "duration": 3667,
    "start_time": "2024-11-28T00:24:14.537Z"
   },
   {
    "duration": 12,
    "start_time": "2024-11-28T00:34:55.833Z"
   },
   {
    "duration": 3726,
    "start_time": "2024-11-28T00:35:14.575Z"
   },
   {
    "duration": 13,
    "start_time": "2024-11-28T00:35:36.413Z"
   },
   {
    "duration": 4169,
    "start_time": "2024-11-28T00:35:55.094Z"
   },
   {
    "duration": 10,
    "start_time": "2024-11-28T00:48:11.945Z"
   },
   {
    "duration": 22712,
    "start_time": "2024-11-28T00:48:13.598Z"
   },
   {
    "duration": 3,
    "start_time": "2024-11-28T00:48:43.607Z"
   },
   {
    "duration": 1007,
    "start_time": "2024-11-28T00:48:55.340Z"
   },
   {
    "duration": 253,
    "start_time": "2024-11-28T00:48:56.351Z"
   },
   {
    "duration": 3,
    "start_time": "2024-11-28T00:48:56.606Z"
   },
   {
    "duration": 53,
    "start_time": "2024-11-28T00:48:56.611Z"
   },
   {
    "duration": 43,
    "start_time": "2024-11-28T00:48:56.667Z"
   },
   {
    "duration": 66,
    "start_time": "2024-11-28T00:48:56.711Z"
   },
   {
    "duration": 11,
    "start_time": "2024-11-28T00:48:56.779Z"
   },
   {
    "duration": 15,
    "start_time": "2024-11-28T00:48:56.792Z"
   },
   {
    "duration": 3,
    "start_time": "2024-11-28T00:48:56.809Z"
   },
   {
    "duration": 42,
    "start_time": "2024-11-28T00:48:56.814Z"
   },
   {
    "duration": 6,
    "start_time": "2024-11-28T00:48:56.861Z"
   },
   {
    "duration": 20798,
    "start_time": "2024-11-28T00:48:56.869Z"
   },
   {
    "duration": 0,
    "start_time": "2024-11-28T00:49:17.669Z"
   },
   {
    "duration": 0,
    "start_time": "2024-11-28T00:49:17.670Z"
   },
   {
    "duration": 0,
    "start_time": "2024-11-28T00:49:17.671Z"
   },
   {
    "duration": 0,
    "start_time": "2024-11-28T00:49:17.672Z"
   },
   {
    "duration": 968,
    "start_time": "2024-11-28T00:49:30.322Z"
   },
   {
    "duration": 256,
    "start_time": "2024-11-28T00:49:31.292Z"
   },
   {
    "duration": 4,
    "start_time": "2024-11-28T00:49:31.549Z"
   },
   {
    "duration": 47,
    "start_time": "2024-11-28T00:49:31.556Z"
   },
   {
    "duration": 50,
    "start_time": "2024-11-28T00:49:31.605Z"
   },
   {
    "duration": 43,
    "start_time": "2024-11-28T00:49:31.657Z"
   },
   {
    "duration": 11,
    "start_time": "2024-11-28T00:49:31.702Z"
   },
   {
    "duration": 31,
    "start_time": "2024-11-28T00:49:31.715Z"
   },
   {
    "duration": 5,
    "start_time": "2024-11-28T00:49:31.748Z"
   },
   {
    "duration": 16,
    "start_time": "2024-11-28T00:49:31.756Z"
   },
   {
    "duration": 5,
    "start_time": "2024-11-28T00:49:31.773Z"
   },
   {
    "duration": 21059,
    "start_time": "2024-11-28T00:49:31.780Z"
   },
   {
    "duration": 0,
    "start_time": "2024-11-28T00:49:52.841Z"
   },
   {
    "duration": 0,
    "start_time": "2024-11-28T00:49:52.841Z"
   },
   {
    "duration": 0,
    "start_time": "2024-11-28T00:49:52.842Z"
   },
   {
    "duration": 0,
    "start_time": "2024-11-28T00:49:52.843Z"
   },
   {
    "duration": 20808,
    "start_time": "2024-11-28T00:51:24.523Z"
   },
   {
    "duration": 15,
    "start_time": "2024-11-28T00:52:03.340Z"
   },
   {
    "duration": 20094,
    "start_time": "2024-11-28T00:52:36.636Z"
   },
   {
    "duration": 28,
    "start_time": "2024-11-28T00:53:47.323Z"
   },
   {
    "duration": 21383,
    "start_time": "2024-11-28T00:53:48.352Z"
   },
   {
    "duration": 1036,
    "start_time": "2024-11-28T01:04:04.148Z"
   },
   {
    "duration": 266,
    "start_time": "2024-11-28T01:04:05.186Z"
   },
   {
    "duration": 4,
    "start_time": "2024-11-28T01:04:05.454Z"
   },
   {
    "duration": 45,
    "start_time": "2024-11-28T01:04:05.461Z"
   },
   {
    "duration": 48,
    "start_time": "2024-11-28T01:04:05.508Z"
   },
   {
    "duration": 44,
    "start_time": "2024-11-28T01:04:05.558Z"
   },
   {
    "duration": 43,
    "start_time": "2024-11-28T01:04:05.604Z"
   },
   {
    "duration": 16,
    "start_time": "2024-11-28T01:04:05.649Z"
   },
   {
    "duration": 3,
    "start_time": "2024-11-28T01:04:05.666Z"
   },
   {
    "duration": 16,
    "start_time": "2024-11-28T01:04:05.672Z"
   },
   {
    "duration": 5,
    "start_time": "2024-11-28T01:04:05.690Z"
   },
   {
    "duration": 20343,
    "start_time": "2024-11-28T01:04:05.697Z"
   },
   {
    "duration": 82,
    "start_time": "2024-11-28T01:04:26.049Z"
   },
   {
    "duration": 21031,
    "start_time": "2024-11-28T01:04:26.139Z"
   },
   {
    "duration": 67,
    "start_time": "2024-11-28T01:04:47.172Z"
   },
   {
    "duration": 20730,
    "start_time": "2024-11-28T01:04:47.241Z"
   },
   {
    "duration": 3,
    "start_time": "2024-11-28T01:28:01.061Z"
   },
   {
    "duration": 266,
    "start_time": "2024-11-28T01:28:02.378Z"
   },
   {
    "duration": 1465,
    "start_time": "2024-11-28T01:28:12.818Z"
   },
   {
    "duration": 1444,
    "start_time": "2024-11-28T01:28:53.480Z"
   },
   {
    "duration": 1451,
    "start_time": "2024-11-28T01:29:13.899Z"
   },
   {
    "duration": 3,
    "start_time": "2024-11-28T02:00:52.920Z"
   },
   {
    "duration": 4,
    "start_time": "2024-11-28T02:01:43.562Z"
   },
   {
    "duration": 4,
    "start_time": "2024-11-28T02:06:19.376Z"
   },
   {
    "duration": 21156,
    "start_time": "2024-11-28T02:06:28.175Z"
   },
   {
    "duration": 1008,
    "start_time": "2024-11-28T02:07:13.472Z"
   },
   {
    "duration": 213,
    "start_time": "2024-11-28T02:07:14.482Z"
   },
   {
    "duration": 4,
    "start_time": "2024-11-28T02:07:14.697Z"
   },
   {
    "duration": 53,
    "start_time": "2024-11-28T02:07:14.703Z"
   },
   {
    "duration": 41,
    "start_time": "2024-11-28T02:07:14.758Z"
   },
   {
    "duration": 55,
    "start_time": "2024-11-28T02:07:14.801Z"
   },
   {
    "duration": 11,
    "start_time": "2024-11-28T02:07:14.858Z"
   },
   {
    "duration": 15,
    "start_time": "2024-11-28T02:07:14.871Z"
   },
   {
    "duration": 4,
    "start_time": "2024-11-28T02:07:14.887Z"
   },
   {
    "duration": 1467,
    "start_time": "2024-11-28T02:07:14.893Z"
   },
   {
    "duration": 1475,
    "start_time": "2024-11-28T02:07:16.361Z"
   },
   {
    "duration": 1467,
    "start_time": "2024-11-28T02:07:17.838Z"
   },
   {
    "duration": 3,
    "start_time": "2024-11-28T02:07:19.307Z"
   },
   {
    "duration": 15,
    "start_time": "2024-11-28T02:07:19.324Z"
   },
   {
    "duration": 5,
    "start_time": "2024-11-28T02:07:19.341Z"
   },
   {
    "duration": 21694,
    "start_time": "2024-11-28T02:07:19.348Z"
   },
   {
    "duration": 82,
    "start_time": "2024-11-28T02:07:41.043Z"
   },
   {
    "duration": 16,
    "start_time": "2024-11-28T02:07:41.130Z"
   },
   {
    "duration": 21693,
    "start_time": "2024-11-28T02:07:41.148Z"
   },
   {
    "duration": 82,
    "start_time": "2024-11-28T02:08:02.843Z"
   },
   {
    "duration": 16,
    "start_time": "2024-11-28T02:08:02.930Z"
   },
   {
    "duration": 22378,
    "start_time": "2024-11-28T02:08:02.948Z"
   },
   {
    "duration": 5,
    "start_time": "2024-11-28T02:08:25.331Z"
   },
   {
    "duration": 4,
    "start_time": "2024-11-28T03:13:31.232Z"
   },
   {
    "duration": 4,
    "start_time": "2024-11-28T03:18:12.359Z"
   },
   {
    "duration": 984,
    "start_time": "2024-11-28T03:19:34.587Z"
   },
   {
    "duration": 222,
    "start_time": "2024-11-28T03:19:35.573Z"
   },
   {
    "duration": 4,
    "start_time": "2024-11-28T03:19:35.797Z"
   },
   {
    "duration": 54,
    "start_time": "2024-11-28T03:19:35.804Z"
   },
   {
    "duration": 42,
    "start_time": "2024-11-28T03:19:35.860Z"
   },
   {
    "duration": 56,
    "start_time": "2024-11-28T03:19:35.903Z"
   },
   {
    "duration": 11,
    "start_time": "2024-11-28T03:19:35.961Z"
   },
   {
    "duration": 16,
    "start_time": "2024-11-28T03:19:35.974Z"
   },
   {
    "duration": 4,
    "start_time": "2024-11-28T03:19:35.991Z"
   },
   {
    "duration": 34,
    "start_time": "2024-11-28T03:19:35.998Z"
   },
   {
    "duration": 5,
    "start_time": "2024-11-28T03:19:36.034Z"
   },
   {
    "duration": 21686,
    "start_time": "2024-11-28T03:19:36.040Z"
   },
   {
    "duration": 6,
    "start_time": "2024-11-28T03:19:57.729Z"
   },
   {
    "duration": 87,
    "start_time": "2024-11-28T03:19:57.737Z"
   },
   {
    "duration": 22316,
    "start_time": "2024-11-28T03:19:57.826Z"
   },
   {
    "duration": 83,
    "start_time": "2024-11-28T03:20:20.144Z"
   },
   {
    "duration": 16,
    "start_time": "2024-11-28T03:20:20.232Z"
   },
   {
    "duration": 23094,
    "start_time": "2024-11-28T03:20:20.249Z"
   },
   {
    "duration": 80,
    "start_time": "2024-11-28T03:20:43.344Z"
   },
   {
    "duration": 2,
    "start_time": "2024-11-28T03:29:15.223Z"
   },
   {
    "duration": 992,
    "start_time": "2024-11-28T03:31:15.139Z"
   },
   {
    "duration": 233,
    "start_time": "2024-11-28T03:31:16.134Z"
   },
   {
    "duration": 4,
    "start_time": "2024-11-28T03:31:16.368Z"
   },
   {
    "duration": 57,
    "start_time": "2024-11-28T03:31:16.373Z"
   },
   {
    "duration": 42,
    "start_time": "2024-11-28T03:31:16.434Z"
   },
   {
    "duration": 54,
    "start_time": "2024-11-28T03:31:16.478Z"
   },
   {
    "duration": 12,
    "start_time": "2024-11-28T03:31:16.534Z"
   },
   {
    "duration": 15,
    "start_time": "2024-11-28T03:31:16.548Z"
   },
   {
    "duration": 4,
    "start_time": "2024-11-28T03:31:16.565Z"
   },
   {
    "duration": 14,
    "start_time": "2024-11-28T03:31:16.570Z"
   },
   {
    "duration": 5,
    "start_time": "2024-11-28T03:31:16.586Z"
   },
   {
    "duration": 21748,
    "start_time": "2024-11-28T03:31:16.593Z"
   },
   {
    "duration": 81,
    "start_time": "2024-11-28T03:31:38.343Z"
   },
   {
    "duration": 24,
    "start_time": "2024-11-28T03:31:38.427Z"
   },
   {
    "duration": 23471,
    "start_time": "2024-11-28T03:31:38.452Z"
   },
   {
    "duration": 7,
    "start_time": "2024-11-28T03:32:01.930Z"
   },
   {
    "duration": 91,
    "start_time": "2024-11-28T03:32:01.940Z"
   },
   {
    "duration": 22598,
    "start_time": "2024-11-28T03:32:02.034Z"
   },
   {
    "duration": 6,
    "start_time": "2024-11-28T03:32:24.637Z"
   },
   {
    "duration": 7,
    "start_time": "2024-11-28T04:07:34.262Z"
   },
   {
    "duration": 2,
    "start_time": "2024-11-28T04:07:39.929Z"
   },
   {
    "duration": 52,
    "start_time": "2024-11-28T04:08:09.300Z"
   },
   {
    "duration": 3,
    "start_time": "2024-11-28T04:08:20.545Z"
   },
   {
    "duration": 223,
    "start_time": "2024-11-28T04:08:44.739Z"
   },
   {
    "duration": 16,
    "start_time": "2024-11-28T04:08:58.741Z"
   },
   {
    "duration": 14,
    "start_time": "2024-11-28T04:10:27.082Z"
   },
   {
    "duration": 15,
    "start_time": "2024-11-28T04:11:18.817Z"
   },
   {
    "duration": 6,
    "start_time": "2024-11-28T04:11:28.489Z"
   },
   {
    "duration": 3,
    "start_time": "2024-11-28T04:15:28.906Z"
   },
   {
    "duration": 3,
    "start_time": "2024-11-28T04:17:54.316Z"
   },
   {
    "duration": 3,
    "start_time": "2024-11-28T04:18:13.557Z"
   },
   {
    "duration": 158,
    "start_time": "2024-11-28T05:14:59.722Z"
   },
   {
    "duration": 2725,
    "start_time": "2024-11-28T05:15:10.010Z"
   },
   {
    "duration": 290,
    "start_time": "2024-11-28T05:15:12.737Z"
   },
   {
    "duration": 4,
    "start_time": "2024-11-28T05:15:13.029Z"
   },
   {
    "duration": 55,
    "start_time": "2024-11-28T05:15:13.035Z"
   },
   {
    "duration": 41,
    "start_time": "2024-11-28T05:15:13.092Z"
   },
   {
    "duration": 58,
    "start_time": "2024-11-28T05:15:13.136Z"
   },
   {
    "duration": 13,
    "start_time": "2024-11-28T05:15:13.196Z"
   },
   {
    "duration": 17,
    "start_time": "2024-11-28T05:15:13.210Z"
   },
   {
    "duration": 4,
    "start_time": "2024-11-28T05:15:13.228Z"
   },
   {
    "duration": 40,
    "start_time": "2024-11-28T05:15:13.235Z"
   },
   {
    "duration": 5,
    "start_time": "2024-11-28T05:15:13.277Z"
   },
   {
    "duration": 25006,
    "start_time": "2024-11-28T05:15:13.283Z"
   },
   {
    "duration": 82,
    "start_time": "2024-11-28T05:15:38.292Z"
   },
   {
    "duration": 92,
    "start_time": "2024-11-28T05:15:38.378Z"
   },
   {
    "duration": 24816,
    "start_time": "2024-11-28T05:15:38.472Z"
   },
   {
    "duration": 81,
    "start_time": "2024-11-28T05:16:03.293Z"
   },
   {
    "duration": 91,
    "start_time": "2024-11-28T05:16:03.379Z"
   },
   {
    "duration": 25016,
    "start_time": "2024-11-28T05:16:03.472Z"
   },
   {
    "duration": 81,
    "start_time": "2024-11-28T05:16:28.494Z"
   },
   {
    "duration": 7,
    "start_time": "2024-11-28T05:16:28.578Z"
   },
   {
    "duration": 83,
    "start_time": "2024-11-28T05:16:28.588Z"
   },
   {
    "duration": 4,
    "start_time": "2024-11-28T05:17:01.828Z"
   },
   {
    "duration": 4,
    "start_time": "2024-11-28T05:17:15.993Z"
   },
   {
    "duration": 3,
    "start_time": "2024-11-28T05:20:41.241Z"
   },
   {
    "duration": 1028,
    "start_time": "2024-11-28T05:33:26.413Z"
   },
   {
    "duration": 218,
    "start_time": "2024-11-28T05:33:30.140Z"
   },
   {
    "duration": 3,
    "start_time": "2024-11-28T05:33:31.317Z"
   },
   {
    "duration": 47,
    "start_time": "2024-11-28T05:33:32.890Z"
   },
   {
    "duration": 43,
    "start_time": "2024-11-28T05:33:33.816Z"
   },
   {
    "duration": 45,
    "start_time": "2024-11-28T05:33:34.402Z"
   },
   {
    "duration": 15,
    "start_time": "2024-11-28T05:33:36.540Z"
   },
   {
    "duration": 16,
    "start_time": "2024-11-28T05:33:39.805Z"
   },
   {
    "duration": 4,
    "start_time": "2024-11-28T05:33:46.544Z"
   },
   {
    "duration": 15,
    "start_time": "2024-11-28T05:33:48.476Z"
   },
   {
    "duration": 11,
    "start_time": "2024-11-28T05:35:51.895Z"
   },
   {
    "duration": 316,
    "start_time": "2024-11-28T05:36:43.643Z"
   },
   {
    "duration": 11,
    "start_time": "2024-11-28T05:36:59.424Z"
   },
   {
    "duration": 3,
    "start_time": "2024-11-28T05:50:39.793Z"
   },
   {
    "duration": 14,
    "start_time": "2024-11-28T05:50:42.625Z"
   },
   {
    "duration": 12,
    "start_time": "2024-11-28T05:50:44.254Z"
   },
   {
    "duration": 5,
    "start_time": "2024-11-28T05:51:06.657Z"
   },
   {
    "duration": 24221,
    "start_time": "2024-11-28T05:51:07.756Z"
   },
   {
    "duration": 5,
    "start_time": "2024-11-28T05:51:36.103Z"
   },
   {
    "duration": 976,
    "start_time": "2024-11-28T05:52:37.857Z"
   },
   {
    "duration": 219,
    "start_time": "2024-11-28T05:52:38.835Z"
   },
   {
    "duration": 4,
    "start_time": "2024-11-28T05:52:39.056Z"
   },
   {
    "duration": 50,
    "start_time": "2024-11-28T05:52:39.062Z"
   },
   {
    "duration": 42,
    "start_time": "2024-11-28T05:52:39.116Z"
   },
   {
    "duration": 44,
    "start_time": "2024-11-28T05:52:39.170Z"
   },
   {
    "duration": 12,
    "start_time": "2024-11-28T05:52:39.216Z"
   },
   {
    "duration": 16,
    "start_time": "2024-11-28T05:52:39.230Z"
   },
   {
    "duration": 23,
    "start_time": "2024-11-28T05:52:39.248Z"
   },
   {
    "duration": 14,
    "start_time": "2024-11-28T05:52:39.273Z"
   },
   {
    "duration": 5,
    "start_time": "2024-11-28T05:52:39.289Z"
   },
   {
    "duration": 23180,
    "start_time": "2024-11-28T05:52:39.296Z"
   },
   {
    "duration": 5,
    "start_time": "2024-11-28T05:53:02.478Z"
   },
   {
    "duration": 90,
    "start_time": "2024-11-28T05:53:02.489Z"
   },
   {
    "duration": 24106,
    "start_time": "2024-11-28T05:53:02.583Z"
   },
   {
    "duration": 8,
    "start_time": "2024-11-28T05:53:26.769Z"
   },
   {
    "duration": 92,
    "start_time": "2024-11-28T05:53:26.782Z"
   },
   {
    "duration": 23002,
    "start_time": "2024-11-28T05:53:26.876Z"
   },
   {
    "duration": 7,
    "start_time": "2024-11-28T05:53:49.879Z"
   },
   {
    "duration": 81,
    "start_time": "2024-11-28T05:53:49.891Z"
   },
   {
    "duration": 7,
    "start_time": "2024-11-28T05:53:49.977Z"
   },
   {
    "duration": 4,
    "start_time": "2024-11-28T05:53:49.985Z"
   },
   {
    "duration": 4,
    "start_time": "2024-11-28T05:53:49.991Z"
   },
   {
    "duration": 4,
    "start_time": "2024-11-28T06:00:02.335Z"
   },
   {
    "duration": 4,
    "start_time": "2024-11-28T06:00:29.567Z"
   },
   {
    "duration": 4,
    "start_time": "2024-11-28T06:00:38.735Z"
   },
   {
    "duration": 1084,
    "start_time": "2024-11-28T06:06:38.112Z"
   },
   {
    "duration": 218,
    "start_time": "2024-11-28T06:06:39.198Z"
   },
   {
    "duration": 5,
    "start_time": "2024-11-28T06:06:39.418Z"
   },
   {
    "duration": 56,
    "start_time": "2024-11-28T06:06:39.425Z"
   },
   {
    "duration": 42,
    "start_time": "2024-11-28T06:06:39.483Z"
   },
   {
    "duration": 63,
    "start_time": "2024-11-28T06:06:39.527Z"
   },
   {
    "duration": 12,
    "start_time": "2024-11-28T06:06:39.592Z"
   },
   {
    "duration": 16,
    "start_time": "2024-11-28T06:06:39.606Z"
   },
   {
    "duration": 3,
    "start_time": "2024-11-28T06:06:39.624Z"
   },
   {
    "duration": 15,
    "start_time": "2024-11-28T06:06:39.630Z"
   },
   {
    "duration": 366,
    "start_time": "2024-11-28T06:06:39.647Z"
   },
   {
    "duration": 0,
    "start_time": "2024-11-28T06:06:40.015Z"
   },
   {
    "duration": 0,
    "start_time": "2024-11-28T06:06:40.016Z"
   },
   {
    "duration": 0,
    "start_time": "2024-11-28T06:06:40.017Z"
   },
   {
    "duration": 0,
    "start_time": "2024-11-28T06:06:40.018Z"
   },
   {
    "duration": 0,
    "start_time": "2024-11-28T06:06:40.019Z"
   },
   {
    "duration": 0,
    "start_time": "2024-11-28T06:06:40.020Z"
   },
   {
    "duration": 0,
    "start_time": "2024-11-28T06:06:40.022Z"
   },
   {
    "duration": 0,
    "start_time": "2024-11-28T06:06:40.022Z"
   },
   {
    "duration": 0,
    "start_time": "2024-11-28T06:06:40.023Z"
   },
   {
    "duration": 0,
    "start_time": "2024-11-28T06:06:40.024Z"
   },
   {
    "duration": 0,
    "start_time": "2024-11-28T06:06:40.025Z"
   },
   {
    "duration": 0,
    "start_time": "2024-11-28T06:06:40.026Z"
   },
   {
    "duration": 0,
    "start_time": "2024-11-28T06:06:40.027Z"
   },
   {
    "duration": 995,
    "start_time": "2024-11-28T06:06:54.475Z"
   },
   {
    "duration": 223,
    "start_time": "2024-11-28T06:06:58.145Z"
   },
   {
    "duration": 3,
    "start_time": "2024-11-28T06:06:59.969Z"
   },
   {
    "duration": 48,
    "start_time": "2024-11-28T06:07:04.593Z"
   },
   {
    "duration": 41,
    "start_time": "2024-11-28T06:07:05.323Z"
   },
   {
    "duration": 44,
    "start_time": "2024-11-28T06:07:06.208Z"
   },
   {
    "duration": 12,
    "start_time": "2024-11-28T06:07:16.811Z"
   },
   {
    "duration": 18,
    "start_time": "2024-11-28T06:07:17.534Z"
   },
   {
    "duration": 4,
    "start_time": "2024-11-28T06:07:53.841Z"
   },
   {
    "duration": 15,
    "start_time": "2024-11-28T06:07:58.490Z"
   },
   {
    "duration": 356,
    "start_time": "2024-11-28T06:08:04.501Z"
   },
   {
    "duration": 10,
    "start_time": "2024-11-28T06:08:21.205Z"
   },
   {
    "duration": 9,
    "start_time": "2024-11-28T06:08:49.879Z"
   },
   {
    "duration": 4,
    "start_time": "2024-11-28T06:08:53.635Z"
   },
   {
    "duration": 25125,
    "start_time": "2024-11-28T06:08:57.068Z"
   },
   {
    "duration": 7,
    "start_time": "2024-11-28T06:09:22.276Z"
   },
   {
    "duration": 9,
    "start_time": "2024-11-28T06:12:18.230Z"
   },
   {
    "duration": 8,
    "start_time": "2024-11-28T06:13:29.900Z"
   },
   {
    "duration": 15,
    "start_time": "2024-11-28T06:13:37.167Z"
   },
   {
    "duration": 927,
    "start_time": "2024-11-28T06:23:28.844Z"
   },
   {
    "duration": 220,
    "start_time": "2024-11-28T06:23:31.797Z"
   },
   {
    "duration": 4,
    "start_time": "2024-11-28T06:23:32.852Z"
   },
   {
    "duration": 46,
    "start_time": "2024-11-28T06:23:33.756Z"
   },
   {
    "duration": 42,
    "start_time": "2024-11-28T06:23:34.552Z"
   },
   {
    "duration": 45,
    "start_time": "2024-11-28T06:23:35.309Z"
   },
   {
    "duration": 12,
    "start_time": "2024-11-28T06:23:38.117Z"
   },
   {
    "duration": 15,
    "start_time": "2024-11-28T06:23:38.685Z"
   },
   {
    "duration": 4,
    "start_time": "2024-11-28T06:23:41.981Z"
   },
   {
    "duration": 15,
    "start_time": "2024-11-28T06:23:43.072Z"
   },
   {
    "duration": 4,
    "start_time": "2024-11-28T06:23:45.365Z"
   },
   {
    "duration": 3,
    "start_time": "2024-11-28T06:24:02.456Z"
   },
   {
    "duration": 12,
    "start_time": "2024-11-28T06:24:04.901Z"
   },
   {
    "duration": 5,
    "start_time": "2024-11-28T06:25:26.847Z"
   },
   {
    "duration": 6,
    "start_time": "2024-11-28T06:25:38.224Z"
   },
   {
    "duration": 10,
    "start_time": "2024-11-28T06:27:14.079Z"
   },
   {
    "duration": 4,
    "start_time": "2024-11-28T06:27:17.095Z"
   },
   {
    "duration": 15,
    "start_time": "2024-11-28T06:28:04.165Z"
   },
   {
    "duration": 10,
    "start_time": "2024-11-28T06:28:05.755Z"
   },
   {
    "duration": 4,
    "start_time": "2024-11-28T06:28:10.569Z"
   },
   {
    "duration": 12,
    "start_time": "2024-11-28T06:28:17.023Z"
   },
   {
    "duration": 9,
    "start_time": "2024-11-28T06:28:43.990Z"
   },
   {
    "duration": 5,
    "start_time": "2024-11-28T06:28:47.311Z"
   },
   {
    "duration": 7,
    "start_time": "2024-11-28T06:33:56.548Z"
   },
   {
    "duration": 221,
    "start_time": "2024-11-28T06:36:19.221Z"
   },
   {
    "duration": 6,
    "start_time": "2024-11-28T06:37:01.170Z"
   },
   {
    "duration": 4,
    "start_time": "2024-11-28T06:38:31.065Z"
   },
   {
    "duration": 4,
    "start_time": "2024-11-28T06:40:06.275Z"
   },
   {
    "duration": 5,
    "start_time": "2024-11-28T06:40:13.403Z"
   },
   {
    "duration": 15,
    "start_time": "2024-11-28T06:40:34.514Z"
   },
   {
    "duration": 4,
    "start_time": "2024-11-28T06:42:06.774Z"
   },
   {
    "duration": 6,
    "start_time": "2024-11-28T06:42:13.273Z"
   },
   {
    "duration": 6,
    "start_time": "2024-11-28T06:42:42.787Z"
   },
   {
    "duration": 3,
    "start_time": "2024-11-28T06:43:01.282Z"
   },
   {
    "duration": 5,
    "start_time": "2024-11-28T06:45:39.230Z"
   },
   {
    "duration": 3,
    "start_time": "2024-11-28T06:46:55.424Z"
   },
   {
    "duration": 3,
    "start_time": "2024-11-28T06:54:10.265Z"
   },
   {
    "duration": 4,
    "start_time": "2024-11-28T06:57:33.506Z"
   },
   {
    "duration": 3,
    "start_time": "2024-11-28T06:57:37.332Z"
   },
   {
    "duration": 3,
    "start_time": "2024-11-28T06:58:26.983Z"
   },
   {
    "duration": 4,
    "start_time": "2024-11-28T07:01:16.676Z"
   },
   {
    "duration": 5,
    "start_time": "2024-11-28T07:02:13.585Z"
   },
   {
    "duration": 3,
    "start_time": "2024-11-28T07:08:07.685Z"
   },
   {
    "duration": 5,
    "start_time": "2024-11-28T07:09:24.676Z"
   },
   {
    "duration": 4,
    "start_time": "2024-11-28T07:09:32.641Z"
   },
   {
    "duration": 4,
    "start_time": "2024-11-28T07:09:33.959Z"
   },
   {
    "duration": 4,
    "start_time": "2024-11-28T07:14:53.771Z"
   },
   {
    "duration": 2616,
    "start_time": "2024-11-28T16:19:04.309Z"
   },
   {
    "duration": 316,
    "start_time": "2024-11-28T16:19:09.394Z"
   },
   {
    "duration": 6,
    "start_time": "2024-11-28T16:19:10.164Z"
   },
   {
    "duration": 49,
    "start_time": "2024-11-28T16:19:11.176Z"
   },
   {
    "duration": 41,
    "start_time": "2024-11-28T16:19:11.824Z"
   },
   {
    "duration": 44,
    "start_time": "2024-11-28T16:19:12.505Z"
   },
   {
    "duration": 12,
    "start_time": "2024-11-28T16:19:14.601Z"
   },
   {
    "duration": 16,
    "start_time": "2024-11-28T16:19:15.611Z"
   },
   {
    "duration": 3,
    "start_time": "2024-11-28T16:19:17.563Z"
   },
   {
    "duration": 16,
    "start_time": "2024-11-28T16:19:18.614Z"
   },
   {
    "duration": 3,
    "start_time": "2024-11-28T16:19:20.410Z"
   },
   {
    "duration": 9,
    "start_time": "2024-11-28T16:19:21.989Z"
   },
   {
    "duration": 5,
    "start_time": "2024-11-28T16:19:23.924Z"
   },
   {
    "duration": 14,
    "start_time": "2024-11-28T16:19:26.673Z"
   },
   {
    "duration": 9,
    "start_time": "2024-11-28T16:19:27.360Z"
   },
   {
    "duration": 4,
    "start_time": "2024-11-28T16:19:28.794Z"
   },
   {
    "duration": 12,
    "start_time": "2024-11-28T16:19:30.020Z"
   },
   {
    "duration": 10,
    "start_time": "2024-11-28T16:19:30.969Z"
   },
   {
    "duration": 4,
    "start_time": "2024-11-28T16:19:32.624Z"
   },
   {
    "duration": 4,
    "start_time": "2024-11-28T16:19:33.335Z"
   },
   {
    "duration": 5,
    "start_time": "2024-11-28T16:19:36.159Z"
   },
   {
    "duration": 3,
    "start_time": "2024-11-28T16:19:37.210Z"
   },
   {
    "duration": 4,
    "start_time": "2024-11-28T16:19:37.802Z"
   },
   {
    "duration": 7,
    "start_time": "2024-11-28T16:21:16.102Z"
   },
   {
    "duration": 5,
    "start_time": "2024-11-28T16:21:31.387Z"
   },
   {
    "duration": 7,
    "start_time": "2024-11-28T16:21:43.076Z"
   },
   {
    "duration": 2,
    "start_time": "2024-11-28T16:27:36.089Z"
   },
   {
    "duration": 3,
    "start_time": "2024-11-28T16:31:47.406Z"
   },
   {
    "duration": 4,
    "start_time": "2024-11-28T16:32:12.296Z"
   },
   {
    "duration": 985,
    "start_time": "2024-11-28T16:32:57.334Z"
   },
   {
    "duration": 226,
    "start_time": "2024-11-28T16:32:58.322Z"
   },
   {
    "duration": 4,
    "start_time": "2024-11-28T16:32:58.550Z"
   },
   {
    "duration": 49,
    "start_time": "2024-11-28T16:32:58.556Z"
   },
   {
    "duration": 58,
    "start_time": "2024-11-28T16:32:58.606Z"
   },
   {
    "duration": 44,
    "start_time": "2024-11-28T16:32:58.666Z"
   },
   {
    "duration": 11,
    "start_time": "2024-11-28T16:32:58.711Z"
   },
   {
    "duration": 33,
    "start_time": "2024-11-28T16:32:58.724Z"
   },
   {
    "duration": 3,
    "start_time": "2024-11-28T16:32:58.759Z"
   },
   {
    "duration": 15,
    "start_time": "2024-11-28T16:32:58.766Z"
   },
   {
    "duration": 3,
    "start_time": "2024-11-28T16:32:58.783Z"
   },
   {
    "duration": 11,
    "start_time": "2024-11-28T16:32:58.788Z"
   },
   {
    "duration": 44,
    "start_time": "2024-11-28T16:32:58.800Z"
   },
   {
    "duration": 18,
    "start_time": "2024-11-28T16:32:58.846Z"
   },
   {
    "duration": 9,
    "start_time": "2024-11-28T16:32:58.942Z"
   },
   {
    "duration": 4,
    "start_time": "2024-11-28T16:32:58.953Z"
   },
   {
    "duration": 89,
    "start_time": "2024-11-28T16:32:58.959Z"
   },
   {
    "duration": 15,
    "start_time": "2024-11-28T16:32:59.050Z"
   },
   {
    "duration": 3,
    "start_time": "2024-11-28T16:32:59.067Z"
   },
   {
    "duration": 3,
    "start_time": "2024-11-28T16:32:59.072Z"
   },
   {
    "duration": 69,
    "start_time": "2024-11-28T16:32:59.076Z"
   },
   {
    "duration": 7,
    "start_time": "2024-11-28T16:32:59.147Z"
   },
   {
    "duration": 7,
    "start_time": "2024-11-28T16:32:59.156Z"
   },
   {
    "duration": 3,
    "start_time": "2024-11-28T16:37:40.017Z"
   },
   {
    "duration": 3,
    "start_time": "2024-11-28T16:37:51.194Z"
   },
   {
    "duration": 4,
    "start_time": "2024-11-28T16:38:32.209Z"
   },
   {
    "duration": 3,
    "start_time": "2024-11-28T16:39:03.968Z"
   },
   {
    "duration": 3,
    "start_time": "2024-11-28T16:39:52.872Z"
   },
   {
    "duration": 983,
    "start_time": "2024-11-28T16:51:51.662Z"
   },
   {
    "duration": 219,
    "start_time": "2024-11-28T16:51:52.647Z"
   },
   {
    "duration": 4,
    "start_time": "2024-11-28T16:51:52.868Z"
   },
   {
    "duration": 47,
    "start_time": "2024-11-28T16:51:52.874Z"
   },
   {
    "duration": 58,
    "start_time": "2024-11-28T16:51:52.923Z"
   },
   {
    "duration": 45,
    "start_time": "2024-11-28T16:51:52.983Z"
   },
   {
    "duration": 11,
    "start_time": "2024-11-28T16:51:53.043Z"
   },
   {
    "duration": 16,
    "start_time": "2024-11-28T16:51:53.056Z"
   },
   {
    "duration": 3,
    "start_time": "2024-11-28T16:51:53.073Z"
   },
   {
    "duration": 14,
    "start_time": "2024-11-28T16:51:53.080Z"
   },
   {
    "duration": 4,
    "start_time": "2024-11-28T16:51:53.095Z"
   },
   {
    "duration": 43,
    "start_time": "2024-11-28T16:51:53.101Z"
   },
   {
    "duration": 8,
    "start_time": "2024-11-28T16:51:53.145Z"
   },
   {
    "duration": 93,
    "start_time": "2024-11-28T16:51:53.154Z"
   },
   {
    "duration": 14,
    "start_time": "2024-11-28T16:51:53.250Z"
   },
   {
    "duration": 4,
    "start_time": "2024-11-28T16:51:53.266Z"
   },
   {
    "duration": 16,
    "start_time": "2024-11-28T16:51:53.343Z"
   },
   {
    "duration": 87,
    "start_time": "2024-11-28T16:51:53.361Z"
   },
   {
    "duration": 5,
    "start_time": "2024-11-28T16:51:53.450Z"
   },
   {
    "duration": 4,
    "start_time": "2024-11-28T16:51:53.457Z"
   },
   {
    "duration": 79,
    "start_time": "2024-11-28T16:51:53.464Z"
   },
   {
    "duration": 4,
    "start_time": "2024-11-28T16:51:53.545Z"
   },
   {
    "duration": 2,
    "start_time": "2024-11-28T16:51:53.551Z"
   },
   {
    "duration": 6,
    "start_time": "2024-11-28T16:51:53.555Z"
   },
   {
    "duration": 4,
    "start_time": "2024-11-28T16:52:46.081Z"
   },
   {
    "duration": 226,
    "start_time": "2024-11-28T16:52:57.232Z"
   },
   {
    "duration": 3,
    "start_time": "2024-11-28T17:15:55.217Z"
   },
   {
    "duration": 2,
    "start_time": "2024-11-28T17:16:33.713Z"
   },
   {
    "duration": 4,
    "start_time": "2024-11-28T17:17:29.824Z"
   },
   {
    "duration": 13,
    "start_time": "2024-11-28T17:17:44.636Z"
   },
   {
    "duration": 6,
    "start_time": "2024-11-28T17:17:51.705Z"
   },
   {
    "duration": 7,
    "start_time": "2024-11-28T17:36:54.859Z"
   },
   {
    "duration": 6,
    "start_time": "2024-11-28T17:37:20.782Z"
   },
   {
    "duration": 9,
    "start_time": "2024-11-28T17:37:29.888Z"
   },
   {
    "duration": 15,
    "start_time": "2024-11-28T17:57:00.941Z"
   },
   {
    "duration": 3,
    "start_time": "2024-11-28T18:06:00.920Z"
   },
   {
    "duration": 3,
    "start_time": "2024-11-28T18:06:49.968Z"
   },
   {
    "duration": 10,
    "start_time": "2024-11-28T18:07:34.399Z"
   },
   {
    "duration": 3,
    "start_time": "2024-11-28T18:07:46.609Z"
   },
   {
    "duration": 3,
    "start_time": "2024-11-28T18:08:17.896Z"
   },
   {
    "duration": 3,
    "start_time": "2024-11-28T18:10:19.436Z"
   },
   {
    "duration": 3,
    "start_time": "2024-11-28T18:10:32.811Z"
   },
   {
    "duration": 14,
    "start_time": "2024-11-28T18:12:47.362Z"
   },
   {
    "duration": 3,
    "start_time": "2024-11-28T18:12:51.489Z"
   },
   {
    "duration": 3,
    "start_time": "2024-11-28T18:12:52.149Z"
   },
   {
    "duration": 13,
    "start_time": "2024-11-28T18:12:52.879Z"
   },
   {
    "duration": 14,
    "start_time": "2024-11-28T18:15:37.063Z"
   },
   {
    "duration": 3,
    "start_time": "2024-11-28T18:15:43.824Z"
   },
   {
    "duration": 3,
    "start_time": "2024-11-28T18:15:44.597Z"
   },
   {
    "duration": 3,
    "start_time": "2024-11-28T18:15:45.323Z"
   },
   {
    "duration": 3,
    "start_time": "2024-11-28T18:17:46.021Z"
   },
   {
    "duration": 3,
    "start_time": "2024-11-28T18:18:00.145Z"
   },
   {
    "duration": 2,
    "start_time": "2024-11-28T18:18:28.822Z"
   },
   {
    "duration": 4,
    "start_time": "2024-11-28T18:18:42.582Z"
   },
   {
    "duration": 3,
    "start_time": "2024-11-28T18:19:27.321Z"
   },
   {
    "duration": 975,
    "start_time": "2024-11-28T18:19:51.518Z"
   },
   {
    "duration": 226,
    "start_time": "2024-11-28T18:19:52.495Z"
   },
   {
    "duration": 3,
    "start_time": "2024-11-28T18:19:52.723Z"
   },
   {
    "duration": 51,
    "start_time": "2024-11-28T18:19:52.728Z"
   },
   {
    "duration": 42,
    "start_time": "2024-11-28T18:19:52.782Z"
   },
   {
    "duration": 53,
    "start_time": "2024-11-28T18:19:52.826Z"
   },
   {
    "duration": 11,
    "start_time": "2024-11-28T18:19:52.881Z"
   },
   {
    "duration": 15,
    "start_time": "2024-11-28T18:19:52.894Z"
   },
   {
    "duration": 4,
    "start_time": "2024-11-28T18:19:52.911Z"
   },
   {
    "duration": 15,
    "start_time": "2024-11-28T18:19:52.942Z"
   },
   {
    "duration": 10,
    "start_time": "2024-11-28T18:19:52.959Z"
   },
   {
    "duration": 15,
    "start_time": "2024-11-28T18:19:52.971Z"
   },
   {
    "duration": 3,
    "start_time": "2024-11-28T18:19:52.989Z"
   },
   {
    "duration": 65,
    "start_time": "2024-11-28T18:19:52.996Z"
   },
   {
    "duration": 15,
    "start_time": "2024-11-28T18:19:53.142Z"
   },
   {
    "duration": 4,
    "start_time": "2024-11-28T18:19:53.159Z"
   },
   {
    "duration": 81,
    "start_time": "2024-11-28T18:19:53.165Z"
   },
   {
    "duration": 11,
    "start_time": "2024-11-28T18:19:53.248Z"
   },
   {
    "duration": 4,
    "start_time": "2024-11-28T18:19:53.261Z"
   },
   {
    "duration": 77,
    "start_time": "2024-11-28T18:19:53.267Z"
   },
   {
    "duration": 5,
    "start_time": "2024-11-28T18:19:53.346Z"
   },
   {
    "duration": 4,
    "start_time": "2024-11-28T18:19:53.353Z"
   },
   {
    "duration": 3,
    "start_time": "2024-11-28T18:19:53.359Z"
   },
   {
    "duration": 7,
    "start_time": "2024-11-28T18:19:53.364Z"
   },
   {
    "duration": 75,
    "start_time": "2024-11-28T18:19:53.372Z"
   },
   {
    "duration": 6,
    "start_time": "2024-11-28T18:19:53.449Z"
   },
   {
    "duration": 7,
    "start_time": "2024-11-28T18:19:53.457Z"
   },
   {
    "duration": 3,
    "start_time": "2024-11-28T18:19:53.465Z"
   },
   {
    "duration": 2,
    "start_time": "2024-11-28T18:19:53.470Z"
   },
   {
    "duration": 4,
    "start_time": "2024-11-28T18:19:53.474Z"
   },
   {
    "duration": 3,
    "start_time": "2024-11-28T18:19:53.480Z"
   },
   {
    "duration": 4,
    "start_time": "2024-11-28T18:19:53.484Z"
   },
   {
    "duration": 3,
    "start_time": "2024-11-28T18:19:53.490Z"
   },
   {
    "duration": 3,
    "start_time": "2024-11-28T18:19:53.542Z"
   },
   {
    "duration": 969,
    "start_time": "2024-11-28T18:20:45.034Z"
   },
   {
    "duration": 222,
    "start_time": "2024-11-28T18:20:46.005Z"
   },
   {
    "duration": 3,
    "start_time": "2024-11-28T18:20:46.229Z"
   },
   {
    "duration": 54,
    "start_time": "2024-11-28T18:20:46.235Z"
   },
   {
    "duration": 51,
    "start_time": "2024-11-28T18:20:46.291Z"
   },
   {
    "duration": 45,
    "start_time": "2024-11-28T18:20:46.344Z"
   },
   {
    "duration": 12,
    "start_time": "2024-11-28T18:20:46.390Z"
   },
   {
    "duration": 15,
    "start_time": "2024-11-28T18:20:46.404Z"
   },
   {
    "duration": 23,
    "start_time": "2024-11-28T18:20:46.421Z"
   },
   {
    "duration": 16,
    "start_time": "2024-11-28T18:20:46.447Z"
   },
   {
    "duration": 3,
    "start_time": "2024-11-28T18:20:46.465Z"
   },
   {
    "duration": 13,
    "start_time": "2024-11-28T18:20:46.470Z"
   },
   {
    "duration": 59,
    "start_time": "2024-11-28T18:20:46.484Z"
   },
   {
    "duration": 19,
    "start_time": "2024-11-28T18:20:46.544Z"
   },
   {
    "duration": 86,
    "start_time": "2024-11-28T18:20:46.564Z"
   },
   {
    "duration": 4,
    "start_time": "2024-11-28T18:20:46.652Z"
   },
   {
    "duration": 90,
    "start_time": "2024-11-28T18:20:46.658Z"
   },
   {
    "duration": 11,
    "start_time": "2024-11-28T18:20:46.750Z"
   },
   {
    "duration": 80,
    "start_time": "2024-11-28T18:20:46.763Z"
   },
   {
    "duration": 5,
    "start_time": "2024-11-28T18:20:46.846Z"
   },
   {
    "duration": 5,
    "start_time": "2024-11-28T18:20:46.853Z"
   },
   {
    "duration": 3,
    "start_time": "2024-11-28T18:20:46.860Z"
   },
   {
    "duration": 4,
    "start_time": "2024-11-28T18:20:46.865Z"
   },
   {
    "duration": 9,
    "start_time": "2024-11-28T18:20:46.943Z"
   },
   {
    "duration": 4,
    "start_time": "2024-11-28T18:20:46.954Z"
   },
   {
    "duration": 3,
    "start_time": "2024-11-28T18:20:46.960Z"
   },
   {
    "duration": 4,
    "start_time": "2024-11-28T18:20:46.966Z"
   },
   {
    "duration": 3,
    "start_time": "2024-11-28T18:20:46.975Z"
   },
   {
    "duration": 4,
    "start_time": "2024-11-28T18:20:46.980Z"
   },
   {
    "duration": 3,
    "start_time": "2024-11-28T18:20:46.986Z"
   },
   {
    "duration": 5,
    "start_time": "2024-11-28T18:20:46.991Z"
   },
   {
    "duration": 8,
    "start_time": "2024-11-29T06:57:49.281Z"
   },
   {
    "duration": 3,
    "start_time": "2024-11-29T06:57:57.704Z"
   },
   {
    "duration": 157,
    "start_time": "2024-11-29T06:58:08.769Z"
   },
   {
    "duration": 2701,
    "start_time": "2024-11-29T06:58:21.811Z"
   },
   {
    "duration": 294,
    "start_time": "2024-11-29T06:58:24.514Z"
   },
   {
    "duration": 3,
    "start_time": "2024-11-29T06:58:24.810Z"
   },
   {
    "duration": 56,
    "start_time": "2024-11-29T06:58:24.815Z"
   },
   {
    "duration": 42,
    "start_time": "2024-11-29T06:58:24.873Z"
   },
   {
    "duration": 55,
    "start_time": "2024-11-29T06:58:24.916Z"
   },
   {
    "duration": 12,
    "start_time": "2024-11-29T06:58:24.973Z"
   },
   {
    "duration": 16,
    "start_time": "2024-11-29T06:58:24.986Z"
   },
   {
    "duration": 3,
    "start_time": "2024-11-29T06:58:25.004Z"
   },
   {
    "duration": 43,
    "start_time": "2024-11-29T06:58:25.009Z"
   },
   {
    "duration": 3,
    "start_time": "2024-11-29T06:58:25.054Z"
   },
   {
    "duration": 11,
    "start_time": "2024-11-29T06:58:25.059Z"
   },
   {
    "duration": 5,
    "start_time": "2024-11-29T06:58:25.072Z"
   },
   {
    "duration": 77,
    "start_time": "2024-11-29T06:58:25.081Z"
   },
   {
    "duration": 87,
    "start_time": "2024-11-29T06:58:25.160Z"
   },
   {
    "duration": 4,
    "start_time": "2024-11-29T06:58:25.249Z"
   },
   {
    "duration": 90,
    "start_time": "2024-11-29T06:58:25.255Z"
   },
   {
    "duration": 10,
    "start_time": "2024-11-29T06:58:25.351Z"
   },
   {
    "duration": 78,
    "start_time": "2024-11-29T06:58:25.364Z"
   },
   {
    "duration": 6,
    "start_time": "2024-11-29T06:58:25.446Z"
   },
   {
    "duration": 6,
    "start_time": "2024-11-29T06:58:25.455Z"
   },
   {
    "duration": 4,
    "start_time": "2024-11-29T06:58:25.464Z"
   },
   {
    "duration": 3,
    "start_time": "2024-11-29T06:58:25.542Z"
   },
   {
    "duration": 8,
    "start_time": "2024-11-29T06:58:25.547Z"
   },
   {
    "duration": 3,
    "start_time": "2024-11-29T06:58:25.556Z"
   },
   {
    "duration": 4,
    "start_time": "2024-11-29T06:58:25.561Z"
   },
   {
    "duration": 3,
    "start_time": "2024-11-29T06:58:25.566Z"
   },
   {
    "duration": 2,
    "start_time": "2024-11-29T06:58:25.572Z"
   },
   {
    "duration": 4,
    "start_time": "2024-11-29T06:58:25.576Z"
   },
   {
    "duration": 2,
    "start_time": "2024-11-29T06:58:25.582Z"
   },
   {
    "duration": 3,
    "start_time": "2024-11-29T06:58:25.586Z"
   },
   {
    "duration": 53,
    "start_time": "2024-11-29T06:58:25.591Z"
   },
   {
    "duration": 5,
    "start_time": "2024-11-29T06:58:38.272Z"
   },
   {
    "duration": 3,
    "start_time": "2024-11-29T06:58:45.730Z"
   },
   {
    "duration": 5,
    "start_time": "2024-11-29T06:58:57.527Z"
   },
   {
    "duration": 4,
    "start_time": "2024-11-29T06:59:56.385Z"
   },
   {
    "duration": 3,
    "start_time": "2024-11-29T07:00:55.117Z"
   },
   {
    "duration": 3,
    "start_time": "2024-11-29T07:09:49.726Z"
   },
   {
    "duration": 3,
    "start_time": "2024-11-29T07:14:34.168Z"
   },
   {
    "duration": 2,
    "start_time": "2024-11-29T07:15:21.745Z"
   },
   {
    "duration": 3,
    "start_time": "2024-11-29T07:15:37.531Z"
   },
   {
    "duration": 3,
    "start_time": "2024-11-29T07:16:11.503Z"
   },
   {
    "duration": 3,
    "start_time": "2024-11-29T07:16:35.650Z"
   },
   {
    "duration": 3,
    "start_time": "2024-11-29T07:16:47.890Z"
   },
   {
    "duration": 3,
    "start_time": "2024-11-29T07:18:42.630Z"
   },
   {
    "duration": 3,
    "start_time": "2024-11-29T07:18:44.061Z"
   },
   {
    "duration": 3,
    "start_time": "2024-11-29T07:18:49.015Z"
   },
   {
    "duration": 4,
    "start_time": "2024-11-29T07:18:51.791Z"
   },
   {
    "duration": 3,
    "start_time": "2024-11-29T07:22:57.084Z"
   },
   {
    "duration": 3,
    "start_time": "2024-11-29T07:23:15.165Z"
   },
   {
    "duration": 2626,
    "start_time": "2024-11-29T19:08:45.985Z"
   },
   {
    "duration": 980,
    "start_time": "2024-11-29T20:06:27.199Z"
   },
   {
    "duration": 282,
    "start_time": "2024-11-29T20:06:28.181Z"
   },
   {
    "duration": 3,
    "start_time": "2024-11-29T20:06:28.465Z"
   },
   {
    "duration": 46,
    "start_time": "2024-11-29T20:06:28.470Z"
   },
   {
    "duration": 57,
    "start_time": "2024-11-29T20:06:28.520Z"
   },
   {
    "duration": 44,
    "start_time": "2024-11-29T20:06:28.579Z"
   },
   {
    "duration": 20,
    "start_time": "2024-11-29T20:06:28.625Z"
   },
   {
    "duration": 17,
    "start_time": "2024-11-29T20:06:28.647Z"
   },
   {
    "duration": 4,
    "start_time": "2024-11-29T20:06:28.666Z"
   },
   {
    "duration": 15,
    "start_time": "2024-11-29T20:06:28.671Z"
   },
   {
    "duration": 4,
    "start_time": "2024-11-29T20:06:28.687Z"
   },
   {
    "duration": 51,
    "start_time": "2024-11-29T20:06:28.693Z"
   },
   {
    "duration": 4,
    "start_time": "2024-11-29T20:06:28.746Z"
   },
   {
    "duration": 96,
    "start_time": "2024-11-29T20:06:28.755Z"
   },
   {
    "duration": 12,
    "start_time": "2024-11-29T20:06:28.853Z"
   },
   {
    "duration": 3,
    "start_time": "2024-11-29T20:06:28.867Z"
   },
   {
    "duration": 83,
    "start_time": "2024-11-29T20:06:28.872Z"
   },
   {
    "duration": 86,
    "start_time": "2024-11-29T20:06:28.957Z"
   },
   {
    "duration": 7,
    "start_time": "2024-11-29T20:06:29.047Z"
   },
   {
    "duration": 10,
    "start_time": "2024-11-29T20:06:29.058Z"
   },
   {
    "duration": 4,
    "start_time": "2024-11-29T20:06:29.144Z"
   },
   {
    "duration": 3,
    "start_time": "2024-11-29T20:06:29.150Z"
   },
   {
    "duration": 3,
    "start_time": "2024-11-29T20:06:29.154Z"
   },
   {
    "duration": 8,
    "start_time": "2024-11-29T20:06:29.160Z"
   },
   {
    "duration": 3,
    "start_time": "2024-11-29T20:06:29.169Z"
   },
   {
    "duration": 2,
    "start_time": "2024-11-29T20:06:29.175Z"
   },
   {
    "duration": 3,
    "start_time": "2024-11-29T20:06:29.181Z"
   },
   {
    "duration": 59,
    "start_time": "2024-11-29T20:06:29.186Z"
   },
   {
    "duration": 4,
    "start_time": "2024-11-29T20:06:29.246Z"
   },
   {
    "duration": 4,
    "start_time": "2024-11-29T20:06:29.251Z"
   },
   {
    "duration": 8,
    "start_time": "2024-11-29T20:06:29.256Z"
   },
   {
    "duration": 3,
    "start_time": "2024-11-29T20:06:29.265Z"
   },
   {
    "duration": 3,
    "start_time": "2024-11-29T20:06:29.270Z"
   },
   {
    "duration": 3,
    "start_time": "2024-11-29T20:06:29.275Z"
   },
   {
    "duration": 3,
    "start_time": "2024-11-29T20:06:29.280Z"
   },
   {
    "duration": 269,
    "start_time": "2024-11-29T20:06:29.284Z"
   },
   {
    "duration": 25,
    "start_time": "2024-11-29T20:14:19.312Z"
   },
   {
    "duration": 3,
    "start_time": "2024-11-29T20:20:18.568Z"
   },
   {
    "duration": 7,
    "start_time": "2024-11-29T20:20:48.356Z"
   },
   {
    "duration": 5,
    "start_time": "2024-11-29T20:21:04.749Z"
   },
   {
    "duration": 3,
    "start_time": "2024-11-29T20:25:22.809Z"
   },
   {
    "duration": 13,
    "start_time": "2024-11-29T20:27:02.847Z"
   },
   {
    "duration": 2,
    "start_time": "2024-11-29T20:27:13.909Z"
   },
   {
    "duration": 3,
    "start_time": "2024-11-29T20:27:15.624Z"
   },
   {
    "duration": 2,
    "start_time": "2024-11-29T20:27:52.206Z"
   },
   {
    "duration": 3,
    "start_time": "2024-11-29T20:27:53.097Z"
   },
   {
    "duration": 3,
    "start_time": "2024-11-29T20:31:10.783Z"
   },
   {
    "duration": 3,
    "start_time": "2024-11-29T20:36:57.880Z"
   },
   {
    "duration": 522,
    "start_time": "2024-11-29T20:37:00.145Z"
   },
   {
    "duration": 980,
    "start_time": "2024-11-29T20:37:20.025Z"
   },
   {
    "duration": 224,
    "start_time": "2024-11-29T20:37:21.007Z"
   },
   {
    "duration": 5,
    "start_time": "2024-11-29T20:37:21.232Z"
   },
   {
    "duration": 51,
    "start_time": "2024-11-29T20:37:21.238Z"
   },
   {
    "duration": 51,
    "start_time": "2024-11-29T20:37:21.292Z"
   },
   {
    "duration": 44,
    "start_time": "2024-11-29T20:37:21.345Z"
   },
   {
    "duration": 11,
    "start_time": "2024-11-29T20:37:21.391Z"
   },
   {
    "duration": 38,
    "start_time": "2024-11-29T20:37:21.404Z"
   },
   {
    "duration": 4,
    "start_time": "2024-11-29T20:37:21.444Z"
   },
   {
    "duration": 15,
    "start_time": "2024-11-29T20:37:21.450Z"
   },
   {
    "duration": 4,
    "start_time": "2024-11-29T20:37:21.466Z"
   },
   {
    "duration": 15,
    "start_time": "2024-11-29T20:37:21.471Z"
   },
   {
    "duration": 4,
    "start_time": "2024-11-29T20:37:21.542Z"
   },
   {
    "duration": 18,
    "start_time": "2024-11-29T20:37:21.550Z"
   },
   {
    "duration": 9,
    "start_time": "2024-11-29T20:37:21.643Z"
   },
   {
    "duration": 6,
    "start_time": "2024-11-29T20:37:21.656Z"
   },
   {
    "duration": 91,
    "start_time": "2024-11-29T20:37:21.665Z"
   },
   {
    "duration": 9,
    "start_time": "2024-11-29T20:37:21.759Z"
   },
   {
    "duration": 74,
    "start_time": "2024-11-29T20:37:21.770Z"
   },
   {
    "duration": 5,
    "start_time": "2024-11-29T20:37:21.847Z"
   },
   {
    "duration": 9,
    "start_time": "2024-11-29T20:37:21.854Z"
   },
   {
    "duration": 77,
    "start_time": "2024-11-29T20:37:21.865Z"
   },
   {
    "duration": 3,
    "start_time": "2024-11-29T20:37:21.944Z"
   },
   {
    "duration": 8,
    "start_time": "2024-11-29T20:37:21.948Z"
   },
   {
    "duration": 3,
    "start_time": "2024-11-29T20:37:21.958Z"
   },
   {
    "duration": 3,
    "start_time": "2024-11-29T20:37:21.962Z"
   },
   {
    "duration": 3,
    "start_time": "2024-11-29T20:37:21.967Z"
   },
   {
    "duration": 3,
    "start_time": "2024-11-29T20:37:21.972Z"
   },
   {
    "duration": 4,
    "start_time": "2024-11-29T20:37:21.977Z"
   },
   {
    "duration": 3,
    "start_time": "2024-11-29T20:37:21.983Z"
   },
   {
    "duration": 3,
    "start_time": "2024-11-29T20:37:21.987Z"
   },
   {
    "duration": 3,
    "start_time": "2024-11-29T20:37:22.043Z"
   },
   {
    "duration": 2,
    "start_time": "2024-11-29T20:37:22.048Z"
   },
   {
    "duration": 3,
    "start_time": "2024-11-29T20:37:22.052Z"
   },
   {
    "duration": 535,
    "start_time": "2024-11-29T20:37:22.056Z"
   },
   {
    "duration": 3,
    "start_time": "2024-11-29T20:37:22.593Z"
   },
   {
    "duration": 3,
    "start_time": "2024-11-29T20:37:22.598Z"
   },
   {
    "duration": 371,
    "start_time": "2024-11-29T20:37:22.603Z"
   },
   {
    "duration": 14,
    "start_time": "2024-11-29T20:37:38.519Z"
   },
   {
    "duration": 25,
    "start_time": "2024-11-29T20:38:40.482Z"
   },
   {
    "duration": 2,
    "start_time": "2024-11-29T20:44:25.746Z"
   },
   {
    "duration": 4,
    "start_time": "2024-11-29T20:44:25.755Z"
   },
   {
    "duration": 6,
    "start_time": "2024-11-29T20:44:39.877Z"
   },
   {
    "duration": 3,
    "start_time": "2024-11-29T20:44:49.305Z"
   },
   {
    "duration": 3,
    "start_time": "2024-11-29T20:44:50.336Z"
   },
   {
    "duration": 15,
    "start_time": "2024-11-29T20:44:51.745Z"
   },
   {
    "duration": 13,
    "start_time": "2024-11-29T20:45:12.686Z"
   },
   {
    "duration": 15,
    "start_time": "2024-11-29T20:45:21.008Z"
   },
   {
    "duration": 3,
    "start_time": "2024-11-29T20:45:51.938Z"
   },
   {
    "duration": 15,
    "start_time": "2024-11-29T20:45:57.120Z"
   },
   {
    "duration": 16,
    "start_time": "2024-11-29T20:48:05.711Z"
   },
   {
    "duration": 17,
    "start_time": "2024-11-29T20:48:33.450Z"
   },
   {
    "duration": 32,
    "start_time": "2024-11-29T20:53:44.500Z"
   },
   {
    "duration": 169,
    "start_time": "2024-11-29T23:06:51.882Z"
   },
   {
    "duration": 2595,
    "start_time": "2024-11-29T23:07:07.194Z"
   },
   {
    "duration": 314,
    "start_time": "2024-11-29T23:07:09.791Z"
   },
   {
    "duration": 4,
    "start_time": "2024-11-29T23:07:10.106Z"
   },
   {
    "duration": 46,
    "start_time": "2024-11-29T23:07:10.112Z"
   },
   {
    "duration": 54,
    "start_time": "2024-11-29T23:07:10.161Z"
   },
   {
    "duration": 45,
    "start_time": "2024-11-29T23:07:10.218Z"
   },
   {
    "duration": 12,
    "start_time": "2024-11-29T23:07:10.265Z"
   },
   {
    "duration": 32,
    "start_time": "2024-11-29T23:07:10.279Z"
   },
   {
    "duration": 5,
    "start_time": "2024-11-29T23:07:10.313Z"
   },
   {
    "duration": 14,
    "start_time": "2024-11-29T23:07:10.320Z"
   },
   {
    "duration": 3,
    "start_time": "2024-11-29T23:07:10.336Z"
   },
   {
    "duration": 9,
    "start_time": "2024-11-29T23:07:10.340Z"
   },
   {
    "duration": 4,
    "start_time": "2024-11-29T23:07:10.351Z"
   },
   {
    "duration": 17,
    "start_time": "2024-11-29T23:07:10.412Z"
   },
   {
    "duration": 84,
    "start_time": "2024-11-29T23:07:10.430Z"
   },
   {
    "duration": 4,
    "start_time": "2024-11-29T23:07:10.516Z"
   },
   {
    "duration": 92,
    "start_time": "2024-11-29T23:07:10.522Z"
   },
   {
    "duration": 11,
    "start_time": "2024-11-29T23:07:10.616Z"
   },
   {
    "duration": 6,
    "start_time": "2024-11-29T23:07:10.630Z"
   },
   {
    "duration": 4,
    "start_time": "2024-11-29T23:07:10.712Z"
   },
   {
    "duration": 4,
    "start_time": "2024-11-29T23:07:10.718Z"
   },
   {
    "duration": 4,
    "start_time": "2024-11-29T23:07:10.724Z"
   },
   {
    "duration": 2,
    "start_time": "2024-11-29T23:07:10.730Z"
   },
   {
    "duration": 78,
    "start_time": "2024-11-29T23:07:10.734Z"
   },
   {
    "duration": 3,
    "start_time": "2024-11-29T23:07:10.813Z"
   },
   {
    "duration": 3,
    "start_time": "2024-11-29T23:07:10.818Z"
   },
   {
    "duration": 4,
    "start_time": "2024-11-29T23:07:10.822Z"
   },
   {
    "duration": 4,
    "start_time": "2024-11-29T23:07:10.827Z"
   },
   {
    "duration": 4,
    "start_time": "2024-11-29T23:07:10.832Z"
   },
   {
    "duration": 4,
    "start_time": "2024-11-29T23:07:10.837Z"
   },
   {
    "duration": 5,
    "start_time": "2024-11-29T23:07:10.842Z"
   },
   {
    "duration": 4,
    "start_time": "2024-11-29T23:07:10.848Z"
   },
   {
    "duration": 3,
    "start_time": "2024-11-29T23:07:10.854Z"
   },
   {
    "duration": 3,
    "start_time": "2024-11-29T23:07:10.858Z"
   },
   {
    "duration": 50,
    "start_time": "2024-11-29T23:07:10.862Z"
   },
   {
    "duration": 3,
    "start_time": "2024-11-29T23:07:10.914Z"
   },
   {
    "duration": 3,
    "start_time": "2024-11-29T23:07:10.919Z"
   },
   {
    "duration": 25,
    "start_time": "2024-11-29T23:07:10.923Z"
   },
   {
    "duration": 5,
    "start_time": "2024-11-29T23:07:10.950Z"
   },
   {
    "duration": 7,
    "start_time": "2024-11-29T23:07:10.958Z"
   },
   {
    "duration": 15,
    "start_time": "2024-11-29T23:11:59.153Z"
   },
   {
    "duration": 22,
    "start_time": "2024-11-29T23:12:12.968Z"
   },
   {
    "duration": 298,
    "start_time": "2024-11-29T23:12:23.807Z"
   },
   {
    "duration": 21,
    "start_time": "2024-11-29T23:13:25.994Z"
   },
   {
    "duration": 20,
    "start_time": "2024-11-29T23:13:42.589Z"
   },
   {
    "duration": 20,
    "start_time": "2024-11-29T23:13:56.687Z"
   },
   {
    "duration": 19,
    "start_time": "2024-11-29T23:14:26.559Z"
   },
   {
    "duration": 20,
    "start_time": "2024-11-29T23:14:40.927Z"
   },
   {
    "duration": 5,
    "start_time": "2024-11-29T23:19:16.540Z"
   },
   {
    "duration": 15,
    "start_time": "2024-11-29T23:19:23.910Z"
   },
   {
    "duration": 973,
    "start_time": "2024-11-29T23:19:43.506Z"
   },
   {
    "duration": 230,
    "start_time": "2024-11-29T23:19:44.481Z"
   },
   {
    "duration": 8,
    "start_time": "2024-11-29T23:19:44.713Z"
   },
   {
    "duration": 47,
    "start_time": "2024-11-29T23:19:44.724Z"
   },
   {
    "duration": 58,
    "start_time": "2024-11-29T23:19:44.773Z"
   },
   {
    "duration": 44,
    "start_time": "2024-11-29T23:19:44.833Z"
   },
   {
    "duration": 12,
    "start_time": "2024-11-29T23:19:44.879Z"
   },
   {
    "duration": 30,
    "start_time": "2024-11-29T23:19:44.892Z"
   },
   {
    "duration": 3,
    "start_time": "2024-11-29T23:19:44.927Z"
   },
   {
    "duration": 14,
    "start_time": "2024-11-29T23:19:44.935Z"
   },
   {
    "duration": 3,
    "start_time": "2024-11-29T23:19:44.952Z"
   },
   {
    "duration": 56,
    "start_time": "2024-11-29T23:19:44.957Z"
   },
   {
    "duration": 3,
    "start_time": "2024-11-29T23:19:45.016Z"
   },
   {
    "duration": 88,
    "start_time": "2024-11-29T23:19:45.024Z"
   },
   {
    "duration": 11,
    "start_time": "2024-11-29T23:19:45.114Z"
   },
   {
    "duration": 8,
    "start_time": "2024-11-29T23:19:45.127Z"
   },
   {
    "duration": 91,
    "start_time": "2024-11-29T23:19:45.136Z"
   },
   {
    "duration": 9,
    "start_time": "2024-11-29T23:19:45.229Z"
   },
   {
    "duration": 76,
    "start_time": "2024-11-29T23:19:45.239Z"
   },
   {
    "duration": 7,
    "start_time": "2024-11-29T23:19:45.316Z"
   },
   {
    "duration": 7,
    "start_time": "2024-11-29T23:19:45.324Z"
   },
   {
    "duration": 71,
    "start_time": "2024-11-29T23:19:45.343Z"
   },
   {
    "duration": 4,
    "start_time": "2024-11-29T23:19:45.417Z"
   },
   {
    "duration": 7,
    "start_time": "2024-11-29T23:19:45.423Z"
   },
   {
    "duration": 3,
    "start_time": "2024-11-29T23:19:45.432Z"
   },
   {
    "duration": 3,
    "start_time": "2024-11-29T23:19:45.436Z"
   },
   {
    "duration": 4,
    "start_time": "2024-11-29T23:19:45.441Z"
   },
   {
    "duration": 3,
    "start_time": "2024-11-29T23:19:45.448Z"
   },
   {
    "duration": 3,
    "start_time": "2024-11-29T23:19:45.453Z"
   },
   {
    "duration": 4,
    "start_time": "2024-11-29T23:19:45.457Z"
   },
   {
    "duration": 50,
    "start_time": "2024-11-29T23:19:45.462Z"
   },
   {
    "duration": 2,
    "start_time": "2024-11-29T23:19:45.514Z"
   },
   {
    "duration": 3,
    "start_time": "2024-11-29T23:19:45.518Z"
   },
   {
    "duration": 3,
    "start_time": "2024-11-29T23:19:45.523Z"
   },
   {
    "duration": 3,
    "start_time": "2024-11-29T23:19:45.528Z"
   },
   {
    "duration": 3,
    "start_time": "2024-11-29T23:19:45.532Z"
   },
   {
    "duration": 5,
    "start_time": "2024-11-29T23:19:45.537Z"
   },
   {
    "duration": 75,
    "start_time": "2024-11-29T23:19:45.544Z"
   },
   {
    "duration": 21,
    "start_time": "2024-11-29T23:19:45.620Z"
   },
   {
    "duration": 241,
    "start_time": "2024-11-29T23:19:45.643Z"
   },
   {
    "duration": 4,
    "start_time": "2024-11-29T23:20:18.738Z"
   },
   {
    "duration": 21,
    "start_time": "2024-11-29T23:26:57.966Z"
   },
   {
    "duration": 3,
    "start_time": "2024-11-29T23:27:37.885Z"
   },
   {
    "duration": 3,
    "start_time": "2024-11-29T23:28:32.082Z"
   },
   {
    "duration": 27,
    "start_time": "2024-11-29T23:28:32.863Z"
   },
   {
    "duration": 4,
    "start_time": "2024-11-29T23:30:33.180Z"
   },
   {
    "duration": 993,
    "start_time": "2024-11-29T23:31:09.015Z"
   },
   {
    "duration": 220,
    "start_time": "2024-11-29T23:31:10.011Z"
   },
   {
    "duration": 4,
    "start_time": "2024-11-29T23:31:10.233Z"
   },
   {
    "duration": 47,
    "start_time": "2024-11-29T23:31:10.239Z"
   },
   {
    "duration": 54,
    "start_time": "2024-11-29T23:31:10.288Z"
   },
   {
    "duration": 44,
    "start_time": "2024-11-29T23:31:10.343Z"
   },
   {
    "duration": 23,
    "start_time": "2024-11-29T23:31:10.389Z"
   },
   {
    "duration": 16,
    "start_time": "2024-11-29T23:31:10.414Z"
   },
   {
    "duration": 3,
    "start_time": "2024-11-29T23:31:10.431Z"
   },
   {
    "duration": 14,
    "start_time": "2024-11-29T23:31:10.438Z"
   },
   {
    "duration": 3,
    "start_time": "2024-11-29T23:31:10.454Z"
   },
   {
    "duration": 53,
    "start_time": "2024-11-29T23:31:10.459Z"
   },
   {
    "duration": 3,
    "start_time": "2024-11-29T23:31:10.514Z"
   },
   {
    "duration": 95,
    "start_time": "2024-11-29T23:31:10.519Z"
   },
   {
    "duration": 10,
    "start_time": "2024-11-29T23:31:10.616Z"
   },
   {
    "duration": 5,
    "start_time": "2024-11-29T23:31:10.628Z"
   },
   {
    "duration": 86,
    "start_time": "2024-11-29T23:31:10.635Z"
   },
   {
    "duration": 89,
    "start_time": "2024-11-29T23:31:10.723Z"
   },
   {
    "duration": 5,
    "start_time": "2024-11-29T23:31:10.814Z"
   },
   {
    "duration": 4,
    "start_time": "2024-11-29T23:31:10.822Z"
   },
   {
    "duration": 4,
    "start_time": "2024-11-29T23:31:10.828Z"
   },
   {
    "duration": 78,
    "start_time": "2024-11-29T23:31:10.834Z"
   },
   {
    "duration": 2,
    "start_time": "2024-11-29T23:31:10.914Z"
   },
   {
    "duration": 8,
    "start_time": "2024-11-29T23:31:10.918Z"
   },
   {
    "duration": 3,
    "start_time": "2024-11-29T23:31:10.928Z"
   },
   {
    "duration": 3,
    "start_time": "2024-11-29T23:31:10.932Z"
   },
   {
    "duration": 3,
    "start_time": "2024-11-29T23:31:10.937Z"
   },
   {
    "duration": 2,
    "start_time": "2024-11-29T23:31:10.945Z"
   },
   {
    "duration": 3,
    "start_time": "2024-11-29T23:31:10.949Z"
   },
   {
    "duration": 3,
    "start_time": "2024-11-29T23:31:10.954Z"
   },
   {
    "duration": 57,
    "start_time": "2024-11-29T23:31:10.958Z"
   },
   {
    "duration": 3,
    "start_time": "2024-11-29T23:31:11.017Z"
   },
   {
    "duration": 4,
    "start_time": "2024-11-29T23:31:11.022Z"
   },
   {
    "duration": 3,
    "start_time": "2024-11-29T23:31:11.028Z"
   },
   {
    "duration": 4,
    "start_time": "2024-11-29T23:31:11.032Z"
   },
   {
    "duration": 2,
    "start_time": "2024-11-29T23:31:11.039Z"
   },
   {
    "duration": 20,
    "start_time": "2024-11-29T23:31:11.043Z"
   },
   {
    "duration": 2,
    "start_time": "2024-11-29T23:31:11.065Z"
   },
   {
    "duration": 76,
    "start_time": "2024-11-29T23:31:11.069Z"
   },
   {
    "duration": 4,
    "start_time": "2024-11-29T23:31:11.147Z"
   },
   {
    "duration": 20,
    "start_time": "2024-11-29T23:31:11.153Z"
   },
   {
    "duration": 3,
    "start_time": "2024-11-29T23:31:11.175Z"
   },
   {
    "duration": 31,
    "start_time": "2024-11-29T23:31:11.212Z"
   },
   {
    "duration": 5,
    "start_time": "2024-11-29T23:31:11.245Z"
   },
   {
    "duration": 5,
    "start_time": "2024-11-29T23:35:56.532Z"
   },
   {
    "duration": 2,
    "start_time": "2024-11-29T23:36:08.058Z"
   },
   {
    "duration": 3,
    "start_time": "2024-11-29T23:36:53.734Z"
   },
   {
    "duration": 18,
    "start_time": "2024-11-29T23:38:19.968Z"
   },
   {
    "duration": 20,
    "start_time": "2024-11-29T23:38:33.000Z"
   },
   {
    "duration": 20,
    "start_time": "2024-11-29T23:40:00.323Z"
   },
   {
    "duration": 21,
    "start_time": "2024-11-29T23:40:29.259Z"
   },
   {
    "duration": 6,
    "start_time": "2024-11-29T23:45:02.483Z"
   },
   {
    "duration": 3,
    "start_time": "2024-11-29T23:45:09.911Z"
   },
   {
    "duration": 233,
    "start_time": "2024-11-30T00:02:53.163Z"
   },
   {
    "duration": 2,
    "start_time": "2024-11-30T00:02:59.721Z"
   },
   {
    "duration": 4,
    "start_time": "2024-11-30T00:03:01.232Z"
   },
   {
    "duration": 32,
    "start_time": "2024-11-30T00:03:02.601Z"
   },
   {
    "duration": 28,
    "start_time": "2024-11-30T00:04:33.489Z"
   },
   {
    "duration": 2,
    "start_time": "2024-11-30T00:06:16.920Z"
   },
   {
    "duration": 3,
    "start_time": "2024-11-30T00:06:17.785Z"
   },
   {
    "duration": 2,
    "start_time": "2024-11-30T00:07:17.861Z"
   },
   {
    "duration": 3,
    "start_time": "2024-11-30T00:07:18.930Z"
   },
   {
    "duration": 2,
    "start_time": "2024-11-30T00:07:46.781Z"
   },
   {
    "duration": 26,
    "start_time": "2024-11-30T00:08:15.712Z"
   },
   {
    "duration": 34,
    "start_time": "2024-11-30T00:08:53.720Z"
   },
   {
    "duration": 4,
    "start_time": "2024-11-30T00:09:29.415Z"
   },
   {
    "duration": 4,
    "start_time": "2024-11-30T00:09:43.456Z"
   },
   {
    "duration": 25,
    "start_time": "2024-11-30T00:09:45.801Z"
   },
   {
    "duration": 25,
    "start_time": "2024-11-30T00:09:48.921Z"
   },
   {
    "duration": 27,
    "start_time": "2024-11-30T00:09:52.863Z"
   },
   {
    "duration": 3,
    "start_time": "2024-11-30T00:21:47.306Z"
   },
   {
    "duration": 4,
    "start_time": "2024-11-30T00:24:12.879Z"
   },
   {
    "duration": 14,
    "start_time": "2024-11-30T00:26:06.091Z"
   },
   {
    "duration": 3,
    "start_time": "2024-11-30T00:27:00.232Z"
   },
   {
    "duration": 5,
    "start_time": "2024-11-30T00:27:01.102Z"
   },
   {
    "duration": 3,
    "start_time": "2024-11-30T00:44:52.000Z"
   },
   {
    "duration": 4,
    "start_time": "2024-11-30T00:44:55.747Z"
   },
   {
    "duration": 4,
    "start_time": "2024-11-30T00:45:19.502Z"
   },
   {
    "duration": 4,
    "start_time": "2024-11-30T00:45:36.194Z"
   },
   {
    "duration": 3,
    "start_time": "2024-11-30T01:18:30.469Z"
   },
   {
    "duration": 13,
    "start_time": "2024-11-30T01:18:31.295Z"
   },
   {
    "duration": 3,
    "start_time": "2024-11-30T01:19:06.419Z"
   },
   {
    "duration": 14,
    "start_time": "2024-11-30T01:20:04.130Z"
   },
   {
    "duration": 4,
    "start_time": "2024-11-30T01:20:09.409Z"
   },
   {
    "duration": 13,
    "start_time": "2024-11-30T01:20:10.316Z"
   },
   {
    "duration": 4,
    "start_time": "2024-11-30T01:20:20.543Z"
   },
   {
    "duration": 14,
    "start_time": "2024-11-30T01:20:21.142Z"
   },
   {
    "duration": 1022,
    "start_time": "2024-11-30T01:20:33.444Z"
   },
   {
    "duration": 225,
    "start_time": "2024-11-30T01:20:34.468Z"
   },
   {
    "duration": 9,
    "start_time": "2024-11-30T01:20:34.695Z"
   },
   {
    "duration": 56,
    "start_time": "2024-11-30T01:20:34.706Z"
   },
   {
    "duration": 41,
    "start_time": "2024-11-30T01:20:34.765Z"
   },
   {
    "duration": 44,
    "start_time": "2024-11-30T01:20:34.811Z"
   },
   {
    "duration": 12,
    "start_time": "2024-11-30T01:20:34.858Z"
   },
   {
    "duration": 16,
    "start_time": "2024-11-30T01:20:34.871Z"
   },
   {
    "duration": 22,
    "start_time": "2024-11-30T01:20:34.889Z"
   },
   {
    "duration": 18,
    "start_time": "2024-11-30T01:20:34.914Z"
   },
   {
    "duration": 4,
    "start_time": "2024-11-30T01:20:34.933Z"
   },
   {
    "duration": 247,
    "start_time": "2024-11-30T01:20:34.938Z"
   },
   {
    "duration": 0,
    "start_time": "2024-11-30T01:20:35.188Z"
   },
   {
    "duration": 0,
    "start_time": "2024-11-30T01:20:35.189Z"
   },
   {
    "duration": 0,
    "start_time": "2024-11-30T01:20:35.190Z"
   },
   {
    "duration": 0,
    "start_time": "2024-11-30T01:20:35.192Z"
   },
   {
    "duration": 0,
    "start_time": "2024-11-30T01:20:35.193Z"
   },
   {
    "duration": 0,
    "start_time": "2024-11-30T01:20:35.194Z"
   },
   {
    "duration": 0,
    "start_time": "2024-11-30T01:20:35.195Z"
   },
   {
    "duration": 0,
    "start_time": "2024-11-30T01:20:35.196Z"
   },
   {
    "duration": 0,
    "start_time": "2024-11-30T01:20:35.212Z"
   },
   {
    "duration": 0,
    "start_time": "2024-11-30T01:20:35.213Z"
   },
   {
    "duration": 0,
    "start_time": "2024-11-30T01:20:35.214Z"
   },
   {
    "duration": 0,
    "start_time": "2024-11-30T01:20:35.215Z"
   },
   {
    "duration": 0,
    "start_time": "2024-11-30T01:20:35.217Z"
   },
   {
    "duration": 1,
    "start_time": "2024-11-30T01:20:35.217Z"
   },
   {
    "duration": 0,
    "start_time": "2024-11-30T01:20:35.218Z"
   },
   {
    "duration": 0,
    "start_time": "2024-11-30T01:20:35.220Z"
   },
   {
    "duration": 0,
    "start_time": "2024-11-30T01:20:35.221Z"
   },
   {
    "duration": 0,
    "start_time": "2024-11-30T01:20:35.222Z"
   },
   {
    "duration": 0,
    "start_time": "2024-11-30T01:20:35.223Z"
   },
   {
    "duration": 0,
    "start_time": "2024-11-30T01:20:35.224Z"
   },
   {
    "duration": 0,
    "start_time": "2024-11-30T01:20:35.225Z"
   },
   {
    "duration": 0,
    "start_time": "2024-11-30T01:20:35.226Z"
   },
   {
    "duration": 0,
    "start_time": "2024-11-30T01:20:35.227Z"
   },
   {
    "duration": 0,
    "start_time": "2024-11-30T01:20:35.228Z"
   },
   {
    "duration": 0,
    "start_time": "2024-11-30T01:20:35.229Z"
   },
   {
    "duration": 0,
    "start_time": "2024-11-30T01:20:35.231Z"
   },
   {
    "duration": 0,
    "start_time": "2024-11-30T01:20:35.232Z"
   },
   {
    "duration": 0,
    "start_time": "2024-11-30T01:20:35.233Z"
   },
   {
    "duration": 0,
    "start_time": "2024-11-30T01:20:35.235Z"
   },
   {
    "duration": 0,
    "start_time": "2024-11-30T01:20:35.236Z"
   },
   {
    "duration": 0,
    "start_time": "2024-11-30T01:20:35.238Z"
   },
   {
    "duration": 0,
    "start_time": "2024-11-30T01:20:35.240Z"
   },
   {
    "duration": 0,
    "start_time": "2024-11-30T01:20:35.240Z"
   },
   {
    "duration": 1,
    "start_time": "2024-11-30T01:20:35.241Z"
   },
   {
    "duration": 0,
    "start_time": "2024-11-30T01:20:35.243Z"
   },
   {
    "duration": 0,
    "start_time": "2024-11-30T01:20:35.245Z"
   },
   {
    "duration": 0,
    "start_time": "2024-11-30T01:20:35.246Z"
   },
   {
    "duration": 0,
    "start_time": "2024-11-30T01:20:35.247Z"
   },
   {
    "duration": 1,
    "start_time": "2024-11-30T01:20:35.248Z"
   },
   {
    "duration": 0,
    "start_time": "2024-11-30T01:20:35.250Z"
   },
   {
    "duration": 4,
    "start_time": "2024-11-30T01:21:39.181Z"
   },
   {
    "duration": 225,
    "start_time": "2024-11-30T01:21:42.592Z"
   },
   {
    "duration": 52,
    "start_time": "2024-11-30T01:22:09.685Z"
   },
   {
    "duration": 19,
    "start_time": "2024-11-30T01:22:27.717Z"
   },
   {
    "duration": 151,
    "start_time": "2024-11-30T01:22:56.973Z"
   },
   {
    "duration": 19,
    "start_time": "2024-11-30T01:24:20.872Z"
   },
   {
    "duration": 213,
    "start_time": "2024-11-30T01:24:31.107Z"
   },
   {
    "duration": 2668,
    "start_time": "2024-11-30T04:30:50.774Z"
   },
   {
    "duration": 299,
    "start_time": "2024-11-30T04:30:53.444Z"
   },
   {
    "duration": 3,
    "start_time": "2024-11-30T04:30:53.745Z"
   },
   {
    "duration": 47,
    "start_time": "2024-11-30T04:30:53.750Z"
   },
   {
    "duration": 41,
    "start_time": "2024-11-30T04:30:53.800Z"
   },
   {
    "duration": 61,
    "start_time": "2024-11-30T04:30:53.843Z"
   },
   {
    "duration": 12,
    "start_time": "2024-11-30T04:30:53.906Z"
   },
   {
    "duration": 17,
    "start_time": "2024-11-30T04:30:53.920Z"
   },
   {
    "duration": 3,
    "start_time": "2024-11-30T04:30:53.941Z"
   },
   {
    "duration": 33,
    "start_time": "2024-11-30T04:30:53.946Z"
   },
   {
    "duration": 4,
    "start_time": "2024-11-30T04:30:53.981Z"
   },
   {
    "duration": 199,
    "start_time": "2024-11-30T04:30:53.987Z"
   },
   {
    "duration": 345,
    "start_time": "2024-11-30T04:30:54.188Z"
   },
   {
    "duration": 0,
    "start_time": "2024-11-30T04:30:54.536Z"
   },
   {
    "duration": 0,
    "start_time": "2024-11-30T04:30:54.537Z"
   },
   {
    "duration": 0,
    "start_time": "2024-11-30T04:30:54.538Z"
   },
   {
    "duration": 0,
    "start_time": "2024-11-30T04:30:54.539Z"
   },
   {
    "duration": 0,
    "start_time": "2024-11-30T04:30:54.541Z"
   },
   {
    "duration": 0,
    "start_time": "2024-11-30T04:30:54.542Z"
   },
   {
    "duration": 0,
    "start_time": "2024-11-30T04:30:54.543Z"
   },
   {
    "duration": 0,
    "start_time": "2024-11-30T04:30:54.544Z"
   },
   {
    "duration": 0,
    "start_time": "2024-11-30T04:30:54.545Z"
   },
   {
    "duration": 0,
    "start_time": "2024-11-30T04:30:54.546Z"
   },
   {
    "duration": 0,
    "start_time": "2024-11-30T04:30:54.547Z"
   },
   {
    "duration": 0,
    "start_time": "2024-11-30T04:30:54.570Z"
   },
   {
    "duration": 0,
    "start_time": "2024-11-30T04:30:54.571Z"
   },
   {
    "duration": 0,
    "start_time": "2024-11-30T04:30:54.572Z"
   },
   {
    "duration": 0,
    "start_time": "2024-11-30T04:30:54.574Z"
   },
   {
    "duration": 0,
    "start_time": "2024-11-30T04:30:54.575Z"
   },
   {
    "duration": 0,
    "start_time": "2024-11-30T04:30:54.576Z"
   },
   {
    "duration": 0,
    "start_time": "2024-11-30T04:30:54.577Z"
   },
   {
    "duration": 0,
    "start_time": "2024-11-30T04:30:54.579Z"
   },
   {
    "duration": 0,
    "start_time": "2024-11-30T04:30:54.580Z"
   },
   {
    "duration": 0,
    "start_time": "2024-11-30T04:30:54.582Z"
   },
   {
    "duration": 0,
    "start_time": "2024-11-30T04:30:54.583Z"
   },
   {
    "duration": 0,
    "start_time": "2024-11-30T04:30:54.585Z"
   },
   {
    "duration": 0,
    "start_time": "2024-11-30T04:30:54.586Z"
   },
   {
    "duration": 0,
    "start_time": "2024-11-30T04:30:54.588Z"
   },
   {
    "duration": 0,
    "start_time": "2024-11-30T04:30:54.589Z"
   },
   {
    "duration": 0,
    "start_time": "2024-11-30T04:30:54.591Z"
   },
   {
    "duration": 0,
    "start_time": "2024-11-30T04:30:54.592Z"
   },
   {
    "duration": 0,
    "start_time": "2024-11-30T04:30:54.594Z"
   },
   {
    "duration": 0,
    "start_time": "2024-11-30T04:30:54.595Z"
   },
   {
    "duration": 0,
    "start_time": "2024-11-30T04:30:54.596Z"
   },
   {
    "duration": 0,
    "start_time": "2024-11-30T04:30:54.597Z"
   },
   {
    "duration": 0,
    "start_time": "2024-11-30T04:30:54.599Z"
   },
   {
    "duration": 0,
    "start_time": "2024-11-30T04:30:54.600Z"
   },
   {
    "duration": 0,
    "start_time": "2024-11-30T04:30:54.602Z"
   },
   {
    "duration": 0,
    "start_time": "2024-11-30T04:30:54.603Z"
   },
   {
    "duration": 0,
    "start_time": "2024-11-30T04:30:54.607Z"
   },
   {
    "duration": 0,
    "start_time": "2024-11-30T04:30:54.609Z"
   },
   {
    "duration": 1,
    "start_time": "2024-11-30T04:30:54.610Z"
   },
   {
    "duration": 3,
    "start_time": "2024-11-30T04:31:23.915Z"
   },
   {
    "duration": 134,
    "start_time": "2024-11-30T04:31:26.939Z"
   },
   {
    "duration": 14,
    "start_time": "2024-11-30T04:31:27.638Z"
   },
   {
    "duration": 15,
    "start_time": "2024-11-30T04:31:28.350Z"
   },
   {
    "duration": 3,
    "start_time": "2024-11-30T05:01:34.314Z"
   },
   {
    "duration": 229,
    "start_time": "2024-11-30T05:01:36.412Z"
   },
   {
    "duration": 4,
    "start_time": "2024-11-30T05:01:37.108Z"
   },
   {
    "duration": 43,
    "start_time": "2024-11-30T05:01:37.752Z"
   },
   {
    "duration": 40,
    "start_time": "2024-11-30T05:01:38.499Z"
   },
   {
    "duration": 42,
    "start_time": "2024-11-30T05:01:40.389Z"
   },
   {
    "duration": 10,
    "start_time": "2024-11-30T05:01:48.338Z"
   },
   {
    "duration": 15,
    "start_time": "2024-11-30T05:01:49.184Z"
   },
   {
    "duration": 3,
    "start_time": "2024-11-30T05:01:57.388Z"
   },
   {
    "duration": 14,
    "start_time": "2024-11-30T05:02:08.556Z"
   },
   {
    "duration": 12,
    "start_time": "2024-11-30T05:02:09.305Z"
   },
   {
    "duration": 14,
    "start_time": "2024-11-30T05:02:09.981Z"
   },
   {
    "duration": 4,
    "start_time": "2024-11-30T05:08:13.049Z"
   },
   {
    "duration": 13,
    "start_time": "2024-11-30T05:09:08.657Z"
   },
   {
    "duration": 9,
    "start_time": "2024-11-30T05:09:23.360Z"
   },
   {
    "duration": 13,
    "start_time": "2024-11-30T05:09:33.410Z"
   },
   {
    "duration": 297,
    "start_time": "2024-11-30T05:11:19.688Z"
   },
   {
    "duration": 140,
    "start_time": "2024-11-30T05:11:36.033Z"
   },
   {
    "duration": 997,
    "start_time": "2024-11-30T05:14:08.358Z"
   },
   {
    "duration": 222,
    "start_time": "2024-11-30T05:14:09.357Z"
   },
   {
    "duration": 4,
    "start_time": "2024-11-30T05:14:09.580Z"
   },
   {
    "duration": 45,
    "start_time": "2024-11-30T05:14:09.586Z"
   },
   {
    "duration": 56,
    "start_time": "2024-11-30T05:14:09.633Z"
   },
   {
    "duration": 50,
    "start_time": "2024-11-30T05:14:09.691Z"
   },
   {
    "duration": 12,
    "start_time": "2024-11-30T05:14:09.743Z"
   },
   {
    "duration": 17,
    "start_time": "2024-11-30T05:14:09.771Z"
   },
   {
    "duration": 4,
    "start_time": "2024-11-30T05:14:09.789Z"
   },
   {
    "duration": 15,
    "start_time": "2024-11-30T05:14:09.796Z"
   },
   {
    "duration": 14,
    "start_time": "2024-11-30T05:14:09.812Z"
   },
   {
    "duration": 42,
    "start_time": "2024-11-30T05:14:09.828Z"
   },
   {
    "duration": 4,
    "start_time": "2024-11-30T05:14:09.872Z"
   },
   {
    "duration": 448,
    "start_time": "2024-11-30T05:14:09.878Z"
   },
   {
    "duration": 0,
    "start_time": "2024-11-30T05:14:10.329Z"
   },
   {
    "duration": 0,
    "start_time": "2024-11-30T05:14:10.330Z"
   },
   {
    "duration": 0,
    "start_time": "2024-11-30T05:14:10.331Z"
   },
   {
    "duration": 0,
    "start_time": "2024-11-30T05:14:10.332Z"
   },
   {
    "duration": 0,
    "start_time": "2024-11-30T05:14:10.333Z"
   },
   {
    "duration": 0,
    "start_time": "2024-11-30T05:14:10.334Z"
   },
   {
    "duration": 0,
    "start_time": "2024-11-30T05:14:10.336Z"
   },
   {
    "duration": 0,
    "start_time": "2024-11-30T05:14:10.337Z"
   },
   {
    "duration": 0,
    "start_time": "2024-11-30T05:14:10.338Z"
   },
   {
    "duration": 0,
    "start_time": "2024-11-30T05:14:10.339Z"
   },
   {
    "duration": 0,
    "start_time": "2024-11-30T05:14:10.341Z"
   },
   {
    "duration": 0,
    "start_time": "2024-11-30T05:14:10.343Z"
   },
   {
    "duration": 0,
    "start_time": "2024-11-30T05:14:10.344Z"
   },
   {
    "duration": 0,
    "start_time": "2024-11-30T05:14:10.371Z"
   },
   {
    "duration": 0,
    "start_time": "2024-11-30T05:14:10.372Z"
   },
   {
    "duration": 0,
    "start_time": "2024-11-30T05:14:10.376Z"
   },
   {
    "duration": 0,
    "start_time": "2024-11-30T05:14:10.377Z"
   },
   {
    "duration": 0,
    "start_time": "2024-11-30T05:14:10.379Z"
   },
   {
    "duration": 0,
    "start_time": "2024-11-30T05:14:10.380Z"
   },
   {
    "duration": 0,
    "start_time": "2024-11-30T05:14:10.381Z"
   },
   {
    "duration": 0,
    "start_time": "2024-11-30T05:14:10.382Z"
   },
   {
    "duration": 0,
    "start_time": "2024-11-30T05:14:10.383Z"
   },
   {
    "duration": 0,
    "start_time": "2024-11-30T05:14:10.384Z"
   },
   {
    "duration": 0,
    "start_time": "2024-11-30T05:14:10.385Z"
   },
   {
    "duration": 0,
    "start_time": "2024-11-30T05:14:10.386Z"
   },
   {
    "duration": 0,
    "start_time": "2024-11-30T05:14:10.388Z"
   },
   {
    "duration": 0,
    "start_time": "2024-11-30T05:14:10.388Z"
   },
   {
    "duration": 0,
    "start_time": "2024-11-30T05:14:10.390Z"
   },
   {
    "duration": 0,
    "start_time": "2024-11-30T05:14:10.391Z"
   },
   {
    "duration": 0,
    "start_time": "2024-11-30T05:14:10.392Z"
   },
   {
    "duration": 0,
    "start_time": "2024-11-30T05:14:10.393Z"
   },
   {
    "duration": 0,
    "start_time": "2024-11-30T05:14:10.395Z"
   },
   {
    "duration": 0,
    "start_time": "2024-11-30T05:14:10.395Z"
   },
   {
    "duration": 0,
    "start_time": "2024-11-30T05:14:10.397Z"
   },
   {
    "duration": 0,
    "start_time": "2024-11-30T05:14:10.398Z"
   },
   {
    "duration": 0,
    "start_time": "2024-11-30T05:14:10.399Z"
   },
   {
    "duration": 0,
    "start_time": "2024-11-30T05:14:10.400Z"
   },
   {
    "duration": 0,
    "start_time": "2024-11-30T05:14:10.402Z"
   },
   {
    "duration": 978,
    "start_time": "2024-11-30T05:14:43.041Z"
   },
   {
    "duration": 216,
    "start_time": "2024-11-30T05:14:46.903Z"
   },
   {
    "duration": 3,
    "start_time": "2024-11-30T05:14:48.945Z"
   },
   {
    "duration": 48,
    "start_time": "2024-11-30T05:14:50.358Z"
   },
   {
    "duration": 41,
    "start_time": "2024-11-30T05:14:51.258Z"
   },
   {
    "duration": 44,
    "start_time": "2024-11-30T05:14:51.994Z"
   },
   {
    "duration": 11,
    "start_time": "2024-11-30T05:14:56.578Z"
   },
   {
    "duration": 16,
    "start_time": "2024-11-30T05:14:57.219Z"
   },
   {
    "duration": 3,
    "start_time": "2024-11-30T05:15:11.843Z"
   },
   {
    "duration": 16,
    "start_time": "2024-11-30T05:15:13.241Z"
   },
   {
    "duration": 14,
    "start_time": "2024-11-30T05:15:13.880Z"
   },
   {
    "duration": 14,
    "start_time": "2024-11-30T05:15:14.520Z"
   },
   {
    "duration": 4,
    "start_time": "2024-11-30T05:16:42.143Z"
   },
   {
    "duration": 446,
    "start_time": "2024-11-30T05:16:47.379Z"
   },
   {
    "duration": 22,
    "start_time": "2024-11-30T05:17:29.813Z"
   },
   {
    "duration": 25,
    "start_time": "2024-11-30T05:18:51.864Z"
   },
   {
    "duration": 54,
    "start_time": "2024-11-30T05:19:05.318Z"
   },
   {
    "duration": 86,
    "start_time": "2024-11-30T05:19:21.486Z"
   },
   {
    "duration": 25,
    "start_time": "2024-11-30T05:21:14.165Z"
   },
   {
    "duration": 1084,
    "start_time": "2024-11-30T05:21:52.781Z"
   },
   {
    "duration": 223,
    "start_time": "2024-11-30T05:21:53.867Z"
   },
   {
    "duration": 4,
    "start_time": "2024-11-30T05:21:54.092Z"
   },
   {
    "duration": 48,
    "start_time": "2024-11-30T05:21:54.099Z"
   },
   {
    "duration": 59,
    "start_time": "2024-11-30T05:21:54.150Z"
   },
   {
    "duration": 47,
    "start_time": "2024-11-30T05:21:54.211Z"
   },
   {
    "duration": 20,
    "start_time": "2024-11-30T05:21:54.259Z"
   },
   {
    "duration": 15,
    "start_time": "2024-11-30T05:21:54.281Z"
   },
   {
    "duration": 3,
    "start_time": "2024-11-30T05:21:54.298Z"
   },
   {
    "duration": 15,
    "start_time": "2024-11-30T05:21:54.305Z"
   },
   {
    "duration": 15,
    "start_time": "2024-11-30T05:21:54.321Z"
   },
   {
    "duration": 46,
    "start_time": "2024-11-30T05:21:54.338Z"
   },
   {
    "duration": 3,
    "start_time": "2024-11-30T05:21:54.386Z"
   },
   {
    "duration": 373,
    "start_time": "2024-11-30T05:21:54.392Z"
   },
   {
    "duration": 0,
    "start_time": "2024-11-30T05:21:54.770Z"
   },
   {
    "duration": 0,
    "start_time": "2024-11-30T05:21:54.772Z"
   },
   {
    "duration": 0,
    "start_time": "2024-11-30T05:21:54.773Z"
   },
   {
    "duration": 0,
    "start_time": "2024-11-30T05:21:54.774Z"
   },
   {
    "duration": 0,
    "start_time": "2024-11-30T05:21:54.775Z"
   },
   {
    "duration": 0,
    "start_time": "2024-11-30T05:21:54.777Z"
   },
   {
    "duration": 0,
    "start_time": "2024-11-30T05:21:54.778Z"
   },
   {
    "duration": 0,
    "start_time": "2024-11-30T05:21:54.780Z"
   },
   {
    "duration": 0,
    "start_time": "2024-11-30T05:21:54.782Z"
   },
   {
    "duration": 0,
    "start_time": "2024-11-30T05:21:54.783Z"
   },
   {
    "duration": 0,
    "start_time": "2024-11-30T05:21:54.783Z"
   },
   {
    "duration": 0,
    "start_time": "2024-11-30T05:21:54.784Z"
   },
   {
    "duration": 0,
    "start_time": "2024-11-30T05:21:54.786Z"
   },
   {
    "duration": 0,
    "start_time": "2024-11-30T05:21:54.786Z"
   },
   {
    "duration": 0,
    "start_time": "2024-11-30T05:21:54.788Z"
   },
   {
    "duration": 0,
    "start_time": "2024-11-30T05:21:54.789Z"
   },
   {
    "duration": 0,
    "start_time": "2024-11-30T05:21:54.790Z"
   },
   {
    "duration": 0,
    "start_time": "2024-11-30T05:21:54.791Z"
   },
   {
    "duration": 0,
    "start_time": "2024-11-30T05:21:54.792Z"
   },
   {
    "duration": 0,
    "start_time": "2024-11-30T05:21:54.793Z"
   },
   {
    "duration": 0,
    "start_time": "2024-11-30T05:21:54.794Z"
   },
   {
    "duration": 0,
    "start_time": "2024-11-30T05:21:54.796Z"
   },
   {
    "duration": 0,
    "start_time": "2024-11-30T05:21:54.797Z"
   },
   {
    "duration": 0,
    "start_time": "2024-11-30T05:21:54.798Z"
   },
   {
    "duration": 0,
    "start_time": "2024-11-30T05:21:54.799Z"
   },
   {
    "duration": 0,
    "start_time": "2024-11-30T05:21:54.800Z"
   },
   {
    "duration": 0,
    "start_time": "2024-11-30T05:21:54.801Z"
   },
   {
    "duration": 0,
    "start_time": "2024-11-30T05:21:54.802Z"
   },
   {
    "duration": 0,
    "start_time": "2024-11-30T05:21:54.803Z"
   },
   {
    "duration": 0,
    "start_time": "2024-11-30T05:21:54.804Z"
   },
   {
    "duration": 0,
    "start_time": "2024-11-30T05:21:54.805Z"
   },
   {
    "duration": 0,
    "start_time": "2024-11-30T05:21:54.806Z"
   },
   {
    "duration": 0,
    "start_time": "2024-11-30T05:21:54.807Z"
   },
   {
    "duration": 0,
    "start_time": "2024-11-30T05:21:54.808Z"
   },
   {
    "duration": 0,
    "start_time": "2024-11-30T05:21:54.809Z"
   },
   {
    "duration": 0,
    "start_time": "2024-11-30T05:21:54.810Z"
   },
   {
    "duration": 0,
    "start_time": "2024-11-30T05:21:54.812Z"
   },
   {
    "duration": 0,
    "start_time": "2024-11-30T05:21:54.813Z"
   },
   {
    "duration": 23,
    "start_time": "2024-11-30T05:23:01.772Z"
   },
   {
    "duration": 4,
    "start_time": "2024-11-30T05:23:36.063Z"
   },
   {
    "duration": 9,
    "start_time": "2024-11-30T05:23:37.654Z"
   },
   {
    "duration": 9,
    "start_time": "2024-11-30T05:23:39.114Z"
   },
   {
    "duration": 2,
    "start_time": "2024-11-30T05:24:19.659Z"
   },
   {
    "duration": 3,
    "start_time": "2024-11-30T05:25:03.867Z"
   },
   {
    "duration": 14,
    "start_time": "2024-11-30T05:25:42.375Z"
   },
   {
    "duration": 8,
    "start_time": "2024-11-30T05:25:56.465Z"
   },
   {
    "duration": 4,
    "start_time": "2024-11-30T05:25:58.552Z"
   },
   {
    "duration": 3,
    "start_time": "2024-11-30T05:42:05.598Z"
   },
   {
    "duration": 3,
    "start_time": "2024-11-30T05:43:05.643Z"
   },
   {
    "duration": 4,
    "start_time": "2024-11-30T05:43:18.121Z"
   },
   {
    "duration": 3,
    "start_time": "2024-11-30T05:46:46.265Z"
   },
   {
    "duration": 3,
    "start_time": "2024-11-30T05:47:17.354Z"
   },
   {
    "duration": 2,
    "start_time": "2024-11-30T05:57:06.991Z"
   },
   {
    "duration": 19,
    "start_time": "2024-11-30T05:57:07.983Z"
   },
   {
    "duration": 2,
    "start_time": "2024-11-30T05:57:18.664Z"
   },
   {
    "duration": 19,
    "start_time": "2024-11-30T05:57:20.895Z"
   },
   {
    "duration": 962,
    "start_time": "2024-11-30T05:57:41.552Z"
   },
   {
    "duration": 216,
    "start_time": "2024-11-30T05:57:44.510Z"
   },
   {
    "duration": 3,
    "start_time": "2024-11-30T05:57:45.318Z"
   },
   {
    "duration": 47,
    "start_time": "2024-11-30T05:57:45.968Z"
   },
   {
    "duration": 46,
    "start_time": "2024-11-30T05:57:46.567Z"
   },
   {
    "duration": 44,
    "start_time": "2024-11-30T05:57:47.334Z"
   },
   {
    "duration": 11,
    "start_time": "2024-11-30T05:57:49.695Z"
   },
   {
    "duration": 15,
    "start_time": "2024-11-30T05:57:50.421Z"
   },
   {
    "duration": 3,
    "start_time": "2024-11-30T05:57:52.422Z"
   },
   {
    "duration": 230,
    "start_time": "2024-11-30T05:57:53.477Z"
   },
   {
    "duration": 3,
    "start_time": "2024-11-30T06:00:20.800Z"
   },
   {
    "duration": 3,
    "start_time": "2024-11-30T06:00:31.926Z"
   },
   {
    "duration": 18,
    "start_time": "2024-11-30T06:00:33.338Z"
   },
   {
    "duration": 3,
    "start_time": "2024-11-30T06:01:18.279Z"
   },
   {
    "duration": 5,
    "start_time": "2024-11-30T06:01:19.621Z"
   },
   {
    "duration": 12,
    "start_time": "2024-11-30T06:01:27.589Z"
   },
   {
    "duration": 8,
    "start_time": "2024-11-30T06:01:58.650Z"
   },
   {
    "duration": 3,
    "start_time": "2024-11-30T06:02:16.288Z"
   },
   {
    "duration": 7,
    "start_time": "2024-11-30T06:02:17.030Z"
   },
   {
    "duration": 7,
    "start_time": "2024-11-30T06:02:17.839Z"
   },
   {
    "duration": 7,
    "start_time": "2024-11-30T06:02:19.083Z"
   },
   {
    "duration": 3,
    "start_time": "2024-11-30T06:02:21.191Z"
   },
   {
    "duration": 4,
    "start_time": "2024-11-30T06:02:22.719Z"
   },
   {
    "duration": 4,
    "start_time": "2024-11-30T06:02:23.454Z"
   },
   {
    "duration": 4,
    "start_time": "2024-11-30T06:02:24.125Z"
   },
   {
    "duration": 4,
    "start_time": "2024-11-30T06:02:30.791Z"
   },
   {
    "duration": 3,
    "start_time": "2024-11-30T06:02:45.502Z"
   },
   {
    "duration": 3,
    "start_time": "2024-11-30T06:02:47.843Z"
   },
   {
    "duration": 2,
    "start_time": "2024-11-30T06:02:49.844Z"
   },
   {
    "duration": 2,
    "start_time": "2024-11-30T06:26:12.923Z"
   },
   {
    "duration": 15,
    "start_time": "2024-11-30T06:29:59.376Z"
   },
   {
    "duration": 15,
    "start_time": "2024-11-30T06:34:31.351Z"
   },
   {
    "duration": 2,
    "start_time": "2024-11-30T06:34:35.430Z"
   },
   {
    "duration": 14,
    "start_time": "2024-11-30T06:34:39.446Z"
   },
   {
    "duration": 16,
    "start_time": "2024-11-30T06:36:09.183Z"
   },
   {
    "duration": 14,
    "start_time": "2024-11-30T06:37:25.073Z"
   },
   {
    "duration": 15,
    "start_time": "2024-11-30T06:37:27.912Z"
   },
   {
    "duration": 17,
    "start_time": "2024-11-30T06:38:53.763Z"
   },
   {
    "duration": 15,
    "start_time": "2024-11-30T06:41:00.734Z"
   },
   {
    "duration": 15,
    "start_time": "2024-11-30T06:47:34.508Z"
   },
   {
    "duration": 3,
    "start_time": "2024-11-30T06:47:42.100Z"
   },
   {
    "duration": 15,
    "start_time": "2024-11-30T06:47:43.242Z"
   },
   {
    "duration": 999,
    "start_time": "2024-11-30T06:47:55.942Z"
   },
   {
    "duration": 223,
    "start_time": "2024-11-30T06:47:56.944Z"
   },
   {
    "duration": 5,
    "start_time": "2024-11-30T06:47:57.176Z"
   },
   {
    "duration": 49,
    "start_time": "2024-11-30T06:47:57.184Z"
   },
   {
    "duration": 51,
    "start_time": "2024-11-30T06:47:57.235Z"
   },
   {
    "duration": 46,
    "start_time": "2024-11-30T06:47:57.288Z"
   },
   {
    "duration": 11,
    "start_time": "2024-11-30T06:47:57.336Z"
   },
   {
    "duration": 32,
    "start_time": "2024-11-30T06:47:57.349Z"
   },
   {
    "duration": 235,
    "start_time": "2024-11-30T06:47:57.383Z"
   },
   {
    "duration": 0,
    "start_time": "2024-11-30T06:47:57.620Z"
   },
   {
    "duration": 1,
    "start_time": "2024-11-30T06:47:57.621Z"
   },
   {
    "duration": 0,
    "start_time": "2024-11-30T06:47:57.623Z"
   },
   {
    "duration": 0,
    "start_time": "2024-11-30T06:47:57.624Z"
   },
   {
    "duration": 0,
    "start_time": "2024-11-30T06:47:57.625Z"
   },
   {
    "duration": 0,
    "start_time": "2024-11-30T06:47:57.626Z"
   },
   {
    "duration": 0,
    "start_time": "2024-11-30T06:47:57.627Z"
   },
   {
    "duration": 0,
    "start_time": "2024-11-30T06:47:57.629Z"
   },
   {
    "duration": 0,
    "start_time": "2024-11-30T06:47:57.631Z"
   },
   {
    "duration": 0,
    "start_time": "2024-11-30T06:47:57.632Z"
   },
   {
    "duration": 1,
    "start_time": "2024-11-30T06:47:57.633Z"
   },
   {
    "duration": 0,
    "start_time": "2024-11-30T06:47:57.635Z"
   },
   {
    "duration": 0,
    "start_time": "2024-11-30T06:47:57.637Z"
   },
   {
    "duration": 0,
    "start_time": "2024-11-30T06:47:57.670Z"
   },
   {
    "duration": 0,
    "start_time": "2024-11-30T06:47:57.671Z"
   },
   {
    "duration": 0,
    "start_time": "2024-11-30T06:47:57.673Z"
   },
   {
    "duration": 0,
    "start_time": "2024-11-30T06:47:57.674Z"
   },
   {
    "duration": 0,
    "start_time": "2024-11-30T06:47:57.676Z"
   },
   {
    "duration": 0,
    "start_time": "2024-11-30T06:47:57.677Z"
   },
   {
    "duration": 0,
    "start_time": "2024-11-30T06:47:57.678Z"
   },
   {
    "duration": 0,
    "start_time": "2024-11-30T06:47:57.679Z"
   },
   {
    "duration": 0,
    "start_time": "2024-11-30T06:47:57.680Z"
   },
   {
    "duration": 0,
    "start_time": "2024-11-30T06:47:57.682Z"
   },
   {
    "duration": 0,
    "start_time": "2024-11-30T06:47:57.684Z"
   },
   {
    "duration": 0,
    "start_time": "2024-11-30T06:47:57.685Z"
   },
   {
    "duration": 0,
    "start_time": "2024-11-30T06:47:57.687Z"
   },
   {
    "duration": 1,
    "start_time": "2024-11-30T06:47:57.688Z"
   },
   {
    "duration": 0,
    "start_time": "2024-11-30T06:47:57.690Z"
   },
   {
    "duration": 0,
    "start_time": "2024-11-30T06:47:57.691Z"
   },
   {
    "duration": 0,
    "start_time": "2024-11-30T06:47:57.693Z"
   },
   {
    "duration": 0,
    "start_time": "2024-11-30T06:47:57.694Z"
   },
   {
    "duration": 0,
    "start_time": "2024-11-30T06:47:57.696Z"
   },
   {
    "duration": 0,
    "start_time": "2024-11-30T06:47:57.698Z"
   },
   {
    "duration": 0,
    "start_time": "2024-11-30T06:47:57.699Z"
   },
   {
    "duration": 0,
    "start_time": "2024-11-30T06:47:57.701Z"
   },
   {
    "duration": 0,
    "start_time": "2024-11-30T06:47:57.703Z"
   },
   {
    "duration": 0,
    "start_time": "2024-11-30T06:47:57.704Z"
   },
   {
    "duration": 0,
    "start_time": "2024-11-30T06:47:57.706Z"
   },
   {
    "duration": 0,
    "start_time": "2024-11-30T06:47:57.707Z"
   },
   {
    "duration": 0,
    "start_time": "2024-11-30T06:47:57.709Z"
   },
   {
    "duration": 0,
    "start_time": "2024-11-30T06:47:57.770Z"
   },
   {
    "duration": 0,
    "start_time": "2024-11-30T06:47:57.771Z"
   },
   {
    "duration": 0,
    "start_time": "2024-11-30T06:47:57.773Z"
   },
   {
    "duration": 995,
    "start_time": "2024-11-30T06:48:34.297Z"
   },
   {
    "duration": 221,
    "start_time": "2024-11-30T06:48:35.294Z"
   },
   {
    "duration": 4,
    "start_time": "2024-11-30T06:48:35.517Z"
   },
   {
    "duration": 52,
    "start_time": "2024-11-30T06:48:35.523Z"
   },
   {
    "duration": 41,
    "start_time": "2024-11-30T06:48:35.577Z"
   },
   {
    "duration": 60,
    "start_time": "2024-11-30T06:48:35.620Z"
   },
   {
    "duration": 11,
    "start_time": "2024-11-30T06:48:35.682Z"
   },
   {
    "duration": 15,
    "start_time": "2024-11-30T06:48:35.696Z"
   },
   {
    "duration": 3,
    "start_time": "2024-11-30T06:48:35.713Z"
   },
   {
    "duration": 16,
    "start_time": "2024-11-30T06:48:35.719Z"
   },
   {
    "duration": 34,
    "start_time": "2024-11-30T06:48:35.736Z"
   },
   {
    "duration": 14,
    "start_time": "2024-11-30T06:48:35.771Z"
   },
   {
    "duration": 3,
    "start_time": "2024-11-30T06:48:35.787Z"
   },
   {
    "duration": 10,
    "start_time": "2024-11-30T06:48:35.792Z"
   },
   {
    "duration": 68,
    "start_time": "2024-11-30T06:48:35.803Z"
   },
   {
    "duration": 9,
    "start_time": "2024-11-30T06:48:35.873Z"
   },
   {
    "duration": 4,
    "start_time": "2024-11-30T06:48:35.884Z"
   },
   {
    "duration": 80,
    "start_time": "2024-11-30T06:48:35.889Z"
   },
   {
    "duration": 4,
    "start_time": "2024-11-30T06:48:35.971Z"
   },
   {
    "duration": 8,
    "start_time": "2024-11-30T06:48:35.977Z"
   },
   {
    "duration": 2,
    "start_time": "2024-11-30T06:48:35.987Z"
   },
   {
    "duration": 286,
    "start_time": "2024-11-30T06:48:35.991Z"
   },
   {
    "duration": 0,
    "start_time": "2024-11-30T06:48:36.279Z"
   },
   {
    "duration": 0,
    "start_time": "2024-11-30T06:48:36.281Z"
   },
   {
    "duration": 0,
    "start_time": "2024-11-30T06:48:36.282Z"
   },
   {
    "duration": 0,
    "start_time": "2024-11-30T06:48:36.283Z"
   },
   {
    "duration": 0,
    "start_time": "2024-11-30T06:48:36.283Z"
   },
   {
    "duration": 0,
    "start_time": "2024-11-30T06:48:36.285Z"
   },
   {
    "duration": 0,
    "start_time": "2024-11-30T06:48:36.285Z"
   },
   {
    "duration": 0,
    "start_time": "2024-11-30T06:48:36.286Z"
   },
   {
    "duration": 0,
    "start_time": "2024-11-30T06:48:36.287Z"
   },
   {
    "duration": 0,
    "start_time": "2024-11-30T06:48:36.288Z"
   },
   {
    "duration": 0,
    "start_time": "2024-11-30T06:48:36.289Z"
   },
   {
    "duration": 0,
    "start_time": "2024-11-30T06:48:36.290Z"
   },
   {
    "duration": 0,
    "start_time": "2024-11-30T06:48:36.292Z"
   },
   {
    "duration": 0,
    "start_time": "2024-11-30T06:48:36.293Z"
   },
   {
    "duration": 0,
    "start_time": "2024-11-30T06:48:36.294Z"
   },
   {
    "duration": 0,
    "start_time": "2024-11-30T06:48:36.295Z"
   },
   {
    "duration": 0,
    "start_time": "2024-11-30T06:48:36.296Z"
   },
   {
    "duration": 0,
    "start_time": "2024-11-30T06:48:36.299Z"
   },
   {
    "duration": 0,
    "start_time": "2024-11-30T06:48:36.300Z"
   },
   {
    "duration": 0,
    "start_time": "2024-11-30T06:48:36.301Z"
   },
   {
    "duration": 0,
    "start_time": "2024-11-30T06:48:36.302Z"
   },
   {
    "duration": 0,
    "start_time": "2024-11-30T06:48:36.303Z"
   },
   {
    "duration": 0,
    "start_time": "2024-11-30T06:48:36.304Z"
   },
   {
    "duration": 0,
    "start_time": "2024-11-30T06:48:36.305Z"
   },
   {
    "duration": 0,
    "start_time": "2024-11-30T06:48:36.306Z"
   },
   {
    "duration": 0,
    "start_time": "2024-11-30T06:48:36.307Z"
   },
   {
    "duration": 0,
    "start_time": "2024-11-30T06:48:36.308Z"
   },
   {
    "duration": 0,
    "start_time": "2024-11-30T06:48:36.310Z"
   },
   {
    "duration": 0,
    "start_time": "2024-11-30T06:48:36.311Z"
   },
   {
    "duration": 3,
    "start_time": "2024-11-30T07:05:03.174Z"
   },
   {
    "duration": 17,
    "start_time": "2024-11-30T07:06:27.702Z"
   },
   {
    "duration": 3,
    "start_time": "2024-11-30T07:10:33.033Z"
   },
   {
    "duration": 17,
    "start_time": "2024-11-30T07:16:28.255Z"
   },
   {
    "duration": 16,
    "start_time": "2024-11-30T07:16:34.200Z"
   },
   {
    "duration": 5,
    "start_time": "2024-11-30T07:22:54.005Z"
   },
   {
    "duration": 12,
    "start_time": "2024-11-30T07:23:15.726Z"
   },
   {
    "duration": 5,
    "start_time": "2024-11-30T07:23:44.984Z"
   },
   {
    "duration": 2,
    "start_time": "2024-11-30T07:24:10.742Z"
   },
   {
    "duration": 4,
    "start_time": "2024-11-30T07:24:27.318Z"
   },
   {
    "duration": 221,
    "start_time": "2024-11-30T07:25:08.637Z"
   },
   {
    "duration": 88,
    "start_time": "2024-11-30T07:26:04.675Z"
   },
   {
    "duration": 5,
    "start_time": "2024-11-30T07:26:15.444Z"
   },
   {
    "duration": 8,
    "start_time": "2024-11-30T07:27:10.157Z"
   },
   {
    "duration": 4,
    "start_time": "2024-11-30T07:27:36.943Z"
   },
   {
    "duration": 3,
    "start_time": "2024-11-30T07:30:39.284Z"
   },
   {
    "duration": 5,
    "start_time": "2024-11-30T07:31:00.628Z"
   },
   {
    "duration": 26,
    "start_time": "2024-11-30T07:31:40.916Z"
   },
   {
    "duration": 5,
    "start_time": "2024-11-30T07:32:19.002Z"
   },
   {
    "duration": 3,
    "start_time": "2024-11-30T07:34:46.930Z"
   },
   {
    "duration": 4,
    "start_time": "2024-11-30T07:35:06.730Z"
   },
   {
    "duration": 10,
    "start_time": "2024-11-30T07:36:31.466Z"
   },
   {
    "duration": 9,
    "start_time": "2024-11-30T07:36:33.274Z"
   },
   {
    "duration": 9,
    "start_time": "2024-11-30T07:36:35.610Z"
   },
   {
    "duration": 3,
    "start_time": "2024-11-30T07:40:43.634Z"
   },
   {
    "duration": 9,
    "start_time": "2024-11-30T07:42:23.202Z"
   },
   {
    "duration": 1024,
    "start_time": "2024-11-30T07:42:37.683Z"
   },
   {
    "duration": 220,
    "start_time": "2024-11-30T07:42:41.121Z"
   },
   {
    "duration": 4,
    "start_time": "2024-11-30T07:42:42.081Z"
   },
   {
    "duration": 46,
    "start_time": "2024-11-30T07:42:42.873Z"
   },
   {
    "duration": 41,
    "start_time": "2024-11-30T07:42:43.562Z"
   },
   {
    "duration": 43,
    "start_time": "2024-11-30T07:42:44.305Z"
   },
   {
    "duration": 12,
    "start_time": "2024-11-30T07:42:48.187Z"
   },
   {
    "duration": 16,
    "start_time": "2024-11-30T07:42:49.052Z"
   },
   {
    "duration": 4,
    "start_time": "2024-11-30T07:42:51.991Z"
   },
   {
    "duration": 15,
    "start_time": "2024-11-30T07:42:52.602Z"
   },
   {
    "duration": 14,
    "start_time": "2024-11-30T07:42:53.231Z"
   },
   {
    "duration": 15,
    "start_time": "2024-11-30T07:42:54.431Z"
   },
   {
    "duration": 4,
    "start_time": "2024-11-30T07:42:57.648Z"
   },
   {
    "duration": 3,
    "start_time": "2024-11-30T07:43:01.371Z"
   },
   {
    "duration": 19,
    "start_time": "2024-11-30T07:43:02.257Z"
   },
   {
    "duration": 11,
    "start_time": "2024-11-30T07:43:06.431Z"
   },
   {
    "duration": 9,
    "start_time": "2024-11-30T07:43:07.055Z"
   },
   {
    "duration": 3,
    "start_time": "2024-11-30T07:43:07.514Z"
   },
   {
    "duration": 3,
    "start_time": "2024-11-30T07:43:08.663Z"
   },
   {
    "duration": 4,
    "start_time": "2024-11-30T07:43:10.111Z"
   },
   {
    "duration": 3,
    "start_time": "2024-11-30T07:43:10.842Z"
   },
   {
    "duration": 2,
    "start_time": "2024-11-30T07:43:15.559Z"
   },
   {
    "duration": 556,
    "start_time": "2024-11-30T07:44:47.969Z"
   },
   {
    "duration": 3,
    "start_time": "2024-11-30T07:45:34.802Z"
   },
   {
    "duration": 873,
    "start_time": "2024-11-30T07:45:35.897Z"
   },
   {
    "duration": 6,
    "start_time": "2024-11-30T07:50:10.071Z"
   },
   {
    "duration": 5,
    "start_time": "2024-11-30T07:51:56.840Z"
   },
   {
    "duration": 9,
    "start_time": "2024-11-30T07:53:26.311Z"
   },
   {
    "duration": 10,
    "start_time": "2024-11-30T07:53:42.738Z"
   },
   {
    "duration": 5,
    "start_time": "2024-11-30T07:56:51.295Z"
   },
   {
    "duration": 4,
    "start_time": "2024-11-30T07:56:57.991Z"
   },
   {
    "duration": 847,
    "start_time": "2024-11-30T07:58:04.260Z"
   },
   {
    "duration": 829,
    "start_time": "2024-11-30T07:58:54.754Z"
   },
   {
    "duration": 4,
    "start_time": "2024-11-30T07:59:57.294Z"
   },
   {
    "duration": 834,
    "start_time": "2024-11-30T08:00:01.863Z"
   },
   {
    "duration": 847,
    "start_time": "2024-11-30T08:01:03.551Z"
   },
   {
    "duration": 4,
    "start_time": "2024-11-30T08:07:39.365Z"
   },
   {
    "duration": 837,
    "start_time": "2024-11-30T08:07:41.837Z"
   },
   {
    "duration": 854,
    "start_time": "2024-11-30T08:07:44.332Z"
   },
   {
    "duration": 855,
    "start_time": "2024-11-30T08:07:46.869Z"
   },
   {
    "duration": 4,
    "start_time": "2024-11-30T08:09:07.729Z"
   },
   {
    "duration": 834,
    "start_time": "2024-11-30T08:09:08.657Z"
   },
   {
    "duration": 836,
    "start_time": "2024-11-30T08:09:10.420Z"
   },
   {
    "duration": 834,
    "start_time": "2024-11-30T08:09:12.559Z"
   },
   {
    "duration": 871,
    "start_time": "2024-11-30T08:10:45.964Z"
   },
   {
    "duration": 4,
    "start_time": "2024-11-30T08:14:20.612Z"
   },
   {
    "duration": 894,
    "start_time": "2024-11-30T08:14:21.571Z"
   },
   {
    "duration": 840,
    "start_time": "2024-11-30T08:14:23.496Z"
   },
   {
    "duration": 842,
    "start_time": "2024-11-30T08:14:25.090Z"
   },
   {
    "duration": 2,
    "start_time": "2024-11-30T08:20:55.331Z"
   },
   {
    "duration": 4,
    "start_time": "2024-11-30T08:21:00.195Z"
   },
   {
    "duration": 837,
    "start_time": "2024-11-30T08:21:01.191Z"
   },
   {
    "duration": 871,
    "start_time": "2024-11-30T08:21:06.664Z"
   },
   {
    "duration": 829,
    "start_time": "2024-11-30T08:21:11.729Z"
   },
   {
    "duration": 4,
    "start_time": "2024-11-30T08:25:12.999Z"
   },
   {
    "duration": 835,
    "start_time": "2024-11-30T08:25:13.906Z"
   },
   {
    "duration": 858,
    "start_time": "2024-11-30T08:25:16.798Z"
   },
   {
    "duration": 830,
    "start_time": "2024-11-30T08:25:19.247Z"
   },
   {
    "duration": 5,
    "start_time": "2024-11-30T08:28:35.581Z"
   },
   {
    "duration": 842,
    "start_time": "2024-11-30T08:28:37.279Z"
   },
   {
    "duration": 833,
    "start_time": "2024-11-30T08:28:50.149Z"
   },
   {
    "duration": 829,
    "start_time": "2024-11-30T08:28:53.000Z"
   },
   {
    "duration": 842,
    "start_time": "2024-11-30T08:29:37.616Z"
   },
   {
    "duration": 4,
    "start_time": "2024-11-30T08:29:44.229Z"
   },
   {
    "duration": 4,
    "start_time": "2024-11-30T08:30:24.576Z"
   },
   {
    "duration": 837,
    "start_time": "2024-11-30T08:30:48.975Z"
   },
   {
    "duration": 5,
    "start_time": "2024-11-30T08:30:51.191Z"
   },
   {
    "duration": 4,
    "start_time": "2024-11-30T08:38:16.398Z"
   },
   {
    "duration": 848,
    "start_time": "2024-11-30T08:38:17.443Z"
   },
   {
    "duration": 4,
    "start_time": "2024-11-30T08:38:34.527Z"
   },
   {
    "duration": 839,
    "start_time": "2024-11-30T08:38:35.531Z"
   },
   {
    "duration": 837,
    "start_time": "2024-11-30T08:38:42.422Z"
   },
   {
    "duration": 869,
    "start_time": "2024-11-30T08:38:46.067Z"
   },
   {
    "duration": 827,
    "start_time": "2024-11-30T08:45:53.457Z"
   },
   {
    "duration": 843,
    "start_time": "2024-11-30T08:45:57.099Z"
   },
   {
    "duration": 839,
    "start_time": "2024-11-30T08:46:10.202Z"
   },
   {
    "duration": 833,
    "start_time": "2024-11-30T08:46:13.378Z"
   },
   {
    "duration": 881,
    "start_time": "2024-11-30T08:46:16.289Z"
   },
   {
    "duration": 834,
    "start_time": "2024-11-30T08:46:18.231Z"
   },
   {
    "duration": 844,
    "start_time": "2024-11-30T08:46:25.323Z"
   },
   {
    "duration": 833,
    "start_time": "2024-11-30T08:46:32.777Z"
   },
   {
    "duration": 831,
    "start_time": "2024-11-30T08:46:54.283Z"
   },
   {
    "duration": 843,
    "start_time": "2024-11-30T08:46:57.218Z"
   },
   {
    "duration": 894,
    "start_time": "2024-11-30T08:46:59.025Z"
   },
   {
    "duration": 837,
    "start_time": "2024-11-30T08:47:02.594Z"
   },
   {
    "duration": 864,
    "start_time": "2024-11-30T08:47:07.451Z"
   },
   {
    "duration": 913,
    "start_time": "2024-11-30T08:47:09.751Z"
   },
   {
    "duration": 903,
    "start_time": "2024-11-30T08:47:11.591Z"
   },
   {
    "duration": 826,
    "start_time": "2024-11-30T08:47:13.824Z"
   },
   {
    "duration": 876,
    "start_time": "2024-11-30T08:47:16.180Z"
   }
  ],
  "kernelspec": {
   "display_name": "Python 3 (ipykernel)",
   "language": "python",
   "name": "python3"
  },
  "language_info": {
   "codemirror_mode": {
    "name": "ipython",
    "version": 3
   },
   "file_extension": ".py",
   "mimetype": "text/x-python",
   "name": "python",
   "nbconvert_exporter": "python",
   "pygments_lexer": "ipython3",
   "version": "3.9.19"
  },
  "toc": {
   "base_numbering": 1,
   "nav_menu": {},
   "number_sections": true,
   "sideBar": true,
   "skip_h1_title": true,
   "title_cell": "Table of Contents",
   "title_sidebar": "Contents",
   "toc_cell": false,
   "toc_position": {},
   "toc_section_display": true,
   "toc_window_display": false
  }
 },
 "nbformat": 4,
 "nbformat_minor": 2
}
