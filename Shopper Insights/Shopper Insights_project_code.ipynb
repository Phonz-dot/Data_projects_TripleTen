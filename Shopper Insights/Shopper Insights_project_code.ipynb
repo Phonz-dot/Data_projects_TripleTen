{
 "cells": [
  {
   "cell_type": "code",
   "execution_count": 1,
   "id": "6fc81694",
   "metadata": {},
   "outputs": [],
   "source": [
    "import pandas as pd\n",
    "import numpy as np\n",
    "import matplotlib.pyplot as plt"
   ]
  },
  {
   "cell_type": "code",
   "execution_count": 2,
   "id": "82cbfd12",
   "metadata": {},
   "outputs": [],
   "source": [
    "instacart_orders = pd.read_csv('/datasets/instacart_orders.csv', sep=';')\n",
    "products = pd.read_csv('/datasets/products.csv', sep=';')\n",
    "aisles = pd.read_csv('/datasets/aisles.csv', sep=';')\n",
    "departments = pd.read_csv('/datasets/departments.csv', sep=';')\n",
    "order_products = pd.read_csv('/datasets/order_products.csv', sep=';')"
   ]
  },
  {
   "cell_type": "code",
   "execution_count": 3,
   "id": "ea284224",
   "metadata": {
    "scrolled": false
   },
   "outputs": [
    {
     "name": "stdout",
     "output_type": "stream",
     "text": [
      "<class 'pandas.core.frame.DataFrame'>\n",
      "RangeIndex: 478967 entries, 0 to 478966\n",
      "Data columns (total 6 columns):\n",
      " #   Column                  Non-Null Count   Dtype  \n",
      "---  ------                  --------------   -----  \n",
      " 0   order_id                478967 non-null  int64  \n",
      " 1   user_id                 478967 non-null  int64  \n",
      " 2   order_number            478967 non-null  int64  \n",
      " 3   order_dow               478967 non-null  int64  \n",
      " 4   order_hour_of_day       478967 non-null  int64  \n",
      " 5   days_since_prior_order  450148 non-null  float64\n",
      "dtypes: float64(1), int64(5)\n",
      "memory usage: 21.9 MB\n",
      "<class 'pandas.core.frame.DataFrame'>\n",
      "RangeIndex: 49694 entries, 0 to 49693\n",
      "Data columns (total 4 columns):\n",
      " #   Column         Non-Null Count  Dtype \n",
      "---  ------         --------------  ----- \n",
      " 0   product_id     49694 non-null  int64 \n",
      " 1   product_name   48436 non-null  object\n",
      " 2   aisle_id       49694 non-null  int64 \n",
      " 3   department_id  49694 non-null  int64 \n",
      "dtypes: int64(3), object(1)\n",
      "memory usage: 1.5+ MB\n",
      "<class 'pandas.core.frame.DataFrame'>\n",
      "RangeIndex: 134 entries, 0 to 133\n",
      "Data columns (total 2 columns):\n",
      " #   Column    Non-Null Count  Dtype \n",
      "---  ------    --------------  ----- \n",
      " 0   aisle_id  134 non-null    int64 \n",
      " 1   aisle     134 non-null    object\n",
      "dtypes: int64(1), object(1)\n",
      "memory usage: 2.2+ KB\n",
      "<class 'pandas.core.frame.DataFrame'>\n",
      "RangeIndex: 21 entries, 0 to 20\n",
      "Data columns (total 2 columns):\n",
      " #   Column         Non-Null Count  Dtype \n",
      "---  ------         --------------  ----- \n",
      " 0   department_id  21 non-null     int64 \n",
      " 1   department     21 non-null     object\n",
      "dtypes: int64(1), object(1)\n",
      "memory usage: 464.0+ bytes\n",
      "<class 'pandas.core.frame.DataFrame'>\n",
      "RangeIndex: 4545007 entries, 0 to 4545006\n",
      "Data columns (total 4 columns):\n",
      " #   Column             Dtype  \n",
      "---  ------             -----  \n",
      " 0   order_id           int64  \n",
      " 1   product_id         int64  \n",
      " 2   add_to_cart_order  float64\n",
      " 3   reordered          int64  \n",
      "dtypes: float64(1), int64(3)\n",
      "memory usage: 138.7 MB\n"
     ]
    }
   ],
   "source": [
    "\n",
    "# Used the 3 lines of code to get a general sense of all 5 files that were read into jupyter (I repeated the same 3 lines 5 times)\n",
    "\n",
    "#Instacart Orders DataFrame\n",
    "#instacart_orders.sample(5)\n",
    "instacart_orders.info()\n",
    "#instacart_orders.columns\n",
    "#instacart_orders['order_dow'].value_counts()\n",
    "# This dataframe contains all numeric data. Column \"days_since_prior_order\" contains null values.\n",
    "\n",
    "#Products Dataframe\n",
    "#products.sample(5)\n",
    "products.info()\n",
    "#products.columns\n",
    "# The products dataframe contains both numeric and textual data. Column \"product_name\" seems to contain null values.\n",
    "\n",
    "#Aisles Dataframe\n",
    "#aisles.sample(5)\n",
    "aisles.info()\n",
    "#aisles.columns\n",
    "# The aisles dataframe contains both numeric and textual data. There are no null values in this dataframe.\n",
    "\n",
    "#Departments Dataframe\n",
    "#departments.sample(5)\n",
    "departments.info()\n",
    "#departments.columns\n",
    "# The departments dataframe contains both numeric and textual data. There are no null values in this dataframe.\n",
    "\n",
    "#Order Products Dataframe\n",
    "#order_products.sample(10)\n",
    "order_products.info()\n",
    "#order_products.columns\n",
    "# The order products dataframe contains just numeric data."
   ]
  },
  {
   "cell_type": "code",
   "execution_count": 4,
   "id": "b99297a5-405a-463d-8535-9adc3da4ad74",
   "metadata": {},
   "outputs": [
    {
     "data": {
      "text/plain": [
       "15"
      ]
     },
     "execution_count": 4,
     "metadata": {},
     "output_type": "execute_result"
    }
   ],
   "source": [
    "# Check for duplicated orders\n",
    "instacart_orders.duplicated().sum()\n"
   ]
  },
  {
   "cell_type": "code",
   "execution_count": 5,
   "id": "0d44de5d",
   "metadata": {},
   "outputs": [
    {
     "data": {
      "text/html": [
       "<div>\n",
       "<style scoped>\n",
       "    .dataframe tbody tr th:only-of-type {\n",
       "        vertical-align: middle;\n",
       "    }\n",
       "\n",
       "    .dataframe tbody tr th {\n",
       "        vertical-align: top;\n",
       "    }\n",
       "\n",
       "    .dataframe thead th {\n",
       "        text-align: right;\n",
       "    }\n",
       "</style>\n",
       "<table border=\"1\" class=\"dataframe\">\n",
       "  <thead>\n",
       "    <tr style=\"text-align: right;\">\n",
       "      <th></th>\n",
       "      <th>order_id</th>\n",
       "      <th>user_id</th>\n",
       "      <th>order_number</th>\n",
       "      <th>order_dow</th>\n",
       "      <th>order_hour_of_day</th>\n",
       "      <th>days_since_prior_order</th>\n",
       "    </tr>\n",
       "  </thead>\n",
       "  <tbody>\n",
       "    <tr>\n",
       "      <th>4838</th>\n",
       "      <td>2766110</td>\n",
       "      <td>162084</td>\n",
       "      <td>41</td>\n",
       "      <td>wednesday</td>\n",
       "      <td>2</td>\n",
       "      <td>16.0</td>\n",
       "    </tr>\n",
       "    <tr>\n",
       "      <th>5156</th>\n",
       "      <td>2190225</td>\n",
       "      <td>138285</td>\n",
       "      <td>18</td>\n",
       "      <td>wednesday</td>\n",
       "      <td>2</td>\n",
       "      <td>11.0</td>\n",
       "    </tr>\n",
       "    <tr>\n",
       "      <th>15506</th>\n",
       "      <td>553049</td>\n",
       "      <td>58599</td>\n",
       "      <td>13</td>\n",
       "      <td>wednesday</td>\n",
       "      <td>2</td>\n",
       "      <td>7.0</td>\n",
       "    </tr>\n",
       "    <tr>\n",
       "      <th>18420</th>\n",
       "      <td>382357</td>\n",
       "      <td>120200</td>\n",
       "      <td>19</td>\n",
       "      <td>wednesday</td>\n",
       "      <td>2</td>\n",
       "      <td>11.0</td>\n",
       "    </tr>\n",
       "    <tr>\n",
       "      <th>24691</th>\n",
       "      <td>690242</td>\n",
       "      <td>77357</td>\n",
       "      <td>2</td>\n",
       "      <td>wednesday</td>\n",
       "      <td>2</td>\n",
       "      <td>9.0</td>\n",
       "    </tr>\n",
       "    <tr>\n",
       "      <th>...</th>\n",
       "      <td>...</td>\n",
       "      <td>...</td>\n",
       "      <td>...</td>\n",
       "      <td>...</td>\n",
       "      <td>...</td>\n",
       "      <td>...</td>\n",
       "    </tr>\n",
       "    <tr>\n",
       "      <th>457013</th>\n",
       "      <td>3384021</td>\n",
       "      <td>14881</td>\n",
       "      <td>6</td>\n",
       "      <td>wednesday</td>\n",
       "      <td>2</td>\n",
       "      <td>30.0</td>\n",
       "    </tr>\n",
       "    <tr>\n",
       "      <th>458816</th>\n",
       "      <td>910166</td>\n",
       "      <td>164782</td>\n",
       "      <td>18</td>\n",
       "      <td>wednesday</td>\n",
       "      <td>2</td>\n",
       "      <td>4.0</td>\n",
       "    </tr>\n",
       "    <tr>\n",
       "      <th>459635</th>\n",
       "      <td>1680532</td>\n",
       "      <td>106435</td>\n",
       "      <td>6</td>\n",
       "      <td>wednesday</td>\n",
       "      <td>2</td>\n",
       "      <td>21.0</td>\n",
       "    </tr>\n",
       "    <tr>\n",
       "      <th>468324</th>\n",
       "      <td>222962</td>\n",
       "      <td>54979</td>\n",
       "      <td>59</td>\n",
       "      <td>wednesday</td>\n",
       "      <td>2</td>\n",
       "      <td>3.0</td>\n",
       "    </tr>\n",
       "    <tr>\n",
       "      <th>477526</th>\n",
       "      <td>2592344</td>\n",
       "      <td>46860</td>\n",
       "      <td>38</td>\n",
       "      <td>wednesday</td>\n",
       "      <td>2</td>\n",
       "      <td>3.0</td>\n",
       "    </tr>\n",
       "  </tbody>\n",
       "</table>\n",
       "<p>121 rows × 6 columns</p>\n",
       "</div>"
      ],
      "text/plain": [
       "        order_id  user_id  order_number  order_dow  order_hour_of_day  \\\n",
       "4838     2766110   162084            41  wednesday                  2   \n",
       "5156     2190225   138285            18  wednesday                  2   \n",
       "15506     553049    58599            13  wednesday                  2   \n",
       "18420     382357   120200            19  wednesday                  2   \n",
       "24691     690242    77357             2  wednesday                  2   \n",
       "...          ...      ...           ...        ...                ...   \n",
       "457013   3384021    14881             6  wednesday                  2   \n",
       "458816    910166   164782            18  wednesday                  2   \n",
       "459635   1680532   106435             6  wednesday                  2   \n",
       "468324    222962    54979            59  wednesday                  2   \n",
       "477526   2592344    46860            38  wednesday                  2   \n",
       "\n",
       "        days_since_prior_order  \n",
       "4838                      16.0  \n",
       "5156                      11.0  \n",
       "15506                      7.0  \n",
       "18420                     11.0  \n",
       "24691                      9.0  \n",
       "...                        ...  \n",
       "457013                    30.0  \n",
       "458816                     4.0  \n",
       "459635                    21.0  \n",
       "468324                     3.0  \n",
       "477526                     3.0  \n",
       "\n",
       "[121 rows x 6 columns]"
      ]
     },
     "execution_count": 5,
     "metadata": {},
     "output_type": "execute_result"
    }
   ],
   "source": [
    "# Check for all orders placed Wednesday at 2:00 AM\n",
    "# Correct column name\n",
    "day_mapping = {0: 'sunday', 1: 'monday', 2: 'tuesday', 3: 'wednesday', 4: 'thursday', 5: 'friday', 6: 'saturday'}\n",
    "\n",
    "# Applying the mapping to the correct 'order_dow' column\n",
    "instacart_orders['order_dow'] = instacart_orders['order_dow'].map(day_mapping)\n",
    "    \n",
    "\n",
    "instacart_orders.query(\"order_dow == 'wednesday' & order_hour_of_day == 2\")"
   ]
  },
  {
   "cell_type": "code",
   "execution_count": 6,
   "id": "480563c7",
   "metadata": {},
   "outputs": [],
   "source": [
    "# Remove duplicate orders\n",
    "instacart_orders.drop_duplicates(inplace=True)"
   ]
  },
  {
   "cell_type": "code",
   "execution_count": 7,
   "id": "0b2396a2",
   "metadata": {},
   "outputs": [
    {
     "data": {
      "text/plain": [
       "0"
      ]
     },
     "execution_count": 7,
     "metadata": {},
     "output_type": "execute_result"
    }
   ],
   "source": [
    "# Double check for duplicate rows\n",
    "instacart_orders.duplicated().sum()"
   ]
  },
  {
   "cell_type": "code",
   "execution_count": 8,
   "id": "f6113ef1",
   "metadata": {},
   "outputs": [
    {
     "data": {
      "text/plain": [
       "0"
      ]
     },
     "execution_count": 8,
     "metadata": {},
     "output_type": "execute_result"
    }
   ],
   "source": [
    "# Double check for duplicate order IDs only\n",
    "instacart_orders['order_id'].duplicated().sum()"
   ]
  },
  {
   "cell_type": "code",
   "execution_count": 9,
   "id": "5f526b5b-8175-46fa-a0fd-441767d50e64",
   "metadata": {},
   "outputs": [
    {
     "data": {
      "text/plain": [
       "0"
      ]
     },
     "execution_count": 9,
     "metadata": {},
     "output_type": "execute_result"
    }
   ],
   "source": [
    "# Check for fully duplicate rows\n",
    "products.duplicated().sum()"
   ]
  },
  {
   "cell_type": "code",
   "execution_count": 10,
   "id": "88daa4f4",
   "metadata": {},
   "outputs": [
    {
     "data": {
      "text/plain": [
       "0"
      ]
     },
     "execution_count": 10,
     "metadata": {},
     "output_type": "execute_result"
    }
   ],
   "source": [
    "# Check for just duplicate product IDs\n",
    "#products.columns\n",
    "products['product_id'].duplicated().sum()"
   ]
  },
  {
   "cell_type": "code",
   "execution_count": 11,
   "id": "c773f0bf",
   "metadata": {},
   "outputs": [
    {
     "data": {
      "text/plain": [
       "1361"
      ]
     },
     "execution_count": 11,
     "metadata": {},
     "output_type": "execute_result"
    }
   ],
   "source": [
    "# Check for just duplicate product names (convert names to lowercase to compare better)\n",
    "products.columns\n",
    "products['product_name'] = products['product_name'].str.lower()\n",
    "products['product_name']\n",
    "products['product_name'].duplicated().sum()"
   ]
  },
  {
   "cell_type": "code",
   "execution_count": 12,
   "id": "01efd02e",
   "metadata": {},
   "outputs": [
    {
     "data": {
      "text/plain": [
       "104"
      ]
     },
     "execution_count": 12,
     "metadata": {},
     "output_type": "execute_result"
    }
   ],
   "source": [
    "# Check for duplicate product names that aren't missing\n",
    "no_missing_products = products['product_name'][~products['product_name'].isna()]\n",
    "no_missing_products.duplicated().sum()"
   ]
  },
  {
   "cell_type": "code",
   "execution_count": 13,
   "id": "fb410ad4-0fbf-4b80-bb09-23fdea79afe3",
   "metadata": {},
   "outputs": [
    {
     "data": {
      "text/plain": [
       "0"
      ]
     },
     "execution_count": 13,
     "metadata": {},
     "output_type": "execute_result"
    }
   ],
   "source": [
    "# Check for fully duplicate rows\n",
    "#departments.duplicated().sum()\n",
    "#departments.columns\n",
    "# Double check for duplicate department IDs\n",
    "departments['department_id'].duplicated().sum()"
   ]
  },
  {
   "cell_type": "code",
   "execution_count": 14,
   "id": "332b12bb",
   "metadata": {},
   "outputs": [
    {
     "data": {
      "text/plain": [
       "0"
      ]
     },
     "execution_count": 14,
     "metadata": {},
     "output_type": "execute_result"
    }
   ],
   "source": [
    "#departments.head()\n",
    "# Double check for duplicate department enties\n",
    "departments['department'].duplicated().sum()"
   ]
  },
  {
   "cell_type": "code",
   "execution_count": 15,
   "id": "9da89fb9-4679-40f5-ad0d-c34df753a3f8",
   "metadata": {},
   "outputs": [
    {
     "data": {
      "text/plain": [
       "0"
      ]
     },
     "execution_count": 15,
     "metadata": {},
     "output_type": "execute_result"
    }
   ],
   "source": [
    "# Check for fully duplicate rows\n",
    "aisles['aisle'].duplicated().sum()\n",
    "# Double check for duplicate aisles IDs\n",
    "aisles['aisle_id'].duplicated().sum()"
   ]
  },
  {
   "cell_type": "code",
   "execution_count": 16,
   "id": "da7c2822",
   "metadata": {},
   "outputs": [
    {
     "data": {
      "text/plain": [
       "0"
      ]
     },
     "execution_count": 16,
     "metadata": {},
     "output_type": "execute_result"
    }
   ],
   "source": [
    "# Double check for duplicate aisles IDs\n",
    "aisles['aisle_id'].duplicated().sum()"
   ]
  },
  {
   "cell_type": "code",
   "execution_count": 17,
   "id": "52326689-84a8-4b8f-a881-7c68780f62c9",
   "metadata": {},
   "outputs": [
    {
     "data": {
      "text/plain": [
       "Index(['order_id', 'product_id', 'add_to_cart_order', 'reordered'], dtype='object')"
      ]
     },
     "execution_count": 17,
     "metadata": {},
     "output_type": "execute_result"
    }
   ],
   "source": [
    "# Check for fully duplicate rows\n",
    "order_products.loc[order_products['reordered'] == 0, 'reordered'] = 'never_ordered' # Replace specific value in a column\n",
    "order_products.loc[order_products['reordered'] == 1, 'reordered'] = 'ordered' # Replace specific value in a column\n",
    "#order_products.duplicated().sum()\n",
    "order_products.columns\n",
    "# Double check for duplicate aisles IDs\n",
    "#order_products['_id'].duplicated().sum()\n"
   ]
  },
  {
   "cell_type": "code",
   "execution_count": 18,
   "id": "7b861391",
   "metadata": {},
   "outputs": [
    {
     "data": {
      "text/html": [
       "<div>\n",
       "<style scoped>\n",
       "    .dataframe tbody tr th:only-of-type {\n",
       "        vertical-align: middle;\n",
       "    }\n",
       "\n",
       "    .dataframe tbody tr th {\n",
       "        vertical-align: top;\n",
       "    }\n",
       "\n",
       "    .dataframe thead th {\n",
       "        text-align: right;\n",
       "    }\n",
       "</style>\n",
       "<table border=\"1\" class=\"dataframe\">\n",
       "  <thead>\n",
       "    <tr style=\"text-align: right;\">\n",
       "      <th></th>\n",
       "      <th>order_id</th>\n",
       "      <th>product_id</th>\n",
       "      <th>add_to_cart_order</th>\n",
       "      <th>reordered</th>\n",
       "    </tr>\n",
       "  </thead>\n",
       "  <tbody>\n",
       "    <tr>\n",
       "      <th>0</th>\n",
       "      <td>2141543</td>\n",
       "      <td>11440</td>\n",
       "      <td>17.0</td>\n",
       "      <td>never_ordered</td>\n",
       "    </tr>\n",
       "    <tr>\n",
       "      <th>1</th>\n",
       "      <td>567889</td>\n",
       "      <td>1560</td>\n",
       "      <td>1.0</td>\n",
       "      <td>ordered</td>\n",
       "    </tr>\n",
       "    <tr>\n",
       "      <th>2</th>\n",
       "      <td>2261212</td>\n",
       "      <td>26683</td>\n",
       "      <td>1.0</td>\n",
       "      <td>ordered</td>\n",
       "    </tr>\n",
       "    <tr>\n",
       "      <th>3</th>\n",
       "      <td>491251</td>\n",
       "      <td>8670</td>\n",
       "      <td>35.0</td>\n",
       "      <td>ordered</td>\n",
       "    </tr>\n",
       "    <tr>\n",
       "      <th>4</th>\n",
       "      <td>2571142</td>\n",
       "      <td>1940</td>\n",
       "      <td>5.0</td>\n",
       "      <td>ordered</td>\n",
       "    </tr>\n",
       "  </tbody>\n",
       "</table>\n",
       "</div>"
      ],
      "text/plain": [
       "   order_id  product_id  add_to_cart_order      reordered\n",
       "0   2141543       11440               17.0  never_ordered\n",
       "1    567889        1560                1.0        ordered\n",
       "2   2261212       26683                1.0        ordered\n",
       "3    491251        8670               35.0        ordered\n",
       "4   2571142        1940                5.0        ordered"
      ]
     },
     "execution_count": 18,
     "metadata": {},
     "output_type": "execute_result"
    }
   ],
   "source": [
    "# Double check for any other tricky duplicates\n",
    "order_products.head()\n",
    "# Double check for duplicate department enties\n",
    "#order_products[''].duplicated().sum()"
   ]
  },
  {
   "cell_type": "code",
   "execution_count": 19,
   "id": "fe4a8b0f",
   "metadata": {},
   "outputs": [
    {
     "name": "stdout",
     "output_type": "stream",
     "text": [
      "<class 'pandas.core.frame.DataFrame'>\n",
      "RangeIndex: 49694 entries, 0 to 49693\n",
      "Data columns (total 4 columns):\n",
      " #   Column         Non-Null Count  Dtype \n",
      "---  ------         --------------  ----- \n",
      " 0   product_id     49694 non-null  int64 \n",
      " 1   product_name   48436 non-null  object\n",
      " 2   aisle_id       49694 non-null  int64 \n",
      " 3   department_id  49694 non-null  int64 \n",
      "dtypes: int64(3), object(1)\n",
      "memory usage: 1.5+ MB\n"
     ]
    }
   ],
   "source": [
    "#products.isna().sum()\n",
    "products.columns\n",
    "products.info()"
   ]
  },
  {
   "cell_type": "code",
   "execution_count": 20,
   "id": "e96167bc",
   "metadata": {},
   "outputs": [
    {
     "data": {
      "text/html": [
       "<div>\n",
       "<style scoped>\n",
       "    .dataframe tbody tr th:only-of-type {\n",
       "        vertical-align: middle;\n",
       "    }\n",
       "\n",
       "    .dataframe tbody tr th {\n",
       "        vertical-align: top;\n",
       "    }\n",
       "\n",
       "    .dataframe thead th {\n",
       "        text-align: right;\n",
       "    }\n",
       "</style>\n",
       "<table border=\"1\" class=\"dataframe\">\n",
       "  <thead>\n",
       "    <tr style=\"text-align: right;\">\n",
       "      <th></th>\n",
       "      <th>product_id</th>\n",
       "      <th>product_name</th>\n",
       "      <th>aisle_id</th>\n",
       "      <th>department_id</th>\n",
       "    </tr>\n",
       "  </thead>\n",
       "  <tbody>\n",
       "    <tr>\n",
       "      <th>37</th>\n",
       "      <td>38</td>\n",
       "      <td>NaN</td>\n",
       "      <td>100</td>\n",
       "      <td>21</td>\n",
       "    </tr>\n",
       "    <tr>\n",
       "      <th>71</th>\n",
       "      <td>72</td>\n",
       "      <td>NaN</td>\n",
       "      <td>100</td>\n",
       "      <td>21</td>\n",
       "    </tr>\n",
       "    <tr>\n",
       "      <th>109</th>\n",
       "      <td>110</td>\n",
       "      <td>NaN</td>\n",
       "      <td>100</td>\n",
       "      <td>21</td>\n",
       "    </tr>\n",
       "    <tr>\n",
       "      <th>296</th>\n",
       "      <td>297</td>\n",
       "      <td>NaN</td>\n",
       "      <td>100</td>\n",
       "      <td>21</td>\n",
       "    </tr>\n",
       "    <tr>\n",
       "      <th>416</th>\n",
       "      <td>417</td>\n",
       "      <td>NaN</td>\n",
       "      <td>100</td>\n",
       "      <td>21</td>\n",
       "    </tr>\n",
       "    <tr>\n",
       "      <th>...</th>\n",
       "      <td>...</td>\n",
       "      <td>...</td>\n",
       "      <td>...</td>\n",
       "      <td>...</td>\n",
       "    </tr>\n",
       "    <tr>\n",
       "      <th>49552</th>\n",
       "      <td>49553</td>\n",
       "      <td>NaN</td>\n",
       "      <td>100</td>\n",
       "      <td>21</td>\n",
       "    </tr>\n",
       "    <tr>\n",
       "      <th>49574</th>\n",
       "      <td>49575</td>\n",
       "      <td>NaN</td>\n",
       "      <td>100</td>\n",
       "      <td>21</td>\n",
       "    </tr>\n",
       "    <tr>\n",
       "      <th>49640</th>\n",
       "      <td>49641</td>\n",
       "      <td>NaN</td>\n",
       "      <td>100</td>\n",
       "      <td>21</td>\n",
       "    </tr>\n",
       "    <tr>\n",
       "      <th>49663</th>\n",
       "      <td>49664</td>\n",
       "      <td>NaN</td>\n",
       "      <td>100</td>\n",
       "      <td>21</td>\n",
       "    </tr>\n",
       "    <tr>\n",
       "      <th>49668</th>\n",
       "      <td>49669</td>\n",
       "      <td>NaN</td>\n",
       "      <td>100</td>\n",
       "      <td>21</td>\n",
       "    </tr>\n",
       "  </tbody>\n",
       "</table>\n",
       "<p>1258 rows × 4 columns</p>\n",
       "</div>"
      ],
      "text/plain": [
       "       product_id product_name  aisle_id  department_id\n",
       "37             38          NaN       100             21\n",
       "71             72          NaN       100             21\n",
       "109           110          NaN       100             21\n",
       "296           297          NaN       100             21\n",
       "416           417          NaN       100             21\n",
       "...           ...          ...       ...            ...\n",
       "49552       49553          NaN       100             21\n",
       "49574       49575          NaN       100             21\n",
       "49640       49641          NaN       100             21\n",
       "49663       49664          NaN       100             21\n",
       "49668       49669          NaN       100             21\n",
       "\n",
       "[1258 rows x 4 columns]"
      ]
     },
     "execution_count": 20,
     "metadata": {},
     "output_type": "execute_result"
    }
   ],
   "source": [
    "# Are all of the missing product names associated with aisle ID 100?- Yes, all of the missing product names are associated with aisle ID 100.\n",
    "products.query(\"product_name.isna() == True and aisle_id == 100\")"
   ]
  },
  {
   "cell_type": "code",
   "execution_count": 21,
   "id": "8fd0a541",
   "metadata": {},
   "outputs": [
    {
     "data": {
      "text/html": [
       "<div>\n",
       "<style scoped>\n",
       "    .dataframe tbody tr th:only-of-type {\n",
       "        vertical-align: middle;\n",
       "    }\n",
       "\n",
       "    .dataframe tbody tr th {\n",
       "        vertical-align: top;\n",
       "    }\n",
       "\n",
       "    .dataframe thead th {\n",
       "        text-align: right;\n",
       "    }\n",
       "</style>\n",
       "<table border=\"1\" class=\"dataframe\">\n",
       "  <thead>\n",
       "    <tr style=\"text-align: right;\">\n",
       "      <th></th>\n",
       "      <th>product_id</th>\n",
       "      <th>product_name</th>\n",
       "      <th>aisle_id</th>\n",
       "      <th>department_id</th>\n",
       "    </tr>\n",
       "  </thead>\n",
       "  <tbody>\n",
       "    <tr>\n",
       "      <th>37</th>\n",
       "      <td>38</td>\n",
       "      <td>NaN</td>\n",
       "      <td>100</td>\n",
       "      <td>21</td>\n",
       "    </tr>\n",
       "    <tr>\n",
       "      <th>71</th>\n",
       "      <td>72</td>\n",
       "      <td>NaN</td>\n",
       "      <td>100</td>\n",
       "      <td>21</td>\n",
       "    </tr>\n",
       "    <tr>\n",
       "      <th>109</th>\n",
       "      <td>110</td>\n",
       "      <td>NaN</td>\n",
       "      <td>100</td>\n",
       "      <td>21</td>\n",
       "    </tr>\n",
       "    <tr>\n",
       "      <th>296</th>\n",
       "      <td>297</td>\n",
       "      <td>NaN</td>\n",
       "      <td>100</td>\n",
       "      <td>21</td>\n",
       "    </tr>\n",
       "    <tr>\n",
       "      <th>416</th>\n",
       "      <td>417</td>\n",
       "      <td>NaN</td>\n",
       "      <td>100</td>\n",
       "      <td>21</td>\n",
       "    </tr>\n",
       "    <tr>\n",
       "      <th>...</th>\n",
       "      <td>...</td>\n",
       "      <td>...</td>\n",
       "      <td>...</td>\n",
       "      <td>...</td>\n",
       "    </tr>\n",
       "    <tr>\n",
       "      <th>49552</th>\n",
       "      <td>49553</td>\n",
       "      <td>NaN</td>\n",
       "      <td>100</td>\n",
       "      <td>21</td>\n",
       "    </tr>\n",
       "    <tr>\n",
       "      <th>49574</th>\n",
       "      <td>49575</td>\n",
       "      <td>NaN</td>\n",
       "      <td>100</td>\n",
       "      <td>21</td>\n",
       "    </tr>\n",
       "    <tr>\n",
       "      <th>49640</th>\n",
       "      <td>49641</td>\n",
       "      <td>NaN</td>\n",
       "      <td>100</td>\n",
       "      <td>21</td>\n",
       "    </tr>\n",
       "    <tr>\n",
       "      <th>49663</th>\n",
       "      <td>49664</td>\n",
       "      <td>NaN</td>\n",
       "      <td>100</td>\n",
       "      <td>21</td>\n",
       "    </tr>\n",
       "    <tr>\n",
       "      <th>49668</th>\n",
       "      <td>49669</td>\n",
       "      <td>NaN</td>\n",
       "      <td>100</td>\n",
       "      <td>21</td>\n",
       "    </tr>\n",
       "  </tbody>\n",
       "</table>\n",
       "<p>1258 rows × 4 columns</p>\n",
       "</div>"
      ],
      "text/plain": [
       "       product_id product_name  aisle_id  department_id\n",
       "37             38          NaN       100             21\n",
       "71             72          NaN       100             21\n",
       "109           110          NaN       100             21\n",
       "296           297          NaN       100             21\n",
       "416           417          NaN       100             21\n",
       "...           ...          ...       ...            ...\n",
       "49552       49553          NaN       100             21\n",
       "49574       49575          NaN       100             21\n",
       "49640       49641          NaN       100             21\n",
       "49663       49664          NaN       100             21\n",
       "49668       49669          NaN       100             21\n",
       "\n",
       "[1258 rows x 4 columns]"
      ]
     },
     "execution_count": 21,
     "metadata": {},
     "output_type": "execute_result"
    }
   ],
   "source": [
    "# Are all of the missing product names associated with department ID 21? - Yes, all of the missing product names are associated with department ID 21.\n",
    "products.query(\"product_name.isna() == True and department_id == 21\")"
   ]
  },
  {
   "cell_type": "code",
   "execution_count": 22,
   "id": "325c3464",
   "metadata": {},
   "outputs": [
    {
     "name": "stdout",
     "output_type": "stream",
     "text": [
      "<class 'pandas.core.frame.DataFrame'>\n",
      "RangeIndex: 49694 entries, 0 to 49693\n",
      "Data columns (total 4 columns):\n",
      " #   Column         Non-Null Count  Dtype \n",
      "---  ------         --------------  ----- \n",
      " 0   product_id     49694 non-null  int64 \n",
      " 1   product_name   48436 non-null  object\n",
      " 2   aisle_id       49694 non-null  int64 \n",
      " 3   department_id  49694 non-null  int64 \n",
      "dtypes: int64(3), object(1)\n",
      "memory usage: 1.5+ MB\n"
     ]
    }
   ],
   "source": [
    "# What is this ailse and department?\n",
    "products.info()"
   ]
  },
  {
   "cell_type": "code",
   "execution_count": 23,
   "id": "6b295120",
   "metadata": {},
   "outputs": [
    {
     "data": {
      "text/plain": [
       "0"
      ]
     },
     "execution_count": 23,
     "metadata": {},
     "output_type": "execute_result"
    }
   ],
   "source": [
    "# Fill missing product names with 'Unknown'\n",
    "products['product_name'] = products['product_name'].astype('str')\n",
    "products['product_name'] = products['product_name'].fillna(value='Unknown')\n",
    "products['product_name'].isna().sum()"
   ]
  },
  {
   "cell_type": "code",
   "execution_count": 24,
   "id": "93e41d96",
   "metadata": {},
   "outputs": [
    {
     "data": {
      "text/plain": [
       "order_id                      0\n",
       "user_id                       0\n",
       "order_number                  0\n",
       "order_dow                     0\n",
       "order_hour_of_day             0\n",
       "days_since_prior_order    28817\n",
       "dtype: int64"
      ]
     },
     "execution_count": 24,
     "metadata": {},
     "output_type": "execute_result"
    }
   ],
   "source": [
    "instacart_orders.isna().sum()"
   ]
  },
  {
   "cell_type": "code",
   "execution_count": 25,
   "id": "166e5a86",
   "metadata": {},
   "outputs": [
    {
     "data": {
      "text/html": [
       "<div>\n",
       "<style scoped>\n",
       "    .dataframe tbody tr th:only-of-type {\n",
       "        vertical-align: middle;\n",
       "    }\n",
       "\n",
       "    .dataframe tbody tr th {\n",
       "        vertical-align: top;\n",
       "    }\n",
       "\n",
       "    .dataframe thead th {\n",
       "        text-align: right;\n",
       "    }\n",
       "</style>\n",
       "<table border=\"1\" class=\"dataframe\">\n",
       "  <thead>\n",
       "    <tr style=\"text-align: right;\">\n",
       "      <th></th>\n",
       "      <th>order_id</th>\n",
       "      <th>user_id</th>\n",
       "      <th>order_number</th>\n",
       "      <th>order_dow</th>\n",
       "      <th>order_hour_of_day</th>\n",
       "      <th>days_since_prior_order</th>\n",
       "    </tr>\n",
       "  </thead>\n",
       "  <tbody>\n",
       "  </tbody>\n",
       "</table>\n",
       "</div>"
      ],
      "text/plain": [
       "Empty DataFrame\n",
       "Columns: [order_id, user_id, order_number, order_dow, order_hour_of_day, days_since_prior_order]\n",
       "Index: []"
      ]
     },
     "execution_count": 25,
     "metadata": {},
     "output_type": "execute_result"
    }
   ],
   "source": [
    "# Are there any missing values where it's not a customer's first order? - There seems to be no values where it's not a customer's first order.\n",
    "instacart_orders.query(\"order_number.isna() == True and days_since_prior_order != 0\")"
   ]
  },
  {
   "cell_type": "code",
   "execution_count": 26,
   "id": "b8240253",
   "metadata": {},
   "outputs": [
    {
     "data": {
      "text/html": [
       "<div>\n",
       "<style scoped>\n",
       "    .dataframe tbody tr th:only-of-type {\n",
       "        vertical-align: middle;\n",
       "    }\n",
       "\n",
       "    .dataframe tbody tr th {\n",
       "        vertical-align: top;\n",
       "    }\n",
       "\n",
       "    .dataframe thead th {\n",
       "        text-align: right;\n",
       "    }\n",
       "</style>\n",
       "<table border=\"1\" class=\"dataframe\">\n",
       "  <thead>\n",
       "    <tr style=\"text-align: right;\">\n",
       "      <th></th>\n",
       "      <th>order_id</th>\n",
       "      <th>product_id</th>\n",
       "      <th>add_to_cart_order</th>\n",
       "      <th>reordered</th>\n",
       "    </tr>\n",
       "  </thead>\n",
       "  <tbody>\n",
       "    <tr>\n",
       "      <th>0</th>\n",
       "      <td>2141543</td>\n",
       "      <td>11440</td>\n",
       "      <td>17.0</td>\n",
       "      <td>never_ordered</td>\n",
       "    </tr>\n",
       "    <tr>\n",
       "      <th>1</th>\n",
       "      <td>567889</td>\n",
       "      <td>1560</td>\n",
       "      <td>1.0</td>\n",
       "      <td>ordered</td>\n",
       "    </tr>\n",
       "    <tr>\n",
       "      <th>2</th>\n",
       "      <td>2261212</td>\n",
       "      <td>26683</td>\n",
       "      <td>1.0</td>\n",
       "      <td>ordered</td>\n",
       "    </tr>\n",
       "    <tr>\n",
       "      <th>3</th>\n",
       "      <td>491251</td>\n",
       "      <td>8670</td>\n",
       "      <td>35.0</td>\n",
       "      <td>ordered</td>\n",
       "    </tr>\n",
       "    <tr>\n",
       "      <th>4</th>\n",
       "      <td>2571142</td>\n",
       "      <td>1940</td>\n",
       "      <td>5.0</td>\n",
       "      <td>ordered</td>\n",
       "    </tr>\n",
       "  </tbody>\n",
       "</table>\n",
       "</div>"
      ],
      "text/plain": [
       "   order_id  product_id  add_to_cart_order      reordered\n",
       "0   2141543       11440               17.0  never_ordered\n",
       "1    567889        1560                1.0        ordered\n",
       "2   2261212       26683                1.0        ordered\n",
       "3    491251        8670               35.0        ordered\n",
       "4   2571142        1940                5.0        ordered"
      ]
     },
     "execution_count": 26,
     "metadata": {},
     "output_type": "execute_result"
    }
   ],
   "source": [
    "#order_products.isna().sum()\n",
    "order_products.head()"
   ]
  },
  {
   "cell_type": "code",
   "execution_count": 27,
   "id": "9a78e5ee",
   "metadata": {},
   "outputs": [
    {
     "data": {
      "text/plain": [
       "64.0"
      ]
     },
     "execution_count": 27,
     "metadata": {},
     "output_type": "execute_result"
    }
   ],
   "source": [
    "# What are the min and max values in this column? - The min & max values for this column are 1.0 & 64.0.\n",
    "order_products['add_to_cart_order'].min()\n",
    "order_products['add_to_cart_order'].max()"
   ]
  },
  {
   "cell_type": "code",
   "execution_count": 28,
   "id": "ab9d0c2b",
   "metadata": {},
   "outputs": [],
   "source": [
    "# Save all order IDs with at least one missing value in 'add_to_cart_order'\n",
    "# the total number of values in 'add_to_cart_order' column regardless of it's missing is 4544171\n",
    "# After running order_products.isna().sum(), there are 836 missing values in the add_to_cart_order column\n",
    "missing_add_to_cart = order_products[order_products['add_to_cart_order'].isna()]\n",
    "order_ids_with_miss_values = missing_add_to_cart['order_id'].unique()"
   ]
  },
  {
   "cell_type": "code",
   "execution_count": 29,
   "id": "54c31695",
   "metadata": {},
   "outputs": [
    {
     "data": {
      "text/plain": [
       "order_id\n",
       "9310        65\n",
       "61355      127\n",
       "102236      95\n",
       "129627      69\n",
       "165801      70\n",
       "          ... \n",
       "2999801     70\n",
       "3125735     86\n",
       "3308010    115\n",
       "3347453     71\n",
       "3383594     69\n",
       "Length: 70, dtype: int64"
      ]
     },
     "execution_count": 29,
     "metadata": {},
     "output_type": "execute_result"
    }
   ],
   "source": [
    "# Do all orders with missing values have more than 64 products?\n",
    "missing_orders = order_products[order_products['order_id'].isin(order_ids_with_miss_values)] # Using the array of order ids that was created as reference to get any orders with missing values out of the OG dataframe.\n",
    "product_counts = missing_orders.groupby('order_id').size()\n",
    "orders_with_many_products = product_counts[product_counts > 64]\n",
    "orders_with_many_products"
   ]
  },
  {
   "cell_type": "code",
   "execution_count": 30,
   "id": "7a987d08",
   "metadata": {},
   "outputs": [
    {
     "name": "stdout",
     "output_type": "stream",
     "text": [
      "<class 'pandas.core.frame.DataFrame'>\n",
      "RangeIndex: 4545007 entries, 0 to 4545006\n",
      "Data columns (total 4 columns):\n",
      " #   Column             Dtype \n",
      "---  ------             ----- \n",
      " 0   order_id           int64 \n",
      " 1   product_id         int64 \n",
      " 2   add_to_cart_order  int64 \n",
      " 3   reordered          object\n",
      "dtypes: int64(3), object(1)\n",
      "memory usage: 138.7+ MB\n"
     ]
    }
   ],
   "source": [
    "# Replace missing values with 999 and convert column to integer type\n",
    "#order_products['add_to_cart_order'].isna().sum()  # Total number of missing values (Dataframe/Series)\n",
    "#order_products.info()\n",
    "order_products['add_to_cart_order'] = order_products['add_to_cart_order'].fillna(value= 999.0)  # Fill missing values\n",
    "#order_products['add_to_cart_order'].isna().sum()\n",
    "order_products['add_to_cart_order'] = order_products['add_to_cart_order'].astype('int')\n",
    "order_products.info()"
   ]
  },
  {
   "cell_type": "markdown",
   "id": "short-capability",
   "metadata": {},
   "source": [
    "### [A1] Verify that the `'order_hour_of_day'` and `'order_dow'` values in the `orders` tables are sensible (i.e. `'order_hour_of_day'` ranges from 0 to 23 and `'order_dow'` ranges from 0 to 6)"
   ]
  },
  {
   "cell_type": "code",
   "execution_count": 31,
   "id": "growing-fruit",
   "metadata": {},
   "outputs": [
    {
     "data": {
      "text/plain": [
       "array([0, 1, 2, 3, 4, 5, 6])"
      ]
     },
     "execution_count": 31,
     "metadata": {},
     "output_type": "execute_result"
    }
   ],
   "source": [
    "#In the beginning of this project I had mapped the day of the week string equivalents to the 0 through 6 values for readability purposes\n",
    "reverse_day_mapping = {'sunday': 0,'monday': 1,'tuesday': 2,'wednesday': 3,'thursday': 4,'friday': 5,'saturday': 6}\n",
    "instacart_orders['order_dow'] = instacart_orders['order_dow'].map(reverse_day_mapping)\n",
    "\n",
    "instacart_orders['order_dow'].sort_values().unique()"
   ]
  },
  {
   "cell_type": "code",
   "execution_count": 32,
   "id": "accessory-malaysia",
   "metadata": {},
   "outputs": [
    {
     "data": {
      "text/plain": [
       "array([ 0,  1,  2,  3,  4,  5,  6,  7,  8,  9, 10, 11, 12, 13, 14, 15, 16,\n",
       "       17, 18, 19, 20, 21, 22, 23])"
      ]
     },
     "execution_count": 32,
     "metadata": {},
     "output_type": "execute_result"
    }
   ],
   "source": [
    "instacart_orders['order_hour_of_day'].sort_values().unique()"
   ]
  },
  {
   "cell_type": "markdown",
   "id": "a6743a70",
   "metadata": {},
   "source": [
    "### [A2] What time of day do people shop for groceries?"
   ]
  },
  {
   "cell_type": "code",
   "execution_count": 33,
   "id": "a36cca27",
   "metadata": {
    "scrolled": false
   },
   "outputs": [
    {
     "data": {
      "text/plain": [
       "Text(0, 0.5, '# of Orders')"
      ]
     },
     "execution_count": 33,
     "metadata": {},
     "output_type": "execute_result"
    },
    {
     "data": {
      "image/png": "[encoded data removed]",
      "text/plain": [
       "<Figure size 640x480 with 1 Axes>"
      ]
     },
     "metadata": {},
     "output_type": "display_data"
    }
   ],
   "source": [
    "instacart_orders.head(15)\n",
    "bx = instacart_orders['order_hour_of_day'].plot(kind='hist', bins=24, edgecolor='black')\n",
    "bx.set_title('Number of Orders by Hour of the Day')\n",
    "bx.set_xlabel('Hour of the Day')\n",
    "bx.set_ylabel('# of Orders')\n"
   ]
  },
  {
   "cell_type": "markdown",
   "id": "0e42f515",
   "metadata": {},
   "source": [
    "Judging from the histogram, it seems the anywhere from the hours of 9am to 3pm is when most people shop for groceries."
   ]
  },
  {
   "cell_type": "markdown",
   "id": "documented-command",
   "metadata": {},
   "source": [
    "### [A3] What day of the week do people shop for groceries?"
   ]
  },
  {
   "cell_type": "code",
   "execution_count": 34,
   "id": "chief-digit",
   "metadata": {},
   "outputs": [
    {
     "data": {
      "image/png": "[encoded data removed]",
      "text/plain": [
       "<Figure size 640x480 with 1 Axes>"
      ]
     },
     "metadata": {},
     "output_type": "display_data"
    }
   ],
   "source": [
    "instacart_orders['order_dow'].value_counts().sort_index()\n",
    "\n",
    "ax = instacart_orders['order_dow'].plot(kind='hist', bins=6, edgecolor='black')\n",
    "ax.set_title('Days of the Week')\n",
    "ax.set_xlabel('Day of the Week')\n",
    "ax.set_ylabel('# of Orders')\n",
    "plt.show()"
   ]
  },
  {
   "cell_type": "markdown",
   "id": "7a4e645f",
   "metadata": {},
   "source": [
    "From the histogram, it looks like Saturday is the day of the week when most people shop for groceries."
   ]
  },
  {
   "cell_type": "markdown",
   "id": "dominant-lightning",
   "metadata": {},
   "source": []
  },
  {
   "cell_type": "markdown",
   "id": "cutting-concert",
   "metadata": {},
   "source": [
    "### [A4] How long do people wait until placing another order?"
   ]
  },
  {
   "cell_type": "code",
   "execution_count": 35,
   "id": "c231f523",
   "metadata": {},
   "outputs": [
    {
     "data": {
      "text/plain": [
       "0.0      9589\n",
       "1.0     20179\n",
       "2.0     27138\n",
       "3.0     30224\n",
       "4.0     31006\n",
       "5.0     30096\n",
       "6.0     33930\n",
       "7.0     44577\n",
       "8.0     25361\n",
       "9.0     16753\n",
       "10.0    13309\n",
       "11.0    11467\n",
       "12.0    10658\n",
       "13.0    11737\n",
       "14.0    13992\n",
       "15.0     9416\n",
       "16.0     6587\n",
       "17.0     5498\n",
       "18.0     4971\n",
       "19.0     4939\n",
       "20.0     5302\n",
       "21.0     6448\n",
       "22.0     4514\n",
       "23.0     3337\n",
       "24.0     3015\n",
       "25.0     2711\n",
       "26.0     2640\n",
       "27.0     2986\n",
       "28.0     3745\n",
       "29.0     2673\n",
       "30.0    51337\n",
       "Name: days_since_prior_order, dtype: int64"
      ]
     },
     "execution_count": 35,
     "metadata": {},
     "output_type": "execute_result"
    }
   ],
   "source": [
    "instacart_orders['days_since_prior_order'].value_counts().sort_index()\n"
   ]
  },
  {
   "cell_type": "markdown",
   "id": "discrete-vertex",
   "metadata": {},
   "source": []
  },
  {
   "cell_type": "code",
   "execution_count": 36,
   "id": "exciting-fantasy",
   "metadata": {},
   "outputs": [
    {
     "data": {
      "image/png": "[encoded data removed]",
      "text/plain": [
       "<Figure size 640x480 with 1 Axes>"
      ]
     },
     "metadata": {},
     "output_type": "display_data"
    }
   ],
   "source": [
    "ax = instacart_orders['days_since_prior_order'].plot(kind='hist', bins=30, edgecolor='black')\n",
    "ax.set_title('Wait time before another order is placed')\n",
    "ax.set_xlabel('Duration in days')\n",
    "ax.set_ylabel('# of occurences')\n",
    "plt.show()\n"
   ]
  },
  {
   "cell_type": "markdown",
   "id": "29c56f84",
   "metadata": {},
   "source": [
    "The histogram is telling me that most people wait 30 days before placing another order."
   ]
  },
  {
   "cell_type": "markdown",
   "id": "packed-classic",
   "metadata": {},
   "source": [
    "### [B1] Is there a difference in `'order_hour_of_day'` distributions on Wednesdays and Saturdays? Plot the histograms for both days and describe the differences that you see."
   ]
  },
  {
   "cell_type": "code",
   "execution_count": 37,
   "id": "d89b8403",
   "metadata": {},
   "outputs": [],
   "source": [
    "wednesday_orders = instacart_orders[instacart_orders['order_dow'] == 3]\n",
    "saturday_orders = instacart_orders[instacart_orders['order_dow'] == 6]\n"
   ]
  },
  {
   "cell_type": "code",
   "execution_count": 38,
   "id": "94e54e8a",
   "metadata": {
    "scrolled": true
   },
   "outputs": [
    {
     "data": {
      "text/html": [
       "<div>\n",
       "<style scoped>\n",
       "    .dataframe tbody tr th:only-of-type {\n",
       "        vertical-align: middle;\n",
       "    }\n",
       "\n",
       "    .dataframe tbody tr th {\n",
       "        vertical-align: top;\n",
       "    }\n",
       "\n",
       "    .dataframe thead th {\n",
       "        text-align: right;\n",
       "    }\n",
       "</style>\n",
       "<table border=\"1\" class=\"dataframe\">\n",
       "  <thead>\n",
       "    <tr style=\"text-align: right;\">\n",
       "      <th></th>\n",
       "      <th>order_id</th>\n",
       "      <th>user_id</th>\n",
       "      <th>order_number</th>\n",
       "      <th>order_dow</th>\n",
       "      <th>order_hour_of_day</th>\n",
       "      <th>days_since_prior_order</th>\n",
       "    </tr>\n",
       "  </thead>\n",
       "  <tbody>\n",
       "    <tr>\n",
       "      <th>0</th>\n",
       "      <td>1515936</td>\n",
       "      <td>183418</td>\n",
       "      <td>11</td>\n",
       "      <td>6</td>\n",
       "      <td>13</td>\n",
       "      <td>30.0</td>\n",
       "    </tr>\n",
       "    <tr>\n",
       "      <th>11</th>\n",
       "      <td>102585</td>\n",
       "      <td>191558</td>\n",
       "      <td>18</td>\n",
       "      <td>6</td>\n",
       "      <td>16</td>\n",
       "      <td>8.0</td>\n",
       "    </tr>\n",
       "    <tr>\n",
       "      <th>14</th>\n",
       "      <td>2843219</td>\n",
       "      <td>74699</td>\n",
       "      <td>4</td>\n",
       "      <td>6</td>\n",
       "      <td>11</td>\n",
       "      <td>30.0</td>\n",
       "    </tr>\n",
       "    <tr>\n",
       "      <th>20</th>\n",
       "      <td>50934</td>\n",
       "      <td>178510</td>\n",
       "      <td>9</td>\n",
       "      <td>6</td>\n",
       "      <td>9</td>\n",
       "      <td>5.0</td>\n",
       "    </tr>\n",
       "    <tr>\n",
       "      <th>26</th>\n",
       "      <td>1844247</td>\n",
       "      <td>122558</td>\n",
       "      <td>4</td>\n",
       "      <td>6</td>\n",
       "      <td>18</td>\n",
       "      <td>30.0</td>\n",
       "    </tr>\n",
       "  </tbody>\n",
       "</table>\n",
       "</div>"
      ],
      "text/plain": [
       "    order_id  user_id  order_number  order_dow  order_hour_of_day  \\\n",
       "0    1515936   183418            11          6                 13   \n",
       "11    102585   191558            18          6                 16   \n",
       "14   2843219    74699             4          6                 11   \n",
       "20     50934   178510             9          6                  9   \n",
       "26   1844247   122558             4          6                 18   \n",
       "\n",
       "    days_since_prior_order  \n",
       "0                     30.0  \n",
       "11                     8.0  \n",
       "14                    30.0  \n",
       "20                     5.0  \n",
       "26                    30.0  "
      ]
     },
     "execution_count": 38,
     "metadata": {},
     "output_type": "execute_result"
    }
   ],
   "source": [
    "wednesday_orders.head(5)\n",
    "saturday_orders.head(5)"
   ]
  },
  {
   "cell_type": "code",
   "execution_count": 39,
   "id": "797c90a8",
   "metadata": {
    "scrolled": false
   },
   "outputs": [
    {
     "data": {
      "image/png": "[encoded data removed]",
      "text/plain": [
       "<Figure size 1000x600 with 1 Axes>"
      ]
     },
     "metadata": {},
     "output_type": "display_data"
    }
   ],
   "source": [
    "plt.figure(figsize=(10, 6))\n",
    "plt.hist(wednesday_orders['order_hour_of_day'], bins=24, alpha=1.0, label='Wednesday', edgecolor='black')\n",
    "plt.hist(saturday_orders['order_hour_of_day'], bins=24, alpha=0.4, label='Saturday', edgecolor='black')\n",
    "\n",
    "plt.title('Distribution of Orders by Hour for Wednesday and Saturday')\n",
    "plt.xlabel('Hour of Day')\n",
    "plt.ylabel('Number of Orders')\n",
    "plt.legend()\n",
    "plt.xticks(range(0, 24))  # Ensuring each hour is labeled\n",
    "plt.show()"
   ]
  },
  {
   "cell_type": "markdown",
   "id": "01b7b297",
   "metadata": {},
   "source": [
    "Based on the graph, it seems that by the hour(generally speaking), Saturday is the day that have the most  grocery orders placed. On a more technical note, Wednesday around the hours of 6 to 7 am, 9 to 10 am, and 6 to 8 am, more people seem to place orders than on Saturday. From a profit standpoint, Saturdays are more profitable."
   ]
  },
  {
   "cell_type": "markdown",
   "id": "e3891143",
   "metadata": {},
   "source": [
    "### [B2] What's the distribution for the number of orders per customer?"
   ]
  },
  {
   "cell_type": "code",
   "execution_count": 40,
   "id": "d8c26c23",
   "metadata": {},
   "outputs": [
    {
     "data": {
      "image/png": "[encoded data removed]",
      "text/plain": [
       "<Figure size 800x600 with 1 Axes>"
      ]
     },
     "metadata": {},
     "output_type": "display_data"
    }
   ],
   "source": [
    "orders_per_user = instacart_orders.groupby('user_id').size()\n",
    "\n",
    "plt.figure(figsize=(8, 6))\n",
    "plt.hist(orders_per_user, bins=range(1, orders_per_user.max() + 1), alpha=0.7, label='# of Orders', edgecolor='black')\n",
    "\n",
    "plt.title('Distribution for the Number of Orders per Customer')\n",
    "plt.xlabel('Number of Orders')\n",
    "plt.ylabel('Number of Customers')\n",
    "plt.legend()\n",
    "plt.show()"
   ]
  },
  {
   "cell_type": "markdown",
   "id": "85a54ed6",
   "metadata": {},
   "source": [
    "Based on the horizontal bar chart, it seems like a large majority of customers tend to have less than 5 orders. With that being said, the main message that this graph is conveying is that not many people use Instacart for large orders; the higher the order count, the less amount of occurences of customers having those higher orders."
   ]
  },
  {
   "cell_type": "markdown",
   "id": "d2eff7d5",
   "metadata": {},
   "source": []
  },
  {
   "cell_type": "markdown",
   "id": "54a0319c",
   "metadata": {},
   "source": [
    "### [B3] What are the top 20 popular products (display their id and name)?"
   ]
  },
  {
   "cell_type": "code",
   "execution_count": 41,
   "id": "exterior-arizona",
   "metadata": {
    "scrolled": true
   },
   "outputs": [
    {
     "data": {
      "text/html": [
       "<div>\n",
       "<style scoped>\n",
       "    .dataframe tbody tr th:only-of-type {\n",
       "        vertical-align: middle;\n",
       "    }\n",
       "\n",
       "    .dataframe tbody tr th {\n",
       "        vertical-align: top;\n",
       "    }\n",
       "\n",
       "    .dataframe thead th {\n",
       "        text-align: right;\n",
       "    }\n",
       "</style>\n",
       "<table border=\"1\" class=\"dataframe\">\n",
       "  <thead>\n",
       "    <tr style=\"text-align: right;\">\n",
       "      <th></th>\n",
       "      <th>product_id</th>\n",
       "      <th>product_name</th>\n",
       "      <th>aisle_id</th>\n",
       "      <th>department_id</th>\n",
       "    </tr>\n",
       "  </thead>\n",
       "  <tbody>\n",
       "    <tr>\n",
       "      <th>0</th>\n",
       "      <td>1</td>\n",
       "      <td>chocolate sandwich cookies</td>\n",
       "      <td>61</td>\n",
       "      <td>19</td>\n",
       "    </tr>\n",
       "    <tr>\n",
       "      <th>1</th>\n",
       "      <td>2</td>\n",
       "      <td>all-seasons salt</td>\n",
       "      <td>104</td>\n",
       "      <td>13</td>\n",
       "    </tr>\n",
       "    <tr>\n",
       "      <th>2</th>\n",
       "      <td>3</td>\n",
       "      <td>robust golden unsweetened oolong tea</td>\n",
       "      <td>94</td>\n",
       "      <td>7</td>\n",
       "    </tr>\n",
       "    <tr>\n",
       "      <th>3</th>\n",
       "      <td>4</td>\n",
       "      <td>smart ones classic favorites mini rigatoni wit...</td>\n",
       "      <td>38</td>\n",
       "      <td>1</td>\n",
       "    </tr>\n",
       "    <tr>\n",
       "      <th>4</th>\n",
       "      <td>5</td>\n",
       "      <td>green chile anytime sauce</td>\n",
       "      <td>5</td>\n",
       "      <td>13</td>\n",
       "    </tr>\n",
       "  </tbody>\n",
       "</table>\n",
       "</div>"
      ],
      "text/plain": [
       "   product_id                                       product_name  aisle_id  \\\n",
       "0           1                         chocolate sandwich cookies        61   \n",
       "1           2                                   all-seasons salt       104   \n",
       "2           3               robust golden unsweetened oolong tea        94   \n",
       "3           4  smart ones classic favorites mini rigatoni wit...        38   \n",
       "4           5                          green chile anytime sauce         5   \n",
       "\n",
       "   department_id  \n",
       "0             19  \n",
       "1             13  \n",
       "2              7  \n",
       "3              1  \n",
       "4             13  "
      ]
     },
     "execution_count": 41,
     "metadata": {},
     "output_type": "execute_result"
    }
   ],
   "source": [
    "order_products.head()\n",
    "products.head()"
   ]
  },
  {
   "cell_type": "code",
   "execution_count": 42,
   "id": "universal-facial",
   "metadata": {},
   "outputs": [
    {
     "data": {
      "text/html": [
       "<div>\n",
       "<style scoped>\n",
       "    .dataframe tbody tr th:only-of-type {\n",
       "        vertical-align: middle;\n",
       "    }\n",
       "\n",
       "    .dataframe tbody tr th {\n",
       "        vertical-align: top;\n",
       "    }\n",
       "\n",
       "    .dataframe thead th {\n",
       "        text-align: right;\n",
       "    }\n",
       "</style>\n",
       "<table border=\"1\" class=\"dataframe\">\n",
       "  <thead>\n",
       "    <tr style=\"text-align: right;\">\n",
       "      <th></th>\n",
       "      <th>product_id</th>\n",
       "      <th>product_name</th>\n",
       "      <th>count</th>\n",
       "    </tr>\n",
       "  </thead>\n",
       "  <tbody>\n",
       "    <tr>\n",
       "      <th>0</th>\n",
       "      <td>24852</td>\n",
       "      <td>banana</td>\n",
       "      <td>66050</td>\n",
       "    </tr>\n",
       "    <tr>\n",
       "      <th>1</th>\n",
       "      <td>13176</td>\n",
       "      <td>bag of organic bananas</td>\n",
       "      <td>53297</td>\n",
       "    </tr>\n",
       "    <tr>\n",
       "      <th>2</th>\n",
       "      <td>21137</td>\n",
       "      <td>organic strawberries</td>\n",
       "      <td>37039</td>\n",
       "    </tr>\n",
       "    <tr>\n",
       "      <th>3</th>\n",
       "      <td>21903</td>\n",
       "      <td>organic baby spinach</td>\n",
       "      <td>33971</td>\n",
       "    </tr>\n",
       "    <tr>\n",
       "      <th>4</th>\n",
       "      <td>47209</td>\n",
       "      <td>organic hass avocado</td>\n",
       "      <td>29773</td>\n",
       "    </tr>\n",
       "    <tr>\n",
       "      <th>5</th>\n",
       "      <td>47766</td>\n",
       "      <td>organic avocado</td>\n",
       "      <td>24689</td>\n",
       "    </tr>\n",
       "    <tr>\n",
       "      <th>6</th>\n",
       "      <td>47626</td>\n",
       "      <td>large lemon</td>\n",
       "      <td>21495</td>\n",
       "    </tr>\n",
       "    <tr>\n",
       "      <th>7</th>\n",
       "      <td>16797</td>\n",
       "      <td>strawberries</td>\n",
       "      <td>20018</td>\n",
       "    </tr>\n",
       "    <tr>\n",
       "      <th>8</th>\n",
       "      <td>26209</td>\n",
       "      <td>limes</td>\n",
       "      <td>19690</td>\n",
       "    </tr>\n",
       "    <tr>\n",
       "      <th>9</th>\n",
       "      <td>27845</td>\n",
       "      <td>organic whole milk</td>\n",
       "      <td>19600</td>\n",
       "    </tr>\n",
       "    <tr>\n",
       "      <th>10</th>\n",
       "      <td>27966</td>\n",
       "      <td>organic raspberries</td>\n",
       "      <td>19197</td>\n",
       "    </tr>\n",
       "    <tr>\n",
       "      <th>11</th>\n",
       "      <td>22935</td>\n",
       "      <td>organic yellow onion</td>\n",
       "      <td>15898</td>\n",
       "    </tr>\n",
       "    <tr>\n",
       "      <th>12</th>\n",
       "      <td>24964</td>\n",
       "      <td>organic garlic</td>\n",
       "      <td>15292</td>\n",
       "    </tr>\n",
       "    <tr>\n",
       "      <th>13</th>\n",
       "      <td>45007</td>\n",
       "      <td>organic zucchini</td>\n",
       "      <td>14584</td>\n",
       "    </tr>\n",
       "    <tr>\n",
       "      <th>14</th>\n",
       "      <td>39275</td>\n",
       "      <td>organic blueberries</td>\n",
       "      <td>13879</td>\n",
       "    </tr>\n",
       "    <tr>\n",
       "      <th>15</th>\n",
       "      <td>49683</td>\n",
       "      <td>cucumber kirby</td>\n",
       "      <td>13675</td>\n",
       "    </tr>\n",
       "    <tr>\n",
       "      <th>16</th>\n",
       "      <td>28204</td>\n",
       "      <td>organic fuji apple</td>\n",
       "      <td>12544</td>\n",
       "    </tr>\n",
       "    <tr>\n",
       "      <th>17</th>\n",
       "      <td>5876</td>\n",
       "      <td>organic lemon</td>\n",
       "      <td>12232</td>\n",
       "    </tr>\n",
       "    <tr>\n",
       "      <th>18</th>\n",
       "      <td>8277</td>\n",
       "      <td>apple honeycrisp organic</td>\n",
       "      <td>11993</td>\n",
       "    </tr>\n",
       "    <tr>\n",
       "      <th>19</th>\n",
       "      <td>40706</td>\n",
       "      <td>organic grape tomatoes</td>\n",
       "      <td>11781</td>\n",
       "    </tr>\n",
       "  </tbody>\n",
       "</table>\n",
       "</div>"
      ],
      "text/plain": [
       "    product_id              product_name  count\n",
       "0        24852                    banana  66050\n",
       "1        13176    bag of organic bananas  53297\n",
       "2        21137      organic strawberries  37039\n",
       "3        21903      organic baby spinach  33971\n",
       "4        47209      organic hass avocado  29773\n",
       "5        47766           organic avocado  24689\n",
       "6        47626               large lemon  21495\n",
       "7        16797              strawberries  20018\n",
       "8        26209                     limes  19690\n",
       "9        27845        organic whole milk  19600\n",
       "10       27966       organic raspberries  19197\n",
       "11       22935      organic yellow onion  15898\n",
       "12       24964            organic garlic  15292\n",
       "13       45007          organic zucchini  14584\n",
       "14       39275       organic blueberries  13879\n",
       "15       49683            cucumber kirby  13675\n",
       "16       28204        organic fuji apple  12544\n",
       "17        5876             organic lemon  12232\n",
       "18        8277  apple honeycrisp organic  11993\n",
       "19       40706    organic grape tomatoes  11781"
      ]
     },
     "execution_count": 42,
     "metadata": {},
     "output_type": "execute_result"
    }
   ],
   "source": [
    "product_counts = order_products['product_id'].value_counts().head(20)\n",
    "product_counts = product_counts.reset_index()\n",
    "product_counts.columns = ['product_id', 'count']\n",
    "top_products = product_counts.merge(products, on='product_id')\n",
    "top_products[['product_id', 'product_name', 'count']]"
   ]
  },
  {
   "cell_type": "markdown",
   "id": "6a0a2e7e",
   "metadata": {},
   "source": [
    "Based on the data frame above, the top 20 popular products are fruits, vegetables & milk. "
   ]
  },
  {
   "cell_type": "markdown",
   "id": "romantic-deposit",
   "metadata": {},
   "source": [
    "### [C1] How many items do people typically buy in one order? What does the distribution look like?"
   ]
  },
  {
   "cell_type": "code",
   "execution_count": 43,
   "id": "virtual-punch",
   "metadata": {},
   "outputs": [],
   "source": [
    "# Count the number of items in each order\n",
    "items_per_order = order_products.groupby('order_id').size()"
   ]
  },
  {
   "cell_type": "code",
   "execution_count": 44,
   "id": "sensitive-breathing",
   "metadata": {},
   "outputs": [
    {
     "data": {
      "image/png": "[encoded data removed]",
      "text/plain": [
       "<Figure size 1000x600 with 1 Axes>"
      ]
     },
     "metadata": {},
     "output_type": "display_data"
    }
   ],
   "source": [
    "plt.figure(figsize=(10, 6))\n",
    "plt.hist(items_per_order, bins=range(1, items_per_order.max() + 1), edgecolor='black')\n",
    "plt.title('Distribution of Items per Order')\n",
    "plt.xlabel('Number of Items')\n",
    "plt.ylabel('Number of Orders')\n",
    "plt.show()\n"
   ]
  },
  {
   "cell_type": "markdown",
   "id": "d3287e4d",
   "metadata": {},
   "source": [
    "Based on the histogram, it seems that the large majority of orders contain around 10 items. The bins indicates instances of an order being placed at x amount of items.\n"
   ]
  },
  {
   "cell_type": "markdown",
   "id": "subject-boxing",
   "metadata": {},
   "source": [
    "### [C4] For each customer, what proportion of their products ordered are reorders?"
   ]
  },
  {
   "cell_type": "code",
   "execution_count": 45,
   "id": "medical-couple",
   "metadata": {
    "scrolled": true
   },
   "outputs": [],
   "source": [
    "# Merge order_products with instacart_orders to include user_id\n",
    "merged_data = order_products.merge(instacart_orders[['order_id', 'user_id']], on='order_id')\n",
    "\n",
    "# Count reorders and total orders for each user\n",
    "user_reorders = merged_data[merged_data['reordered'] == 'ordered'].groupby('user_id').size()\n",
    "total_orders = merged_data.groupby('user_id').size()\n",
    "\n"
   ]
  },
  {
   "cell_type": "code",
   "execution_count": 46,
   "id": "8892e4b4",
   "metadata": {},
   "outputs": [
    {
     "data": {
      "text/plain": [
       "user_id\n",
       "2         0.038462\n",
       "4              NaN\n",
       "5         0.666667\n",
       "6              NaN\n",
       "7         0.928571\n",
       "            ...   \n",
       "206203    0.222222\n",
       "206206    0.714286\n",
       "206207    0.891304\n",
       "206208    0.696000\n",
       "206209    0.320000\n",
       "Length: 149626, dtype: float64"
      ]
     },
     "execution_count": 46,
     "metadata": {},
     "output_type": "execute_result"
    }
   ],
   "source": [
    "# Calculate reorder proportion per user\n",
    "reorder_proportion = user_reorders / total_orders\n",
    "\n",
    "\n",
    "# Display the result\n",
    "reorder_proportion"
   ]
  },
  {
   "cell_type": "markdown",
   "id": "383727cb",
   "metadata": {},
   "source": [
    "# Concluding Comments:\n",
    "\n",
    "After cleaning the data of duplicate & missing values, I was able to figure a few tendancies of the customers' spending habits on Instacart. I would love to see how these habits fluctuate  during the calendar year, given the holidays. It would add an additional layer of complexity and interconnectedness to the study."
   ]
  }
 ],
 "metadata": {
  "ExecuteTimeLog": [
   {
    "duration": 353,
    "start_time": "2024-10-17T01:43:56.517Z"
   },
   {
    "duration": 2125,
    "start_time": "2024-10-17T01:48:53.125Z"
   },
   {
    "duration": 2212,
    "start_time": "2024-10-17T01:49:30.164Z"
   },
   {
    "duration": 2049,
    "start_time": "2024-10-17T01:49:49.439Z"
   },
   {
    "duration": 2108,
    "start_time": "2024-10-17T02:04:03.036Z"
   },
   {
    "duration": 2185,
    "start_time": "2024-10-17T02:04:14.641Z"
   },
   {
    "duration": 2119,
    "start_time": "2024-10-17T02:05:04.718Z"
   },
   {
    "duration": 2052,
    "start_time": "2024-10-17T02:08:16.220Z"
   },
   {
    "duration": 2068,
    "start_time": "2024-10-17T02:09:04.819Z"
   },
   {
    "duration": 2184,
    "start_time": "2024-10-17T02:09:20.740Z"
   },
   {
    "duration": 2250,
    "start_time": "2024-10-17T02:13:39.669Z"
   },
   {
    "duration": 1941,
    "start_time": "2024-10-17T02:14:07.571Z"
   },
   {
    "duration": 2036,
    "start_time": "2024-10-17T02:14:26.754Z"
   },
   {
    "duration": 1946,
    "start_time": "2024-10-17T02:14:42.125Z"
   },
   {
    "duration": 1958,
    "start_time": "2024-10-17T02:16:07.572Z"
   },
   {
    "duration": 1877,
    "start_time": "2024-10-17T02:16:34.936Z"
   },
   {
    "duration": 1952,
    "start_time": "2024-10-17T02:16:59.053Z"
   },
   {
    "duration": 1889,
    "start_time": "2024-10-17T02:17:16.753Z"
   },
   {
    "duration": 1899,
    "start_time": "2024-10-17T02:17:30.159Z"
   },
   {
    "duration": 1880,
    "start_time": "2024-10-17T02:18:55.268Z"
   },
   {
    "duration": 1837,
    "start_time": "2024-10-17T02:19:12.382Z"
   },
   {
    "duration": 1851,
    "start_time": "2024-10-17T02:19:21.953Z"
   },
   {
    "duration": 1866,
    "start_time": "2024-10-17T02:19:40.857Z"
   },
   {
    "duration": 1984,
    "start_time": "2024-10-17T02:20:51.748Z"
   },
   {
    "duration": 962,
    "start_time": "2024-10-17T02:21:08.163Z"
   },
   {
    "duration": 848,
    "start_time": "2024-10-17T02:21:19.471Z"
   },
   {
    "duration": 811,
    "start_time": "2024-10-17T02:21:33.912Z"
   },
   {
    "duration": 901,
    "start_time": "2024-10-17T02:23:08.770Z"
   },
   {
    "duration": 922,
    "start_time": "2024-10-17T02:23:28.134Z"
   },
   {
    "duration": 830,
    "start_time": "2024-10-17T02:23:59.811Z"
   },
   {
    "duration": 808,
    "start_time": "2024-10-17T02:24:12.104Z"
   },
   {
    "duration": 792,
    "start_time": "2024-10-17T02:24:25.757Z"
   },
   {
    "duration": 832,
    "start_time": "2024-10-17T02:24:33.284Z"
   },
   {
    "duration": 831,
    "start_time": "2024-10-17T02:24:47.287Z"
   },
   {
    "duration": 1448,
    "start_time": "2024-10-17T09:21:13.472Z"
   },
   {
    "duration": 102,
    "start_time": "2024-10-17T09:22:10.910Z"
   },
   {
    "duration": 137,
    "start_time": "2024-10-17T09:22:33.103Z"
   },
   {
    "duration": 102,
    "start_time": "2024-10-17T09:22:56.995Z"
   },
   {
    "duration": 928,
    "start_time": "2024-10-17T09:27:10.430Z"
   },
   {
    "duration": 770,
    "start_time": "2024-10-17T09:27:47.043Z"
   },
   {
    "duration": 879,
    "start_time": "2024-10-17T09:28:43.230Z"
   },
   {
    "duration": 856,
    "start_time": "2024-10-17T09:30:13.227Z"
   },
   {
    "duration": 1111,
    "start_time": "2024-10-17T09:30:22.655Z"
   },
   {
    "duration": 900,
    "start_time": "2024-10-17T09:30:46.988Z"
   },
   {
    "duration": 826,
    "start_time": "2024-10-17T09:31:19.918Z"
   },
   {
    "duration": 825,
    "start_time": "2024-10-17T09:31:51.759Z"
   },
   {
    "duration": 210,
    "start_time": "2024-10-17T09:40:45.557Z"
   },
   {
    "duration": 213,
    "start_time": "2024-10-17T09:41:05.563Z"
   },
   {
    "duration": 234,
    "start_time": "2024-10-17T09:42:00.553Z"
   },
   {
    "duration": 47,
    "start_time": "2024-10-17T09:42:14.933Z"
   },
   {
    "duration": 188,
    "start_time": "2024-10-17T09:45:40.495Z"
   },
   {
    "duration": 131,
    "start_time": "2024-10-17T09:45:56.729Z"
   },
   {
    "duration": 166,
    "start_time": "2024-10-17T09:50:35.697Z"
   },
   {
    "duration": 938,
    "start_time": "2024-10-17T09:50:56.661Z"
   },
   {
    "duration": 77,
    "start_time": "2024-10-17T09:51:05.925Z"
   },
   {
    "duration": 13,
    "start_time": "2024-10-17T09:51:13.537Z"
   },
   {
    "duration": 29,
    "start_time": "2024-10-17T09:51:19.083Z"
   },
   {
    "duration": 27,
    "start_time": "2024-10-17T09:53:10.177Z"
   },
   {
    "duration": 119,
    "start_time": "2024-10-17T09:53:16.339Z"
   },
   {
    "duration": 69,
    "start_time": "2024-10-17T09:53:32.434Z"
   },
   {
    "duration": 92,
    "start_time": "2024-10-17T09:53:44.331Z"
   },
   {
    "duration": 676,
    "start_time": "2024-10-17T09:57:40.795Z"
   },
   {
    "duration": 195,
    "start_time": "2024-10-17T09:58:33.886Z"
   },
   {
    "duration": 386,
    "start_time": "2024-10-17T09:59:17.125Z"
   },
   {
    "duration": 56,
    "start_time": "2024-10-17T10:10:41.883Z"
   },
   {
    "duration": 14,
    "start_time": "2024-10-17T10:11:03.384Z"
   },
   {
    "duration": 192,
    "start_time": "2024-10-17T10:11:25.091Z"
   },
   {
    "duration": 143,
    "start_time": "2024-10-17T10:28:20.710Z"
   },
   {
    "duration": 141,
    "start_time": "2024-10-17T10:28:37.909Z"
   },
   {
    "duration": 107,
    "start_time": "2024-10-17T10:28:46.394Z"
   },
   {
    "duration": 97,
    "start_time": "2024-10-17T10:28:58.877Z"
   },
   {
    "duration": 853,
    "start_time": "2024-10-17T10:32:38.538Z"
   },
   {
    "duration": 77,
    "start_time": "2024-10-17T10:32:44.392Z"
   },
   {
    "duration": 5,
    "start_time": "2024-10-17T10:32:55.376Z"
   },
   {
    "duration": 35,
    "start_time": "2024-10-17T10:38:22.962Z"
   },
   {
    "duration": 49,
    "start_time": "2024-10-17T10:38:42.670Z"
   },
   {
    "duration": 112,
    "start_time": "2024-10-17T10:39:11.658Z"
   },
   {
    "duration": 832,
    "start_time": "2024-10-17T10:41:44.288Z"
   },
   {
    "duration": 66,
    "start_time": "2024-10-17T10:41:49.558Z"
   },
   {
    "duration": 41,
    "start_time": "2024-10-17T10:42:00.453Z"
   },
   {
    "duration": 47,
    "start_time": "2024-10-17T10:42:13.590Z"
   },
   {
    "duration": 833,
    "start_time": "2024-10-17T10:42:20.619Z"
   },
   {
    "duration": 67,
    "start_time": "2024-10-17T10:42:23.662Z"
   },
   {
    "duration": 29,
    "start_time": "2024-10-17T10:42:26.347Z"
   },
   {
    "duration": 1668,
    "start_time": "2024-10-17T22:59:22.679Z"
   },
   {
    "duration": 128,
    "start_time": "2024-10-17T22:59:24.677Z"
   },
   {
    "duration": 104,
    "start_time": "2024-10-17T22:59:32.163Z"
   },
   {
    "duration": 1097,
    "start_time": "2024-10-17T23:00:19.188Z"
   },
   {
    "duration": 123,
    "start_time": "2024-10-17T23:00:24.227Z"
   },
   {
    "duration": 970,
    "start_time": "2024-10-17T23:00:45.417Z"
   },
   {
    "duration": 7,
    "start_time": "2024-10-17T23:01:03.293Z"
   },
   {
    "duration": 4,
    "start_time": "2024-10-17T23:01:43.066Z"
   },
   {
    "duration": 5,
    "start_time": "2024-10-17T23:01:50.566Z"
   },
   {
    "duration": 83,
    "start_time": "2024-10-17T23:02:19.777Z"
   },
   {
    "duration": 1386,
    "start_time": "2024-10-17T23:03:06.189Z"
   },
   {
    "duration": 121,
    "start_time": "2024-10-17T23:03:07.577Z"
   },
   {
    "duration": 64,
    "start_time": "2024-10-17T23:03:07.702Z"
   },
   {
    "duration": 10,
    "start_time": "2024-10-17T23:03:07.771Z"
   },
   {
    "duration": 3,
    "start_time": "2024-10-17T23:03:07.784Z"
   },
   {
    "duration": 3,
    "start_time": "2024-10-17T23:03:07.788Z"
   },
   {
    "duration": 2,
    "start_time": "2024-10-17T23:03:07.793Z"
   },
   {
    "duration": 2,
    "start_time": "2024-10-17T23:03:07.797Z"
   },
   {
    "duration": 2,
    "start_time": "2024-10-17T23:03:07.801Z"
   },
   {
    "duration": 3,
    "start_time": "2024-10-17T23:03:07.805Z"
   },
   {
    "duration": 3,
    "start_time": "2024-10-17T23:03:07.809Z"
   },
   {
    "duration": 3,
    "start_time": "2024-10-17T23:03:07.813Z"
   },
   {
    "duration": 22,
    "start_time": "2024-10-17T23:03:07.817Z"
   },
   {
    "duration": 3,
    "start_time": "2024-10-17T23:03:07.844Z"
   },
   {
    "duration": 7,
    "start_time": "2024-10-17T23:03:07.851Z"
   },
   {
    "duration": 10,
    "start_time": "2024-10-17T23:03:07.860Z"
   },
   {
    "duration": 9,
    "start_time": "2024-10-17T23:03:07.872Z"
   },
   {
    "duration": 2,
    "start_time": "2024-10-17T23:03:07.885Z"
   },
   {
    "duration": 2,
    "start_time": "2024-10-17T23:03:07.889Z"
   },
   {
    "duration": 2,
    "start_time": "2024-10-17T23:03:07.893Z"
   },
   {
    "duration": 2,
    "start_time": "2024-10-17T23:03:07.897Z"
   },
   {
    "duration": 1388,
    "start_time": "2024-10-17T23:08:58.168Z"
   },
   {
    "duration": 107,
    "start_time": "2024-10-17T23:08:59.561Z"
   },
   {
    "duration": 30,
    "start_time": "2024-10-17T23:08:59.672Z"
   },
   {
    "duration": 14,
    "start_time": "2024-10-17T23:08:59.704Z"
   },
   {
    "duration": 27,
    "start_time": "2024-10-17T23:08:59.721Z"
   },
   {
    "duration": 7,
    "start_time": "2024-10-17T23:08:59.761Z"
   },
   {
    "duration": 2,
    "start_time": "2024-10-17T23:08:59.770Z"
   },
   {
    "duration": 4,
    "start_time": "2024-10-17T23:08:59.773Z"
   },
   {
    "duration": 2,
    "start_time": "2024-10-17T23:08:59.779Z"
   },
   {
    "duration": 4,
    "start_time": "2024-10-17T23:08:59.783Z"
   },
   {
    "duration": 2,
    "start_time": "2024-10-17T23:08:59.790Z"
   },
   {
    "duration": 3,
    "start_time": "2024-10-17T23:08:59.795Z"
   },
   {
    "duration": 3,
    "start_time": "2024-10-17T23:08:59.800Z"
   },
   {
    "duration": 2,
    "start_time": "2024-10-17T23:08:59.807Z"
   },
   {
    "duration": 3,
    "start_time": "2024-10-17T23:08:59.811Z"
   },
   {
    "duration": 34,
    "start_time": "2024-10-17T23:08:59.815Z"
   },
   {
    "duration": 7,
    "start_time": "2024-10-17T23:08:59.859Z"
   },
   {
    "duration": 2,
    "start_time": "2024-10-17T23:08:59.868Z"
   },
   {
    "duration": 2,
    "start_time": "2024-10-17T23:08:59.873Z"
   },
   {
    "duration": 4,
    "start_time": "2024-10-17T23:08:59.877Z"
   },
   {
    "duration": 3,
    "start_time": "2024-10-17T23:08:59.883Z"
   },
   {
    "duration": 14,
    "start_time": "2024-10-17T23:10:19.198Z"
   },
   {
    "duration": 24,
    "start_time": "2024-10-17T23:10:21.447Z"
   },
   {
    "duration": 1469,
    "start_time": "2024-10-17T23:11:27.975Z"
   },
   {
    "duration": 114,
    "start_time": "2024-10-17T23:11:29.448Z"
   },
   {
    "duration": 35,
    "start_time": "2024-10-17T23:11:29.567Z"
   },
   {
    "duration": 168,
    "start_time": "2024-10-17T23:11:29.605Z"
   },
   {
    "duration": 129,
    "start_time": "2024-10-17T23:11:29.777Z"
   },
   {
    "duration": 3,
    "start_time": "2024-10-17T23:11:29.907Z"
   },
   {
    "duration": 2,
    "start_time": "2024-10-17T23:11:29.911Z"
   },
   {
    "duration": 2,
    "start_time": "2024-10-17T23:11:29.915Z"
   },
   {
    "duration": 2,
    "start_time": "2024-10-17T23:11:29.919Z"
   },
   {
    "duration": 6,
    "start_time": "2024-10-17T23:11:29.932Z"
   },
   {
    "duration": 11,
    "start_time": "2024-10-17T23:11:29.951Z"
   },
   {
    "duration": 5,
    "start_time": "2024-10-17T23:11:29.965Z"
   },
   {
    "duration": 4,
    "start_time": "2024-10-17T23:11:29.973Z"
   },
   {
    "duration": 2,
    "start_time": "2024-10-17T23:11:29.980Z"
   },
   {
    "duration": 3,
    "start_time": "2024-10-17T23:11:29.985Z"
   },
   {
    "duration": 5,
    "start_time": "2024-10-17T23:11:29.990Z"
   },
   {
    "duration": 4,
    "start_time": "2024-10-17T23:11:29.997Z"
   },
   {
    "duration": 6,
    "start_time": "2024-10-17T23:11:30.003Z"
   },
   {
    "duration": 3,
    "start_time": "2024-10-17T23:11:30.011Z"
   },
   {
    "duration": 3,
    "start_time": "2024-10-17T23:11:30.015Z"
   },
   {
    "duration": 32,
    "start_time": "2024-10-17T23:11:30.020Z"
   },
   {
    "duration": 1517,
    "start_time": "2024-10-17T23:16:06.467Z"
   },
   {
    "duration": 123,
    "start_time": "2024-10-17T23:16:07.988Z"
   },
   {
    "duration": 53,
    "start_time": "2024-10-17T23:16:08.113Z"
   },
   {
    "duration": 167,
    "start_time": "2024-10-17T23:16:08.168Z"
   },
   {
    "duration": 137,
    "start_time": "2024-10-17T23:16:08.338Z"
   },
   {
    "duration": 3,
    "start_time": "2024-10-17T23:16:08.476Z"
   },
   {
    "duration": 3,
    "start_time": "2024-10-17T23:16:08.481Z"
   },
   {
    "duration": 3,
    "start_time": "2024-10-17T23:16:08.487Z"
   },
   {
    "duration": 2,
    "start_time": "2024-10-17T23:16:08.492Z"
   },
   {
    "duration": 3,
    "start_time": "2024-10-17T23:16:08.496Z"
   },
   {
    "duration": 2,
    "start_time": "2024-10-17T23:16:08.501Z"
   },
   {
    "duration": 2,
    "start_time": "2024-10-17T23:16:08.505Z"
   },
   {
    "duration": 33,
    "start_time": "2024-10-17T23:16:08.509Z"
   },
   {
    "duration": 4,
    "start_time": "2024-10-17T23:16:08.550Z"
   },
   {
    "duration": 8,
    "start_time": "2024-10-17T23:16:08.566Z"
   },
   {
    "duration": 3,
    "start_time": "2024-10-17T23:16:08.579Z"
   },
   {
    "duration": 2,
    "start_time": "2024-10-17T23:16:08.584Z"
   },
   {
    "duration": 3,
    "start_time": "2024-10-17T23:16:08.588Z"
   },
   {
    "duration": 2,
    "start_time": "2024-10-17T23:16:08.593Z"
   },
   {
    "duration": 1,
    "start_time": "2024-10-17T23:16:08.597Z"
   },
   {
    "duration": 3,
    "start_time": "2024-10-17T23:16:08.600Z"
   },
   {
    "duration": 55,
    "start_time": "2024-10-17T23:17:20.130Z"
   },
   {
    "duration": 22,
    "start_time": "2024-10-17T23:18:03.981Z"
   },
   {
    "duration": 8,
    "start_time": "2024-10-17T23:18:56.247Z"
   },
   {
    "duration": 1415,
    "start_time": "2024-10-17T23:19:52.929Z"
   },
   {
    "duration": 111,
    "start_time": "2024-10-17T23:19:54.349Z"
   },
   {
    "duration": 52,
    "start_time": "2024-10-17T23:19:54.465Z"
   },
   {
    "duration": 156,
    "start_time": "2024-10-17T23:19:54.519Z"
   },
   {
    "duration": 190,
    "start_time": "2024-10-17T23:19:54.681Z"
   },
   {
    "duration": 44,
    "start_time": "2024-10-17T23:19:54.873Z"
   },
   {
    "duration": 46,
    "start_time": "2024-10-17T23:19:54.920Z"
   },
   {
    "duration": 14,
    "start_time": "2024-10-17T23:19:54.968Z"
   },
   {
    "duration": 8,
    "start_time": "2024-10-17T23:19:54.986Z"
   },
   {
    "duration": 2,
    "start_time": "2024-10-17T23:19:54.996Z"
   },
   {
    "duration": 3,
    "start_time": "2024-10-17T23:19:55.000Z"
   },
   {
    "duration": 5,
    "start_time": "2024-10-17T23:19:55.005Z"
   },
   {
    "duration": 2,
    "start_time": "2024-10-17T23:19:55.012Z"
   },
   {
    "duration": 2,
    "start_time": "2024-10-17T23:19:55.018Z"
   },
   {
    "duration": 2,
    "start_time": "2024-10-17T23:19:55.023Z"
   },
   {
    "duration": 3,
    "start_time": "2024-10-17T23:19:55.027Z"
   },
   {
    "duration": 6,
    "start_time": "2024-10-17T23:19:55.034Z"
   },
   {
    "duration": 7,
    "start_time": "2024-10-17T23:19:55.041Z"
   },
   {
    "duration": 16,
    "start_time": "2024-10-17T23:19:55.053Z"
   },
   {
    "duration": 7,
    "start_time": "2024-10-17T23:19:55.071Z"
   },
   {
    "duration": 4,
    "start_time": "2024-10-17T23:19:55.082Z"
   },
   {
    "duration": 4,
    "start_time": "2024-10-17T23:20:29.177Z"
   },
   {
    "duration": 6,
    "start_time": "2024-10-17T23:21:14.498Z"
   },
   {
    "duration": 96,
    "start_time": "2024-10-17T23:22:02.376Z"
   },
   {
    "duration": 14,
    "start_time": "2024-10-17T23:22:12.371Z"
   },
   {
    "duration": 1486,
    "start_time": "2024-10-17T23:23:15.944Z"
   },
   {
    "duration": 139,
    "start_time": "2024-10-17T23:23:17.447Z"
   },
   {
    "duration": 54,
    "start_time": "2024-10-17T23:23:17.588Z"
   },
   {
    "duration": 170,
    "start_time": "2024-10-17T23:23:17.644Z"
   },
   {
    "duration": 143,
    "start_time": "2024-10-17T23:23:17.821Z"
   },
   {
    "duration": 44,
    "start_time": "2024-10-17T23:23:17.966Z"
   },
   {
    "duration": 23,
    "start_time": "2024-10-17T23:23:18.013Z"
   },
   {
    "duration": 6,
    "start_time": "2024-10-17T23:23:18.041Z"
   },
   {
    "duration": 121,
    "start_time": "2024-10-17T23:23:18.051Z"
   },
   {
    "duration": 1,
    "start_time": "2024-10-17T23:23:18.174Z"
   },
   {
    "duration": 0,
    "start_time": "2024-10-17T23:23:18.176Z"
   },
   {
    "duration": 0,
    "start_time": "2024-10-17T23:23:18.177Z"
   },
   {
    "duration": 0,
    "start_time": "2024-10-17T23:23:18.179Z"
   },
   {
    "duration": 0,
    "start_time": "2024-10-17T23:23:18.179Z"
   },
   {
    "duration": 0,
    "start_time": "2024-10-17T23:23:18.180Z"
   },
   {
    "duration": 0,
    "start_time": "2024-10-17T23:23:18.181Z"
   },
   {
    "duration": 0,
    "start_time": "2024-10-17T23:23:18.182Z"
   },
   {
    "duration": 0,
    "start_time": "2024-10-17T23:23:18.184Z"
   },
   {
    "duration": 0,
    "start_time": "2024-10-17T23:23:18.185Z"
   },
   {
    "duration": 0,
    "start_time": "2024-10-17T23:23:18.187Z"
   },
   {
    "duration": 0,
    "start_time": "2024-10-17T23:23:18.188Z"
   },
   {
    "duration": 31,
    "start_time": "2024-10-17T23:24:49.770Z"
   },
   {
    "duration": 29,
    "start_time": "2024-10-17T23:25:40.864Z"
   },
   {
    "duration": 216,
    "start_time": "2024-10-17T23:28:54.425Z"
   },
   {
    "duration": 1567,
    "start_time": "2024-10-17T23:29:53.614Z"
   },
   {
    "duration": 114,
    "start_time": "2024-10-17T23:29:55.183Z"
   },
   {
    "duration": 67,
    "start_time": "2024-10-17T23:29:55.299Z"
   },
   {
    "duration": 144,
    "start_time": "2024-10-17T23:29:55.375Z"
   },
   {
    "duration": 144,
    "start_time": "2024-10-17T23:29:55.521Z"
   },
   {
    "duration": 42,
    "start_time": "2024-10-17T23:29:55.673Z"
   },
   {
    "duration": 15,
    "start_time": "2024-10-17T23:29:55.718Z"
   },
   {
    "duration": 5,
    "start_time": "2024-10-17T23:29:55.734Z"
   },
   {
    "duration": 36,
    "start_time": "2024-10-17T23:29:55.741Z"
   },
   {
    "duration": 240,
    "start_time": "2024-10-17T23:29:55.783Z"
   },
   {
    "duration": 0,
    "start_time": "2024-10-17T23:29:56.024Z"
   },
   {
    "duration": 0,
    "start_time": "2024-10-17T23:29:56.025Z"
   },
   {
    "duration": 0,
    "start_time": "2024-10-17T23:29:56.026Z"
   },
   {
    "duration": 0,
    "start_time": "2024-10-17T23:29:56.027Z"
   },
   {
    "duration": 0,
    "start_time": "2024-10-17T23:29:56.028Z"
   },
   {
    "duration": 0,
    "start_time": "2024-10-17T23:29:56.029Z"
   },
   {
    "duration": 0,
    "start_time": "2024-10-17T23:29:56.029Z"
   },
   {
    "duration": 0,
    "start_time": "2024-10-17T23:29:56.030Z"
   },
   {
    "duration": 0,
    "start_time": "2024-10-17T23:29:56.030Z"
   },
   {
    "duration": 0,
    "start_time": "2024-10-17T23:29:56.031Z"
   },
   {
    "duration": 0,
    "start_time": "2024-10-17T23:29:56.031Z"
   },
   {
    "duration": 9,
    "start_time": "2024-10-17T23:30:22.820Z"
   },
   {
    "duration": 15,
    "start_time": "2024-10-17T23:31:46.239Z"
   },
   {
    "duration": 5,
    "start_time": "2024-10-17T23:33:26.231Z"
   },
   {
    "duration": 12,
    "start_time": "2024-10-17T23:35:10.624Z"
   },
   {
    "duration": 4,
    "start_time": "2024-10-17T23:35:17.877Z"
   },
   {
    "duration": 5,
    "start_time": "2024-10-17T23:36:41.613Z"
   },
   {
    "duration": 7,
    "start_time": "2024-10-17T23:37:51.432Z"
   },
   {
    "duration": 5,
    "start_time": "2024-10-17T23:41:55.147Z"
   },
   {
    "duration": 5,
    "start_time": "2024-10-17T23:43:18.737Z"
   },
   {
    "duration": 4,
    "start_time": "2024-10-17T23:43:41.683Z"
   },
   {
    "duration": 447,
    "start_time": "2024-10-17T23:44:03.771Z"
   },
   {
    "duration": 6,
    "start_time": "2024-10-17T23:44:19.718Z"
   },
   {
    "duration": 8,
    "start_time": "2024-10-17T23:44:52.817Z"
   },
   {
    "duration": 7,
    "start_time": "2024-10-17T23:45:04.963Z"
   },
   {
    "duration": 4,
    "start_time": "2024-10-17T23:46:09.934Z"
   },
   {
    "duration": 4,
    "start_time": "2024-10-17T23:46:19.389Z"
   },
   {
    "duration": 4,
    "start_time": "2024-10-17T23:49:50.431Z"
   },
   {
    "duration": 882,
    "start_time": "2024-10-17T23:50:16.506Z"
   },
   {
    "duration": 7,
    "start_time": "2024-10-17T23:51:57.823Z"
   },
   {
    "duration": 6,
    "start_time": "2024-10-17T23:52:21.045Z"
   },
   {
    "duration": 198,
    "start_time": "2024-10-17T23:57:32.162Z"
   },
   {
    "duration": 9,
    "start_time": "2024-10-17T23:57:36.147Z"
   },
   {
    "duration": 573,
    "start_time": "2024-10-17T23:58:04.887Z"
   },
   {
    "duration": 7,
    "start_time": "2024-10-17T23:58:07.498Z"
   },
   {
    "duration": 18,
    "start_time": "2024-10-18T00:02:16.873Z"
   },
   {
    "duration": 7,
    "start_time": "2024-10-18T00:03:28.445Z"
   },
   {
    "duration": 6,
    "start_time": "2024-10-18T00:11:59.394Z"
   },
   {
    "duration": 9,
    "start_time": "2024-10-18T00:12:11.175Z"
   },
   {
    "duration": 5,
    "start_time": "2024-10-18T00:15:19.588Z"
   },
   {
    "duration": 9,
    "start_time": "2024-10-18T00:15:32.913Z"
   },
   {
    "duration": 12,
    "start_time": "2024-10-18T00:22:12.803Z"
   },
   {
    "duration": 7,
    "start_time": "2024-10-18T00:22:17.578Z"
   },
   {
    "duration": 14,
    "start_time": "2024-10-18T00:24:37.210Z"
   },
   {
    "duration": 3,
    "start_time": "2024-10-18T00:24:42.643Z"
   },
   {
    "duration": 14,
    "start_time": "2024-10-18T00:28:20.061Z"
   },
   {
    "duration": 4,
    "start_time": "2024-10-18T00:28:25.100Z"
   },
   {
    "duration": 11,
    "start_time": "2024-10-18T00:28:54.106Z"
   },
   {
    "duration": 5,
    "start_time": "2024-10-18T00:29:13.083Z"
   },
   {
    "duration": 660,
    "start_time": "2024-10-18T00:29:28.946Z"
   },
   {
    "duration": 14,
    "start_time": "2024-10-18T00:32:46.446Z"
   },
   {
    "duration": 14,
    "start_time": "2024-10-18T00:35:59.083Z"
   },
   {
    "duration": 23,
    "start_time": "2024-10-18T00:36:37.685Z"
   },
   {
    "duration": 12,
    "start_time": "2024-10-18T00:39:53.081Z"
   },
   {
    "duration": 20,
    "start_time": "2024-10-18T00:40:24.577Z"
   },
   {
    "duration": 1736,
    "start_time": "2024-10-18T00:40:54.386Z"
   },
   {
    "duration": 144,
    "start_time": "2024-10-18T00:40:56.124Z"
   },
   {
    "duration": 44,
    "start_time": "2024-10-18T00:40:56.270Z"
   },
   {
    "duration": 193,
    "start_time": "2024-10-18T00:40:56.316Z"
   },
   {
    "duration": 184,
    "start_time": "2024-10-18T00:40:56.512Z"
   },
   {
    "duration": 52,
    "start_time": "2024-10-18T00:40:56.699Z"
   },
   {
    "duration": 18,
    "start_time": "2024-10-18T00:40:56.753Z"
   },
   {
    "duration": 4,
    "start_time": "2024-10-18T00:40:56.773Z"
   },
   {
    "duration": 28,
    "start_time": "2024-10-18T00:40:56.780Z"
   },
   {
    "duration": 13,
    "start_time": "2024-10-18T00:40:56.832Z"
   },
   {
    "duration": 8,
    "start_time": "2024-10-18T00:40:56.847Z"
   },
   {
    "duration": 8,
    "start_time": "2024-10-18T00:40:56.857Z"
   },
   {
    "duration": 4,
    "start_time": "2024-10-18T00:40:56.869Z"
   },
   {
    "duration": 7,
    "start_time": "2024-10-18T00:40:56.879Z"
   },
   {
    "duration": 627,
    "start_time": "2024-10-18T00:40:56.888Z"
   },
   {
    "duration": 16,
    "start_time": "2024-10-18T00:40:57.517Z"
   },
   {
    "duration": 32,
    "start_time": "2024-10-18T00:40:57.535Z"
   },
   {
    "duration": 23,
    "start_time": "2024-10-18T00:40:57.570Z"
   },
   {
    "duration": 22,
    "start_time": "2024-10-18T00:40:57.597Z"
   },
   {
    "duration": 5,
    "start_time": "2024-10-18T00:40:57.623Z"
   },
   {
    "duration": 15,
    "start_time": "2024-10-18T00:40:57.634Z"
   },
   {
    "duration": 22,
    "start_time": "2024-10-18T00:40:57.654Z"
   },
   {
    "duration": 4,
    "start_time": "2024-10-18T00:40:57.682Z"
   },
   {
    "duration": 2,
    "start_time": "2024-10-18T00:40:57.695Z"
   },
   {
    "duration": 3,
    "start_time": "2024-10-18T00:40:57.699Z"
   },
   {
    "duration": 2,
    "start_time": "2024-10-18T00:40:57.704Z"
   },
   {
    "duration": 11,
    "start_time": "2024-10-18T00:41:41.744Z"
   },
   {
    "duration": 1289,
    "start_time": "2024-10-18T00:42:04.487Z"
   },
   {
    "duration": 120,
    "start_time": "2024-10-18T00:42:05.779Z"
   },
   {
    "duration": 45,
    "start_time": "2024-10-18T00:42:05.901Z"
   },
   {
    "duration": 192,
    "start_time": "2024-10-18T00:42:05.949Z"
   },
   {
    "duration": 135,
    "start_time": "2024-10-18T00:42:06.143Z"
   },
   {
    "duration": 54,
    "start_time": "2024-10-18T00:42:06.280Z"
   },
   {
    "duration": 15,
    "start_time": "2024-10-18T00:42:06.336Z"
   },
   {
    "duration": 5,
    "start_time": "2024-10-18T00:42:06.353Z"
   },
   {
    "duration": 23,
    "start_time": "2024-10-18T00:42:06.360Z"
   },
   {
    "duration": 10,
    "start_time": "2024-10-18T00:42:06.387Z"
   },
   {
    "duration": 35,
    "start_time": "2024-10-18T00:42:06.399Z"
   },
   {
    "duration": 4,
    "start_time": "2024-10-18T00:42:06.436Z"
   },
   {
    "duration": 3,
    "start_time": "2024-10-18T00:42:06.442Z"
   },
   {
    "duration": 4,
    "start_time": "2024-10-18T00:42:06.448Z"
   },
   {
    "duration": 499,
    "start_time": "2024-10-18T00:42:06.454Z"
   },
   {
    "duration": 7,
    "start_time": "2024-10-18T00:42:06.955Z"
   },
   {
    "duration": 11,
    "start_time": "2024-10-18T00:42:06.964Z"
   },
   {
    "duration": 13,
    "start_time": "2024-10-18T00:42:06.977Z"
   },
   {
    "duration": 40,
    "start_time": "2024-10-18T00:42:06.992Z"
   },
   {
    "duration": 2,
    "start_time": "2024-10-18T00:42:07.037Z"
   },
   {
    "duration": 9,
    "start_time": "2024-10-18T00:42:07.041Z"
   },
   {
    "duration": 3,
    "start_time": "2024-10-18T00:42:07.052Z"
   },
   {
    "duration": 2,
    "start_time": "2024-10-18T00:42:07.057Z"
   },
   {
    "duration": 6,
    "start_time": "2024-10-18T00:42:07.061Z"
   },
   {
    "duration": 2,
    "start_time": "2024-10-18T00:42:07.072Z"
   },
   {
    "duration": 3,
    "start_time": "2024-10-18T00:42:07.075Z"
   },
   {
    "duration": 87,
    "start_time": "2024-10-18T00:42:38.793Z"
   },
   {
    "duration": 12,
    "start_time": "2024-10-18T00:42:45.729Z"
   },
   {
    "duration": 12,
    "start_time": "2024-10-18T00:44:23.841Z"
   },
   {
    "duration": 13,
    "start_time": "2024-10-18T00:44:57.231Z"
   },
   {
    "duration": 28,
    "start_time": "2024-10-18T00:45:49.438Z"
   },
   {
    "duration": 773,
    "start_time": "2024-10-18T00:48:25.401Z"
   },
   {
    "duration": 12,
    "start_time": "2024-10-18T00:49:41.691Z"
   },
   {
    "duration": 158,
    "start_time": "2024-10-18T20:05:17.974Z"
   },
   {
    "duration": 1336,
    "start_time": "2024-10-18T20:05:30.586Z"
   },
   {
    "duration": 102,
    "start_time": "2024-10-18T20:05:31.925Z"
   },
   {
    "duration": 33,
    "start_time": "2024-10-18T20:05:32.029Z"
   },
   {
    "duration": 131,
    "start_time": "2024-10-18T20:05:32.064Z"
   },
   {
    "duration": 118,
    "start_time": "2024-10-18T20:05:32.197Z"
   },
   {
    "duration": 30,
    "start_time": "2024-10-18T20:05:32.316Z"
   },
   {
    "duration": 12,
    "start_time": "2024-10-18T20:05:32.348Z"
   },
   {
    "duration": 4,
    "start_time": "2024-10-18T20:05:32.362Z"
   },
   {
    "duration": 44,
    "start_time": "2024-10-18T20:05:32.368Z"
   },
   {
    "duration": 8,
    "start_time": "2024-10-18T20:05:32.416Z"
   },
   {
    "duration": 3,
    "start_time": "2024-10-18T20:05:32.426Z"
   },
   {
    "duration": 4,
    "start_time": "2024-10-18T20:05:32.431Z"
   },
   {
    "duration": 2,
    "start_time": "2024-10-18T20:05:32.437Z"
   },
   {
    "duration": 4,
    "start_time": "2024-10-18T20:05:32.441Z"
   },
   {
    "duration": 489,
    "start_time": "2024-10-18T20:05:32.447Z"
   },
   {
    "duration": 6,
    "start_time": "2024-10-18T20:05:32.938Z"
   },
   {
    "duration": 10,
    "start_time": "2024-10-18T20:05:32.946Z"
   },
   {
    "duration": 13,
    "start_time": "2024-10-18T20:05:32.957Z"
   },
   {
    "duration": 37,
    "start_time": "2024-10-18T20:05:32.972Z"
   },
   {
    "duration": 9,
    "start_time": "2024-10-18T20:05:33.011Z"
   },
   {
    "duration": 10,
    "start_time": "2024-10-18T20:05:33.021Z"
   },
   {
    "duration": 19,
    "start_time": "2024-10-18T20:05:33.032Z"
   },
   {
    "duration": 8,
    "start_time": "2024-10-18T20:05:33.053Z"
   },
   {
    "duration": 157,
    "start_time": "2024-10-18T20:05:33.063Z"
   },
   {
    "duration": 3,
    "start_time": "2024-10-18T20:05:33.221Z"
   },
   {
    "duration": 4,
    "start_time": "2024-10-18T20:05:33.225Z"
   },
   {
    "duration": 3,
    "start_time": "2024-10-18T20:05:33.230Z"
   },
   {
    "duration": 2,
    "start_time": "2024-10-18T20:05:33.237Z"
   },
   {
    "duration": 19,
    "start_time": "2024-10-18T20:06:25.074Z"
   },
   {
    "duration": 31,
    "start_time": "2024-10-18T20:07:01.427Z"
   },
   {
    "duration": 18,
    "start_time": "2024-10-18T20:08:18.889Z"
   },
   {
    "duration": 32,
    "start_time": "2024-10-18T20:08:23.125Z"
   },
   {
    "duration": 6,
    "start_time": "2024-10-18T20:09:18.551Z"
   },
   {
    "duration": 4,
    "start_time": "2024-10-18T20:10:35.914Z"
   },
   {
    "duration": 11,
    "start_time": "2024-10-18T20:12:04.470Z"
   },
   {
    "duration": 29,
    "start_time": "2024-10-18T20:12:45.853Z"
   },
   {
    "duration": 33,
    "start_time": "2024-10-18T20:13:10.176Z"
   },
   {
    "duration": 34,
    "start_time": "2024-10-18T20:14:05.899Z"
   },
   {
    "duration": 36,
    "start_time": "2024-10-18T20:14:41.744Z"
   },
   {
    "duration": 33,
    "start_time": "2024-10-18T20:14:48.415Z"
   },
   {
    "duration": 6,
    "start_time": "2024-10-18T20:15:12.486Z"
   },
   {
    "duration": 8,
    "start_time": "2024-10-18T20:15:39.337Z"
   },
   {
    "duration": 123,
    "start_time": "2024-10-18T20:16:42.784Z"
   },
   {
    "duration": 8,
    "start_time": "2024-10-18T20:17:04.101Z"
   },
   {
    "duration": 769,
    "start_time": "2024-10-18T20:18:34.948Z"
   },
   {
    "duration": 28,
    "start_time": "2024-10-18T20:19:07.578Z"
   },
   {
    "duration": 6,
    "start_time": "2024-10-18T20:20:05.173Z"
   },
   {
    "duration": 30,
    "start_time": "2024-10-18T20:20:54.140Z"
   },
   {
    "duration": 12,
    "start_time": "2024-10-18T20:22:10.645Z"
   },
   {
    "duration": 5,
    "start_time": "2024-10-18T20:22:17.365Z"
   },
   {
    "duration": 4,
    "start_time": "2024-10-18T20:22:58.258Z"
   },
   {
    "duration": 138,
    "start_time": "2024-10-18T20:23:07.830Z"
   },
   {
    "duration": 2,
    "start_time": "2024-10-18T20:23:34.022Z"
   },
   {
    "duration": 1165,
    "start_time": "2024-10-18T20:23:42.096Z"
   },
   {
    "duration": 108,
    "start_time": "2024-10-18T20:23:43.265Z"
   },
   {
    "duration": 46,
    "start_time": "2024-10-18T20:23:43.375Z"
   },
   {
    "duration": 138,
    "start_time": "2024-10-18T20:23:43.424Z"
   },
   {
    "duration": 121,
    "start_time": "2024-10-18T20:23:43.564Z"
   },
   {
    "duration": 35,
    "start_time": "2024-10-18T20:23:43.687Z"
   },
   {
    "duration": 13,
    "start_time": "2024-10-18T20:23:43.723Z"
   },
   {
    "duration": 4,
    "start_time": "2024-10-18T20:23:43.738Z"
   },
   {
    "duration": 20,
    "start_time": "2024-10-18T20:23:43.743Z"
   },
   {
    "duration": 41,
    "start_time": "2024-10-18T20:23:43.767Z"
   },
   {
    "duration": 4,
    "start_time": "2024-10-18T20:23:43.810Z"
   },
   {
    "duration": 5,
    "start_time": "2024-10-18T20:23:43.816Z"
   },
   {
    "duration": 3,
    "start_time": "2024-10-18T20:23:43.822Z"
   },
   {
    "duration": 4,
    "start_time": "2024-10-18T20:23:43.827Z"
   },
   {
    "duration": 486,
    "start_time": "2024-10-18T20:23:43.832Z"
   },
   {
    "duration": 7,
    "start_time": "2024-10-18T20:23:44.320Z"
   },
   {
    "duration": 10,
    "start_time": "2024-10-18T20:23:44.329Z"
   },
   {
    "duration": 13,
    "start_time": "2024-10-18T20:23:44.341Z"
   },
   {
    "duration": 13,
    "start_time": "2024-10-18T20:23:44.355Z"
   },
   {
    "duration": 40,
    "start_time": "2024-10-18T20:23:44.369Z"
   },
   {
    "duration": 10,
    "start_time": "2024-10-18T20:23:44.411Z"
   },
   {
    "duration": 19,
    "start_time": "2024-10-18T20:23:44.423Z"
   },
   {
    "duration": 11,
    "start_time": "2024-10-18T20:23:44.444Z"
   },
   {
    "duration": 149,
    "start_time": "2024-10-18T20:23:44.456Z"
   },
   {
    "duration": 32,
    "start_time": "2024-10-18T20:23:44.606Z"
   },
   {
    "duration": 2,
    "start_time": "2024-10-18T20:23:44.640Z"
   },
   {
    "duration": 2,
    "start_time": "2024-10-18T20:23:44.644Z"
   },
   {
    "duration": 2,
    "start_time": "2024-10-18T20:23:44.650Z"
   },
   {
    "duration": 4,
    "start_time": "2024-10-18T20:24:07.543Z"
   },
   {
    "duration": 5,
    "start_time": "2024-10-18T20:28:58.202Z"
   },
   {
    "duration": 6,
    "start_time": "2024-10-18T20:31:33.206Z"
   },
   {
    "duration": 124,
    "start_time": "2024-10-18T20:32:03.589Z"
   },
   {
    "duration": 124,
    "start_time": "2024-10-18T20:32:26.489Z"
   },
   {
    "duration": 119,
    "start_time": "2024-10-18T20:32:37.983Z"
   },
   {
    "duration": 221,
    "start_time": "2024-10-18T20:33:09.257Z"
   },
   {
    "duration": 239,
    "start_time": "2024-10-18T20:33:16.250Z"
   },
   {
    "duration": 123,
    "start_time": "2024-10-18T20:34:06.587Z"
   },
   {
    "duration": 126,
    "start_time": "2024-10-18T20:34:17.035Z"
   },
   {
    "duration": 7,
    "start_time": "2024-10-18T20:38:41.063Z"
   },
   {
    "duration": 133,
    "start_time": "2024-10-18T20:48:42.731Z"
   },
   {
    "duration": 124,
    "start_time": "2024-10-18T20:53:03.669Z"
   },
   {
    "duration": 5,
    "start_time": "2024-10-18T20:55:16.637Z"
   },
   {
    "duration": 7,
    "start_time": "2024-10-18T20:55:25.188Z"
   },
   {
    "duration": 552,
    "start_time": "2024-10-18T20:55:58.470Z"
   },
   {
    "duration": 15,
    "start_time": "2024-10-18T20:56:13.558Z"
   },
   {
    "duration": 10,
    "start_time": "2024-10-18T21:04:42.510Z"
   },
   {
    "duration": 6,
    "start_time": "2024-10-18T21:05:57.668Z"
   },
   {
    "duration": 7,
    "start_time": "2024-10-18T21:11:12.969Z"
   },
   {
    "duration": 3,
    "start_time": "2024-10-18T21:11:32.123Z"
   },
   {
    "duration": 7,
    "start_time": "2024-10-18T21:17:02.923Z"
   },
   {
    "duration": 38,
    "start_time": "2024-10-18T21:23:13.560Z"
   },
   {
    "duration": 60,
    "start_time": "2024-10-18T21:23:21.491Z"
   },
   {
    "duration": 70,
    "start_time": "2024-10-18T21:27:08.880Z"
   },
   {
    "duration": 63,
    "start_time": "2024-10-18T21:27:17.697Z"
   },
   {
    "duration": 61,
    "start_time": "2024-10-18T21:28:16.714Z"
   },
   {
    "duration": 64,
    "start_time": "2024-10-18T21:28:41.762Z"
   },
   {
    "duration": 73,
    "start_time": "2024-10-18T21:29:22.347Z"
   },
   {
    "duration": 64,
    "start_time": "2024-10-18T21:29:31.909Z"
   },
   {
    "duration": 63,
    "start_time": "2024-10-18T21:29:58.651Z"
   },
   {
    "duration": 64,
    "start_time": "2024-10-18T21:30:11.167Z"
   },
   {
    "duration": 2,
    "start_time": "2024-10-18T21:30:33.306Z"
   },
   {
    "duration": 129,
    "start_time": "2024-10-18T21:38:23.118Z"
   },
   {
    "duration": 8,
    "start_time": "2024-10-18T21:38:50.986Z"
   },
   {
    "duration": 7,
    "start_time": "2024-10-18T21:41:07.761Z"
   },
   {
    "duration": 8,
    "start_time": "2024-10-18T21:41:13.006Z"
   },
   {
    "duration": 19,
    "start_time": "2024-10-18T21:42:57.051Z"
   },
   {
    "duration": 24,
    "start_time": "2024-10-18T21:43:14.303Z"
   },
   {
    "duration": 153,
    "start_time": "2024-10-18T21:43:36.639Z"
   },
   {
    "duration": 146,
    "start_time": "2024-10-18T21:44:12.893Z"
   },
   {
    "duration": 30,
    "start_time": "2024-10-18T21:44:42.019Z"
   },
   {
    "duration": 37,
    "start_time": "2024-10-18T21:46:35.341Z"
   },
   {
    "duration": 33,
    "start_time": "2024-10-18T21:46:54.471Z"
   },
   {
    "duration": 9,
    "start_time": "2024-10-18T21:48:05.109Z"
   },
   {
    "duration": 25,
    "start_time": "2024-10-18T21:49:01.020Z"
   },
   {
    "duration": 5,
    "start_time": "2024-10-18T21:49:53.184Z"
   },
   {
    "duration": 4,
    "start_time": "2024-10-18T21:50:05.071Z"
   },
   {
    "duration": 4,
    "start_time": "2024-10-18T21:50:10.703Z"
   },
   {
    "duration": 6,
    "start_time": "2024-10-18T21:50:17.494Z"
   },
   {
    "duration": 11,
    "start_time": "2024-10-18T21:50:25.048Z"
   },
   {
    "duration": 11,
    "start_time": "2024-10-18T21:50:32.863Z"
   },
   {
    "duration": 14,
    "start_time": "2024-10-18T21:51:21.386Z"
   },
   {
    "duration": 27,
    "start_time": "2024-10-18T21:51:58.904Z"
   },
   {
    "duration": 26,
    "start_time": "2024-10-18T21:52:09.443Z"
   },
   {
    "duration": 222,
    "start_time": "2024-10-18T21:54:11.054Z"
   },
   {
    "duration": 23,
    "start_time": "2024-10-18T21:55:09.258Z"
   },
   {
    "duration": 12,
    "start_time": "2024-10-18T21:56:02.385Z"
   },
   {
    "duration": 10,
    "start_time": "2024-10-18T21:56:08.611Z"
   },
   {
    "duration": 8,
    "start_time": "2024-10-18T22:02:27.893Z"
   },
   {
    "duration": 2726,
    "start_time": "2024-10-18T22:05:00.076Z"
   },
   {
    "duration": 160,
    "start_time": "2024-10-18T22:11:04.880Z"
   },
   {
    "duration": 3,
    "start_time": "2024-10-18T22:12:27.725Z"
   },
   {
    "duration": 148,
    "start_time": "2024-10-18T22:12:39.729Z"
   },
   {
    "duration": 3,
    "start_time": "2024-10-18T22:12:49.643Z"
   },
   {
    "duration": 144,
    "start_time": "2024-10-18T22:12:53.926Z"
   },
   {
    "duration": 139,
    "start_time": "2024-10-18T22:13:59.883Z"
   },
   {
    "duration": 5,
    "start_time": "2024-10-18T22:16:12.926Z"
   },
   {
    "duration": 3,
    "start_time": "2024-10-18T22:16:19.571Z"
   },
   {
    "duration": 127,
    "start_time": "2024-10-18T22:16:35.067Z"
   },
   {
    "duration": 209,
    "start_time": "2024-10-18T22:19:29.268Z"
   },
   {
    "duration": 138,
    "start_time": "2024-10-18T22:20:23.412Z"
   },
   {
    "duration": 5,
    "start_time": "2024-10-18T22:23:13.076Z"
   },
   {
    "duration": 147,
    "start_time": "2024-10-18T22:23:32.867Z"
   },
   {
    "duration": 147,
    "start_time": "2024-10-18T22:24:45.294Z"
   },
   {
    "duration": 131,
    "start_time": "2024-10-18T22:25:17.647Z"
   },
   {
    "duration": 134,
    "start_time": "2024-10-18T22:26:02.056Z"
   },
   {
    "duration": 135,
    "start_time": "2024-10-18T22:26:47.341Z"
   },
   {
    "duration": 131,
    "start_time": "2024-10-18T22:32:43.113Z"
   },
   {
    "duration": 161,
    "start_time": "2024-10-18T22:36:47.339Z"
   },
   {
    "duration": 146,
    "start_time": "2024-10-18T22:36:57.993Z"
   },
   {
    "duration": 132,
    "start_time": "2024-10-18T22:38:31.966Z"
   },
   {
    "duration": 150,
    "start_time": "2024-10-18T22:58:53.875Z"
   },
   {
    "duration": 8,
    "start_time": "2024-10-18T23:04:10.455Z"
   },
   {
    "duration": 9,
    "start_time": "2024-10-18T23:04:48.368Z"
   },
   {
    "duration": 167,
    "start_time": "2024-10-18T23:06:38.942Z"
   },
   {
    "duration": 161,
    "start_time": "2024-10-18T23:06:48.182Z"
   },
   {
    "duration": 157,
    "start_time": "2024-10-18T23:06:56.892Z"
   },
   {
    "duration": 248,
    "start_time": "2024-10-18T23:07:04.308Z"
   },
   {
    "duration": 161,
    "start_time": "2024-10-18T23:07:12.092Z"
   },
   {
    "duration": 203,
    "start_time": "2024-10-18T23:07:41.718Z"
   },
   {
    "duration": 159,
    "start_time": "2024-10-18T23:08:01.629Z"
   },
   {
    "duration": 157,
    "start_time": "2024-10-18T23:08:38.443Z"
   },
   {
    "duration": 162,
    "start_time": "2024-10-18T23:08:45.170Z"
   },
   {
    "duration": 169,
    "start_time": "2024-10-18T23:10:05.548Z"
   },
   {
    "duration": 10,
    "start_time": "2024-10-18T23:10:15.824Z"
   },
   {
    "duration": 15,
    "start_time": "2024-10-18T23:10:53.479Z"
   },
   {
    "duration": 14,
    "start_time": "2024-10-18T23:11:18.609Z"
   },
   {
    "duration": 10,
    "start_time": "2024-10-18T23:11:26.064Z"
   },
   {
    "duration": 8,
    "start_time": "2024-10-18T23:13:07.782Z"
   },
   {
    "duration": 3,
    "start_time": "2024-10-18T23:13:21.283Z"
   },
   {
    "duration": 14,
    "start_time": "2024-10-18T23:13:25.663Z"
   },
   {
    "duration": 155,
    "start_time": "2024-10-19T02:01:20.442Z"
   },
   {
    "duration": 3101,
    "start_time": "2024-10-19T02:01:42.752Z"
   },
   {
    "duration": 94,
    "start_time": "2024-10-19T02:01:45.856Z"
   },
   {
    "duration": 35,
    "start_time": "2024-10-19T02:01:45.952Z"
   },
   {
    "duration": 136,
    "start_time": "2024-10-19T02:01:45.989Z"
   },
   {
    "duration": 106,
    "start_time": "2024-10-19T02:01:46.128Z"
   },
   {
    "duration": 25,
    "start_time": "2024-10-19T02:01:46.235Z"
   },
   {
    "duration": 12,
    "start_time": "2024-10-19T02:01:46.262Z"
   },
   {
    "duration": 4,
    "start_time": "2024-10-19T02:01:46.276Z"
   },
   {
    "duration": 18,
    "start_time": "2024-10-19T02:01:46.306Z"
   },
   {
    "duration": 8,
    "start_time": "2024-10-19T02:01:46.326Z"
   },
   {
    "duration": 4,
    "start_time": "2024-10-19T02:01:46.335Z"
   },
   {
    "duration": 4,
    "start_time": "2024-10-19T02:01:46.341Z"
   },
   {
    "duration": 2,
    "start_time": "2024-10-19T02:01:46.347Z"
   },
   {
    "duration": 3,
    "start_time": "2024-10-19T02:01:46.353Z"
   },
   {
    "duration": 495,
    "start_time": "2024-10-19T02:01:46.357Z"
   },
   {
    "duration": 7,
    "start_time": "2024-10-19T02:01:46.854Z"
   },
   {
    "duration": 9,
    "start_time": "2024-10-19T02:01:46.863Z"
   },
   {
    "duration": 32,
    "start_time": "2024-10-19T02:01:46.874Z"
   },
   {
    "duration": 12,
    "start_time": "2024-10-19T02:01:46.907Z"
   },
   {
    "duration": 8,
    "start_time": "2024-10-19T02:01:46.921Z"
   },
   {
    "duration": 9,
    "start_time": "2024-10-19T02:01:46.930Z"
   },
   {
    "duration": 18,
    "start_time": "2024-10-19T02:01:46.941Z"
   },
   {
    "duration": 8,
    "start_time": "2024-10-19T02:01:46.961Z"
   },
   {
    "duration": 39,
    "start_time": "2024-10-19T02:01:46.970Z"
   },
   {
    "duration": 31,
    "start_time": "2024-10-19T02:01:47.010Z"
   },
   {
    "duration": 12,
    "start_time": "2024-10-19T02:01:47.045Z"
   },
   {
    "duration": 86,
    "start_time": "2024-10-19T02:01:47.059Z"
   },
   {
    "duration": 37,
    "start_time": "2024-10-19T02:01:47.146Z"
   },
   {
    "duration": 31,
    "start_time": "2024-10-19T02:01:47.185Z"
   },
   {
    "duration": 27,
    "start_time": "2024-10-19T02:01:47.218Z"
   },
   {
    "duration": 184,
    "start_time": "2024-10-19T02:01:47.247Z"
   },
   {
    "duration": 366,
    "start_time": "2024-10-19T02:01:47.434Z"
   },
   {
    "duration": 0,
    "start_time": "2024-10-19T02:01:47.802Z"
   },
   {
    "duration": 0,
    "start_time": "2024-10-19T02:01:47.803Z"
   },
   {
    "duration": 0,
    "start_time": "2024-10-19T02:01:47.806Z"
   },
   {
    "duration": 4,
    "start_time": "2024-10-19T02:01:52.464Z"
   },
   {
    "duration": 12,
    "start_time": "2024-10-19T02:02:15.802Z"
   },
   {
    "duration": 10,
    "start_time": "2024-10-19T02:03:15.768Z"
   },
   {
    "duration": 5,
    "start_time": "2024-10-19T02:04:32.025Z"
   },
   {
    "duration": 4,
    "start_time": "2024-10-19T02:05:04.552Z"
   },
   {
    "duration": 77,
    "start_time": "2024-10-19T02:05:17.174Z"
   },
   {
    "duration": 16,
    "start_time": "2024-10-19T02:05:29.172Z"
   },
   {
    "duration": 17,
    "start_time": "2024-10-19T02:07:08.276Z"
   },
   {
    "duration": 16,
    "start_time": "2024-10-19T02:07:15.442Z"
   },
   {
    "duration": 4,
    "start_time": "2024-10-19T02:07:37.719Z"
   },
   {
    "duration": 33,
    "start_time": "2024-10-19T02:07:52.494Z"
   },
   {
    "duration": 18,
    "start_time": "2024-10-19T02:08:07.290Z"
   },
   {
    "duration": 17,
    "start_time": "2024-10-19T02:08:13.460Z"
   },
   {
    "duration": 70,
    "start_time": "2024-10-19T02:08:22.518Z"
   },
   {
    "duration": 68,
    "start_time": "2024-10-19T02:08:59.065Z"
   },
   {
    "duration": 62,
    "start_time": "2024-10-19T02:09:38.224Z"
   },
   {
    "duration": 63,
    "start_time": "2024-10-19T02:09:40.835Z"
   },
   {
    "duration": 67,
    "start_time": "2024-10-19T02:09:47.603Z"
   },
   {
    "duration": 73,
    "start_time": "2024-10-19T02:10:02.067Z"
   },
   {
    "duration": 66,
    "start_time": "2024-10-19T02:10:11.287Z"
   },
   {
    "duration": 72,
    "start_time": "2024-10-19T02:12:25.873Z"
   },
   {
    "duration": 75,
    "start_time": "2024-10-19T02:12:40.385Z"
   },
   {
    "duration": 75,
    "start_time": "2024-10-19T02:12:44.198Z"
   },
   {
    "duration": 83,
    "start_time": "2024-10-19T02:12:50.549Z"
   },
   {
    "duration": 73,
    "start_time": "2024-10-19T02:12:54.230Z"
   },
   {
    "duration": 72,
    "start_time": "2024-10-19T02:13:11.687Z"
   },
   {
    "duration": 602,
    "start_time": "2024-10-19T02:13:33.886Z"
   },
   {
    "duration": 67,
    "start_time": "2024-10-19T02:14:03.397Z"
   },
   {
    "duration": 71,
    "start_time": "2024-10-19T02:14:18.596Z"
   },
   {
    "duration": 72,
    "start_time": "2024-10-19T02:14:23.232Z"
   },
   {
    "duration": 4,
    "start_time": "2024-10-19T02:14:38.522Z"
   },
   {
    "duration": 74,
    "start_time": "2024-10-19T02:14:44.360Z"
   },
   {
    "duration": 73,
    "start_time": "2024-10-19T02:14:57.585Z"
   },
   {
    "duration": 66,
    "start_time": "2024-10-19T02:15:09.798Z"
   },
   {
    "duration": 6,
    "start_time": "2024-10-19T02:30:50.693Z"
   },
   {
    "duration": 5,
    "start_time": "2024-10-19T02:32:53.309Z"
   },
   {
    "duration": 5,
    "start_time": "2024-10-19T02:33:26.209Z"
   },
   {
    "duration": 5,
    "start_time": "2024-10-19T02:33:40.907Z"
   },
   {
    "duration": 66,
    "start_time": "2024-10-19T02:33:53.691Z"
   },
   {
    "duration": 5,
    "start_time": "2024-10-19T02:34:53.783Z"
   },
   {
    "duration": 65,
    "start_time": "2024-10-19T02:35:49.633Z"
   },
   {
    "duration": 80,
    "start_time": "2024-10-19T02:36:01.228Z"
   },
   {
    "duration": 4,
    "start_time": "2024-10-19T02:36:15.384Z"
   },
   {
    "duration": 4,
    "start_time": "2024-10-19T02:36:23.661Z"
   },
   {
    "duration": 67,
    "start_time": "2024-10-19T02:41:21.381Z"
   },
   {
    "duration": 14,
    "start_time": "2024-10-19T02:43:03.054Z"
   },
   {
    "duration": 67,
    "start_time": "2024-10-19T02:43:48.929Z"
   },
   {
    "duration": 73,
    "start_time": "2024-10-19T02:44:43.518Z"
   },
   {
    "duration": 17,
    "start_time": "2024-10-19T02:45:24.755Z"
   },
   {
    "duration": 4,
    "start_time": "2024-10-19T02:45:35.394Z"
   },
   {
    "duration": 112,
    "start_time": "2024-10-19T02:49:56.794Z"
   },
   {
    "duration": 3,
    "start_time": "2024-10-19T02:57:47.931Z"
   },
   {
    "duration": 5,
    "start_time": "2024-10-19T02:57:55.789Z"
   },
   {
    "duration": 7,
    "start_time": "2024-10-19T02:59:00.790Z"
   },
   {
    "duration": 7,
    "start_time": "2024-10-19T03:00:57.727Z"
   },
   {
    "duration": 66,
    "start_time": "2024-10-19T03:01:45.602Z"
   },
   {
    "duration": 12,
    "start_time": "2024-10-19T03:02:12.633Z"
   },
   {
    "duration": 12,
    "start_time": "2024-10-19T03:02:20.743Z"
   },
   {
    "duration": 8,
    "start_time": "2024-10-19T03:02:27.381Z"
   },
   {
    "duration": 139,
    "start_time": "2024-10-19T03:04:11.644Z"
   },
   {
    "duration": 5,
    "start_time": "2024-10-19T03:05:45.402Z"
   },
   {
    "duration": 283,
    "start_time": "2024-10-19T03:05:53.575Z"
   },
   {
    "duration": 40,
    "start_time": "2024-10-19T03:06:08.282Z"
   },
   {
    "duration": 123,
    "start_time": "2024-10-19T03:06:45.955Z"
   },
   {
    "duration": 143,
    "start_time": "2024-10-19T03:09:47.968Z"
   },
   {
    "duration": 168,
    "start_time": "2024-10-19T03:11:29.830Z"
   },
   {
    "duration": 173,
    "start_time": "2024-10-19T03:11:51.194Z"
   },
   {
    "duration": 159,
    "start_time": "2024-10-19T03:12:16.796Z"
   },
   {
    "duration": 145,
    "start_time": "2024-10-19T03:15:31.007Z"
   },
   {
    "duration": 103,
    "start_time": "2024-10-19T03:16:36.544Z"
   },
   {
    "duration": 13,
    "start_time": "2024-10-19T03:24:35.330Z"
   },
   {
    "duration": 4,
    "start_time": "2024-10-19T03:24:43.654Z"
   },
   {
    "duration": 8,
    "start_time": "2024-10-19T03:24:51.651Z"
   },
   {
    "duration": 113,
    "start_time": "2024-10-19T03:25:05.167Z"
   },
   {
    "duration": 142,
    "start_time": "2024-10-19T03:25:16.490Z"
   },
   {
    "duration": 132,
    "start_time": "2024-10-19T03:25:55.322Z"
   },
   {
    "duration": 124,
    "start_time": "2024-10-19T03:27:07.796Z"
   },
   {
    "duration": 131,
    "start_time": "2024-10-19T03:27:34.707Z"
   },
   {
    "duration": 126,
    "start_time": "2024-10-19T03:27:42.036Z"
   },
   {
    "duration": 143,
    "start_time": "2024-10-19T03:27:55.412Z"
   },
   {
    "duration": 16,
    "start_time": "2024-10-19T03:30:06.492Z"
   },
   {
    "duration": 124,
    "start_time": "2024-10-19T03:36:55.463Z"
   },
   {
    "duration": 5,
    "start_time": "2024-10-19T03:38:21.754Z"
   },
   {
    "duration": 97,
    "start_time": "2024-10-19T03:38:29.214Z"
   },
   {
    "duration": 41,
    "start_time": "2024-10-19T03:38:55.046Z"
   },
   {
    "duration": 99,
    "start_time": "2024-10-19T03:39:30.665Z"
   },
   {
    "duration": 218,
    "start_time": "2024-10-19T03:39:43.880Z"
   },
   {
    "duration": 100,
    "start_time": "2024-10-19T03:39:58.664Z"
   },
   {
    "duration": 101,
    "start_time": "2024-10-19T03:40:39.778Z"
   },
   {
    "duration": 156,
    "start_time": "2024-10-19T15:16:44.741Z"
   },
   {
    "duration": 3069,
    "start_time": "2024-10-19T15:17:00.204Z"
   },
   {
    "duration": 97,
    "start_time": "2024-10-19T15:17:03.275Z"
   },
   {
    "duration": 35,
    "start_time": "2024-10-19T15:17:03.374Z"
   },
   {
    "duration": 134,
    "start_time": "2024-10-19T15:17:03.411Z"
   },
   {
    "duration": 105,
    "start_time": "2024-10-19T15:17:03.547Z"
   },
   {
    "duration": 25,
    "start_time": "2024-10-19T15:17:03.654Z"
   },
   {
    "duration": 12,
    "start_time": "2024-10-19T15:17:03.681Z"
   },
   {
    "duration": 4,
    "start_time": "2024-10-19T15:17:03.695Z"
   },
   {
    "duration": 19,
    "start_time": "2024-10-19T15:17:03.724Z"
   },
   {
    "duration": 8,
    "start_time": "2024-10-19T15:17:03.744Z"
   },
   {
    "duration": 4,
    "start_time": "2024-10-19T15:17:03.753Z"
   },
   {
    "duration": 4,
    "start_time": "2024-10-19T15:17:03.758Z"
   },
   {
    "duration": 2,
    "start_time": "2024-10-19T15:17:03.763Z"
   },
   {
    "duration": 3,
    "start_time": "2024-10-19T15:17:03.769Z"
   },
   {
    "duration": 502,
    "start_time": "2024-10-19T15:17:03.774Z"
   },
   {
    "duration": 6,
    "start_time": "2024-10-19T15:17:04.278Z"
   },
   {
    "duration": 8,
    "start_time": "2024-10-19T15:17:04.286Z"
   },
   {
    "duration": 32,
    "start_time": "2024-10-19T15:17:04.296Z"
   },
   {
    "duration": 12,
    "start_time": "2024-10-19T15:17:04.330Z"
   },
   {
    "duration": 8,
    "start_time": "2024-10-19T15:17:04.344Z"
   },
   {
    "duration": 9,
    "start_time": "2024-10-19T15:17:04.353Z"
   },
   {
    "duration": 18,
    "start_time": "2024-10-19T15:17:04.364Z"
   },
   {
    "duration": 42,
    "start_time": "2024-10-19T15:17:04.383Z"
   },
   {
    "duration": 5,
    "start_time": "2024-10-19T15:17:04.426Z"
   },
   {
    "duration": 32,
    "start_time": "2024-10-19T15:17:04.433Z"
   },
   {
    "duration": 11,
    "start_time": "2024-10-19T15:17:04.466Z"
   },
   {
    "duration": 87,
    "start_time": "2024-10-19T15:17:04.479Z"
   },
   {
    "duration": 36,
    "start_time": "2024-10-19T15:17:04.568Z"
   },
   {
    "duration": 31,
    "start_time": "2024-10-19T15:17:04.606Z"
   },
   {
    "duration": 27,
    "start_time": "2024-10-19T15:17:04.638Z"
   },
   {
    "duration": 180,
    "start_time": "2024-10-19T15:17:04.666Z"
   },
   {
    "duration": 154,
    "start_time": "2024-10-19T15:17:04.848Z"
   },
   {
    "duration": 20,
    "start_time": "2024-10-19T15:17:05.004Z"
   },
   {
    "duration": 187,
    "start_time": "2024-10-19T15:17:05.026Z"
   },
   {
    "duration": 966,
    "start_time": "2024-10-19T15:17:05.215Z"
   },
   {
    "duration": 0,
    "start_time": "2024-10-19T15:17:06.183Z"
   },
   {
    "duration": 0,
    "start_time": "2024-10-19T15:17:06.184Z"
   },
   {
    "duration": 0,
    "start_time": "2024-10-19T15:17:06.186Z"
   },
   {
    "duration": 142,
    "start_time": "2024-10-19T15:17:33.917Z"
   },
   {
    "duration": 141,
    "start_time": "2024-10-19T15:18:14.435Z"
   },
   {
    "duration": 42,
    "start_time": "2024-10-19T15:18:31.683Z"
   },
   {
    "duration": 1304,
    "start_time": "2024-10-19T15:19:43.185Z"
   },
   {
    "duration": 92,
    "start_time": "2024-10-19T15:19:44.491Z"
   },
   {
    "duration": 40,
    "start_time": "2024-10-19T15:19:44.585Z"
   },
   {
    "duration": 123,
    "start_time": "2024-10-19T15:19:44.628Z"
   },
   {
    "duration": 106,
    "start_time": "2024-10-19T15:19:44.752Z"
   },
   {
    "duration": 24,
    "start_time": "2024-10-19T15:19:44.860Z"
   },
   {
    "duration": 13,
    "start_time": "2024-10-19T15:19:44.886Z"
   },
   {
    "duration": 23,
    "start_time": "2024-10-19T15:19:44.901Z"
   },
   {
    "duration": 17,
    "start_time": "2024-10-19T15:19:44.926Z"
   },
   {
    "duration": 8,
    "start_time": "2024-10-19T15:19:44.946Z"
   },
   {
    "duration": 3,
    "start_time": "2024-10-19T15:19:44.955Z"
   },
   {
    "duration": 4,
    "start_time": "2024-10-19T15:19:44.960Z"
   },
   {
    "duration": 2,
    "start_time": "2024-10-19T15:19:44.966Z"
   },
   {
    "duration": 4,
    "start_time": "2024-10-19T15:19:44.970Z"
   },
   {
    "duration": 501,
    "start_time": "2024-10-19T15:19:44.975Z"
   },
   {
    "duration": 6,
    "start_time": "2024-10-19T15:19:45.478Z"
   },
   {
    "duration": 9,
    "start_time": "2024-10-19T15:19:45.486Z"
   },
   {
    "duration": 29,
    "start_time": "2024-10-19T15:19:45.496Z"
   },
   {
    "duration": 12,
    "start_time": "2024-10-19T15:19:45.527Z"
   },
   {
    "duration": 9,
    "start_time": "2024-10-19T15:19:45.541Z"
   },
   {
    "duration": 8,
    "start_time": "2024-10-19T15:19:45.551Z"
   },
   {
    "duration": 18,
    "start_time": "2024-10-19T15:19:45.562Z"
   },
   {
    "duration": 9,
    "start_time": "2024-10-19T15:19:45.582Z"
   },
   {
    "duration": 36,
    "start_time": "2024-10-19T15:19:45.592Z"
   },
   {
    "duration": 32,
    "start_time": "2024-10-19T15:19:45.629Z"
   },
   {
    "duration": 11,
    "start_time": "2024-10-19T15:19:45.663Z"
   },
   {
    "duration": 83,
    "start_time": "2024-10-19T15:19:45.676Z"
   },
   {
    "duration": 36,
    "start_time": "2024-10-19T15:19:45.763Z"
   },
   {
    "duration": 36,
    "start_time": "2024-10-19T15:19:45.800Z"
   },
   {
    "duration": 26,
    "start_time": "2024-10-19T15:19:45.838Z"
   },
   {
    "duration": 182,
    "start_time": "2024-10-19T15:19:45.867Z"
   },
   {
    "duration": 7,
    "start_time": "2024-10-19T15:19:46.051Z"
   },
   {
    "duration": 9,
    "start_time": "2024-10-19T15:19:46.060Z"
   },
   {
    "duration": 176,
    "start_time": "2024-10-19T15:19:46.070Z"
   },
   {
    "duration": 940,
    "start_time": "2024-10-19T15:19:46.247Z"
   },
   {
    "duration": 0,
    "start_time": "2024-10-19T15:19:47.189Z"
   },
   {
    "duration": 0,
    "start_time": "2024-10-19T15:19:47.190Z"
   },
   {
    "duration": 0,
    "start_time": "2024-10-19T15:19:47.192Z"
   },
   {
    "duration": 31,
    "start_time": "2024-10-19T15:20:36.194Z"
   },
   {
    "duration": 26,
    "start_time": "2024-10-19T15:20:47.236Z"
   },
   {
    "duration": 48,
    "start_time": "2024-10-19T15:20:49.969Z"
   },
   {
    "duration": 1299,
    "start_time": "2024-10-19T15:20:58.583Z"
   },
   {
    "duration": 95,
    "start_time": "2024-10-19T15:20:59.885Z"
   },
   {
    "duration": 31,
    "start_time": "2024-10-19T15:20:59.982Z"
   },
   {
    "duration": 131,
    "start_time": "2024-10-19T15:21:00.015Z"
   },
   {
    "duration": 106,
    "start_time": "2024-10-19T15:21:00.148Z"
   },
   {
    "duration": 24,
    "start_time": "2024-10-19T15:21:00.256Z"
   },
   {
    "duration": 14,
    "start_time": "2024-10-19T15:21:00.282Z"
   },
   {
    "duration": 5,
    "start_time": "2024-10-19T15:21:00.297Z"
   },
   {
    "duration": 37,
    "start_time": "2024-10-19T15:21:00.303Z"
   },
   {
    "duration": 8,
    "start_time": "2024-10-19T15:21:00.342Z"
   },
   {
    "duration": 4,
    "start_time": "2024-10-19T15:21:00.351Z"
   },
   {
    "duration": 4,
    "start_time": "2024-10-19T15:21:00.356Z"
   },
   {
    "duration": 3,
    "start_time": "2024-10-19T15:21:00.362Z"
   },
   {
    "duration": 3,
    "start_time": "2024-10-19T15:21:00.369Z"
   },
   {
    "duration": 498,
    "start_time": "2024-10-19T15:21:00.374Z"
   },
   {
    "duration": 6,
    "start_time": "2024-10-19T15:21:00.874Z"
   },
   {
    "duration": 8,
    "start_time": "2024-10-19T15:21:00.882Z"
   },
   {
    "duration": 33,
    "start_time": "2024-10-19T15:21:00.892Z"
   },
   {
    "duration": 12,
    "start_time": "2024-10-19T15:21:00.926Z"
   },
   {
    "duration": 9,
    "start_time": "2024-10-19T15:21:00.939Z"
   },
   {
    "duration": 8,
    "start_time": "2024-10-19T15:21:00.950Z"
   },
   {
    "duration": 17,
    "start_time": "2024-10-19T15:21:00.960Z"
   },
   {
    "duration": 8,
    "start_time": "2024-10-19T15:21:00.978Z"
   },
   {
    "duration": 37,
    "start_time": "2024-10-19T15:21:00.988Z"
   },
   {
    "duration": 30,
    "start_time": "2024-10-19T15:21:01.026Z"
   },
   {
    "duration": 11,
    "start_time": "2024-10-19T15:21:01.058Z"
   },
   {
    "duration": 83,
    "start_time": "2024-10-19T15:21:01.071Z"
   },
   {
    "duration": 39,
    "start_time": "2024-10-19T15:21:01.156Z"
   },
   {
    "duration": 54,
    "start_time": "2024-10-19T15:21:01.197Z"
   },
   {
    "duration": 25,
    "start_time": "2024-10-19T15:21:01.253Z"
   },
   {
    "duration": 176,
    "start_time": "2024-10-19T15:21:01.280Z"
   },
   {
    "duration": 7,
    "start_time": "2024-10-19T15:21:01.458Z"
   },
   {
    "duration": 9,
    "start_time": "2024-10-19T15:21:01.467Z"
   },
   {
    "duration": 175,
    "start_time": "2024-10-19T15:21:01.477Z"
   },
   {
    "duration": 939,
    "start_time": "2024-10-19T15:21:01.653Z"
   },
   {
    "duration": 0,
    "start_time": "2024-10-19T15:21:02.594Z"
   },
   {
    "duration": 0,
    "start_time": "2024-10-19T15:21:02.595Z"
   },
   {
    "duration": 0,
    "start_time": "2024-10-19T15:21:02.597Z"
   },
   {
    "duration": 130,
    "start_time": "2024-10-19T15:21:36.663Z"
   },
   {
    "duration": 52,
    "start_time": "2024-10-19T15:22:21.052Z"
   },
   {
    "duration": 5,
    "start_time": "2024-10-19T15:22:36.069Z"
   },
   {
    "duration": 12,
    "start_time": "2024-10-19T15:23:55.728Z"
   },
   {
    "duration": 7,
    "start_time": "2024-10-19T15:25:08.405Z"
   },
   {
    "duration": 237,
    "start_time": "2024-10-19T15:25:37.978Z"
   },
   {
    "duration": 225,
    "start_time": "2024-10-19T15:26:30.561Z"
   },
   {
    "duration": 232,
    "start_time": "2024-10-19T15:26:43.708Z"
   },
   {
    "duration": 250,
    "start_time": "2024-10-19T15:41:59.934Z"
   },
   {
    "duration": 241,
    "start_time": "2024-10-19T15:42:07.632Z"
   },
   {
    "duration": 234,
    "start_time": "2024-10-19T15:42:17.744Z"
   },
   {
    "duration": 5,
    "start_time": "2024-10-19T16:06:09.899Z"
   },
   {
    "duration": 160,
    "start_time": "2024-10-19T16:06:59.014Z"
   },
   {
    "duration": 15,
    "start_time": "2024-10-19T16:07:04.097Z"
   },
   {
    "duration": 47,
    "start_time": "2024-10-19T16:07:13.624Z"
   },
   {
    "duration": 66,
    "start_time": "2024-10-19T16:07:50.377Z"
   },
   {
    "duration": 11,
    "start_time": "2024-10-19T16:08:41.183Z"
   },
   {
    "duration": 9,
    "start_time": "2024-10-19T16:08:49.682Z"
   },
   {
    "duration": 18,
    "start_time": "2024-10-19T16:08:57.137Z"
   },
   {
    "duration": 15,
    "start_time": "2024-10-19T16:09:14.272Z"
   },
   {
    "duration": 83,
    "start_time": "2024-10-19T16:09:35.171Z"
   },
   {
    "duration": 17,
    "start_time": "2024-10-19T16:11:28.110Z"
   },
   {
    "duration": 44,
    "start_time": "2024-10-19T16:12:52.776Z"
   },
   {
    "duration": 256,
    "start_time": "2024-10-19T16:18:36.594Z"
   },
   {
    "duration": 256,
    "start_time": "2024-10-19T16:19:26.884Z"
   },
   {
    "duration": 5,
    "start_time": "2024-10-19T16:20:11.686Z"
   },
   {
    "duration": 4,
    "start_time": "2024-10-19T16:20:38.738Z"
   },
   {
    "duration": 5,
    "start_time": "2024-10-19T16:20:54.881Z"
   },
   {
    "duration": 4,
    "start_time": "2024-10-19T16:21:05.018Z"
   },
   {
    "duration": 207,
    "start_time": "2024-10-19T16:21:20.759Z"
   },
   {
    "duration": 213,
    "start_time": "2024-10-19T16:24:57.817Z"
   },
   {
    "duration": 208,
    "start_time": "2024-10-19T16:25:09.435Z"
   },
   {
    "duration": 6,
    "start_time": "2024-10-19T16:25:34.627Z"
   },
   {
    "duration": 224,
    "start_time": "2024-10-19T16:25:41.251Z"
   },
   {
    "duration": 249,
    "start_time": "2024-10-19T16:26:05.076Z"
   },
   {
    "duration": 210,
    "start_time": "2024-10-19T16:27:13.620Z"
   },
   {
    "duration": 5,
    "start_time": "2024-10-19T16:27:32.348Z"
   },
   {
    "duration": 212,
    "start_time": "2024-10-19T16:27:37.668Z"
   },
   {
    "duration": 200,
    "start_time": "2024-10-19T16:28:02.893Z"
   },
   {
    "duration": 199,
    "start_time": "2024-10-19T16:28:22.899Z"
   },
   {
    "duration": 303,
    "start_time": "2024-10-19T16:28:45.689Z"
   },
   {
    "duration": 206,
    "start_time": "2024-10-19T16:29:04.598Z"
   },
   {
    "duration": 49,
    "start_time": "2024-10-19T17:07:09.411Z"
   },
   {
    "duration": 179,
    "start_time": "2024-10-19T17:07:26.286Z"
   },
   {
    "duration": 174,
    "start_time": "2024-10-19T17:15:28.484Z"
   },
   {
    "duration": 218,
    "start_time": "2024-10-19T17:17:24.622Z"
   },
   {
    "duration": 179,
    "start_time": "2024-10-19T17:28:51.080Z"
   },
   {
    "duration": 13,
    "start_time": "2024-10-19T17:36:26.755Z"
   },
   {
    "duration": 12,
    "start_time": "2024-10-19T17:36:31.058Z"
   },
   {
    "duration": 6,
    "start_time": "2024-10-19T17:37:04.608Z"
   },
   {
    "duration": 6,
    "start_time": "2024-10-19T17:37:31.665Z"
   },
   {
    "duration": 3,
    "start_time": "2024-10-19T17:42:48.821Z"
   },
   {
    "duration": 5,
    "start_time": "2024-10-19T17:42:54.514Z"
   },
   {
    "duration": 12,
    "start_time": "2024-10-19T17:43:22.190Z"
   },
   {
    "duration": 7,
    "start_time": "2024-10-19T17:43:28.512Z"
   },
   {
    "duration": 555,
    "start_time": "2024-10-19T17:47:53.265Z"
   },
   {
    "duration": 594,
    "start_time": "2024-10-19T17:48:58.448Z"
   },
   {
    "duration": 599,
    "start_time": "2024-10-19T17:49:16.503Z"
   },
   {
    "duration": 3188,
    "start_time": "2024-10-20T15:17:02.695Z"
   },
   {
    "duration": 102,
    "start_time": "2024-10-20T15:17:05.885Z"
   },
   {
    "duration": 37,
    "start_time": "2024-10-20T15:17:05.989Z"
   },
   {
    "duration": 134,
    "start_time": "2024-10-20T15:17:06.028Z"
   },
   {
    "duration": 116,
    "start_time": "2024-10-20T15:17:06.163Z"
   },
   {
    "duration": 27,
    "start_time": "2024-10-20T15:17:06.280Z"
   },
   {
    "duration": 13,
    "start_time": "2024-10-20T15:17:06.308Z"
   },
   {
    "duration": 23,
    "start_time": "2024-10-20T15:17:06.322Z"
   },
   {
    "duration": 19,
    "start_time": "2024-10-20T15:17:06.347Z"
   },
   {
    "duration": 12,
    "start_time": "2024-10-20T15:17:06.369Z"
   },
   {
    "duration": 4,
    "start_time": "2024-10-20T15:17:06.383Z"
   },
   {
    "duration": 5,
    "start_time": "2024-10-20T15:17:06.388Z"
   },
   {
    "duration": 7,
    "start_time": "2024-10-20T15:17:06.395Z"
   },
   {
    "duration": 14,
    "start_time": "2024-10-20T15:17:06.403Z"
   },
   {
    "duration": 480,
    "start_time": "2024-10-20T15:17:06.420Z"
   },
   {
    "duration": 7,
    "start_time": "2024-10-20T15:17:06.902Z"
   },
   {
    "duration": 11,
    "start_time": "2024-10-20T15:17:06.911Z"
   },
   {
    "duration": 26,
    "start_time": "2024-10-20T15:17:06.924Z"
   },
   {
    "duration": 12,
    "start_time": "2024-10-20T15:17:06.952Z"
   },
   {
    "duration": 9,
    "start_time": "2024-10-20T15:17:06.965Z"
   },
   {
    "duration": 9,
    "start_time": "2024-10-20T15:17:06.976Z"
   },
   {
    "duration": 20,
    "start_time": "2024-10-20T15:17:06.987Z"
   },
   {
    "duration": 39,
    "start_time": "2024-10-20T15:17:07.008Z"
   },
   {
    "duration": 6,
    "start_time": "2024-10-20T15:17:07.049Z"
   },
   {
    "duration": 32,
    "start_time": "2024-10-20T15:17:07.057Z"
   },
   {
    "duration": 12,
    "start_time": "2024-10-20T15:17:07.090Z"
   },
   {
    "duration": 94,
    "start_time": "2024-10-20T15:17:07.104Z"
   },
   {
    "duration": 46,
    "start_time": "2024-10-20T15:17:07.201Z"
   },
   {
    "duration": 41,
    "start_time": "2024-10-20T15:17:07.249Z"
   },
   {
    "duration": 28,
    "start_time": "2024-10-20T15:17:07.293Z"
   },
   {
    "duration": 183,
    "start_time": "2024-10-20T15:17:07.322Z"
   },
   {
    "duration": 141,
    "start_time": "2024-10-20T15:17:07.507Z"
   },
   {
    "duration": 10,
    "start_time": "2024-10-20T15:17:07.651Z"
   },
   {
    "duration": 204,
    "start_time": "2024-10-20T15:17:07.662Z"
   },
   {
    "duration": 16,
    "start_time": "2024-10-20T15:17:07.868Z"
   },
   {
    "duration": 7,
    "start_time": "2024-10-20T15:17:07.886Z"
   },
   {
    "duration": 258,
    "start_time": "2024-10-20T15:17:07.895Z"
   },
   {
    "duration": 194,
    "start_time": "2024-10-20T15:17:08.155Z"
   },
   {
    "duration": 7,
    "start_time": "2024-10-20T15:17:08.351Z"
   },
   {
    "duration": 6,
    "start_time": "2024-10-20T15:17:08.360Z"
   },
   {
    "duration": 606,
    "start_time": "2024-10-20T15:17:08.367Z"
   },
   {
    "duration": 1255,
    "start_time": "2024-10-20T15:19:54.823Z"
   },
   {
    "duration": 694,
    "start_time": "2024-10-20T15:20:17.789Z"
   },
   {
    "duration": 1303,
    "start_time": "2024-10-20T15:20:30.735Z"
   },
   {
    "duration": 599,
    "start_time": "2024-10-20T15:21:08.669Z"
   },
   {
    "duration": 5634,
    "start_time": "2024-10-20T15:22:09.161Z"
   },
   {
    "duration": 568,
    "start_time": "2024-10-20T15:22:56.144Z"
   },
   {
    "duration": 593,
    "start_time": "2024-10-20T15:23:20.037Z"
   },
   {
    "duration": 592,
    "start_time": "2024-10-20T15:23:35.739Z"
   },
   {
    "duration": 725,
    "start_time": "2024-10-20T15:23:58.038Z"
   },
   {
    "duration": 684,
    "start_time": "2024-10-20T15:24:15.815Z"
   },
   {
    "duration": 600,
    "start_time": "2024-10-20T15:24:29.565Z"
   },
   {
    "duration": 767,
    "start_time": "2024-10-20T15:24:40.133Z"
   },
   {
    "duration": 639,
    "start_time": "2024-10-20T15:25:13.292Z"
   },
   {
    "duration": 871,
    "start_time": "2024-10-20T15:25:20.123Z"
   },
   {
    "duration": 864,
    "start_time": "2024-10-20T15:25:59.531Z"
   },
   {
    "duration": 863,
    "start_time": "2024-10-20T15:26:58.718Z"
   },
   {
    "duration": 610,
    "start_time": "2024-10-20T15:27:25.475Z"
   },
   {
    "duration": 597,
    "start_time": "2024-10-20T15:27:33.752Z"
   },
   {
    "duration": 602,
    "start_time": "2024-10-20T15:27:44.295Z"
   },
   {
    "duration": 644,
    "start_time": "2024-10-20T15:27:49.789Z"
   },
   {
    "duration": 620,
    "start_time": "2024-10-20T15:28:00.492Z"
   },
   {
    "duration": 638,
    "start_time": "2024-10-20T15:28:04.469Z"
   },
   {
    "duration": 1514,
    "start_time": "2024-10-20T15:29:22.869Z"
   },
   {
    "duration": 101,
    "start_time": "2024-10-20T15:29:24.386Z"
   },
   {
    "duration": 37,
    "start_time": "2024-10-20T15:29:24.489Z"
   },
   {
    "duration": 128,
    "start_time": "2024-10-20T15:29:24.527Z"
   },
   {
    "duration": 117,
    "start_time": "2024-10-20T15:29:24.657Z"
   },
   {
    "duration": 26,
    "start_time": "2024-10-20T15:29:24.776Z"
   },
   {
    "duration": 12,
    "start_time": "2024-10-20T15:29:24.804Z"
   },
   {
    "duration": 4,
    "start_time": "2024-10-20T15:29:24.818Z"
   },
   {
    "duration": 19,
    "start_time": "2024-10-20T15:29:24.843Z"
   },
   {
    "duration": 8,
    "start_time": "2024-10-20T15:29:24.864Z"
   },
   {
    "duration": 4,
    "start_time": "2024-10-20T15:29:24.874Z"
   },
   {
    "duration": 4,
    "start_time": "2024-10-20T15:29:24.880Z"
   },
   {
    "duration": 2,
    "start_time": "2024-10-20T15:29:24.886Z"
   },
   {
    "duration": 4,
    "start_time": "2024-10-20T15:29:24.892Z"
   },
   {
    "duration": 506,
    "start_time": "2024-10-20T15:29:24.897Z"
   },
   {
    "duration": 7,
    "start_time": "2024-10-20T15:29:25.404Z"
   },
   {
    "duration": 10,
    "start_time": "2024-10-20T15:29:25.413Z"
   },
   {
    "duration": 28,
    "start_time": "2024-10-20T15:29:25.426Z"
   },
   {
    "duration": 12,
    "start_time": "2024-10-20T15:29:25.457Z"
   },
   {
    "duration": 10,
    "start_time": "2024-10-20T15:29:25.470Z"
   },
   {
    "duration": 10,
    "start_time": "2024-10-20T15:29:25.482Z"
   },
   {
    "duration": 19,
    "start_time": "2024-10-20T15:29:25.494Z"
   },
   {
    "duration": 10,
    "start_time": "2024-10-20T15:29:25.543Z"
   },
   {
    "duration": 7,
    "start_time": "2024-10-20T15:29:25.554Z"
   },
   {
    "duration": 32,
    "start_time": "2024-10-20T15:29:25.562Z"
   },
   {
    "duration": 12,
    "start_time": "2024-10-20T15:29:25.596Z"
   },
   {
    "duration": 89,
    "start_time": "2024-10-20T15:29:25.610Z"
   },
   {
    "duration": 53,
    "start_time": "2024-10-20T15:29:25.700Z"
   },
   {
    "duration": 42,
    "start_time": "2024-10-20T15:29:25.755Z"
   },
   {
    "duration": 27,
    "start_time": "2024-10-20T15:29:25.799Z"
   },
   {
    "duration": 169,
    "start_time": "2024-10-20T15:29:25.842Z"
   },
   {
    "duration": 144,
    "start_time": "2024-10-20T15:29:26.012Z"
   },
   {
    "duration": 10,
    "start_time": "2024-10-20T15:29:26.158Z"
   },
   {
    "duration": 178,
    "start_time": "2024-10-20T15:29:26.169Z"
   },
   {
    "duration": 16,
    "start_time": "2024-10-20T15:29:26.349Z"
   },
   {
    "duration": 7,
    "start_time": "2024-10-20T15:29:26.367Z"
   },
   {
    "duration": 254,
    "start_time": "2024-10-20T15:29:26.376Z"
   },
   {
    "duration": 184,
    "start_time": "2024-10-20T15:29:26.632Z"
   },
   {
    "duration": 6,
    "start_time": "2024-10-20T15:29:26.818Z"
   },
   {
    "duration": 18,
    "start_time": "2024-10-20T15:29:26.826Z"
   },
   {
    "duration": 597,
    "start_time": "2024-10-20T15:29:26.849Z"
   },
   {
    "duration": 683,
    "start_time": "2024-10-20T15:31:30.455Z"
   },
   {
    "duration": 1685,
    "start_time": "2024-10-20T15:31:43.178Z"
   },
   {
    "duration": 656,
    "start_time": "2024-10-20T15:32:11.800Z"
   },
   {
    "duration": 1091,
    "start_time": "2024-10-20T15:32:36.891Z"
   },
   {
    "duration": 560,
    "start_time": "2024-10-20T15:32:58.085Z"
   },
   {
    "duration": 5,
    "start_time": "2024-10-20T15:33:28.686Z"
   },
   {
    "duration": 539,
    "start_time": "2024-10-20T15:48:39.960Z"
   },
   {
    "duration": 34,
    "start_time": "2024-10-20T16:06:30.619Z"
   },
   {
    "duration": 85,
    "start_time": "2024-10-20T16:10:41.764Z"
   },
   {
    "duration": 87,
    "start_time": "2024-10-20T16:12:57.294Z"
   },
   {
    "duration": 86,
    "start_time": "2024-10-20T16:16:37.421Z"
   },
   {
    "duration": 97,
    "start_time": "2024-10-20T16:26:10.131Z"
   },
   {
    "duration": 93,
    "start_time": "2024-10-20T16:31:10.578Z"
   },
   {
    "duration": 10,
    "start_time": "2024-10-20T16:43:07.141Z"
   },
   {
    "duration": 92,
    "start_time": "2024-10-20T16:43:10.773Z"
   },
   {
    "duration": 8,
    "start_time": "2024-10-20T16:49:32.445Z"
   },
   {
    "duration": 6,
    "start_time": "2024-10-20T16:50:24.725Z"
   },
   {
    "duration": 977,
    "start_time": "2024-10-20T16:52:20.295Z"
   },
   {
    "duration": 16,
    "start_time": "2024-10-20T16:54:40.993Z"
   },
   {
    "duration": 4,
    "start_time": "2024-10-20T16:55:18.208Z"
   },
   {
    "duration": 3,
    "start_time": "2024-10-20T17:18:42.916Z"
   },
   {
    "duration": 221,
    "start_time": "2024-10-20T17:18:54.187Z"
   },
   {
    "duration": 1362,
    "start_time": "2024-10-20T17:19:22.736Z"
   },
   {
    "duration": 101,
    "start_time": "2024-10-20T17:19:24.100Z"
   },
   {
    "duration": 43,
    "start_time": "2024-10-20T17:19:24.203Z"
   },
   {
    "duration": 121,
    "start_time": "2024-10-20T17:19:24.248Z"
   },
   {
    "duration": 112,
    "start_time": "2024-10-20T17:19:24.372Z"
   },
   {
    "duration": 27,
    "start_time": "2024-10-20T17:19:24.486Z"
   },
   {
    "duration": 32,
    "start_time": "2024-10-20T17:19:24.515Z"
   },
   {
    "duration": 5,
    "start_time": "2024-10-20T17:19:24.548Z"
   },
   {
    "duration": 25,
    "start_time": "2024-10-20T17:19:24.555Z"
   },
   {
    "duration": 9,
    "start_time": "2024-10-20T17:19:24.581Z"
   },
   {
    "duration": 4,
    "start_time": "2024-10-20T17:19:24.592Z"
   },
   {
    "duration": 4,
    "start_time": "2024-10-20T17:19:24.598Z"
   },
   {
    "duration": 2,
    "start_time": "2024-10-20T17:19:24.603Z"
   },
   {
    "duration": 35,
    "start_time": "2024-10-20T17:19:24.609Z"
   },
   {
    "duration": 455,
    "start_time": "2024-10-20T17:19:24.646Z"
   },
   {
    "duration": 7,
    "start_time": "2024-10-20T17:19:25.103Z"
   },
   {
    "duration": 9,
    "start_time": "2024-10-20T17:19:25.112Z"
   },
   {
    "duration": 30,
    "start_time": "2024-10-20T17:19:25.123Z"
   },
   {
    "duration": 11,
    "start_time": "2024-10-20T17:19:25.155Z"
   },
   {
    "duration": 10,
    "start_time": "2024-10-20T17:19:25.168Z"
   },
   {
    "duration": 11,
    "start_time": "2024-10-20T17:19:25.180Z"
   },
   {
    "duration": 19,
    "start_time": "2024-10-20T17:19:25.194Z"
   },
   {
    "duration": 9,
    "start_time": "2024-10-20T17:19:25.242Z"
   },
   {
    "duration": 6,
    "start_time": "2024-10-20T17:19:25.253Z"
   },
   {
    "duration": 31,
    "start_time": "2024-10-20T17:19:25.261Z"
   },
   {
    "duration": 12,
    "start_time": "2024-10-20T17:19:25.293Z"
   },
   {
    "duration": 90,
    "start_time": "2024-10-20T17:19:25.307Z"
   },
   {
    "duration": 51,
    "start_time": "2024-10-20T17:19:25.399Z"
   },
   {
    "duration": 38,
    "start_time": "2024-10-20T17:19:25.452Z"
   },
   {
    "duration": 25,
    "start_time": "2024-10-20T17:19:25.492Z"
   },
   {
    "duration": 188,
    "start_time": "2024-10-20T17:19:25.520Z"
   },
   {
    "duration": 141,
    "start_time": "2024-10-20T17:19:25.710Z"
   },
   {
    "duration": 10,
    "start_time": "2024-10-20T17:19:25.853Z"
   },
   {
    "duration": 170,
    "start_time": "2024-10-20T17:19:25.865Z"
   },
   {
    "duration": 21,
    "start_time": "2024-10-20T17:19:26.036Z"
   },
   {
    "duration": 8,
    "start_time": "2024-10-20T17:19:26.059Z"
   },
   {
    "duration": 247,
    "start_time": "2024-10-20T17:19:26.069Z"
   },
   {
    "duration": 187,
    "start_time": "2024-10-20T17:19:26.317Z"
   },
   {
    "duration": 6,
    "start_time": "2024-10-20T17:19:26.506Z"
   },
   {
    "duration": 117,
    "start_time": "2024-10-20T17:19:26.514Z"
   },
   {
    "duration": 7,
    "start_time": "2024-10-20T17:19:26.636Z"
   },
   {
    "duration": 6,
    "start_time": "2024-10-20T17:19:26.645Z"
   },
   {
    "duration": 520,
    "start_time": "2024-10-20T17:19:26.653Z"
   },
   {
    "duration": 62,
    "start_time": "2024-10-20T17:20:22.091Z"
   },
   {
    "duration": 27,
    "start_time": "2024-10-20T17:20:35.852Z"
   },
   {
    "duration": 30,
    "start_time": "2024-10-20T17:20:40.577Z"
   },
   {
    "duration": 77,
    "start_time": "2024-10-20T17:21:13.964Z"
   },
   {
    "duration": 18,
    "start_time": "2024-10-20T17:21:30.128Z"
   },
   {
    "duration": 23,
    "start_time": "2024-10-20T17:21:35.582Z"
   },
   {
    "duration": 34,
    "start_time": "2024-10-20T17:22:59.003Z"
   },
   {
    "duration": 273,
    "start_time": "2024-10-20T17:24:53.350Z"
   },
   {
    "duration": 21,
    "start_time": "2024-10-20T17:25:43.533Z"
   },
   {
    "duration": 268,
    "start_time": "2024-10-20T17:25:49.348Z"
   },
   {
    "duration": 3,
    "start_time": "2024-10-20T17:27:04.614Z"
   },
   {
    "duration": 3,
    "start_time": "2024-10-20T17:27:14.555Z"
   },
   {
    "duration": 4,
    "start_time": "2024-10-20T17:27:19.400Z"
   },
   {
    "duration": 30,
    "start_time": "2024-10-20T17:27:24.861Z"
   },
   {
    "duration": 145,
    "start_time": "2024-10-20T17:29:52.374Z"
   },
   {
    "duration": 119,
    "start_time": "2024-10-20T17:30:16.561Z"
   },
   {
    "duration": 7398,
    "start_time": "2024-10-20T17:30:41.925Z"
   },
   {
    "duration": 39,
    "start_time": "2024-10-20T17:31:46.606Z"
   },
   {
    "duration": 101,
    "start_time": "2024-10-20T17:32:00.748Z"
   },
   {
    "duration": 37,
    "start_time": "2024-10-20T17:32:15.886Z"
   },
   {
    "duration": 6791,
    "start_time": "2024-10-20T17:32:23.974Z"
   },
   {
    "duration": 38,
    "start_time": "2024-10-20T17:32:33.780Z"
   },
   {
    "duration": 6918,
    "start_time": "2024-10-20T17:32:51.857Z"
   },
   {
    "duration": 7078,
    "start_time": "2024-10-20T17:33:31.085Z"
   },
   {
    "duration": 6954,
    "start_time": "2024-10-20T17:33:43.310Z"
   },
   {
    "duration": 7421,
    "start_time": "2024-10-20T17:34:06.106Z"
   },
   {
    "duration": 6895,
    "start_time": "2024-10-20T17:34:25.407Z"
   },
   {
    "duration": 154,
    "start_time": "2024-10-20T19:10:06.594Z"
   },
   {
    "duration": 3100,
    "start_time": "2024-10-20T19:10:18.463Z"
   },
   {
    "duration": 98,
    "start_time": "2024-10-20T19:10:21.565Z"
   },
   {
    "duration": 39,
    "start_time": "2024-10-20T19:10:21.665Z"
   },
   {
    "duration": 125,
    "start_time": "2024-10-20T19:10:21.707Z"
   },
   {
    "duration": 109,
    "start_time": "2024-10-20T19:10:21.834Z"
   },
   {
    "duration": 27,
    "start_time": "2024-10-20T19:10:21.944Z"
   },
   {
    "duration": 24,
    "start_time": "2024-10-20T19:10:21.972Z"
   },
   {
    "duration": 5,
    "start_time": "2024-10-20T19:10:21.998Z"
   },
   {
    "duration": 20,
    "start_time": "2024-10-20T19:10:22.004Z"
   },
   {
    "duration": 8,
    "start_time": "2024-10-20T19:10:22.027Z"
   },
   {
    "duration": 4,
    "start_time": "2024-10-20T19:10:22.036Z"
   },
   {
    "duration": 3,
    "start_time": "2024-10-20T19:10:22.042Z"
   },
   {
    "duration": 2,
    "start_time": "2024-10-20T19:10:22.047Z"
   },
   {
    "duration": 39,
    "start_time": "2024-10-20T19:10:22.051Z"
   },
   {
    "duration": 469,
    "start_time": "2024-10-20T19:10:22.091Z"
   },
   {
    "duration": 9,
    "start_time": "2024-10-20T19:10:22.562Z"
   },
   {
    "duration": 18,
    "start_time": "2024-10-20T19:10:22.573Z"
   },
   {
    "duration": 12,
    "start_time": "2024-10-20T19:10:22.593Z"
   },
   {
    "duration": 12,
    "start_time": "2024-10-20T19:10:22.607Z"
   },
   {
    "duration": 10,
    "start_time": "2024-10-20T19:10:22.620Z"
   },
   {
    "duration": 10,
    "start_time": "2024-10-20T19:10:22.631Z"
   },
   {
    "duration": 51,
    "start_time": "2024-10-20T19:10:22.642Z"
   },
   {
    "duration": 10,
    "start_time": "2024-10-20T19:10:22.695Z"
   },
   {
    "duration": 6,
    "start_time": "2024-10-20T19:10:22.707Z"
   },
   {
    "duration": 30,
    "start_time": "2024-10-20T19:10:22.714Z"
   },
   {
    "duration": 41,
    "start_time": "2024-10-20T19:10:22.746Z"
   },
   {
    "duration": 64,
    "start_time": "2024-10-20T19:10:22.788Z"
   },
   {
    "duration": 51,
    "start_time": "2024-10-20T19:10:22.857Z"
   },
   {
    "duration": 41,
    "start_time": "2024-10-20T19:10:22.910Z"
   },
   {
    "duration": 39,
    "start_time": "2024-10-20T19:10:22.953Z"
   },
   {
    "duration": 186,
    "start_time": "2024-10-20T19:10:22.994Z"
   },
   {
    "duration": 143,
    "start_time": "2024-10-20T19:10:23.182Z"
   },
   {
    "duration": 9,
    "start_time": "2024-10-20T19:10:23.327Z"
   },
   {
    "duration": 176,
    "start_time": "2024-10-20T19:10:23.338Z"
   },
   {
    "duration": 15,
    "start_time": "2024-10-20T19:10:23.516Z"
   },
   {
    "duration": 6,
    "start_time": "2024-10-20T19:10:23.533Z"
   },
   {
    "duration": 295,
    "start_time": "2024-10-20T19:10:23.541Z"
   },
   {
    "duration": 196,
    "start_time": "2024-10-20T19:10:23.838Z"
   },
   {
    "duration": 7,
    "start_time": "2024-10-20T19:10:24.036Z"
   },
   {
    "duration": 108,
    "start_time": "2024-10-20T19:10:24.044Z"
   },
   {
    "duration": 107,
    "start_time": "2024-10-20T19:10:24.153Z"
   },
   {
    "duration": 0,
    "start_time": "2024-10-20T19:10:24.261Z"
   },
   {
    "duration": 0,
    "start_time": "2024-10-20T19:10:24.263Z"
   },
   {
    "duration": 5,
    "start_time": "2024-10-20T19:10:35.137Z"
   },
   {
    "duration": 9,
    "start_time": "2024-10-20T19:10:47.466Z"
   },
   {
    "duration": 14,
    "start_time": "2024-10-20T19:11:01.152Z"
   },
   {
    "duration": 14,
    "start_time": "2024-10-20T19:11:09.059Z"
   },
   {
    "duration": 10,
    "start_time": "2024-10-20T19:11:15.859Z"
   },
   {
    "duration": 46,
    "start_time": "2024-10-20T19:11:33.042Z"
   },
   {
    "duration": 49,
    "start_time": "2024-10-20T19:12:20.910Z"
   },
   {
    "duration": 14,
    "start_time": "2024-10-20T19:12:51.744Z"
   },
   {
    "duration": 40,
    "start_time": "2024-10-20T19:13:00.161Z"
   },
   {
    "duration": 7,
    "start_time": "2024-10-20T19:20:53.319Z"
   },
   {
    "duration": 44,
    "start_time": "2024-10-20T19:22:03.484Z"
   },
   {
    "duration": 49,
    "start_time": "2024-10-20T19:24:41.322Z"
   },
   {
    "duration": 52,
    "start_time": "2024-10-20T19:24:46.028Z"
   },
   {
    "duration": 50,
    "start_time": "2024-10-20T19:24:51.132Z"
   },
   {
    "duration": 47,
    "start_time": "2024-10-20T19:24:54.031Z"
   },
   {
    "duration": 235,
    "start_time": "2024-10-20T19:25:35.923Z"
   },
   {
    "duration": 237,
    "start_time": "2024-10-20T19:25:43.588Z"
   },
   {
    "duration": 225,
    "start_time": "2024-10-20T19:25:50.511Z"
   },
   {
    "duration": 246,
    "start_time": "2024-10-20T19:27:00.848Z"
   },
   {
    "duration": 243,
    "start_time": "2024-10-20T19:27:08.258Z"
   },
   {
    "duration": 360,
    "start_time": "2024-10-20T19:27:21.745Z"
   },
   {
    "duration": 37,
    "start_time": "2024-10-20T19:28:17.718Z"
   },
   {
    "duration": 37,
    "start_time": "2024-10-20T19:29:03.388Z"
   },
   {
    "duration": 41,
    "start_time": "2024-10-20T19:29:19.200Z"
   },
   {
    "duration": 36,
    "start_time": "2024-10-20T19:29:25.983Z"
   },
   {
    "duration": 37,
    "start_time": "2024-10-20T19:29:42.672Z"
   },
   {
    "duration": 40,
    "start_time": "2024-10-20T19:29:49.146Z"
   },
   {
    "duration": 37,
    "start_time": "2024-10-20T19:30:01.143Z"
   },
   {
    "duration": 49,
    "start_time": "2024-10-20T19:30:08.269Z"
   },
   {
    "duration": 35,
    "start_time": "2024-10-20T19:32:13.918Z"
   },
   {
    "duration": 41,
    "start_time": "2024-10-20T19:32:31.406Z"
   },
   {
    "duration": 490,
    "start_time": "2024-10-20T19:34:32.774Z"
   },
   {
    "duration": 492,
    "start_time": "2024-10-20T19:35:31.286Z"
   },
   {
    "duration": 525,
    "start_time": "2024-10-20T19:36:14.890Z"
   },
   {
    "duration": 457,
    "start_time": "2024-10-20T19:36:37.130Z"
   },
   {
    "duration": 478,
    "start_time": "2024-10-20T19:36:48.097Z"
   },
   {
    "duration": 471,
    "start_time": "2024-10-20T19:36:56.810Z"
   },
   {
    "duration": 91,
    "start_time": "2024-10-20T19:37:43.840Z"
   },
   {
    "duration": 579,
    "start_time": "2024-10-20T19:38:27.481Z"
   },
   {
    "duration": 7,
    "start_time": "2024-10-20T19:39:14.155Z"
   },
   {
    "duration": 133,
    "start_time": "2024-10-20T19:41:11.323Z"
   },
   {
    "duration": 137,
    "start_time": "2024-10-20T19:41:40.428Z"
   },
   {
    "duration": 536,
    "start_time": "2024-10-20T19:49:02.468Z"
   },
   {
    "duration": 234,
    "start_time": "2024-10-20T19:50:34.872Z"
   },
   {
    "duration": 256,
    "start_time": "2024-10-20T19:50:37.726Z"
   },
   {
    "duration": 886,
    "start_time": "2024-10-20T20:03:21.904Z"
   },
   {
    "duration": 250,
    "start_time": "2024-10-20T20:05:51.993Z"
   },
   {
    "duration": 247,
    "start_time": "2024-10-20T20:05:58.741Z"
   },
   {
    "duration": 256,
    "start_time": "2024-10-20T20:07:08.908Z"
   },
   {
    "duration": 255,
    "start_time": "2024-10-20T20:07:20.271Z"
   },
   {
    "duration": 263,
    "start_time": "2024-10-20T20:07:31.293Z"
   },
   {
    "duration": 264,
    "start_time": "2024-10-20T20:07:45.826Z"
   },
   {
    "duration": 251,
    "start_time": "2024-10-20T20:08:16.921Z"
   },
   {
    "duration": 5,
    "start_time": "2024-10-20T20:09:36.745Z"
   },
   {
    "duration": 301,
    "start_time": "2024-10-20T20:09:43.138Z"
   },
   {
    "duration": 253,
    "start_time": "2024-10-20T20:09:53.961Z"
   },
   {
    "duration": 257,
    "start_time": "2024-10-20T20:10:23.667Z"
   },
   {
    "duration": 250,
    "start_time": "2024-10-20T20:10:35.147Z"
   },
   {
    "duration": 257,
    "start_time": "2024-10-20T20:11:48.887Z"
   },
   {
    "duration": 5,
    "start_time": "2024-10-20T20:12:49.246Z"
   },
   {
    "duration": 255,
    "start_time": "2024-10-20T20:12:58.906Z"
   },
   {
    "duration": 5,
    "start_time": "2024-10-20T20:14:59.647Z"
   },
   {
    "duration": 257,
    "start_time": "2024-10-20T20:17:28.913Z"
   },
   {
    "duration": 258,
    "start_time": "2024-10-20T20:18:01.312Z"
   },
   {
    "duration": 257,
    "start_time": "2024-10-20T20:18:13.390Z"
   },
   {
    "duration": 256,
    "start_time": "2024-10-20T20:19:12.831Z"
   },
   {
    "duration": 254,
    "start_time": "2024-10-20T20:19:24.833Z"
   },
   {
    "duration": 249,
    "start_time": "2024-10-20T20:19:40.125Z"
   },
   {
    "duration": 543,
    "start_time": "2024-10-20T20:21:33.003Z"
   },
   {
    "duration": 290,
    "start_time": "2024-10-20T20:21:48.885Z"
   },
   {
    "duration": 1190,
    "start_time": "2024-10-20T20:49:41.846Z"
   },
   {
    "duration": 1226,
    "start_time": "2024-10-20T20:50:34.591Z"
   },
   {
    "duration": 1193,
    "start_time": "2024-10-20T20:51:11.486Z"
   },
   {
    "duration": 8,
    "start_time": "2024-10-20T20:51:48.416Z"
   },
   {
    "duration": 4,
    "start_time": "2024-10-20T20:53:39.326Z"
   },
   {
    "duration": 1466,
    "start_time": "2024-10-20T21:08:06.675Z"
   },
   {
    "duration": 97,
    "start_time": "2024-10-20T21:08:08.144Z"
   },
   {
    "duration": 35,
    "start_time": "2024-10-20T21:08:08.242Z"
   },
   {
    "duration": 127,
    "start_time": "2024-10-20T21:08:08.279Z"
   },
   {
    "duration": 106,
    "start_time": "2024-10-20T21:08:08.407Z"
   },
   {
    "duration": 28,
    "start_time": "2024-10-20T21:08:08.515Z"
   },
   {
    "duration": 12,
    "start_time": "2024-10-20T21:08:08.545Z"
   },
   {
    "duration": 3,
    "start_time": "2024-10-20T21:08:08.560Z"
   },
   {
    "duration": 42,
    "start_time": "2024-10-20T21:08:08.565Z"
   },
   {
    "duration": 9,
    "start_time": "2024-10-20T21:08:08.610Z"
   },
   {
    "duration": 4,
    "start_time": "2024-10-20T21:08:08.621Z"
   },
   {
    "duration": 5,
    "start_time": "2024-10-20T21:08:08.627Z"
   },
   {
    "duration": 5,
    "start_time": "2024-10-20T21:08:08.634Z"
   },
   {
    "duration": 4,
    "start_time": "2024-10-20T21:08:08.642Z"
   },
   {
    "duration": 486,
    "start_time": "2024-10-20T21:08:08.647Z"
   },
   {
    "duration": 8,
    "start_time": "2024-10-20T21:08:09.135Z"
   },
   {
    "duration": 9,
    "start_time": "2024-10-20T21:08:09.146Z"
   },
   {
    "duration": 12,
    "start_time": "2024-10-20T21:08:09.157Z"
   },
   {
    "duration": 12,
    "start_time": "2024-10-20T21:08:09.171Z"
   },
   {
    "duration": 11,
    "start_time": "2024-10-20T21:08:09.206Z"
   },
   {
    "duration": 11,
    "start_time": "2024-10-20T21:08:09.219Z"
   },
   {
    "duration": 18,
    "start_time": "2024-10-20T21:08:09.232Z"
   },
   {
    "duration": 9,
    "start_time": "2024-10-20T21:08:09.252Z"
   },
   {
    "duration": 5,
    "start_time": "2024-10-20T21:08:09.263Z"
   },
   {
    "duration": 64,
    "start_time": "2024-10-20T21:08:09.270Z"
   },
   {
    "duration": 12,
    "start_time": "2024-10-20T21:08:09.336Z"
   },
   {
    "duration": 76,
    "start_time": "2024-10-20T21:08:09.350Z"
   },
   {
    "duration": 36,
    "start_time": "2024-10-20T21:08:09.429Z"
   },
   {
    "duration": 51,
    "start_time": "2024-10-20T21:08:09.467Z"
   },
   {
    "duration": 26,
    "start_time": "2024-10-20T21:08:09.519Z"
   },
   {
    "duration": 175,
    "start_time": "2024-10-20T21:08:09.547Z"
   },
   {
    "duration": 136,
    "start_time": "2024-10-20T21:08:09.724Z"
   },
   {
    "duration": 10,
    "start_time": "2024-10-20T21:08:09.862Z"
   },
   {
    "duration": 171,
    "start_time": "2024-10-20T21:08:09.873Z"
   },
   {
    "duration": 15,
    "start_time": "2024-10-20T21:08:10.046Z"
   },
   {
    "duration": 8,
    "start_time": "2024-10-20T21:08:10.062Z"
   },
   {
    "duration": 253,
    "start_time": "2024-10-20T21:08:10.071Z"
   },
   {
    "duration": 185,
    "start_time": "2024-10-20T21:08:10.325Z"
   },
   {
    "duration": 6,
    "start_time": "2024-10-20T21:08:10.512Z"
   },
   {
    "duration": 107,
    "start_time": "2024-10-20T21:08:10.520Z"
   },
   {
    "duration": 254,
    "start_time": "2024-10-20T21:08:10.629Z"
   },
   {
    "duration": 238,
    "start_time": "2024-10-20T21:08:10.884Z"
   },
   {
    "duration": 1257,
    "start_time": "2024-10-20T21:08:11.124Z"
   },
   {
    "duration": 11,
    "start_time": "2024-10-20T21:08:12.383Z"
   },
   {
    "duration": 157,
    "start_time": "2024-10-20T22:09:59.196Z"
   },
   {
    "duration": 2099,
    "start_time": "2024-10-20T22:10:06.633Z"
   },
   {
    "duration": 993,
    "start_time": "2024-10-20T22:10:08.917Z"
   },
   {
    "duration": 12,
    "start_time": "2024-10-20T22:10:12.973Z"
   },
   {
    "duration": 16,
    "start_time": "2024-10-20T22:16:10.588Z"
   },
   {
    "duration": 19,
    "start_time": "2024-10-20T22:18:47.297Z"
   },
   {
    "duration": 23,
    "start_time": "2024-10-20T22:22:28.865Z"
   },
   {
    "duration": 27,
    "start_time": "2024-10-20T22:23:04.312Z"
   },
   {
    "duration": 223,
    "start_time": "2024-10-20T22:45:58.929Z"
   },
   {
    "duration": 155,
    "start_time": "2024-10-20T22:52:45.427Z"
   },
   {
    "duration": 2146,
    "start_time": "2024-10-21T09:35:43.271Z"
   },
   {
    "duration": 1011,
    "start_time": "2024-10-21T09:35:45.419Z"
   },
   {
    "duration": 37,
    "start_time": "2024-10-21T09:35:46.432Z"
   },
   {
    "duration": 114,
    "start_time": "2024-10-21T09:35:46.471Z"
   },
   {
    "duration": 36,
    "start_time": "2024-10-21T09:35:46.587Z"
   },
   {
    "duration": 134,
    "start_time": "2024-10-21T09:35:46.625Z"
   },
   {
    "duration": 117,
    "start_time": "2024-10-21T09:35:46.762Z"
   },
   {
    "duration": 26,
    "start_time": "2024-10-21T09:35:46.881Z"
   },
   {
    "duration": 11,
    "start_time": "2024-10-21T09:35:46.910Z"
   },
   {
    "duration": 4,
    "start_time": "2024-10-21T09:35:46.923Z"
   },
   {
    "duration": 45,
    "start_time": "2024-10-21T09:35:46.928Z"
   },
   {
    "duration": 10,
    "start_time": "2024-10-21T09:35:46.977Z"
   },
   {
    "duration": 4,
    "start_time": "2024-10-21T09:35:46.989Z"
   },
   {
    "duration": 4,
    "start_time": "2024-10-21T09:35:46.997Z"
   },
   {
    "duration": 4,
    "start_time": "2024-10-21T09:35:47.003Z"
   },
   {
    "duration": 3,
    "start_time": "2024-10-21T09:35:47.009Z"
   },
   {
    "duration": 520,
    "start_time": "2024-10-21T09:35:47.014Z"
   },
   {
    "duration": 7,
    "start_time": "2024-10-21T09:35:47.536Z"
   },
   {
    "duration": 26,
    "start_time": "2024-10-21T09:35:47.545Z"
   },
   {
    "duration": 12,
    "start_time": "2024-10-21T09:35:47.573Z"
   },
   {
    "duration": 11,
    "start_time": "2024-10-21T09:35:47.587Z"
   },
   {
    "duration": 8,
    "start_time": "2024-10-21T09:35:47.600Z"
   },
   {
    "duration": 9,
    "start_time": "2024-10-21T09:35:47.610Z"
   },
   {
    "duration": 51,
    "start_time": "2024-10-21T09:35:47.620Z"
   },
   {
    "duration": 10,
    "start_time": "2024-10-21T09:35:47.673Z"
   },
   {
    "duration": 7,
    "start_time": "2024-10-21T09:35:47.684Z"
   },
   {
    "duration": 32,
    "start_time": "2024-10-21T09:35:47.692Z"
   },
   {
    "duration": 13,
    "start_time": "2024-10-21T09:35:47.726Z"
   },
   {
    "duration": 88,
    "start_time": "2024-10-21T09:35:47.741Z"
   },
   {
    "duration": 47,
    "start_time": "2024-10-21T09:35:47.831Z"
   },
   {
    "duration": 38,
    "start_time": "2024-10-21T09:35:47.881Z"
   },
   {
    "duration": 26,
    "start_time": "2024-10-21T09:35:47.921Z"
   },
   {
    "duration": 187,
    "start_time": "2024-10-21T09:35:47.949Z"
   },
   {
    "duration": 144,
    "start_time": "2024-10-21T09:35:48.140Z"
   },
   {
    "duration": 9,
    "start_time": "2024-10-21T09:35:48.286Z"
   },
   {
    "duration": 167,
    "start_time": "2024-10-21T09:35:48.297Z"
   },
   {
    "duration": 15,
    "start_time": "2024-10-21T09:35:48.466Z"
   },
   {
    "duration": 9,
    "start_time": "2024-10-21T09:35:48.482Z"
   },
   {
    "duration": 297,
    "start_time": "2024-10-21T09:35:48.492Z"
   },
   {
    "duration": 185,
    "start_time": "2024-10-21T09:35:48.791Z"
   },
   {
    "duration": 6,
    "start_time": "2024-10-21T09:35:48.980Z"
   },
   {
    "duration": 112,
    "start_time": "2024-10-21T09:35:48.988Z"
   },
   {
    "duration": 234,
    "start_time": "2024-10-21T09:35:49.101Z"
   },
   {
    "duration": 238,
    "start_time": "2024-10-21T09:35:49.336Z"
   },
   {
    "duration": 1281,
    "start_time": "2024-10-21T09:35:49.576Z"
   },
   {
    "duration": 11,
    "start_time": "2024-10-21T09:35:50.860Z"
   },
   {
    "duration": 157,
    "start_time": "2024-10-21T12:19:41.530Z"
   },
   {
    "duration": 2188,
    "start_time": "2024-10-21T12:19:51.877Z"
   },
   {
    "duration": 1082,
    "start_time": "2024-10-21T12:19:54.068Z"
   },
   {
    "duration": 32,
    "start_time": "2024-10-21T12:19:55.153Z"
   },
   {
    "duration": 123,
    "start_time": "2024-10-21T12:19:55.188Z"
   },
   {
    "duration": 40,
    "start_time": "2024-10-21T12:19:55.312Z"
   },
   {
    "duration": 172,
    "start_time": "2024-10-21T12:19:55.354Z"
   },
   {
    "duration": 119,
    "start_time": "2024-10-21T12:19:55.528Z"
   },
   {
    "duration": 31,
    "start_time": "2024-10-21T12:19:55.649Z"
   },
   {
    "duration": 27,
    "start_time": "2024-10-21T12:19:55.682Z"
   },
   {
    "duration": 5,
    "start_time": "2024-10-21T12:19:55.713Z"
   },
   {
    "duration": 20,
    "start_time": "2024-10-21T12:19:55.719Z"
   },
   {
    "duration": 7,
    "start_time": "2024-10-21T12:19:55.741Z"
   },
   {
    "duration": 4,
    "start_time": "2024-10-21T12:19:55.750Z"
   },
   {
    "duration": 4,
    "start_time": "2024-10-21T12:19:55.756Z"
   },
   {
    "duration": 6,
    "start_time": "2024-10-21T12:19:55.762Z"
   },
   {
    "duration": 40,
    "start_time": "2024-10-21T12:19:55.770Z"
   },
   {
    "duration": 501,
    "start_time": "2024-10-21T12:19:55.813Z"
   },
   {
    "duration": 8,
    "start_time": "2024-10-21T12:19:56.316Z"
   },
   {
    "duration": 10,
    "start_time": "2024-10-21T12:19:56.326Z"
   },
   {
    "duration": 13,
    "start_time": "2024-10-21T12:19:56.337Z"
   },
   {
    "duration": 13,
    "start_time": "2024-10-21T12:19:56.353Z"
   },
   {
    "duration": 11,
    "start_time": "2024-10-21T12:19:56.368Z"
   },
   {
    "duration": 248,
    "start_time": "2024-10-21T12:19:56.410Z"
   },
   {
    "duration": 0,
    "start_time": "2024-10-21T12:19:56.662Z"
   },
   {
    "duration": 0,
    "start_time": "2024-10-21T12:19:56.663Z"
   },
   {
    "duration": 0,
    "start_time": "2024-10-21T12:19:56.666Z"
   },
   {
    "duration": 0,
    "start_time": "2024-10-21T12:19:56.673Z"
   },
   {
    "duration": 0,
    "start_time": "2024-10-21T12:19:56.674Z"
   },
   {
    "duration": 0,
    "start_time": "2024-10-21T12:19:56.675Z"
   },
   {
    "duration": 0,
    "start_time": "2024-10-21T12:19:56.677Z"
   },
   {
    "duration": 0,
    "start_time": "2024-10-21T12:19:56.679Z"
   },
   {
    "duration": 0,
    "start_time": "2024-10-21T12:19:56.680Z"
   },
   {
    "duration": 0,
    "start_time": "2024-10-21T12:19:56.681Z"
   },
   {
    "duration": 0,
    "start_time": "2024-10-21T12:19:56.683Z"
   },
   {
    "duration": 0,
    "start_time": "2024-10-21T12:19:56.684Z"
   },
   {
    "duration": 0,
    "start_time": "2024-10-21T12:19:56.686Z"
   },
   {
    "duration": 0,
    "start_time": "2024-10-21T12:19:56.686Z"
   },
   {
    "duration": 0,
    "start_time": "2024-10-21T12:19:56.687Z"
   },
   {
    "duration": 0,
    "start_time": "2024-10-21T12:19:56.708Z"
   },
   {
    "duration": 0,
    "start_time": "2024-10-21T12:19:56.710Z"
   },
   {
    "duration": 0,
    "start_time": "2024-10-21T12:19:56.712Z"
   },
   {
    "duration": 0,
    "start_time": "2024-10-21T12:19:56.713Z"
   },
   {
    "duration": 0,
    "start_time": "2024-10-21T12:19:56.715Z"
   },
   {
    "duration": 0,
    "start_time": "2024-10-21T12:19:56.716Z"
   },
   {
    "duration": 0,
    "start_time": "2024-10-21T12:19:56.717Z"
   },
   {
    "duration": 0,
    "start_time": "2024-10-21T12:19:56.719Z"
   },
   {
    "duration": 12,
    "start_time": "2024-10-21T12:20:42.232Z"
   },
   {
    "duration": 438,
    "start_time": "2024-10-21T17:25:49.437Z"
   },
   {
    "duration": 1102,
    "start_time": "2024-10-21T17:25:49.877Z"
   },
   {
    "duration": 28,
    "start_time": "2024-10-21T17:25:50.981Z"
   },
   {
    "duration": 112,
    "start_time": "2024-10-21T17:25:51.011Z"
   },
   {
    "duration": 46,
    "start_time": "2024-10-21T17:25:51.125Z"
   },
   {
    "duration": 136,
    "start_time": "2024-10-21T17:25:51.173Z"
   },
   {
    "duration": 127,
    "start_time": "2024-10-21T17:25:51.311Z"
   },
   {
    "duration": 29,
    "start_time": "2024-10-21T17:25:51.442Z"
   },
   {
    "duration": 14,
    "start_time": "2024-10-21T17:25:51.473Z"
   },
   {
    "duration": 4,
    "start_time": "2024-10-21T17:25:51.489Z"
   },
   {
    "duration": 20,
    "start_time": "2024-10-21T17:25:51.494Z"
   },
   {
    "duration": 34,
    "start_time": "2024-10-21T17:25:51.516Z"
   },
   {
    "duration": 4,
    "start_time": "2024-10-21T17:25:51.551Z"
   },
   {
    "duration": 4,
    "start_time": "2024-10-21T17:25:51.560Z"
   },
   {
    "duration": 5,
    "start_time": "2024-10-21T17:25:51.565Z"
   },
   {
    "duration": 5,
    "start_time": "2024-10-21T17:25:51.571Z"
   },
   {
    "duration": 496,
    "start_time": "2024-10-21T17:25:51.577Z"
   },
   {
    "duration": 7,
    "start_time": "2024-10-21T17:25:52.075Z"
   },
   {
    "duration": 10,
    "start_time": "2024-10-21T17:25:52.084Z"
   },
   {
    "duration": 13,
    "start_time": "2024-10-21T17:25:52.095Z"
   },
   {
    "duration": 42,
    "start_time": "2024-10-21T17:25:52.109Z"
   },
   {
    "duration": 10,
    "start_time": "2024-10-21T17:25:52.153Z"
   },
   {
    "duration": 10,
    "start_time": "2024-10-21T17:25:52.164Z"
   },
   {
    "duration": 19,
    "start_time": "2024-10-21T17:25:52.176Z"
   },
   {
    "duration": 10,
    "start_time": "2024-10-21T17:25:52.197Z"
   },
   {
    "duration": 38,
    "start_time": "2024-10-21T17:25:52.209Z"
   },
   {
    "duration": 31,
    "start_time": "2024-10-21T17:25:52.249Z"
   },
   {
    "duration": 12,
    "start_time": "2024-10-21T17:25:52.282Z"
   },
   {
    "duration": 86,
    "start_time": "2024-10-21T17:25:52.295Z"
   },
   {
    "duration": 46,
    "start_time": "2024-10-21T17:25:52.383Z"
   },
   {
    "duration": 41,
    "start_time": "2024-10-21T17:25:52.442Z"
   },
   {
    "duration": 27,
    "start_time": "2024-10-21T17:25:52.485Z"
   },
   {
    "duration": 192,
    "start_time": "2024-10-21T17:25:52.513Z"
   },
   {
    "duration": 142,
    "start_time": "2024-10-21T17:25:52.707Z"
   },
   {
    "duration": 10,
    "start_time": "2024-10-21T17:25:52.852Z"
   },
   {
    "duration": 181,
    "start_time": "2024-10-21T17:25:52.864Z"
   },
   {
    "duration": 16,
    "start_time": "2024-10-21T17:25:53.047Z"
   },
   {
    "duration": 7,
    "start_time": "2024-10-21T17:25:53.065Z"
   },
   {
    "duration": 259,
    "start_time": "2024-10-21T17:25:53.073Z"
   },
   {
    "duration": 195,
    "start_time": "2024-10-21T17:25:53.343Z"
   },
   {
    "duration": 8,
    "start_time": "2024-10-21T17:25:53.543Z"
   },
   {
    "duration": 99,
    "start_time": "2024-10-21T17:25:53.555Z"
   },
   {
    "duration": 412,
    "start_time": "2024-10-21T17:25:53.659Z"
   },
   {
    "duration": 257,
    "start_time": "2024-10-21T17:25:54.073Z"
   },
   {
    "duration": 1448,
    "start_time": "2024-10-21T17:25:54.332Z"
   },
   {
    "duration": 13,
    "start_time": "2024-10-21T17:25:55.782Z"
   }
  ],
  "celltoolbar": "Raw Cell Format",
  "kernelspec": {
   "display_name": "Python 3 (ipykernel)",
   "language": "python",
   "name": "python3"
  },
  "language_info": {
   "codemirror_mode": {
    "name": "ipython",
    "version": 3
   },
   "file_extension": ".py",
   "mimetype": "text/x-python",
   "name": "python",
   "nbconvert_exporter": "python",
   "pygments_lexer": "ipython3",
   "version": "3.9.19"
  },
  "toc": {
   "base_numbering": 1,
   "nav_menu": {},
   "number_sections": true,
   "sideBar": true,
   "skip_h1_title": true,
   "title_cell": "Table of Contents",
   "title_sidebar": "Contents",
   "toc_cell": false,
   "toc_position": {
    "height": "calc(100% - 180px)",
    "left": "10px",
    "top": "150px",
    "width": "521.188px"
   },
   "toc_section_display": true,
   "toc_window_display": true
  },
  "vscode": {
   "interpreter": {
    "hash": "01a7be9ec63e704a62cefc5fe7a4756944464ee731be31632bdf42a4cb4688cf"
   }
  }
 },
 "nbformat": 4,
 "nbformat_minor": 5
}
