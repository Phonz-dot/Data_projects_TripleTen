{
 "cells": [
  {
   "cell_type": "markdown",
   "metadata": {},
   "source": [
    "## Goal:\n",
    "---\n",
    "Beta Bank customers are leaving. They need to predict whether a customer will leave the bank soon using the data on clients’ past behavior and termination of contracts with the bank.\n",
    "\n",
    "\n",
    "### Stages:\n",
    "1. Data Preprocessing: Clean and organize the data, ensuring it's ready for analysis.\n",
    "2. Exploratory Data Analysis (EDA): Perform an initial analysis to understand the data distribution and identify key trends.\n",
    "3. ID Target/Feature Variables: Find out exactly what variable is being tested.\n",
    "4. Split Dataset: Split dataset up into training, validating & test sets.\n",
    "5. Scale Numeric Features: Set all of the feature variables on equal fields.\n",
    "6. Fix Class Imbalances: Ensure the classes for the target variable are equally represented.\n",
    "7. Determine Best Model: Train, fine tune, & evaluate the appropriate models for the task.\n",
    "8. Analyze ROC Value/Curve: Use the ROC value/curve to gain another perspective on the model's quality."
   ]
  },
  {
   "cell_type": "markdown",
   "metadata": {},
   "source": [
    "## Import Neccessary Modules & Libraries\n",
    "---"
   ]
  },
  {
   "cell_type": "code",
   "execution_count": 1,
   "metadata": {},
   "outputs": [],
   "source": [
    "import pandas as pd\n",
    "import numpy as np\n",
    "import matplotlib.pyplot as plt\n",
    "from sklearn.model_selection import train_test_split, GridSearchCV\n",
    "from sklearn.preprocessing import StandardScaler, LabelEncoder\n",
    "from sklearn.metrics import confusion_matrix, accuracy_score, recall_score, precision_score,f1_score, r2_score, mean_squared_error, mean_absolute_error,roc_auc_score, roc_curve\n",
    "from sklearn.linear_model import LogisticRegression\n",
    "from sklearn.ensemble import RandomForestClassifier\n",
    "from sklearn.tree import DecisionTreeClassifier\n",
    "from sklearn.utils import shuffle, resample"
   ]
  },
  {
   "cell_type": "markdown",
   "metadata": {},
   "source": [
    "## Load Dataset\n",
    "---"
   ]
  },
  {
   "cell_type": "code",
   "execution_count": 2,
   "metadata": {},
   "outputs": [],
   "source": [
    "bank_df = pd.read_csv('/datasets/Churn.csv')"
   ]
  },
  {
   "cell_type": "code",
   "execution_count": null,
   "metadata": {},
   "outputs": [],
   "source": [
    "bank_df.head(5)"
   ]
  },
  {
   "cell_type": "code",
   "execution_count": null,
   "metadata": {},
   "outputs": [],
   "source": [
    "bank_df.info()"
   ]
  },
  {
   "cell_type": "markdown",
   "metadata": {},
   "source": [
    "## Conduct Exploratory Data Analysis (EDA)\n",
    "---"
   ]
  },
  {
   "cell_type": "markdown",
   "metadata": {},
   "source": [
    "### Null Check\n",
    "---"
   ]
  },
  {
   "cell_type": "code",
   "execution_count": 3,
   "metadata": {},
   "outputs": [
    {
     "data": {
      "text/plain": [
       "RowNumber            0\n",
       "CustomerId           0\n",
       "Surname              0\n",
       "CreditScore          0\n",
       "Geography            0\n",
       "Gender               0\n",
       "Age                  0\n",
       "Tenure             909\n",
       "Balance              0\n",
       "NumOfProducts        0\n",
       "HasCrCard            0\n",
       "IsActiveMember       0\n",
       "EstimatedSalary      0\n",
       "Exited               0\n",
       "dtype: int64"
      ]
     },
     "execution_count": 3,
     "metadata": {},
     "output_type": "execute_result"
    }
   ],
   "source": [
    "bank_df.isna().sum()"
   ]
  },
  {
   "cell_type": "markdown",
   "metadata": {},
   "source": [
    "### Duplicates Check\n",
    "---"
   ]
  },
  {
   "cell_type": "code",
   "execution_count": 4,
   "metadata": {},
   "outputs": [
    {
     "data": {
      "text/plain": [
       "0"
      ]
     },
     "execution_count": 4,
     "metadata": {},
     "output_type": "execute_result"
    }
   ],
   "source": [
    "bank_df.duplicated().sum()"
   ]
  },
  {
   "cell_type": "markdown",
   "metadata": {},
   "source": [
    "After loading the dataset & viewing the overall structure & data types, there appears to be a couple of missing values in the Tenure column. With that being said, simply deleting these values from the dataset shouldn't alter the data in any significant way. However, the dataset doesn't contain any duplicate values, which is a good thing. Also, the dataframe column needs case lowering for the column names"
   ]
  },
  {
   "cell_type": "code",
   "execution_count": 5,
   "metadata": {},
   "outputs": [],
   "source": [
    " bank_df = bank_df.dropna()"
   ]
  },
  {
   "cell_type": "code",
   "execution_count": 6,
   "metadata": {},
   "outputs": [
    {
     "name": "stdout",
     "output_type": "stream",
     "text": [
      "<class 'pandas.core.frame.DataFrame'>\n",
      "Int64Index: 9091 entries, 0 to 9998\n",
      "Data columns (total 14 columns):\n",
      " #   Column           Non-Null Count  Dtype  \n",
      "---  ------           --------------  -----  \n",
      " 0   RowNumber        9091 non-null   int64  \n",
      " 1   CustomerId       9091 non-null   int64  \n",
      " 2   Surname          9091 non-null   object \n",
      " 3   CreditScore      9091 non-null   int64  \n",
      " 4   Geography        9091 non-null   object \n",
      " 5   Gender           9091 non-null   object \n",
      " 6   Age              9091 non-null   int64  \n",
      " 7   Tenure           9091 non-null   float64\n",
      " 8   Balance          9091 non-null   float64\n",
      " 9   NumOfProducts    9091 non-null   int64  \n",
      " 10  HasCrCard        9091 non-null   int64  \n",
      " 11  IsActiveMember   9091 non-null   int64  \n",
      " 12  EstimatedSalary  9091 non-null   float64\n",
      " 13  Exited           9091 non-null   int64  \n",
      "dtypes: float64(3), int64(8), object(3)\n",
      "memory usage: 1.0+ MB\n"
     ]
    }
   ],
   "source": [
    "bank_df.info()"
   ]
  },
  {
   "cell_type": "markdown",
   "metadata": {},
   "source": [
    "After dealing with general structure of the dataset i.e. dealing with nulls, duplicates & lowering the case for columns, it's time to prep the neccessary features (columns) for the machine learning model. In this project, the following columns are broken into features & target.\n",
    "\n",
    "<b>1. Target:<b> exited column\n",
    "\n",
    "<b>2. Features:<b> every column but the exited column"
   ]
  },
  {
   "cell_type": "code",
   "execution_count": 7,
   "metadata": {},
   "outputs": [
    {
     "name": "stdout",
     "output_type": "stream",
     "text": [
      "RowNumber            int64\n",
      "CustomerId           int64\n",
      "Surname             object\n",
      "CreditScore          int64\n",
      "Geography           object\n",
      "Gender              object\n",
      "Age                  int64\n",
      "Tenure             float64\n",
      "Balance            float64\n",
      "NumOfProducts        int64\n",
      "HasCrCard            int64\n",
      "IsActiveMember       int64\n",
      "EstimatedSalary    float64\n",
      "Exited               int64\n",
      "dtype: object\n"
     ]
    },
    {
     "data": {
      "text/html": [
       "<div>\n",
       "<style scoped>\n",
       "    .dataframe tbody tr th:only-of-type {\n",
       "        vertical-align: middle;\n",
       "    }\n",
       "\n",
       "    .dataframe tbody tr th {\n",
       "        vertical-align: top;\n",
       "    }\n",
       "\n",
       "    .dataframe thead th {\n",
       "        text-align: right;\n",
       "    }\n",
       "</style>\n",
       "<table border=\"1\" class=\"dataframe\">\n",
       "  <thead>\n",
       "    <tr style=\"text-align: right;\">\n",
       "      <th></th>\n",
       "      <th>RowNumber</th>\n",
       "      <th>CustomerId</th>\n",
       "      <th>Surname</th>\n",
       "      <th>CreditScore</th>\n",
       "      <th>Geography</th>\n",
       "      <th>Gender</th>\n",
       "      <th>Age</th>\n",
       "      <th>Tenure</th>\n",
       "      <th>Balance</th>\n",
       "      <th>NumOfProducts</th>\n",
       "      <th>HasCrCard</th>\n",
       "      <th>IsActiveMember</th>\n",
       "      <th>EstimatedSalary</th>\n",
       "      <th>Exited</th>\n",
       "    </tr>\n",
       "  </thead>\n",
       "  <tbody>\n",
       "    <tr>\n",
       "      <th>0</th>\n",
       "      <td>1</td>\n",
       "      <td>15634602</td>\n",
       "      <td>Hargrave</td>\n",
       "      <td>619</td>\n",
       "      <td>France</td>\n",
       "      <td>Female</td>\n",
       "      <td>42</td>\n",
       "      <td>2.0</td>\n",
       "      <td>0.00</td>\n",
       "      <td>1</td>\n",
       "      <td>1</td>\n",
       "      <td>1</td>\n",
       "      <td>101348.88</td>\n",
       "      <td>1</td>\n",
       "    </tr>\n",
       "    <tr>\n",
       "      <th>1</th>\n",
       "      <td>2</td>\n",
       "      <td>15647311</td>\n",
       "      <td>Hill</td>\n",
       "      <td>608</td>\n",
       "      <td>Spain</td>\n",
       "      <td>Female</td>\n",
       "      <td>41</td>\n",
       "      <td>1.0</td>\n",
       "      <td>83807.86</td>\n",
       "      <td>1</td>\n",
       "      <td>0</td>\n",
       "      <td>1</td>\n",
       "      <td>112542.58</td>\n",
       "      <td>0</td>\n",
       "    </tr>\n",
       "    <tr>\n",
       "      <th>2</th>\n",
       "      <td>3</td>\n",
       "      <td>15619304</td>\n",
       "      <td>Onio</td>\n",
       "      <td>502</td>\n",
       "      <td>France</td>\n",
       "      <td>Female</td>\n",
       "      <td>42</td>\n",
       "      <td>8.0</td>\n",
       "      <td>159660.80</td>\n",
       "      <td>3</td>\n",
       "      <td>1</td>\n",
       "      <td>0</td>\n",
       "      <td>113931.57</td>\n",
       "      <td>1</td>\n",
       "    </tr>\n",
       "    <tr>\n",
       "      <th>3</th>\n",
       "      <td>4</td>\n",
       "      <td>15701354</td>\n",
       "      <td>Boni</td>\n",
       "      <td>699</td>\n",
       "      <td>France</td>\n",
       "      <td>Female</td>\n",
       "      <td>39</td>\n",
       "      <td>1.0</td>\n",
       "      <td>0.00</td>\n",
       "      <td>2</td>\n",
       "      <td>0</td>\n",
       "      <td>0</td>\n",
       "      <td>93826.63</td>\n",
       "      <td>0</td>\n",
       "    </tr>\n",
       "    <tr>\n",
       "      <th>4</th>\n",
       "      <td>5</td>\n",
       "      <td>15737888</td>\n",
       "      <td>Mitchell</td>\n",
       "      <td>850</td>\n",
       "      <td>Spain</td>\n",
       "      <td>Female</td>\n",
       "      <td>43</td>\n",
       "      <td>2.0</td>\n",
       "      <td>125510.82</td>\n",
       "      <td>1</td>\n",
       "      <td>1</td>\n",
       "      <td>1</td>\n",
       "      <td>79084.10</td>\n",
       "      <td>0</td>\n",
       "    </tr>\n",
       "  </tbody>\n",
       "</table>\n",
       "</div>"
      ],
      "text/plain": [
       "   RowNumber  CustomerId   Surname  CreditScore Geography  Gender  Age  \\\n",
       "0          1    15634602  Hargrave          619    France  Female   42   \n",
       "1          2    15647311      Hill          608     Spain  Female   41   \n",
       "2          3    15619304      Onio          502    France  Female   42   \n",
       "3          4    15701354      Boni          699    France  Female   39   \n",
       "4          5    15737888  Mitchell          850     Spain  Female   43   \n",
       "\n",
       "   Tenure    Balance  NumOfProducts  HasCrCard  IsActiveMember  \\\n",
       "0     2.0       0.00              1          1               1   \n",
       "1     1.0   83807.86              1          0               1   \n",
       "2     8.0  159660.80              3          1               0   \n",
       "3     1.0       0.00              2          0               0   \n",
       "4     2.0  125510.82              1          1               1   \n",
       "\n",
       "   EstimatedSalary  Exited  \n",
       "0        101348.88       1  \n",
       "1        112542.58       0  \n",
       "2        113931.57       1  \n",
       "3         93826.63       0  \n",
       "4         79084.10       0  "
      ]
     },
     "execution_count": 7,
     "metadata": {},
     "output_type": "execute_result"
    }
   ],
   "source": [
    "print(bank_df.dtypes)\n",
    "bank_df.head()"
   ]
  },
  {
   "cell_type": "markdown",
   "metadata": {},
   "source": [
    "With the target variable in mind, some of these features don't help predict those values & just appear to just be for description. The following variables that don't directly act as inputs for the prediction of the target variable are:\n",
    "\n",
    "1. rownumber\n",
    "2. customerid\n",
    "3. surname\n",
    "\n",
    "Since these features won't add any value to the model, these should be dropped from the dataset. To note, there are few features that seem questionable & could be argued as potential contributors to the target variable. These variable are:\n",
    "\n",
    "1. geography \n",
    "2. gender \n",
    "3. age \n",
    "\n",
    "These are variables that help describe the observation but don't, at face value, contribute to a person leaving the bank. However these features can help in training the model by feeding it more informaton to be better a disclosing or uncovering unseen patterns which can lead to more accurate predictions. "
   ]
  },
  {
   "cell_type": "code",
   "execution_count": 8,
   "metadata": {},
   "outputs": [],
   "source": [
    "bank_df = bank_df.drop(columns=['RowNumber', 'CustomerId', 'Surname'])  # Drop specific columns"
   ]
  },
  {
   "cell_type": "code",
   "execution_count": 9,
   "metadata": {
    "scrolled": true
   },
   "outputs": [
    {
     "data": {
      "text/html": [
       "<div>\n",
       "<style scoped>\n",
       "    .dataframe tbody tr th:only-of-type {\n",
       "        vertical-align: middle;\n",
       "    }\n",
       "\n",
       "    .dataframe tbody tr th {\n",
       "        vertical-align: top;\n",
       "    }\n",
       "\n",
       "    .dataframe thead th {\n",
       "        text-align: right;\n",
       "    }\n",
       "</style>\n",
       "<table border=\"1\" class=\"dataframe\">\n",
       "  <thead>\n",
       "    <tr style=\"text-align: right;\">\n",
       "      <th></th>\n",
       "      <th>CreditScore</th>\n",
       "      <th>Geography</th>\n",
       "      <th>Gender</th>\n",
       "      <th>Age</th>\n",
       "      <th>Tenure</th>\n",
       "      <th>Balance</th>\n",
       "      <th>NumOfProducts</th>\n",
       "      <th>HasCrCard</th>\n",
       "      <th>IsActiveMember</th>\n",
       "      <th>EstimatedSalary</th>\n",
       "      <th>Exited</th>\n",
       "    </tr>\n",
       "  </thead>\n",
       "  <tbody>\n",
       "    <tr>\n",
       "      <th>4021</th>\n",
       "      <td>772</td>\n",
       "      <td>Germany</td>\n",
       "      <td>Female</td>\n",
       "      <td>48</td>\n",
       "      <td>6.0</td>\n",
       "      <td>108736.52</td>\n",
       "      <td>1</td>\n",
       "      <td>1</td>\n",
       "      <td>0</td>\n",
       "      <td>184564.67</td>\n",
       "      <td>1</td>\n",
       "    </tr>\n",
       "    <tr>\n",
       "      <th>3348</th>\n",
       "      <td>825</td>\n",
       "      <td>France</td>\n",
       "      <td>Male</td>\n",
       "      <td>40</td>\n",
       "      <td>6.0</td>\n",
       "      <td>132308.22</td>\n",
       "      <td>1</td>\n",
       "      <td>0</td>\n",
       "      <td>0</td>\n",
       "      <td>117122.50</td>\n",
       "      <td>0</td>\n",
       "    </tr>\n",
       "    <tr>\n",
       "      <th>4943</th>\n",
       "      <td>528</td>\n",
       "      <td>Spain</td>\n",
       "      <td>Male</td>\n",
       "      <td>43</td>\n",
       "      <td>7.0</td>\n",
       "      <td>97473.87</td>\n",
       "      <td>2</td>\n",
       "      <td>1</td>\n",
       "      <td>1</td>\n",
       "      <td>159823.16</td>\n",
       "      <td>0</td>\n",
       "    </tr>\n",
       "    <tr>\n",
       "      <th>832</th>\n",
       "      <td>732</td>\n",
       "      <td>Germany</td>\n",
       "      <td>Female</td>\n",
       "      <td>29</td>\n",
       "      <td>1.0</td>\n",
       "      <td>154333.82</td>\n",
       "      <td>1</td>\n",
       "      <td>1</td>\n",
       "      <td>1</td>\n",
       "      <td>138527.56</td>\n",
       "      <td>0</td>\n",
       "    </tr>\n",
       "    <tr>\n",
       "      <th>4607</th>\n",
       "      <td>653</td>\n",
       "      <td>France</td>\n",
       "      <td>Male</td>\n",
       "      <td>51</td>\n",
       "      <td>3.0</td>\n",
       "      <td>0.00</td>\n",
       "      <td>1</td>\n",
       "      <td>1</td>\n",
       "      <td>0</td>\n",
       "      <td>170426.65</td>\n",
       "      <td>1</td>\n",
       "    </tr>\n",
       "    <tr>\n",
       "      <th>2435</th>\n",
       "      <td>608</td>\n",
       "      <td>Germany</td>\n",
       "      <td>Male</td>\n",
       "      <td>42</td>\n",
       "      <td>8.0</td>\n",
       "      <td>131390.75</td>\n",
       "      <td>2</td>\n",
       "      <td>1</td>\n",
       "      <td>0</td>\n",
       "      <td>71178.09</td>\n",
       "      <td>0</td>\n",
       "    </tr>\n",
       "    <tr>\n",
       "      <th>1370</th>\n",
       "      <td>769</td>\n",
       "      <td>France</td>\n",
       "      <td>Female</td>\n",
       "      <td>26</td>\n",
       "      <td>7.0</td>\n",
       "      <td>0.00</td>\n",
       "      <td>2</td>\n",
       "      <td>1</td>\n",
       "      <td>0</td>\n",
       "      <td>176843.53</td>\n",
       "      <td>0</td>\n",
       "    </tr>\n",
       "    <tr>\n",
       "      <th>9757</th>\n",
       "      <td>501</td>\n",
       "      <td>France</td>\n",
       "      <td>Male</td>\n",
       "      <td>35</td>\n",
       "      <td>6.0</td>\n",
       "      <td>99760.84</td>\n",
       "      <td>1</td>\n",
       "      <td>1</td>\n",
       "      <td>1</td>\n",
       "      <td>13591.52</td>\n",
       "      <td>0</td>\n",
       "    </tr>\n",
       "    <tr>\n",
       "      <th>5810</th>\n",
       "      <td>495</td>\n",
       "      <td>Spain</td>\n",
       "      <td>Female</td>\n",
       "      <td>42</td>\n",
       "      <td>7.0</td>\n",
       "      <td>0.00</td>\n",
       "      <td>2</td>\n",
       "      <td>0</td>\n",
       "      <td>0</td>\n",
       "      <td>130404.53</td>\n",
       "      <td>0</td>\n",
       "    </tr>\n",
       "    <tr>\n",
       "      <th>9749</th>\n",
       "      <td>533</td>\n",
       "      <td>France</td>\n",
       "      <td>Female</td>\n",
       "      <td>35</td>\n",
       "      <td>8.0</td>\n",
       "      <td>0.00</td>\n",
       "      <td>2</td>\n",
       "      <td>1</td>\n",
       "      <td>1</td>\n",
       "      <td>187900.12</td>\n",
       "      <td>0</td>\n",
       "    </tr>\n",
       "  </tbody>\n",
       "</table>\n",
       "</div>"
      ],
      "text/plain": [
       "      CreditScore Geography  Gender  Age  Tenure    Balance  NumOfProducts  \\\n",
       "4021          772   Germany  Female   48     6.0  108736.52              1   \n",
       "3348          825    France    Male   40     6.0  132308.22              1   \n",
       "4943          528     Spain    Male   43     7.0   97473.87              2   \n",
       "832           732   Germany  Female   29     1.0  154333.82              1   \n",
       "4607          653    France    Male   51     3.0       0.00              1   \n",
       "2435          608   Germany    Male   42     8.0  131390.75              2   \n",
       "1370          769    France  Female   26     7.0       0.00              2   \n",
       "9757          501    France    Male   35     6.0   99760.84              1   \n",
       "5810          495     Spain  Female   42     7.0       0.00              2   \n",
       "9749          533    France  Female   35     8.0       0.00              2   \n",
       "\n",
       "      HasCrCard  IsActiveMember  EstimatedSalary  Exited  \n",
       "4021          1               0        184564.67       1  \n",
       "3348          0               0        117122.50       0  \n",
       "4943          1               1        159823.16       0  \n",
       "832           1               1        138527.56       0  \n",
       "4607          1               0        170426.65       1  \n",
       "2435          1               0         71178.09       0  \n",
       "1370          1               0        176843.53       0  \n",
       "9757          1               1         13591.52       0  \n",
       "5810          0               0        130404.53       0  \n",
       "9749          1               1        187900.12       0  "
      ]
     },
     "execution_count": 9,
     "metadata": {},
     "output_type": "execute_result"
    }
   ],
   "source": [
    "bank_df.sample(10)"
   ]
  },
  {
   "cell_type": "markdown",
   "metadata": {},
   "source": [
    "After looking at the number of unique values within the geography column, encoding the values along with the gender column via One-Hot Encoding seems appropriate."
   ]
  },
  {
   "cell_type": "markdown",
   "metadata": {},
   "source": [
    "## Create Dummy Variables via OHE\n",
    "---"
   ]
  },
  {
   "cell_type": "code",
   "execution_count": 10,
   "metadata": {},
   "outputs": [
    {
     "data": {
      "text/html": [
       "<div>\n",
       "<style scoped>\n",
       "    .dataframe tbody tr th:only-of-type {\n",
       "        vertical-align: middle;\n",
       "    }\n",
       "\n",
       "    .dataframe tbody tr th {\n",
       "        vertical-align: top;\n",
       "    }\n",
       "\n",
       "    .dataframe thead th {\n",
       "        text-align: right;\n",
       "    }\n",
       "</style>\n",
       "<table border=\"1\" class=\"dataframe\">\n",
       "  <thead>\n",
       "    <tr style=\"text-align: right;\">\n",
       "      <th></th>\n",
       "      <th>creditscore</th>\n",
       "      <th>age</th>\n",
       "      <th>tenure</th>\n",
       "      <th>balance</th>\n",
       "      <th>numofproducts</th>\n",
       "      <th>hascrcard</th>\n",
       "      <th>isactivemember</th>\n",
       "      <th>estimatedsalary</th>\n",
       "      <th>exited</th>\n",
       "      <th>gender_female</th>\n",
       "      <th>gender_male</th>\n",
       "      <th>geography_france</th>\n",
       "      <th>geography_germany</th>\n",
       "      <th>geography_spain</th>\n",
       "    </tr>\n",
       "  </thead>\n",
       "  <tbody>\n",
       "    <tr>\n",
       "      <th>0</th>\n",
       "      <td>619</td>\n",
       "      <td>42</td>\n",
       "      <td>2.0</td>\n",
       "      <td>0.00</td>\n",
       "      <td>1</td>\n",
       "      <td>1</td>\n",
       "      <td>1</td>\n",
       "      <td>101348.88</td>\n",
       "      <td>1</td>\n",
       "      <td>1</td>\n",
       "      <td>0</td>\n",
       "      <td>1</td>\n",
       "      <td>0</td>\n",
       "      <td>0</td>\n",
       "    </tr>\n",
       "    <tr>\n",
       "      <th>1</th>\n",
       "      <td>608</td>\n",
       "      <td>41</td>\n",
       "      <td>1.0</td>\n",
       "      <td>83807.86</td>\n",
       "      <td>1</td>\n",
       "      <td>0</td>\n",
       "      <td>1</td>\n",
       "      <td>112542.58</td>\n",
       "      <td>0</td>\n",
       "      <td>1</td>\n",
       "      <td>0</td>\n",
       "      <td>0</td>\n",
       "      <td>0</td>\n",
       "      <td>1</td>\n",
       "    </tr>\n",
       "    <tr>\n",
       "      <th>2</th>\n",
       "      <td>502</td>\n",
       "      <td>42</td>\n",
       "      <td>8.0</td>\n",
       "      <td>159660.80</td>\n",
       "      <td>3</td>\n",
       "      <td>1</td>\n",
       "      <td>0</td>\n",
       "      <td>113931.57</td>\n",
       "      <td>1</td>\n",
       "      <td>1</td>\n",
       "      <td>0</td>\n",
       "      <td>1</td>\n",
       "      <td>0</td>\n",
       "      <td>0</td>\n",
       "    </tr>\n",
       "    <tr>\n",
       "      <th>3</th>\n",
       "      <td>699</td>\n",
       "      <td>39</td>\n",
       "      <td>1.0</td>\n",
       "      <td>0.00</td>\n",
       "      <td>2</td>\n",
       "      <td>0</td>\n",
       "      <td>0</td>\n",
       "      <td>93826.63</td>\n",
       "      <td>0</td>\n",
       "      <td>1</td>\n",
       "      <td>0</td>\n",
       "      <td>1</td>\n",
       "      <td>0</td>\n",
       "      <td>0</td>\n",
       "    </tr>\n",
       "    <tr>\n",
       "      <th>4</th>\n",
       "      <td>850</td>\n",
       "      <td>43</td>\n",
       "      <td>2.0</td>\n",
       "      <td>125510.82</td>\n",
       "      <td>1</td>\n",
       "      <td>1</td>\n",
       "      <td>1</td>\n",
       "      <td>79084.10</td>\n",
       "      <td>0</td>\n",
       "      <td>1</td>\n",
       "      <td>0</td>\n",
       "      <td>0</td>\n",
       "      <td>0</td>\n",
       "      <td>1</td>\n",
       "    </tr>\n",
       "  </tbody>\n",
       "</table>\n",
       "</div>"
      ],
      "text/plain": [
       "   creditscore  age  tenure    balance  numofproducts  hascrcard  \\\n",
       "0          619   42     2.0       0.00              1          1   \n",
       "1          608   41     1.0   83807.86              1          0   \n",
       "2          502   42     8.0  159660.80              3          1   \n",
       "3          699   39     1.0       0.00              2          0   \n",
       "4          850   43     2.0  125510.82              1          1   \n",
       "\n",
       "   isactivemember  estimatedsalary  exited  gender_female  gender_male  \\\n",
       "0               1        101348.88       1              1            0   \n",
       "1               1        112542.58       0              1            0   \n",
       "2               0        113931.57       1              1            0   \n",
       "3               0         93826.63       0              1            0   \n",
       "4               1         79084.10       0              1            0   \n",
       "\n",
       "   geography_france  geography_germany  geography_spain  \n",
       "0                 1                  0                0  \n",
       "1                 0                  0                1  \n",
       "2                 1                  0                0  \n",
       "3                 1                  0                0  \n",
       "4                 0                  0                1  "
      ]
     },
     "execution_count": 10,
     "metadata": {},
     "output_type": "execute_result"
    }
   ],
   "source": [
    "df2=pd.get_dummies(bank_df[[\"Gender\", \"Geography\"]])\n",
    "bank_df_new=pd.concat([bank_df,df2],axis=1)\n",
    "bank_df_new = bank_df_new.drop(columns=['Gender', 'Geography'])  # Drop specific columns\n",
    "bank_df_new.columns = bank_df_new.columns.str.lower()\n",
    "bank_df_new.head()"
   ]
  },
  {
   "cell_type": "markdown",
   "metadata": {},
   "source": [
    "After viewing the dataframe after making the necessary changes, it is time to properly scale the feature variables."
   ]
  },
  {
   "cell_type": "markdown",
   "metadata": {},
   "source": [
    "## Define Features and Target/Split Dataset/Scale Features\n",
    "---"
   ]
  },
  {
   "cell_type": "code",
   "execution_count": 11,
   "metadata": {},
   "outputs": [],
   "source": [
    "target = bank_df_new['exited']\n",
    "features = bank_df_new.drop('exited', axis=1)\n",
    "\n",
    "features_train, features_rem, target_train, target_rem = train_test_split(features, target, test_size= 0.4, random_state=12345)\n",
    "features_valid, features_test, target_valid, target_test = train_test_split(features_rem, target_rem, test_size=0.5, random_state=12345)"
   ]
  },
  {
   "cell_type": "code",
   "execution_count": 12,
   "metadata": {},
   "outputs": [],
   "source": [
    "scaler = StandardScaler()\n",
    "scaler.fit(features_train)\n",
    "features_valid = scaler.transform(features_valid)\n",
    "features_test = scaler.transform(features_test)"
   ]
  },
  {
   "cell_type": "code",
   "execution_count": 13,
   "metadata": {},
   "outputs": [
    {
     "name": "stdout",
     "output_type": "stream",
     "text": [
      "training features: (5454, 13)\n",
      "training target: (5454,)\n",
      "validating features: (1818, 13)\n",
      "validating target: (1818,)\n",
      "test features: (1819, 13)\n",
      "test target: (1819,)\n"
     ]
    }
   ],
   "source": [
    "#info description of training, validating & test sets\n",
    "print('training features:', features_train.shape)\n",
    "print('training target:', target_train.shape)\n",
    "print('validating features:', features_valid.shape)\n",
    "print('validating target:', target_valid.shape)\n",
    "print('test features:', features_test.shape)\n",
    "print('test target:', target_test.shape)"
   ]
  },
  {
   "cell_type": "markdown",
   "metadata": {},
   "source": [
    "## Decision Tree Classifier\n",
    "---"
   ]
  },
  {
   "cell_type": "markdown",
   "metadata": {},
   "source": [
    "### Base Level Model Training\n",
    "---"
   ]
  },
  {
   "cell_type": "code",
   "execution_count": 14,
   "metadata": {},
   "outputs": [
    {
     "name": "stdout",
     "output_type": "stream",
     "text": [
      "Classification Report for Validating Set\n",
      "--------------------------------------------------\n",
      "accuracy: 0.7926292629262927\n",
      "recall: 0.0\n",
      "precision: 0.0\n",
      "F1: 0.0\n",
      "confusion matrix: [[1441    0]\n",
      " [ 377    0]]\n"
     ]
    },
    {
     "name": "stderr",
     "output_type": "stream",
     "text": [
      "/opt/conda/envs/python3/lib/python3.9/site-packages/sklearn/metrics/_classification.py:1245: UndefinedMetricWarning: Precision is ill-defined and being set to 0.0 due to no predicted samples. Use `zero_division` parameter to control this behavior.\n",
      "  _warn_prf(average, modifier, msg_start, len(result))\n"
     ]
    }
   ],
   "source": [
    "dt_model = DecisionTreeClassifier(random_state=12345)\n",
    "dt_model.fit(features_train, target_train)\n",
    "dt_pred_valid = dt_model.predict(features_valid)\n",
    "\n",
    "print(\"Classification Report for Validating Set\")\n",
    "print(\"--------------------------------------------------\")\n",
    "print('accuracy:', accuracy_score(target_valid, dt_pred_valid))\n",
    "print('recall:', recall_score(target_valid, dt_pred_valid))\n",
    "print('precision:', precision_score(target_valid, dt_pred_valid))\n",
    "print('F1:', f1_score(target_valid, dt_pred_valid))\n",
    "print('confusion matrix:', confusion_matrix(target_valid, dt_pred_valid))"
   ]
  },
  {
   "cell_type": "code",
   "execution_count": null,
   "metadata": {},
   "outputs": [],
   "source": [
    "dt_model.fit(features_train, target_train)\n",
    "dt_pred_test = dt_model.predict(features_test)\n",
    "\n",
    "print(\"Classification Report for Testing Set\")\n",
    "print(\"--------------------------------------------------\")\n",
    "print('accuracy:', accuracy_score(target_test, dt_pred_test))\n",
    "print('recall:', recall_score(target_test, dt_pred_test))\n",
    "print('precision:', precision_score(target_test, dt_pred_test))\n",
    "print('F1:', f1_score(target_test, dt_pred_test))\n",
    "print('confusion matrix:', confusion_matrix(target_test, dt_pred_test))"
   ]
  },
  {
   "cell_type": "markdown",
   "metadata": {},
   "source": [
    "According to both the classification report & confusion matrix for the validating & test sets, the accuracy is relatively high, which represents a marker for a strong model. However, looking at both the recall & precision, the values are at zero which indicates imbalanced data. Moreover, the confusion matrix supports this by only showing values for the negative class.\n",
    "\n",
    "To fix this, upsampling seems the best in this situation given that downsampling would just bring the observations of the frequent class down & that wouldn't leave us with much data to train the model, which doesn't help the situation."
   ]
  },
  {
   "cell_type": "markdown",
   "metadata": {},
   "source": [
    "### Check Class Balance\n",
    "---"
   ]
  },
  {
   "cell_type": "code",
   "execution_count": 15,
   "metadata": {},
   "outputs": [
    {
     "name": "stdout",
     "output_type": "stream",
     "text": [
      "0    0.796062\n",
      "1    0.203938\n",
      "Name: exited, dtype: float64\n",
      "0    7237\n",
      "1    1854\n",
      "Name: exited, dtype: int64\n"
     ]
    }
   ],
   "source": [
    "print(bank_df_new['exited'].value_counts(normalize = True)) # Check the target distribution\n",
    "print(bank_df_new['exited'].value_counts())"
   ]
  },
  {
   "cell_type": "code",
   "execution_count": 16,
   "metadata": {},
   "outputs": [
    {
     "data": {
      "text/plain": [
       "<AxesSubplot:ylabel='Exited'>"
      ]
     },
     "execution_count": 16,
     "metadata": {},
     "output_type": "execute_result"
    },
    {
     "data": {
      "image/png": "[encoded data removed]",
      "text/plain": [
       "<Figure size 640x480 with 1 Axes>"
      ]
     },
     "metadata": {},
     "output_type": "display_data"
    }
   ],
   "source": [
    "bank_df_new.groupby('exited').size().plot(kind='pie', y='exited', label='Exited', autopct='%1.1f%%')"
   ]
  },
  {
   "cell_type": "markdown",
   "metadata": {},
   "source": [
    "After checking out the distribution of the two classes, it's apparent that there is a significant imbalance which could cause bias in the results."
   ]
  },
  {
   "cell_type": "markdown",
   "metadata": {},
   "source": [
    "## Fix Class Imbalance\n",
    "---"
   ]
  },
  {
   "cell_type": "code",
   "execution_count": 17,
   "metadata": {},
   "outputs": [
    {
     "name": "stdout",
     "output_type": "stream",
     "text": [
      "0    0.5\n",
      "1    0.5\n",
      "Name: exited, dtype: float64\n",
      "0    7237\n",
      "1    7237\n",
      "Name: exited, dtype: int64\n"
     ]
    }
   ],
   "source": [
    "value_one = bank_df_new[bank_df_new['exited'] == 1]\n",
    "value_zero = bank_df_new[bank_df_new['exited'] == 0]\n",
    "\n",
    "value_one_upsample = resample(value_one, replace=True, n_samples=len(value_zero), random_state=12345)\n",
    "\n",
    "bank_df_new = pd.concat([value_zero, value_one_upsample])\n",
    "\n",
    "print(bank_df_new['exited'].value_counts(normalize = True)) # Check the target distribution\n",
    "print(bank_df_new['exited'].value_counts())"
   ]
  },
  {
   "cell_type": "code",
   "execution_count": 18,
   "metadata": {},
   "outputs": [
    {
     "data": {
      "text/plain": [
       "<AxesSubplot:ylabel='Exited'>"
      ]
     },
     "execution_count": 18,
     "metadata": {},
     "output_type": "execute_result"
    },
    {
     "data": {
      "image/png": "[encoded data removed]",
      "text/plain": [
       "<Figure size 640x480 with 1 Axes>"
      ]
     },
     "metadata": {},
     "output_type": "display_data"
    }
   ],
   "source": [
    "bank_df_new.groupby('exited').size().plot(kind='pie', y='exited', label='Exited', autopct='%1.1f%%')"
   ]
  },
  {
   "cell_type": "markdown",
   "metadata": {},
   "source": [
    "## Define Features and Target/ Split Upsamped Dataset/Scale Features\n",
    "---"
   ]
  },
  {
   "cell_type": "code",
   "execution_count": null,
   "metadata": {},
   "outputs": [],
   "source": [
    "target = bank_df_new['exited']\n",
    "features = bank_df_new.drop('exited', axis=1)\n",
    "\n",
    "features_train, features_rem, target_train, target_rem = train_test_split(features, target, test_size= 0.4, random_state=12345)\n",
    "features_valid, features_test, target_valid, target_test = train_test_split(features_rem, target_rem, test_size=0.5, random_state=12345)"
   ]
  },
  {
   "cell_type": "code",
   "execution_count": null,
   "metadata": {},
   "outputs": [],
   "source": [
    "scaler = StandardScaler()\n",
    "scaler.fit(features_train)\n",
    "features_valid = scaler.transform(features_valid)\n",
    "features_test = scaler.transform(features_test)"
   ]
  },
  {
   "cell_type": "markdown",
   "metadata": {},
   "source": [
    "## Decision Tree Classifier\n",
    "---"
   ]
  },
  {
   "cell_type": "markdown",
   "metadata": {},
   "source": [
    "### Base Level Model Training\n",
    "---"
   ]
  },
  {
   "cell_type": "code",
   "execution_count": null,
   "metadata": {},
   "outputs": [],
   "source": [
    "dt_model.fit(features_train, target_train)\n",
    "dt_pred_valid_us = dt_model.predict(features_valid)\n",
    "\n",
    "print(\"Classification Report for Validating Set\")\n",
    "print(\"--------------------------------------------------\")\n",
    "print('accuracy:', accuracy_score(target_valid, dt_pred_valid_us))\n",
    "print('recall:', recall_score(target_valid, dt_pred_valid_us))\n",
    "print('precision:', precision_score(target_valid, dt_pred_valid_us))\n",
    "print('F1:', f1_score(target_valid, dt_pred_valid_us))\n",
    "print('confusion matrix:', confusion_matrix(target_valid, dt_pred_valid_us))"
   ]
  },
  {
   "cell_type": "code",
   "execution_count": null,
   "metadata": {},
   "outputs": [],
   "source": [
    "dt_model.get_params()"
   ]
  },
  {
   "cell_type": "markdown",
   "metadata": {},
   "source": [
    "### Hyperparameter Tuning\n",
    "---"
   ]
  },
  {
   "cell_type": "code",
   "execution_count": null,
   "metadata": {},
   "outputs": [],
   "source": [
    "dt_param_grid = {'max_depth': list(range(1, 30))}\n",
    "\n",
    "dt_grid_search = GridSearchCV(dt_model, dt_param_grid,cv = 10, scoring='f1')\n",
    "\n",
    "dt_grid_search.fit(features_train, target_train)\n",
    "\n",
    "print(f\"Best Parameters: {dt_grid_search.best_params_}\")\n",
    "print(f\"Best Score: {dt_grid_search.best_score_}\")"
   ]
  },
  {
   "cell_type": "markdown",
   "metadata": {},
   "source": [
    "### Tuned Model Evaluation\n",
    "---"
   ]
  },
  {
   "cell_type": "code",
   "execution_count": null,
   "metadata": {},
   "outputs": [],
   "source": [
    "dt_model_tuned = DecisionTreeClassifier(random_state=12345, max_depth=24)\n",
    "dt_model.fit(features_train, target_train)\n",
    "dt_pred_valid_us = dt_model.predict(features_valid)\n",
    "\n",
    "print(\"Classification Report for Validating Set\")\n",
    "print(\"--------------------------------------------------\")\n",
    "print('accuracy:', accuracy_score(target_valid, dt_pred_valid_us))\n",
    "print('recall:', recall_score(target_valid, dt_pred_valid_us))\n",
    "print('precision:', precision_score(target_valid, dt_pred_valid_us))\n",
    "print('F1:', f1_score(target_valid, dt_pred_valid_us))\n",
    "print('confusion matrix:', confusion_matrix(target_valid, dt_pred_valid_us))"
   ]
  },
  {
   "cell_type": "code",
   "execution_count": null,
   "metadata": {},
   "outputs": [],
   "source": [
    "dt_model_tuned.fit(features_train, target_train)\n",
    "dt_pred_test_us_t = dt_model_tuned.predict(features_test)\n",
    "\n",
    "print(\"Classification Report for Test Set\")\n",
    "print(\"--------------------------------------------------\")\n",
    "print('accuracy:', accuracy_score(target_test, dt_pred_test_us_t))\n",
    "print('recall:', recall_score(target_test, dt_pred_test_us_t))\n",
    "print('precision:', precision_score(target_test, dt_pred_test_us_t))\n",
    "print('F1:', f1_score(target_test, dt_pred_test_us_t))\n",
    "print('confusion matrix:', confusion_matrix(target_test, dt_pred_test_us_t))"
   ]
  },
  {
   "cell_type": "markdown",
   "metadata": {},
   "source": [
    "## Random Forest Classifier\n",
    "---"
   ]
  },
  {
   "cell_type": "markdown",
   "metadata": {},
   "source": [
    "### Base Level Model Training\n",
    "---"
   ]
  },
  {
   "cell_type": "code",
   "execution_count": null,
   "metadata": {},
   "outputs": [],
   "source": [
    "rf_model = RandomForestClassifier(random_state=12345)\n",
    "rf_model.fit(features_train, target_train)\n",
    "rf_pred_valid = rf_model.predict(features_valid)\n",
    "print(\"Classification Report for Validating Set\")\n",
    "print(\"--------------------------------------------------\")\n",
    "print('accuracy:', accuracy_score(target_valid, rf_pred_valid))\n",
    "print('recall:', recall_score(target_valid, rf_pred_valid))\n",
    "print('precision:', precision_score(target_valid, rf_pred_valid))\n",
    "print('F1:', f1_score(target_valid, rf_pred_valid))\n",
    "print('confusion matrix:', confusion_matrix(target_valid, rf_pred_valid))"
   ]
  },
  {
   "cell_type": "markdown",
   "metadata": {},
   "source": [
    "### Hyperparameter Tuning\n",
    "---"
   ]
  },
  {
   "cell_type": "code",
   "execution_count": null,
   "metadata": {},
   "outputs": [],
   "source": [
    "rf_param_grid = {'max_depth': [10, 20, 30],\n",
    "                'n_estimators': [100, 200, 300]}\n",
    "\n",
    "rf_grid_search = GridSearchCV(rf_model, rf_param_grid,cv = 10, scoring='f1')\n",
    "\n",
    "rf_grid_search.fit(features_train, target_train)\n",
    "\n",
    "print(f\"Best Parameters: {rf_grid_search.best_params_}\")\n",
    "print(f\"Best Score: {rf_grid_search.best_score_}\")"
   ]
  },
  {
   "cell_type": "markdown",
   "metadata": {},
   "source": [
    "### Tuned Model Evaluation\n",
    "---"
   ]
  },
  {
   "cell_type": "code",
   "execution_count": null,
   "metadata": {},
   "outputs": [],
   "source": [
    "rf_model_tuned = RandomForestClassifier(max_depth=30, n_estimators=200, random_state=12345)\n",
    "rf_model_tuned.fit(features_train, target_train)\n",
    "rf_pred_valid_tuned = rf_model_tuned.predict(features_valid)\n",
    "\n",
    "print(\"Classification Report for Validating Set\")\n",
    "print(\"--------------------------------------------------\")\n",
    "print('accuracy:', accuracy_score(target_valid, rf_pred_valid_tuned))\n",
    "print('recall:', recall_score(target_valid, rf_pred_valid_tuned))\n",
    "print('precision:', precision_score(target_valid, rf_pred_valid_tuned))\n",
    "print('F1:', f1_score(target_valid, rf_pred_valid_tuned))\n",
    "print('confusion matrix:', confusion_matrix(target_valid, rf_pred_valid_tuned))"
   ]
  },
  {
   "cell_type": "code",
   "execution_count": null,
   "metadata": {},
   "outputs": [],
   "source": [
    "rf_model_tuned.fit(features_train, target_train)\n",
    "rf_pred_test_tuned = rf_model_tuned.predict(features_test)\n",
    "\n",
    "print(\"Classification Report for Test Set\")\n",
    "print(\"--------------------------------------------------\")\n",
    "print('accuracy:', accuracy_score(target_test, rf_pred_test_tuned))\n",
    "print('recall:', recall_score(target_test, rf_pred_test_tuned))\n",
    "print('precision:', precision_score(target_test, rf_pred_test_tuned))\n",
    "print('F1:', f1_score(target_test, rf_pred_test_tuned))\n",
    "print('confusion matrix:', confusion_matrix(target_test, rf_pred_test_tuned))"
   ]
  },
  {
   "cell_type": "markdown",
   "metadata": {},
   "source": [
    "## Logistic Regression\n",
    "---"
   ]
  },
  {
   "cell_type": "markdown",
   "metadata": {},
   "source": [
    "### Base Level Model Training\n",
    "---"
   ]
  },
  {
   "cell_type": "code",
   "execution_count": null,
   "metadata": {},
   "outputs": [],
   "source": [
    "lr_model = LogisticRegression(random_state=12345)\n",
    "lr_model.fit(features_train, target_train)\n",
    "lr_pred_valid = lr_model.predict(features_valid)\n",
    "\n",
    "print(\"Classification Report for Validating Set\")\n",
    "print(\"--------------------------------------------------\")\n",
    "print('accuracy:', accuracy_score(target_valid, lr_pred_valid))\n",
    "print('recall:', recall_score(target_valid, lr_pred_valid))\n",
    "print('precision:', precision_score(target_valid, lr_pred_valid))\n",
    "print('F1:', f1_score(target_valid, lr_pred_valid))\n",
    "print('confusion matrix:', confusion_matrix(target_valid, lr_pred_valid))"
   ]
  },
  {
   "cell_type": "markdown",
   "metadata": {},
   "source": [
    "### Test Model Evaluation\n",
    "---"
   ]
  },
  {
   "cell_type": "code",
   "execution_count": null,
   "metadata": {},
   "outputs": [],
   "source": [
    "lr_model.fit(features_train, target_train)\n",
    "lr_pred_test = lr_model.predict(features_test)\n",
    "\n",
    "print(\"Classification Report for Testing Set\")\n",
    "print(\"--------------------------------------------------\")\n",
    "print('accuracy:', accuracy_score(target_test, lr_pred_test))\n",
    "print('recall:', recall_score(target_test, lr_pred_test))\n",
    "print('precision:', precision_score(target_test, lr_pred_test))\n",
    "print('F1:', f1_score(target_test, lr_pred_test))\n",
    "print('confusion matrix:', confusion_matrix(target_test, lr_pred_test))"
   ]
  },
  {
   "cell_type": "markdown",
   "metadata": {},
   "source": [
    "## AUC- ROC Value\n",
    "---"
   ]
  },
  {
   "cell_type": "code",
   "execution_count": null,
   "metadata": {},
   "outputs": [],
   "source": [
    "probabilities_valid = lr_model.predict_proba(features_valid)\n",
    "lr_probabilities_one_valid = probabilities_valid[:, 1]\n",
    "\n",
    "fpr, tpr, thresholds = roc_curve(target_valid, lr_probabilities_one_valid)\n",
    "\n",
    "plt.figure()\n",
    "\n",
    "# ROC curve for random model \n",
    "plt.plot([0, 1], [0, 1], linestyle='--')\n",
    "\n",
    "plt.plot(fpr, tpr)\n",
    "plt.xlim([0.0, 1.0])\n",
    "plt.ylim([0.0, 1.0])\n",
    "plt.xlabel('False Positive Rate')\n",
    "plt.ylabel('True Positive Rate')\n",
    "plt.title('LR ROC curve')\n",
    "\n",
    "plt.show()\n",
    "\n",
    "print('AUC-ROC Score:', roc_auc_score(target_valid, lr_probabilities_one_valid))"
   ]
  },
  {
   "cell_type": "code",
   "execution_count": null,
   "metadata": {},
   "outputs": [],
   "source": [
    "probabilities_valid = rf_model_tuned.predict_proba(features_valid)\n",
    "rf_probabilities_one_valid = probabilities_valid[:, 1]\n",
    "\n",
    "fpr, tpr, thresholds = roc_curve(target_valid, rf_probabilities_one_valid)\n",
    "\n",
    "plt.figure()\n",
    "\n",
    "# ROC curve for random model \n",
    "plt.plot([0, 1], [0, 1], linestyle='--')\n",
    "\n",
    "plt.plot(fpr, tpr)\n",
    "plt.xlim([0.0, 1.0])\n",
    "plt.ylim([0.0, 1.0])\n",
    "plt.xlabel('False Positive Rate')\n",
    "plt.ylabel('True Positive Rate')\n",
    "plt.title('RF ROC curve')\n",
    "\n",
    "plt.show()\n",
    "\n",
    "print('AUC-ROC Score:', roc_auc_score(target_valid, rf_probabilities_one_valid))"
   ]
  },
  {
   "cell_type": "code",
   "execution_count": null,
   "metadata": {},
   "outputs": [],
   "source": [
    "probabilities_valid = dt_model_tuned.predict_proba(features_valid)\n",
    "dt_probabilities_one_valid = probabilities_valid[:, 1]\n",
    "\n",
    "fpr, tpr, thresholds = roc_curve(target_valid, dt_probabilities_one_valid)\n",
    "\n",
    "plt.figure()\n",
    "\n",
    "# ROC curve for random model \n",
    "plt.plot([0, 1], [0, 1], linestyle='--')\n",
    "\n",
    "plt.plot(fpr, tpr)\n",
    "plt.xlim([0.0, 1.0])\n",
    "plt.ylim([0.0, 1.0])\n",
    "plt.xlabel('False Positive Rate')\n",
    "plt.ylabel('True Positive Rate')\n",
    "plt.title('DT ROC curve')\n",
    "\n",
    "plt.show()\n",
    "\n",
    "print('AUC-ROC Score:', roc_auc_score(target_valid, dt_probabilities_one_valid))"
   ]
  },
  {
   "cell_type": "markdown",
   "metadata": {},
   "source": [
    "## Conclusion\n",
    "---"
   ]
  },
  {
   "cell_type": "markdown",
   "metadata": {},
   "source": [
    "After training all of the classification models, it seems that the Logistic Regression model holds the sastisfactory F1 level (>0.59) on the testing set.\n",
    "\n",
    "Due to low F1 levels on the validating set after tuning the hyperparameters, the Decision Tree & Random Forest classifiers don't seem fit to carry out the business task of predicting when people will leave the bank.\n",
    "\n",
    "Moreover, both the ROC curve & values show that the Logistic Regression model is a better quality model(the higher the curve, the greater the TPR value & the better the model's quality) than the rest of the other classification models."
   ]
  }
 ],
 "metadata": {
  "ExecuteTimeLog": [
   {
    "duration": 817,
    "start_time": "2024-11-24T02:10:08.257Z"
   },
   {
    "duration": 25,
    "start_time": "2024-11-24T02:11:49.396Z"
   },
   {
    "duration": 15,
    "start_time": "2024-11-24T02:12:18.696Z"
   },
   {
    "duration": 11,
    "start_time": "2024-11-24T02:12:57.384Z"
   },
   {
    "duration": 211,
    "start_time": "2024-11-24T02:15:23.611Z"
   },
   {
    "duration": 6,
    "start_time": "2024-11-24T02:15:33.789Z"
   },
   {
    "duration": 8,
    "start_time": "2024-11-24T02:16:07.517Z"
   },
   {
    "duration": 26,
    "start_time": "2024-11-24T03:31:30.871Z"
   },
   {
    "duration": 12,
    "start_time": "2024-11-24T03:31:38.238Z"
   },
   {
    "duration": 12,
    "start_time": "2024-11-24T03:33:04.347Z"
   },
   {
    "duration": 13,
    "start_time": "2024-11-24T03:33:10.452Z"
   },
   {
    "duration": 12,
    "start_time": "2024-11-24T03:33:46.406Z"
   },
   {
    "duration": 13,
    "start_time": "2024-11-24T03:33:53.690Z"
   },
   {
    "duration": 12,
    "start_time": "2024-11-24T03:33:57.089Z"
   },
   {
    "duration": 822,
    "start_time": "2024-11-24T03:34:05.856Z"
   },
   {
    "duration": 16,
    "start_time": "2024-11-24T03:34:06.679Z"
   },
   {
    "duration": 21,
    "start_time": "2024-11-24T03:34:06.696Z"
   },
   {
    "duration": 10,
    "start_time": "2024-11-24T03:34:06.719Z"
   },
   {
    "duration": 5,
    "start_time": "2024-11-24T03:34:06.731Z"
   },
   {
    "duration": 8,
    "start_time": "2024-11-24T03:34:06.738Z"
   },
   {
    "duration": 18,
    "start_time": "2024-11-24T03:34:06.748Z"
   },
   {
    "duration": 831,
    "start_time": "2024-11-24T03:34:33.122Z"
   },
   {
    "duration": 14,
    "start_time": "2024-11-24T03:34:33.955Z"
   },
   {
    "duration": 13,
    "start_time": "2024-11-24T03:34:33.970Z"
   },
   {
    "duration": 10,
    "start_time": "2024-11-24T03:34:33.985Z"
   },
   {
    "duration": 20,
    "start_time": "2024-11-24T03:34:33.996Z"
   },
   {
    "duration": 8,
    "start_time": "2024-11-24T03:34:34.018Z"
   },
   {
    "duration": 6,
    "start_time": "2024-11-24T03:34:34.027Z"
   },
   {
    "duration": 10,
    "start_time": "2024-11-24T03:34:53.656Z"
   },
   {
    "duration": 6,
    "start_time": "2024-11-24T03:35:20.431Z"
   },
   {
    "duration": 798,
    "start_time": "2024-11-24T03:35:28.191Z"
   },
   {
    "duration": 15,
    "start_time": "2024-11-24T03:35:28.991Z"
   },
   {
    "duration": 14,
    "start_time": "2024-11-24T03:35:29.007Z"
   },
   {
    "duration": 9,
    "start_time": "2024-11-24T03:35:29.024Z"
   },
   {
    "duration": 5,
    "start_time": "2024-11-24T03:35:29.036Z"
   },
   {
    "duration": 9,
    "start_time": "2024-11-24T03:35:29.042Z"
   },
   {
    "duration": 6,
    "start_time": "2024-11-24T03:35:29.052Z"
   },
   {
    "duration": 9,
    "start_time": "2024-11-24T03:35:29.060Z"
   },
   {
    "duration": 873,
    "start_time": "2024-11-24T03:41:48.126Z"
   },
   {
    "duration": 21,
    "start_time": "2024-11-24T03:41:49.001Z"
   },
   {
    "duration": 13,
    "start_time": "2024-11-24T03:41:49.024Z"
   },
   {
    "duration": 10,
    "start_time": "2024-11-24T03:41:49.040Z"
   },
   {
    "duration": 5,
    "start_time": "2024-11-24T03:41:49.052Z"
   },
   {
    "duration": 8,
    "start_time": "2024-11-24T03:41:49.059Z"
   },
   {
    "duration": 5,
    "start_time": "2024-11-24T03:41:49.069Z"
   },
   {
    "duration": 36,
    "start_time": "2024-11-24T03:41:49.076Z"
   },
   {
    "duration": 133,
    "start_time": "2024-11-24T03:41:49.114Z"
   },
   {
    "duration": 11,
    "start_time": "2024-11-24T03:42:40.365Z"
   },
   {
    "duration": 104,
    "start_time": "2024-11-24T03:43:04.175Z"
   },
   {
    "duration": 3,
    "start_time": "2024-11-24T03:44:00.505Z"
   },
   {
    "duration": 798,
    "start_time": "2024-11-24T03:46:56.062Z"
   },
   {
    "duration": 15,
    "start_time": "2024-11-24T03:46:56.862Z"
   },
   {
    "duration": 13,
    "start_time": "2024-11-24T03:46:56.878Z"
   },
   {
    "duration": 19,
    "start_time": "2024-11-24T03:46:56.893Z"
   },
   {
    "duration": 6,
    "start_time": "2024-11-24T03:46:56.914Z"
   },
   {
    "duration": 9,
    "start_time": "2024-11-24T03:46:56.921Z"
   },
   {
    "duration": 6,
    "start_time": "2024-11-24T03:46:56.931Z"
   },
   {
    "duration": 2,
    "start_time": "2024-11-24T03:46:56.939Z"
   },
   {
    "duration": 242,
    "start_time": "2024-11-24T03:46:56.943Z"
   },
   {
    "duration": 848,
    "start_time": "2024-11-24T03:47:57.937Z"
   },
   {
    "duration": 17,
    "start_time": "2024-11-24T03:47:58.787Z"
   },
   {
    "duration": 14,
    "start_time": "2024-11-24T03:47:58.806Z"
   },
   {
    "duration": 10,
    "start_time": "2024-11-24T03:47:58.823Z"
   },
   {
    "duration": 5,
    "start_time": "2024-11-24T03:47:58.836Z"
   },
   {
    "duration": 8,
    "start_time": "2024-11-24T03:47:58.843Z"
   },
   {
    "duration": 6,
    "start_time": "2024-11-24T03:47:58.853Z"
   },
   {
    "duration": 2,
    "start_time": "2024-11-24T03:47:58.861Z"
   },
   {
    "duration": 247,
    "start_time": "2024-11-24T03:47:58.865Z"
   },
   {
    "duration": 4,
    "start_time": "2024-11-24T03:48:49.988Z"
   },
   {
    "duration": 14,
    "start_time": "2024-11-24T03:49:03.384Z"
   },
   {
    "duration": 13,
    "start_time": "2024-11-24T03:49:08.673Z"
   },
   {
    "duration": 12,
    "start_time": "2024-11-24T03:49:14.339Z"
   },
   {
    "duration": 12,
    "start_time": "2024-11-24T03:50:19.965Z"
   },
   {
    "duration": 824,
    "start_time": "2024-11-24T03:52:00.518Z"
   },
   {
    "duration": 16,
    "start_time": "2024-11-24T03:52:01.344Z"
   },
   {
    "duration": 16,
    "start_time": "2024-11-24T03:52:01.361Z"
   },
   {
    "duration": 11,
    "start_time": "2024-11-24T03:52:01.379Z"
   },
   {
    "duration": 24,
    "start_time": "2024-11-24T03:52:01.392Z"
   },
   {
    "duration": 9,
    "start_time": "2024-11-24T03:52:01.418Z"
   },
   {
    "duration": 6,
    "start_time": "2024-11-24T03:52:01.428Z"
   },
   {
    "duration": 4,
    "start_time": "2024-11-24T03:52:01.435Z"
   },
   {
    "duration": 233,
    "start_time": "2024-11-24T03:52:01.440Z"
   },
   {
    "duration": 12,
    "start_time": "2024-11-24T03:52:57.474Z"
   },
   {
    "duration": 12,
    "start_time": "2024-11-24T03:53:01.458Z"
   },
   {
    "duration": 12,
    "start_time": "2024-11-24T03:53:10.049Z"
   },
   {
    "duration": 4,
    "start_time": "2024-11-24T03:53:16.877Z"
   },
   {
    "duration": 813,
    "start_time": "2024-11-24T03:54:37.771Z"
   },
   {
    "duration": 15,
    "start_time": "2024-11-24T03:54:38.586Z"
   },
   {
    "duration": 18,
    "start_time": "2024-11-24T03:54:38.603Z"
   },
   {
    "duration": 10,
    "start_time": "2024-11-24T03:54:38.622Z"
   },
   {
    "duration": 5,
    "start_time": "2024-11-24T03:54:38.634Z"
   },
   {
    "duration": 8,
    "start_time": "2024-11-24T03:54:38.641Z"
   },
   {
    "duration": 5,
    "start_time": "2024-11-24T03:54:38.651Z"
   },
   {
    "duration": 2,
    "start_time": "2024-11-24T03:54:38.658Z"
   },
   {
    "duration": 16,
    "start_time": "2024-11-24T03:54:38.662Z"
   },
   {
    "duration": 10,
    "start_time": "2024-11-24T03:54:46.274Z"
   },
   {
    "duration": 16,
    "start_time": "2024-11-24T03:58:34.766Z"
   },
   {
    "duration": 11,
    "start_time": "2024-11-24T03:59:09.277Z"
   },
   {
    "duration": 15,
    "start_time": "2024-11-24T04:34:47.559Z"
   },
   {
    "duration": 596,
    "start_time": "2024-11-24T04:35:27.630Z"
   },
   {
    "duration": 862,
    "start_time": "2024-11-24T04:35:40.063Z"
   },
   {
    "duration": 17,
    "start_time": "2024-11-24T04:35:40.927Z"
   },
   {
    "duration": 15,
    "start_time": "2024-11-24T04:35:40.946Z"
   },
   {
    "duration": 11,
    "start_time": "2024-11-24T04:35:40.963Z"
   },
   {
    "duration": 6,
    "start_time": "2024-11-24T04:35:40.975Z"
   },
   {
    "duration": 37,
    "start_time": "2024-11-24T04:35:40.983Z"
   },
   {
    "duration": 7,
    "start_time": "2024-11-24T04:35:41.022Z"
   },
   {
    "duration": 4,
    "start_time": "2024-11-24T04:35:41.030Z"
   },
   {
    "duration": 10,
    "start_time": "2024-11-24T04:35:41.037Z"
   },
   {
    "duration": 11,
    "start_time": "2024-11-24T04:35:41.049Z"
   },
   {
    "duration": 622,
    "start_time": "2024-11-24T04:35:41.062Z"
   },
   {
    "duration": 4,
    "start_time": "2024-11-24T04:35:48.821Z"
   },
   {
    "duration": 14,
    "start_time": "2024-11-24T04:56:54.385Z"
   },
   {
    "duration": 4,
    "start_time": "2024-11-24T04:57:35.479Z"
   },
   {
    "duration": 156,
    "start_time": "2024-11-24T18:20:32.886Z"
   },
   {
    "duration": 837,
    "start_time": "2024-11-24T18:20:43.527Z"
   },
   {
    "duration": 25,
    "start_time": "2024-11-24T18:20:44.366Z"
   },
   {
    "duration": 13,
    "start_time": "2024-11-24T18:20:44.393Z"
   },
   {
    "duration": 11,
    "start_time": "2024-11-24T18:20:44.408Z"
   },
   {
    "duration": 7,
    "start_time": "2024-11-24T18:20:44.420Z"
   },
   {
    "duration": 9,
    "start_time": "2024-11-24T18:20:44.429Z"
   },
   {
    "duration": 7,
    "start_time": "2024-11-24T18:20:44.439Z"
   },
   {
    "duration": 24,
    "start_time": "2024-11-24T18:20:44.447Z"
   },
   {
    "duration": 9,
    "start_time": "2024-11-24T18:20:44.473Z"
   },
   {
    "duration": 10,
    "start_time": "2024-11-24T18:20:44.485Z"
   },
   {
    "duration": 3,
    "start_time": "2024-11-24T18:20:44.497Z"
   },
   {
    "duration": 13,
    "start_time": "2024-11-24T18:20:44.502Z"
   },
   {
    "duration": 4,
    "start_time": "2024-11-24T18:20:44.516Z"
   },
   {
    "duration": 6,
    "start_time": "2024-11-24T18:20:44.521Z"
   },
   {
    "duration": 841,
    "start_time": "2024-11-24T18:22:06.021Z"
   },
   {
    "duration": 17,
    "start_time": "2024-11-24T18:22:06.864Z"
   },
   {
    "duration": 14,
    "start_time": "2024-11-24T18:22:06.883Z"
   },
   {
    "duration": 11,
    "start_time": "2024-11-24T18:22:06.898Z"
   },
   {
    "duration": 5,
    "start_time": "2024-11-24T18:22:06.911Z"
   },
   {
    "duration": 8,
    "start_time": "2024-11-24T18:22:06.918Z"
   },
   {
    "duration": 5,
    "start_time": "2024-11-24T18:22:06.928Z"
   },
   {
    "duration": 34,
    "start_time": "2024-11-24T18:22:06.936Z"
   },
   {
    "duration": 10,
    "start_time": "2024-11-24T18:22:06.972Z"
   },
   {
    "duration": 10,
    "start_time": "2024-11-24T18:22:06.984Z"
   },
   {
    "duration": 4,
    "start_time": "2024-11-24T18:22:06.996Z"
   },
   {
    "duration": 13,
    "start_time": "2024-11-24T18:22:07.002Z"
   },
   {
    "duration": 4,
    "start_time": "2024-11-24T18:22:07.018Z"
   },
   {
    "duration": 4,
    "start_time": "2024-11-24T18:22:07.024Z"
   },
   {
    "duration": 5,
    "start_time": "2024-11-24T18:22:22.880Z"
   },
   {
    "duration": 832,
    "start_time": "2024-11-24T18:22:46.705Z"
   },
   {
    "duration": 14,
    "start_time": "2024-11-24T18:22:47.540Z"
   },
   {
    "duration": 19,
    "start_time": "2024-11-24T18:22:47.556Z"
   },
   {
    "duration": 11,
    "start_time": "2024-11-24T18:22:47.576Z"
   },
   {
    "duration": 5,
    "start_time": "2024-11-24T18:22:47.590Z"
   },
   {
    "duration": 8,
    "start_time": "2024-11-24T18:22:47.597Z"
   },
   {
    "duration": 6,
    "start_time": "2024-11-24T18:22:47.606Z"
   },
   {
    "duration": 3,
    "start_time": "2024-11-24T18:22:47.613Z"
   },
   {
    "duration": 9,
    "start_time": "2024-11-24T18:22:47.617Z"
   },
   {
    "duration": 47,
    "start_time": "2024-11-24T18:22:47.627Z"
   },
   {
    "duration": 3,
    "start_time": "2024-11-24T18:22:47.676Z"
   },
   {
    "duration": 14,
    "start_time": "2024-11-24T18:22:47.680Z"
   },
   {
    "duration": 4,
    "start_time": "2024-11-24T18:22:47.695Z"
   },
   {
    "duration": 3,
    "start_time": "2024-11-24T18:22:47.702Z"
   },
   {
    "duration": 8,
    "start_time": "2024-11-24T18:22:47.707Z"
   },
   {
    "duration": 12,
    "start_time": "2024-11-24T18:23:07.536Z"
   },
   {
    "duration": 7,
    "start_time": "2024-11-24T18:23:29.520Z"
   },
   {
    "duration": 839,
    "start_time": "2024-11-24T18:23:38.581Z"
   },
   {
    "duration": 16,
    "start_time": "2024-11-24T18:23:39.422Z"
   },
   {
    "duration": 14,
    "start_time": "2024-11-24T18:23:39.439Z"
   },
   {
    "duration": 21,
    "start_time": "2024-11-24T18:23:39.454Z"
   },
   {
    "duration": 6,
    "start_time": "2024-11-24T18:23:39.477Z"
   },
   {
    "duration": 9,
    "start_time": "2024-11-24T18:23:39.484Z"
   },
   {
    "duration": 6,
    "start_time": "2024-11-24T18:23:39.494Z"
   },
   {
    "duration": 3,
    "start_time": "2024-11-24T18:23:39.502Z"
   },
   {
    "duration": 9,
    "start_time": "2024-11-24T18:23:39.507Z"
   },
   {
    "duration": 10,
    "start_time": "2024-11-24T18:23:39.518Z"
   },
   {
    "duration": 40,
    "start_time": "2024-11-24T18:23:39.530Z"
   },
   {
    "duration": 14,
    "start_time": "2024-11-24T18:23:39.572Z"
   },
   {
    "duration": 4,
    "start_time": "2024-11-24T18:23:39.587Z"
   },
   {
    "duration": 8,
    "start_time": "2024-11-24T18:23:39.594Z"
   },
   {
    "duration": 9,
    "start_time": "2024-11-24T18:23:52.904Z"
   },
   {
    "duration": 9,
    "start_time": "2024-11-24T18:27:16.469Z"
   },
   {
    "duration": 10,
    "start_time": "2024-11-24T18:27:33.416Z"
   },
   {
    "duration": 12,
    "start_time": "2024-11-24T18:27:52.176Z"
   },
   {
    "duration": 845,
    "start_time": "2024-11-24T18:28:15.591Z"
   },
   {
    "duration": 15,
    "start_time": "2024-11-24T18:28:16.439Z"
   },
   {
    "duration": 19,
    "start_time": "2024-11-24T18:28:16.455Z"
   },
   {
    "duration": 11,
    "start_time": "2024-11-24T18:28:16.476Z"
   },
   {
    "duration": 5,
    "start_time": "2024-11-24T18:28:16.489Z"
   },
   {
    "duration": 9,
    "start_time": "2024-11-24T18:28:16.496Z"
   },
   {
    "duration": 6,
    "start_time": "2024-11-24T18:28:16.506Z"
   },
   {
    "duration": 2,
    "start_time": "2024-11-24T18:28:16.514Z"
   },
   {
    "duration": 9,
    "start_time": "2024-11-24T18:28:16.518Z"
   },
   {
    "duration": 55,
    "start_time": "2024-11-24T18:28:16.528Z"
   },
   {
    "duration": 3,
    "start_time": "2024-11-24T18:28:16.585Z"
   },
   {
    "duration": 13,
    "start_time": "2024-11-24T18:28:16.590Z"
   },
   {
    "duration": 4,
    "start_time": "2024-11-24T18:28:16.605Z"
   },
   {
    "duration": 8,
    "start_time": "2024-11-24T18:28:16.612Z"
   },
   {
    "duration": 515,
    "start_time": "2024-11-24T18:28:16.621Z"
   },
   {
    "duration": 9,
    "start_time": "2024-11-24T18:28:56.624Z"
   },
   {
    "duration": 814,
    "start_time": "2024-11-24T18:29:58.314Z"
   },
   {
    "duration": 15,
    "start_time": "2024-11-24T18:29:59.130Z"
   },
   {
    "duration": 13,
    "start_time": "2024-11-24T18:29:59.147Z"
   },
   {
    "duration": 11,
    "start_time": "2024-11-24T18:29:59.169Z"
   },
   {
    "duration": 6,
    "start_time": "2024-11-24T18:29:59.182Z"
   },
   {
    "duration": 8,
    "start_time": "2024-11-24T18:29:59.190Z"
   },
   {
    "duration": 6,
    "start_time": "2024-11-24T18:29:59.199Z"
   },
   {
    "duration": 2,
    "start_time": "2024-11-24T18:29:59.207Z"
   },
   {
    "duration": 10,
    "start_time": "2024-11-24T18:29:59.211Z"
   },
   {
    "duration": 47,
    "start_time": "2024-11-24T18:29:59.224Z"
   },
   {
    "duration": 4,
    "start_time": "2024-11-24T18:29:59.273Z"
   },
   {
    "duration": 15,
    "start_time": "2024-11-24T18:29:59.279Z"
   },
   {
    "duration": 5,
    "start_time": "2024-11-24T18:29:59.296Z"
   },
   {
    "duration": 8,
    "start_time": "2024-11-24T18:29:59.303Z"
   },
   {
    "duration": 11,
    "start_time": "2024-11-24T18:29:59.312Z"
   },
   {
    "duration": 9,
    "start_time": "2024-11-24T18:31:33.927Z"
   },
   {
    "duration": 5,
    "start_time": "2024-11-24T19:04:37.190Z"
   },
   {
    "duration": 3,
    "start_time": "2024-11-24T19:04:50.758Z"
   },
   {
    "duration": 307,
    "start_time": "2024-11-24T19:05:08.664Z"
   },
   {
    "duration": 8,
    "start_time": "2024-11-24T19:09:36.125Z"
   },
   {
    "duration": 808,
    "start_time": "2024-11-24T19:15:57.615Z"
   },
   {
    "duration": 15,
    "start_time": "2024-11-24T19:15:58.425Z"
   },
   {
    "duration": 13,
    "start_time": "2024-11-24T19:15:58.442Z"
   },
   {
    "duration": 21,
    "start_time": "2024-11-24T19:15:58.457Z"
   },
   {
    "duration": 6,
    "start_time": "2024-11-24T19:15:58.481Z"
   },
   {
    "duration": 8,
    "start_time": "2024-11-24T19:15:58.488Z"
   },
   {
    "duration": 6,
    "start_time": "2024-11-24T19:15:58.497Z"
   },
   {
    "duration": 3,
    "start_time": "2024-11-24T19:15:58.505Z"
   },
   {
    "duration": 9,
    "start_time": "2024-11-24T19:15:58.510Z"
   },
   {
    "duration": 10,
    "start_time": "2024-11-24T19:15:58.520Z"
   },
   {
    "duration": 40,
    "start_time": "2024-11-24T19:15:58.532Z"
   },
   {
    "duration": 14,
    "start_time": "2024-11-24T19:15:58.573Z"
   },
   {
    "duration": 4,
    "start_time": "2024-11-24T19:15:58.588Z"
   },
   {
    "duration": 9,
    "start_time": "2024-11-24T19:15:58.596Z"
   },
   {
    "duration": 12,
    "start_time": "2024-11-24T19:15:58.606Z"
   },
   {
    "duration": 9,
    "start_time": "2024-11-24T19:15:58.619Z"
   },
   {
    "duration": 45,
    "start_time": "2024-11-24T19:15:58.630Z"
   },
   {
    "duration": 515,
    "start_time": "2024-11-24T19:15:58.676Z"
   },
   {
    "duration": 7,
    "start_time": "2024-11-24T19:16:29.959Z"
   },
   {
    "duration": 18,
    "start_time": "2024-11-24T19:18:54.832Z"
   },
   {
    "duration": 852,
    "start_time": "2024-11-24T19:19:16.129Z"
   },
   {
    "duration": 18,
    "start_time": "2024-11-24T19:19:16.983Z"
   },
   {
    "duration": 14,
    "start_time": "2024-11-24T19:19:17.004Z"
   },
   {
    "duration": 11,
    "start_time": "2024-11-24T19:19:17.020Z"
   },
   {
    "duration": 6,
    "start_time": "2024-11-24T19:19:17.032Z"
   },
   {
    "duration": 34,
    "start_time": "2024-11-24T19:19:17.040Z"
   },
   {
    "duration": 7,
    "start_time": "2024-11-24T19:19:17.076Z"
   },
   {
    "duration": 2,
    "start_time": "2024-11-24T19:19:17.086Z"
   },
   {
    "duration": 9,
    "start_time": "2024-11-24T19:19:17.090Z"
   },
   {
    "duration": 11,
    "start_time": "2024-11-24T19:19:17.100Z"
   },
   {
    "duration": 3,
    "start_time": "2024-11-24T19:19:17.113Z"
   },
   {
    "duration": 13,
    "start_time": "2024-11-24T19:19:17.118Z"
   },
   {
    "duration": 40,
    "start_time": "2024-11-24T19:19:17.134Z"
   },
   {
    "duration": 12,
    "start_time": "2024-11-24T19:19:17.175Z"
   },
   {
    "duration": 15,
    "start_time": "2024-11-24T19:19:17.189Z"
   },
   {
    "duration": 9,
    "start_time": "2024-11-24T19:19:17.205Z"
   },
   {
    "duration": 6,
    "start_time": "2024-11-24T19:19:17.216Z"
   },
   {
    "duration": 48,
    "start_time": "2024-11-24T19:19:17.224Z"
   },
   {
    "duration": 330,
    "start_time": "2024-11-24T19:20:02.691Z"
   },
   {
    "duration": 4,
    "start_time": "2024-11-24T19:20:27.562Z"
   },
   {
    "duration": 11,
    "start_time": "2024-11-24T19:20:33.047Z"
   },
   {
    "duration": 6,
    "start_time": "2024-11-24T19:24:09.223Z"
   },
   {
    "duration": 32,
    "start_time": "2024-11-24T21:39:20.371Z"
   },
   {
    "duration": 2,
    "start_time": "2024-11-24T21:43:34.943Z"
   },
   {
    "duration": 3,
    "start_time": "2024-11-24T21:44:05.689Z"
   },
   {
    "duration": 3,
    "start_time": "2024-11-24T21:44:21.094Z"
   },
   {
    "duration": 3,
    "start_time": "2024-11-24T21:44:38.553Z"
   },
   {
    "duration": 3,
    "start_time": "2024-11-24T21:44:55.945Z"
   },
   {
    "duration": 3,
    "start_time": "2024-11-24T21:45:11.731Z"
   },
   {
    "duration": 3,
    "start_time": "2024-11-24T21:45:32.716Z"
   },
   {
    "duration": 4,
    "start_time": "2024-11-24T21:45:52.462Z"
   },
   {
    "duration": 3,
    "start_time": "2024-11-24T21:47:14.763Z"
   },
   {
    "duration": 3,
    "start_time": "2024-11-24T21:49:43.599Z"
   },
   {
    "duration": 30,
    "start_time": "2024-11-24T21:52:31.006Z"
   },
   {
    "duration": 4,
    "start_time": "2024-11-24T21:53:51.017Z"
   },
   {
    "duration": 31,
    "start_time": "2024-11-24T21:53:57.593Z"
   },
   {
    "duration": 3,
    "start_time": "2024-11-24T21:54:56.271Z"
   },
   {
    "duration": 3,
    "start_time": "2024-11-24T21:55:01.816Z"
   },
   {
    "duration": 28,
    "start_time": "2024-11-24T21:55:19.021Z"
   },
   {
    "duration": 29,
    "start_time": "2024-11-24T21:55:35.175Z"
   },
   {
    "duration": 30,
    "start_time": "2024-11-24T21:55:59.192Z"
   },
   {
    "duration": 30,
    "start_time": "2024-11-24T21:56:30.776Z"
   },
   {
    "duration": 30,
    "start_time": "2024-11-24T21:57:18.922Z"
   },
   {
    "duration": 29,
    "start_time": "2024-11-24T22:01:05.827Z"
   },
   {
    "duration": 29,
    "start_time": "2024-11-24T22:01:08.036Z"
   },
   {
    "duration": 30,
    "start_time": "2024-11-24T22:02:11.751Z"
   },
   {
    "duration": 30,
    "start_time": "2024-11-24T22:02:33.687Z"
   },
   {
    "duration": 31,
    "start_time": "2024-11-24T22:39:35.086Z"
   },
   {
    "duration": 31,
    "start_time": "2024-11-24T22:50:38.781Z"
   },
   {
    "duration": 32,
    "start_time": "2024-11-24T22:51:19.988Z"
   },
   {
    "duration": 47,
    "start_time": "2024-11-24T22:53:00.030Z"
   },
   {
    "duration": 401,
    "start_time": "2024-11-24T22:53:37.347Z"
   },
   {
    "duration": 10,
    "start_time": "2024-11-24T22:54:09.216Z"
   },
   {
    "duration": 40,
    "start_time": "2024-11-24T22:54:43.086Z"
   },
   {
    "duration": 5,
    "start_time": "2024-11-24T22:59:22.958Z"
   },
   {
    "duration": 23,
    "start_time": "2024-11-24T23:03:00.936Z"
   },
   {
    "duration": 19,
    "start_time": "2024-11-24T23:05:35.889Z"
   },
   {
    "duration": 15,
    "start_time": "2024-11-24T23:05:43.368Z"
   },
   {
    "duration": 4,
    "start_time": "2024-11-24T23:17:12.371Z"
   },
   {
    "duration": 4,
    "start_time": "2024-11-24T23:17:13.576Z"
   },
   {
    "duration": 25,
    "start_time": "2024-11-24T23:17:24.606Z"
   },
   {
    "duration": 3,
    "start_time": "2024-11-24T23:18:24.343Z"
   },
   {
    "duration": 3,
    "start_time": "2024-11-24T23:18:31.216Z"
   },
   {
    "duration": 12,
    "start_time": "2024-11-24T23:18:33.133Z"
   },
   {
    "duration": 66,
    "start_time": "2024-11-24T23:22:15.426Z"
   },
   {
    "duration": 52,
    "start_time": "2024-11-24T23:41:21.332Z"
   },
   {
    "duration": 3,
    "start_time": "2024-11-24T23:41:58.080Z"
   },
   {
    "duration": 32,
    "start_time": "2024-11-24T23:42:29.722Z"
   },
   {
    "duration": 32,
    "start_time": "2024-11-24T23:42:58.187Z"
   },
   {
    "duration": 51,
    "start_time": "2024-11-24T23:43:10.027Z"
   },
   {
    "duration": 831,
    "start_time": "2024-11-24T23:45:24.055Z"
   },
   {
    "duration": 16,
    "start_time": "2024-11-24T23:45:24.888Z"
   },
   {
    "duration": 13,
    "start_time": "2024-11-24T23:45:24.906Z"
   },
   {
    "duration": 10,
    "start_time": "2024-11-24T23:45:24.921Z"
   },
   {
    "duration": 6,
    "start_time": "2024-11-24T23:45:24.933Z"
   },
   {
    "duration": 32,
    "start_time": "2024-11-24T23:45:24.941Z"
   },
   {
    "duration": 6,
    "start_time": "2024-11-24T23:45:24.975Z"
   },
   {
    "duration": 3,
    "start_time": "2024-11-24T23:45:24.982Z"
   },
   {
    "duration": 9,
    "start_time": "2024-11-24T23:45:24.987Z"
   },
   {
    "duration": 10,
    "start_time": "2024-11-24T23:45:24.999Z"
   },
   {
    "duration": 3,
    "start_time": "2024-11-24T23:45:25.012Z"
   },
   {
    "duration": 14,
    "start_time": "2024-11-24T23:45:25.017Z"
   },
   {
    "duration": 39,
    "start_time": "2024-11-24T23:45:25.033Z"
   },
   {
    "duration": 8,
    "start_time": "2024-11-24T23:45:25.074Z"
   },
   {
    "duration": 11,
    "start_time": "2024-11-24T23:45:25.084Z"
   },
   {
    "duration": 8,
    "start_time": "2024-11-24T23:45:25.096Z"
   },
   {
    "duration": 7,
    "start_time": "2024-11-24T23:45:25.106Z"
   },
   {
    "duration": 8,
    "start_time": "2024-11-24T23:45:25.115Z"
   },
   {
    "duration": 4,
    "start_time": "2024-11-24T23:45:25.124Z"
   },
   {
    "duration": 71,
    "start_time": "2024-11-24T23:45:25.130Z"
   },
   {
    "duration": 32,
    "start_time": "2024-11-24T23:45:25.204Z"
   },
   {
    "duration": 6,
    "start_time": "2024-11-24T23:45:25.240Z"
   },
   {
    "duration": 5,
    "start_time": "2024-11-24T23:45:25.248Z"
   },
   {
    "duration": 12,
    "start_time": "2024-11-24T23:45:25.270Z"
   },
   {
    "duration": 50,
    "start_time": "2024-11-24T23:45:25.284Z"
   },
   {
    "duration": 56,
    "start_time": "2024-11-24T23:55:36.538Z"
   },
   {
    "duration": 51,
    "start_time": "2024-11-24T23:56:23.027Z"
   },
   {
    "duration": 1432,
    "start_time": "2024-11-25T00:00:45.009Z"
   },
   {
    "duration": 53,
    "start_time": "2024-11-25T00:01:33.697Z"
   },
   {
    "duration": 159,
    "start_time": "2024-11-25T03:05:41.129Z"
   },
   {
    "duration": 863,
    "start_time": "2024-11-25T03:06:03.066Z"
   },
   {
    "duration": 35,
    "start_time": "2024-11-25T03:06:03.930Z"
   },
   {
    "duration": 14,
    "start_time": "2024-11-25T03:06:03.967Z"
   },
   {
    "duration": 12,
    "start_time": "2024-11-25T03:06:03.984Z"
   },
   {
    "duration": 7,
    "start_time": "2024-11-25T03:06:03.998Z"
   },
   {
    "duration": 13,
    "start_time": "2024-11-25T03:06:04.007Z"
   },
   {
    "duration": 6,
    "start_time": "2024-11-25T03:06:04.022Z"
   },
   {
    "duration": 2,
    "start_time": "2024-11-25T03:06:04.030Z"
   },
   {
    "duration": 9,
    "start_time": "2024-11-25T03:06:04.034Z"
   },
   {
    "duration": 10,
    "start_time": "2024-11-25T03:06:04.047Z"
   },
   {
    "duration": 3,
    "start_time": "2024-11-25T03:06:04.059Z"
   },
   {
    "duration": 13,
    "start_time": "2024-11-25T03:06:04.064Z"
   },
   {
    "duration": 4,
    "start_time": "2024-11-25T03:06:04.112Z"
   },
   {
    "duration": 8,
    "start_time": "2024-11-25T03:06:04.117Z"
   },
   {
    "duration": 10,
    "start_time": "2024-11-25T03:06:04.127Z"
   },
   {
    "duration": 7,
    "start_time": "2024-11-25T03:06:04.139Z"
   },
   {
    "duration": 6,
    "start_time": "2024-11-25T03:06:04.148Z"
   },
   {
    "duration": 7,
    "start_time": "2024-11-25T03:06:04.156Z"
   },
   {
    "duration": 3,
    "start_time": "2024-11-25T03:06:04.164Z"
   },
   {
    "duration": 69,
    "start_time": "2024-11-25T03:06:04.169Z"
   },
   {
    "duration": 31,
    "start_time": "2024-11-25T03:06:04.240Z"
   },
   {
    "duration": 5,
    "start_time": "2024-11-25T03:06:04.272Z"
   },
   {
    "duration": 240,
    "start_time": "2024-11-25T03:06:04.278Z"
   },
   {
    "duration": 0,
    "start_time": "2024-11-25T03:06:04.520Z"
   },
   {
    "duration": 0,
    "start_time": "2024-11-25T03:06:04.521Z"
   },
   {
    "duration": 0,
    "start_time": "2024-11-25T03:06:04.523Z"
   },
   {
    "duration": 873,
    "start_time": "2024-11-25T03:06:23.044Z"
   },
   {
    "duration": 15,
    "start_time": "2024-11-25T03:06:23.919Z"
   },
   {
    "duration": 13,
    "start_time": "2024-11-25T03:06:23.936Z"
   },
   {
    "duration": 9,
    "start_time": "2024-11-25T03:06:23.951Z"
   },
   {
    "duration": 5,
    "start_time": "2024-11-25T03:06:23.962Z"
   },
   {
    "duration": 9,
    "start_time": "2024-11-25T03:06:23.969Z"
   },
   {
    "duration": 33,
    "start_time": "2024-11-25T03:06:23.979Z"
   },
   {
    "duration": 2,
    "start_time": "2024-11-25T03:06:24.014Z"
   },
   {
    "duration": 9,
    "start_time": "2024-11-25T03:06:24.019Z"
   },
   {
    "duration": 9,
    "start_time": "2024-11-25T03:06:24.031Z"
   },
   {
    "duration": 3,
    "start_time": "2024-11-25T03:06:24.042Z"
   },
   {
    "duration": 14,
    "start_time": "2024-11-25T03:06:24.046Z"
   },
   {
    "duration": 4,
    "start_time": "2024-11-25T03:06:24.062Z"
   },
   {
    "duration": 45,
    "start_time": "2024-11-25T03:06:24.068Z"
   },
   {
    "duration": 12,
    "start_time": "2024-11-25T03:06:24.114Z"
   },
   {
    "duration": 9,
    "start_time": "2024-11-25T03:06:24.127Z"
   },
   {
    "duration": 6,
    "start_time": "2024-11-25T03:06:24.138Z"
   },
   {
    "duration": 7,
    "start_time": "2024-11-25T03:06:24.147Z"
   },
   {
    "duration": 3,
    "start_time": "2024-11-25T03:06:24.155Z"
   },
   {
    "duration": 64,
    "start_time": "2024-11-25T03:06:24.160Z"
   },
   {
    "duration": 33,
    "start_time": "2024-11-25T03:06:24.226Z"
   },
   {
    "duration": 4,
    "start_time": "2024-11-25T03:06:24.261Z"
   },
   {
    "duration": 237,
    "start_time": "2024-11-25T03:06:24.267Z"
   },
   {
    "duration": 0,
    "start_time": "2024-11-25T03:06:24.512Z"
   },
   {
    "duration": 0,
    "start_time": "2024-11-25T03:06:24.513Z"
   },
   {
    "duration": 0,
    "start_time": "2024-11-25T03:06:24.515Z"
   },
   {
    "duration": 5,
    "start_time": "2024-11-25T03:06:42.252Z"
   },
   {
    "duration": 4,
    "start_time": "2024-11-25T03:07:12.036Z"
   },
   {
    "duration": 5,
    "start_time": "2024-11-25T03:07:25.735Z"
   },
   {
    "duration": 2110,
    "start_time": "2024-11-25T03:12:26.145Z"
   },
   {
    "duration": 157,
    "start_time": "2024-11-25T05:06:50.586Z"
   },
   {
    "duration": 902,
    "start_time": "2024-11-25T05:07:11.633Z"
   },
   {
    "duration": 28,
    "start_time": "2024-11-25T05:07:12.537Z"
   },
   {
    "duration": 14,
    "start_time": "2024-11-25T05:07:12.567Z"
   },
   {
    "duration": 10,
    "start_time": "2024-11-25T05:07:12.583Z"
   },
   {
    "duration": 16,
    "start_time": "2024-11-25T05:07:12.595Z"
   },
   {
    "duration": 9,
    "start_time": "2024-11-25T05:07:12.613Z"
   },
   {
    "duration": 7,
    "start_time": "2024-11-25T05:07:12.623Z"
   },
   {
    "duration": 3,
    "start_time": "2024-11-25T05:07:12.631Z"
   },
   {
    "duration": 9,
    "start_time": "2024-11-25T05:07:12.636Z"
   },
   {
    "duration": 11,
    "start_time": "2024-11-25T05:07:12.648Z"
   },
   {
    "duration": 4,
    "start_time": "2024-11-25T05:07:12.660Z"
   },
   {
    "duration": 51,
    "start_time": "2024-11-25T05:07:12.665Z"
   },
   {
    "duration": 4,
    "start_time": "2024-11-25T05:07:12.717Z"
   },
   {
    "duration": 9,
    "start_time": "2024-11-25T05:07:12.723Z"
   },
   {
    "duration": 11,
    "start_time": "2024-11-25T05:07:12.734Z"
   },
   {
    "duration": 8,
    "start_time": "2024-11-25T05:07:12.747Z"
   },
   {
    "duration": 7,
    "start_time": "2024-11-25T05:07:12.757Z"
   },
   {
    "duration": 44,
    "start_time": "2024-11-25T05:07:12.765Z"
   },
   {
    "duration": 4,
    "start_time": "2024-11-25T05:07:12.810Z"
   },
   {
    "duration": 32,
    "start_time": "2024-11-25T05:07:12.815Z"
   },
   {
    "duration": 31,
    "start_time": "2024-11-25T05:07:12.848Z"
   },
   {
    "duration": 28,
    "start_time": "2024-11-25T05:07:12.881Z"
   },
   {
    "duration": 1948,
    "start_time": "2024-11-25T05:07:12.911Z"
   },
   {
    "duration": 5,
    "start_time": "2024-11-25T05:07:14.861Z"
   },
   {
    "duration": 4,
    "start_time": "2024-11-25T05:07:14.867Z"
   },
   {
    "duration": 12,
    "start_time": "2024-11-25T05:07:14.872Z"
   },
   {
    "duration": 4,
    "start_time": "2024-11-25T05:11:59.553Z"
   },
   {
    "duration": 227,
    "start_time": "2024-11-25T05:16:14.096Z"
   },
   {
    "duration": 1002,
    "start_time": "2024-11-25T05:16:26.493Z"
   },
   {
    "duration": 85,
    "start_time": "2024-11-25T05:17:12.116Z"
   },
   {
    "duration": 4,
    "start_time": "2024-11-25T05:18:31.516Z"
   },
   {
    "duration": 21,
    "start_time": "2024-11-25T05:19:15.292Z"
   },
   {
    "duration": 19,
    "start_time": "2024-11-25T05:19:26.718Z"
   },
   {
    "duration": 6,
    "start_time": "2024-11-25T05:20:55.752Z"
   },
   {
    "duration": 8,
    "start_time": "2024-11-25T05:21:47.227Z"
   },
   {
    "duration": 8,
    "start_time": "2024-11-25T05:22:02.559Z"
   },
   {
    "duration": 15,
    "start_time": "2024-11-25T05:23:14.534Z"
   },
   {
    "duration": 60,
    "start_time": "2024-11-25T05:23:20.686Z"
   },
   {
    "duration": 8,
    "start_time": "2024-11-25T05:24:41.950Z"
   },
   {
    "duration": 11,
    "start_time": "2024-11-25T05:26:24.439Z"
   },
   {
    "duration": 15,
    "start_time": "2024-11-25T05:27:14.845Z"
   },
   {
    "duration": 9,
    "start_time": "2024-11-25T05:31:11.629Z"
   },
   {
    "duration": 8,
    "start_time": "2024-11-25T05:32:49.957Z"
   },
   {
    "duration": 38,
    "start_time": "2024-11-25T05:36:34.483Z"
   },
   {
    "duration": 48,
    "start_time": "2024-11-25T05:38:07.244Z"
   },
   {
    "duration": 11,
    "start_time": "2024-11-25T05:40:32.561Z"
   },
   {
    "duration": 3,
    "start_time": "2024-11-25T05:43:16.705Z"
   },
   {
    "duration": 11,
    "start_time": "2024-11-25T05:43:52.765Z"
   },
   {
    "duration": 5,
    "start_time": "2024-11-25T05:46:18.369Z"
   },
   {
    "duration": 4,
    "start_time": "2024-11-25T05:46:24.826Z"
   },
   {
    "duration": 52,
    "start_time": "2024-11-25T05:46:53.241Z"
   },
   {
    "duration": 6,
    "start_time": "2024-11-25T06:29:25.855Z"
   },
   {
    "duration": 6,
    "start_time": "2024-11-25T06:29:54.854Z"
   },
   {
    "duration": 74,
    "start_time": "2024-11-25T06:30:15.289Z"
   },
   {
    "duration": 6,
    "start_time": "2024-11-25T06:30:31.282Z"
   },
   {
    "duration": 60,
    "start_time": "2024-11-25T06:30:32.907Z"
   },
   {
    "duration": 6,
    "start_time": "2024-11-25T06:31:17.626Z"
   },
   {
    "duration": 48,
    "start_time": "2024-11-25T06:31:19.803Z"
   },
   {
    "duration": 8,
    "start_time": "2024-11-25T06:32:46.377Z"
   },
   {
    "duration": 6,
    "start_time": "2024-11-25T06:32:52.749Z"
   },
   {
    "duration": 49,
    "start_time": "2024-11-25T06:32:56.144Z"
   },
   {
    "duration": 6,
    "start_time": "2024-11-25T06:33:10.009Z"
   },
   {
    "duration": 48,
    "start_time": "2024-11-25T06:33:11.312Z"
   },
   {
    "duration": 8,
    "start_time": "2024-11-25T06:33:25.792Z"
   },
   {
    "duration": 6,
    "start_time": "2024-11-25T06:33:46.936Z"
   },
   {
    "duration": 48,
    "start_time": "2024-11-25T06:33:52.746Z"
   },
   {
    "duration": 6,
    "start_time": "2024-11-25T06:34:42.173Z"
   },
   {
    "duration": 7,
    "start_time": "2024-11-25T06:34:56.765Z"
   },
   {
    "duration": 8,
    "start_time": "2024-11-25T06:35:10.358Z"
   },
   {
    "duration": 8,
    "start_time": "2024-11-25T06:36:03.129Z"
   },
   {
    "duration": 7,
    "start_time": "2024-11-25T06:36:19.829Z"
   },
   {
    "duration": 6,
    "start_time": "2024-11-25T06:36:39.405Z"
   },
   {
    "duration": 48,
    "start_time": "2024-11-25T06:36:45.016Z"
   },
   {
    "duration": 48,
    "start_time": "2024-11-25T06:36:52.627Z"
   },
   {
    "duration": 6,
    "start_time": "2024-11-25T06:37:00.070Z"
   },
   {
    "duration": 49,
    "start_time": "2024-11-25T06:37:01.120Z"
   },
   {
    "duration": 6,
    "start_time": "2024-11-25T06:37:14.886Z"
   },
   {
    "duration": 49,
    "start_time": "2024-11-25T06:37:16.520Z"
   },
   {
    "duration": 7,
    "start_time": "2024-11-25T06:37:40.174Z"
   },
   {
    "duration": 49,
    "start_time": "2024-11-25T06:37:41.350Z"
   },
   {
    "duration": 8,
    "start_time": "2024-11-25T06:37:47.757Z"
   },
   {
    "duration": 5,
    "start_time": "2024-11-25T06:38:00.923Z"
   },
   {
    "duration": 6,
    "start_time": "2024-11-25T06:41:31.900Z"
   },
   {
    "duration": 48,
    "start_time": "2024-11-25T06:41:32.918Z"
   },
   {
    "duration": 879,
    "start_time": "2024-11-25T06:43:22.346Z"
   },
   {
    "duration": 17,
    "start_time": "2024-11-25T06:43:23.227Z"
   },
   {
    "duration": 14,
    "start_time": "2024-11-25T06:43:23.245Z"
   },
   {
    "duration": 9,
    "start_time": "2024-11-25T06:43:23.261Z"
   },
   {
    "duration": 6,
    "start_time": "2024-11-25T06:43:23.272Z"
   },
   {
    "duration": 30,
    "start_time": "2024-11-25T06:43:23.279Z"
   },
   {
    "duration": 6,
    "start_time": "2024-11-25T06:43:23.311Z"
   },
   {
    "duration": 2,
    "start_time": "2024-11-25T06:43:23.319Z"
   },
   {
    "duration": 9,
    "start_time": "2024-11-25T06:43:23.323Z"
   },
   {
    "duration": 10,
    "start_time": "2024-11-25T06:43:23.335Z"
   },
   {
    "duration": 4,
    "start_time": "2024-11-25T06:43:23.347Z"
   },
   {
    "duration": 14,
    "start_time": "2024-11-25T06:43:23.352Z"
   },
   {
    "duration": 4,
    "start_time": "2024-11-25T06:43:23.367Z"
   },
   {
    "duration": 8,
    "start_time": "2024-11-25T06:43:23.409Z"
   },
   {
    "duration": 10,
    "start_time": "2024-11-25T06:43:23.419Z"
   },
   {
    "duration": 9,
    "start_time": "2024-11-25T06:43:23.432Z"
   },
   {
    "duration": 8,
    "start_time": "2024-11-25T06:43:23.442Z"
   },
   {
    "duration": 8,
    "start_time": "2024-11-25T06:43:23.451Z"
   },
   {
    "duration": 3,
    "start_time": "2024-11-25T06:43:23.461Z"
   },
   {
    "duration": 70,
    "start_time": "2024-11-25T06:43:23.466Z"
   },
   {
    "duration": 32,
    "start_time": "2024-11-25T06:43:23.538Z"
   },
   {
    "duration": 5,
    "start_time": "2024-11-25T06:43:23.571Z"
   },
   {
    "duration": 261,
    "start_time": "2024-11-25T06:43:23.577Z"
   },
   {
    "duration": 6,
    "start_time": "2024-11-25T06:43:23.840Z"
   },
   {
    "duration": 62,
    "start_time": "2024-11-25T06:43:23.848Z"
   },
   {
    "duration": 6,
    "start_time": "2024-11-25T06:45:28.486Z"
   },
   {
    "duration": 44,
    "start_time": "2024-11-25T06:45:29.860Z"
   },
   {
    "duration": 5,
    "start_time": "2024-11-25T06:45:50.466Z"
   },
   {
    "duration": 225,
    "start_time": "2024-11-25T06:51:42.886Z"
   },
   {
    "duration": 5,
    "start_time": "2024-11-25T06:52:17.709Z"
   },
   {
    "duration": 16,
    "start_time": "2024-11-25T06:52:26.940Z"
   },
   {
    "duration": 890,
    "start_time": "2024-11-25T06:53:50.544Z"
   },
   {
    "duration": 17,
    "start_time": "2024-11-25T06:53:51.436Z"
   },
   {
    "duration": 14,
    "start_time": "2024-11-25T06:53:51.455Z"
   },
   {
    "duration": 10,
    "start_time": "2024-11-25T06:53:51.471Z"
   },
   {
    "duration": 6,
    "start_time": "2024-11-25T06:53:51.482Z"
   },
   {
    "duration": 9,
    "start_time": "2024-11-25T06:53:51.509Z"
   },
   {
    "duration": 7,
    "start_time": "2024-11-25T06:53:51.519Z"
   },
   {
    "duration": 3,
    "start_time": "2024-11-25T06:53:51.527Z"
   },
   {
    "duration": 10,
    "start_time": "2024-11-25T06:53:51.532Z"
   },
   {
    "duration": 10,
    "start_time": "2024-11-25T06:53:51.546Z"
   },
   {
    "duration": 4,
    "start_time": "2024-11-25T06:53:51.558Z"
   },
   {
    "duration": 52,
    "start_time": "2024-11-25T06:53:51.563Z"
   },
   {
    "duration": 4,
    "start_time": "2024-11-25T06:53:51.616Z"
   },
   {
    "duration": 10,
    "start_time": "2024-11-25T06:53:51.621Z"
   },
   {
    "duration": 11,
    "start_time": "2024-11-25T06:53:51.632Z"
   },
   {
    "duration": 9,
    "start_time": "2024-11-25T06:53:51.644Z"
   },
   {
    "duration": 7,
    "start_time": "2024-11-25T06:53:51.654Z"
   },
   {
    "duration": 7,
    "start_time": "2024-11-25T06:53:51.663Z"
   },
   {
    "duration": 3,
    "start_time": "2024-11-25T06:53:51.708Z"
   },
   {
    "duration": 32,
    "start_time": "2024-11-25T06:53:51.713Z"
   },
   {
    "duration": 31,
    "start_time": "2024-11-25T06:53:51.747Z"
   },
   {
    "duration": 5,
    "start_time": "2024-11-25T06:53:51.780Z"
   },
   {
    "duration": 286,
    "start_time": "2024-11-25T06:53:51.786Z"
   },
   {
    "duration": 5,
    "start_time": "2024-11-25T06:53:52.075Z"
   },
   {
    "duration": 56,
    "start_time": "2024-11-25T06:53:52.082Z"
   },
   {
    "duration": 236,
    "start_time": "2024-11-25T06:53:52.140Z"
   },
   {
    "duration": 6,
    "start_time": "2024-11-25T16:20:45.760Z"
   },
   {
    "duration": 156,
    "start_time": "2024-11-25T16:20:47.198Z"
   },
   {
    "duration": 11,
    "start_time": "2024-11-25T16:23:58.462Z"
   },
   {
    "duration": 896,
    "start_time": "2024-11-25T16:24:26.874Z"
   },
   {
    "duration": 26,
    "start_time": "2024-11-25T16:24:27.773Z"
   },
   {
    "duration": 13,
    "start_time": "2024-11-25T16:24:27.801Z"
   },
   {
    "duration": 9,
    "start_time": "2024-11-25T16:24:27.817Z"
   },
   {
    "duration": 6,
    "start_time": "2024-11-25T16:24:27.828Z"
   },
   {
    "duration": 8,
    "start_time": "2024-11-25T16:24:27.836Z"
   },
   {
    "duration": 24,
    "start_time": "2024-11-25T16:24:27.846Z"
   },
   {
    "duration": 3,
    "start_time": "2024-11-25T16:24:27.871Z"
   },
   {
    "duration": 8,
    "start_time": "2024-11-25T16:24:27.876Z"
   },
   {
    "duration": 10,
    "start_time": "2024-11-25T16:24:27.888Z"
   },
   {
    "duration": 3,
    "start_time": "2024-11-25T16:24:27.900Z"
   },
   {
    "duration": 14,
    "start_time": "2024-11-25T16:24:27.904Z"
   },
   {
    "duration": 5,
    "start_time": "2024-11-25T16:24:27.919Z"
   },
   {
    "duration": 46,
    "start_time": "2024-11-25T16:24:27.926Z"
   },
   {
    "duration": 12,
    "start_time": "2024-11-25T16:24:27.973Z"
   },
   {
    "duration": 9,
    "start_time": "2024-11-25T16:24:27.986Z"
   },
   {
    "duration": 7,
    "start_time": "2024-11-25T16:24:27.998Z"
   },
   {
    "duration": 8,
    "start_time": "2024-11-25T16:24:28.007Z"
   },
   {
    "duration": 4,
    "start_time": "2024-11-25T16:24:28.016Z"
   },
   {
    "duration": 72,
    "start_time": "2024-11-25T16:24:28.022Z"
   },
   {
    "duration": 32,
    "start_time": "2024-11-25T16:24:28.096Z"
   },
   {
    "duration": 5,
    "start_time": "2024-11-25T16:24:28.130Z"
   },
   {
    "duration": 1948,
    "start_time": "2024-11-25T16:24:28.137Z"
   },
   {
    "duration": 3,
    "start_time": "2024-11-25T16:24:30.087Z"
   },
   {
    "duration": 13,
    "start_time": "2024-11-25T16:24:30.092Z"
   },
   {
    "duration": 248,
    "start_time": "2024-11-25T16:24:30.106Z"
   },
   {
    "duration": 13,
    "start_time": "2024-11-25T16:28:56.142Z"
   },
   {
    "duration": 8,
    "start_time": "2024-11-25T16:29:05.326Z"
   },
   {
    "duration": 92,
    "start_time": "2024-11-25T16:29:06.545Z"
   },
   {
    "duration": 43,
    "start_time": "2024-11-25T16:29:36.524Z"
   },
   {
    "duration": 37,
    "start_time": "2024-11-25T16:31:46.134Z"
   },
   {
    "duration": 7319,
    "start_time": "2024-11-25T16:34:11.858Z"
   },
   {
    "duration": 34,
    "start_time": "2024-11-25T16:35:21.596Z"
   },
   {
    "duration": 39,
    "start_time": "2024-11-25T16:39:08.419Z"
   },
   {
    "duration": 37,
    "start_time": "2024-11-25T16:40:42.515Z"
   },
   {
    "duration": 39,
    "start_time": "2024-11-25T16:41:07.011Z"
   },
   {
    "duration": 5,
    "start_time": "2024-11-25T16:42:51.745Z"
   },
   {
    "duration": 4,
    "start_time": "2024-11-25T16:42:57.758Z"
   },
   {
    "duration": 8500,
    "start_time": "2024-11-25T16:43:55.390Z"
   },
   {
    "duration": 7690,
    "start_time": "2024-11-25T16:44:30.836Z"
   },
   {
    "duration": 634,
    "start_time": "2024-11-25T16:48:00.479Z"
   },
   {
    "duration": 100387,
    "start_time": "2024-11-25T16:50:51.213Z"
   },
   {
    "duration": 1886,
    "start_time": "2024-11-25T16:56:58.363Z"
   },
   {
    "duration": 1886,
    "start_time": "2024-11-25T16:57:49.388Z"
   },
   {
    "duration": 4,
    "start_time": "2024-11-25T17:01:20.740Z"
   },
   {
    "duration": 11,
    "start_time": "2024-11-25T17:01:47.808Z"
   },
   {
    "duration": 37,
    "start_time": "2024-11-25T17:01:51.867Z"
   },
   {
    "duration": 10,
    "start_time": "2024-11-25T17:01:56.080Z"
   },
   {
    "duration": 38,
    "start_time": "2024-11-25T17:01:57.644Z"
   },
   {
    "duration": 4,
    "start_time": "2024-11-25T17:02:00.113Z"
   },
   {
    "duration": 7597,
    "start_time": "2024-11-25T17:02:01.475Z"
   },
   {
    "duration": 37,
    "start_time": "2024-11-25T17:02:09.075Z"
   },
   {
    "duration": 657,
    "start_time": "2024-11-25T17:02:09.113Z"
   },
   {
    "duration": 843,
    "start_time": "2024-11-25T17:02:37.601Z"
   },
   {
    "duration": 17,
    "start_time": "2024-11-25T17:02:38.447Z"
   },
   {
    "duration": 13,
    "start_time": "2024-11-25T17:02:38.466Z"
   },
   {
    "duration": 10,
    "start_time": "2024-11-25T17:02:38.481Z"
   },
   {
    "duration": 6,
    "start_time": "2024-11-25T17:02:38.493Z"
   },
   {
    "duration": 9,
    "start_time": "2024-11-25T17:02:38.500Z"
   },
   {
    "duration": 6,
    "start_time": "2024-11-25T17:02:38.510Z"
   },
   {
    "duration": 2,
    "start_time": "2024-11-25T17:02:38.518Z"
   },
   {
    "duration": 49,
    "start_time": "2024-11-25T17:02:38.522Z"
   },
   {
    "duration": 11,
    "start_time": "2024-11-25T17:02:38.574Z"
   },
   {
    "duration": 3,
    "start_time": "2024-11-25T17:02:38.587Z"
   },
   {
    "duration": 13,
    "start_time": "2024-11-25T17:02:38.592Z"
   },
   {
    "duration": 4,
    "start_time": "2024-11-25T17:02:38.606Z"
   },
   {
    "duration": 8,
    "start_time": "2024-11-25T17:02:38.612Z"
   },
   {
    "duration": 11,
    "start_time": "2024-11-25T17:02:38.621Z"
   },
   {
    "duration": 8,
    "start_time": "2024-11-25T17:02:38.671Z"
   },
   {
    "duration": 7,
    "start_time": "2024-11-25T17:02:38.681Z"
   },
   {
    "duration": 7,
    "start_time": "2024-11-25T17:02:38.689Z"
   },
   {
    "duration": 3,
    "start_time": "2024-11-25T17:02:38.698Z"
   },
   {
    "duration": 31,
    "start_time": "2024-11-25T17:02:38.703Z"
   },
   {
    "duration": 60,
    "start_time": "2024-11-25T17:02:38.736Z"
   },
   {
    "duration": 5,
    "start_time": "2024-11-25T17:02:38.798Z"
   },
   {
    "duration": 254,
    "start_time": "2024-11-25T17:02:38.805Z"
   },
   {
    "duration": 4,
    "start_time": "2024-11-25T17:02:39.071Z"
   },
   {
    "duration": 14,
    "start_time": "2024-11-25T17:02:39.078Z"
   },
   {
    "duration": 242,
    "start_time": "2024-11-25T17:02:39.094Z"
   },
   {
    "duration": 0,
    "start_time": "2024-11-25T17:02:39.338Z"
   },
   {
    "duration": 0,
    "start_time": "2024-11-25T17:02:39.340Z"
   },
   {
    "duration": 0,
    "start_time": "2024-11-25T17:02:39.341Z"
   },
   {
    "duration": 0,
    "start_time": "2024-11-25T17:02:39.342Z"
   },
   {
    "duration": 0,
    "start_time": "2024-11-25T17:02:39.343Z"
   },
   {
    "duration": 0,
    "start_time": "2024-11-25T17:02:39.344Z"
   },
   {
    "duration": 12,
    "start_time": "2024-11-25T17:03:35.262Z"
   },
   {
    "duration": 52,
    "start_time": "2024-11-25T17:03:36.214Z"
   },
   {
    "duration": 53,
    "start_time": "2024-11-25T17:03:45.636Z"
   },
   {
    "duration": 3,
    "start_time": "2024-11-25T17:04:19.840Z"
   },
   {
    "duration": 11,
    "start_time": "2024-11-25T17:04:21.430Z"
   },
   {
    "duration": 51,
    "start_time": "2024-11-25T17:04:22.843Z"
   },
   {
    "duration": 9,
    "start_time": "2024-11-25T17:06:11.090Z"
   },
   {
    "duration": 38,
    "start_time": "2024-11-25T17:06:30.694Z"
   },
   {
    "duration": 4,
    "start_time": "2024-11-25T17:06:35.279Z"
   },
   {
    "duration": 7645,
    "start_time": "2024-11-25T17:06:35.838Z"
   },
   {
    "duration": 38,
    "start_time": "2024-11-25T17:06:43.485Z"
   },
   {
    "duration": 665,
    "start_time": "2024-11-25T17:06:43.524Z"
   },
   {
    "duration": 99465,
    "start_time": "2024-11-25T17:06:44.191Z"
   },
   {
    "duration": 1916,
    "start_time": "2024-11-25T17:08:23.658Z"
   },
   {
    "duration": 102,
    "start_time": "2024-11-25T17:10:05.972Z"
   },
   {
    "duration": 3,
    "start_time": "2024-11-25T17:10:48.574Z"
   },
   {
    "duration": 28076,
    "start_time": "2024-11-25T17:13:32.708Z"
   },
   {
    "duration": 18054,
    "start_time": "2024-11-25T17:14:56.500Z"
   },
   {
    "duration": 15,
    "start_time": "2024-11-25T17:19:49.699Z"
   },
   {
    "duration": 5,
    "start_time": "2024-11-25T17:20:02.336Z"
   },
   {
    "duration": 374,
    "start_time": "2024-11-25T17:20:15.400Z"
   },
   {
    "duration": 4,
    "start_time": "2024-11-25T17:27:41.449Z"
   },
   {
    "duration": 37,
    "start_time": "2024-11-25T17:27:47.942Z"
   },
   {
    "duration": 17,
    "start_time": "2024-11-25T17:44:42.392Z"
   },
   {
    "duration": 17,
    "start_time": "2024-11-25T17:47:36.621Z"
   },
   {
    "duration": 868,
    "start_time": "2024-11-25T17:48:00.295Z"
   },
   {
    "duration": 21,
    "start_time": "2024-11-25T17:48:01.164Z"
   },
   {
    "duration": 13,
    "start_time": "2024-11-25T17:48:01.186Z"
   },
   {
    "duration": 9,
    "start_time": "2024-11-25T17:48:01.201Z"
   },
   {
    "duration": 7,
    "start_time": "2024-11-25T17:48:01.212Z"
   },
   {
    "duration": 10,
    "start_time": "2024-11-25T17:48:01.221Z"
   },
   {
    "duration": 37,
    "start_time": "2024-11-25T17:48:01.233Z"
   },
   {
    "duration": 3,
    "start_time": "2024-11-25T17:48:01.272Z"
   },
   {
    "duration": 10,
    "start_time": "2024-11-25T17:48:01.277Z"
   },
   {
    "duration": 10,
    "start_time": "2024-11-25T17:48:01.291Z"
   },
   {
    "duration": 3,
    "start_time": "2024-11-25T17:48:01.303Z"
   },
   {
    "duration": 11,
    "start_time": "2024-11-25T17:48:01.309Z"
   },
   {
    "duration": 5,
    "start_time": "2024-11-25T17:48:01.322Z"
   },
   {
    "duration": 54,
    "start_time": "2024-11-25T17:48:01.328Z"
   },
   {
    "duration": 14,
    "start_time": "2024-11-25T17:48:01.384Z"
   },
   {
    "duration": 7,
    "start_time": "2024-11-25T17:48:01.402Z"
   },
   {
    "duration": 162,
    "start_time": "2024-11-25T17:48:01.411Z"
   },
   {
    "duration": 0,
    "start_time": "2024-11-25T17:48:01.575Z"
   },
   {
    "duration": 0,
    "start_time": "2024-11-25T17:48:01.576Z"
   },
   {
    "duration": 0,
    "start_time": "2024-11-25T17:48:01.577Z"
   },
   {
    "duration": 0,
    "start_time": "2024-11-25T17:48:01.578Z"
   },
   {
    "duration": 0,
    "start_time": "2024-11-25T17:48:01.579Z"
   },
   {
    "duration": 0,
    "start_time": "2024-11-25T17:48:01.580Z"
   },
   {
    "duration": 0,
    "start_time": "2024-11-25T17:48:01.581Z"
   },
   {
    "duration": 0,
    "start_time": "2024-11-25T17:48:01.582Z"
   },
   {
    "duration": 0,
    "start_time": "2024-11-25T17:48:01.583Z"
   },
   {
    "duration": 0,
    "start_time": "2024-11-25T17:48:01.584Z"
   },
   {
    "duration": 0,
    "start_time": "2024-11-25T17:48:01.586Z"
   },
   {
    "duration": 0,
    "start_time": "2024-11-25T17:48:01.587Z"
   },
   {
    "duration": 0,
    "start_time": "2024-11-25T17:48:01.588Z"
   },
   {
    "duration": 0,
    "start_time": "2024-11-25T17:48:01.589Z"
   },
   {
    "duration": 0,
    "start_time": "2024-11-25T17:48:01.590Z"
   },
   {
    "duration": 0,
    "start_time": "2024-11-25T17:48:01.591Z"
   },
   {
    "duration": 0,
    "start_time": "2024-11-25T17:48:01.592Z"
   },
   {
    "duration": 772,
    "start_time": "2024-11-25T17:51:32.631Z"
   },
   {
    "duration": 859,
    "start_time": "2024-11-25T17:51:43.917Z"
   },
   {
    "duration": 17,
    "start_time": "2024-11-25T17:51:44.778Z"
   },
   {
    "duration": 13,
    "start_time": "2024-11-25T17:51:44.796Z"
   },
   {
    "duration": 10,
    "start_time": "2024-11-25T17:51:44.812Z"
   },
   {
    "duration": 6,
    "start_time": "2024-11-25T17:51:44.824Z"
   },
   {
    "duration": 39,
    "start_time": "2024-11-25T17:51:44.831Z"
   },
   {
    "duration": 6,
    "start_time": "2024-11-25T17:51:44.872Z"
   },
   {
    "duration": 3,
    "start_time": "2024-11-25T17:51:44.880Z"
   },
   {
    "duration": 9,
    "start_time": "2024-11-25T17:51:44.885Z"
   },
   {
    "duration": 11,
    "start_time": "2024-11-25T17:51:44.897Z"
   },
   {
    "duration": 4,
    "start_time": "2024-11-25T17:51:44.909Z"
   },
   {
    "duration": 11,
    "start_time": "2024-11-25T17:51:44.914Z"
   },
   {
    "duration": 644,
    "start_time": "2024-11-25T17:51:44.927Z"
   },
   {
    "duration": 0,
    "start_time": "2024-11-25T17:51:45.573Z"
   },
   {
    "duration": 0,
    "start_time": "2024-11-25T17:51:45.575Z"
   },
   {
    "duration": 0,
    "start_time": "2024-11-25T17:51:45.576Z"
   },
   {
    "duration": 0,
    "start_time": "2024-11-25T17:51:45.577Z"
   },
   {
    "duration": 0,
    "start_time": "2024-11-25T17:51:45.578Z"
   },
   {
    "duration": 0,
    "start_time": "2024-11-25T17:51:45.579Z"
   },
   {
    "duration": 0,
    "start_time": "2024-11-25T17:51:45.580Z"
   },
   {
    "duration": 0,
    "start_time": "2024-11-25T17:51:45.581Z"
   },
   {
    "duration": 0,
    "start_time": "2024-11-25T17:51:45.582Z"
   },
   {
    "duration": 1,
    "start_time": "2024-11-25T17:51:45.582Z"
   },
   {
    "duration": 0,
    "start_time": "2024-11-25T17:51:45.583Z"
   },
   {
    "duration": 0,
    "start_time": "2024-11-25T17:51:45.584Z"
   },
   {
    "duration": 0,
    "start_time": "2024-11-25T17:51:45.586Z"
   },
   {
    "duration": 0,
    "start_time": "2024-11-25T17:51:45.587Z"
   },
   {
    "duration": 0,
    "start_time": "2024-11-25T17:51:45.588Z"
   },
   {
    "duration": 0,
    "start_time": "2024-11-25T17:51:45.589Z"
   },
   {
    "duration": 0,
    "start_time": "2024-11-25T17:51:45.590Z"
   },
   {
    "duration": 0,
    "start_time": "2024-11-25T17:51:45.591Z"
   },
   {
    "duration": 0,
    "start_time": "2024-11-25T17:51:45.594Z"
   },
   {
    "duration": 0,
    "start_time": "2024-11-25T17:51:45.595Z"
   },
   {
    "duration": 0,
    "start_time": "2024-11-25T17:51:45.596Z"
   },
   {
    "duration": 9,
    "start_time": "2024-11-25T17:52:44.380Z"
   },
   {
    "duration": 9,
    "start_time": "2024-11-25T17:52:58.815Z"
   },
   {
    "duration": 6,
    "start_time": "2024-11-25T17:53:03.912Z"
   },
   {
    "duration": 7,
    "start_time": "2024-11-25T17:53:06.189Z"
   },
   {
    "duration": 3,
    "start_time": "2024-11-25T17:53:08.567Z"
   },
   {
    "duration": 31,
    "start_time": "2024-11-25T17:53:11.590Z"
   },
   {
    "duration": 34,
    "start_time": "2024-11-25T17:53:15.981Z"
   },
   {
    "duration": 6,
    "start_time": "2024-11-25T17:53:32.660Z"
   },
   {
    "duration": 270,
    "start_time": "2024-11-25T17:53:38.130Z"
   },
   {
    "duration": 9,
    "start_time": "2024-11-25T17:53:41.337Z"
   },
   {
    "duration": 36,
    "start_time": "2024-11-25T17:53:43.236Z"
   },
   {
    "duration": 3,
    "start_time": "2024-11-25T17:53:48.041Z"
   },
   {
    "duration": 6631,
    "start_time": "2024-11-25T17:53:50.529Z"
   },
   {
    "duration": 36,
    "start_time": "2024-11-25T17:54:08.099Z"
   },
   {
    "duration": 685,
    "start_time": "2024-11-25T17:54:12.036Z"
   },
   {
    "duration": 104957,
    "start_time": "2024-11-25T17:54:15.703Z"
   },
   {
    "duration": 2050,
    "start_time": "2024-11-25T17:56:12.250Z"
   },
   {
    "duration": 24,
    "start_time": "2024-11-25T17:56:20.690Z"
   },
   {
    "duration": 4,
    "start_time": "2024-11-25T17:56:23.654Z"
   },
   {
    "duration": 2191,
    "start_time": "2024-11-25T17:56:25.128Z"
   },
   {
    "duration": 47,
    "start_time": "2024-11-25T17:56:30.100Z"
   },
   {
    "duration": 390,
    "start_time": "2024-11-25T17:58:37.243Z"
   },
   {
    "duration": 875,
    "start_time": "2024-11-25T17:58:44.320Z"
   },
   {
    "duration": 16,
    "start_time": "2024-11-25T17:58:45.197Z"
   },
   {
    "duration": 13,
    "start_time": "2024-11-25T17:58:45.215Z"
   },
   {
    "duration": 10,
    "start_time": "2024-11-25T17:58:45.230Z"
   },
   {
    "duration": 7,
    "start_time": "2024-11-25T17:58:45.241Z"
   },
   {
    "duration": 27,
    "start_time": "2024-11-25T17:58:45.250Z"
   },
   {
    "duration": 6,
    "start_time": "2024-11-25T17:58:45.279Z"
   },
   {
    "duration": 2,
    "start_time": "2024-11-25T17:58:45.287Z"
   },
   {
    "duration": 9,
    "start_time": "2024-11-25T17:58:45.291Z"
   },
   {
    "duration": 11,
    "start_time": "2024-11-25T17:58:45.302Z"
   },
   {
    "duration": 4,
    "start_time": "2024-11-25T17:58:45.314Z"
   },
   {
    "duration": 11,
    "start_time": "2024-11-25T17:58:45.320Z"
   },
   {
    "duration": 10,
    "start_time": "2024-11-25T17:58:45.371Z"
   },
   {
    "duration": 9,
    "start_time": "2024-11-25T17:58:45.383Z"
   },
   {
    "duration": 8,
    "start_time": "2024-11-25T17:58:45.393Z"
   },
   {
    "duration": 178,
    "start_time": "2024-11-25T17:58:45.403Z"
   },
   {
    "duration": 0,
    "start_time": "2024-11-25T17:58:45.584Z"
   },
   {
    "duration": 0,
    "start_time": "2024-11-25T17:58:45.585Z"
   },
   {
    "duration": 0,
    "start_time": "2024-11-25T17:58:45.586Z"
   },
   {
    "duration": 0,
    "start_time": "2024-11-25T17:58:45.587Z"
   },
   {
    "duration": 0,
    "start_time": "2024-11-25T17:58:45.588Z"
   },
   {
    "duration": 0,
    "start_time": "2024-11-25T17:58:45.589Z"
   },
   {
    "duration": 0,
    "start_time": "2024-11-25T17:58:45.591Z"
   },
   {
    "duration": 0,
    "start_time": "2024-11-25T17:58:45.592Z"
   },
   {
    "duration": 0,
    "start_time": "2024-11-25T17:58:45.593Z"
   },
   {
    "duration": 0,
    "start_time": "2024-11-25T17:58:45.595Z"
   },
   {
    "duration": 0,
    "start_time": "2024-11-25T17:58:45.596Z"
   },
   {
    "duration": 0,
    "start_time": "2024-11-25T17:58:45.597Z"
   },
   {
    "duration": 0,
    "start_time": "2024-11-25T17:58:45.599Z"
   },
   {
    "duration": 0,
    "start_time": "2024-11-25T17:58:45.600Z"
   },
   {
    "duration": 0,
    "start_time": "2024-11-25T17:58:45.602Z"
   },
   {
    "duration": 0,
    "start_time": "2024-11-25T17:58:45.603Z"
   },
   {
    "duration": 0,
    "start_time": "2024-11-25T17:58:45.604Z"
   },
   {
    "duration": 821,
    "start_time": "2024-11-25T18:01:13.564Z"
   },
   {
    "duration": 16,
    "start_time": "2024-11-25T18:01:14.387Z"
   },
   {
    "duration": 13,
    "start_time": "2024-11-25T18:01:14.405Z"
   },
   {
    "duration": 9,
    "start_time": "2024-11-25T18:01:14.421Z"
   },
   {
    "duration": 7,
    "start_time": "2024-11-25T18:01:14.432Z"
   },
   {
    "duration": 36,
    "start_time": "2024-11-25T18:01:14.440Z"
   },
   {
    "duration": 6,
    "start_time": "2024-11-25T18:01:14.478Z"
   },
   {
    "duration": 3,
    "start_time": "2024-11-25T18:01:14.485Z"
   },
   {
    "duration": 9,
    "start_time": "2024-11-25T18:01:14.490Z"
   },
   {
    "duration": 10,
    "start_time": "2024-11-25T18:01:14.503Z"
   },
   {
    "duration": 3,
    "start_time": "2024-11-25T18:01:14.515Z"
   },
   {
    "duration": 11,
    "start_time": "2024-11-25T18:01:14.520Z"
   },
   {
    "duration": 43,
    "start_time": "2024-11-25T18:01:14.533Z"
   },
   {
    "duration": 19,
    "start_time": "2024-11-25T18:01:14.578Z"
   },
   {
    "duration": 10,
    "start_time": "2024-11-25T18:01:14.598Z"
   },
   {
    "duration": 7,
    "start_time": "2024-11-25T18:01:14.610Z"
   },
   {
    "duration": 174,
    "start_time": "2024-11-25T18:01:14.619Z"
   },
   {
    "duration": 1,
    "start_time": "2024-11-25T18:01:14.795Z"
   },
   {
    "duration": 0,
    "start_time": "2024-11-25T18:01:14.797Z"
   },
   {
    "duration": 0,
    "start_time": "2024-11-25T18:01:14.798Z"
   },
   {
    "duration": 0,
    "start_time": "2024-11-25T18:01:14.799Z"
   },
   {
    "duration": 0,
    "start_time": "2024-11-25T18:01:14.800Z"
   },
   {
    "duration": 0,
    "start_time": "2024-11-25T18:01:14.801Z"
   },
   {
    "duration": 0,
    "start_time": "2024-11-25T18:01:14.802Z"
   },
   {
    "duration": 0,
    "start_time": "2024-11-25T18:01:14.803Z"
   },
   {
    "duration": 0,
    "start_time": "2024-11-25T18:01:14.804Z"
   },
   {
    "duration": 0,
    "start_time": "2024-11-25T18:01:14.805Z"
   },
   {
    "duration": 0,
    "start_time": "2024-11-25T18:01:14.806Z"
   },
   {
    "duration": 0,
    "start_time": "2024-11-25T18:01:14.807Z"
   },
   {
    "duration": 0,
    "start_time": "2024-11-25T18:01:14.808Z"
   },
   {
    "duration": 0,
    "start_time": "2024-11-25T18:01:14.808Z"
   },
   {
    "duration": 0,
    "start_time": "2024-11-25T18:01:14.809Z"
   },
   {
    "duration": 1,
    "start_time": "2024-11-25T18:01:14.810Z"
   },
   {
    "duration": 0,
    "start_time": "2024-11-25T18:01:14.811Z"
   },
   {
    "duration": 865,
    "start_time": "2024-11-25T18:02:00.575Z"
   },
   {
    "duration": 16,
    "start_time": "2024-11-25T18:02:01.442Z"
   },
   {
    "duration": 20,
    "start_time": "2024-11-25T18:02:01.460Z"
   },
   {
    "duration": 10,
    "start_time": "2024-11-25T18:02:01.481Z"
   },
   {
    "duration": 6,
    "start_time": "2024-11-25T18:02:01.494Z"
   },
   {
    "duration": 8,
    "start_time": "2024-11-25T18:02:01.501Z"
   },
   {
    "duration": 7,
    "start_time": "2024-11-25T18:02:01.511Z"
   },
   {
    "duration": 2,
    "start_time": "2024-11-25T18:02:01.520Z"
   },
   {
    "duration": 46,
    "start_time": "2024-11-25T18:02:01.524Z"
   },
   {
    "duration": 12,
    "start_time": "2024-11-25T18:02:01.571Z"
   },
   {
    "duration": 4,
    "start_time": "2024-11-25T18:02:01.585Z"
   },
   {
    "duration": 11,
    "start_time": "2024-11-25T18:02:01.590Z"
   },
   {
    "duration": 10,
    "start_time": "2024-11-25T18:02:01.603Z"
   },
   {
    "duration": 8,
    "start_time": "2024-11-25T18:02:01.617Z"
   },
   {
    "duration": 44,
    "start_time": "2024-11-25T18:02:01.626Z"
   },
   {
    "duration": 8,
    "start_time": "2024-11-25T18:02:01.672Z"
   },
   {
    "duration": 8,
    "start_time": "2024-11-25T18:02:01.681Z"
   },
   {
    "duration": 4,
    "start_time": "2024-11-25T18:02:01.690Z"
   },
   {
    "duration": 32,
    "start_time": "2024-11-25T18:02:01.696Z"
   },
   {
    "duration": 65,
    "start_time": "2024-11-25T18:02:01.730Z"
   },
   {
    "duration": 5,
    "start_time": "2024-11-25T18:02:01.797Z"
   },
   {
    "duration": 276,
    "start_time": "2024-11-25T18:02:01.804Z"
   },
   {
    "duration": 9,
    "start_time": "2024-11-25T18:02:02.082Z"
   },
   {
    "duration": 39,
    "start_time": "2024-11-25T18:02:02.093Z"
   },
   {
    "duration": 4,
    "start_time": "2024-11-25T18:02:02.133Z"
   },
   {
    "duration": 7743,
    "start_time": "2024-11-25T18:02:02.139Z"
   },
   {
    "duration": 38,
    "start_time": "2024-11-25T18:02:09.884Z"
   },
   {
    "duration": 659,
    "start_time": "2024-11-25T18:02:09.923Z"
   },
   {
    "duration": 922,
    "start_time": "2024-11-25T18:03:35.793Z"
   },
   {
    "duration": 16,
    "start_time": "2024-11-25T18:03:36.718Z"
   },
   {
    "duration": 13,
    "start_time": "2024-11-25T18:03:36.735Z"
   },
   {
    "duration": 22,
    "start_time": "2024-11-25T18:03:36.750Z"
   },
   {
    "duration": 7,
    "start_time": "2024-11-25T18:03:36.775Z"
   },
   {
    "duration": 8,
    "start_time": "2024-11-25T18:03:36.784Z"
   },
   {
    "duration": 6,
    "start_time": "2024-11-25T18:03:36.794Z"
   },
   {
    "duration": 4,
    "start_time": "2024-11-25T18:03:36.803Z"
   },
   {
    "duration": 8,
    "start_time": "2024-11-25T18:03:36.809Z"
   },
   {
    "duration": 10,
    "start_time": "2024-11-25T18:03:36.821Z"
   },
   {
    "duration": 37,
    "start_time": "2024-11-25T18:03:36.833Z"
   },
   {
    "duration": 12,
    "start_time": "2024-11-25T18:03:36.871Z"
   },
   {
    "duration": 9,
    "start_time": "2024-11-25T18:03:36.885Z"
   },
   {
    "duration": 9,
    "start_time": "2024-11-25T18:03:36.896Z"
   },
   {
    "duration": 17,
    "start_time": "2024-11-25T18:03:36.907Z"
   },
   {
    "duration": 6,
    "start_time": "2024-11-25T18:03:36.926Z"
   },
   {
    "duration": 42,
    "start_time": "2024-11-25T18:03:36.934Z"
   },
   {
    "duration": 5,
    "start_time": "2024-11-25T18:03:36.977Z"
   },
   {
    "duration": 31,
    "start_time": "2024-11-25T18:03:36.984Z"
   },
   {
    "duration": 30,
    "start_time": "2024-11-25T18:03:37.017Z"
   },
   {
    "duration": 24,
    "start_time": "2024-11-25T18:03:37.049Z"
   },
   {
    "duration": 256,
    "start_time": "2024-11-25T18:03:37.077Z"
   },
   {
    "duration": 11,
    "start_time": "2024-11-25T18:03:37.335Z"
   },
   {
    "duration": 55,
    "start_time": "2024-11-25T18:03:37.347Z"
   },
   {
    "duration": 5,
    "start_time": "2024-11-25T18:03:37.404Z"
   },
   {
    "duration": 7625,
    "start_time": "2024-11-25T18:03:37.411Z"
   },
   {
    "duration": 41,
    "start_time": "2024-11-25T18:03:45.037Z"
   },
   {
    "duration": 642,
    "start_time": "2024-11-25T18:03:45.083Z"
   },
   {
    "duration": 99543,
    "start_time": "2024-11-25T18:03:45.727Z"
   },
   {
    "duration": 1919,
    "start_time": "2024-11-25T18:05:25.272Z"
   },
   {
    "duration": 175,
    "start_time": "2024-11-25T18:05:27.195Z"
   },
   {
    "duration": 7,
    "start_time": "2024-11-25T18:05:27.372Z"
   },
   {
    "duration": 18320,
    "start_time": "2024-11-25T18:05:27.382Z"
   },
   {
    "duration": 371,
    "start_time": "2024-11-25T18:05:45.704Z"
   },
   {
    "duration": 3,
    "start_time": "2024-11-25T18:07:55.833Z"
   },
   {
    "duration": 836,
    "start_time": "2024-11-25T18:09:02.052Z"
   },
   {
    "duration": 17,
    "start_time": "2024-11-25T18:09:02.890Z"
   },
   {
    "duration": 14,
    "start_time": "2024-11-25T18:09:02.909Z"
   },
   {
    "duration": 9,
    "start_time": "2024-11-25T18:09:02.926Z"
   },
   {
    "duration": 6,
    "start_time": "2024-11-25T18:09:02.937Z"
   },
   {
    "duration": 29,
    "start_time": "2024-11-25T18:09:02.945Z"
   },
   {
    "duration": 6,
    "start_time": "2024-11-25T18:09:02.976Z"
   },
   {
    "duration": 2,
    "start_time": "2024-11-25T18:09:02.984Z"
   },
   {
    "duration": 9,
    "start_time": "2024-11-25T18:09:02.988Z"
   },
   {
    "duration": 11,
    "start_time": "2024-11-25T18:09:03.000Z"
   },
   {
    "duration": 3,
    "start_time": "2024-11-25T18:09:03.013Z"
   },
   {
    "duration": 11,
    "start_time": "2024-11-25T18:09:03.018Z"
   },
   {
    "duration": 4,
    "start_time": "2024-11-25T18:09:03.070Z"
   },
   {
    "duration": 9,
    "start_time": "2024-11-25T18:09:03.076Z"
   },
   {
    "duration": 13,
    "start_time": "2024-11-25T18:09:03.086Z"
   },
   {
    "duration": 9,
    "start_time": "2024-11-25T18:09:03.100Z"
   },
   {
    "duration": 174,
    "start_time": "2024-11-25T18:09:03.110Z"
   },
   {
    "duration": 0,
    "start_time": "2024-11-25T18:09:03.286Z"
   },
   {
    "duration": 0,
    "start_time": "2024-11-25T18:09:03.290Z"
   },
   {
    "duration": 0,
    "start_time": "2024-11-25T18:09:03.291Z"
   },
   {
    "duration": 0,
    "start_time": "2024-11-25T18:09:03.293Z"
   },
   {
    "duration": 0,
    "start_time": "2024-11-25T18:09:03.294Z"
   },
   {
    "duration": 0,
    "start_time": "2024-11-25T18:09:03.296Z"
   },
   {
    "duration": 0,
    "start_time": "2024-11-25T18:09:03.297Z"
   },
   {
    "duration": 0,
    "start_time": "2024-11-25T18:09:03.299Z"
   },
   {
    "duration": 0,
    "start_time": "2024-11-25T18:09:03.300Z"
   },
   {
    "duration": 0,
    "start_time": "2024-11-25T18:09:03.302Z"
   },
   {
    "duration": 0,
    "start_time": "2024-11-25T18:09:03.303Z"
   },
   {
    "duration": 0,
    "start_time": "2024-11-25T18:09:03.305Z"
   },
   {
    "duration": 0,
    "start_time": "2024-11-25T18:09:03.307Z"
   },
   {
    "duration": 0,
    "start_time": "2024-11-25T18:09:03.308Z"
   },
   {
    "duration": 0,
    "start_time": "2024-11-25T18:09:03.310Z"
   },
   {
    "duration": 0,
    "start_time": "2024-11-25T18:09:03.312Z"
   },
   {
    "duration": 0,
    "start_time": "2024-11-25T18:09:03.313Z"
   },
   {
    "duration": 9,
    "start_time": "2024-11-25T18:09:38.751Z"
   },
   {
    "duration": 14,
    "start_time": "2024-11-25T18:09:52.510Z"
   },
   {
    "duration": 174,
    "start_time": "2024-11-25T18:14:32.364Z"
   },
   {
    "duration": 884,
    "start_time": "2024-11-25T18:20:43.895Z"
   },
   {
    "duration": 18,
    "start_time": "2024-11-25T18:20:44.781Z"
   },
   {
    "duration": 14,
    "start_time": "2024-11-25T18:20:44.800Z"
   },
   {
    "duration": 10,
    "start_time": "2024-11-25T18:20:44.816Z"
   },
   {
    "duration": 7,
    "start_time": "2024-11-25T18:20:44.828Z"
   },
   {
    "duration": 41,
    "start_time": "2024-11-25T18:20:44.836Z"
   },
   {
    "duration": 7,
    "start_time": "2024-11-25T18:20:44.879Z"
   },
   {
    "duration": 3,
    "start_time": "2024-11-25T18:20:44.887Z"
   },
   {
    "duration": 9,
    "start_time": "2024-11-25T18:20:44.892Z"
   },
   {
    "duration": 11,
    "start_time": "2024-11-25T18:20:44.903Z"
   },
   {
    "duration": 4,
    "start_time": "2024-11-25T18:20:44.916Z"
   },
   {
    "duration": 10,
    "start_time": "2024-11-25T18:20:44.921Z"
   },
   {
    "duration": 49,
    "start_time": "2024-11-25T18:20:44.933Z"
   },
   {
    "duration": 14,
    "start_time": "2024-11-25T18:20:44.983Z"
   },
   {
    "duration": 8,
    "start_time": "2024-11-25T18:20:44.999Z"
   },
   {
    "duration": 7,
    "start_time": "2024-11-25T18:20:45.009Z"
   },
   {
    "duration": 171,
    "start_time": "2024-11-25T18:20:45.018Z"
   },
   {
    "duration": 0,
    "start_time": "2024-11-25T18:20:45.191Z"
   },
   {
    "duration": 0,
    "start_time": "2024-11-25T18:20:45.192Z"
   },
   {
    "duration": 0,
    "start_time": "2024-11-25T18:20:45.193Z"
   },
   {
    "duration": 0,
    "start_time": "2024-11-25T18:20:45.194Z"
   },
   {
    "duration": 0,
    "start_time": "2024-11-25T18:20:45.195Z"
   },
   {
    "duration": 0,
    "start_time": "2024-11-25T18:20:45.196Z"
   },
   {
    "duration": 0,
    "start_time": "2024-11-25T18:20:45.197Z"
   },
   {
    "duration": 0,
    "start_time": "2024-11-25T18:20:45.198Z"
   },
   {
    "duration": 0,
    "start_time": "2024-11-25T18:20:45.199Z"
   },
   {
    "duration": 0,
    "start_time": "2024-11-25T18:20:45.200Z"
   },
   {
    "duration": 0,
    "start_time": "2024-11-25T18:20:45.201Z"
   },
   {
    "duration": 0,
    "start_time": "2024-11-25T18:20:45.203Z"
   },
   {
    "duration": 0,
    "start_time": "2024-11-25T18:20:45.204Z"
   },
   {
    "duration": 0,
    "start_time": "2024-11-25T18:20:45.205Z"
   },
   {
    "duration": 0,
    "start_time": "2024-11-25T18:20:45.206Z"
   },
   {
    "duration": 0,
    "start_time": "2024-11-25T18:20:45.207Z"
   },
   {
    "duration": 0,
    "start_time": "2024-11-25T18:20:45.208Z"
   },
   {
    "duration": 16,
    "start_time": "2024-11-25T18:21:25.188Z"
   },
   {
    "duration": 9,
    "start_time": "2024-11-25T18:22:00.426Z"
   },
   {
    "duration": 24,
    "start_time": "2024-11-25T18:22:07.117Z"
   },
   {
    "duration": 868,
    "start_time": "2024-11-25T18:24:01.616Z"
   },
   {
    "duration": 16,
    "start_time": "2024-11-25T18:24:02.486Z"
   },
   {
    "duration": 14,
    "start_time": "2024-11-25T18:24:02.504Z"
   },
   {
    "duration": 9,
    "start_time": "2024-11-25T18:24:02.520Z"
   },
   {
    "duration": 6,
    "start_time": "2024-11-25T18:24:02.532Z"
   },
   {
    "duration": 31,
    "start_time": "2024-11-25T18:24:02.540Z"
   },
   {
    "duration": 6,
    "start_time": "2024-11-25T18:24:02.572Z"
   },
   {
    "duration": 2,
    "start_time": "2024-11-25T18:24:02.580Z"
   },
   {
    "duration": 10,
    "start_time": "2024-11-25T18:24:02.584Z"
   },
   {
    "duration": 10,
    "start_time": "2024-11-25T18:24:02.597Z"
   },
   {
    "duration": 4,
    "start_time": "2024-11-25T18:24:02.609Z"
   },
   {
    "duration": 12,
    "start_time": "2024-11-25T18:24:02.615Z"
   },
   {
    "duration": 58,
    "start_time": "2024-11-25T18:24:02.628Z"
   },
   {
    "duration": 14,
    "start_time": "2024-11-25T18:24:02.687Z"
   },
   {
    "duration": 7,
    "start_time": "2024-11-25T18:24:02.703Z"
   },
   {
    "duration": 8,
    "start_time": "2024-11-25T18:24:02.711Z"
   },
   {
    "duration": 4,
    "start_time": "2024-11-25T18:24:02.720Z"
   },
   {
    "duration": 60,
    "start_time": "2024-11-25T18:24:02.726Z"
   },
   {
    "duration": 31,
    "start_time": "2024-11-25T18:24:02.788Z"
   },
   {
    "duration": 5,
    "start_time": "2024-11-25T18:24:02.821Z"
   },
   {
    "duration": 272,
    "start_time": "2024-11-25T18:24:02.827Z"
   },
   {
    "duration": 8,
    "start_time": "2024-11-25T18:24:03.101Z"
   },
   {
    "duration": 39,
    "start_time": "2024-11-25T18:24:03.111Z"
   },
   {
    "duration": 21,
    "start_time": "2024-11-25T18:24:03.152Z"
   },
   {
    "duration": 7682,
    "start_time": "2024-11-25T18:24:03.176Z"
   },
   {
    "duration": 44,
    "start_time": "2024-11-25T18:24:10.859Z"
   },
   {
    "duration": 649,
    "start_time": "2024-11-25T18:24:10.905Z"
   },
   {
    "duration": 97970,
    "start_time": "2024-11-25T18:24:11.558Z"
   },
   {
    "duration": 1897,
    "start_time": "2024-11-25T18:25:49.529Z"
   },
   {
    "duration": 66,
    "start_time": "2024-11-25T18:25:51.427Z"
   },
   {
    "duration": 79,
    "start_time": "2024-11-25T18:25:51.495Z"
   },
   {
    "duration": 18865,
    "start_time": "2024-11-25T18:25:51.581Z"
   },
   {
    "duration": 362,
    "start_time": "2024-11-25T18:26:10.448Z"
   },
   {
    "duration": 883,
    "start_time": "2024-11-25T18:26:16.006Z"
   },
   {
    "duration": 17,
    "start_time": "2024-11-25T18:26:16.891Z"
   },
   {
    "duration": 13,
    "start_time": "2024-11-25T18:26:16.909Z"
   },
   {
    "duration": 10,
    "start_time": "2024-11-25T18:26:16.924Z"
   },
   {
    "duration": 6,
    "start_time": "2024-11-25T18:26:16.936Z"
   },
   {
    "duration": 28,
    "start_time": "2024-11-25T18:26:16.944Z"
   },
   {
    "duration": 8,
    "start_time": "2024-11-25T18:26:16.975Z"
   },
   {
    "duration": 2,
    "start_time": "2024-11-25T18:26:16.985Z"
   },
   {
    "duration": 9,
    "start_time": "2024-11-25T18:26:16.989Z"
   },
   {
    "duration": 10,
    "start_time": "2024-11-25T18:26:17.000Z"
   },
   {
    "duration": 3,
    "start_time": "2024-11-25T18:26:17.012Z"
   },
   {
    "duration": 10,
    "start_time": "2024-11-25T18:26:17.017Z"
   },
   {
    "duration": 53,
    "start_time": "2024-11-25T18:26:17.028Z"
   },
   {
    "duration": 7,
    "start_time": "2024-11-25T18:26:17.084Z"
   },
   {
    "duration": 8,
    "start_time": "2024-11-25T18:26:17.092Z"
   },
   {
    "duration": 3,
    "start_time": "2024-11-25T18:26:17.101Z"
   },
   {
    "duration": 32,
    "start_time": "2024-11-25T18:26:17.106Z"
   },
   {
    "duration": 67,
    "start_time": "2024-11-25T18:26:17.140Z"
   },
   {
    "duration": 5,
    "start_time": "2024-11-25T18:26:17.209Z"
   },
   {
    "duration": 246,
    "start_time": "2024-11-25T18:26:17.216Z"
   },
   {
    "duration": 9,
    "start_time": "2024-11-25T18:26:17.470Z"
   },
   {
    "duration": 38,
    "start_time": "2024-11-25T18:26:17.480Z"
   },
   {
    "duration": 3,
    "start_time": "2024-11-25T18:26:17.520Z"
   },
   {
    "duration": 7616,
    "start_time": "2024-11-25T18:26:17.525Z"
   },
   {
    "duration": 46,
    "start_time": "2024-11-25T18:26:25.143Z"
   },
   {
    "duration": 650,
    "start_time": "2024-11-25T18:26:25.191Z"
   },
   {
    "duration": 864,
    "start_time": "2024-11-25T18:27:22.004Z"
   },
   {
    "duration": 19,
    "start_time": "2024-11-25T18:27:22.870Z"
   },
   {
    "duration": 13,
    "start_time": "2024-11-25T18:27:22.891Z"
   },
   {
    "duration": 10,
    "start_time": "2024-11-25T18:27:22.905Z"
   },
   {
    "duration": 5,
    "start_time": "2024-11-25T18:27:22.917Z"
   },
   {
    "duration": 9,
    "start_time": "2024-11-25T18:27:22.924Z"
   },
   {
    "duration": 6,
    "start_time": "2024-11-25T18:27:22.934Z"
   },
   {
    "duration": 30,
    "start_time": "2024-11-25T18:27:22.941Z"
   },
   {
    "duration": 9,
    "start_time": "2024-11-25T18:27:22.972Z"
   },
   {
    "duration": 11,
    "start_time": "2024-11-25T18:27:22.983Z"
   },
   {
    "duration": 4,
    "start_time": "2024-11-25T18:27:22.995Z"
   },
   {
    "duration": 10,
    "start_time": "2024-11-25T18:27:23.001Z"
   },
   {
    "duration": 15,
    "start_time": "2024-11-25T18:27:23.012Z"
   },
   {
    "duration": 44,
    "start_time": "2024-11-25T18:27:23.030Z"
   },
   {
    "duration": 7,
    "start_time": "2024-11-25T18:27:23.076Z"
   },
   {
    "duration": 3,
    "start_time": "2024-11-25T18:27:23.085Z"
   },
   {
    "duration": 32,
    "start_time": "2024-11-25T18:27:23.090Z"
   },
   {
    "duration": 58,
    "start_time": "2024-11-25T18:27:23.123Z"
   },
   {
    "duration": 5,
    "start_time": "2024-11-25T18:27:23.183Z"
   },
   {
    "duration": 259,
    "start_time": "2024-11-25T18:27:23.190Z"
   },
   {
    "duration": 9,
    "start_time": "2024-11-25T18:27:23.450Z"
   },
   {
    "duration": 59,
    "start_time": "2024-11-25T18:27:23.460Z"
   },
   {
    "duration": 4,
    "start_time": "2024-11-25T18:27:23.520Z"
   },
   {
    "duration": 7599,
    "start_time": "2024-11-25T18:27:23.526Z"
   },
   {
    "duration": 46,
    "start_time": "2024-11-25T18:27:31.127Z"
   },
   {
    "duration": 654,
    "start_time": "2024-11-25T18:27:31.175Z"
   },
   {
    "duration": 98320,
    "start_time": "2024-11-25T18:27:31.831Z"
   },
   {
    "duration": 1961,
    "start_time": "2024-11-25T18:29:10.153Z"
   },
   {
    "duration": 79,
    "start_time": "2024-11-25T18:29:12.116Z"
   },
   {
    "duration": 5,
    "start_time": "2024-11-25T18:29:12.271Z"
   },
   {
    "duration": 870,
    "start_time": "2024-11-25T18:29:17.604Z"
   },
   {
    "duration": 16,
    "start_time": "2024-11-25T18:29:18.476Z"
   },
   {
    "duration": 12,
    "start_time": "2024-11-25T18:29:18.494Z"
   },
   {
    "duration": 9,
    "start_time": "2024-11-25T18:29:18.509Z"
   },
   {
    "duration": 6,
    "start_time": "2024-11-25T18:29:18.520Z"
   },
   {
    "duration": 9,
    "start_time": "2024-11-25T18:29:18.527Z"
   },
   {
    "duration": 33,
    "start_time": "2024-11-25T18:29:18.537Z"
   },
   {
    "duration": 9,
    "start_time": "2024-11-25T18:29:18.571Z"
   },
   {
    "duration": 10,
    "start_time": "2024-11-25T18:29:18.582Z"
   },
   {
    "duration": 900,
    "start_time": "2024-11-25T18:29:18.594Z"
   },
   {
    "duration": 0,
    "start_time": "2024-11-25T18:29:19.496Z"
   },
   {
    "duration": 0,
    "start_time": "2024-11-25T18:29:19.497Z"
   },
   {
    "duration": 0,
    "start_time": "2024-11-25T18:29:19.499Z"
   },
   {
    "duration": 0,
    "start_time": "2024-11-25T18:29:19.500Z"
   },
   {
    "duration": 0,
    "start_time": "2024-11-25T18:29:19.502Z"
   },
   {
    "duration": 0,
    "start_time": "2024-11-25T18:29:19.503Z"
   },
   {
    "duration": 0,
    "start_time": "2024-11-25T18:29:19.504Z"
   },
   {
    "duration": 0,
    "start_time": "2024-11-25T18:29:19.505Z"
   },
   {
    "duration": 0,
    "start_time": "2024-11-25T18:29:19.506Z"
   },
   {
    "duration": 0,
    "start_time": "2024-11-25T18:29:19.506Z"
   },
   {
    "duration": 0,
    "start_time": "2024-11-25T18:29:19.507Z"
   },
   {
    "duration": 0,
    "start_time": "2024-11-25T18:29:19.508Z"
   },
   {
    "duration": 0,
    "start_time": "2024-11-25T18:29:19.509Z"
   },
   {
    "duration": 0,
    "start_time": "2024-11-25T18:29:19.510Z"
   },
   {
    "duration": 0,
    "start_time": "2024-11-25T18:29:19.511Z"
   },
   {
    "duration": 0,
    "start_time": "2024-11-25T18:29:19.512Z"
   },
   {
    "duration": 0,
    "start_time": "2024-11-25T18:29:19.513Z"
   },
   {
    "duration": 0,
    "start_time": "2024-11-25T18:29:19.514Z"
   },
   {
    "duration": 0,
    "start_time": "2024-11-25T18:29:19.516Z"
   },
   {
    "duration": 0,
    "start_time": "2024-11-25T18:29:19.517Z"
   },
   {
    "duration": 0,
    "start_time": "2024-11-25T18:29:19.518Z"
   },
   {
    "duration": 43,
    "start_time": "2024-11-25T18:30:11.745Z"
   },
   {
    "duration": 38,
    "start_time": "2024-11-25T18:30:15.737Z"
   },
   {
    "duration": 4,
    "start_time": "2024-11-25T18:30:42.450Z"
   },
   {
    "duration": 10,
    "start_time": "2024-11-25T18:30:45.176Z"
   },
   {
    "duration": 118,
    "start_time": "2024-11-25T18:30:51.833Z"
   },
   {
    "duration": 17,
    "start_time": "2024-11-25T18:31:19.677Z"
   },
   {
    "duration": 15,
    "start_time": "2024-11-25T18:31:34.946Z"
   },
   {
    "duration": 8,
    "start_time": "2024-11-25T18:31:36.060Z"
   },
   {
    "duration": 3,
    "start_time": "2024-11-25T18:31:37.222Z"
   },
   {
    "duration": 34,
    "start_time": "2024-11-25T18:31:38.860Z"
   },
   {
    "duration": 32,
    "start_time": "2024-11-25T18:31:40.962Z"
   },
   {
    "duration": 81,
    "start_time": "2024-11-25T18:31:43.555Z"
   },
   {
    "duration": 5,
    "start_time": "2024-11-25T18:32:04.032Z"
   },
   {
    "duration": 206,
    "start_time": "2024-11-25T18:32:12.374Z"
   },
   {
    "duration": 9,
    "start_time": "2024-11-25T18:32:16.803Z"
   },
   {
    "duration": 11,
    "start_time": "2024-11-25T18:48:30.248Z"
   },
   {
    "duration": 20,
    "start_time": "2024-11-25T18:49:19.071Z"
   },
   {
    "duration": 23,
    "start_time": "2024-11-25T18:50:08.151Z"
   },
   {
    "duration": 48,
    "start_time": "2024-11-25T18:50:13.865Z"
   },
   {
    "duration": 38,
    "start_time": "2024-11-25T18:50:53.363Z"
   },
   {
    "duration": 872,
    "start_time": "2024-11-25T18:51:09.798Z"
   },
   {
    "duration": 16,
    "start_time": "2024-11-25T18:51:10.672Z"
   },
   {
    "duration": 13,
    "start_time": "2024-11-25T18:51:10.690Z"
   },
   {
    "duration": 10,
    "start_time": "2024-11-25T18:51:10.705Z"
   },
   {
    "duration": 5,
    "start_time": "2024-11-25T18:51:10.718Z"
   },
   {
    "duration": 9,
    "start_time": "2024-11-25T18:51:10.725Z"
   },
   {
    "duration": 34,
    "start_time": "2024-11-25T18:51:10.736Z"
   },
   {
    "duration": 9,
    "start_time": "2024-11-25T18:51:10.772Z"
   },
   {
    "duration": 11,
    "start_time": "2024-11-25T18:51:10.782Z"
   },
   {
    "duration": 4,
    "start_time": "2024-11-25T18:51:10.794Z"
   },
   {
    "duration": 11,
    "start_time": "2024-11-25T18:51:10.800Z"
   },
   {
    "duration": 17,
    "start_time": "2024-11-25T18:51:10.812Z"
   },
   {
    "duration": 41,
    "start_time": "2024-11-25T18:51:10.831Z"
   },
   {
    "duration": 7,
    "start_time": "2024-11-25T18:51:10.875Z"
   },
   {
    "duration": 3,
    "start_time": "2024-11-25T18:51:10.884Z"
   },
   {
    "duration": 32,
    "start_time": "2024-11-25T18:51:10.889Z"
   },
   {
    "duration": 52,
    "start_time": "2024-11-25T18:51:10.923Z"
   },
   {
    "duration": 5,
    "start_time": "2024-11-25T18:51:10.977Z"
   },
   {
    "duration": 303,
    "start_time": "2024-11-25T18:51:10.983Z"
   },
   {
    "duration": 9,
    "start_time": "2024-11-25T18:51:11.288Z"
   },
   {
    "duration": 249,
    "start_time": "2024-11-25T18:51:11.299Z"
   },
   {
    "duration": 0,
    "start_time": "2024-11-25T18:51:11.550Z"
   },
   {
    "duration": 0,
    "start_time": "2024-11-25T18:51:11.551Z"
   },
   {
    "duration": 0,
    "start_time": "2024-11-25T18:51:11.552Z"
   },
   {
    "duration": 0,
    "start_time": "2024-11-25T18:51:11.553Z"
   },
   {
    "duration": 0,
    "start_time": "2024-11-25T18:51:11.555Z"
   },
   {
    "duration": 0,
    "start_time": "2024-11-25T18:51:11.556Z"
   },
   {
    "duration": 0,
    "start_time": "2024-11-25T18:51:11.570Z"
   },
   {
    "duration": 0,
    "start_time": "2024-11-25T18:51:11.571Z"
   },
   {
    "duration": 0,
    "start_time": "2024-11-25T18:51:11.573Z"
   },
   {
    "duration": 0,
    "start_time": "2024-11-25T18:51:11.575Z"
   },
   {
    "duration": 59,
    "start_time": "2024-11-25T18:51:56.894Z"
   },
   {
    "duration": 7,
    "start_time": "2024-11-25T18:58:48.648Z"
   },
   {
    "duration": 13,
    "start_time": "2024-11-25T18:59:39.721Z"
   },
   {
    "duration": 14,
    "start_time": "2024-11-25T18:59:53.511Z"
   },
   {
    "duration": 10,
    "start_time": "2024-11-25T19:00:14.936Z"
   },
   {
    "duration": 9,
    "start_time": "2024-11-25T19:00:56.255Z"
   },
   {
    "duration": 8,
    "start_time": "2024-11-25T19:00:57.103Z"
   },
   {
    "duration": 44,
    "start_time": "2024-11-25T19:01:05.845Z"
   },
   {
    "duration": 4,
    "start_time": "2024-11-25T19:01:12.088Z"
   },
   {
    "duration": 15,
    "start_time": "2024-11-25T19:01:16.468Z"
   },
   {
    "duration": 43,
    "start_time": "2024-11-25T19:01:26.033Z"
   },
   {
    "duration": 717,
    "start_time": "2024-11-25T19:01:49.359Z"
   },
   {
    "duration": 17,
    "start_time": "2024-11-25T19:01:57.733Z"
   },
   {
    "duration": 5,
    "start_time": "2024-11-25T19:02:05.341Z"
   },
   {
    "duration": 2091,
    "start_time": "2024-11-25T19:02:11.608Z"
   },
   {
    "duration": 109218,
    "start_time": "2024-11-25T19:02:27.870Z"
   },
   {
    "duration": 107648,
    "start_time": "2024-11-25T19:16:30.622Z"
   },
   {
    "duration": 1387,
    "start_time": "2024-11-25T19:18:33.749Z"
   },
   {
    "duration": 8331,
    "start_time": "2024-11-25T19:19:04.327Z"
   },
   {
    "duration": 8151,
    "start_time": "2024-11-25T19:19:26.729Z"
   },
   {
    "duration": 44,
    "start_time": "2024-11-25T19:19:45.089Z"
   },
   {
    "duration": 44,
    "start_time": "2024-11-25T19:20:08.144Z"
   },
   {
    "duration": 211,
    "start_time": "2024-11-25T19:20:28.875Z"
   },
   {
    "duration": 4,
    "start_time": "2024-11-25T19:20:34.730Z"
   },
   {
    "duration": 16769,
    "start_time": "2024-11-25T19:20:46.737Z"
   },
   {
    "duration": 15,
    "start_time": "2024-11-25T19:22:16.645Z"
   },
   {
    "duration": 295,
    "start_time": "2024-11-25T19:22:32.993Z"
   },
   {
    "duration": 70,
    "start_time": "2024-11-25T19:23:56.924Z"
   },
   {
    "duration": 76,
    "start_time": "2024-11-25T19:24:21.114Z"
   },
   {
    "duration": 104,
    "start_time": "2024-11-25T19:25:33.191Z"
   },
   {
    "duration": 94,
    "start_time": "2024-11-25T19:25:37.776Z"
   },
   {
    "duration": 86,
    "start_time": "2024-11-25T19:25:40.907Z"
   },
   {
    "duration": 156,
    "start_time": "2024-11-25T21:44:50.267Z"
   },
   {
    "duration": 846,
    "start_time": "2024-11-25T21:45:04.077Z"
   },
   {
    "duration": 25,
    "start_time": "2024-11-25T21:45:04.925Z"
   },
   {
    "duration": 13,
    "start_time": "2024-11-25T21:45:04.951Z"
   },
   {
    "duration": 17,
    "start_time": "2024-11-25T21:45:04.965Z"
   },
   {
    "duration": 7,
    "start_time": "2024-11-25T21:45:04.986Z"
   },
   {
    "duration": 9,
    "start_time": "2024-11-25T21:45:04.995Z"
   },
   {
    "duration": 7,
    "start_time": "2024-11-25T21:45:05.005Z"
   },
   {
    "duration": 9,
    "start_time": "2024-11-25T21:45:05.014Z"
   },
   {
    "duration": 11,
    "start_time": "2024-11-25T21:45:05.025Z"
   },
   {
    "duration": 4,
    "start_time": "2024-11-25T21:45:05.037Z"
   },
   {
    "duration": 44,
    "start_time": "2024-11-25T21:45:05.043Z"
   },
   {
    "duration": 17,
    "start_time": "2024-11-25T21:45:05.089Z"
   },
   {
    "duration": 6,
    "start_time": "2024-11-25T21:45:05.108Z"
   },
   {
    "duration": 8,
    "start_time": "2024-11-25T21:45:05.118Z"
   },
   {
    "duration": 3,
    "start_time": "2024-11-25T21:45:05.128Z"
   },
   {
    "duration": 62,
    "start_time": "2024-11-25T21:45:05.132Z"
   },
   {
    "duration": 32,
    "start_time": "2024-11-25T21:45:05.196Z"
   },
   {
    "duration": 7,
    "start_time": "2024-11-25T21:45:05.230Z"
   },
   {
    "duration": 1965,
    "start_time": "2024-11-25T21:45:05.238Z"
   },
   {
    "duration": 11,
    "start_time": "2024-11-25T21:45:07.205Z"
   },
   {
    "duration": 74,
    "start_time": "2024-11-25T21:45:07.217Z"
   },
   {
    "duration": 8,
    "start_time": "2024-11-25T21:45:07.293Z"
   },
   {
    "duration": 7,
    "start_time": "2024-11-25T21:45:07.303Z"
   },
   {
    "duration": 44,
    "start_time": "2024-11-25T21:45:07.312Z"
   },
   {
    "duration": 29,
    "start_time": "2024-11-25T21:45:07.357Z"
   },
   {
    "duration": 8046,
    "start_time": "2024-11-25T21:45:07.388Z"
   },
   {
    "duration": 51,
    "start_time": "2024-11-25T21:45:15.436Z"
   },
   {
    "duration": 711,
    "start_time": "2024-11-25T21:45:15.489Z"
   },
   {
    "duration": 833,
    "start_time": "2024-11-25T21:46:39.278Z"
   },
   {
    "duration": 16,
    "start_time": "2024-11-25T21:46:40.113Z"
   },
   {
    "duration": 13,
    "start_time": "2024-11-25T21:46:40.131Z"
   },
   {
    "duration": 10,
    "start_time": "2024-11-25T21:46:40.146Z"
   },
   {
    "duration": 6,
    "start_time": "2024-11-25T21:46:40.157Z"
   },
   {
    "duration": 8,
    "start_time": "2024-11-25T21:46:40.186Z"
   },
   {
    "duration": 6,
    "start_time": "2024-11-25T21:46:40.197Z"
   },
   {
    "duration": 9,
    "start_time": "2024-11-25T21:46:40.204Z"
   },
   {
    "duration": 11,
    "start_time": "2024-11-25T21:46:40.215Z"
   },
   {
    "duration": 2,
    "start_time": "2024-11-25T21:46:40.230Z"
   },
   {
    "duration": 10,
    "start_time": "2024-11-25T21:46:40.234Z"
   },
   {
    "duration": 56,
    "start_time": "2024-11-25T21:46:40.245Z"
   },
   {
    "duration": 7,
    "start_time": "2024-11-25T21:46:40.302Z"
   },
   {
    "duration": 8,
    "start_time": "2024-11-25T21:46:40.311Z"
   },
   {
    "duration": 4,
    "start_time": "2024-11-25T21:46:40.320Z"
   },
   {
    "duration": 32,
    "start_time": "2024-11-25T21:46:40.326Z"
   },
   {
    "duration": 31,
    "start_time": "2024-11-25T21:46:40.387Z"
   },
   {
    "duration": 5,
    "start_time": "2024-11-25T21:46:40.420Z"
   },
   {
    "duration": 259,
    "start_time": "2024-11-25T21:46:40.427Z"
   },
   {
    "duration": 9,
    "start_time": "2024-11-25T21:46:40.688Z"
   },
   {
    "duration": 56,
    "start_time": "2024-11-25T21:46:40.699Z"
   },
   {
    "duration": 8,
    "start_time": "2024-11-25T21:46:40.756Z"
   },
   {
    "duration": 9,
    "start_time": "2024-11-25T21:46:40.786Z"
   },
   {
    "duration": 45,
    "start_time": "2024-11-25T21:46:40.796Z"
   },
   {
    "duration": 5,
    "start_time": "2024-11-25T21:46:40.843Z"
   },
   {
    "duration": 7999,
    "start_time": "2024-11-25T21:46:40.850Z"
   },
   {
    "duration": 52,
    "start_time": "2024-11-25T21:46:48.851Z"
   },
   {
    "duration": 716,
    "start_time": "2024-11-25T21:46:48.907Z"
   },
   {
    "duration": 107558,
    "start_time": "2024-11-25T21:46:49.624Z"
   },
   {
    "duration": 1417,
    "start_time": "2024-11-25T21:48:37.183Z"
   },
   {
    "duration": 109,
    "start_time": "2024-11-25T21:48:38.601Z"
   },
   {
    "duration": 274,
    "start_time": "2024-11-25T21:48:38.711Z"
   },
   {
    "duration": 5,
    "start_time": "2024-11-25T21:49:37.819Z"
   },
   {
    "duration": 43,
    "start_time": "2024-11-25T22:34:50.838Z"
   },
   {
    "duration": 44,
    "start_time": "2024-11-25T22:35:59.019Z"
   },
   {
    "duration": 1389,
    "start_time": "2024-11-25T22:37:14.972Z"
   },
   {
    "duration": 44,
    "start_time": "2024-11-25T22:38:13.008Z"
   },
   {
    "duration": 1397,
    "start_time": "2024-11-25T22:40:25.629Z"
   },
   {
    "duration": 327,
    "start_time": "2024-11-25T22:45:52.360Z"
   },
   {
    "duration": 4,
    "start_time": "2024-11-25T22:46:36.625Z"
   },
   {
    "duration": 21,
    "start_time": "2024-11-25T22:46:44.072Z"
   },
   {
    "duration": 4,
    "start_time": "2024-11-25T22:47:12.252Z"
   },
   {
    "duration": 190,
    "start_time": "2024-11-25T22:47:18.746Z"
   },
   {
    "duration": 178,
    "start_time": "2024-11-25T22:49:52.581Z"
   },
   {
    "duration": 177,
    "start_time": "2024-11-25T22:50:12.365Z"
   },
   {
    "duration": 139,
    "start_time": "2024-11-25T22:50:55.791Z"
   },
   {
    "duration": 232,
    "start_time": "2024-11-25T22:51:12.935Z"
   },
   {
    "duration": 100,
    "start_time": "2024-11-25T22:51:45.891Z"
   },
   {
    "duration": 96,
    "start_time": "2024-11-25T22:51:55.481Z"
   },
   {
    "duration": 138,
    "start_time": "2024-11-25T22:52:02.554Z"
   },
   {
    "duration": 188,
    "start_time": "2024-11-25T22:52:10.555Z"
   },
   {
    "duration": 177,
    "start_time": "2024-11-25T22:53:28.377Z"
   },
   {
    "duration": 138,
    "start_time": "2024-11-25T22:53:45.182Z"
   },
   {
    "duration": 97,
    "start_time": "2024-11-25T22:53:57.881Z"
   },
   {
    "duration": 199,
    "start_time": "2024-11-25T22:55:09.050Z"
   },
   {
    "duration": 182,
    "start_time": "2024-11-25T22:55:46.772Z"
   },
   {
    "duration": 145,
    "start_time": "2024-11-25T22:56:13.553Z"
   },
   {
    "duration": 101,
    "start_time": "2024-11-25T22:56:25.866Z"
   },
   {
    "duration": 159,
    "start_time": "2024-11-26T00:56:08.590Z"
   },
   {
    "duration": 2670,
    "start_time": "2024-11-26T00:56:42.070Z"
   },
   {
    "duration": 26,
    "start_time": "2024-11-26T00:56:44.743Z"
   },
   {
    "duration": 15,
    "start_time": "2024-11-26T00:56:44.771Z"
   },
   {
    "duration": 13,
    "start_time": "2024-11-26T00:56:44.788Z"
   },
   {
    "duration": 8,
    "start_time": "2024-11-26T00:56:44.809Z"
   },
   {
    "duration": 10,
    "start_time": "2024-11-26T00:56:44.818Z"
   },
   {
    "duration": 7,
    "start_time": "2024-11-26T00:56:44.830Z"
   },
   {
    "duration": 9,
    "start_time": "2024-11-26T00:56:44.839Z"
   },
   {
    "duration": 10,
    "start_time": "2024-11-26T00:56:44.849Z"
   },
   {
    "duration": 4,
    "start_time": "2024-11-26T00:56:44.861Z"
   },
   {
    "duration": 48,
    "start_time": "2024-11-26T00:56:44.866Z"
   },
   {
    "duration": 17,
    "start_time": "2024-11-26T00:56:44.916Z"
   },
   {
    "duration": 7,
    "start_time": "2024-11-26T00:56:44.934Z"
   },
   {
    "duration": 7,
    "start_time": "2024-11-26T00:56:44.945Z"
   },
   {
    "duration": 4,
    "start_time": "2024-11-26T00:56:44.954Z"
   },
   {
    "duration": 60,
    "start_time": "2024-11-26T00:56:44.959Z"
   },
   {
    "duration": 31,
    "start_time": "2024-11-26T00:56:45.021Z"
   },
   {
    "duration": 6,
    "start_time": "2024-11-26T00:56:45.054Z"
   },
   {
    "duration": 108,
    "start_time": "2024-11-26T00:56:45.062Z"
   },
   {
    "duration": 10,
    "start_time": "2024-11-26T00:56:45.171Z"
   },
   {
    "duration": 72,
    "start_time": "2024-11-26T00:56:45.183Z"
   },
   {
    "duration": 8,
    "start_time": "2024-11-26T00:56:45.256Z"
   },
   {
    "duration": 7,
    "start_time": "2024-11-26T00:56:45.266Z"
   },
   {
    "duration": 63,
    "start_time": "2024-11-26T00:56:45.275Z"
   },
   {
    "duration": 4,
    "start_time": "2024-11-26T00:56:45.340Z"
   },
   {
    "duration": 8091,
    "start_time": "2024-11-26T00:56:45.346Z"
   },
   {
    "duration": 43,
    "start_time": "2024-11-26T00:56:53.439Z"
   },
   {
    "duration": 56,
    "start_time": "2024-11-26T00:56:53.484Z"
   },
   {
    "duration": 719,
    "start_time": "2024-11-26T00:56:53.542Z"
   },
   {
    "duration": 106891,
    "start_time": "2024-11-26T00:56:54.263Z"
   },
   {
    "duration": 1413,
    "start_time": "2024-11-26T00:58:41.156Z"
   },
   {
    "duration": 1418,
    "start_time": "2024-11-26T00:58:42.571Z"
   },
   {
    "duration": 135,
    "start_time": "2024-11-26T00:58:43.991Z"
   },
   {
    "duration": 196,
    "start_time": "2024-11-26T00:58:44.128Z"
   },
   {
    "duration": 251,
    "start_time": "2024-11-26T00:58:44.329Z"
   },
   {
    "duration": 163,
    "start_time": "2024-11-26T00:58:44.581Z"
   },
   {
    "duration": 119,
    "start_time": "2024-11-26T00:58:44.745Z"
   },
   {
    "duration": 247,
    "start_time": "2024-11-26T01:13:27.331Z"
   },
   {
    "duration": 156,
    "start_time": "2024-11-26T01:13:40.885Z"
   },
   {
    "duration": 108,
    "start_time": "2024-11-26T01:13:54.835Z"
   },
   {
    "duration": 887,
    "start_time": "2024-12-09T22:44:46.008Z"
   },
   {
    "duration": 27,
    "start_time": "2024-12-09T22:44:49.430Z"
   },
   {
    "duration": 7,
    "start_time": "2024-12-09T22:44:57.714Z"
   },
   {
    "duration": 9,
    "start_time": "2024-12-09T22:45:00.173Z"
   },
   {
    "duration": 7,
    "start_time": "2024-12-09T22:45:02.740Z"
   },
   {
    "duration": 10,
    "start_time": "2024-12-09T22:45:04.255Z"
   },
   {
    "duration": 13,
    "start_time": "2024-12-09T22:45:07.201Z"
   },
   {
    "duration": 3,
    "start_time": "2024-12-09T22:45:11.453Z"
   },
   {
    "duration": 66,
    "start_time": "2024-12-09T22:45:12.330Z"
   },
   {
    "duration": 17,
    "start_time": "2024-12-09T22:45:18.774Z"
   },
   {
    "duration": 9,
    "start_time": "2024-12-09T22:45:22.761Z"
   },
   {
    "duration": 8,
    "start_time": "2024-12-09T22:45:23.471Z"
   },
   {
    "duration": 3,
    "start_time": "2024-12-09T22:45:24.173Z"
   },
   {
    "duration": 31,
    "start_time": "2024-12-09T22:45:33.887Z"
   },
   {
    "duration": 5,
    "start_time": "2024-12-09T22:45:38.408Z"
   },
   {
    "duration": 74,
    "start_time": "2024-12-09T22:46:47.302Z"
   },
   {
    "duration": 9,
    "start_time": "2024-12-09T23:07:43.624Z"
   },
   {
    "duration": 58,
    "start_time": "2024-12-09T23:07:45.316Z"
   }
  ],
  "kernelspec": {
   "display_name": "Python 3 (ipykernel)",
   "language": "python",
   "name": "python3"
  },
  "language_info": {
   "codemirror_mode": {
    "name": "ipython",
    "version": 3
   },
   "file_extension": ".py",
   "mimetype": "text/x-python",
   "name": "python",
   "nbconvert_exporter": "python",
   "pygments_lexer": "ipython3",
   "version": "3.9.19"
  },
  "toc": {
   "base_numbering": 1,
   "nav_menu": {},
   "number_sections": true,
   "sideBar": true,
   "skip_h1_title": true,
   "title_cell": "Table of Contents",
   "title_sidebar": "Contents",
   "toc_cell": false,
   "toc_position": {},
   "toc_section_display": true,
   "toc_window_display": false
  }
 },
 "nbformat": 4,
 "nbformat_minor": 2
}
