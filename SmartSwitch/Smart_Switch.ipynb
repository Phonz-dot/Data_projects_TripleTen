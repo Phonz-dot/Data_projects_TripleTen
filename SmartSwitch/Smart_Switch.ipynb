{
 "cells": [
  {
   "cell_type": "markdown",
   "metadata": {},
   "source": [
    "Please find my comments below - **I kindly ask that you do not move, modify, or delete them**.\n",
    "\n",
    "You can find my comments in green, yellow or red boxes like this:\n",
    "\n",
    "<div class=\"alert alert-block alert-success\">\n",
    "<b>Reviewer's comment</b> <a class=\"tocSkip\"></a>\n",
    "\n",
    "Success. Everything is done succesfully.\n",
    "</div>\n",
    "\n",
    "<div class=\"alert alert-block alert-warning\">\n",
    "<b>Reviewer's comment</b> <a class=\"tocSkip\"></a>\n",
    "\n",
    "Remarks. Some recommendations.\n",
    "</div>\n",
    "\n",
    "<div class=\"alert alert-block alert-danger\">\n",
    "\n",
    "<b>Reviewer's comment</b> <a class=\"tocSkip\"></a>\n",
    "\n",
    "Needs fixing. The block requires some corrections. Work can't be accepted with the red comments.\n",
    "</div>\n",
    "\n",
    "You can answer me by using this:\n",
    "\n",
    "<div class=\"alert alert-block alert-info\">\n",
    "<b>Student answer.</b> <a class=\"tocSkip\"></a>\n",
    "\n",
    "Text here.\n",
    "</div>\n"
   ]
  },
  {
   "cell_type": "markdown",
   "metadata": {},
   "source": [
    "<div class=\"alert alert-block alert-success\">\n",
    "<b>Overall reviewer's comment</b> <a class=\"tocSkip\"></a>\n",
    "\n",
    "Hello Alphonso,\n",
    "    \n",
    "Another project successfully completed - well done! 🏆 Your consistent effort and progress are truly commendable.\n",
    "    \n",
    "Our team is here to help you keep pushing forward and honing your skills as you advance through the program.\n",
    "    \n",
    "What Was Great:\n",
    "- Good project structure\n",
    "- High code level\n",
    "- Deep conclusions\n",
    "    \n",
    "Congratulations again on your accomplishment! Each project you complete adds to your growing expertise, and it’s exciting to see you make such great strides. Keep up the great work! 🎯\n",
    "</div>"
   ]
  },
  {
   "cell_type": "markdown",
   "metadata": {},
   "source": [
    "## Goal:\n",
    "---\n",
    "Mobile carrier Megaline wants to develop a model that could analyze subscribers' behavior and recommend one of Megaline's newer plans: Smart or Ultra.\n",
    "\n",
    "\n",
    "### Stages:\n",
    "1. Data Preprocessing: Clean and organize the data, ensuring it's ready for analysis.\n",
    "2. Exploratory Data Analysis (EDA): Perform an initial analysis to understand the data distribution and identify key trends.\n",
    "3. ID Target/Feature Variables: Find out exactly what variable is being tested.\n",
    "4. Split Dataset: Split dataset up into training, validating & test sets.\n",
    "5. Determine Best Model: Train, fine tune, & evaluate the appropriate models for the task.\n",
    "3. Perform a sanity check: Test ideal model to validate results."
   ]
  },
  {
   "cell_type": "markdown",
   "metadata": {},
   "source": [
    "<div class=\"alert alert-block alert-success\">\n",
    "<b>Reviewer's comment</b> <a class=\"tocSkip\"></a>\n",
    "\n",
    "Great start with an introduction!\n",
    "</div>"
   ]
  },
  {
   "cell_type": "markdown",
   "metadata": {},
   "source": [
    "## Load Neccessary Libraries\n",
    "---"
   ]
  },
  {
   "cell_type": "code",
   "execution_count": 1,
   "metadata": {},
   "outputs": [],
   "source": [
    "import pandas as pd\n",
    "import numpy as np\n",
    "import plotly.express as px\n",
    "from sklearn.model_selection import train_test_split, GridSearchCV\n",
    "from sklearn.tree import DecisionTreeClassifier\n",
    "from sklearn.ensemble import RandomForestClassifier\n",
    "from sklearn.linear_model import LogisticRegression\n",
    "from sklearn.metrics import classification_report, confusion_matrix, accuracy_score\n",
    "from sklearn.dummy import DummyClassifier"
   ]
  },
  {
   "cell_type": "markdown",
   "metadata": {},
   "source": [
    "## Load Dataset\n",
    "---"
   ]
  },
  {
   "cell_type": "code",
   "execution_count": 2,
   "metadata": {},
   "outputs": [],
   "source": [
    "user_bhvr = pd.read_csv('/datasets/users_behavior.csv')"
   ]
  },
  {
   "cell_type": "code",
   "execution_count": 3,
   "metadata": {},
   "outputs": [
    {
     "data": {
      "text/html": [
       "<div>\n",
       "<style scoped>\n",
       "    .dataframe tbody tr th:only-of-type {\n",
       "        vertical-align: middle;\n",
       "    }\n",
       "\n",
       "    .dataframe tbody tr th {\n",
       "        vertical-align: top;\n",
       "    }\n",
       "\n",
       "    .dataframe thead th {\n",
       "        text-align: right;\n",
       "    }\n",
       "</style>\n",
       "<table border=\"1\" class=\"dataframe\">\n",
       "  <thead>\n",
       "    <tr style=\"text-align: right;\">\n",
       "      <th></th>\n",
       "      <th>calls</th>\n",
       "      <th>minutes</th>\n",
       "      <th>messages</th>\n",
       "      <th>mb_used</th>\n",
       "      <th>is_ultra</th>\n",
       "    </tr>\n",
       "  </thead>\n",
       "  <tbody>\n",
       "    <tr>\n",
       "      <th>0</th>\n",
       "      <td>40.0</td>\n",
       "      <td>311.90</td>\n",
       "      <td>83.0</td>\n",
       "      <td>19915.42</td>\n",
       "      <td>0</td>\n",
       "    </tr>\n",
       "    <tr>\n",
       "      <th>1</th>\n",
       "      <td>85.0</td>\n",
       "      <td>516.75</td>\n",
       "      <td>56.0</td>\n",
       "      <td>22696.96</td>\n",
       "      <td>0</td>\n",
       "    </tr>\n",
       "    <tr>\n",
       "      <th>2</th>\n",
       "      <td>77.0</td>\n",
       "      <td>467.66</td>\n",
       "      <td>86.0</td>\n",
       "      <td>21060.45</td>\n",
       "      <td>0</td>\n",
       "    </tr>\n",
       "    <tr>\n",
       "      <th>3</th>\n",
       "      <td>106.0</td>\n",
       "      <td>745.53</td>\n",
       "      <td>81.0</td>\n",
       "      <td>8437.39</td>\n",
       "      <td>1</td>\n",
       "    </tr>\n",
       "    <tr>\n",
       "      <th>4</th>\n",
       "      <td>66.0</td>\n",
       "      <td>418.74</td>\n",
       "      <td>1.0</td>\n",
       "      <td>14502.75</td>\n",
       "      <td>0</td>\n",
       "    </tr>\n",
       "  </tbody>\n",
       "</table>\n",
       "</div>"
      ],
      "text/plain": [
       "   calls  minutes  messages   mb_used  is_ultra\n",
       "0   40.0   311.90      83.0  19915.42         0\n",
       "1   85.0   516.75      56.0  22696.96         0\n",
       "2   77.0   467.66      86.0  21060.45         0\n",
       "3  106.0   745.53      81.0   8437.39         1\n",
       "4   66.0   418.74       1.0  14502.75         0"
      ]
     },
     "execution_count": 3,
     "metadata": {},
     "output_type": "execute_result"
    }
   ],
   "source": [
    "user_bhvr.head()"
   ]
  },
  {
   "cell_type": "code",
   "execution_count": 4,
   "metadata": {},
   "outputs": [
    {
     "name": "stdout",
     "output_type": "stream",
     "text": [
      "<class 'pandas.core.frame.DataFrame'>\n",
      "RangeIndex: 3214 entries, 0 to 3213\n",
      "Data columns (total 5 columns):\n",
      " #   Column    Non-Null Count  Dtype  \n",
      "---  ------    --------------  -----  \n",
      " 0   calls     3214 non-null   float64\n",
      " 1   minutes   3214 non-null   float64\n",
      " 2   messages  3214 non-null   float64\n",
      " 3   mb_used   3214 non-null   float64\n",
      " 4   is_ultra  3214 non-null   int64  \n",
      "dtypes: float64(4), int64(1)\n",
      "memory usage: 125.7 KB\n",
      "calls       0\n",
      "minutes     0\n",
      "messages    0\n",
      "mb_used     0\n",
      "is_ultra    0\n",
      "dtype: int64\n",
      "0\n"
     ]
    }
   ],
   "source": [
    "user_bhvr.info()\n",
    "print(user_bhvr.isna().sum())\n",
    "print(user_bhvr.duplicated().sum())"
   ]
  },
  {
   "cell_type": "code",
   "execution_count": 5,
   "metadata": {},
   "outputs": [
    {
     "data": {
      "text/html": [
       "<div>\n",
       "<style scoped>\n",
       "    .dataframe tbody tr th:only-of-type {\n",
       "        vertical-align: middle;\n",
       "    }\n",
       "\n",
       "    .dataframe tbody tr th {\n",
       "        vertical-align: top;\n",
       "    }\n",
       "\n",
       "    .dataframe thead th {\n",
       "        text-align: right;\n",
       "    }\n",
       "</style>\n",
       "<table border=\"1\" class=\"dataframe\">\n",
       "  <thead>\n",
       "    <tr style=\"text-align: right;\">\n",
       "      <th></th>\n",
       "      <th>calls</th>\n",
       "      <th>minutes</th>\n",
       "      <th>messages</th>\n",
       "      <th>mb_used</th>\n",
       "      <th>is_ultra</th>\n",
       "    </tr>\n",
       "  </thead>\n",
       "  <tbody>\n",
       "    <tr>\n",
       "      <th>count</th>\n",
       "      <td>3214.000000</td>\n",
       "      <td>3214.000000</td>\n",
       "      <td>3214.000000</td>\n",
       "      <td>3214.000000</td>\n",
       "      <td>3214.000000</td>\n",
       "    </tr>\n",
       "    <tr>\n",
       "      <th>mean</th>\n",
       "      <td>63.038892</td>\n",
       "      <td>438.208787</td>\n",
       "      <td>38.281269</td>\n",
       "      <td>17207.673836</td>\n",
       "      <td>0.306472</td>\n",
       "    </tr>\n",
       "    <tr>\n",
       "      <th>std</th>\n",
       "      <td>33.236368</td>\n",
       "      <td>234.569872</td>\n",
       "      <td>36.148326</td>\n",
       "      <td>7570.968246</td>\n",
       "      <td>0.461100</td>\n",
       "    </tr>\n",
       "    <tr>\n",
       "      <th>min</th>\n",
       "      <td>0.000000</td>\n",
       "      <td>0.000000</td>\n",
       "      <td>0.000000</td>\n",
       "      <td>0.000000</td>\n",
       "      <td>0.000000</td>\n",
       "    </tr>\n",
       "    <tr>\n",
       "      <th>25%</th>\n",
       "      <td>40.000000</td>\n",
       "      <td>274.575000</td>\n",
       "      <td>9.000000</td>\n",
       "      <td>12491.902500</td>\n",
       "      <td>0.000000</td>\n",
       "    </tr>\n",
       "    <tr>\n",
       "      <th>50%</th>\n",
       "      <td>62.000000</td>\n",
       "      <td>430.600000</td>\n",
       "      <td>30.000000</td>\n",
       "      <td>16943.235000</td>\n",
       "      <td>0.000000</td>\n",
       "    </tr>\n",
       "    <tr>\n",
       "      <th>75%</th>\n",
       "      <td>82.000000</td>\n",
       "      <td>571.927500</td>\n",
       "      <td>57.000000</td>\n",
       "      <td>21424.700000</td>\n",
       "      <td>1.000000</td>\n",
       "    </tr>\n",
       "    <tr>\n",
       "      <th>max</th>\n",
       "      <td>244.000000</td>\n",
       "      <td>1632.060000</td>\n",
       "      <td>224.000000</td>\n",
       "      <td>49745.730000</td>\n",
       "      <td>1.000000</td>\n",
       "    </tr>\n",
       "  </tbody>\n",
       "</table>\n",
       "</div>"
      ],
      "text/plain": [
       "             calls      minutes     messages       mb_used     is_ultra\n",
       "count  3214.000000  3214.000000  3214.000000   3214.000000  3214.000000\n",
       "mean     63.038892   438.208787    38.281269  17207.673836     0.306472\n",
       "std      33.236368   234.569872    36.148326   7570.968246     0.461100\n",
       "min       0.000000     0.000000     0.000000      0.000000     0.000000\n",
       "25%      40.000000   274.575000     9.000000  12491.902500     0.000000\n",
       "50%      62.000000   430.600000    30.000000  16943.235000     0.000000\n",
       "75%      82.000000   571.927500    57.000000  21424.700000     1.000000\n",
       "max     244.000000  1632.060000   224.000000  49745.730000     1.000000"
      ]
     },
     "execution_count": 5,
     "metadata": {},
     "output_type": "execute_result"
    }
   ],
   "source": [
    "user_bhvr.describe()"
   ]
  },
  {
   "cell_type": "markdown",
   "metadata": {},
   "source": [
    "After loading in the dataset, I'd printed the first 5 rows of the dataset to get oriented with how the dataframe looked. Next, I printed the descriptions of all the columns to see what kind of data types that were being worked with and if each column holds the appropriate data types. Moreover, a null and duplicate check was done to ensure the dataset didn't have any of those discrepancies present."
   ]
  },
  {
   "cell_type": "code",
   "execution_count": 6,
   "metadata": {},
   "outputs": [
    {
     "data": {
      "text/html": [
       "<div>\n",
       "<style scoped>\n",
       "    .dataframe tbody tr th:only-of-type {\n",
       "        vertical-align: middle;\n",
       "    }\n",
       "\n",
       "    .dataframe tbody tr th {\n",
       "        vertical-align: top;\n",
       "    }\n",
       "\n",
       "    .dataframe thead th {\n",
       "        text-align: right;\n",
       "    }\n",
       "</style>\n",
       "<table border=\"1\" class=\"dataframe\">\n",
       "  <thead>\n",
       "    <tr style=\"text-align: right;\">\n",
       "      <th></th>\n",
       "      <th>calls</th>\n",
       "      <th>minutes</th>\n",
       "      <th>messages</th>\n",
       "      <th>mb_used</th>\n",
       "      <th>is_ultra</th>\n",
       "    </tr>\n",
       "  </thead>\n",
       "  <tbody>\n",
       "    <tr>\n",
       "      <th>0</th>\n",
       "      <td>40.0</td>\n",
       "      <td>311.90</td>\n",
       "      <td>83.0</td>\n",
       "      <td>19915.42</td>\n",
       "      <td>0</td>\n",
       "    </tr>\n",
       "    <tr>\n",
       "      <th>1</th>\n",
       "      <td>85.0</td>\n",
       "      <td>516.75</td>\n",
       "      <td>56.0</td>\n",
       "      <td>22696.96</td>\n",
       "      <td>0</td>\n",
       "    </tr>\n",
       "    <tr>\n",
       "      <th>2</th>\n",
       "      <td>77.0</td>\n",
       "      <td>467.66</td>\n",
       "      <td>86.0</td>\n",
       "      <td>21060.45</td>\n",
       "      <td>0</td>\n",
       "    </tr>\n",
       "    <tr>\n",
       "      <th>3</th>\n",
       "      <td>106.0</td>\n",
       "      <td>745.53</td>\n",
       "      <td>81.0</td>\n",
       "      <td>8437.39</td>\n",
       "      <td>1</td>\n",
       "    </tr>\n",
       "    <tr>\n",
       "      <th>4</th>\n",
       "      <td>66.0</td>\n",
       "      <td>418.74</td>\n",
       "      <td>1.0</td>\n",
       "      <td>14502.75</td>\n",
       "      <td>0</td>\n",
       "    </tr>\n",
       "  </tbody>\n",
       "</table>\n",
       "</div>"
      ],
      "text/plain": [
       "   calls  minutes  messages   mb_used  is_ultra\n",
       "0   40.0   311.90      83.0  19915.42         0\n",
       "1   85.0   516.75      56.0  22696.96         0\n",
       "2   77.0   467.66      86.0  21060.45         0\n",
       "3  106.0   745.53      81.0   8437.39         1\n",
       "4   66.0   418.74       1.0  14502.75         0"
      ]
     },
     "execution_count": 6,
     "metadata": {},
     "output_type": "execute_result"
    }
   ],
   "source": [
    "user_bhvr.head()"
   ]
  },
  {
   "cell_type": "markdown",
   "metadata": {},
   "source": [
    "<div class=\"alert alert-block alert-success\">\n",
    "<b>Reviewer's comment</b> <a class=\"tocSkip\"></a>\n",
    "\n",
    "Well done!\n",
    "</div>"
   ]
  },
  {
   "cell_type": "markdown",
   "metadata": {},
   "source": [
    "## Define Features and Target/ Split Dataset\n",
    "---"
   ]
  },
  {
   "cell_type": "markdown",
   "metadata": {},
   "source": [
    "For this project:\n",
    "1. Target:'is_ultra' column\n",
    "2. Features: Every column except 'is_ultra' column"
   ]
  },
  {
   "cell_type": "code",
   "execution_count": 7,
   "metadata": {},
   "outputs": [],
   "source": [
    "features = user_bhvr.drop(['is_ultra'], axis=1)\n",
    "target = user_bhvr['is_ultra']"
   ]
  },
  {
   "cell_type": "code",
   "execution_count": 8,
   "metadata": {},
   "outputs": [],
   "source": [
    "features_train, features_temp, target_train, target_temp = train_test_split(features, target, train_size=0.6, random_state=12345)"
   ]
  },
  {
   "cell_type": "code",
   "execution_count": 9,
   "metadata": {},
   "outputs": [],
   "source": [
    "features_valid, features_test, target_valid, target_test = train_test_split(features_temp, target_temp, test_size=0.5, random_state=12345)"
   ]
  },
  {
   "cell_type": "markdown",
   "metadata": {},
   "source": [
    "The intuition behind the method of splitting the original dataset was to follow a 3:1:1 ratio. Making suring a majority of the original dataset was used for training, while giving some data that can be using for evaluating and testing."
   ]
  },
  {
   "cell_type": "markdown",
   "metadata": {},
   "source": []
  },
  {
   "cell_type": "markdown",
   "metadata": {},
   "source": [
    "## Decision Tree Classifier\n",
    "---"
   ]
  },
  {
   "cell_type": "markdown",
   "metadata": {},
   "source": [
    "### Base Level Model Training\n",
    "---"
   ]
  },
  {
   "cell_type": "code",
   "execution_count": 10,
   "metadata": {},
   "outputs": [
    {
     "name": "stdout",
     "output_type": "stream",
     "text": [
      "Accuracy:\n",
      " 0.713841368584759\n"
     ]
    }
   ],
   "source": [
    "dt_model = DecisionTreeClassifier(random_state=12345)\n",
    "dt_model.fit(features_train, target_train)\n",
    "predictions_valid = dt_model.predict(features_valid)\n",
    "\n",
    "print(\"Accuracy:\\n\", accuracy_score(target_valid, predictions_valid))"
   ]
  },
  {
   "cell_type": "markdown",
   "metadata": {},
   "source": [
    "Looking at the accuracy metric of the Decision Tree algorithm, it stands at 0.71 which is a good starting point for the model correctly classifying each observation.However, given the conditions of the project, it is not acceptable."
   ]
  },
  {
   "cell_type": "code",
   "execution_count": 11,
   "metadata": {},
   "outputs": [
    {
     "data": {
      "text/plain": [
       "{'ccp_alpha': 0.0,\n",
       " 'class_weight': None,\n",
       " 'criterion': 'gini',\n",
       " 'max_depth': None,\n",
       " 'max_features': None,\n",
       " 'max_leaf_nodes': None,\n",
       " 'min_impurity_decrease': 0.0,\n",
       " 'min_impurity_split': None,\n",
       " 'min_samples_leaf': 1,\n",
       " 'min_samples_split': 2,\n",
       " 'min_weight_fraction_leaf': 0.0,\n",
       " 'random_state': 12345,\n",
       " 'splitter': 'best'}"
      ]
     },
     "execution_count": 11,
     "metadata": {},
     "output_type": "execute_result"
    }
   ],
   "source": [
    "dt_model.get_params()"
   ]
  },
  {
   "cell_type": "markdown",
   "metadata": {},
   "source": [
    "### Hyperparameter Tuning\n",
    "---"
   ]
  },
  {
   "cell_type": "code",
   "execution_count": 12,
   "metadata": {},
   "outputs": [
    {
     "name": "stdout",
     "output_type": "stream",
     "text": [
      "Best Parameters: {'max_depth': 7}\n",
      "Best Score: 0.8065468480138168\n"
     ]
    }
   ],
   "source": [
    "dt_param_grid = {'max_depth': list(range(1, 30))}\n",
    "\n",
    "dt_grid_search = GridSearchCV(dt_model, dt_param_grid,cv = 10, scoring='accuracy')\n",
    "\n",
    "dt_grid_search.fit(features_train, target_train)\n",
    "\n",
    "print(f\"Best Parameters: {dt_grid_search.best_params_}\")\n",
    "print(f\"Best Score: {dt_grid_search.best_score_}\")"
   ]
  },
  {
   "cell_type": "code",
   "execution_count": 13,
   "metadata": {},
   "outputs": [
    {
     "name": "stdout",
     "output_type": "stream",
     "text": [
      "Accuracy:\n",
      " 0.7822706065318819\n"
     ]
    }
   ],
   "source": [
    "final_dt_model = DecisionTreeClassifier(max_depth=dt_grid_search.best_params_['max_depth'], random_state=12345)\n",
    "final_dt_model.fit(features_train, target_train)\n",
    "final_dt_predictions_valid = final_dt_model.predict(features_valid)\n",
    "\n",
    "print(\"Accuracy:\\n\", accuracy_score(target_valid, final_dt_predictions_valid))"
   ]
  },
  {
   "cell_type": "markdown",
   "metadata": {},
   "source": [
    "After using the GridSearchCV function, the optimal configuration for the hyperparameter was 7 and this allowed the key metric in this project, 'accuracy', to be above 0.75. Now it's time to test the model's robustness with the testing set."
   ]
  },
  {
   "cell_type": "markdown",
   "metadata": {},
   "source": [
    "### Test Model Evaluation\n",
    "---"
   ]
  },
  {
   "cell_type": "code",
   "execution_count": 14,
   "metadata": {},
   "outputs": [
    {
     "name": "stdout",
     "output_type": "stream",
     "text": [
      "Accuracy:\n",
      " 0.7993779160186625\n"
     ]
    }
   ],
   "source": [
    "final_dt_pred_test = final_dt_model.predict(features_test)\n",
    "accuracy = accuracy_score(target_test, final_dt_pred_test)\n",
    "print('Accuracy:\\n', accuracy)"
   ]
  },
  {
   "cell_type": "markdown",
   "metadata": {},
   "source": [
    "From the above evaluation metric, the accuracy seems to be consistent between the train/validation set & test sets and it stands at a satisfactory level (> 0.75)."
   ]
  },
  {
   "cell_type": "markdown",
   "metadata": {},
   "source": [
    "## Random Forest Classifier\n",
    "---"
   ]
  },
  {
   "cell_type": "markdown",
   "metadata": {},
   "source": [
    "### Base Level Model Training\n",
    "---"
   ]
  },
  {
   "cell_type": "code",
   "execution_count": 15,
   "metadata": {},
   "outputs": [
    {
     "name": "stdout",
     "output_type": "stream",
     "text": [
      "Accuracy:\n",
      " 0.7853810264385692\n"
     ]
    }
   ],
   "source": [
    "rf_model = RandomForestClassifier(random_state=12345)\n",
    "rf_model.fit(features_train, target_train)\n",
    "rf_predictions_valid = rf_model.predict(features_valid)\n",
    "\n",
    "print(\"Accuracy:\\n\", accuracy_score(target_valid, rf_predictions_valid))"
   ]
  },
  {
   "cell_type": "markdown",
   "metadata": {},
   "source": [
    "Looking at the accuracy of the Random Forest Classification model, it stands at a satifactory level (> 0.75) without any specified hyperparameter. However, with achieving the highest accuracy level in mind, hyperparameter tuning will be done on the validating set."
   ]
  },
  {
   "cell_type": "code",
   "execution_count": 16,
   "metadata": {},
   "outputs": [
    {
     "data": {
      "text/plain": [
       "{'bootstrap': True,\n",
       " 'ccp_alpha': 0.0,\n",
       " 'class_weight': None,\n",
       " 'criterion': 'gini',\n",
       " 'max_depth': None,\n",
       " 'max_features': 'auto',\n",
       " 'max_leaf_nodes': None,\n",
       " 'max_samples': None,\n",
       " 'min_impurity_decrease': 0.0,\n",
       " 'min_impurity_split': None,\n",
       " 'min_samples_leaf': 1,\n",
       " 'min_samples_split': 2,\n",
       " 'min_weight_fraction_leaf': 0.0,\n",
       " 'n_estimators': 100,\n",
       " 'n_jobs': None,\n",
       " 'oob_score': False,\n",
       " 'random_state': 12345,\n",
       " 'verbose': 0,\n",
       " 'warm_start': False}"
      ]
     },
     "execution_count": 16,
     "metadata": {},
     "output_type": "execute_result"
    }
   ],
   "source": [
    "rf_model.get_params()"
   ]
  },
  {
   "cell_type": "markdown",
   "metadata": {},
   "source": [
    "### Hyperparameter Tuning\n",
    "---"
   ]
  },
  {
   "cell_type": "code",
   "execution_count": 17,
   "metadata": {},
   "outputs": [
    {
     "name": "stdout",
     "output_type": "stream",
     "text": [
      "Best Parameters: {'max_depth': 10, 'n_estimators': 100}\n",
      "Best Score: 0.8200237478411054\n"
     ]
    }
   ],
   "source": [
    "rf_param_grid = {'max_depth': [10, 20, 30],\n",
    "             'n_estimators': [100, 200, 300]}\n",
    "\n",
    "rf_grid_search = GridSearchCV(rf_model, rf_param_grid,cv = 10,n_jobs=-1, scoring='accuracy')\n",
    "\n",
    "rf_grid_search.fit(features_train, target_train)\n",
    "\n",
    "print(f\"Best Parameters: {rf_grid_search.best_params_}\")\n",
    "print(f\"Best Score: {rf_grid_search.best_score_}\")"
   ]
  },
  {
   "cell_type": "markdown",
   "metadata": {},
   "source": [
    "After using the GridSearchCV function, the optimal configuration for the hyperparameters were 10 for max_depth & 100 for n_estimators and this allowed the key metric in this project, 'accuracy', to be above 0.75. Now it's time to test the model's robustness with the testing set."
   ]
  },
  {
   "cell_type": "code",
   "execution_count": 18,
   "metadata": {
    "scrolled": true
   },
   "outputs": [
    {
     "name": "stdout",
     "output_type": "stream",
     "text": [
      "Accuracy:\n",
      " 0.7947122861586314\n"
     ]
    }
   ],
   "source": [
    "final_rf_model = RandomForestClassifier(max_depth=rf_grid_search.best_params_['max_depth'], n_estimators=rf_grid_search.best_params_['n_estimators'],n_jobs=-1, random_state=12345)\n",
    "final_rf_model.fit(features_train, target_train)\n",
    "final_rf_predictions_valid = final_rf_model.predict(features_valid)\n",
    "\n",
    "print(\"Accuracy:\\n\", accuracy_score(target_valid, final_rf_predictions_valid))"
   ]
  },
  {
   "cell_type": "markdown",
   "metadata": {},
   "source": [
    "### Test Model Evaluation\n",
    "---"
   ]
  },
  {
   "cell_type": "code",
   "execution_count": 19,
   "metadata": {
    "scrolled": true
   },
   "outputs": [
    {
     "name": "stdout",
     "output_type": "stream",
     "text": [
      "Accuracy:\n",
      " 0.8055987558320373\n"
     ]
    }
   ],
   "source": [
    "final_rf_pred_test = final_rf_model.predict(features_test)\n",
    "accuracy = accuracy_score(target_test, final_rf_pred_test)\n",
    "print('Accuracy:\\n', accuracy)"
   ]
  },
  {
   "cell_type": "code",
   "execution_count": 41,
   "metadata": {},
   "outputs": [
    {
     "data": {
      "text/plain": [
       "calls       1928\n",
       "minutes     1928\n",
       "messages    1928\n",
       "mb_used     1928\n",
       "dtype: int64"
      ]
     },
     "execution_count": 41,
     "metadata": {},
     "output_type": "execute_result"
    }
   ],
   "source": [
    "features_train.count()"
   ]
  },
  {
   "cell_type": "code",
   "execution_count": 39,
   "metadata": {},
   "outputs": [
    {
     "data": {
      "text/plain": [
       "calls       643\n",
       "minutes     643\n",
       "messages    643\n",
       "mb_used     643\n",
       "dtype: int64"
      ]
     },
     "execution_count": 39,
     "metadata": {},
     "output_type": "execute_result"
    }
   ],
   "source": [
    "features_test.count()"
   ]
  },
  {
   "cell_type": "code",
   "execution_count": 36,
   "metadata": {},
   "outputs": [
    {
     "data": {
      "text/plain": [
       "(643,)"
      ]
     },
     "execution_count": 36,
     "metadata": {},
     "output_type": "execute_result"
    }
   ],
   "source": [
    "np.shape(final_rf_pred_test)"
   ]
  },
  {
   "cell_type": "code",
   "execution_count": 20,
   "metadata": {},
   "outputs": [
    {
     "data": {
      "text/plain": [
       "160     0\n",
       "2498    0\n",
       "1748    0\n",
       "1816    0\n",
       "1077    1\n",
       "       ..\n",
       "2401    0\n",
       "2928    1\n",
       "1985    0\n",
       "357     0\n",
       "2313    0\n",
       "Name: is_ultra, Length: 643, dtype: int64"
      ]
     },
     "execution_count": 20,
     "metadata": {},
     "output_type": "execute_result"
    }
   ],
   "source": [
    "target_test"
   ]
  },
  {
   "cell_type": "markdown",
   "metadata": {},
   "source": [
    "From the above evaluation metric, the accuracy seems to be consistent between the train/validation set & test sets and it stands at a satisfactory level (> 0.75)."
   ]
  },
  {
   "cell_type": "markdown",
   "metadata": {},
   "source": [
    "## Logistic Regression Classifier\n",
    "---"
   ]
  },
  {
   "cell_type": "markdown",
   "metadata": {},
   "source": [
    "### Base Level Model Training\n",
    "---"
   ]
  },
  {
   "cell_type": "code",
   "execution_count": 21,
   "metadata": {},
   "outputs": [
    {
     "name": "stdout",
     "output_type": "stream",
     "text": [
      "Accuracy:\n",
      " 0.7107309486780715\n"
     ]
    }
   ],
   "source": [
    "lr_model = LogisticRegression(random_state=12345)\n",
    "lr_model.fit(features_train, target_train)\n",
    "lr_predictions_valid = lr_model.predict(features_valid)\n",
    "\n",
    "print(\"Accuracy:\\n\", accuracy_score(target_valid, lr_predictions_valid))"
   ]
  },
  {
   "cell_type": "markdown",
   "metadata": {},
   "source": [
    "Looking at the accuracy of this type of classification algorithm, the accuracy is below the target threshold of 0.75. Therefore, it needs hyperparameter tuning to help optimized the evaluation metric."
   ]
  },
  {
   "cell_type": "code",
   "execution_count": 22,
   "metadata": {},
   "outputs": [
    {
     "data": {
      "text/plain": [
       "{'C': 1.0,\n",
       " 'class_weight': None,\n",
       " 'dual': False,\n",
       " 'fit_intercept': True,\n",
       " 'intercept_scaling': 1,\n",
       " 'l1_ratio': None,\n",
       " 'max_iter': 100,\n",
       " 'multi_class': 'auto',\n",
       " 'n_jobs': None,\n",
       " 'penalty': 'l2',\n",
       " 'random_state': 12345,\n",
       " 'solver': 'lbfgs',\n",
       " 'tol': 0.0001,\n",
       " 'verbose': 0,\n",
       " 'warm_start': False}"
      ]
     },
     "execution_count": 22,
     "metadata": {},
     "output_type": "execute_result"
    }
   ],
   "source": [
    "lr_model.get_params()"
   ]
  },
  {
   "cell_type": "markdown",
   "metadata": {},
   "source": [
    "### Hyperparameter Tuning\n",
    "---"
   ]
  },
  {
   "cell_type": "code",
   "execution_count": 23,
   "metadata": {},
   "outputs": [
    {
     "name": "stderr",
     "output_type": "stream",
     "text": [
      "/opt/conda/envs/python3/lib/python3.9/site-packages/sklearn/linear_model/_logistic.py:763: ConvergenceWarning: lbfgs failed to converge (status=1):\n",
      "STOP: TOTAL NO. of ITERATIONS REACHED LIMIT.\n",
      "\n",
      "Increase the number of iterations (max_iter) or scale the data as shown in:\n",
      "    https://scikit-learn.org/stable/modules/preprocessing.html\n",
      "Please also refer to the documentation for alternative solver options:\n",
      "    https://scikit-learn.org/stable/modules/linear_model.html#logistic-regression\n",
      "  n_iter_i = _check_optimize_result(\n",
      "/opt/conda/envs/python3/lib/python3.9/site-packages/sklearn/linear_model/_sag.py:328: ConvergenceWarning: The max_iter was reached which means the coef_ did not converge\n",
      "  warnings.warn(\"The max_iter was reached which means \"\n",
      "/opt/conda/envs/python3/lib/python3.9/site-packages/sklearn/linear_model/_sag.py:328: ConvergenceWarning: The max_iter was reached which means the coef_ did not converge\n",
      "  warnings.warn(\"The max_iter was reached which means \"\n",
      "/opt/conda/envs/python3/lib/python3.9/site-packages/sklearn/linear_model/_sag.py:328: ConvergenceWarning: The max_iter was reached which means the coef_ did not converge\n",
      "  warnings.warn(\"The max_iter was reached which means \"\n",
      "/opt/conda/envs/python3/lib/python3.9/site-packages/sklearn/linear_model/_sag.py:328: ConvergenceWarning: The max_iter was reached which means the coef_ did not converge\n",
      "  warnings.warn(\"The max_iter was reached which means \"\n",
      "/opt/conda/envs/python3/lib/python3.9/site-packages/sklearn/linear_model/_sag.py:328: ConvergenceWarning: The max_iter was reached which means the coef_ did not converge\n",
      "  warnings.warn(\"The max_iter was reached which means \"\n",
      "/opt/conda/envs/python3/lib/python3.9/site-packages/sklearn/linear_model/_sag.py:328: ConvergenceWarning: The max_iter was reached which means the coef_ did not converge\n",
      "  warnings.warn(\"The max_iter was reached which means \"\n",
      "/opt/conda/envs/python3/lib/python3.9/site-packages/sklearn/linear_model/_sag.py:328: ConvergenceWarning: The max_iter was reached which means the coef_ did not converge\n",
      "  warnings.warn(\"The max_iter was reached which means \"\n",
      "/opt/conda/envs/python3/lib/python3.9/site-packages/sklearn/linear_model/_sag.py:328: ConvergenceWarning: The max_iter was reached which means the coef_ did not converge\n",
      "  warnings.warn(\"The max_iter was reached which means \"\n",
      "/opt/conda/envs/python3/lib/python3.9/site-packages/sklearn/linear_model/_sag.py:328: ConvergenceWarning: The max_iter was reached which means the coef_ did not converge\n",
      "  warnings.warn(\"The max_iter was reached which means \"\n",
      "/opt/conda/envs/python3/lib/python3.9/site-packages/sklearn/linear_model/_sag.py:328: ConvergenceWarning: The max_iter was reached which means the coef_ did not converge\n",
      "  warnings.warn(\"The max_iter was reached which means \"\n",
      "/opt/conda/envs/python3/lib/python3.9/site-packages/sklearn/linear_model/_sag.py:328: ConvergenceWarning: The max_iter was reached which means the coef_ did not converge\n",
      "  warnings.warn(\"The max_iter was reached which means \"\n",
      "/opt/conda/envs/python3/lib/python3.9/site-packages/sklearn/linear_model/_sag.py:328: ConvergenceWarning: The max_iter was reached which means the coef_ did not converge\n",
      "  warnings.warn(\"The max_iter was reached which means \"\n",
      "/opt/conda/envs/python3/lib/python3.9/site-packages/sklearn/linear_model/_sag.py:328: ConvergenceWarning: The max_iter was reached which means the coef_ did not converge\n",
      "  warnings.warn(\"The max_iter was reached which means \"\n",
      "/opt/conda/envs/python3/lib/python3.9/site-packages/sklearn/linear_model/_sag.py:328: ConvergenceWarning: The max_iter was reached which means the coef_ did not converge\n",
      "  warnings.warn(\"The max_iter was reached which means \"\n",
      "/opt/conda/envs/python3/lib/python3.9/site-packages/sklearn/linear_model/_sag.py:328: ConvergenceWarning: The max_iter was reached which means the coef_ did not converge\n",
      "  warnings.warn(\"The max_iter was reached which means \"\n",
      "/opt/conda/envs/python3/lib/python3.9/site-packages/sklearn/linear_model/_sag.py:328: ConvergenceWarning: The max_iter was reached which means the coef_ did not converge\n",
      "  warnings.warn(\"The max_iter was reached which means \"\n",
      "/opt/conda/envs/python3/lib/python3.9/site-packages/sklearn/linear_model/_sag.py:328: ConvergenceWarning: The max_iter was reached which means the coef_ did not converge\n",
      "  warnings.warn(\"The max_iter was reached which means \"\n",
      "/opt/conda/envs/python3/lib/python3.9/site-packages/sklearn/linear_model/_sag.py:328: ConvergenceWarning: The max_iter was reached which means the coef_ did not converge\n",
      "  warnings.warn(\"The max_iter was reached which means \"\n",
      "/opt/conda/envs/python3/lib/python3.9/site-packages/sklearn/linear_model/_sag.py:328: ConvergenceWarning: The max_iter was reached which means the coef_ did not converge\n",
      "  warnings.warn(\"The max_iter was reached which means \"\n",
      "/opt/conda/envs/python3/lib/python3.9/site-packages/sklearn/linear_model/_sag.py:328: ConvergenceWarning: The max_iter was reached which means the coef_ did not converge\n",
      "  warnings.warn(\"The max_iter was reached which means \"\n",
      "/opt/conda/envs/python3/lib/python3.9/site-packages/scipy/optimize/_linesearch.py:457: LineSearchWarning: The line search algorithm did not converge\n",
      "  warn('The line search algorithm did not converge', LineSearchWarning)\n",
      "/opt/conda/envs/python3/lib/python3.9/site-packages/scipy/optimize/_linesearch.py:306: LineSearchWarning: The line search algorithm did not converge\n",
      "  warn('The line search algorithm did not converge', LineSearchWarning)\n",
      "/opt/conda/envs/python3/lib/python3.9/site-packages/scipy/optimize/_linesearch.py:457: LineSearchWarning: The line search algorithm did not converge\n",
      "  warn('The line search algorithm did not converge', LineSearchWarning)\n",
      "/opt/conda/envs/python3/lib/python3.9/site-packages/scipy/optimize/_linesearch.py:306: LineSearchWarning: The line search algorithm did not converge\n",
      "  warn('The line search algorithm did not converge', LineSearchWarning)\n",
      "/opt/conda/envs/python3/lib/python3.9/site-packages/scipy/optimize/_linesearch.py:457: LineSearchWarning: The line search algorithm did not converge\n",
      "  warn('The line search algorithm did not converge', LineSearchWarning)\n",
      "/opt/conda/envs/python3/lib/python3.9/site-packages/scipy/optimize/_linesearch.py:306: LineSearchWarning: The line search algorithm did not converge\n",
      "  warn('The line search algorithm did not converge', LineSearchWarning)\n",
      "/opt/conda/envs/python3/lib/python3.9/site-packages/scipy/optimize/_linesearch.py:457: LineSearchWarning: The line search algorithm did not converge\n",
      "  warn('The line search algorithm did not converge', LineSearchWarning)\n",
      "/opt/conda/envs/python3/lib/python3.9/site-packages/scipy/optimize/_linesearch.py:306: LineSearchWarning: The line search algorithm did not converge\n",
      "  warn('The line search algorithm did not converge', LineSearchWarning)\n",
      "/opt/conda/envs/python3/lib/python3.9/site-packages/scipy/optimize/_linesearch.py:457: LineSearchWarning: The line search algorithm did not converge\n",
      "  warn('The line search algorithm did not converge', LineSearchWarning)\n",
      "/opt/conda/envs/python3/lib/python3.9/site-packages/scipy/optimize/_linesearch.py:306: LineSearchWarning: The line search algorithm did not converge\n",
      "  warn('The line search algorithm did not converge', LineSearchWarning)\n",
      "/opt/conda/envs/python3/lib/python3.9/site-packages/scipy/optimize/_linesearch.py:457: LineSearchWarning: The line search algorithm did not converge\n",
      "  warn('The line search algorithm did not converge', LineSearchWarning)\n",
      "/opt/conda/envs/python3/lib/python3.9/site-packages/scipy/optimize/_linesearch.py:306: LineSearchWarning: The line search algorithm did not converge\n",
      "  warn('The line search algorithm did not converge', LineSearchWarning)\n",
      "/opt/conda/envs/python3/lib/python3.9/site-packages/scipy/optimize/_linesearch.py:457: LineSearchWarning: The line search algorithm did not converge\n",
      "  warn('The line search algorithm did not converge', LineSearchWarning)\n",
      "/opt/conda/envs/python3/lib/python3.9/site-packages/scipy/optimize/_linesearch.py:306: LineSearchWarning: The line search algorithm did not converge\n",
      "  warn('The line search algorithm did not converge', LineSearchWarning)\n",
      "/opt/conda/envs/python3/lib/python3.9/site-packages/scipy/optimize/_linesearch.py:457: LineSearchWarning: The line search algorithm did not converge\n",
      "  warn('The line search algorithm did not converge', LineSearchWarning)\n",
      "/opt/conda/envs/python3/lib/python3.9/site-packages/scipy/optimize/_linesearch.py:306: LineSearchWarning: The line search algorithm did not converge\n",
      "  warn('The line search algorithm did not converge', LineSearchWarning)\n",
      "/opt/conda/envs/python3/lib/python3.9/site-packages/scipy/optimize/_linesearch.py:457: LineSearchWarning: The line search algorithm did not converge\n",
      "  warn('The line search algorithm did not converge', LineSearchWarning)\n",
      "/opt/conda/envs/python3/lib/python3.9/site-packages/scipy/optimize/_linesearch.py:306: LineSearchWarning: The line search algorithm did not converge\n",
      "  warn('The line search algorithm did not converge', LineSearchWarning)\n",
      "/opt/conda/envs/python3/lib/python3.9/site-packages/scipy/optimize/_linesearch.py:457: LineSearchWarning: The line search algorithm did not converge\n",
      "  warn('The line search algorithm did not converge', LineSearchWarning)\n",
      "/opt/conda/envs/python3/lib/python3.9/site-packages/scipy/optimize/_linesearch.py:306: LineSearchWarning: The line search algorithm did not converge\n",
      "  warn('The line search algorithm did not converge', LineSearchWarning)\n",
      "/opt/conda/envs/python3/lib/python3.9/site-packages/scipy/optimize/_linesearch.py:457: LineSearchWarning: The line search algorithm did not converge\n",
      "  warn('The line search algorithm did not converge', LineSearchWarning)\n",
      "/opt/conda/envs/python3/lib/python3.9/site-packages/scipy/optimize/_linesearch.py:306: LineSearchWarning: The line search algorithm did not converge\n",
      "  warn('The line search algorithm did not converge', LineSearchWarning)\n",
      "/opt/conda/envs/python3/lib/python3.9/site-packages/scipy/optimize/_linesearch.py:306: LineSearchWarning: The line search algorithm did not converge\n",
      "  warn('The line search algorithm did not converge', LineSearchWarning)\n",
      "/opt/conda/envs/python3/lib/python3.9/site-packages/sklearn/utils/optimize.py:195: UserWarning: Line Search failed\n",
      "  warnings.warn('Line Search failed')\n",
      "/opt/conda/envs/python3/lib/python3.9/site-packages/scipy/optimize/_linesearch.py:457: LineSearchWarning: The line search algorithm did not converge\n",
      "  warn('The line search algorithm did not converge', LineSearchWarning)\n",
      "/opt/conda/envs/python3/lib/python3.9/site-packages/scipy/optimize/_linesearch.py:306: LineSearchWarning: The line search algorithm did not converge\n",
      "  warn('The line search algorithm did not converge', LineSearchWarning)\n",
      "/opt/conda/envs/python3/lib/python3.9/site-packages/scipy/optimize/_linesearch.py:457: LineSearchWarning: The line search algorithm did not converge\n",
      "  warn('The line search algorithm did not converge', LineSearchWarning)\n",
      "/opt/conda/envs/python3/lib/python3.9/site-packages/scipy/optimize/_linesearch.py:306: LineSearchWarning: The line search algorithm did not converge\n",
      "  warn('The line search algorithm did not converge', LineSearchWarning)\n",
      "/opt/conda/envs/python3/lib/python3.9/site-packages/scipy/optimize/_linesearch.py:457: LineSearchWarning: The line search algorithm did not converge\n",
      "  warn('The line search algorithm did not converge', LineSearchWarning)\n",
      "/opt/conda/envs/python3/lib/python3.9/site-packages/scipy/optimize/_linesearch.py:306: LineSearchWarning: The line search algorithm did not converge\n",
      "  warn('The line search algorithm did not converge', LineSearchWarning)\n"
     ]
    },
    {
     "name": "stdout",
     "output_type": "stream",
     "text": [
      "Best Parameters: {'penalty': 'l2', 'solver': 'newton-cg'}\n",
      "Best Score: 0.7520833333333334\n"
     ]
    },
    {
     "name": "stderr",
     "output_type": "stream",
     "text": [
      "/opt/conda/envs/python3/lib/python3.9/site-packages/scipy/optimize/_linesearch.py:457: LineSearchWarning: The line search algorithm did not converge\n",
      "  warn('The line search algorithm did not converge', LineSearchWarning)\n",
      "/opt/conda/envs/python3/lib/python3.9/site-packages/scipy/optimize/_linesearch.py:306: LineSearchWarning: The line search algorithm did not converge\n",
      "  warn('The line search algorithm did not converge', LineSearchWarning)\n",
      "/opt/conda/envs/python3/lib/python3.9/site-packages/scipy/optimize/_linesearch.py:416: LineSearchWarning: Rounding errors prevent the line search from converging\n",
      "  warn(msg, LineSearchWarning)\n",
      "/opt/conda/envs/python3/lib/python3.9/site-packages/scipy/optimize/_linesearch.py:306: LineSearchWarning: The line search algorithm did not converge\n",
      "  warn('The line search algorithm did not converge', LineSearchWarning)\n",
      "/opt/conda/envs/python3/lib/python3.9/site-packages/sklearn/utils/optimize.py:195: UserWarning: Line Search failed\n",
      "  warnings.warn('Line Search failed')\n"
     ]
    }
   ],
   "source": [
    "lr_param_grid = {'solver': ['lbfgs', 'sag', 'saga', 'newton-cg', 'liblinear'],\n",
    "                'penalty': ['l2']}\n",
    "\n",
    "lr_grid_search = GridSearchCV(lr_model, lr_param_grid,cv = 10, scoring='accuracy')\n",
    "\n",
    "lr_grid_search.fit(features_train, target_train)\n",
    "\n",
    "print(f\"Best Parameters: {lr_grid_search.best_params_}\")\n",
    "print(f\"Best Score: {lr_grid_search.best_score_}\")"
   ]
  },
  {
   "cell_type": "markdown",
   "metadata": {},
   "source": [
    "Based on the results of the GridSearchCV function, the optimal configuration for the hyperparameters were l2 for penalty & newton-cg for solver. This hyperparameter combination results in an accuracy score of 0.75. Now it's time to test the model's robustness with the testing set."
   ]
  },
  {
   "cell_type": "code",
   "execution_count": 24,
   "metadata": {},
   "outputs": [
    {
     "name": "stdout",
     "output_type": "stream",
     "text": [
      "Accuracy:\n",
      " 0.7558320373250389\n"
     ]
    },
    {
     "name": "stderr",
     "output_type": "stream",
     "text": [
      "/opt/conda/envs/python3/lib/python3.9/site-packages/scipy/optimize/_linesearch.py:457: LineSearchWarning: The line search algorithm did not converge\n",
      "  warn('The line search algorithm did not converge', LineSearchWarning)\n",
      "/opt/conda/envs/python3/lib/python3.9/site-packages/scipy/optimize/_linesearch.py:306: LineSearchWarning: The line search algorithm did not converge\n",
      "  warn('The line search algorithm did not converge', LineSearchWarning)\n",
      "/opt/conda/envs/python3/lib/python3.9/site-packages/scipy/optimize/_linesearch.py:416: LineSearchWarning: Rounding errors prevent the line search from converging\n",
      "  warn(msg, LineSearchWarning)\n",
      "/opt/conda/envs/python3/lib/python3.9/site-packages/scipy/optimize/_linesearch.py:306: LineSearchWarning: The line search algorithm did not converge\n",
      "  warn('The line search algorithm did not converge', LineSearchWarning)\n",
      "/opt/conda/envs/python3/lib/python3.9/site-packages/sklearn/utils/optimize.py:195: UserWarning: Line Search failed\n",
      "  warnings.warn('Line Search failed')\n"
     ]
    }
   ],
   "source": [
    "final_lr_model = LogisticRegression(solver=lr_grid_search.best_params_['solver'], penalty=lr_grid_search.best_params_['penalty'], random_state=12345)\n",
    "final_lr_model.fit(features_train, target_train)\n",
    "final_lr_predictions_valid = final_lr_model.predict(features_valid)\n",
    "\n",
    "print(\"Accuracy:\\n\", accuracy_score(target_valid, final_lr_predictions_valid))"
   ]
  },
  {
   "cell_type": "markdown",
   "metadata": {},
   "source": [
    "The final accuracy score for the validating set looks satisfactory. Now to use the test set."
   ]
  },
  {
   "cell_type": "markdown",
   "metadata": {},
   "source": [
    "### Test Model Evaluation\n",
    "---"
   ]
  },
  {
   "cell_type": "code",
   "execution_count": 25,
   "metadata": {},
   "outputs": [
    {
     "name": "stdout",
     "output_type": "stream",
     "text": [
      "Accuracy:\n",
      " 0.7387247278382582\n"
     ]
    }
   ],
   "source": [
    "final_lr_pred_test = final_lr_model.predict(features_test)\n",
    "accuracy = accuracy_score(target_test, final_lr_pred_test)\n",
    "print('Accuracy:\\n', accuracy)"
   ]
  },
  {
   "cell_type": "markdown",
   "metadata": {},
   "source": [
    "Looking at the accuracy score from the test set of the model, the value seemed to fell, which is a symptom of the model being overfitted. So let's re-tune the hyperparameters again."
   ]
  },
  {
   "cell_type": "markdown",
   "metadata": {},
   "source": [
    "### Hyperparameter Re-tuning\n",
    "---"
   ]
  },
  {
   "cell_type": "code",
   "execution_count": 26,
   "metadata": {},
   "outputs": [
    {
     "name": "stdout",
     "output_type": "stream",
     "text": [
      "Best Parameters: {'C': 10, 'penalty': 'l1', 'solver': 'liblinear'}\n",
      "Best Score on validation set: 0.7531196027633852\n"
     ]
    }
   ],
   "source": [
    "lr_param_grid_a = {\n",
    "    'C': [0.001, 0.01, 0.1, 1, 10, 100],\n",
    "    'penalty': ['l1', 'l2'],\n",
    "    'solver': ['liblinear']\n",
    "}\n",
    "\n",
    "lr_grid_search_a = GridSearchCV(LogisticRegression(random_state=12345), lr_param_grid_a, cv=10, scoring='accuracy')\n",
    "lr_grid_search_a.fit(features_train, target_train)\n",
    "\n",
    "print(f\"Best Parameters: {lr_grid_search_a.best_params_}\")\n",
    "print(f\"Best Score on validation set: {lr_grid_search_a.best_score_}\")"
   ]
  },
  {
   "cell_type": "markdown",
   "metadata": {},
   "source": [
    "After running the GridSearchCV function again to see what hyperparameter combo works well together, the ideal combo for the model is 'C': 10, 'penalty': 'l1', 'solver': 'liblinear'."
   ]
  },
  {
   "cell_type": "code",
   "execution_count": 27,
   "metadata": {},
   "outputs": [
    {
     "name": "stdout",
     "output_type": "stream",
     "text": [
      "Accuracy:\n",
      " 0.7558320373250389\n"
     ]
    }
   ],
   "source": [
    "final_lr_model_a = LogisticRegression(solver='liblinear', C=10, penalty='l1', random_state=12345)\n",
    "final_lr_model_a.fit(features_train, target_train)\n",
    "final_lr_predictions_valid_a = final_lr_model_a.predict(features_valid)\n",
    "\n",
    "print(\"Accuracy:\\n\", accuracy_score(target_valid, final_lr_predictions_valid_a))"
   ]
  },
  {
   "cell_type": "markdown",
   "metadata": {},
   "source": [
    "### Test Model Evaluation\n",
    "---"
   ]
  },
  {
   "cell_type": "code",
   "execution_count": 28,
   "metadata": {},
   "outputs": [
    {
     "name": "stdout",
     "output_type": "stream",
     "text": [
      "Accuracy:\n",
      " 0.7387247278382582\n"
     ]
    }
   ],
   "source": [
    "final_lr_pred_test_a = final_lr_model_a.predict(features_test)\n",
    "accuracy = accuracy_score(target_test, final_lr_pred_test_a)\n",
    "print('Accuracy:\\n', accuracy)"
   ]
  },
  {
   "cell_type": "markdown",
   "metadata": {},
   "source": [
    "Looking at the results from the validating and testing sets, it seems that the Logistic Regression model seems not to be efficient in terms of accuaracy for this dataset."
   ]
  },
  {
   "cell_type": "markdown",
   "metadata": {},
   "source": [
    "<div class=\"alert alert-block alert-success\">\n",
    "<b>Reviewer's comment</b> <a class=\"tocSkip\"></a>\n",
    "\n",
    "Excellent!\n",
    "</div>"
   ]
  },
  {
   "cell_type": "markdown",
   "metadata": {},
   "source": [
    "## Model Sanity Check\n",
    "---"
   ]
  },
  {
   "cell_type": "markdown",
   "metadata": {},
   "source": [
    "After looking at the accuracy score from all three classification model, the Random Forest classifier had the highest accuracy score on it's test set. With that being said, a sanity check will be done using a baseline comparison consisting of comparing the model's performance against a simple baseline model.As well as seeing the consistency of accuracy scores between validating and testing sets."
   ]
  },
  {
   "cell_type": "code",
   "execution_count": 29,
   "metadata": {},
   "outputs": [
    {
     "name": "stdout",
     "output_type": "stream",
     "text": [
      "Dummy Model Accuracy: 0.68\n"
     ]
    }
   ],
   "source": [
    "dummy_model = DummyClassifier(strategy='most_frequent') \n",
    "dummy_model.fit(features_train, target_train) \n",
    "dummy_pred = dummy_model.predict(features_test)\n",
    "\n",
    "dummy_accuracy = accuracy_score(target_test, dummy_pred)\n",
    "print(f\"Dummy Model Accuracy: {dummy_accuracy:.2f}\")"
   ]
  },
  {
   "cell_type": "code",
   "execution_count": 30,
   "metadata": {},
   "outputs": [
    {
     "name": "stdout",
     "output_type": "stream",
     "text": [
      "Test Accuracy: 0.81\n"
     ]
    }
   ],
   "source": [
    "final_rf_pred_test = final_rf_model.predict(features_test)\n",
    "accuracy = accuracy_score(target_test, final_rf_pred_test)\n",
    "print(f\"Test Accuracy: {accuracy:.2f}\")"
   ]
  },
  {
   "cell_type": "code",
   "execution_count": 31,
   "metadata": {},
   "outputs": [
    {
     "name": "stdout",
     "output_type": "stream",
     "text": [
      "Accuracy: 0.79\n"
     ]
    }
   ],
   "source": [
    "final_rf_model = RandomForestClassifier(max_depth=rf_grid_search.best_params_['max_depth'], n_estimators=rf_grid_search.best_params_['n_estimators'],n_jobs=-1, random_state=12345)\n",
    "final_rf_model.fit(features_train, target_train)\n",
    "final_rf_predictions_valid = final_rf_model.predict(features_valid)\n",
    "\n",
    "print(f\"Accuracy: {accuracy_score(target_valid, final_rf_predictions_valid):.2f}\")"
   ]
  },
  {
   "cell_type": "markdown",
   "metadata": {},
   "source": [
    "Two forms of a sanity check was performed to ensure the reliability of the Random Forest model. The results of the baseline comparision shows that the RF model is a better fit (seen by the higher accuracy score).The validating and test set comparison ensures that the model generalizes well and is not overfitting or underfitting (they are pretty similar and don't have a large discrepanciy between them)."
   ]
  },
  {
   "cell_type": "markdown",
   "metadata": {},
   "source": [
    "<div class=\"alert alert-block alert-success\">\n",
    "<b>Reviewer's comment</b> <a class=\"tocSkip\"></a>\n",
    "\n",
    "Good job\n",
    "</div>"
   ]
  },
  {
   "cell_type": "markdown",
   "metadata": {},
   "source": [
    "## Conclusion\n",
    "---"
   ]
  },
  {
   "cell_type": "markdown",
   "metadata": {},
   "source": [
    "With the intial business objective in mind and the analysis that took place, the appropriate model that could analyze subscribers' behavior and recommend one of Megaline's newer plans: Smart or Ultra more accurately is the Random Forest classifier model with its hyperparameters tuned to 'max_depth' of 10 and 'n_estimators' of 100.\n",
    " "
   ]
  },
  {
   "cell_type": "markdown",
   "metadata": {},
   "source": [
    "<div class=\"alert alert-block alert-success\">\n",
    "<b>Reviewer's comment</b> <a class=\"tocSkip\"></a>\n",
    "\n",
    "Great final conclusion\n",
    "</div>"
   ]
  },
  {
   "cell_type": "code",
   "execution_count": null,
   "metadata": {},
   "outputs": [],
   "source": []
  }
 ],
 "metadata": {
  "ExecuteTimeLog": [
   {
    "duration": 396,
    "start_time": "2024-11-19T22:43:20.143Z"
   },
   {
    "duration": 510,
    "start_time": "2024-11-19T22:44:15.017Z"
   },
   {
    "duration": 11,
    "start_time": "2024-11-19T22:44:30.435Z"
   },
   {
    "duration": 12,
    "start_time": "2024-11-19T22:44:44.906Z"
   },
   {
    "duration": 157,
    "start_time": "2024-11-20T01:15:26.285Z"
   },
   {
    "duration": 342,
    "start_time": "2024-11-20T01:15:30.897Z"
   },
   {
    "duration": 16,
    "start_time": "2024-11-20T01:15:32.378Z"
   },
   {
    "duration": 11,
    "start_time": "2024-11-20T01:15:33.731Z"
   },
   {
    "duration": 9,
    "start_time": "2024-11-20T01:15:35.297Z"
   },
   {
    "duration": 16,
    "start_time": "2024-11-20T01:17:53.030Z"
   },
   {
    "duration": 12,
    "start_time": "2024-11-20T01:23:10.882Z"
   },
   {
    "duration": 13,
    "start_time": "2024-11-20T01:23:21.780Z"
   },
   {
    "duration": 45,
    "start_time": "2024-11-20T01:23:40.774Z"
   },
   {
    "duration": 11,
    "start_time": "2024-11-20T01:23:53.955Z"
   },
   {
    "duration": 10,
    "start_time": "2024-11-20T01:24:13.762Z"
   },
   {
    "duration": 463,
    "start_time": "2024-11-20T01:35:53.111Z"
   },
   {
    "duration": 7,
    "start_time": "2024-11-20T01:54:17.108Z"
   },
   {
    "duration": 3,
    "start_time": "2024-11-20T02:03:06.810Z"
   },
   {
    "duration": 5,
    "start_time": "2024-11-20T02:17:39.740Z"
   },
   {
    "duration": 4,
    "start_time": "2024-11-20T02:17:58.290Z"
   },
   {
    "duration": 4,
    "start_time": "2024-11-20T02:20:34.542Z"
   },
   {
    "duration": 29,
    "start_time": "2024-11-20T02:23:58.053Z"
   },
   {
    "duration": 13,
    "start_time": "2024-11-20T02:28:24.256Z"
   },
   {
    "duration": 62,
    "start_time": "2024-11-20T02:29:40.997Z"
   },
   {
    "duration": 3,
    "start_time": "2024-11-20T02:31:17.777Z"
   },
   {
    "duration": 13,
    "start_time": "2024-11-20T02:31:23.724Z"
   },
   {
    "duration": 3,
    "start_time": "2024-11-20T02:34:17.376Z"
   },
   {
    "duration": 4,
    "start_time": "2024-11-20T02:35:35.836Z"
   },
   {
    "duration": 9,
    "start_time": "2024-11-20T02:36:56.585Z"
   },
   {
    "duration": 313,
    "start_time": "2024-11-20T02:37:52.997Z"
   },
   {
    "duration": 13,
    "start_time": "2024-11-20T02:38:12.816Z"
   },
   {
    "duration": 316,
    "start_time": "2024-11-20T02:38:18.018Z"
   },
   {
    "duration": 3,
    "start_time": "2024-11-20T02:38:19.751Z"
   },
   {
    "duration": 2,
    "start_time": "2024-11-20T02:39:28.636Z"
   },
   {
    "duration": 16,
    "start_time": "2024-11-20T02:40:14.056Z"
   },
   {
    "duration": 3,
    "start_time": "2024-11-20T02:40:20.165Z"
   },
   {
    "duration": 159,
    "start_time": "2024-11-20T04:18:04.305Z"
   },
   {
    "duration": 860,
    "start_time": "2024-11-20T04:18:21.287Z"
   },
   {
    "duration": 11,
    "start_time": "2024-11-20T04:18:22.149Z"
   },
   {
    "duration": 11,
    "start_time": "2024-11-20T04:18:22.161Z"
   },
   {
    "duration": 11,
    "start_time": "2024-11-20T04:18:22.175Z"
   },
   {
    "duration": 16,
    "start_time": "2024-11-20T04:18:22.187Z"
   },
   {
    "duration": 25,
    "start_time": "2024-11-20T04:18:22.204Z"
   },
   {
    "duration": 3,
    "start_time": "2024-11-20T04:18:22.230Z"
   },
   {
    "duration": 4,
    "start_time": "2024-11-20T04:18:22.235Z"
   },
   {
    "duration": 4,
    "start_time": "2024-11-20T04:18:22.240Z"
   },
   {
    "duration": 13,
    "start_time": "2024-11-20T04:18:22.247Z"
   },
   {
    "duration": 79,
    "start_time": "2024-11-20T04:18:22.262Z"
   },
   {
    "duration": 4,
    "start_time": "2024-11-20T04:18:22.342Z"
   },
   {
    "duration": 324,
    "start_time": "2024-11-20T04:18:22.347Z"
   },
   {
    "duration": 3,
    "start_time": "2024-11-20T04:18:22.673Z"
   },
   {
    "duration": 15,
    "start_time": "2024-11-20T04:18:22.678Z"
   },
   {
    "duration": 3,
    "start_time": "2024-11-20T04:18:22.695Z"
   },
   {
    "duration": 56,
    "start_time": "2024-11-20T04:18:44.847Z"
   },
   {
    "duration": 24,
    "start_time": "2024-11-20T04:35:19.435Z"
   },
   {
    "duration": 55,
    "start_time": "2024-11-20T04:35:59.193Z"
   },
   {
    "duration": 217,
    "start_time": "2024-11-20T04:36:09.132Z"
   },
   {
    "duration": 58,
    "start_time": "2024-11-20T04:36:31.195Z"
   },
   {
    "duration": 53,
    "start_time": "2024-11-20T04:36:36.892Z"
   },
   {
    "duration": 202,
    "start_time": "2024-11-20T04:50:56.535Z"
   },
   {
    "duration": 199,
    "start_time": "2024-11-20T05:00:19.508Z"
   },
   {
    "duration": 409,
    "start_time": "2024-11-20T05:00:32.769Z"
   },
   {
    "duration": 705,
    "start_time": "2024-11-20T05:00:44.686Z"
   },
   {
    "duration": 1433,
    "start_time": "2024-11-20T05:00:56.996Z"
   },
   {
    "duration": 1410,
    "start_time": "2024-11-20T05:03:12.789Z"
   },
   {
    "duration": 890,
    "start_time": "2024-11-21T01:10:49.228Z"
   },
   {
    "duration": 15,
    "start_time": "2024-11-21T01:10:50.756Z"
   },
   {
    "duration": 13,
    "start_time": "2024-11-21T01:10:50.972Z"
   },
   {
    "duration": 12,
    "start_time": "2024-11-21T01:10:51.190Z"
   },
   {
    "duration": 17,
    "start_time": "2024-11-21T01:10:52.800Z"
   },
   {
    "duration": 8,
    "start_time": "2024-11-21T01:10:58.063Z"
   },
   {
    "duration": 3,
    "start_time": "2024-11-21T01:10:59.181Z"
   },
   {
    "duration": 4,
    "start_time": "2024-11-21T01:10:59.681Z"
   },
   {
    "duration": 4,
    "start_time": "2024-11-21T01:11:00.194Z"
   },
   {
    "duration": 56,
    "start_time": "2024-11-21T01:11:02.425Z"
   },
   {
    "duration": 1445,
    "start_time": "2024-11-21T01:11:02.973Z"
   },
   {
    "duration": 16,
    "start_time": "2024-11-21T01:11:04.424Z"
   },
   {
    "duration": 4,
    "start_time": "2024-11-21T01:11:04.441Z"
   },
   {
    "duration": 3,
    "start_time": "2024-11-21T01:20:18.088Z"
   },
   {
    "duration": 5,
    "start_time": "2024-11-21T01:20:45.703Z"
   },
   {
    "duration": 3,
    "start_time": "2024-11-21T01:21:18.773Z"
   },
   {
    "duration": 17,
    "start_time": "2024-11-21T01:21:58.564Z"
   },
   {
    "duration": 4,
    "start_time": "2024-11-21T01:55:21.643Z"
   },
   {
    "duration": 3,
    "start_time": "2024-11-21T01:56:18.979Z"
   },
   {
    "duration": 622,
    "start_time": "2024-11-21T02:35:30.095Z"
   },
   {
    "duration": 14,
    "start_time": "2024-11-21T02:43:04.975Z"
   },
   {
    "duration": 14,
    "start_time": "2024-11-21T02:46:18.908Z"
   },
   {
    "duration": 21,
    "start_time": "2024-11-21T03:14:25.887Z"
   },
   {
    "duration": 4,
    "start_time": "2024-11-21T03:14:34.153Z"
   },
   {
    "duration": 3,
    "start_time": "2024-11-21T03:14:41.560Z"
   },
   {
    "duration": 3,
    "start_time": "2024-11-21T03:16:02.176Z"
   },
   {
    "duration": 5,
    "start_time": "2024-11-21T03:27:04.638Z"
   },
   {
    "duration": 13,
    "start_time": "2024-11-21T03:30:55.761Z"
   },
   {
    "duration": 5,
    "start_time": "2024-11-21T03:31:14.134Z"
   },
   {
    "duration": 10,
    "start_time": "2024-11-21T03:31:48.594Z"
   },
   {
    "duration": 10,
    "start_time": "2024-11-21T03:32:25.189Z"
   },
   {
    "duration": 308,
    "start_time": "2024-11-21T03:40:52.776Z"
   },
   {
    "duration": 4,
    "start_time": "2024-11-21T03:44:25.223Z"
   },
   {
    "duration": 4,
    "start_time": "2024-11-21T03:45:12.005Z"
   },
   {
    "duration": 295,
    "start_time": "2024-11-21T03:46:02.242Z"
   },
   {
    "duration": 638,
    "start_time": "2024-11-21T03:46:26.964Z"
   },
   {
    "duration": 2145,
    "start_time": "2024-11-21T04:02:21.140Z"
   },
   {
    "duration": 10,
    "start_time": "2024-11-21T04:02:32.288Z"
   },
   {
    "duration": 2126,
    "start_time": "2024-11-21T04:05:23.434Z"
   },
   {
    "duration": 159,
    "start_time": "2024-11-21T04:15:47.952Z"
   },
   {
    "duration": 855,
    "start_time": "2024-11-21T04:16:05.780Z"
   },
   {
    "duration": 9,
    "start_time": "2024-11-21T04:16:06.637Z"
   },
   {
    "duration": 11,
    "start_time": "2024-11-21T04:16:06.647Z"
   },
   {
    "duration": 11,
    "start_time": "2024-11-21T04:16:06.659Z"
   },
   {
    "duration": 15,
    "start_time": "2024-11-21T04:16:06.672Z"
   },
   {
    "duration": 7,
    "start_time": "2024-11-21T04:16:06.688Z"
   },
   {
    "duration": 3,
    "start_time": "2024-11-21T04:16:06.723Z"
   },
   {
    "duration": 4,
    "start_time": "2024-11-21T04:16:06.728Z"
   },
   {
    "duration": 4,
    "start_time": "2024-11-21T04:16:06.733Z"
   },
   {
    "duration": 12,
    "start_time": "2024-11-21T04:16:06.740Z"
   },
   {
    "duration": 4,
    "start_time": "2024-11-21T04:16:06.754Z"
   },
   {
    "duration": 2184,
    "start_time": "2024-11-21T04:16:06.760Z"
   },
   {
    "duration": 229,
    "start_time": "2024-11-21T04:16:08.946Z"
   },
   {
    "duration": 0,
    "start_time": "2024-11-21T04:16:09.177Z"
   },
   {
    "duration": 0,
    "start_time": "2024-11-21T04:16:09.178Z"
   },
   {
    "duration": 0,
    "start_time": "2024-11-21T04:16:09.180Z"
   },
   {
    "duration": 0,
    "start_time": "2024-11-21T04:16:09.181Z"
   },
   {
    "duration": 0,
    "start_time": "2024-11-21T04:16:09.183Z"
   },
   {
    "duration": 0,
    "start_time": "2024-11-21T04:16:09.184Z"
   },
   {
    "duration": 10,
    "start_time": "2024-11-21T04:16:53.351Z"
   },
   {
    "duration": 5,
    "start_time": "2024-11-21T04:16:58.546Z"
   },
   {
    "duration": 309,
    "start_time": "2024-11-21T04:17:00.704Z"
   },
   {
    "duration": 4,
    "start_time": "2024-11-21T04:17:04.750Z"
   },
   {
    "duration": 45926,
    "start_time": "2024-11-21T04:17:06.646Z"
   },
   {
    "duration": 14,
    "start_time": "2024-11-21T04:37:24.854Z"
   },
   {
    "duration": 52,
    "start_time": "2024-11-21T04:38:00.897Z"
   },
   {
    "duration": 246,
    "start_time": "2024-11-21T04:38:22.713Z"
   },
   {
    "duration": 254,
    "start_time": "2024-11-21T04:39:33.107Z"
   },
   {
    "duration": 247,
    "start_time": "2024-11-21T04:39:59.333Z"
   },
   {
    "duration": 247,
    "start_time": "2024-11-21T04:40:37.141Z"
   },
   {
    "duration": 13,
    "start_time": "2024-11-21T04:42:58.400Z"
   },
   {
    "duration": 17,
    "start_time": "2024-11-21T04:54:16.091Z"
   },
   {
    "duration": 3,
    "start_time": "2024-11-21T04:58:02.292Z"
   },
   {
    "duration": 15,
    "start_time": "2024-11-21T05:23:29.135Z"
   },
   {
    "duration": 4,
    "start_time": "2024-11-21T05:28:07.330Z"
   },
   {
    "duration": 0,
    "start_time": "2024-11-21T05:30:37.671Z"
   },
   {
    "duration": 0,
    "start_time": "2024-11-21T05:33:35.165Z"
   },
   {
    "duration": 0,
    "start_time": "2024-11-21T05:36:02.003Z"
   },
   {
    "duration": 0,
    "start_time": "2024-11-21T05:38:08.279Z"
   },
   {
    "duration": 1274,
    "start_time": "2024-11-21T05:38:56.021Z"
   },
   {
    "duration": 15,
    "start_time": "2024-11-21T05:39:04.731Z"
   },
   {
    "duration": 1242,
    "start_time": "2024-11-21T05:39:45.393Z"
   },
   {
    "duration": 1141,
    "start_time": "2024-11-21T05:40:03.734Z"
   },
   {
    "duration": 830,
    "start_time": "2024-11-21T05:40:44.269Z"
   },
   {
    "duration": 10,
    "start_time": "2024-11-21T05:40:45.101Z"
   },
   {
    "duration": 14,
    "start_time": "2024-11-21T05:40:45.112Z"
   },
   {
    "duration": 11,
    "start_time": "2024-11-21T05:40:45.128Z"
   },
   {
    "duration": 15,
    "start_time": "2024-11-21T05:40:45.141Z"
   },
   {
    "duration": 6,
    "start_time": "2024-11-21T05:40:45.158Z"
   },
   {
    "duration": 3,
    "start_time": "2024-11-21T05:40:45.166Z"
   },
   {
    "duration": 4,
    "start_time": "2024-11-21T05:40:45.171Z"
   },
   {
    "duration": 5,
    "start_time": "2024-11-21T05:40:45.176Z"
   },
   {
    "duration": 51,
    "start_time": "2024-11-21T05:40:45.182Z"
   },
   {
    "duration": 4,
    "start_time": "2024-11-21T05:40:45.236Z"
   },
   {
    "duration": 2143,
    "start_time": "2024-11-21T05:40:45.242Z"
   },
   {
    "duration": 10,
    "start_time": "2024-11-21T05:40:47.386Z"
   },
   {
    "duration": 4,
    "start_time": "2024-11-21T05:40:47.399Z"
   },
   {
    "duration": 339,
    "start_time": "2024-11-21T05:40:47.404Z"
   },
   {
    "duration": 5,
    "start_time": "2024-11-21T05:40:47.745Z"
   },
   {
    "duration": 45598,
    "start_time": "2024-11-21T05:40:47.752Z"
   },
   {
    "duration": 255,
    "start_time": "2024-11-21T05:41:33.352Z"
   },
   {
    "duration": 18,
    "start_time": "2024-11-21T05:41:33.609Z"
   },
   {
    "duration": 16,
    "start_time": "2024-11-21T05:41:33.628Z"
   },
   {
    "duration": 4,
    "start_time": "2024-11-21T05:41:33.646Z"
   },
   {
    "duration": 1180,
    "start_time": "2024-11-21T05:41:33.652Z"
   },
   {
    "duration": 15,
    "start_time": "2024-11-21T05:41:34.834Z"
   },
   {
    "duration": 198,
    "start_time": "2024-11-21T05:42:38.467Z"
   },
   {
    "duration": 411,
    "start_time": "2024-11-21T05:43:36.914Z"
   },
   {
    "duration": 54,
    "start_time": "2024-11-21T05:43:56.547Z"
   },
   {
    "duration": 181,
    "start_time": "2024-11-21T05:44:16.218Z"
   },
   {
    "duration": 147,
    "start_time": "2024-11-21T05:44:39.909Z"
   },
   {
    "duration": 59,
    "start_time": "2024-11-21T05:45:14.976Z"
   },
   {
    "duration": 70,
    "start_time": "2024-11-21T05:45:22.266Z"
   },
   {
    "duration": 63,
    "start_time": "2024-11-21T05:45:44.696Z"
   },
   {
    "duration": 504,
    "start_time": "2024-11-21T05:46:29.386Z"
   },
   {
    "duration": 1134,
    "start_time": "2024-11-21T05:48:02.630Z"
   },
   {
    "duration": 1200,
    "start_time": "2024-11-21T05:51:00.793Z"
   },
   {
    "duration": 867,
    "start_time": "2024-11-21T05:51:18.937Z"
   },
   {
    "duration": 9,
    "start_time": "2024-11-21T05:51:19.806Z"
   },
   {
    "duration": 10,
    "start_time": "2024-11-21T05:51:19.817Z"
   },
   {
    "duration": 11,
    "start_time": "2024-11-21T05:51:19.829Z"
   },
   {
    "duration": 15,
    "start_time": "2024-11-21T05:51:19.843Z"
   },
   {
    "duration": 7,
    "start_time": "2024-11-21T05:51:19.860Z"
   },
   {
    "duration": 2,
    "start_time": "2024-11-21T05:51:19.869Z"
   },
   {
    "duration": 4,
    "start_time": "2024-11-21T05:51:19.873Z"
   },
   {
    "duration": 5,
    "start_time": "2024-11-21T05:51:19.879Z"
   },
   {
    "duration": 50,
    "start_time": "2024-11-21T05:51:19.885Z"
   },
   {
    "duration": 3,
    "start_time": "2024-11-21T05:51:19.937Z"
   },
   {
    "duration": 2151,
    "start_time": "2024-11-21T05:51:19.942Z"
   },
   {
    "duration": 10,
    "start_time": "2024-11-21T05:51:22.095Z"
   },
   {
    "duration": 17,
    "start_time": "2024-11-21T05:51:22.107Z"
   },
   {
    "duration": 321,
    "start_time": "2024-11-21T05:51:22.126Z"
   },
   {
    "duration": 4,
    "start_time": "2024-11-21T05:51:22.449Z"
   },
   {
    "duration": 45966,
    "start_time": "2024-11-21T05:51:22.455Z"
   },
   {
    "duration": 254,
    "start_time": "2024-11-21T05:52:08.424Z"
   },
   {
    "duration": 14,
    "start_time": "2024-11-21T05:52:08.679Z"
   },
   {
    "duration": 15,
    "start_time": "2024-11-21T05:52:08.694Z"
   },
   {
    "duration": 16,
    "start_time": "2024-11-21T05:52:08.710Z"
   },
   {
    "duration": 1219,
    "start_time": "2024-11-21T05:52:08.728Z"
   },
   {
    "duration": 15,
    "start_time": "2024-11-21T05:52:09.949Z"
   },
   {
    "duration": 1182,
    "start_time": "2024-11-21T05:53:45.910Z"
   },
   {
    "duration": 4,
    "start_time": "2024-11-21T05:54:47.854Z"
   },
   {
    "duration": 337,
    "start_time": "2024-11-21T05:57:44.982Z"
   },
   {
    "duration": 356,
    "start_time": "2024-11-21T05:58:28.518Z"
   },
   {
    "duration": 33,
    "start_time": "2024-11-21T05:59:09.648Z"
   },
   {
    "duration": 30,
    "start_time": "2024-11-21T05:59:31.727Z"
   },
   {
    "duration": 15,
    "start_time": "2024-11-21T06:00:24.783Z"
   },
   {
    "duration": 1249,
    "start_time": "2024-11-21T06:00:53.759Z"
   },
   {
    "duration": 2939,
    "start_time": "2024-11-21T06:01:37.502Z"
   },
   {
    "duration": 2648,
    "start_time": "2024-11-21T06:02:37.686Z"
   },
   {
    "duration": 1496,
    "start_time": "2024-11-21T06:03:14.671Z"
   },
   {
    "duration": 1238,
    "start_time": "2024-11-21T06:03:40.827Z"
   },
   {
    "duration": 848,
    "start_time": "2024-11-21T19:37:58.932Z"
   },
   {
    "duration": 14,
    "start_time": "2024-11-21T19:37:59.782Z"
   },
   {
    "duration": 11,
    "start_time": "2024-11-21T19:37:59.798Z"
   },
   {
    "duration": 11,
    "start_time": "2024-11-21T19:37:59.810Z"
   },
   {
    "duration": 36,
    "start_time": "2024-11-21T19:37:59.824Z"
   },
   {
    "duration": 7,
    "start_time": "2024-11-21T19:37:59.862Z"
   },
   {
    "duration": 3,
    "start_time": "2024-11-21T19:37:59.871Z"
   },
   {
    "duration": 4,
    "start_time": "2024-11-21T19:37:59.876Z"
   },
   {
    "duration": 4,
    "start_time": "2024-11-21T19:37:59.882Z"
   },
   {
    "duration": 14,
    "start_time": "2024-11-21T19:37:59.887Z"
   },
   {
    "duration": 4,
    "start_time": "2024-11-21T19:37:59.902Z"
   },
   {
    "duration": 2224,
    "start_time": "2024-11-21T19:37:59.907Z"
   },
   {
    "duration": 16,
    "start_time": "2024-11-21T19:38:02.133Z"
   },
   {
    "duration": 4,
    "start_time": "2024-11-21T19:38:02.152Z"
   },
   {
    "duration": 324,
    "start_time": "2024-11-21T19:38:02.157Z"
   },
   {
    "duration": 5,
    "start_time": "2024-11-21T19:38:02.483Z"
   },
   {
    "duration": 46688,
    "start_time": "2024-11-21T19:38:02.490Z"
   },
   {
    "duration": 259,
    "start_time": "2024-11-21T19:38:49.179Z"
   },
   {
    "duration": 13,
    "start_time": "2024-11-21T19:38:49.443Z"
   },
   {
    "duration": 16,
    "start_time": "2024-11-21T19:38:49.458Z"
   },
   {
    "duration": 4,
    "start_time": "2024-11-21T19:38:49.475Z"
   },
   {
    "duration": 1295,
    "start_time": "2024-11-21T19:38:49.481Z"
   },
   {
    "duration": 15,
    "start_time": "2024-11-21T19:38:50.778Z"
   },
   {
    "duration": 1257,
    "start_time": "2024-11-21T19:50:29.728Z"
   },
   {
    "duration": 65,
    "start_time": "2024-11-21T19:53:50.175Z"
   },
   {
    "duration": 6,
    "start_time": "2024-11-21T19:58:02.065Z"
   },
   {
    "duration": 1252,
    "start_time": "2024-11-21T20:02:30.515Z"
   },
   {
    "duration": 1083,
    "start_time": "2024-11-21T20:06:40.724Z"
   },
   {
    "duration": 1435,
    "start_time": "2024-11-21T20:07:20.271Z"
   },
   {
    "duration": 1255,
    "start_time": "2024-11-21T20:10:26.929Z"
   },
   {
    "duration": 1421,
    "start_time": "2024-11-21T20:11:07.293Z"
   },
   {
    "duration": 4834,
    "start_time": "2024-11-21T20:24:03.542Z"
   },
   {
    "duration": 87,
    "start_time": "2024-11-21T20:33:58.727Z"
   },
   {
    "duration": 91,
    "start_time": "2024-11-21T20:34:16.241Z"
   },
   {
    "duration": 77,
    "start_time": "2024-11-21T20:34:31.173Z"
   },
   {
    "duration": 73,
    "start_time": "2024-11-21T20:34:43.792Z"
   },
   {
    "duration": 5,
    "start_time": "2024-11-21T20:34:54.389Z"
   },
   {
    "duration": 5,
    "start_time": "2024-11-21T20:35:46.606Z"
   },
   {
    "duration": 161,
    "start_time": "2024-11-21T21:47:41.779Z"
   },
   {
    "duration": 926,
    "start_time": "2024-11-21T21:47:53.356Z"
   },
   {
    "duration": 14,
    "start_time": "2024-11-21T21:47:54.284Z"
   },
   {
    "duration": 11,
    "start_time": "2024-11-21T21:47:54.299Z"
   },
   {
    "duration": 12,
    "start_time": "2024-11-21T21:47:54.312Z"
   },
   {
    "duration": 25,
    "start_time": "2024-11-21T21:47:54.325Z"
   },
   {
    "duration": 7,
    "start_time": "2024-11-21T21:47:54.352Z"
   },
   {
    "duration": 4,
    "start_time": "2024-11-21T21:47:54.361Z"
   },
   {
    "duration": 4,
    "start_time": "2024-11-21T21:47:54.367Z"
   },
   {
    "duration": 4,
    "start_time": "2024-11-21T21:47:54.373Z"
   },
   {
    "duration": 13,
    "start_time": "2024-11-21T21:47:54.380Z"
   },
   {
    "duration": 4,
    "start_time": "2024-11-21T21:47:54.394Z"
   },
   {
    "duration": 2225,
    "start_time": "2024-11-21T21:47:54.399Z"
   },
   {
    "duration": 18,
    "start_time": "2024-11-21T21:47:56.626Z"
   },
   {
    "duration": 4,
    "start_time": "2024-11-21T21:47:56.646Z"
   },
   {
    "duration": 326,
    "start_time": "2024-11-21T21:47:56.652Z"
   },
   {
    "duration": 4,
    "start_time": "2024-11-21T21:47:56.980Z"
   },
   {
    "duration": 47994,
    "start_time": "2024-11-21T21:47:56.986Z"
   },
   {
    "duration": 270,
    "start_time": "2024-11-21T21:48:44.982Z"
   },
   {
    "duration": 15,
    "start_time": "2024-11-21T21:48:45.255Z"
   },
   {
    "duration": 17,
    "start_time": "2024-11-21T21:48:45.272Z"
   },
   {
    "duration": 4,
    "start_time": "2024-11-21T21:48:45.291Z"
   },
   {
    "duration": 1280,
    "start_time": "2024-11-21T21:48:45.298Z"
   },
   {
    "duration": 75,
    "start_time": "2024-11-21T21:48:46.580Z"
   },
   {
    "duration": 6,
    "start_time": "2024-11-21T21:48:46.657Z"
   },
   {
    "duration": 5028,
    "start_time": "2024-11-21T21:48:46.665Z"
   },
   {
    "duration": 10,
    "start_time": "2024-11-21T21:48:51.695Z"
   },
   {
    "duration": 5,
    "start_time": "2024-11-21T21:48:51.707Z"
   },
   {
    "duration": 9,
    "start_time": "2024-11-21T21:49:40.278Z"
   },
   {
    "duration": 5,
    "start_time": "2024-11-21T21:49:44.882Z"
   },
   {
    "duration": 11,
    "start_time": "2024-11-21T21:49:57.616Z"
   },
   {
    "duration": 6,
    "start_time": "2024-11-21T21:50:01.214Z"
   },
   {
    "duration": 296,
    "start_time": "2024-11-21T21:52:33.470Z"
   },
   {
    "duration": 833,
    "start_time": "2024-11-21T21:53:08.369Z"
   },
   {
    "duration": 1616,
    "start_time": "2024-11-21T21:55:31.631Z"
   },
   {
    "duration": 10,
    "start_time": "2024-11-21T21:58:06.949Z"
   },
   {
    "duration": 11,
    "start_time": "2024-11-21T21:58:19.373Z"
   },
   {
    "duration": 12,
    "start_time": "2024-11-21T21:58:26.907Z"
   },
   {
    "duration": 11,
    "start_time": "2024-11-21T21:58:34.355Z"
   },
   {
    "duration": 13,
    "start_time": "2024-11-21T21:58:40.565Z"
   },
   {
    "duration": 9,
    "start_time": "2024-11-21T21:58:46.425Z"
   },
   {
    "duration": 11,
    "start_time": "2024-11-21T21:58:50.591Z"
   },
   {
    "duration": 11,
    "start_time": "2024-11-21T21:58:54.999Z"
   },
   {
    "duration": 11,
    "start_time": "2024-11-21T21:58:59.782Z"
   },
   {
    "duration": 9,
    "start_time": "2024-11-21T21:59:03.667Z"
   },
   {
    "duration": 12,
    "start_time": "2024-11-21T21:59:11.848Z"
   },
   {
    "duration": 12,
    "start_time": "2024-11-21T21:59:19.651Z"
   },
   {
    "duration": 5,
    "start_time": "2024-11-21T21:59:26.340Z"
   },
   {
    "duration": 13,
    "start_time": "2024-11-21T21:59:35.146Z"
   },
   {
    "duration": 6,
    "start_time": "2024-11-21T21:59:37.877Z"
   },
   {
    "duration": 11,
    "start_time": "2024-11-21T21:59:42.705Z"
   },
   {
    "duration": 5,
    "start_time": "2024-11-21T21:59:44.815Z"
   },
   {
    "duration": 10,
    "start_time": "2024-11-21T22:00:17.968Z"
   },
   {
    "duration": 6,
    "start_time": "2024-11-21T22:00:20.356Z"
   },
   {
    "duration": 23,
    "start_time": "2024-11-21T22:00:27.676Z"
   },
   {
    "duration": 37,
    "start_time": "2024-11-21T22:00:48.827Z"
   },
   {
    "duration": 97,
    "start_time": "2024-11-21T22:00:54.410Z"
   },
   {
    "duration": 156,
    "start_time": "2024-11-21T22:01:03.957Z"
   },
   {
    "duration": 310,
    "start_time": "2024-11-21T22:01:12.666Z"
   },
   {
    "duration": 484,
    "start_time": "2024-11-21T22:01:18.868Z"
   },
   {
    "duration": 291,
    "start_time": "2024-11-21T22:01:28.083Z"
   },
   {
    "duration": 22,
    "start_time": "2024-11-21T22:01:34.802Z"
   },
   {
    "duration": 18,
    "start_time": "2024-11-21T22:02:10.499Z"
   },
   {
    "duration": 5,
    "start_time": "2024-11-21T22:02:13.698Z"
   },
   {
    "duration": 10,
    "start_time": "2024-11-21T22:02:42.201Z"
   },
   {
    "duration": 4,
    "start_time": "2024-11-21T22:02:44.373Z"
   },
   {
    "duration": 545,
    "start_time": "2024-11-21T22:07:40.804Z"
   },
   {
    "duration": 9,
    "start_time": "2024-11-21T22:08:45.737Z"
   },
   {
    "duration": 5,
    "start_time": "2024-11-21T22:08:48.684Z"
   },
   {
    "duration": 5,
    "start_time": "2024-11-21T22:08:54.332Z"
   },
   {
    "duration": 291,
    "start_time": "2024-11-21T22:25:09.082Z"
   },
   {
    "duration": 14,
    "start_time": "2024-11-21T22:27:20.314Z"
   },
   {
    "duration": 3,
    "start_time": "2024-11-21T22:27:25.879Z"
   },
   {
    "duration": 5,
    "start_time": "2024-11-21T22:29:12.086Z"
   },
   {
    "duration": 5,
    "start_time": "2024-11-21T22:32:09.580Z"
   },
   {
    "duration": 16,
    "start_time": "2024-11-21T22:32:11.186Z"
   },
   {
    "duration": 4,
    "start_time": "2024-11-21T22:32:15.532Z"
   },
   {
    "duration": 2475,
    "start_time": "2024-11-21T22:32:19.106Z"
   },
   {
    "duration": 9,
    "start_time": "2024-11-21T22:32:24.729Z"
   },
   {
    "duration": 5,
    "start_time": "2024-11-21T22:32:28.230Z"
   },
   {
    "duration": 375,
    "start_time": "2024-11-21T22:32:30.820Z"
   },
   {
    "duration": 54388,
    "start_time": "2024-11-21T22:32:35.654Z"
   },
   {
    "duration": 576,
    "start_time": "2024-11-21T22:34:00.404Z"
   },
   {
    "duration": 20,
    "start_time": "2024-11-21T22:34:02.894Z"
   },
   {
    "duration": 14,
    "start_time": "2024-11-21T22:34:05.362Z"
   },
   {
    "duration": 1412,
    "start_time": "2024-11-21T22:34:11.380Z"
   },
   {
    "duration": 75,
    "start_time": "2024-11-21T22:34:19.814Z"
   },
   {
    "duration": 5,
    "start_time": "2024-11-21T22:34:39.378Z"
   },
   {
    "duration": 540,
    "start_time": "2024-11-21T22:34:47.766Z"
   },
   {
    "duration": 9,
    "start_time": "2024-11-21T22:34:52.427Z"
   },
   {
    "duration": 5,
    "start_time": "2024-11-21T22:34:54.858Z"
   },
   {
    "duration": 11,
    "start_time": "2024-11-21T22:35:09.701Z"
   },
   {
    "duration": 6,
    "start_time": "2024-11-21T22:35:11.037Z"
   },
   {
    "duration": 10,
    "start_time": "2024-11-21T22:35:18.543Z"
   },
   {
    "duration": 5,
    "start_time": "2024-11-21T22:35:22.732Z"
   },
   {
    "duration": 16,
    "start_time": "2024-11-21T22:42:10.255Z"
   },
   {
    "duration": 623,
    "start_time": "2024-11-21T22:48:27.380Z"
   },
   {
    "duration": 9,
    "start_time": "2024-11-21T22:48:31.684Z"
   },
   {
    "duration": 5,
    "start_time": "2024-11-21T22:48:35.092Z"
   },
   {
    "duration": 558,
    "start_time": "2024-11-21T22:50:36.743Z"
   },
   {
    "duration": 19,
    "start_time": "2024-11-21T22:50:42.867Z"
   },
   {
    "duration": 3,
    "start_time": "2024-11-21T23:23:45.074Z"
   },
   {
    "duration": 4,
    "start_time": "2024-11-21T23:28:02.724Z"
   },
   {
    "duration": 21,
    "start_time": "2024-11-21T23:28:38.279Z"
   },
   {
    "duration": 7,
    "start_time": "2024-11-21T23:29:13.427Z"
   },
   {
    "duration": 20,
    "start_time": "2024-11-21T23:29:55.023Z"
   },
   {
    "duration": 21,
    "start_time": "2024-11-21T23:31:33.842Z"
   },
   {
    "duration": 4,
    "start_time": "2024-11-21T23:33:41.799Z"
   },
   {
    "duration": 560,
    "start_time": "2024-11-21T23:34:06.494Z"
   },
   {
    "duration": 567,
    "start_time": "2024-11-21T23:34:15.256Z"
   },
   {
    "duration": 161,
    "start_time": "2024-11-22T02:52:35.673Z"
   },
   {
    "duration": 881,
    "start_time": "2024-11-22T02:52:49.049Z"
   },
   {
    "duration": 10,
    "start_time": "2024-11-22T02:52:49.932Z"
   },
   {
    "duration": 10,
    "start_time": "2024-11-22T02:52:49.944Z"
   },
   {
    "duration": 11,
    "start_time": "2024-11-22T02:52:49.969Z"
   },
   {
    "duration": 17,
    "start_time": "2024-11-22T02:52:49.981Z"
   },
   {
    "duration": 7,
    "start_time": "2024-11-22T02:52:50.000Z"
   },
   {
    "duration": 3,
    "start_time": "2024-11-22T02:52:50.009Z"
   },
   {
    "duration": 4,
    "start_time": "2024-11-22T02:52:50.014Z"
   },
   {
    "duration": 4,
    "start_time": "2024-11-22T02:52:50.019Z"
   },
   {
    "duration": 45,
    "start_time": "2024-11-22T02:52:50.026Z"
   },
   {
    "duration": 4,
    "start_time": "2024-11-22T02:52:50.073Z"
   },
   {
    "duration": 2156,
    "start_time": "2024-11-22T02:52:50.079Z"
   },
   {
    "duration": 10,
    "start_time": "2024-11-22T02:52:52.236Z"
   },
   {
    "duration": 4,
    "start_time": "2024-11-22T02:52:52.248Z"
   },
   {
    "duration": 310,
    "start_time": "2024-11-22T02:52:52.270Z"
   },
   {
    "duration": 4,
    "start_time": "2024-11-22T02:52:52.582Z"
   },
   {
    "duration": 44935,
    "start_time": "2024-11-22T02:52:52.587Z"
   },
   {
    "duration": 0,
    "start_time": "2024-11-22T02:53:37.524Z"
   },
   {
    "duration": 0,
    "start_time": "2024-11-22T02:53:37.525Z"
   },
   {
    "duration": 0,
    "start_time": "2024-11-22T02:53:37.526Z"
   },
   {
    "duration": 0,
    "start_time": "2024-11-22T02:53:37.527Z"
   },
   {
    "duration": 0,
    "start_time": "2024-11-22T02:53:37.528Z"
   },
   {
    "duration": 0,
    "start_time": "2024-11-22T02:53:37.529Z"
   },
   {
    "duration": 0,
    "start_time": "2024-11-22T02:53:37.530Z"
   },
   {
    "duration": 0,
    "start_time": "2024-11-22T02:53:37.531Z"
   },
   {
    "duration": 0,
    "start_time": "2024-11-22T02:53:37.532Z"
   },
   {
    "duration": 0,
    "start_time": "2024-11-22T02:53:37.533Z"
   },
   {
    "duration": 0,
    "start_time": "2024-11-22T02:53:37.534Z"
   },
   {
    "duration": 0,
    "start_time": "2024-11-22T02:53:37.535Z"
   },
   {
    "duration": 0,
    "start_time": "2024-11-22T02:53:37.536Z"
   },
   {
    "duration": 5,
    "start_time": "2024-11-22T02:54:05.465Z"
   },
   {
    "duration": 864,
    "start_time": "2024-11-22T02:54:53.811Z"
   },
   {
    "duration": 8,
    "start_time": "2024-11-22T02:54:54.678Z"
   },
   {
    "duration": 10,
    "start_time": "2024-11-22T02:54:54.687Z"
   },
   {
    "duration": 10,
    "start_time": "2024-11-22T02:54:54.699Z"
   },
   {
    "duration": 17,
    "start_time": "2024-11-22T02:54:54.711Z"
   },
   {
    "duration": 7,
    "start_time": "2024-11-22T02:54:54.730Z"
   },
   {
    "duration": 4,
    "start_time": "2024-11-22T02:54:54.770Z"
   },
   {
    "duration": 5,
    "start_time": "2024-11-22T02:54:54.775Z"
   },
   {
    "duration": 4,
    "start_time": "2024-11-22T02:54:54.781Z"
   },
   {
    "duration": 13,
    "start_time": "2024-11-22T02:54:54.786Z"
   },
   {
    "duration": 4,
    "start_time": "2024-11-22T02:54:54.800Z"
   },
   {
    "duration": 2175,
    "start_time": "2024-11-22T02:54:54.805Z"
   },
   {
    "duration": 10,
    "start_time": "2024-11-22T02:54:56.982Z"
   },
   {
    "duration": 5,
    "start_time": "2024-11-22T02:54:56.995Z"
   },
   {
    "duration": 330,
    "start_time": "2024-11-22T02:54:57.003Z"
   },
   {
    "duration": 5,
    "start_time": "2024-11-22T02:54:57.335Z"
   },
   {
    "duration": 45853,
    "start_time": "2024-11-22T02:54:57.342Z"
   },
   {
    "duration": 256,
    "start_time": "2024-11-22T02:55:43.197Z"
   },
   {
    "duration": 19,
    "start_time": "2024-11-22T02:55:43.455Z"
   },
   {
    "duration": 16,
    "start_time": "2024-11-22T02:55:43.475Z"
   },
   {
    "duration": 4,
    "start_time": "2024-11-22T02:55:43.493Z"
   },
   {
    "duration": 1243,
    "start_time": "2024-11-22T02:55:43.499Z"
   },
   {
    "duration": 72,
    "start_time": "2024-11-22T02:55:44.745Z"
   },
   {
    "duration": 5,
    "start_time": "2024-11-22T02:55:44.818Z"
   },
   {
    "duration": 618,
    "start_time": "2024-11-22T02:55:44.825Z"
   },
   {
    "duration": 9,
    "start_time": "2024-11-22T02:55:45.444Z"
   },
   {
    "duration": 17,
    "start_time": "2024-11-22T02:55:45.455Z"
   },
   {
    "duration": 4,
    "start_time": "2024-11-22T02:55:45.474Z"
   },
   {
    "duration": 13,
    "start_time": "2024-11-22T02:55:45.479Z"
   },
   {
    "duration": 268,
    "start_time": "2024-11-22T02:55:45.494Z"
   },
   {
    "duration": 157,
    "start_time": "2024-12-05T03:41:33.629Z"
   },
   {
    "duration": 822,
    "start_time": "2024-12-05T03:41:48.256Z"
   },
   {
    "duration": 15,
    "start_time": "2024-12-05T03:41:49.080Z"
   },
   {
    "duration": 11,
    "start_time": "2024-12-05T03:41:49.097Z"
   },
   {
    "duration": 11,
    "start_time": "2024-12-05T03:41:49.109Z"
   },
   {
    "duration": 16,
    "start_time": "2024-12-05T03:41:49.122Z"
   },
   {
    "duration": 7,
    "start_time": "2024-12-05T03:41:49.140Z"
   },
   {
    "duration": 3,
    "start_time": "2024-12-05T03:41:49.170Z"
   },
   {
    "duration": 4,
    "start_time": "2024-12-05T03:41:49.175Z"
   },
   {
    "duration": 4,
    "start_time": "2024-12-05T03:41:49.180Z"
   },
   {
    "duration": 13,
    "start_time": "2024-12-05T03:41:49.186Z"
   },
   {
    "duration": 4,
    "start_time": "2024-12-05T03:41:49.201Z"
   },
   {
    "duration": 2150,
    "start_time": "2024-12-05T03:41:49.207Z"
   },
   {
    "duration": 13,
    "start_time": "2024-12-05T03:41:51.359Z"
   },
   {
    "duration": 5,
    "start_time": "2024-12-05T03:41:51.376Z"
   },
   {
    "duration": 333,
    "start_time": "2024-12-05T03:41:51.382Z"
   },
   {
    "duration": 4,
    "start_time": "2024-12-05T03:41:51.717Z"
   },
   {
    "duration": 46456,
    "start_time": "2024-12-05T03:41:51.723Z"
   },
   {
    "duration": 254,
    "start_time": "2024-12-05T03:42:38.180Z"
   },
   {
    "duration": 13,
    "start_time": "2024-12-05T03:42:38.436Z"
   },
   {
    "duration": 5,
    "start_time": "2024-12-05T03:42:38.450Z"
   },
   {
    "duration": 28,
    "start_time": "2024-12-05T03:42:38.456Z"
   },
   {
    "duration": 4,
    "start_time": "2024-12-05T03:42:38.485Z"
   },
   {
    "duration": 1213,
    "start_time": "2024-12-05T03:42:38.491Z"
   },
   {
    "duration": 72,
    "start_time": "2024-12-05T03:42:39.706Z"
   },
   {
    "duration": 4,
    "start_time": "2024-12-05T03:42:39.780Z"
   },
   {
    "duration": 609,
    "start_time": "2024-12-05T03:42:39.786Z"
   },
   {
    "duration": 8,
    "start_time": "2024-12-05T03:42:40.397Z"
   },
   {
    "duration": 4,
    "start_time": "2024-12-05T03:42:40.407Z"
   },
   {
    "duration": 4,
    "start_time": "2024-12-05T03:42:40.413Z"
   },
   {
    "duration": 13,
    "start_time": "2024-12-05T03:42:40.418Z"
   },
   {
    "duration": 278,
    "start_time": "2024-12-05T03:42:40.433Z"
   },
   {
    "duration": 5,
    "start_time": "2024-12-05T03:43:18.671Z"
   },
   {
    "duration": 264,
    "start_time": "2024-12-05T03:43:37.507Z"
   },
   {
    "duration": 12,
    "start_time": "2024-12-05T03:43:50.619Z"
   },
   {
    "duration": 12,
    "start_time": "2024-12-05T03:43:59.766Z"
   },
   {
    "duration": 4,
    "start_time": "2024-12-05T03:44:17.244Z"
   },
   {
    "duration": 9,
    "start_time": "2024-12-05T03:45:08.230Z"
   },
   {
    "duration": 15,
    "start_time": "2024-12-05T03:45:15.571Z"
   },
   {
    "duration": 5,
    "start_time": "2024-12-05T03:45:24.668Z"
   },
   {
    "duration": 14,
    "start_time": "2024-12-05T03:46:10.104Z"
   },
   {
    "duration": 6,
    "start_time": "2024-12-05T03:46:21.346Z"
   }
  ],
  "kernelspec": {
   "display_name": "Python 3 (ipykernel)",
   "language": "python",
   "name": "python3"
  },
  "language_info": {
   "codemirror_mode": {
    "name": "ipython",
    "version": 3
   },
   "file_extension": ".py",
   "mimetype": "text/x-python",
   "name": "python",
   "nbconvert_exporter": "python",
   "pygments_lexer": "ipython3",
   "version": "3.9.19"
  },
  "toc": {
   "base_numbering": 1,
   "nav_menu": {},
   "number_sections": true,
   "sideBar": true,
   "skip_h1_title": true,
   "title_cell": "Table of Contents",
   "title_sidebar": "Contents",
   "toc_cell": false,
   "toc_position": {},
   "toc_section_display": true,
   "toc_window_display": false
  }
 },
 "nbformat": 4,
 "nbformat_minor": 2
}
