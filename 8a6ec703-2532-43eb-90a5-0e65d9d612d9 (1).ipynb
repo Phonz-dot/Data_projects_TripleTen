{
 "cells": [
  {
   "cell_type": "markdown",
   "id": "bb94abc0",
   "metadata": {},
   "source": [
    "<div style=\"border:solid green 2px; padding: 20px\"> <h1 style=\"color:green; margin-bottom:20px\">Reviewer's comment v1</h1>\n",
    "\n",
    "Hello Alphonso!\n",
    "\n",
    "I'm happy to review your project today  🙌\n",
    "\n",
    "You can find my comments under the heading **«Review»**. I will categorize my comments in green, blue or red boxes like this:\n",
    "\n",
    "<div class=\"alert alert-success\">\n",
    "    <b>Success:</b> if everything is done successfully\n",
    "</div>\n",
    "<div class=\"alert alert-warning\">\n",
    "    <b>Remarks:</b> if I can give some recommendations or ways to improve the project\n",
    "</div>\n",
    "<div class=\"alert alert-danger\">\n",
    "    <b>Needs fixing:</b> if the block requires some corrections. Work can't be accepted with the red comments\n",
    "</div>\n",
    "\n",
    "Please don't remove my comments. If you have any questions, don't hesitate to respond to my comments in a different section.\n",
    "<div class=\"alert alert-info\"> <b>Student comments: </div>    \n"
   ]
  },
  {
   "cell_type": "markdown",
   "id": "4bfa7ea6",
   "metadata": {},
   "source": [
    "<div style=\"border:solid green 2px; padding: 20px\">\n",
    "<b>Reviewer's comment v1</b>\n",
    "    \n",
    "<b>Overall Feedback</b> \n",
    "    \n",
    "    \n",
    "Hello Alphonso,\n",
    "\n",
    "First of all, congratulations on submitting your very first project! 🎉\n",
    "\n",
    "Taking this step is a big part of your journey into the world of Data, and it’s clear you’re putting in the effort to succeed.\n",
    "\n",
    "Our team is here to support your growth, and to help you get the most out of this experience, I’ve returned your project with some suggestions for improvement.\n",
    "    \n",
    "You’ll find specific feedback in the notebook in the ‘Comments’ (`Reviewer's comment v1`) sections.\n",
    "    \n",
    "**What Was Great:**\n",
    "\n",
    "- Comprehensive Data Preparation: You demonstrated a meticulous approach to data loading, cleaning, and preparation. Ensuring the data was in optimal condition allowed for a robust analysis, which strengthened the validity of your conclusions.\n",
    "- Effective Handling of Outliers: You correctly identified and excluded outliers (duplicates, missing values), which could have skewed the results, ensuring a more accurate and meaningful analysis.\n",
    "    \n",
    "**Areas to Improve:**\n",
    "\n",
    "- Double-check that the latest DataFrame with the processed data is used at each step, and not the original df.\n",
    "- Fix bugs in your code.\n",
    "   \n",
    "Don’t be discouraged - this is all part of the learning process! Take your time to review the feedback and make the necessary adjustments. Resubmit when you’re ready, and I’m confident you’ll nail it on the next go. Remember, every challenge is an opportunity to grow. You’ve got this! 🏄\n",
    "    \n",
    "And of course, if you have any questions along the way, remember that you can always reach out to your tutor for clarification.\n",
    "</div>"
   ]
  },
  {
   "cell_type": "markdown",
   "id": "ba4ea76f",
   "metadata": {},
   "source": [
    "<div style=\"border:solid green 2px; padding: 20px\">\n",
    "<b>Reviewer's comment v2:</b>\n",
    "    \n",
    "<b>Overall Feedback</b> \n",
    "\n",
    "Thank you for making changes to your project! Could you please take a look at additional comments: title - `Reviewer's comment v2:`?\n",
    "    \n",
    "And of course, if you have any questions along the way, remember that you can always reach out to your tutor for any clarification.\n",
    "\n",
    "I will wait for you to send me a new version of the project :)\n",
    "</div>"
   ]
  },
  {
   "cell_type": "markdown",
   "id": "0fda35e0",
   "metadata": {},
   "source": [
    "<div style=\"border:solid green 2px; padding: 20px\">\n",
    "<b>Reviewer's comment v3:</b>\n",
    "    \n",
    "<b>Overall Feedback</b> \n",
    "\n",
    "Thank you for making changes to your project! Could you please take a look at additional comments: title - `Reviewer's comment v3:`?\n",
    "    \n",
    "And of course, if you have any questions along the way, remember that you can always reach out to your tutor for any clarification.\n",
    "\n",
    "I will wait for you to send me a new version of the project :)\n",
    "</div>"
   ]
  },
  {
   "cell_type": "markdown",
   "id": "bfb1ccee",
   "metadata": {},
   "source": [
    "<div style=\"border:solid green 2px; padding: 20px\">\n",
    "<b>Reviewer's comment v4:</b>\n",
    "    \n",
    "<b>Overall Feedback</b> \n",
    "\n",
    "Thank you for making all improvements in your project! It looks perfect now and there are no critical issues. \n",
    "    \n",
    "Please keep up great work and don't hesitate to use this project as a reference in your future sprints. \n",
    "   \n",
    "Good luck on the next project 🍀 \n",
    "</div>"
   ]
  },
  {
   "cell_type": "markdown",
   "id": "f85a80d2",
   "metadata": {},
   "source": [
    "## Basic Python - Project <a id='intro'></a>"
   ]
  },
  {
   "cell_type": "markdown",
   "id": "a1262df4",
   "metadata": {},
   "source": [
    "## Introduction <a id='intro'></a>\n",
    "In this project, you will work with data from the entertainment industry. You will study a dataset with records on movies and shows. The research will focus on the \"Golden Age\" of television, which began in 1999 with the release of *The Sopranos* and is still ongoing.\n",
    "\n",
    "The aim of this project is to investigate how the number of votes a title receives impacts its ratings. The assumption is that highly-rated shows (we will focus on TV shows, ignoring movies) released during the \"Golden Age\" of television also have the most votes.\n",
    "\n",
    "### Stages \n",
    "Data on movies and shows is stored in the `/datasets/movies_and_shows.csv` file. There is no information about the quality of the data, so you will need to explore it before doing the analysis.\n",
    "\n",
    "First, you'll evaluate the quality of the data and see whether its issues are significant. Then, during data preprocessing, you will try to account for the most critical problems.\n",
    " \n",
    "Your project will consist of three stages:\n",
    " 1. Data overview\n",
    " 2. Data preprocessing\n",
    " 3. Data analysis"
   ]
  },
  {
   "cell_type": "markdown",
   "id": "e8b54c65",
   "metadata": {},
   "source": [
    "<div class=\"alert alert-success\">\n",
    "<b>Reviewer's comment v1:</b>\n",
    "    \n",
    "It is always helpful for the reader to have additional information about project tasks. It gives an overview of what you are going to achieve in this project.\n"
   ]
  },
  {
   "cell_type": "markdown",
   "id": "ac0593ac",
   "metadata": {},
   "source": [
    "## Stage 1. Data overview <a id='data_review'></a>\n",
    "\n",
    "Open and explore the data."
   ]
  },
  {
   "cell_type": "markdown",
   "id": "e86ed00e",
   "metadata": {},
   "source": [
    "You'll need `pandas`, so import it."
   ]
  },
  {
   "cell_type": "code",
   "execution_count": 1,
   "id": "1727d3f8",
   "metadata": {},
   "outputs": [],
   "source": [
    "# importing pandas\n",
    "import pandas as pd\n"
   ]
  },
  {
   "cell_type": "markdown",
   "id": "9821beeb",
   "metadata": {},
   "source": [
    "Read the `movies_and_shows.csv` file from the `datasets` folder and save it in the `df` variable:"
   ]
  },
  {
   "cell_type": "code",
   "execution_count": 2,
   "id": "fc5a1402",
   "metadata": {},
   "outputs": [],
   "source": [
    "# reading the files and storing them to df\n",
    "df = pd.read_csv('/datasets/movies_and_shows.csv')\n"
   ]
  },
  {
   "cell_type": "markdown",
   "id": "693288f4",
   "metadata": {},
   "source": [
    "<div class=\"alert alert-success\">\n",
    "<b>Reviewer's comment v1:</b>\n",
    "    \n",
    "Well done! Required library has been imported."
   ]
  },
  {
   "cell_type": "markdown",
   "id": "1cd0a96d",
   "metadata": {},
   "source": [
    "Print the first 10 table rows:"
   ]
  },
  {
   "cell_type": "code",
   "execution_count": 3,
   "id": "acd92001",
   "metadata": {},
   "outputs": [
    {
     "data": {
      "text/html": [
       "<div>\n",
       "<style scoped>\n",
       "    .dataframe tbody tr th:only-of-type {\n",
       "        vertical-align: middle;\n",
       "    }\n",
       "\n",
       "    .dataframe tbody tr th {\n",
       "        vertical-align: top;\n",
       "    }\n",
       "\n",
       "    .dataframe thead th {\n",
       "        text-align: right;\n",
       "    }\n",
       "</style>\n",
       "<table border=\"1\" class=\"dataframe\">\n",
       "  <thead>\n",
       "    <tr style=\"text-align: right;\">\n",
       "      <th></th>\n",
       "      <th>name</th>\n",
       "      <th>Character</th>\n",
       "      <th>r0le</th>\n",
       "      <th>TITLE</th>\n",
       "      <th>Type</th>\n",
       "      <th>release Year</th>\n",
       "      <th>genres</th>\n",
       "      <th>imdb sc0re</th>\n",
       "      <th>imdb v0tes</th>\n",
       "    </tr>\n",
       "  </thead>\n",
       "  <tbody>\n",
       "    <tr>\n",
       "      <th>85569</th>\n",
       "      <td>Jessica Cediel</td>\n",
       "      <td>Liliana Navarro</td>\n",
       "      <td>ACTOR</td>\n",
       "      <td>Lokillo</td>\n",
       "      <td>MOVIE</td>\n",
       "      <td>2021</td>\n",
       "      <td>['comedy']</td>\n",
       "      <td>3.8</td>\n",
       "      <td>68.0</td>\n",
       "    </tr>\n",
       "    <tr>\n",
       "      <th>85570</th>\n",
       "      <td>Javier Gardeaz?­bal</td>\n",
       "      <td>Agust??n \"Peluca\" Ort??z</td>\n",
       "      <td>ACTOR</td>\n",
       "      <td>Lokillo</td>\n",
       "      <td>MOVIE</td>\n",
       "      <td>2021</td>\n",
       "      <td>['comedy']</td>\n",
       "      <td>3.8</td>\n",
       "      <td>68.0</td>\n",
       "    </tr>\n",
       "    <tr>\n",
       "      <th>85571</th>\n",
       "      <td>Carla Giraldo</td>\n",
       "      <td>Valery Reinoso</td>\n",
       "      <td>ACTOR</td>\n",
       "      <td>Lokillo</td>\n",
       "      <td>MOVIE</td>\n",
       "      <td>2021</td>\n",
       "      <td>['comedy']</td>\n",
       "      <td>3.8</td>\n",
       "      <td>68.0</td>\n",
       "    </tr>\n",
       "    <tr>\n",
       "      <th>85572</th>\n",
       "      <td>Ana Mar??a S?­nchez</td>\n",
       "      <td>Lourdes</td>\n",
       "      <td>ACTOR</td>\n",
       "      <td>Lokillo</td>\n",
       "      <td>MOVIE</td>\n",
       "      <td>2021</td>\n",
       "      <td>['comedy']</td>\n",
       "      <td>3.8</td>\n",
       "      <td>68.0</td>\n",
       "    </tr>\n",
       "    <tr>\n",
       "      <th>85573</th>\n",
       "      <td>A??da Morales</td>\n",
       "      <td>Maritza</td>\n",
       "      <td>ACTOR</td>\n",
       "      <td>Lokillo</td>\n",
       "      <td>the movie</td>\n",
       "      <td>2021</td>\n",
       "      <td>['comedy']</td>\n",
       "      <td>3.8</td>\n",
       "      <td>68.0</td>\n",
       "    </tr>\n",
       "    <tr>\n",
       "      <th>85574</th>\n",
       "      <td>Adelaida Buscato</td>\n",
       "      <td>Mar??a Paz</td>\n",
       "      <td>ACTOR</td>\n",
       "      <td>Lokillo</td>\n",
       "      <td>the movie</td>\n",
       "      <td>2021</td>\n",
       "      <td>['comedy']</td>\n",
       "      <td>3.8</td>\n",
       "      <td>68.0</td>\n",
       "    </tr>\n",
       "    <tr>\n",
       "      <th>85575</th>\n",
       "      <td>Luz Stella Luengas</td>\n",
       "      <td>Karen Bayona</td>\n",
       "      <td>ACTOR</td>\n",
       "      <td>Lokillo</td>\n",
       "      <td>the movie</td>\n",
       "      <td>2021</td>\n",
       "      <td>['comedy']</td>\n",
       "      <td>3.8</td>\n",
       "      <td>68.0</td>\n",
       "    </tr>\n",
       "    <tr>\n",
       "      <th>85576</th>\n",
       "      <td>In??s Prieto</td>\n",
       "      <td>Fanny</td>\n",
       "      <td>ACTOR</td>\n",
       "      <td>Lokillo</td>\n",
       "      <td>the movie</td>\n",
       "      <td>2021</td>\n",
       "      <td>['comedy']</td>\n",
       "      <td>3.8</td>\n",
       "      <td>68.0</td>\n",
       "    </tr>\n",
       "    <tr>\n",
       "      <th>85577</th>\n",
       "      <td>Isabel Gaona</td>\n",
       "      <td>Cacica</td>\n",
       "      <td>ACTOR</td>\n",
       "      <td>Lokillo</td>\n",
       "      <td>MOVIE</td>\n",
       "      <td>2021</td>\n",
       "      <td>['comedy']</td>\n",
       "      <td>3.8</td>\n",
       "      <td>68.0</td>\n",
       "    </tr>\n",
       "    <tr>\n",
       "      <th>85578</th>\n",
       "      <td>Julian Gaviria</td>\n",
       "      <td>unknown</td>\n",
       "      <td>DIRECTOR</td>\n",
       "      <td>Lokillo</td>\n",
       "      <td>the movie</td>\n",
       "      <td>2021</td>\n",
       "      <td>['comedy']</td>\n",
       "      <td>3.8</td>\n",
       "      <td>68.0</td>\n",
       "    </tr>\n",
       "  </tbody>\n",
       "</table>\n",
       "</div>"
      ],
      "text/plain": [
       "                      name                 Character      r0le    TITLE  \\\n",
       "85569       Jessica Cediel           Liliana Navarro     ACTOR  Lokillo   \n",
       "85570  Javier Gardeaz?­bal  Agust??n \"Peluca\" Ort??z     ACTOR  Lokillo   \n",
       "85571        Carla Giraldo            Valery Reinoso     ACTOR  Lokillo   \n",
       "85572  Ana Mar??a S?­nchez                   Lourdes     ACTOR  Lokillo   \n",
       "85573        A??da Morales                   Maritza     ACTOR  Lokillo   \n",
       "85574     Adelaida Buscato                Mar??a Paz     ACTOR  Lokillo   \n",
       "85575   Luz Stella Luengas              Karen Bayona     ACTOR  Lokillo   \n",
       "85576         In??s Prieto                     Fanny     ACTOR  Lokillo   \n",
       "85577         Isabel Gaona                    Cacica     ACTOR  Lokillo   \n",
       "85578       Julian Gaviria                   unknown  DIRECTOR  Lokillo   \n",
       "\n",
       "            Type  release Year      genres  imdb sc0re  imdb v0tes  \n",
       "85569      MOVIE          2021  ['comedy']         3.8        68.0  \n",
       "85570      MOVIE          2021  ['comedy']         3.8        68.0  \n",
       "85571      MOVIE          2021  ['comedy']         3.8        68.0  \n",
       "85572      MOVIE          2021  ['comedy']         3.8        68.0  \n",
       "85573  the movie          2021  ['comedy']         3.8        68.0  \n",
       "85574  the movie          2021  ['comedy']         3.8        68.0  \n",
       "85575  the movie          2021  ['comedy']         3.8        68.0  \n",
       "85576  the movie          2021  ['comedy']         3.8        68.0  \n",
       "85577      MOVIE          2021  ['comedy']         3.8        68.0  \n",
       "85578  the movie          2021  ['comedy']         3.8        68.0  "
      ]
     },
     "execution_count": 3,
     "metadata": {},
     "output_type": "execute_result"
    }
   ],
   "source": [
    "# obtaining the first 10 rows from the df table\n",
    "# hint: you can use head() and tail() in Jupyter Notebook without wrapping them into print()\n",
    "df.head(10)\n",
    "\n",
    "df.tail(10)"
   ]
  },
  {
   "cell_type": "markdown",
   "id": "e579aa91",
   "metadata": {},
   "source": [
    "Obtain the general information about the table with one command:"
   ]
  },
  {
   "cell_type": "code",
   "execution_count": 4,
   "id": "7bf66d2a",
   "metadata": {},
   "outputs": [
    {
     "name": "stdout",
     "output_type": "stream",
     "text": [
      "<class 'pandas.core.frame.DataFrame'>\n",
      "RangeIndex: 85579 entries, 0 to 85578\n",
      "Data columns (total 9 columns):\n",
      " #   Column        Non-Null Count  Dtype  \n",
      "---  ------        --------------  -----  \n",
      " 0      name       85579 non-null  object \n",
      " 1   Character     85579 non-null  object \n",
      " 2   r0le          85579 non-null  object \n",
      " 3   TITLE         85578 non-null  object \n",
      " 4     Type        85579 non-null  object \n",
      " 5   release Year  85579 non-null  int64  \n",
      " 6   genres        85579 non-null  object \n",
      " 7   imdb sc0re    80970 non-null  float64\n",
      " 8   imdb v0tes    80853 non-null  float64\n",
      "dtypes: float64(2), int64(1), object(6)\n",
      "memory usage: 5.9+ MB\n"
     ]
    }
   ],
   "source": [
    "# obtaining general information about the data in df\n",
    "df.info()"
   ]
  },
  {
   "cell_type": "markdown",
   "id": "e91f62a7",
   "metadata": {},
   "source": [
    "The table contains nine columns. The majority store the same data type: object. The only exceptions are `'release Year'` (int64 type), `'imdb sc0re'` (float64 type) and `'imdb v0tes'` (float64 type). Scores and votes will be used in our analysis, so it's important to verify that they are present in the dataframe in the appropriate numeric format. Three columns (`'TITLE'`, `'imdb sc0re'` and `'imdb v0tes'`) have missing values.\n",
    "\n",
    "According to the documentation:\n",
    "- `'name'` — actor/director's name and last name\n",
    "- `'Character'` — character played (for actors)\n",
    "- `'r0le '` — the person's contribution to the title (it can be in the capacity of either actor or director)\n",
    "- `'TITLE '` — title of the movie (show)\n",
    "- `'  Type'` — show or movie\n",
    "- `'release Year'` — year when movie (show) was released\n",
    "- `'genres'` — list of genres under which the movie (show) falls\n",
    "- `'imdb sc0re'` — score on IMDb\n",
    "- `'imdb v0tes'` — votes on IMDb\n",
    "\n",
    "We can see three issues with the column names:\n",
    "1. Some names are uppercase, while others are lowercase.\n",
    "2. There are names containing whitespace.\n",
    "3. A few column names have digit '0' instead of letter 'o'. \n"
   ]
  },
  {
   "cell_type": "markdown",
   "id": "4355de7b",
   "metadata": {},
   "source": [
    "### Conclusions <a id='data_review_conclusions'></a> \n",
    "\n",
    "Each row in the table stores data about a movie or show. The columns can be divided into two categories: the first is about the roles held by different people who worked on the movie or show (role, name of the actor or director, and character if the row is about an actor); the second category is information about the movie or show itself (title, release year, genre, imdb figures).\n",
    "\n",
    "It's clear that there is sufficient data to do the analysis and evaluate our assumption. However, to move forward, we need to preprocess the data."
   ]
  },
  {
   "cell_type": "markdown",
   "id": "ab4d4a79",
   "metadata": {},
   "source": [
    "<div class=\"alert alert-success\">\n",
    "<b>Reviewer's comment v1:</b>\n",
    "    \n",
    "Great data overview and correct conclusions. "
   ]
  },
  {
   "cell_type": "markdown",
   "id": "c5dc9111",
   "metadata": {},
   "source": [
    "## Stage 2. Data preprocessing <a id='data_preprocessing'></a>\n",
    "Correct the formatting in the column headers and deal with the missing values. Then, check whether there are duplicates in the data."
   ]
  },
  {
   "cell_type": "code",
   "execution_count": 5,
   "id": "9c850d13",
   "metadata": {},
   "outputs": [
    {
     "data": {
      "text/plain": [
       "Index(['   name', 'Character', 'r0le', 'TITLE', '  Type', 'release Year',\n",
       "       'genres', 'imdb sc0re', 'imdb v0tes'],\n",
       "      dtype='object')"
      ]
     },
     "execution_count": 5,
     "metadata": {},
     "output_type": "execute_result"
    }
   ],
   "source": [
    "# the list of column names in the df table\n",
    "df.columns\n"
   ]
  },
  {
   "cell_type": "markdown",
   "id": "5f966df9",
   "metadata": {},
   "source": [
    "Change the column names according to the rules of good style:\n",
    "* If the name has several words, use snake_case\n",
    "* All characters must be lowercase\n",
    "* Remove whitespace\n",
    "* Replace zero with letter 'o'"
   ]
  },
  {
   "cell_type": "code",
   "execution_count": 6,
   "id": "23a1dc11",
   "metadata": {},
   "outputs": [],
   "source": [
    "# renaming columns\n",
    "df = df.rename(columns={'   name':'name', 'Character':'character', 'r0le':'role', 'TITLE':'title', '  Type':'type', 'release Year':'release_year',\n",
    "       'genres':'genres', 'imdb sc0re':'imdb_score', 'imdb v0tes':'imdb_votes'})"
   ]
  },
  {
   "cell_type": "markdown",
   "id": "464fbd04",
   "metadata": {},
   "source": [
    "Check the result. Print the names of the columns once more:"
   ]
  },
  {
   "cell_type": "code",
   "execution_count": 7,
   "id": "0eb6527f",
   "metadata": {},
   "outputs": [
    {
     "data": {
      "text/plain": [
       "Index(['name', 'character', 'role', 'title', 'type', 'release_year', 'genres',\n",
       "       'imdb_score', 'imdb_votes'],\n",
       "      dtype='object')"
      ]
     },
     "execution_count": 7,
     "metadata": {},
     "output_type": "execute_result"
    }
   ],
   "source": [
    "# checking result: the list of column names\n",
    "df.columns"
   ]
  },
  {
   "cell_type": "markdown",
   "id": "35f3c47a",
   "metadata": {},
   "source": [
    "<div class=\"alert alert-success\">\n",
    "<b>Reviewer's comment v1:</b>\n",
    "    \n",
    "It is great that you correctly applied `rename` function.  As a second approach `replace` function could be used. "
   ]
  },
  {
   "cell_type": "markdown",
   "id": "14d9c319",
   "metadata": {},
   "source": [
    "### Missing values <a id='missing_values'></a>\n",
    "First, find the number of missing values in the table. To do so, combine two `pandas` methods:"
   ]
  },
  {
   "cell_type": "code",
   "execution_count": 8,
   "id": "21c427f2",
   "metadata": {},
   "outputs": [
    {
     "data": {
      "text/plain": [
       "name               0\n",
       "character          0\n",
       "role               0\n",
       "title              1\n",
       "type               0\n",
       "release_year       0\n",
       "genres             0\n",
       "imdb_score      4609\n",
       "imdb_votes      4726\n",
       "dtype: int64"
      ]
     },
     "execution_count": 8,
     "metadata": {},
     "output_type": "execute_result"
    }
   ],
   "source": [
    "# calculating missing values\n",
    "df.isna().sum()\n"
   ]
  },
  {
   "cell_type": "markdown",
   "id": "2f91cd29",
   "metadata": {},
   "source": [
    "<div class=\"alert alert-success\">\n",
    "<b>Reviewer's comment v1</b>\n",
    "    \n",
    "Great that you selected `isna()` method to find missing values! \n",
    "\n",
    "It is also sometimes helpful to check not only the total amount of missing values in each column but also look at the percentage of missing values. It helps to understand the overall impact. You can check percentage using, for example, this code:\n",
    "\n",
    "`df.isnull().sum()/len(df)`"
   ]
  },
  {
   "cell_type": "markdown",
   "id": "c8272df3",
   "metadata": {},
   "source": [
    "We identified missing values in several columns. While the missing value in `'title'` isn't critical, missing values in `'imdb_score'` and `'imdb_votes'` affect around 6% of the data, which could impact our analysis. To ensure data integrity, we'll drop all rows with missing values."
   ]
  },
  {
   "cell_type": "code",
   "execution_count": 9,
   "id": "599d5550",
   "metadata": {},
   "outputs": [],
   "source": [
    "# dropping rows where columns with scores, and votes have missing values\n",
    "df = df.dropna(axis='index')"
   ]
  },
  {
   "cell_type": "markdown",
   "id": "2156887f",
   "metadata": {},
   "source": [
    "Make sure the table doesn't contain any more missing values. Count the missing values again."
   ]
  },
  {
   "cell_type": "code",
   "execution_count": 10,
   "id": "55c0b0ce",
   "metadata": {},
   "outputs": [
    {
     "data": {
      "text/plain": [
       "name            0\n",
       "character       0\n",
       "role            0\n",
       "title           0\n",
       "type            0\n",
       "release_year    0\n",
       "genres          0\n",
       "imdb_score      0\n",
       "imdb_votes      0\n",
       "dtype: int64"
      ]
     },
     "execution_count": 10,
     "metadata": {},
     "output_type": "execute_result"
    }
   ],
   "source": [
    "# counting missing values\n",
    "df.isna().sum()"
   ]
  },
  {
   "cell_type": "markdown",
   "id": "b26fe7df",
   "metadata": {},
   "source": [
    "<div class=\"alert alert-success\">\n",
    "<b>Reviewer's comment v1:</b>\n",
    "    \n",
    "Everything is correct here!"
   ]
  },
  {
   "cell_type": "markdown",
   "id": "a7dc7aa0",
   "metadata": {},
   "source": [
    "### Duplicates <a id='duplicates'></a>\n",
    "Find the number of duplicate rows in the table using one command:"
   ]
  },
  {
   "cell_type": "code",
   "execution_count": 11,
   "id": "9227df01",
   "metadata": {},
   "outputs": [
    {
     "data": {
      "text/plain": [
       "6994"
      ]
     },
     "execution_count": 11,
     "metadata": {},
     "output_type": "execute_result"
    }
   ],
   "source": [
    "# counting duplicate rows\n",
    "df_duplicates = df.duplicated()\n",
    "df_duplicates.sum()"
   ]
  },
  {
   "cell_type": "markdown",
   "id": "5f6eb0fc",
   "metadata": {},
   "source": [
    "Review the duplicate rows to determine if removing them would distort our dataset."
   ]
  },
  {
   "cell_type": "code",
   "execution_count": 12,
   "id": "bcf32fcb",
   "metadata": {},
   "outputs": [
    {
     "data": {
      "text/html": [
       "<div>\n",
       "<style scoped>\n",
       "    .dataframe tbody tr th:only-of-type {\n",
       "        vertical-align: middle;\n",
       "    }\n",
       "\n",
       "    .dataframe tbody tr th {\n",
       "        vertical-align: top;\n",
       "    }\n",
       "\n",
       "    .dataframe thead th {\n",
       "        text-align: right;\n",
       "    }\n",
       "</style>\n",
       "<table border=\"1\" class=\"dataframe\">\n",
       "  <thead>\n",
       "    <tr style=\"text-align: right;\">\n",
       "      <th></th>\n",
       "      <th>name</th>\n",
       "      <th>character</th>\n",
       "      <th>role</th>\n",
       "      <th>title</th>\n",
       "      <th>type</th>\n",
       "      <th>release_year</th>\n",
       "      <th>genres</th>\n",
       "      <th>imdb_score</th>\n",
       "      <th>imdb_votes</th>\n",
       "    </tr>\n",
       "  </thead>\n",
       "  <tbody>\n",
       "    <tr>\n",
       "      <th>85569</th>\n",
       "      <td>Jessica Cediel</td>\n",
       "      <td>Liliana Navarro</td>\n",
       "      <td>ACTOR</td>\n",
       "      <td>Lokillo</td>\n",
       "      <td>MOVIE</td>\n",
       "      <td>2021</td>\n",
       "      <td>['comedy']</td>\n",
       "      <td>3.8</td>\n",
       "      <td>68.0</td>\n",
       "    </tr>\n",
       "    <tr>\n",
       "      <th>85570</th>\n",
       "      <td>Javier Gardeaz?­bal</td>\n",
       "      <td>Agust??n \"Peluca\" Ort??z</td>\n",
       "      <td>ACTOR</td>\n",
       "      <td>Lokillo</td>\n",
       "      <td>MOVIE</td>\n",
       "      <td>2021</td>\n",
       "      <td>['comedy']</td>\n",
       "      <td>3.8</td>\n",
       "      <td>68.0</td>\n",
       "    </tr>\n",
       "    <tr>\n",
       "      <th>85571</th>\n",
       "      <td>Carla Giraldo</td>\n",
       "      <td>Valery Reinoso</td>\n",
       "      <td>ACTOR</td>\n",
       "      <td>Lokillo</td>\n",
       "      <td>MOVIE</td>\n",
       "      <td>2021</td>\n",
       "      <td>['comedy']</td>\n",
       "      <td>3.8</td>\n",
       "      <td>68.0</td>\n",
       "    </tr>\n",
       "    <tr>\n",
       "      <th>85572</th>\n",
       "      <td>Ana Mar??a S?­nchez</td>\n",
       "      <td>Lourdes</td>\n",
       "      <td>ACTOR</td>\n",
       "      <td>Lokillo</td>\n",
       "      <td>MOVIE</td>\n",
       "      <td>2021</td>\n",
       "      <td>['comedy']</td>\n",
       "      <td>3.8</td>\n",
       "      <td>68.0</td>\n",
       "    </tr>\n",
       "    <tr>\n",
       "      <th>85577</th>\n",
       "      <td>Isabel Gaona</td>\n",
       "      <td>Cacica</td>\n",
       "      <td>ACTOR</td>\n",
       "      <td>Lokillo</td>\n",
       "      <td>MOVIE</td>\n",
       "      <td>2021</td>\n",
       "      <td>['comedy']</td>\n",
       "      <td>3.8</td>\n",
       "      <td>68.0</td>\n",
       "    </tr>\n",
       "  </tbody>\n",
       "</table>\n",
       "</div>"
      ],
      "text/plain": [
       "                      name                 character   role    title   type  \\\n",
       "85569       Jessica Cediel           Liliana Navarro  ACTOR  Lokillo  MOVIE   \n",
       "85570  Javier Gardeaz?­bal  Agust??n \"Peluca\" Ort??z  ACTOR  Lokillo  MOVIE   \n",
       "85571        Carla Giraldo            Valery Reinoso  ACTOR  Lokillo  MOVIE   \n",
       "85572  Ana Mar??a S?­nchez                   Lourdes  ACTOR  Lokillo  MOVIE   \n",
       "85577         Isabel Gaona                    Cacica  ACTOR  Lokillo  MOVIE   \n",
       "\n",
       "       release_year      genres  imdb_score  imdb_votes  \n",
       "85569          2021  ['comedy']         3.8        68.0  \n",
       "85570          2021  ['comedy']         3.8        68.0  \n",
       "85571          2021  ['comedy']         3.8        68.0  \n",
       "85572          2021  ['comedy']         3.8        68.0  \n",
       "85577          2021  ['comedy']         3.8        68.0  "
      ]
     },
     "execution_count": 12,
     "metadata": {},
     "output_type": "execute_result"
    }
   ],
   "source": [
    "# Produce table with duplicates (with original rows included) and review last 5 rows\n",
    "df_dup_tbl = df[df.duplicated()]\n",
    "df_dup_tbl.tail(5)"
   ]
  },
  {
   "cell_type": "markdown",
   "id": "a1ed6640",
   "metadata": {},
   "source": [
    "There are two clear duplicates in the printed rows. We can safely remove them.\n",
    "Call the `pandas` method for getting rid of duplicate rows:"
   ]
  },
  {
   "cell_type": "code",
   "execution_count": 13,
   "id": "724d5bc8",
   "metadata": {},
   "outputs": [
    {
     "data": {
      "text/html": [
       "<div>\n",
       "<style scoped>\n",
       "    .dataframe tbody tr th:only-of-type {\n",
       "        vertical-align: middle;\n",
       "    }\n",
       "\n",
       "    .dataframe tbody tr th {\n",
       "        vertical-align: top;\n",
       "    }\n",
       "\n",
       "    .dataframe thead th {\n",
       "        text-align: right;\n",
       "    }\n",
       "</style>\n",
       "<table border=\"1\" class=\"dataframe\">\n",
       "  <thead>\n",
       "    <tr style=\"text-align: right;\">\n",
       "      <th></th>\n",
       "      <th>name</th>\n",
       "      <th>character</th>\n",
       "      <th>role</th>\n",
       "      <th>title</th>\n",
       "      <th>type</th>\n",
       "      <th>release_year</th>\n",
       "      <th>genres</th>\n",
       "      <th>imdb_score</th>\n",
       "      <th>imdb_votes</th>\n",
       "    </tr>\n",
       "  </thead>\n",
       "  <tbody>\n",
       "    <tr>\n",
       "      <th>0</th>\n",
       "      <td>Philip Greene</td>\n",
       "      <td>Baseball Fan (uncredited)</td>\n",
       "      <td>ACTOR</td>\n",
       "      <td>How Do You Know</td>\n",
       "      <td>MOVIE</td>\n",
       "      <td>2010</td>\n",
       "      <td>['comedy', 'drama', 'romance']</td>\n",
       "      <td>5.4</td>\n",
       "      <td>50383.0</td>\n",
       "    </tr>\n",
       "    <tr>\n",
       "      <th>1</th>\n",
       "      <td>Dan Levy</td>\n",
       "      <td>Reporter</td>\n",
       "      <td>ACTOR</td>\n",
       "      <td>A Very Harold &amp; Kumar Christmas</td>\n",
       "      <td>MOVIE</td>\n",
       "      <td>2011</td>\n",
       "      <td>['comedy', 'fantasy', 'romance']</td>\n",
       "      <td>6.2</td>\n",
       "      <td>69562.0</td>\n",
       "    </tr>\n",
       "    <tr>\n",
       "      <th>2</th>\n",
       "      <td>Nicolas Le Nev??</td>\n",
       "      <td>unknown</td>\n",
       "      <td>DIRECTOR</td>\n",
       "      <td>Sammy &amp; Co</td>\n",
       "      <td>SHOW</td>\n",
       "      <td>2014</td>\n",
       "      <td>['animation', 'european']</td>\n",
       "      <td>5.7</td>\n",
       "      <td>31.0</td>\n",
       "    </tr>\n",
       "    <tr>\n",
       "      <th>3</th>\n",
       "      <td>John Iii Franklin</td>\n",
       "      <td>Himself</td>\n",
       "      <td>ACTOR</td>\n",
       "      <td>Last Chance U</td>\n",
       "      <td>SHOW</td>\n",
       "      <td>2016</td>\n",
       "      <td>['documentation', 'sport']</td>\n",
       "      <td>8.4</td>\n",
       "      <td>6897.0</td>\n",
       "    </tr>\n",
       "    <tr>\n",
       "      <th>4</th>\n",
       "      <td>Claudio Roca</td>\n",
       "      <td>Nicol?­s</td>\n",
       "      <td>ACTOR</td>\n",
       "      <td>Narcos: Mexico</td>\n",
       "      <td>SHOW</td>\n",
       "      <td>2018</td>\n",
       "      <td>['drama', 'crime']</td>\n",
       "      <td>8.4</td>\n",
       "      <td>82042.0</td>\n",
       "    </tr>\n",
       "    <tr>\n",
       "      <th>...</th>\n",
       "      <td>...</td>\n",
       "      <td>...</td>\n",
       "      <td>...</td>\n",
       "      <td>...</td>\n",
       "      <td>...</td>\n",
       "      <td>...</td>\n",
       "      <td>...</td>\n",
       "      <td>...</td>\n",
       "      <td>...</td>\n",
       "    </tr>\n",
       "    <tr>\n",
       "      <th>6989</th>\n",
       "      <td>Jessica Cediel</td>\n",
       "      <td>Liliana Navarro</td>\n",
       "      <td>ACTOR</td>\n",
       "      <td>Lokillo</td>\n",
       "      <td>MOVIE</td>\n",
       "      <td>2021</td>\n",
       "      <td>['comedy']</td>\n",
       "      <td>3.8</td>\n",
       "      <td>68.0</td>\n",
       "    </tr>\n",
       "    <tr>\n",
       "      <th>6990</th>\n",
       "      <td>Javier Gardeaz?­bal</td>\n",
       "      <td>Agust??n \"Peluca\" Ort??z</td>\n",
       "      <td>ACTOR</td>\n",
       "      <td>Lokillo</td>\n",
       "      <td>MOVIE</td>\n",
       "      <td>2021</td>\n",
       "      <td>['comedy']</td>\n",
       "      <td>3.8</td>\n",
       "      <td>68.0</td>\n",
       "    </tr>\n",
       "    <tr>\n",
       "      <th>6991</th>\n",
       "      <td>Carla Giraldo</td>\n",
       "      <td>Valery Reinoso</td>\n",
       "      <td>ACTOR</td>\n",
       "      <td>Lokillo</td>\n",
       "      <td>MOVIE</td>\n",
       "      <td>2021</td>\n",
       "      <td>['comedy']</td>\n",
       "      <td>3.8</td>\n",
       "      <td>68.0</td>\n",
       "    </tr>\n",
       "    <tr>\n",
       "      <th>6992</th>\n",
       "      <td>Ana Mar??a S?­nchez</td>\n",
       "      <td>Lourdes</td>\n",
       "      <td>ACTOR</td>\n",
       "      <td>Lokillo</td>\n",
       "      <td>MOVIE</td>\n",
       "      <td>2021</td>\n",
       "      <td>['comedy']</td>\n",
       "      <td>3.8</td>\n",
       "      <td>68.0</td>\n",
       "    </tr>\n",
       "    <tr>\n",
       "      <th>6993</th>\n",
       "      <td>Isabel Gaona</td>\n",
       "      <td>Cacica</td>\n",
       "      <td>ACTOR</td>\n",
       "      <td>Lokillo</td>\n",
       "      <td>MOVIE</td>\n",
       "      <td>2021</td>\n",
       "      <td>['comedy']</td>\n",
       "      <td>3.8</td>\n",
       "      <td>68.0</td>\n",
       "    </tr>\n",
       "  </tbody>\n",
       "</table>\n",
       "<p>6994 rows × 9 columns</p>\n",
       "</div>"
      ],
      "text/plain": [
       "                     name                  character      role  \\\n",
       "0           Philip Greene  Baseball Fan (uncredited)     ACTOR   \n",
       "1                Dan Levy                   Reporter     ACTOR   \n",
       "2        Nicolas Le Nev??                    unknown  DIRECTOR   \n",
       "3       John Iii Franklin                    Himself     ACTOR   \n",
       "4            Claudio Roca                   Nicol?­s     ACTOR   \n",
       "...                   ...                        ...       ...   \n",
       "6989       Jessica Cediel            Liliana Navarro     ACTOR   \n",
       "6990  Javier Gardeaz?­bal   Agust??n \"Peluca\" Ort??z     ACTOR   \n",
       "6991        Carla Giraldo             Valery Reinoso     ACTOR   \n",
       "6992  Ana Mar??a S?­nchez                    Lourdes     ACTOR   \n",
       "6993         Isabel Gaona                     Cacica     ACTOR   \n",
       "\n",
       "                                title   type  release_year  \\\n",
       "0                     How Do You Know  MOVIE          2010   \n",
       "1     A Very Harold & Kumar Christmas  MOVIE          2011   \n",
       "2                          Sammy & Co   SHOW          2014   \n",
       "3                       Last Chance U   SHOW          2016   \n",
       "4                      Narcos: Mexico   SHOW          2018   \n",
       "...                               ...    ...           ...   \n",
       "6989                          Lokillo  MOVIE          2021   \n",
       "6990                          Lokillo  MOVIE          2021   \n",
       "6991                          Lokillo  MOVIE          2021   \n",
       "6992                          Lokillo  MOVIE          2021   \n",
       "6993                          Lokillo  MOVIE          2021   \n",
       "\n",
       "                                genres  imdb_score  imdb_votes  \n",
       "0       ['comedy', 'drama', 'romance']         5.4     50383.0  \n",
       "1     ['comedy', 'fantasy', 'romance']         6.2     69562.0  \n",
       "2            ['animation', 'european']         5.7        31.0  \n",
       "3           ['documentation', 'sport']         8.4      6897.0  \n",
       "4                   ['drama', 'crime']         8.4     82042.0  \n",
       "...                                ...         ...         ...  \n",
       "6989                        ['comedy']         3.8        68.0  \n",
       "6990                        ['comedy']         3.8        68.0  \n",
       "6991                        ['comedy']         3.8        68.0  \n",
       "6992                        ['comedy']         3.8        68.0  \n",
       "6993                        ['comedy']         3.8        68.0  \n",
       "\n",
       "[6994 rows x 9 columns]"
      ]
     },
     "execution_count": 13,
     "metadata": {},
     "output_type": "execute_result"
    }
   ],
   "source": [
    "# removing duplicate rows\n",
    "df_dup_tbl.drop_duplicates().reset_index(drop=True)"
   ]
  },
  {
   "cell_type": "markdown",
   "id": "8d0e1e07",
   "metadata": {},
   "source": [
    "<div class=\"alert alert-warning\">\n",
    "<b>Reviewer's comment v1</b>\n",
    "    \n",
    "Note that it is also required additionally to re-create the indexes in your dataframe. To achieve that, you can use `reset_index()`.\n",
    "    \n",
    "Without that, the index column will not be ordinal anymore, as `drop_duplicates()` deleted some lines, hence the dataframe becomes less informative.\n",
    "    \n",
    "    \n",
    "You can read about it here: https://pandas.pydata.org/docs/reference/api/pandas.DataFrame.reset_index.html\n",
    "    \n",
    "And parameter `drop=True` could be helpful to rewrite existent index instead of creating a second ordinal column.\n"
   ]
  },
  {
   "cell_type": "markdown",
   "id": "fc8c77ba",
   "metadata": {},
   "source": [
    "Check for duplicate rows once more to make sure you have removed all of them:"
   ]
  },
  {
   "cell_type": "code",
   "execution_count": 14,
   "id": "8091a9bc",
   "metadata": {},
   "outputs": [
    {
     "data": {
      "text/plain": [
       "0"
      ]
     },
     "execution_count": 14,
     "metadata": {},
     "output_type": "execute_result"
    }
   ],
   "source": [
    "# checking for duplicates\n",
    "df_dup_tbl.duplicated().sum()"
   ]
  },
  {
   "cell_type": "markdown",
   "id": "2c2caa99",
   "metadata": {},
   "source": [
    "<div class=\"alert alert-success\">\n",
    "<b>Reviewer's comment v1</b>\n",
    "\n",
    "Well done! "
   ]
  },
  {
   "cell_type": "markdown",
   "id": "1d802b07",
   "metadata": {},
   "source": [
    "Now get rid of implicit duplicates in the `'type'` column. For example, the string `'SHOW'` can be written in different ways. These kinds of errors will also affect the result."
   ]
  },
  {
   "cell_type": "markdown",
   "id": "d5f987ed",
   "metadata": {},
   "source": [
    "Print a list of unique `'type'` names, sorted in alphabetical order. To do so:\n",
    "* Retrieve the intended dataframe column \n",
    "* Apply a sorting method to it\n",
    "* For the sorted column, call the method that will return all unique column values"
   ]
  },
  {
   "cell_type": "code",
   "execution_count": 15,
   "id": "3d7b0ac5",
   "metadata": {},
   "outputs": [
    {
     "data": {
      "text/plain": [
       "array(['MOVIE', 'SHOW'], dtype=object)"
      ]
     },
     "execution_count": 15,
     "metadata": {},
     "output_type": "execute_result"
    }
   ],
   "source": [
    "# viewing unique type names\n",
    "df_dup_tbl.sort_values(by='type', ascending=True)\n",
    "df_dup_tbl['type'].unique()"
   ]
  },
  {
   "cell_type": "markdown",
   "id": "ac6e8b18",
   "metadata": {},
   "source": [
    "Look through the list to find implicit duplicates of `'show'` (`'movie'` duplicates will be ignored since the assumption is about shows). These could be names written incorrectly or alternative names of the same genre.\n",
    "\n",
    "You will see the following implicit duplicates:\n",
    "* `'shows'`\n",
    "* `'SHOW'`\n",
    "* `'tv show'`\n",
    "* `'tv shows'`\n",
    "* `'tv series'`\n",
    "* `'tv'`\n",
    "\n",
    "To get rid of them, declare the function `replace_wrong_show()` with two parameters: \n",
    "* `wrong_shows_list=` — the list of duplicates\n",
    "* `correct_show=` — the string with the correct value\n",
    "\n",
    "The function should correct the names in the `'type'` column from the `df` table (i.e., replace each value from the `wrong_shows_list` list with the value in `correct_show`)."
   ]
  },
  {
   "cell_type": "code",
   "execution_count": 16,
   "id": "bff944f9",
   "metadata": {},
   "outputs": [],
   "source": [
    "# function for replacing implicit duplicates\n",
    "wrong_shows_list = ['shows','SHOW','tv show','tv shows','tv series','tv']\n",
    "correct_show = 'SHOW'\n",
    "def replace_wrong_show(wrong_shows_list, correct_show):\n",
    "    df.loc[:, ('type')] =  df.loc[:, ('type')].replace(wrong_shows_list, correct_show)\n",
    "    return df"
   ]
  },
  {
   "cell_type": "markdown",
   "id": "d02d13a6",
   "metadata": {},
   "source": [
    "Call `replace_wrong_show()` and pass it arguments so that it clears implicit duplicates and replaces them with `SHOW`:"
   ]
  },
  {
   "cell_type": "code",
   "execution_count": 17,
   "id": "a2217e53",
   "metadata": {},
   "outputs": [
    {
     "data": {
      "text/html": [
       "<div>\n",
       "<style scoped>\n",
       "    .dataframe tbody tr th:only-of-type {\n",
       "        vertical-align: middle;\n",
       "    }\n",
       "\n",
       "    .dataframe tbody tr th {\n",
       "        vertical-align: top;\n",
       "    }\n",
       "\n",
       "    .dataframe thead th {\n",
       "        text-align: right;\n",
       "    }\n",
       "</style>\n",
       "<table border=\"1\" class=\"dataframe\">\n",
       "  <thead>\n",
       "    <tr style=\"text-align: right;\">\n",
       "      <th></th>\n",
       "      <th>name</th>\n",
       "      <th>character</th>\n",
       "      <th>role</th>\n",
       "      <th>title</th>\n",
       "      <th>type</th>\n",
       "      <th>release_year</th>\n",
       "      <th>genres</th>\n",
       "      <th>imdb_score</th>\n",
       "      <th>imdb_votes</th>\n",
       "    </tr>\n",
       "  </thead>\n",
       "  <tbody>\n",
       "    <tr>\n",
       "      <th>0</th>\n",
       "      <td>Robert De Niro</td>\n",
       "      <td>Travis Bickle</td>\n",
       "      <td>ACTOR</td>\n",
       "      <td>Taxi Driver</td>\n",
       "      <td>MOVIE</td>\n",
       "      <td>1976</td>\n",
       "      <td>['drama', 'crime']</td>\n",
       "      <td>8.2</td>\n",
       "      <td>808582.0</td>\n",
       "    </tr>\n",
       "    <tr>\n",
       "      <th>1</th>\n",
       "      <td>Jodie Foster</td>\n",
       "      <td>Iris Steensma</td>\n",
       "      <td>ACTOR</td>\n",
       "      <td>Taxi Driver</td>\n",
       "      <td>MOVIE</td>\n",
       "      <td>1976</td>\n",
       "      <td>['drama', 'crime']</td>\n",
       "      <td>8.2</td>\n",
       "      <td>808582.0</td>\n",
       "    </tr>\n",
       "    <tr>\n",
       "      <th>2</th>\n",
       "      <td>Albert Brooks</td>\n",
       "      <td>Tom</td>\n",
       "      <td>ACTOR</td>\n",
       "      <td>Taxi Driver</td>\n",
       "      <td>MOVIE</td>\n",
       "      <td>1976</td>\n",
       "      <td>['drama', 'crime']</td>\n",
       "      <td>8.2</td>\n",
       "      <td>808582.0</td>\n",
       "    </tr>\n",
       "    <tr>\n",
       "      <th>3</th>\n",
       "      <td>Harvey Keitel</td>\n",
       "      <td>Matthew 'Sport' Higgins</td>\n",
       "      <td>ACTOR</td>\n",
       "      <td>Taxi Driver</td>\n",
       "      <td>MOVIE</td>\n",
       "      <td>1976</td>\n",
       "      <td>['drama', 'crime']</td>\n",
       "      <td>8.2</td>\n",
       "      <td>808582.0</td>\n",
       "    </tr>\n",
       "    <tr>\n",
       "      <th>4</th>\n",
       "      <td>Cybill Shepherd</td>\n",
       "      <td>Betsy</td>\n",
       "      <td>ACTOR</td>\n",
       "      <td>Taxi Driver</td>\n",
       "      <td>MOVIE</td>\n",
       "      <td>1976</td>\n",
       "      <td>['drama', 'crime']</td>\n",
       "      <td>8.2</td>\n",
       "      <td>808582.0</td>\n",
       "    </tr>\n",
       "    <tr>\n",
       "      <th>...</th>\n",
       "      <td>...</td>\n",
       "      <td>...</td>\n",
       "      <td>...</td>\n",
       "      <td>...</td>\n",
       "      <td>...</td>\n",
       "      <td>...</td>\n",
       "      <td>...</td>\n",
       "      <td>...</td>\n",
       "      <td>...</td>\n",
       "    </tr>\n",
       "    <tr>\n",
       "      <th>85574</th>\n",
       "      <td>Adelaida Buscato</td>\n",
       "      <td>Mar??a Paz</td>\n",
       "      <td>ACTOR</td>\n",
       "      <td>Lokillo</td>\n",
       "      <td>the movie</td>\n",
       "      <td>2021</td>\n",
       "      <td>['comedy']</td>\n",
       "      <td>3.8</td>\n",
       "      <td>68.0</td>\n",
       "    </tr>\n",
       "    <tr>\n",
       "      <th>85575</th>\n",
       "      <td>Luz Stella Luengas</td>\n",
       "      <td>Karen Bayona</td>\n",
       "      <td>ACTOR</td>\n",
       "      <td>Lokillo</td>\n",
       "      <td>the movie</td>\n",
       "      <td>2021</td>\n",
       "      <td>['comedy']</td>\n",
       "      <td>3.8</td>\n",
       "      <td>68.0</td>\n",
       "    </tr>\n",
       "    <tr>\n",
       "      <th>85576</th>\n",
       "      <td>In??s Prieto</td>\n",
       "      <td>Fanny</td>\n",
       "      <td>ACTOR</td>\n",
       "      <td>Lokillo</td>\n",
       "      <td>the movie</td>\n",
       "      <td>2021</td>\n",
       "      <td>['comedy']</td>\n",
       "      <td>3.8</td>\n",
       "      <td>68.0</td>\n",
       "    </tr>\n",
       "    <tr>\n",
       "      <th>85577</th>\n",
       "      <td>Isabel Gaona</td>\n",
       "      <td>Cacica</td>\n",
       "      <td>ACTOR</td>\n",
       "      <td>Lokillo</td>\n",
       "      <td>MOVIE</td>\n",
       "      <td>2021</td>\n",
       "      <td>['comedy']</td>\n",
       "      <td>3.8</td>\n",
       "      <td>68.0</td>\n",
       "    </tr>\n",
       "    <tr>\n",
       "      <th>85578</th>\n",
       "      <td>Julian Gaviria</td>\n",
       "      <td>unknown</td>\n",
       "      <td>DIRECTOR</td>\n",
       "      <td>Lokillo</td>\n",
       "      <td>the movie</td>\n",
       "      <td>2021</td>\n",
       "      <td>['comedy']</td>\n",
       "      <td>3.8</td>\n",
       "      <td>68.0</td>\n",
       "    </tr>\n",
       "  </tbody>\n",
       "</table>\n",
       "<p>80853 rows × 9 columns</p>\n",
       "</div>"
      ],
      "text/plain": [
       "                     name                character      role        title  \\\n",
       "0          Robert De Niro            Travis Bickle     ACTOR  Taxi Driver   \n",
       "1            Jodie Foster            Iris Steensma     ACTOR  Taxi Driver   \n",
       "2           Albert Brooks                      Tom     ACTOR  Taxi Driver   \n",
       "3           Harvey Keitel  Matthew 'Sport' Higgins     ACTOR  Taxi Driver   \n",
       "4         Cybill Shepherd                    Betsy     ACTOR  Taxi Driver   \n",
       "...                   ...                      ...       ...          ...   \n",
       "85574    Adelaida Buscato               Mar??a Paz     ACTOR      Lokillo   \n",
       "85575  Luz Stella Luengas             Karen Bayona     ACTOR      Lokillo   \n",
       "85576        In??s Prieto                    Fanny     ACTOR      Lokillo   \n",
       "85577        Isabel Gaona                   Cacica     ACTOR      Lokillo   \n",
       "85578      Julian Gaviria                  unknown  DIRECTOR      Lokillo   \n",
       "\n",
       "            type  release_year              genres  imdb_score  imdb_votes  \n",
       "0          MOVIE          1976  ['drama', 'crime']         8.2    808582.0  \n",
       "1          MOVIE          1976  ['drama', 'crime']         8.2    808582.0  \n",
       "2          MOVIE          1976  ['drama', 'crime']         8.2    808582.0  \n",
       "3          MOVIE          1976  ['drama', 'crime']         8.2    808582.0  \n",
       "4          MOVIE          1976  ['drama', 'crime']         8.2    808582.0  \n",
       "...          ...           ...                 ...         ...         ...  \n",
       "85574  the movie          2021          ['comedy']         3.8        68.0  \n",
       "85575  the movie          2021          ['comedy']         3.8        68.0  \n",
       "85576  the movie          2021          ['comedy']         3.8        68.0  \n",
       "85577      MOVIE          2021          ['comedy']         3.8        68.0  \n",
       "85578  the movie          2021          ['comedy']         3.8        68.0  \n",
       "\n",
       "[80853 rows x 9 columns]"
      ]
     },
     "execution_count": 17,
     "metadata": {},
     "output_type": "execute_result"
    }
   ],
   "source": [
    "# removing implicit duplicates\n",
    "df_dup_tbl = replace_wrong_show(wrong_shows_list, correct_show)\n",
    "df_dup_tbl"
   ]
  },
  {
   "cell_type": "markdown",
   "id": "318b09f7",
   "metadata": {},
   "source": [
    "Make sure the duplicate names are removed. Print the list of unique values from the `'type'` column:"
   ]
  },
  {
   "cell_type": "code",
   "execution_count": 18,
   "id": "25d49d73",
   "metadata": {},
   "outputs": [
    {
     "data": {
      "text/plain": [
       "array(['MOVIE', 'the movie', 'SHOW', 'movies'], dtype=object)"
      ]
     },
     "execution_count": 18,
     "metadata": {},
     "output_type": "execute_result"
    }
   ],
   "source": [
    "# viewing unique genre names\n",
    "df_dup_tbl['type'].unique()"
   ]
  },
  {
   "cell_type": "markdown",
   "id": "ff3be38f",
   "metadata": {},
   "source": [
    "<div class=\"alert alert-success\">\n",
    "<b>Reviewer's comment v2</b>\n",
    "    \n",
    "Your function works perfectly fine.\n",
    "    \n",
    "Btw you can also just pass values in your function:\n",
    "    \n",
    "`replace_wrong_genres(['tv show','shows','movies','tv shows','tv series'], 'SHOW')`\n",
    "    "
   ]
  },
  {
   "cell_type": "markdown",
   "id": "18b2049e",
   "metadata": {},
   "source": [
    "### Conclusions <a id='data_preprocessing_conclusions'></a>\n",
    "We detected three issues with the data:\n",
    "\n",
    "- Incorrect header styles\n",
    "- Missing values\n",
    "- Duplicate rows and implicit duplicates\n",
    "\n",
    "The headers have been cleaned up to make processing the table simpler.\n",
    "\n",
    "All rows with missing values have been removed. \n",
    "\n",
    "The absence of duplicates will make the results more precise and easier to understand.\n",
    "\n",
    "Now we can move on to our analysis of the prepared data."
   ]
  },
  {
   "cell_type": "markdown",
   "id": "bf0e86d0",
   "metadata": {},
   "source": [
    "<div class=\"alert alert-danger\">\n",
    "<b>Reviewer's comment v1</b>\n",
    "    \n",
    "In this step, you need to use the latest DataFrame, `df_dup_tbl`, where missing values and duplicates have been removed.\n",
    "  \n",
    "I tried using the \"df_dup_tbl\" dataframe within the function and received some type of error along with this link when I run the next kernel the calls the function:https://pandas.pydata.org/pandas-docs/stable/user_guide/indexing.html#returning-a-view-versus-a-copy.\n",
    "I read through the documentation and it seems that I have to use the original dataframe and using/referencing a copy of it isn't allowed. I may have misread it. I appreciate your feedback and guidance."
   ]
  },
  {
   "cell_type": "markdown",
   "id": "1aa0f1b1",
   "metadata": {},
   "source": [
    "## Stage 3. Data analysis <a id='hypotheses'></a>"
   ]
  },
  {
   "cell_type": "markdown",
   "id": "f8fb6a0e",
   "metadata": {},
   "source": [
    "Based on the previous project stages, you can now define how the assumption will be checked. Calculate the average amount of votes for each score (this data is available in the `imdb_score` and `imdb_votes` columns), and then check how these averages relate to each other. If the averages for shows with the highest scores are bigger than those for shows with lower scores, the assumption appears to be true.\n",
    "\n",
    "Based on this, complete the following steps:\n",
    "\n",
    "- Filter the dataframe to only include shows released in 1999 or later.\n",
    "- Group scores into buckets by rounding the values of the appropriate column (a set of 1-10 integers will help us make the outcome of our calculations more evident without damaging the quality of our research).\n",
    "- Identify outliers among scores based on their number of votes, and exclude scores with few votes.\n",
    "- Calculate the average votes for each score and check whether the assumption matches the results."
   ]
  },
  {
   "cell_type": "markdown",
   "id": "0ea2cb51",
   "metadata": {},
   "source": [
    "To filter the dataframe and only include shows released in 1999 or later, you will take two steps. First, keep only titles published in 1999 or later in our dataframe. Then, filter the table to only contain shows (movies will be removed)."
   ]
  },
  {
   "cell_type": "code",
   "execution_count": 19,
   "id": "6a704aa1",
   "metadata": {},
   "outputs": [],
   "source": [
    "# using conditional indexing modify df so it has only titles released after 1999 (with 1999 included)\n",
    "# give the slice of dataframe new name\n",
    "after_1999_titles = df_dup_tbl[df_dup_tbl['release_year'] >= 1999]\n"
   ]
  },
  {
   "cell_type": "code",
   "execution_count": 20,
   "id": "128dc6a9",
   "metadata": {
    "scrolled": true
   },
   "outputs": [],
   "source": [
    "# repeat conditional indexing so df has only shows (movies are removed as result)\n",
    "after_1999_titles = after_1999_titles[after_1999_titles['type'] == 'SHOW']\n"
   ]
  },
  {
   "cell_type": "markdown",
   "id": "6500da9b",
   "metadata": {},
   "source": [
    "<div class=\"alert alert-success\">\n",
    "<b>Reviewer's comment v2</b>\n",
    "\n",
    "You've filterd the data required data correctly. \n",
    "\n",
    "\n",
    "Additionally there are other methods that could be helpful to filter your data, for example:`query()`.\n",
    "\n",
    "    \n",
    "`df = df.query('type == \"SHOW\"')`\n",
    "    \n",
    "You can read about them additionally here: \n",
    "https://towardsdatascience.com/10-examples-that-will-make-you-use-pandas-query-function-more-often-a8fb3e9361cb\n",
    "https://towardsdatascience.com/how-to-use-loc-and-iloc-for-selecting-data-in-pandas-bd09cb4c3d79    \n"
   ]
  },
  {
   "cell_type": "markdown",
   "id": "7918b27b",
   "metadata": {},
   "source": [
    "<div class=\"alert alert-info\"> \n",
    "<b>Student comments:</b>    \n",
    "I was wondering once my project has been successfully submitted, will I still have access to your comments?"
   ]
  },
  {
   "cell_type": "markdown",
   "id": "f75b1221",
   "metadata": {},
   "source": [
    "<div class=\"alert alert-success\">\n",
    "<b>Reviewer's comment v3</b>\n",
    "\n",
    "Yes, it will have all comments from previous iterations."
   ]
  },
  {
   "cell_type": "markdown",
   "id": "7ce07af7",
   "metadata": {},
   "source": [
    "<div class=\"alert alert-danger\">\n",
    "<b>Reviewer's comment v1</b>\n",
    "    \n",
    "The same comment here. Also in the second filtering the result of the first step should be used instead of the originial dataframe `df`"
   ]
  },
  {
   "cell_type": "markdown",
   "id": "9648040c",
   "metadata": {},
   "source": [
    "The scores that are to be grouped should be rounded. For instance, titles with scores like 7.8, 8.1, and 8.3 will all be placed in the same bucket with a score of 8."
   ]
  },
  {
   "cell_type": "code",
   "execution_count": 21,
   "id": "54bbd5c0",
   "metadata": {},
   "outputs": [
    {
     "data": {
      "text/html": [
       "<div>\n",
       "<style scoped>\n",
       "    .dataframe tbody tr th:only-of-type {\n",
       "        vertical-align: middle;\n",
       "    }\n",
       "\n",
       "    .dataframe tbody tr th {\n",
       "        vertical-align: top;\n",
       "    }\n",
       "\n",
       "    .dataframe thead th {\n",
       "        text-align: right;\n",
       "    }\n",
       "</style>\n",
       "<table border=\"1\" class=\"dataframe\">\n",
       "  <thead>\n",
       "    <tr style=\"text-align: right;\">\n",
       "      <th></th>\n",
       "      <th>name</th>\n",
       "      <th>character</th>\n",
       "      <th>role</th>\n",
       "      <th>title</th>\n",
       "      <th>type</th>\n",
       "      <th>release_year</th>\n",
       "      <th>genres</th>\n",
       "      <th>imdb_score</th>\n",
       "      <th>imdb_votes</th>\n",
       "    </tr>\n",
       "  </thead>\n",
       "  <tbody>\n",
       "    <tr>\n",
       "      <th>85433</th>\n",
       "      <td>Maneerat Kam-Uan</td>\n",
       "      <td>Ae</td>\n",
       "      <td>ACTOR</td>\n",
       "      <td>Let's Eat</td>\n",
       "      <td>SHOW</td>\n",
       "      <td>2021</td>\n",
       "      <td>['drama', 'comedy']</td>\n",
       "      <td>8.0</td>\n",
       "      <td>5.0</td>\n",
       "    </tr>\n",
       "    <tr>\n",
       "      <th>85434</th>\n",
       "      <td>Rudklao Amratisha</td>\n",
       "      <td>unknown</td>\n",
       "      <td>ACTOR</td>\n",
       "      <td>Let's Eat</td>\n",
       "      <td>SHOW</td>\n",
       "      <td>2021</td>\n",
       "      <td>['drama', 'comedy']</td>\n",
       "      <td>8.0</td>\n",
       "      <td>5.0</td>\n",
       "    </tr>\n",
       "    <tr>\n",
       "      <th>85435</th>\n",
       "      <td>Jaturong Mokjok</td>\n",
       "      <td>unknown</td>\n",
       "      <td>ACTOR</td>\n",
       "      <td>Let's Eat</td>\n",
       "      <td>SHOW</td>\n",
       "      <td>2021</td>\n",
       "      <td>['drama', 'comedy']</td>\n",
       "      <td>8.0</td>\n",
       "      <td>5.0</td>\n",
       "    </tr>\n",
       "    <tr>\n",
       "      <th>85436</th>\n",
       "      <td>Pisamai Wilaisak</td>\n",
       "      <td>unknown</td>\n",
       "      <td>ACTOR</td>\n",
       "      <td>Let's Eat</td>\n",
       "      <td>SHOW</td>\n",
       "      <td>2021</td>\n",
       "      <td>['drama', 'comedy']</td>\n",
       "      <td>8.0</td>\n",
       "      <td>5.0</td>\n",
       "    </tr>\n",
       "    <tr>\n",
       "      <th>85437</th>\n",
       "      <td>Sarawut Wichiensarn</td>\n",
       "      <td>unknown</td>\n",
       "      <td>DIRECTOR</td>\n",
       "      <td>Let's Eat</td>\n",
       "      <td>SHOW</td>\n",
       "      <td>2021</td>\n",
       "      <td>['drama', 'comedy']</td>\n",
       "      <td>8.0</td>\n",
       "      <td>5.0</td>\n",
       "    </tr>\n",
       "  </tbody>\n",
       "</table>\n",
       "</div>"
      ],
      "text/plain": [
       "                      name character      role      title  type  release_year  \\\n",
       "85433     Maneerat Kam-Uan        Ae     ACTOR  Let's Eat  SHOW          2021   \n",
       "85434    Rudklao Amratisha   unknown     ACTOR  Let's Eat  SHOW          2021   \n",
       "85435      Jaturong Mokjok   unknown     ACTOR  Let's Eat  SHOW          2021   \n",
       "85436     Pisamai Wilaisak   unknown     ACTOR  Let's Eat  SHOW          2021   \n",
       "85437  Sarawut Wichiensarn   unknown  DIRECTOR  Let's Eat  SHOW          2021   \n",
       "\n",
       "                    genres  imdb_score  imdb_votes  \n",
       "85433  ['drama', 'comedy']         8.0         5.0  \n",
       "85434  ['drama', 'comedy']         8.0         5.0  \n",
       "85435  ['drama', 'comedy']         8.0         5.0  \n",
       "85436  ['drama', 'comedy']         8.0         5.0  \n",
       "85437  ['drama', 'comedy']         8.0         5.0  "
      ]
     },
     "execution_count": 21,
     "metadata": {},
     "output_type": "execute_result"
    }
   ],
   "source": [
    "# rounding column with scores\n",
    "after_1999_titles.loc[:, ('imdb_score')] = after_1999_titles.loc[:, ('imdb_score')].round()\n",
    "#checking the outcome with tail()\n",
    "after_1999_titles.tail()"
   ]
  },
  {
   "cell_type": "markdown",
   "id": "36dbd00a",
   "metadata": {},
   "source": [
    "It is now time to identify outliers based on the number of votes."
   ]
  },
  {
   "cell_type": "code",
   "execution_count": 22,
   "id": "b8b55e95",
   "metadata": {},
   "outputs": [
    {
     "data": {
      "text/plain": [
       "imdb_score\n",
       "2.0       24\n",
       "3.0       27\n",
       "4.0      174\n",
       "5.0      581\n",
       "6.0     2365\n",
       "7.0     4342\n",
       "8.0     4194\n",
       "9.0      542\n",
       "10.0       8\n",
       "Name: name, dtype: int64"
      ]
     },
     "execution_count": 22,
     "metadata": {},
     "output_type": "execute_result"
    }
   ],
   "source": [
    "# Use groupby() for scores and count all unique values in each group, print the result\n",
    "after_1999_titles.groupby('imdb_score')['name'].nunique()\n"
   ]
  },
  {
   "cell_type": "markdown",
   "id": "2272afeb",
   "metadata": {},
   "source": [
    "<div class=\"alert alert-danger\">\n",
    "<b>Reviewer's comment v1</b>\n",
    "\n",
    "You are grouping by the `imdb_score` column and counting all other columns (such as name, character, role, etc.). Since each row corresponds to a unique show and there are no missing values in those columns, the result shows identical counts across all columns. This redundancy makes the output appear cluttered.\n",
    "\n",
    "To reduce this redundancy and make the output cleaner, you could modify the code to count only one relevant column, such as `name` (which typically represents the unique shows).\n",
    "    \n",
    "    \n",
    "```\n",
    "df_grouped = period_df.groupby('imdb_score')['name'].count()\n",
    "df_grouped\n",
    "```\n",
    "    "
   ]
  },
  {
   "cell_type": "markdown",
   "id": "1ba6daae",
   "metadata": {},
   "source": [
    "Based on the aggregation performed, it is evident that scores 2 (24 voted shows), 3 (27 voted shows), and 10 (only 8 voted shows) are outliers. There isn't enough data for these scores for the average number of votes to be meaningful."
   ]
  },
  {
   "cell_type": "markdown",
   "id": "bd468c46",
   "metadata": {},
   "source": [
    "To obtain the mean numbers of votes for the selected scores (we identified a range of 4-9 as acceptable), use conditional filtering and grouping."
   ]
  },
  {
   "cell_type": "markdown",
   "id": "6691302e",
   "metadata": {},
   "source": [
    "<div class=\"alert alert-danger\">\n",
    "<b>Reviewer's comment v2</b>\n",
    "\n",
    "At this step you need to use `after_1999_titles` dataframe instead of the original one `df`. \n",
    "    \n",
    "Could you please update last two steps in this section?"
   ]
  },
  {
   "cell_type": "markdown",
   "id": "af67cfd3",
   "metadata": {},
   "source": [
    "<div class=\"alert alert-info\"> \n",
    "<b>Student comments:</b>\n",
    "I'm curious as to why I'm getting the following errors, do you think I need to use the .loc indexing method?"
   ]
  },
  {
   "cell_type": "code",
   "execution_count": 23,
   "id": "d1867e0e",
   "metadata": {},
   "outputs": [],
   "source": [
    "# filter dataframe using two conditions (scores to be in the range 4-9)\n",
    "after_1999_titles = after_1999_titles[after_1999_titles['imdb_score'] >= 4.0]\n",
    "after_1999_titles = after_1999_titles[after_1999_titles['imdb_score'] <= 9.0]\n",
    "# group scores and corresponding average number of votes, reset index and print the result\n",
    "\n",
    "after_1999_titles = after_1999_titles.groupby('imdb_score').mean('imdb_votes').reset_index()"
   ]
  },
  {
   "cell_type": "markdown",
   "id": "9e326312",
   "metadata": {},
   "source": [
    "<div class=\"alert alert-danger\">\n",
    "<b>Reviewer's comment v3</b>\n",
    "\n",
    "The error occurs because the data in `after_1999_titles` is currently a Series.\n",
    "\n",
    "In the step above, we need to retain the original DataFrame so that `after_1999_titles` can be used for additional filtering and aggregations.\n",
    "\n",
    "```\n",
    "# Use groupby() for scores and count all unique values in each group, print the result\n",
    "groupped_df = after_1999_titles.groupby('imdb_score')['name'].nunique()\n",
    "groupped_df\n",
    "    \n",
    "after_1999_titles = after_1999_titles[after_1999_titles['imdb_score'] >= 4.0]\n",
    "after_1999_titles = after_1999_titles[after_1999_titles.loc['imdb_score'] <= 9.0]\n",
    "...\n",
    "                                                                                \n",
    "```\n",
    "\n",
    "Alternatively, you can convert it into a DataFrame to facilitate grouping and aggregation:\n",
    "    \n",
    "```\n",
    "df = after_1999_titles.reset_index()\n",
    "df.columns = ['imdb_score', 'imdb_votes']\n",
    "```"
   ]
  },
  {
   "cell_type": "markdown",
   "id": "96a66d14",
   "metadata": {},
   "source": [
    "Now for the final step! Round the column with the averages, rename both columns, and print the dataframe in descending order."
   ]
  },
  {
   "cell_type": "code",
   "execution_count": 24,
   "id": "5999051b",
   "metadata": {},
   "outputs": [
    {
     "data": {
      "text/html": [
       "<div>\n",
       "<style scoped>\n",
       "    .dataframe tbody tr th:only-of-type {\n",
       "        vertical-align: middle;\n",
       "    }\n",
       "\n",
       "    .dataframe tbody tr th {\n",
       "        vertical-align: top;\n",
       "    }\n",
       "\n",
       "    .dataframe thead th {\n",
       "        text-align: right;\n",
       "    }\n",
       "</style>\n",
       "<table border=\"1\" class=\"dataframe\">\n",
       "  <thead>\n",
       "    <tr style=\"text-align: right;\">\n",
       "      <th></th>\n",
       "      <th>rd_imdb_score</th>\n",
       "      <th>release_year</th>\n",
       "      <th>avg_imdb_votes</th>\n",
       "    </tr>\n",
       "  </thead>\n",
       "  <tbody>\n",
       "    <tr>\n",
       "      <th>5</th>\n",
       "      <td>9.0</td>\n",
       "      <td>2015.542024</td>\n",
       "      <td>121401.0</td>\n",
       "    </tr>\n",
       "    <tr>\n",
       "      <th>4</th>\n",
       "      <td>8.0</td>\n",
       "      <td>2017.396154</td>\n",
       "      <td>28362.0</td>\n",
       "    </tr>\n",
       "    <tr>\n",
       "      <th>3</th>\n",
       "      <td>7.0</td>\n",
       "      <td>2018.431605</td>\n",
       "      <td>8012.0</td>\n",
       "    </tr>\n",
       "    <tr>\n",
       "      <th>0</th>\n",
       "      <td>4.0</td>\n",
       "      <td>2018.742222</td>\n",
       "      <td>6544.0</td>\n",
       "    </tr>\n",
       "    <tr>\n",
       "      <th>2</th>\n",
       "      <td>6.0</td>\n",
       "      <td>2019.075687</td>\n",
       "      <td>3169.0</td>\n",
       "    </tr>\n",
       "    <tr>\n",
       "      <th>1</th>\n",
       "      <td>5.0</td>\n",
       "      <td>2019.228654</td>\n",
       "      <td>2846.0</td>\n",
       "    </tr>\n",
       "  </tbody>\n",
       "</table>\n",
       "</div>"
      ],
      "text/plain": [
       "   rd_imdb_score  release_year  avg_imdb_votes\n",
       "5            9.0   2015.542024        121401.0\n",
       "4            8.0   2017.396154         28362.0\n",
       "3            7.0   2018.431605          8012.0\n",
       "0            4.0   2018.742222          6544.0\n",
       "2            6.0   2019.075687          3169.0\n",
       "1            5.0   2019.228654          2846.0"
      ]
     },
     "execution_count": 24,
     "metadata": {},
     "output_type": "execute_result"
    }
   ],
   "source": [
    "# round column with averages\n",
    "after_1999_titles.loc[:, 'imdb_votes'] = after_1999_titles.loc[:,'imdb_votes'].round()\n",
    "# rename columns\n",
    "after_1999_titles = after_1999_titles.rename(columns={'imdb_score': 'rd_imdb_score','imdb_votes': 'avg_imdb_votes'})\n",
    "# print dataframe in descending order\n",
    "after_1999_titles.sort_values(by='avg_imdb_votes',ascending=False)\n"
   ]
  },
  {
   "cell_type": "markdown",
   "id": "af07386d",
   "metadata": {},
   "source": [
    "The assumption macthes the analysis: the shows with the top 3 scores have the most amounts of votes."
   ]
  },
  {
   "cell_type": "markdown",
   "id": "1ceb8669",
   "metadata": {},
   "source": [
    "<div class=\"alert alert-success\">\n",
    "<b>Reviewer's comment v4</b>\n",
    "\n",
    "Everything is correct here. "
   ]
  },
  {
   "cell_type": "markdown",
   "id": "84e29a37",
   "metadata": {},
   "source": [
    "## Conclusion <a id='hypotheses'></a>"
   ]
  },
  {
   "cell_type": "markdown",
   "id": "984766a3",
   "metadata": {},
   "source": [
    "The research done confirms that highly-rated shows released during the \"Golden Age\" of television also have the most votes. While shows with score 4 have more votes than ones with scores 5 and 6, the top three (scores 7-9) have the largest number. The data studied represents around 94% of the original set, so we can be confident in our findings."
   ]
  },
  {
   "cell_type": "markdown",
   "id": "edf80e80",
   "metadata": {},
   "source": [
    "<div class=\"alert alert-success\">\n",
    "<b>Reviewer's comment v2:</b>\n",
    " \n",
    "Overall you did a great research.\n",
    "    \n",
    "A small tip regarding overall conclusion in the project: \n",
    "    It represents the overall work progress that you achieved. On a real project, this is probably the only thing the business will read. Therefore, it is crucial to indicate in a structured way all conclusions that you made on each step in the project.\n",
    "\n",
    "For example:\n",
    "\n",
    "- Replaced missing values in the following data with the following method.\n",
    "- Replaced data types in the following columns.\n",
    "- etc.\n",
    "- We observe that ... factors impact ... \n",
    "- My analysis show ...\n",
    "- I can recommend the following next steps / activities ...\n",
    "\n",
    "It is also important to provide explanations and interpretations that will be interesting for business based on your analysis.\n"
   ]
  }
 ],
 "metadata": {
  "ExecuteTimeLog": [
   {
    "duration": 325,
    "start_time": "2024-10-04T18:27:20.438Z"
   },
   {
    "duration": 3,
    "start_time": "2024-10-04T18:27:24.824Z"
   },
   {
    "duration": 9,
    "start_time": "2024-10-04T18:28:06.139Z"
   },
   {
    "duration": 186,
    "start_time": "2024-10-04T18:28:12.777Z"
   },
   {
    "duration": 4,
    "start_time": "2024-10-04T18:28:45.075Z"
   },
   {
    "duration": 14,
    "start_time": "2024-10-04T18:40:52.626Z"
   },
   {
    "duration": 5,
    "start_time": "2024-10-04T18:42:11.772Z"
   },
   {
    "duration": 153,
    "start_time": "2024-10-04T18:44:55.730Z"
   },
   {
    "duration": 15,
    "start_time": "2024-10-04T18:45:12.882Z"
   },
   {
    "duration": 24,
    "start_time": "2024-10-04T18:45:26.905Z"
   },
   {
    "duration": 9,
    "start_time": "2024-10-04T18:46:21.524Z"
   },
   {
    "duration": 10,
    "start_time": "2024-10-04T18:46:34.815Z"
   },
   {
    "duration": 11,
    "start_time": "2024-10-04T18:46:54.421Z"
   },
   {
    "duration": 13,
    "start_time": "2024-10-04T18:50:08.792Z"
   },
   {
    "duration": 4,
    "start_time": "2024-10-04T18:50:18.023Z"
   },
   {
    "duration": 8,
    "start_time": "2024-10-04T18:58:05.668Z"
   },
   {
    "duration": 4,
    "start_time": "2024-10-04T18:58:17.798Z"
   },
   {
    "duration": 20,
    "start_time": "2024-10-04T19:00:23.835Z"
   },
   {
    "duration": 39,
    "start_time": "2024-10-04T19:03:10.463Z"
   },
   {
    "duration": 19,
    "start_time": "2024-10-04T19:03:31.772Z"
   },
   {
    "duration": 12,
    "start_time": "2024-10-04T19:05:02.682Z"
   },
   {
    "duration": 46,
    "start_time": "2024-10-04T19:05:38.401Z"
   },
   {
    "duration": 14,
    "start_time": "2024-10-04T19:06:01.170Z"
   },
   {
    "duration": 48,
    "start_time": "2024-10-04T19:08:06.516Z"
   },
   {
    "duration": 41,
    "start_time": "2024-10-04T19:08:21.325Z"
   },
   {
    "duration": 51,
    "start_time": "2024-10-04T19:19:00.507Z"
   },
   {
    "duration": 12,
    "start_time": "2024-10-04T19:20:07.068Z"
   },
   {
    "duration": 47,
    "start_time": "2024-10-04T19:22:22.400Z"
   },
   {
    "duration": 19,
    "start_time": "2024-10-04T19:27:16.563Z"
   },
   {
    "duration": 9,
    "start_time": "2024-10-04T19:28:27.503Z"
   },
   {
    "duration": 6,
    "start_time": "2024-10-04T19:31:15.619Z"
   },
   {
    "duration": 62,
    "start_time": "2024-10-04T19:33:50.530Z"
   },
   {
    "duration": 45,
    "start_time": "2024-10-04T19:35:53.061Z"
   },
   {
    "duration": 12,
    "start_time": "2024-10-04T19:40:36.327Z"
   },
   {
    "duration": 4,
    "start_time": "2024-10-04T19:40:53.831Z"
   },
   {
    "duration": 4,
    "start_time": "2024-10-04T19:44:50.269Z"
   },
   {
    "duration": 3,
    "start_time": "2024-10-04T19:44:59.122Z"
   },
   {
    "duration": 7,
    "start_time": "2024-10-04T19:46:09.450Z"
   },
   {
    "duration": 168,
    "start_time": "2024-10-05T18:24:04.395Z"
   },
   {
    "duration": 11,
    "start_time": "2024-10-05T18:24:48.141Z"
   },
   {
    "duration": 286,
    "start_time": "2024-10-05T18:24:54.496Z"
   },
   {
    "duration": 156,
    "start_time": "2024-10-05T18:24:57.671Z"
   },
   {
    "duration": 18,
    "start_time": "2024-10-05T18:25:00.013Z"
   },
   {
    "duration": 24,
    "start_time": "2024-10-05T18:25:03.014Z"
   },
   {
    "duration": 4,
    "start_time": "2024-10-05T18:25:08.080Z"
   },
   {
    "duration": 5,
    "start_time": "2024-10-05T18:25:10.673Z"
   },
   {
    "duration": 4,
    "start_time": "2024-10-05T18:25:13.432Z"
   },
   {
    "duration": 20,
    "start_time": "2024-10-05T18:25:15.127Z"
   },
   {
    "duration": 26,
    "start_time": "2024-10-05T18:25:17.962Z"
   },
   {
    "duration": 18,
    "start_time": "2024-10-05T18:25:20.150Z"
   },
   {
    "duration": 41,
    "start_time": "2024-10-05T18:25:21.775Z"
   },
   {
    "duration": 47,
    "start_time": "2024-10-05T18:25:23.240Z"
   },
   {
    "duration": 16,
    "start_time": "2024-10-05T18:25:24.952Z"
   },
   {
    "duration": 10,
    "start_time": "2024-10-05T18:25:27.120Z"
   },
   {
    "duration": 43,
    "start_time": "2024-10-05T18:25:30.702Z"
   },
   {
    "duration": 3,
    "start_time": "2024-10-05T18:25:32.302Z"
   },
   {
    "duration": 8,
    "start_time": "2024-10-05T18:25:34.358Z"
   },
   {
    "duration": 6,
    "start_time": "2024-10-05T18:25:37.141Z"
   },
   {
    "duration": 5,
    "start_time": "2024-10-05T18:50:46.777Z"
   },
   {
    "duration": 3,
    "start_time": "2024-10-05T18:50:56.950Z"
   },
   {
    "duration": 9,
    "start_time": "2024-10-05T18:51:02.192Z"
   },
   {
    "duration": 6,
    "start_time": "2024-10-05T18:51:09.071Z"
   },
   {
    "duration": 16,
    "start_time": "2024-10-05T18:51:57.799Z"
   },
   {
    "duration": 6,
    "start_time": "2024-10-05T18:52:05.746Z"
   },
   {
    "duration": 5,
    "start_time": "2024-10-05T19:05:29.845Z"
   },
   {
    "duration": 35,
    "start_time": "2024-10-05T19:05:40.529Z"
   },
   {
    "duration": 15,
    "start_time": "2024-10-05T19:06:07.022Z"
   },
   {
    "duration": 7,
    "start_time": "2024-10-05T19:06:13.149Z"
   },
   {
    "duration": 3,
    "start_time": "2024-10-05T19:54:46.723Z"
   },
   {
    "duration": 3,
    "start_time": "2024-10-05T19:55:00.528Z"
   },
   {
    "duration": 14,
    "start_time": "2024-10-05T19:55:03.712Z"
   },
   {
    "duration": 6,
    "start_time": "2024-10-05T19:55:06.268Z"
   },
   {
    "duration": 6,
    "start_time": "2024-10-05T19:55:30.904Z"
   },
   {
    "duration": 189,
    "start_time": "2024-10-05T20:09:56.922Z"
   },
   {
    "duration": 9,
    "start_time": "2024-10-05T20:10:14.095Z"
   },
   {
    "duration": 10,
    "start_time": "2024-10-05T20:12:16.387Z"
   },
   {
    "duration": 16,
    "start_time": "2024-10-05T20:12:23.841Z"
   },
   {
    "duration": 12,
    "start_time": "2024-10-05T20:12:35.760Z"
   },
   {
    "duration": 13,
    "start_time": "2024-10-05T20:12:45.162Z"
   },
   {
    "duration": 6,
    "start_time": "2024-10-05T20:12:59.572Z"
   },
   {
    "duration": 5,
    "start_time": "2024-10-05T20:16:35.567Z"
   },
   {
    "duration": 3,
    "start_time": "2024-10-05T20:17:09.453Z"
   },
   {
    "duration": 6,
    "start_time": "2024-10-05T20:17:31.898Z"
   },
   {
    "duration": 10,
    "start_time": "2024-10-05T20:17:56.451Z"
   },
   {
    "duration": 14,
    "start_time": "2024-10-05T20:18:09.766Z"
   },
   {
    "duration": 13,
    "start_time": "2024-10-05T20:18:30.952Z"
   },
   {
    "duration": 10,
    "start_time": "2024-10-05T20:18:49.880Z"
   },
   {
    "duration": 13,
    "start_time": "2024-10-05T20:19:30.707Z"
   },
   {
    "duration": 10,
    "start_time": "2024-10-05T20:19:45.320Z"
   },
   {
    "duration": 24,
    "start_time": "2024-10-05T20:22:57.355Z"
   },
   {
    "duration": 142,
    "start_time": "2024-10-05T20:24:49.404Z"
   },
   {
    "duration": 25,
    "start_time": "2024-10-05T20:25:01.227Z"
   },
   {
    "duration": 6,
    "start_time": "2024-10-05T20:28:24.842Z"
   },
   {
    "duration": 12,
    "start_time": "2024-10-05T20:33:36.843Z"
   },
   {
    "duration": 16,
    "start_time": "2024-10-05T20:34:41.734Z"
   },
   {
    "duration": 172,
    "start_time": "2024-10-06T20:19:10.305Z"
   },
   {
    "duration": 324,
    "start_time": "2024-10-06T20:19:35.251Z"
   },
   {
    "duration": 149,
    "start_time": "2024-10-06T20:19:36.275Z"
   },
   {
    "duration": 15,
    "start_time": "2024-10-06T20:19:37.380Z"
   },
   {
    "duration": 25,
    "start_time": "2024-10-06T20:19:37.875Z"
   },
   {
    "duration": 4,
    "start_time": "2024-10-06T20:19:41.810Z"
   },
   {
    "duration": 8,
    "start_time": "2024-10-06T20:19:42.727Z"
   },
   {
    "duration": 4,
    "start_time": "2024-10-06T20:19:43.695Z"
   },
   {
    "duration": 19,
    "start_time": "2024-10-06T20:19:44.709Z"
   },
   {
    "duration": 25,
    "start_time": "2024-10-06T20:19:45.787Z"
   },
   {
    "duration": 20,
    "start_time": "2024-10-06T20:19:46.747Z"
   },
   {
    "duration": 42,
    "start_time": "2024-10-06T20:19:47.768Z"
   },
   {
    "duration": 44,
    "start_time": "2024-10-06T20:19:48.807Z"
   },
   {
    "duration": 18,
    "start_time": "2024-10-06T20:19:49.962Z"
   },
   {
    "duration": 9,
    "start_time": "2024-10-06T20:19:51.556Z"
   },
   {
    "duration": 44,
    "start_time": "2024-10-06T20:19:53.451Z"
   },
   {
    "duration": 5,
    "start_time": "2024-10-06T20:19:54.981Z"
   },
   {
    "duration": 18,
    "start_time": "2024-10-06T20:19:56.552Z"
   },
   {
    "duration": 9,
    "start_time": "2024-10-06T20:19:58.532Z"
   },
   {
    "duration": 3,
    "start_time": "2024-10-06T20:20:15.532Z"
   },
   {
    "duration": 17,
    "start_time": "2024-10-06T20:20:19.804Z"
   },
   {
    "duration": 10,
    "start_time": "2024-10-06T20:20:22.939Z"
   },
   {
    "duration": 4,
    "start_time": "2024-10-06T20:22:48.170Z"
   },
   {
    "duration": 16,
    "start_time": "2024-10-06T20:22:52.610Z"
   },
   {
    "duration": 7,
    "start_time": "2024-10-06T20:22:56.562Z"
   },
   {
    "duration": 3,
    "start_time": "2024-10-06T20:23:53.580Z"
   },
   {
    "duration": 18,
    "start_time": "2024-10-06T20:23:57.572Z"
   },
   {
    "duration": 7,
    "start_time": "2024-10-06T20:24:01.110Z"
   },
   {
    "duration": 3,
    "start_time": "2024-10-06T20:24:39.137Z"
   },
   {
    "duration": 384,
    "start_time": "2024-10-06T20:24:44.849Z"
   },
   {
    "duration": 3,
    "start_time": "2024-10-06T20:25:44.382Z"
   },
   {
    "duration": 18,
    "start_time": "2024-10-06T20:25:49.258Z"
   },
   {
    "duration": 7,
    "start_time": "2024-10-06T20:25:55.400Z"
   },
   {
    "duration": 7,
    "start_time": "2024-10-06T20:27:30.959Z"
   },
   {
    "duration": 3,
    "start_time": "2024-10-06T20:27:42.203Z"
   },
   {
    "duration": 16,
    "start_time": "2024-10-06T20:27:47.370Z"
   },
   {
    "duration": 6,
    "start_time": "2024-10-06T20:27:51.077Z"
   },
   {
    "duration": 3,
    "start_time": "2024-10-06T20:30:06.748Z"
   },
   {
    "duration": 17,
    "start_time": "2024-10-06T20:30:09.516Z"
   },
   {
    "duration": 7,
    "start_time": "2024-10-06T20:30:13.992Z"
   },
   {
    "duration": 5,
    "start_time": "2024-10-06T20:43:29.592Z"
   },
   {
    "duration": 3,
    "start_time": "2024-10-06T20:43:46.487Z"
   },
   {
    "duration": 2,
    "start_time": "2024-10-06T20:44:19.229Z"
   },
   {
    "duration": 25,
    "start_time": "2024-10-06T20:44:22.989Z"
   },
   {
    "duration": 6,
    "start_time": "2024-10-06T20:44:32.251Z"
   },
   {
    "duration": 9,
    "start_time": "2024-10-06T20:45:33.408Z"
   },
   {
    "duration": 9,
    "start_time": "2024-10-06T20:45:35.018Z"
   },
   {
    "duration": 10,
    "start_time": "2024-10-06T20:45:38.988Z"
   },
   {
    "duration": 12,
    "start_time": "2024-10-06T20:45:49.374Z"
   },
   {
    "duration": 5,
    "start_time": "2024-10-06T20:45:54.005Z"
   },
   {
    "duration": 9,
    "start_time": "2024-10-06T20:45:56.946Z"
   },
   {
    "duration": 23,
    "start_time": "2024-10-06T20:46:03.967Z"
   },
   {
    "duration": 12,
    "start_time": "2024-10-06T20:46:15.466Z"
   },
   {
    "duration": 5,
    "start_time": "2024-10-06T20:46:19.909Z"
   },
   {
    "duration": 13,
    "start_time": "2024-10-06T20:48:40.265Z"
   },
   {
    "duration": 4,
    "start_time": "2024-10-06T20:48:52.021Z"
   },
   {
    "duration": 16,
    "start_time": "2024-10-06T20:49:23.090Z"
   },
   {
    "duration": 19,
    "start_time": "2024-10-06T20:55:57.713Z"
   },
   {
    "duration": 17,
    "start_time": "2024-10-06T20:56:29.854Z"
   },
   {
    "duration": 218,
    "start_time": "2024-10-06T20:57:57.267Z"
   },
   {
    "duration": 37,
    "start_time": "2024-10-06T20:58:31.248Z"
   },
   {
    "duration": 48,
    "start_time": "2024-10-06T20:58:59.200Z"
   },
   {
    "duration": 44,
    "start_time": "2024-10-06T21:00:49.813Z"
   },
   {
    "duration": 42,
    "start_time": "2024-10-06T21:01:41.613Z"
   },
   {
    "duration": 39,
    "start_time": "2024-10-06T21:01:47.302Z"
   },
   {
    "duration": 102,
    "start_time": "2024-10-06T21:02:14.014Z"
   },
   {
    "duration": 2,
    "start_time": "2024-10-06T21:02:36.843Z"
   },
   {
    "duration": 127,
    "start_time": "2024-10-06T21:02:39.886Z"
   },
   {
    "duration": 10,
    "start_time": "2024-10-06T21:02:42.340Z"
   },
   {
    "duration": 24,
    "start_time": "2024-10-06T21:02:46.546Z"
   },
   {
    "duration": 4,
    "start_time": "2024-10-06T21:02:53.035Z"
   },
   {
    "duration": 8,
    "start_time": "2024-10-06T21:02:56.527Z"
   },
   {
    "duration": 4,
    "start_time": "2024-10-06T21:02:59.757Z"
   },
   {
    "duration": 21,
    "start_time": "2024-10-06T21:03:03.530Z"
   },
   {
    "duration": 27,
    "start_time": "2024-10-06T21:03:06.520Z"
   },
   {
    "duration": 19,
    "start_time": "2024-10-06T21:03:09.018Z"
   },
   {
    "duration": 46,
    "start_time": "2024-10-06T21:03:11.830Z"
   },
   {
    "duration": 45,
    "start_time": "2024-10-06T21:03:14.963Z"
   },
   {
    "duration": 18,
    "start_time": "2024-10-06T21:03:17.680Z"
   },
   {
    "duration": 10,
    "start_time": "2024-10-06T21:03:21.494Z"
   },
   {
    "duration": 46,
    "start_time": "2024-10-06T21:03:25.545Z"
   },
   {
    "duration": 3,
    "start_time": "2024-10-06T21:03:30.117Z"
   },
   {
    "duration": 24,
    "start_time": "2024-10-06T21:03:33.121Z"
   },
   {
    "duration": 6,
    "start_time": "2024-10-06T21:03:36.969Z"
   },
   {
    "duration": 8,
    "start_time": "2024-10-06T21:03:46.039Z"
   },
   {
    "duration": 8,
    "start_time": "2024-10-06T21:03:48.816Z"
   },
   {
    "duration": 15,
    "start_time": "2024-10-06T21:03:51.654Z"
   },
   {
    "duration": 286,
    "start_time": "2024-10-07T11:29:02.874Z"
   },
   {
    "duration": 143,
    "start_time": "2024-10-07T11:29:03.800Z"
   },
   {
    "duration": 14,
    "start_time": "2024-10-07T11:29:05.035Z"
   },
   {
    "duration": 25,
    "start_time": "2024-10-07T11:29:06.169Z"
   },
   {
    "duration": 5,
    "start_time": "2024-10-07T11:29:08.269Z"
   },
   {
    "duration": 7,
    "start_time": "2024-10-07T11:29:09.956Z"
   },
   {
    "duration": 4,
    "start_time": "2024-10-07T11:29:11.014Z"
   },
   {
    "duration": 19,
    "start_time": "2024-10-07T11:29:12.975Z"
   },
   {
    "duration": 29,
    "start_time": "2024-10-07T11:29:14.128Z"
   },
   {
    "duration": 18,
    "start_time": "2024-10-07T11:29:15.620Z"
   },
   {
    "duration": 43,
    "start_time": "2024-10-07T11:29:16.418Z"
   },
   {
    "duration": 50,
    "start_time": "2024-10-07T11:29:17.499Z"
   },
   {
    "duration": 18,
    "start_time": "2024-10-07T11:29:18.576Z"
   },
   {
    "duration": 10,
    "start_time": "2024-10-07T11:29:20.244Z"
   },
   {
    "duration": 44,
    "start_time": "2024-10-07T11:29:21.945Z"
   },
   {
    "duration": 3,
    "start_time": "2024-10-07T11:29:23.570Z"
   },
   {
    "duration": 25,
    "start_time": "2024-10-07T11:29:24.912Z"
   },
   {
    "duration": 7,
    "start_time": "2024-10-07T11:29:27.252Z"
   },
   {
    "duration": 8,
    "start_time": "2024-10-07T11:29:31.975Z"
   },
   {
    "duration": 11,
    "start_time": "2024-10-07T11:29:33.204Z"
   },
   {
    "duration": 688,
    "start_time": "2024-10-07T11:31:55.223Z"
   },
   {
    "duration": 283,
    "start_time": "2024-10-07T17:27:35.728Z"
   },
   {
    "duration": 143,
    "start_time": "2024-10-07T17:27:39.001Z"
   },
   {
    "duration": 14,
    "start_time": "2024-10-07T17:27:43.195Z"
   },
   {
    "duration": 24,
    "start_time": "2024-10-07T17:27:48.383Z"
   },
   {
    "duration": 4,
    "start_time": "2024-10-07T17:27:54.370Z"
   },
   {
    "duration": 6,
    "start_time": "2024-10-07T17:27:57.595Z"
   },
   {
    "duration": 4,
    "start_time": "2024-10-07T17:28:00.470Z"
   },
   {
    "duration": 4,
    "start_time": "2024-10-07T17:28:09.488Z"
   },
   {
    "duration": 20,
    "start_time": "2024-10-07T17:28:13.918Z"
   },
   {
    "duration": 32,
    "start_time": "2024-10-07T17:28:18.877Z"
   },
   {
    "duration": 20,
    "start_time": "2024-10-07T17:28:22.427Z"
   },
   {
    "duration": 41,
    "start_time": "2024-10-07T17:28:26.602Z"
   },
   {
    "duration": 47,
    "start_time": "2024-10-07T17:28:30.128Z"
   },
   {
    "duration": 17,
    "start_time": "2024-10-07T17:28:35.352Z"
   },
   {
    "duration": 9,
    "start_time": "2024-10-07T17:28:39.458Z"
   },
   {
    "duration": 43,
    "start_time": "2024-10-07T17:28:44.131Z"
   },
   {
    "duration": 3,
    "start_time": "2024-10-07T17:28:48.118Z"
   },
   {
    "duration": 24,
    "start_time": "2024-10-07T17:28:51.260Z"
   },
   {
    "duration": 22,
    "start_time": "2024-10-07T17:28:55.508Z"
   },
   {
    "duration": 6,
    "start_time": "2024-10-07T17:29:00.148Z"
   },
   {
    "duration": 9,
    "start_time": "2024-10-07T17:29:29.093Z"
   },
   {
    "duration": 8,
    "start_time": "2024-10-07T17:29:32.350Z"
   },
   {
    "duration": 666,
    "start_time": "2024-10-07T17:29:35.670Z"
   },
   {
    "duration": 11,
    "start_time": "2024-10-07T17:36:45.904Z"
   },
   {
    "duration": 12,
    "start_time": "2024-10-07T17:58:35.586Z"
   },
   {
    "duration": 12,
    "start_time": "2024-10-07T17:58:54.623Z"
   },
   {
    "duration": 12,
    "start_time": "2024-10-07T18:06:14.035Z"
   },
   {
    "duration": 13,
    "start_time": "2024-10-07T18:09:18.228Z"
   },
   {
    "duration": 11,
    "start_time": "2024-10-07T18:10:22.196Z"
   },
   {
    "duration": 18,
    "start_time": "2024-10-07T18:14:08.047Z"
   },
   {
    "duration": 151,
    "start_time": "2024-10-07T18:14:27.434Z"
   },
   {
    "duration": 13,
    "start_time": "2024-10-07T18:25:40.723Z"
   },
   {
    "duration": 4,
    "start_time": "2024-10-07T18:31:21.512Z"
   },
   {
    "duration": 4,
    "start_time": "2024-10-07T18:32:21.212Z"
   },
   {
    "duration": 6,
    "start_time": "2024-10-07T18:32:50.942Z"
   },
   {
    "duration": 10,
    "start_time": "2024-10-07T18:33:59.785Z"
   },
   {
    "duration": 10,
    "start_time": "2024-10-07T18:34:08.806Z"
   },
   {
    "duration": 3,
    "start_time": "2024-10-07T18:34:21.842Z"
   },
   {
    "duration": 145,
    "start_time": "2024-10-07T18:34:24.313Z"
   },
   {
    "duration": 30,
    "start_time": "2024-10-07T18:34:27.366Z"
   },
   {
    "duration": 33,
    "start_time": "2024-10-07T18:34:31.032Z"
   },
   {
    "duration": 4,
    "start_time": "2024-10-07T18:34:40.032Z"
   },
   {
    "duration": 5,
    "start_time": "2024-10-07T18:34:43.574Z"
   },
   {
    "duration": 4,
    "start_time": "2024-10-07T18:34:47.353Z"
   },
   {
    "duration": 21,
    "start_time": "2024-10-07T18:39:01.270Z"
   },
   {
    "duration": 27,
    "start_time": "2024-10-07T18:41:53.957Z"
   },
   {
    "duration": 19,
    "start_time": "2024-10-07T18:41:56.867Z"
   },
   {
    "duration": 42,
    "start_time": "2024-10-07T18:42:01.259Z"
   },
   {
    "duration": 44,
    "start_time": "2024-10-07T18:42:03.492Z"
   },
   {
    "duration": 17,
    "start_time": "2024-10-07T18:42:06.532Z"
   },
   {
    "duration": 9,
    "start_time": "2024-10-07T18:42:10.217Z"
   },
   {
    "duration": 44,
    "start_time": "2024-10-07T18:42:14.287Z"
   },
   {
    "duration": 3,
    "start_time": "2024-10-07T18:42:23.834Z"
   },
   {
    "duration": 28,
    "start_time": "2024-10-07T18:42:25.807Z"
   },
   {
    "duration": 7,
    "start_time": "2024-10-07T18:42:29.993Z"
   },
   {
    "duration": 7,
    "start_time": "2024-10-07T18:42:33.610Z"
   },
   {
    "duration": 9,
    "start_time": "2024-10-07T18:42:35.818Z"
   },
   {
    "duration": 6,
    "start_time": "2024-10-07T18:42:37.897Z"
   },
   {
    "duration": 13,
    "start_time": "2024-10-07T18:42:54.982Z"
   },
   {
    "duration": 5,
    "start_time": "2024-10-07T18:43:28.348Z"
   },
   {
    "duration": 11,
    "start_time": "2024-10-07T18:43:44.790Z"
   },
   {
    "duration": 12,
    "start_time": "2024-10-07T18:44:11.603Z"
   },
   {
    "duration": 15,
    "start_time": "2024-10-07T18:45:30.777Z"
   },
   {
    "duration": 10,
    "start_time": "2024-10-07T18:47:16.852Z"
   },
   {
    "duration": 5,
    "start_time": "2024-10-07T18:48:44.166Z"
   },
   {
    "duration": 15,
    "start_time": "2024-10-07T18:49:22.449Z"
   },
   {
    "duration": 4,
    "start_time": "2024-10-07T18:49:43.938Z"
   },
   {
    "duration": 12,
    "start_time": "2024-10-07T18:51:30.550Z"
   },
   {
    "duration": 32,
    "start_time": "2024-10-07T18:52:09.507Z"
   },
   {
    "duration": 15,
    "start_time": "2024-10-07T18:52:51.843Z"
   },
   {
    "duration": 3,
    "start_time": "2024-10-07T18:53:03.439Z"
   },
   {
    "duration": 5,
    "start_time": "2024-10-07T18:53:11.628Z"
   },
   {
    "duration": 205,
    "start_time": "2024-10-07T18:53:15.252Z"
   },
   {
    "duration": 41,
    "start_time": "2024-10-07T18:54:32.067Z"
   },
   {
    "duration": 3,
    "start_time": "2024-10-07T18:56:36.208Z"
   },
   {
    "duration": 20,
    "start_time": "2024-10-07T18:58:01.138Z"
   },
   {
    "duration": 289,
    "start_time": "2024-10-07T20:58:36.536Z"
   },
   {
    "duration": 118,
    "start_time": "2024-10-07T20:58:36.827Z"
   },
   {
    "duration": 15,
    "start_time": "2024-10-07T20:58:36.947Z"
   },
   {
    "duration": 24,
    "start_time": "2024-10-07T20:58:36.964Z"
   },
   {
    "duration": 4,
    "start_time": "2024-10-07T20:58:36.990Z"
   },
   {
    "duration": 5,
    "start_time": "2024-10-07T20:58:36.995Z"
   },
   {
    "duration": 3,
    "start_time": "2024-10-07T20:58:37.002Z"
   },
   {
    "duration": 51,
    "start_time": "2024-10-07T20:58:37.007Z"
   },
   {
    "duration": 25,
    "start_time": "2024-10-07T20:58:37.060Z"
   },
   {
    "duration": 18,
    "start_time": "2024-10-07T20:58:37.087Z"
   },
   {
    "duration": 60,
    "start_time": "2024-10-07T20:58:37.107Z"
   },
   {
    "duration": 44,
    "start_time": "2024-10-07T20:58:37.169Z"
   },
   {
    "duration": 33,
    "start_time": "2024-10-07T20:58:37.215Z"
   },
   {
    "duration": 8,
    "start_time": "2024-10-07T20:58:37.252Z"
   },
   {
    "duration": 45,
    "start_time": "2024-10-07T20:58:37.262Z"
   },
   {
    "duration": 4,
    "start_time": "2024-10-07T20:58:37.309Z"
   },
   {
    "duration": 49,
    "start_time": "2024-10-07T20:58:37.315Z"
   },
   {
    "duration": 7,
    "start_time": "2024-10-07T20:58:37.366Z"
   },
   {
    "duration": 7,
    "start_time": "2024-10-07T20:58:37.375Z"
   },
   {
    "duration": 9,
    "start_time": "2024-10-07T20:58:37.383Z"
   },
   {
    "duration": 13,
    "start_time": "2024-10-07T20:58:37.393Z"
   },
   {
    "duration": 55,
    "start_time": "2024-10-07T20:58:37.408Z"
   },
   {
    "duration": 18,
    "start_time": "2024-10-07T20:58:37.465Z"
   },
   {
    "duration": 558,
    "start_time": "2024-10-07T20:58:37.485Z"
   },
   {
    "duration": 323,
    "start_time": "2024-10-07T21:04:39.047Z"
   },
   {
    "duration": 121,
    "start_time": "2024-10-07T21:04:39.372Z"
   },
   {
    "duration": 14,
    "start_time": "2024-10-07T21:04:39.495Z"
   },
   {
    "duration": 39,
    "start_time": "2024-10-07T21:04:39.512Z"
   },
   {
    "duration": 4,
    "start_time": "2024-10-07T21:04:39.553Z"
   },
   {
    "duration": 4,
    "start_time": "2024-10-07T21:04:39.559Z"
   },
   {
    "duration": 4,
    "start_time": "2024-10-07T21:04:39.565Z"
   },
   {
    "duration": 18,
    "start_time": "2024-10-07T21:04:39.571Z"
   },
   {
    "duration": 53,
    "start_time": "2024-10-07T21:04:39.591Z"
   },
   {
    "duration": 18,
    "start_time": "2024-10-07T21:04:39.649Z"
   },
   {
    "duration": 39,
    "start_time": "2024-10-07T21:04:39.669Z"
   },
   {
    "duration": 65,
    "start_time": "2024-10-07T21:04:39.710Z"
   },
   {
    "duration": 17,
    "start_time": "2024-10-07T21:04:39.776Z"
   },
   {
    "duration": 9,
    "start_time": "2024-10-07T21:04:39.794Z"
   },
   {
    "duration": 59,
    "start_time": "2024-10-07T21:04:39.805Z"
   },
   {
    "duration": 3,
    "start_time": "2024-10-07T21:04:39.865Z"
   },
   {
    "duration": 23,
    "start_time": "2024-10-07T21:04:39.870Z"
   },
   {
    "duration": 6,
    "start_time": "2024-10-07T21:04:39.894Z"
   },
   {
    "duration": 8,
    "start_time": "2024-10-07T21:04:39.902Z"
   },
   {
    "duration": 36,
    "start_time": "2024-10-07T21:04:39.912Z"
   },
   {
    "duration": 12,
    "start_time": "2024-10-07T21:04:39.950Z"
   },
   {
    "duration": 25,
    "start_time": "2024-10-07T21:04:39.964Z"
   },
   {
    "duration": 18,
    "start_time": "2024-10-07T21:04:39.991Z"
   },
   {
    "duration": 617,
    "start_time": "2024-10-07T21:04:40.010Z"
   },
   {
    "duration": 8,
    "start_time": "2024-10-07T21:06:03.506Z"
   },
   {
    "duration": 15,
    "start_time": "2024-10-07T21:06:36.230Z"
   },
   {
    "duration": 157,
    "start_time": "2024-10-07T23:33:41.097Z"
   },
   {
    "duration": 285,
    "start_time": "2024-10-07T23:33:53.386Z"
   },
   {
    "duration": 158,
    "start_time": "2024-10-07T23:33:57.202Z"
   },
   {
    "duration": 15,
    "start_time": "2024-10-07T23:34:01.645Z"
   },
   {
    "duration": 25,
    "start_time": "2024-10-07T23:34:06.703Z"
   },
   {
    "duration": 8,
    "start_time": "2024-10-07T23:34:15.102Z"
   },
   {
    "duration": 35,
    "start_time": "2024-10-07T23:34:19.496Z"
   },
   {
    "duration": 6,
    "start_time": "2024-10-07T23:38:07.803Z"
   },
   {
    "duration": 96,
    "start_time": "2024-10-07T23:41:33.096Z"
   },
   {
    "duration": 4,
    "start_time": "2024-10-07T23:41:41.296Z"
   },
   {
    "duration": 99,
    "start_time": "2024-10-07T23:46:56.276Z"
   },
   {
    "duration": 3,
    "start_time": "2024-10-07T23:46:59.263Z"
   },
   {
    "duration": 104,
    "start_time": "2024-10-07T23:48:00.368Z"
   },
   {
    "duration": 4,
    "start_time": "2024-10-07T23:48:03.081Z"
   },
   {
    "duration": 13,
    "start_time": "2024-10-07T23:49:08.830Z"
   },
   {
    "duration": 14,
    "start_time": "2024-10-07T23:49:26.938Z"
   },
   {
    "duration": 18,
    "start_time": "2024-10-07T23:49:47.829Z"
   },
   {
    "duration": 96,
    "start_time": "2024-10-07T23:50:04.365Z"
   },
   {
    "duration": 4,
    "start_time": "2024-10-07T23:50:09.591Z"
   },
   {
    "duration": 28,
    "start_time": "2024-10-08T00:01:51.903Z"
   },
   {
    "duration": 4,
    "start_time": "2024-10-08T00:01:56.038Z"
   },
   {
    "duration": 7,
    "start_time": "2024-10-08T00:03:17.495Z"
   },
   {
    "duration": 4,
    "start_time": "2024-10-08T00:03:21.100Z"
   },
   {
    "duration": 42,
    "start_time": "2024-10-08T00:04:48.700Z"
   },
   {
    "duration": 19,
    "start_time": "2024-10-08T00:05:07.592Z"
   },
   {
    "duration": 14,
    "start_time": "2024-10-08T00:06:47.320Z"
   },
   {
    "duration": 19,
    "start_time": "2024-10-08T00:07:03.672Z"
   },
   {
    "duration": 24,
    "start_time": "2024-10-08T00:07:07.113Z"
   },
   {
    "duration": 19,
    "start_time": "2024-10-08T00:07:09.652Z"
   },
   {
    "duration": 49,
    "start_time": "2024-10-08T00:07:21.526Z"
   },
   {
    "duration": 50,
    "start_time": "2024-10-08T00:07:26.099Z"
   },
   {
    "duration": 21,
    "start_time": "2024-10-08T00:07:29.730Z"
   },
   {
    "duration": 18,
    "start_time": "2024-10-08T00:08:36.080Z"
   },
   {
    "duration": 19,
    "start_time": "2024-10-08T00:08:46.965Z"
   },
   {
    "duration": 10,
    "start_time": "2024-10-08T00:08:58.104Z"
   },
   {
    "duration": 44,
    "start_time": "2024-10-08T00:09:01.790Z"
   },
   {
    "duration": 3,
    "start_time": "2024-10-08T00:09:05.224Z"
   },
   {
    "duration": 26,
    "start_time": "2024-10-08T00:09:07.770Z"
   },
   {
    "duration": 6,
    "start_time": "2024-10-08T00:09:10.580Z"
   },
   {
    "duration": 8,
    "start_time": "2024-10-08T00:10:36.410Z"
   },
   {
    "duration": 3,
    "start_time": "2024-10-08T00:11:10.609Z"
   },
   {
    "duration": 15,
    "start_time": "2024-10-08T00:11:14.480Z"
   },
   {
    "duration": 8,
    "start_time": "2024-10-08T00:11:39.606Z"
   },
   {
    "duration": 3,
    "start_time": "2024-10-08T00:11:43.209Z"
   },
   {
    "duration": 2,
    "start_time": "2024-10-08T00:12:08.938Z"
   },
   {
    "duration": 24,
    "start_time": "2024-10-08T00:12:12.883Z"
   },
   {
    "duration": 24,
    "start_time": "2024-10-08T00:12:15.456Z"
   },
   {
    "duration": 3,
    "start_time": "2024-10-08T00:16:37.973Z"
   },
   {
    "duration": 17,
    "start_time": "2024-10-08T00:16:40.308Z"
   },
   {
    "duration": 3,
    "start_time": "2024-10-08T00:19:50.515Z"
   },
   {
    "duration": 17,
    "start_time": "2024-10-08T00:19:52.353Z"
   },
   {
    "duration": 13,
    "start_time": "2024-10-08T00:21:05.015Z"
   },
   {
    "duration": 3,
    "start_time": "2024-10-08T00:21:12.381Z"
   },
   {
    "duration": 16,
    "start_time": "2024-10-08T00:21:15.523Z"
   },
   {
    "duration": 3,
    "start_time": "2024-10-08T00:21:36.773Z"
   },
   {
    "duration": 20,
    "start_time": "2024-10-08T00:21:38.612Z"
   },
   {
    "duration": 3,
    "start_time": "2024-10-08T00:23:03.545Z"
   },
   {
    "duration": 15,
    "start_time": "2024-10-08T00:23:05.722Z"
   },
   {
    "duration": 37,
    "start_time": "2024-10-08T00:26:42.972Z"
   },
   {
    "duration": 2,
    "start_time": "2024-10-08T00:26:54.678Z"
   },
   {
    "duration": 17,
    "start_time": "2024-10-08T00:27:19.649Z"
   },
   {
    "duration": 3,
    "start_time": "2024-10-08T00:31:24.807Z"
   },
   {
    "duration": 15,
    "start_time": "2024-10-08T00:31:27.094Z"
   },
   {
    "duration": 3,
    "start_time": "2024-10-08T00:40:16.765Z"
   },
   {
    "duration": 22,
    "start_time": "2024-10-08T00:40:19.041Z"
   },
   {
    "duration": 3,
    "start_time": "2024-10-08T00:42:27.468Z"
   },
   {
    "duration": 23,
    "start_time": "2024-10-08T00:42:32.098Z"
   },
   {
    "duration": 4,
    "start_time": "2024-10-08T00:43:44.839Z"
   },
   {
    "duration": 18,
    "start_time": "2024-10-08T00:43:47.018Z"
   },
   {
    "duration": 3,
    "start_time": "2024-10-08T00:47:05.580Z"
   },
   {
    "duration": 22,
    "start_time": "2024-10-08T00:47:06.892Z"
   },
   {
    "duration": 7,
    "start_time": "2024-10-08T00:47:11.742Z"
   },
   {
    "duration": 13,
    "start_time": "2024-10-08T00:48:39.161Z"
   },
   {
    "duration": 9,
    "start_time": "2024-10-08T00:48:44.903Z"
   },
   {
    "duration": 10,
    "start_time": "2024-10-08T00:48:46.504Z"
   },
   {
    "duration": 175,
    "start_time": "2024-10-08T00:49:43.582Z"
   },
   {
    "duration": 18,
    "start_time": "2024-10-08T00:51:04.184Z"
   },
   {
    "duration": 21,
    "start_time": "2024-10-08T00:51:18.572Z"
   },
   {
    "duration": 9,
    "start_time": "2024-10-08T00:51:54.110Z"
   },
   {
    "duration": 20,
    "start_time": "2024-10-08T00:52:11.853Z"
   },
   {
    "duration": 21,
    "start_time": "2024-10-08T00:52:27.615Z"
   },
   {
    "duration": 8,
    "start_time": "2024-10-08T00:52:36.321Z"
   },
   {
    "duration": 22,
    "start_time": "2024-10-08T00:52:46.179Z"
   },
   {
    "duration": 28,
    "start_time": "2024-10-08T00:53:03.153Z"
   },
   {
    "duration": 376,
    "start_time": "2024-10-08T00:53:11.062Z"
   },
   {
    "duration": 417,
    "start_time": "2024-10-08T00:53:51.869Z"
   },
   {
    "duration": 34,
    "start_time": "2024-10-08T00:55:23.352Z"
   },
   {
    "duration": 3,
    "start_time": "2024-10-08T00:56:54.601Z"
   },
   {
    "duration": 5,
    "start_time": "2024-10-08T00:57:06.316Z"
   },
   {
    "duration": 4,
    "start_time": "2024-10-08T00:57:21.230Z"
   },
   {
    "duration": 3,
    "start_time": "2024-10-08T01:00:04.747Z"
   },
   {
    "duration": 25,
    "start_time": "2024-10-08T01:00:07.281Z"
   },
   {
    "duration": 7,
    "start_time": "2024-10-08T01:00:10.384Z"
   },
   {
    "duration": 9,
    "start_time": "2024-10-08T01:00:14.839Z"
   },
   {
    "duration": 9,
    "start_time": "2024-10-08T01:00:16.247Z"
   },
   {
    "duration": 41,
    "start_time": "2024-10-08T01:00:18.434Z"
   },
   {
    "duration": 42,
    "start_time": "2024-10-08T01:00:37.138Z"
   },
   {
    "duration": 42,
    "start_time": "2024-10-08T01:02:11.749Z"
   },
   {
    "duration": 40,
    "start_time": "2024-10-08T01:02:40.938Z"
   },
   {
    "duration": 89,
    "start_time": "2024-10-08T01:03:07.913Z"
   },
   {
    "duration": 72,
    "start_time": "2024-10-08T01:03:49.677Z"
   },
   {
    "duration": 3,
    "start_time": "2024-10-08T01:04:36.558Z"
   },
   {
    "duration": 114,
    "start_time": "2024-10-08T01:04:38.720Z"
   },
   {
    "duration": 11,
    "start_time": "2024-10-08T01:04:40.879Z"
   },
   {
    "duration": 24,
    "start_time": "2024-10-08T01:04:43.687Z"
   },
   {
    "duration": 4,
    "start_time": "2024-10-08T01:04:47.831Z"
   },
   {
    "duration": 7,
    "start_time": "2024-10-08T01:04:50.820Z"
   },
   {
    "duration": 4,
    "start_time": "2024-10-08T01:04:52.894Z"
   },
   {
    "duration": 20,
    "start_time": "2024-10-08T01:04:56.625Z"
   },
   {
    "duration": 26,
    "start_time": "2024-10-08T01:04:59.326Z"
   },
   {
    "duration": 18,
    "start_time": "2024-10-08T01:05:01.389Z"
   },
   {
    "duration": 44,
    "start_time": "2024-10-08T01:05:04.544Z"
   },
   {
    "duration": 45,
    "start_time": "2024-10-08T01:05:06.641Z"
   },
   {
    "duration": 18,
    "start_time": "2024-10-08T01:05:09.859Z"
   },
   {
    "duration": 9,
    "start_time": "2024-10-08T01:05:17.006Z"
   },
   {
    "duration": 8,
    "start_time": "2024-10-08T01:05:20.372Z"
   },
   {
    "duration": 25,
    "start_time": "2024-10-08T01:05:40.596Z"
   },
   {
    "duration": 24,
    "start_time": "2024-10-08T01:06:13.010Z"
   },
   {
    "duration": 7,
    "start_time": "2024-10-08T01:06:29.396Z"
   },
   {
    "duration": 8,
    "start_time": "2024-10-08T01:06:39.345Z"
   },
   {
    "duration": 10,
    "start_time": "2024-10-08T01:06:40.159Z"
   },
   {
    "duration": 12,
    "start_time": "2024-10-08T01:07:49.419Z"
   },
   {
    "duration": 247,
    "start_time": "2024-10-08T01:08:44.780Z"
   },
   {
    "duration": 41,
    "start_time": "2024-10-08T01:09:00.783Z"
   },
   {
    "duration": 9,
    "start_time": "2024-10-08T01:09:26.482Z"
   },
   {
    "duration": 27,
    "start_time": "2024-10-08T01:10:04.073Z"
   },
   {
    "duration": 27,
    "start_time": "2024-10-08T01:10:17.015Z"
   },
   {
    "duration": 75,
    "start_time": "2024-10-08T01:10:24.675Z"
   },
   {
    "duration": 2,
    "start_time": "2024-10-08T01:10:59.905Z"
   },
   {
    "duration": 112,
    "start_time": "2024-10-08T01:11:01.642Z"
   },
   {
    "duration": 10,
    "start_time": "2024-10-08T01:11:04.618Z"
   },
   {
    "duration": 22,
    "start_time": "2024-10-08T01:11:10.389Z"
   },
   {
    "duration": 4,
    "start_time": "2024-10-08T01:11:17.016Z"
   },
   {
    "duration": 7,
    "start_time": "2024-10-08T01:11:18.875Z"
   },
   {
    "duration": 3,
    "start_time": "2024-10-08T01:11:20.338Z"
   },
   {
    "duration": 19,
    "start_time": "2024-10-08T01:11:22.736Z"
   },
   {
    "duration": 25,
    "start_time": "2024-10-08T01:11:25.054Z"
   },
   {
    "duration": 20,
    "start_time": "2024-10-08T01:11:26.422Z"
   },
   {
    "duration": 42,
    "start_time": "2024-10-08T01:11:28.872Z"
   },
   {
    "duration": 45,
    "start_time": "2024-10-08T01:11:30.397Z"
   },
   {
    "duration": 24,
    "start_time": "2024-10-08T01:11:31.925Z"
   },
   {
    "duration": 8,
    "start_time": "2024-10-08T01:11:34.474Z"
   },
   {
    "duration": 8,
    "start_time": "2024-10-08T01:11:37.530Z"
   },
   {
    "duration": 4,
    "start_time": "2024-10-08T01:11:39.462Z"
   },
   {
    "duration": 38,
    "start_time": "2024-10-08T01:11:40.932Z"
   },
   {
    "duration": 6,
    "start_time": "2024-10-08T01:11:42.554Z"
   },
   {
    "duration": 7,
    "start_time": "2024-10-08T01:11:48.148Z"
   },
   {
    "duration": 9,
    "start_time": "2024-10-08T01:11:49.097Z"
   },
   {
    "duration": 10,
    "start_time": "2024-10-08T01:11:52.725Z"
   },
   {
    "duration": 9,
    "start_time": "2024-10-08T01:11:54.870Z"
   },
   {
    "duration": 27,
    "start_time": "2024-10-08T01:11:59.309Z"
   },
   {
    "duration": 28,
    "start_time": "2024-10-08T01:12:01.267Z"
   },
   {
    "duration": 167,
    "start_time": "2024-10-08T06:36:47.602Z"
   },
   {
    "duration": 303,
    "start_time": "2024-10-08T06:36:51.493Z"
   },
   {
    "duration": 159,
    "start_time": "2024-10-08T06:36:51.798Z"
   },
   {
    "duration": 16,
    "start_time": "2024-10-08T06:36:51.959Z"
   },
   {
    "duration": 40,
    "start_time": "2024-10-08T06:36:51.977Z"
   },
   {
    "duration": 4,
    "start_time": "2024-10-08T06:36:52.022Z"
   },
   {
    "duration": 6,
    "start_time": "2024-10-08T06:36:52.028Z"
   },
   {
    "duration": 4,
    "start_time": "2024-10-08T06:36:52.036Z"
   },
   {
    "duration": 25,
    "start_time": "2024-10-08T06:36:52.041Z"
   },
   {
    "duration": 59,
    "start_time": "2024-10-08T06:36:52.068Z"
   },
   {
    "duration": 24,
    "start_time": "2024-10-08T06:36:52.129Z"
   },
   {
    "duration": 73,
    "start_time": "2024-10-08T06:36:52.155Z"
   },
   {
    "duration": 63,
    "start_time": "2024-10-08T06:36:52.230Z"
   },
   {
    "duration": 30,
    "start_time": "2024-10-08T06:36:52.294Z"
   },
   {
    "duration": 9,
    "start_time": "2024-10-08T06:36:52.327Z"
   },
   {
    "duration": 9,
    "start_time": "2024-10-08T06:36:52.338Z"
   },
   {
    "duration": 3,
    "start_time": "2024-10-08T06:36:52.349Z"
   },
   {
    "duration": 52,
    "start_time": "2024-10-08T06:36:52.354Z"
   },
   {
    "duration": 7,
    "start_time": "2024-10-08T06:36:52.408Z"
   },
   {
    "duration": 12,
    "start_time": "2024-10-08T06:36:52.417Z"
   },
   {
    "duration": 13,
    "start_time": "2024-10-08T06:36:52.433Z"
   },
   {
    "duration": 18,
    "start_time": "2024-10-08T06:36:52.448Z"
   },
   {
    "duration": 9,
    "start_time": "2024-10-08T06:36:52.469Z"
   },
   {
    "duration": 59,
    "start_time": "2024-10-08T06:36:52.479Z"
   },
   {
    "duration": 35,
    "start_time": "2024-10-08T06:36:52.540Z"
   },
   {
    "duration": 15,
    "start_time": "2024-10-08T06:37:39.163Z"
   },
   {
    "duration": 332,
    "start_time": "2024-10-08T11:42:10.183Z"
   },
   {
    "duration": 151,
    "start_time": "2024-10-08T11:42:11.629Z"
   },
   {
    "duration": 14,
    "start_time": "2024-10-08T11:42:14.023Z"
   },
   {
    "duration": 23,
    "start_time": "2024-10-08T11:42:16.021Z"
   },
   {
    "duration": 4,
    "start_time": "2024-10-08T11:42:19.809Z"
   },
   {
    "duration": 5,
    "start_time": "2024-10-08T11:42:21.679Z"
   },
   {
    "duration": 3,
    "start_time": "2024-10-08T11:42:23.015Z"
   },
   {
    "duration": 19,
    "start_time": "2024-10-08T11:42:25.125Z"
   },
   {
    "duration": 25,
    "start_time": "2024-10-08T11:42:27.205Z"
   },
   {
    "duration": 17,
    "start_time": "2024-10-08T11:42:28.677Z"
   },
   {
    "duration": 43,
    "start_time": "2024-10-08T11:42:30.841Z"
   },
   {
    "duration": 44,
    "start_time": "2024-10-08T11:42:32.823Z"
   },
   {
    "duration": 17,
    "start_time": "2024-10-08T11:42:34.747Z"
   },
   {
    "duration": 9,
    "start_time": "2024-10-08T11:42:37.351Z"
   },
   {
    "duration": 7,
    "start_time": "2024-10-08T11:42:40.045Z"
   },
   {
    "duration": 3,
    "start_time": "2024-10-08T11:42:41.622Z"
   },
   {
    "duration": 25,
    "start_time": "2024-10-08T11:42:43.230Z"
   },
   {
    "duration": 7,
    "start_time": "2024-10-08T11:42:44.894Z"
   },
   {
    "duration": 7,
    "start_time": "2024-10-08T11:42:51.821Z"
   },
   {
    "duration": 9,
    "start_time": "2024-10-08T11:42:52.860Z"
   },
   {
    "duration": 12,
    "start_time": "2024-10-08T11:42:56.687Z"
   },
   {
    "duration": 8,
    "start_time": "2024-10-08T11:42:58.494Z"
   },
   {
    "duration": 482,
    "start_time": "2024-10-08T11:43:02.911Z"
   },
   {
    "duration": 110,
    "start_time": "2024-10-08T11:43:26.810Z"
   },
   {
    "duration": 5,
    "start_time": "2024-10-08T11:44:18.021Z"
   },
   {
    "duration": 3,
    "start_time": "2024-10-08T11:44:50.801Z"
   },
   {
    "duration": 28,
    "start_time": "2024-10-08T11:45:01.049Z"
   },
   {
    "duration": 3,
    "start_time": "2024-10-08T11:45:29.364Z"
   },
   {
    "duration": 29,
    "start_time": "2024-10-08T11:45:47.124Z"
   },
   {
    "duration": 2,
    "start_time": "2024-10-08T11:46:46.742Z"
   },
   {
    "duration": 113,
    "start_time": "2024-10-08T11:46:48.331Z"
   },
   {
    "duration": 10,
    "start_time": "2024-10-08T11:46:50.739Z"
   },
   {
    "duration": 22,
    "start_time": "2024-10-08T11:46:52.953Z"
   },
   {
    "duration": 4,
    "start_time": "2024-10-08T11:46:57.296Z"
   },
   {
    "duration": 8,
    "start_time": "2024-10-08T11:46:59.104Z"
   },
   {
    "duration": 4,
    "start_time": "2024-10-08T11:47:00.997Z"
   },
   {
    "duration": 20,
    "start_time": "2024-10-08T11:47:03.608Z"
   },
   {
    "duration": 25,
    "start_time": "2024-10-08T11:47:06.136Z"
   },
   {
    "duration": 19,
    "start_time": "2024-10-08T11:47:07.821Z"
   },
   {
    "duration": 41,
    "start_time": "2024-10-08T11:47:10.248Z"
   },
   {
    "duration": 43,
    "start_time": "2024-10-08T11:47:12.003Z"
   },
   {
    "duration": 16,
    "start_time": "2024-10-08T11:47:13.795Z"
   },
   {
    "duration": 8,
    "start_time": "2024-10-08T11:47:16.282Z"
   },
   {
    "duration": 9,
    "start_time": "2024-10-08T11:47:19.698Z"
   },
   {
    "duration": 3,
    "start_time": "2024-10-08T11:47:21.736Z"
   },
   {
    "duration": 23,
    "start_time": "2024-10-08T11:47:23.611Z"
   },
   {
    "duration": 6,
    "start_time": "2024-10-08T11:47:25.280Z"
   },
   {
    "duration": 7,
    "start_time": "2024-10-08T11:47:31.024Z"
   },
   {
    "duration": 9,
    "start_time": "2024-10-08T11:47:31.824Z"
   },
   {
    "duration": 11,
    "start_time": "2024-10-08T11:47:35.074Z"
   },
   {
    "duration": 9,
    "start_time": "2024-10-08T11:47:36.695Z"
   },
   {
    "duration": 47,
    "start_time": "2024-10-08T11:47:41.866Z"
   },
   {
    "duration": 13,
    "start_time": "2024-10-08T12:08:15.483Z"
   },
   {
    "duration": 10,
    "start_time": "2024-10-08T12:08:29.181Z"
   },
   {
    "duration": 46,
    "start_time": "2024-10-08T12:08:58.383Z"
   },
   {
    "duration": 49,
    "start_time": "2024-10-08T12:17:37.353Z"
   },
   {
    "duration": 47,
    "start_time": "2024-10-08T12:18:01.017Z"
   },
   {
    "duration": 37,
    "start_time": "2024-10-08T12:18:10.948Z"
   },
   {
    "duration": 295,
    "start_time": "2024-10-08T12:21:44.019Z"
   },
   {
    "duration": 119,
    "start_time": "2024-10-08T12:21:44.317Z"
   },
   {
    "duration": 13,
    "start_time": "2024-10-08T12:21:44.438Z"
   },
   {
    "duration": 32,
    "start_time": "2024-10-08T12:21:44.453Z"
   },
   {
    "duration": 4,
    "start_time": "2024-10-08T12:21:44.487Z"
   },
   {
    "duration": 5,
    "start_time": "2024-10-08T12:21:44.493Z"
   },
   {
    "duration": 4,
    "start_time": "2024-10-08T12:21:44.500Z"
   },
   {
    "duration": 20,
    "start_time": "2024-10-08T12:21:44.505Z"
   },
   {
    "duration": 59,
    "start_time": "2024-10-08T12:21:44.526Z"
   },
   {
    "duration": 18,
    "start_time": "2024-10-08T12:21:44.587Z"
   },
   {
    "duration": 42,
    "start_time": "2024-10-08T12:21:44.607Z"
   },
   {
    "duration": 62,
    "start_time": "2024-10-08T12:21:44.651Z"
   },
   {
    "duration": 16,
    "start_time": "2024-10-08T12:21:44.715Z"
   },
   {
    "duration": 8,
    "start_time": "2024-10-08T12:21:44.734Z"
   },
   {
    "duration": 30,
    "start_time": "2024-10-08T12:21:44.743Z"
   },
   {
    "duration": 3,
    "start_time": "2024-10-08T12:21:44.774Z"
   },
   {
    "duration": 23,
    "start_time": "2024-10-08T12:21:44.779Z"
   },
   {
    "duration": 6,
    "start_time": "2024-10-08T12:21:44.803Z"
   },
   {
    "duration": 7,
    "start_time": "2024-10-08T12:21:44.811Z"
   },
   {
    "duration": 8,
    "start_time": "2024-10-08T12:21:44.820Z"
   },
   {
    "duration": 41,
    "start_time": "2024-10-08T12:21:44.829Z"
   },
   {
    "duration": 8,
    "start_time": "2024-10-08T12:21:44.871Z"
   },
   {
    "duration": 494,
    "start_time": "2024-10-08T12:21:44.881Z"
   },
   {
    "duration": 0,
    "start_time": "2024-10-08T12:21:45.377Z"
   },
   {
    "duration": 294,
    "start_time": "2024-10-08T14:13:42.516Z"
   },
   {
    "duration": 120,
    "start_time": "2024-10-08T14:13:42.812Z"
   },
   {
    "duration": 17,
    "start_time": "2024-10-08T14:13:42.934Z"
   },
   {
    "duration": 23,
    "start_time": "2024-10-08T14:13:42.972Z"
   },
   {
    "duration": 3,
    "start_time": "2024-10-08T14:13:42.997Z"
   },
   {
    "duration": 5,
    "start_time": "2024-10-08T14:13:43.002Z"
   },
   {
    "duration": 3,
    "start_time": "2024-10-08T14:13:43.009Z"
   },
   {
    "duration": 65,
    "start_time": "2024-10-08T14:13:43.014Z"
   },
   {
    "duration": 26,
    "start_time": "2024-10-08T14:13:43.081Z"
   },
   {
    "duration": 18,
    "start_time": "2024-10-08T14:13:43.111Z"
   },
   {
    "duration": 80,
    "start_time": "2024-10-08T14:13:43.130Z"
   },
   {
    "duration": 66,
    "start_time": "2024-10-08T14:13:43.212Z"
   },
   {
    "duration": 16,
    "start_time": "2024-10-08T14:13:43.280Z"
   },
   {
    "duration": 7,
    "start_time": "2024-10-08T14:13:43.298Z"
   },
   {
    "duration": 6,
    "start_time": "2024-10-08T14:13:43.307Z"
   },
   {
    "duration": 3,
    "start_time": "2024-10-08T14:13:43.315Z"
   },
   {
    "duration": 60,
    "start_time": "2024-10-08T14:13:43.320Z"
   },
   {
    "duration": 7,
    "start_time": "2024-10-08T14:13:43.382Z"
   },
   {
    "duration": 7,
    "start_time": "2024-10-08T14:13:43.391Z"
   },
   {
    "duration": 9,
    "start_time": "2024-10-08T14:13:43.399Z"
   },
   {
    "duration": 12,
    "start_time": "2024-10-08T14:13:43.409Z"
   },
   {
    "duration": 7,
    "start_time": "2024-10-08T14:13:43.423Z"
   },
   {
    "duration": 501,
    "start_time": "2024-10-08T14:13:43.471Z"
   },
   {
    "duration": 0,
    "start_time": "2024-10-08T14:13:43.974Z"
   },
   {
    "duration": 4,
    "start_time": "2024-10-08T14:13:53.748Z"
   },
   {
    "duration": 7,
    "start_time": "2024-10-08T14:14:12.085Z"
   },
   {
    "duration": 5,
    "start_time": "2024-10-08T14:14:17.287Z"
   },
   {
    "duration": 290,
    "start_time": "2024-10-08T14:46:03.096Z"
   },
   {
    "duration": 155,
    "start_time": "2024-10-08T14:46:03.388Z"
   },
   {
    "duration": 14,
    "start_time": "2024-10-08T14:46:03.545Z"
   },
   {
    "duration": 26,
    "start_time": "2024-10-08T14:46:03.560Z"
   },
   {
    "duration": 3,
    "start_time": "2024-10-08T14:46:03.590Z"
   },
   {
    "duration": 5,
    "start_time": "2024-10-08T14:46:03.595Z"
   },
   {
    "duration": 30,
    "start_time": "2024-10-08T14:46:03.602Z"
   },
   {
    "duration": 19,
    "start_time": "2024-10-08T14:46:03.634Z"
   },
   {
    "duration": 27,
    "start_time": "2024-10-08T14:46:03.655Z"
   },
   {
    "duration": 17,
    "start_time": "2024-10-08T14:46:03.684Z"
   },
   {
    "duration": 68,
    "start_time": "2024-10-08T14:46:03.703Z"
   },
   {
    "duration": 59,
    "start_time": "2024-10-08T14:46:03.772Z"
   },
   {
    "duration": 17,
    "start_time": "2024-10-08T14:46:03.833Z"
   },
   {
    "duration": 7,
    "start_time": "2024-10-08T14:46:03.853Z"
   },
   {
    "duration": 6,
    "start_time": "2024-10-08T14:46:03.862Z"
   },
   {
    "duration": 3,
    "start_time": "2024-10-08T14:46:03.869Z"
   },
   {
    "duration": 24,
    "start_time": "2024-10-08T14:46:03.874Z"
   },
   {
    "duration": 7,
    "start_time": "2024-10-08T14:46:03.932Z"
   },
   {
    "duration": 7,
    "start_time": "2024-10-08T14:46:03.941Z"
   },
   {
    "duration": 8,
    "start_time": "2024-10-08T14:46:03.950Z"
   },
   {
    "duration": 10,
    "start_time": "2024-10-08T14:46:03.960Z"
   },
   {
    "duration": 9,
    "start_time": "2024-10-08T14:46:03.971Z"
   },
   {
    "duration": 729,
    "start_time": "2024-10-08T14:46:03.981Z"
   },
   {
    "duration": 0,
    "start_time": "2024-10-08T14:46:04.712Z"
   },
   {
    "duration": 10,
    "start_time": "2024-10-08T15:20:16.595Z"
   },
   {
    "duration": 63,
    "start_time": "2024-10-08T15:20:23.131Z"
   },
   {
    "duration": 18,
    "start_time": "2024-10-08T15:21:07.920Z"
   },
   {
    "duration": 19,
    "start_time": "2024-10-08T15:21:16.428Z"
   },
   {
    "duration": 516,
    "start_time": "2024-10-08T19:08:30.636Z"
   },
   {
    "duration": 165,
    "start_time": "2024-10-08T19:08:31.154Z"
   },
   {
    "duration": 15,
    "start_time": "2024-10-08T19:08:31.321Z"
   },
   {
    "duration": 23,
    "start_time": "2024-10-08T19:08:31.338Z"
   },
   {
    "duration": 4,
    "start_time": "2024-10-08T19:08:31.363Z"
   },
   {
    "duration": 5,
    "start_time": "2024-10-08T19:08:31.413Z"
   },
   {
    "duration": 5,
    "start_time": "2024-10-08T19:08:31.420Z"
   },
   {
    "duration": 23,
    "start_time": "2024-10-08T19:08:31.427Z"
   },
   {
    "duration": 28,
    "start_time": "2024-10-08T19:08:31.452Z"
   },
   {
    "duration": 47,
    "start_time": "2024-10-08T19:08:31.481Z"
   },
   {
    "duration": 40,
    "start_time": "2024-10-08T19:08:31.530Z"
   },
   {
    "duration": 62,
    "start_time": "2024-10-08T19:08:31.572Z"
   },
   {
    "duration": 16,
    "start_time": "2024-10-08T19:08:31.636Z"
   },
   {
    "duration": 8,
    "start_time": "2024-10-08T19:08:31.655Z"
   },
   {
    "duration": 7,
    "start_time": "2024-10-08T19:08:31.664Z"
   },
   {
    "duration": 2,
    "start_time": "2024-10-08T19:08:31.673Z"
   },
   {
    "duration": 55,
    "start_time": "2024-10-08T19:08:31.677Z"
   },
   {
    "duration": 7,
    "start_time": "2024-10-08T19:08:31.733Z"
   },
   {
    "duration": 7,
    "start_time": "2024-10-08T19:08:31.741Z"
   },
   {
    "duration": 8,
    "start_time": "2024-10-08T19:08:31.749Z"
   },
   {
    "duration": 10,
    "start_time": "2024-10-08T19:08:31.759Z"
   },
   {
    "duration": 8,
    "start_time": "2024-10-08T19:08:31.771Z"
   },
   {
    "duration": 14,
    "start_time": "2024-10-08T19:08:31.812Z"
   },
   {
    "duration": 16,
    "start_time": "2024-10-08T19:08:31.827Z"
   },
   {
    "duration": 929,
    "start_time": "2024-10-08T19:09:11.577Z"
   },
   {
    "duration": 284,
    "start_time": "2024-10-08T19:09:17.603Z"
   },
   {
    "duration": 116,
    "start_time": "2024-10-08T19:09:17.890Z"
   },
   {
    "duration": 17,
    "start_time": "2024-10-08T19:09:18.008Z"
   },
   {
    "duration": 27,
    "start_time": "2024-10-08T19:09:18.027Z"
   },
   {
    "duration": 3,
    "start_time": "2024-10-08T19:09:18.057Z"
   },
   {
    "duration": 4,
    "start_time": "2024-10-08T19:09:18.062Z"
   },
   {
    "duration": 3,
    "start_time": "2024-10-08T19:09:18.068Z"
   },
   {
    "duration": 50,
    "start_time": "2024-10-08T19:09:18.073Z"
   },
   {
    "duration": 25,
    "start_time": "2024-10-08T19:09:18.125Z"
   },
   {
    "duration": 18,
    "start_time": "2024-10-08T19:09:18.151Z"
   },
   {
    "duration": 61,
    "start_time": "2024-10-08T19:09:18.170Z"
   },
   {
    "duration": 45,
    "start_time": "2024-10-08T19:09:18.232Z"
   },
   {
    "duration": 31,
    "start_time": "2024-10-08T19:09:18.280Z"
   },
   {
    "duration": 8,
    "start_time": "2024-10-08T19:09:18.314Z"
   },
   {
    "duration": 7,
    "start_time": "2024-10-08T19:09:18.324Z"
   },
   {
    "duration": 3,
    "start_time": "2024-10-08T19:09:18.332Z"
   },
   {
    "duration": 24,
    "start_time": "2024-10-08T19:09:18.337Z"
   },
   {
    "duration": 5,
    "start_time": "2024-10-08T19:09:18.363Z"
   },
   {
    "duration": 8,
    "start_time": "2024-10-08T19:09:18.370Z"
   },
   {
    "duration": 41,
    "start_time": "2024-10-08T19:09:18.379Z"
   },
   {
    "duration": 11,
    "start_time": "2024-10-08T19:09:18.422Z"
   },
   {
    "duration": 7,
    "start_time": "2024-10-08T19:09:18.436Z"
   },
   {
    "duration": 12,
    "start_time": "2024-10-08T19:09:18.444Z"
   },
   {
    "duration": 15,
    "start_time": "2024-10-08T19:09:18.458Z"
   },
   {
    "duration": 13,
    "start_time": "2024-10-08T19:09:25.358Z"
   },
   {
    "duration": 545,
    "start_time": "2024-10-08T19:09:30.794Z"
   },
   {
    "duration": 296,
    "start_time": "2024-10-08T19:09:34.701Z"
   },
   {
    "duration": 121,
    "start_time": "2024-10-08T19:09:34.999Z"
   },
   {
    "duration": 14,
    "start_time": "2024-10-08T19:09:35.122Z"
   },
   {
    "duration": 24,
    "start_time": "2024-10-08T19:09:35.138Z"
   },
   {
    "duration": 4,
    "start_time": "2024-10-08T19:09:35.163Z"
   },
   {
    "duration": 5,
    "start_time": "2024-10-08T19:09:35.169Z"
   },
   {
    "duration": 4,
    "start_time": "2024-10-08T19:09:35.175Z"
   },
   {
    "duration": 50,
    "start_time": "2024-10-08T19:09:35.180Z"
   },
   {
    "duration": 27,
    "start_time": "2024-10-08T19:09:35.233Z"
   },
   {
    "duration": 23,
    "start_time": "2024-10-08T19:09:35.264Z"
   },
   {
    "duration": 63,
    "start_time": "2024-10-08T19:09:35.289Z"
   },
   {
    "duration": 44,
    "start_time": "2024-10-08T19:09:35.353Z"
   },
   {
    "duration": 17,
    "start_time": "2024-10-08T19:09:35.412Z"
   },
   {
    "duration": 14,
    "start_time": "2024-10-08T19:09:35.431Z"
   },
   {
    "duration": 7,
    "start_time": "2024-10-08T19:09:35.446Z"
   },
   {
    "duration": 3,
    "start_time": "2024-10-08T19:09:35.455Z"
   },
   {
    "duration": 23,
    "start_time": "2024-10-08T19:09:35.459Z"
   },
   {
    "duration": 31,
    "start_time": "2024-10-08T19:09:35.484Z"
   },
   {
    "duration": 7,
    "start_time": "2024-10-08T19:09:35.517Z"
   },
   {
    "duration": 9,
    "start_time": "2024-10-08T19:09:35.526Z"
   },
   {
    "duration": 10,
    "start_time": "2024-10-08T19:09:35.536Z"
   },
   {
    "duration": 7,
    "start_time": "2024-10-08T19:09:35.548Z"
   },
   {
    "duration": 9,
    "start_time": "2024-10-08T19:09:35.557Z"
   },
   {
    "duration": 6,
    "start_time": "2024-10-08T19:09:35.567Z"
   },
   {
    "duration": 41,
    "start_time": "2024-10-08T19:09:35.574Z"
   },
   {
    "duration": 294,
    "start_time": "2024-10-08T19:09:40.386Z"
   },
   {
    "duration": 141,
    "start_time": "2024-10-08T19:09:40.683Z"
   },
   {
    "duration": 14,
    "start_time": "2024-10-08T19:09:40.826Z"
   },
   {
    "duration": 29,
    "start_time": "2024-10-08T19:09:40.843Z"
   },
   {
    "duration": 3,
    "start_time": "2024-10-08T19:09:40.876Z"
   },
   {
    "duration": 6,
    "start_time": "2024-10-08T19:09:40.881Z"
   },
   {
    "duration": 24,
    "start_time": "2024-10-08T19:09:40.889Z"
   },
   {
    "duration": 19,
    "start_time": "2024-10-08T19:09:40.915Z"
   },
   {
    "duration": 26,
    "start_time": "2024-10-08T19:09:40.936Z"
   },
   {
    "duration": 19,
    "start_time": "2024-10-08T19:09:40.966Z"
   },
   {
    "duration": 43,
    "start_time": "2024-10-08T19:09:41.011Z"
   },
   {
    "duration": 78,
    "start_time": "2024-10-08T19:09:41.057Z"
   },
   {
    "duration": 24,
    "start_time": "2024-10-08T19:09:41.137Z"
   },
   {
    "duration": 10,
    "start_time": "2024-10-08T19:09:41.163Z"
   },
   {
    "duration": 8,
    "start_time": "2024-10-08T19:09:41.174Z"
   },
   {
    "duration": 4,
    "start_time": "2024-10-08T19:09:41.183Z"
   },
   {
    "duration": 35,
    "start_time": "2024-10-08T19:09:41.213Z"
   },
   {
    "duration": 9,
    "start_time": "2024-10-08T19:09:41.250Z"
   },
   {
    "duration": 7,
    "start_time": "2024-10-08T19:09:41.261Z"
   },
   {
    "duration": 9,
    "start_time": "2024-10-08T19:09:41.271Z"
   },
   {
    "duration": 38,
    "start_time": "2024-10-08T19:09:41.282Z"
   },
   {
    "duration": 9,
    "start_time": "2024-10-08T19:09:41.322Z"
   },
   {
    "duration": 10,
    "start_time": "2024-10-08T19:09:41.332Z"
   },
   {
    "duration": 8,
    "start_time": "2024-10-08T19:09:41.344Z"
   },
   {
    "duration": 9,
    "start_time": "2024-10-08T19:09:41.354Z"
   },
   {
    "duration": 327,
    "start_time": "2024-10-08T23:38:14.285Z"
   },
   {
    "duration": 158,
    "start_time": "2024-10-08T23:38:14.614Z"
   },
   {
    "duration": 15,
    "start_time": "2024-10-08T23:38:14.774Z"
   },
   {
    "duration": 41,
    "start_time": "2024-10-08T23:38:14.792Z"
   },
   {
    "duration": 4,
    "start_time": "2024-10-08T23:38:14.835Z"
   },
   {
    "duration": 5,
    "start_time": "2024-10-08T23:38:14.841Z"
   },
   {
    "duration": 4,
    "start_time": "2024-10-08T23:38:14.848Z"
   },
   {
    "duration": 22,
    "start_time": "2024-10-08T23:38:14.854Z"
   },
   {
    "duration": 63,
    "start_time": "2024-10-08T23:38:14.878Z"
   },
   {
    "duration": 19,
    "start_time": "2024-10-08T23:38:14.944Z"
   },
   {
    "duration": 44,
    "start_time": "2024-10-08T23:38:14.964Z"
   },
   {
    "duration": 74,
    "start_time": "2024-10-08T23:38:15.009Z"
   },
   {
    "duration": 19,
    "start_time": "2024-10-08T23:38:15.085Z"
   },
   {
    "duration": 29,
    "start_time": "2024-10-08T23:38:15.108Z"
   },
   {
    "duration": 8,
    "start_time": "2024-10-08T23:38:15.139Z"
   },
   {
    "duration": 3,
    "start_time": "2024-10-08T23:38:15.150Z"
   },
   {
    "duration": 26,
    "start_time": "2024-10-08T23:38:15.155Z"
   },
   {
    "duration": 6,
    "start_time": "2024-10-08T23:38:15.183Z"
   },
   {
    "duration": 44,
    "start_time": "2024-10-08T23:38:15.191Z"
   },
   {
    "duration": 9,
    "start_time": "2024-10-08T23:38:15.237Z"
   },
   {
    "duration": 12,
    "start_time": "2024-10-08T23:38:15.248Z"
   },
   {
    "duration": 9,
    "start_time": "2024-10-08T23:38:15.261Z"
   },
   {
    "duration": 10,
    "start_time": "2024-10-08T23:38:15.272Z"
   },
   {
    "duration": 9,
    "start_time": "2024-10-08T23:38:15.284Z"
   }
  ],
  "kernelspec": {
   "display_name": "Python 3 (ipykernel)",
   "language": "python",
   "name": "python3"
  },
  "language_info": {
   "codemirror_mode": {
    "name": "ipython",
    "version": 3
   },
   "file_extension": ".py",
   "mimetype": "text/x-python",
   "name": "python",
   "nbconvert_exporter": "python",
   "pygments_lexer": "ipython3",
   "version": "3.9.19"
  },
  "toc": {
   "base_numbering": 1,
   "nav_menu": {},
   "number_sections": true,
   "sideBar": true,
   "skip_h1_title": true,
   "title_cell": "Table of Contents",
   "title_sidebar": "Contents",
   "toc_cell": false,
   "toc_position": {},
   "toc_section_display": true,
   "toc_window_display": false
  }
 },
 "nbformat": 4,
 "nbformat_minor": 5
}
